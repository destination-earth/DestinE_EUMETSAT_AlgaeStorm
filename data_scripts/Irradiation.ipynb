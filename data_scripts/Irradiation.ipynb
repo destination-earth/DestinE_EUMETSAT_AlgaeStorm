{
 "cells": [
  {
   "cell_type": "markdown",
   "id": "249a38d6-7141-4a25-8e43-3f0da6c5b0b0",
   "metadata": {},
   "source": [
    "## Authorization to the DEDL services"
   ]
  },
  {
   "cell_type": "code",
   "execution_count": 1,
   "id": "6e6b0a16-ccab-4ab3-a7e8-fa3971f5fe43",
   "metadata": {
    "tags": []
   },
   "outputs": [
    {
     "name": "stdin",
     "output_type": "stream",
     "text": [
      "Please input your DESP username or email:  jesper.dejby@ri.se\n",
      "Please input your DESP password:  ········\n"
     ]
    },
    {
     "name": "stdout",
     "output_type": "stream",
     "text": [
      "DEDL/DESP Access Token Obtained Successfully\n"
     ]
    }
   ],
   "source": [
    "from dedllogin import DEDL_auth\n",
    "import requests\n",
    "import json\n",
    "import os\n",
    "from getpass import getpass\n",
    "from IPython.display import JSON\n",
    "\n",
    "username = input(\"Please input your DESP username or email: \")\n",
    "password = getpass(\"Please input your DESP password: \")\n",
    "\n",
    "auth = DEDL_auth(username, password)\n",
    "\n",
    "access_token = auth.get_token()\n",
    "if access_token is not None:\n",
    "    print(\"DEDL/DESP Access Token Obtained Successfully\")\n",
    "else:\n",
    "    print(\"Failed to Obtain DEDL/DESP Access Token\")\n",
    "\n",
    "auth_headers = {\"Authorization\": f\"Bearer {access_token}\"}"
   ]
  },
  {
   "cell_type": "markdown",
   "id": "c6076595-3471-4a4f-a037-7d4e45950f96",
   "metadata": {},
   "source": [
    "## Download data\n",
    "\n",
    "We are aiming to download the Fraction of Absorbed Photosynthetically Active Radiation dataset described here:  https://hda.data.destination-earth.eu/ui/dataset/EO.CLMS.DAT.GLO.FAPAR300_V1"
   ]
  },
  {
   "cell_type": "code",
   "execution_count": 2,
   "id": "140e2934-dc42-420e-9f9f-33fb8380e655",
   "metadata": {
    "tags": []
   },
   "outputs": [],
   "source": [
    "response_irr = requests.post(\"https://hda.data.destination-earth.eu/stac/search\", headers=auth_headers, json={\n",
    "    \"collections\": [\"EO.CLMS.DAT.GLO.FAPAR300_V1\"],\n",
    "    \"datetime\": \"2024-05-31T00:00:00Z/2024-06-01T00:00:00Z\",\n",
    "    'bbox': [10,53,30,66]\n",
    "})"
   ]
  },
  {
   "cell_type": "code",
   "execution_count": 3,
   "id": "93d6c527-627d-41f5-a030-61409f0b0ad2",
   "metadata": {
    "tags": []
   },
   "outputs": [
    {
     "data": {
      "text/plain": [
       "'https://hda.data.destination-earth.eu/stac/collections/EO.CLMS.DAT.GLO.FAPAR300_V1/items/c_gls_FAPAR300-RT0_202406100000_GLOBE_OLCI_V1.1.2/download?provider=wekeo'"
      ]
     },
     "execution_count": 3,
     "metadata": {},
     "output_type": "execute_result"
    }
   ],
   "source": [
    "response_irr.json()[\"features\"][0][\"assets\"][\"downloadLink\"][\"href\"]"
   ]
  },
  {
   "cell_type": "code",
   "execution_count": 4,
   "id": "67fdec61-939d-48db-ba21-c3a83579c18f",
   "metadata": {
    "tags": []
   },
   "outputs": [],
   "source": [
    "from IPython.display import JSON\n",
    "\n",
    "product_irr = []\n",
    "assets = []\n",
    "for i in response_irr.json()[\"features\"]:\n",
    "    # Download NC\n",
    "    product_irr.append(i[\"assets\"][\"downloadLink\"][\"alternate\"][\"origin\"][\"href\"])\n",
    "    # Download using main link\n",
    "    #product_irr.append(i[\"assets\"][\"downloadLink\"][\"href\"])\n",
    "    assets.append(i[\"id\"])"
   ]
  },
  {
   "cell_type": "code",
   "execution_count": 5,
   "id": "caa30a37-e4b6-4470-a271-faa474394415",
   "metadata": {
    "tags": []
   },
   "outputs": [
    {
     "data": {
      "application/json": {
       "features": [
        {
         "assets": {
          "downloadLink": {
           "alternate": {
            "origin": {
             "href": "https://globalland.vito.be/download/netcdf/fraction_absorbed_par/fapar_300m_v1_10daily/2024/20240610/c_gls_FAPAR300-RT0_202406100000_GLOBE_OLCI_V1.1.2.nc",
             "title": "Origin asset link"
            }
           },
           "href": "https://hda.data.destination-earth.eu/stac/collections/EO.CLMS.DAT.GLO.FAPAR300_V1/items/c_gls_FAPAR300-RT0_202406100000_GLOBE_OLCI_V1.1.2/download?provider=wekeo",
           "storage:tier": "OFFLINE",
           "title": "Download link",
           "type": "application/zip"
          }
         },
         "bbox": [
          -180.0014880952,
          -59.9985119048,
          179.9985119048,
          80.0014880952
         ],
         "collection": "EO.CLMS.DAT.GLO.FAPAR300_V1",
         "geometry": {
          "coordinates": [
           [
            [
             179.998512,
             -59.998512
            ],
            [
             179.998512,
             80.001488
            ],
            [
             -180.001488,
             80.001488
            ],
            [
             -180.001488,
             -59.998512
            ],
            [
             179.998512,
             -59.998512
            ]
           ]
          ],
          "type": "Polygon"
         },
         "id": "c_gls_FAPAR300-RT0_202406100000_GLOBE_OLCI_V1.1.2",
         "links": [
          {
           "href": "https://hda.data.destination-earth.eu/stac/collections/EO.CLMS.DAT.GLO.FAPAR300_V1/items/c_gls_FAPAR300-RT0_202406100000_GLOBE_OLCI_V1.1.2",
           "rel": "self",
           "title": "c_gls_FAPAR300-RT0_202406100000_GLOBE_OLCI_V1.1.2"
          },
          {
           "href": "https://hda.data.destination-earth.eu/stac/",
           "rel": "root"
          },
          {
           "href": "https://hda.data.destination-earth.eu/stac/collections/EO.CLMS.DAT.GLO.FAPAR300_V1",
           "rel": "parent",
           "title": "EO.CLMS.DAT.GLO.FAPAR300_V1"
          },
          {
           "href": "https://hda.data.destination-earth.eu/stac/collections/EO.CLMS.DAT.GLO.FAPAR300_V1",
           "rel": "collection",
           "title": "EO.CLMS.DAT.GLO.FAPAR300_V1"
          }
         ],
         "properties": {
          "datetime": "2023-11-13T00:00:00Z",
          "description": "The FAPAR quantifies the fraction of the solar radiation absorbed by plants for photosynthesis. It refers only to the green and living elements of the canopy. The FAPAR depends on the canopy structure, vegetation element optical properties, atmospheric conditions and angular configuration. To overcome this latter dependency, a daily integrated FAPAR value is assessed. FAPAR is very useful as input to a number of primary productivity models and is recognized as an Essential Climate Variable (ECV) by the Global Climate Observing System (GCOS). The product at 333m resolution is provided in Near Real Time and consolidated in the next six periods.",
          "end_datetime": "2024-06-10T23:59:59Z",
          "instruments": [
           null
          ],
          "license": "proprietary",
          "order:status": "orderable",
          "providers": [
           {
            "description": "WEkEO - Copernicus and Sentinel data",
            "name": "wekeo",
            "priority": 0,
            "roles": [
             "host"
            ],
            "url": "https://www.wekeo.eu/"
           }
          ],
          "sar:product_type": "CLMS_GLO_FAPAR_333M",
          "start_datetime": "2023-11-13T00:00:00Z",
          "wekeo:alias": "EO.CLMS.DAT.GLO.FAPAR300_V1",
          "wekeo:scope": {
           "discover": null,
           "download": "hda-public-data-access",
           "search": "hda-public-data-access"
          }
         },
         "stac_extensions": [
          "https://stac-extensions.github.io/sar/v1.0.0/schema.json",
          "https://stac-extensions.github.io/order/v1.1.0/schema.json"
         ],
         "stac_version": "1.0.0",
         "type": "Feature"
        },
        {
         "assets": {
          "downloadLink": {
           "alternate": {
            "origin": {
             "href": "https://globalland.vito.be/download/netcdf/fraction_absorbed_par/fapar_300m_v1_10daily/2024/20240620/c_gls_FAPAR300-RT0_202406200000_GLOBE_OLCI_V1.1.2.nc",
             "title": "Origin asset link"
            }
           },
           "href": "https://hda.data.destination-earth.eu/stac/collections/EO.CLMS.DAT.GLO.FAPAR300_V1/items/c_gls_FAPAR300-RT0_202406200000_GLOBE_OLCI_V1.1.2/download?provider=wekeo",
           "storage:tier": "OFFLINE",
           "title": "Download link",
           "type": "application/zip"
          }
         },
         "bbox": [
          -180.0014880952,
          -59.9985119048,
          179.9985119048,
          80.0014880952
         ],
         "collection": "EO.CLMS.DAT.GLO.FAPAR300_V1",
         "geometry": {
          "coordinates": [
           [
            [
             179.998512,
             -59.998512
            ],
            [
             179.998512,
             80.001488
            ],
            [
             -180.001488,
             80.001488
            ],
            [
             -180.001488,
             -59.998512
            ],
            [
             179.998512,
             -59.998512
            ]
           ]
          ],
          "type": "Polygon"
         },
         "id": "c_gls_FAPAR300-RT0_202406200000_GLOBE_OLCI_V1.1.2",
         "links": [
          {
           "href": "https://hda.data.destination-earth.eu/stac/collections/EO.CLMS.DAT.GLO.FAPAR300_V1/items/c_gls_FAPAR300-RT0_202406200000_GLOBE_OLCI_V1.1.2",
           "rel": "self",
           "title": "c_gls_FAPAR300-RT0_202406200000_GLOBE_OLCI_V1.1.2"
          },
          {
           "href": "https://hda.data.destination-earth.eu/stac/",
           "rel": "root"
          },
          {
           "href": "https://hda.data.destination-earth.eu/stac/collections/EO.CLMS.DAT.GLO.FAPAR300_V1",
           "rel": "parent",
           "title": "EO.CLMS.DAT.GLO.FAPAR300_V1"
          },
          {
           "href": "https://hda.data.destination-earth.eu/stac/collections/EO.CLMS.DAT.GLO.FAPAR300_V1",
           "rel": "collection",
           "title": "EO.CLMS.DAT.GLO.FAPAR300_V1"
          }
         ],
         "properties": {
          "datetime": "2023-11-23T00:00:00Z",
          "description": "The FAPAR quantifies the fraction of the solar radiation absorbed by plants for photosynthesis. It refers only to the green and living elements of the canopy. The FAPAR depends on the canopy structure, vegetation element optical properties, atmospheric conditions and angular configuration. To overcome this latter dependency, a daily integrated FAPAR value is assessed. FAPAR is very useful as input to a number of primary productivity models and is recognized as an Essential Climate Variable (ECV) by the Global Climate Observing System (GCOS). The product at 333m resolution is provided in Near Real Time and consolidated in the next six periods.",
          "end_datetime": "2024-06-20T23:59:59Z",
          "instruments": [
           null
          ],
          "license": "proprietary",
          "order:status": "orderable",
          "providers": [
           {
            "description": "WEkEO - Copernicus and Sentinel data",
            "name": "wekeo",
            "priority": 0,
            "roles": [
             "host"
            ],
            "url": "https://www.wekeo.eu/"
           }
          ],
          "sar:product_type": "CLMS_GLO_FAPAR_333M",
          "start_datetime": "2023-11-23T00:00:00Z",
          "wekeo:alias": "EO.CLMS.DAT.GLO.FAPAR300_V1",
          "wekeo:scope": {
           "discover": null,
           "download": "hda-public-data-access",
           "search": "hda-public-data-access"
          }
         },
         "stac_extensions": [
          "https://stac-extensions.github.io/sar/v1.0.0/schema.json",
          "https://stac-extensions.github.io/order/v1.1.0/schema.json"
         ],
         "stac_version": "1.0.0",
         "type": "Feature"
        },
        {
         "assets": {
          "downloadLink": {
           "alternate": {
            "origin": {
             "href": "https://globalland.vito.be/download/netcdf/fraction_absorbed_par/fapar_300m_v1_10daily/2024/20240630/c_gls_FAPAR300-RT0_202406300000_GLOBE_OLCI_V1.1.2.nc",
             "title": "Origin asset link"
            }
           },
           "href": "https://hda.data.destination-earth.eu/stac/collections/EO.CLMS.DAT.GLO.FAPAR300_V1/items/c_gls_FAPAR300-RT0_202406300000_GLOBE_OLCI_V1.1.2/download?provider=wekeo",
           "storage:tier": "OFFLINE",
           "title": "Download link",
           "type": "application/zip"
          }
         },
         "bbox": [
          -180.0014880952,
          -59.9985119048,
          179.9985119048,
          80.0014880952
         ],
         "collection": "EO.CLMS.DAT.GLO.FAPAR300_V1",
         "geometry": {
          "coordinates": [
           [
            [
             179.998512,
             -59.998512
            ],
            [
             179.998512,
             80.001488
            ],
            [
             -180.001488,
             80.001488
            ],
            [
             -180.001488,
             -59.998512
            ],
            [
             179.998512,
             -59.998512
            ]
           ]
          ],
          "type": "Polygon"
         },
         "id": "c_gls_FAPAR300-RT0_202406300000_GLOBE_OLCI_V1.1.2",
         "links": [
          {
           "href": "https://hda.data.destination-earth.eu/stac/collections/EO.CLMS.DAT.GLO.FAPAR300_V1/items/c_gls_FAPAR300-RT0_202406300000_GLOBE_OLCI_V1.1.2",
           "rel": "self",
           "title": "c_gls_FAPAR300-RT0_202406300000_GLOBE_OLCI_V1.1.2"
          },
          {
           "href": "https://hda.data.destination-earth.eu/stac/",
           "rel": "root"
          },
          {
           "href": "https://hda.data.destination-earth.eu/stac/collections/EO.CLMS.DAT.GLO.FAPAR300_V1",
           "rel": "parent",
           "title": "EO.CLMS.DAT.GLO.FAPAR300_V1"
          },
          {
           "href": "https://hda.data.destination-earth.eu/stac/collections/EO.CLMS.DAT.GLO.FAPAR300_V1",
           "rel": "collection",
           "title": "EO.CLMS.DAT.GLO.FAPAR300_V1"
          }
         ],
         "properties": {
          "datetime": "2023-12-03T00:00:00Z",
          "description": "The FAPAR quantifies the fraction of the solar radiation absorbed by plants for photosynthesis. It refers only to the green and living elements of the canopy. The FAPAR depends on the canopy structure, vegetation element optical properties, atmospheric conditions and angular configuration. To overcome this latter dependency, a daily integrated FAPAR value is assessed. FAPAR is very useful as input to a number of primary productivity models and is recognized as an Essential Climate Variable (ECV) by the Global Climate Observing System (GCOS). The product at 333m resolution is provided in Near Real Time and consolidated in the next six periods.",
          "end_datetime": "2024-06-30T23:59:59Z",
          "instruments": [
           null
          ],
          "license": "proprietary",
          "order:status": "orderable",
          "providers": [
           {
            "description": "WEkEO - Copernicus and Sentinel data",
            "name": "wekeo",
            "priority": 0,
            "roles": [
             "host"
            ],
            "url": "https://www.wekeo.eu/"
           }
          ],
          "sar:product_type": "CLMS_GLO_FAPAR_333M",
          "start_datetime": "2023-12-03T00:00:00Z",
          "wekeo:alias": "EO.CLMS.DAT.GLO.FAPAR300_V1",
          "wekeo:scope": {
           "discover": null,
           "download": "hda-public-data-access",
           "search": "hda-public-data-access"
          }
         },
         "stac_extensions": [
          "https://stac-extensions.github.io/sar/v1.0.0/schema.json",
          "https://stac-extensions.github.io/order/v1.1.0/schema.json"
         ],
         "stac_version": "1.0.0",
         "type": "Feature"
        },
        {
         "assets": {
          "downloadLink": {
           "alternate": {
            "origin": {
             "href": "https://globalland.vito.be/download/netcdf/fraction_absorbed_par/fapar_300m_v1_10daily/2024/20240710/c_gls_FAPAR300-RT0_202407100000_GLOBE_OLCI_V1.1.2.nc",
             "title": "Origin asset link"
            }
           },
           "href": "https://hda.data.destination-earth.eu/stac/collections/EO.CLMS.DAT.GLO.FAPAR300_V1/items/c_gls_FAPAR300-RT0_202407100000_GLOBE_OLCI_V1.1.2/download?provider=wekeo",
           "storage:tier": "OFFLINE",
           "title": "Download link",
           "type": "application/zip"
          }
         },
         "bbox": [
          -180.0014880952,
          -59.9985119048,
          179.9985119048,
          80.0014880952
         ],
         "collection": "EO.CLMS.DAT.GLO.FAPAR300_V1",
         "geometry": {
          "coordinates": [
           [
            [
             179.998512,
             -59.998512
            ],
            [
             179.998512,
             80.001488
            ],
            [
             -180.001488,
             80.001488
            ],
            [
             -180.001488,
             -59.998512
            ],
            [
             179.998512,
             -59.998512
            ]
           ]
          ],
          "type": "Polygon"
         },
         "id": "c_gls_FAPAR300-RT0_202407100000_GLOBE_OLCI_V1.1.2",
         "links": [
          {
           "href": "https://hda.data.destination-earth.eu/stac/collections/EO.CLMS.DAT.GLO.FAPAR300_V1/items/c_gls_FAPAR300-RT0_202407100000_GLOBE_OLCI_V1.1.2",
           "rel": "self",
           "title": "c_gls_FAPAR300-RT0_202407100000_GLOBE_OLCI_V1.1.2"
          },
          {
           "href": "https://hda.data.destination-earth.eu/stac/",
           "rel": "root"
          },
          {
           "href": "https://hda.data.destination-earth.eu/stac/collections/EO.CLMS.DAT.GLO.FAPAR300_V1",
           "rel": "parent",
           "title": "EO.CLMS.DAT.GLO.FAPAR300_V1"
          },
          {
           "href": "https://hda.data.destination-earth.eu/stac/collections/EO.CLMS.DAT.GLO.FAPAR300_V1",
           "rel": "collection",
           "title": "EO.CLMS.DAT.GLO.FAPAR300_V1"
          }
         ],
         "properties": {
          "datetime": "2023-12-13T00:00:00Z",
          "description": "The FAPAR quantifies the fraction of the solar radiation absorbed by plants for photosynthesis. It refers only to the green and living elements of the canopy. The FAPAR depends on the canopy structure, vegetation element optical properties, atmospheric conditions and angular configuration. To overcome this latter dependency, a daily integrated FAPAR value is assessed. FAPAR is very useful as input to a number of primary productivity models and is recognized as an Essential Climate Variable (ECV) by the Global Climate Observing System (GCOS). The product at 333m resolution is provided in Near Real Time and consolidated in the next six periods.",
          "end_datetime": "2024-07-10T23:59:59Z",
          "instruments": [
           null
          ],
          "license": "proprietary",
          "order:status": "orderable",
          "providers": [
           {
            "description": "WEkEO - Copernicus and Sentinel data",
            "name": "wekeo",
            "priority": 0,
            "roles": [
             "host"
            ],
            "url": "https://www.wekeo.eu/"
           }
          ],
          "sar:product_type": "CLMS_GLO_FAPAR_333M",
          "start_datetime": "2023-12-13T00:00:00Z",
          "wekeo:alias": "EO.CLMS.DAT.GLO.FAPAR300_V1",
          "wekeo:scope": {
           "discover": null,
           "download": "hda-public-data-access",
           "search": "hda-public-data-access"
          }
         },
         "stac_extensions": [
          "https://stac-extensions.github.io/sar/v1.0.0/schema.json",
          "https://stac-extensions.github.io/order/v1.1.0/schema.json"
         ],
         "stac_version": "1.0.0",
         "type": "Feature"
        },
        {
         "assets": {
          "downloadLink": {
           "alternate": {
            "origin": {
             "href": "https://globalland.vito.be/download/netcdf/fraction_absorbed_par/fapar_300m_v1_10daily/2024/20240720/c_gls_FAPAR300-RT0_202407200000_GLOBE_OLCI_V1.1.2.nc",
             "title": "Origin asset link"
            }
           },
           "href": "https://hda.data.destination-earth.eu/stac/collections/EO.CLMS.DAT.GLO.FAPAR300_V1/items/c_gls_FAPAR300-RT0_202407200000_GLOBE_OLCI_V1.1.2/download?provider=wekeo",
           "storage:tier": "OFFLINE",
           "title": "Download link",
           "type": "application/zip"
          }
         },
         "bbox": [
          -180.0014880952,
          -59.9985119048,
          179.9985119048,
          80.0014880952
         ],
         "collection": "EO.CLMS.DAT.GLO.FAPAR300_V1",
         "geometry": {
          "coordinates": [
           [
            [
             179.998512,
             -59.998512
            ],
            [
             179.998512,
             80.001488
            ],
            [
             -180.001488,
             80.001488
            ],
            [
             -180.001488,
             -59.998512
            ],
            [
             179.998512,
             -59.998512
            ]
           ]
          ],
          "type": "Polygon"
         },
         "id": "c_gls_FAPAR300-RT0_202407200000_GLOBE_OLCI_V1.1.2",
         "links": [
          {
           "href": "https://hda.data.destination-earth.eu/stac/collections/EO.CLMS.DAT.GLO.FAPAR300_V1/items/c_gls_FAPAR300-RT0_202407200000_GLOBE_OLCI_V1.1.2",
           "rel": "self",
           "title": "c_gls_FAPAR300-RT0_202407200000_GLOBE_OLCI_V1.1.2"
          },
          {
           "href": "https://hda.data.destination-earth.eu/stac/",
           "rel": "root"
          },
          {
           "href": "https://hda.data.destination-earth.eu/stac/collections/EO.CLMS.DAT.GLO.FAPAR300_V1",
           "rel": "parent",
           "title": "EO.CLMS.DAT.GLO.FAPAR300_V1"
          },
          {
           "href": "https://hda.data.destination-earth.eu/stac/collections/EO.CLMS.DAT.GLO.FAPAR300_V1",
           "rel": "collection",
           "title": "EO.CLMS.DAT.GLO.FAPAR300_V1"
          }
         ],
         "properties": {
          "datetime": "2023-12-23T00:00:00Z",
          "description": "The FAPAR quantifies the fraction of the solar radiation absorbed by plants for photosynthesis. It refers only to the green and living elements of the canopy. The FAPAR depends on the canopy structure, vegetation element optical properties, atmospheric conditions and angular configuration. To overcome this latter dependency, a daily integrated FAPAR value is assessed. FAPAR is very useful as input to a number of primary productivity models and is recognized as an Essential Climate Variable (ECV) by the Global Climate Observing System (GCOS). The product at 333m resolution is provided in Near Real Time and consolidated in the next six periods.",
          "end_datetime": "2024-07-20T23:59:59Z",
          "instruments": [
           null
          ],
          "license": "proprietary",
          "order:status": "orderable",
          "providers": [
           {
            "description": "WEkEO - Copernicus and Sentinel data",
            "name": "wekeo",
            "priority": 0,
            "roles": [
             "host"
            ],
            "url": "https://www.wekeo.eu/"
           }
          ],
          "sar:product_type": "CLMS_GLO_FAPAR_333M",
          "start_datetime": "2023-12-23T00:00:00Z",
          "wekeo:alias": "EO.CLMS.DAT.GLO.FAPAR300_V1",
          "wekeo:scope": {
           "discover": null,
           "download": "hda-public-data-access",
           "search": "hda-public-data-access"
          }
         },
         "stac_extensions": [
          "https://stac-extensions.github.io/sar/v1.0.0/schema.json",
          "https://stac-extensions.github.io/order/v1.1.0/schema.json"
         ],
         "stac_version": "1.0.0",
         "type": "Feature"
        },
        {
         "assets": {
          "downloadLink": {
           "alternate": {
            "origin": {
             "href": "https://globalland.vito.be/download/netcdf/fraction_absorbed_par/fapar_300m_v1_10daily/2024/20240731/c_gls_FAPAR300-RT0_202407310000_GLOBE_OLCI_V1.1.2.nc",
             "title": "Origin asset link"
            }
           },
           "href": "https://hda.data.destination-earth.eu/stac/collections/EO.CLMS.DAT.GLO.FAPAR300_V1/items/c_gls_FAPAR300-RT0_202407310000_GLOBE_OLCI_V1.1.2/download?provider=wekeo",
           "storage:tier": "OFFLINE",
           "title": "Download link",
           "type": "application/zip"
          }
         },
         "bbox": [
          -180.0014880952,
          -59.9985119048,
          179.9985119048,
          80.0014880952
         ],
         "collection": "EO.CLMS.DAT.GLO.FAPAR300_V1",
         "geometry": {
          "coordinates": [
           [
            [
             179.998512,
             -59.998512
            ],
            [
             179.998512,
             80.001488
            ],
            [
             -180.001488,
             80.001488
            ],
            [
             -180.001488,
             -59.998512
            ],
            [
             179.998512,
             -59.998512
            ]
           ]
          ],
          "type": "Polygon"
         },
         "id": "c_gls_FAPAR300-RT0_202407310000_GLOBE_OLCI_V1.1.2",
         "links": [
          {
           "href": "https://hda.data.destination-earth.eu/stac/collections/EO.CLMS.DAT.GLO.FAPAR300_V1/items/c_gls_FAPAR300-RT0_202407310000_GLOBE_OLCI_V1.1.2",
           "rel": "self",
           "title": "c_gls_FAPAR300-RT0_202407310000_GLOBE_OLCI_V1.1.2"
          },
          {
           "href": "https://hda.data.destination-earth.eu/stac/",
           "rel": "root"
          },
          {
           "href": "https://hda.data.destination-earth.eu/stac/collections/EO.CLMS.DAT.GLO.FAPAR300_V1",
           "rel": "parent",
           "title": "EO.CLMS.DAT.GLO.FAPAR300_V1"
          },
          {
           "href": "https://hda.data.destination-earth.eu/stac/collections/EO.CLMS.DAT.GLO.FAPAR300_V1",
           "rel": "collection",
           "title": "EO.CLMS.DAT.GLO.FAPAR300_V1"
          }
         ],
         "properties": {
          "datetime": "2024-01-03T00:00:00Z",
          "description": "The FAPAR quantifies the fraction of the solar radiation absorbed by plants for photosynthesis. It refers only to the green and living elements of the canopy. The FAPAR depends on the canopy structure, vegetation element optical properties, atmospheric conditions and angular configuration. To overcome this latter dependency, a daily integrated FAPAR value is assessed. FAPAR is very useful as input to a number of primary productivity models and is recognized as an Essential Climate Variable (ECV) by the Global Climate Observing System (GCOS). The product at 333m resolution is provided in Near Real Time and consolidated in the next six periods.",
          "end_datetime": "2024-07-31T23:59:59Z",
          "instruments": [
           null
          ],
          "license": "proprietary",
          "order:status": "orderable",
          "providers": [
           {
            "description": "WEkEO - Copernicus and Sentinel data",
            "name": "wekeo",
            "priority": 0,
            "roles": [
             "host"
            ],
            "url": "https://www.wekeo.eu/"
           }
          ],
          "sar:product_type": "CLMS_GLO_FAPAR_333M",
          "start_datetime": "2024-01-03T00:00:00Z",
          "wekeo:alias": "EO.CLMS.DAT.GLO.FAPAR300_V1",
          "wekeo:scope": {
           "discover": null,
           "download": "hda-public-data-access",
           "search": "hda-public-data-access"
          }
         },
         "stac_extensions": [
          "https://stac-extensions.github.io/sar/v1.0.0/schema.json",
          "https://stac-extensions.github.io/order/v1.1.0/schema.json"
         ],
         "stac_version": "1.0.0",
         "type": "Feature"
        },
        {
         "assets": {
          "downloadLink": {
           "alternate": {
            "origin": {
             "href": "https://globalland.vito.be/download/netcdf/fraction_absorbed_par/fapar_300m_v1_10daily/2024/20240810/c_gls_FAPAR300-RT0_202408100000_GLOBE_OLCI_V1.1.2.nc",
             "title": "Origin asset link"
            }
           },
           "href": "https://hda.data.destination-earth.eu/stac/collections/EO.CLMS.DAT.GLO.FAPAR300_V1/items/c_gls_FAPAR300-RT0_202408100000_GLOBE_OLCI_V1.1.2/download?provider=wekeo",
           "storage:tier": "OFFLINE",
           "title": "Download link",
           "type": "application/zip"
          }
         },
         "bbox": [
          -180.0014880952,
          -59.9985119048,
          179.9985119048,
          80.0014880952
         ],
         "collection": "EO.CLMS.DAT.GLO.FAPAR300_V1",
         "geometry": {
          "coordinates": [
           [
            [
             179.998512,
             -59.998512
            ],
            [
             179.998512,
             80.001488
            ],
            [
             -180.001488,
             80.001488
            ],
            [
             -180.001488,
             -59.998512
            ],
            [
             179.998512,
             -59.998512
            ]
           ]
          ],
          "type": "Polygon"
         },
         "id": "c_gls_FAPAR300-RT0_202408100000_GLOBE_OLCI_V1.1.2",
         "links": [
          {
           "href": "https://hda.data.destination-earth.eu/stac/collections/EO.CLMS.DAT.GLO.FAPAR300_V1/items/c_gls_FAPAR300-RT0_202408100000_GLOBE_OLCI_V1.1.2",
           "rel": "self",
           "title": "c_gls_FAPAR300-RT0_202408100000_GLOBE_OLCI_V1.1.2"
          },
          {
           "href": "https://hda.data.destination-earth.eu/stac/",
           "rel": "root"
          },
          {
           "href": "https://hda.data.destination-earth.eu/stac/collections/EO.CLMS.DAT.GLO.FAPAR300_V1",
           "rel": "parent",
           "title": "EO.CLMS.DAT.GLO.FAPAR300_V1"
          },
          {
           "href": "https://hda.data.destination-earth.eu/stac/collections/EO.CLMS.DAT.GLO.FAPAR300_V1",
           "rel": "collection",
           "title": "EO.CLMS.DAT.GLO.FAPAR300_V1"
          }
         ],
         "properties": {
          "datetime": "2024-01-13T00:00:00Z",
          "description": "The FAPAR quantifies the fraction of the solar radiation absorbed by plants for photosynthesis. It refers only to the green and living elements of the canopy. The FAPAR depends on the canopy structure, vegetation element optical properties, atmospheric conditions and angular configuration. To overcome this latter dependency, a daily integrated FAPAR value is assessed. FAPAR is very useful as input to a number of primary productivity models and is recognized as an Essential Climate Variable (ECV) by the Global Climate Observing System (GCOS). The product at 333m resolution is provided in Near Real Time and consolidated in the next six periods.",
          "end_datetime": "2024-08-10T23:59:59Z",
          "instruments": [
           null
          ],
          "license": "proprietary",
          "order:status": "orderable",
          "providers": [
           {
            "description": "WEkEO - Copernicus and Sentinel data",
            "name": "wekeo",
            "priority": 0,
            "roles": [
             "host"
            ],
            "url": "https://www.wekeo.eu/"
           }
          ],
          "sar:product_type": "CLMS_GLO_FAPAR_333M",
          "start_datetime": "2024-01-13T00:00:00Z",
          "wekeo:alias": "EO.CLMS.DAT.GLO.FAPAR300_V1",
          "wekeo:scope": {
           "discover": null,
           "download": "hda-public-data-access",
           "search": "hda-public-data-access"
          }
         },
         "stac_extensions": [
          "https://stac-extensions.github.io/sar/v1.0.0/schema.json",
          "https://stac-extensions.github.io/order/v1.1.0/schema.json"
         ],
         "stac_version": "1.0.0",
         "type": "Feature"
        },
        {
         "assets": {
          "downloadLink": {
           "alternate": {
            "origin": {
             "href": "https://globalland.vito.be/download/netcdf/fraction_absorbed_par/fapar_300m_v1_10daily/2024/20240820/c_gls_FAPAR300-RT0_202408200000_GLOBE_OLCI_V1.1.2.nc",
             "title": "Origin asset link"
            }
           },
           "href": "https://hda.data.destination-earth.eu/stac/collections/EO.CLMS.DAT.GLO.FAPAR300_V1/items/c_gls_FAPAR300-RT0_202408200000_GLOBE_OLCI_V1.1.2/download?provider=wekeo",
           "storage:tier": "OFFLINE",
           "title": "Download link",
           "type": "application/zip"
          }
         },
         "bbox": [
          -180.0014880952,
          -59.9985119048,
          179.9985119048,
          80.0014880952
         ],
         "collection": "EO.CLMS.DAT.GLO.FAPAR300_V1",
         "geometry": {
          "coordinates": [
           [
            [
             179.998512,
             -59.998512
            ],
            [
             179.998512,
             80.001488
            ],
            [
             -180.001488,
             80.001488
            ],
            [
             -180.001488,
             -59.998512
            ],
            [
             179.998512,
             -59.998512
            ]
           ]
          ],
          "type": "Polygon"
         },
         "id": "c_gls_FAPAR300-RT0_202408200000_GLOBE_OLCI_V1.1.2",
         "links": [
          {
           "href": "https://hda.data.destination-earth.eu/stac/collections/EO.CLMS.DAT.GLO.FAPAR300_V1/items/c_gls_FAPAR300-RT0_202408200000_GLOBE_OLCI_V1.1.2",
           "rel": "self",
           "title": "c_gls_FAPAR300-RT0_202408200000_GLOBE_OLCI_V1.1.2"
          },
          {
           "href": "https://hda.data.destination-earth.eu/stac/",
           "rel": "root"
          },
          {
           "href": "https://hda.data.destination-earth.eu/stac/collections/EO.CLMS.DAT.GLO.FAPAR300_V1",
           "rel": "parent",
           "title": "EO.CLMS.DAT.GLO.FAPAR300_V1"
          },
          {
           "href": "https://hda.data.destination-earth.eu/stac/collections/EO.CLMS.DAT.GLO.FAPAR300_V1",
           "rel": "collection",
           "title": "EO.CLMS.DAT.GLO.FAPAR300_V1"
          }
         ],
         "properties": {
          "datetime": "2024-01-23T00:00:00Z",
          "description": "The FAPAR quantifies the fraction of the solar radiation absorbed by plants for photosynthesis. It refers only to the green and living elements of the canopy. The FAPAR depends on the canopy structure, vegetation element optical properties, atmospheric conditions and angular configuration. To overcome this latter dependency, a daily integrated FAPAR value is assessed. FAPAR is very useful as input to a number of primary productivity models and is recognized as an Essential Climate Variable (ECV) by the Global Climate Observing System (GCOS). The product at 333m resolution is provided in Near Real Time and consolidated in the next six periods.",
          "end_datetime": "2024-08-20T23:59:59Z",
          "instruments": [
           null
          ],
          "license": "proprietary",
          "order:status": "orderable",
          "providers": [
           {
            "description": "WEkEO - Copernicus and Sentinel data",
            "name": "wekeo",
            "priority": 0,
            "roles": [
             "host"
            ],
            "url": "https://www.wekeo.eu/"
           }
          ],
          "sar:product_type": "CLMS_GLO_FAPAR_333M",
          "start_datetime": "2024-01-23T00:00:00Z",
          "wekeo:alias": "EO.CLMS.DAT.GLO.FAPAR300_V1",
          "wekeo:scope": {
           "discover": null,
           "download": "hda-public-data-access",
           "search": "hda-public-data-access"
          }
         },
         "stac_extensions": [
          "https://stac-extensions.github.io/sar/v1.0.0/schema.json",
          "https://stac-extensions.github.io/order/v1.1.0/schema.json"
         ],
         "stac_version": "1.0.0",
         "type": "Feature"
        },
        {
         "assets": {
          "downloadLink": {
           "alternate": {
            "origin": {
             "href": "https://globalland.vito.be/download/netcdf/fraction_absorbed_par/fapar_300m_v1_10daily/2024/20240831/c_gls_FAPAR300-RT0_202408310000_GLOBE_OLCI_V1.1.2.nc",
             "title": "Origin asset link"
            }
           },
           "href": "https://hda.data.destination-earth.eu/stac/collections/EO.CLMS.DAT.GLO.FAPAR300_V1/items/c_gls_FAPAR300-RT0_202408310000_GLOBE_OLCI_V1.1.2/download?provider=wekeo",
           "storage:tier": "OFFLINE",
           "title": "Download link",
           "type": "application/zip"
          }
         },
         "bbox": [
          -180.0014880952,
          -59.9985119048,
          179.9985119048,
          80.0014880952
         ],
         "collection": "EO.CLMS.DAT.GLO.FAPAR300_V1",
         "geometry": {
          "coordinates": [
           [
            [
             179.998512,
             -59.998512
            ],
            [
             179.998512,
             80.001488
            ],
            [
             -180.001488,
             80.001488
            ],
            [
             -180.001488,
             -59.998512
            ],
            [
             179.998512,
             -59.998512
            ]
           ]
          ],
          "type": "Polygon"
         },
         "id": "c_gls_FAPAR300-RT0_202408310000_GLOBE_OLCI_V1.1.2",
         "links": [
          {
           "href": "https://hda.data.destination-earth.eu/stac/collections/EO.CLMS.DAT.GLO.FAPAR300_V1/items/c_gls_FAPAR300-RT0_202408310000_GLOBE_OLCI_V1.1.2",
           "rel": "self",
           "title": "c_gls_FAPAR300-RT0_202408310000_GLOBE_OLCI_V1.1.2"
          },
          {
           "href": "https://hda.data.destination-earth.eu/stac/",
           "rel": "root"
          },
          {
           "href": "https://hda.data.destination-earth.eu/stac/collections/EO.CLMS.DAT.GLO.FAPAR300_V1",
           "rel": "parent",
           "title": "EO.CLMS.DAT.GLO.FAPAR300_V1"
          },
          {
           "href": "https://hda.data.destination-earth.eu/stac/collections/EO.CLMS.DAT.GLO.FAPAR300_V1",
           "rel": "collection",
           "title": "EO.CLMS.DAT.GLO.FAPAR300_V1"
          }
         ],
         "properties": {
          "datetime": "2024-02-03T00:00:00Z",
          "description": "The FAPAR quantifies the fraction of the solar radiation absorbed by plants for photosynthesis. It refers only to the green and living elements of the canopy. The FAPAR depends on the canopy structure, vegetation element optical properties, atmospheric conditions and angular configuration. To overcome this latter dependency, a daily integrated FAPAR value is assessed. FAPAR is very useful as input to a number of primary productivity models and is recognized as an Essential Climate Variable (ECV) by the Global Climate Observing System (GCOS). The product at 333m resolution is provided in Near Real Time and consolidated in the next six periods.",
          "end_datetime": "2024-08-31T23:59:59Z",
          "instruments": [
           null
          ],
          "license": "proprietary",
          "order:status": "orderable",
          "providers": [
           {
            "description": "WEkEO - Copernicus and Sentinel data",
            "name": "wekeo",
            "priority": 0,
            "roles": [
             "host"
            ],
            "url": "https://www.wekeo.eu/"
           }
          ],
          "sar:product_type": "CLMS_GLO_FAPAR_333M",
          "start_datetime": "2024-02-03T00:00:00Z",
          "wekeo:alias": "EO.CLMS.DAT.GLO.FAPAR300_V1",
          "wekeo:scope": {
           "discover": null,
           "download": "hda-public-data-access",
           "search": "hda-public-data-access"
          }
         },
         "stac_extensions": [
          "https://stac-extensions.github.io/sar/v1.0.0/schema.json",
          "https://stac-extensions.github.io/order/v1.1.0/schema.json"
         ],
         "stac_version": "1.0.0",
         "type": "Feature"
        },
        {
         "assets": {
          "downloadLink": {
           "alternate": {
            "origin": {
             "href": "https://globalland.vito.be/download/netcdf/fraction_absorbed_par/fapar_300m_v1_10daily/2024/20240910/c_gls_FAPAR300-RT0_202409100000_GLOBE_OLCI_V1.1.2.nc",
             "title": "Origin asset link"
            }
           },
           "href": "https://hda.data.destination-earth.eu/stac/collections/EO.CLMS.DAT.GLO.FAPAR300_V1/items/c_gls_FAPAR300-RT0_202409100000_GLOBE_OLCI_V1.1.2/download?provider=wekeo",
           "storage:tier": "OFFLINE",
           "title": "Download link",
           "type": "application/zip"
          }
         },
         "bbox": [
          -180.0014880952,
          -59.9985119048,
          179.9985119048,
          80.0014880952
         ],
         "collection": "EO.CLMS.DAT.GLO.FAPAR300_V1",
         "geometry": {
          "coordinates": [
           [
            [
             179.998512,
             -59.998512
            ],
            [
             179.998512,
             80.001488
            ],
            [
             -180.001488,
             80.001488
            ],
            [
             -180.001488,
             -59.998512
            ],
            [
             179.998512,
             -59.998512
            ]
           ]
          ],
          "type": "Polygon"
         },
         "id": "c_gls_FAPAR300-RT0_202409100000_GLOBE_OLCI_V1.1.2",
         "links": [
          {
           "href": "https://hda.data.destination-earth.eu/stac/collections/EO.CLMS.DAT.GLO.FAPAR300_V1/items/c_gls_FAPAR300-RT0_202409100000_GLOBE_OLCI_V1.1.2",
           "rel": "self",
           "title": "c_gls_FAPAR300-RT0_202409100000_GLOBE_OLCI_V1.1.2"
          },
          {
           "href": "https://hda.data.destination-earth.eu/stac/",
           "rel": "root"
          },
          {
           "href": "https://hda.data.destination-earth.eu/stac/collections/EO.CLMS.DAT.GLO.FAPAR300_V1",
           "rel": "parent",
           "title": "EO.CLMS.DAT.GLO.FAPAR300_V1"
          },
          {
           "href": "https://hda.data.destination-earth.eu/stac/collections/EO.CLMS.DAT.GLO.FAPAR300_V1",
           "rel": "collection",
           "title": "EO.CLMS.DAT.GLO.FAPAR300_V1"
          }
         ],
         "properties": {
          "datetime": "2024-02-13T00:00:00Z",
          "description": "The FAPAR quantifies the fraction of the solar radiation absorbed by plants for photosynthesis. It refers only to the green and living elements of the canopy. The FAPAR depends on the canopy structure, vegetation element optical properties, atmospheric conditions and angular configuration. To overcome this latter dependency, a daily integrated FAPAR value is assessed. FAPAR is very useful as input to a number of primary productivity models and is recognized as an Essential Climate Variable (ECV) by the Global Climate Observing System (GCOS). The product at 333m resolution is provided in Near Real Time and consolidated in the next six periods.",
          "end_datetime": "2024-09-10T23:59:59Z",
          "instruments": [
           null
          ],
          "license": "proprietary",
          "order:status": "orderable",
          "providers": [
           {
            "description": "WEkEO - Copernicus and Sentinel data",
            "name": "wekeo",
            "priority": 0,
            "roles": [
             "host"
            ],
            "url": "https://www.wekeo.eu/"
           }
          ],
          "sar:product_type": "CLMS_GLO_FAPAR_333M",
          "start_datetime": "2024-02-13T00:00:00Z",
          "wekeo:alias": "EO.CLMS.DAT.GLO.FAPAR300_V1",
          "wekeo:scope": {
           "discover": null,
           "download": "hda-public-data-access",
           "search": "hda-public-data-access"
          }
         },
         "stac_extensions": [
          "https://stac-extensions.github.io/sar/v1.0.0/schema.json",
          "https://stac-extensions.github.io/order/v1.1.0/schema.json"
         ],
         "stac_version": "1.0.0",
         "type": "Feature"
        },
        {
         "assets": {
          "downloadLink": {
           "alternate": {
            "origin": {
             "href": "https://globalland.vito.be/download/netcdf/fraction_absorbed_par/fapar_300m_v1_10daily/2024/20240920/c_gls_FAPAR300-RT0_202409200000_GLOBE_OLCI_V1.1.2.nc",
             "title": "Origin asset link"
            }
           },
           "href": "https://hda.data.destination-earth.eu/stac/collections/EO.CLMS.DAT.GLO.FAPAR300_V1/items/c_gls_FAPAR300-RT0_202409200000_GLOBE_OLCI_V1.1.2/download?provider=wekeo",
           "storage:tier": "OFFLINE",
           "title": "Download link",
           "type": "application/zip"
          }
         },
         "bbox": [
          -180.0014880952,
          -59.9985119048,
          179.9985119048,
          80.0014880952
         ],
         "collection": "EO.CLMS.DAT.GLO.FAPAR300_V1",
         "geometry": {
          "coordinates": [
           [
            [
             179.998512,
             -59.998512
            ],
            [
             179.998512,
             80.001488
            ],
            [
             -180.001488,
             80.001488
            ],
            [
             -180.001488,
             -59.998512
            ],
            [
             179.998512,
             -59.998512
            ]
           ]
          ],
          "type": "Polygon"
         },
         "id": "c_gls_FAPAR300-RT0_202409200000_GLOBE_OLCI_V1.1.2",
         "links": [
          {
           "href": "https://hda.data.destination-earth.eu/stac/collections/EO.CLMS.DAT.GLO.FAPAR300_V1/items/c_gls_FAPAR300-RT0_202409200000_GLOBE_OLCI_V1.1.2",
           "rel": "self",
           "title": "c_gls_FAPAR300-RT0_202409200000_GLOBE_OLCI_V1.1.2"
          },
          {
           "href": "https://hda.data.destination-earth.eu/stac/",
           "rel": "root"
          },
          {
           "href": "https://hda.data.destination-earth.eu/stac/collections/EO.CLMS.DAT.GLO.FAPAR300_V1",
           "rel": "parent",
           "title": "EO.CLMS.DAT.GLO.FAPAR300_V1"
          },
          {
           "href": "https://hda.data.destination-earth.eu/stac/collections/EO.CLMS.DAT.GLO.FAPAR300_V1",
           "rel": "collection",
           "title": "EO.CLMS.DAT.GLO.FAPAR300_V1"
          }
         ],
         "properties": {
          "datetime": "2024-02-23T00:00:00Z",
          "description": "The FAPAR quantifies the fraction of the solar radiation absorbed by plants for photosynthesis. It refers only to the green and living elements of the canopy. The FAPAR depends on the canopy structure, vegetation element optical properties, atmospheric conditions and angular configuration. To overcome this latter dependency, a daily integrated FAPAR value is assessed. FAPAR is very useful as input to a number of primary productivity models and is recognized as an Essential Climate Variable (ECV) by the Global Climate Observing System (GCOS). The product at 333m resolution is provided in Near Real Time and consolidated in the next six periods.",
          "end_datetime": "2024-09-20T23:59:59Z",
          "instruments": [
           null
          ],
          "license": "proprietary",
          "order:status": "orderable",
          "providers": [
           {
            "description": "WEkEO - Copernicus and Sentinel data",
            "name": "wekeo",
            "priority": 0,
            "roles": [
             "host"
            ],
            "url": "https://www.wekeo.eu/"
           }
          ],
          "sar:product_type": "CLMS_GLO_FAPAR_333M",
          "start_datetime": "2024-02-23T00:00:00Z",
          "wekeo:alias": "EO.CLMS.DAT.GLO.FAPAR300_V1",
          "wekeo:scope": {
           "discover": null,
           "download": "hda-public-data-access",
           "search": "hda-public-data-access"
          }
         },
         "stac_extensions": [
          "https://stac-extensions.github.io/sar/v1.0.0/schema.json",
          "https://stac-extensions.github.io/order/v1.1.0/schema.json"
         ],
         "stac_version": "1.0.0",
         "type": "Feature"
        },
        {
         "assets": {
          "downloadLink": {
           "alternate": {
            "origin": {
             "href": "https://globalland.vito.be/download/netcdf/fraction_absorbed_par/fapar_300m_v1_10daily/2024/20240930/c_gls_FAPAR300-RT0_202409300000_GLOBE_OLCI_V1.1.2.nc",
             "title": "Origin asset link"
            }
           },
           "href": "https://hda.data.destination-earth.eu/stac/collections/EO.CLMS.DAT.GLO.FAPAR300_V1/items/c_gls_FAPAR300-RT0_202409300000_GLOBE_OLCI_V1.1.2/download?provider=wekeo",
           "storage:tier": "OFFLINE",
           "title": "Download link",
           "type": "application/zip"
          }
         },
         "bbox": [
          -180.0014880952,
          -59.9985119048,
          179.9985119048,
          80.0014880952
         ],
         "collection": "EO.CLMS.DAT.GLO.FAPAR300_V1",
         "geometry": {
          "coordinates": [
           [
            [
             179.998512,
             -59.998512
            ],
            [
             179.998512,
             80.001488
            ],
            [
             -180.001488,
             80.001488
            ],
            [
             -180.001488,
             -59.998512
            ],
            [
             179.998512,
             -59.998512
            ]
           ]
          ],
          "type": "Polygon"
         },
         "id": "c_gls_FAPAR300-RT0_202409300000_GLOBE_OLCI_V1.1.2",
         "links": [
          {
           "href": "https://hda.data.destination-earth.eu/stac/collections/EO.CLMS.DAT.GLO.FAPAR300_V1/items/c_gls_FAPAR300-RT0_202409300000_GLOBE_OLCI_V1.1.2",
           "rel": "self",
           "title": "c_gls_FAPAR300-RT0_202409300000_GLOBE_OLCI_V1.1.2"
          },
          {
           "href": "https://hda.data.destination-earth.eu/stac/",
           "rel": "root"
          },
          {
           "href": "https://hda.data.destination-earth.eu/stac/collections/EO.CLMS.DAT.GLO.FAPAR300_V1",
           "rel": "parent",
           "title": "EO.CLMS.DAT.GLO.FAPAR300_V1"
          },
          {
           "href": "https://hda.data.destination-earth.eu/stac/collections/EO.CLMS.DAT.GLO.FAPAR300_V1",
           "rel": "collection",
           "title": "EO.CLMS.DAT.GLO.FAPAR300_V1"
          }
         ],
         "properties": {
          "datetime": "2024-03-04T00:00:00Z",
          "description": "The FAPAR quantifies the fraction of the solar radiation absorbed by plants for photosynthesis. It refers only to the green and living elements of the canopy. The FAPAR depends on the canopy structure, vegetation element optical properties, atmospheric conditions and angular configuration. To overcome this latter dependency, a daily integrated FAPAR value is assessed. FAPAR is very useful as input to a number of primary productivity models and is recognized as an Essential Climate Variable (ECV) by the Global Climate Observing System (GCOS). The product at 333m resolution is provided in Near Real Time and consolidated in the next six periods.",
          "end_datetime": "2024-09-30T23:59:59Z",
          "instruments": [
           null
          ],
          "license": "proprietary",
          "order:status": "orderable",
          "providers": [
           {
            "description": "WEkEO - Copernicus and Sentinel data",
            "name": "wekeo",
            "priority": 0,
            "roles": [
             "host"
            ],
            "url": "https://www.wekeo.eu/"
           }
          ],
          "sar:product_type": "CLMS_GLO_FAPAR_333M",
          "start_datetime": "2024-03-04T00:00:00Z",
          "wekeo:alias": "EO.CLMS.DAT.GLO.FAPAR300_V1",
          "wekeo:scope": {
           "discover": null,
           "download": "hda-public-data-access",
           "search": "hda-public-data-access"
          }
         },
         "stac_extensions": [
          "https://stac-extensions.github.io/sar/v1.0.0/schema.json",
          "https://stac-extensions.github.io/order/v1.1.0/schema.json"
         ],
         "stac_version": "1.0.0",
         "type": "Feature"
        }
       ],
       "links": [
        {
         "href": "https://hda.data.destination-earth.eu/stac/collections/EO.CLMS.DAT.GLO.FAPAR300_V1/items",
         "rel": "self",
         "title": "items"
        },
        {
         "href": "https://hda.data.destination-earth.eu/stac/",
         "rel": "root"
        },
        {
         "href": "https://hda.data.destination-earth.eu/stac/collections/EO.CLMS.DAT.GLO.FAPAR300_V1",
         "rel": "parent",
         "title": "EO.CLMS.DAT.GLO.FAPAR300_V1"
        },
        {
         "body": {
          "bbox": [
           10,
           53,
           30,
           66
          ],
          "collections": [
           "EO.CLMS.DAT.GLO.FAPAR300_V1"
          ],
          "datetime": "2024-05-31T00:00:00Z/2024-06-01T00:00:00Z",
          "page": 2
         },
         "href": "https://hda.data.destination-earth.eu/stac/search",
         "method": "POST",
         "rel": "next",
         "title": "Next page",
         "type": "application/geo+json"
        }
       ],
       "numberMatched": 52,
       "numberReturned": 12,
       "stac_extensions": [],
       "stac_version": "1.0.0",
       "timeStamp": "2024-10-11T13:58:23.984616Z",
       "type": "FeatureCollection"
      },
      "text/plain": [
       "<IPython.core.display.JSON object>"
      ]
     },
     "execution_count": 5,
     "metadata": {
      "application/json": {
       "expanded": false,
       "root": "root"
      }
     },
     "output_type": "execute_result"
    }
   ],
   "source": [
    "JSON(response_irr.json())"
   ]
  },
  {
   "cell_type": "code",
   "execution_count": 6,
   "id": "61b9bdc2-256a-4abe-bd90-b0cb46cdf4a8",
   "metadata": {
    "tags": []
   },
   "outputs": [
    {
     "name": "stdout",
     "output_type": "stream",
     "text": [
      "downloading c_gls_FAPAR300-RT0_202406100000_GLOBE_OLCI_V1.1.2\n"
     ]
    },
    {
     "name": "stderr",
     "output_type": "stream",
     "text": [
      "100%|██████████| 2.19G/2.19G [00:06<00:00, 351MB/s] \n"
     ]
    }
   ],
   "source": [
    "from tqdm import tqdm\n",
    "import time\n",
    "\n",
    "# Define a list of assets to download\n",
    "download_url = product_irr[0]\n",
    "filename = assets[0]\n",
    "response = requests.get(download_url, headers=auth_headers)\n",
    "total_size = int(response.headers.get(\"content-length\", 0))\n",
    "\n",
    "print(f\"downloading {filename}\")\n",
    "\n",
    "with tqdm(total=total_size, unit=\"B\", unit_scale=True) as progress_bar:\n",
    "    with open(filename, 'wb') as f:\n",
    "        for data in response.iter_content(1024):\n",
    "            progress_bar.update(len(data))\n",
    "            f.write(data)"
   ]
  },
  {
   "cell_type": "markdown",
   "id": "66562a6a-496f-486a-801c-7f1bb3a95d89",
   "metadata": {},
   "source": [
    "## Read data\n",
    "\n",
    "We read the data and subset it too the baltic sea region."
   ]
  },
  {
   "cell_type": "code",
   "execution_count": 7,
   "id": "ab4dc62f-c17f-428d-ad69-40fbc479e5a2",
   "metadata": {
    "tags": []
   },
   "outputs": [],
   "source": [
    "import rioxarray\n",
    "import matplotlib.pyplot as plt\n",
    "import xarray as xr\n",
    "import numpy as np\n",
    "import netCDF4 as nc"
   ]
  },
  {
   "cell_type": "code",
   "execution_count": 8,
   "id": "5c111dce-e8a5-46eb-8b02-a25cfe8a444b",
   "metadata": {
    "tags": []
   },
   "outputs": [],
   "source": [
    "ds = xr.open_dataset(\"c_gls_FAPAR300-RT0_202406100000_GLOBE_OLCI_V1.1.2\")"
   ]
  },
  {
   "cell_type": "code",
   "execution_count": 9,
   "id": "1321db31-8a0a-4fe3-83d9-93e706db74a0",
   "metadata": {},
   "outputs": [],
   "source": [
    "lat_bnds, lon_bnds = [66, 53], [10, 30]\n",
    "baltic_sea_subset=ds.sel(lat=slice(*lat_bnds), lon=slice(*lon_bnds))"
   ]
  },
  {
   "cell_type": "code",
   "execution_count": 14,
   "id": "90520acb-f8b4-4085-a717-d0d3173c9a37",
   "metadata": {
    "tags": []
   },
   "outputs": [
    {
     "data": {
      "text/html": [
       "<div><svg style=\"position: absolute; width: 0; height: 0; overflow: hidden\">\n",
       "<defs>\n",
       "<symbol id=\"icon-database\" viewBox=\"0 0 32 32\">\n",
       "<path d=\"M16 0c-8.837 0-16 2.239-16 5v4c0 2.761 7.163 5 16 5s16-2.239 16-5v-4c0-2.761-7.163-5-16-5z\"></path>\n",
       "<path d=\"M16 17c-8.837 0-16-2.239-16-5v6c0 2.761 7.163 5 16 5s16-2.239 16-5v-6c0 2.761-7.163 5-16 5z\"></path>\n",
       "<path d=\"M16 26c-8.837 0-16-2.239-16-5v6c0 2.761 7.163 5 16 5s16-2.239 16-5v-6c0 2.761-7.163 5-16 5z\"></path>\n",
       "</symbol>\n",
       "<symbol id=\"icon-file-text2\" viewBox=\"0 0 32 32\">\n",
       "<path d=\"M28.681 7.159c-0.694-0.947-1.662-2.053-2.724-3.116s-2.169-2.030-3.116-2.724c-1.612-1.182-2.393-1.319-2.841-1.319h-15.5c-1.378 0-2.5 1.121-2.5 2.5v27c0 1.378 1.122 2.5 2.5 2.5h23c1.378 0 2.5-1.122 2.5-2.5v-19.5c0-0.448-0.137-1.23-1.319-2.841zM24.543 5.457c0.959 0.959 1.712 1.825 2.268 2.543h-4.811v-4.811c0.718 0.556 1.584 1.309 2.543 2.268zM28 29.5c0 0.271-0.229 0.5-0.5 0.5h-23c-0.271 0-0.5-0.229-0.5-0.5v-27c0-0.271 0.229-0.5 0.5-0.5 0 0 15.499-0 15.5 0v7c0 0.552 0.448 1 1 1h7v19.5z\"></path>\n",
       "<path d=\"M23 26h-14c-0.552 0-1-0.448-1-1s0.448-1 1-1h14c0.552 0 1 0.448 1 1s-0.448 1-1 1z\"></path>\n",
       "<path d=\"M23 22h-14c-0.552 0-1-0.448-1-1s0.448-1 1-1h14c0.552 0 1 0.448 1 1s-0.448 1-1 1z\"></path>\n",
       "<path d=\"M23 18h-14c-0.552 0-1-0.448-1-1s0.448-1 1-1h14c0.552 0 1 0.448 1 1s-0.448 1-1 1z\"></path>\n",
       "</symbol>\n",
       "</defs>\n",
       "</svg>\n",
       "<style>/* CSS stylesheet for displaying xarray objects in jupyterlab.\n",
       " *\n",
       " */\n",
       "\n",
       ":root {\n",
       "  --xr-font-color0: var(--jp-content-font-color0, rgba(0, 0, 0, 1));\n",
       "  --xr-font-color2: var(--jp-content-font-color2, rgba(0, 0, 0, 0.54));\n",
       "  --xr-font-color3: var(--jp-content-font-color3, rgba(0, 0, 0, 0.38));\n",
       "  --xr-border-color: var(--jp-border-color2, #e0e0e0);\n",
       "  --xr-disabled-color: var(--jp-layout-color3, #bdbdbd);\n",
       "  --xr-background-color: var(--jp-layout-color0, white);\n",
       "  --xr-background-color-row-even: var(--jp-layout-color1, white);\n",
       "  --xr-background-color-row-odd: var(--jp-layout-color2, #eeeeee);\n",
       "}\n",
       "\n",
       "html[theme=dark],\n",
       "body[data-theme=dark],\n",
       "body.vscode-dark {\n",
       "  --xr-font-color0: rgba(255, 255, 255, 1);\n",
       "  --xr-font-color2: rgba(255, 255, 255, 0.54);\n",
       "  --xr-font-color3: rgba(255, 255, 255, 0.38);\n",
       "  --xr-border-color: #1F1F1F;\n",
       "  --xr-disabled-color: #515151;\n",
       "  --xr-background-color: #111111;\n",
       "  --xr-background-color-row-even: #111111;\n",
       "  --xr-background-color-row-odd: #313131;\n",
       "}\n",
       "\n",
       ".xr-wrap {\n",
       "  display: block !important;\n",
       "  min-width: 300px;\n",
       "  max-width: 700px;\n",
       "}\n",
       "\n",
       ".xr-text-repr-fallback {\n",
       "  /* fallback to plain text repr when CSS is not injected (untrusted notebook) */\n",
       "  display: none;\n",
       "}\n",
       "\n",
       ".xr-header {\n",
       "  padding-top: 6px;\n",
       "  padding-bottom: 6px;\n",
       "  margin-bottom: 4px;\n",
       "  border-bottom: solid 1px var(--xr-border-color);\n",
       "}\n",
       "\n",
       ".xr-header > div,\n",
       ".xr-header > ul {\n",
       "  display: inline;\n",
       "  margin-top: 0;\n",
       "  margin-bottom: 0;\n",
       "}\n",
       "\n",
       ".xr-obj-type,\n",
       ".xr-array-name {\n",
       "  margin-left: 2px;\n",
       "  margin-right: 10px;\n",
       "}\n",
       "\n",
       ".xr-obj-type {\n",
       "  color: var(--xr-font-color2);\n",
       "}\n",
       "\n",
       ".xr-sections {\n",
       "  padding-left: 0 !important;\n",
       "  display: grid;\n",
       "  grid-template-columns: 150px auto auto 1fr 20px 20px;\n",
       "}\n",
       "\n",
       ".xr-section-item {\n",
       "  display: contents;\n",
       "}\n",
       "\n",
       ".xr-section-item input {\n",
       "  display: none;\n",
       "}\n",
       "\n",
       ".xr-section-item input + label {\n",
       "  color: var(--xr-disabled-color);\n",
       "}\n",
       "\n",
       ".xr-section-item input:enabled + label {\n",
       "  cursor: pointer;\n",
       "  color: var(--xr-font-color2);\n",
       "}\n",
       "\n",
       ".xr-section-item input:enabled + label:hover {\n",
       "  color: var(--xr-font-color0);\n",
       "}\n",
       "\n",
       ".xr-section-summary {\n",
       "  grid-column: 1;\n",
       "  color: var(--xr-font-color2);\n",
       "  font-weight: 500;\n",
       "}\n",
       "\n",
       ".xr-section-summary > span {\n",
       "  display: inline-block;\n",
       "  padding-left: 0.5em;\n",
       "}\n",
       "\n",
       ".xr-section-summary-in:disabled + label {\n",
       "  color: var(--xr-font-color2);\n",
       "}\n",
       "\n",
       ".xr-section-summary-in + label:before {\n",
       "  display: inline-block;\n",
       "  content: '►';\n",
       "  font-size: 11px;\n",
       "  width: 15px;\n",
       "  text-align: center;\n",
       "}\n",
       "\n",
       ".xr-section-summary-in:disabled + label:before {\n",
       "  color: var(--xr-disabled-color);\n",
       "}\n",
       "\n",
       ".xr-section-summary-in:checked + label:before {\n",
       "  content: '▼';\n",
       "}\n",
       "\n",
       ".xr-section-summary-in:checked + label > span {\n",
       "  display: none;\n",
       "}\n",
       "\n",
       ".xr-section-summary,\n",
       ".xr-section-inline-details {\n",
       "  padding-top: 4px;\n",
       "  padding-bottom: 4px;\n",
       "}\n",
       "\n",
       ".xr-section-inline-details {\n",
       "  grid-column: 2 / -1;\n",
       "}\n",
       "\n",
       ".xr-section-details {\n",
       "  display: none;\n",
       "  grid-column: 1 / -1;\n",
       "  margin-bottom: 5px;\n",
       "}\n",
       "\n",
       ".xr-section-summary-in:checked ~ .xr-section-details {\n",
       "  display: contents;\n",
       "}\n",
       "\n",
       ".xr-array-wrap {\n",
       "  grid-column: 1 / -1;\n",
       "  display: grid;\n",
       "  grid-template-columns: 20px auto;\n",
       "}\n",
       "\n",
       ".xr-array-wrap > label {\n",
       "  grid-column: 1;\n",
       "  vertical-align: top;\n",
       "}\n",
       "\n",
       ".xr-preview {\n",
       "  color: var(--xr-font-color3);\n",
       "}\n",
       "\n",
       ".xr-array-preview,\n",
       ".xr-array-data {\n",
       "  padding: 0 5px !important;\n",
       "  grid-column: 2;\n",
       "}\n",
       "\n",
       ".xr-array-data,\n",
       ".xr-array-in:checked ~ .xr-array-preview {\n",
       "  display: none;\n",
       "}\n",
       "\n",
       ".xr-array-in:checked ~ .xr-array-data,\n",
       ".xr-array-preview {\n",
       "  display: inline-block;\n",
       "}\n",
       "\n",
       ".xr-dim-list {\n",
       "  display: inline-block !important;\n",
       "  list-style: none;\n",
       "  padding: 0 !important;\n",
       "  margin: 0;\n",
       "}\n",
       "\n",
       ".xr-dim-list li {\n",
       "  display: inline-block;\n",
       "  padding: 0;\n",
       "  margin: 0;\n",
       "}\n",
       "\n",
       ".xr-dim-list:before {\n",
       "  content: '(';\n",
       "}\n",
       "\n",
       ".xr-dim-list:after {\n",
       "  content: ')';\n",
       "}\n",
       "\n",
       ".xr-dim-list li:not(:last-child):after {\n",
       "  content: ',';\n",
       "  padding-right: 5px;\n",
       "}\n",
       "\n",
       ".xr-has-index {\n",
       "  font-weight: bold;\n",
       "}\n",
       "\n",
       ".xr-var-list,\n",
       ".xr-var-item {\n",
       "  display: contents;\n",
       "}\n",
       "\n",
       ".xr-var-item > div,\n",
       ".xr-var-item label,\n",
       ".xr-var-item > .xr-var-name span {\n",
       "  background-color: var(--xr-background-color-row-even);\n",
       "  margin-bottom: 0;\n",
       "}\n",
       "\n",
       ".xr-var-item > .xr-var-name:hover span {\n",
       "  padding-right: 5px;\n",
       "}\n",
       "\n",
       ".xr-var-list > li:nth-child(odd) > div,\n",
       ".xr-var-list > li:nth-child(odd) > label,\n",
       ".xr-var-list > li:nth-child(odd) > .xr-var-name span {\n",
       "  background-color: var(--xr-background-color-row-odd);\n",
       "}\n",
       "\n",
       ".xr-var-name {\n",
       "  grid-column: 1;\n",
       "}\n",
       "\n",
       ".xr-var-dims {\n",
       "  grid-column: 2;\n",
       "}\n",
       "\n",
       ".xr-var-dtype {\n",
       "  grid-column: 3;\n",
       "  text-align: right;\n",
       "  color: var(--xr-font-color2);\n",
       "}\n",
       "\n",
       ".xr-var-preview {\n",
       "  grid-column: 4;\n",
       "}\n",
       "\n",
       ".xr-index-preview {\n",
       "  grid-column: 2 / 5;\n",
       "  color: var(--xr-font-color2);\n",
       "}\n",
       "\n",
       ".xr-var-name,\n",
       ".xr-var-dims,\n",
       ".xr-var-dtype,\n",
       ".xr-preview,\n",
       ".xr-attrs dt {\n",
       "  white-space: nowrap;\n",
       "  overflow: hidden;\n",
       "  text-overflow: ellipsis;\n",
       "  padding-right: 10px;\n",
       "}\n",
       "\n",
       ".xr-var-name:hover,\n",
       ".xr-var-dims:hover,\n",
       ".xr-var-dtype:hover,\n",
       ".xr-attrs dt:hover {\n",
       "  overflow: visible;\n",
       "  width: auto;\n",
       "  z-index: 1;\n",
       "}\n",
       "\n",
       ".xr-var-attrs,\n",
       ".xr-var-data,\n",
       ".xr-index-data {\n",
       "  display: none;\n",
       "  background-color: var(--xr-background-color) !important;\n",
       "  padding-bottom: 5px !important;\n",
       "}\n",
       "\n",
       ".xr-var-attrs-in:checked ~ .xr-var-attrs,\n",
       ".xr-var-data-in:checked ~ .xr-var-data,\n",
       ".xr-index-data-in:checked ~ .xr-index-data {\n",
       "  display: block;\n",
       "}\n",
       "\n",
       ".xr-var-data > table {\n",
       "  float: right;\n",
       "}\n",
       "\n",
       ".xr-var-name span,\n",
       ".xr-var-data,\n",
       ".xr-index-name div,\n",
       ".xr-index-data,\n",
       ".xr-attrs {\n",
       "  padding-left: 25px !important;\n",
       "}\n",
       "\n",
       ".xr-attrs,\n",
       ".xr-var-attrs,\n",
       ".xr-var-data,\n",
       ".xr-index-data {\n",
       "  grid-column: 1 / -1;\n",
       "}\n",
       "\n",
       "dl.xr-attrs {\n",
       "  padding: 0;\n",
       "  margin: 0;\n",
       "  display: grid;\n",
       "  grid-template-columns: 125px auto;\n",
       "}\n",
       "\n",
       ".xr-attrs dt,\n",
       ".xr-attrs dd {\n",
       "  padding: 0;\n",
       "  margin: 0;\n",
       "  float: left;\n",
       "  padding-right: 10px;\n",
       "  width: auto;\n",
       "}\n",
       "\n",
       ".xr-attrs dt {\n",
       "  font-weight: normal;\n",
       "  grid-column: 1;\n",
       "}\n",
       "\n",
       ".xr-attrs dt:hover span {\n",
       "  display: inline-block;\n",
       "  background: var(--xr-background-color);\n",
       "  padding-right: 10px;\n",
       "}\n",
       "\n",
       ".xr-attrs dd {\n",
       "  grid-column: 2;\n",
       "  white-space: pre-wrap;\n",
       "  word-break: break-all;\n",
       "}\n",
       "\n",
       ".xr-icon-database,\n",
       ".xr-icon-file-text2,\n",
       ".xr-no-icon {\n",
       "  display: inline-block;\n",
       "  vertical-align: middle;\n",
       "  width: 1em;\n",
       "  height: 1.5em !important;\n",
       "  stroke-width: 0;\n",
       "  stroke: currentColor;\n",
       "  fill: currentColor;\n",
       "}\n",
       "</style><pre class='xr-text-repr-fallback'>&lt;xarray.Variable (time: 1, lat: 4368, lon: 6720)&gt;\n",
       "array([[[  nan,   nan, ..., 0.464, 0.532],\n",
       "        [  nan,   nan, ..., 0.62 , 0.612],\n",
       "        ...,\n",
       "        [  nan,   nan, ..., 0.656, 0.468],\n",
       "        [0.808, 0.868, ..., 0.408, 0.504]]], dtype=float32)\n",
       "Attributes:\n",
       "    standard_name:  fraction_of_surface_downwelling_photosynthetic_radiative_...\n",
       "    long_name:      Fraction of Absorbed Photosynthetically Active Radiation ...\n",
       "    grid_mapping:   crs\n",
       "    units:          \n",
       "    valid_range:    [  0 235]</pre><div class='xr-wrap' style='display:none'><div class='xr-header'><div class='xr-obj-type'>xarray.Variable</div><div class='xr-array-name'></div><ul class='xr-dim-list'><li><span>time</span>: 1</li><li><span>lat</span>: 4368</li><li><span>lon</span>: 6720</li></ul></div><ul class='xr-sections'><li class='xr-section-item'><div class='xr-array-wrap'><input id='section-29844ff8-1585-41ce-bea1-5ee5a18577b8' class='xr-array-in' type='checkbox' checked><label for='section-29844ff8-1585-41ce-bea1-5ee5a18577b8' title='Show/hide data repr'><svg class='icon xr-icon-database'><use xlink:href='#icon-database'></use></svg></label><div class='xr-array-preview xr-preview'><span>nan nan nan nan nan nan nan ... 0.432 0.356 0.392 0.392 0.408 0.504</span></div><div class='xr-array-data'><pre>array([[[  nan,   nan, ..., 0.464, 0.532],\n",
       "        [  nan,   nan, ..., 0.62 , 0.612],\n",
       "        ...,\n",
       "        [  nan,   nan, ..., 0.656, 0.468],\n",
       "        [0.808, 0.868, ..., 0.408, 0.504]]], dtype=float32)</pre></div></div></li><li class='xr-section-item'><input id='section-bf9d5f8e-b77a-459d-b9bc-fce414e16d8d' class='xr-section-summary-in' type='checkbox'  checked><label for='section-bf9d5f8e-b77a-459d-b9bc-fce414e16d8d' class='xr-section-summary' >Attributes: <span>(5)</span></label><div class='xr-section-inline-details'></div><div class='xr-section-details'><dl class='xr-attrs'><dt><span>standard_name :</span></dt><dd>fraction_of_surface_downwelling_photosynthetic_radiative_flux_absorbed_by_vegetation</dd><dt><span>long_name :</span></dt><dd>Fraction of Absorbed Photosynthetically Active Radiation 333m</dd><dt><span>grid_mapping :</span></dt><dd>crs</dd><dt><span>units :</span></dt><dd></dd><dt><span>valid_range :</span></dt><dd>[  0 235]</dd></dl></div></li></ul></div></div>"
      ],
      "text/plain": [
       "<xarray.Variable (time: 1, lat: 4368, lon: 6720)>\n",
       "array([[[  nan,   nan, ..., 0.464, 0.532],\n",
       "        [  nan,   nan, ..., 0.62 , 0.612],\n",
       "        ...,\n",
       "        [  nan,   nan, ..., 0.656, 0.468],\n",
       "        [0.808, 0.868, ..., 0.408, 0.504]]], dtype=float32)\n",
       "Attributes:\n",
       "    standard_name:  fraction_of_surface_downwelling_photosynthetic_radiative_...\n",
       "    long_name:      Fraction of Absorbed Photosynthetically Active Radiation ...\n",
       "    grid_mapping:   crs\n",
       "    units:          \n",
       "    valid_range:    [  0 235]"
      ]
     },
     "execution_count": 14,
     "metadata": {},
     "output_type": "execute_result"
    }
   ],
   "source": [
    "baltic_sea_subset.variables[\"FAPAR\"]"
   ]
  },
  {
   "cell_type": "code",
   "execution_count": 15,
   "id": "cb92bcec-29a5-4248-9c93-4eccf7ebac8e",
   "metadata": {
    "tags": []
   },
   "outputs": [
    {
     "name": "stdout",
     "output_type": "stream",
     "text": [
      "<xarray.Variable ()>\n",
      "array(0.94000006, dtype=float32) <xarray.Variable ()>\n",
      "array(0., dtype=float32)\n"
     ]
    }
   ],
   "source": [
    "print(baltic_sea_subset.variables[\"FAPAR\"].max(), baltic_sea_subset.variables[\"FAPAR\"].min())"
   ]
  },
  {
   "cell_type": "markdown",
   "id": "0b0c7deb-8113-4689-b08a-e8eb2b5c863c",
   "metadata": {},
   "source": [
    "## Conclusion\n",
    "\n",
    "We have a requirement for the Irradiation to be measured in microenstein per m2. In addition range of the data should not be between 0 and 1, but rather somewhere between 1000 and 2000 depending on the season. Hence we can't use this dataset as it seems to be normalised already and we have no way of verifying the values."
   ]
  }
 ],
 "metadata": {
  "kernelspec": {
   "display_name": "Python DEDL",
   "language": "python",
   "name": "python_dedl"
  },
  "language_info": {
   "codemirror_mode": {
    "name": "ipython",
    "version": 3
   },
   "file_extension": ".py",
   "mimetype": "text/x-python",
   "name": "python",
   "nbconvert_exporter": "python",
   "pygments_lexer": "ipython3",
   "version": "3.11.4"
  },
  "toc-autonumbering": true,
  "toc-showmarkdowntxt": true
 },
 "nbformat": 4,
 "nbformat_minor": 5
}
