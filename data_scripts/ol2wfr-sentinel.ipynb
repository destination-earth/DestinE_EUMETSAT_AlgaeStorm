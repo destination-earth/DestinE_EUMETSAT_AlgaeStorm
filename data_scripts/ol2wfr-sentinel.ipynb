{
 "cells": [
  {
   "cell_type": "markdown",
   "id": "f30533a7-6239-4692-94bd-1868365b0bab",
   "metadata": {},
   "source": [
    "## Authorization to the DEDL services"
   ]
  },
  {
   "cell_type": "code",
   "execution_count": 1,
   "id": "6e6b0a16-ccab-4ab3-a7e8-fa3971f5fe43",
   "metadata": {
    "tags": []
   },
   "outputs": [
    {
     "name": "stdin",
     "output_type": "stream",
     "text": [
      "Please input your DESP username or email:  jesper.dejby@ri.se\n",
      "Please input your DESP password:  ········\n"
     ]
    },
    {
     "name": "stdout",
     "output_type": "stream",
     "text": [
      "DEDL/DESP Access Token Obtained Successfully\n"
     ]
    }
   ],
   "source": [
    "from dedllogin import DEDL_auth\n",
    "import requests\n",
    "import json\n",
    "import os\n",
    "from getpass import getpass\n",
    "from IPython.display import JSON\n",
    "\n",
    "username = input(\"Please input your DESP username or email: \")\n",
    "password = getpass(\"Please input your DESP password: \")\n",
    "\n",
    "#auth = deauth.AuthHandler(DESP_USERNAME, DESP_PASSWORD)\n",
    "auth = DEDL_auth(username, password)\n",
    "\n",
    "access_token = auth.get_token()\n",
    "if access_token is not None:\n",
    "    print(\"DEDL/DESP Access Token Obtained Successfully\")\n",
    "else:\n",
    "    print(\"Failed to Obtain DEDL/DESP Access Token\")\n",
    "\n",
    "auth_headers = {\"Authorization\": f\"Bearer {access_token}\"}"
   ]
  },
  {
   "cell_type": "markdown",
   "id": "12c60bae-8704-42f2-9a05-2daa25f6b2db",
   "metadata": {},
   "source": [
    "## Download data\n",
    "\n",
    "We are aiming to download the Sentinel-3 OLCI Level 2 WFR dataset described here: https://hda.data.destination-earth.eu/ui/dataset/EO.EUM.DAT.SENTINEL-3.OL_2_WFR___"
   ]
  },
  {
   "cell_type": "code",
   "execution_count": 2,
   "id": "140e2934-dc42-420e-9f9f-33fb8380e655",
   "metadata": {
    "tags": []
   },
   "outputs": [],
   "source": [
    "response_sst = requests.post(\"https://hda.data.destination-earth.eu/stac/search\", headers=auth_headers, json={\n",
    "    \"collections\": [\"EO.EUM.DAT.SENTINEL-3.OL_2_WFR___\"],\n",
    "    \"datetime\": \"2024-06-02T00:00:00Z/2024-06-03T00:00:00Z\",\n",
    "    'bbox': [10,53,30,66] #latitude and longitude for Baltic Sea\n",
    "})"
   ]
  },
  {
   "cell_type": "code",
   "execution_count": 3,
   "id": "5451137b-faa1-4490-9f51-f016a2c4688e",
   "metadata": {
    "tags": []
   },
   "outputs": [
    {
     "data": {
      "application/json": {
       "features": [
        {
         "assets": {
          "EOPMetadata.xml": {
           "alternate": {
            "origin": {
             "href": "s3://eodata/Sentinel-3/OLCI/OL_2_WFR___/2024/06/02/S3B_OL_2_WFR____20240602T083944_20240602T084244_20240603T162803_0180_093_335_1800_MAR_O_NT_003.SEN3/EOPMetadata.xml",
             "title": "Origin asset link",
             "type": "text/xml"
            }
           },
           "href": "https://hda.data.destination-earth.eu/stac/collections/EO.EUM.DAT.SENTINEL-3.OL_2_WFR___/items/S3B_OL_2_WFR____20240602T083944_20240602T084244_20240603T162803_0180_093_335_1800_MAR_O_NT_003/download/EOPMetadata.xml?provider=dedl",
           "roles": [
            "metadata"
           ],
           "title": "EOPMetadata.xml",
           "type": "text/xml"
          },
          "Oa01_reflectance.nc": {
           "alternate": {
            "origin": {
             "href": "s3://eodata/Sentinel-3/OLCI/OL_2_WFR___/2024/06/02/S3B_OL_2_WFR____20240602T083944_20240602T084244_20240603T162803_0180_093_335_1800_MAR_O_NT_003.SEN3/Oa01_reflectance.nc",
             "title": "Origin asset link",
             "type": "application/x-netcdf"
            }
           },
           "href": "https://hda.data.destination-earth.eu/stac/collections/EO.EUM.DAT.SENTINEL-3.OL_2_WFR___/items/S3B_OL_2_WFR____20240602T083944_20240602T084244_20240603T162803_0180_093_335_1800_MAR_O_NT_003/download/Oa01_reflectance.nc?provider=dedl",
           "roles": [
            "data"
           ],
           "title": "Oa01_reflectance.nc",
           "type": "application/x-netcdf"
          },
          "Oa02_reflectance.nc": {
           "alternate": {
            "origin": {
             "href": "s3://eodata/Sentinel-3/OLCI/OL_2_WFR___/2024/06/02/S3B_OL_2_WFR____20240602T083944_20240602T084244_20240603T162803_0180_093_335_1800_MAR_O_NT_003.SEN3/Oa02_reflectance.nc",
             "title": "Origin asset link",
             "type": "application/x-netcdf"
            }
           },
           "href": "https://hda.data.destination-earth.eu/stac/collections/EO.EUM.DAT.SENTINEL-3.OL_2_WFR___/items/S3B_OL_2_WFR____20240602T083944_20240602T084244_20240603T162803_0180_093_335_1800_MAR_O_NT_003/download/Oa02_reflectance.nc?provider=dedl",
           "roles": [
            "data"
           ],
           "title": "Oa02_reflectance.nc",
           "type": "application/x-netcdf"
          },
          "Oa03_reflectance.nc": {
           "alternate": {
            "origin": {
             "href": "s3://eodata/Sentinel-3/OLCI/OL_2_WFR___/2024/06/02/S3B_OL_2_WFR____20240602T083944_20240602T084244_20240603T162803_0180_093_335_1800_MAR_O_NT_003.SEN3/Oa03_reflectance.nc",
             "title": "Origin asset link",
             "type": "application/x-netcdf"
            }
           },
           "href": "https://hda.data.destination-earth.eu/stac/collections/EO.EUM.DAT.SENTINEL-3.OL_2_WFR___/items/S3B_OL_2_WFR____20240602T083944_20240602T084244_20240603T162803_0180_093_335_1800_MAR_O_NT_003/download/Oa03_reflectance.nc?provider=dedl",
           "roles": [
            "data"
           ],
           "title": "Oa03_reflectance.nc",
           "type": "application/x-netcdf"
          },
          "Oa04_reflectance.nc": {
           "alternate": {
            "origin": {
             "href": "s3://eodata/Sentinel-3/OLCI/OL_2_WFR___/2024/06/02/S3B_OL_2_WFR____20240602T083944_20240602T084244_20240603T162803_0180_093_335_1800_MAR_O_NT_003.SEN3/Oa04_reflectance.nc",
             "title": "Origin asset link",
             "type": "application/x-netcdf"
            }
           },
           "href": "https://hda.data.destination-earth.eu/stac/collections/EO.EUM.DAT.SENTINEL-3.OL_2_WFR___/items/S3B_OL_2_WFR____20240602T083944_20240602T084244_20240603T162803_0180_093_335_1800_MAR_O_NT_003/download/Oa04_reflectance.nc?provider=dedl",
           "roles": [
            "data"
           ],
           "title": "Oa04_reflectance.nc",
           "type": "application/x-netcdf"
          },
          "Oa05_reflectance.nc": {
           "alternate": {
            "origin": {
             "href": "s3://eodata/Sentinel-3/OLCI/OL_2_WFR___/2024/06/02/S3B_OL_2_WFR____20240602T083944_20240602T084244_20240603T162803_0180_093_335_1800_MAR_O_NT_003.SEN3/Oa05_reflectance.nc",
             "title": "Origin asset link",
             "type": "application/x-netcdf"
            }
           },
           "href": "https://hda.data.destination-earth.eu/stac/collections/EO.EUM.DAT.SENTINEL-3.OL_2_WFR___/items/S3B_OL_2_WFR____20240602T083944_20240602T084244_20240603T162803_0180_093_335_1800_MAR_O_NT_003/download/Oa05_reflectance.nc?provider=dedl",
           "roles": [
            "data"
           ],
           "title": "Oa05_reflectance.nc",
           "type": "application/x-netcdf"
          },
          "Oa06_reflectance.nc": {
           "alternate": {
            "origin": {
             "href": "s3://eodata/Sentinel-3/OLCI/OL_2_WFR___/2024/06/02/S3B_OL_2_WFR____20240602T083944_20240602T084244_20240603T162803_0180_093_335_1800_MAR_O_NT_003.SEN3/Oa06_reflectance.nc",
             "title": "Origin asset link",
             "type": "application/x-netcdf"
            }
           },
           "href": "https://hda.data.destination-earth.eu/stac/collections/EO.EUM.DAT.SENTINEL-3.OL_2_WFR___/items/S3B_OL_2_WFR____20240602T083944_20240602T084244_20240603T162803_0180_093_335_1800_MAR_O_NT_003/download/Oa06_reflectance.nc?provider=dedl",
           "roles": [
            "data"
           ],
           "title": "Oa06_reflectance.nc",
           "type": "application/x-netcdf"
          },
          "Oa07_reflectance.nc": {
           "alternate": {
            "origin": {
             "href": "s3://eodata/Sentinel-3/OLCI/OL_2_WFR___/2024/06/02/S3B_OL_2_WFR____20240602T083944_20240602T084244_20240603T162803_0180_093_335_1800_MAR_O_NT_003.SEN3/Oa07_reflectance.nc",
             "title": "Origin asset link",
             "type": "application/x-netcdf"
            }
           },
           "href": "https://hda.data.destination-earth.eu/stac/collections/EO.EUM.DAT.SENTINEL-3.OL_2_WFR___/items/S3B_OL_2_WFR____20240602T083944_20240602T084244_20240603T162803_0180_093_335_1800_MAR_O_NT_003/download/Oa07_reflectance.nc?provider=dedl",
           "roles": [
            "data"
           ],
           "title": "Oa07_reflectance.nc",
           "type": "application/x-netcdf"
          },
          "Oa08_reflectance.nc": {
           "alternate": {
            "origin": {
             "href": "s3://eodata/Sentinel-3/OLCI/OL_2_WFR___/2024/06/02/S3B_OL_2_WFR____20240602T083944_20240602T084244_20240603T162803_0180_093_335_1800_MAR_O_NT_003.SEN3/Oa08_reflectance.nc",
             "title": "Origin asset link",
             "type": "application/x-netcdf"
            }
           },
           "href": "https://hda.data.destination-earth.eu/stac/collections/EO.EUM.DAT.SENTINEL-3.OL_2_WFR___/items/S3B_OL_2_WFR____20240602T083944_20240602T084244_20240603T162803_0180_093_335_1800_MAR_O_NT_003/download/Oa08_reflectance.nc?provider=dedl",
           "roles": [
            "data"
           ],
           "title": "Oa08_reflectance.nc",
           "type": "application/x-netcdf"
          },
          "Oa09_reflectance.nc": {
           "alternate": {
            "origin": {
             "href": "s3://eodata/Sentinel-3/OLCI/OL_2_WFR___/2024/06/02/S3B_OL_2_WFR____20240602T083944_20240602T084244_20240603T162803_0180_093_335_1800_MAR_O_NT_003.SEN3/Oa09_reflectance.nc",
             "title": "Origin asset link",
             "type": "application/x-netcdf"
            }
           },
           "href": "https://hda.data.destination-earth.eu/stac/collections/EO.EUM.DAT.SENTINEL-3.OL_2_WFR___/items/S3B_OL_2_WFR____20240602T083944_20240602T084244_20240603T162803_0180_093_335_1800_MAR_O_NT_003/download/Oa09_reflectance.nc?provider=dedl",
           "roles": [
            "data"
           ],
           "title": "Oa09_reflectance.nc",
           "type": "application/x-netcdf"
          },
          "Oa10_reflectance.nc": {
           "alternate": {
            "origin": {
             "href": "s3://eodata/Sentinel-3/OLCI/OL_2_WFR___/2024/06/02/S3B_OL_2_WFR____20240602T083944_20240602T084244_20240603T162803_0180_093_335_1800_MAR_O_NT_003.SEN3/Oa10_reflectance.nc",
             "title": "Origin asset link",
             "type": "application/x-netcdf"
            }
           },
           "href": "https://hda.data.destination-earth.eu/stac/collections/EO.EUM.DAT.SENTINEL-3.OL_2_WFR___/items/S3B_OL_2_WFR____20240602T083944_20240602T084244_20240603T162803_0180_093_335_1800_MAR_O_NT_003/download/Oa10_reflectance.nc?provider=dedl",
           "roles": [
            "data"
           ],
           "title": "Oa10_reflectance.nc",
           "type": "application/x-netcdf"
          },
          "Oa11_reflectance.nc": {
           "alternate": {
            "origin": {
             "href": "s3://eodata/Sentinel-3/OLCI/OL_2_WFR___/2024/06/02/S3B_OL_2_WFR____20240602T083944_20240602T084244_20240603T162803_0180_093_335_1800_MAR_O_NT_003.SEN3/Oa11_reflectance.nc",
             "title": "Origin asset link",
             "type": "application/x-netcdf"
            }
           },
           "href": "https://hda.data.destination-earth.eu/stac/collections/EO.EUM.DAT.SENTINEL-3.OL_2_WFR___/items/S3B_OL_2_WFR____20240602T083944_20240602T084244_20240603T162803_0180_093_335_1800_MAR_O_NT_003/download/Oa11_reflectance.nc?provider=dedl",
           "roles": [
            "data"
           ],
           "title": "Oa11_reflectance.nc",
           "type": "application/x-netcdf"
          },
          "Oa12_reflectance.nc": {
           "alternate": {
            "origin": {
             "href": "s3://eodata/Sentinel-3/OLCI/OL_2_WFR___/2024/06/02/S3B_OL_2_WFR____20240602T083944_20240602T084244_20240603T162803_0180_093_335_1800_MAR_O_NT_003.SEN3/Oa12_reflectance.nc",
             "title": "Origin asset link",
             "type": "application/x-netcdf"
            }
           },
           "href": "https://hda.data.destination-earth.eu/stac/collections/EO.EUM.DAT.SENTINEL-3.OL_2_WFR___/items/S3B_OL_2_WFR____20240602T083944_20240602T084244_20240603T162803_0180_093_335_1800_MAR_O_NT_003/download/Oa12_reflectance.nc?provider=dedl",
           "roles": [
            "data"
           ],
           "title": "Oa12_reflectance.nc",
           "type": "application/x-netcdf"
          },
          "Oa16_reflectance.nc": {
           "alternate": {
            "origin": {
             "href": "s3://eodata/Sentinel-3/OLCI/OL_2_WFR___/2024/06/02/S3B_OL_2_WFR____20240602T083944_20240602T084244_20240603T162803_0180_093_335_1800_MAR_O_NT_003.SEN3/Oa16_reflectance.nc",
             "title": "Origin asset link",
             "type": "application/x-netcdf"
            }
           },
           "href": "https://hda.data.destination-earth.eu/stac/collections/EO.EUM.DAT.SENTINEL-3.OL_2_WFR___/items/S3B_OL_2_WFR____20240602T083944_20240602T084244_20240603T162803_0180_093_335_1800_MAR_O_NT_003/download/Oa16_reflectance.nc?provider=dedl",
           "roles": [
            "data"
           ],
           "title": "Oa16_reflectance.nc",
           "type": "application/x-netcdf"
          },
          "Oa17_reflectance.nc": {
           "alternate": {
            "origin": {
             "href": "s3://eodata/Sentinel-3/OLCI/OL_2_WFR___/2024/06/02/S3B_OL_2_WFR____20240602T083944_20240602T084244_20240603T162803_0180_093_335_1800_MAR_O_NT_003.SEN3/Oa17_reflectance.nc",
             "title": "Origin asset link",
             "type": "application/x-netcdf"
            }
           },
           "href": "https://hda.data.destination-earth.eu/stac/collections/EO.EUM.DAT.SENTINEL-3.OL_2_WFR___/items/S3B_OL_2_WFR____20240602T083944_20240602T084244_20240603T162803_0180_093_335_1800_MAR_O_NT_003/download/Oa17_reflectance.nc?provider=dedl",
           "roles": [
            "data"
           ],
           "title": "Oa17_reflectance.nc",
           "type": "application/x-netcdf"
          },
          "Oa18_reflectance.nc": {
           "alternate": {
            "origin": {
             "href": "s3://eodata/Sentinel-3/OLCI/OL_2_WFR___/2024/06/02/S3B_OL_2_WFR____20240602T083944_20240602T084244_20240603T162803_0180_093_335_1800_MAR_O_NT_003.SEN3/Oa18_reflectance.nc",
             "title": "Origin asset link",
             "type": "application/x-netcdf"
            }
           },
           "href": "https://hda.data.destination-earth.eu/stac/collections/EO.EUM.DAT.SENTINEL-3.OL_2_WFR___/items/S3B_OL_2_WFR____20240602T083944_20240602T084244_20240603T162803_0180_093_335_1800_MAR_O_NT_003/download/Oa18_reflectance.nc?provider=dedl",
           "roles": [
            "data"
           ],
           "title": "Oa18_reflectance.nc",
           "type": "application/x-netcdf"
          },
          "Oa21_reflectance.nc": {
           "alternate": {
            "origin": {
             "href": "s3://eodata/Sentinel-3/OLCI/OL_2_WFR___/2024/06/02/S3B_OL_2_WFR____20240602T083944_20240602T084244_20240603T162803_0180_093_335_1800_MAR_O_NT_003.SEN3/Oa21_reflectance.nc",
             "title": "Origin asset link",
             "type": "application/x-netcdf"
            }
           },
           "href": "https://hda.data.destination-earth.eu/stac/collections/EO.EUM.DAT.SENTINEL-3.OL_2_WFR___/items/S3B_OL_2_WFR____20240602T083944_20240602T084244_20240603T162803_0180_093_335_1800_MAR_O_NT_003/download/Oa21_reflectance.nc?provider=dedl",
           "roles": [
            "data"
           ],
           "title": "Oa21_reflectance.nc",
           "type": "application/x-netcdf"
          },
          "browse.jpg": {
           "alternate": {
            "origin": {
             "href": "s3://eodata/Sentinel-3/OLCI/OL_2_WFR___/2024/06/02/S3B_OL_2_WFR____20240602T083944_20240602T084244_20240603T162803_0180_093_335_1800_MAR_O_NT_003.SEN3/browse.jpg",
             "title": "Origin asset link",
             "type": "image/jpeg"
            }
           },
           "href": "https://hda.data.destination-earth.eu/stac/collections/EO.EUM.DAT.SENTINEL-3.OL_2_WFR___/items/S3B_OL_2_WFR____20240602T083944_20240602T084244_20240603T162803_0180_093_335_1800_MAR_O_NT_003/download/browse.jpg?provider=dedl",
           "roles": [
            "metadata"
           ],
           "title": "browse.jpg",
           "type": "image/jpeg"
          },
          "chl_nn.nc": {
           "alternate": {
            "origin": {
             "href": "s3://eodata/Sentinel-3/OLCI/OL_2_WFR___/2024/06/02/S3B_OL_2_WFR____20240602T083944_20240602T084244_20240603T162803_0180_093_335_1800_MAR_O_NT_003.SEN3/chl_nn.nc",
             "title": "Origin asset link",
             "type": "application/x-netcdf"
            }
           },
           "href": "https://hda.data.destination-earth.eu/stac/collections/EO.EUM.DAT.SENTINEL-3.OL_2_WFR___/items/S3B_OL_2_WFR____20240602T083944_20240602T084244_20240603T162803_0180_093_335_1800_MAR_O_NT_003/download/chl_nn.nc?provider=dedl",
           "roles": [
            "data"
           ],
           "title": "chl_nn.nc",
           "type": "application/x-netcdf"
          },
          "chl_oc4me.nc": {
           "alternate": {
            "origin": {
             "href": "s3://eodata/Sentinel-3/OLCI/OL_2_WFR___/2024/06/02/S3B_OL_2_WFR____20240602T083944_20240602T084244_20240603T162803_0180_093_335_1800_MAR_O_NT_003.SEN3/chl_oc4me.nc",
             "title": "Origin asset link",
             "type": "application/x-netcdf"
            }
           },
           "href": "https://hda.data.destination-earth.eu/stac/collections/EO.EUM.DAT.SENTINEL-3.OL_2_WFR___/items/S3B_OL_2_WFR____20240602T083944_20240602T084244_20240603T162803_0180_093_335_1800_MAR_O_NT_003/download/chl_oc4me.nc?provider=dedl",
           "roles": [
            "data"
           ],
           "title": "chl_oc4me.nc",
           "type": "application/x-netcdf"
          },
          "downloadLink": {
           "alternate": {
            "origin": {
             "href": "https://zipper.creodias.eu/odata/v1/Products(4cb282c9-6d5d-4010-9bc0-eb1216fa6046)/$value",
             "title": "Origin asset link"
            }
           },
           "href": "https://hda.data.destination-earth.eu/stac/collections/EO.EUM.DAT.SENTINEL-3.OL_2_WFR___/items/S3B_OL_2_WFR____20240602T083944_20240602T084244_20240603T162803_0180_093_335_1800_MAR_O_NT_003/download?provider=dedl",
           "storage:tier": "ONLINE",
           "title": "Download link",
           "type": "application/zip"
          },
          "geo_coordinates.nc": {
           "alternate": {
            "origin": {
             "href": "s3://eodata/Sentinel-3/OLCI/OL_2_WFR___/2024/06/02/S3B_OL_2_WFR____20240602T083944_20240602T084244_20240603T162803_0180_093_335_1800_MAR_O_NT_003.SEN3/geo_coordinates.nc",
             "title": "Origin asset link",
             "type": "application/x-netcdf"
            }
           },
           "href": "https://hda.data.destination-earth.eu/stac/collections/EO.EUM.DAT.SENTINEL-3.OL_2_WFR___/items/S3B_OL_2_WFR____20240602T083944_20240602T084244_20240603T162803_0180_093_335_1800_MAR_O_NT_003/download/geo_coordinates.nc?provider=dedl",
           "roles": [
            "data"
           ],
           "title": "geo_coordinates.nc",
           "type": "application/x-netcdf"
          },
          "instrument_data.nc": {
           "alternate": {
            "origin": {
             "href": "s3://eodata/Sentinel-3/OLCI/OL_2_WFR___/2024/06/02/S3B_OL_2_WFR____20240602T083944_20240602T084244_20240603T162803_0180_093_335_1800_MAR_O_NT_003.SEN3/instrument_data.nc",
             "title": "Origin asset link",
             "type": "application/x-netcdf"
            }
           },
           "href": "https://hda.data.destination-earth.eu/stac/collections/EO.EUM.DAT.SENTINEL-3.OL_2_WFR___/items/S3B_OL_2_WFR____20240602T083944_20240602T084244_20240603T162803_0180_093_335_1800_MAR_O_NT_003/download/instrument_data.nc?provider=dedl",
           "roles": [
            "data"
           ],
           "title": "instrument_data.nc",
           "type": "application/x-netcdf"
          },
          "iop_lsd.nc": {
           "alternate": {
            "origin": {
             "href": "s3://eodata/Sentinel-3/OLCI/OL_2_WFR___/2024/06/02/S3B_OL_2_WFR____20240602T083944_20240602T084244_20240603T162803_0180_093_335_1800_MAR_O_NT_003.SEN3/iop_lsd.nc",
             "title": "Origin asset link",
             "type": "application/x-netcdf"
            }
           },
           "href": "https://hda.data.destination-earth.eu/stac/collections/EO.EUM.DAT.SENTINEL-3.OL_2_WFR___/items/S3B_OL_2_WFR____20240602T083944_20240602T084244_20240603T162803_0180_093_335_1800_MAR_O_NT_003/download/iop_lsd.nc?provider=dedl",
           "roles": [
            "data"
           ],
           "title": "iop_lsd.nc",
           "type": "application/x-netcdf"
          },
          "iop_nn.nc": {
           "alternate": {
            "origin": {
             "href": "s3://eodata/Sentinel-3/OLCI/OL_2_WFR___/2024/06/02/S3B_OL_2_WFR____20240602T083944_20240602T084244_20240603T162803_0180_093_335_1800_MAR_O_NT_003.SEN3/iop_nn.nc",
             "title": "Origin asset link",
             "type": "application/x-netcdf"
            }
           },
           "href": "https://hda.data.destination-earth.eu/stac/collections/EO.EUM.DAT.SENTINEL-3.OL_2_WFR___/items/S3B_OL_2_WFR____20240602T083944_20240602T084244_20240603T162803_0180_093_335_1800_MAR_O_NT_003/download/iop_nn.nc?provider=dedl",
           "roles": [
            "data"
           ],
           "title": "iop_nn.nc",
           "type": "application/x-netcdf"
          },
          "iwv.nc": {
           "alternate": {
            "origin": {
             "href": "s3://eodata/Sentinel-3/OLCI/OL_2_WFR___/2024/06/02/S3B_OL_2_WFR____20240602T083944_20240602T084244_20240603T162803_0180_093_335_1800_MAR_O_NT_003.SEN3/iwv.nc",
             "title": "Origin asset link",
             "type": "application/x-netcdf"
            }
           },
           "href": "https://hda.data.destination-earth.eu/stac/collections/EO.EUM.DAT.SENTINEL-3.OL_2_WFR___/items/S3B_OL_2_WFR____20240602T083944_20240602T084244_20240603T162803_0180_093_335_1800_MAR_O_NT_003/download/iwv.nc?provider=dedl",
           "roles": [
            "data"
           ],
           "title": "iwv.nc",
           "type": "application/x-netcdf"
          },
          "manifest.xml": {
           "alternate": {
            "origin": {
             "href": "s3://eodata/Sentinel-3/OLCI/OL_2_WFR___/2024/06/02/S3B_OL_2_WFR____20240602T083944_20240602T084244_20240603T162803_0180_093_335_1800_MAR_O_NT_003.SEN3/manifest.xml",
             "title": "Origin asset link",
             "type": "text/xml"
            }
           },
           "href": "https://hda.data.destination-earth.eu/stac/collections/EO.EUM.DAT.SENTINEL-3.OL_2_WFR___/items/S3B_OL_2_WFR____20240602T083944_20240602T084244_20240603T162803_0180_093_335_1800_MAR_O_NT_003/download/manifest.xml?provider=dedl",
           "roles": [
            "metadata"
           ],
           "title": "manifest.xml",
           "type": "text/xml"
          },
          "par.nc": {
           "alternate": {
            "origin": {
             "href": "s3://eodata/Sentinel-3/OLCI/OL_2_WFR___/2024/06/02/S3B_OL_2_WFR____20240602T083944_20240602T084244_20240603T162803_0180_093_335_1800_MAR_O_NT_003.SEN3/par.nc",
             "title": "Origin asset link",
             "type": "application/x-netcdf"
            }
           },
           "href": "https://hda.data.destination-earth.eu/stac/collections/EO.EUM.DAT.SENTINEL-3.OL_2_WFR___/items/S3B_OL_2_WFR____20240602T083944_20240602T084244_20240603T162803_0180_093_335_1800_MAR_O_NT_003/download/par.nc?provider=dedl",
           "roles": [
            "data"
           ],
           "title": "par.nc",
           "type": "application/x-netcdf"
          },
          "tie_geo_coordinates.nc": {
           "alternate": {
            "origin": {
             "href": "s3://eodata/Sentinel-3/OLCI/OL_2_WFR___/2024/06/02/S3B_OL_2_WFR____20240602T083944_20240602T084244_20240603T162803_0180_093_335_1800_MAR_O_NT_003.SEN3/tie_geo_coordinates.nc",
             "title": "Origin asset link",
             "type": "application/x-netcdf"
            }
           },
           "href": "https://hda.data.destination-earth.eu/stac/collections/EO.EUM.DAT.SENTINEL-3.OL_2_WFR___/items/S3B_OL_2_WFR____20240602T083944_20240602T084244_20240603T162803_0180_093_335_1800_MAR_O_NT_003/download/tie_geo_coordinates.nc?provider=dedl",
           "roles": [
            "data"
           ],
           "title": "tie_geo_coordinates.nc",
           "type": "application/x-netcdf"
          },
          "tie_geometries.nc": {
           "alternate": {
            "origin": {
             "href": "s3://eodata/Sentinel-3/OLCI/OL_2_WFR___/2024/06/02/S3B_OL_2_WFR____20240602T083944_20240602T084244_20240603T162803_0180_093_335_1800_MAR_O_NT_003.SEN3/tie_geometries.nc",
             "title": "Origin asset link",
             "type": "application/x-netcdf"
            }
           },
           "href": "https://hda.data.destination-earth.eu/stac/collections/EO.EUM.DAT.SENTINEL-3.OL_2_WFR___/items/S3B_OL_2_WFR____20240602T083944_20240602T084244_20240603T162803_0180_093_335_1800_MAR_O_NT_003/download/tie_geometries.nc?provider=dedl",
           "roles": [
            "data"
           ],
           "title": "tie_geometries.nc",
           "type": "application/x-netcdf"
          },
          "tie_meteo.nc": {
           "alternate": {
            "origin": {
             "href": "s3://eodata/Sentinel-3/OLCI/OL_2_WFR___/2024/06/02/S3B_OL_2_WFR____20240602T083944_20240602T084244_20240603T162803_0180_093_335_1800_MAR_O_NT_003.SEN3/tie_meteo.nc",
             "title": "Origin asset link",
             "type": "application/x-netcdf"
            }
           },
           "href": "https://hda.data.destination-earth.eu/stac/collections/EO.EUM.DAT.SENTINEL-3.OL_2_WFR___/items/S3B_OL_2_WFR____20240602T083944_20240602T084244_20240603T162803_0180_093_335_1800_MAR_O_NT_003/download/tie_meteo.nc?provider=dedl",
           "roles": [
            "data"
           ],
           "title": "tie_meteo.nc",
           "type": "application/x-netcdf"
          },
          "time_coordinates.nc": {
           "alternate": {
            "origin": {
             "href": "s3://eodata/Sentinel-3/OLCI/OL_2_WFR___/2024/06/02/S3B_OL_2_WFR____20240602T083944_20240602T084244_20240603T162803_0180_093_335_1800_MAR_O_NT_003.SEN3/time_coordinates.nc",
             "title": "Origin asset link",
             "type": "application/x-netcdf"
            }
           },
           "href": "https://hda.data.destination-earth.eu/stac/collections/EO.EUM.DAT.SENTINEL-3.OL_2_WFR___/items/S3B_OL_2_WFR____20240602T083944_20240602T084244_20240603T162803_0180_093_335_1800_MAR_O_NT_003/download/time_coordinates.nc?provider=dedl",
           "roles": [
            "data"
           ],
           "title": "time_coordinates.nc",
           "type": "application/x-netcdf"
          },
          "trsp.nc": {
           "alternate": {
            "origin": {
             "href": "s3://eodata/Sentinel-3/OLCI/OL_2_WFR___/2024/06/02/S3B_OL_2_WFR____20240602T083944_20240602T084244_20240603T162803_0180_093_335_1800_MAR_O_NT_003.SEN3/trsp.nc",
             "title": "Origin asset link",
             "type": "application/x-netcdf"
            }
           },
           "href": "https://hda.data.destination-earth.eu/stac/collections/EO.EUM.DAT.SENTINEL-3.OL_2_WFR___/items/S3B_OL_2_WFR____20240602T083944_20240602T084244_20240603T162803_0180_093_335_1800_MAR_O_NT_003/download/trsp.nc?provider=dedl",
           "roles": [
            "data"
           ],
           "title": "trsp.nc",
           "type": "application/x-netcdf"
          },
          "tsm_nn.nc": {
           "alternate": {
            "origin": {
             "href": "s3://eodata/Sentinel-3/OLCI/OL_2_WFR___/2024/06/02/S3B_OL_2_WFR____20240602T083944_20240602T084244_20240603T162803_0180_093_335_1800_MAR_O_NT_003.SEN3/tsm_nn.nc",
             "title": "Origin asset link",
             "type": "application/x-netcdf"
            }
           },
           "href": "https://hda.data.destination-earth.eu/stac/collections/EO.EUM.DAT.SENTINEL-3.OL_2_WFR___/items/S3B_OL_2_WFR____20240602T083944_20240602T084244_20240603T162803_0180_093_335_1800_MAR_O_NT_003/download/tsm_nn.nc?provider=dedl",
           "roles": [
            "data"
           ],
           "title": "tsm_nn.nc",
           "type": "application/x-netcdf"
          },
          "w_aer.nc": {
           "alternate": {
            "origin": {
             "href": "s3://eodata/Sentinel-3/OLCI/OL_2_WFR___/2024/06/02/S3B_OL_2_WFR____20240602T083944_20240602T084244_20240603T162803_0180_093_335_1800_MAR_O_NT_003.SEN3/w_aer.nc",
             "title": "Origin asset link",
             "type": "application/x-netcdf"
            }
           },
           "href": "https://hda.data.destination-earth.eu/stac/collections/EO.EUM.DAT.SENTINEL-3.OL_2_WFR___/items/S3B_OL_2_WFR____20240602T083944_20240602T084244_20240603T162803_0180_093_335_1800_MAR_O_NT_003/download/w_aer.nc?provider=dedl",
           "roles": [
            "data"
           ],
           "title": "w_aer.nc",
           "type": "application/x-netcdf"
          },
          "wqsf.nc": {
           "alternate": {
            "origin": {
             "href": "s3://eodata/Sentinel-3/OLCI/OL_2_WFR___/2024/06/02/S3B_OL_2_WFR____20240602T083944_20240602T084244_20240603T162803_0180_093_335_1800_MAR_O_NT_003.SEN3/wqsf.nc",
             "title": "Origin asset link",
             "type": "application/x-netcdf"
            }
           },
           "href": "https://hda.data.destination-earth.eu/stac/collections/EO.EUM.DAT.SENTINEL-3.OL_2_WFR___/items/S3B_OL_2_WFR____20240602T083944_20240602T084244_20240603T162803_0180_093_335_1800_MAR_O_NT_003/download/wqsf.nc?provider=dedl",
           "roles": [
            "data"
           ],
           "title": "wqsf.nc",
           "type": "application/x-netcdf"
          },
          "xfdumanifest.xml": {
           "alternate": {
            "origin": {
             "href": "s3://eodata/Sentinel-3/OLCI/OL_2_WFR___/2024/06/02/S3B_OL_2_WFR____20240602T083944_20240602T084244_20240603T162803_0180_093_335_1800_MAR_O_NT_003.SEN3/xfdumanifest.xml",
             "title": "Origin asset link",
             "type": "text/xml"
            }
           },
           "href": "https://hda.data.destination-earth.eu/stac/collections/EO.EUM.DAT.SENTINEL-3.OL_2_WFR___/items/S3B_OL_2_WFR____20240602T083944_20240602T084244_20240603T162803_0180_093_335_1800_MAR_O_NT_003/download/xfdumanifest.xml?provider=dedl",
           "roles": [
            "metadata"
           ],
           "title": "xfdumanifest.xml",
           "type": "text/xml"
          }
         },
         "bbox": [
          17.0537,
          59.9668,
          53.7921,
          73.3568
         ],
         "collection": "EO.EUM.DAT.SENTINEL-3.OL_2_WFR___",
         "geometry": {
          "coordinates": [
           [
            [
             17.0537,
             62.9227
            ],
            [
             18.4134,
             62.8773
            ],
            [
             19.7564,
             62.818
            ],
            [
             21.1027,
             62.7455
            ],
            [
             22.4464,
             62.6625
            ],
            [
             23.7785,
             62.5644
            ],
            [
             25.0991,
             62.454
            ],
            [
             26.4039,
             62.3313
            ],
            [
             27.7006,
             62.1964
            ],
            [
             28.9894,
             62.0491
            ],
            [
             30.2626,
             61.8909
            ],
            [
             31.5226,
             61.7206
            ],
            [
             32.7684,
             61.5416
            ],
            [
             34.0029,
             61.3464
            ],
            [
             35.2178,
             61.1426
            ],
            [
             36.4153,
             60.9283
            ],
            [
             37.5969,
             60.703
            ],
            [
             38.7655,
             60.467
            ],
            [
             39.9159,
             60.221
            ],
            [
             41.0486,
             59.9668
            ],
            [
             43.4864,
             62.404
            ],
            [
             46.3414,
             64.8018
            ],
            [
             49.7236,
             67.1384
            ],
            [
             53.7921,
             69.3935
            ],
            [
             52.3362,
             69.7466
            ],
            [
             50.8349,
             70.0883
            ],
            [
             49.2763,
             70.4184
            ],
            [
             47.6786,
             70.733
            ],
            [
             46.0253,
             71.0339
            ],
            [
             44.3198,
             71.32
            ],
            [
             42.5748,
             71.5906
            ],
            [
             40.7702,
             71.8418
            ],
            [
             38.9193,
             72.0783
            ],
            [
             37.026,
             72.2989
            ],
            [
             35.0897,
             72.496
            ],
            [
             33.112,
             72.6768
            ],
            [
             31.0987,
             72.8378
            ],
            [
             29.0477,
             72.9783
            ],
            [
             26.964,
             73.098
            ],
            [
             24.849,
             73.1967
            ],
            [
             22.7161,
             73.2709
            ],
            [
             20.5815,
             73.3254
            ],
            [
             18.4184,
             73.3568
            ],
            [
             18.1008,
             70.7481
            ],
            [
             17.7645,
             68.1383
            ],
            [
             17.4138,
             65.5272
            ],
            [
             17.0537,
             62.9227
            ]
           ]
          ],
          "type": "Polygon"
         },
         "id": "S3B_OL_2_WFR____20240602T083944_20240602T084244_20240603T162803_0180_093_335_1800_MAR_O_NT_003",
         "links": [
          {
           "href": "https://hda.data.destination-earth.eu/stac/collections/EO.EUM.DAT.SENTINEL-3.OL_2_WFR___/items/S3B_OL_2_WFR____20240602T083944_20240602T084244_20240603T162803_0180_093_335_1800_MAR_O_NT_003",
           "rel": "self",
           "title": "S3B_OL_2_WFR____20240602T083944_20240602T084244_20240603T162803_0180_093_335_1800_MAR_O_NT_003"
          },
          {
           "href": "https://hda.data.destination-earth.eu/stac/",
           "rel": "root"
          },
          {
           "href": "https://hda.data.destination-earth.eu/stac/collections/EO.EUM.DAT.SENTINEL-3.OL_2_WFR___",
           "rel": "parent",
           "title": "EO.EUM.DAT.SENTINEL-3.OL_2_WFR___"
          },
          {
           "href": "https://hda.data.destination-earth.eu/stac/collections/EO.EUM.DAT.SENTINEL-3.OL_2_WFR___",
           "rel": "collection",
           "title": "EO.EUM.DAT.SENTINEL-3.OL_2_WFR___"
          }
         ],
         "properties": {
          "constellation": "SENTINEL-3",
          "datetime": "2024-06-02T08:39:44.309065Z",
          "dedl:alias": "EO.EUM.DAT.SENTINEL-3.OL_2_WFR___",
          "dedl:baselineCollection": "003",
          "dedl:beginningDateTime": "2024-06-02T08:39:44.309065Z",
          "dedl:endingDateTime": "2024-06-02T08:42:44.309065Z",
          "dedl:productIdentifier": "/eodata/Sentinel-3/OLCI/OL_2_WFR___/2024/06/02/S3B_OL_2_WFR____20240602T083944_20240602T084244_20240603T162803_0180_093_335_1800_MAR_O_NT_003.SEN3",
          "dedl:scope": {
           "discover": null,
           "download": "hda-public-data-access",
           "search": "hda-public-data-access"
          },
          "dedl:timeliness": "NT",
          "dedl:uid": "4cb282c9-6d5d-4010-9bc0-eb1216fa6046",
          "description": "OLCI (Ocean and Land Colour Instrument) Ocean Colour Geophysical Products. Full Resolution: 300m at nadir. All Sentinel-3 NRT products are available at pick-up point in less than 3h. Level 2 marine products include the following: * water-leaving reflectances in 16 bands, Oa**_reflectance (Baseline Atmospheric Correction (BAC) algorithm, bands: 400, 412, 442, 490, 510, 560, 620, 665, 674, 681, 709, 754, 779, 865, 885, 1024 nanometer (nm)); *algal pigment concentration in clear waters, chl_oc4me (BAC and maximum band ratio algorithm, log10 scaled); *algal pigment concentration in turbid waters, chl_nn (neural net algorithm, log10 scaled); *total suspended matter concentration, tsm_nn (neural net algorithm, log10 scaled); *diffuse attenuation coefficient Kd of downward irradiance at 490 nm, trsp (BAC and M07 algorithm, log10 scaled); *absorption coefficient at 443 nm of coloured detrital and dissolved organic matter, iop_nn (neural net algorithm, log10 scaled); *instantaneous photosynthetically active radiation, PAR (BAC and clear-sky ocean algorithm); *aerosol optical thickness T865 and aerosol Angstrom exponent A865, w_aer (BAC algorithm, A for bands 779 and 865 nm) *integrated water vapour column, iwv (1D-Var algorithm). The geophysical products are accompanied by error estimate products. Pixel classification, quality and science flags, as well as meteorological, geometry and geolocation data at tie points are provided.\n\n- All Sentinel-3 NRT products are available at pick-up point in less than 3h\n- All Sentinel-3 Non Time Critical (NTC) products are available at pick-up point in less than 30 days\nSentinel-3 is part of a series of Sentinel satellites, under the umbrella of the EU Copernicus programme.",
          "end_datetime": "2024-06-02T08:42:44.309065Z",
          "instruments": [
           "OLCI"
          ],
          "license": "proprietary",
          "order:status": "succeeded",
          "platform": "SENTINEL-3A,SENTINEL-3B",
          "processing:level": 2,
          "providers": [
           {
            "description": "DestineE Data Lake Fresh Data Pool",
            "name": "dedl",
            "priority": 1,
            "roles": [
             "host"
            ],
            "url": "https://creodias.eu/"
           }
          ],
          "published": "2024-06-03T16:48:59.966361Z",
          "sar:instrument_mode": "Earth Observation",
          "sar:product_type": "OL_2_WFR___",
          "sat:absolute_orbit": 31792,
          "sat:orbit_state": "DESCENDING",
          "sat:relative_orbit": 335,
          "start_datetime": "2024-06-02T08:39:44.309065Z",
          "updated": "2024-06-03T16:49:03.437337Z"
         },
         "stac_extensions": [
          "https://stac-extensions.github.io/timestamps/v1.0.0/schema.json",
          "https://stac-extensions.github.io/processing/v1.0.0/schema.json",
          "https://stac-extensions.github.io/sat/v1.0.0/schema.json",
          "https://stac-extensions.github.io/sar/v1.0.0/schema.json",
          "https://stac-extensions.github.io/order/v1.1.0/schema.json"
         ],
         "stac_version": "1.0.0",
         "type": "Feature"
        },
        {
         "assets": {
          "EOPMetadata.xml": {
           "alternate": {
            "origin": {
             "href": "s3://eodata/Sentinel-3/OLCI/OL_2_WFR___/2024/06/02/S3B_OL_2_WFR____20240602T083944_20240602T084244_20240602T104217_0179_093_335_1800_MAR_O_NR_003.SEN3/EOPMetadata.xml",
             "title": "Origin asset link",
             "type": "text/xml"
            }
           },
           "href": "https://hda.data.destination-earth.eu/stac/collections/EO.EUM.DAT.SENTINEL-3.OL_2_WFR___/items/S3B_OL_2_WFR____20240602T083944_20240602T084244_20240602T104217_0179_093_335_1800_MAR_O_NR_003/download/EOPMetadata.xml?provider=dedl",
           "roles": [
            "metadata"
           ],
           "title": "EOPMetadata.xml",
           "type": "text/xml"
          },
          "Oa01_reflectance.nc": {
           "alternate": {
            "origin": {
             "href": "s3://eodata/Sentinel-3/OLCI/OL_2_WFR___/2024/06/02/S3B_OL_2_WFR____20240602T083944_20240602T084244_20240602T104217_0179_093_335_1800_MAR_O_NR_003.SEN3/Oa01_reflectance.nc",
             "title": "Origin asset link",
             "type": "application/x-netcdf"
            }
           },
           "href": "https://hda.data.destination-earth.eu/stac/collections/EO.EUM.DAT.SENTINEL-3.OL_2_WFR___/items/S3B_OL_2_WFR____20240602T083944_20240602T084244_20240602T104217_0179_093_335_1800_MAR_O_NR_003/download/Oa01_reflectance.nc?provider=dedl",
           "roles": [
            "data"
           ],
           "title": "Oa01_reflectance.nc",
           "type": "application/x-netcdf"
          },
          "Oa02_reflectance.nc": {
           "alternate": {
            "origin": {
             "href": "s3://eodata/Sentinel-3/OLCI/OL_2_WFR___/2024/06/02/S3B_OL_2_WFR____20240602T083944_20240602T084244_20240602T104217_0179_093_335_1800_MAR_O_NR_003.SEN3/Oa02_reflectance.nc",
             "title": "Origin asset link",
             "type": "application/x-netcdf"
            }
           },
           "href": "https://hda.data.destination-earth.eu/stac/collections/EO.EUM.DAT.SENTINEL-3.OL_2_WFR___/items/S3B_OL_2_WFR____20240602T083944_20240602T084244_20240602T104217_0179_093_335_1800_MAR_O_NR_003/download/Oa02_reflectance.nc?provider=dedl",
           "roles": [
            "data"
           ],
           "title": "Oa02_reflectance.nc",
           "type": "application/x-netcdf"
          },
          "Oa03_reflectance.nc": {
           "alternate": {
            "origin": {
             "href": "s3://eodata/Sentinel-3/OLCI/OL_2_WFR___/2024/06/02/S3B_OL_2_WFR____20240602T083944_20240602T084244_20240602T104217_0179_093_335_1800_MAR_O_NR_003.SEN3/Oa03_reflectance.nc",
             "title": "Origin asset link",
             "type": "application/x-netcdf"
            }
           },
           "href": "https://hda.data.destination-earth.eu/stac/collections/EO.EUM.DAT.SENTINEL-3.OL_2_WFR___/items/S3B_OL_2_WFR____20240602T083944_20240602T084244_20240602T104217_0179_093_335_1800_MAR_O_NR_003/download/Oa03_reflectance.nc?provider=dedl",
           "roles": [
            "data"
           ],
           "title": "Oa03_reflectance.nc",
           "type": "application/x-netcdf"
          },
          "Oa04_reflectance.nc": {
           "alternate": {
            "origin": {
             "href": "s3://eodata/Sentinel-3/OLCI/OL_2_WFR___/2024/06/02/S3B_OL_2_WFR____20240602T083944_20240602T084244_20240602T104217_0179_093_335_1800_MAR_O_NR_003.SEN3/Oa04_reflectance.nc",
             "title": "Origin asset link",
             "type": "application/x-netcdf"
            }
           },
           "href": "https://hda.data.destination-earth.eu/stac/collections/EO.EUM.DAT.SENTINEL-3.OL_2_WFR___/items/S3B_OL_2_WFR____20240602T083944_20240602T084244_20240602T104217_0179_093_335_1800_MAR_O_NR_003/download/Oa04_reflectance.nc?provider=dedl",
           "roles": [
            "data"
           ],
           "title": "Oa04_reflectance.nc",
           "type": "application/x-netcdf"
          },
          "Oa05_reflectance.nc": {
           "alternate": {
            "origin": {
             "href": "s3://eodata/Sentinel-3/OLCI/OL_2_WFR___/2024/06/02/S3B_OL_2_WFR____20240602T083944_20240602T084244_20240602T104217_0179_093_335_1800_MAR_O_NR_003.SEN3/Oa05_reflectance.nc",
             "title": "Origin asset link",
             "type": "application/x-netcdf"
            }
           },
           "href": "https://hda.data.destination-earth.eu/stac/collections/EO.EUM.DAT.SENTINEL-3.OL_2_WFR___/items/S3B_OL_2_WFR____20240602T083944_20240602T084244_20240602T104217_0179_093_335_1800_MAR_O_NR_003/download/Oa05_reflectance.nc?provider=dedl",
           "roles": [
            "data"
           ],
           "title": "Oa05_reflectance.nc",
           "type": "application/x-netcdf"
          },
          "Oa06_reflectance.nc": {
           "alternate": {
            "origin": {
             "href": "s3://eodata/Sentinel-3/OLCI/OL_2_WFR___/2024/06/02/S3B_OL_2_WFR____20240602T083944_20240602T084244_20240602T104217_0179_093_335_1800_MAR_O_NR_003.SEN3/Oa06_reflectance.nc",
             "title": "Origin asset link",
             "type": "application/x-netcdf"
            }
           },
           "href": "https://hda.data.destination-earth.eu/stac/collections/EO.EUM.DAT.SENTINEL-3.OL_2_WFR___/items/S3B_OL_2_WFR____20240602T083944_20240602T084244_20240602T104217_0179_093_335_1800_MAR_O_NR_003/download/Oa06_reflectance.nc?provider=dedl",
           "roles": [
            "data"
           ],
           "title": "Oa06_reflectance.nc",
           "type": "application/x-netcdf"
          },
          "Oa07_reflectance.nc": {
           "alternate": {
            "origin": {
             "href": "s3://eodata/Sentinel-3/OLCI/OL_2_WFR___/2024/06/02/S3B_OL_2_WFR____20240602T083944_20240602T084244_20240602T104217_0179_093_335_1800_MAR_O_NR_003.SEN3/Oa07_reflectance.nc",
             "title": "Origin asset link",
             "type": "application/x-netcdf"
            }
           },
           "href": "https://hda.data.destination-earth.eu/stac/collections/EO.EUM.DAT.SENTINEL-3.OL_2_WFR___/items/S3B_OL_2_WFR____20240602T083944_20240602T084244_20240602T104217_0179_093_335_1800_MAR_O_NR_003/download/Oa07_reflectance.nc?provider=dedl",
           "roles": [
            "data"
           ],
           "title": "Oa07_reflectance.nc",
           "type": "application/x-netcdf"
          },
          "Oa08_reflectance.nc": {
           "alternate": {
            "origin": {
             "href": "s3://eodata/Sentinel-3/OLCI/OL_2_WFR___/2024/06/02/S3B_OL_2_WFR____20240602T083944_20240602T084244_20240602T104217_0179_093_335_1800_MAR_O_NR_003.SEN3/Oa08_reflectance.nc",
             "title": "Origin asset link",
             "type": "application/x-netcdf"
            }
           },
           "href": "https://hda.data.destination-earth.eu/stac/collections/EO.EUM.DAT.SENTINEL-3.OL_2_WFR___/items/S3B_OL_2_WFR____20240602T083944_20240602T084244_20240602T104217_0179_093_335_1800_MAR_O_NR_003/download/Oa08_reflectance.nc?provider=dedl",
           "roles": [
            "data"
           ],
           "title": "Oa08_reflectance.nc",
           "type": "application/x-netcdf"
          },
          "Oa09_reflectance.nc": {
           "alternate": {
            "origin": {
             "href": "s3://eodata/Sentinel-3/OLCI/OL_2_WFR___/2024/06/02/S3B_OL_2_WFR____20240602T083944_20240602T084244_20240602T104217_0179_093_335_1800_MAR_O_NR_003.SEN3/Oa09_reflectance.nc",
             "title": "Origin asset link",
             "type": "application/x-netcdf"
            }
           },
           "href": "https://hda.data.destination-earth.eu/stac/collections/EO.EUM.DAT.SENTINEL-3.OL_2_WFR___/items/S3B_OL_2_WFR____20240602T083944_20240602T084244_20240602T104217_0179_093_335_1800_MAR_O_NR_003/download/Oa09_reflectance.nc?provider=dedl",
           "roles": [
            "data"
           ],
           "title": "Oa09_reflectance.nc",
           "type": "application/x-netcdf"
          },
          "Oa10_reflectance.nc": {
           "alternate": {
            "origin": {
             "href": "s3://eodata/Sentinel-3/OLCI/OL_2_WFR___/2024/06/02/S3B_OL_2_WFR____20240602T083944_20240602T084244_20240602T104217_0179_093_335_1800_MAR_O_NR_003.SEN3/Oa10_reflectance.nc",
             "title": "Origin asset link",
             "type": "application/x-netcdf"
            }
           },
           "href": "https://hda.data.destination-earth.eu/stac/collections/EO.EUM.DAT.SENTINEL-3.OL_2_WFR___/items/S3B_OL_2_WFR____20240602T083944_20240602T084244_20240602T104217_0179_093_335_1800_MAR_O_NR_003/download/Oa10_reflectance.nc?provider=dedl",
           "roles": [
            "data"
           ],
           "title": "Oa10_reflectance.nc",
           "type": "application/x-netcdf"
          },
          "Oa11_reflectance.nc": {
           "alternate": {
            "origin": {
             "href": "s3://eodata/Sentinel-3/OLCI/OL_2_WFR___/2024/06/02/S3B_OL_2_WFR____20240602T083944_20240602T084244_20240602T104217_0179_093_335_1800_MAR_O_NR_003.SEN3/Oa11_reflectance.nc",
             "title": "Origin asset link",
             "type": "application/x-netcdf"
            }
           },
           "href": "https://hda.data.destination-earth.eu/stac/collections/EO.EUM.DAT.SENTINEL-3.OL_2_WFR___/items/S3B_OL_2_WFR____20240602T083944_20240602T084244_20240602T104217_0179_093_335_1800_MAR_O_NR_003/download/Oa11_reflectance.nc?provider=dedl",
           "roles": [
            "data"
           ],
           "title": "Oa11_reflectance.nc",
           "type": "application/x-netcdf"
          },
          "Oa12_reflectance.nc": {
           "alternate": {
            "origin": {
             "href": "s3://eodata/Sentinel-3/OLCI/OL_2_WFR___/2024/06/02/S3B_OL_2_WFR____20240602T083944_20240602T084244_20240602T104217_0179_093_335_1800_MAR_O_NR_003.SEN3/Oa12_reflectance.nc",
             "title": "Origin asset link",
             "type": "application/x-netcdf"
            }
           },
           "href": "https://hda.data.destination-earth.eu/stac/collections/EO.EUM.DAT.SENTINEL-3.OL_2_WFR___/items/S3B_OL_2_WFR____20240602T083944_20240602T084244_20240602T104217_0179_093_335_1800_MAR_O_NR_003/download/Oa12_reflectance.nc?provider=dedl",
           "roles": [
            "data"
           ],
           "title": "Oa12_reflectance.nc",
           "type": "application/x-netcdf"
          },
          "Oa16_reflectance.nc": {
           "alternate": {
            "origin": {
             "href": "s3://eodata/Sentinel-3/OLCI/OL_2_WFR___/2024/06/02/S3B_OL_2_WFR____20240602T083944_20240602T084244_20240602T104217_0179_093_335_1800_MAR_O_NR_003.SEN3/Oa16_reflectance.nc",
             "title": "Origin asset link",
             "type": "application/x-netcdf"
            }
           },
           "href": "https://hda.data.destination-earth.eu/stac/collections/EO.EUM.DAT.SENTINEL-3.OL_2_WFR___/items/S3B_OL_2_WFR____20240602T083944_20240602T084244_20240602T104217_0179_093_335_1800_MAR_O_NR_003/download/Oa16_reflectance.nc?provider=dedl",
           "roles": [
            "data"
           ],
           "title": "Oa16_reflectance.nc",
           "type": "application/x-netcdf"
          },
          "Oa17_reflectance.nc": {
           "alternate": {
            "origin": {
             "href": "s3://eodata/Sentinel-3/OLCI/OL_2_WFR___/2024/06/02/S3B_OL_2_WFR____20240602T083944_20240602T084244_20240602T104217_0179_093_335_1800_MAR_O_NR_003.SEN3/Oa17_reflectance.nc",
             "title": "Origin asset link",
             "type": "application/x-netcdf"
            }
           },
           "href": "https://hda.data.destination-earth.eu/stac/collections/EO.EUM.DAT.SENTINEL-3.OL_2_WFR___/items/S3B_OL_2_WFR____20240602T083944_20240602T084244_20240602T104217_0179_093_335_1800_MAR_O_NR_003/download/Oa17_reflectance.nc?provider=dedl",
           "roles": [
            "data"
           ],
           "title": "Oa17_reflectance.nc",
           "type": "application/x-netcdf"
          },
          "Oa18_reflectance.nc": {
           "alternate": {
            "origin": {
             "href": "s3://eodata/Sentinel-3/OLCI/OL_2_WFR___/2024/06/02/S3B_OL_2_WFR____20240602T083944_20240602T084244_20240602T104217_0179_093_335_1800_MAR_O_NR_003.SEN3/Oa18_reflectance.nc",
             "title": "Origin asset link",
             "type": "application/x-netcdf"
            }
           },
           "href": "https://hda.data.destination-earth.eu/stac/collections/EO.EUM.DAT.SENTINEL-3.OL_2_WFR___/items/S3B_OL_2_WFR____20240602T083944_20240602T084244_20240602T104217_0179_093_335_1800_MAR_O_NR_003/download/Oa18_reflectance.nc?provider=dedl",
           "roles": [
            "data"
           ],
           "title": "Oa18_reflectance.nc",
           "type": "application/x-netcdf"
          },
          "Oa21_reflectance.nc": {
           "alternate": {
            "origin": {
             "href": "s3://eodata/Sentinel-3/OLCI/OL_2_WFR___/2024/06/02/S3B_OL_2_WFR____20240602T083944_20240602T084244_20240602T104217_0179_093_335_1800_MAR_O_NR_003.SEN3/Oa21_reflectance.nc",
             "title": "Origin asset link",
             "type": "application/x-netcdf"
            }
           },
           "href": "https://hda.data.destination-earth.eu/stac/collections/EO.EUM.DAT.SENTINEL-3.OL_2_WFR___/items/S3B_OL_2_WFR____20240602T083944_20240602T084244_20240602T104217_0179_093_335_1800_MAR_O_NR_003/download/Oa21_reflectance.nc?provider=dedl",
           "roles": [
            "data"
           ],
           "title": "Oa21_reflectance.nc",
           "type": "application/x-netcdf"
          },
          "browse.jpg": {
           "alternate": {
            "origin": {
             "href": "s3://eodata/Sentinel-3/OLCI/OL_2_WFR___/2024/06/02/S3B_OL_2_WFR____20240602T083944_20240602T084244_20240602T104217_0179_093_335_1800_MAR_O_NR_003.SEN3/browse.jpg",
             "title": "Origin asset link",
             "type": "image/jpeg"
            }
           },
           "href": "https://hda.data.destination-earth.eu/stac/collections/EO.EUM.DAT.SENTINEL-3.OL_2_WFR___/items/S3B_OL_2_WFR____20240602T083944_20240602T084244_20240602T104217_0179_093_335_1800_MAR_O_NR_003/download/browse.jpg?provider=dedl",
           "roles": [
            "metadata"
           ],
           "title": "browse.jpg",
           "type": "image/jpeg"
          },
          "chl_nn.nc": {
           "alternate": {
            "origin": {
             "href": "s3://eodata/Sentinel-3/OLCI/OL_2_WFR___/2024/06/02/S3B_OL_2_WFR____20240602T083944_20240602T084244_20240602T104217_0179_093_335_1800_MAR_O_NR_003.SEN3/chl_nn.nc",
             "title": "Origin asset link",
             "type": "application/x-netcdf"
            }
           },
           "href": "https://hda.data.destination-earth.eu/stac/collections/EO.EUM.DAT.SENTINEL-3.OL_2_WFR___/items/S3B_OL_2_WFR____20240602T083944_20240602T084244_20240602T104217_0179_093_335_1800_MAR_O_NR_003/download/chl_nn.nc?provider=dedl",
           "roles": [
            "data"
           ],
           "title": "chl_nn.nc",
           "type": "application/x-netcdf"
          },
          "chl_oc4me.nc": {
           "alternate": {
            "origin": {
             "href": "s3://eodata/Sentinel-3/OLCI/OL_2_WFR___/2024/06/02/S3B_OL_2_WFR____20240602T083944_20240602T084244_20240602T104217_0179_093_335_1800_MAR_O_NR_003.SEN3/chl_oc4me.nc",
             "title": "Origin asset link",
             "type": "application/x-netcdf"
            }
           },
           "href": "https://hda.data.destination-earth.eu/stac/collections/EO.EUM.DAT.SENTINEL-3.OL_2_WFR___/items/S3B_OL_2_WFR____20240602T083944_20240602T084244_20240602T104217_0179_093_335_1800_MAR_O_NR_003/download/chl_oc4me.nc?provider=dedl",
           "roles": [
            "data"
           ],
           "title": "chl_oc4me.nc",
           "type": "application/x-netcdf"
          },
          "downloadLink": {
           "alternate": {
            "origin": {
             "href": "https://zipper.creodias.eu/odata/v1/Products(a54fb373-f5da-4428-9b49-00d20544cf71)/$value",
             "title": "Origin asset link"
            }
           },
           "href": "https://hda.data.destination-earth.eu/stac/collections/EO.EUM.DAT.SENTINEL-3.OL_2_WFR___/items/S3B_OL_2_WFR____20240602T083944_20240602T084244_20240602T104217_0179_093_335_1800_MAR_O_NR_003/download?provider=dedl",
           "storage:tier": "ONLINE",
           "title": "Download link",
           "type": "application/zip"
          },
          "geo_coordinates.nc": {
           "alternate": {
            "origin": {
             "href": "s3://eodata/Sentinel-3/OLCI/OL_2_WFR___/2024/06/02/S3B_OL_2_WFR____20240602T083944_20240602T084244_20240602T104217_0179_093_335_1800_MAR_O_NR_003.SEN3/geo_coordinates.nc",
             "title": "Origin asset link",
             "type": "application/x-netcdf"
            }
           },
           "href": "https://hda.data.destination-earth.eu/stac/collections/EO.EUM.DAT.SENTINEL-3.OL_2_WFR___/items/S3B_OL_2_WFR____20240602T083944_20240602T084244_20240602T104217_0179_093_335_1800_MAR_O_NR_003/download/geo_coordinates.nc?provider=dedl",
           "roles": [
            "data"
           ],
           "title": "geo_coordinates.nc",
           "type": "application/x-netcdf"
          },
          "instrument_data.nc": {
           "alternate": {
            "origin": {
             "href": "s3://eodata/Sentinel-3/OLCI/OL_2_WFR___/2024/06/02/S3B_OL_2_WFR____20240602T083944_20240602T084244_20240602T104217_0179_093_335_1800_MAR_O_NR_003.SEN3/instrument_data.nc",
             "title": "Origin asset link",
             "type": "application/x-netcdf"
            }
           },
           "href": "https://hda.data.destination-earth.eu/stac/collections/EO.EUM.DAT.SENTINEL-3.OL_2_WFR___/items/S3B_OL_2_WFR____20240602T083944_20240602T084244_20240602T104217_0179_093_335_1800_MAR_O_NR_003/download/instrument_data.nc?provider=dedl",
           "roles": [
            "data"
           ],
           "title": "instrument_data.nc",
           "type": "application/x-netcdf"
          },
          "iop_lsd.nc": {
           "alternate": {
            "origin": {
             "href": "s3://eodata/Sentinel-3/OLCI/OL_2_WFR___/2024/06/02/S3B_OL_2_WFR____20240602T083944_20240602T084244_20240602T104217_0179_093_335_1800_MAR_O_NR_003.SEN3/iop_lsd.nc",
             "title": "Origin asset link",
             "type": "application/x-netcdf"
            }
           },
           "href": "https://hda.data.destination-earth.eu/stac/collections/EO.EUM.DAT.SENTINEL-3.OL_2_WFR___/items/S3B_OL_2_WFR____20240602T083944_20240602T084244_20240602T104217_0179_093_335_1800_MAR_O_NR_003/download/iop_lsd.nc?provider=dedl",
           "roles": [
            "data"
           ],
           "title": "iop_lsd.nc",
           "type": "application/x-netcdf"
          },
          "iop_nn.nc": {
           "alternate": {
            "origin": {
             "href": "s3://eodata/Sentinel-3/OLCI/OL_2_WFR___/2024/06/02/S3B_OL_2_WFR____20240602T083944_20240602T084244_20240602T104217_0179_093_335_1800_MAR_O_NR_003.SEN3/iop_nn.nc",
             "title": "Origin asset link",
             "type": "application/x-netcdf"
            }
           },
           "href": "https://hda.data.destination-earth.eu/stac/collections/EO.EUM.DAT.SENTINEL-3.OL_2_WFR___/items/S3B_OL_2_WFR____20240602T083944_20240602T084244_20240602T104217_0179_093_335_1800_MAR_O_NR_003/download/iop_nn.nc?provider=dedl",
           "roles": [
            "data"
           ],
           "title": "iop_nn.nc",
           "type": "application/x-netcdf"
          },
          "iwv.nc": {
           "alternate": {
            "origin": {
             "href": "s3://eodata/Sentinel-3/OLCI/OL_2_WFR___/2024/06/02/S3B_OL_2_WFR____20240602T083944_20240602T084244_20240602T104217_0179_093_335_1800_MAR_O_NR_003.SEN3/iwv.nc",
             "title": "Origin asset link",
             "type": "application/x-netcdf"
            }
           },
           "href": "https://hda.data.destination-earth.eu/stac/collections/EO.EUM.DAT.SENTINEL-3.OL_2_WFR___/items/S3B_OL_2_WFR____20240602T083944_20240602T084244_20240602T104217_0179_093_335_1800_MAR_O_NR_003/download/iwv.nc?provider=dedl",
           "roles": [
            "data"
           ],
           "title": "iwv.nc",
           "type": "application/x-netcdf"
          },
          "manifest.xml": {
           "alternate": {
            "origin": {
             "href": "s3://eodata/Sentinel-3/OLCI/OL_2_WFR___/2024/06/02/S3B_OL_2_WFR____20240602T083944_20240602T084244_20240602T104217_0179_093_335_1800_MAR_O_NR_003.SEN3/manifest.xml",
             "title": "Origin asset link",
             "type": "text/xml"
            }
           },
           "href": "https://hda.data.destination-earth.eu/stac/collections/EO.EUM.DAT.SENTINEL-3.OL_2_WFR___/items/S3B_OL_2_WFR____20240602T083944_20240602T084244_20240602T104217_0179_093_335_1800_MAR_O_NR_003/download/manifest.xml?provider=dedl",
           "roles": [
            "metadata"
           ],
           "title": "manifest.xml",
           "type": "text/xml"
          },
          "par.nc": {
           "alternate": {
            "origin": {
             "href": "s3://eodata/Sentinel-3/OLCI/OL_2_WFR___/2024/06/02/S3B_OL_2_WFR____20240602T083944_20240602T084244_20240602T104217_0179_093_335_1800_MAR_O_NR_003.SEN3/par.nc",
             "title": "Origin asset link",
             "type": "application/x-netcdf"
            }
           },
           "href": "https://hda.data.destination-earth.eu/stac/collections/EO.EUM.DAT.SENTINEL-3.OL_2_WFR___/items/S3B_OL_2_WFR____20240602T083944_20240602T084244_20240602T104217_0179_093_335_1800_MAR_O_NR_003/download/par.nc?provider=dedl",
           "roles": [
            "data"
           ],
           "title": "par.nc",
           "type": "application/x-netcdf"
          },
          "tie_geo_coordinates.nc": {
           "alternate": {
            "origin": {
             "href": "s3://eodata/Sentinel-3/OLCI/OL_2_WFR___/2024/06/02/S3B_OL_2_WFR____20240602T083944_20240602T084244_20240602T104217_0179_093_335_1800_MAR_O_NR_003.SEN3/tie_geo_coordinates.nc",
             "title": "Origin asset link",
             "type": "application/x-netcdf"
            }
           },
           "href": "https://hda.data.destination-earth.eu/stac/collections/EO.EUM.DAT.SENTINEL-3.OL_2_WFR___/items/S3B_OL_2_WFR____20240602T083944_20240602T084244_20240602T104217_0179_093_335_1800_MAR_O_NR_003/download/tie_geo_coordinates.nc?provider=dedl",
           "roles": [
            "data"
           ],
           "title": "tie_geo_coordinates.nc",
           "type": "application/x-netcdf"
          },
          "tie_geometries.nc": {
           "alternate": {
            "origin": {
             "href": "s3://eodata/Sentinel-3/OLCI/OL_2_WFR___/2024/06/02/S3B_OL_2_WFR____20240602T083944_20240602T084244_20240602T104217_0179_093_335_1800_MAR_O_NR_003.SEN3/tie_geometries.nc",
             "title": "Origin asset link",
             "type": "application/x-netcdf"
            }
           },
           "href": "https://hda.data.destination-earth.eu/stac/collections/EO.EUM.DAT.SENTINEL-3.OL_2_WFR___/items/S3B_OL_2_WFR____20240602T083944_20240602T084244_20240602T104217_0179_093_335_1800_MAR_O_NR_003/download/tie_geometries.nc?provider=dedl",
           "roles": [
            "data"
           ],
           "title": "tie_geometries.nc",
           "type": "application/x-netcdf"
          },
          "tie_meteo.nc": {
           "alternate": {
            "origin": {
             "href": "s3://eodata/Sentinel-3/OLCI/OL_2_WFR___/2024/06/02/S3B_OL_2_WFR____20240602T083944_20240602T084244_20240602T104217_0179_093_335_1800_MAR_O_NR_003.SEN3/tie_meteo.nc",
             "title": "Origin asset link",
             "type": "application/x-netcdf"
            }
           },
           "href": "https://hda.data.destination-earth.eu/stac/collections/EO.EUM.DAT.SENTINEL-3.OL_2_WFR___/items/S3B_OL_2_WFR____20240602T083944_20240602T084244_20240602T104217_0179_093_335_1800_MAR_O_NR_003/download/tie_meteo.nc?provider=dedl",
           "roles": [
            "data"
           ],
           "title": "tie_meteo.nc",
           "type": "application/x-netcdf"
          },
          "time_coordinates.nc": {
           "alternate": {
            "origin": {
             "href": "s3://eodata/Sentinel-3/OLCI/OL_2_WFR___/2024/06/02/S3B_OL_2_WFR____20240602T083944_20240602T084244_20240602T104217_0179_093_335_1800_MAR_O_NR_003.SEN3/time_coordinates.nc",
             "title": "Origin asset link",
             "type": "application/x-netcdf"
            }
           },
           "href": "https://hda.data.destination-earth.eu/stac/collections/EO.EUM.DAT.SENTINEL-3.OL_2_WFR___/items/S3B_OL_2_WFR____20240602T083944_20240602T084244_20240602T104217_0179_093_335_1800_MAR_O_NR_003/download/time_coordinates.nc?provider=dedl",
           "roles": [
            "data"
           ],
           "title": "time_coordinates.nc",
           "type": "application/x-netcdf"
          },
          "trsp.nc": {
           "alternate": {
            "origin": {
             "href": "s3://eodata/Sentinel-3/OLCI/OL_2_WFR___/2024/06/02/S3B_OL_2_WFR____20240602T083944_20240602T084244_20240602T104217_0179_093_335_1800_MAR_O_NR_003.SEN3/trsp.nc",
             "title": "Origin asset link",
             "type": "application/x-netcdf"
            }
           },
           "href": "https://hda.data.destination-earth.eu/stac/collections/EO.EUM.DAT.SENTINEL-3.OL_2_WFR___/items/S3B_OL_2_WFR____20240602T083944_20240602T084244_20240602T104217_0179_093_335_1800_MAR_O_NR_003/download/trsp.nc?provider=dedl",
           "roles": [
            "data"
           ],
           "title": "trsp.nc",
           "type": "application/x-netcdf"
          },
          "tsm_nn.nc": {
           "alternate": {
            "origin": {
             "href": "s3://eodata/Sentinel-3/OLCI/OL_2_WFR___/2024/06/02/S3B_OL_2_WFR____20240602T083944_20240602T084244_20240602T104217_0179_093_335_1800_MAR_O_NR_003.SEN3/tsm_nn.nc",
             "title": "Origin asset link",
             "type": "application/x-netcdf"
            }
           },
           "href": "https://hda.data.destination-earth.eu/stac/collections/EO.EUM.DAT.SENTINEL-3.OL_2_WFR___/items/S3B_OL_2_WFR____20240602T083944_20240602T084244_20240602T104217_0179_093_335_1800_MAR_O_NR_003/download/tsm_nn.nc?provider=dedl",
           "roles": [
            "data"
           ],
           "title": "tsm_nn.nc",
           "type": "application/x-netcdf"
          },
          "w_aer.nc": {
           "alternate": {
            "origin": {
             "href": "s3://eodata/Sentinel-3/OLCI/OL_2_WFR___/2024/06/02/S3B_OL_2_WFR____20240602T083944_20240602T084244_20240602T104217_0179_093_335_1800_MAR_O_NR_003.SEN3/w_aer.nc",
             "title": "Origin asset link",
             "type": "application/x-netcdf"
            }
           },
           "href": "https://hda.data.destination-earth.eu/stac/collections/EO.EUM.DAT.SENTINEL-3.OL_2_WFR___/items/S3B_OL_2_WFR____20240602T083944_20240602T084244_20240602T104217_0179_093_335_1800_MAR_O_NR_003/download/w_aer.nc?provider=dedl",
           "roles": [
            "data"
           ],
           "title": "w_aer.nc",
           "type": "application/x-netcdf"
          },
          "wqsf.nc": {
           "alternate": {
            "origin": {
             "href": "s3://eodata/Sentinel-3/OLCI/OL_2_WFR___/2024/06/02/S3B_OL_2_WFR____20240602T083944_20240602T084244_20240602T104217_0179_093_335_1800_MAR_O_NR_003.SEN3/wqsf.nc",
             "title": "Origin asset link",
             "type": "application/x-netcdf"
            }
           },
           "href": "https://hda.data.destination-earth.eu/stac/collections/EO.EUM.DAT.SENTINEL-3.OL_2_WFR___/items/S3B_OL_2_WFR____20240602T083944_20240602T084244_20240602T104217_0179_093_335_1800_MAR_O_NR_003/download/wqsf.nc?provider=dedl",
           "roles": [
            "data"
           ],
           "title": "wqsf.nc",
           "type": "application/x-netcdf"
          },
          "xfdumanifest.xml": {
           "alternate": {
            "origin": {
             "href": "s3://eodata/Sentinel-3/OLCI/OL_2_WFR___/2024/06/02/S3B_OL_2_WFR____20240602T083944_20240602T084244_20240602T104217_0179_093_335_1800_MAR_O_NR_003.SEN3/xfdumanifest.xml",
             "title": "Origin asset link",
             "type": "text/xml"
            }
           },
           "href": "https://hda.data.destination-earth.eu/stac/collections/EO.EUM.DAT.SENTINEL-3.OL_2_WFR___/items/S3B_OL_2_WFR____20240602T083944_20240602T084244_20240602T104217_0179_093_335_1800_MAR_O_NR_003/download/xfdumanifest.xml?provider=dedl",
           "roles": [
            "metadata"
           ],
           "title": "xfdumanifest.xml",
           "type": "text/xml"
          }
         },
         "bbox": [
          17.0537,
          59.9668,
          53.7921,
          73.3568
         ],
         "collection": "EO.EUM.DAT.SENTINEL-3.OL_2_WFR___",
         "geometry": {
          "coordinates": [
           [
            [
             17.0537,
             62.9227
            ],
            [
             18.4134,
             62.8773
            ],
            [
             19.7564,
             62.818
            ],
            [
             21.1027,
             62.7455
            ],
            [
             22.4464,
             62.6625
            ],
            [
             23.7785,
             62.5644
            ],
            [
             25.0991,
             62.454
            ],
            [
             26.4039,
             62.3313
            ],
            [
             27.7006,
             62.1964
            ],
            [
             28.9894,
             62.0491
            ],
            [
             30.2626,
             61.8909
            ],
            [
             31.5226,
             61.7206
            ],
            [
             32.7684,
             61.5416
            ],
            [
             34.0029,
             61.3464
            ],
            [
             35.2178,
             61.1426
            ],
            [
             36.4153,
             60.9283
            ],
            [
             37.5969,
             60.703
            ],
            [
             38.7655,
             60.467
            ],
            [
             39.9159,
             60.221
            ],
            [
             41.0486,
             59.9668
            ],
            [
             43.4864,
             62.404
            ],
            [
             46.3414,
             64.8018
            ],
            [
             49.7236,
             67.1384
            ],
            [
             53.7921,
             69.3935
            ],
            [
             52.3362,
             69.7466
            ],
            [
             50.8349,
             70.0883
            ],
            [
             49.2763,
             70.4184
            ],
            [
             47.6786,
             70.733
            ],
            [
             46.0253,
             71.0339
            ],
            [
             44.3198,
             71.32
            ],
            [
             42.5748,
             71.5906
            ],
            [
             40.7702,
             71.8418
            ],
            [
             38.9193,
             72.0783
            ],
            [
             37.026,
             72.2989
            ],
            [
             35.0897,
             72.496
            ],
            [
             33.112,
             72.6768
            ],
            [
             31.0987,
             72.8378
            ],
            [
             29.0477,
             72.9783
            ],
            [
             26.964,
             73.098
            ],
            [
             24.849,
             73.1967
            ],
            [
             22.7161,
             73.2709
            ],
            [
             20.5815,
             73.3254
            ],
            [
             18.4184,
             73.3568
            ],
            [
             18.1008,
             70.7481
            ],
            [
             17.7645,
             68.1383
            ],
            [
             17.4138,
             65.5272
            ],
            [
             17.0537,
             62.9227
            ]
           ]
          ],
          "type": "Polygon"
         },
         "id": "S3B_OL_2_WFR____20240602T083944_20240602T084244_20240602T104217_0179_093_335_1800_MAR_O_NR_003",
         "links": [
          {
           "href": "https://hda.data.destination-earth.eu/stac/collections/EO.EUM.DAT.SENTINEL-3.OL_2_WFR___/items/S3B_OL_2_WFR____20240602T083944_20240602T084244_20240602T104217_0179_093_335_1800_MAR_O_NR_003",
           "rel": "self",
           "title": "S3B_OL_2_WFR____20240602T083944_20240602T084244_20240602T104217_0179_093_335_1800_MAR_O_NR_003"
          },
          {
           "href": "https://hda.data.destination-earth.eu/stac/",
           "rel": "root"
          },
          {
           "href": "https://hda.data.destination-earth.eu/stac/collections/EO.EUM.DAT.SENTINEL-3.OL_2_WFR___",
           "rel": "parent",
           "title": "EO.EUM.DAT.SENTINEL-3.OL_2_WFR___"
          },
          {
           "href": "https://hda.data.destination-earth.eu/stac/collections/EO.EUM.DAT.SENTINEL-3.OL_2_WFR___",
           "rel": "collection",
           "title": "EO.EUM.DAT.SENTINEL-3.OL_2_WFR___"
          }
         ],
         "properties": {
          "constellation": "SENTINEL-3",
          "datetime": "2024-06-02T08:39:44.309206Z",
          "dedl:alias": "EO.EUM.DAT.SENTINEL-3.OL_2_WFR___",
          "dedl:baselineCollection": "003",
          "dedl:beginningDateTime": "2024-06-02T08:39:44.309206Z",
          "dedl:endingDateTime": "2024-06-02T08:42:44.309206Z",
          "dedl:productIdentifier": "/eodata/Sentinel-3/OLCI/OL_2_WFR___/2024/06/02/S3B_OL_2_WFR____20240602T083944_20240602T084244_20240602T104217_0179_093_335_1800_MAR_O_NR_003.SEN3",
          "dedl:scope": {
           "discover": null,
           "download": "hda-public-data-access",
           "search": "hda-public-data-access"
          },
          "dedl:timeliness": "NR",
          "dedl:uid": "a54fb373-f5da-4428-9b49-00d20544cf71",
          "description": "OLCI (Ocean and Land Colour Instrument) Ocean Colour Geophysical Products. Full Resolution: 300m at nadir. All Sentinel-3 NRT products are available at pick-up point in less than 3h. Level 2 marine products include the following: * water-leaving reflectances in 16 bands, Oa**_reflectance (Baseline Atmospheric Correction (BAC) algorithm, bands: 400, 412, 442, 490, 510, 560, 620, 665, 674, 681, 709, 754, 779, 865, 885, 1024 nanometer (nm)); *algal pigment concentration in clear waters, chl_oc4me (BAC and maximum band ratio algorithm, log10 scaled); *algal pigment concentration in turbid waters, chl_nn (neural net algorithm, log10 scaled); *total suspended matter concentration, tsm_nn (neural net algorithm, log10 scaled); *diffuse attenuation coefficient Kd of downward irradiance at 490 nm, trsp (BAC and M07 algorithm, log10 scaled); *absorption coefficient at 443 nm of coloured detrital and dissolved organic matter, iop_nn (neural net algorithm, log10 scaled); *instantaneous photosynthetically active radiation, PAR (BAC and clear-sky ocean algorithm); *aerosol optical thickness T865 and aerosol Angstrom exponent A865, w_aer (BAC algorithm, A for bands 779 and 865 nm) *integrated water vapour column, iwv (1D-Var algorithm). The geophysical products are accompanied by error estimate products. Pixel classification, quality and science flags, as well as meteorological, geometry and geolocation data at tie points are provided.\n\n- All Sentinel-3 NRT products are available at pick-up point in less than 3h\n- All Sentinel-3 Non Time Critical (NTC) products are available at pick-up point in less than 30 days\nSentinel-3 is part of a series of Sentinel satellites, under the umbrella of the EU Copernicus programme.",
          "end_datetime": "2024-06-02T08:42:44.309206Z",
          "instruments": [
           "OLCI"
          ],
          "license": "proprietary",
          "order:status": "succeeded",
          "platform": "SENTINEL-3A,SENTINEL-3B",
          "processing:level": 2,
          "providers": [
           {
            "description": "DestineE Data Lake Fresh Data Pool",
            "name": "dedl",
            "priority": 1,
            "roles": [
             "host"
            ],
            "url": "https://creodias.eu/"
           }
          ],
          "published": "2024-06-02T10:50:49.661620Z",
          "sar:instrument_mode": "Earth Observation",
          "sar:product_type": "OL_2_WFR___",
          "sat:absolute_orbit": 31792,
          "sat:orbit_state": "DESCENDING",
          "sat:relative_orbit": 335,
          "start_datetime": "2024-06-02T08:39:44.309206Z",
          "updated": "2024-06-02T10:50:52.999417Z"
         },
         "stac_extensions": [
          "https://stac-extensions.github.io/timestamps/v1.0.0/schema.json",
          "https://stac-extensions.github.io/processing/v1.0.0/schema.json",
          "https://stac-extensions.github.io/sat/v1.0.0/schema.json",
          "https://stac-extensions.github.io/sar/v1.0.0/schema.json",
          "https://stac-extensions.github.io/order/v1.1.0/schema.json"
         ],
         "stac_version": "1.0.0",
         "type": "Feature"
        },
        {
         "assets": {
          "EOPMetadata.xml": {
           "alternate": {
            "origin": {
             "href": "s3://eodata/Sentinel-3/OLCI/OL_2_WFR___/2024/06/02/S3B_OL_2_WFR____20240602T084244_20240602T084544_20240603T162814_0179_093_335_1980_MAR_O_NT_003.SEN3/EOPMetadata.xml",
             "title": "Origin asset link",
             "type": "text/xml"
            }
           },
           "href": "https://hda.data.destination-earth.eu/stac/collections/EO.EUM.DAT.SENTINEL-3.OL_2_WFR___/items/S3B_OL_2_WFR____20240602T084244_20240602T084544_20240603T162814_0179_093_335_1980_MAR_O_NT_003/download/EOPMetadata.xml?provider=dedl",
           "roles": [
            "metadata"
           ],
           "title": "EOPMetadata.xml",
           "type": "text/xml"
          },
          "Oa01_reflectance.nc": {
           "alternate": {
            "origin": {
             "href": "s3://eodata/Sentinel-3/OLCI/OL_2_WFR___/2024/06/02/S3B_OL_2_WFR____20240602T084244_20240602T084544_20240603T162814_0179_093_335_1980_MAR_O_NT_003.SEN3/Oa01_reflectance.nc",
             "title": "Origin asset link",
             "type": "application/x-netcdf"
            }
           },
           "href": "https://hda.data.destination-earth.eu/stac/collections/EO.EUM.DAT.SENTINEL-3.OL_2_WFR___/items/S3B_OL_2_WFR____20240602T084244_20240602T084544_20240603T162814_0179_093_335_1980_MAR_O_NT_003/download/Oa01_reflectance.nc?provider=dedl",
           "roles": [
            "data"
           ],
           "title": "Oa01_reflectance.nc",
           "type": "application/x-netcdf"
          },
          "Oa02_reflectance.nc": {
           "alternate": {
            "origin": {
             "href": "s3://eodata/Sentinel-3/OLCI/OL_2_WFR___/2024/06/02/S3B_OL_2_WFR____20240602T084244_20240602T084544_20240603T162814_0179_093_335_1980_MAR_O_NT_003.SEN3/Oa02_reflectance.nc",
             "title": "Origin asset link",
             "type": "application/x-netcdf"
            }
           },
           "href": "https://hda.data.destination-earth.eu/stac/collections/EO.EUM.DAT.SENTINEL-3.OL_2_WFR___/items/S3B_OL_2_WFR____20240602T084244_20240602T084544_20240603T162814_0179_093_335_1980_MAR_O_NT_003/download/Oa02_reflectance.nc?provider=dedl",
           "roles": [
            "data"
           ],
           "title": "Oa02_reflectance.nc",
           "type": "application/x-netcdf"
          },
          "Oa03_reflectance.nc": {
           "alternate": {
            "origin": {
             "href": "s3://eodata/Sentinel-3/OLCI/OL_2_WFR___/2024/06/02/S3B_OL_2_WFR____20240602T084244_20240602T084544_20240603T162814_0179_093_335_1980_MAR_O_NT_003.SEN3/Oa03_reflectance.nc",
             "title": "Origin asset link",
             "type": "application/x-netcdf"
            }
           },
           "href": "https://hda.data.destination-earth.eu/stac/collections/EO.EUM.DAT.SENTINEL-3.OL_2_WFR___/items/S3B_OL_2_WFR____20240602T084244_20240602T084544_20240603T162814_0179_093_335_1980_MAR_O_NT_003/download/Oa03_reflectance.nc?provider=dedl",
           "roles": [
            "data"
           ],
           "title": "Oa03_reflectance.nc",
           "type": "application/x-netcdf"
          },
          "Oa04_reflectance.nc": {
           "alternate": {
            "origin": {
             "href": "s3://eodata/Sentinel-3/OLCI/OL_2_WFR___/2024/06/02/S3B_OL_2_WFR____20240602T084244_20240602T084544_20240603T162814_0179_093_335_1980_MAR_O_NT_003.SEN3/Oa04_reflectance.nc",
             "title": "Origin asset link",
             "type": "application/x-netcdf"
            }
           },
           "href": "https://hda.data.destination-earth.eu/stac/collections/EO.EUM.DAT.SENTINEL-3.OL_2_WFR___/items/S3B_OL_2_WFR____20240602T084244_20240602T084544_20240603T162814_0179_093_335_1980_MAR_O_NT_003/download/Oa04_reflectance.nc?provider=dedl",
           "roles": [
            "data"
           ],
           "title": "Oa04_reflectance.nc",
           "type": "application/x-netcdf"
          },
          "Oa05_reflectance.nc": {
           "alternate": {
            "origin": {
             "href": "s3://eodata/Sentinel-3/OLCI/OL_2_WFR___/2024/06/02/S3B_OL_2_WFR____20240602T084244_20240602T084544_20240603T162814_0179_093_335_1980_MAR_O_NT_003.SEN3/Oa05_reflectance.nc",
             "title": "Origin asset link",
             "type": "application/x-netcdf"
            }
           },
           "href": "https://hda.data.destination-earth.eu/stac/collections/EO.EUM.DAT.SENTINEL-3.OL_2_WFR___/items/S3B_OL_2_WFR____20240602T084244_20240602T084544_20240603T162814_0179_093_335_1980_MAR_O_NT_003/download/Oa05_reflectance.nc?provider=dedl",
           "roles": [
            "data"
           ],
           "title": "Oa05_reflectance.nc",
           "type": "application/x-netcdf"
          },
          "Oa06_reflectance.nc": {
           "alternate": {
            "origin": {
             "href": "s3://eodata/Sentinel-3/OLCI/OL_2_WFR___/2024/06/02/S3B_OL_2_WFR____20240602T084244_20240602T084544_20240603T162814_0179_093_335_1980_MAR_O_NT_003.SEN3/Oa06_reflectance.nc",
             "title": "Origin asset link",
             "type": "application/x-netcdf"
            }
           },
           "href": "https://hda.data.destination-earth.eu/stac/collections/EO.EUM.DAT.SENTINEL-3.OL_2_WFR___/items/S3B_OL_2_WFR____20240602T084244_20240602T084544_20240603T162814_0179_093_335_1980_MAR_O_NT_003/download/Oa06_reflectance.nc?provider=dedl",
           "roles": [
            "data"
           ],
           "title": "Oa06_reflectance.nc",
           "type": "application/x-netcdf"
          },
          "Oa07_reflectance.nc": {
           "alternate": {
            "origin": {
             "href": "s3://eodata/Sentinel-3/OLCI/OL_2_WFR___/2024/06/02/S3B_OL_2_WFR____20240602T084244_20240602T084544_20240603T162814_0179_093_335_1980_MAR_O_NT_003.SEN3/Oa07_reflectance.nc",
             "title": "Origin asset link",
             "type": "application/x-netcdf"
            }
           },
           "href": "https://hda.data.destination-earth.eu/stac/collections/EO.EUM.DAT.SENTINEL-3.OL_2_WFR___/items/S3B_OL_2_WFR____20240602T084244_20240602T084544_20240603T162814_0179_093_335_1980_MAR_O_NT_003/download/Oa07_reflectance.nc?provider=dedl",
           "roles": [
            "data"
           ],
           "title": "Oa07_reflectance.nc",
           "type": "application/x-netcdf"
          },
          "Oa08_reflectance.nc": {
           "alternate": {
            "origin": {
             "href": "s3://eodata/Sentinel-3/OLCI/OL_2_WFR___/2024/06/02/S3B_OL_2_WFR____20240602T084244_20240602T084544_20240603T162814_0179_093_335_1980_MAR_O_NT_003.SEN3/Oa08_reflectance.nc",
             "title": "Origin asset link",
             "type": "application/x-netcdf"
            }
           },
           "href": "https://hda.data.destination-earth.eu/stac/collections/EO.EUM.DAT.SENTINEL-3.OL_2_WFR___/items/S3B_OL_2_WFR____20240602T084244_20240602T084544_20240603T162814_0179_093_335_1980_MAR_O_NT_003/download/Oa08_reflectance.nc?provider=dedl",
           "roles": [
            "data"
           ],
           "title": "Oa08_reflectance.nc",
           "type": "application/x-netcdf"
          },
          "Oa09_reflectance.nc": {
           "alternate": {
            "origin": {
             "href": "s3://eodata/Sentinel-3/OLCI/OL_2_WFR___/2024/06/02/S3B_OL_2_WFR____20240602T084244_20240602T084544_20240603T162814_0179_093_335_1980_MAR_O_NT_003.SEN3/Oa09_reflectance.nc",
             "title": "Origin asset link",
             "type": "application/x-netcdf"
            }
           },
           "href": "https://hda.data.destination-earth.eu/stac/collections/EO.EUM.DAT.SENTINEL-3.OL_2_WFR___/items/S3B_OL_2_WFR____20240602T084244_20240602T084544_20240603T162814_0179_093_335_1980_MAR_O_NT_003/download/Oa09_reflectance.nc?provider=dedl",
           "roles": [
            "data"
           ],
           "title": "Oa09_reflectance.nc",
           "type": "application/x-netcdf"
          },
          "Oa10_reflectance.nc": {
           "alternate": {
            "origin": {
             "href": "s3://eodata/Sentinel-3/OLCI/OL_2_WFR___/2024/06/02/S3B_OL_2_WFR____20240602T084244_20240602T084544_20240603T162814_0179_093_335_1980_MAR_O_NT_003.SEN3/Oa10_reflectance.nc",
             "title": "Origin asset link",
             "type": "application/x-netcdf"
            }
           },
           "href": "https://hda.data.destination-earth.eu/stac/collections/EO.EUM.DAT.SENTINEL-3.OL_2_WFR___/items/S3B_OL_2_WFR____20240602T084244_20240602T084544_20240603T162814_0179_093_335_1980_MAR_O_NT_003/download/Oa10_reflectance.nc?provider=dedl",
           "roles": [
            "data"
           ],
           "title": "Oa10_reflectance.nc",
           "type": "application/x-netcdf"
          },
          "Oa11_reflectance.nc": {
           "alternate": {
            "origin": {
             "href": "s3://eodata/Sentinel-3/OLCI/OL_2_WFR___/2024/06/02/S3B_OL_2_WFR____20240602T084244_20240602T084544_20240603T162814_0179_093_335_1980_MAR_O_NT_003.SEN3/Oa11_reflectance.nc",
             "title": "Origin asset link",
             "type": "application/x-netcdf"
            }
           },
           "href": "https://hda.data.destination-earth.eu/stac/collections/EO.EUM.DAT.SENTINEL-3.OL_2_WFR___/items/S3B_OL_2_WFR____20240602T084244_20240602T084544_20240603T162814_0179_093_335_1980_MAR_O_NT_003/download/Oa11_reflectance.nc?provider=dedl",
           "roles": [
            "data"
           ],
           "title": "Oa11_reflectance.nc",
           "type": "application/x-netcdf"
          },
          "Oa12_reflectance.nc": {
           "alternate": {
            "origin": {
             "href": "s3://eodata/Sentinel-3/OLCI/OL_2_WFR___/2024/06/02/S3B_OL_2_WFR____20240602T084244_20240602T084544_20240603T162814_0179_093_335_1980_MAR_O_NT_003.SEN3/Oa12_reflectance.nc",
             "title": "Origin asset link",
             "type": "application/x-netcdf"
            }
           },
           "href": "https://hda.data.destination-earth.eu/stac/collections/EO.EUM.DAT.SENTINEL-3.OL_2_WFR___/items/S3B_OL_2_WFR____20240602T084244_20240602T084544_20240603T162814_0179_093_335_1980_MAR_O_NT_003/download/Oa12_reflectance.nc?provider=dedl",
           "roles": [
            "data"
           ],
           "title": "Oa12_reflectance.nc",
           "type": "application/x-netcdf"
          },
          "Oa16_reflectance.nc": {
           "alternate": {
            "origin": {
             "href": "s3://eodata/Sentinel-3/OLCI/OL_2_WFR___/2024/06/02/S3B_OL_2_WFR____20240602T084244_20240602T084544_20240603T162814_0179_093_335_1980_MAR_O_NT_003.SEN3/Oa16_reflectance.nc",
             "title": "Origin asset link",
             "type": "application/x-netcdf"
            }
           },
           "href": "https://hda.data.destination-earth.eu/stac/collections/EO.EUM.DAT.SENTINEL-3.OL_2_WFR___/items/S3B_OL_2_WFR____20240602T084244_20240602T084544_20240603T162814_0179_093_335_1980_MAR_O_NT_003/download/Oa16_reflectance.nc?provider=dedl",
           "roles": [
            "data"
           ],
           "title": "Oa16_reflectance.nc",
           "type": "application/x-netcdf"
          },
          "Oa17_reflectance.nc": {
           "alternate": {
            "origin": {
             "href": "s3://eodata/Sentinel-3/OLCI/OL_2_WFR___/2024/06/02/S3B_OL_2_WFR____20240602T084244_20240602T084544_20240603T162814_0179_093_335_1980_MAR_O_NT_003.SEN3/Oa17_reflectance.nc",
             "title": "Origin asset link",
             "type": "application/x-netcdf"
            }
           },
           "href": "https://hda.data.destination-earth.eu/stac/collections/EO.EUM.DAT.SENTINEL-3.OL_2_WFR___/items/S3B_OL_2_WFR____20240602T084244_20240602T084544_20240603T162814_0179_093_335_1980_MAR_O_NT_003/download/Oa17_reflectance.nc?provider=dedl",
           "roles": [
            "data"
           ],
           "title": "Oa17_reflectance.nc",
           "type": "application/x-netcdf"
          },
          "Oa18_reflectance.nc": {
           "alternate": {
            "origin": {
             "href": "s3://eodata/Sentinel-3/OLCI/OL_2_WFR___/2024/06/02/S3B_OL_2_WFR____20240602T084244_20240602T084544_20240603T162814_0179_093_335_1980_MAR_O_NT_003.SEN3/Oa18_reflectance.nc",
             "title": "Origin asset link",
             "type": "application/x-netcdf"
            }
           },
           "href": "https://hda.data.destination-earth.eu/stac/collections/EO.EUM.DAT.SENTINEL-3.OL_2_WFR___/items/S3B_OL_2_WFR____20240602T084244_20240602T084544_20240603T162814_0179_093_335_1980_MAR_O_NT_003/download/Oa18_reflectance.nc?provider=dedl",
           "roles": [
            "data"
           ],
           "title": "Oa18_reflectance.nc",
           "type": "application/x-netcdf"
          },
          "Oa21_reflectance.nc": {
           "alternate": {
            "origin": {
             "href": "s3://eodata/Sentinel-3/OLCI/OL_2_WFR___/2024/06/02/S3B_OL_2_WFR____20240602T084244_20240602T084544_20240603T162814_0179_093_335_1980_MAR_O_NT_003.SEN3/Oa21_reflectance.nc",
             "title": "Origin asset link",
             "type": "application/x-netcdf"
            }
           },
           "href": "https://hda.data.destination-earth.eu/stac/collections/EO.EUM.DAT.SENTINEL-3.OL_2_WFR___/items/S3B_OL_2_WFR____20240602T084244_20240602T084544_20240603T162814_0179_093_335_1980_MAR_O_NT_003/download/Oa21_reflectance.nc?provider=dedl",
           "roles": [
            "data"
           ],
           "title": "Oa21_reflectance.nc",
           "type": "application/x-netcdf"
          },
          "browse.jpg": {
           "alternate": {
            "origin": {
             "href": "s3://eodata/Sentinel-3/OLCI/OL_2_WFR___/2024/06/02/S3B_OL_2_WFR____20240602T084244_20240602T084544_20240603T162814_0179_093_335_1980_MAR_O_NT_003.SEN3/browse.jpg",
             "title": "Origin asset link",
             "type": "image/jpeg"
            }
           },
           "href": "https://hda.data.destination-earth.eu/stac/collections/EO.EUM.DAT.SENTINEL-3.OL_2_WFR___/items/S3B_OL_2_WFR____20240602T084244_20240602T084544_20240603T162814_0179_093_335_1980_MAR_O_NT_003/download/browse.jpg?provider=dedl",
           "roles": [
            "metadata"
           ],
           "title": "browse.jpg",
           "type": "image/jpeg"
          },
          "chl_nn.nc": {
           "alternate": {
            "origin": {
             "href": "s3://eodata/Sentinel-3/OLCI/OL_2_WFR___/2024/06/02/S3B_OL_2_WFR____20240602T084244_20240602T084544_20240603T162814_0179_093_335_1980_MAR_O_NT_003.SEN3/chl_nn.nc",
             "title": "Origin asset link",
             "type": "application/x-netcdf"
            }
           },
           "href": "https://hda.data.destination-earth.eu/stac/collections/EO.EUM.DAT.SENTINEL-3.OL_2_WFR___/items/S3B_OL_2_WFR____20240602T084244_20240602T084544_20240603T162814_0179_093_335_1980_MAR_O_NT_003/download/chl_nn.nc?provider=dedl",
           "roles": [
            "data"
           ],
           "title": "chl_nn.nc",
           "type": "application/x-netcdf"
          },
          "chl_oc4me.nc": {
           "alternate": {
            "origin": {
             "href": "s3://eodata/Sentinel-3/OLCI/OL_2_WFR___/2024/06/02/S3B_OL_2_WFR____20240602T084244_20240602T084544_20240603T162814_0179_093_335_1980_MAR_O_NT_003.SEN3/chl_oc4me.nc",
             "title": "Origin asset link",
             "type": "application/x-netcdf"
            }
           },
           "href": "https://hda.data.destination-earth.eu/stac/collections/EO.EUM.DAT.SENTINEL-3.OL_2_WFR___/items/S3B_OL_2_WFR____20240602T084244_20240602T084544_20240603T162814_0179_093_335_1980_MAR_O_NT_003/download/chl_oc4me.nc?provider=dedl",
           "roles": [
            "data"
           ],
           "title": "chl_oc4me.nc",
           "type": "application/x-netcdf"
          },
          "downloadLink": {
           "alternate": {
            "origin": {
             "href": "https://zipper.creodias.eu/odata/v1/Products(13287b67-8e2e-4d1e-bb3e-ea1f850de5a9)/$value",
             "title": "Origin asset link"
            }
           },
           "href": "https://hda.data.destination-earth.eu/stac/collections/EO.EUM.DAT.SENTINEL-3.OL_2_WFR___/items/S3B_OL_2_WFR____20240602T084244_20240602T084544_20240603T162814_0179_093_335_1980_MAR_O_NT_003/download?provider=dedl",
           "storage:tier": "ONLINE",
           "title": "Download link",
           "type": "application/zip"
          },
          "geo_coordinates.nc": {
           "alternate": {
            "origin": {
             "href": "s3://eodata/Sentinel-3/OLCI/OL_2_WFR___/2024/06/02/S3B_OL_2_WFR____20240602T084244_20240602T084544_20240603T162814_0179_093_335_1980_MAR_O_NT_003.SEN3/geo_coordinates.nc",
             "title": "Origin asset link",
             "type": "application/x-netcdf"
            }
           },
           "href": "https://hda.data.destination-earth.eu/stac/collections/EO.EUM.DAT.SENTINEL-3.OL_2_WFR___/items/S3B_OL_2_WFR____20240602T084244_20240602T084544_20240603T162814_0179_093_335_1980_MAR_O_NT_003/download/geo_coordinates.nc?provider=dedl",
           "roles": [
            "data"
           ],
           "title": "geo_coordinates.nc",
           "type": "application/x-netcdf"
          },
          "instrument_data.nc": {
           "alternate": {
            "origin": {
             "href": "s3://eodata/Sentinel-3/OLCI/OL_2_WFR___/2024/06/02/S3B_OL_2_WFR____20240602T084244_20240602T084544_20240603T162814_0179_093_335_1980_MAR_O_NT_003.SEN3/instrument_data.nc",
             "title": "Origin asset link",
             "type": "application/x-netcdf"
            }
           },
           "href": "https://hda.data.destination-earth.eu/stac/collections/EO.EUM.DAT.SENTINEL-3.OL_2_WFR___/items/S3B_OL_2_WFR____20240602T084244_20240602T084544_20240603T162814_0179_093_335_1980_MAR_O_NT_003/download/instrument_data.nc?provider=dedl",
           "roles": [
            "data"
           ],
           "title": "instrument_data.nc",
           "type": "application/x-netcdf"
          },
          "iop_lsd.nc": {
           "alternate": {
            "origin": {
             "href": "s3://eodata/Sentinel-3/OLCI/OL_2_WFR___/2024/06/02/S3B_OL_2_WFR____20240602T084244_20240602T084544_20240603T162814_0179_093_335_1980_MAR_O_NT_003.SEN3/iop_lsd.nc",
             "title": "Origin asset link",
             "type": "application/x-netcdf"
            }
           },
           "href": "https://hda.data.destination-earth.eu/stac/collections/EO.EUM.DAT.SENTINEL-3.OL_2_WFR___/items/S3B_OL_2_WFR____20240602T084244_20240602T084544_20240603T162814_0179_093_335_1980_MAR_O_NT_003/download/iop_lsd.nc?provider=dedl",
           "roles": [
            "data"
           ],
           "title": "iop_lsd.nc",
           "type": "application/x-netcdf"
          },
          "iop_nn.nc": {
           "alternate": {
            "origin": {
             "href": "s3://eodata/Sentinel-3/OLCI/OL_2_WFR___/2024/06/02/S3B_OL_2_WFR____20240602T084244_20240602T084544_20240603T162814_0179_093_335_1980_MAR_O_NT_003.SEN3/iop_nn.nc",
             "title": "Origin asset link",
             "type": "application/x-netcdf"
            }
           },
           "href": "https://hda.data.destination-earth.eu/stac/collections/EO.EUM.DAT.SENTINEL-3.OL_2_WFR___/items/S3B_OL_2_WFR____20240602T084244_20240602T084544_20240603T162814_0179_093_335_1980_MAR_O_NT_003/download/iop_nn.nc?provider=dedl",
           "roles": [
            "data"
           ],
           "title": "iop_nn.nc",
           "type": "application/x-netcdf"
          },
          "iwv.nc": {
           "alternate": {
            "origin": {
             "href": "s3://eodata/Sentinel-3/OLCI/OL_2_WFR___/2024/06/02/S3B_OL_2_WFR____20240602T084244_20240602T084544_20240603T162814_0179_093_335_1980_MAR_O_NT_003.SEN3/iwv.nc",
             "title": "Origin asset link",
             "type": "application/x-netcdf"
            }
           },
           "href": "https://hda.data.destination-earth.eu/stac/collections/EO.EUM.DAT.SENTINEL-3.OL_2_WFR___/items/S3B_OL_2_WFR____20240602T084244_20240602T084544_20240603T162814_0179_093_335_1980_MAR_O_NT_003/download/iwv.nc?provider=dedl",
           "roles": [
            "data"
           ],
           "title": "iwv.nc",
           "type": "application/x-netcdf"
          },
          "manifest.xml": {
           "alternate": {
            "origin": {
             "href": "s3://eodata/Sentinel-3/OLCI/OL_2_WFR___/2024/06/02/S3B_OL_2_WFR____20240602T084244_20240602T084544_20240603T162814_0179_093_335_1980_MAR_O_NT_003.SEN3/manifest.xml",
             "title": "Origin asset link",
             "type": "text/xml"
            }
           },
           "href": "https://hda.data.destination-earth.eu/stac/collections/EO.EUM.DAT.SENTINEL-3.OL_2_WFR___/items/S3B_OL_2_WFR____20240602T084244_20240602T084544_20240603T162814_0179_093_335_1980_MAR_O_NT_003/download/manifest.xml?provider=dedl",
           "roles": [
            "metadata"
           ],
           "title": "manifest.xml",
           "type": "text/xml"
          },
          "par.nc": {
           "alternate": {
            "origin": {
             "href": "s3://eodata/Sentinel-3/OLCI/OL_2_WFR___/2024/06/02/S3B_OL_2_WFR____20240602T084244_20240602T084544_20240603T162814_0179_093_335_1980_MAR_O_NT_003.SEN3/par.nc",
             "title": "Origin asset link",
             "type": "application/x-netcdf"
            }
           },
           "href": "https://hda.data.destination-earth.eu/stac/collections/EO.EUM.DAT.SENTINEL-3.OL_2_WFR___/items/S3B_OL_2_WFR____20240602T084244_20240602T084544_20240603T162814_0179_093_335_1980_MAR_O_NT_003/download/par.nc?provider=dedl",
           "roles": [
            "data"
           ],
           "title": "par.nc",
           "type": "application/x-netcdf"
          },
          "tie_geo_coordinates.nc": {
           "alternate": {
            "origin": {
             "href": "s3://eodata/Sentinel-3/OLCI/OL_2_WFR___/2024/06/02/S3B_OL_2_WFR____20240602T084244_20240602T084544_20240603T162814_0179_093_335_1980_MAR_O_NT_003.SEN3/tie_geo_coordinates.nc",
             "title": "Origin asset link",
             "type": "application/x-netcdf"
            }
           },
           "href": "https://hda.data.destination-earth.eu/stac/collections/EO.EUM.DAT.SENTINEL-3.OL_2_WFR___/items/S3B_OL_2_WFR____20240602T084244_20240602T084544_20240603T162814_0179_093_335_1980_MAR_O_NT_003/download/tie_geo_coordinates.nc?provider=dedl",
           "roles": [
            "data"
           ],
           "title": "tie_geo_coordinates.nc",
           "type": "application/x-netcdf"
          },
          "tie_geometries.nc": {
           "alternate": {
            "origin": {
             "href": "s3://eodata/Sentinel-3/OLCI/OL_2_WFR___/2024/06/02/S3B_OL_2_WFR____20240602T084244_20240602T084544_20240603T162814_0179_093_335_1980_MAR_O_NT_003.SEN3/tie_geometries.nc",
             "title": "Origin asset link",
             "type": "application/x-netcdf"
            }
           },
           "href": "https://hda.data.destination-earth.eu/stac/collections/EO.EUM.DAT.SENTINEL-3.OL_2_WFR___/items/S3B_OL_2_WFR____20240602T084244_20240602T084544_20240603T162814_0179_093_335_1980_MAR_O_NT_003/download/tie_geometries.nc?provider=dedl",
           "roles": [
            "data"
           ],
           "title": "tie_geometries.nc",
           "type": "application/x-netcdf"
          },
          "tie_meteo.nc": {
           "alternate": {
            "origin": {
             "href": "s3://eodata/Sentinel-3/OLCI/OL_2_WFR___/2024/06/02/S3B_OL_2_WFR____20240602T084244_20240602T084544_20240603T162814_0179_093_335_1980_MAR_O_NT_003.SEN3/tie_meteo.nc",
             "title": "Origin asset link",
             "type": "application/x-netcdf"
            }
           },
           "href": "https://hda.data.destination-earth.eu/stac/collections/EO.EUM.DAT.SENTINEL-3.OL_2_WFR___/items/S3B_OL_2_WFR____20240602T084244_20240602T084544_20240603T162814_0179_093_335_1980_MAR_O_NT_003/download/tie_meteo.nc?provider=dedl",
           "roles": [
            "data"
           ],
           "title": "tie_meteo.nc",
           "type": "application/x-netcdf"
          },
          "time_coordinates.nc": {
           "alternate": {
            "origin": {
             "href": "s3://eodata/Sentinel-3/OLCI/OL_2_WFR___/2024/06/02/S3B_OL_2_WFR____20240602T084244_20240602T084544_20240603T162814_0179_093_335_1980_MAR_O_NT_003.SEN3/time_coordinates.nc",
             "title": "Origin asset link",
             "type": "application/x-netcdf"
            }
           },
           "href": "https://hda.data.destination-earth.eu/stac/collections/EO.EUM.DAT.SENTINEL-3.OL_2_WFR___/items/S3B_OL_2_WFR____20240602T084244_20240602T084544_20240603T162814_0179_093_335_1980_MAR_O_NT_003/download/time_coordinates.nc?provider=dedl",
           "roles": [
            "data"
           ],
           "title": "time_coordinates.nc",
           "type": "application/x-netcdf"
          },
          "trsp.nc": {
           "alternate": {
            "origin": {
             "href": "s3://eodata/Sentinel-3/OLCI/OL_2_WFR___/2024/06/02/S3B_OL_2_WFR____20240602T084244_20240602T084544_20240603T162814_0179_093_335_1980_MAR_O_NT_003.SEN3/trsp.nc",
             "title": "Origin asset link",
             "type": "application/x-netcdf"
            }
           },
           "href": "https://hda.data.destination-earth.eu/stac/collections/EO.EUM.DAT.SENTINEL-3.OL_2_WFR___/items/S3B_OL_2_WFR____20240602T084244_20240602T084544_20240603T162814_0179_093_335_1980_MAR_O_NT_003/download/trsp.nc?provider=dedl",
           "roles": [
            "data"
           ],
           "title": "trsp.nc",
           "type": "application/x-netcdf"
          },
          "tsm_nn.nc": {
           "alternate": {
            "origin": {
             "href": "s3://eodata/Sentinel-3/OLCI/OL_2_WFR___/2024/06/02/S3B_OL_2_WFR____20240602T084244_20240602T084544_20240603T162814_0179_093_335_1980_MAR_O_NT_003.SEN3/tsm_nn.nc",
             "title": "Origin asset link",
             "type": "application/x-netcdf"
            }
           },
           "href": "https://hda.data.destination-earth.eu/stac/collections/EO.EUM.DAT.SENTINEL-3.OL_2_WFR___/items/S3B_OL_2_WFR____20240602T084244_20240602T084544_20240603T162814_0179_093_335_1980_MAR_O_NT_003/download/tsm_nn.nc?provider=dedl",
           "roles": [
            "data"
           ],
           "title": "tsm_nn.nc",
           "type": "application/x-netcdf"
          },
          "w_aer.nc": {
           "alternate": {
            "origin": {
             "href": "s3://eodata/Sentinel-3/OLCI/OL_2_WFR___/2024/06/02/S3B_OL_2_WFR____20240602T084244_20240602T084544_20240603T162814_0179_093_335_1980_MAR_O_NT_003.SEN3/w_aer.nc",
             "title": "Origin asset link",
             "type": "application/x-netcdf"
            }
           },
           "href": "https://hda.data.destination-earth.eu/stac/collections/EO.EUM.DAT.SENTINEL-3.OL_2_WFR___/items/S3B_OL_2_WFR____20240602T084244_20240602T084544_20240603T162814_0179_093_335_1980_MAR_O_NT_003/download/w_aer.nc?provider=dedl",
           "roles": [
            "data"
           ],
           "title": "w_aer.nc",
           "type": "application/x-netcdf"
          },
          "wqsf.nc": {
           "alternate": {
            "origin": {
             "href": "s3://eodata/Sentinel-3/OLCI/OL_2_WFR___/2024/06/02/S3B_OL_2_WFR____20240602T084244_20240602T084544_20240603T162814_0179_093_335_1980_MAR_O_NT_003.SEN3/wqsf.nc",
             "title": "Origin asset link",
             "type": "application/x-netcdf"
            }
           },
           "href": "https://hda.data.destination-earth.eu/stac/collections/EO.EUM.DAT.SENTINEL-3.OL_2_WFR___/items/S3B_OL_2_WFR____20240602T084244_20240602T084544_20240603T162814_0179_093_335_1980_MAR_O_NT_003/download/wqsf.nc?provider=dedl",
           "roles": [
            "data"
           ],
           "title": "wqsf.nc",
           "type": "application/x-netcdf"
          },
          "xfdumanifest.xml": {
           "alternate": {
            "origin": {
             "href": "s3://eodata/Sentinel-3/OLCI/OL_2_WFR___/2024/06/02/S3B_OL_2_WFR____20240602T084244_20240602T084544_20240603T162814_0179_093_335_1980_MAR_O_NT_003.SEN3/xfdumanifest.xml",
             "title": "Origin asset link",
             "type": "text/xml"
            }
           },
           "href": "https://hda.data.destination-earth.eu/stac/collections/EO.EUM.DAT.SENTINEL-3.OL_2_WFR___/items/S3B_OL_2_WFR____20240602T084244_20240602T084544_20240603T162814_0179_093_335_1980_MAR_O_NT_003/download/xfdumanifest.xml?provider=dedl",
           "roles": [
            "metadata"
           ],
           "title": "xfdumanifest.xml",
           "type": "text/xml"
          }
         },
         "bbox": [
          15.5325,
          49.8933,
          41.0464,
          62.9201
         ],
         "collection": "EO.EUM.DAT.SENTINEL-3.OL_2_WFR___",
         "geometry": {
          "coordinates": [
           [
            [
             15.5325,
             52.4622
            ],
            [
             16.545,
             52.4018
            ],
            [
             17.5582,
             52.3311
            ],
            [
             18.5633,
             52.2522
            ],
            [
             19.5599,
             52.1679
            ],
            [
             20.5577,
             52.0721
            ],
            [
             21.55,
             51.9681
            ],
            [
             22.5403,
             51.8551
            ],
            [
             23.5201,
             51.7346
            ],
            [
             24.4983,
             51.6083
            ],
            [
             25.4714,
             51.4692
            ],
            [
             26.4345,
             51.3249
            ],
            [
             27.3953,
             51.1748
            ],
            [
             28.3482,
             51.0128
            ],
            [
             29.2952,
             50.8447
            ],
            [
             30.234,
             50.6692
            ],
            [
             31.1665,
             50.4856
            ],
            [
             32.0909,
             50.2952
            ],
            [
             33.0071,
             50.0975
            ],
            [
             33.9193,
             49.8933
            ],
            [
             35.4035,
             52.4407
            ],
            [
             37.06,
             54.9737
            ],
            [
             38.9244,
             57.4835
            ],
            [
             41.0464,
             59.9644
            ],
            [
             39.9137,
             60.2186
            ],
            [
             38.7634,
             60.4646
            ],
            [
             37.5949,
             60.7005
            ],
            [
             36.4133,
             60.9258
            ],
            [
             35.2159,
             61.1401
            ],
            [
             34.0012,
             61.3439
            ],
            [
             32.7668,
             61.5391
            ],
            [
             31.5211,
             61.7181
            ],
            [
             30.2612,
             61.8883
            ],
            [
             28.988,
             62.0466
            ],
            [
             27.6993,
             62.1939
            ],
            [
             26.4027,
             62.3288
            ],
            [
             25.098,
             62.4514
            ],
            [
             23.7775,
             62.5618
            ],
            [
             22.4456,
             62.6599
            ],
            [
             21.102,
             62.7429
            ],
            [
             19.7558,
             62.8155
            ],
            [
             18.4127,
             62.8748
            ],
            [
             17.0534,
             62.9201
            ],
            [
             16.6835,
             60.3065
            ],
            [
             16.3061,
             57.6915
            ],
            [
             15.922,
             55.0751
            ],
            [
             15.5325,
             52.4622
            ]
           ]
          ],
          "type": "Polygon"
         },
         "id": "S3B_OL_2_WFR____20240602T084244_20240602T084544_20240603T162814_0179_093_335_1980_MAR_O_NT_003",
         "links": [
          {
           "href": "https://hda.data.destination-earth.eu/stac/collections/EO.EUM.DAT.SENTINEL-3.OL_2_WFR___/items/S3B_OL_2_WFR____20240602T084244_20240602T084544_20240603T162814_0179_093_335_1980_MAR_O_NT_003",
           "rel": "self",
           "title": "S3B_OL_2_WFR____20240602T084244_20240602T084544_20240603T162814_0179_093_335_1980_MAR_O_NT_003"
          },
          {
           "href": "https://hda.data.destination-earth.eu/stac/",
           "rel": "root"
          },
          {
           "href": "https://hda.data.destination-earth.eu/stac/collections/EO.EUM.DAT.SENTINEL-3.OL_2_WFR___",
           "rel": "parent",
           "title": "EO.EUM.DAT.SENTINEL-3.OL_2_WFR___"
          },
          {
           "href": "https://hda.data.destination-earth.eu/stac/collections/EO.EUM.DAT.SENTINEL-3.OL_2_WFR___",
           "rel": "collection",
           "title": "EO.EUM.DAT.SENTINEL-3.OL_2_WFR___"
          }
         ],
         "properties": {
          "constellation": "SENTINEL-3",
          "datetime": "2024-06-02T08:42:44.309065Z",
          "dedl:alias": "EO.EUM.DAT.SENTINEL-3.OL_2_WFR___",
          "dedl:baselineCollection": "003",
          "dedl:beginningDateTime": "2024-06-02T08:42:44.309065Z",
          "dedl:endingDateTime": "2024-06-02T08:45:44.309065Z",
          "dedl:productIdentifier": "/eodata/Sentinel-3/OLCI/OL_2_WFR___/2024/06/02/S3B_OL_2_WFR____20240602T084244_20240602T084544_20240603T162814_0179_093_335_1980_MAR_O_NT_003.SEN3",
          "dedl:scope": {
           "discover": null,
           "download": "hda-public-data-access",
           "search": "hda-public-data-access"
          },
          "dedl:timeliness": "NT",
          "dedl:uid": "13287b67-8e2e-4d1e-bb3e-ea1f850de5a9",
          "description": "OLCI (Ocean and Land Colour Instrument) Ocean Colour Geophysical Products. Full Resolution: 300m at nadir. All Sentinel-3 NRT products are available at pick-up point in less than 3h. Level 2 marine products include the following: * water-leaving reflectances in 16 bands, Oa**_reflectance (Baseline Atmospheric Correction (BAC) algorithm, bands: 400, 412, 442, 490, 510, 560, 620, 665, 674, 681, 709, 754, 779, 865, 885, 1024 nanometer (nm)); *algal pigment concentration in clear waters, chl_oc4me (BAC and maximum band ratio algorithm, log10 scaled); *algal pigment concentration in turbid waters, chl_nn (neural net algorithm, log10 scaled); *total suspended matter concentration, tsm_nn (neural net algorithm, log10 scaled); *diffuse attenuation coefficient Kd of downward irradiance at 490 nm, trsp (BAC and M07 algorithm, log10 scaled); *absorption coefficient at 443 nm of coloured detrital and dissolved organic matter, iop_nn (neural net algorithm, log10 scaled); *instantaneous photosynthetically active radiation, PAR (BAC and clear-sky ocean algorithm); *aerosol optical thickness T865 and aerosol Angstrom exponent A865, w_aer (BAC algorithm, A for bands 779 and 865 nm) *integrated water vapour column, iwv (1D-Var algorithm). The geophysical products are accompanied by error estimate products. Pixel classification, quality and science flags, as well as meteorological, geometry and geolocation data at tie points are provided.\n\n- All Sentinel-3 NRT products are available at pick-up point in less than 3h\n- All Sentinel-3 Non Time Critical (NTC) products are available at pick-up point in less than 30 days\nSentinel-3 is part of a series of Sentinel satellites, under the umbrella of the EU Copernicus programme.",
          "end_datetime": "2024-06-02T08:45:44.309065Z",
          "instruments": [
           "OLCI"
          ],
          "license": "proprietary",
          "order:status": "succeeded",
          "platform": "SENTINEL-3A,SENTINEL-3B",
          "processing:level": 2,
          "providers": [
           {
            "description": "DestineE Data Lake Fresh Data Pool",
            "name": "dedl",
            "priority": 1,
            "roles": [
             "host"
            ],
            "url": "https://creodias.eu/"
           }
          ],
          "published": "2024-06-03T16:49:03.568971Z",
          "sar:instrument_mode": "Earth Observation",
          "sar:product_type": "OL_2_WFR___",
          "sat:absolute_orbit": 31792,
          "sat:orbit_state": "DESCENDING",
          "sat:relative_orbit": 335,
          "start_datetime": "2024-06-02T08:42:44.309065Z",
          "updated": "2024-06-03T16:55:50.427701Z"
         },
         "stac_extensions": [
          "https://stac-extensions.github.io/timestamps/v1.0.0/schema.json",
          "https://stac-extensions.github.io/processing/v1.0.0/schema.json",
          "https://stac-extensions.github.io/sat/v1.0.0/schema.json",
          "https://stac-extensions.github.io/sar/v1.0.0/schema.json",
          "https://stac-extensions.github.io/order/v1.1.0/schema.json"
         ],
         "stac_version": "1.0.0",
         "type": "Feature"
        },
        {
         "assets": {
          "EOPMetadata.xml": {
           "alternate": {
            "origin": {
             "href": "s3://eodata/Sentinel-3/OLCI/OL_2_WFR___/2024/06/02/S3B_OL_2_WFR____20240602T084244_20240602T084544_20240602T104217_0179_093_335_1980_MAR_O_NR_003.SEN3/EOPMetadata.xml",
             "title": "Origin asset link",
             "type": "text/xml"
            }
           },
           "href": "https://hda.data.destination-earth.eu/stac/collections/EO.EUM.DAT.SENTINEL-3.OL_2_WFR___/items/S3B_OL_2_WFR____20240602T084244_20240602T084544_20240602T104217_0179_093_335_1980_MAR_O_NR_003/download/EOPMetadata.xml?provider=dedl",
           "roles": [
            "metadata"
           ],
           "title": "EOPMetadata.xml",
           "type": "text/xml"
          },
          "Oa01_reflectance.nc": {
           "alternate": {
            "origin": {
             "href": "s3://eodata/Sentinel-3/OLCI/OL_2_WFR___/2024/06/02/S3B_OL_2_WFR____20240602T084244_20240602T084544_20240602T104217_0179_093_335_1980_MAR_O_NR_003.SEN3/Oa01_reflectance.nc",
             "title": "Origin asset link",
             "type": "application/x-netcdf"
            }
           },
           "href": "https://hda.data.destination-earth.eu/stac/collections/EO.EUM.DAT.SENTINEL-3.OL_2_WFR___/items/S3B_OL_2_WFR____20240602T084244_20240602T084544_20240602T104217_0179_093_335_1980_MAR_O_NR_003/download/Oa01_reflectance.nc?provider=dedl",
           "roles": [
            "data"
           ],
           "title": "Oa01_reflectance.nc",
           "type": "application/x-netcdf"
          },
          "Oa02_reflectance.nc": {
           "alternate": {
            "origin": {
             "href": "s3://eodata/Sentinel-3/OLCI/OL_2_WFR___/2024/06/02/S3B_OL_2_WFR____20240602T084244_20240602T084544_20240602T104217_0179_093_335_1980_MAR_O_NR_003.SEN3/Oa02_reflectance.nc",
             "title": "Origin asset link",
             "type": "application/x-netcdf"
            }
           },
           "href": "https://hda.data.destination-earth.eu/stac/collections/EO.EUM.DAT.SENTINEL-3.OL_2_WFR___/items/S3B_OL_2_WFR____20240602T084244_20240602T084544_20240602T104217_0179_093_335_1980_MAR_O_NR_003/download/Oa02_reflectance.nc?provider=dedl",
           "roles": [
            "data"
           ],
           "title": "Oa02_reflectance.nc",
           "type": "application/x-netcdf"
          },
          "Oa03_reflectance.nc": {
           "alternate": {
            "origin": {
             "href": "s3://eodata/Sentinel-3/OLCI/OL_2_WFR___/2024/06/02/S3B_OL_2_WFR____20240602T084244_20240602T084544_20240602T104217_0179_093_335_1980_MAR_O_NR_003.SEN3/Oa03_reflectance.nc",
             "title": "Origin asset link",
             "type": "application/x-netcdf"
            }
           },
           "href": "https://hda.data.destination-earth.eu/stac/collections/EO.EUM.DAT.SENTINEL-3.OL_2_WFR___/items/S3B_OL_2_WFR____20240602T084244_20240602T084544_20240602T104217_0179_093_335_1980_MAR_O_NR_003/download/Oa03_reflectance.nc?provider=dedl",
           "roles": [
            "data"
           ],
           "title": "Oa03_reflectance.nc",
           "type": "application/x-netcdf"
          },
          "Oa04_reflectance.nc": {
           "alternate": {
            "origin": {
             "href": "s3://eodata/Sentinel-3/OLCI/OL_2_WFR___/2024/06/02/S3B_OL_2_WFR____20240602T084244_20240602T084544_20240602T104217_0179_093_335_1980_MAR_O_NR_003.SEN3/Oa04_reflectance.nc",
             "title": "Origin asset link",
             "type": "application/x-netcdf"
            }
           },
           "href": "https://hda.data.destination-earth.eu/stac/collections/EO.EUM.DAT.SENTINEL-3.OL_2_WFR___/items/S3B_OL_2_WFR____20240602T084244_20240602T084544_20240602T104217_0179_093_335_1980_MAR_O_NR_003/download/Oa04_reflectance.nc?provider=dedl",
           "roles": [
            "data"
           ],
           "title": "Oa04_reflectance.nc",
           "type": "application/x-netcdf"
          },
          "Oa05_reflectance.nc": {
           "alternate": {
            "origin": {
             "href": "s3://eodata/Sentinel-3/OLCI/OL_2_WFR___/2024/06/02/S3B_OL_2_WFR____20240602T084244_20240602T084544_20240602T104217_0179_093_335_1980_MAR_O_NR_003.SEN3/Oa05_reflectance.nc",
             "title": "Origin asset link",
             "type": "application/x-netcdf"
            }
           },
           "href": "https://hda.data.destination-earth.eu/stac/collections/EO.EUM.DAT.SENTINEL-3.OL_2_WFR___/items/S3B_OL_2_WFR____20240602T084244_20240602T084544_20240602T104217_0179_093_335_1980_MAR_O_NR_003/download/Oa05_reflectance.nc?provider=dedl",
           "roles": [
            "data"
           ],
           "title": "Oa05_reflectance.nc",
           "type": "application/x-netcdf"
          },
          "Oa06_reflectance.nc": {
           "alternate": {
            "origin": {
             "href": "s3://eodata/Sentinel-3/OLCI/OL_2_WFR___/2024/06/02/S3B_OL_2_WFR____20240602T084244_20240602T084544_20240602T104217_0179_093_335_1980_MAR_O_NR_003.SEN3/Oa06_reflectance.nc",
             "title": "Origin asset link",
             "type": "application/x-netcdf"
            }
           },
           "href": "https://hda.data.destination-earth.eu/stac/collections/EO.EUM.DAT.SENTINEL-3.OL_2_WFR___/items/S3B_OL_2_WFR____20240602T084244_20240602T084544_20240602T104217_0179_093_335_1980_MAR_O_NR_003/download/Oa06_reflectance.nc?provider=dedl",
           "roles": [
            "data"
           ],
           "title": "Oa06_reflectance.nc",
           "type": "application/x-netcdf"
          },
          "Oa07_reflectance.nc": {
           "alternate": {
            "origin": {
             "href": "s3://eodata/Sentinel-3/OLCI/OL_2_WFR___/2024/06/02/S3B_OL_2_WFR____20240602T084244_20240602T084544_20240602T104217_0179_093_335_1980_MAR_O_NR_003.SEN3/Oa07_reflectance.nc",
             "title": "Origin asset link",
             "type": "application/x-netcdf"
            }
           },
           "href": "https://hda.data.destination-earth.eu/stac/collections/EO.EUM.DAT.SENTINEL-3.OL_2_WFR___/items/S3B_OL_2_WFR____20240602T084244_20240602T084544_20240602T104217_0179_093_335_1980_MAR_O_NR_003/download/Oa07_reflectance.nc?provider=dedl",
           "roles": [
            "data"
           ],
           "title": "Oa07_reflectance.nc",
           "type": "application/x-netcdf"
          },
          "Oa08_reflectance.nc": {
           "alternate": {
            "origin": {
             "href": "s3://eodata/Sentinel-3/OLCI/OL_2_WFR___/2024/06/02/S3B_OL_2_WFR____20240602T084244_20240602T084544_20240602T104217_0179_093_335_1980_MAR_O_NR_003.SEN3/Oa08_reflectance.nc",
             "title": "Origin asset link",
             "type": "application/x-netcdf"
            }
           },
           "href": "https://hda.data.destination-earth.eu/stac/collections/EO.EUM.DAT.SENTINEL-3.OL_2_WFR___/items/S3B_OL_2_WFR____20240602T084244_20240602T084544_20240602T104217_0179_093_335_1980_MAR_O_NR_003/download/Oa08_reflectance.nc?provider=dedl",
           "roles": [
            "data"
           ],
           "title": "Oa08_reflectance.nc",
           "type": "application/x-netcdf"
          },
          "Oa09_reflectance.nc": {
           "alternate": {
            "origin": {
             "href": "s3://eodata/Sentinel-3/OLCI/OL_2_WFR___/2024/06/02/S3B_OL_2_WFR____20240602T084244_20240602T084544_20240602T104217_0179_093_335_1980_MAR_O_NR_003.SEN3/Oa09_reflectance.nc",
             "title": "Origin asset link",
             "type": "application/x-netcdf"
            }
           },
           "href": "https://hda.data.destination-earth.eu/stac/collections/EO.EUM.DAT.SENTINEL-3.OL_2_WFR___/items/S3B_OL_2_WFR____20240602T084244_20240602T084544_20240602T104217_0179_093_335_1980_MAR_O_NR_003/download/Oa09_reflectance.nc?provider=dedl",
           "roles": [
            "data"
           ],
           "title": "Oa09_reflectance.nc",
           "type": "application/x-netcdf"
          },
          "Oa10_reflectance.nc": {
           "alternate": {
            "origin": {
             "href": "s3://eodata/Sentinel-3/OLCI/OL_2_WFR___/2024/06/02/S3B_OL_2_WFR____20240602T084244_20240602T084544_20240602T104217_0179_093_335_1980_MAR_O_NR_003.SEN3/Oa10_reflectance.nc",
             "title": "Origin asset link",
             "type": "application/x-netcdf"
            }
           },
           "href": "https://hda.data.destination-earth.eu/stac/collections/EO.EUM.DAT.SENTINEL-3.OL_2_WFR___/items/S3B_OL_2_WFR____20240602T084244_20240602T084544_20240602T104217_0179_093_335_1980_MAR_O_NR_003/download/Oa10_reflectance.nc?provider=dedl",
           "roles": [
            "data"
           ],
           "title": "Oa10_reflectance.nc",
           "type": "application/x-netcdf"
          },
          "Oa11_reflectance.nc": {
           "alternate": {
            "origin": {
             "href": "s3://eodata/Sentinel-3/OLCI/OL_2_WFR___/2024/06/02/S3B_OL_2_WFR____20240602T084244_20240602T084544_20240602T104217_0179_093_335_1980_MAR_O_NR_003.SEN3/Oa11_reflectance.nc",
             "title": "Origin asset link",
             "type": "application/x-netcdf"
            }
           },
           "href": "https://hda.data.destination-earth.eu/stac/collections/EO.EUM.DAT.SENTINEL-3.OL_2_WFR___/items/S3B_OL_2_WFR____20240602T084244_20240602T084544_20240602T104217_0179_093_335_1980_MAR_O_NR_003/download/Oa11_reflectance.nc?provider=dedl",
           "roles": [
            "data"
           ],
           "title": "Oa11_reflectance.nc",
           "type": "application/x-netcdf"
          },
          "Oa12_reflectance.nc": {
           "alternate": {
            "origin": {
             "href": "s3://eodata/Sentinel-3/OLCI/OL_2_WFR___/2024/06/02/S3B_OL_2_WFR____20240602T084244_20240602T084544_20240602T104217_0179_093_335_1980_MAR_O_NR_003.SEN3/Oa12_reflectance.nc",
             "title": "Origin asset link",
             "type": "application/x-netcdf"
            }
           },
           "href": "https://hda.data.destination-earth.eu/stac/collections/EO.EUM.DAT.SENTINEL-3.OL_2_WFR___/items/S3B_OL_2_WFR____20240602T084244_20240602T084544_20240602T104217_0179_093_335_1980_MAR_O_NR_003/download/Oa12_reflectance.nc?provider=dedl",
           "roles": [
            "data"
           ],
           "title": "Oa12_reflectance.nc",
           "type": "application/x-netcdf"
          },
          "Oa16_reflectance.nc": {
           "alternate": {
            "origin": {
             "href": "s3://eodata/Sentinel-3/OLCI/OL_2_WFR___/2024/06/02/S3B_OL_2_WFR____20240602T084244_20240602T084544_20240602T104217_0179_093_335_1980_MAR_O_NR_003.SEN3/Oa16_reflectance.nc",
             "title": "Origin asset link",
             "type": "application/x-netcdf"
            }
           },
           "href": "https://hda.data.destination-earth.eu/stac/collections/EO.EUM.DAT.SENTINEL-3.OL_2_WFR___/items/S3B_OL_2_WFR____20240602T084244_20240602T084544_20240602T104217_0179_093_335_1980_MAR_O_NR_003/download/Oa16_reflectance.nc?provider=dedl",
           "roles": [
            "data"
           ],
           "title": "Oa16_reflectance.nc",
           "type": "application/x-netcdf"
          },
          "Oa17_reflectance.nc": {
           "alternate": {
            "origin": {
             "href": "s3://eodata/Sentinel-3/OLCI/OL_2_WFR___/2024/06/02/S3B_OL_2_WFR____20240602T084244_20240602T084544_20240602T104217_0179_093_335_1980_MAR_O_NR_003.SEN3/Oa17_reflectance.nc",
             "title": "Origin asset link",
             "type": "application/x-netcdf"
            }
           },
           "href": "https://hda.data.destination-earth.eu/stac/collections/EO.EUM.DAT.SENTINEL-3.OL_2_WFR___/items/S3B_OL_2_WFR____20240602T084244_20240602T084544_20240602T104217_0179_093_335_1980_MAR_O_NR_003/download/Oa17_reflectance.nc?provider=dedl",
           "roles": [
            "data"
           ],
           "title": "Oa17_reflectance.nc",
           "type": "application/x-netcdf"
          },
          "Oa18_reflectance.nc": {
           "alternate": {
            "origin": {
             "href": "s3://eodata/Sentinel-3/OLCI/OL_2_WFR___/2024/06/02/S3B_OL_2_WFR____20240602T084244_20240602T084544_20240602T104217_0179_093_335_1980_MAR_O_NR_003.SEN3/Oa18_reflectance.nc",
             "title": "Origin asset link",
             "type": "application/x-netcdf"
            }
           },
           "href": "https://hda.data.destination-earth.eu/stac/collections/EO.EUM.DAT.SENTINEL-3.OL_2_WFR___/items/S3B_OL_2_WFR____20240602T084244_20240602T084544_20240602T104217_0179_093_335_1980_MAR_O_NR_003/download/Oa18_reflectance.nc?provider=dedl",
           "roles": [
            "data"
           ],
           "title": "Oa18_reflectance.nc",
           "type": "application/x-netcdf"
          },
          "Oa21_reflectance.nc": {
           "alternate": {
            "origin": {
             "href": "s3://eodata/Sentinel-3/OLCI/OL_2_WFR___/2024/06/02/S3B_OL_2_WFR____20240602T084244_20240602T084544_20240602T104217_0179_093_335_1980_MAR_O_NR_003.SEN3/Oa21_reflectance.nc",
             "title": "Origin asset link",
             "type": "application/x-netcdf"
            }
           },
           "href": "https://hda.data.destination-earth.eu/stac/collections/EO.EUM.DAT.SENTINEL-3.OL_2_WFR___/items/S3B_OL_2_WFR____20240602T084244_20240602T084544_20240602T104217_0179_093_335_1980_MAR_O_NR_003/download/Oa21_reflectance.nc?provider=dedl",
           "roles": [
            "data"
           ],
           "title": "Oa21_reflectance.nc",
           "type": "application/x-netcdf"
          },
          "browse.jpg": {
           "alternate": {
            "origin": {
             "href": "s3://eodata/Sentinel-3/OLCI/OL_2_WFR___/2024/06/02/S3B_OL_2_WFR____20240602T084244_20240602T084544_20240602T104217_0179_093_335_1980_MAR_O_NR_003.SEN3/browse.jpg",
             "title": "Origin asset link",
             "type": "image/jpeg"
            }
           },
           "href": "https://hda.data.destination-earth.eu/stac/collections/EO.EUM.DAT.SENTINEL-3.OL_2_WFR___/items/S3B_OL_2_WFR____20240602T084244_20240602T084544_20240602T104217_0179_093_335_1980_MAR_O_NR_003/download/browse.jpg?provider=dedl",
           "roles": [
            "metadata"
           ],
           "title": "browse.jpg",
           "type": "image/jpeg"
          },
          "chl_nn.nc": {
           "alternate": {
            "origin": {
             "href": "s3://eodata/Sentinel-3/OLCI/OL_2_WFR___/2024/06/02/S3B_OL_2_WFR____20240602T084244_20240602T084544_20240602T104217_0179_093_335_1980_MAR_O_NR_003.SEN3/chl_nn.nc",
             "title": "Origin asset link",
             "type": "application/x-netcdf"
            }
           },
           "href": "https://hda.data.destination-earth.eu/stac/collections/EO.EUM.DAT.SENTINEL-3.OL_2_WFR___/items/S3B_OL_2_WFR____20240602T084244_20240602T084544_20240602T104217_0179_093_335_1980_MAR_O_NR_003/download/chl_nn.nc?provider=dedl",
           "roles": [
            "data"
           ],
           "title": "chl_nn.nc",
           "type": "application/x-netcdf"
          },
          "chl_oc4me.nc": {
           "alternate": {
            "origin": {
             "href": "s3://eodata/Sentinel-3/OLCI/OL_2_WFR___/2024/06/02/S3B_OL_2_WFR____20240602T084244_20240602T084544_20240602T104217_0179_093_335_1980_MAR_O_NR_003.SEN3/chl_oc4me.nc",
             "title": "Origin asset link",
             "type": "application/x-netcdf"
            }
           },
           "href": "https://hda.data.destination-earth.eu/stac/collections/EO.EUM.DAT.SENTINEL-3.OL_2_WFR___/items/S3B_OL_2_WFR____20240602T084244_20240602T084544_20240602T104217_0179_093_335_1980_MAR_O_NR_003/download/chl_oc4me.nc?provider=dedl",
           "roles": [
            "data"
           ],
           "title": "chl_oc4me.nc",
           "type": "application/x-netcdf"
          },
          "downloadLink": {
           "alternate": {
            "origin": {
             "href": "https://zipper.creodias.eu/odata/v1/Products(8704e73e-41e0-44f7-a715-960ba29adf35)/$value",
             "title": "Origin asset link"
            }
           },
           "href": "https://hda.data.destination-earth.eu/stac/collections/EO.EUM.DAT.SENTINEL-3.OL_2_WFR___/items/S3B_OL_2_WFR____20240602T084244_20240602T084544_20240602T104217_0179_093_335_1980_MAR_O_NR_003/download?provider=dedl",
           "storage:tier": "ONLINE",
           "title": "Download link",
           "type": "application/zip"
          },
          "geo_coordinates.nc": {
           "alternate": {
            "origin": {
             "href": "s3://eodata/Sentinel-3/OLCI/OL_2_WFR___/2024/06/02/S3B_OL_2_WFR____20240602T084244_20240602T084544_20240602T104217_0179_093_335_1980_MAR_O_NR_003.SEN3/geo_coordinates.nc",
             "title": "Origin asset link",
             "type": "application/x-netcdf"
            }
           },
           "href": "https://hda.data.destination-earth.eu/stac/collections/EO.EUM.DAT.SENTINEL-3.OL_2_WFR___/items/S3B_OL_2_WFR____20240602T084244_20240602T084544_20240602T104217_0179_093_335_1980_MAR_O_NR_003/download/geo_coordinates.nc?provider=dedl",
           "roles": [
            "data"
           ],
           "title": "geo_coordinates.nc",
           "type": "application/x-netcdf"
          },
          "instrument_data.nc": {
           "alternate": {
            "origin": {
             "href": "s3://eodata/Sentinel-3/OLCI/OL_2_WFR___/2024/06/02/S3B_OL_2_WFR____20240602T084244_20240602T084544_20240602T104217_0179_093_335_1980_MAR_O_NR_003.SEN3/instrument_data.nc",
             "title": "Origin asset link",
             "type": "application/x-netcdf"
            }
           },
           "href": "https://hda.data.destination-earth.eu/stac/collections/EO.EUM.DAT.SENTINEL-3.OL_2_WFR___/items/S3B_OL_2_WFR____20240602T084244_20240602T084544_20240602T104217_0179_093_335_1980_MAR_O_NR_003/download/instrument_data.nc?provider=dedl",
           "roles": [
            "data"
           ],
           "title": "instrument_data.nc",
           "type": "application/x-netcdf"
          },
          "iop_lsd.nc": {
           "alternate": {
            "origin": {
             "href": "s3://eodata/Sentinel-3/OLCI/OL_2_WFR___/2024/06/02/S3B_OL_2_WFR____20240602T084244_20240602T084544_20240602T104217_0179_093_335_1980_MAR_O_NR_003.SEN3/iop_lsd.nc",
             "title": "Origin asset link",
             "type": "application/x-netcdf"
            }
           },
           "href": "https://hda.data.destination-earth.eu/stac/collections/EO.EUM.DAT.SENTINEL-3.OL_2_WFR___/items/S3B_OL_2_WFR____20240602T084244_20240602T084544_20240602T104217_0179_093_335_1980_MAR_O_NR_003/download/iop_lsd.nc?provider=dedl",
           "roles": [
            "data"
           ],
           "title": "iop_lsd.nc",
           "type": "application/x-netcdf"
          },
          "iop_nn.nc": {
           "alternate": {
            "origin": {
             "href": "s3://eodata/Sentinel-3/OLCI/OL_2_WFR___/2024/06/02/S3B_OL_2_WFR____20240602T084244_20240602T084544_20240602T104217_0179_093_335_1980_MAR_O_NR_003.SEN3/iop_nn.nc",
             "title": "Origin asset link",
             "type": "application/x-netcdf"
            }
           },
           "href": "https://hda.data.destination-earth.eu/stac/collections/EO.EUM.DAT.SENTINEL-3.OL_2_WFR___/items/S3B_OL_2_WFR____20240602T084244_20240602T084544_20240602T104217_0179_093_335_1980_MAR_O_NR_003/download/iop_nn.nc?provider=dedl",
           "roles": [
            "data"
           ],
           "title": "iop_nn.nc",
           "type": "application/x-netcdf"
          },
          "iwv.nc": {
           "alternate": {
            "origin": {
             "href": "s3://eodata/Sentinel-3/OLCI/OL_2_WFR___/2024/06/02/S3B_OL_2_WFR____20240602T084244_20240602T084544_20240602T104217_0179_093_335_1980_MAR_O_NR_003.SEN3/iwv.nc",
             "title": "Origin asset link",
             "type": "application/x-netcdf"
            }
           },
           "href": "https://hda.data.destination-earth.eu/stac/collections/EO.EUM.DAT.SENTINEL-3.OL_2_WFR___/items/S3B_OL_2_WFR____20240602T084244_20240602T084544_20240602T104217_0179_093_335_1980_MAR_O_NR_003/download/iwv.nc?provider=dedl",
           "roles": [
            "data"
           ],
           "title": "iwv.nc",
           "type": "application/x-netcdf"
          },
          "manifest.xml": {
           "alternate": {
            "origin": {
             "href": "s3://eodata/Sentinel-3/OLCI/OL_2_WFR___/2024/06/02/S3B_OL_2_WFR____20240602T084244_20240602T084544_20240602T104217_0179_093_335_1980_MAR_O_NR_003.SEN3/manifest.xml",
             "title": "Origin asset link",
             "type": "text/xml"
            }
           },
           "href": "https://hda.data.destination-earth.eu/stac/collections/EO.EUM.DAT.SENTINEL-3.OL_2_WFR___/items/S3B_OL_2_WFR____20240602T084244_20240602T084544_20240602T104217_0179_093_335_1980_MAR_O_NR_003/download/manifest.xml?provider=dedl",
           "roles": [
            "metadata"
           ],
           "title": "manifest.xml",
           "type": "text/xml"
          },
          "par.nc": {
           "alternate": {
            "origin": {
             "href": "s3://eodata/Sentinel-3/OLCI/OL_2_WFR___/2024/06/02/S3B_OL_2_WFR____20240602T084244_20240602T084544_20240602T104217_0179_093_335_1980_MAR_O_NR_003.SEN3/par.nc",
             "title": "Origin asset link",
             "type": "application/x-netcdf"
            }
           },
           "href": "https://hda.data.destination-earth.eu/stac/collections/EO.EUM.DAT.SENTINEL-3.OL_2_WFR___/items/S3B_OL_2_WFR____20240602T084244_20240602T084544_20240602T104217_0179_093_335_1980_MAR_O_NR_003/download/par.nc?provider=dedl",
           "roles": [
            "data"
           ],
           "title": "par.nc",
           "type": "application/x-netcdf"
          },
          "tie_geo_coordinates.nc": {
           "alternate": {
            "origin": {
             "href": "s3://eodata/Sentinel-3/OLCI/OL_2_WFR___/2024/06/02/S3B_OL_2_WFR____20240602T084244_20240602T084544_20240602T104217_0179_093_335_1980_MAR_O_NR_003.SEN3/tie_geo_coordinates.nc",
             "title": "Origin asset link",
             "type": "application/x-netcdf"
            }
           },
           "href": "https://hda.data.destination-earth.eu/stac/collections/EO.EUM.DAT.SENTINEL-3.OL_2_WFR___/items/S3B_OL_2_WFR____20240602T084244_20240602T084544_20240602T104217_0179_093_335_1980_MAR_O_NR_003/download/tie_geo_coordinates.nc?provider=dedl",
           "roles": [
            "data"
           ],
           "title": "tie_geo_coordinates.nc",
           "type": "application/x-netcdf"
          },
          "tie_geometries.nc": {
           "alternate": {
            "origin": {
             "href": "s3://eodata/Sentinel-3/OLCI/OL_2_WFR___/2024/06/02/S3B_OL_2_WFR____20240602T084244_20240602T084544_20240602T104217_0179_093_335_1980_MAR_O_NR_003.SEN3/tie_geometries.nc",
             "title": "Origin asset link",
             "type": "application/x-netcdf"
            }
           },
           "href": "https://hda.data.destination-earth.eu/stac/collections/EO.EUM.DAT.SENTINEL-3.OL_2_WFR___/items/S3B_OL_2_WFR____20240602T084244_20240602T084544_20240602T104217_0179_093_335_1980_MAR_O_NR_003/download/tie_geometries.nc?provider=dedl",
           "roles": [
            "data"
           ],
           "title": "tie_geometries.nc",
           "type": "application/x-netcdf"
          },
          "tie_meteo.nc": {
           "alternate": {
            "origin": {
             "href": "s3://eodata/Sentinel-3/OLCI/OL_2_WFR___/2024/06/02/S3B_OL_2_WFR____20240602T084244_20240602T084544_20240602T104217_0179_093_335_1980_MAR_O_NR_003.SEN3/tie_meteo.nc",
             "title": "Origin asset link",
             "type": "application/x-netcdf"
            }
           },
           "href": "https://hda.data.destination-earth.eu/stac/collections/EO.EUM.DAT.SENTINEL-3.OL_2_WFR___/items/S3B_OL_2_WFR____20240602T084244_20240602T084544_20240602T104217_0179_093_335_1980_MAR_O_NR_003/download/tie_meteo.nc?provider=dedl",
           "roles": [
            "data"
           ],
           "title": "tie_meteo.nc",
           "type": "application/x-netcdf"
          },
          "time_coordinates.nc": {
           "alternate": {
            "origin": {
             "href": "s3://eodata/Sentinel-3/OLCI/OL_2_WFR___/2024/06/02/S3B_OL_2_WFR____20240602T084244_20240602T084544_20240602T104217_0179_093_335_1980_MAR_O_NR_003.SEN3/time_coordinates.nc",
             "title": "Origin asset link",
             "type": "application/x-netcdf"
            }
           },
           "href": "https://hda.data.destination-earth.eu/stac/collections/EO.EUM.DAT.SENTINEL-3.OL_2_WFR___/items/S3B_OL_2_WFR____20240602T084244_20240602T084544_20240602T104217_0179_093_335_1980_MAR_O_NR_003/download/time_coordinates.nc?provider=dedl",
           "roles": [
            "data"
           ],
           "title": "time_coordinates.nc",
           "type": "application/x-netcdf"
          },
          "trsp.nc": {
           "alternate": {
            "origin": {
             "href": "s3://eodata/Sentinel-3/OLCI/OL_2_WFR___/2024/06/02/S3B_OL_2_WFR____20240602T084244_20240602T084544_20240602T104217_0179_093_335_1980_MAR_O_NR_003.SEN3/trsp.nc",
             "title": "Origin asset link",
             "type": "application/x-netcdf"
            }
           },
           "href": "https://hda.data.destination-earth.eu/stac/collections/EO.EUM.DAT.SENTINEL-3.OL_2_WFR___/items/S3B_OL_2_WFR____20240602T084244_20240602T084544_20240602T104217_0179_093_335_1980_MAR_O_NR_003/download/trsp.nc?provider=dedl",
           "roles": [
            "data"
           ],
           "title": "trsp.nc",
           "type": "application/x-netcdf"
          },
          "tsm_nn.nc": {
           "alternate": {
            "origin": {
             "href": "s3://eodata/Sentinel-3/OLCI/OL_2_WFR___/2024/06/02/S3B_OL_2_WFR____20240602T084244_20240602T084544_20240602T104217_0179_093_335_1980_MAR_O_NR_003.SEN3/tsm_nn.nc",
             "title": "Origin asset link",
             "type": "application/x-netcdf"
            }
           },
           "href": "https://hda.data.destination-earth.eu/stac/collections/EO.EUM.DAT.SENTINEL-3.OL_2_WFR___/items/S3B_OL_2_WFR____20240602T084244_20240602T084544_20240602T104217_0179_093_335_1980_MAR_O_NR_003/download/tsm_nn.nc?provider=dedl",
           "roles": [
            "data"
           ],
           "title": "tsm_nn.nc",
           "type": "application/x-netcdf"
          },
          "w_aer.nc": {
           "alternate": {
            "origin": {
             "href": "s3://eodata/Sentinel-3/OLCI/OL_2_WFR___/2024/06/02/S3B_OL_2_WFR____20240602T084244_20240602T084544_20240602T104217_0179_093_335_1980_MAR_O_NR_003.SEN3/w_aer.nc",
             "title": "Origin asset link",
             "type": "application/x-netcdf"
            }
           },
           "href": "https://hda.data.destination-earth.eu/stac/collections/EO.EUM.DAT.SENTINEL-3.OL_2_WFR___/items/S3B_OL_2_WFR____20240602T084244_20240602T084544_20240602T104217_0179_093_335_1980_MAR_O_NR_003/download/w_aer.nc?provider=dedl",
           "roles": [
            "data"
           ],
           "title": "w_aer.nc",
           "type": "application/x-netcdf"
          },
          "wqsf.nc": {
           "alternate": {
            "origin": {
             "href": "s3://eodata/Sentinel-3/OLCI/OL_2_WFR___/2024/06/02/S3B_OL_2_WFR____20240602T084244_20240602T084544_20240602T104217_0179_093_335_1980_MAR_O_NR_003.SEN3/wqsf.nc",
             "title": "Origin asset link",
             "type": "application/x-netcdf"
            }
           },
           "href": "https://hda.data.destination-earth.eu/stac/collections/EO.EUM.DAT.SENTINEL-3.OL_2_WFR___/items/S3B_OL_2_WFR____20240602T084244_20240602T084544_20240602T104217_0179_093_335_1980_MAR_O_NR_003/download/wqsf.nc?provider=dedl",
           "roles": [
            "data"
           ],
           "title": "wqsf.nc",
           "type": "application/x-netcdf"
          },
          "xfdumanifest.xml": {
           "alternate": {
            "origin": {
             "href": "s3://eodata/Sentinel-3/OLCI/OL_2_WFR___/2024/06/02/S3B_OL_2_WFR____20240602T084244_20240602T084544_20240602T104217_0179_093_335_1980_MAR_O_NR_003.SEN3/xfdumanifest.xml",
             "title": "Origin asset link",
             "type": "text/xml"
            }
           },
           "href": "https://hda.data.destination-earth.eu/stac/collections/EO.EUM.DAT.SENTINEL-3.OL_2_WFR___/items/S3B_OL_2_WFR____20240602T084244_20240602T084544_20240602T104217_0179_093_335_1980_MAR_O_NR_003/download/xfdumanifest.xml?provider=dedl",
           "roles": [
            "metadata"
           ],
           "title": "xfdumanifest.xml",
           "type": "text/xml"
          }
         },
         "bbox": [
          15.5325,
          49.8933,
          41.0464,
          62.9201
         ],
         "collection": "EO.EUM.DAT.SENTINEL-3.OL_2_WFR___",
         "geometry": {
          "coordinates": [
           [
            [
             15.5325,
             52.4622
            ],
            [
             16.545,
             52.4018
            ],
            [
             17.5582,
             52.3311
            ],
            [
             18.5633,
             52.2522
            ],
            [
             19.5599,
             52.1679
            ],
            [
             20.5577,
             52.0721
            ],
            [
             21.55,
             51.9681
            ],
            [
             22.5403,
             51.8551
            ],
            [
             23.5201,
             51.7346
            ],
            [
             24.4983,
             51.6083
            ],
            [
             25.4714,
             51.4692
            ],
            [
             26.4345,
             51.3249
            ],
            [
             27.3953,
             51.1748
            ],
            [
             28.3482,
             51.0128
            ],
            [
             29.2952,
             50.8447
            ],
            [
             30.234,
             50.6692
            ],
            [
             31.1665,
             50.4856
            ],
            [
             32.0909,
             50.2952
            ],
            [
             33.0071,
             50.0975
            ],
            [
             33.9193,
             49.8933
            ],
            [
             35.4035,
             52.4407
            ],
            [
             37.06,
             54.9737
            ],
            [
             38.9244,
             57.4835
            ],
            [
             41.0464,
             59.9644
            ],
            [
             39.9137,
             60.2186
            ],
            [
             38.7634,
             60.4646
            ],
            [
             37.5949,
             60.7005
            ],
            [
             36.4133,
             60.9258
            ],
            [
             35.2159,
             61.1401
            ],
            [
             34.0012,
             61.3439
            ],
            [
             32.7668,
             61.5391
            ],
            [
             31.5211,
             61.7181
            ],
            [
             30.2612,
             61.8883
            ],
            [
             28.988,
             62.0466
            ],
            [
             27.6993,
             62.1939
            ],
            [
             26.4027,
             62.3288
            ],
            [
             25.098,
             62.4514
            ],
            [
             23.7775,
             62.5618
            ],
            [
             22.4456,
             62.6599
            ],
            [
             21.102,
             62.7429
            ],
            [
             19.7558,
             62.8155
            ],
            [
             18.4127,
             62.8748
            ],
            [
             17.0534,
             62.9201
            ],
            [
             16.6835,
             60.3065
            ],
            [
             16.3061,
             57.6915
            ],
            [
             15.922,
             55.0751
            ],
            [
             15.5325,
             52.4622
            ]
           ]
          ],
          "type": "Polygon"
         },
         "id": "S3B_OL_2_WFR____20240602T084244_20240602T084544_20240602T104217_0179_093_335_1980_MAR_O_NR_003",
         "links": [
          {
           "href": "https://hda.data.destination-earth.eu/stac/collections/EO.EUM.DAT.SENTINEL-3.OL_2_WFR___/items/S3B_OL_2_WFR____20240602T084244_20240602T084544_20240602T104217_0179_093_335_1980_MAR_O_NR_003",
           "rel": "self",
           "title": "S3B_OL_2_WFR____20240602T084244_20240602T084544_20240602T104217_0179_093_335_1980_MAR_O_NR_003"
          },
          {
           "href": "https://hda.data.destination-earth.eu/stac/",
           "rel": "root"
          },
          {
           "href": "https://hda.data.destination-earth.eu/stac/collections/EO.EUM.DAT.SENTINEL-3.OL_2_WFR___",
           "rel": "parent",
           "title": "EO.EUM.DAT.SENTINEL-3.OL_2_WFR___"
          },
          {
           "href": "https://hda.data.destination-earth.eu/stac/collections/EO.EUM.DAT.SENTINEL-3.OL_2_WFR___",
           "rel": "collection",
           "title": "EO.EUM.DAT.SENTINEL-3.OL_2_WFR___"
          }
         ],
         "properties": {
          "constellation": "SENTINEL-3",
          "datetime": "2024-06-02T08:42:44.309206Z",
          "dedl:alias": "EO.EUM.DAT.SENTINEL-3.OL_2_WFR___",
          "dedl:baselineCollection": "003",
          "dedl:beginningDateTime": "2024-06-02T08:42:44.309206Z",
          "dedl:endingDateTime": "2024-06-02T08:45:44.309206Z",
          "dedl:productIdentifier": "/eodata/Sentinel-3/OLCI/OL_2_WFR___/2024/06/02/S3B_OL_2_WFR____20240602T084244_20240602T084544_20240602T104217_0179_093_335_1980_MAR_O_NR_003.SEN3",
          "dedl:scope": {
           "discover": null,
           "download": "hda-public-data-access",
           "search": "hda-public-data-access"
          },
          "dedl:timeliness": "NR",
          "dedl:uid": "8704e73e-41e0-44f7-a715-960ba29adf35",
          "description": "OLCI (Ocean and Land Colour Instrument) Ocean Colour Geophysical Products. Full Resolution: 300m at nadir. All Sentinel-3 NRT products are available at pick-up point in less than 3h. Level 2 marine products include the following: * water-leaving reflectances in 16 bands, Oa**_reflectance (Baseline Atmospheric Correction (BAC) algorithm, bands: 400, 412, 442, 490, 510, 560, 620, 665, 674, 681, 709, 754, 779, 865, 885, 1024 nanometer (nm)); *algal pigment concentration in clear waters, chl_oc4me (BAC and maximum band ratio algorithm, log10 scaled); *algal pigment concentration in turbid waters, chl_nn (neural net algorithm, log10 scaled); *total suspended matter concentration, tsm_nn (neural net algorithm, log10 scaled); *diffuse attenuation coefficient Kd of downward irradiance at 490 nm, trsp (BAC and M07 algorithm, log10 scaled); *absorption coefficient at 443 nm of coloured detrital and dissolved organic matter, iop_nn (neural net algorithm, log10 scaled); *instantaneous photosynthetically active radiation, PAR (BAC and clear-sky ocean algorithm); *aerosol optical thickness T865 and aerosol Angstrom exponent A865, w_aer (BAC algorithm, A for bands 779 and 865 nm) *integrated water vapour column, iwv (1D-Var algorithm). The geophysical products are accompanied by error estimate products. Pixel classification, quality and science flags, as well as meteorological, geometry and geolocation data at tie points are provided.\n\n- All Sentinel-3 NRT products are available at pick-up point in less than 3h\n- All Sentinel-3 Non Time Critical (NTC) products are available at pick-up point in less than 30 days\nSentinel-3 is part of a series of Sentinel satellites, under the umbrella of the EU Copernicus programme.",
          "end_datetime": "2024-06-02T08:45:44.309206Z",
          "instruments": [
           "OLCI"
          ],
          "license": "proprietary",
          "order:status": "succeeded",
          "platform": "SENTINEL-3A,SENTINEL-3B",
          "processing:level": 2,
          "providers": [
           {
            "description": "DestineE Data Lake Fresh Data Pool",
            "name": "dedl",
            "priority": 1,
            "roles": [
             "host"
            ],
            "url": "https://creodias.eu/"
           }
          ],
          "published": "2024-06-02T10:50:57.687117Z",
          "sar:instrument_mode": "Earth Observation",
          "sar:product_type": "OL_2_WFR___",
          "sat:absolute_orbit": 31792,
          "sat:orbit_state": "DESCENDING",
          "sat:relative_orbit": 335,
          "start_datetime": "2024-06-02T08:42:44.309206Z",
          "updated": "2024-06-02T11:04:08.074884Z"
         },
         "stac_extensions": [
          "https://stac-extensions.github.io/timestamps/v1.0.0/schema.json",
          "https://stac-extensions.github.io/processing/v1.0.0/schema.json",
          "https://stac-extensions.github.io/sat/v1.0.0/schema.json",
          "https://stac-extensions.github.io/sar/v1.0.0/schema.json",
          "https://stac-extensions.github.io/order/v1.1.0/schema.json"
         ],
         "stac_version": "1.0.0",
         "type": "Feature"
        },
        {
         "assets": {
          "EOPMetadata.xml": {
           "alternate": {
            "origin": {
             "href": "s3://eodata/Sentinel-3/OLCI/OL_2_WFR___/2024/06/02/S3A_OL_2_WFR____20240602T091837_20240602T092137_20240603T163024_0179_113_093_1800_MAR_O_NT_003.SEN3/EOPMetadata.xml",
             "title": "Origin asset link",
             "type": "text/xml"
            }
           },
           "href": "https://hda.data.destination-earth.eu/stac/collections/EO.EUM.DAT.SENTINEL-3.OL_2_WFR___/items/S3A_OL_2_WFR____20240602T091837_20240602T092137_20240603T163024_0179_113_093_1800_MAR_O_NT_003/download/EOPMetadata.xml?provider=dedl",
           "roles": [
            "metadata"
           ],
           "title": "EOPMetadata.xml",
           "type": "text/xml"
          },
          "Oa01_reflectance.nc": {
           "alternate": {
            "origin": {
             "href": "s3://eodata/Sentinel-3/OLCI/OL_2_WFR___/2024/06/02/S3A_OL_2_WFR____20240602T091837_20240602T092137_20240603T163024_0179_113_093_1800_MAR_O_NT_003.SEN3/Oa01_reflectance.nc",
             "title": "Origin asset link",
             "type": "application/x-netcdf"
            }
           },
           "href": "https://hda.data.destination-earth.eu/stac/collections/EO.EUM.DAT.SENTINEL-3.OL_2_WFR___/items/S3A_OL_2_WFR____20240602T091837_20240602T092137_20240603T163024_0179_113_093_1800_MAR_O_NT_003/download/Oa01_reflectance.nc?provider=dedl",
           "roles": [
            "data"
           ],
           "title": "Oa01_reflectance.nc",
           "type": "application/x-netcdf"
          },
          "Oa02_reflectance.nc": {
           "alternate": {
            "origin": {
             "href": "s3://eodata/Sentinel-3/OLCI/OL_2_WFR___/2024/06/02/S3A_OL_2_WFR____20240602T091837_20240602T092137_20240603T163024_0179_113_093_1800_MAR_O_NT_003.SEN3/Oa02_reflectance.nc",
             "title": "Origin asset link",
             "type": "application/x-netcdf"
            }
           },
           "href": "https://hda.data.destination-earth.eu/stac/collections/EO.EUM.DAT.SENTINEL-3.OL_2_WFR___/items/S3A_OL_2_WFR____20240602T091837_20240602T092137_20240603T163024_0179_113_093_1800_MAR_O_NT_003/download/Oa02_reflectance.nc?provider=dedl",
           "roles": [
            "data"
           ],
           "title": "Oa02_reflectance.nc",
           "type": "application/x-netcdf"
          },
          "Oa03_reflectance.nc": {
           "alternate": {
            "origin": {
             "href": "s3://eodata/Sentinel-3/OLCI/OL_2_WFR___/2024/06/02/S3A_OL_2_WFR____20240602T091837_20240602T092137_20240603T163024_0179_113_093_1800_MAR_O_NT_003.SEN3/Oa03_reflectance.nc",
             "title": "Origin asset link",
             "type": "application/x-netcdf"
            }
           },
           "href": "https://hda.data.destination-earth.eu/stac/collections/EO.EUM.DAT.SENTINEL-3.OL_2_WFR___/items/S3A_OL_2_WFR____20240602T091837_20240602T092137_20240603T163024_0179_113_093_1800_MAR_O_NT_003/download/Oa03_reflectance.nc?provider=dedl",
           "roles": [
            "data"
           ],
           "title": "Oa03_reflectance.nc",
           "type": "application/x-netcdf"
          },
          "Oa04_reflectance.nc": {
           "alternate": {
            "origin": {
             "href": "s3://eodata/Sentinel-3/OLCI/OL_2_WFR___/2024/06/02/S3A_OL_2_WFR____20240602T091837_20240602T092137_20240603T163024_0179_113_093_1800_MAR_O_NT_003.SEN3/Oa04_reflectance.nc",
             "title": "Origin asset link",
             "type": "application/x-netcdf"
            }
           },
           "href": "https://hda.data.destination-earth.eu/stac/collections/EO.EUM.DAT.SENTINEL-3.OL_2_WFR___/items/S3A_OL_2_WFR____20240602T091837_20240602T092137_20240603T163024_0179_113_093_1800_MAR_O_NT_003/download/Oa04_reflectance.nc?provider=dedl",
           "roles": [
            "data"
           ],
           "title": "Oa04_reflectance.nc",
           "type": "application/x-netcdf"
          },
          "Oa05_reflectance.nc": {
           "alternate": {
            "origin": {
             "href": "s3://eodata/Sentinel-3/OLCI/OL_2_WFR___/2024/06/02/S3A_OL_2_WFR____20240602T091837_20240602T092137_20240603T163024_0179_113_093_1800_MAR_O_NT_003.SEN3/Oa05_reflectance.nc",
             "title": "Origin asset link",
             "type": "application/x-netcdf"
            }
           },
           "href": "https://hda.data.destination-earth.eu/stac/collections/EO.EUM.DAT.SENTINEL-3.OL_2_WFR___/items/S3A_OL_2_WFR____20240602T091837_20240602T092137_20240603T163024_0179_113_093_1800_MAR_O_NT_003/download/Oa05_reflectance.nc?provider=dedl",
           "roles": [
            "data"
           ],
           "title": "Oa05_reflectance.nc",
           "type": "application/x-netcdf"
          },
          "Oa06_reflectance.nc": {
           "alternate": {
            "origin": {
             "href": "s3://eodata/Sentinel-3/OLCI/OL_2_WFR___/2024/06/02/S3A_OL_2_WFR____20240602T091837_20240602T092137_20240603T163024_0179_113_093_1800_MAR_O_NT_003.SEN3/Oa06_reflectance.nc",
             "title": "Origin asset link",
             "type": "application/x-netcdf"
            }
           },
           "href": "https://hda.data.destination-earth.eu/stac/collections/EO.EUM.DAT.SENTINEL-3.OL_2_WFR___/items/S3A_OL_2_WFR____20240602T091837_20240602T092137_20240603T163024_0179_113_093_1800_MAR_O_NT_003/download/Oa06_reflectance.nc?provider=dedl",
           "roles": [
            "data"
           ],
           "title": "Oa06_reflectance.nc",
           "type": "application/x-netcdf"
          },
          "Oa07_reflectance.nc": {
           "alternate": {
            "origin": {
             "href": "s3://eodata/Sentinel-3/OLCI/OL_2_WFR___/2024/06/02/S3A_OL_2_WFR____20240602T091837_20240602T092137_20240603T163024_0179_113_093_1800_MAR_O_NT_003.SEN3/Oa07_reflectance.nc",
             "title": "Origin asset link",
             "type": "application/x-netcdf"
            }
           },
           "href": "https://hda.data.destination-earth.eu/stac/collections/EO.EUM.DAT.SENTINEL-3.OL_2_WFR___/items/S3A_OL_2_WFR____20240602T091837_20240602T092137_20240603T163024_0179_113_093_1800_MAR_O_NT_003/download/Oa07_reflectance.nc?provider=dedl",
           "roles": [
            "data"
           ],
           "title": "Oa07_reflectance.nc",
           "type": "application/x-netcdf"
          },
          "Oa08_reflectance.nc": {
           "alternate": {
            "origin": {
             "href": "s3://eodata/Sentinel-3/OLCI/OL_2_WFR___/2024/06/02/S3A_OL_2_WFR____20240602T091837_20240602T092137_20240603T163024_0179_113_093_1800_MAR_O_NT_003.SEN3/Oa08_reflectance.nc",
             "title": "Origin asset link",
             "type": "application/x-netcdf"
            }
           },
           "href": "https://hda.data.destination-earth.eu/stac/collections/EO.EUM.DAT.SENTINEL-3.OL_2_WFR___/items/S3A_OL_2_WFR____20240602T091837_20240602T092137_20240603T163024_0179_113_093_1800_MAR_O_NT_003/download/Oa08_reflectance.nc?provider=dedl",
           "roles": [
            "data"
           ],
           "title": "Oa08_reflectance.nc",
           "type": "application/x-netcdf"
          },
          "Oa09_reflectance.nc": {
           "alternate": {
            "origin": {
             "href": "s3://eodata/Sentinel-3/OLCI/OL_2_WFR___/2024/06/02/S3A_OL_2_WFR____20240602T091837_20240602T092137_20240603T163024_0179_113_093_1800_MAR_O_NT_003.SEN3/Oa09_reflectance.nc",
             "title": "Origin asset link",
             "type": "application/x-netcdf"
            }
           },
           "href": "https://hda.data.destination-earth.eu/stac/collections/EO.EUM.DAT.SENTINEL-3.OL_2_WFR___/items/S3A_OL_2_WFR____20240602T091837_20240602T092137_20240603T163024_0179_113_093_1800_MAR_O_NT_003/download/Oa09_reflectance.nc?provider=dedl",
           "roles": [
            "data"
           ],
           "title": "Oa09_reflectance.nc",
           "type": "application/x-netcdf"
          },
          "Oa10_reflectance.nc": {
           "alternate": {
            "origin": {
             "href": "s3://eodata/Sentinel-3/OLCI/OL_2_WFR___/2024/06/02/S3A_OL_2_WFR____20240602T091837_20240602T092137_20240603T163024_0179_113_093_1800_MAR_O_NT_003.SEN3/Oa10_reflectance.nc",
             "title": "Origin asset link",
             "type": "application/x-netcdf"
            }
           },
           "href": "https://hda.data.destination-earth.eu/stac/collections/EO.EUM.DAT.SENTINEL-3.OL_2_WFR___/items/S3A_OL_2_WFR____20240602T091837_20240602T092137_20240603T163024_0179_113_093_1800_MAR_O_NT_003/download/Oa10_reflectance.nc?provider=dedl",
           "roles": [
            "data"
           ],
           "title": "Oa10_reflectance.nc",
           "type": "application/x-netcdf"
          },
          "Oa11_reflectance.nc": {
           "alternate": {
            "origin": {
             "href": "s3://eodata/Sentinel-3/OLCI/OL_2_WFR___/2024/06/02/S3A_OL_2_WFR____20240602T091837_20240602T092137_20240603T163024_0179_113_093_1800_MAR_O_NT_003.SEN3/Oa11_reflectance.nc",
             "title": "Origin asset link",
             "type": "application/x-netcdf"
            }
           },
           "href": "https://hda.data.destination-earth.eu/stac/collections/EO.EUM.DAT.SENTINEL-3.OL_2_WFR___/items/S3A_OL_2_WFR____20240602T091837_20240602T092137_20240603T163024_0179_113_093_1800_MAR_O_NT_003/download/Oa11_reflectance.nc?provider=dedl",
           "roles": [
            "data"
           ],
           "title": "Oa11_reflectance.nc",
           "type": "application/x-netcdf"
          },
          "Oa12_reflectance.nc": {
           "alternate": {
            "origin": {
             "href": "s3://eodata/Sentinel-3/OLCI/OL_2_WFR___/2024/06/02/S3A_OL_2_WFR____20240602T091837_20240602T092137_20240603T163024_0179_113_093_1800_MAR_O_NT_003.SEN3/Oa12_reflectance.nc",
             "title": "Origin asset link",
             "type": "application/x-netcdf"
            }
           },
           "href": "https://hda.data.destination-earth.eu/stac/collections/EO.EUM.DAT.SENTINEL-3.OL_2_WFR___/items/S3A_OL_2_WFR____20240602T091837_20240602T092137_20240603T163024_0179_113_093_1800_MAR_O_NT_003/download/Oa12_reflectance.nc?provider=dedl",
           "roles": [
            "data"
           ],
           "title": "Oa12_reflectance.nc",
           "type": "application/x-netcdf"
          },
          "Oa16_reflectance.nc": {
           "alternate": {
            "origin": {
             "href": "s3://eodata/Sentinel-3/OLCI/OL_2_WFR___/2024/06/02/S3A_OL_2_WFR____20240602T091837_20240602T092137_20240603T163024_0179_113_093_1800_MAR_O_NT_003.SEN3/Oa16_reflectance.nc",
             "title": "Origin asset link",
             "type": "application/x-netcdf"
            }
           },
           "href": "https://hda.data.destination-earth.eu/stac/collections/EO.EUM.DAT.SENTINEL-3.OL_2_WFR___/items/S3A_OL_2_WFR____20240602T091837_20240602T092137_20240603T163024_0179_113_093_1800_MAR_O_NT_003/download/Oa16_reflectance.nc?provider=dedl",
           "roles": [
            "data"
           ],
           "title": "Oa16_reflectance.nc",
           "type": "application/x-netcdf"
          },
          "Oa17_reflectance.nc": {
           "alternate": {
            "origin": {
             "href": "s3://eodata/Sentinel-3/OLCI/OL_2_WFR___/2024/06/02/S3A_OL_2_WFR____20240602T091837_20240602T092137_20240603T163024_0179_113_093_1800_MAR_O_NT_003.SEN3/Oa17_reflectance.nc",
             "title": "Origin asset link",
             "type": "application/x-netcdf"
            }
           },
           "href": "https://hda.data.destination-earth.eu/stac/collections/EO.EUM.DAT.SENTINEL-3.OL_2_WFR___/items/S3A_OL_2_WFR____20240602T091837_20240602T092137_20240603T163024_0179_113_093_1800_MAR_O_NT_003/download/Oa17_reflectance.nc?provider=dedl",
           "roles": [
            "data"
           ],
           "title": "Oa17_reflectance.nc",
           "type": "application/x-netcdf"
          },
          "Oa18_reflectance.nc": {
           "alternate": {
            "origin": {
             "href": "s3://eodata/Sentinel-3/OLCI/OL_2_WFR___/2024/06/02/S3A_OL_2_WFR____20240602T091837_20240602T092137_20240603T163024_0179_113_093_1800_MAR_O_NT_003.SEN3/Oa18_reflectance.nc",
             "title": "Origin asset link",
             "type": "application/x-netcdf"
            }
           },
           "href": "https://hda.data.destination-earth.eu/stac/collections/EO.EUM.DAT.SENTINEL-3.OL_2_WFR___/items/S3A_OL_2_WFR____20240602T091837_20240602T092137_20240603T163024_0179_113_093_1800_MAR_O_NT_003/download/Oa18_reflectance.nc?provider=dedl",
           "roles": [
            "data"
           ],
           "title": "Oa18_reflectance.nc",
           "type": "application/x-netcdf"
          },
          "Oa21_reflectance.nc": {
           "alternate": {
            "origin": {
             "href": "s3://eodata/Sentinel-3/OLCI/OL_2_WFR___/2024/06/02/S3A_OL_2_WFR____20240602T091837_20240602T092137_20240603T163024_0179_113_093_1800_MAR_O_NT_003.SEN3/Oa21_reflectance.nc",
             "title": "Origin asset link",
             "type": "application/x-netcdf"
            }
           },
           "href": "https://hda.data.destination-earth.eu/stac/collections/EO.EUM.DAT.SENTINEL-3.OL_2_WFR___/items/S3A_OL_2_WFR____20240602T091837_20240602T092137_20240603T163024_0179_113_093_1800_MAR_O_NT_003/download/Oa21_reflectance.nc?provider=dedl",
           "roles": [
            "data"
           ],
           "title": "Oa21_reflectance.nc",
           "type": "application/x-netcdf"
          },
          "browse.jpg": {
           "alternate": {
            "origin": {
             "href": "s3://eodata/Sentinel-3/OLCI/OL_2_WFR___/2024/06/02/S3A_OL_2_WFR____20240602T091837_20240602T092137_20240603T163024_0179_113_093_1800_MAR_O_NT_003.SEN3/browse.jpg",
             "title": "Origin asset link",
             "type": "image/jpeg"
            }
           },
           "href": "https://hda.data.destination-earth.eu/stac/collections/EO.EUM.DAT.SENTINEL-3.OL_2_WFR___/items/S3A_OL_2_WFR____20240602T091837_20240602T092137_20240603T163024_0179_113_093_1800_MAR_O_NT_003/download/browse.jpg?provider=dedl",
           "roles": [
            "metadata"
           ],
           "title": "browse.jpg",
           "type": "image/jpeg"
          },
          "chl_nn.nc": {
           "alternate": {
            "origin": {
             "href": "s3://eodata/Sentinel-3/OLCI/OL_2_WFR___/2024/06/02/S3A_OL_2_WFR____20240602T091837_20240602T092137_20240603T163024_0179_113_093_1800_MAR_O_NT_003.SEN3/chl_nn.nc",
             "title": "Origin asset link",
             "type": "application/x-netcdf"
            }
           },
           "href": "https://hda.data.destination-earth.eu/stac/collections/EO.EUM.DAT.SENTINEL-3.OL_2_WFR___/items/S3A_OL_2_WFR____20240602T091837_20240602T092137_20240603T163024_0179_113_093_1800_MAR_O_NT_003/download/chl_nn.nc?provider=dedl",
           "roles": [
            "data"
           ],
           "title": "chl_nn.nc",
           "type": "application/x-netcdf"
          },
          "chl_oc4me.nc": {
           "alternate": {
            "origin": {
             "href": "s3://eodata/Sentinel-3/OLCI/OL_2_WFR___/2024/06/02/S3A_OL_2_WFR____20240602T091837_20240602T092137_20240603T163024_0179_113_093_1800_MAR_O_NT_003.SEN3/chl_oc4me.nc",
             "title": "Origin asset link",
             "type": "application/x-netcdf"
            }
           },
           "href": "https://hda.data.destination-earth.eu/stac/collections/EO.EUM.DAT.SENTINEL-3.OL_2_WFR___/items/S3A_OL_2_WFR____20240602T091837_20240602T092137_20240603T163024_0179_113_093_1800_MAR_O_NT_003/download/chl_oc4me.nc?provider=dedl",
           "roles": [
            "data"
           ],
           "title": "chl_oc4me.nc",
           "type": "application/x-netcdf"
          },
          "downloadLink": {
           "alternate": {
            "origin": {
             "href": "https://zipper.creodias.eu/odata/v1/Products(f3983837-2889-4822-bab7-01c12c6438e3)/$value",
             "title": "Origin asset link"
            }
           },
           "href": "https://hda.data.destination-earth.eu/stac/collections/EO.EUM.DAT.SENTINEL-3.OL_2_WFR___/items/S3A_OL_2_WFR____20240602T091837_20240602T092137_20240603T163024_0179_113_093_1800_MAR_O_NT_003/download?provider=dedl",
           "storage:tier": "ONLINE",
           "title": "Download link",
           "type": "application/zip"
          },
          "geo_coordinates.nc": {
           "alternate": {
            "origin": {
             "href": "s3://eodata/Sentinel-3/OLCI/OL_2_WFR___/2024/06/02/S3A_OL_2_WFR____20240602T091837_20240602T092137_20240603T163024_0179_113_093_1800_MAR_O_NT_003.SEN3/geo_coordinates.nc",
             "title": "Origin asset link",
             "type": "application/x-netcdf"
            }
           },
           "href": "https://hda.data.destination-earth.eu/stac/collections/EO.EUM.DAT.SENTINEL-3.OL_2_WFR___/items/S3A_OL_2_WFR____20240602T091837_20240602T092137_20240603T163024_0179_113_093_1800_MAR_O_NT_003/download/geo_coordinates.nc?provider=dedl",
           "roles": [
            "data"
           ],
           "title": "geo_coordinates.nc",
           "type": "application/x-netcdf"
          },
          "instrument_data.nc": {
           "alternate": {
            "origin": {
             "href": "s3://eodata/Sentinel-3/OLCI/OL_2_WFR___/2024/06/02/S3A_OL_2_WFR____20240602T091837_20240602T092137_20240603T163024_0179_113_093_1800_MAR_O_NT_003.SEN3/instrument_data.nc",
             "title": "Origin asset link",
             "type": "application/x-netcdf"
            }
           },
           "href": "https://hda.data.destination-earth.eu/stac/collections/EO.EUM.DAT.SENTINEL-3.OL_2_WFR___/items/S3A_OL_2_WFR____20240602T091837_20240602T092137_20240603T163024_0179_113_093_1800_MAR_O_NT_003/download/instrument_data.nc?provider=dedl",
           "roles": [
            "data"
           ],
           "title": "instrument_data.nc",
           "type": "application/x-netcdf"
          },
          "iop_lsd.nc": {
           "alternate": {
            "origin": {
             "href": "s3://eodata/Sentinel-3/OLCI/OL_2_WFR___/2024/06/02/S3A_OL_2_WFR____20240602T091837_20240602T092137_20240603T163024_0179_113_093_1800_MAR_O_NT_003.SEN3/iop_lsd.nc",
             "title": "Origin asset link",
             "type": "application/x-netcdf"
            }
           },
           "href": "https://hda.data.destination-earth.eu/stac/collections/EO.EUM.DAT.SENTINEL-3.OL_2_WFR___/items/S3A_OL_2_WFR____20240602T091837_20240602T092137_20240603T163024_0179_113_093_1800_MAR_O_NT_003/download/iop_lsd.nc?provider=dedl",
           "roles": [
            "data"
           ],
           "title": "iop_lsd.nc",
           "type": "application/x-netcdf"
          },
          "iop_nn.nc": {
           "alternate": {
            "origin": {
             "href": "s3://eodata/Sentinel-3/OLCI/OL_2_WFR___/2024/06/02/S3A_OL_2_WFR____20240602T091837_20240602T092137_20240603T163024_0179_113_093_1800_MAR_O_NT_003.SEN3/iop_nn.nc",
             "title": "Origin asset link",
             "type": "application/x-netcdf"
            }
           },
           "href": "https://hda.data.destination-earth.eu/stac/collections/EO.EUM.DAT.SENTINEL-3.OL_2_WFR___/items/S3A_OL_2_WFR____20240602T091837_20240602T092137_20240603T163024_0179_113_093_1800_MAR_O_NT_003/download/iop_nn.nc?provider=dedl",
           "roles": [
            "data"
           ],
           "title": "iop_nn.nc",
           "type": "application/x-netcdf"
          },
          "iwv.nc": {
           "alternate": {
            "origin": {
             "href": "s3://eodata/Sentinel-3/OLCI/OL_2_WFR___/2024/06/02/S3A_OL_2_WFR____20240602T091837_20240602T092137_20240603T163024_0179_113_093_1800_MAR_O_NT_003.SEN3/iwv.nc",
             "title": "Origin asset link",
             "type": "application/x-netcdf"
            }
           },
           "href": "https://hda.data.destination-earth.eu/stac/collections/EO.EUM.DAT.SENTINEL-3.OL_2_WFR___/items/S3A_OL_2_WFR____20240602T091837_20240602T092137_20240603T163024_0179_113_093_1800_MAR_O_NT_003/download/iwv.nc?provider=dedl",
           "roles": [
            "data"
           ],
           "title": "iwv.nc",
           "type": "application/x-netcdf"
          },
          "manifest.xml": {
           "alternate": {
            "origin": {
             "href": "s3://eodata/Sentinel-3/OLCI/OL_2_WFR___/2024/06/02/S3A_OL_2_WFR____20240602T091837_20240602T092137_20240603T163024_0179_113_093_1800_MAR_O_NT_003.SEN3/manifest.xml",
             "title": "Origin asset link",
             "type": "text/xml"
            }
           },
           "href": "https://hda.data.destination-earth.eu/stac/collections/EO.EUM.DAT.SENTINEL-3.OL_2_WFR___/items/S3A_OL_2_WFR____20240602T091837_20240602T092137_20240603T163024_0179_113_093_1800_MAR_O_NT_003/download/manifest.xml?provider=dedl",
           "roles": [
            "metadata"
           ],
           "title": "manifest.xml",
           "type": "text/xml"
          },
          "par.nc": {
           "alternate": {
            "origin": {
             "href": "s3://eodata/Sentinel-3/OLCI/OL_2_WFR___/2024/06/02/S3A_OL_2_WFR____20240602T091837_20240602T092137_20240603T163024_0179_113_093_1800_MAR_O_NT_003.SEN3/par.nc",
             "title": "Origin asset link",
             "type": "application/x-netcdf"
            }
           },
           "href": "https://hda.data.destination-earth.eu/stac/collections/EO.EUM.DAT.SENTINEL-3.OL_2_WFR___/items/S3A_OL_2_WFR____20240602T091837_20240602T092137_20240603T163024_0179_113_093_1800_MAR_O_NT_003/download/par.nc?provider=dedl",
           "roles": [
            "data"
           ],
           "title": "par.nc",
           "type": "application/x-netcdf"
          },
          "tie_geo_coordinates.nc": {
           "alternate": {
            "origin": {
             "href": "s3://eodata/Sentinel-3/OLCI/OL_2_WFR___/2024/06/02/S3A_OL_2_WFR____20240602T091837_20240602T092137_20240603T163024_0179_113_093_1800_MAR_O_NT_003.SEN3/tie_geo_coordinates.nc",
             "title": "Origin asset link",
             "type": "application/x-netcdf"
            }
           },
           "href": "https://hda.data.destination-earth.eu/stac/collections/EO.EUM.DAT.SENTINEL-3.OL_2_WFR___/items/S3A_OL_2_WFR____20240602T091837_20240602T092137_20240603T163024_0179_113_093_1800_MAR_O_NT_003/download/tie_geo_coordinates.nc?provider=dedl",
           "roles": [
            "data"
           ],
           "title": "tie_geo_coordinates.nc",
           "type": "application/x-netcdf"
          },
          "tie_geometries.nc": {
           "alternate": {
            "origin": {
             "href": "s3://eodata/Sentinel-3/OLCI/OL_2_WFR___/2024/06/02/S3A_OL_2_WFR____20240602T091837_20240602T092137_20240603T163024_0179_113_093_1800_MAR_O_NT_003.SEN3/tie_geometries.nc",
             "title": "Origin asset link",
             "type": "application/x-netcdf"
            }
           },
           "href": "https://hda.data.destination-earth.eu/stac/collections/EO.EUM.DAT.SENTINEL-3.OL_2_WFR___/items/S3A_OL_2_WFR____20240602T091837_20240602T092137_20240603T163024_0179_113_093_1800_MAR_O_NT_003/download/tie_geometries.nc?provider=dedl",
           "roles": [
            "data"
           ],
           "title": "tie_geometries.nc",
           "type": "application/x-netcdf"
          },
          "tie_meteo.nc": {
           "alternate": {
            "origin": {
             "href": "s3://eodata/Sentinel-3/OLCI/OL_2_WFR___/2024/06/02/S3A_OL_2_WFR____20240602T091837_20240602T092137_20240603T163024_0179_113_093_1800_MAR_O_NT_003.SEN3/tie_meteo.nc",
             "title": "Origin asset link",
             "type": "application/x-netcdf"
            }
           },
           "href": "https://hda.data.destination-earth.eu/stac/collections/EO.EUM.DAT.SENTINEL-3.OL_2_WFR___/items/S3A_OL_2_WFR____20240602T091837_20240602T092137_20240603T163024_0179_113_093_1800_MAR_O_NT_003/download/tie_meteo.nc?provider=dedl",
           "roles": [
            "data"
           ],
           "title": "tie_meteo.nc",
           "type": "application/x-netcdf"
          },
          "time_coordinates.nc": {
           "alternate": {
            "origin": {
             "href": "s3://eodata/Sentinel-3/OLCI/OL_2_WFR___/2024/06/02/S3A_OL_2_WFR____20240602T091837_20240602T092137_20240603T163024_0179_113_093_1800_MAR_O_NT_003.SEN3/time_coordinates.nc",
             "title": "Origin asset link",
             "type": "application/x-netcdf"
            }
           },
           "href": "https://hda.data.destination-earth.eu/stac/collections/EO.EUM.DAT.SENTINEL-3.OL_2_WFR___/items/S3A_OL_2_WFR____20240602T091837_20240602T092137_20240603T163024_0179_113_093_1800_MAR_O_NT_003/download/time_coordinates.nc?provider=dedl",
           "roles": [
            "data"
           ],
           "title": "time_coordinates.nc",
           "type": "application/x-netcdf"
          },
          "trsp.nc": {
           "alternate": {
            "origin": {
             "href": "s3://eodata/Sentinel-3/OLCI/OL_2_WFR___/2024/06/02/S3A_OL_2_WFR____20240602T091837_20240602T092137_20240603T163024_0179_113_093_1800_MAR_O_NT_003.SEN3/trsp.nc",
             "title": "Origin asset link",
             "type": "application/x-netcdf"
            }
           },
           "href": "https://hda.data.destination-earth.eu/stac/collections/EO.EUM.DAT.SENTINEL-3.OL_2_WFR___/items/S3A_OL_2_WFR____20240602T091837_20240602T092137_20240603T163024_0179_113_093_1800_MAR_O_NT_003/download/trsp.nc?provider=dedl",
           "roles": [
            "data"
           ],
           "title": "trsp.nc",
           "type": "application/x-netcdf"
          },
          "tsm_nn.nc": {
           "alternate": {
            "origin": {
             "href": "s3://eodata/Sentinel-3/OLCI/OL_2_WFR___/2024/06/02/S3A_OL_2_WFR____20240602T091837_20240602T092137_20240603T163024_0179_113_093_1800_MAR_O_NT_003.SEN3/tsm_nn.nc",
             "title": "Origin asset link",
             "type": "application/x-netcdf"
            }
           },
           "href": "https://hda.data.destination-earth.eu/stac/collections/EO.EUM.DAT.SENTINEL-3.OL_2_WFR___/items/S3A_OL_2_WFR____20240602T091837_20240602T092137_20240603T163024_0179_113_093_1800_MAR_O_NT_003/download/tsm_nn.nc?provider=dedl",
           "roles": [
            "data"
           ],
           "title": "tsm_nn.nc",
           "type": "application/x-netcdf"
          },
          "w_aer.nc": {
           "alternate": {
            "origin": {
             "href": "s3://eodata/Sentinel-3/OLCI/OL_2_WFR___/2024/06/02/S3A_OL_2_WFR____20240602T091837_20240602T092137_20240603T163024_0179_113_093_1800_MAR_O_NT_003.SEN3/w_aer.nc",
             "title": "Origin asset link",
             "type": "application/x-netcdf"
            }
           },
           "href": "https://hda.data.destination-earth.eu/stac/collections/EO.EUM.DAT.SENTINEL-3.OL_2_WFR___/items/S3A_OL_2_WFR____20240602T091837_20240602T092137_20240603T163024_0179_113_093_1800_MAR_O_NT_003/download/w_aer.nc?provider=dedl",
           "roles": [
            "data"
           ],
           "title": "w_aer.nc",
           "type": "application/x-netcdf"
          },
          "wqsf.nc": {
           "alternate": {
            "origin": {
             "href": "s3://eodata/Sentinel-3/OLCI/OL_2_WFR___/2024/06/02/S3A_OL_2_WFR____20240602T091837_20240602T092137_20240603T163024_0179_113_093_1800_MAR_O_NT_003.SEN3/wqsf.nc",
             "title": "Origin asset link",
             "type": "application/x-netcdf"
            }
           },
           "href": "https://hda.data.destination-earth.eu/stac/collections/EO.EUM.DAT.SENTINEL-3.OL_2_WFR___/items/S3A_OL_2_WFR____20240602T091837_20240602T092137_20240603T163024_0179_113_093_1800_MAR_O_NT_003/download/wqsf.nc?provider=dedl",
           "roles": [
            "data"
           ],
           "title": "wqsf.nc",
           "type": "application/x-netcdf"
          },
          "xfdumanifest.xml": {
           "alternate": {
            "origin": {
             "href": "s3://eodata/Sentinel-3/OLCI/OL_2_WFR___/2024/06/02/S3A_OL_2_WFR____20240602T091837_20240602T092137_20240603T163024_0179_113_093_1800_MAR_O_NT_003.SEN3/xfdumanifest.xml",
             "title": "Origin asset link",
             "type": "text/xml"
            }
           },
           "href": "https://hda.data.destination-earth.eu/stac/collections/EO.EUM.DAT.SENTINEL-3.OL_2_WFR___/items/S3A_OL_2_WFR____20240602T091837_20240602T092137_20240603T163024_0179_113_093_1800_MAR_O_NT_003/download/xfdumanifest.xml?provider=dedl",
           "roles": [
            "metadata"
           ],
           "title": "xfdumanifest.xml",
           "type": "text/xml"
          }
         },
         "bbox": [
          7.22855,
          59.9625,
          43.9623,
          73.3547
         ],
         "collection": "EO.EUM.DAT.SENTINEL-3.OL_2_WFR___",
         "geometry": {
          "coordinates": [
           [
            [
             7.22855,
             62.9165
            ],
            [
             8.5847,
             62.87
            ],
            [
             9.9496,
             62.8102
            ],
            [
             11.3003,
             62.7403
            ],
            [
             12.6325,
             62.6557
            ],
            [
             13.9641,
             62.5579
            ],
            [
             15.2729,
             62.4488
            ],
            [
             16.5833,
             62.3267
            ],
            [
             17.8785,
             62.1922
            ],
            [
             19.1628,
             62.0456
            ],
            [
             20.4359,
             61.8869
            ],
            [
             21.6958,
             61.7163
            ],
            [
             22.9439,
             61.534
            ],
            [
             24.1722,
             61.3414
            ],
            [
             25.3873,
             61.1378
            ],
            [
             26.5896,
             60.9227
            ],
            [
             27.7742,
             60.6985
            ],
            [
             28.9395,
             60.4634
            ],
            [
             30.0906,
             60.2176
            ],
            [
             31.2204,
             59.9625
            ],
            [
             33.6593,
             62.4031
            ],
            [
             36.5133,
             64.8014
            ],
            [
             39.8947,
             67.138
            ],
            [
             43.9623,
             69.3945
            ],
            [
             42.51,
             69.7483
            ],
            [
             41.0009,
             70.0913
            ],
            [
             39.4527,
             70.4188
            ],
            [
             37.8439,
             70.7336
            ],
            [
             36.1902,
             71.0342
            ],
            [
             34.4909,
             71.319
            ],
            [
             32.7388,
             71.5888
            ],
            [
             30.9394,
             71.8422
            ],
            [
             29.0887,
             72.0789
            ],
            [
             27.193,
             72.2975
            ],
            [
             25.2559,
             72.4972
            ],
            [
             23.2842,
             72.677
            ],
            [
             21.2652,
             72.8371
            ],
            [
             19.2108,
             72.9774
            ],
            [
             17.1246,
             73.0967
            ],
            [
             15.0239,
             73.1942
            ],
            [
             12.8873,
             73.2706
            ],
            [
             10.7425,
             73.3222
            ],
            [
             8.58636,
             73.3547
            ],
            [
             8.27231,
             70.7454
            ],
            [
             7.93654,
             68.1353
            ],
            [
             7.58724,
             65.5239
            ],
            [
             7.22855,
             62.9165
            ]
           ]
          ],
          "type": "Polygon"
         },
         "id": "S3A_OL_2_WFR____20240602T091837_20240602T092137_20240603T163024_0179_113_093_1800_MAR_O_NT_003",
         "links": [
          {
           "href": "https://hda.data.destination-earth.eu/stac/collections/EO.EUM.DAT.SENTINEL-3.OL_2_WFR___/items/S3A_OL_2_WFR____20240602T091837_20240602T092137_20240603T163024_0179_113_093_1800_MAR_O_NT_003",
           "rel": "self",
           "title": "S3A_OL_2_WFR____20240602T091837_20240602T092137_20240603T163024_0179_113_093_1800_MAR_O_NT_003"
          },
          {
           "href": "https://hda.data.destination-earth.eu/stac/",
           "rel": "root"
          },
          {
           "href": "https://hda.data.destination-earth.eu/stac/collections/EO.EUM.DAT.SENTINEL-3.OL_2_WFR___",
           "rel": "parent",
           "title": "EO.EUM.DAT.SENTINEL-3.OL_2_WFR___"
          },
          {
           "href": "https://hda.data.destination-earth.eu/stac/collections/EO.EUM.DAT.SENTINEL-3.OL_2_WFR___",
           "rel": "collection",
           "title": "EO.EUM.DAT.SENTINEL-3.OL_2_WFR___"
          }
         ],
         "properties": {
          "constellation": "SENTINEL-3",
          "datetime": "2024-06-02T09:18:36.897551Z",
          "dedl:alias": "EO.EUM.DAT.SENTINEL-3.OL_2_WFR___",
          "dedl:baselineCollection": "003",
          "dedl:beginningDateTime": "2024-06-02T09:18:36.897551Z",
          "dedl:endingDateTime": "2024-06-02T09:21:36.897551Z",
          "dedl:productIdentifier": "/eodata/Sentinel-3/OLCI/OL_2_WFR___/2024/06/02/S3A_OL_2_WFR____20240602T091837_20240602T092137_20240603T163024_0179_113_093_1800_MAR_O_NT_003.SEN3",
          "dedl:scope": {
           "discover": null,
           "download": "hda-public-data-access",
           "search": "hda-public-data-access"
          },
          "dedl:timeliness": "NT",
          "dedl:uid": "f3983837-2889-4822-bab7-01c12c6438e3",
          "description": "OLCI (Ocean and Land Colour Instrument) Ocean Colour Geophysical Products. Full Resolution: 300m at nadir. All Sentinel-3 NRT products are available at pick-up point in less than 3h. Level 2 marine products include the following: * water-leaving reflectances in 16 bands, Oa**_reflectance (Baseline Atmospheric Correction (BAC) algorithm, bands: 400, 412, 442, 490, 510, 560, 620, 665, 674, 681, 709, 754, 779, 865, 885, 1024 nanometer (nm)); *algal pigment concentration in clear waters, chl_oc4me (BAC and maximum band ratio algorithm, log10 scaled); *algal pigment concentration in turbid waters, chl_nn (neural net algorithm, log10 scaled); *total suspended matter concentration, tsm_nn (neural net algorithm, log10 scaled); *diffuse attenuation coefficient Kd of downward irradiance at 490 nm, trsp (BAC and M07 algorithm, log10 scaled); *absorption coefficient at 443 nm of coloured detrital and dissolved organic matter, iop_nn (neural net algorithm, log10 scaled); *instantaneous photosynthetically active radiation, PAR (BAC and clear-sky ocean algorithm); *aerosol optical thickness T865 and aerosol Angstrom exponent A865, w_aer (BAC algorithm, A for bands 779 and 865 nm) *integrated water vapour column, iwv (1D-Var algorithm). The geophysical products are accompanied by error estimate products. Pixel classification, quality and science flags, as well as meteorological, geometry and geolocation data at tie points are provided.\n\n- All Sentinel-3 NRT products are available at pick-up point in less than 3h\n- All Sentinel-3 Non Time Critical (NTC) products are available at pick-up point in less than 30 days\nSentinel-3 is part of a series of Sentinel satellites, under the umbrella of the EU Copernicus programme.",
          "end_datetime": "2024-06-02T09:21:36.897551Z",
          "instruments": [
           "OLCI"
          ],
          "license": "proprietary",
          "order:status": "succeeded",
          "platform": "SENTINEL-3A,SENTINEL-3B",
          "processing:level": 2,
          "providers": [
           {
            "description": "DestineE Data Lake Fresh Data Pool",
            "name": "dedl",
            "priority": 1,
            "roles": [
             "host"
            ],
            "url": "https://creodias.eu/"
           }
          ],
          "published": "2024-06-03T16:52:13.358848Z",
          "sar:instrument_mode": "Earth Observation",
          "sar:product_type": "OL_2_WFR___",
          "sat:absolute_orbit": 43186,
          "sat:orbit_state": "DESCENDING",
          "sat:relative_orbit": 93,
          "start_datetime": "2024-06-02T09:18:36.897551Z",
          "updated": "2024-06-03T16:52:17.326081Z"
         },
         "stac_extensions": [
          "https://stac-extensions.github.io/timestamps/v1.0.0/schema.json",
          "https://stac-extensions.github.io/processing/v1.0.0/schema.json",
          "https://stac-extensions.github.io/sat/v1.0.0/schema.json",
          "https://stac-extensions.github.io/sar/v1.0.0/schema.json",
          "https://stac-extensions.github.io/order/v1.1.0/schema.json"
         ],
         "stac_version": "1.0.0",
         "type": "Feature"
        },
        {
         "assets": {
          "EOPMetadata.xml": {
           "alternate": {
            "origin": {
             "href": "s3://eodata/Sentinel-3/OLCI/OL_2_WFR___/2024/06/02/S3A_OL_2_WFR____20240602T091837_20240602T092137_20240602T112335_0179_113_093_1800_MAR_O_NR_003.SEN3/EOPMetadata.xml",
             "title": "Origin asset link",
             "type": "text/xml"
            }
           },
           "href": "https://hda.data.destination-earth.eu/stac/collections/EO.EUM.DAT.SENTINEL-3.OL_2_WFR___/items/S3A_OL_2_WFR____20240602T091837_20240602T092137_20240602T112335_0179_113_093_1800_MAR_O_NR_003/download/EOPMetadata.xml?provider=dedl",
           "roles": [
            "metadata"
           ],
           "title": "EOPMetadata.xml",
           "type": "text/xml"
          },
          "Oa01_reflectance.nc": {
           "alternate": {
            "origin": {
             "href": "s3://eodata/Sentinel-3/OLCI/OL_2_WFR___/2024/06/02/S3A_OL_2_WFR____20240602T091837_20240602T092137_20240602T112335_0179_113_093_1800_MAR_O_NR_003.SEN3/Oa01_reflectance.nc",
             "title": "Origin asset link",
             "type": "application/x-netcdf"
            }
           },
           "href": "https://hda.data.destination-earth.eu/stac/collections/EO.EUM.DAT.SENTINEL-3.OL_2_WFR___/items/S3A_OL_2_WFR____20240602T091837_20240602T092137_20240602T112335_0179_113_093_1800_MAR_O_NR_003/download/Oa01_reflectance.nc?provider=dedl",
           "roles": [
            "data"
           ],
           "title": "Oa01_reflectance.nc",
           "type": "application/x-netcdf"
          },
          "Oa02_reflectance.nc": {
           "alternate": {
            "origin": {
             "href": "s3://eodata/Sentinel-3/OLCI/OL_2_WFR___/2024/06/02/S3A_OL_2_WFR____20240602T091837_20240602T092137_20240602T112335_0179_113_093_1800_MAR_O_NR_003.SEN3/Oa02_reflectance.nc",
             "title": "Origin asset link",
             "type": "application/x-netcdf"
            }
           },
           "href": "https://hda.data.destination-earth.eu/stac/collections/EO.EUM.DAT.SENTINEL-3.OL_2_WFR___/items/S3A_OL_2_WFR____20240602T091837_20240602T092137_20240602T112335_0179_113_093_1800_MAR_O_NR_003/download/Oa02_reflectance.nc?provider=dedl",
           "roles": [
            "data"
           ],
           "title": "Oa02_reflectance.nc",
           "type": "application/x-netcdf"
          },
          "Oa03_reflectance.nc": {
           "alternate": {
            "origin": {
             "href": "s3://eodata/Sentinel-3/OLCI/OL_2_WFR___/2024/06/02/S3A_OL_2_WFR____20240602T091837_20240602T092137_20240602T112335_0179_113_093_1800_MAR_O_NR_003.SEN3/Oa03_reflectance.nc",
             "title": "Origin asset link",
             "type": "application/x-netcdf"
            }
           },
           "href": "https://hda.data.destination-earth.eu/stac/collections/EO.EUM.DAT.SENTINEL-3.OL_2_WFR___/items/S3A_OL_2_WFR____20240602T091837_20240602T092137_20240602T112335_0179_113_093_1800_MAR_O_NR_003/download/Oa03_reflectance.nc?provider=dedl",
           "roles": [
            "data"
           ],
           "title": "Oa03_reflectance.nc",
           "type": "application/x-netcdf"
          },
          "Oa04_reflectance.nc": {
           "alternate": {
            "origin": {
             "href": "s3://eodata/Sentinel-3/OLCI/OL_2_WFR___/2024/06/02/S3A_OL_2_WFR____20240602T091837_20240602T092137_20240602T112335_0179_113_093_1800_MAR_O_NR_003.SEN3/Oa04_reflectance.nc",
             "title": "Origin asset link",
             "type": "application/x-netcdf"
            }
           },
           "href": "https://hda.data.destination-earth.eu/stac/collections/EO.EUM.DAT.SENTINEL-3.OL_2_WFR___/items/S3A_OL_2_WFR____20240602T091837_20240602T092137_20240602T112335_0179_113_093_1800_MAR_O_NR_003/download/Oa04_reflectance.nc?provider=dedl",
           "roles": [
            "data"
           ],
           "title": "Oa04_reflectance.nc",
           "type": "application/x-netcdf"
          },
          "Oa05_reflectance.nc": {
           "alternate": {
            "origin": {
             "href": "s3://eodata/Sentinel-3/OLCI/OL_2_WFR___/2024/06/02/S3A_OL_2_WFR____20240602T091837_20240602T092137_20240602T112335_0179_113_093_1800_MAR_O_NR_003.SEN3/Oa05_reflectance.nc",
             "title": "Origin asset link",
             "type": "application/x-netcdf"
            }
           },
           "href": "https://hda.data.destination-earth.eu/stac/collections/EO.EUM.DAT.SENTINEL-3.OL_2_WFR___/items/S3A_OL_2_WFR____20240602T091837_20240602T092137_20240602T112335_0179_113_093_1800_MAR_O_NR_003/download/Oa05_reflectance.nc?provider=dedl",
           "roles": [
            "data"
           ],
           "title": "Oa05_reflectance.nc",
           "type": "application/x-netcdf"
          },
          "Oa06_reflectance.nc": {
           "alternate": {
            "origin": {
             "href": "s3://eodata/Sentinel-3/OLCI/OL_2_WFR___/2024/06/02/S3A_OL_2_WFR____20240602T091837_20240602T092137_20240602T112335_0179_113_093_1800_MAR_O_NR_003.SEN3/Oa06_reflectance.nc",
             "title": "Origin asset link",
             "type": "application/x-netcdf"
            }
           },
           "href": "https://hda.data.destination-earth.eu/stac/collections/EO.EUM.DAT.SENTINEL-3.OL_2_WFR___/items/S3A_OL_2_WFR____20240602T091837_20240602T092137_20240602T112335_0179_113_093_1800_MAR_O_NR_003/download/Oa06_reflectance.nc?provider=dedl",
           "roles": [
            "data"
           ],
           "title": "Oa06_reflectance.nc",
           "type": "application/x-netcdf"
          },
          "Oa07_reflectance.nc": {
           "alternate": {
            "origin": {
             "href": "s3://eodata/Sentinel-3/OLCI/OL_2_WFR___/2024/06/02/S3A_OL_2_WFR____20240602T091837_20240602T092137_20240602T112335_0179_113_093_1800_MAR_O_NR_003.SEN3/Oa07_reflectance.nc",
             "title": "Origin asset link",
             "type": "application/x-netcdf"
            }
           },
           "href": "https://hda.data.destination-earth.eu/stac/collections/EO.EUM.DAT.SENTINEL-3.OL_2_WFR___/items/S3A_OL_2_WFR____20240602T091837_20240602T092137_20240602T112335_0179_113_093_1800_MAR_O_NR_003/download/Oa07_reflectance.nc?provider=dedl",
           "roles": [
            "data"
           ],
           "title": "Oa07_reflectance.nc",
           "type": "application/x-netcdf"
          },
          "Oa08_reflectance.nc": {
           "alternate": {
            "origin": {
             "href": "s3://eodata/Sentinel-3/OLCI/OL_2_WFR___/2024/06/02/S3A_OL_2_WFR____20240602T091837_20240602T092137_20240602T112335_0179_113_093_1800_MAR_O_NR_003.SEN3/Oa08_reflectance.nc",
             "title": "Origin asset link",
             "type": "application/x-netcdf"
            }
           },
           "href": "https://hda.data.destination-earth.eu/stac/collections/EO.EUM.DAT.SENTINEL-3.OL_2_WFR___/items/S3A_OL_2_WFR____20240602T091837_20240602T092137_20240602T112335_0179_113_093_1800_MAR_O_NR_003/download/Oa08_reflectance.nc?provider=dedl",
           "roles": [
            "data"
           ],
           "title": "Oa08_reflectance.nc",
           "type": "application/x-netcdf"
          },
          "Oa09_reflectance.nc": {
           "alternate": {
            "origin": {
             "href": "s3://eodata/Sentinel-3/OLCI/OL_2_WFR___/2024/06/02/S3A_OL_2_WFR____20240602T091837_20240602T092137_20240602T112335_0179_113_093_1800_MAR_O_NR_003.SEN3/Oa09_reflectance.nc",
             "title": "Origin asset link",
             "type": "application/x-netcdf"
            }
           },
           "href": "https://hda.data.destination-earth.eu/stac/collections/EO.EUM.DAT.SENTINEL-3.OL_2_WFR___/items/S3A_OL_2_WFR____20240602T091837_20240602T092137_20240602T112335_0179_113_093_1800_MAR_O_NR_003/download/Oa09_reflectance.nc?provider=dedl",
           "roles": [
            "data"
           ],
           "title": "Oa09_reflectance.nc",
           "type": "application/x-netcdf"
          },
          "Oa10_reflectance.nc": {
           "alternate": {
            "origin": {
             "href": "s3://eodata/Sentinel-3/OLCI/OL_2_WFR___/2024/06/02/S3A_OL_2_WFR____20240602T091837_20240602T092137_20240602T112335_0179_113_093_1800_MAR_O_NR_003.SEN3/Oa10_reflectance.nc",
             "title": "Origin asset link",
             "type": "application/x-netcdf"
            }
           },
           "href": "https://hda.data.destination-earth.eu/stac/collections/EO.EUM.DAT.SENTINEL-3.OL_2_WFR___/items/S3A_OL_2_WFR____20240602T091837_20240602T092137_20240602T112335_0179_113_093_1800_MAR_O_NR_003/download/Oa10_reflectance.nc?provider=dedl",
           "roles": [
            "data"
           ],
           "title": "Oa10_reflectance.nc",
           "type": "application/x-netcdf"
          },
          "Oa11_reflectance.nc": {
           "alternate": {
            "origin": {
             "href": "s3://eodata/Sentinel-3/OLCI/OL_2_WFR___/2024/06/02/S3A_OL_2_WFR____20240602T091837_20240602T092137_20240602T112335_0179_113_093_1800_MAR_O_NR_003.SEN3/Oa11_reflectance.nc",
             "title": "Origin asset link",
             "type": "application/x-netcdf"
            }
           },
           "href": "https://hda.data.destination-earth.eu/stac/collections/EO.EUM.DAT.SENTINEL-3.OL_2_WFR___/items/S3A_OL_2_WFR____20240602T091837_20240602T092137_20240602T112335_0179_113_093_1800_MAR_O_NR_003/download/Oa11_reflectance.nc?provider=dedl",
           "roles": [
            "data"
           ],
           "title": "Oa11_reflectance.nc",
           "type": "application/x-netcdf"
          },
          "Oa12_reflectance.nc": {
           "alternate": {
            "origin": {
             "href": "s3://eodata/Sentinel-3/OLCI/OL_2_WFR___/2024/06/02/S3A_OL_2_WFR____20240602T091837_20240602T092137_20240602T112335_0179_113_093_1800_MAR_O_NR_003.SEN3/Oa12_reflectance.nc",
             "title": "Origin asset link",
             "type": "application/x-netcdf"
            }
           },
           "href": "https://hda.data.destination-earth.eu/stac/collections/EO.EUM.DAT.SENTINEL-3.OL_2_WFR___/items/S3A_OL_2_WFR____20240602T091837_20240602T092137_20240602T112335_0179_113_093_1800_MAR_O_NR_003/download/Oa12_reflectance.nc?provider=dedl",
           "roles": [
            "data"
           ],
           "title": "Oa12_reflectance.nc",
           "type": "application/x-netcdf"
          },
          "Oa16_reflectance.nc": {
           "alternate": {
            "origin": {
             "href": "s3://eodata/Sentinel-3/OLCI/OL_2_WFR___/2024/06/02/S3A_OL_2_WFR____20240602T091837_20240602T092137_20240602T112335_0179_113_093_1800_MAR_O_NR_003.SEN3/Oa16_reflectance.nc",
             "title": "Origin asset link",
             "type": "application/x-netcdf"
            }
           },
           "href": "https://hda.data.destination-earth.eu/stac/collections/EO.EUM.DAT.SENTINEL-3.OL_2_WFR___/items/S3A_OL_2_WFR____20240602T091837_20240602T092137_20240602T112335_0179_113_093_1800_MAR_O_NR_003/download/Oa16_reflectance.nc?provider=dedl",
           "roles": [
            "data"
           ],
           "title": "Oa16_reflectance.nc",
           "type": "application/x-netcdf"
          },
          "Oa17_reflectance.nc": {
           "alternate": {
            "origin": {
             "href": "s3://eodata/Sentinel-3/OLCI/OL_2_WFR___/2024/06/02/S3A_OL_2_WFR____20240602T091837_20240602T092137_20240602T112335_0179_113_093_1800_MAR_O_NR_003.SEN3/Oa17_reflectance.nc",
             "title": "Origin asset link",
             "type": "application/x-netcdf"
            }
           },
           "href": "https://hda.data.destination-earth.eu/stac/collections/EO.EUM.DAT.SENTINEL-3.OL_2_WFR___/items/S3A_OL_2_WFR____20240602T091837_20240602T092137_20240602T112335_0179_113_093_1800_MAR_O_NR_003/download/Oa17_reflectance.nc?provider=dedl",
           "roles": [
            "data"
           ],
           "title": "Oa17_reflectance.nc",
           "type": "application/x-netcdf"
          },
          "Oa18_reflectance.nc": {
           "alternate": {
            "origin": {
             "href": "s3://eodata/Sentinel-3/OLCI/OL_2_WFR___/2024/06/02/S3A_OL_2_WFR____20240602T091837_20240602T092137_20240602T112335_0179_113_093_1800_MAR_O_NR_003.SEN3/Oa18_reflectance.nc",
             "title": "Origin asset link",
             "type": "application/x-netcdf"
            }
           },
           "href": "https://hda.data.destination-earth.eu/stac/collections/EO.EUM.DAT.SENTINEL-3.OL_2_WFR___/items/S3A_OL_2_WFR____20240602T091837_20240602T092137_20240602T112335_0179_113_093_1800_MAR_O_NR_003/download/Oa18_reflectance.nc?provider=dedl",
           "roles": [
            "data"
           ],
           "title": "Oa18_reflectance.nc",
           "type": "application/x-netcdf"
          },
          "Oa21_reflectance.nc": {
           "alternate": {
            "origin": {
             "href": "s3://eodata/Sentinel-3/OLCI/OL_2_WFR___/2024/06/02/S3A_OL_2_WFR____20240602T091837_20240602T092137_20240602T112335_0179_113_093_1800_MAR_O_NR_003.SEN3/Oa21_reflectance.nc",
             "title": "Origin asset link",
             "type": "application/x-netcdf"
            }
           },
           "href": "https://hda.data.destination-earth.eu/stac/collections/EO.EUM.DAT.SENTINEL-3.OL_2_WFR___/items/S3A_OL_2_WFR____20240602T091837_20240602T092137_20240602T112335_0179_113_093_1800_MAR_O_NR_003/download/Oa21_reflectance.nc?provider=dedl",
           "roles": [
            "data"
           ],
           "title": "Oa21_reflectance.nc",
           "type": "application/x-netcdf"
          },
          "browse.jpg": {
           "alternate": {
            "origin": {
             "href": "s3://eodata/Sentinel-3/OLCI/OL_2_WFR___/2024/06/02/S3A_OL_2_WFR____20240602T091837_20240602T092137_20240602T112335_0179_113_093_1800_MAR_O_NR_003.SEN3/browse.jpg",
             "title": "Origin asset link",
             "type": "image/jpeg"
            }
           },
           "href": "https://hda.data.destination-earth.eu/stac/collections/EO.EUM.DAT.SENTINEL-3.OL_2_WFR___/items/S3A_OL_2_WFR____20240602T091837_20240602T092137_20240602T112335_0179_113_093_1800_MAR_O_NR_003/download/browse.jpg?provider=dedl",
           "roles": [
            "metadata"
           ],
           "title": "browse.jpg",
           "type": "image/jpeg"
          },
          "chl_nn.nc": {
           "alternate": {
            "origin": {
             "href": "s3://eodata/Sentinel-3/OLCI/OL_2_WFR___/2024/06/02/S3A_OL_2_WFR____20240602T091837_20240602T092137_20240602T112335_0179_113_093_1800_MAR_O_NR_003.SEN3/chl_nn.nc",
             "title": "Origin asset link",
             "type": "application/x-netcdf"
            }
           },
           "href": "https://hda.data.destination-earth.eu/stac/collections/EO.EUM.DAT.SENTINEL-3.OL_2_WFR___/items/S3A_OL_2_WFR____20240602T091837_20240602T092137_20240602T112335_0179_113_093_1800_MAR_O_NR_003/download/chl_nn.nc?provider=dedl",
           "roles": [
            "data"
           ],
           "title": "chl_nn.nc",
           "type": "application/x-netcdf"
          },
          "chl_oc4me.nc": {
           "alternate": {
            "origin": {
             "href": "s3://eodata/Sentinel-3/OLCI/OL_2_WFR___/2024/06/02/S3A_OL_2_WFR____20240602T091837_20240602T092137_20240602T112335_0179_113_093_1800_MAR_O_NR_003.SEN3/chl_oc4me.nc",
             "title": "Origin asset link",
             "type": "application/x-netcdf"
            }
           },
           "href": "https://hda.data.destination-earth.eu/stac/collections/EO.EUM.DAT.SENTINEL-3.OL_2_WFR___/items/S3A_OL_2_WFR____20240602T091837_20240602T092137_20240602T112335_0179_113_093_1800_MAR_O_NR_003/download/chl_oc4me.nc?provider=dedl",
           "roles": [
            "data"
           ],
           "title": "chl_oc4me.nc",
           "type": "application/x-netcdf"
          },
          "downloadLink": {
           "alternate": {
            "origin": {
             "href": "https://zipper.creodias.eu/odata/v1/Products(2647b99e-a9de-4060-bff1-494a56f01a56)/$value",
             "title": "Origin asset link"
            }
           },
           "href": "https://hda.data.destination-earth.eu/stac/collections/EO.EUM.DAT.SENTINEL-3.OL_2_WFR___/items/S3A_OL_2_WFR____20240602T091837_20240602T092137_20240602T112335_0179_113_093_1800_MAR_O_NR_003/download?provider=dedl",
           "storage:tier": "ONLINE",
           "title": "Download link",
           "type": "application/zip"
          },
          "geo_coordinates.nc": {
           "alternate": {
            "origin": {
             "href": "s3://eodata/Sentinel-3/OLCI/OL_2_WFR___/2024/06/02/S3A_OL_2_WFR____20240602T091837_20240602T092137_20240602T112335_0179_113_093_1800_MAR_O_NR_003.SEN3/geo_coordinates.nc",
             "title": "Origin asset link",
             "type": "application/x-netcdf"
            }
           },
           "href": "https://hda.data.destination-earth.eu/stac/collections/EO.EUM.DAT.SENTINEL-3.OL_2_WFR___/items/S3A_OL_2_WFR____20240602T091837_20240602T092137_20240602T112335_0179_113_093_1800_MAR_O_NR_003/download/geo_coordinates.nc?provider=dedl",
           "roles": [
            "data"
           ],
           "title": "geo_coordinates.nc",
           "type": "application/x-netcdf"
          },
          "instrument_data.nc": {
           "alternate": {
            "origin": {
             "href": "s3://eodata/Sentinel-3/OLCI/OL_2_WFR___/2024/06/02/S3A_OL_2_WFR____20240602T091837_20240602T092137_20240602T112335_0179_113_093_1800_MAR_O_NR_003.SEN3/instrument_data.nc",
             "title": "Origin asset link",
             "type": "application/x-netcdf"
            }
           },
           "href": "https://hda.data.destination-earth.eu/stac/collections/EO.EUM.DAT.SENTINEL-3.OL_2_WFR___/items/S3A_OL_2_WFR____20240602T091837_20240602T092137_20240602T112335_0179_113_093_1800_MAR_O_NR_003/download/instrument_data.nc?provider=dedl",
           "roles": [
            "data"
           ],
           "title": "instrument_data.nc",
           "type": "application/x-netcdf"
          },
          "iop_lsd.nc": {
           "alternate": {
            "origin": {
             "href": "s3://eodata/Sentinel-3/OLCI/OL_2_WFR___/2024/06/02/S3A_OL_2_WFR____20240602T091837_20240602T092137_20240602T112335_0179_113_093_1800_MAR_O_NR_003.SEN3/iop_lsd.nc",
             "title": "Origin asset link",
             "type": "application/x-netcdf"
            }
           },
           "href": "https://hda.data.destination-earth.eu/stac/collections/EO.EUM.DAT.SENTINEL-3.OL_2_WFR___/items/S3A_OL_2_WFR____20240602T091837_20240602T092137_20240602T112335_0179_113_093_1800_MAR_O_NR_003/download/iop_lsd.nc?provider=dedl",
           "roles": [
            "data"
           ],
           "title": "iop_lsd.nc",
           "type": "application/x-netcdf"
          },
          "iop_nn.nc": {
           "alternate": {
            "origin": {
             "href": "s3://eodata/Sentinel-3/OLCI/OL_2_WFR___/2024/06/02/S3A_OL_2_WFR____20240602T091837_20240602T092137_20240602T112335_0179_113_093_1800_MAR_O_NR_003.SEN3/iop_nn.nc",
             "title": "Origin asset link",
             "type": "application/x-netcdf"
            }
           },
           "href": "https://hda.data.destination-earth.eu/stac/collections/EO.EUM.DAT.SENTINEL-3.OL_2_WFR___/items/S3A_OL_2_WFR____20240602T091837_20240602T092137_20240602T112335_0179_113_093_1800_MAR_O_NR_003/download/iop_nn.nc?provider=dedl",
           "roles": [
            "data"
           ],
           "title": "iop_nn.nc",
           "type": "application/x-netcdf"
          },
          "iwv.nc": {
           "alternate": {
            "origin": {
             "href": "s3://eodata/Sentinel-3/OLCI/OL_2_WFR___/2024/06/02/S3A_OL_2_WFR____20240602T091837_20240602T092137_20240602T112335_0179_113_093_1800_MAR_O_NR_003.SEN3/iwv.nc",
             "title": "Origin asset link",
             "type": "application/x-netcdf"
            }
           },
           "href": "https://hda.data.destination-earth.eu/stac/collections/EO.EUM.DAT.SENTINEL-3.OL_2_WFR___/items/S3A_OL_2_WFR____20240602T091837_20240602T092137_20240602T112335_0179_113_093_1800_MAR_O_NR_003/download/iwv.nc?provider=dedl",
           "roles": [
            "data"
           ],
           "title": "iwv.nc",
           "type": "application/x-netcdf"
          },
          "manifest.xml": {
           "alternate": {
            "origin": {
             "href": "s3://eodata/Sentinel-3/OLCI/OL_2_WFR___/2024/06/02/S3A_OL_2_WFR____20240602T091837_20240602T092137_20240602T112335_0179_113_093_1800_MAR_O_NR_003.SEN3/manifest.xml",
             "title": "Origin asset link",
             "type": "text/xml"
            }
           },
           "href": "https://hda.data.destination-earth.eu/stac/collections/EO.EUM.DAT.SENTINEL-3.OL_2_WFR___/items/S3A_OL_2_WFR____20240602T091837_20240602T092137_20240602T112335_0179_113_093_1800_MAR_O_NR_003/download/manifest.xml?provider=dedl",
           "roles": [
            "metadata"
           ],
           "title": "manifest.xml",
           "type": "text/xml"
          },
          "par.nc": {
           "alternate": {
            "origin": {
             "href": "s3://eodata/Sentinel-3/OLCI/OL_2_WFR___/2024/06/02/S3A_OL_2_WFR____20240602T091837_20240602T092137_20240602T112335_0179_113_093_1800_MAR_O_NR_003.SEN3/par.nc",
             "title": "Origin asset link",
             "type": "application/x-netcdf"
            }
           },
           "href": "https://hda.data.destination-earth.eu/stac/collections/EO.EUM.DAT.SENTINEL-3.OL_2_WFR___/items/S3A_OL_2_WFR____20240602T091837_20240602T092137_20240602T112335_0179_113_093_1800_MAR_O_NR_003/download/par.nc?provider=dedl",
           "roles": [
            "data"
           ],
           "title": "par.nc",
           "type": "application/x-netcdf"
          },
          "tie_geo_coordinates.nc": {
           "alternate": {
            "origin": {
             "href": "s3://eodata/Sentinel-3/OLCI/OL_2_WFR___/2024/06/02/S3A_OL_2_WFR____20240602T091837_20240602T092137_20240602T112335_0179_113_093_1800_MAR_O_NR_003.SEN3/tie_geo_coordinates.nc",
             "title": "Origin asset link",
             "type": "application/x-netcdf"
            }
           },
           "href": "https://hda.data.destination-earth.eu/stac/collections/EO.EUM.DAT.SENTINEL-3.OL_2_WFR___/items/S3A_OL_2_WFR____20240602T091837_20240602T092137_20240602T112335_0179_113_093_1800_MAR_O_NR_003/download/tie_geo_coordinates.nc?provider=dedl",
           "roles": [
            "data"
           ],
           "title": "tie_geo_coordinates.nc",
           "type": "application/x-netcdf"
          },
          "tie_geometries.nc": {
           "alternate": {
            "origin": {
             "href": "s3://eodata/Sentinel-3/OLCI/OL_2_WFR___/2024/06/02/S3A_OL_2_WFR____20240602T091837_20240602T092137_20240602T112335_0179_113_093_1800_MAR_O_NR_003.SEN3/tie_geometries.nc",
             "title": "Origin asset link",
             "type": "application/x-netcdf"
            }
           },
           "href": "https://hda.data.destination-earth.eu/stac/collections/EO.EUM.DAT.SENTINEL-3.OL_2_WFR___/items/S3A_OL_2_WFR____20240602T091837_20240602T092137_20240602T112335_0179_113_093_1800_MAR_O_NR_003/download/tie_geometries.nc?provider=dedl",
           "roles": [
            "data"
           ],
           "title": "tie_geometries.nc",
           "type": "application/x-netcdf"
          },
          "tie_meteo.nc": {
           "alternate": {
            "origin": {
             "href": "s3://eodata/Sentinel-3/OLCI/OL_2_WFR___/2024/06/02/S3A_OL_2_WFR____20240602T091837_20240602T092137_20240602T112335_0179_113_093_1800_MAR_O_NR_003.SEN3/tie_meteo.nc",
             "title": "Origin asset link",
             "type": "application/x-netcdf"
            }
           },
           "href": "https://hda.data.destination-earth.eu/stac/collections/EO.EUM.DAT.SENTINEL-3.OL_2_WFR___/items/S3A_OL_2_WFR____20240602T091837_20240602T092137_20240602T112335_0179_113_093_1800_MAR_O_NR_003/download/tie_meteo.nc?provider=dedl",
           "roles": [
            "data"
           ],
           "title": "tie_meteo.nc",
           "type": "application/x-netcdf"
          },
          "time_coordinates.nc": {
           "alternate": {
            "origin": {
             "href": "s3://eodata/Sentinel-3/OLCI/OL_2_WFR___/2024/06/02/S3A_OL_2_WFR____20240602T091837_20240602T092137_20240602T112335_0179_113_093_1800_MAR_O_NR_003.SEN3/time_coordinates.nc",
             "title": "Origin asset link",
             "type": "application/x-netcdf"
            }
           },
           "href": "https://hda.data.destination-earth.eu/stac/collections/EO.EUM.DAT.SENTINEL-3.OL_2_WFR___/items/S3A_OL_2_WFR____20240602T091837_20240602T092137_20240602T112335_0179_113_093_1800_MAR_O_NR_003/download/time_coordinates.nc?provider=dedl",
           "roles": [
            "data"
           ],
           "title": "time_coordinates.nc",
           "type": "application/x-netcdf"
          },
          "trsp.nc": {
           "alternate": {
            "origin": {
             "href": "s3://eodata/Sentinel-3/OLCI/OL_2_WFR___/2024/06/02/S3A_OL_2_WFR____20240602T091837_20240602T092137_20240602T112335_0179_113_093_1800_MAR_O_NR_003.SEN3/trsp.nc",
             "title": "Origin asset link",
             "type": "application/x-netcdf"
            }
           },
           "href": "https://hda.data.destination-earth.eu/stac/collections/EO.EUM.DAT.SENTINEL-3.OL_2_WFR___/items/S3A_OL_2_WFR____20240602T091837_20240602T092137_20240602T112335_0179_113_093_1800_MAR_O_NR_003/download/trsp.nc?provider=dedl",
           "roles": [
            "data"
           ],
           "title": "trsp.nc",
           "type": "application/x-netcdf"
          },
          "tsm_nn.nc": {
           "alternate": {
            "origin": {
             "href": "s3://eodata/Sentinel-3/OLCI/OL_2_WFR___/2024/06/02/S3A_OL_2_WFR____20240602T091837_20240602T092137_20240602T112335_0179_113_093_1800_MAR_O_NR_003.SEN3/tsm_nn.nc",
             "title": "Origin asset link",
             "type": "application/x-netcdf"
            }
           },
           "href": "https://hda.data.destination-earth.eu/stac/collections/EO.EUM.DAT.SENTINEL-3.OL_2_WFR___/items/S3A_OL_2_WFR____20240602T091837_20240602T092137_20240602T112335_0179_113_093_1800_MAR_O_NR_003/download/tsm_nn.nc?provider=dedl",
           "roles": [
            "data"
           ],
           "title": "tsm_nn.nc",
           "type": "application/x-netcdf"
          },
          "w_aer.nc": {
           "alternate": {
            "origin": {
             "href": "s3://eodata/Sentinel-3/OLCI/OL_2_WFR___/2024/06/02/S3A_OL_2_WFR____20240602T091837_20240602T092137_20240602T112335_0179_113_093_1800_MAR_O_NR_003.SEN3/w_aer.nc",
             "title": "Origin asset link",
             "type": "application/x-netcdf"
            }
           },
           "href": "https://hda.data.destination-earth.eu/stac/collections/EO.EUM.DAT.SENTINEL-3.OL_2_WFR___/items/S3A_OL_2_WFR____20240602T091837_20240602T092137_20240602T112335_0179_113_093_1800_MAR_O_NR_003/download/w_aer.nc?provider=dedl",
           "roles": [
            "data"
           ],
           "title": "w_aer.nc",
           "type": "application/x-netcdf"
          },
          "wqsf.nc": {
           "alternate": {
            "origin": {
             "href": "s3://eodata/Sentinel-3/OLCI/OL_2_WFR___/2024/06/02/S3A_OL_2_WFR____20240602T091837_20240602T092137_20240602T112335_0179_113_093_1800_MAR_O_NR_003.SEN3/wqsf.nc",
             "title": "Origin asset link",
             "type": "application/x-netcdf"
            }
           },
           "href": "https://hda.data.destination-earth.eu/stac/collections/EO.EUM.DAT.SENTINEL-3.OL_2_WFR___/items/S3A_OL_2_WFR____20240602T091837_20240602T092137_20240602T112335_0179_113_093_1800_MAR_O_NR_003/download/wqsf.nc?provider=dedl",
           "roles": [
            "data"
           ],
           "title": "wqsf.nc",
           "type": "application/x-netcdf"
          },
          "xfdumanifest.xml": {
           "alternate": {
            "origin": {
             "href": "s3://eodata/Sentinel-3/OLCI/OL_2_WFR___/2024/06/02/S3A_OL_2_WFR____20240602T091837_20240602T092137_20240602T112335_0179_113_093_1800_MAR_O_NR_003.SEN3/xfdumanifest.xml",
             "title": "Origin asset link",
             "type": "text/xml"
            }
           },
           "href": "https://hda.data.destination-earth.eu/stac/collections/EO.EUM.DAT.SENTINEL-3.OL_2_WFR___/items/S3A_OL_2_WFR____20240602T091837_20240602T092137_20240602T112335_0179_113_093_1800_MAR_O_NR_003/download/xfdumanifest.xml?provider=dedl",
           "roles": [
            "metadata"
           ],
           "title": "xfdumanifest.xml",
           "type": "text/xml"
          }
         },
         "bbox": [
          7.22855,
          59.9625,
          43.9623,
          73.3547
         ],
         "collection": "EO.EUM.DAT.SENTINEL-3.OL_2_WFR___",
         "geometry": {
          "coordinates": [
           [
            [
             7.22855,
             62.9165
            ],
            [
             8.5847,
             62.87
            ],
            [
             9.9496,
             62.8102
            ],
            [
             11.3003,
             62.7403
            ],
            [
             12.6325,
             62.6557
            ],
            [
             13.9641,
             62.5579
            ],
            [
             15.2729,
             62.4488
            ],
            [
             16.5833,
             62.3267
            ],
            [
             17.8785,
             62.1922
            ],
            [
             19.1628,
             62.0456
            ],
            [
             20.4359,
             61.8869
            ],
            [
             21.6958,
             61.7163
            ],
            [
             22.9439,
             61.534
            ],
            [
             24.1722,
             61.3414
            ],
            [
             25.3873,
             61.1378
            ],
            [
             26.5896,
             60.9227
            ],
            [
             27.7742,
             60.6985
            ],
            [
             28.9395,
             60.4634
            ],
            [
             30.0906,
             60.2176
            ],
            [
             31.2204,
             59.9625
            ],
            [
             33.6593,
             62.4031
            ],
            [
             36.5133,
             64.8014
            ],
            [
             39.8947,
             67.138
            ],
            [
             43.9623,
             69.3945
            ],
            [
             42.51,
             69.7483
            ],
            [
             41.0009,
             70.0913
            ],
            [
             39.4527,
             70.4188
            ],
            [
             37.8439,
             70.7336
            ],
            [
             36.1902,
             71.0342
            ],
            [
             34.4909,
             71.319
            ],
            [
             32.7388,
             71.5888
            ],
            [
             30.9394,
             71.8422
            ],
            [
             29.0887,
             72.0789
            ],
            [
             27.193,
             72.2975
            ],
            [
             25.2559,
             72.4972
            ],
            [
             23.2842,
             72.677
            ],
            [
             21.2652,
             72.8371
            ],
            [
             19.2108,
             72.9774
            ],
            [
             17.1246,
             73.0967
            ],
            [
             15.0239,
             73.1942
            ],
            [
             12.8873,
             73.2706
            ],
            [
             10.7425,
             73.3222
            ],
            [
             8.58636,
             73.3547
            ],
            [
             8.27231,
             70.7454
            ],
            [
             7.93654,
             68.1353
            ],
            [
             7.58724,
             65.5239
            ],
            [
             7.22855,
             62.9165
            ]
           ]
          ],
          "type": "Polygon"
         },
         "id": "S3A_OL_2_WFR____20240602T091837_20240602T092137_20240602T112335_0179_113_093_1800_MAR_O_NR_003",
         "links": [
          {
           "href": "https://hda.data.destination-earth.eu/stac/collections/EO.EUM.DAT.SENTINEL-3.OL_2_WFR___/items/S3A_OL_2_WFR____20240602T091837_20240602T092137_20240602T112335_0179_113_093_1800_MAR_O_NR_003",
           "rel": "self",
           "title": "S3A_OL_2_WFR____20240602T091837_20240602T092137_20240602T112335_0179_113_093_1800_MAR_O_NR_003"
          },
          {
           "href": "https://hda.data.destination-earth.eu/stac/",
           "rel": "root"
          },
          {
           "href": "https://hda.data.destination-earth.eu/stac/collections/EO.EUM.DAT.SENTINEL-3.OL_2_WFR___",
           "rel": "parent",
           "title": "EO.EUM.DAT.SENTINEL-3.OL_2_WFR___"
          },
          {
           "href": "https://hda.data.destination-earth.eu/stac/collections/EO.EUM.DAT.SENTINEL-3.OL_2_WFR___",
           "rel": "collection",
           "title": "EO.EUM.DAT.SENTINEL-3.OL_2_WFR___"
          }
         ],
         "properties": {
          "constellation": "SENTINEL-3",
          "datetime": "2024-06-02T09:18:36.897838Z",
          "dedl:alias": "EO.EUM.DAT.SENTINEL-3.OL_2_WFR___",
          "dedl:baselineCollection": "003",
          "dedl:beginningDateTime": "2024-06-02T09:18:36.897838Z",
          "dedl:endingDateTime": "2024-06-02T09:21:36.897838Z",
          "dedl:productIdentifier": "/eodata/Sentinel-3/OLCI/OL_2_WFR___/2024/06/02/S3A_OL_2_WFR____20240602T091837_20240602T092137_20240602T112335_0179_113_093_1800_MAR_O_NR_003.SEN3",
          "dedl:scope": {
           "discover": null,
           "download": "hda-public-data-access",
           "search": "hda-public-data-access"
          },
          "dedl:timeliness": "NR",
          "dedl:uid": "2647b99e-a9de-4060-bff1-494a56f01a56",
          "description": "OLCI (Ocean and Land Colour Instrument) Ocean Colour Geophysical Products. Full Resolution: 300m at nadir. All Sentinel-3 NRT products are available at pick-up point in less than 3h. Level 2 marine products include the following: * water-leaving reflectances in 16 bands, Oa**_reflectance (Baseline Atmospheric Correction (BAC) algorithm, bands: 400, 412, 442, 490, 510, 560, 620, 665, 674, 681, 709, 754, 779, 865, 885, 1024 nanometer (nm)); *algal pigment concentration in clear waters, chl_oc4me (BAC and maximum band ratio algorithm, log10 scaled); *algal pigment concentration in turbid waters, chl_nn (neural net algorithm, log10 scaled); *total suspended matter concentration, tsm_nn (neural net algorithm, log10 scaled); *diffuse attenuation coefficient Kd of downward irradiance at 490 nm, trsp (BAC and M07 algorithm, log10 scaled); *absorption coefficient at 443 nm of coloured detrital and dissolved organic matter, iop_nn (neural net algorithm, log10 scaled); *instantaneous photosynthetically active radiation, PAR (BAC and clear-sky ocean algorithm); *aerosol optical thickness T865 and aerosol Angstrom exponent A865, w_aer (BAC algorithm, A for bands 779 and 865 nm) *integrated water vapour column, iwv (1D-Var algorithm). The geophysical products are accompanied by error estimate products. Pixel classification, quality and science flags, as well as meteorological, geometry and geolocation data at tie points are provided.\n\n- All Sentinel-3 NRT products are available at pick-up point in less than 3h\n- All Sentinel-3 Non Time Critical (NTC) products are available at pick-up point in less than 30 days\nSentinel-3 is part of a series of Sentinel satellites, under the umbrella of the EU Copernicus programme.",
          "end_datetime": "2024-06-02T09:21:36.897838Z",
          "instruments": [
           "OLCI"
          ],
          "license": "proprietary",
          "order:status": "succeeded",
          "platform": "SENTINEL-3A,SENTINEL-3B",
          "processing:level": 2,
          "providers": [
           {
            "description": "DestineE Data Lake Fresh Data Pool",
            "name": "dedl",
            "priority": 1,
            "roles": [
             "host"
            ],
            "url": "https://creodias.eu/"
           }
          ],
          "published": "2024-06-02T11:32:39.932036Z",
          "sar:instrument_mode": "Earth Observation",
          "sar:product_type": "OL_2_WFR___",
          "sat:absolute_orbit": 43186,
          "sat:orbit_state": "DESCENDING",
          "sat:relative_orbit": 93,
          "start_datetime": "2024-06-02T09:18:36.897838Z",
          "updated": "2024-06-02T11:32:43.295826Z"
         },
         "stac_extensions": [
          "https://stac-extensions.github.io/timestamps/v1.0.0/schema.json",
          "https://stac-extensions.github.io/processing/v1.0.0/schema.json",
          "https://stac-extensions.github.io/sat/v1.0.0/schema.json",
          "https://stac-extensions.github.io/sar/v1.0.0/schema.json",
          "https://stac-extensions.github.io/order/v1.1.0/schema.json"
         ],
         "stac_version": "1.0.0",
         "type": "Feature"
        },
        {
         "assets": {
          "EOPMetadata.xml": {
           "alternate": {
            "origin": {
             "href": "s3://eodata/Sentinel-3/OLCI/OL_2_WFR___/2024/06/02/S3A_OL_2_WFR____20240602T092137_20240602T092437_20240603T163036_0179_113_093_1980_MAR_O_NT_003.SEN3/EOPMetadata.xml",
             "title": "Origin asset link",
             "type": "text/xml"
            }
           },
           "href": "https://hda.data.destination-earth.eu/stac/collections/EO.EUM.DAT.SENTINEL-3.OL_2_WFR___/items/S3A_OL_2_WFR____20240602T092137_20240602T092437_20240603T163036_0179_113_093_1980_MAR_O_NT_003/download/EOPMetadata.xml?provider=dedl",
           "roles": [
            "metadata"
           ],
           "title": "EOPMetadata.xml",
           "type": "text/xml"
          },
          "Oa01_reflectance.nc": {
           "alternate": {
            "origin": {
             "href": "s3://eodata/Sentinel-3/OLCI/OL_2_WFR___/2024/06/02/S3A_OL_2_WFR____20240602T092137_20240602T092437_20240603T163036_0179_113_093_1980_MAR_O_NT_003.SEN3/Oa01_reflectance.nc",
             "title": "Origin asset link",
             "type": "application/x-netcdf"
            }
           },
           "href": "https://hda.data.destination-earth.eu/stac/collections/EO.EUM.DAT.SENTINEL-3.OL_2_WFR___/items/S3A_OL_2_WFR____20240602T092137_20240602T092437_20240603T163036_0179_113_093_1980_MAR_O_NT_003/download/Oa01_reflectance.nc?provider=dedl",
           "roles": [
            "data"
           ],
           "title": "Oa01_reflectance.nc",
           "type": "application/x-netcdf"
          },
          "Oa02_reflectance.nc": {
           "alternate": {
            "origin": {
             "href": "s3://eodata/Sentinel-3/OLCI/OL_2_WFR___/2024/06/02/S3A_OL_2_WFR____20240602T092137_20240602T092437_20240603T163036_0179_113_093_1980_MAR_O_NT_003.SEN3/Oa02_reflectance.nc",
             "title": "Origin asset link",
             "type": "application/x-netcdf"
            }
           },
           "href": "https://hda.data.destination-earth.eu/stac/collections/EO.EUM.DAT.SENTINEL-3.OL_2_WFR___/items/S3A_OL_2_WFR____20240602T092137_20240602T092437_20240603T163036_0179_113_093_1980_MAR_O_NT_003/download/Oa02_reflectance.nc?provider=dedl",
           "roles": [
            "data"
           ],
           "title": "Oa02_reflectance.nc",
           "type": "application/x-netcdf"
          },
          "Oa03_reflectance.nc": {
           "alternate": {
            "origin": {
             "href": "s3://eodata/Sentinel-3/OLCI/OL_2_WFR___/2024/06/02/S3A_OL_2_WFR____20240602T092137_20240602T092437_20240603T163036_0179_113_093_1980_MAR_O_NT_003.SEN3/Oa03_reflectance.nc",
             "title": "Origin asset link",
             "type": "application/x-netcdf"
            }
           },
           "href": "https://hda.data.destination-earth.eu/stac/collections/EO.EUM.DAT.SENTINEL-3.OL_2_WFR___/items/S3A_OL_2_WFR____20240602T092137_20240602T092437_20240603T163036_0179_113_093_1980_MAR_O_NT_003/download/Oa03_reflectance.nc?provider=dedl",
           "roles": [
            "data"
           ],
           "title": "Oa03_reflectance.nc",
           "type": "application/x-netcdf"
          },
          "Oa04_reflectance.nc": {
           "alternate": {
            "origin": {
             "href": "s3://eodata/Sentinel-3/OLCI/OL_2_WFR___/2024/06/02/S3A_OL_2_WFR____20240602T092137_20240602T092437_20240603T163036_0179_113_093_1980_MAR_O_NT_003.SEN3/Oa04_reflectance.nc",
             "title": "Origin asset link",
             "type": "application/x-netcdf"
            }
           },
           "href": "https://hda.data.destination-earth.eu/stac/collections/EO.EUM.DAT.SENTINEL-3.OL_2_WFR___/items/S3A_OL_2_WFR____20240602T092137_20240602T092437_20240603T163036_0179_113_093_1980_MAR_O_NT_003/download/Oa04_reflectance.nc?provider=dedl",
           "roles": [
            "data"
           ],
           "title": "Oa04_reflectance.nc",
           "type": "application/x-netcdf"
          },
          "Oa05_reflectance.nc": {
           "alternate": {
            "origin": {
             "href": "s3://eodata/Sentinel-3/OLCI/OL_2_WFR___/2024/06/02/S3A_OL_2_WFR____20240602T092137_20240602T092437_20240603T163036_0179_113_093_1980_MAR_O_NT_003.SEN3/Oa05_reflectance.nc",
             "title": "Origin asset link",
             "type": "application/x-netcdf"
            }
           },
           "href": "https://hda.data.destination-earth.eu/stac/collections/EO.EUM.DAT.SENTINEL-3.OL_2_WFR___/items/S3A_OL_2_WFR____20240602T092137_20240602T092437_20240603T163036_0179_113_093_1980_MAR_O_NT_003/download/Oa05_reflectance.nc?provider=dedl",
           "roles": [
            "data"
           ],
           "title": "Oa05_reflectance.nc",
           "type": "application/x-netcdf"
          },
          "Oa06_reflectance.nc": {
           "alternate": {
            "origin": {
             "href": "s3://eodata/Sentinel-3/OLCI/OL_2_WFR___/2024/06/02/S3A_OL_2_WFR____20240602T092137_20240602T092437_20240603T163036_0179_113_093_1980_MAR_O_NT_003.SEN3/Oa06_reflectance.nc",
             "title": "Origin asset link",
             "type": "application/x-netcdf"
            }
           },
           "href": "https://hda.data.destination-earth.eu/stac/collections/EO.EUM.DAT.SENTINEL-3.OL_2_WFR___/items/S3A_OL_2_WFR____20240602T092137_20240602T092437_20240603T163036_0179_113_093_1980_MAR_O_NT_003/download/Oa06_reflectance.nc?provider=dedl",
           "roles": [
            "data"
           ],
           "title": "Oa06_reflectance.nc",
           "type": "application/x-netcdf"
          },
          "Oa07_reflectance.nc": {
           "alternate": {
            "origin": {
             "href": "s3://eodata/Sentinel-3/OLCI/OL_2_WFR___/2024/06/02/S3A_OL_2_WFR____20240602T092137_20240602T092437_20240603T163036_0179_113_093_1980_MAR_O_NT_003.SEN3/Oa07_reflectance.nc",
             "title": "Origin asset link",
             "type": "application/x-netcdf"
            }
           },
           "href": "https://hda.data.destination-earth.eu/stac/collections/EO.EUM.DAT.SENTINEL-3.OL_2_WFR___/items/S3A_OL_2_WFR____20240602T092137_20240602T092437_20240603T163036_0179_113_093_1980_MAR_O_NT_003/download/Oa07_reflectance.nc?provider=dedl",
           "roles": [
            "data"
           ],
           "title": "Oa07_reflectance.nc",
           "type": "application/x-netcdf"
          },
          "Oa08_reflectance.nc": {
           "alternate": {
            "origin": {
             "href": "s3://eodata/Sentinel-3/OLCI/OL_2_WFR___/2024/06/02/S3A_OL_2_WFR____20240602T092137_20240602T092437_20240603T163036_0179_113_093_1980_MAR_O_NT_003.SEN3/Oa08_reflectance.nc",
             "title": "Origin asset link",
             "type": "application/x-netcdf"
            }
           },
           "href": "https://hda.data.destination-earth.eu/stac/collections/EO.EUM.DAT.SENTINEL-3.OL_2_WFR___/items/S3A_OL_2_WFR____20240602T092137_20240602T092437_20240603T163036_0179_113_093_1980_MAR_O_NT_003/download/Oa08_reflectance.nc?provider=dedl",
           "roles": [
            "data"
           ],
           "title": "Oa08_reflectance.nc",
           "type": "application/x-netcdf"
          },
          "Oa09_reflectance.nc": {
           "alternate": {
            "origin": {
             "href": "s3://eodata/Sentinel-3/OLCI/OL_2_WFR___/2024/06/02/S3A_OL_2_WFR____20240602T092137_20240602T092437_20240603T163036_0179_113_093_1980_MAR_O_NT_003.SEN3/Oa09_reflectance.nc",
             "title": "Origin asset link",
             "type": "application/x-netcdf"
            }
           },
           "href": "https://hda.data.destination-earth.eu/stac/collections/EO.EUM.DAT.SENTINEL-3.OL_2_WFR___/items/S3A_OL_2_WFR____20240602T092137_20240602T092437_20240603T163036_0179_113_093_1980_MAR_O_NT_003/download/Oa09_reflectance.nc?provider=dedl",
           "roles": [
            "data"
           ],
           "title": "Oa09_reflectance.nc",
           "type": "application/x-netcdf"
          },
          "Oa10_reflectance.nc": {
           "alternate": {
            "origin": {
             "href": "s3://eodata/Sentinel-3/OLCI/OL_2_WFR___/2024/06/02/S3A_OL_2_WFR____20240602T092137_20240602T092437_20240603T163036_0179_113_093_1980_MAR_O_NT_003.SEN3/Oa10_reflectance.nc",
             "title": "Origin asset link",
             "type": "application/x-netcdf"
            }
           },
           "href": "https://hda.data.destination-earth.eu/stac/collections/EO.EUM.DAT.SENTINEL-3.OL_2_WFR___/items/S3A_OL_2_WFR____20240602T092137_20240602T092437_20240603T163036_0179_113_093_1980_MAR_O_NT_003/download/Oa10_reflectance.nc?provider=dedl",
           "roles": [
            "data"
           ],
           "title": "Oa10_reflectance.nc",
           "type": "application/x-netcdf"
          },
          "Oa11_reflectance.nc": {
           "alternate": {
            "origin": {
             "href": "s3://eodata/Sentinel-3/OLCI/OL_2_WFR___/2024/06/02/S3A_OL_2_WFR____20240602T092137_20240602T092437_20240603T163036_0179_113_093_1980_MAR_O_NT_003.SEN3/Oa11_reflectance.nc",
             "title": "Origin asset link",
             "type": "application/x-netcdf"
            }
           },
           "href": "https://hda.data.destination-earth.eu/stac/collections/EO.EUM.DAT.SENTINEL-3.OL_2_WFR___/items/S3A_OL_2_WFR____20240602T092137_20240602T092437_20240603T163036_0179_113_093_1980_MAR_O_NT_003/download/Oa11_reflectance.nc?provider=dedl",
           "roles": [
            "data"
           ],
           "title": "Oa11_reflectance.nc",
           "type": "application/x-netcdf"
          },
          "Oa12_reflectance.nc": {
           "alternate": {
            "origin": {
             "href": "s3://eodata/Sentinel-3/OLCI/OL_2_WFR___/2024/06/02/S3A_OL_2_WFR____20240602T092137_20240602T092437_20240603T163036_0179_113_093_1980_MAR_O_NT_003.SEN3/Oa12_reflectance.nc",
             "title": "Origin asset link",
             "type": "application/x-netcdf"
            }
           },
           "href": "https://hda.data.destination-earth.eu/stac/collections/EO.EUM.DAT.SENTINEL-3.OL_2_WFR___/items/S3A_OL_2_WFR____20240602T092137_20240602T092437_20240603T163036_0179_113_093_1980_MAR_O_NT_003/download/Oa12_reflectance.nc?provider=dedl",
           "roles": [
            "data"
           ],
           "title": "Oa12_reflectance.nc",
           "type": "application/x-netcdf"
          },
          "Oa16_reflectance.nc": {
           "alternate": {
            "origin": {
             "href": "s3://eodata/Sentinel-3/OLCI/OL_2_WFR___/2024/06/02/S3A_OL_2_WFR____20240602T092137_20240602T092437_20240603T163036_0179_113_093_1980_MAR_O_NT_003.SEN3/Oa16_reflectance.nc",
             "title": "Origin asset link",
             "type": "application/x-netcdf"
            }
           },
           "href": "https://hda.data.destination-earth.eu/stac/collections/EO.EUM.DAT.SENTINEL-3.OL_2_WFR___/items/S3A_OL_2_WFR____20240602T092137_20240602T092437_20240603T163036_0179_113_093_1980_MAR_O_NT_003/download/Oa16_reflectance.nc?provider=dedl",
           "roles": [
            "data"
           ],
           "title": "Oa16_reflectance.nc",
           "type": "application/x-netcdf"
          },
          "Oa17_reflectance.nc": {
           "alternate": {
            "origin": {
             "href": "s3://eodata/Sentinel-3/OLCI/OL_2_WFR___/2024/06/02/S3A_OL_2_WFR____20240602T092137_20240602T092437_20240603T163036_0179_113_093_1980_MAR_O_NT_003.SEN3/Oa17_reflectance.nc",
             "title": "Origin asset link",
             "type": "application/x-netcdf"
            }
           },
           "href": "https://hda.data.destination-earth.eu/stac/collections/EO.EUM.DAT.SENTINEL-3.OL_2_WFR___/items/S3A_OL_2_WFR____20240602T092137_20240602T092437_20240603T163036_0179_113_093_1980_MAR_O_NT_003/download/Oa17_reflectance.nc?provider=dedl",
           "roles": [
            "data"
           ],
           "title": "Oa17_reflectance.nc",
           "type": "application/x-netcdf"
          },
          "Oa18_reflectance.nc": {
           "alternate": {
            "origin": {
             "href": "s3://eodata/Sentinel-3/OLCI/OL_2_WFR___/2024/06/02/S3A_OL_2_WFR____20240602T092137_20240602T092437_20240603T163036_0179_113_093_1980_MAR_O_NT_003.SEN3/Oa18_reflectance.nc",
             "title": "Origin asset link",
             "type": "application/x-netcdf"
            }
           },
           "href": "https://hda.data.destination-earth.eu/stac/collections/EO.EUM.DAT.SENTINEL-3.OL_2_WFR___/items/S3A_OL_2_WFR____20240602T092137_20240602T092437_20240603T163036_0179_113_093_1980_MAR_O_NT_003/download/Oa18_reflectance.nc?provider=dedl",
           "roles": [
            "data"
           ],
           "title": "Oa18_reflectance.nc",
           "type": "application/x-netcdf"
          },
          "Oa21_reflectance.nc": {
           "alternate": {
            "origin": {
             "href": "s3://eodata/Sentinel-3/OLCI/OL_2_WFR___/2024/06/02/S3A_OL_2_WFR____20240602T092137_20240602T092437_20240603T163036_0179_113_093_1980_MAR_O_NT_003.SEN3/Oa21_reflectance.nc",
             "title": "Origin asset link",
             "type": "application/x-netcdf"
            }
           },
           "href": "https://hda.data.destination-earth.eu/stac/collections/EO.EUM.DAT.SENTINEL-3.OL_2_WFR___/items/S3A_OL_2_WFR____20240602T092137_20240602T092437_20240603T163036_0179_113_093_1980_MAR_O_NT_003/download/Oa21_reflectance.nc?provider=dedl",
           "roles": [
            "data"
           ],
           "title": "Oa21_reflectance.nc",
           "type": "application/x-netcdf"
          },
          "browse.jpg": {
           "alternate": {
            "origin": {
             "href": "s3://eodata/Sentinel-3/OLCI/OL_2_WFR___/2024/06/02/S3A_OL_2_WFR____20240602T092137_20240602T092437_20240603T163036_0179_113_093_1980_MAR_O_NT_003.SEN3/browse.jpg",
             "title": "Origin asset link",
             "type": "image/jpeg"
            }
           },
           "href": "https://hda.data.destination-earth.eu/stac/collections/EO.EUM.DAT.SENTINEL-3.OL_2_WFR___/items/S3A_OL_2_WFR____20240602T092137_20240602T092437_20240603T163036_0179_113_093_1980_MAR_O_NT_003/download/browse.jpg?provider=dedl",
           "roles": [
            "metadata"
           ],
           "title": "browse.jpg",
           "type": "image/jpeg"
          },
          "chl_nn.nc": {
           "alternate": {
            "origin": {
             "href": "s3://eodata/Sentinel-3/OLCI/OL_2_WFR___/2024/06/02/S3A_OL_2_WFR____20240602T092137_20240602T092437_20240603T163036_0179_113_093_1980_MAR_O_NT_003.SEN3/chl_nn.nc",
             "title": "Origin asset link",
             "type": "application/x-netcdf"
            }
           },
           "href": "https://hda.data.destination-earth.eu/stac/collections/EO.EUM.DAT.SENTINEL-3.OL_2_WFR___/items/S3A_OL_2_WFR____20240602T092137_20240602T092437_20240603T163036_0179_113_093_1980_MAR_O_NT_003/download/chl_nn.nc?provider=dedl",
           "roles": [
            "data"
           ],
           "title": "chl_nn.nc",
           "type": "application/x-netcdf"
          },
          "chl_oc4me.nc": {
           "alternate": {
            "origin": {
             "href": "s3://eodata/Sentinel-3/OLCI/OL_2_WFR___/2024/06/02/S3A_OL_2_WFR____20240602T092137_20240602T092437_20240603T163036_0179_113_093_1980_MAR_O_NT_003.SEN3/chl_oc4me.nc",
             "title": "Origin asset link",
             "type": "application/x-netcdf"
            }
           },
           "href": "https://hda.data.destination-earth.eu/stac/collections/EO.EUM.DAT.SENTINEL-3.OL_2_WFR___/items/S3A_OL_2_WFR____20240602T092137_20240602T092437_20240603T163036_0179_113_093_1980_MAR_O_NT_003/download/chl_oc4me.nc?provider=dedl",
           "roles": [
            "data"
           ],
           "title": "chl_oc4me.nc",
           "type": "application/x-netcdf"
          },
          "downloadLink": {
           "alternate": {
            "origin": {
             "href": "https://zipper.creodias.eu/odata/v1/Products(edc69d13-0e6b-4a6d-8cad-defd6a6bdd03)/$value",
             "title": "Origin asset link"
            }
           },
           "href": "https://hda.data.destination-earth.eu/stac/collections/EO.EUM.DAT.SENTINEL-3.OL_2_WFR___/items/S3A_OL_2_WFR____20240602T092137_20240602T092437_20240603T163036_0179_113_093_1980_MAR_O_NT_003/download?provider=dedl",
           "storage:tier": "ONLINE",
           "title": "Download link",
           "type": "application/zip"
          },
          "geo_coordinates.nc": {
           "alternate": {
            "origin": {
             "href": "s3://eodata/Sentinel-3/OLCI/OL_2_WFR___/2024/06/02/S3A_OL_2_WFR____20240602T092137_20240602T092437_20240603T163036_0179_113_093_1980_MAR_O_NT_003.SEN3/geo_coordinates.nc",
             "title": "Origin asset link",
             "type": "application/x-netcdf"
            }
           },
           "href": "https://hda.data.destination-earth.eu/stac/collections/EO.EUM.DAT.SENTINEL-3.OL_2_WFR___/items/S3A_OL_2_WFR____20240602T092137_20240602T092437_20240603T163036_0179_113_093_1980_MAR_O_NT_003/download/geo_coordinates.nc?provider=dedl",
           "roles": [
            "data"
           ],
           "title": "geo_coordinates.nc",
           "type": "application/x-netcdf"
          },
          "instrument_data.nc": {
           "alternate": {
            "origin": {
             "href": "s3://eodata/Sentinel-3/OLCI/OL_2_WFR___/2024/06/02/S3A_OL_2_WFR____20240602T092137_20240602T092437_20240603T163036_0179_113_093_1980_MAR_O_NT_003.SEN3/instrument_data.nc",
             "title": "Origin asset link",
             "type": "application/x-netcdf"
            }
           },
           "href": "https://hda.data.destination-earth.eu/stac/collections/EO.EUM.DAT.SENTINEL-3.OL_2_WFR___/items/S3A_OL_2_WFR____20240602T092137_20240602T092437_20240603T163036_0179_113_093_1980_MAR_O_NT_003/download/instrument_data.nc?provider=dedl",
           "roles": [
            "data"
           ],
           "title": "instrument_data.nc",
           "type": "application/x-netcdf"
          },
          "iop_lsd.nc": {
           "alternate": {
            "origin": {
             "href": "s3://eodata/Sentinel-3/OLCI/OL_2_WFR___/2024/06/02/S3A_OL_2_WFR____20240602T092137_20240602T092437_20240603T163036_0179_113_093_1980_MAR_O_NT_003.SEN3/iop_lsd.nc",
             "title": "Origin asset link",
             "type": "application/x-netcdf"
            }
           },
           "href": "https://hda.data.destination-earth.eu/stac/collections/EO.EUM.DAT.SENTINEL-3.OL_2_WFR___/items/S3A_OL_2_WFR____20240602T092137_20240602T092437_20240603T163036_0179_113_093_1980_MAR_O_NT_003/download/iop_lsd.nc?provider=dedl",
           "roles": [
            "data"
           ],
           "title": "iop_lsd.nc",
           "type": "application/x-netcdf"
          },
          "iop_nn.nc": {
           "alternate": {
            "origin": {
             "href": "s3://eodata/Sentinel-3/OLCI/OL_2_WFR___/2024/06/02/S3A_OL_2_WFR____20240602T092137_20240602T092437_20240603T163036_0179_113_093_1980_MAR_O_NT_003.SEN3/iop_nn.nc",
             "title": "Origin asset link",
             "type": "application/x-netcdf"
            }
           },
           "href": "https://hda.data.destination-earth.eu/stac/collections/EO.EUM.DAT.SENTINEL-3.OL_2_WFR___/items/S3A_OL_2_WFR____20240602T092137_20240602T092437_20240603T163036_0179_113_093_1980_MAR_O_NT_003/download/iop_nn.nc?provider=dedl",
           "roles": [
            "data"
           ],
           "title": "iop_nn.nc",
           "type": "application/x-netcdf"
          },
          "iwv.nc": {
           "alternate": {
            "origin": {
             "href": "s3://eodata/Sentinel-3/OLCI/OL_2_WFR___/2024/06/02/S3A_OL_2_WFR____20240602T092137_20240602T092437_20240603T163036_0179_113_093_1980_MAR_O_NT_003.SEN3/iwv.nc",
             "title": "Origin asset link",
             "type": "application/x-netcdf"
            }
           },
           "href": "https://hda.data.destination-earth.eu/stac/collections/EO.EUM.DAT.SENTINEL-3.OL_2_WFR___/items/S3A_OL_2_WFR____20240602T092137_20240602T092437_20240603T163036_0179_113_093_1980_MAR_O_NT_003/download/iwv.nc?provider=dedl",
           "roles": [
            "data"
           ],
           "title": "iwv.nc",
           "type": "application/x-netcdf"
          },
          "manifest.xml": {
           "alternate": {
            "origin": {
             "href": "s3://eodata/Sentinel-3/OLCI/OL_2_WFR___/2024/06/02/S3A_OL_2_WFR____20240602T092137_20240602T092437_20240603T163036_0179_113_093_1980_MAR_O_NT_003.SEN3/manifest.xml",
             "title": "Origin asset link",
             "type": "text/xml"
            }
           },
           "href": "https://hda.data.destination-earth.eu/stac/collections/EO.EUM.DAT.SENTINEL-3.OL_2_WFR___/items/S3A_OL_2_WFR____20240602T092137_20240602T092437_20240603T163036_0179_113_093_1980_MAR_O_NT_003/download/manifest.xml?provider=dedl",
           "roles": [
            "metadata"
           ],
           "title": "manifest.xml",
           "type": "text/xml"
          },
          "par.nc": {
           "alternate": {
            "origin": {
             "href": "s3://eodata/Sentinel-3/OLCI/OL_2_WFR___/2024/06/02/S3A_OL_2_WFR____20240602T092137_20240602T092437_20240603T163036_0179_113_093_1980_MAR_O_NT_003.SEN3/par.nc",
             "title": "Origin asset link",
             "type": "application/x-netcdf"
            }
           },
           "href": "https://hda.data.destination-earth.eu/stac/collections/EO.EUM.DAT.SENTINEL-3.OL_2_WFR___/items/S3A_OL_2_WFR____20240602T092137_20240602T092437_20240603T163036_0179_113_093_1980_MAR_O_NT_003/download/par.nc?provider=dedl",
           "roles": [
            "data"
           ],
           "title": "par.nc",
           "type": "application/x-netcdf"
          },
          "tie_geo_coordinates.nc": {
           "alternate": {
            "origin": {
             "href": "s3://eodata/Sentinel-3/OLCI/OL_2_WFR___/2024/06/02/S3A_OL_2_WFR____20240602T092137_20240602T092437_20240603T163036_0179_113_093_1980_MAR_O_NT_003.SEN3/tie_geo_coordinates.nc",
             "title": "Origin asset link",
             "type": "application/x-netcdf"
            }
           },
           "href": "https://hda.data.destination-earth.eu/stac/collections/EO.EUM.DAT.SENTINEL-3.OL_2_WFR___/items/S3A_OL_2_WFR____20240602T092137_20240602T092437_20240603T163036_0179_113_093_1980_MAR_O_NT_003/download/tie_geo_coordinates.nc?provider=dedl",
           "roles": [
            "data"
           ],
           "title": "tie_geo_coordinates.nc",
           "type": "application/x-netcdf"
          },
          "tie_geometries.nc": {
           "alternate": {
            "origin": {
             "href": "s3://eodata/Sentinel-3/OLCI/OL_2_WFR___/2024/06/02/S3A_OL_2_WFR____20240602T092137_20240602T092437_20240603T163036_0179_113_093_1980_MAR_O_NT_003.SEN3/tie_geometries.nc",
             "title": "Origin asset link",
             "type": "application/x-netcdf"
            }
           },
           "href": "https://hda.data.destination-earth.eu/stac/collections/EO.EUM.DAT.SENTINEL-3.OL_2_WFR___/items/S3A_OL_2_WFR____20240602T092137_20240602T092437_20240603T163036_0179_113_093_1980_MAR_O_NT_003/download/tie_geometries.nc?provider=dedl",
           "roles": [
            "data"
           ],
           "title": "tie_geometries.nc",
           "type": "application/x-netcdf"
          },
          "tie_meteo.nc": {
           "alternate": {
            "origin": {
             "href": "s3://eodata/Sentinel-3/OLCI/OL_2_WFR___/2024/06/02/S3A_OL_2_WFR____20240602T092137_20240602T092437_20240603T163036_0179_113_093_1980_MAR_O_NT_003.SEN3/tie_meteo.nc",
             "title": "Origin asset link",
             "type": "application/x-netcdf"
            }
           },
           "href": "https://hda.data.destination-earth.eu/stac/collections/EO.EUM.DAT.SENTINEL-3.OL_2_WFR___/items/S3A_OL_2_WFR____20240602T092137_20240602T092437_20240603T163036_0179_113_093_1980_MAR_O_NT_003/download/tie_meteo.nc?provider=dedl",
           "roles": [
            "data"
           ],
           "title": "tie_meteo.nc",
           "type": "application/x-netcdf"
          },
          "time_coordinates.nc": {
           "alternate": {
            "origin": {
             "href": "s3://eodata/Sentinel-3/OLCI/OL_2_WFR___/2024/06/02/S3A_OL_2_WFR____20240602T092137_20240602T092437_20240603T163036_0179_113_093_1980_MAR_O_NT_003.SEN3/time_coordinates.nc",
             "title": "Origin asset link",
             "type": "application/x-netcdf"
            }
           },
           "href": "https://hda.data.destination-earth.eu/stac/collections/EO.EUM.DAT.SENTINEL-3.OL_2_WFR___/items/S3A_OL_2_WFR____20240602T092137_20240602T092437_20240603T163036_0179_113_093_1980_MAR_O_NT_003/download/time_coordinates.nc?provider=dedl",
           "roles": [
            "data"
           ],
           "title": "time_coordinates.nc",
           "type": "application/x-netcdf"
          },
          "trsp.nc": {
           "alternate": {
            "origin": {
             "href": "s3://eodata/Sentinel-3/OLCI/OL_2_WFR___/2024/06/02/S3A_OL_2_WFR____20240602T092137_20240602T092437_20240603T163036_0179_113_093_1980_MAR_O_NT_003.SEN3/trsp.nc",
             "title": "Origin asset link",
             "type": "application/x-netcdf"
            }
           },
           "href": "https://hda.data.destination-earth.eu/stac/collections/EO.EUM.DAT.SENTINEL-3.OL_2_WFR___/items/S3A_OL_2_WFR____20240602T092137_20240602T092437_20240603T163036_0179_113_093_1980_MAR_O_NT_003/download/trsp.nc?provider=dedl",
           "roles": [
            "data"
           ],
           "title": "trsp.nc",
           "type": "application/x-netcdf"
          },
          "tsm_nn.nc": {
           "alternate": {
            "origin": {
             "href": "s3://eodata/Sentinel-3/OLCI/OL_2_WFR___/2024/06/02/S3A_OL_2_WFR____20240602T092137_20240602T092437_20240603T163036_0179_113_093_1980_MAR_O_NT_003.SEN3/tsm_nn.nc",
             "title": "Origin asset link",
             "type": "application/x-netcdf"
            }
           },
           "href": "https://hda.data.destination-earth.eu/stac/collections/EO.EUM.DAT.SENTINEL-3.OL_2_WFR___/items/S3A_OL_2_WFR____20240602T092137_20240602T092437_20240603T163036_0179_113_093_1980_MAR_O_NT_003/download/tsm_nn.nc?provider=dedl",
           "roles": [
            "data"
           ],
           "title": "tsm_nn.nc",
           "type": "application/x-netcdf"
          },
          "w_aer.nc": {
           "alternate": {
            "origin": {
             "href": "s3://eodata/Sentinel-3/OLCI/OL_2_WFR___/2024/06/02/S3A_OL_2_WFR____20240602T092137_20240602T092437_20240603T163036_0179_113_093_1980_MAR_O_NT_003.SEN3/w_aer.nc",
             "title": "Origin asset link",
             "type": "application/x-netcdf"
            }
           },
           "href": "https://hda.data.destination-earth.eu/stac/collections/EO.EUM.DAT.SENTINEL-3.OL_2_WFR___/items/S3A_OL_2_WFR____20240602T092137_20240602T092437_20240603T163036_0179_113_093_1980_MAR_O_NT_003/download/w_aer.nc?provider=dedl",
           "roles": [
            "data"
           ],
           "title": "w_aer.nc",
           "type": "application/x-netcdf"
          },
          "wqsf.nc": {
           "alternate": {
            "origin": {
             "href": "s3://eodata/Sentinel-3/OLCI/OL_2_WFR___/2024/06/02/S3A_OL_2_WFR____20240602T092137_20240602T092437_20240603T163036_0179_113_093_1980_MAR_O_NT_003.SEN3/wqsf.nc",
             "title": "Origin asset link",
             "type": "application/x-netcdf"
            }
           },
           "href": "https://hda.data.destination-earth.eu/stac/collections/EO.EUM.DAT.SENTINEL-3.OL_2_WFR___/items/S3A_OL_2_WFR____20240602T092137_20240602T092437_20240603T163036_0179_113_093_1980_MAR_O_NT_003/download/wqsf.nc?provider=dedl",
           "roles": [
            "data"
           ],
           "title": "wqsf.nc",
           "type": "application/x-netcdf"
          },
          "xfdumanifest.xml": {
           "alternate": {
            "origin": {
             "href": "s3://eodata/Sentinel-3/OLCI/OL_2_WFR___/2024/06/02/S3A_OL_2_WFR____20240602T092137_20240602T092437_20240603T163036_0179_113_093_1980_MAR_O_NT_003.SEN3/xfdumanifest.xml",
             "title": "Origin asset link",
             "type": "text/xml"
            }
           },
           "href": "https://hda.data.destination-earth.eu/stac/collections/EO.EUM.DAT.SENTINEL-3.OL_2_WFR___/items/S3A_OL_2_WFR____20240602T092137_20240602T092437_20240603T163036_0179_113_093_1980_MAR_O_NT_003/download/xfdumanifest.xml?provider=dedl",
           "roles": [
            "metadata"
           ],
           "title": "xfdumanifest.xml",
           "type": "text/xml"
          }
         },
         "bbox": [
          5.70968,
          49.8879,
          31.2181,
          62.914
         ],
         "collection": "EO.EUM.DAT.SENTINEL-3.OL_2_WFR___",
         "geometry": {
          "coordinates": [
           [
            [
             5.70968,
             52.4553
            ],
            [
             6.71778,
             52.3941
            ],
            [
             7.72714,
             52.3242
            ],
            [
             8.73563,
             52.2455
            ],
            [
             9.73363,
             52.1615
            ],
            [
             10.7327,
             52.066
            ],
            [
             11.7253,
             51.9624
            ],
            [
             12.7124,
             51.8508
            ],
            [
             13.6952,
             51.7303
            ],
            [
             14.6743,
             51.6014
            ],
            [
             15.6481,
             51.4644
            ],
            [
             16.6108,
             51.3199
            ],
            [
             17.5696,
             51.1673
            ],
            [
             18.5219,
             51.0068
            ],
            [
             19.4688,
             50.8389
            ],
            [
             20.4076,
             50.6636
            ],
            [
             21.3418,
             50.4813
            ],
            [
             22.2672,
             50.2909
            ],
            [
             23.1837,
             50.0934
            ],
            [
             24.0946,
             49.8879
            ],
            [
             25.5778,
             52.4358
            ],
            [
             27.2335,
             54.9692
            ],
            [
             29.0971,
             57.4791
            ],
            [
             31.2181,
             59.9601
            ],
            [
             30.0884,
             60.2152
            ],
            [
             28.9374,
             60.461
            ],
            [
             27.7722,
             60.6961
            ],
            [
             26.5877,
             60.9203
            ],
            [
             25.3855,
             61.1353
            ],
            [
             24.1704,
             61.3389
            ],
            [
             22.9422,
             61.5315
            ],
            [
             21.6942,
             61.7138
            ],
            [
             20.4344,
             61.8843
            ],
            [
             19.1614,
             62.0431
            ],
            [
             17.8773,
             62.1897
            ],
            [
             16.582,
             62.3242
            ],
            [
             15.2718,
             62.4462
            ],
            [
             13.9636,
             62.5553
            ],
            [
             12.6317,
             62.6531
            ],
            [
             11.2997,
             62.7377
            ],
            [
             9.94912,
             62.8076
            ],
            [
             8.58432,
             62.8674
            ],
            [
             7.22819,
             62.914
            ],
            [
             6.85883,
             60.3004
            ],
            [
             6.48173,
             57.6849
            ],
            [
             6.09835,
             55.0685
            ],
            [
             5.70968,
             52.4553
            ]
           ]
          ],
          "type": "Polygon"
         },
         "id": "S3A_OL_2_WFR____20240602T092137_20240602T092437_20240603T163036_0179_113_093_1980_MAR_O_NT_003",
         "links": [
          {
           "href": "https://hda.data.destination-earth.eu/stac/collections/EO.EUM.DAT.SENTINEL-3.OL_2_WFR___/items/S3A_OL_2_WFR____20240602T092137_20240602T092437_20240603T163036_0179_113_093_1980_MAR_O_NT_003",
           "rel": "self",
           "title": "S3A_OL_2_WFR____20240602T092137_20240602T092437_20240603T163036_0179_113_093_1980_MAR_O_NT_003"
          },
          {
           "href": "https://hda.data.destination-earth.eu/stac/",
           "rel": "root"
          },
          {
           "href": "https://hda.data.destination-earth.eu/stac/collections/EO.EUM.DAT.SENTINEL-3.OL_2_WFR___",
           "rel": "parent",
           "title": "EO.EUM.DAT.SENTINEL-3.OL_2_WFR___"
          },
          {
           "href": "https://hda.data.destination-earth.eu/stac/collections/EO.EUM.DAT.SENTINEL-3.OL_2_WFR___",
           "rel": "collection",
           "title": "EO.EUM.DAT.SENTINEL-3.OL_2_WFR___"
          }
         ],
         "properties": {
          "constellation": "SENTINEL-3",
          "datetime": "2024-06-02T09:21:36.897551Z",
          "dedl:alias": "EO.EUM.DAT.SENTINEL-3.OL_2_WFR___",
          "dedl:baselineCollection": "003",
          "dedl:beginningDateTime": "2024-06-02T09:21:36.897551Z",
          "dedl:endingDateTime": "2024-06-02T09:24:36.897551Z",
          "dedl:productIdentifier": "/eodata/Sentinel-3/OLCI/OL_2_WFR___/2024/06/02/S3A_OL_2_WFR____20240602T092137_20240602T092437_20240603T163036_0179_113_093_1980_MAR_O_NT_003.SEN3",
          "dedl:scope": {
           "discover": null,
           "download": "hda-public-data-access",
           "search": "hda-public-data-access"
          },
          "dedl:timeliness": "NT",
          "dedl:uid": "edc69d13-0e6b-4a6d-8cad-defd6a6bdd03",
          "description": "OLCI (Ocean and Land Colour Instrument) Ocean Colour Geophysical Products. Full Resolution: 300m at nadir. All Sentinel-3 NRT products are available at pick-up point in less than 3h. Level 2 marine products include the following: * water-leaving reflectances in 16 bands, Oa**_reflectance (Baseline Atmospheric Correction (BAC) algorithm, bands: 400, 412, 442, 490, 510, 560, 620, 665, 674, 681, 709, 754, 779, 865, 885, 1024 nanometer (nm)); *algal pigment concentration in clear waters, chl_oc4me (BAC and maximum band ratio algorithm, log10 scaled); *algal pigment concentration in turbid waters, chl_nn (neural net algorithm, log10 scaled); *total suspended matter concentration, tsm_nn (neural net algorithm, log10 scaled); *diffuse attenuation coefficient Kd of downward irradiance at 490 nm, trsp (BAC and M07 algorithm, log10 scaled); *absorption coefficient at 443 nm of coloured detrital and dissolved organic matter, iop_nn (neural net algorithm, log10 scaled); *instantaneous photosynthetically active radiation, PAR (BAC and clear-sky ocean algorithm); *aerosol optical thickness T865 and aerosol Angstrom exponent A865, w_aer (BAC algorithm, A for bands 779 and 865 nm) *integrated water vapour column, iwv (1D-Var algorithm). The geophysical products are accompanied by error estimate products. Pixel classification, quality and science flags, as well as meteorological, geometry and geolocation data at tie points are provided.\n\n- All Sentinel-3 NRT products are available at pick-up point in less than 3h\n- All Sentinel-3 Non Time Critical (NTC) products are available at pick-up point in less than 30 days\nSentinel-3 is part of a series of Sentinel satellites, under the umbrella of the EU Copernicus programme.",
          "end_datetime": "2024-06-02T09:24:36.897551Z",
          "instruments": [
           "OLCI"
          ],
          "license": "proprietary",
          "order:status": "succeeded",
          "platform": "SENTINEL-3A,SENTINEL-3B",
          "processing:level": 2,
          "providers": [
           {
            "description": "DestineE Data Lake Fresh Data Pool",
            "name": "dedl",
            "priority": 1,
            "roles": [
             "host"
            ],
            "url": "https://creodias.eu/"
           }
          ],
          "published": "2024-06-03T16:54:18.587153Z",
          "sar:instrument_mode": "Earth Observation",
          "sar:product_type": "OL_2_WFR___",
          "sat:absolute_orbit": 43186,
          "sat:orbit_state": "DESCENDING",
          "sat:relative_orbit": 93,
          "start_datetime": "2024-06-02T09:21:36.897551Z",
          "updated": "2024-06-03T17:00:25.409935Z"
         },
         "stac_extensions": [
          "https://stac-extensions.github.io/timestamps/v1.0.0/schema.json",
          "https://stac-extensions.github.io/processing/v1.0.0/schema.json",
          "https://stac-extensions.github.io/sat/v1.0.0/schema.json",
          "https://stac-extensions.github.io/sar/v1.0.0/schema.json",
          "https://stac-extensions.github.io/order/v1.1.0/schema.json"
         ],
         "stac_version": "1.0.0",
         "type": "Feature"
        },
        {
         "assets": {
          "EOPMetadata.xml": {
           "alternate": {
            "origin": {
             "href": "s3://eodata/Sentinel-3/OLCI/OL_2_WFR___/2024/06/02/S3A_OL_2_WFR____20240602T092137_20240602T092437_20240602T112348_0180_113_093_1980_MAR_O_NR_003.SEN3/EOPMetadata.xml",
             "title": "Origin asset link",
             "type": "text/xml"
            }
           },
           "href": "https://hda.data.destination-earth.eu/stac/collections/EO.EUM.DAT.SENTINEL-3.OL_2_WFR___/items/S3A_OL_2_WFR____20240602T092137_20240602T092437_20240602T112348_0180_113_093_1980_MAR_O_NR_003/download/EOPMetadata.xml?provider=dedl",
           "roles": [
            "metadata"
           ],
           "title": "EOPMetadata.xml",
           "type": "text/xml"
          },
          "Oa01_reflectance.nc": {
           "alternate": {
            "origin": {
             "href": "s3://eodata/Sentinel-3/OLCI/OL_2_WFR___/2024/06/02/S3A_OL_2_WFR____20240602T092137_20240602T092437_20240602T112348_0180_113_093_1980_MAR_O_NR_003.SEN3/Oa01_reflectance.nc",
             "title": "Origin asset link",
             "type": "application/x-netcdf"
            }
           },
           "href": "https://hda.data.destination-earth.eu/stac/collections/EO.EUM.DAT.SENTINEL-3.OL_2_WFR___/items/S3A_OL_2_WFR____20240602T092137_20240602T092437_20240602T112348_0180_113_093_1980_MAR_O_NR_003/download/Oa01_reflectance.nc?provider=dedl",
           "roles": [
            "data"
           ],
           "title": "Oa01_reflectance.nc",
           "type": "application/x-netcdf"
          },
          "Oa02_reflectance.nc": {
           "alternate": {
            "origin": {
             "href": "s3://eodata/Sentinel-3/OLCI/OL_2_WFR___/2024/06/02/S3A_OL_2_WFR____20240602T092137_20240602T092437_20240602T112348_0180_113_093_1980_MAR_O_NR_003.SEN3/Oa02_reflectance.nc",
             "title": "Origin asset link",
             "type": "application/x-netcdf"
            }
           },
           "href": "https://hda.data.destination-earth.eu/stac/collections/EO.EUM.DAT.SENTINEL-3.OL_2_WFR___/items/S3A_OL_2_WFR____20240602T092137_20240602T092437_20240602T112348_0180_113_093_1980_MAR_O_NR_003/download/Oa02_reflectance.nc?provider=dedl",
           "roles": [
            "data"
           ],
           "title": "Oa02_reflectance.nc",
           "type": "application/x-netcdf"
          },
          "Oa03_reflectance.nc": {
           "alternate": {
            "origin": {
             "href": "s3://eodata/Sentinel-3/OLCI/OL_2_WFR___/2024/06/02/S3A_OL_2_WFR____20240602T092137_20240602T092437_20240602T112348_0180_113_093_1980_MAR_O_NR_003.SEN3/Oa03_reflectance.nc",
             "title": "Origin asset link",
             "type": "application/x-netcdf"
            }
           },
           "href": "https://hda.data.destination-earth.eu/stac/collections/EO.EUM.DAT.SENTINEL-3.OL_2_WFR___/items/S3A_OL_2_WFR____20240602T092137_20240602T092437_20240602T112348_0180_113_093_1980_MAR_O_NR_003/download/Oa03_reflectance.nc?provider=dedl",
           "roles": [
            "data"
           ],
           "title": "Oa03_reflectance.nc",
           "type": "application/x-netcdf"
          },
          "Oa04_reflectance.nc": {
           "alternate": {
            "origin": {
             "href": "s3://eodata/Sentinel-3/OLCI/OL_2_WFR___/2024/06/02/S3A_OL_2_WFR____20240602T092137_20240602T092437_20240602T112348_0180_113_093_1980_MAR_O_NR_003.SEN3/Oa04_reflectance.nc",
             "title": "Origin asset link",
             "type": "application/x-netcdf"
            }
           },
           "href": "https://hda.data.destination-earth.eu/stac/collections/EO.EUM.DAT.SENTINEL-3.OL_2_WFR___/items/S3A_OL_2_WFR____20240602T092137_20240602T092437_20240602T112348_0180_113_093_1980_MAR_O_NR_003/download/Oa04_reflectance.nc?provider=dedl",
           "roles": [
            "data"
           ],
           "title": "Oa04_reflectance.nc",
           "type": "application/x-netcdf"
          },
          "Oa05_reflectance.nc": {
           "alternate": {
            "origin": {
             "href": "s3://eodata/Sentinel-3/OLCI/OL_2_WFR___/2024/06/02/S3A_OL_2_WFR____20240602T092137_20240602T092437_20240602T112348_0180_113_093_1980_MAR_O_NR_003.SEN3/Oa05_reflectance.nc",
             "title": "Origin asset link",
             "type": "application/x-netcdf"
            }
           },
           "href": "https://hda.data.destination-earth.eu/stac/collections/EO.EUM.DAT.SENTINEL-3.OL_2_WFR___/items/S3A_OL_2_WFR____20240602T092137_20240602T092437_20240602T112348_0180_113_093_1980_MAR_O_NR_003/download/Oa05_reflectance.nc?provider=dedl",
           "roles": [
            "data"
           ],
           "title": "Oa05_reflectance.nc",
           "type": "application/x-netcdf"
          },
          "Oa06_reflectance.nc": {
           "alternate": {
            "origin": {
             "href": "s3://eodata/Sentinel-3/OLCI/OL_2_WFR___/2024/06/02/S3A_OL_2_WFR____20240602T092137_20240602T092437_20240602T112348_0180_113_093_1980_MAR_O_NR_003.SEN3/Oa06_reflectance.nc",
             "title": "Origin asset link",
             "type": "application/x-netcdf"
            }
           },
           "href": "https://hda.data.destination-earth.eu/stac/collections/EO.EUM.DAT.SENTINEL-3.OL_2_WFR___/items/S3A_OL_2_WFR____20240602T092137_20240602T092437_20240602T112348_0180_113_093_1980_MAR_O_NR_003/download/Oa06_reflectance.nc?provider=dedl",
           "roles": [
            "data"
           ],
           "title": "Oa06_reflectance.nc",
           "type": "application/x-netcdf"
          },
          "Oa07_reflectance.nc": {
           "alternate": {
            "origin": {
             "href": "s3://eodata/Sentinel-3/OLCI/OL_2_WFR___/2024/06/02/S3A_OL_2_WFR____20240602T092137_20240602T092437_20240602T112348_0180_113_093_1980_MAR_O_NR_003.SEN3/Oa07_reflectance.nc",
             "title": "Origin asset link",
             "type": "application/x-netcdf"
            }
           },
           "href": "https://hda.data.destination-earth.eu/stac/collections/EO.EUM.DAT.SENTINEL-3.OL_2_WFR___/items/S3A_OL_2_WFR____20240602T092137_20240602T092437_20240602T112348_0180_113_093_1980_MAR_O_NR_003/download/Oa07_reflectance.nc?provider=dedl",
           "roles": [
            "data"
           ],
           "title": "Oa07_reflectance.nc",
           "type": "application/x-netcdf"
          },
          "Oa08_reflectance.nc": {
           "alternate": {
            "origin": {
             "href": "s3://eodata/Sentinel-3/OLCI/OL_2_WFR___/2024/06/02/S3A_OL_2_WFR____20240602T092137_20240602T092437_20240602T112348_0180_113_093_1980_MAR_O_NR_003.SEN3/Oa08_reflectance.nc",
             "title": "Origin asset link",
             "type": "application/x-netcdf"
            }
           },
           "href": "https://hda.data.destination-earth.eu/stac/collections/EO.EUM.DAT.SENTINEL-3.OL_2_WFR___/items/S3A_OL_2_WFR____20240602T092137_20240602T092437_20240602T112348_0180_113_093_1980_MAR_O_NR_003/download/Oa08_reflectance.nc?provider=dedl",
           "roles": [
            "data"
           ],
           "title": "Oa08_reflectance.nc",
           "type": "application/x-netcdf"
          },
          "Oa09_reflectance.nc": {
           "alternate": {
            "origin": {
             "href": "s3://eodata/Sentinel-3/OLCI/OL_2_WFR___/2024/06/02/S3A_OL_2_WFR____20240602T092137_20240602T092437_20240602T112348_0180_113_093_1980_MAR_O_NR_003.SEN3/Oa09_reflectance.nc",
             "title": "Origin asset link",
             "type": "application/x-netcdf"
            }
           },
           "href": "https://hda.data.destination-earth.eu/stac/collections/EO.EUM.DAT.SENTINEL-3.OL_2_WFR___/items/S3A_OL_2_WFR____20240602T092137_20240602T092437_20240602T112348_0180_113_093_1980_MAR_O_NR_003/download/Oa09_reflectance.nc?provider=dedl",
           "roles": [
            "data"
           ],
           "title": "Oa09_reflectance.nc",
           "type": "application/x-netcdf"
          },
          "Oa10_reflectance.nc": {
           "alternate": {
            "origin": {
             "href": "s3://eodata/Sentinel-3/OLCI/OL_2_WFR___/2024/06/02/S3A_OL_2_WFR____20240602T092137_20240602T092437_20240602T112348_0180_113_093_1980_MAR_O_NR_003.SEN3/Oa10_reflectance.nc",
             "title": "Origin asset link",
             "type": "application/x-netcdf"
            }
           },
           "href": "https://hda.data.destination-earth.eu/stac/collections/EO.EUM.DAT.SENTINEL-3.OL_2_WFR___/items/S3A_OL_2_WFR____20240602T092137_20240602T092437_20240602T112348_0180_113_093_1980_MAR_O_NR_003/download/Oa10_reflectance.nc?provider=dedl",
           "roles": [
            "data"
           ],
           "title": "Oa10_reflectance.nc",
           "type": "application/x-netcdf"
          },
          "Oa11_reflectance.nc": {
           "alternate": {
            "origin": {
             "href": "s3://eodata/Sentinel-3/OLCI/OL_2_WFR___/2024/06/02/S3A_OL_2_WFR____20240602T092137_20240602T092437_20240602T112348_0180_113_093_1980_MAR_O_NR_003.SEN3/Oa11_reflectance.nc",
             "title": "Origin asset link",
             "type": "application/x-netcdf"
            }
           },
           "href": "https://hda.data.destination-earth.eu/stac/collections/EO.EUM.DAT.SENTINEL-3.OL_2_WFR___/items/S3A_OL_2_WFR____20240602T092137_20240602T092437_20240602T112348_0180_113_093_1980_MAR_O_NR_003/download/Oa11_reflectance.nc?provider=dedl",
           "roles": [
            "data"
           ],
           "title": "Oa11_reflectance.nc",
           "type": "application/x-netcdf"
          },
          "Oa12_reflectance.nc": {
           "alternate": {
            "origin": {
             "href": "s3://eodata/Sentinel-3/OLCI/OL_2_WFR___/2024/06/02/S3A_OL_2_WFR____20240602T092137_20240602T092437_20240602T112348_0180_113_093_1980_MAR_O_NR_003.SEN3/Oa12_reflectance.nc",
             "title": "Origin asset link",
             "type": "application/x-netcdf"
            }
           },
           "href": "https://hda.data.destination-earth.eu/stac/collections/EO.EUM.DAT.SENTINEL-3.OL_2_WFR___/items/S3A_OL_2_WFR____20240602T092137_20240602T092437_20240602T112348_0180_113_093_1980_MAR_O_NR_003/download/Oa12_reflectance.nc?provider=dedl",
           "roles": [
            "data"
           ],
           "title": "Oa12_reflectance.nc",
           "type": "application/x-netcdf"
          },
          "Oa16_reflectance.nc": {
           "alternate": {
            "origin": {
             "href": "s3://eodata/Sentinel-3/OLCI/OL_2_WFR___/2024/06/02/S3A_OL_2_WFR____20240602T092137_20240602T092437_20240602T112348_0180_113_093_1980_MAR_O_NR_003.SEN3/Oa16_reflectance.nc",
             "title": "Origin asset link",
             "type": "application/x-netcdf"
            }
           },
           "href": "https://hda.data.destination-earth.eu/stac/collections/EO.EUM.DAT.SENTINEL-3.OL_2_WFR___/items/S3A_OL_2_WFR____20240602T092137_20240602T092437_20240602T112348_0180_113_093_1980_MAR_O_NR_003/download/Oa16_reflectance.nc?provider=dedl",
           "roles": [
            "data"
           ],
           "title": "Oa16_reflectance.nc",
           "type": "application/x-netcdf"
          },
          "Oa17_reflectance.nc": {
           "alternate": {
            "origin": {
             "href": "s3://eodata/Sentinel-3/OLCI/OL_2_WFR___/2024/06/02/S3A_OL_2_WFR____20240602T092137_20240602T092437_20240602T112348_0180_113_093_1980_MAR_O_NR_003.SEN3/Oa17_reflectance.nc",
             "title": "Origin asset link",
             "type": "application/x-netcdf"
            }
           },
           "href": "https://hda.data.destination-earth.eu/stac/collections/EO.EUM.DAT.SENTINEL-3.OL_2_WFR___/items/S3A_OL_2_WFR____20240602T092137_20240602T092437_20240602T112348_0180_113_093_1980_MAR_O_NR_003/download/Oa17_reflectance.nc?provider=dedl",
           "roles": [
            "data"
           ],
           "title": "Oa17_reflectance.nc",
           "type": "application/x-netcdf"
          },
          "Oa18_reflectance.nc": {
           "alternate": {
            "origin": {
             "href": "s3://eodata/Sentinel-3/OLCI/OL_2_WFR___/2024/06/02/S3A_OL_2_WFR____20240602T092137_20240602T092437_20240602T112348_0180_113_093_1980_MAR_O_NR_003.SEN3/Oa18_reflectance.nc",
             "title": "Origin asset link",
             "type": "application/x-netcdf"
            }
           },
           "href": "https://hda.data.destination-earth.eu/stac/collections/EO.EUM.DAT.SENTINEL-3.OL_2_WFR___/items/S3A_OL_2_WFR____20240602T092137_20240602T092437_20240602T112348_0180_113_093_1980_MAR_O_NR_003/download/Oa18_reflectance.nc?provider=dedl",
           "roles": [
            "data"
           ],
           "title": "Oa18_reflectance.nc",
           "type": "application/x-netcdf"
          },
          "Oa21_reflectance.nc": {
           "alternate": {
            "origin": {
             "href": "s3://eodata/Sentinel-3/OLCI/OL_2_WFR___/2024/06/02/S3A_OL_2_WFR____20240602T092137_20240602T092437_20240602T112348_0180_113_093_1980_MAR_O_NR_003.SEN3/Oa21_reflectance.nc",
             "title": "Origin asset link",
             "type": "application/x-netcdf"
            }
           },
           "href": "https://hda.data.destination-earth.eu/stac/collections/EO.EUM.DAT.SENTINEL-3.OL_2_WFR___/items/S3A_OL_2_WFR____20240602T092137_20240602T092437_20240602T112348_0180_113_093_1980_MAR_O_NR_003/download/Oa21_reflectance.nc?provider=dedl",
           "roles": [
            "data"
           ],
           "title": "Oa21_reflectance.nc",
           "type": "application/x-netcdf"
          },
          "browse.jpg": {
           "alternate": {
            "origin": {
             "href": "s3://eodata/Sentinel-3/OLCI/OL_2_WFR___/2024/06/02/S3A_OL_2_WFR____20240602T092137_20240602T092437_20240602T112348_0180_113_093_1980_MAR_O_NR_003.SEN3/browse.jpg",
             "title": "Origin asset link",
             "type": "image/jpeg"
            }
           },
           "href": "https://hda.data.destination-earth.eu/stac/collections/EO.EUM.DAT.SENTINEL-3.OL_2_WFR___/items/S3A_OL_2_WFR____20240602T092137_20240602T092437_20240602T112348_0180_113_093_1980_MAR_O_NR_003/download/browse.jpg?provider=dedl",
           "roles": [
            "metadata"
           ],
           "title": "browse.jpg",
           "type": "image/jpeg"
          },
          "chl_nn.nc": {
           "alternate": {
            "origin": {
             "href": "s3://eodata/Sentinel-3/OLCI/OL_2_WFR___/2024/06/02/S3A_OL_2_WFR____20240602T092137_20240602T092437_20240602T112348_0180_113_093_1980_MAR_O_NR_003.SEN3/chl_nn.nc",
             "title": "Origin asset link",
             "type": "application/x-netcdf"
            }
           },
           "href": "https://hda.data.destination-earth.eu/stac/collections/EO.EUM.DAT.SENTINEL-3.OL_2_WFR___/items/S3A_OL_2_WFR____20240602T092137_20240602T092437_20240602T112348_0180_113_093_1980_MAR_O_NR_003/download/chl_nn.nc?provider=dedl",
           "roles": [
            "data"
           ],
           "title": "chl_nn.nc",
           "type": "application/x-netcdf"
          },
          "chl_oc4me.nc": {
           "alternate": {
            "origin": {
             "href": "s3://eodata/Sentinel-3/OLCI/OL_2_WFR___/2024/06/02/S3A_OL_2_WFR____20240602T092137_20240602T092437_20240602T112348_0180_113_093_1980_MAR_O_NR_003.SEN3/chl_oc4me.nc",
             "title": "Origin asset link",
             "type": "application/x-netcdf"
            }
           },
           "href": "https://hda.data.destination-earth.eu/stac/collections/EO.EUM.DAT.SENTINEL-3.OL_2_WFR___/items/S3A_OL_2_WFR____20240602T092137_20240602T092437_20240602T112348_0180_113_093_1980_MAR_O_NR_003/download/chl_oc4me.nc?provider=dedl",
           "roles": [
            "data"
           ],
           "title": "chl_oc4me.nc",
           "type": "application/x-netcdf"
          },
          "downloadLink": {
           "alternate": {
            "origin": {
             "href": "https://zipper.creodias.eu/odata/v1/Products(321d2d64-e63a-4f2b-ae14-c0eff3f72069)/$value",
             "title": "Origin asset link"
            }
           },
           "href": "https://hda.data.destination-earth.eu/stac/collections/EO.EUM.DAT.SENTINEL-3.OL_2_WFR___/items/S3A_OL_2_WFR____20240602T092137_20240602T092437_20240602T112348_0180_113_093_1980_MAR_O_NR_003/download?provider=dedl",
           "storage:tier": "ONLINE",
           "title": "Download link",
           "type": "application/zip"
          },
          "geo_coordinates.nc": {
           "alternate": {
            "origin": {
             "href": "s3://eodata/Sentinel-3/OLCI/OL_2_WFR___/2024/06/02/S3A_OL_2_WFR____20240602T092137_20240602T092437_20240602T112348_0180_113_093_1980_MAR_O_NR_003.SEN3/geo_coordinates.nc",
             "title": "Origin asset link",
             "type": "application/x-netcdf"
            }
           },
           "href": "https://hda.data.destination-earth.eu/stac/collections/EO.EUM.DAT.SENTINEL-3.OL_2_WFR___/items/S3A_OL_2_WFR____20240602T092137_20240602T092437_20240602T112348_0180_113_093_1980_MAR_O_NR_003/download/geo_coordinates.nc?provider=dedl",
           "roles": [
            "data"
           ],
           "title": "geo_coordinates.nc",
           "type": "application/x-netcdf"
          },
          "instrument_data.nc": {
           "alternate": {
            "origin": {
             "href": "s3://eodata/Sentinel-3/OLCI/OL_2_WFR___/2024/06/02/S3A_OL_2_WFR____20240602T092137_20240602T092437_20240602T112348_0180_113_093_1980_MAR_O_NR_003.SEN3/instrument_data.nc",
             "title": "Origin asset link",
             "type": "application/x-netcdf"
            }
           },
           "href": "https://hda.data.destination-earth.eu/stac/collections/EO.EUM.DAT.SENTINEL-3.OL_2_WFR___/items/S3A_OL_2_WFR____20240602T092137_20240602T092437_20240602T112348_0180_113_093_1980_MAR_O_NR_003/download/instrument_data.nc?provider=dedl",
           "roles": [
            "data"
           ],
           "title": "instrument_data.nc",
           "type": "application/x-netcdf"
          },
          "iop_lsd.nc": {
           "alternate": {
            "origin": {
             "href": "s3://eodata/Sentinel-3/OLCI/OL_2_WFR___/2024/06/02/S3A_OL_2_WFR____20240602T092137_20240602T092437_20240602T112348_0180_113_093_1980_MAR_O_NR_003.SEN3/iop_lsd.nc",
             "title": "Origin asset link",
             "type": "application/x-netcdf"
            }
           },
           "href": "https://hda.data.destination-earth.eu/stac/collections/EO.EUM.DAT.SENTINEL-3.OL_2_WFR___/items/S3A_OL_2_WFR____20240602T092137_20240602T092437_20240602T112348_0180_113_093_1980_MAR_O_NR_003/download/iop_lsd.nc?provider=dedl",
           "roles": [
            "data"
           ],
           "title": "iop_lsd.nc",
           "type": "application/x-netcdf"
          },
          "iop_nn.nc": {
           "alternate": {
            "origin": {
             "href": "s3://eodata/Sentinel-3/OLCI/OL_2_WFR___/2024/06/02/S3A_OL_2_WFR____20240602T092137_20240602T092437_20240602T112348_0180_113_093_1980_MAR_O_NR_003.SEN3/iop_nn.nc",
             "title": "Origin asset link",
             "type": "application/x-netcdf"
            }
           },
           "href": "https://hda.data.destination-earth.eu/stac/collections/EO.EUM.DAT.SENTINEL-3.OL_2_WFR___/items/S3A_OL_2_WFR____20240602T092137_20240602T092437_20240602T112348_0180_113_093_1980_MAR_O_NR_003/download/iop_nn.nc?provider=dedl",
           "roles": [
            "data"
           ],
           "title": "iop_nn.nc",
           "type": "application/x-netcdf"
          },
          "iwv.nc": {
           "alternate": {
            "origin": {
             "href": "s3://eodata/Sentinel-3/OLCI/OL_2_WFR___/2024/06/02/S3A_OL_2_WFR____20240602T092137_20240602T092437_20240602T112348_0180_113_093_1980_MAR_O_NR_003.SEN3/iwv.nc",
             "title": "Origin asset link",
             "type": "application/x-netcdf"
            }
           },
           "href": "https://hda.data.destination-earth.eu/stac/collections/EO.EUM.DAT.SENTINEL-3.OL_2_WFR___/items/S3A_OL_2_WFR____20240602T092137_20240602T092437_20240602T112348_0180_113_093_1980_MAR_O_NR_003/download/iwv.nc?provider=dedl",
           "roles": [
            "data"
           ],
           "title": "iwv.nc",
           "type": "application/x-netcdf"
          },
          "manifest.xml": {
           "alternate": {
            "origin": {
             "href": "s3://eodata/Sentinel-3/OLCI/OL_2_WFR___/2024/06/02/S3A_OL_2_WFR____20240602T092137_20240602T092437_20240602T112348_0180_113_093_1980_MAR_O_NR_003.SEN3/manifest.xml",
             "title": "Origin asset link",
             "type": "text/xml"
            }
           },
           "href": "https://hda.data.destination-earth.eu/stac/collections/EO.EUM.DAT.SENTINEL-3.OL_2_WFR___/items/S3A_OL_2_WFR____20240602T092137_20240602T092437_20240602T112348_0180_113_093_1980_MAR_O_NR_003/download/manifest.xml?provider=dedl",
           "roles": [
            "metadata"
           ],
           "title": "manifest.xml",
           "type": "text/xml"
          },
          "par.nc": {
           "alternate": {
            "origin": {
             "href": "s3://eodata/Sentinel-3/OLCI/OL_2_WFR___/2024/06/02/S3A_OL_2_WFR____20240602T092137_20240602T092437_20240602T112348_0180_113_093_1980_MAR_O_NR_003.SEN3/par.nc",
             "title": "Origin asset link",
             "type": "application/x-netcdf"
            }
           },
           "href": "https://hda.data.destination-earth.eu/stac/collections/EO.EUM.DAT.SENTINEL-3.OL_2_WFR___/items/S3A_OL_2_WFR____20240602T092137_20240602T092437_20240602T112348_0180_113_093_1980_MAR_O_NR_003/download/par.nc?provider=dedl",
           "roles": [
            "data"
           ],
           "title": "par.nc",
           "type": "application/x-netcdf"
          },
          "tie_geo_coordinates.nc": {
           "alternate": {
            "origin": {
             "href": "s3://eodata/Sentinel-3/OLCI/OL_2_WFR___/2024/06/02/S3A_OL_2_WFR____20240602T092137_20240602T092437_20240602T112348_0180_113_093_1980_MAR_O_NR_003.SEN3/tie_geo_coordinates.nc",
             "title": "Origin asset link",
             "type": "application/x-netcdf"
            }
           },
           "href": "https://hda.data.destination-earth.eu/stac/collections/EO.EUM.DAT.SENTINEL-3.OL_2_WFR___/items/S3A_OL_2_WFR____20240602T092137_20240602T092437_20240602T112348_0180_113_093_1980_MAR_O_NR_003/download/tie_geo_coordinates.nc?provider=dedl",
           "roles": [
            "data"
           ],
           "title": "tie_geo_coordinates.nc",
           "type": "application/x-netcdf"
          },
          "tie_geometries.nc": {
           "alternate": {
            "origin": {
             "href": "s3://eodata/Sentinel-3/OLCI/OL_2_WFR___/2024/06/02/S3A_OL_2_WFR____20240602T092137_20240602T092437_20240602T112348_0180_113_093_1980_MAR_O_NR_003.SEN3/tie_geometries.nc",
             "title": "Origin asset link",
             "type": "application/x-netcdf"
            }
           },
           "href": "https://hda.data.destination-earth.eu/stac/collections/EO.EUM.DAT.SENTINEL-3.OL_2_WFR___/items/S3A_OL_2_WFR____20240602T092137_20240602T092437_20240602T112348_0180_113_093_1980_MAR_O_NR_003/download/tie_geometries.nc?provider=dedl",
           "roles": [
            "data"
           ],
           "title": "tie_geometries.nc",
           "type": "application/x-netcdf"
          },
          "tie_meteo.nc": {
           "alternate": {
            "origin": {
             "href": "s3://eodata/Sentinel-3/OLCI/OL_2_WFR___/2024/06/02/S3A_OL_2_WFR____20240602T092137_20240602T092437_20240602T112348_0180_113_093_1980_MAR_O_NR_003.SEN3/tie_meteo.nc",
             "title": "Origin asset link",
             "type": "application/x-netcdf"
            }
           },
           "href": "https://hda.data.destination-earth.eu/stac/collections/EO.EUM.DAT.SENTINEL-3.OL_2_WFR___/items/S3A_OL_2_WFR____20240602T092137_20240602T092437_20240602T112348_0180_113_093_1980_MAR_O_NR_003/download/tie_meteo.nc?provider=dedl",
           "roles": [
            "data"
           ],
           "title": "tie_meteo.nc",
           "type": "application/x-netcdf"
          },
          "time_coordinates.nc": {
           "alternate": {
            "origin": {
             "href": "s3://eodata/Sentinel-3/OLCI/OL_2_WFR___/2024/06/02/S3A_OL_2_WFR____20240602T092137_20240602T092437_20240602T112348_0180_113_093_1980_MAR_O_NR_003.SEN3/time_coordinates.nc",
             "title": "Origin asset link",
             "type": "application/x-netcdf"
            }
           },
           "href": "https://hda.data.destination-earth.eu/stac/collections/EO.EUM.DAT.SENTINEL-3.OL_2_WFR___/items/S3A_OL_2_WFR____20240602T092137_20240602T092437_20240602T112348_0180_113_093_1980_MAR_O_NR_003/download/time_coordinates.nc?provider=dedl",
           "roles": [
            "data"
           ],
           "title": "time_coordinates.nc",
           "type": "application/x-netcdf"
          },
          "trsp.nc": {
           "alternate": {
            "origin": {
             "href": "s3://eodata/Sentinel-3/OLCI/OL_2_WFR___/2024/06/02/S3A_OL_2_WFR____20240602T092137_20240602T092437_20240602T112348_0180_113_093_1980_MAR_O_NR_003.SEN3/trsp.nc",
             "title": "Origin asset link",
             "type": "application/x-netcdf"
            }
           },
           "href": "https://hda.data.destination-earth.eu/stac/collections/EO.EUM.DAT.SENTINEL-3.OL_2_WFR___/items/S3A_OL_2_WFR____20240602T092137_20240602T092437_20240602T112348_0180_113_093_1980_MAR_O_NR_003/download/trsp.nc?provider=dedl",
           "roles": [
            "data"
           ],
           "title": "trsp.nc",
           "type": "application/x-netcdf"
          },
          "tsm_nn.nc": {
           "alternate": {
            "origin": {
             "href": "s3://eodata/Sentinel-3/OLCI/OL_2_WFR___/2024/06/02/S3A_OL_2_WFR____20240602T092137_20240602T092437_20240602T112348_0180_113_093_1980_MAR_O_NR_003.SEN3/tsm_nn.nc",
             "title": "Origin asset link",
             "type": "application/x-netcdf"
            }
           },
           "href": "https://hda.data.destination-earth.eu/stac/collections/EO.EUM.DAT.SENTINEL-3.OL_2_WFR___/items/S3A_OL_2_WFR____20240602T092137_20240602T092437_20240602T112348_0180_113_093_1980_MAR_O_NR_003/download/tsm_nn.nc?provider=dedl",
           "roles": [
            "data"
           ],
           "title": "tsm_nn.nc",
           "type": "application/x-netcdf"
          },
          "w_aer.nc": {
           "alternate": {
            "origin": {
             "href": "s3://eodata/Sentinel-3/OLCI/OL_2_WFR___/2024/06/02/S3A_OL_2_WFR____20240602T092137_20240602T092437_20240602T112348_0180_113_093_1980_MAR_O_NR_003.SEN3/w_aer.nc",
             "title": "Origin asset link",
             "type": "application/x-netcdf"
            }
           },
           "href": "https://hda.data.destination-earth.eu/stac/collections/EO.EUM.DAT.SENTINEL-3.OL_2_WFR___/items/S3A_OL_2_WFR____20240602T092137_20240602T092437_20240602T112348_0180_113_093_1980_MAR_O_NR_003/download/w_aer.nc?provider=dedl",
           "roles": [
            "data"
           ],
           "title": "w_aer.nc",
           "type": "application/x-netcdf"
          },
          "wqsf.nc": {
           "alternate": {
            "origin": {
             "href": "s3://eodata/Sentinel-3/OLCI/OL_2_WFR___/2024/06/02/S3A_OL_2_WFR____20240602T092137_20240602T092437_20240602T112348_0180_113_093_1980_MAR_O_NR_003.SEN3/wqsf.nc",
             "title": "Origin asset link",
             "type": "application/x-netcdf"
            }
           },
           "href": "https://hda.data.destination-earth.eu/stac/collections/EO.EUM.DAT.SENTINEL-3.OL_2_WFR___/items/S3A_OL_2_WFR____20240602T092137_20240602T092437_20240602T112348_0180_113_093_1980_MAR_O_NR_003/download/wqsf.nc?provider=dedl",
           "roles": [
            "data"
           ],
           "title": "wqsf.nc",
           "type": "application/x-netcdf"
          },
          "xfdumanifest.xml": {
           "alternate": {
            "origin": {
             "href": "s3://eodata/Sentinel-3/OLCI/OL_2_WFR___/2024/06/02/S3A_OL_2_WFR____20240602T092137_20240602T092437_20240602T112348_0180_113_093_1980_MAR_O_NR_003.SEN3/xfdumanifest.xml",
             "title": "Origin asset link",
             "type": "text/xml"
            }
           },
           "href": "https://hda.data.destination-earth.eu/stac/collections/EO.EUM.DAT.SENTINEL-3.OL_2_WFR___/items/S3A_OL_2_WFR____20240602T092137_20240602T092437_20240602T112348_0180_113_093_1980_MAR_O_NR_003/download/xfdumanifest.xml?provider=dedl",
           "roles": [
            "metadata"
           ],
           "title": "xfdumanifest.xml",
           "type": "text/xml"
          }
         },
         "bbox": [
          5.70968,
          49.8879,
          31.2181,
          62.914
         ],
         "collection": "EO.EUM.DAT.SENTINEL-3.OL_2_WFR___",
         "geometry": {
          "coordinates": [
           [
            [
             5.70968,
             52.4553
            ],
            [
             6.71778,
             52.3941
            ],
            [
             7.72714,
             52.3242
            ],
            [
             8.73563,
             52.2455
            ],
            [
             9.73363,
             52.1615
            ],
            [
             10.7327,
             52.066
            ],
            [
             11.7253,
             51.9624
            ],
            [
             12.7124,
             51.8508
            ],
            [
             13.6952,
             51.7303
            ],
            [
             14.6743,
             51.6014
            ],
            [
             15.6481,
             51.4644
            ],
            [
             16.6108,
             51.3199
            ],
            [
             17.5696,
             51.1673
            ],
            [
             18.5219,
             51.0068
            ],
            [
             19.4688,
             50.8389
            ],
            [
             20.4076,
             50.6636
            ],
            [
             21.3418,
             50.4813
            ],
            [
             22.2672,
             50.2909
            ],
            [
             23.1837,
             50.0934
            ],
            [
             24.0946,
             49.8879
            ],
            [
             25.5778,
             52.4358
            ],
            [
             27.2335,
             54.9692
            ],
            [
             29.0971,
             57.4791
            ],
            [
             31.2181,
             59.9601
            ],
            [
             30.0884,
             60.2152
            ],
            [
             28.9374,
             60.461
            ],
            [
             27.7722,
             60.6961
            ],
            [
             26.5877,
             60.9203
            ],
            [
             25.3855,
             61.1353
            ],
            [
             24.1704,
             61.3389
            ],
            [
             22.9422,
             61.5315
            ],
            [
             21.6942,
             61.7138
            ],
            [
             20.4344,
             61.8843
            ],
            [
             19.1614,
             62.0431
            ],
            [
             17.8773,
             62.1897
            ],
            [
             16.582,
             62.3242
            ],
            [
             15.2718,
             62.4462
            ],
            [
             13.9636,
             62.5553
            ],
            [
             12.6317,
             62.6531
            ],
            [
             11.2997,
             62.7377
            ],
            [
             9.94912,
             62.8076
            ],
            [
             8.58432,
             62.8674
            ],
            [
             7.22819,
             62.914
            ],
            [
             6.85883,
             60.3004
            ],
            [
             6.48173,
             57.6849
            ],
            [
             6.09835,
             55.0685
            ],
            [
             5.70968,
             52.4553
            ]
           ]
          ],
          "type": "Polygon"
         },
         "id": "S3A_OL_2_WFR____20240602T092137_20240602T092437_20240602T112348_0180_113_093_1980_MAR_O_NR_003",
         "links": [
          {
           "href": "https://hda.data.destination-earth.eu/stac/collections/EO.EUM.DAT.SENTINEL-3.OL_2_WFR___/items/S3A_OL_2_WFR____20240602T092137_20240602T092437_20240602T112348_0180_113_093_1980_MAR_O_NR_003",
           "rel": "self",
           "title": "S3A_OL_2_WFR____20240602T092137_20240602T092437_20240602T112348_0180_113_093_1980_MAR_O_NR_003"
          },
          {
           "href": "https://hda.data.destination-earth.eu/stac/",
           "rel": "root"
          },
          {
           "href": "https://hda.data.destination-earth.eu/stac/collections/EO.EUM.DAT.SENTINEL-3.OL_2_WFR___",
           "rel": "parent",
           "title": "EO.EUM.DAT.SENTINEL-3.OL_2_WFR___"
          },
          {
           "href": "https://hda.data.destination-earth.eu/stac/collections/EO.EUM.DAT.SENTINEL-3.OL_2_WFR___",
           "rel": "collection",
           "title": "EO.EUM.DAT.SENTINEL-3.OL_2_WFR___"
          }
         ],
         "properties": {
          "constellation": "SENTINEL-3",
          "datetime": "2024-06-02T09:21:36.897838Z",
          "dedl:alias": "EO.EUM.DAT.SENTINEL-3.OL_2_WFR___",
          "dedl:baselineCollection": "003",
          "dedl:beginningDateTime": "2024-06-02T09:21:36.897838Z",
          "dedl:endingDateTime": "2024-06-02T09:24:36.897838Z",
          "dedl:productIdentifier": "/eodata/Sentinel-3/OLCI/OL_2_WFR___/2024/06/02/S3A_OL_2_WFR____20240602T092137_20240602T092437_20240602T112348_0180_113_093_1980_MAR_O_NR_003.SEN3",
          "dedl:scope": {
           "discover": null,
           "download": "hda-public-data-access",
           "search": "hda-public-data-access"
          },
          "dedl:timeliness": "NR",
          "dedl:uid": "321d2d64-e63a-4f2b-ae14-c0eff3f72069",
          "description": "OLCI (Ocean and Land Colour Instrument) Ocean Colour Geophysical Products. Full Resolution: 300m at nadir. All Sentinel-3 NRT products are available at pick-up point in less than 3h. Level 2 marine products include the following: * water-leaving reflectances in 16 bands, Oa**_reflectance (Baseline Atmospheric Correction (BAC) algorithm, bands: 400, 412, 442, 490, 510, 560, 620, 665, 674, 681, 709, 754, 779, 865, 885, 1024 nanometer (nm)); *algal pigment concentration in clear waters, chl_oc4me (BAC and maximum band ratio algorithm, log10 scaled); *algal pigment concentration in turbid waters, chl_nn (neural net algorithm, log10 scaled); *total suspended matter concentration, tsm_nn (neural net algorithm, log10 scaled); *diffuse attenuation coefficient Kd of downward irradiance at 490 nm, trsp (BAC and M07 algorithm, log10 scaled); *absorption coefficient at 443 nm of coloured detrital and dissolved organic matter, iop_nn (neural net algorithm, log10 scaled); *instantaneous photosynthetically active radiation, PAR (BAC and clear-sky ocean algorithm); *aerosol optical thickness T865 and aerosol Angstrom exponent A865, w_aer (BAC algorithm, A for bands 779 and 865 nm) *integrated water vapour column, iwv (1D-Var algorithm). The geophysical products are accompanied by error estimate products. Pixel classification, quality and science flags, as well as meteorological, geometry and geolocation data at tie points are provided.\n\n- All Sentinel-3 NRT products are available at pick-up point in less than 3h\n- All Sentinel-3 Non Time Critical (NTC) products are available at pick-up point in less than 30 days\nSentinel-3 is part of a series of Sentinel satellites, under the umbrella of the EU Copernicus programme.",
          "end_datetime": "2024-06-02T09:24:36.897838Z",
          "instruments": [
           "OLCI"
          ],
          "license": "proprietary",
          "order:status": "succeeded",
          "platform": "SENTINEL-3A,SENTINEL-3B",
          "processing:level": 2,
          "providers": [
           {
            "description": "DestineE Data Lake Fresh Data Pool",
            "name": "dedl",
            "priority": 1,
            "roles": [
             "host"
            ],
            "url": "https://creodias.eu/"
           }
          ],
          "published": "2024-06-02T11:32:39.219957Z",
          "sar:instrument_mode": "Earth Observation",
          "sar:product_type": "OL_2_WFR___",
          "sat:absolute_orbit": 43186,
          "sat:orbit_state": "DESCENDING",
          "sat:relative_orbit": 93,
          "start_datetime": "2024-06-02T09:21:36.897838Z",
          "updated": "2024-06-02T11:44:24.026570Z"
         },
         "stac_extensions": [
          "https://stac-extensions.github.io/timestamps/v1.0.0/schema.json",
          "https://stac-extensions.github.io/processing/v1.0.0/schema.json",
          "https://stac-extensions.github.io/sat/v1.0.0/schema.json",
          "https://stac-extensions.github.io/sar/v1.0.0/schema.json",
          "https://stac-extensions.github.io/order/v1.1.0/schema.json"
         ],
         "stac_version": "1.0.0",
         "type": "Feature"
        },
        {
         "assets": {
          "EOPMetadata.xml": {
           "alternate": {
            "origin": {
             "href": "s3://eodata/Sentinel-3/OLCI/OL_2_WFR___/2024/06/02/S3B_OL_2_WFR____20240602T102044_20240602T102344_20240603T183315_0179_093_336_1800_MAR_O_NT_003.SEN3/EOPMetadata.xml",
             "title": "Origin asset link",
             "type": "text/xml"
            }
           },
           "href": "https://hda.data.destination-earth.eu/stac/collections/EO.EUM.DAT.SENTINEL-3.OL_2_WFR___/items/S3B_OL_2_WFR____20240602T102044_20240602T102344_20240603T183315_0179_093_336_1800_MAR_O_NT_003/download/EOPMetadata.xml?provider=dedl",
           "roles": [
            "metadata"
           ],
           "title": "EOPMetadata.xml",
           "type": "text/xml"
          },
          "Oa01_reflectance.nc": {
           "alternate": {
            "origin": {
             "href": "s3://eodata/Sentinel-3/OLCI/OL_2_WFR___/2024/06/02/S3B_OL_2_WFR____20240602T102044_20240602T102344_20240603T183315_0179_093_336_1800_MAR_O_NT_003.SEN3/Oa01_reflectance.nc",
             "title": "Origin asset link",
             "type": "application/x-netcdf"
            }
           },
           "href": "https://hda.data.destination-earth.eu/stac/collections/EO.EUM.DAT.SENTINEL-3.OL_2_WFR___/items/S3B_OL_2_WFR____20240602T102044_20240602T102344_20240603T183315_0179_093_336_1800_MAR_O_NT_003/download/Oa01_reflectance.nc?provider=dedl",
           "roles": [
            "data"
           ],
           "title": "Oa01_reflectance.nc",
           "type": "application/x-netcdf"
          },
          "Oa02_reflectance.nc": {
           "alternate": {
            "origin": {
             "href": "s3://eodata/Sentinel-3/OLCI/OL_2_WFR___/2024/06/02/S3B_OL_2_WFR____20240602T102044_20240602T102344_20240603T183315_0179_093_336_1800_MAR_O_NT_003.SEN3/Oa02_reflectance.nc",
             "title": "Origin asset link",
             "type": "application/x-netcdf"
            }
           },
           "href": "https://hda.data.destination-earth.eu/stac/collections/EO.EUM.DAT.SENTINEL-3.OL_2_WFR___/items/S3B_OL_2_WFR____20240602T102044_20240602T102344_20240603T183315_0179_093_336_1800_MAR_O_NT_003/download/Oa02_reflectance.nc?provider=dedl",
           "roles": [
            "data"
           ],
           "title": "Oa02_reflectance.nc",
           "type": "application/x-netcdf"
          },
          "Oa03_reflectance.nc": {
           "alternate": {
            "origin": {
             "href": "s3://eodata/Sentinel-3/OLCI/OL_2_WFR___/2024/06/02/S3B_OL_2_WFR____20240602T102044_20240602T102344_20240603T183315_0179_093_336_1800_MAR_O_NT_003.SEN3/Oa03_reflectance.nc",
             "title": "Origin asset link",
             "type": "application/x-netcdf"
            }
           },
           "href": "https://hda.data.destination-earth.eu/stac/collections/EO.EUM.DAT.SENTINEL-3.OL_2_WFR___/items/S3B_OL_2_WFR____20240602T102044_20240602T102344_20240603T183315_0179_093_336_1800_MAR_O_NT_003/download/Oa03_reflectance.nc?provider=dedl",
           "roles": [
            "data"
           ],
           "title": "Oa03_reflectance.nc",
           "type": "application/x-netcdf"
          },
          "Oa04_reflectance.nc": {
           "alternate": {
            "origin": {
             "href": "s3://eodata/Sentinel-3/OLCI/OL_2_WFR___/2024/06/02/S3B_OL_2_WFR____20240602T102044_20240602T102344_20240603T183315_0179_093_336_1800_MAR_O_NT_003.SEN3/Oa04_reflectance.nc",
             "title": "Origin asset link",
             "type": "application/x-netcdf"
            }
           },
           "href": "https://hda.data.destination-earth.eu/stac/collections/EO.EUM.DAT.SENTINEL-3.OL_2_WFR___/items/S3B_OL_2_WFR____20240602T102044_20240602T102344_20240603T183315_0179_093_336_1800_MAR_O_NT_003/download/Oa04_reflectance.nc?provider=dedl",
           "roles": [
            "data"
           ],
           "title": "Oa04_reflectance.nc",
           "type": "application/x-netcdf"
          },
          "Oa05_reflectance.nc": {
           "alternate": {
            "origin": {
             "href": "s3://eodata/Sentinel-3/OLCI/OL_2_WFR___/2024/06/02/S3B_OL_2_WFR____20240602T102044_20240602T102344_20240603T183315_0179_093_336_1800_MAR_O_NT_003.SEN3/Oa05_reflectance.nc",
             "title": "Origin asset link",
             "type": "application/x-netcdf"
            }
           },
           "href": "https://hda.data.destination-earth.eu/stac/collections/EO.EUM.DAT.SENTINEL-3.OL_2_WFR___/items/S3B_OL_2_WFR____20240602T102044_20240602T102344_20240603T183315_0179_093_336_1800_MAR_O_NT_003/download/Oa05_reflectance.nc?provider=dedl",
           "roles": [
            "data"
           ],
           "title": "Oa05_reflectance.nc",
           "type": "application/x-netcdf"
          },
          "Oa06_reflectance.nc": {
           "alternate": {
            "origin": {
             "href": "s3://eodata/Sentinel-3/OLCI/OL_2_WFR___/2024/06/02/S3B_OL_2_WFR____20240602T102044_20240602T102344_20240603T183315_0179_093_336_1800_MAR_O_NT_003.SEN3/Oa06_reflectance.nc",
             "title": "Origin asset link",
             "type": "application/x-netcdf"
            }
           },
           "href": "https://hda.data.destination-earth.eu/stac/collections/EO.EUM.DAT.SENTINEL-3.OL_2_WFR___/items/S3B_OL_2_WFR____20240602T102044_20240602T102344_20240603T183315_0179_093_336_1800_MAR_O_NT_003/download/Oa06_reflectance.nc?provider=dedl",
           "roles": [
            "data"
           ],
           "title": "Oa06_reflectance.nc",
           "type": "application/x-netcdf"
          },
          "Oa07_reflectance.nc": {
           "alternate": {
            "origin": {
             "href": "s3://eodata/Sentinel-3/OLCI/OL_2_WFR___/2024/06/02/S3B_OL_2_WFR____20240602T102044_20240602T102344_20240603T183315_0179_093_336_1800_MAR_O_NT_003.SEN3/Oa07_reflectance.nc",
             "title": "Origin asset link",
             "type": "application/x-netcdf"
            }
           },
           "href": "https://hda.data.destination-earth.eu/stac/collections/EO.EUM.DAT.SENTINEL-3.OL_2_WFR___/items/S3B_OL_2_WFR____20240602T102044_20240602T102344_20240603T183315_0179_093_336_1800_MAR_O_NT_003/download/Oa07_reflectance.nc?provider=dedl",
           "roles": [
            "data"
           ],
           "title": "Oa07_reflectance.nc",
           "type": "application/x-netcdf"
          },
          "Oa08_reflectance.nc": {
           "alternate": {
            "origin": {
             "href": "s3://eodata/Sentinel-3/OLCI/OL_2_WFR___/2024/06/02/S3B_OL_2_WFR____20240602T102044_20240602T102344_20240603T183315_0179_093_336_1800_MAR_O_NT_003.SEN3/Oa08_reflectance.nc",
             "title": "Origin asset link",
             "type": "application/x-netcdf"
            }
           },
           "href": "https://hda.data.destination-earth.eu/stac/collections/EO.EUM.DAT.SENTINEL-3.OL_2_WFR___/items/S3B_OL_2_WFR____20240602T102044_20240602T102344_20240603T183315_0179_093_336_1800_MAR_O_NT_003/download/Oa08_reflectance.nc?provider=dedl",
           "roles": [
            "data"
           ],
           "title": "Oa08_reflectance.nc",
           "type": "application/x-netcdf"
          },
          "Oa09_reflectance.nc": {
           "alternate": {
            "origin": {
             "href": "s3://eodata/Sentinel-3/OLCI/OL_2_WFR___/2024/06/02/S3B_OL_2_WFR____20240602T102044_20240602T102344_20240603T183315_0179_093_336_1800_MAR_O_NT_003.SEN3/Oa09_reflectance.nc",
             "title": "Origin asset link",
             "type": "application/x-netcdf"
            }
           },
           "href": "https://hda.data.destination-earth.eu/stac/collections/EO.EUM.DAT.SENTINEL-3.OL_2_WFR___/items/S3B_OL_2_WFR____20240602T102044_20240602T102344_20240603T183315_0179_093_336_1800_MAR_O_NT_003/download/Oa09_reflectance.nc?provider=dedl",
           "roles": [
            "data"
           ],
           "title": "Oa09_reflectance.nc",
           "type": "application/x-netcdf"
          },
          "Oa10_reflectance.nc": {
           "alternate": {
            "origin": {
             "href": "s3://eodata/Sentinel-3/OLCI/OL_2_WFR___/2024/06/02/S3B_OL_2_WFR____20240602T102044_20240602T102344_20240603T183315_0179_093_336_1800_MAR_O_NT_003.SEN3/Oa10_reflectance.nc",
             "title": "Origin asset link",
             "type": "application/x-netcdf"
            }
           },
           "href": "https://hda.data.destination-earth.eu/stac/collections/EO.EUM.DAT.SENTINEL-3.OL_2_WFR___/items/S3B_OL_2_WFR____20240602T102044_20240602T102344_20240603T183315_0179_093_336_1800_MAR_O_NT_003/download/Oa10_reflectance.nc?provider=dedl",
           "roles": [
            "data"
           ],
           "title": "Oa10_reflectance.nc",
           "type": "application/x-netcdf"
          },
          "Oa11_reflectance.nc": {
           "alternate": {
            "origin": {
             "href": "s3://eodata/Sentinel-3/OLCI/OL_2_WFR___/2024/06/02/S3B_OL_2_WFR____20240602T102044_20240602T102344_20240603T183315_0179_093_336_1800_MAR_O_NT_003.SEN3/Oa11_reflectance.nc",
             "title": "Origin asset link",
             "type": "application/x-netcdf"
            }
           },
           "href": "https://hda.data.destination-earth.eu/stac/collections/EO.EUM.DAT.SENTINEL-3.OL_2_WFR___/items/S3B_OL_2_WFR____20240602T102044_20240602T102344_20240603T183315_0179_093_336_1800_MAR_O_NT_003/download/Oa11_reflectance.nc?provider=dedl",
           "roles": [
            "data"
           ],
           "title": "Oa11_reflectance.nc",
           "type": "application/x-netcdf"
          },
          "Oa12_reflectance.nc": {
           "alternate": {
            "origin": {
             "href": "s3://eodata/Sentinel-3/OLCI/OL_2_WFR___/2024/06/02/S3B_OL_2_WFR____20240602T102044_20240602T102344_20240603T183315_0179_093_336_1800_MAR_O_NT_003.SEN3/Oa12_reflectance.nc",
             "title": "Origin asset link",
             "type": "application/x-netcdf"
            }
           },
           "href": "https://hda.data.destination-earth.eu/stac/collections/EO.EUM.DAT.SENTINEL-3.OL_2_WFR___/items/S3B_OL_2_WFR____20240602T102044_20240602T102344_20240603T183315_0179_093_336_1800_MAR_O_NT_003/download/Oa12_reflectance.nc?provider=dedl",
           "roles": [
            "data"
           ],
           "title": "Oa12_reflectance.nc",
           "type": "application/x-netcdf"
          },
          "Oa16_reflectance.nc": {
           "alternate": {
            "origin": {
             "href": "s3://eodata/Sentinel-3/OLCI/OL_2_WFR___/2024/06/02/S3B_OL_2_WFR____20240602T102044_20240602T102344_20240603T183315_0179_093_336_1800_MAR_O_NT_003.SEN3/Oa16_reflectance.nc",
             "title": "Origin asset link",
             "type": "application/x-netcdf"
            }
           },
           "href": "https://hda.data.destination-earth.eu/stac/collections/EO.EUM.DAT.SENTINEL-3.OL_2_WFR___/items/S3B_OL_2_WFR____20240602T102044_20240602T102344_20240603T183315_0179_093_336_1800_MAR_O_NT_003/download/Oa16_reflectance.nc?provider=dedl",
           "roles": [
            "data"
           ],
           "title": "Oa16_reflectance.nc",
           "type": "application/x-netcdf"
          },
          "Oa17_reflectance.nc": {
           "alternate": {
            "origin": {
             "href": "s3://eodata/Sentinel-3/OLCI/OL_2_WFR___/2024/06/02/S3B_OL_2_WFR____20240602T102044_20240602T102344_20240603T183315_0179_093_336_1800_MAR_O_NT_003.SEN3/Oa17_reflectance.nc",
             "title": "Origin asset link",
             "type": "application/x-netcdf"
            }
           },
           "href": "https://hda.data.destination-earth.eu/stac/collections/EO.EUM.DAT.SENTINEL-3.OL_2_WFR___/items/S3B_OL_2_WFR____20240602T102044_20240602T102344_20240603T183315_0179_093_336_1800_MAR_O_NT_003/download/Oa17_reflectance.nc?provider=dedl",
           "roles": [
            "data"
           ],
           "title": "Oa17_reflectance.nc",
           "type": "application/x-netcdf"
          },
          "Oa18_reflectance.nc": {
           "alternate": {
            "origin": {
             "href": "s3://eodata/Sentinel-3/OLCI/OL_2_WFR___/2024/06/02/S3B_OL_2_WFR____20240602T102044_20240602T102344_20240603T183315_0179_093_336_1800_MAR_O_NT_003.SEN3/Oa18_reflectance.nc",
             "title": "Origin asset link",
             "type": "application/x-netcdf"
            }
           },
           "href": "https://hda.data.destination-earth.eu/stac/collections/EO.EUM.DAT.SENTINEL-3.OL_2_WFR___/items/S3B_OL_2_WFR____20240602T102044_20240602T102344_20240603T183315_0179_093_336_1800_MAR_O_NT_003/download/Oa18_reflectance.nc?provider=dedl",
           "roles": [
            "data"
           ],
           "title": "Oa18_reflectance.nc",
           "type": "application/x-netcdf"
          },
          "Oa21_reflectance.nc": {
           "alternate": {
            "origin": {
             "href": "s3://eodata/Sentinel-3/OLCI/OL_2_WFR___/2024/06/02/S3B_OL_2_WFR____20240602T102044_20240602T102344_20240603T183315_0179_093_336_1800_MAR_O_NT_003.SEN3/Oa21_reflectance.nc",
             "title": "Origin asset link",
             "type": "application/x-netcdf"
            }
           },
           "href": "https://hda.data.destination-earth.eu/stac/collections/EO.EUM.DAT.SENTINEL-3.OL_2_WFR___/items/S3B_OL_2_WFR____20240602T102044_20240602T102344_20240603T183315_0179_093_336_1800_MAR_O_NT_003/download/Oa21_reflectance.nc?provider=dedl",
           "roles": [
            "data"
           ],
           "title": "Oa21_reflectance.nc",
           "type": "application/x-netcdf"
          },
          "browse.jpg": {
           "alternate": {
            "origin": {
             "href": "s3://eodata/Sentinel-3/OLCI/OL_2_WFR___/2024/06/02/S3B_OL_2_WFR____20240602T102044_20240602T102344_20240603T183315_0179_093_336_1800_MAR_O_NT_003.SEN3/browse.jpg",
             "title": "Origin asset link",
             "type": "image/jpeg"
            }
           },
           "href": "https://hda.data.destination-earth.eu/stac/collections/EO.EUM.DAT.SENTINEL-3.OL_2_WFR___/items/S3B_OL_2_WFR____20240602T102044_20240602T102344_20240603T183315_0179_093_336_1800_MAR_O_NT_003/download/browse.jpg?provider=dedl",
           "roles": [
            "metadata"
           ],
           "title": "browse.jpg",
           "type": "image/jpeg"
          },
          "chl_nn.nc": {
           "alternate": {
            "origin": {
             "href": "s3://eodata/Sentinel-3/OLCI/OL_2_WFR___/2024/06/02/S3B_OL_2_WFR____20240602T102044_20240602T102344_20240603T183315_0179_093_336_1800_MAR_O_NT_003.SEN3/chl_nn.nc",
             "title": "Origin asset link",
             "type": "application/x-netcdf"
            }
           },
           "href": "https://hda.data.destination-earth.eu/stac/collections/EO.EUM.DAT.SENTINEL-3.OL_2_WFR___/items/S3B_OL_2_WFR____20240602T102044_20240602T102344_20240603T183315_0179_093_336_1800_MAR_O_NT_003/download/chl_nn.nc?provider=dedl",
           "roles": [
            "data"
           ],
           "title": "chl_nn.nc",
           "type": "application/x-netcdf"
          },
          "chl_oc4me.nc": {
           "alternate": {
            "origin": {
             "href": "s3://eodata/Sentinel-3/OLCI/OL_2_WFR___/2024/06/02/S3B_OL_2_WFR____20240602T102044_20240602T102344_20240603T183315_0179_093_336_1800_MAR_O_NT_003.SEN3/chl_oc4me.nc",
             "title": "Origin asset link",
             "type": "application/x-netcdf"
            }
           },
           "href": "https://hda.data.destination-earth.eu/stac/collections/EO.EUM.DAT.SENTINEL-3.OL_2_WFR___/items/S3B_OL_2_WFR____20240602T102044_20240602T102344_20240603T183315_0179_093_336_1800_MAR_O_NT_003/download/chl_oc4me.nc?provider=dedl",
           "roles": [
            "data"
           ],
           "title": "chl_oc4me.nc",
           "type": "application/x-netcdf"
          },
          "downloadLink": {
           "alternate": {
            "origin": {
             "href": "https://zipper.creodias.eu/odata/v1/Products(aa09ece8-2037-456b-8dad-f189190aa678)/$value",
             "title": "Origin asset link"
            }
           },
           "href": "https://hda.data.destination-earth.eu/stac/collections/EO.EUM.DAT.SENTINEL-3.OL_2_WFR___/items/S3B_OL_2_WFR____20240602T102044_20240602T102344_20240603T183315_0179_093_336_1800_MAR_O_NT_003/download?provider=dedl",
           "storage:tier": "ONLINE",
           "title": "Download link",
           "type": "application/zip"
          },
          "geo_coordinates.nc": {
           "alternate": {
            "origin": {
             "href": "s3://eodata/Sentinel-3/OLCI/OL_2_WFR___/2024/06/02/S3B_OL_2_WFR____20240602T102044_20240602T102344_20240603T183315_0179_093_336_1800_MAR_O_NT_003.SEN3/geo_coordinates.nc",
             "title": "Origin asset link",
             "type": "application/x-netcdf"
            }
           },
           "href": "https://hda.data.destination-earth.eu/stac/collections/EO.EUM.DAT.SENTINEL-3.OL_2_WFR___/items/S3B_OL_2_WFR____20240602T102044_20240602T102344_20240603T183315_0179_093_336_1800_MAR_O_NT_003/download/geo_coordinates.nc?provider=dedl",
           "roles": [
            "data"
           ],
           "title": "geo_coordinates.nc",
           "type": "application/x-netcdf"
          },
          "instrument_data.nc": {
           "alternate": {
            "origin": {
             "href": "s3://eodata/Sentinel-3/OLCI/OL_2_WFR___/2024/06/02/S3B_OL_2_WFR____20240602T102044_20240602T102344_20240603T183315_0179_093_336_1800_MAR_O_NT_003.SEN3/instrument_data.nc",
             "title": "Origin asset link",
             "type": "application/x-netcdf"
            }
           },
           "href": "https://hda.data.destination-earth.eu/stac/collections/EO.EUM.DAT.SENTINEL-3.OL_2_WFR___/items/S3B_OL_2_WFR____20240602T102044_20240602T102344_20240603T183315_0179_093_336_1800_MAR_O_NT_003/download/instrument_data.nc?provider=dedl",
           "roles": [
            "data"
           ],
           "title": "instrument_data.nc",
           "type": "application/x-netcdf"
          },
          "iop_lsd.nc": {
           "alternate": {
            "origin": {
             "href": "s3://eodata/Sentinel-3/OLCI/OL_2_WFR___/2024/06/02/S3B_OL_2_WFR____20240602T102044_20240602T102344_20240603T183315_0179_093_336_1800_MAR_O_NT_003.SEN3/iop_lsd.nc",
             "title": "Origin asset link",
             "type": "application/x-netcdf"
            }
           },
           "href": "https://hda.data.destination-earth.eu/stac/collections/EO.EUM.DAT.SENTINEL-3.OL_2_WFR___/items/S3B_OL_2_WFR____20240602T102044_20240602T102344_20240603T183315_0179_093_336_1800_MAR_O_NT_003/download/iop_lsd.nc?provider=dedl",
           "roles": [
            "data"
           ],
           "title": "iop_lsd.nc",
           "type": "application/x-netcdf"
          },
          "iop_nn.nc": {
           "alternate": {
            "origin": {
             "href": "s3://eodata/Sentinel-3/OLCI/OL_2_WFR___/2024/06/02/S3B_OL_2_WFR____20240602T102044_20240602T102344_20240603T183315_0179_093_336_1800_MAR_O_NT_003.SEN3/iop_nn.nc",
             "title": "Origin asset link",
             "type": "application/x-netcdf"
            }
           },
           "href": "https://hda.data.destination-earth.eu/stac/collections/EO.EUM.DAT.SENTINEL-3.OL_2_WFR___/items/S3B_OL_2_WFR____20240602T102044_20240602T102344_20240603T183315_0179_093_336_1800_MAR_O_NT_003/download/iop_nn.nc?provider=dedl",
           "roles": [
            "data"
           ],
           "title": "iop_nn.nc",
           "type": "application/x-netcdf"
          },
          "iwv.nc": {
           "alternate": {
            "origin": {
             "href": "s3://eodata/Sentinel-3/OLCI/OL_2_WFR___/2024/06/02/S3B_OL_2_WFR____20240602T102044_20240602T102344_20240603T183315_0179_093_336_1800_MAR_O_NT_003.SEN3/iwv.nc",
             "title": "Origin asset link",
             "type": "application/x-netcdf"
            }
           },
           "href": "https://hda.data.destination-earth.eu/stac/collections/EO.EUM.DAT.SENTINEL-3.OL_2_WFR___/items/S3B_OL_2_WFR____20240602T102044_20240602T102344_20240603T183315_0179_093_336_1800_MAR_O_NT_003/download/iwv.nc?provider=dedl",
           "roles": [
            "data"
           ],
           "title": "iwv.nc",
           "type": "application/x-netcdf"
          },
          "manifest.xml": {
           "alternate": {
            "origin": {
             "href": "s3://eodata/Sentinel-3/OLCI/OL_2_WFR___/2024/06/02/S3B_OL_2_WFR____20240602T102044_20240602T102344_20240603T183315_0179_093_336_1800_MAR_O_NT_003.SEN3/manifest.xml",
             "title": "Origin asset link",
             "type": "text/xml"
            }
           },
           "href": "https://hda.data.destination-earth.eu/stac/collections/EO.EUM.DAT.SENTINEL-3.OL_2_WFR___/items/S3B_OL_2_WFR____20240602T102044_20240602T102344_20240603T183315_0179_093_336_1800_MAR_O_NT_003/download/manifest.xml?provider=dedl",
           "roles": [
            "metadata"
           ],
           "title": "manifest.xml",
           "type": "text/xml"
          },
          "par.nc": {
           "alternate": {
            "origin": {
             "href": "s3://eodata/Sentinel-3/OLCI/OL_2_WFR___/2024/06/02/S3B_OL_2_WFR____20240602T102044_20240602T102344_20240603T183315_0179_093_336_1800_MAR_O_NT_003.SEN3/par.nc",
             "title": "Origin asset link",
             "type": "application/x-netcdf"
            }
           },
           "href": "https://hda.data.destination-earth.eu/stac/collections/EO.EUM.DAT.SENTINEL-3.OL_2_WFR___/items/S3B_OL_2_WFR____20240602T102044_20240602T102344_20240603T183315_0179_093_336_1800_MAR_O_NT_003/download/par.nc?provider=dedl",
           "roles": [
            "data"
           ],
           "title": "par.nc",
           "type": "application/x-netcdf"
          },
          "tie_geo_coordinates.nc": {
           "alternate": {
            "origin": {
             "href": "s3://eodata/Sentinel-3/OLCI/OL_2_WFR___/2024/06/02/S3B_OL_2_WFR____20240602T102044_20240602T102344_20240603T183315_0179_093_336_1800_MAR_O_NT_003.SEN3/tie_geo_coordinates.nc",
             "title": "Origin asset link",
             "type": "application/x-netcdf"
            }
           },
           "href": "https://hda.data.destination-earth.eu/stac/collections/EO.EUM.DAT.SENTINEL-3.OL_2_WFR___/items/S3B_OL_2_WFR____20240602T102044_20240602T102344_20240603T183315_0179_093_336_1800_MAR_O_NT_003/download/tie_geo_coordinates.nc?provider=dedl",
           "roles": [
            "data"
           ],
           "title": "tie_geo_coordinates.nc",
           "type": "application/x-netcdf"
          },
          "tie_geometries.nc": {
           "alternate": {
            "origin": {
             "href": "s3://eodata/Sentinel-3/OLCI/OL_2_WFR___/2024/06/02/S3B_OL_2_WFR____20240602T102044_20240602T102344_20240603T183315_0179_093_336_1800_MAR_O_NT_003.SEN3/tie_geometries.nc",
             "title": "Origin asset link",
             "type": "application/x-netcdf"
            }
           },
           "href": "https://hda.data.destination-earth.eu/stac/collections/EO.EUM.DAT.SENTINEL-3.OL_2_WFR___/items/S3B_OL_2_WFR____20240602T102044_20240602T102344_20240603T183315_0179_093_336_1800_MAR_O_NT_003/download/tie_geometries.nc?provider=dedl",
           "roles": [
            "data"
           ],
           "title": "tie_geometries.nc",
           "type": "application/x-netcdf"
          },
          "tie_meteo.nc": {
           "alternate": {
            "origin": {
             "href": "s3://eodata/Sentinel-3/OLCI/OL_2_WFR___/2024/06/02/S3B_OL_2_WFR____20240602T102044_20240602T102344_20240603T183315_0179_093_336_1800_MAR_O_NT_003.SEN3/tie_meteo.nc",
             "title": "Origin asset link",
             "type": "application/x-netcdf"
            }
           },
           "href": "https://hda.data.destination-earth.eu/stac/collections/EO.EUM.DAT.SENTINEL-3.OL_2_WFR___/items/S3B_OL_2_WFR____20240602T102044_20240602T102344_20240603T183315_0179_093_336_1800_MAR_O_NT_003/download/tie_meteo.nc?provider=dedl",
           "roles": [
            "data"
           ],
           "title": "tie_meteo.nc",
           "type": "application/x-netcdf"
          },
          "time_coordinates.nc": {
           "alternate": {
            "origin": {
             "href": "s3://eodata/Sentinel-3/OLCI/OL_2_WFR___/2024/06/02/S3B_OL_2_WFR____20240602T102044_20240602T102344_20240603T183315_0179_093_336_1800_MAR_O_NT_003.SEN3/time_coordinates.nc",
             "title": "Origin asset link",
             "type": "application/x-netcdf"
            }
           },
           "href": "https://hda.data.destination-earth.eu/stac/collections/EO.EUM.DAT.SENTINEL-3.OL_2_WFR___/items/S3B_OL_2_WFR____20240602T102044_20240602T102344_20240603T183315_0179_093_336_1800_MAR_O_NT_003/download/time_coordinates.nc?provider=dedl",
           "roles": [
            "data"
           ],
           "title": "time_coordinates.nc",
           "type": "application/x-netcdf"
          },
          "trsp.nc": {
           "alternate": {
            "origin": {
             "href": "s3://eodata/Sentinel-3/OLCI/OL_2_WFR___/2024/06/02/S3B_OL_2_WFR____20240602T102044_20240602T102344_20240603T183315_0179_093_336_1800_MAR_O_NT_003.SEN3/trsp.nc",
             "title": "Origin asset link",
             "type": "application/x-netcdf"
            }
           },
           "href": "https://hda.data.destination-earth.eu/stac/collections/EO.EUM.DAT.SENTINEL-3.OL_2_WFR___/items/S3B_OL_2_WFR____20240602T102044_20240602T102344_20240603T183315_0179_093_336_1800_MAR_O_NT_003/download/trsp.nc?provider=dedl",
           "roles": [
            "data"
           ],
           "title": "trsp.nc",
           "type": "application/x-netcdf"
          },
          "tsm_nn.nc": {
           "alternate": {
            "origin": {
             "href": "s3://eodata/Sentinel-3/OLCI/OL_2_WFR___/2024/06/02/S3B_OL_2_WFR____20240602T102044_20240602T102344_20240603T183315_0179_093_336_1800_MAR_O_NT_003.SEN3/tsm_nn.nc",
             "title": "Origin asset link",
             "type": "application/x-netcdf"
            }
           },
           "href": "https://hda.data.destination-earth.eu/stac/collections/EO.EUM.DAT.SENTINEL-3.OL_2_WFR___/items/S3B_OL_2_WFR____20240602T102044_20240602T102344_20240603T183315_0179_093_336_1800_MAR_O_NT_003/download/tsm_nn.nc?provider=dedl",
           "roles": [
            "data"
           ],
           "title": "tsm_nn.nc",
           "type": "application/x-netcdf"
          },
          "w_aer.nc": {
           "alternate": {
            "origin": {
             "href": "s3://eodata/Sentinel-3/OLCI/OL_2_WFR___/2024/06/02/S3B_OL_2_WFR____20240602T102044_20240602T102344_20240603T183315_0179_093_336_1800_MAR_O_NT_003.SEN3/w_aer.nc",
             "title": "Origin asset link",
             "type": "application/x-netcdf"
            }
           },
           "href": "https://hda.data.destination-earth.eu/stac/collections/EO.EUM.DAT.SENTINEL-3.OL_2_WFR___/items/S3B_OL_2_WFR____20240602T102044_20240602T102344_20240603T183315_0179_093_336_1800_MAR_O_NT_003/download/w_aer.nc?provider=dedl",
           "roles": [
            "data"
           ],
           "title": "w_aer.nc",
           "type": "application/x-netcdf"
          },
          "wqsf.nc": {
           "alternate": {
            "origin": {
             "href": "s3://eodata/Sentinel-3/OLCI/OL_2_WFR___/2024/06/02/S3B_OL_2_WFR____20240602T102044_20240602T102344_20240603T183315_0179_093_336_1800_MAR_O_NT_003.SEN3/wqsf.nc",
             "title": "Origin asset link",
             "type": "application/x-netcdf"
            }
           },
           "href": "https://hda.data.destination-earth.eu/stac/collections/EO.EUM.DAT.SENTINEL-3.OL_2_WFR___/items/S3B_OL_2_WFR____20240602T102044_20240602T102344_20240603T183315_0179_093_336_1800_MAR_O_NT_003/download/wqsf.nc?provider=dedl",
           "roles": [
            "data"
           ],
           "title": "wqsf.nc",
           "type": "application/x-netcdf"
          },
          "xfdumanifest.xml": {
           "alternate": {
            "origin": {
             "href": "s3://eodata/Sentinel-3/OLCI/OL_2_WFR___/2024/06/02/S3B_OL_2_WFR____20240602T102044_20240602T102344_20240603T183315_0179_093_336_1800_MAR_O_NT_003.SEN3/xfdumanifest.xml",
             "title": "Origin asset link",
             "type": "text/xml"
            }
           },
           "href": "https://hda.data.destination-earth.eu/stac/collections/EO.EUM.DAT.SENTINEL-3.OL_2_WFR___/items/S3B_OL_2_WFR____20240602T102044_20240602T102344_20240603T183315_0179_093_336_1800_MAR_O_NT_003/download/xfdumanifest.xml?provider=dedl",
           "roles": [
            "metadata"
           ],
           "title": "xfdumanifest.xml",
           "type": "text/xml"
          }
         },
         "bbox": [
          -8.19172,
          59.9656,
          28.5501,
          73.3585
         ],
         "collection": "EO.EUM.DAT.SENTINEL-3.OL_2_WFR___",
         "geometry": {
          "coordinates": [
           [
            [
             -8.19172,
             62.9219
            ],
            [
             -6.83304,
             62.8765
            ],
            [
             -5.48887,
             62.8172
            ],
            [
             -4.14266,
             62.7446
            ],
            [
             -2.80001,
             62.6617
            ],
            [
             -1.46968,
             62.5637
            ],
            [
             -0.150062,
             62.4534
            ],
            [
             1.15688,
             62.3305
            ],
            [
             2.45388,
             62.1956
            ],
            [
             3.74285,
             62.0482
            ],
            [
             5.01786,
             61.8897
            ],
            [
             6.28126,
             61.7189
            ],
            [
             7.53095,
             61.5393
            ],
            [
             8.759,
             61.345
            ],
            [
             9.97179,
             61.1415
            ],
            [
             11.1683,
             60.9273
            ],
            [
             12.3504,
             60.7019
            ],
            [
             13.5176,
             60.4662
            ],
            [
             14.6684,
             60.2201
            ],
            [
             15.8022,
             59.9656
            ],
            [
             18.2427,
             62.4052
            ],
            [
             21.0981,
             64.8028
            ],
            [
             24.4811,
             67.1394
            ],
            [
             28.5501,
             69.3942
            ],
            [
             27.092,
             69.7479
            ],
            [
             25.5896,
             70.0898
            ],
            [
             24.0331,
             70.4196
            ],
            [
             22.4367,
             70.7339
            ],
            [
             20.7835,
             71.0348
            ],
            [
             19.0779,
             71.3211
            ],
            [
             17.3329,
             71.5917
            ],
            [
             15.5284,
             71.8429
            ],
            [
             13.6774,
             72.0794
            ],
            [
             11.7841,
             72.3001
            ],
            [
             9.8477,
             72.4973
            ],
            [
             7.86989,
             72.6781
            ],
            [
             5.85659,
             72.8392
            ],
            [
             3.80549,
             72.9797
            ],
            [
             1.72164,
             73.0995
            ],
            [
             -0.393667,
             73.1983
            ],
            [
             -2.52669,
             73.2725
            ],
            [
             -4.66162,
             73.327
            ],
            [
             -6.82486,
             73.3585
            ],
            [
             -7.14296,
             70.7499
            ],
            [
             -7.47996,
             68.14
            ],
            [
             -7.8309,
             65.529
            ],
            [
             -8.19172,
             62.9219
            ]
           ]
          ],
          "type": "Polygon"
         },
         "id": "S3B_OL_2_WFR____20240602T102044_20240602T102344_20240603T183315_0179_093_336_1800_MAR_O_NT_003",
         "links": [
          {
           "href": "https://hda.data.destination-earth.eu/stac/collections/EO.EUM.DAT.SENTINEL-3.OL_2_WFR___/items/S3B_OL_2_WFR____20240602T102044_20240602T102344_20240603T183315_0179_093_336_1800_MAR_O_NT_003",
           "rel": "self",
           "title": "S3B_OL_2_WFR____20240602T102044_20240602T102344_20240603T183315_0179_093_336_1800_MAR_O_NT_003"
          },
          {
           "href": "https://hda.data.destination-earth.eu/stac/",
           "rel": "root"
          },
          {
           "href": "https://hda.data.destination-earth.eu/stac/collections/EO.EUM.DAT.SENTINEL-3.OL_2_WFR___",
           "rel": "parent",
           "title": "EO.EUM.DAT.SENTINEL-3.OL_2_WFR___"
          },
          {
           "href": "https://hda.data.destination-earth.eu/stac/collections/EO.EUM.DAT.SENTINEL-3.OL_2_WFR___",
           "rel": "collection",
           "title": "EO.EUM.DAT.SENTINEL-3.OL_2_WFR___"
          }
         ],
         "properties": {
          "constellation": "SENTINEL-3",
          "datetime": "2024-06-02T10:20:43.518126Z",
          "dedl:alias": "EO.EUM.DAT.SENTINEL-3.OL_2_WFR___",
          "dedl:baselineCollection": "003",
          "dedl:beginningDateTime": "2024-06-02T10:20:43.518126Z",
          "dedl:endingDateTime": "2024-06-02T10:23:43.518126Z",
          "dedl:productIdentifier": "/eodata/Sentinel-3/OLCI/OL_2_WFR___/2024/06/02/S3B_OL_2_WFR____20240602T102044_20240602T102344_20240603T183315_0179_093_336_1800_MAR_O_NT_003.SEN3",
          "dedl:scope": {
           "discover": null,
           "download": "hda-public-data-access",
           "search": "hda-public-data-access"
          },
          "dedl:timeliness": "NT",
          "dedl:uid": "aa09ece8-2037-456b-8dad-f189190aa678",
          "description": "OLCI (Ocean and Land Colour Instrument) Ocean Colour Geophysical Products. Full Resolution: 300m at nadir. All Sentinel-3 NRT products are available at pick-up point in less than 3h. Level 2 marine products include the following: * water-leaving reflectances in 16 bands, Oa**_reflectance (Baseline Atmospheric Correction (BAC) algorithm, bands: 400, 412, 442, 490, 510, 560, 620, 665, 674, 681, 709, 754, 779, 865, 885, 1024 nanometer (nm)); *algal pigment concentration in clear waters, chl_oc4me (BAC and maximum band ratio algorithm, log10 scaled); *algal pigment concentration in turbid waters, chl_nn (neural net algorithm, log10 scaled); *total suspended matter concentration, tsm_nn (neural net algorithm, log10 scaled); *diffuse attenuation coefficient Kd of downward irradiance at 490 nm, trsp (BAC and M07 algorithm, log10 scaled); *absorption coefficient at 443 nm of coloured detrital and dissolved organic matter, iop_nn (neural net algorithm, log10 scaled); *instantaneous photosynthetically active radiation, PAR (BAC and clear-sky ocean algorithm); *aerosol optical thickness T865 and aerosol Angstrom exponent A865, w_aer (BAC algorithm, A for bands 779 and 865 nm) *integrated water vapour column, iwv (1D-Var algorithm). The geophysical products are accompanied by error estimate products. Pixel classification, quality and science flags, as well as meteorological, geometry and geolocation data at tie points are provided.\n\n- All Sentinel-3 NRT products are available at pick-up point in less than 3h\n- All Sentinel-3 Non Time Critical (NTC) products are available at pick-up point in less than 30 days\nSentinel-3 is part of a series of Sentinel satellites, under the umbrella of the EU Copernicus programme.",
          "end_datetime": "2024-06-02T10:23:43.518126Z",
          "instruments": [
           "OLCI"
          ],
          "license": "proprietary",
          "order:status": "succeeded",
          "platform": "SENTINEL-3A,SENTINEL-3B",
          "processing:level": 2,
          "providers": [
           {
            "description": "DestineE Data Lake Fresh Data Pool",
            "name": "dedl",
            "priority": 1,
            "roles": [
             "host"
            ],
            "url": "https://creodias.eu/"
           }
          ],
          "published": "2024-06-03T18:57:40.348069Z",
          "sar:instrument_mode": "Earth Observation",
          "sar:product_type": "OL_2_WFR___",
          "sat:absolute_orbit": 31793,
          "sat:orbit_state": "DESCENDING",
          "sat:relative_orbit": 336,
          "start_datetime": "2024-06-02T10:20:43.518126Z",
          "updated": "2024-06-03T18:57:46.084867Z"
         },
         "stac_extensions": [
          "https://stac-extensions.github.io/timestamps/v1.0.0/schema.json",
          "https://stac-extensions.github.io/processing/v1.0.0/schema.json",
          "https://stac-extensions.github.io/sat/v1.0.0/schema.json",
          "https://stac-extensions.github.io/sar/v1.0.0/schema.json",
          "https://stac-extensions.github.io/order/v1.1.0/schema.json"
         ],
         "stac_version": "1.0.0",
         "type": "Feature"
        },
        {
         "assets": {
          "EOPMetadata.xml": {
           "alternate": {
            "origin": {
             "href": "s3://eodata/Sentinel-3/OLCI/OL_2_WFR___/2024/06/02/S3B_OL_2_WFR____20240602T102044_20240602T102344_20240602T122258_0179_093_336_1800_MAR_O_NR_003.SEN3/EOPMetadata.xml",
             "title": "Origin asset link",
             "type": "text/xml"
            }
           },
           "href": "https://hda.data.destination-earth.eu/stac/collections/EO.EUM.DAT.SENTINEL-3.OL_2_WFR___/items/S3B_OL_2_WFR____20240602T102044_20240602T102344_20240602T122258_0179_093_336_1800_MAR_O_NR_003/download/EOPMetadata.xml?provider=dedl",
           "roles": [
            "metadata"
           ],
           "title": "EOPMetadata.xml",
           "type": "text/xml"
          },
          "Oa01_reflectance.nc": {
           "alternate": {
            "origin": {
             "href": "s3://eodata/Sentinel-3/OLCI/OL_2_WFR___/2024/06/02/S3B_OL_2_WFR____20240602T102044_20240602T102344_20240602T122258_0179_093_336_1800_MAR_O_NR_003.SEN3/Oa01_reflectance.nc",
             "title": "Origin asset link",
             "type": "application/x-netcdf"
            }
           },
           "href": "https://hda.data.destination-earth.eu/stac/collections/EO.EUM.DAT.SENTINEL-3.OL_2_WFR___/items/S3B_OL_2_WFR____20240602T102044_20240602T102344_20240602T122258_0179_093_336_1800_MAR_O_NR_003/download/Oa01_reflectance.nc?provider=dedl",
           "roles": [
            "data"
           ],
           "title": "Oa01_reflectance.nc",
           "type": "application/x-netcdf"
          },
          "Oa02_reflectance.nc": {
           "alternate": {
            "origin": {
             "href": "s3://eodata/Sentinel-3/OLCI/OL_2_WFR___/2024/06/02/S3B_OL_2_WFR____20240602T102044_20240602T102344_20240602T122258_0179_093_336_1800_MAR_O_NR_003.SEN3/Oa02_reflectance.nc",
             "title": "Origin asset link",
             "type": "application/x-netcdf"
            }
           },
           "href": "https://hda.data.destination-earth.eu/stac/collections/EO.EUM.DAT.SENTINEL-3.OL_2_WFR___/items/S3B_OL_2_WFR____20240602T102044_20240602T102344_20240602T122258_0179_093_336_1800_MAR_O_NR_003/download/Oa02_reflectance.nc?provider=dedl",
           "roles": [
            "data"
           ],
           "title": "Oa02_reflectance.nc",
           "type": "application/x-netcdf"
          },
          "Oa03_reflectance.nc": {
           "alternate": {
            "origin": {
             "href": "s3://eodata/Sentinel-3/OLCI/OL_2_WFR___/2024/06/02/S3B_OL_2_WFR____20240602T102044_20240602T102344_20240602T122258_0179_093_336_1800_MAR_O_NR_003.SEN3/Oa03_reflectance.nc",
             "title": "Origin asset link",
             "type": "application/x-netcdf"
            }
           },
           "href": "https://hda.data.destination-earth.eu/stac/collections/EO.EUM.DAT.SENTINEL-3.OL_2_WFR___/items/S3B_OL_2_WFR____20240602T102044_20240602T102344_20240602T122258_0179_093_336_1800_MAR_O_NR_003/download/Oa03_reflectance.nc?provider=dedl",
           "roles": [
            "data"
           ],
           "title": "Oa03_reflectance.nc",
           "type": "application/x-netcdf"
          },
          "Oa04_reflectance.nc": {
           "alternate": {
            "origin": {
             "href": "s3://eodata/Sentinel-3/OLCI/OL_2_WFR___/2024/06/02/S3B_OL_2_WFR____20240602T102044_20240602T102344_20240602T122258_0179_093_336_1800_MAR_O_NR_003.SEN3/Oa04_reflectance.nc",
             "title": "Origin asset link",
             "type": "application/x-netcdf"
            }
           },
           "href": "https://hda.data.destination-earth.eu/stac/collections/EO.EUM.DAT.SENTINEL-3.OL_2_WFR___/items/S3B_OL_2_WFR____20240602T102044_20240602T102344_20240602T122258_0179_093_336_1800_MAR_O_NR_003/download/Oa04_reflectance.nc?provider=dedl",
           "roles": [
            "data"
           ],
           "title": "Oa04_reflectance.nc",
           "type": "application/x-netcdf"
          },
          "Oa05_reflectance.nc": {
           "alternate": {
            "origin": {
             "href": "s3://eodata/Sentinel-3/OLCI/OL_2_WFR___/2024/06/02/S3B_OL_2_WFR____20240602T102044_20240602T102344_20240602T122258_0179_093_336_1800_MAR_O_NR_003.SEN3/Oa05_reflectance.nc",
             "title": "Origin asset link",
             "type": "application/x-netcdf"
            }
           },
           "href": "https://hda.data.destination-earth.eu/stac/collections/EO.EUM.DAT.SENTINEL-3.OL_2_WFR___/items/S3B_OL_2_WFR____20240602T102044_20240602T102344_20240602T122258_0179_093_336_1800_MAR_O_NR_003/download/Oa05_reflectance.nc?provider=dedl",
           "roles": [
            "data"
           ],
           "title": "Oa05_reflectance.nc",
           "type": "application/x-netcdf"
          },
          "Oa06_reflectance.nc": {
           "alternate": {
            "origin": {
             "href": "s3://eodata/Sentinel-3/OLCI/OL_2_WFR___/2024/06/02/S3B_OL_2_WFR____20240602T102044_20240602T102344_20240602T122258_0179_093_336_1800_MAR_O_NR_003.SEN3/Oa06_reflectance.nc",
             "title": "Origin asset link",
             "type": "application/x-netcdf"
            }
           },
           "href": "https://hda.data.destination-earth.eu/stac/collections/EO.EUM.DAT.SENTINEL-3.OL_2_WFR___/items/S3B_OL_2_WFR____20240602T102044_20240602T102344_20240602T122258_0179_093_336_1800_MAR_O_NR_003/download/Oa06_reflectance.nc?provider=dedl",
           "roles": [
            "data"
           ],
           "title": "Oa06_reflectance.nc",
           "type": "application/x-netcdf"
          },
          "Oa07_reflectance.nc": {
           "alternate": {
            "origin": {
             "href": "s3://eodata/Sentinel-3/OLCI/OL_2_WFR___/2024/06/02/S3B_OL_2_WFR____20240602T102044_20240602T102344_20240602T122258_0179_093_336_1800_MAR_O_NR_003.SEN3/Oa07_reflectance.nc",
             "title": "Origin asset link",
             "type": "application/x-netcdf"
            }
           },
           "href": "https://hda.data.destination-earth.eu/stac/collections/EO.EUM.DAT.SENTINEL-3.OL_2_WFR___/items/S3B_OL_2_WFR____20240602T102044_20240602T102344_20240602T122258_0179_093_336_1800_MAR_O_NR_003/download/Oa07_reflectance.nc?provider=dedl",
           "roles": [
            "data"
           ],
           "title": "Oa07_reflectance.nc",
           "type": "application/x-netcdf"
          },
          "Oa08_reflectance.nc": {
           "alternate": {
            "origin": {
             "href": "s3://eodata/Sentinel-3/OLCI/OL_2_WFR___/2024/06/02/S3B_OL_2_WFR____20240602T102044_20240602T102344_20240602T122258_0179_093_336_1800_MAR_O_NR_003.SEN3/Oa08_reflectance.nc",
             "title": "Origin asset link",
             "type": "application/x-netcdf"
            }
           },
           "href": "https://hda.data.destination-earth.eu/stac/collections/EO.EUM.DAT.SENTINEL-3.OL_2_WFR___/items/S3B_OL_2_WFR____20240602T102044_20240602T102344_20240602T122258_0179_093_336_1800_MAR_O_NR_003/download/Oa08_reflectance.nc?provider=dedl",
           "roles": [
            "data"
           ],
           "title": "Oa08_reflectance.nc",
           "type": "application/x-netcdf"
          },
          "Oa09_reflectance.nc": {
           "alternate": {
            "origin": {
             "href": "s3://eodata/Sentinel-3/OLCI/OL_2_WFR___/2024/06/02/S3B_OL_2_WFR____20240602T102044_20240602T102344_20240602T122258_0179_093_336_1800_MAR_O_NR_003.SEN3/Oa09_reflectance.nc",
             "title": "Origin asset link",
             "type": "application/x-netcdf"
            }
           },
           "href": "https://hda.data.destination-earth.eu/stac/collections/EO.EUM.DAT.SENTINEL-3.OL_2_WFR___/items/S3B_OL_2_WFR____20240602T102044_20240602T102344_20240602T122258_0179_093_336_1800_MAR_O_NR_003/download/Oa09_reflectance.nc?provider=dedl",
           "roles": [
            "data"
           ],
           "title": "Oa09_reflectance.nc",
           "type": "application/x-netcdf"
          },
          "Oa10_reflectance.nc": {
           "alternate": {
            "origin": {
             "href": "s3://eodata/Sentinel-3/OLCI/OL_2_WFR___/2024/06/02/S3B_OL_2_WFR____20240602T102044_20240602T102344_20240602T122258_0179_093_336_1800_MAR_O_NR_003.SEN3/Oa10_reflectance.nc",
             "title": "Origin asset link",
             "type": "application/x-netcdf"
            }
           },
           "href": "https://hda.data.destination-earth.eu/stac/collections/EO.EUM.DAT.SENTINEL-3.OL_2_WFR___/items/S3B_OL_2_WFR____20240602T102044_20240602T102344_20240602T122258_0179_093_336_1800_MAR_O_NR_003/download/Oa10_reflectance.nc?provider=dedl",
           "roles": [
            "data"
           ],
           "title": "Oa10_reflectance.nc",
           "type": "application/x-netcdf"
          },
          "Oa11_reflectance.nc": {
           "alternate": {
            "origin": {
             "href": "s3://eodata/Sentinel-3/OLCI/OL_2_WFR___/2024/06/02/S3B_OL_2_WFR____20240602T102044_20240602T102344_20240602T122258_0179_093_336_1800_MAR_O_NR_003.SEN3/Oa11_reflectance.nc",
             "title": "Origin asset link",
             "type": "application/x-netcdf"
            }
           },
           "href": "https://hda.data.destination-earth.eu/stac/collections/EO.EUM.DAT.SENTINEL-3.OL_2_WFR___/items/S3B_OL_2_WFR____20240602T102044_20240602T102344_20240602T122258_0179_093_336_1800_MAR_O_NR_003/download/Oa11_reflectance.nc?provider=dedl",
           "roles": [
            "data"
           ],
           "title": "Oa11_reflectance.nc",
           "type": "application/x-netcdf"
          },
          "Oa12_reflectance.nc": {
           "alternate": {
            "origin": {
             "href": "s3://eodata/Sentinel-3/OLCI/OL_2_WFR___/2024/06/02/S3B_OL_2_WFR____20240602T102044_20240602T102344_20240602T122258_0179_093_336_1800_MAR_O_NR_003.SEN3/Oa12_reflectance.nc",
             "title": "Origin asset link",
             "type": "application/x-netcdf"
            }
           },
           "href": "https://hda.data.destination-earth.eu/stac/collections/EO.EUM.DAT.SENTINEL-3.OL_2_WFR___/items/S3B_OL_2_WFR____20240602T102044_20240602T102344_20240602T122258_0179_093_336_1800_MAR_O_NR_003/download/Oa12_reflectance.nc?provider=dedl",
           "roles": [
            "data"
           ],
           "title": "Oa12_reflectance.nc",
           "type": "application/x-netcdf"
          },
          "Oa16_reflectance.nc": {
           "alternate": {
            "origin": {
             "href": "s3://eodata/Sentinel-3/OLCI/OL_2_WFR___/2024/06/02/S3B_OL_2_WFR____20240602T102044_20240602T102344_20240602T122258_0179_093_336_1800_MAR_O_NR_003.SEN3/Oa16_reflectance.nc",
             "title": "Origin asset link",
             "type": "application/x-netcdf"
            }
           },
           "href": "https://hda.data.destination-earth.eu/stac/collections/EO.EUM.DAT.SENTINEL-3.OL_2_WFR___/items/S3B_OL_2_WFR____20240602T102044_20240602T102344_20240602T122258_0179_093_336_1800_MAR_O_NR_003/download/Oa16_reflectance.nc?provider=dedl",
           "roles": [
            "data"
           ],
           "title": "Oa16_reflectance.nc",
           "type": "application/x-netcdf"
          },
          "Oa17_reflectance.nc": {
           "alternate": {
            "origin": {
             "href": "s3://eodata/Sentinel-3/OLCI/OL_2_WFR___/2024/06/02/S3B_OL_2_WFR____20240602T102044_20240602T102344_20240602T122258_0179_093_336_1800_MAR_O_NR_003.SEN3/Oa17_reflectance.nc",
             "title": "Origin asset link",
             "type": "application/x-netcdf"
            }
           },
           "href": "https://hda.data.destination-earth.eu/stac/collections/EO.EUM.DAT.SENTINEL-3.OL_2_WFR___/items/S3B_OL_2_WFR____20240602T102044_20240602T102344_20240602T122258_0179_093_336_1800_MAR_O_NR_003/download/Oa17_reflectance.nc?provider=dedl",
           "roles": [
            "data"
           ],
           "title": "Oa17_reflectance.nc",
           "type": "application/x-netcdf"
          },
          "Oa18_reflectance.nc": {
           "alternate": {
            "origin": {
             "href": "s3://eodata/Sentinel-3/OLCI/OL_2_WFR___/2024/06/02/S3B_OL_2_WFR____20240602T102044_20240602T102344_20240602T122258_0179_093_336_1800_MAR_O_NR_003.SEN3/Oa18_reflectance.nc",
             "title": "Origin asset link",
             "type": "application/x-netcdf"
            }
           },
           "href": "https://hda.data.destination-earth.eu/stac/collections/EO.EUM.DAT.SENTINEL-3.OL_2_WFR___/items/S3B_OL_2_WFR____20240602T102044_20240602T102344_20240602T122258_0179_093_336_1800_MAR_O_NR_003/download/Oa18_reflectance.nc?provider=dedl",
           "roles": [
            "data"
           ],
           "title": "Oa18_reflectance.nc",
           "type": "application/x-netcdf"
          },
          "Oa21_reflectance.nc": {
           "alternate": {
            "origin": {
             "href": "s3://eodata/Sentinel-3/OLCI/OL_2_WFR___/2024/06/02/S3B_OL_2_WFR____20240602T102044_20240602T102344_20240602T122258_0179_093_336_1800_MAR_O_NR_003.SEN3/Oa21_reflectance.nc",
             "title": "Origin asset link",
             "type": "application/x-netcdf"
            }
           },
           "href": "https://hda.data.destination-earth.eu/stac/collections/EO.EUM.DAT.SENTINEL-3.OL_2_WFR___/items/S3B_OL_2_WFR____20240602T102044_20240602T102344_20240602T122258_0179_093_336_1800_MAR_O_NR_003/download/Oa21_reflectance.nc?provider=dedl",
           "roles": [
            "data"
           ],
           "title": "Oa21_reflectance.nc",
           "type": "application/x-netcdf"
          },
          "browse.jpg": {
           "alternate": {
            "origin": {
             "href": "s3://eodata/Sentinel-3/OLCI/OL_2_WFR___/2024/06/02/S3B_OL_2_WFR____20240602T102044_20240602T102344_20240602T122258_0179_093_336_1800_MAR_O_NR_003.SEN3/browse.jpg",
             "title": "Origin asset link",
             "type": "image/jpeg"
            }
           },
           "href": "https://hda.data.destination-earth.eu/stac/collections/EO.EUM.DAT.SENTINEL-3.OL_2_WFR___/items/S3B_OL_2_WFR____20240602T102044_20240602T102344_20240602T122258_0179_093_336_1800_MAR_O_NR_003/download/browse.jpg?provider=dedl",
           "roles": [
            "metadata"
           ],
           "title": "browse.jpg",
           "type": "image/jpeg"
          },
          "chl_nn.nc": {
           "alternate": {
            "origin": {
             "href": "s3://eodata/Sentinel-3/OLCI/OL_2_WFR___/2024/06/02/S3B_OL_2_WFR____20240602T102044_20240602T102344_20240602T122258_0179_093_336_1800_MAR_O_NR_003.SEN3/chl_nn.nc",
             "title": "Origin asset link",
             "type": "application/x-netcdf"
            }
           },
           "href": "https://hda.data.destination-earth.eu/stac/collections/EO.EUM.DAT.SENTINEL-3.OL_2_WFR___/items/S3B_OL_2_WFR____20240602T102044_20240602T102344_20240602T122258_0179_093_336_1800_MAR_O_NR_003/download/chl_nn.nc?provider=dedl",
           "roles": [
            "data"
           ],
           "title": "chl_nn.nc",
           "type": "application/x-netcdf"
          },
          "chl_oc4me.nc": {
           "alternate": {
            "origin": {
             "href": "s3://eodata/Sentinel-3/OLCI/OL_2_WFR___/2024/06/02/S3B_OL_2_WFR____20240602T102044_20240602T102344_20240602T122258_0179_093_336_1800_MAR_O_NR_003.SEN3/chl_oc4me.nc",
             "title": "Origin asset link",
             "type": "application/x-netcdf"
            }
           },
           "href": "https://hda.data.destination-earth.eu/stac/collections/EO.EUM.DAT.SENTINEL-3.OL_2_WFR___/items/S3B_OL_2_WFR____20240602T102044_20240602T102344_20240602T122258_0179_093_336_1800_MAR_O_NR_003/download/chl_oc4me.nc?provider=dedl",
           "roles": [
            "data"
           ],
           "title": "chl_oc4me.nc",
           "type": "application/x-netcdf"
          },
          "downloadLink": {
           "alternate": {
            "origin": {
             "href": "https://zipper.creodias.eu/odata/v1/Products(261244dc-a3a3-4de4-b4d7-3d319d1ddcf8)/$value",
             "title": "Origin asset link"
            }
           },
           "href": "https://hda.data.destination-earth.eu/stac/collections/EO.EUM.DAT.SENTINEL-3.OL_2_WFR___/items/S3B_OL_2_WFR____20240602T102044_20240602T102344_20240602T122258_0179_093_336_1800_MAR_O_NR_003/download?provider=dedl",
           "storage:tier": "ONLINE",
           "title": "Download link",
           "type": "application/zip"
          },
          "geo_coordinates.nc": {
           "alternate": {
            "origin": {
             "href": "s3://eodata/Sentinel-3/OLCI/OL_2_WFR___/2024/06/02/S3B_OL_2_WFR____20240602T102044_20240602T102344_20240602T122258_0179_093_336_1800_MAR_O_NR_003.SEN3/geo_coordinates.nc",
             "title": "Origin asset link",
             "type": "application/x-netcdf"
            }
           },
           "href": "https://hda.data.destination-earth.eu/stac/collections/EO.EUM.DAT.SENTINEL-3.OL_2_WFR___/items/S3B_OL_2_WFR____20240602T102044_20240602T102344_20240602T122258_0179_093_336_1800_MAR_O_NR_003/download/geo_coordinates.nc?provider=dedl",
           "roles": [
            "data"
           ],
           "title": "geo_coordinates.nc",
           "type": "application/x-netcdf"
          },
          "instrument_data.nc": {
           "alternate": {
            "origin": {
             "href": "s3://eodata/Sentinel-3/OLCI/OL_2_WFR___/2024/06/02/S3B_OL_2_WFR____20240602T102044_20240602T102344_20240602T122258_0179_093_336_1800_MAR_O_NR_003.SEN3/instrument_data.nc",
             "title": "Origin asset link",
             "type": "application/x-netcdf"
            }
           },
           "href": "https://hda.data.destination-earth.eu/stac/collections/EO.EUM.DAT.SENTINEL-3.OL_2_WFR___/items/S3B_OL_2_WFR____20240602T102044_20240602T102344_20240602T122258_0179_093_336_1800_MAR_O_NR_003/download/instrument_data.nc?provider=dedl",
           "roles": [
            "data"
           ],
           "title": "instrument_data.nc",
           "type": "application/x-netcdf"
          },
          "iop_lsd.nc": {
           "alternate": {
            "origin": {
             "href": "s3://eodata/Sentinel-3/OLCI/OL_2_WFR___/2024/06/02/S3B_OL_2_WFR____20240602T102044_20240602T102344_20240602T122258_0179_093_336_1800_MAR_O_NR_003.SEN3/iop_lsd.nc",
             "title": "Origin asset link",
             "type": "application/x-netcdf"
            }
           },
           "href": "https://hda.data.destination-earth.eu/stac/collections/EO.EUM.DAT.SENTINEL-3.OL_2_WFR___/items/S3B_OL_2_WFR____20240602T102044_20240602T102344_20240602T122258_0179_093_336_1800_MAR_O_NR_003/download/iop_lsd.nc?provider=dedl",
           "roles": [
            "data"
           ],
           "title": "iop_lsd.nc",
           "type": "application/x-netcdf"
          },
          "iop_nn.nc": {
           "alternate": {
            "origin": {
             "href": "s3://eodata/Sentinel-3/OLCI/OL_2_WFR___/2024/06/02/S3B_OL_2_WFR____20240602T102044_20240602T102344_20240602T122258_0179_093_336_1800_MAR_O_NR_003.SEN3/iop_nn.nc",
             "title": "Origin asset link",
             "type": "application/x-netcdf"
            }
           },
           "href": "https://hda.data.destination-earth.eu/stac/collections/EO.EUM.DAT.SENTINEL-3.OL_2_WFR___/items/S3B_OL_2_WFR____20240602T102044_20240602T102344_20240602T122258_0179_093_336_1800_MAR_O_NR_003/download/iop_nn.nc?provider=dedl",
           "roles": [
            "data"
           ],
           "title": "iop_nn.nc",
           "type": "application/x-netcdf"
          },
          "iwv.nc": {
           "alternate": {
            "origin": {
             "href": "s3://eodata/Sentinel-3/OLCI/OL_2_WFR___/2024/06/02/S3B_OL_2_WFR____20240602T102044_20240602T102344_20240602T122258_0179_093_336_1800_MAR_O_NR_003.SEN3/iwv.nc",
             "title": "Origin asset link",
             "type": "application/x-netcdf"
            }
           },
           "href": "https://hda.data.destination-earth.eu/stac/collections/EO.EUM.DAT.SENTINEL-3.OL_2_WFR___/items/S3B_OL_2_WFR____20240602T102044_20240602T102344_20240602T122258_0179_093_336_1800_MAR_O_NR_003/download/iwv.nc?provider=dedl",
           "roles": [
            "data"
           ],
           "title": "iwv.nc",
           "type": "application/x-netcdf"
          },
          "manifest.xml": {
           "alternate": {
            "origin": {
             "href": "s3://eodata/Sentinel-3/OLCI/OL_2_WFR___/2024/06/02/S3B_OL_2_WFR____20240602T102044_20240602T102344_20240602T122258_0179_093_336_1800_MAR_O_NR_003.SEN3/manifest.xml",
             "title": "Origin asset link",
             "type": "text/xml"
            }
           },
           "href": "https://hda.data.destination-earth.eu/stac/collections/EO.EUM.DAT.SENTINEL-3.OL_2_WFR___/items/S3B_OL_2_WFR____20240602T102044_20240602T102344_20240602T122258_0179_093_336_1800_MAR_O_NR_003/download/manifest.xml?provider=dedl",
           "roles": [
            "metadata"
           ],
           "title": "manifest.xml",
           "type": "text/xml"
          },
          "par.nc": {
           "alternate": {
            "origin": {
             "href": "s3://eodata/Sentinel-3/OLCI/OL_2_WFR___/2024/06/02/S3B_OL_2_WFR____20240602T102044_20240602T102344_20240602T122258_0179_093_336_1800_MAR_O_NR_003.SEN3/par.nc",
             "title": "Origin asset link",
             "type": "application/x-netcdf"
            }
           },
           "href": "https://hda.data.destination-earth.eu/stac/collections/EO.EUM.DAT.SENTINEL-3.OL_2_WFR___/items/S3B_OL_2_WFR____20240602T102044_20240602T102344_20240602T122258_0179_093_336_1800_MAR_O_NR_003/download/par.nc?provider=dedl",
           "roles": [
            "data"
           ],
           "title": "par.nc",
           "type": "application/x-netcdf"
          },
          "tie_geo_coordinates.nc": {
           "alternate": {
            "origin": {
             "href": "s3://eodata/Sentinel-3/OLCI/OL_2_WFR___/2024/06/02/S3B_OL_2_WFR____20240602T102044_20240602T102344_20240602T122258_0179_093_336_1800_MAR_O_NR_003.SEN3/tie_geo_coordinates.nc",
             "title": "Origin asset link",
             "type": "application/x-netcdf"
            }
           },
           "href": "https://hda.data.destination-earth.eu/stac/collections/EO.EUM.DAT.SENTINEL-3.OL_2_WFR___/items/S3B_OL_2_WFR____20240602T102044_20240602T102344_20240602T122258_0179_093_336_1800_MAR_O_NR_003/download/tie_geo_coordinates.nc?provider=dedl",
           "roles": [
            "data"
           ],
           "title": "tie_geo_coordinates.nc",
           "type": "application/x-netcdf"
          },
          "tie_geometries.nc": {
           "alternate": {
            "origin": {
             "href": "s3://eodata/Sentinel-3/OLCI/OL_2_WFR___/2024/06/02/S3B_OL_2_WFR____20240602T102044_20240602T102344_20240602T122258_0179_093_336_1800_MAR_O_NR_003.SEN3/tie_geometries.nc",
             "title": "Origin asset link",
             "type": "application/x-netcdf"
            }
           },
           "href": "https://hda.data.destination-earth.eu/stac/collections/EO.EUM.DAT.SENTINEL-3.OL_2_WFR___/items/S3B_OL_2_WFR____20240602T102044_20240602T102344_20240602T122258_0179_093_336_1800_MAR_O_NR_003/download/tie_geometries.nc?provider=dedl",
           "roles": [
            "data"
           ],
           "title": "tie_geometries.nc",
           "type": "application/x-netcdf"
          },
          "tie_meteo.nc": {
           "alternate": {
            "origin": {
             "href": "s3://eodata/Sentinel-3/OLCI/OL_2_WFR___/2024/06/02/S3B_OL_2_WFR____20240602T102044_20240602T102344_20240602T122258_0179_093_336_1800_MAR_O_NR_003.SEN3/tie_meteo.nc",
             "title": "Origin asset link",
             "type": "application/x-netcdf"
            }
           },
           "href": "https://hda.data.destination-earth.eu/stac/collections/EO.EUM.DAT.SENTINEL-3.OL_2_WFR___/items/S3B_OL_2_WFR____20240602T102044_20240602T102344_20240602T122258_0179_093_336_1800_MAR_O_NR_003/download/tie_meteo.nc?provider=dedl",
           "roles": [
            "data"
           ],
           "title": "tie_meteo.nc",
           "type": "application/x-netcdf"
          },
          "time_coordinates.nc": {
           "alternate": {
            "origin": {
             "href": "s3://eodata/Sentinel-3/OLCI/OL_2_WFR___/2024/06/02/S3B_OL_2_WFR____20240602T102044_20240602T102344_20240602T122258_0179_093_336_1800_MAR_O_NR_003.SEN3/time_coordinates.nc",
             "title": "Origin asset link",
             "type": "application/x-netcdf"
            }
           },
           "href": "https://hda.data.destination-earth.eu/stac/collections/EO.EUM.DAT.SENTINEL-3.OL_2_WFR___/items/S3B_OL_2_WFR____20240602T102044_20240602T102344_20240602T122258_0179_093_336_1800_MAR_O_NR_003/download/time_coordinates.nc?provider=dedl",
           "roles": [
            "data"
           ],
           "title": "time_coordinates.nc",
           "type": "application/x-netcdf"
          },
          "trsp.nc": {
           "alternate": {
            "origin": {
             "href": "s3://eodata/Sentinel-3/OLCI/OL_2_WFR___/2024/06/02/S3B_OL_2_WFR____20240602T102044_20240602T102344_20240602T122258_0179_093_336_1800_MAR_O_NR_003.SEN3/trsp.nc",
             "title": "Origin asset link",
             "type": "application/x-netcdf"
            }
           },
           "href": "https://hda.data.destination-earth.eu/stac/collections/EO.EUM.DAT.SENTINEL-3.OL_2_WFR___/items/S3B_OL_2_WFR____20240602T102044_20240602T102344_20240602T122258_0179_093_336_1800_MAR_O_NR_003/download/trsp.nc?provider=dedl",
           "roles": [
            "data"
           ],
           "title": "trsp.nc",
           "type": "application/x-netcdf"
          },
          "tsm_nn.nc": {
           "alternate": {
            "origin": {
             "href": "s3://eodata/Sentinel-3/OLCI/OL_2_WFR___/2024/06/02/S3B_OL_2_WFR____20240602T102044_20240602T102344_20240602T122258_0179_093_336_1800_MAR_O_NR_003.SEN3/tsm_nn.nc",
             "title": "Origin asset link",
             "type": "application/x-netcdf"
            }
           },
           "href": "https://hda.data.destination-earth.eu/stac/collections/EO.EUM.DAT.SENTINEL-3.OL_2_WFR___/items/S3B_OL_2_WFR____20240602T102044_20240602T102344_20240602T122258_0179_093_336_1800_MAR_O_NR_003/download/tsm_nn.nc?provider=dedl",
           "roles": [
            "data"
           ],
           "title": "tsm_nn.nc",
           "type": "application/x-netcdf"
          },
          "w_aer.nc": {
           "alternate": {
            "origin": {
             "href": "s3://eodata/Sentinel-3/OLCI/OL_2_WFR___/2024/06/02/S3B_OL_2_WFR____20240602T102044_20240602T102344_20240602T122258_0179_093_336_1800_MAR_O_NR_003.SEN3/w_aer.nc",
             "title": "Origin asset link",
             "type": "application/x-netcdf"
            }
           },
           "href": "https://hda.data.destination-earth.eu/stac/collections/EO.EUM.DAT.SENTINEL-3.OL_2_WFR___/items/S3B_OL_2_WFR____20240602T102044_20240602T102344_20240602T122258_0179_093_336_1800_MAR_O_NR_003/download/w_aer.nc?provider=dedl",
           "roles": [
            "data"
           ],
           "title": "w_aer.nc",
           "type": "application/x-netcdf"
          },
          "wqsf.nc": {
           "alternate": {
            "origin": {
             "href": "s3://eodata/Sentinel-3/OLCI/OL_2_WFR___/2024/06/02/S3B_OL_2_WFR____20240602T102044_20240602T102344_20240602T122258_0179_093_336_1800_MAR_O_NR_003.SEN3/wqsf.nc",
             "title": "Origin asset link",
             "type": "application/x-netcdf"
            }
           },
           "href": "https://hda.data.destination-earth.eu/stac/collections/EO.EUM.DAT.SENTINEL-3.OL_2_WFR___/items/S3B_OL_2_WFR____20240602T102044_20240602T102344_20240602T122258_0179_093_336_1800_MAR_O_NR_003/download/wqsf.nc?provider=dedl",
           "roles": [
            "data"
           ],
           "title": "wqsf.nc",
           "type": "application/x-netcdf"
          },
          "xfdumanifest.xml": {
           "alternate": {
            "origin": {
             "href": "s3://eodata/Sentinel-3/OLCI/OL_2_WFR___/2024/06/02/S3B_OL_2_WFR____20240602T102044_20240602T102344_20240602T122258_0179_093_336_1800_MAR_O_NR_003.SEN3/xfdumanifest.xml",
             "title": "Origin asset link",
             "type": "text/xml"
            }
           },
           "href": "https://hda.data.destination-earth.eu/stac/collections/EO.EUM.DAT.SENTINEL-3.OL_2_WFR___/items/S3B_OL_2_WFR____20240602T102044_20240602T102344_20240602T122258_0179_093_336_1800_MAR_O_NR_003/download/xfdumanifest.xml?provider=dedl",
           "roles": [
            "metadata"
           ],
           "title": "xfdumanifest.xml",
           "type": "text/xml"
          }
         },
         "bbox": [
          -8.19172,
          59.9656,
          28.5501,
          73.3585
         ],
         "collection": "EO.EUM.DAT.SENTINEL-3.OL_2_WFR___",
         "geometry": {
          "coordinates": [
           [
            [
             -8.19172,
             62.9219
            ],
            [
             -6.83304,
             62.8765
            ],
            [
             -5.48887,
             62.8172
            ],
            [
             -4.14266,
             62.7446
            ],
            [
             -2.80001,
             62.6617
            ],
            [
             -1.46968,
             62.5637
            ],
            [
             -0.150062,
             62.4534
            ],
            [
             1.15688,
             62.3305
            ],
            [
             2.45388,
             62.1956
            ],
            [
             3.74285,
             62.0482
            ],
            [
             5.01786,
             61.8897
            ],
            [
             6.28126,
             61.7189
            ],
            [
             7.53095,
             61.5393
            ],
            [
             8.759,
             61.345
            ],
            [
             9.97179,
             61.1415
            ],
            [
             11.1683,
             60.9273
            ],
            [
             12.3504,
             60.7019
            ],
            [
             13.5176,
             60.4662
            ],
            [
             14.6684,
             60.2201
            ],
            [
             15.8022,
             59.9656
            ],
            [
             18.2427,
             62.4052
            ],
            [
             21.0981,
             64.8028
            ],
            [
             24.4811,
             67.1394
            ],
            [
             28.5501,
             69.3942
            ],
            [
             27.092,
             69.7479
            ],
            [
             25.5896,
             70.0898
            ],
            [
             24.0331,
             70.4196
            ],
            [
             22.4367,
             70.7339
            ],
            [
             20.7835,
             71.0348
            ],
            [
             19.0779,
             71.3211
            ],
            [
             17.3329,
             71.5917
            ],
            [
             15.5284,
             71.8429
            ],
            [
             13.6774,
             72.0794
            ],
            [
             11.7841,
             72.3001
            ],
            [
             9.8477,
             72.4973
            ],
            [
             7.86989,
             72.6781
            ],
            [
             5.85659,
             72.8392
            ],
            [
             3.80549,
             72.9797
            ],
            [
             1.72164,
             73.0995
            ],
            [
             -0.393667,
             73.1983
            ],
            [
             -2.52669,
             73.2725
            ],
            [
             -4.66162,
             73.327
            ],
            [
             -6.82486,
             73.3585
            ],
            [
             -7.14296,
             70.7499
            ],
            [
             -7.47996,
             68.14
            ],
            [
             -7.8309,
             65.529
            ],
            [
             -8.19172,
             62.9219
            ]
           ]
          ],
          "type": "Polygon"
         },
         "id": "S3B_OL_2_WFR____20240602T102044_20240602T102344_20240602T122258_0179_093_336_1800_MAR_O_NR_003",
         "links": [
          {
           "href": "https://hda.data.destination-earth.eu/stac/collections/EO.EUM.DAT.SENTINEL-3.OL_2_WFR___/items/S3B_OL_2_WFR____20240602T102044_20240602T102344_20240602T122258_0179_093_336_1800_MAR_O_NR_003",
           "rel": "self",
           "title": "S3B_OL_2_WFR____20240602T102044_20240602T102344_20240602T122258_0179_093_336_1800_MAR_O_NR_003"
          },
          {
           "href": "https://hda.data.destination-earth.eu/stac/",
           "rel": "root"
          },
          {
           "href": "https://hda.data.destination-earth.eu/stac/collections/EO.EUM.DAT.SENTINEL-3.OL_2_WFR___",
           "rel": "parent",
           "title": "EO.EUM.DAT.SENTINEL-3.OL_2_WFR___"
          },
          {
           "href": "https://hda.data.destination-earth.eu/stac/collections/EO.EUM.DAT.SENTINEL-3.OL_2_WFR___",
           "rel": "collection",
           "title": "EO.EUM.DAT.SENTINEL-3.OL_2_WFR___"
          }
         ],
         "properties": {
          "constellation": "SENTINEL-3",
          "datetime": "2024-06-02T10:20:43.518340Z",
          "dedl:alias": "EO.EUM.DAT.SENTINEL-3.OL_2_WFR___",
          "dedl:baselineCollection": "003",
          "dedl:beginningDateTime": "2024-06-02T10:20:43.518340Z",
          "dedl:endingDateTime": "2024-06-02T10:23:43.518340Z",
          "dedl:productIdentifier": "/eodata/Sentinel-3/OLCI/OL_2_WFR___/2024/06/02/S3B_OL_2_WFR____20240602T102044_20240602T102344_20240602T122258_0179_093_336_1800_MAR_O_NR_003.SEN3",
          "dedl:scope": {
           "discover": null,
           "download": "hda-public-data-access",
           "search": "hda-public-data-access"
          },
          "dedl:timeliness": "NR",
          "dedl:uid": "261244dc-a3a3-4de4-b4d7-3d319d1ddcf8",
          "description": "OLCI (Ocean and Land Colour Instrument) Ocean Colour Geophysical Products. Full Resolution: 300m at nadir. All Sentinel-3 NRT products are available at pick-up point in less than 3h. Level 2 marine products include the following: * water-leaving reflectances in 16 bands, Oa**_reflectance (Baseline Atmospheric Correction (BAC) algorithm, bands: 400, 412, 442, 490, 510, 560, 620, 665, 674, 681, 709, 754, 779, 865, 885, 1024 nanometer (nm)); *algal pigment concentration in clear waters, chl_oc4me (BAC and maximum band ratio algorithm, log10 scaled); *algal pigment concentration in turbid waters, chl_nn (neural net algorithm, log10 scaled); *total suspended matter concentration, tsm_nn (neural net algorithm, log10 scaled); *diffuse attenuation coefficient Kd of downward irradiance at 490 nm, trsp (BAC and M07 algorithm, log10 scaled); *absorption coefficient at 443 nm of coloured detrital and dissolved organic matter, iop_nn (neural net algorithm, log10 scaled); *instantaneous photosynthetically active radiation, PAR (BAC and clear-sky ocean algorithm); *aerosol optical thickness T865 and aerosol Angstrom exponent A865, w_aer (BAC algorithm, A for bands 779 and 865 nm) *integrated water vapour column, iwv (1D-Var algorithm). The geophysical products are accompanied by error estimate products. Pixel classification, quality and science flags, as well as meteorological, geometry and geolocation data at tie points are provided.\n\n- All Sentinel-3 NRT products are available at pick-up point in less than 3h\n- All Sentinel-3 Non Time Critical (NTC) products are available at pick-up point in less than 30 days\nSentinel-3 is part of a series of Sentinel satellites, under the umbrella of the EU Copernicus programme.",
          "end_datetime": "2024-06-02T10:23:43.518340Z",
          "instruments": [
           "OLCI"
          ],
          "license": "proprietary",
          "order:status": "succeeded",
          "platform": "SENTINEL-3A,SENTINEL-3B",
          "processing:level": 2,
          "providers": [
           {
            "description": "DestineE Data Lake Fresh Data Pool",
            "name": "dedl",
            "priority": 1,
            "roles": [
             "host"
            ],
            "url": "https://creodias.eu/"
           }
          ],
          "published": "2024-06-02T12:30:32.825881Z",
          "sar:instrument_mode": "Earth Observation",
          "sar:product_type": "OL_2_WFR___",
          "sat:absolute_orbit": 31793,
          "sat:orbit_state": "DESCENDING",
          "sat:relative_orbit": 336,
          "start_datetime": "2024-06-02T10:20:43.518340Z",
          "updated": "2024-06-02T12:30:37.129279Z"
         },
         "stac_extensions": [
          "https://stac-extensions.github.io/timestamps/v1.0.0/schema.json",
          "https://stac-extensions.github.io/processing/v1.0.0/schema.json",
          "https://stac-extensions.github.io/sat/v1.0.0/schema.json",
          "https://stac-extensions.github.io/sar/v1.0.0/schema.json",
          "https://stac-extensions.github.io/order/v1.1.0/schema.json"
         ],
         "stac_version": "1.0.0",
         "type": "Feature"
        },
        {
         "assets": {
          "EOPMetadata.xml": {
           "alternate": {
            "origin": {
             "href": "s3://eodata/Sentinel-3/OLCI/OL_2_WFR___/2024/06/02/S3B_OL_2_WFR____20240602T102344_20240602T102644_20240603T183326_0179_093_336_1980_MAR_O_NT_003.SEN3/EOPMetadata.xml",
             "title": "Origin asset link",
             "type": "text/xml"
            }
           },
           "href": "https://hda.data.destination-earth.eu/stac/collections/EO.EUM.DAT.SENTINEL-3.OL_2_WFR___/items/S3B_OL_2_WFR____20240602T102344_20240602T102644_20240603T183326_0179_093_336_1980_MAR_O_NT_003/download/EOPMetadata.xml?provider=dedl",
           "roles": [
            "metadata"
           ],
           "title": "EOPMetadata.xml",
           "type": "text/xml"
          },
          "Oa01_reflectance.nc": {
           "alternate": {
            "origin": {
             "href": "s3://eodata/Sentinel-3/OLCI/OL_2_WFR___/2024/06/02/S3B_OL_2_WFR____20240602T102344_20240602T102644_20240603T183326_0179_093_336_1980_MAR_O_NT_003.SEN3/Oa01_reflectance.nc",
             "title": "Origin asset link",
             "type": "application/x-netcdf"
            }
           },
           "href": "https://hda.data.destination-earth.eu/stac/collections/EO.EUM.DAT.SENTINEL-3.OL_2_WFR___/items/S3B_OL_2_WFR____20240602T102344_20240602T102644_20240603T183326_0179_093_336_1980_MAR_O_NT_003/download/Oa01_reflectance.nc?provider=dedl",
           "roles": [
            "data"
           ],
           "title": "Oa01_reflectance.nc",
           "type": "application/x-netcdf"
          },
          "Oa02_reflectance.nc": {
           "alternate": {
            "origin": {
             "href": "s3://eodata/Sentinel-3/OLCI/OL_2_WFR___/2024/06/02/S3B_OL_2_WFR____20240602T102344_20240602T102644_20240603T183326_0179_093_336_1980_MAR_O_NT_003.SEN3/Oa02_reflectance.nc",
             "title": "Origin asset link",
             "type": "application/x-netcdf"
            }
           },
           "href": "https://hda.data.destination-earth.eu/stac/collections/EO.EUM.DAT.SENTINEL-3.OL_2_WFR___/items/S3B_OL_2_WFR____20240602T102344_20240602T102644_20240603T183326_0179_093_336_1980_MAR_O_NT_003/download/Oa02_reflectance.nc?provider=dedl",
           "roles": [
            "data"
           ],
           "title": "Oa02_reflectance.nc",
           "type": "application/x-netcdf"
          },
          "Oa03_reflectance.nc": {
           "alternate": {
            "origin": {
             "href": "s3://eodata/Sentinel-3/OLCI/OL_2_WFR___/2024/06/02/S3B_OL_2_WFR____20240602T102344_20240602T102644_20240603T183326_0179_093_336_1980_MAR_O_NT_003.SEN3/Oa03_reflectance.nc",
             "title": "Origin asset link",
             "type": "application/x-netcdf"
            }
           },
           "href": "https://hda.data.destination-earth.eu/stac/collections/EO.EUM.DAT.SENTINEL-3.OL_2_WFR___/items/S3B_OL_2_WFR____20240602T102344_20240602T102644_20240603T183326_0179_093_336_1980_MAR_O_NT_003/download/Oa03_reflectance.nc?provider=dedl",
           "roles": [
            "data"
           ],
           "title": "Oa03_reflectance.nc",
           "type": "application/x-netcdf"
          },
          "Oa04_reflectance.nc": {
           "alternate": {
            "origin": {
             "href": "s3://eodata/Sentinel-3/OLCI/OL_2_WFR___/2024/06/02/S3B_OL_2_WFR____20240602T102344_20240602T102644_20240603T183326_0179_093_336_1980_MAR_O_NT_003.SEN3/Oa04_reflectance.nc",
             "title": "Origin asset link",
             "type": "application/x-netcdf"
            }
           },
           "href": "https://hda.data.destination-earth.eu/stac/collections/EO.EUM.DAT.SENTINEL-3.OL_2_WFR___/items/S3B_OL_2_WFR____20240602T102344_20240602T102644_20240603T183326_0179_093_336_1980_MAR_O_NT_003/download/Oa04_reflectance.nc?provider=dedl",
           "roles": [
            "data"
           ],
           "title": "Oa04_reflectance.nc",
           "type": "application/x-netcdf"
          },
          "Oa05_reflectance.nc": {
           "alternate": {
            "origin": {
             "href": "s3://eodata/Sentinel-3/OLCI/OL_2_WFR___/2024/06/02/S3B_OL_2_WFR____20240602T102344_20240602T102644_20240603T183326_0179_093_336_1980_MAR_O_NT_003.SEN3/Oa05_reflectance.nc",
             "title": "Origin asset link",
             "type": "application/x-netcdf"
            }
           },
           "href": "https://hda.data.destination-earth.eu/stac/collections/EO.EUM.DAT.SENTINEL-3.OL_2_WFR___/items/S3B_OL_2_WFR____20240602T102344_20240602T102644_20240603T183326_0179_093_336_1980_MAR_O_NT_003/download/Oa05_reflectance.nc?provider=dedl",
           "roles": [
            "data"
           ],
           "title": "Oa05_reflectance.nc",
           "type": "application/x-netcdf"
          },
          "Oa06_reflectance.nc": {
           "alternate": {
            "origin": {
             "href": "s3://eodata/Sentinel-3/OLCI/OL_2_WFR___/2024/06/02/S3B_OL_2_WFR____20240602T102344_20240602T102644_20240603T183326_0179_093_336_1980_MAR_O_NT_003.SEN3/Oa06_reflectance.nc",
             "title": "Origin asset link",
             "type": "application/x-netcdf"
            }
           },
           "href": "https://hda.data.destination-earth.eu/stac/collections/EO.EUM.DAT.SENTINEL-3.OL_2_WFR___/items/S3B_OL_2_WFR____20240602T102344_20240602T102644_20240603T183326_0179_093_336_1980_MAR_O_NT_003/download/Oa06_reflectance.nc?provider=dedl",
           "roles": [
            "data"
           ],
           "title": "Oa06_reflectance.nc",
           "type": "application/x-netcdf"
          },
          "Oa07_reflectance.nc": {
           "alternate": {
            "origin": {
             "href": "s3://eodata/Sentinel-3/OLCI/OL_2_WFR___/2024/06/02/S3B_OL_2_WFR____20240602T102344_20240602T102644_20240603T183326_0179_093_336_1980_MAR_O_NT_003.SEN3/Oa07_reflectance.nc",
             "title": "Origin asset link",
             "type": "application/x-netcdf"
            }
           },
           "href": "https://hda.data.destination-earth.eu/stac/collections/EO.EUM.DAT.SENTINEL-3.OL_2_WFR___/items/S3B_OL_2_WFR____20240602T102344_20240602T102644_20240603T183326_0179_093_336_1980_MAR_O_NT_003/download/Oa07_reflectance.nc?provider=dedl",
           "roles": [
            "data"
           ],
           "title": "Oa07_reflectance.nc",
           "type": "application/x-netcdf"
          },
          "Oa08_reflectance.nc": {
           "alternate": {
            "origin": {
             "href": "s3://eodata/Sentinel-3/OLCI/OL_2_WFR___/2024/06/02/S3B_OL_2_WFR____20240602T102344_20240602T102644_20240603T183326_0179_093_336_1980_MAR_O_NT_003.SEN3/Oa08_reflectance.nc",
             "title": "Origin asset link",
             "type": "application/x-netcdf"
            }
           },
           "href": "https://hda.data.destination-earth.eu/stac/collections/EO.EUM.DAT.SENTINEL-3.OL_2_WFR___/items/S3B_OL_2_WFR____20240602T102344_20240602T102644_20240603T183326_0179_093_336_1980_MAR_O_NT_003/download/Oa08_reflectance.nc?provider=dedl",
           "roles": [
            "data"
           ],
           "title": "Oa08_reflectance.nc",
           "type": "application/x-netcdf"
          },
          "Oa09_reflectance.nc": {
           "alternate": {
            "origin": {
             "href": "s3://eodata/Sentinel-3/OLCI/OL_2_WFR___/2024/06/02/S3B_OL_2_WFR____20240602T102344_20240602T102644_20240603T183326_0179_093_336_1980_MAR_O_NT_003.SEN3/Oa09_reflectance.nc",
             "title": "Origin asset link",
             "type": "application/x-netcdf"
            }
           },
           "href": "https://hda.data.destination-earth.eu/stac/collections/EO.EUM.DAT.SENTINEL-3.OL_2_WFR___/items/S3B_OL_2_WFR____20240602T102344_20240602T102644_20240603T183326_0179_093_336_1980_MAR_O_NT_003/download/Oa09_reflectance.nc?provider=dedl",
           "roles": [
            "data"
           ],
           "title": "Oa09_reflectance.nc",
           "type": "application/x-netcdf"
          },
          "Oa10_reflectance.nc": {
           "alternate": {
            "origin": {
             "href": "s3://eodata/Sentinel-3/OLCI/OL_2_WFR___/2024/06/02/S3B_OL_2_WFR____20240602T102344_20240602T102644_20240603T183326_0179_093_336_1980_MAR_O_NT_003.SEN3/Oa10_reflectance.nc",
             "title": "Origin asset link",
             "type": "application/x-netcdf"
            }
           },
           "href": "https://hda.data.destination-earth.eu/stac/collections/EO.EUM.DAT.SENTINEL-3.OL_2_WFR___/items/S3B_OL_2_WFR____20240602T102344_20240602T102644_20240603T183326_0179_093_336_1980_MAR_O_NT_003/download/Oa10_reflectance.nc?provider=dedl",
           "roles": [
            "data"
           ],
           "title": "Oa10_reflectance.nc",
           "type": "application/x-netcdf"
          },
          "Oa11_reflectance.nc": {
           "alternate": {
            "origin": {
             "href": "s3://eodata/Sentinel-3/OLCI/OL_2_WFR___/2024/06/02/S3B_OL_2_WFR____20240602T102344_20240602T102644_20240603T183326_0179_093_336_1980_MAR_O_NT_003.SEN3/Oa11_reflectance.nc",
             "title": "Origin asset link",
             "type": "application/x-netcdf"
            }
           },
           "href": "https://hda.data.destination-earth.eu/stac/collections/EO.EUM.DAT.SENTINEL-3.OL_2_WFR___/items/S3B_OL_2_WFR____20240602T102344_20240602T102644_20240603T183326_0179_093_336_1980_MAR_O_NT_003/download/Oa11_reflectance.nc?provider=dedl",
           "roles": [
            "data"
           ],
           "title": "Oa11_reflectance.nc",
           "type": "application/x-netcdf"
          },
          "Oa12_reflectance.nc": {
           "alternate": {
            "origin": {
             "href": "s3://eodata/Sentinel-3/OLCI/OL_2_WFR___/2024/06/02/S3B_OL_2_WFR____20240602T102344_20240602T102644_20240603T183326_0179_093_336_1980_MAR_O_NT_003.SEN3/Oa12_reflectance.nc",
             "title": "Origin asset link",
             "type": "application/x-netcdf"
            }
           },
           "href": "https://hda.data.destination-earth.eu/stac/collections/EO.EUM.DAT.SENTINEL-3.OL_2_WFR___/items/S3B_OL_2_WFR____20240602T102344_20240602T102644_20240603T183326_0179_093_336_1980_MAR_O_NT_003/download/Oa12_reflectance.nc?provider=dedl",
           "roles": [
            "data"
           ],
           "title": "Oa12_reflectance.nc",
           "type": "application/x-netcdf"
          },
          "Oa16_reflectance.nc": {
           "alternate": {
            "origin": {
             "href": "s3://eodata/Sentinel-3/OLCI/OL_2_WFR___/2024/06/02/S3B_OL_2_WFR____20240602T102344_20240602T102644_20240603T183326_0179_093_336_1980_MAR_O_NT_003.SEN3/Oa16_reflectance.nc",
             "title": "Origin asset link",
             "type": "application/x-netcdf"
            }
           },
           "href": "https://hda.data.destination-earth.eu/stac/collections/EO.EUM.DAT.SENTINEL-3.OL_2_WFR___/items/S3B_OL_2_WFR____20240602T102344_20240602T102644_20240603T183326_0179_093_336_1980_MAR_O_NT_003/download/Oa16_reflectance.nc?provider=dedl",
           "roles": [
            "data"
           ],
           "title": "Oa16_reflectance.nc",
           "type": "application/x-netcdf"
          },
          "Oa17_reflectance.nc": {
           "alternate": {
            "origin": {
             "href": "s3://eodata/Sentinel-3/OLCI/OL_2_WFR___/2024/06/02/S3B_OL_2_WFR____20240602T102344_20240602T102644_20240603T183326_0179_093_336_1980_MAR_O_NT_003.SEN3/Oa17_reflectance.nc",
             "title": "Origin asset link",
             "type": "application/x-netcdf"
            }
           },
           "href": "https://hda.data.destination-earth.eu/stac/collections/EO.EUM.DAT.SENTINEL-3.OL_2_WFR___/items/S3B_OL_2_WFR____20240602T102344_20240602T102644_20240603T183326_0179_093_336_1980_MAR_O_NT_003/download/Oa17_reflectance.nc?provider=dedl",
           "roles": [
            "data"
           ],
           "title": "Oa17_reflectance.nc",
           "type": "application/x-netcdf"
          },
          "Oa18_reflectance.nc": {
           "alternate": {
            "origin": {
             "href": "s3://eodata/Sentinel-3/OLCI/OL_2_WFR___/2024/06/02/S3B_OL_2_WFR____20240602T102344_20240602T102644_20240603T183326_0179_093_336_1980_MAR_O_NT_003.SEN3/Oa18_reflectance.nc",
             "title": "Origin asset link",
             "type": "application/x-netcdf"
            }
           },
           "href": "https://hda.data.destination-earth.eu/stac/collections/EO.EUM.DAT.SENTINEL-3.OL_2_WFR___/items/S3B_OL_2_WFR____20240602T102344_20240602T102644_20240603T183326_0179_093_336_1980_MAR_O_NT_003/download/Oa18_reflectance.nc?provider=dedl",
           "roles": [
            "data"
           ],
           "title": "Oa18_reflectance.nc",
           "type": "application/x-netcdf"
          },
          "Oa21_reflectance.nc": {
           "alternate": {
            "origin": {
             "href": "s3://eodata/Sentinel-3/OLCI/OL_2_WFR___/2024/06/02/S3B_OL_2_WFR____20240602T102344_20240602T102644_20240603T183326_0179_093_336_1980_MAR_O_NT_003.SEN3/Oa21_reflectance.nc",
             "title": "Origin asset link",
             "type": "application/x-netcdf"
            }
           },
           "href": "https://hda.data.destination-earth.eu/stac/collections/EO.EUM.DAT.SENTINEL-3.OL_2_WFR___/items/S3B_OL_2_WFR____20240602T102344_20240602T102644_20240603T183326_0179_093_336_1980_MAR_O_NT_003/download/Oa21_reflectance.nc?provider=dedl",
           "roles": [
            "data"
           ],
           "title": "Oa21_reflectance.nc",
           "type": "application/x-netcdf"
          },
          "browse.jpg": {
           "alternate": {
            "origin": {
             "href": "s3://eodata/Sentinel-3/OLCI/OL_2_WFR___/2024/06/02/S3B_OL_2_WFR____20240602T102344_20240602T102644_20240603T183326_0179_093_336_1980_MAR_O_NT_003.SEN3/browse.jpg",
             "title": "Origin asset link",
             "type": "image/jpeg"
            }
           },
           "href": "https://hda.data.destination-earth.eu/stac/collections/EO.EUM.DAT.SENTINEL-3.OL_2_WFR___/items/S3B_OL_2_WFR____20240602T102344_20240602T102644_20240603T183326_0179_093_336_1980_MAR_O_NT_003/download/browse.jpg?provider=dedl",
           "roles": [
            "metadata"
           ],
           "title": "browse.jpg",
           "type": "image/jpeg"
          },
          "chl_nn.nc": {
           "alternate": {
            "origin": {
             "href": "s3://eodata/Sentinel-3/OLCI/OL_2_WFR___/2024/06/02/S3B_OL_2_WFR____20240602T102344_20240602T102644_20240603T183326_0179_093_336_1980_MAR_O_NT_003.SEN3/chl_nn.nc",
             "title": "Origin asset link",
             "type": "application/x-netcdf"
            }
           },
           "href": "https://hda.data.destination-earth.eu/stac/collections/EO.EUM.DAT.SENTINEL-3.OL_2_WFR___/items/S3B_OL_2_WFR____20240602T102344_20240602T102644_20240603T183326_0179_093_336_1980_MAR_O_NT_003/download/chl_nn.nc?provider=dedl",
           "roles": [
            "data"
           ],
           "title": "chl_nn.nc",
           "type": "application/x-netcdf"
          },
          "chl_oc4me.nc": {
           "alternate": {
            "origin": {
             "href": "s3://eodata/Sentinel-3/OLCI/OL_2_WFR___/2024/06/02/S3B_OL_2_WFR____20240602T102344_20240602T102644_20240603T183326_0179_093_336_1980_MAR_O_NT_003.SEN3/chl_oc4me.nc",
             "title": "Origin asset link",
             "type": "application/x-netcdf"
            }
           },
           "href": "https://hda.data.destination-earth.eu/stac/collections/EO.EUM.DAT.SENTINEL-3.OL_2_WFR___/items/S3B_OL_2_WFR____20240602T102344_20240602T102644_20240603T183326_0179_093_336_1980_MAR_O_NT_003/download/chl_oc4me.nc?provider=dedl",
           "roles": [
            "data"
           ],
           "title": "chl_oc4me.nc",
           "type": "application/x-netcdf"
          },
          "downloadLink": {
           "alternate": {
            "origin": {
             "href": "https://zipper.creodias.eu/odata/v1/Products(e9f6d444-97b3-4ac6-a546-b862739bb2a9)/$value",
             "title": "Origin asset link"
            }
           },
           "href": "https://hda.data.destination-earth.eu/stac/collections/EO.EUM.DAT.SENTINEL-3.OL_2_WFR___/items/S3B_OL_2_WFR____20240602T102344_20240602T102644_20240603T183326_0179_093_336_1980_MAR_O_NT_003/download?provider=dedl",
           "storage:tier": "ONLINE",
           "title": "Download link",
           "type": "application/zip"
          },
          "geo_coordinates.nc": {
           "alternate": {
            "origin": {
             "href": "s3://eodata/Sentinel-3/OLCI/OL_2_WFR___/2024/06/02/S3B_OL_2_WFR____20240602T102344_20240602T102644_20240603T183326_0179_093_336_1980_MAR_O_NT_003.SEN3/geo_coordinates.nc",
             "title": "Origin asset link",
             "type": "application/x-netcdf"
            }
           },
           "href": "https://hda.data.destination-earth.eu/stac/collections/EO.EUM.DAT.SENTINEL-3.OL_2_WFR___/items/S3B_OL_2_WFR____20240602T102344_20240602T102644_20240603T183326_0179_093_336_1980_MAR_O_NT_003/download/geo_coordinates.nc?provider=dedl",
           "roles": [
            "data"
           ],
           "title": "geo_coordinates.nc",
           "type": "application/x-netcdf"
          },
          "instrument_data.nc": {
           "alternate": {
            "origin": {
             "href": "s3://eodata/Sentinel-3/OLCI/OL_2_WFR___/2024/06/02/S3B_OL_2_WFR____20240602T102344_20240602T102644_20240603T183326_0179_093_336_1980_MAR_O_NT_003.SEN3/instrument_data.nc",
             "title": "Origin asset link",
             "type": "application/x-netcdf"
            }
           },
           "href": "https://hda.data.destination-earth.eu/stac/collections/EO.EUM.DAT.SENTINEL-3.OL_2_WFR___/items/S3B_OL_2_WFR____20240602T102344_20240602T102644_20240603T183326_0179_093_336_1980_MAR_O_NT_003/download/instrument_data.nc?provider=dedl",
           "roles": [
            "data"
           ],
           "title": "instrument_data.nc",
           "type": "application/x-netcdf"
          },
          "iop_lsd.nc": {
           "alternate": {
            "origin": {
             "href": "s3://eodata/Sentinel-3/OLCI/OL_2_WFR___/2024/06/02/S3B_OL_2_WFR____20240602T102344_20240602T102644_20240603T183326_0179_093_336_1980_MAR_O_NT_003.SEN3/iop_lsd.nc",
             "title": "Origin asset link",
             "type": "application/x-netcdf"
            }
           },
           "href": "https://hda.data.destination-earth.eu/stac/collections/EO.EUM.DAT.SENTINEL-3.OL_2_WFR___/items/S3B_OL_2_WFR____20240602T102344_20240602T102644_20240603T183326_0179_093_336_1980_MAR_O_NT_003/download/iop_lsd.nc?provider=dedl",
           "roles": [
            "data"
           ],
           "title": "iop_lsd.nc",
           "type": "application/x-netcdf"
          },
          "iop_nn.nc": {
           "alternate": {
            "origin": {
             "href": "s3://eodata/Sentinel-3/OLCI/OL_2_WFR___/2024/06/02/S3B_OL_2_WFR____20240602T102344_20240602T102644_20240603T183326_0179_093_336_1980_MAR_O_NT_003.SEN3/iop_nn.nc",
             "title": "Origin asset link",
             "type": "application/x-netcdf"
            }
           },
           "href": "https://hda.data.destination-earth.eu/stac/collections/EO.EUM.DAT.SENTINEL-3.OL_2_WFR___/items/S3B_OL_2_WFR____20240602T102344_20240602T102644_20240603T183326_0179_093_336_1980_MAR_O_NT_003/download/iop_nn.nc?provider=dedl",
           "roles": [
            "data"
           ],
           "title": "iop_nn.nc",
           "type": "application/x-netcdf"
          },
          "iwv.nc": {
           "alternate": {
            "origin": {
             "href": "s3://eodata/Sentinel-3/OLCI/OL_2_WFR___/2024/06/02/S3B_OL_2_WFR____20240602T102344_20240602T102644_20240603T183326_0179_093_336_1980_MAR_O_NT_003.SEN3/iwv.nc",
             "title": "Origin asset link",
             "type": "application/x-netcdf"
            }
           },
           "href": "https://hda.data.destination-earth.eu/stac/collections/EO.EUM.DAT.SENTINEL-3.OL_2_WFR___/items/S3B_OL_2_WFR____20240602T102344_20240602T102644_20240603T183326_0179_093_336_1980_MAR_O_NT_003/download/iwv.nc?provider=dedl",
           "roles": [
            "data"
           ],
           "title": "iwv.nc",
           "type": "application/x-netcdf"
          },
          "manifest.xml": {
           "alternate": {
            "origin": {
             "href": "s3://eodata/Sentinel-3/OLCI/OL_2_WFR___/2024/06/02/S3B_OL_2_WFR____20240602T102344_20240602T102644_20240603T183326_0179_093_336_1980_MAR_O_NT_003.SEN3/manifest.xml",
             "title": "Origin asset link",
             "type": "text/xml"
            }
           },
           "href": "https://hda.data.destination-earth.eu/stac/collections/EO.EUM.DAT.SENTINEL-3.OL_2_WFR___/items/S3B_OL_2_WFR____20240602T102344_20240602T102644_20240603T183326_0179_093_336_1980_MAR_O_NT_003/download/manifest.xml?provider=dedl",
           "roles": [
            "metadata"
           ],
           "title": "manifest.xml",
           "type": "text/xml"
          },
          "par.nc": {
           "alternate": {
            "origin": {
             "href": "s3://eodata/Sentinel-3/OLCI/OL_2_WFR___/2024/06/02/S3B_OL_2_WFR____20240602T102344_20240602T102644_20240603T183326_0179_093_336_1980_MAR_O_NT_003.SEN3/par.nc",
             "title": "Origin asset link",
             "type": "application/x-netcdf"
            }
           },
           "href": "https://hda.data.destination-earth.eu/stac/collections/EO.EUM.DAT.SENTINEL-3.OL_2_WFR___/items/S3B_OL_2_WFR____20240602T102344_20240602T102644_20240603T183326_0179_093_336_1980_MAR_O_NT_003/download/par.nc?provider=dedl",
           "roles": [
            "data"
           ],
           "title": "par.nc",
           "type": "application/x-netcdf"
          },
          "tie_geo_coordinates.nc": {
           "alternate": {
            "origin": {
             "href": "s3://eodata/Sentinel-3/OLCI/OL_2_WFR___/2024/06/02/S3B_OL_2_WFR____20240602T102344_20240602T102644_20240603T183326_0179_093_336_1980_MAR_O_NT_003.SEN3/tie_geo_coordinates.nc",
             "title": "Origin asset link",
             "type": "application/x-netcdf"
            }
           },
           "href": "https://hda.data.destination-earth.eu/stac/collections/EO.EUM.DAT.SENTINEL-3.OL_2_WFR___/items/S3B_OL_2_WFR____20240602T102344_20240602T102644_20240603T183326_0179_093_336_1980_MAR_O_NT_003/download/tie_geo_coordinates.nc?provider=dedl",
           "roles": [
            "data"
           ],
           "title": "tie_geo_coordinates.nc",
           "type": "application/x-netcdf"
          },
          "tie_geometries.nc": {
           "alternate": {
            "origin": {
             "href": "s3://eodata/Sentinel-3/OLCI/OL_2_WFR___/2024/06/02/S3B_OL_2_WFR____20240602T102344_20240602T102644_20240603T183326_0179_093_336_1980_MAR_O_NT_003.SEN3/tie_geometries.nc",
             "title": "Origin asset link",
             "type": "application/x-netcdf"
            }
           },
           "href": "https://hda.data.destination-earth.eu/stac/collections/EO.EUM.DAT.SENTINEL-3.OL_2_WFR___/items/S3B_OL_2_WFR____20240602T102344_20240602T102644_20240603T183326_0179_093_336_1980_MAR_O_NT_003/download/tie_geometries.nc?provider=dedl",
           "roles": [
            "data"
           ],
           "title": "tie_geometries.nc",
           "type": "application/x-netcdf"
          },
          "tie_meteo.nc": {
           "alternate": {
            "origin": {
             "href": "s3://eodata/Sentinel-3/OLCI/OL_2_WFR___/2024/06/02/S3B_OL_2_WFR____20240602T102344_20240602T102644_20240603T183326_0179_093_336_1980_MAR_O_NT_003.SEN3/tie_meteo.nc",
             "title": "Origin asset link",
             "type": "application/x-netcdf"
            }
           },
           "href": "https://hda.data.destination-earth.eu/stac/collections/EO.EUM.DAT.SENTINEL-3.OL_2_WFR___/items/S3B_OL_2_WFR____20240602T102344_20240602T102644_20240603T183326_0179_093_336_1980_MAR_O_NT_003/download/tie_meteo.nc?provider=dedl",
           "roles": [
            "data"
           ],
           "title": "tie_meteo.nc",
           "type": "application/x-netcdf"
          },
          "time_coordinates.nc": {
           "alternate": {
            "origin": {
             "href": "s3://eodata/Sentinel-3/OLCI/OL_2_WFR___/2024/06/02/S3B_OL_2_WFR____20240602T102344_20240602T102644_20240603T183326_0179_093_336_1980_MAR_O_NT_003.SEN3/time_coordinates.nc",
             "title": "Origin asset link",
             "type": "application/x-netcdf"
            }
           },
           "href": "https://hda.data.destination-earth.eu/stac/collections/EO.EUM.DAT.SENTINEL-3.OL_2_WFR___/items/S3B_OL_2_WFR____20240602T102344_20240602T102644_20240603T183326_0179_093_336_1980_MAR_O_NT_003/download/time_coordinates.nc?provider=dedl",
           "roles": [
            "data"
           ],
           "title": "time_coordinates.nc",
           "type": "application/x-netcdf"
          },
          "trsp.nc": {
           "alternate": {
            "origin": {
             "href": "s3://eodata/Sentinel-3/OLCI/OL_2_WFR___/2024/06/02/S3B_OL_2_WFR____20240602T102344_20240602T102644_20240603T183326_0179_093_336_1980_MAR_O_NT_003.SEN3/trsp.nc",
             "title": "Origin asset link",
             "type": "application/x-netcdf"
            }
           },
           "href": "https://hda.data.destination-earth.eu/stac/collections/EO.EUM.DAT.SENTINEL-3.OL_2_WFR___/items/S3B_OL_2_WFR____20240602T102344_20240602T102644_20240603T183326_0179_093_336_1980_MAR_O_NT_003/download/trsp.nc?provider=dedl",
           "roles": [
            "data"
           ],
           "title": "trsp.nc",
           "type": "application/x-netcdf"
          },
          "tsm_nn.nc": {
           "alternate": {
            "origin": {
             "href": "s3://eodata/Sentinel-3/OLCI/OL_2_WFR___/2024/06/02/S3B_OL_2_WFR____20240602T102344_20240602T102644_20240603T183326_0179_093_336_1980_MAR_O_NT_003.SEN3/tsm_nn.nc",
             "title": "Origin asset link",
             "type": "application/x-netcdf"
            }
           },
           "href": "https://hda.data.destination-earth.eu/stac/collections/EO.EUM.DAT.SENTINEL-3.OL_2_WFR___/items/S3B_OL_2_WFR____20240602T102344_20240602T102644_20240603T183326_0179_093_336_1980_MAR_O_NT_003/download/tsm_nn.nc?provider=dedl",
           "roles": [
            "data"
           ],
           "title": "tsm_nn.nc",
           "type": "application/x-netcdf"
          },
          "w_aer.nc": {
           "alternate": {
            "origin": {
             "href": "s3://eodata/Sentinel-3/OLCI/OL_2_WFR___/2024/06/02/S3B_OL_2_WFR____20240602T102344_20240602T102644_20240603T183326_0179_093_336_1980_MAR_O_NT_003.SEN3/w_aer.nc",
             "title": "Origin asset link",
             "type": "application/x-netcdf"
            }
           },
           "href": "https://hda.data.destination-earth.eu/stac/collections/EO.EUM.DAT.SENTINEL-3.OL_2_WFR___/items/S3B_OL_2_WFR____20240602T102344_20240602T102644_20240603T183326_0179_093_336_1980_MAR_O_NT_003/download/w_aer.nc?provider=dedl",
           "roles": [
            "data"
           ],
           "title": "w_aer.nc",
           "type": "application/x-netcdf"
          },
          "wqsf.nc": {
           "alternate": {
            "origin": {
             "href": "s3://eodata/Sentinel-3/OLCI/OL_2_WFR___/2024/06/02/S3B_OL_2_WFR____20240602T102344_20240602T102644_20240603T183326_0179_093_336_1980_MAR_O_NT_003.SEN3/wqsf.nc",
             "title": "Origin asset link",
             "type": "application/x-netcdf"
            }
           },
           "href": "https://hda.data.destination-earth.eu/stac/collections/EO.EUM.DAT.SENTINEL-3.OL_2_WFR___/items/S3B_OL_2_WFR____20240602T102344_20240602T102644_20240603T183326_0179_093_336_1980_MAR_O_NT_003/download/wqsf.nc?provider=dedl",
           "roles": [
            "data"
           ],
           "title": "wqsf.nc",
           "type": "application/x-netcdf"
          },
          "xfdumanifest.xml": {
           "alternate": {
            "origin": {
             "href": "s3://eodata/Sentinel-3/OLCI/OL_2_WFR___/2024/06/02/S3B_OL_2_WFR____20240602T102344_20240602T102644_20240603T183326_0179_093_336_1980_MAR_O_NT_003.SEN3/xfdumanifest.xml",
             "title": "Origin asset link",
             "type": "text/xml"
            }
           },
           "href": "https://hda.data.destination-earth.eu/stac/collections/EO.EUM.DAT.SENTINEL-3.OL_2_WFR___/items/S3B_OL_2_WFR____20240602T102344_20240602T102644_20240603T183326_0179_093_336_1980_MAR_O_NT_003/download/xfdumanifest.xml?provider=dedl",
           "roles": [
            "metadata"
           ],
           "title": "xfdumanifest.xml",
           "type": "text/xml"
          }
         },
         "bbox": [
          -9.71306,
          49.8948,
          15.8,
          62.9194
         ],
         "collection": "EO.EUM.DAT.SENTINEL-3.OL_2_WFR___",
         "geometry": {
          "coordinates": [
           [
            [
             -9.71306,
             52.4641
            ],
            [
             -8.70072,
             52.4037
            ],
            [
             -7.68378,
             52.3327
            ],
            [
             -6.68289,
             52.2541
            ],
            [
             -5.68671,
             52.1698
            ],
            [
             -4.68737,
             52.0739
            ],
            [
             -3.693,
             51.9696
            ],
            [
             -2.70414,
             51.8567
            ],
            [
             -1.72544,
             51.7364
            ],
            [
             -0.747016,
             51.61
            ],
            [
             0.2254,
             51.471
            ],
            [
             1.18874,
             51.3267
            ],
            [
             2.14956,
             51.1765
            ],
            [
             3.10281,
             51.0145
            ],
            [
             4.05002,
             50.8463
            ],
            [
             4.98893,
             50.6708
            ],
            [
             5.92057,
             50.4874
            ],
            [
             6.84428,
             50.2971
            ],
            [
             7.76126,
             50.0992
            ],
            [
             8.67429,
             49.8948
            ],
            [
             10.157,
             52.4396
            ],
            [
             11.8135,
             54.9726
            ],
            [
             13.6781,
             57.4824
            ],
            [
             15.8,
             59.9632
            ],
            [
             14.6663,
             60.2177
            ],
            [
             13.5156,
             60.4638
            ],
            [
             12.3484,
             60.6995
            ],
            [
             11.1664,
             60.9248
            ],
            [
             9.96994,
             61.139
            ],
            [
             8.75713,
             61.3425
            ],
            [
             7.52929,
             61.5368
            ],
            [
             6.27994,
             61.7164
            ],
            [
             5.01698,
             61.8871
            ],
            [
             3.74148,
             62.0457
            ],
            [
             2.45261,
             62.193
            ],
            [
             1.15573,
             62.328
            ],
            [
             -0.151109,
             62.4508
            ],
            [
             -1.47061,
             62.5611
            ],
            [
             -2.80083,
             62.6591
            ],
            [
             -4.14336,
             62.7421
            ],
            [
             -5.48946,
             62.8146
            ],
            [
             -6.83351,
             62.874
            ],
            [
             -8.19208,
             62.9194
            ],
            [
             -8.56199,
             60.3058
            ],
            [
             -8.93968,
             57.6908
            ],
            [
             -9.3239,
             55.0744
            ],
            [
             -9.71306,
             52.4641
            ]
           ]
          ],
          "type": "Polygon"
         },
         "id": "S3B_OL_2_WFR____20240602T102344_20240602T102644_20240603T183326_0179_093_336_1980_MAR_O_NT_003",
         "links": [
          {
           "href": "https://hda.data.destination-earth.eu/stac/collections/EO.EUM.DAT.SENTINEL-3.OL_2_WFR___/items/S3B_OL_2_WFR____20240602T102344_20240602T102644_20240603T183326_0179_093_336_1980_MAR_O_NT_003",
           "rel": "self",
           "title": "S3B_OL_2_WFR____20240602T102344_20240602T102644_20240603T183326_0179_093_336_1980_MAR_O_NT_003"
          },
          {
           "href": "https://hda.data.destination-earth.eu/stac/",
           "rel": "root"
          },
          {
           "href": "https://hda.data.destination-earth.eu/stac/collections/EO.EUM.DAT.SENTINEL-3.OL_2_WFR___",
           "rel": "parent",
           "title": "EO.EUM.DAT.SENTINEL-3.OL_2_WFR___"
          },
          {
           "href": "https://hda.data.destination-earth.eu/stac/collections/EO.EUM.DAT.SENTINEL-3.OL_2_WFR___",
           "rel": "collection",
           "title": "EO.EUM.DAT.SENTINEL-3.OL_2_WFR___"
          }
         ],
         "properties": {
          "constellation": "SENTINEL-3",
          "datetime": "2024-06-02T10:23:43.518126Z",
          "dedl:alias": "EO.EUM.DAT.SENTINEL-3.OL_2_WFR___",
          "dedl:baselineCollection": "003",
          "dedl:beginningDateTime": "2024-06-02T10:23:43.518126Z",
          "dedl:endingDateTime": "2024-06-02T10:26:43.518126Z",
          "dedl:productIdentifier": "/eodata/Sentinel-3/OLCI/OL_2_WFR___/2024/06/02/S3B_OL_2_WFR____20240602T102344_20240602T102644_20240603T183326_0179_093_336_1980_MAR_O_NT_003.SEN3",
          "dedl:scope": {
           "discover": null,
           "download": "hda-public-data-access",
           "search": "hda-public-data-access"
          },
          "dedl:timeliness": "NT",
          "dedl:uid": "e9f6d444-97b3-4ac6-a546-b862739bb2a9",
          "description": "OLCI (Ocean and Land Colour Instrument) Ocean Colour Geophysical Products. Full Resolution: 300m at nadir. All Sentinel-3 NRT products are available at pick-up point in less than 3h. Level 2 marine products include the following: * water-leaving reflectances in 16 bands, Oa**_reflectance (Baseline Atmospheric Correction (BAC) algorithm, bands: 400, 412, 442, 490, 510, 560, 620, 665, 674, 681, 709, 754, 779, 865, 885, 1024 nanometer (nm)); *algal pigment concentration in clear waters, chl_oc4me (BAC and maximum band ratio algorithm, log10 scaled); *algal pigment concentration in turbid waters, chl_nn (neural net algorithm, log10 scaled); *total suspended matter concentration, tsm_nn (neural net algorithm, log10 scaled); *diffuse attenuation coefficient Kd of downward irradiance at 490 nm, trsp (BAC and M07 algorithm, log10 scaled); *absorption coefficient at 443 nm of coloured detrital and dissolved organic matter, iop_nn (neural net algorithm, log10 scaled); *instantaneous photosynthetically active radiation, PAR (BAC and clear-sky ocean algorithm); *aerosol optical thickness T865 and aerosol Angstrom exponent A865, w_aer (BAC algorithm, A for bands 779 and 865 nm) *integrated water vapour column, iwv (1D-Var algorithm). The geophysical products are accompanied by error estimate products. Pixel classification, quality and science flags, as well as meteorological, geometry and geolocation data at tie points are provided.\n\n- All Sentinel-3 NRT products are available at pick-up point in less than 3h\n- All Sentinel-3 Non Time Critical (NTC) products are available at pick-up point in less than 30 days\nSentinel-3 is part of a series of Sentinel satellites, under the umbrella of the EU Copernicus programme.",
          "end_datetime": "2024-06-02T10:26:43.518126Z",
          "instruments": [
           "OLCI"
          ],
          "license": "proprietary",
          "order:status": "succeeded",
          "platform": "SENTINEL-3A,SENTINEL-3B",
          "processing:level": 2,
          "providers": [
           {
            "description": "DestineE Data Lake Fresh Data Pool",
            "name": "dedl",
            "priority": 1,
            "roles": [
             "host"
            ],
            "url": "https://creodias.eu/"
           }
          ],
          "published": "2024-06-03T18:57:45.629926Z",
          "sar:instrument_mode": "Earth Observation",
          "sar:product_type": "OL_2_WFR___",
          "sat:absolute_orbit": 31793,
          "sat:orbit_state": "DESCENDING",
          "sat:relative_orbit": 336,
          "start_datetime": "2024-06-02T10:23:43.518126Z",
          "updated": "2024-06-03T19:05:41.902952Z"
         },
         "stac_extensions": [
          "https://stac-extensions.github.io/timestamps/v1.0.0/schema.json",
          "https://stac-extensions.github.io/processing/v1.0.0/schema.json",
          "https://stac-extensions.github.io/sat/v1.0.0/schema.json",
          "https://stac-extensions.github.io/sar/v1.0.0/schema.json",
          "https://stac-extensions.github.io/order/v1.1.0/schema.json"
         ],
         "stac_version": "1.0.0",
         "type": "Feature"
        },
        {
         "assets": {
          "EOPMetadata.xml": {
           "alternate": {
            "origin": {
             "href": "s3://eodata/Sentinel-3/OLCI/OL_2_WFR___/2024/06/02/S3B_OL_2_WFR____20240602T102344_20240602T102644_20240602T122441_0179_093_336_1980_MAR_O_NR_003.SEN3/EOPMetadata.xml",
             "title": "Origin asset link",
             "type": "text/xml"
            }
           },
           "href": "https://hda.data.destination-earth.eu/stac/collections/EO.EUM.DAT.SENTINEL-3.OL_2_WFR___/items/S3B_OL_2_WFR____20240602T102344_20240602T102644_20240602T122441_0179_093_336_1980_MAR_O_NR_003/download/EOPMetadata.xml?provider=dedl",
           "roles": [
            "metadata"
           ],
           "title": "EOPMetadata.xml",
           "type": "text/xml"
          },
          "Oa01_reflectance.nc": {
           "alternate": {
            "origin": {
             "href": "s3://eodata/Sentinel-3/OLCI/OL_2_WFR___/2024/06/02/S3B_OL_2_WFR____20240602T102344_20240602T102644_20240602T122441_0179_093_336_1980_MAR_O_NR_003.SEN3/Oa01_reflectance.nc",
             "title": "Origin asset link",
             "type": "application/x-netcdf"
            }
           },
           "href": "https://hda.data.destination-earth.eu/stac/collections/EO.EUM.DAT.SENTINEL-3.OL_2_WFR___/items/S3B_OL_2_WFR____20240602T102344_20240602T102644_20240602T122441_0179_093_336_1980_MAR_O_NR_003/download/Oa01_reflectance.nc?provider=dedl",
           "roles": [
            "data"
           ],
           "title": "Oa01_reflectance.nc",
           "type": "application/x-netcdf"
          },
          "Oa02_reflectance.nc": {
           "alternate": {
            "origin": {
             "href": "s3://eodata/Sentinel-3/OLCI/OL_2_WFR___/2024/06/02/S3B_OL_2_WFR____20240602T102344_20240602T102644_20240602T122441_0179_093_336_1980_MAR_O_NR_003.SEN3/Oa02_reflectance.nc",
             "title": "Origin asset link",
             "type": "application/x-netcdf"
            }
           },
           "href": "https://hda.data.destination-earth.eu/stac/collections/EO.EUM.DAT.SENTINEL-3.OL_2_WFR___/items/S3B_OL_2_WFR____20240602T102344_20240602T102644_20240602T122441_0179_093_336_1980_MAR_O_NR_003/download/Oa02_reflectance.nc?provider=dedl",
           "roles": [
            "data"
           ],
           "title": "Oa02_reflectance.nc",
           "type": "application/x-netcdf"
          },
          "Oa03_reflectance.nc": {
           "alternate": {
            "origin": {
             "href": "s3://eodata/Sentinel-3/OLCI/OL_2_WFR___/2024/06/02/S3B_OL_2_WFR____20240602T102344_20240602T102644_20240602T122441_0179_093_336_1980_MAR_O_NR_003.SEN3/Oa03_reflectance.nc",
             "title": "Origin asset link",
             "type": "application/x-netcdf"
            }
           },
           "href": "https://hda.data.destination-earth.eu/stac/collections/EO.EUM.DAT.SENTINEL-3.OL_2_WFR___/items/S3B_OL_2_WFR____20240602T102344_20240602T102644_20240602T122441_0179_093_336_1980_MAR_O_NR_003/download/Oa03_reflectance.nc?provider=dedl",
           "roles": [
            "data"
           ],
           "title": "Oa03_reflectance.nc",
           "type": "application/x-netcdf"
          },
          "Oa04_reflectance.nc": {
           "alternate": {
            "origin": {
             "href": "s3://eodata/Sentinel-3/OLCI/OL_2_WFR___/2024/06/02/S3B_OL_2_WFR____20240602T102344_20240602T102644_20240602T122441_0179_093_336_1980_MAR_O_NR_003.SEN3/Oa04_reflectance.nc",
             "title": "Origin asset link",
             "type": "application/x-netcdf"
            }
           },
           "href": "https://hda.data.destination-earth.eu/stac/collections/EO.EUM.DAT.SENTINEL-3.OL_2_WFR___/items/S3B_OL_2_WFR____20240602T102344_20240602T102644_20240602T122441_0179_093_336_1980_MAR_O_NR_003/download/Oa04_reflectance.nc?provider=dedl",
           "roles": [
            "data"
           ],
           "title": "Oa04_reflectance.nc",
           "type": "application/x-netcdf"
          },
          "Oa05_reflectance.nc": {
           "alternate": {
            "origin": {
             "href": "s3://eodata/Sentinel-3/OLCI/OL_2_WFR___/2024/06/02/S3B_OL_2_WFR____20240602T102344_20240602T102644_20240602T122441_0179_093_336_1980_MAR_O_NR_003.SEN3/Oa05_reflectance.nc",
             "title": "Origin asset link",
             "type": "application/x-netcdf"
            }
           },
           "href": "https://hda.data.destination-earth.eu/stac/collections/EO.EUM.DAT.SENTINEL-3.OL_2_WFR___/items/S3B_OL_2_WFR____20240602T102344_20240602T102644_20240602T122441_0179_093_336_1980_MAR_O_NR_003/download/Oa05_reflectance.nc?provider=dedl",
           "roles": [
            "data"
           ],
           "title": "Oa05_reflectance.nc",
           "type": "application/x-netcdf"
          },
          "Oa06_reflectance.nc": {
           "alternate": {
            "origin": {
             "href": "s3://eodata/Sentinel-3/OLCI/OL_2_WFR___/2024/06/02/S3B_OL_2_WFR____20240602T102344_20240602T102644_20240602T122441_0179_093_336_1980_MAR_O_NR_003.SEN3/Oa06_reflectance.nc",
             "title": "Origin asset link",
             "type": "application/x-netcdf"
            }
           },
           "href": "https://hda.data.destination-earth.eu/stac/collections/EO.EUM.DAT.SENTINEL-3.OL_2_WFR___/items/S3B_OL_2_WFR____20240602T102344_20240602T102644_20240602T122441_0179_093_336_1980_MAR_O_NR_003/download/Oa06_reflectance.nc?provider=dedl",
           "roles": [
            "data"
           ],
           "title": "Oa06_reflectance.nc",
           "type": "application/x-netcdf"
          },
          "Oa07_reflectance.nc": {
           "alternate": {
            "origin": {
             "href": "s3://eodata/Sentinel-3/OLCI/OL_2_WFR___/2024/06/02/S3B_OL_2_WFR____20240602T102344_20240602T102644_20240602T122441_0179_093_336_1980_MAR_O_NR_003.SEN3/Oa07_reflectance.nc",
             "title": "Origin asset link",
             "type": "application/x-netcdf"
            }
           },
           "href": "https://hda.data.destination-earth.eu/stac/collections/EO.EUM.DAT.SENTINEL-3.OL_2_WFR___/items/S3B_OL_2_WFR____20240602T102344_20240602T102644_20240602T122441_0179_093_336_1980_MAR_O_NR_003/download/Oa07_reflectance.nc?provider=dedl",
           "roles": [
            "data"
           ],
           "title": "Oa07_reflectance.nc",
           "type": "application/x-netcdf"
          },
          "Oa08_reflectance.nc": {
           "alternate": {
            "origin": {
             "href": "s3://eodata/Sentinel-3/OLCI/OL_2_WFR___/2024/06/02/S3B_OL_2_WFR____20240602T102344_20240602T102644_20240602T122441_0179_093_336_1980_MAR_O_NR_003.SEN3/Oa08_reflectance.nc",
             "title": "Origin asset link",
             "type": "application/x-netcdf"
            }
           },
           "href": "https://hda.data.destination-earth.eu/stac/collections/EO.EUM.DAT.SENTINEL-3.OL_2_WFR___/items/S3B_OL_2_WFR____20240602T102344_20240602T102644_20240602T122441_0179_093_336_1980_MAR_O_NR_003/download/Oa08_reflectance.nc?provider=dedl",
           "roles": [
            "data"
           ],
           "title": "Oa08_reflectance.nc",
           "type": "application/x-netcdf"
          },
          "Oa09_reflectance.nc": {
           "alternate": {
            "origin": {
             "href": "s3://eodata/Sentinel-3/OLCI/OL_2_WFR___/2024/06/02/S3B_OL_2_WFR____20240602T102344_20240602T102644_20240602T122441_0179_093_336_1980_MAR_O_NR_003.SEN3/Oa09_reflectance.nc",
             "title": "Origin asset link",
             "type": "application/x-netcdf"
            }
           },
           "href": "https://hda.data.destination-earth.eu/stac/collections/EO.EUM.DAT.SENTINEL-3.OL_2_WFR___/items/S3B_OL_2_WFR____20240602T102344_20240602T102644_20240602T122441_0179_093_336_1980_MAR_O_NR_003/download/Oa09_reflectance.nc?provider=dedl",
           "roles": [
            "data"
           ],
           "title": "Oa09_reflectance.nc",
           "type": "application/x-netcdf"
          },
          "Oa10_reflectance.nc": {
           "alternate": {
            "origin": {
             "href": "s3://eodata/Sentinel-3/OLCI/OL_2_WFR___/2024/06/02/S3B_OL_2_WFR____20240602T102344_20240602T102644_20240602T122441_0179_093_336_1980_MAR_O_NR_003.SEN3/Oa10_reflectance.nc",
             "title": "Origin asset link",
             "type": "application/x-netcdf"
            }
           },
           "href": "https://hda.data.destination-earth.eu/stac/collections/EO.EUM.DAT.SENTINEL-3.OL_2_WFR___/items/S3B_OL_2_WFR____20240602T102344_20240602T102644_20240602T122441_0179_093_336_1980_MAR_O_NR_003/download/Oa10_reflectance.nc?provider=dedl",
           "roles": [
            "data"
           ],
           "title": "Oa10_reflectance.nc",
           "type": "application/x-netcdf"
          },
          "Oa11_reflectance.nc": {
           "alternate": {
            "origin": {
             "href": "s3://eodata/Sentinel-3/OLCI/OL_2_WFR___/2024/06/02/S3B_OL_2_WFR____20240602T102344_20240602T102644_20240602T122441_0179_093_336_1980_MAR_O_NR_003.SEN3/Oa11_reflectance.nc",
             "title": "Origin asset link",
             "type": "application/x-netcdf"
            }
           },
           "href": "https://hda.data.destination-earth.eu/stac/collections/EO.EUM.DAT.SENTINEL-3.OL_2_WFR___/items/S3B_OL_2_WFR____20240602T102344_20240602T102644_20240602T122441_0179_093_336_1980_MAR_O_NR_003/download/Oa11_reflectance.nc?provider=dedl",
           "roles": [
            "data"
           ],
           "title": "Oa11_reflectance.nc",
           "type": "application/x-netcdf"
          },
          "Oa12_reflectance.nc": {
           "alternate": {
            "origin": {
             "href": "s3://eodata/Sentinel-3/OLCI/OL_2_WFR___/2024/06/02/S3B_OL_2_WFR____20240602T102344_20240602T102644_20240602T122441_0179_093_336_1980_MAR_O_NR_003.SEN3/Oa12_reflectance.nc",
             "title": "Origin asset link",
             "type": "application/x-netcdf"
            }
           },
           "href": "https://hda.data.destination-earth.eu/stac/collections/EO.EUM.DAT.SENTINEL-3.OL_2_WFR___/items/S3B_OL_2_WFR____20240602T102344_20240602T102644_20240602T122441_0179_093_336_1980_MAR_O_NR_003/download/Oa12_reflectance.nc?provider=dedl",
           "roles": [
            "data"
           ],
           "title": "Oa12_reflectance.nc",
           "type": "application/x-netcdf"
          },
          "Oa16_reflectance.nc": {
           "alternate": {
            "origin": {
             "href": "s3://eodata/Sentinel-3/OLCI/OL_2_WFR___/2024/06/02/S3B_OL_2_WFR____20240602T102344_20240602T102644_20240602T122441_0179_093_336_1980_MAR_O_NR_003.SEN3/Oa16_reflectance.nc",
             "title": "Origin asset link",
             "type": "application/x-netcdf"
            }
           },
           "href": "https://hda.data.destination-earth.eu/stac/collections/EO.EUM.DAT.SENTINEL-3.OL_2_WFR___/items/S3B_OL_2_WFR____20240602T102344_20240602T102644_20240602T122441_0179_093_336_1980_MAR_O_NR_003/download/Oa16_reflectance.nc?provider=dedl",
           "roles": [
            "data"
           ],
           "title": "Oa16_reflectance.nc",
           "type": "application/x-netcdf"
          },
          "Oa17_reflectance.nc": {
           "alternate": {
            "origin": {
             "href": "s3://eodata/Sentinel-3/OLCI/OL_2_WFR___/2024/06/02/S3B_OL_2_WFR____20240602T102344_20240602T102644_20240602T122441_0179_093_336_1980_MAR_O_NR_003.SEN3/Oa17_reflectance.nc",
             "title": "Origin asset link",
             "type": "application/x-netcdf"
            }
           },
           "href": "https://hda.data.destination-earth.eu/stac/collections/EO.EUM.DAT.SENTINEL-3.OL_2_WFR___/items/S3B_OL_2_WFR____20240602T102344_20240602T102644_20240602T122441_0179_093_336_1980_MAR_O_NR_003/download/Oa17_reflectance.nc?provider=dedl",
           "roles": [
            "data"
           ],
           "title": "Oa17_reflectance.nc",
           "type": "application/x-netcdf"
          },
          "Oa18_reflectance.nc": {
           "alternate": {
            "origin": {
             "href": "s3://eodata/Sentinel-3/OLCI/OL_2_WFR___/2024/06/02/S3B_OL_2_WFR____20240602T102344_20240602T102644_20240602T122441_0179_093_336_1980_MAR_O_NR_003.SEN3/Oa18_reflectance.nc",
             "title": "Origin asset link",
             "type": "application/x-netcdf"
            }
           },
           "href": "https://hda.data.destination-earth.eu/stac/collections/EO.EUM.DAT.SENTINEL-3.OL_2_WFR___/items/S3B_OL_2_WFR____20240602T102344_20240602T102644_20240602T122441_0179_093_336_1980_MAR_O_NR_003/download/Oa18_reflectance.nc?provider=dedl",
           "roles": [
            "data"
           ],
           "title": "Oa18_reflectance.nc",
           "type": "application/x-netcdf"
          },
          "Oa21_reflectance.nc": {
           "alternate": {
            "origin": {
             "href": "s3://eodata/Sentinel-3/OLCI/OL_2_WFR___/2024/06/02/S3B_OL_2_WFR____20240602T102344_20240602T102644_20240602T122441_0179_093_336_1980_MAR_O_NR_003.SEN3/Oa21_reflectance.nc",
             "title": "Origin asset link",
             "type": "application/x-netcdf"
            }
           },
           "href": "https://hda.data.destination-earth.eu/stac/collections/EO.EUM.DAT.SENTINEL-3.OL_2_WFR___/items/S3B_OL_2_WFR____20240602T102344_20240602T102644_20240602T122441_0179_093_336_1980_MAR_O_NR_003/download/Oa21_reflectance.nc?provider=dedl",
           "roles": [
            "data"
           ],
           "title": "Oa21_reflectance.nc",
           "type": "application/x-netcdf"
          },
          "browse.jpg": {
           "alternate": {
            "origin": {
             "href": "s3://eodata/Sentinel-3/OLCI/OL_2_WFR___/2024/06/02/S3B_OL_2_WFR____20240602T102344_20240602T102644_20240602T122441_0179_093_336_1980_MAR_O_NR_003.SEN3/browse.jpg",
             "title": "Origin asset link",
             "type": "image/jpeg"
            }
           },
           "href": "https://hda.data.destination-earth.eu/stac/collections/EO.EUM.DAT.SENTINEL-3.OL_2_WFR___/items/S3B_OL_2_WFR____20240602T102344_20240602T102644_20240602T122441_0179_093_336_1980_MAR_O_NR_003/download/browse.jpg?provider=dedl",
           "roles": [
            "metadata"
           ],
           "title": "browse.jpg",
           "type": "image/jpeg"
          },
          "chl_nn.nc": {
           "alternate": {
            "origin": {
             "href": "s3://eodata/Sentinel-3/OLCI/OL_2_WFR___/2024/06/02/S3B_OL_2_WFR____20240602T102344_20240602T102644_20240602T122441_0179_093_336_1980_MAR_O_NR_003.SEN3/chl_nn.nc",
             "title": "Origin asset link",
             "type": "application/x-netcdf"
            }
           },
           "href": "https://hda.data.destination-earth.eu/stac/collections/EO.EUM.DAT.SENTINEL-3.OL_2_WFR___/items/S3B_OL_2_WFR____20240602T102344_20240602T102644_20240602T122441_0179_093_336_1980_MAR_O_NR_003/download/chl_nn.nc?provider=dedl",
           "roles": [
            "data"
           ],
           "title": "chl_nn.nc",
           "type": "application/x-netcdf"
          },
          "chl_oc4me.nc": {
           "alternate": {
            "origin": {
             "href": "s3://eodata/Sentinel-3/OLCI/OL_2_WFR___/2024/06/02/S3B_OL_2_WFR____20240602T102344_20240602T102644_20240602T122441_0179_093_336_1980_MAR_O_NR_003.SEN3/chl_oc4me.nc",
             "title": "Origin asset link",
             "type": "application/x-netcdf"
            }
           },
           "href": "https://hda.data.destination-earth.eu/stac/collections/EO.EUM.DAT.SENTINEL-3.OL_2_WFR___/items/S3B_OL_2_WFR____20240602T102344_20240602T102644_20240602T122441_0179_093_336_1980_MAR_O_NR_003/download/chl_oc4me.nc?provider=dedl",
           "roles": [
            "data"
           ],
           "title": "chl_oc4me.nc",
           "type": "application/x-netcdf"
          },
          "downloadLink": {
           "alternate": {
            "origin": {
             "href": "https://zipper.creodias.eu/odata/v1/Products(4e1603bf-de62-4813-87bf-f1b57169db3b)/$value",
             "title": "Origin asset link"
            }
           },
           "href": "https://hda.data.destination-earth.eu/stac/collections/EO.EUM.DAT.SENTINEL-3.OL_2_WFR___/items/S3B_OL_2_WFR____20240602T102344_20240602T102644_20240602T122441_0179_093_336_1980_MAR_O_NR_003/download?provider=dedl",
           "storage:tier": "ONLINE",
           "title": "Download link",
           "type": "application/zip"
          },
          "geo_coordinates.nc": {
           "alternate": {
            "origin": {
             "href": "s3://eodata/Sentinel-3/OLCI/OL_2_WFR___/2024/06/02/S3B_OL_2_WFR____20240602T102344_20240602T102644_20240602T122441_0179_093_336_1980_MAR_O_NR_003.SEN3/geo_coordinates.nc",
             "title": "Origin asset link",
             "type": "application/x-netcdf"
            }
           },
           "href": "https://hda.data.destination-earth.eu/stac/collections/EO.EUM.DAT.SENTINEL-3.OL_2_WFR___/items/S3B_OL_2_WFR____20240602T102344_20240602T102644_20240602T122441_0179_093_336_1980_MAR_O_NR_003/download/geo_coordinates.nc?provider=dedl",
           "roles": [
            "data"
           ],
           "title": "geo_coordinates.nc",
           "type": "application/x-netcdf"
          },
          "instrument_data.nc": {
           "alternate": {
            "origin": {
             "href": "s3://eodata/Sentinel-3/OLCI/OL_2_WFR___/2024/06/02/S3B_OL_2_WFR____20240602T102344_20240602T102644_20240602T122441_0179_093_336_1980_MAR_O_NR_003.SEN3/instrument_data.nc",
             "title": "Origin asset link",
             "type": "application/x-netcdf"
            }
           },
           "href": "https://hda.data.destination-earth.eu/stac/collections/EO.EUM.DAT.SENTINEL-3.OL_2_WFR___/items/S3B_OL_2_WFR____20240602T102344_20240602T102644_20240602T122441_0179_093_336_1980_MAR_O_NR_003/download/instrument_data.nc?provider=dedl",
           "roles": [
            "data"
           ],
           "title": "instrument_data.nc",
           "type": "application/x-netcdf"
          },
          "iop_lsd.nc": {
           "alternate": {
            "origin": {
             "href": "s3://eodata/Sentinel-3/OLCI/OL_2_WFR___/2024/06/02/S3B_OL_2_WFR____20240602T102344_20240602T102644_20240602T122441_0179_093_336_1980_MAR_O_NR_003.SEN3/iop_lsd.nc",
             "title": "Origin asset link",
             "type": "application/x-netcdf"
            }
           },
           "href": "https://hda.data.destination-earth.eu/stac/collections/EO.EUM.DAT.SENTINEL-3.OL_2_WFR___/items/S3B_OL_2_WFR____20240602T102344_20240602T102644_20240602T122441_0179_093_336_1980_MAR_O_NR_003/download/iop_lsd.nc?provider=dedl",
           "roles": [
            "data"
           ],
           "title": "iop_lsd.nc",
           "type": "application/x-netcdf"
          },
          "iop_nn.nc": {
           "alternate": {
            "origin": {
             "href": "s3://eodata/Sentinel-3/OLCI/OL_2_WFR___/2024/06/02/S3B_OL_2_WFR____20240602T102344_20240602T102644_20240602T122441_0179_093_336_1980_MAR_O_NR_003.SEN3/iop_nn.nc",
             "title": "Origin asset link",
             "type": "application/x-netcdf"
            }
           },
           "href": "https://hda.data.destination-earth.eu/stac/collections/EO.EUM.DAT.SENTINEL-3.OL_2_WFR___/items/S3B_OL_2_WFR____20240602T102344_20240602T102644_20240602T122441_0179_093_336_1980_MAR_O_NR_003/download/iop_nn.nc?provider=dedl",
           "roles": [
            "data"
           ],
           "title": "iop_nn.nc",
           "type": "application/x-netcdf"
          },
          "iwv.nc": {
           "alternate": {
            "origin": {
             "href": "s3://eodata/Sentinel-3/OLCI/OL_2_WFR___/2024/06/02/S3B_OL_2_WFR____20240602T102344_20240602T102644_20240602T122441_0179_093_336_1980_MAR_O_NR_003.SEN3/iwv.nc",
             "title": "Origin asset link",
             "type": "application/x-netcdf"
            }
           },
           "href": "https://hda.data.destination-earth.eu/stac/collections/EO.EUM.DAT.SENTINEL-3.OL_2_WFR___/items/S3B_OL_2_WFR____20240602T102344_20240602T102644_20240602T122441_0179_093_336_1980_MAR_O_NR_003/download/iwv.nc?provider=dedl",
           "roles": [
            "data"
           ],
           "title": "iwv.nc",
           "type": "application/x-netcdf"
          },
          "manifest.xml": {
           "alternate": {
            "origin": {
             "href": "s3://eodata/Sentinel-3/OLCI/OL_2_WFR___/2024/06/02/S3B_OL_2_WFR____20240602T102344_20240602T102644_20240602T122441_0179_093_336_1980_MAR_O_NR_003.SEN3/manifest.xml",
             "title": "Origin asset link",
             "type": "text/xml"
            }
           },
           "href": "https://hda.data.destination-earth.eu/stac/collections/EO.EUM.DAT.SENTINEL-3.OL_2_WFR___/items/S3B_OL_2_WFR____20240602T102344_20240602T102644_20240602T122441_0179_093_336_1980_MAR_O_NR_003/download/manifest.xml?provider=dedl",
           "roles": [
            "metadata"
           ],
           "title": "manifest.xml",
           "type": "text/xml"
          },
          "par.nc": {
           "alternate": {
            "origin": {
             "href": "s3://eodata/Sentinel-3/OLCI/OL_2_WFR___/2024/06/02/S3B_OL_2_WFR____20240602T102344_20240602T102644_20240602T122441_0179_093_336_1980_MAR_O_NR_003.SEN3/par.nc",
             "title": "Origin asset link",
             "type": "application/x-netcdf"
            }
           },
           "href": "https://hda.data.destination-earth.eu/stac/collections/EO.EUM.DAT.SENTINEL-3.OL_2_WFR___/items/S3B_OL_2_WFR____20240602T102344_20240602T102644_20240602T122441_0179_093_336_1980_MAR_O_NR_003/download/par.nc?provider=dedl",
           "roles": [
            "data"
           ],
           "title": "par.nc",
           "type": "application/x-netcdf"
          },
          "tie_geo_coordinates.nc": {
           "alternate": {
            "origin": {
             "href": "s3://eodata/Sentinel-3/OLCI/OL_2_WFR___/2024/06/02/S3B_OL_2_WFR____20240602T102344_20240602T102644_20240602T122441_0179_093_336_1980_MAR_O_NR_003.SEN3/tie_geo_coordinates.nc",
             "title": "Origin asset link",
             "type": "application/x-netcdf"
            }
           },
           "href": "https://hda.data.destination-earth.eu/stac/collections/EO.EUM.DAT.SENTINEL-3.OL_2_WFR___/items/S3B_OL_2_WFR____20240602T102344_20240602T102644_20240602T122441_0179_093_336_1980_MAR_O_NR_003/download/tie_geo_coordinates.nc?provider=dedl",
           "roles": [
            "data"
           ],
           "title": "tie_geo_coordinates.nc",
           "type": "application/x-netcdf"
          },
          "tie_geometries.nc": {
           "alternate": {
            "origin": {
             "href": "s3://eodata/Sentinel-3/OLCI/OL_2_WFR___/2024/06/02/S3B_OL_2_WFR____20240602T102344_20240602T102644_20240602T122441_0179_093_336_1980_MAR_O_NR_003.SEN3/tie_geometries.nc",
             "title": "Origin asset link",
             "type": "application/x-netcdf"
            }
           },
           "href": "https://hda.data.destination-earth.eu/stac/collections/EO.EUM.DAT.SENTINEL-3.OL_2_WFR___/items/S3B_OL_2_WFR____20240602T102344_20240602T102644_20240602T122441_0179_093_336_1980_MAR_O_NR_003/download/tie_geometries.nc?provider=dedl",
           "roles": [
            "data"
           ],
           "title": "tie_geometries.nc",
           "type": "application/x-netcdf"
          },
          "tie_meteo.nc": {
           "alternate": {
            "origin": {
             "href": "s3://eodata/Sentinel-3/OLCI/OL_2_WFR___/2024/06/02/S3B_OL_2_WFR____20240602T102344_20240602T102644_20240602T122441_0179_093_336_1980_MAR_O_NR_003.SEN3/tie_meteo.nc",
             "title": "Origin asset link",
             "type": "application/x-netcdf"
            }
           },
           "href": "https://hda.data.destination-earth.eu/stac/collections/EO.EUM.DAT.SENTINEL-3.OL_2_WFR___/items/S3B_OL_2_WFR____20240602T102344_20240602T102644_20240602T122441_0179_093_336_1980_MAR_O_NR_003/download/tie_meteo.nc?provider=dedl",
           "roles": [
            "data"
           ],
           "title": "tie_meteo.nc",
           "type": "application/x-netcdf"
          },
          "time_coordinates.nc": {
           "alternate": {
            "origin": {
             "href": "s3://eodata/Sentinel-3/OLCI/OL_2_WFR___/2024/06/02/S3B_OL_2_WFR____20240602T102344_20240602T102644_20240602T122441_0179_093_336_1980_MAR_O_NR_003.SEN3/time_coordinates.nc",
             "title": "Origin asset link",
             "type": "application/x-netcdf"
            }
           },
           "href": "https://hda.data.destination-earth.eu/stac/collections/EO.EUM.DAT.SENTINEL-3.OL_2_WFR___/items/S3B_OL_2_WFR____20240602T102344_20240602T102644_20240602T122441_0179_093_336_1980_MAR_O_NR_003/download/time_coordinates.nc?provider=dedl",
           "roles": [
            "data"
           ],
           "title": "time_coordinates.nc",
           "type": "application/x-netcdf"
          },
          "trsp.nc": {
           "alternate": {
            "origin": {
             "href": "s3://eodata/Sentinel-3/OLCI/OL_2_WFR___/2024/06/02/S3B_OL_2_WFR____20240602T102344_20240602T102644_20240602T122441_0179_093_336_1980_MAR_O_NR_003.SEN3/trsp.nc",
             "title": "Origin asset link",
             "type": "application/x-netcdf"
            }
           },
           "href": "https://hda.data.destination-earth.eu/stac/collections/EO.EUM.DAT.SENTINEL-3.OL_2_WFR___/items/S3B_OL_2_WFR____20240602T102344_20240602T102644_20240602T122441_0179_093_336_1980_MAR_O_NR_003/download/trsp.nc?provider=dedl",
           "roles": [
            "data"
           ],
           "title": "trsp.nc",
           "type": "application/x-netcdf"
          },
          "tsm_nn.nc": {
           "alternate": {
            "origin": {
             "href": "s3://eodata/Sentinel-3/OLCI/OL_2_WFR___/2024/06/02/S3B_OL_2_WFR____20240602T102344_20240602T102644_20240602T122441_0179_093_336_1980_MAR_O_NR_003.SEN3/tsm_nn.nc",
             "title": "Origin asset link",
             "type": "application/x-netcdf"
            }
           },
           "href": "https://hda.data.destination-earth.eu/stac/collections/EO.EUM.DAT.SENTINEL-3.OL_2_WFR___/items/S3B_OL_2_WFR____20240602T102344_20240602T102644_20240602T122441_0179_093_336_1980_MAR_O_NR_003/download/tsm_nn.nc?provider=dedl",
           "roles": [
            "data"
           ],
           "title": "tsm_nn.nc",
           "type": "application/x-netcdf"
          },
          "w_aer.nc": {
           "alternate": {
            "origin": {
             "href": "s3://eodata/Sentinel-3/OLCI/OL_2_WFR___/2024/06/02/S3B_OL_2_WFR____20240602T102344_20240602T102644_20240602T122441_0179_093_336_1980_MAR_O_NR_003.SEN3/w_aer.nc",
             "title": "Origin asset link",
             "type": "application/x-netcdf"
            }
           },
           "href": "https://hda.data.destination-earth.eu/stac/collections/EO.EUM.DAT.SENTINEL-3.OL_2_WFR___/items/S3B_OL_2_WFR____20240602T102344_20240602T102644_20240602T122441_0179_093_336_1980_MAR_O_NR_003/download/w_aer.nc?provider=dedl",
           "roles": [
            "data"
           ],
           "title": "w_aer.nc",
           "type": "application/x-netcdf"
          },
          "wqsf.nc": {
           "alternate": {
            "origin": {
             "href": "s3://eodata/Sentinel-3/OLCI/OL_2_WFR___/2024/06/02/S3B_OL_2_WFR____20240602T102344_20240602T102644_20240602T122441_0179_093_336_1980_MAR_O_NR_003.SEN3/wqsf.nc",
             "title": "Origin asset link",
             "type": "application/x-netcdf"
            }
           },
           "href": "https://hda.data.destination-earth.eu/stac/collections/EO.EUM.DAT.SENTINEL-3.OL_2_WFR___/items/S3B_OL_2_WFR____20240602T102344_20240602T102644_20240602T122441_0179_093_336_1980_MAR_O_NR_003/download/wqsf.nc?provider=dedl",
           "roles": [
            "data"
           ],
           "title": "wqsf.nc",
           "type": "application/x-netcdf"
          },
          "xfdumanifest.xml": {
           "alternate": {
            "origin": {
             "href": "s3://eodata/Sentinel-3/OLCI/OL_2_WFR___/2024/06/02/S3B_OL_2_WFR____20240602T102344_20240602T102644_20240602T122441_0179_093_336_1980_MAR_O_NR_003.SEN3/xfdumanifest.xml",
             "title": "Origin asset link",
             "type": "text/xml"
            }
           },
           "href": "https://hda.data.destination-earth.eu/stac/collections/EO.EUM.DAT.SENTINEL-3.OL_2_WFR___/items/S3B_OL_2_WFR____20240602T102344_20240602T102644_20240602T122441_0179_093_336_1980_MAR_O_NR_003/download/xfdumanifest.xml?provider=dedl",
           "roles": [
            "metadata"
           ],
           "title": "xfdumanifest.xml",
           "type": "text/xml"
          }
         },
         "bbox": [
          -9.71306,
          49.8948,
          15.8,
          62.9194
         ],
         "collection": "EO.EUM.DAT.SENTINEL-3.OL_2_WFR___",
         "geometry": {
          "coordinates": [
           [
            [
             -9.71306,
             52.4641
            ],
            [
             -8.70072,
             52.4037
            ],
            [
             -7.68378,
             52.3327
            ],
            [
             -6.68289,
             52.2541
            ],
            [
             -5.68671,
             52.1698
            ],
            [
             -4.68737,
             52.0739
            ],
            [
             -3.693,
             51.9696
            ],
            [
             -2.70414,
             51.8567
            ],
            [
             -1.72544,
             51.7364
            ],
            [
             -0.747016,
             51.61
            ],
            [
             0.2254,
             51.471
            ],
            [
             1.18874,
             51.3267
            ],
            [
             2.14956,
             51.1765
            ],
            [
             3.10281,
             51.0145
            ],
            [
             4.05002,
             50.8463
            ],
            [
             4.98893,
             50.6708
            ],
            [
             5.92057,
             50.4874
            ],
            [
             6.84428,
             50.2971
            ],
            [
             7.76126,
             50.0992
            ],
            [
             8.67429,
             49.8948
            ],
            [
             10.157,
             52.4396
            ],
            [
             11.8135,
             54.9726
            ],
            [
             13.6781,
             57.4824
            ],
            [
             15.8,
             59.9632
            ],
            [
             14.6663,
             60.2177
            ],
            [
             13.5156,
             60.4638
            ],
            [
             12.3484,
             60.6995
            ],
            [
             11.1664,
             60.9248
            ],
            [
             9.96994,
             61.139
            ],
            [
             8.75713,
             61.3425
            ],
            [
             7.52929,
             61.5368
            ],
            [
             6.27994,
             61.7164
            ],
            [
             5.01698,
             61.8871
            ],
            [
             3.74148,
             62.0457
            ],
            [
             2.45261,
             62.193
            ],
            [
             1.15573,
             62.328
            ],
            [
             -0.151109,
             62.4508
            ],
            [
             -1.47061,
             62.5611
            ],
            [
             -2.80083,
             62.6591
            ],
            [
             -4.14336,
             62.7421
            ],
            [
             -5.48946,
             62.8146
            ],
            [
             -6.83351,
             62.874
            ],
            [
             -8.19208,
             62.9194
            ],
            [
             -8.56199,
             60.3058
            ],
            [
             -8.93968,
             57.6908
            ],
            [
             -9.3239,
             55.0744
            ],
            [
             -9.71306,
             52.4641
            ]
           ]
          ],
          "type": "Polygon"
         },
         "id": "S3B_OL_2_WFR____20240602T102344_20240602T102644_20240602T122441_0179_093_336_1980_MAR_O_NR_003",
         "links": [
          {
           "href": "https://hda.data.destination-earth.eu/stac/collections/EO.EUM.DAT.SENTINEL-3.OL_2_WFR___/items/S3B_OL_2_WFR____20240602T102344_20240602T102644_20240602T122441_0179_093_336_1980_MAR_O_NR_003",
           "rel": "self",
           "title": "S3B_OL_2_WFR____20240602T102344_20240602T102644_20240602T122441_0179_093_336_1980_MAR_O_NR_003"
          },
          {
           "href": "https://hda.data.destination-earth.eu/stac/",
           "rel": "root"
          },
          {
           "href": "https://hda.data.destination-earth.eu/stac/collections/EO.EUM.DAT.SENTINEL-3.OL_2_WFR___",
           "rel": "parent",
           "title": "EO.EUM.DAT.SENTINEL-3.OL_2_WFR___"
          },
          {
           "href": "https://hda.data.destination-earth.eu/stac/collections/EO.EUM.DAT.SENTINEL-3.OL_2_WFR___",
           "rel": "collection",
           "title": "EO.EUM.DAT.SENTINEL-3.OL_2_WFR___"
          }
         ],
         "properties": {
          "constellation": "SENTINEL-3",
          "datetime": "2024-06-02T10:23:43.518340Z",
          "dedl:alias": "EO.EUM.DAT.SENTINEL-3.OL_2_WFR___",
          "dedl:baselineCollection": "003",
          "dedl:beginningDateTime": "2024-06-02T10:23:43.518340Z",
          "dedl:endingDateTime": "2024-06-02T10:26:43.518340Z",
          "dedl:productIdentifier": "/eodata/Sentinel-3/OLCI/OL_2_WFR___/2024/06/02/S3B_OL_2_WFR____20240602T102344_20240602T102644_20240602T122441_0179_093_336_1980_MAR_O_NR_003.SEN3",
          "dedl:scope": {
           "discover": null,
           "download": "hda-public-data-access",
           "search": "hda-public-data-access"
          },
          "dedl:timeliness": "NR",
          "dedl:uid": "4e1603bf-de62-4813-87bf-f1b57169db3b",
          "description": "OLCI (Ocean and Land Colour Instrument) Ocean Colour Geophysical Products. Full Resolution: 300m at nadir. All Sentinel-3 NRT products are available at pick-up point in less than 3h. Level 2 marine products include the following: * water-leaving reflectances in 16 bands, Oa**_reflectance (Baseline Atmospheric Correction (BAC) algorithm, bands: 400, 412, 442, 490, 510, 560, 620, 665, 674, 681, 709, 754, 779, 865, 885, 1024 nanometer (nm)); *algal pigment concentration in clear waters, chl_oc4me (BAC and maximum band ratio algorithm, log10 scaled); *algal pigment concentration in turbid waters, chl_nn (neural net algorithm, log10 scaled); *total suspended matter concentration, tsm_nn (neural net algorithm, log10 scaled); *diffuse attenuation coefficient Kd of downward irradiance at 490 nm, trsp (BAC and M07 algorithm, log10 scaled); *absorption coefficient at 443 nm of coloured detrital and dissolved organic matter, iop_nn (neural net algorithm, log10 scaled); *instantaneous photosynthetically active radiation, PAR (BAC and clear-sky ocean algorithm); *aerosol optical thickness T865 and aerosol Angstrom exponent A865, w_aer (BAC algorithm, A for bands 779 and 865 nm) *integrated water vapour column, iwv (1D-Var algorithm). The geophysical products are accompanied by error estimate products. Pixel classification, quality and science flags, as well as meteorological, geometry and geolocation data at tie points are provided.\n\n- All Sentinel-3 NRT products are available at pick-up point in less than 3h\n- All Sentinel-3 Non Time Critical (NTC) products are available at pick-up point in less than 30 days\nSentinel-3 is part of a series of Sentinel satellites, under the umbrella of the EU Copernicus programme.",
          "end_datetime": "2024-06-02T10:26:43.518340Z",
          "instruments": [
           "OLCI"
          ],
          "license": "proprietary",
          "order:status": "succeeded",
          "platform": "SENTINEL-3A,SENTINEL-3B",
          "processing:level": 2,
          "providers": [
           {
            "description": "DestineE Data Lake Fresh Data Pool",
            "name": "dedl",
            "priority": 1,
            "roles": [
             "host"
            ],
            "url": "https://creodias.eu/"
           }
          ],
          "published": "2024-06-02T12:33:53.769649Z",
          "sar:instrument_mode": "Earth Observation",
          "sar:product_type": "OL_2_WFR___",
          "sat:absolute_orbit": 31793,
          "sat:orbit_state": "DESCENDING",
          "sat:relative_orbit": 336,
          "start_datetime": "2024-06-02T10:23:43.518340Z",
          "updated": "2024-06-02T12:44:08.482067Z"
         },
         "stac_extensions": [
          "https://stac-extensions.github.io/timestamps/v1.0.0/schema.json",
          "https://stac-extensions.github.io/processing/v1.0.0/schema.json",
          "https://stac-extensions.github.io/sat/v1.0.0/schema.json",
          "https://stac-extensions.github.io/sar/v1.0.0/schema.json",
          "https://stac-extensions.github.io/order/v1.1.0/schema.json"
         ],
         "stac_version": "1.0.0",
         "type": "Feature"
        },
        {
         "assets": {
          "EOPMetadata.xml": {
           "alternate": {
            "origin": {
             "href": "s3://eodata/Sentinel-3/OLCI/OL_2_WFR___/2024/06/02/S3A_OL_2_WFR____20240602T105936_20240602T110236_20240603T185700_0180_113_094_1800_MAR_O_NT_003.SEN3/EOPMetadata.xml",
             "title": "Origin asset link",
             "type": "text/xml"
            }
           },
           "href": "https://hda.data.destination-earth.eu/stac/collections/EO.EUM.DAT.SENTINEL-3.OL_2_WFR___/items/S3A_OL_2_WFR____20240602T105936_20240602T110236_20240603T185700_0180_113_094_1800_MAR_O_NT_003/download/EOPMetadata.xml?provider=dedl",
           "roles": [
            "metadata"
           ],
           "title": "EOPMetadata.xml",
           "type": "text/xml"
          },
          "Oa01_reflectance.nc": {
           "alternate": {
            "origin": {
             "href": "s3://eodata/Sentinel-3/OLCI/OL_2_WFR___/2024/06/02/S3A_OL_2_WFR____20240602T105936_20240602T110236_20240603T185700_0180_113_094_1800_MAR_O_NT_003.SEN3/Oa01_reflectance.nc",
             "title": "Origin asset link",
             "type": "application/x-netcdf"
            }
           },
           "href": "https://hda.data.destination-earth.eu/stac/collections/EO.EUM.DAT.SENTINEL-3.OL_2_WFR___/items/S3A_OL_2_WFR____20240602T105936_20240602T110236_20240603T185700_0180_113_094_1800_MAR_O_NT_003/download/Oa01_reflectance.nc?provider=dedl",
           "roles": [
            "data"
           ],
           "title": "Oa01_reflectance.nc",
           "type": "application/x-netcdf"
          },
          "Oa02_reflectance.nc": {
           "alternate": {
            "origin": {
             "href": "s3://eodata/Sentinel-3/OLCI/OL_2_WFR___/2024/06/02/S3A_OL_2_WFR____20240602T105936_20240602T110236_20240603T185700_0180_113_094_1800_MAR_O_NT_003.SEN3/Oa02_reflectance.nc",
             "title": "Origin asset link",
             "type": "application/x-netcdf"
            }
           },
           "href": "https://hda.data.destination-earth.eu/stac/collections/EO.EUM.DAT.SENTINEL-3.OL_2_WFR___/items/S3A_OL_2_WFR____20240602T105936_20240602T110236_20240603T185700_0180_113_094_1800_MAR_O_NT_003/download/Oa02_reflectance.nc?provider=dedl",
           "roles": [
            "data"
           ],
           "title": "Oa02_reflectance.nc",
           "type": "application/x-netcdf"
          },
          "Oa03_reflectance.nc": {
           "alternate": {
            "origin": {
             "href": "s3://eodata/Sentinel-3/OLCI/OL_2_WFR___/2024/06/02/S3A_OL_2_WFR____20240602T105936_20240602T110236_20240603T185700_0180_113_094_1800_MAR_O_NT_003.SEN3/Oa03_reflectance.nc",
             "title": "Origin asset link",
             "type": "application/x-netcdf"
            }
           },
           "href": "https://hda.data.destination-earth.eu/stac/collections/EO.EUM.DAT.SENTINEL-3.OL_2_WFR___/items/S3A_OL_2_WFR____20240602T105936_20240602T110236_20240603T185700_0180_113_094_1800_MAR_O_NT_003/download/Oa03_reflectance.nc?provider=dedl",
           "roles": [
            "data"
           ],
           "title": "Oa03_reflectance.nc",
           "type": "application/x-netcdf"
          },
          "Oa04_reflectance.nc": {
           "alternate": {
            "origin": {
             "href": "s3://eodata/Sentinel-3/OLCI/OL_2_WFR___/2024/06/02/S3A_OL_2_WFR____20240602T105936_20240602T110236_20240603T185700_0180_113_094_1800_MAR_O_NT_003.SEN3/Oa04_reflectance.nc",
             "title": "Origin asset link",
             "type": "application/x-netcdf"
            }
           },
           "href": "https://hda.data.destination-earth.eu/stac/collections/EO.EUM.DAT.SENTINEL-3.OL_2_WFR___/items/S3A_OL_2_WFR____20240602T105936_20240602T110236_20240603T185700_0180_113_094_1800_MAR_O_NT_003/download/Oa04_reflectance.nc?provider=dedl",
           "roles": [
            "data"
           ],
           "title": "Oa04_reflectance.nc",
           "type": "application/x-netcdf"
          },
          "Oa05_reflectance.nc": {
           "alternate": {
            "origin": {
             "href": "s3://eodata/Sentinel-3/OLCI/OL_2_WFR___/2024/06/02/S3A_OL_2_WFR____20240602T105936_20240602T110236_20240603T185700_0180_113_094_1800_MAR_O_NT_003.SEN3/Oa05_reflectance.nc",
             "title": "Origin asset link",
             "type": "application/x-netcdf"
            }
           },
           "href": "https://hda.data.destination-earth.eu/stac/collections/EO.EUM.DAT.SENTINEL-3.OL_2_WFR___/items/S3A_OL_2_WFR____20240602T105936_20240602T110236_20240603T185700_0180_113_094_1800_MAR_O_NT_003/download/Oa05_reflectance.nc?provider=dedl",
           "roles": [
            "data"
           ],
           "title": "Oa05_reflectance.nc",
           "type": "application/x-netcdf"
          },
          "Oa06_reflectance.nc": {
           "alternate": {
            "origin": {
             "href": "s3://eodata/Sentinel-3/OLCI/OL_2_WFR___/2024/06/02/S3A_OL_2_WFR____20240602T105936_20240602T110236_20240603T185700_0180_113_094_1800_MAR_O_NT_003.SEN3/Oa06_reflectance.nc",
             "title": "Origin asset link",
             "type": "application/x-netcdf"
            }
           },
           "href": "https://hda.data.destination-earth.eu/stac/collections/EO.EUM.DAT.SENTINEL-3.OL_2_WFR___/items/S3A_OL_2_WFR____20240602T105936_20240602T110236_20240603T185700_0180_113_094_1800_MAR_O_NT_003/download/Oa06_reflectance.nc?provider=dedl",
           "roles": [
            "data"
           ],
           "title": "Oa06_reflectance.nc",
           "type": "application/x-netcdf"
          },
          "Oa07_reflectance.nc": {
           "alternate": {
            "origin": {
             "href": "s3://eodata/Sentinel-3/OLCI/OL_2_WFR___/2024/06/02/S3A_OL_2_WFR____20240602T105936_20240602T110236_20240603T185700_0180_113_094_1800_MAR_O_NT_003.SEN3/Oa07_reflectance.nc",
             "title": "Origin asset link",
             "type": "application/x-netcdf"
            }
           },
           "href": "https://hda.data.destination-earth.eu/stac/collections/EO.EUM.DAT.SENTINEL-3.OL_2_WFR___/items/S3A_OL_2_WFR____20240602T105936_20240602T110236_20240603T185700_0180_113_094_1800_MAR_O_NT_003/download/Oa07_reflectance.nc?provider=dedl",
           "roles": [
            "data"
           ],
           "title": "Oa07_reflectance.nc",
           "type": "application/x-netcdf"
          },
          "Oa08_reflectance.nc": {
           "alternate": {
            "origin": {
             "href": "s3://eodata/Sentinel-3/OLCI/OL_2_WFR___/2024/06/02/S3A_OL_2_WFR____20240602T105936_20240602T110236_20240603T185700_0180_113_094_1800_MAR_O_NT_003.SEN3/Oa08_reflectance.nc",
             "title": "Origin asset link",
             "type": "application/x-netcdf"
            }
           },
           "href": "https://hda.data.destination-earth.eu/stac/collections/EO.EUM.DAT.SENTINEL-3.OL_2_WFR___/items/S3A_OL_2_WFR____20240602T105936_20240602T110236_20240603T185700_0180_113_094_1800_MAR_O_NT_003/download/Oa08_reflectance.nc?provider=dedl",
           "roles": [
            "data"
           ],
           "title": "Oa08_reflectance.nc",
           "type": "application/x-netcdf"
          },
          "Oa09_reflectance.nc": {
           "alternate": {
            "origin": {
             "href": "s3://eodata/Sentinel-3/OLCI/OL_2_WFR___/2024/06/02/S3A_OL_2_WFR____20240602T105936_20240602T110236_20240603T185700_0180_113_094_1800_MAR_O_NT_003.SEN3/Oa09_reflectance.nc",
             "title": "Origin asset link",
             "type": "application/x-netcdf"
            }
           },
           "href": "https://hda.data.destination-earth.eu/stac/collections/EO.EUM.DAT.SENTINEL-3.OL_2_WFR___/items/S3A_OL_2_WFR____20240602T105936_20240602T110236_20240603T185700_0180_113_094_1800_MAR_O_NT_003/download/Oa09_reflectance.nc?provider=dedl",
           "roles": [
            "data"
           ],
           "title": "Oa09_reflectance.nc",
           "type": "application/x-netcdf"
          },
          "Oa10_reflectance.nc": {
           "alternate": {
            "origin": {
             "href": "s3://eodata/Sentinel-3/OLCI/OL_2_WFR___/2024/06/02/S3A_OL_2_WFR____20240602T105936_20240602T110236_20240603T185700_0180_113_094_1800_MAR_O_NT_003.SEN3/Oa10_reflectance.nc",
             "title": "Origin asset link",
             "type": "application/x-netcdf"
            }
           },
           "href": "https://hda.data.destination-earth.eu/stac/collections/EO.EUM.DAT.SENTINEL-3.OL_2_WFR___/items/S3A_OL_2_WFR____20240602T105936_20240602T110236_20240603T185700_0180_113_094_1800_MAR_O_NT_003/download/Oa10_reflectance.nc?provider=dedl",
           "roles": [
            "data"
           ],
           "title": "Oa10_reflectance.nc",
           "type": "application/x-netcdf"
          },
          "Oa11_reflectance.nc": {
           "alternate": {
            "origin": {
             "href": "s3://eodata/Sentinel-3/OLCI/OL_2_WFR___/2024/06/02/S3A_OL_2_WFR____20240602T105936_20240602T110236_20240603T185700_0180_113_094_1800_MAR_O_NT_003.SEN3/Oa11_reflectance.nc",
             "title": "Origin asset link",
             "type": "application/x-netcdf"
            }
           },
           "href": "https://hda.data.destination-earth.eu/stac/collections/EO.EUM.DAT.SENTINEL-3.OL_2_WFR___/items/S3A_OL_2_WFR____20240602T105936_20240602T110236_20240603T185700_0180_113_094_1800_MAR_O_NT_003/download/Oa11_reflectance.nc?provider=dedl",
           "roles": [
            "data"
           ],
           "title": "Oa11_reflectance.nc",
           "type": "application/x-netcdf"
          },
          "Oa12_reflectance.nc": {
           "alternate": {
            "origin": {
             "href": "s3://eodata/Sentinel-3/OLCI/OL_2_WFR___/2024/06/02/S3A_OL_2_WFR____20240602T105936_20240602T110236_20240603T185700_0180_113_094_1800_MAR_O_NT_003.SEN3/Oa12_reflectance.nc",
             "title": "Origin asset link",
             "type": "application/x-netcdf"
            }
           },
           "href": "https://hda.data.destination-earth.eu/stac/collections/EO.EUM.DAT.SENTINEL-3.OL_2_WFR___/items/S3A_OL_2_WFR____20240602T105936_20240602T110236_20240603T185700_0180_113_094_1800_MAR_O_NT_003/download/Oa12_reflectance.nc?provider=dedl",
           "roles": [
            "data"
           ],
           "title": "Oa12_reflectance.nc",
           "type": "application/x-netcdf"
          },
          "Oa16_reflectance.nc": {
           "alternate": {
            "origin": {
             "href": "s3://eodata/Sentinel-3/OLCI/OL_2_WFR___/2024/06/02/S3A_OL_2_WFR____20240602T105936_20240602T110236_20240603T185700_0180_113_094_1800_MAR_O_NT_003.SEN3/Oa16_reflectance.nc",
             "title": "Origin asset link",
             "type": "application/x-netcdf"
            }
           },
           "href": "https://hda.data.destination-earth.eu/stac/collections/EO.EUM.DAT.SENTINEL-3.OL_2_WFR___/items/S3A_OL_2_WFR____20240602T105936_20240602T110236_20240603T185700_0180_113_094_1800_MAR_O_NT_003/download/Oa16_reflectance.nc?provider=dedl",
           "roles": [
            "data"
           ],
           "title": "Oa16_reflectance.nc",
           "type": "application/x-netcdf"
          },
          "Oa17_reflectance.nc": {
           "alternate": {
            "origin": {
             "href": "s3://eodata/Sentinel-3/OLCI/OL_2_WFR___/2024/06/02/S3A_OL_2_WFR____20240602T105936_20240602T110236_20240603T185700_0180_113_094_1800_MAR_O_NT_003.SEN3/Oa17_reflectance.nc",
             "title": "Origin asset link",
             "type": "application/x-netcdf"
            }
           },
           "href": "https://hda.data.destination-earth.eu/stac/collections/EO.EUM.DAT.SENTINEL-3.OL_2_WFR___/items/S3A_OL_2_WFR____20240602T105936_20240602T110236_20240603T185700_0180_113_094_1800_MAR_O_NT_003/download/Oa17_reflectance.nc?provider=dedl",
           "roles": [
            "data"
           ],
           "title": "Oa17_reflectance.nc",
           "type": "application/x-netcdf"
          },
          "Oa18_reflectance.nc": {
           "alternate": {
            "origin": {
             "href": "s3://eodata/Sentinel-3/OLCI/OL_2_WFR___/2024/06/02/S3A_OL_2_WFR____20240602T105936_20240602T110236_20240603T185700_0180_113_094_1800_MAR_O_NT_003.SEN3/Oa18_reflectance.nc",
             "title": "Origin asset link",
             "type": "application/x-netcdf"
            }
           },
           "href": "https://hda.data.destination-earth.eu/stac/collections/EO.EUM.DAT.SENTINEL-3.OL_2_WFR___/items/S3A_OL_2_WFR____20240602T105936_20240602T110236_20240603T185700_0180_113_094_1800_MAR_O_NT_003/download/Oa18_reflectance.nc?provider=dedl",
           "roles": [
            "data"
           ],
           "title": "Oa18_reflectance.nc",
           "type": "application/x-netcdf"
          },
          "Oa21_reflectance.nc": {
           "alternate": {
            "origin": {
             "href": "s3://eodata/Sentinel-3/OLCI/OL_2_WFR___/2024/06/02/S3A_OL_2_WFR____20240602T105936_20240602T110236_20240603T185700_0180_113_094_1800_MAR_O_NT_003.SEN3/Oa21_reflectance.nc",
             "title": "Origin asset link",
             "type": "application/x-netcdf"
            }
           },
           "href": "https://hda.data.destination-earth.eu/stac/collections/EO.EUM.DAT.SENTINEL-3.OL_2_WFR___/items/S3A_OL_2_WFR____20240602T105936_20240602T110236_20240603T185700_0180_113_094_1800_MAR_O_NT_003/download/Oa21_reflectance.nc?provider=dedl",
           "roles": [
            "data"
           ],
           "title": "Oa21_reflectance.nc",
           "type": "application/x-netcdf"
          },
          "browse.jpg": {
           "alternate": {
            "origin": {
             "href": "s3://eodata/Sentinel-3/OLCI/OL_2_WFR___/2024/06/02/S3A_OL_2_WFR____20240602T105936_20240602T110236_20240603T185700_0180_113_094_1800_MAR_O_NT_003.SEN3/browse.jpg",
             "title": "Origin asset link",
             "type": "image/jpeg"
            }
           },
           "href": "https://hda.data.destination-earth.eu/stac/collections/EO.EUM.DAT.SENTINEL-3.OL_2_WFR___/items/S3A_OL_2_WFR____20240602T105936_20240602T110236_20240603T185700_0180_113_094_1800_MAR_O_NT_003/download/browse.jpg?provider=dedl",
           "roles": [
            "metadata"
           ],
           "title": "browse.jpg",
           "type": "image/jpeg"
          },
          "chl_nn.nc": {
           "alternate": {
            "origin": {
             "href": "s3://eodata/Sentinel-3/OLCI/OL_2_WFR___/2024/06/02/S3A_OL_2_WFR____20240602T105936_20240602T110236_20240603T185700_0180_113_094_1800_MAR_O_NT_003.SEN3/chl_nn.nc",
             "title": "Origin asset link",
             "type": "application/x-netcdf"
            }
           },
           "href": "https://hda.data.destination-earth.eu/stac/collections/EO.EUM.DAT.SENTINEL-3.OL_2_WFR___/items/S3A_OL_2_WFR____20240602T105936_20240602T110236_20240603T185700_0180_113_094_1800_MAR_O_NT_003/download/chl_nn.nc?provider=dedl",
           "roles": [
            "data"
           ],
           "title": "chl_nn.nc",
           "type": "application/x-netcdf"
          },
          "chl_oc4me.nc": {
           "alternate": {
            "origin": {
             "href": "s3://eodata/Sentinel-3/OLCI/OL_2_WFR___/2024/06/02/S3A_OL_2_WFR____20240602T105936_20240602T110236_20240603T185700_0180_113_094_1800_MAR_O_NT_003.SEN3/chl_oc4me.nc",
             "title": "Origin asset link",
             "type": "application/x-netcdf"
            }
           },
           "href": "https://hda.data.destination-earth.eu/stac/collections/EO.EUM.DAT.SENTINEL-3.OL_2_WFR___/items/S3A_OL_2_WFR____20240602T105936_20240602T110236_20240603T185700_0180_113_094_1800_MAR_O_NT_003/download/chl_oc4me.nc?provider=dedl",
           "roles": [
            "data"
           ],
           "title": "chl_oc4me.nc",
           "type": "application/x-netcdf"
          },
          "downloadLink": {
           "alternate": {
            "origin": {
             "href": "https://zipper.creodias.eu/odata/v1/Products(833d86f4-b2c6-409b-a723-069057e6eb76)/$value",
             "title": "Origin asset link"
            }
           },
           "href": "https://hda.data.destination-earth.eu/stac/collections/EO.EUM.DAT.SENTINEL-3.OL_2_WFR___/items/S3A_OL_2_WFR____20240602T105936_20240602T110236_20240603T185700_0180_113_094_1800_MAR_O_NT_003/download?provider=dedl",
           "storage:tier": "ONLINE",
           "title": "Download link",
           "type": "application/zip"
          },
          "geo_coordinates.nc": {
           "alternate": {
            "origin": {
             "href": "s3://eodata/Sentinel-3/OLCI/OL_2_WFR___/2024/06/02/S3A_OL_2_WFR____20240602T105936_20240602T110236_20240603T185700_0180_113_094_1800_MAR_O_NT_003.SEN3/geo_coordinates.nc",
             "title": "Origin asset link",
             "type": "application/x-netcdf"
            }
           },
           "href": "https://hda.data.destination-earth.eu/stac/collections/EO.EUM.DAT.SENTINEL-3.OL_2_WFR___/items/S3A_OL_2_WFR____20240602T105936_20240602T110236_20240603T185700_0180_113_094_1800_MAR_O_NT_003/download/geo_coordinates.nc?provider=dedl",
           "roles": [
            "data"
           ],
           "title": "geo_coordinates.nc",
           "type": "application/x-netcdf"
          },
          "instrument_data.nc": {
           "alternate": {
            "origin": {
             "href": "s3://eodata/Sentinel-3/OLCI/OL_2_WFR___/2024/06/02/S3A_OL_2_WFR____20240602T105936_20240602T110236_20240603T185700_0180_113_094_1800_MAR_O_NT_003.SEN3/instrument_data.nc",
             "title": "Origin asset link",
             "type": "application/x-netcdf"
            }
           },
           "href": "https://hda.data.destination-earth.eu/stac/collections/EO.EUM.DAT.SENTINEL-3.OL_2_WFR___/items/S3A_OL_2_WFR____20240602T105936_20240602T110236_20240603T185700_0180_113_094_1800_MAR_O_NT_003/download/instrument_data.nc?provider=dedl",
           "roles": [
            "data"
           ],
           "title": "instrument_data.nc",
           "type": "application/x-netcdf"
          },
          "iop_lsd.nc": {
           "alternate": {
            "origin": {
             "href": "s3://eodata/Sentinel-3/OLCI/OL_2_WFR___/2024/06/02/S3A_OL_2_WFR____20240602T105936_20240602T110236_20240603T185700_0180_113_094_1800_MAR_O_NT_003.SEN3/iop_lsd.nc",
             "title": "Origin asset link",
             "type": "application/x-netcdf"
            }
           },
           "href": "https://hda.data.destination-earth.eu/stac/collections/EO.EUM.DAT.SENTINEL-3.OL_2_WFR___/items/S3A_OL_2_WFR____20240602T105936_20240602T110236_20240603T185700_0180_113_094_1800_MAR_O_NT_003/download/iop_lsd.nc?provider=dedl",
           "roles": [
            "data"
           ],
           "title": "iop_lsd.nc",
           "type": "application/x-netcdf"
          },
          "iop_nn.nc": {
           "alternate": {
            "origin": {
             "href": "s3://eodata/Sentinel-3/OLCI/OL_2_WFR___/2024/06/02/S3A_OL_2_WFR____20240602T105936_20240602T110236_20240603T185700_0180_113_094_1800_MAR_O_NT_003.SEN3/iop_nn.nc",
             "title": "Origin asset link",
             "type": "application/x-netcdf"
            }
           },
           "href": "https://hda.data.destination-earth.eu/stac/collections/EO.EUM.DAT.SENTINEL-3.OL_2_WFR___/items/S3A_OL_2_WFR____20240602T105936_20240602T110236_20240603T185700_0180_113_094_1800_MAR_O_NT_003/download/iop_nn.nc?provider=dedl",
           "roles": [
            "data"
           ],
           "title": "iop_nn.nc",
           "type": "application/x-netcdf"
          },
          "iwv.nc": {
           "alternate": {
            "origin": {
             "href": "s3://eodata/Sentinel-3/OLCI/OL_2_WFR___/2024/06/02/S3A_OL_2_WFR____20240602T105936_20240602T110236_20240603T185700_0180_113_094_1800_MAR_O_NT_003.SEN3/iwv.nc",
             "title": "Origin asset link",
             "type": "application/x-netcdf"
            }
           },
           "href": "https://hda.data.destination-earth.eu/stac/collections/EO.EUM.DAT.SENTINEL-3.OL_2_WFR___/items/S3A_OL_2_WFR____20240602T105936_20240602T110236_20240603T185700_0180_113_094_1800_MAR_O_NT_003/download/iwv.nc?provider=dedl",
           "roles": [
            "data"
           ],
           "title": "iwv.nc",
           "type": "application/x-netcdf"
          },
          "manifest.xml": {
           "alternate": {
            "origin": {
             "href": "s3://eodata/Sentinel-3/OLCI/OL_2_WFR___/2024/06/02/S3A_OL_2_WFR____20240602T105936_20240602T110236_20240603T185700_0180_113_094_1800_MAR_O_NT_003.SEN3/manifest.xml",
             "title": "Origin asset link",
             "type": "text/xml"
            }
           },
           "href": "https://hda.data.destination-earth.eu/stac/collections/EO.EUM.DAT.SENTINEL-3.OL_2_WFR___/items/S3A_OL_2_WFR____20240602T105936_20240602T110236_20240603T185700_0180_113_094_1800_MAR_O_NT_003/download/manifest.xml?provider=dedl",
           "roles": [
            "metadata"
           ],
           "title": "manifest.xml",
           "type": "text/xml"
          },
          "par.nc": {
           "alternate": {
            "origin": {
             "href": "s3://eodata/Sentinel-3/OLCI/OL_2_WFR___/2024/06/02/S3A_OL_2_WFR____20240602T105936_20240602T110236_20240603T185700_0180_113_094_1800_MAR_O_NT_003.SEN3/par.nc",
             "title": "Origin asset link",
             "type": "application/x-netcdf"
            }
           },
           "href": "https://hda.data.destination-earth.eu/stac/collections/EO.EUM.DAT.SENTINEL-3.OL_2_WFR___/items/S3A_OL_2_WFR____20240602T105936_20240602T110236_20240603T185700_0180_113_094_1800_MAR_O_NT_003/download/par.nc?provider=dedl",
           "roles": [
            "data"
           ],
           "title": "par.nc",
           "type": "application/x-netcdf"
          },
          "tie_geo_coordinates.nc": {
           "alternate": {
            "origin": {
             "href": "s3://eodata/Sentinel-3/OLCI/OL_2_WFR___/2024/06/02/S3A_OL_2_WFR____20240602T105936_20240602T110236_20240603T185700_0180_113_094_1800_MAR_O_NT_003.SEN3/tie_geo_coordinates.nc",
             "title": "Origin asset link",
             "type": "application/x-netcdf"
            }
           },
           "href": "https://hda.data.destination-earth.eu/stac/collections/EO.EUM.DAT.SENTINEL-3.OL_2_WFR___/items/S3A_OL_2_WFR____20240602T105936_20240602T110236_20240603T185700_0180_113_094_1800_MAR_O_NT_003/download/tie_geo_coordinates.nc?provider=dedl",
           "roles": [
            "data"
           ],
           "title": "tie_geo_coordinates.nc",
           "type": "application/x-netcdf"
          },
          "tie_geometries.nc": {
           "alternate": {
            "origin": {
             "href": "s3://eodata/Sentinel-3/OLCI/OL_2_WFR___/2024/06/02/S3A_OL_2_WFR____20240602T105936_20240602T110236_20240603T185700_0180_113_094_1800_MAR_O_NT_003.SEN3/tie_geometries.nc",
             "title": "Origin asset link",
             "type": "application/x-netcdf"
            }
           },
           "href": "https://hda.data.destination-earth.eu/stac/collections/EO.EUM.DAT.SENTINEL-3.OL_2_WFR___/items/S3A_OL_2_WFR____20240602T105936_20240602T110236_20240603T185700_0180_113_094_1800_MAR_O_NT_003/download/tie_geometries.nc?provider=dedl",
           "roles": [
            "data"
           ],
           "title": "tie_geometries.nc",
           "type": "application/x-netcdf"
          },
          "tie_meteo.nc": {
           "alternate": {
            "origin": {
             "href": "s3://eodata/Sentinel-3/OLCI/OL_2_WFR___/2024/06/02/S3A_OL_2_WFR____20240602T105936_20240602T110236_20240603T185700_0180_113_094_1800_MAR_O_NT_003.SEN3/tie_meteo.nc",
             "title": "Origin asset link",
             "type": "application/x-netcdf"
            }
           },
           "href": "https://hda.data.destination-earth.eu/stac/collections/EO.EUM.DAT.SENTINEL-3.OL_2_WFR___/items/S3A_OL_2_WFR____20240602T105936_20240602T110236_20240603T185700_0180_113_094_1800_MAR_O_NT_003/download/tie_meteo.nc?provider=dedl",
           "roles": [
            "data"
           ],
           "title": "tie_meteo.nc",
           "type": "application/x-netcdf"
          },
          "time_coordinates.nc": {
           "alternate": {
            "origin": {
             "href": "s3://eodata/Sentinel-3/OLCI/OL_2_WFR___/2024/06/02/S3A_OL_2_WFR____20240602T105936_20240602T110236_20240603T185700_0180_113_094_1800_MAR_O_NT_003.SEN3/time_coordinates.nc",
             "title": "Origin asset link",
             "type": "application/x-netcdf"
            }
           },
           "href": "https://hda.data.destination-earth.eu/stac/collections/EO.EUM.DAT.SENTINEL-3.OL_2_WFR___/items/S3A_OL_2_WFR____20240602T105936_20240602T110236_20240603T185700_0180_113_094_1800_MAR_O_NT_003/download/time_coordinates.nc?provider=dedl",
           "roles": [
            "data"
           ],
           "title": "time_coordinates.nc",
           "type": "application/x-netcdf"
          },
          "trsp.nc": {
           "alternate": {
            "origin": {
             "href": "s3://eodata/Sentinel-3/OLCI/OL_2_WFR___/2024/06/02/S3A_OL_2_WFR____20240602T105936_20240602T110236_20240603T185700_0180_113_094_1800_MAR_O_NT_003.SEN3/trsp.nc",
             "title": "Origin asset link",
             "type": "application/x-netcdf"
            }
           },
           "href": "https://hda.data.destination-earth.eu/stac/collections/EO.EUM.DAT.SENTINEL-3.OL_2_WFR___/items/S3A_OL_2_WFR____20240602T105936_20240602T110236_20240603T185700_0180_113_094_1800_MAR_O_NT_003/download/trsp.nc?provider=dedl",
           "roles": [
            "data"
           ],
           "title": "trsp.nc",
           "type": "application/x-netcdf"
          },
          "tsm_nn.nc": {
           "alternate": {
            "origin": {
             "href": "s3://eodata/Sentinel-3/OLCI/OL_2_WFR___/2024/06/02/S3A_OL_2_WFR____20240602T105936_20240602T110236_20240603T185700_0180_113_094_1800_MAR_O_NT_003.SEN3/tsm_nn.nc",
             "title": "Origin asset link",
             "type": "application/x-netcdf"
            }
           },
           "href": "https://hda.data.destination-earth.eu/stac/collections/EO.EUM.DAT.SENTINEL-3.OL_2_WFR___/items/S3A_OL_2_WFR____20240602T105936_20240602T110236_20240603T185700_0180_113_094_1800_MAR_O_NT_003/download/tsm_nn.nc?provider=dedl",
           "roles": [
            "data"
           ],
           "title": "tsm_nn.nc",
           "type": "application/x-netcdf"
          },
          "w_aer.nc": {
           "alternate": {
            "origin": {
             "href": "s3://eodata/Sentinel-3/OLCI/OL_2_WFR___/2024/06/02/S3A_OL_2_WFR____20240602T105936_20240602T110236_20240603T185700_0180_113_094_1800_MAR_O_NT_003.SEN3/w_aer.nc",
             "title": "Origin asset link",
             "type": "application/x-netcdf"
            }
           },
           "href": "https://hda.data.destination-earth.eu/stac/collections/EO.EUM.DAT.SENTINEL-3.OL_2_WFR___/items/S3A_OL_2_WFR____20240602T105936_20240602T110236_20240603T185700_0180_113_094_1800_MAR_O_NT_003/download/w_aer.nc?provider=dedl",
           "roles": [
            "data"
           ],
           "title": "w_aer.nc",
           "type": "application/x-netcdf"
          },
          "wqsf.nc": {
           "alternate": {
            "origin": {
             "href": "s3://eodata/Sentinel-3/OLCI/OL_2_WFR___/2024/06/02/S3A_OL_2_WFR____20240602T105936_20240602T110236_20240603T185700_0180_113_094_1800_MAR_O_NT_003.SEN3/wqsf.nc",
             "title": "Origin asset link",
             "type": "application/x-netcdf"
            }
           },
           "href": "https://hda.data.destination-earth.eu/stac/collections/EO.EUM.DAT.SENTINEL-3.OL_2_WFR___/items/S3A_OL_2_WFR____20240602T105936_20240602T110236_20240603T185700_0180_113_094_1800_MAR_O_NT_003/download/wqsf.nc?provider=dedl",
           "roles": [
            "data"
           ],
           "title": "wqsf.nc",
           "type": "application/x-netcdf"
          },
          "xfdumanifest.xml": {
           "alternate": {
            "origin": {
             "href": "s3://eodata/Sentinel-3/OLCI/OL_2_WFR___/2024/06/02/S3A_OL_2_WFR____20240602T105936_20240602T110236_20240603T185700_0180_113_094_1800_MAR_O_NT_003.SEN3/xfdumanifest.xml",
             "title": "Origin asset link",
             "type": "text/xml"
            }
           },
           "href": "https://hda.data.destination-earth.eu/stac/collections/EO.EUM.DAT.SENTINEL-3.OL_2_WFR___/items/S3A_OL_2_WFR____20240602T105936_20240602T110236_20240603T185700_0180_113_094_1800_MAR_O_NT_003/download/xfdumanifest.xml?provider=dedl",
           "roles": [
            "metadata"
           ],
           "title": "xfdumanifest.xml",
           "type": "text/xml"
          }
         },
         "bbox": [
          -18.0176,
          59.9635,
          18.7184,
          73.3553
         ],
         "collection": "EO.EUM.DAT.SENTINEL-3.OL_2_WFR___",
         "geometry": {
          "coordinates": [
           [
            [
             -18.0176,
             62.9173
            ],
            [
             -16.6626,
             62.8708
            ],
            [
             -15.3127,
             62.8118
            ],
            [
             -13.9629,
             62.7421
            ],
            [
             -12.6301,
             62.6576
            ],
            [
             -11.2984,
             62.56
            ],
            [
             -9.97691,
             62.45
            ],
            [
             -8.66681,
             62.328
            ],
            [
             -7.36726,
             62.1931
            ],
            [
             -6.0829,
             62.0465
            ],
            [
             -4.80976,
             61.8877
            ],
            [
             -3.55002,
             61.7173
            ],
            [
             -2.30202,
             61.535
            ],
            [
             -1.07357,
             61.3423
            ],
            [
             0.141694,
             61.1387
            ],
            [
             1.34406,
             60.9237
            ],
            [
             2.52864,
             60.6995
            ],
            [
             3.69394,
             60.4644
            ],
            [
             4.84522,
             60.2186
            ],
            [
             5.97497,
             59.9635
            ],
            [
             8.41498,
             62.4025
            ],
            [
             11.2686,
             64.8016
            ],
            [
             14.6504,
             67.1383
            ],
            [
             18.7184,
             69.394
            ],
            [
             17.2662,
             69.748
            ],
            [
             15.7572,
             70.0909
            ],
            [
             14.2091,
             70.4185
            ],
            [
             12.6004,
             70.7333
            ],
            [
             10.9469,
             71.0341
            ],
            [
             9.24771,
             71.3189
            ],
            [
             7.49585,
             71.5887
            ],
            [
             5.69658,
             71.8421
            ],
            [
             3.84608,
             72.0789
            ],
            [
             1.95059,
             72.2976
            ],
            [
             0.01364,
             72.4973
            ],
            [
             -1.96928,
             72.6781
            ],
            [
             -3.97676,
             72.8373
            ],
            [
             -6.03091,
             72.9776
            ],
            [
             -8.11701,
             73.0971
            ],
            [
             -10.2177,
             73.1946
            ],
            [
             -12.3542,
             73.2711
            ],
            [
             -14.4988,
             73.3227
            ],
            [
             -16.6566,
             73.3553
            ],
            [
             -16.9724,
             70.7459
            ],
            [
             -17.3083,
             68.1359
            ],
            [
             -17.6563,
             65.5246
            ],
            [
             -18.0176,
             62.9173
            ]
           ]
          ],
          "type": "Polygon"
         },
         "id": "S3A_OL_2_WFR____20240602T105936_20240602T110236_20240603T185700_0180_113_094_1800_MAR_O_NT_003",
         "links": [
          {
           "href": "https://hda.data.destination-earth.eu/stac/collections/EO.EUM.DAT.SENTINEL-3.OL_2_WFR___/items/S3A_OL_2_WFR____20240602T105936_20240602T110236_20240603T185700_0180_113_094_1800_MAR_O_NT_003",
           "rel": "self",
           "title": "S3A_OL_2_WFR____20240602T105936_20240602T110236_20240603T185700_0180_113_094_1800_MAR_O_NT_003"
          },
          {
           "href": "https://hda.data.destination-earth.eu/stac/",
           "rel": "root"
          },
          {
           "href": "https://hda.data.destination-earth.eu/stac/collections/EO.EUM.DAT.SENTINEL-3.OL_2_WFR___",
           "rel": "parent",
           "title": "EO.EUM.DAT.SENTINEL-3.OL_2_WFR___"
          },
          {
           "href": "https://hda.data.destination-earth.eu/stac/collections/EO.EUM.DAT.SENTINEL-3.OL_2_WFR___",
           "rel": "collection",
           "title": "EO.EUM.DAT.SENTINEL-3.OL_2_WFR___"
          }
         ],
         "properties": {
          "constellation": "SENTINEL-3",
          "datetime": "2024-06-02T10:59:36.089758Z",
          "dedl:alias": "EO.EUM.DAT.SENTINEL-3.OL_2_WFR___",
          "dedl:baselineCollection": "003",
          "dedl:beginningDateTime": "2024-06-02T10:59:36.089758Z",
          "dedl:endingDateTime": "2024-06-02T11:02:36.089758Z",
          "dedl:productIdentifier": "/eodata/Sentinel-3/OLCI/OL_2_WFR___/2024/06/02/S3A_OL_2_WFR____20240602T105936_20240602T110236_20240603T185700_0180_113_094_1800_MAR_O_NT_003.SEN3",
          "dedl:scope": {
           "discover": null,
           "download": "hda-public-data-access",
           "search": "hda-public-data-access"
          },
          "dedl:timeliness": "NT",
          "dedl:uid": "833d86f4-b2c6-409b-a723-069057e6eb76",
          "description": "OLCI (Ocean and Land Colour Instrument) Ocean Colour Geophysical Products. Full Resolution: 300m at nadir. All Sentinel-3 NRT products are available at pick-up point in less than 3h. Level 2 marine products include the following: * water-leaving reflectances in 16 bands, Oa**_reflectance (Baseline Atmospheric Correction (BAC) algorithm, bands: 400, 412, 442, 490, 510, 560, 620, 665, 674, 681, 709, 754, 779, 865, 885, 1024 nanometer (nm)); *algal pigment concentration in clear waters, chl_oc4me (BAC and maximum band ratio algorithm, log10 scaled); *algal pigment concentration in turbid waters, chl_nn (neural net algorithm, log10 scaled); *total suspended matter concentration, tsm_nn (neural net algorithm, log10 scaled); *diffuse attenuation coefficient Kd of downward irradiance at 490 nm, trsp (BAC and M07 algorithm, log10 scaled); *absorption coefficient at 443 nm of coloured detrital and dissolved organic matter, iop_nn (neural net algorithm, log10 scaled); *instantaneous photosynthetically active radiation, PAR (BAC and clear-sky ocean algorithm); *aerosol optical thickness T865 and aerosol Angstrom exponent A865, w_aer (BAC algorithm, A for bands 779 and 865 nm) *integrated water vapour column, iwv (1D-Var algorithm). The geophysical products are accompanied by error estimate products. Pixel classification, quality and science flags, as well as meteorological, geometry and geolocation data at tie points are provided.\n\n- All Sentinel-3 NRT products are available at pick-up point in less than 3h\n- All Sentinel-3 Non Time Critical (NTC) products are available at pick-up point in less than 30 days\nSentinel-3 is part of a series of Sentinel satellites, under the umbrella of the EU Copernicus programme.",
          "end_datetime": "2024-06-02T11:02:36.089758Z",
          "instruments": [
           "OLCI"
          ],
          "license": "proprietary",
          "order:status": "succeeded",
          "platform": "SENTINEL-3A,SENTINEL-3B",
          "processing:level": 2,
          "providers": [
           {
            "description": "DestineE Data Lake Fresh Data Pool",
            "name": "dedl",
            "priority": 1,
            "roles": [
             "host"
            ],
            "url": "https://creodias.eu/"
           }
          ],
          "published": "2024-06-03T19:23:34.366476Z",
          "sar:instrument_mode": "Earth Observation",
          "sar:product_type": "OL_2_WFR___",
          "sat:absolute_orbit": 43187,
          "sat:orbit_state": "DESCENDING",
          "sat:relative_orbit": 94,
          "start_datetime": "2024-06-02T10:59:36.089758Z",
          "updated": "2024-06-03T19:23:37.792547Z"
         },
         "stac_extensions": [
          "https://stac-extensions.github.io/timestamps/v1.0.0/schema.json",
          "https://stac-extensions.github.io/processing/v1.0.0/schema.json",
          "https://stac-extensions.github.io/sat/v1.0.0/schema.json",
          "https://stac-extensions.github.io/sar/v1.0.0/schema.json",
          "https://stac-extensions.github.io/order/v1.1.0/schema.json"
         ],
         "stac_version": "1.0.0",
         "type": "Feature"
        },
        {
         "assets": {
          "EOPMetadata.xml": {
           "alternate": {
            "origin": {
             "href": "s3://eodata/Sentinel-3/OLCI/OL_2_WFR___/2024/06/02/S3A_OL_2_WFR____20240602T105936_20240602T110236_20240602T130217_0179_113_094_1800_MAR_O_NR_003.SEN3/EOPMetadata.xml",
             "title": "Origin asset link",
             "type": "text/xml"
            }
           },
           "href": "https://hda.data.destination-earth.eu/stac/collections/EO.EUM.DAT.SENTINEL-3.OL_2_WFR___/items/S3A_OL_2_WFR____20240602T105936_20240602T110236_20240602T130217_0179_113_094_1800_MAR_O_NR_003/download/EOPMetadata.xml?provider=dedl",
           "roles": [
            "metadata"
           ],
           "title": "EOPMetadata.xml",
           "type": "text/xml"
          },
          "Oa01_reflectance.nc": {
           "alternate": {
            "origin": {
             "href": "s3://eodata/Sentinel-3/OLCI/OL_2_WFR___/2024/06/02/S3A_OL_2_WFR____20240602T105936_20240602T110236_20240602T130217_0179_113_094_1800_MAR_O_NR_003.SEN3/Oa01_reflectance.nc",
             "title": "Origin asset link",
             "type": "application/x-netcdf"
            }
           },
           "href": "https://hda.data.destination-earth.eu/stac/collections/EO.EUM.DAT.SENTINEL-3.OL_2_WFR___/items/S3A_OL_2_WFR____20240602T105936_20240602T110236_20240602T130217_0179_113_094_1800_MAR_O_NR_003/download/Oa01_reflectance.nc?provider=dedl",
           "roles": [
            "data"
           ],
           "title": "Oa01_reflectance.nc",
           "type": "application/x-netcdf"
          },
          "Oa02_reflectance.nc": {
           "alternate": {
            "origin": {
             "href": "s3://eodata/Sentinel-3/OLCI/OL_2_WFR___/2024/06/02/S3A_OL_2_WFR____20240602T105936_20240602T110236_20240602T130217_0179_113_094_1800_MAR_O_NR_003.SEN3/Oa02_reflectance.nc",
             "title": "Origin asset link",
             "type": "application/x-netcdf"
            }
           },
           "href": "https://hda.data.destination-earth.eu/stac/collections/EO.EUM.DAT.SENTINEL-3.OL_2_WFR___/items/S3A_OL_2_WFR____20240602T105936_20240602T110236_20240602T130217_0179_113_094_1800_MAR_O_NR_003/download/Oa02_reflectance.nc?provider=dedl",
           "roles": [
            "data"
           ],
           "title": "Oa02_reflectance.nc",
           "type": "application/x-netcdf"
          },
          "Oa03_reflectance.nc": {
           "alternate": {
            "origin": {
             "href": "s3://eodata/Sentinel-3/OLCI/OL_2_WFR___/2024/06/02/S3A_OL_2_WFR____20240602T105936_20240602T110236_20240602T130217_0179_113_094_1800_MAR_O_NR_003.SEN3/Oa03_reflectance.nc",
             "title": "Origin asset link",
             "type": "application/x-netcdf"
            }
           },
           "href": "https://hda.data.destination-earth.eu/stac/collections/EO.EUM.DAT.SENTINEL-3.OL_2_WFR___/items/S3A_OL_2_WFR____20240602T105936_20240602T110236_20240602T130217_0179_113_094_1800_MAR_O_NR_003/download/Oa03_reflectance.nc?provider=dedl",
           "roles": [
            "data"
           ],
           "title": "Oa03_reflectance.nc",
           "type": "application/x-netcdf"
          },
          "Oa04_reflectance.nc": {
           "alternate": {
            "origin": {
             "href": "s3://eodata/Sentinel-3/OLCI/OL_2_WFR___/2024/06/02/S3A_OL_2_WFR____20240602T105936_20240602T110236_20240602T130217_0179_113_094_1800_MAR_O_NR_003.SEN3/Oa04_reflectance.nc",
             "title": "Origin asset link",
             "type": "application/x-netcdf"
            }
           },
           "href": "https://hda.data.destination-earth.eu/stac/collections/EO.EUM.DAT.SENTINEL-3.OL_2_WFR___/items/S3A_OL_2_WFR____20240602T105936_20240602T110236_20240602T130217_0179_113_094_1800_MAR_O_NR_003/download/Oa04_reflectance.nc?provider=dedl",
           "roles": [
            "data"
           ],
           "title": "Oa04_reflectance.nc",
           "type": "application/x-netcdf"
          },
          "Oa05_reflectance.nc": {
           "alternate": {
            "origin": {
             "href": "s3://eodata/Sentinel-3/OLCI/OL_2_WFR___/2024/06/02/S3A_OL_2_WFR____20240602T105936_20240602T110236_20240602T130217_0179_113_094_1800_MAR_O_NR_003.SEN3/Oa05_reflectance.nc",
             "title": "Origin asset link",
             "type": "application/x-netcdf"
            }
           },
           "href": "https://hda.data.destination-earth.eu/stac/collections/EO.EUM.DAT.SENTINEL-3.OL_2_WFR___/items/S3A_OL_2_WFR____20240602T105936_20240602T110236_20240602T130217_0179_113_094_1800_MAR_O_NR_003/download/Oa05_reflectance.nc?provider=dedl",
           "roles": [
            "data"
           ],
           "title": "Oa05_reflectance.nc",
           "type": "application/x-netcdf"
          },
          "Oa06_reflectance.nc": {
           "alternate": {
            "origin": {
             "href": "s3://eodata/Sentinel-3/OLCI/OL_2_WFR___/2024/06/02/S3A_OL_2_WFR____20240602T105936_20240602T110236_20240602T130217_0179_113_094_1800_MAR_O_NR_003.SEN3/Oa06_reflectance.nc",
             "title": "Origin asset link",
             "type": "application/x-netcdf"
            }
           },
           "href": "https://hda.data.destination-earth.eu/stac/collections/EO.EUM.DAT.SENTINEL-3.OL_2_WFR___/items/S3A_OL_2_WFR____20240602T105936_20240602T110236_20240602T130217_0179_113_094_1800_MAR_O_NR_003/download/Oa06_reflectance.nc?provider=dedl",
           "roles": [
            "data"
           ],
           "title": "Oa06_reflectance.nc",
           "type": "application/x-netcdf"
          },
          "Oa07_reflectance.nc": {
           "alternate": {
            "origin": {
             "href": "s3://eodata/Sentinel-3/OLCI/OL_2_WFR___/2024/06/02/S3A_OL_2_WFR____20240602T105936_20240602T110236_20240602T130217_0179_113_094_1800_MAR_O_NR_003.SEN3/Oa07_reflectance.nc",
             "title": "Origin asset link",
             "type": "application/x-netcdf"
            }
           },
           "href": "https://hda.data.destination-earth.eu/stac/collections/EO.EUM.DAT.SENTINEL-3.OL_2_WFR___/items/S3A_OL_2_WFR____20240602T105936_20240602T110236_20240602T130217_0179_113_094_1800_MAR_O_NR_003/download/Oa07_reflectance.nc?provider=dedl",
           "roles": [
            "data"
           ],
           "title": "Oa07_reflectance.nc",
           "type": "application/x-netcdf"
          },
          "Oa08_reflectance.nc": {
           "alternate": {
            "origin": {
             "href": "s3://eodata/Sentinel-3/OLCI/OL_2_WFR___/2024/06/02/S3A_OL_2_WFR____20240602T105936_20240602T110236_20240602T130217_0179_113_094_1800_MAR_O_NR_003.SEN3/Oa08_reflectance.nc",
             "title": "Origin asset link",
             "type": "application/x-netcdf"
            }
           },
           "href": "https://hda.data.destination-earth.eu/stac/collections/EO.EUM.DAT.SENTINEL-3.OL_2_WFR___/items/S3A_OL_2_WFR____20240602T105936_20240602T110236_20240602T130217_0179_113_094_1800_MAR_O_NR_003/download/Oa08_reflectance.nc?provider=dedl",
           "roles": [
            "data"
           ],
           "title": "Oa08_reflectance.nc",
           "type": "application/x-netcdf"
          },
          "Oa09_reflectance.nc": {
           "alternate": {
            "origin": {
             "href": "s3://eodata/Sentinel-3/OLCI/OL_2_WFR___/2024/06/02/S3A_OL_2_WFR____20240602T105936_20240602T110236_20240602T130217_0179_113_094_1800_MAR_O_NR_003.SEN3/Oa09_reflectance.nc",
             "title": "Origin asset link",
             "type": "application/x-netcdf"
            }
           },
           "href": "https://hda.data.destination-earth.eu/stac/collections/EO.EUM.DAT.SENTINEL-3.OL_2_WFR___/items/S3A_OL_2_WFR____20240602T105936_20240602T110236_20240602T130217_0179_113_094_1800_MAR_O_NR_003/download/Oa09_reflectance.nc?provider=dedl",
           "roles": [
            "data"
           ],
           "title": "Oa09_reflectance.nc",
           "type": "application/x-netcdf"
          },
          "Oa10_reflectance.nc": {
           "alternate": {
            "origin": {
             "href": "s3://eodata/Sentinel-3/OLCI/OL_2_WFR___/2024/06/02/S3A_OL_2_WFR____20240602T105936_20240602T110236_20240602T130217_0179_113_094_1800_MAR_O_NR_003.SEN3/Oa10_reflectance.nc",
             "title": "Origin asset link",
             "type": "application/x-netcdf"
            }
           },
           "href": "https://hda.data.destination-earth.eu/stac/collections/EO.EUM.DAT.SENTINEL-3.OL_2_WFR___/items/S3A_OL_2_WFR____20240602T105936_20240602T110236_20240602T130217_0179_113_094_1800_MAR_O_NR_003/download/Oa10_reflectance.nc?provider=dedl",
           "roles": [
            "data"
           ],
           "title": "Oa10_reflectance.nc",
           "type": "application/x-netcdf"
          },
          "Oa11_reflectance.nc": {
           "alternate": {
            "origin": {
             "href": "s3://eodata/Sentinel-3/OLCI/OL_2_WFR___/2024/06/02/S3A_OL_2_WFR____20240602T105936_20240602T110236_20240602T130217_0179_113_094_1800_MAR_O_NR_003.SEN3/Oa11_reflectance.nc",
             "title": "Origin asset link",
             "type": "application/x-netcdf"
            }
           },
           "href": "https://hda.data.destination-earth.eu/stac/collections/EO.EUM.DAT.SENTINEL-3.OL_2_WFR___/items/S3A_OL_2_WFR____20240602T105936_20240602T110236_20240602T130217_0179_113_094_1800_MAR_O_NR_003/download/Oa11_reflectance.nc?provider=dedl",
           "roles": [
            "data"
           ],
           "title": "Oa11_reflectance.nc",
           "type": "application/x-netcdf"
          },
          "Oa12_reflectance.nc": {
           "alternate": {
            "origin": {
             "href": "s3://eodata/Sentinel-3/OLCI/OL_2_WFR___/2024/06/02/S3A_OL_2_WFR____20240602T105936_20240602T110236_20240602T130217_0179_113_094_1800_MAR_O_NR_003.SEN3/Oa12_reflectance.nc",
             "title": "Origin asset link",
             "type": "application/x-netcdf"
            }
           },
           "href": "https://hda.data.destination-earth.eu/stac/collections/EO.EUM.DAT.SENTINEL-3.OL_2_WFR___/items/S3A_OL_2_WFR____20240602T105936_20240602T110236_20240602T130217_0179_113_094_1800_MAR_O_NR_003/download/Oa12_reflectance.nc?provider=dedl",
           "roles": [
            "data"
           ],
           "title": "Oa12_reflectance.nc",
           "type": "application/x-netcdf"
          },
          "Oa16_reflectance.nc": {
           "alternate": {
            "origin": {
             "href": "s3://eodata/Sentinel-3/OLCI/OL_2_WFR___/2024/06/02/S3A_OL_2_WFR____20240602T105936_20240602T110236_20240602T130217_0179_113_094_1800_MAR_O_NR_003.SEN3/Oa16_reflectance.nc",
             "title": "Origin asset link",
             "type": "application/x-netcdf"
            }
           },
           "href": "https://hda.data.destination-earth.eu/stac/collections/EO.EUM.DAT.SENTINEL-3.OL_2_WFR___/items/S3A_OL_2_WFR____20240602T105936_20240602T110236_20240602T130217_0179_113_094_1800_MAR_O_NR_003/download/Oa16_reflectance.nc?provider=dedl",
           "roles": [
            "data"
           ],
           "title": "Oa16_reflectance.nc",
           "type": "application/x-netcdf"
          },
          "Oa17_reflectance.nc": {
           "alternate": {
            "origin": {
             "href": "s3://eodata/Sentinel-3/OLCI/OL_2_WFR___/2024/06/02/S3A_OL_2_WFR____20240602T105936_20240602T110236_20240602T130217_0179_113_094_1800_MAR_O_NR_003.SEN3/Oa17_reflectance.nc",
             "title": "Origin asset link",
             "type": "application/x-netcdf"
            }
           },
           "href": "https://hda.data.destination-earth.eu/stac/collections/EO.EUM.DAT.SENTINEL-3.OL_2_WFR___/items/S3A_OL_2_WFR____20240602T105936_20240602T110236_20240602T130217_0179_113_094_1800_MAR_O_NR_003/download/Oa17_reflectance.nc?provider=dedl",
           "roles": [
            "data"
           ],
           "title": "Oa17_reflectance.nc",
           "type": "application/x-netcdf"
          },
          "Oa18_reflectance.nc": {
           "alternate": {
            "origin": {
             "href": "s3://eodata/Sentinel-3/OLCI/OL_2_WFR___/2024/06/02/S3A_OL_2_WFR____20240602T105936_20240602T110236_20240602T130217_0179_113_094_1800_MAR_O_NR_003.SEN3/Oa18_reflectance.nc",
             "title": "Origin asset link",
             "type": "application/x-netcdf"
            }
           },
           "href": "https://hda.data.destination-earth.eu/stac/collections/EO.EUM.DAT.SENTINEL-3.OL_2_WFR___/items/S3A_OL_2_WFR____20240602T105936_20240602T110236_20240602T130217_0179_113_094_1800_MAR_O_NR_003/download/Oa18_reflectance.nc?provider=dedl",
           "roles": [
            "data"
           ],
           "title": "Oa18_reflectance.nc",
           "type": "application/x-netcdf"
          },
          "Oa21_reflectance.nc": {
           "alternate": {
            "origin": {
             "href": "s3://eodata/Sentinel-3/OLCI/OL_2_WFR___/2024/06/02/S3A_OL_2_WFR____20240602T105936_20240602T110236_20240602T130217_0179_113_094_1800_MAR_O_NR_003.SEN3/Oa21_reflectance.nc",
             "title": "Origin asset link",
             "type": "application/x-netcdf"
            }
           },
           "href": "https://hda.data.destination-earth.eu/stac/collections/EO.EUM.DAT.SENTINEL-3.OL_2_WFR___/items/S3A_OL_2_WFR____20240602T105936_20240602T110236_20240602T130217_0179_113_094_1800_MAR_O_NR_003/download/Oa21_reflectance.nc?provider=dedl",
           "roles": [
            "data"
           ],
           "title": "Oa21_reflectance.nc",
           "type": "application/x-netcdf"
          },
          "browse.jpg": {
           "alternate": {
            "origin": {
             "href": "s3://eodata/Sentinel-3/OLCI/OL_2_WFR___/2024/06/02/S3A_OL_2_WFR____20240602T105936_20240602T110236_20240602T130217_0179_113_094_1800_MAR_O_NR_003.SEN3/browse.jpg",
             "title": "Origin asset link",
             "type": "image/jpeg"
            }
           },
           "href": "https://hda.data.destination-earth.eu/stac/collections/EO.EUM.DAT.SENTINEL-3.OL_2_WFR___/items/S3A_OL_2_WFR____20240602T105936_20240602T110236_20240602T130217_0179_113_094_1800_MAR_O_NR_003/download/browse.jpg?provider=dedl",
           "roles": [
            "metadata"
           ],
           "title": "browse.jpg",
           "type": "image/jpeg"
          },
          "chl_nn.nc": {
           "alternate": {
            "origin": {
             "href": "s3://eodata/Sentinel-3/OLCI/OL_2_WFR___/2024/06/02/S3A_OL_2_WFR____20240602T105936_20240602T110236_20240602T130217_0179_113_094_1800_MAR_O_NR_003.SEN3/chl_nn.nc",
             "title": "Origin asset link",
             "type": "application/x-netcdf"
            }
           },
           "href": "https://hda.data.destination-earth.eu/stac/collections/EO.EUM.DAT.SENTINEL-3.OL_2_WFR___/items/S3A_OL_2_WFR____20240602T105936_20240602T110236_20240602T130217_0179_113_094_1800_MAR_O_NR_003/download/chl_nn.nc?provider=dedl",
           "roles": [
            "data"
           ],
           "title": "chl_nn.nc",
           "type": "application/x-netcdf"
          },
          "chl_oc4me.nc": {
           "alternate": {
            "origin": {
             "href": "s3://eodata/Sentinel-3/OLCI/OL_2_WFR___/2024/06/02/S3A_OL_2_WFR____20240602T105936_20240602T110236_20240602T130217_0179_113_094_1800_MAR_O_NR_003.SEN3/chl_oc4me.nc",
             "title": "Origin asset link",
             "type": "application/x-netcdf"
            }
           },
           "href": "https://hda.data.destination-earth.eu/stac/collections/EO.EUM.DAT.SENTINEL-3.OL_2_WFR___/items/S3A_OL_2_WFR____20240602T105936_20240602T110236_20240602T130217_0179_113_094_1800_MAR_O_NR_003/download/chl_oc4me.nc?provider=dedl",
           "roles": [
            "data"
           ],
           "title": "chl_oc4me.nc",
           "type": "application/x-netcdf"
          },
          "downloadLink": {
           "alternate": {
            "origin": {
             "href": "https://zipper.creodias.eu/odata/v1/Products(d4da802e-52e6-4f6e-a148-f84fa0b567f9)/$value",
             "title": "Origin asset link"
            }
           },
           "href": "https://hda.data.destination-earth.eu/stac/collections/EO.EUM.DAT.SENTINEL-3.OL_2_WFR___/items/S3A_OL_2_WFR____20240602T105936_20240602T110236_20240602T130217_0179_113_094_1800_MAR_O_NR_003/download?provider=dedl",
           "storage:tier": "ONLINE",
           "title": "Download link",
           "type": "application/zip"
          },
          "geo_coordinates.nc": {
           "alternate": {
            "origin": {
             "href": "s3://eodata/Sentinel-3/OLCI/OL_2_WFR___/2024/06/02/S3A_OL_2_WFR____20240602T105936_20240602T110236_20240602T130217_0179_113_094_1800_MAR_O_NR_003.SEN3/geo_coordinates.nc",
             "title": "Origin asset link",
             "type": "application/x-netcdf"
            }
           },
           "href": "https://hda.data.destination-earth.eu/stac/collections/EO.EUM.DAT.SENTINEL-3.OL_2_WFR___/items/S3A_OL_2_WFR____20240602T105936_20240602T110236_20240602T130217_0179_113_094_1800_MAR_O_NR_003/download/geo_coordinates.nc?provider=dedl",
           "roles": [
            "data"
           ],
           "title": "geo_coordinates.nc",
           "type": "application/x-netcdf"
          },
          "instrument_data.nc": {
           "alternate": {
            "origin": {
             "href": "s3://eodata/Sentinel-3/OLCI/OL_2_WFR___/2024/06/02/S3A_OL_2_WFR____20240602T105936_20240602T110236_20240602T130217_0179_113_094_1800_MAR_O_NR_003.SEN3/instrument_data.nc",
             "title": "Origin asset link",
             "type": "application/x-netcdf"
            }
           },
           "href": "https://hda.data.destination-earth.eu/stac/collections/EO.EUM.DAT.SENTINEL-3.OL_2_WFR___/items/S3A_OL_2_WFR____20240602T105936_20240602T110236_20240602T130217_0179_113_094_1800_MAR_O_NR_003/download/instrument_data.nc?provider=dedl",
           "roles": [
            "data"
           ],
           "title": "instrument_data.nc",
           "type": "application/x-netcdf"
          },
          "iop_lsd.nc": {
           "alternate": {
            "origin": {
             "href": "s3://eodata/Sentinel-3/OLCI/OL_2_WFR___/2024/06/02/S3A_OL_2_WFR____20240602T105936_20240602T110236_20240602T130217_0179_113_094_1800_MAR_O_NR_003.SEN3/iop_lsd.nc",
             "title": "Origin asset link",
             "type": "application/x-netcdf"
            }
           },
           "href": "https://hda.data.destination-earth.eu/stac/collections/EO.EUM.DAT.SENTINEL-3.OL_2_WFR___/items/S3A_OL_2_WFR____20240602T105936_20240602T110236_20240602T130217_0179_113_094_1800_MAR_O_NR_003/download/iop_lsd.nc?provider=dedl",
           "roles": [
            "data"
           ],
           "title": "iop_lsd.nc",
           "type": "application/x-netcdf"
          },
          "iop_nn.nc": {
           "alternate": {
            "origin": {
             "href": "s3://eodata/Sentinel-3/OLCI/OL_2_WFR___/2024/06/02/S3A_OL_2_WFR____20240602T105936_20240602T110236_20240602T130217_0179_113_094_1800_MAR_O_NR_003.SEN3/iop_nn.nc",
             "title": "Origin asset link",
             "type": "application/x-netcdf"
            }
           },
           "href": "https://hda.data.destination-earth.eu/stac/collections/EO.EUM.DAT.SENTINEL-3.OL_2_WFR___/items/S3A_OL_2_WFR____20240602T105936_20240602T110236_20240602T130217_0179_113_094_1800_MAR_O_NR_003/download/iop_nn.nc?provider=dedl",
           "roles": [
            "data"
           ],
           "title": "iop_nn.nc",
           "type": "application/x-netcdf"
          },
          "iwv.nc": {
           "alternate": {
            "origin": {
             "href": "s3://eodata/Sentinel-3/OLCI/OL_2_WFR___/2024/06/02/S3A_OL_2_WFR____20240602T105936_20240602T110236_20240602T130217_0179_113_094_1800_MAR_O_NR_003.SEN3/iwv.nc",
             "title": "Origin asset link",
             "type": "application/x-netcdf"
            }
           },
           "href": "https://hda.data.destination-earth.eu/stac/collections/EO.EUM.DAT.SENTINEL-3.OL_2_WFR___/items/S3A_OL_2_WFR____20240602T105936_20240602T110236_20240602T130217_0179_113_094_1800_MAR_O_NR_003/download/iwv.nc?provider=dedl",
           "roles": [
            "data"
           ],
           "title": "iwv.nc",
           "type": "application/x-netcdf"
          },
          "manifest.xml": {
           "alternate": {
            "origin": {
             "href": "s3://eodata/Sentinel-3/OLCI/OL_2_WFR___/2024/06/02/S3A_OL_2_WFR____20240602T105936_20240602T110236_20240602T130217_0179_113_094_1800_MAR_O_NR_003.SEN3/manifest.xml",
             "title": "Origin asset link",
             "type": "text/xml"
            }
           },
           "href": "https://hda.data.destination-earth.eu/stac/collections/EO.EUM.DAT.SENTINEL-3.OL_2_WFR___/items/S3A_OL_2_WFR____20240602T105936_20240602T110236_20240602T130217_0179_113_094_1800_MAR_O_NR_003/download/manifest.xml?provider=dedl",
           "roles": [
            "metadata"
           ],
           "title": "manifest.xml",
           "type": "text/xml"
          },
          "par.nc": {
           "alternate": {
            "origin": {
             "href": "s3://eodata/Sentinel-3/OLCI/OL_2_WFR___/2024/06/02/S3A_OL_2_WFR____20240602T105936_20240602T110236_20240602T130217_0179_113_094_1800_MAR_O_NR_003.SEN3/par.nc",
             "title": "Origin asset link",
             "type": "application/x-netcdf"
            }
           },
           "href": "https://hda.data.destination-earth.eu/stac/collections/EO.EUM.DAT.SENTINEL-3.OL_2_WFR___/items/S3A_OL_2_WFR____20240602T105936_20240602T110236_20240602T130217_0179_113_094_1800_MAR_O_NR_003/download/par.nc?provider=dedl",
           "roles": [
            "data"
           ],
           "title": "par.nc",
           "type": "application/x-netcdf"
          },
          "tie_geo_coordinates.nc": {
           "alternate": {
            "origin": {
             "href": "s3://eodata/Sentinel-3/OLCI/OL_2_WFR___/2024/06/02/S3A_OL_2_WFR____20240602T105936_20240602T110236_20240602T130217_0179_113_094_1800_MAR_O_NR_003.SEN3/tie_geo_coordinates.nc",
             "title": "Origin asset link",
             "type": "application/x-netcdf"
            }
           },
           "href": "https://hda.data.destination-earth.eu/stac/collections/EO.EUM.DAT.SENTINEL-3.OL_2_WFR___/items/S3A_OL_2_WFR____20240602T105936_20240602T110236_20240602T130217_0179_113_094_1800_MAR_O_NR_003/download/tie_geo_coordinates.nc?provider=dedl",
           "roles": [
            "data"
           ],
           "title": "tie_geo_coordinates.nc",
           "type": "application/x-netcdf"
          },
          "tie_geometries.nc": {
           "alternate": {
            "origin": {
             "href": "s3://eodata/Sentinel-3/OLCI/OL_2_WFR___/2024/06/02/S3A_OL_2_WFR____20240602T105936_20240602T110236_20240602T130217_0179_113_094_1800_MAR_O_NR_003.SEN3/tie_geometries.nc",
             "title": "Origin asset link",
             "type": "application/x-netcdf"
            }
           },
           "href": "https://hda.data.destination-earth.eu/stac/collections/EO.EUM.DAT.SENTINEL-3.OL_2_WFR___/items/S3A_OL_2_WFR____20240602T105936_20240602T110236_20240602T130217_0179_113_094_1800_MAR_O_NR_003/download/tie_geometries.nc?provider=dedl",
           "roles": [
            "data"
           ],
           "title": "tie_geometries.nc",
           "type": "application/x-netcdf"
          },
          "tie_meteo.nc": {
           "alternate": {
            "origin": {
             "href": "s3://eodata/Sentinel-3/OLCI/OL_2_WFR___/2024/06/02/S3A_OL_2_WFR____20240602T105936_20240602T110236_20240602T130217_0179_113_094_1800_MAR_O_NR_003.SEN3/tie_meteo.nc",
             "title": "Origin asset link",
             "type": "application/x-netcdf"
            }
           },
           "href": "https://hda.data.destination-earth.eu/stac/collections/EO.EUM.DAT.SENTINEL-3.OL_2_WFR___/items/S3A_OL_2_WFR____20240602T105936_20240602T110236_20240602T130217_0179_113_094_1800_MAR_O_NR_003/download/tie_meteo.nc?provider=dedl",
           "roles": [
            "data"
           ],
           "title": "tie_meteo.nc",
           "type": "application/x-netcdf"
          },
          "time_coordinates.nc": {
           "alternate": {
            "origin": {
             "href": "s3://eodata/Sentinel-3/OLCI/OL_2_WFR___/2024/06/02/S3A_OL_2_WFR____20240602T105936_20240602T110236_20240602T130217_0179_113_094_1800_MAR_O_NR_003.SEN3/time_coordinates.nc",
             "title": "Origin asset link",
             "type": "application/x-netcdf"
            }
           },
           "href": "https://hda.data.destination-earth.eu/stac/collections/EO.EUM.DAT.SENTINEL-3.OL_2_WFR___/items/S3A_OL_2_WFR____20240602T105936_20240602T110236_20240602T130217_0179_113_094_1800_MAR_O_NR_003/download/time_coordinates.nc?provider=dedl",
           "roles": [
            "data"
           ],
           "title": "time_coordinates.nc",
           "type": "application/x-netcdf"
          },
          "trsp.nc": {
           "alternate": {
            "origin": {
             "href": "s3://eodata/Sentinel-3/OLCI/OL_2_WFR___/2024/06/02/S3A_OL_2_WFR____20240602T105936_20240602T110236_20240602T130217_0179_113_094_1800_MAR_O_NR_003.SEN3/trsp.nc",
             "title": "Origin asset link",
             "type": "application/x-netcdf"
            }
           },
           "href": "https://hda.data.destination-earth.eu/stac/collections/EO.EUM.DAT.SENTINEL-3.OL_2_WFR___/items/S3A_OL_2_WFR____20240602T105936_20240602T110236_20240602T130217_0179_113_094_1800_MAR_O_NR_003/download/trsp.nc?provider=dedl",
           "roles": [
            "data"
           ],
           "title": "trsp.nc",
           "type": "application/x-netcdf"
          },
          "tsm_nn.nc": {
           "alternate": {
            "origin": {
             "href": "s3://eodata/Sentinel-3/OLCI/OL_2_WFR___/2024/06/02/S3A_OL_2_WFR____20240602T105936_20240602T110236_20240602T130217_0179_113_094_1800_MAR_O_NR_003.SEN3/tsm_nn.nc",
             "title": "Origin asset link",
             "type": "application/x-netcdf"
            }
           },
           "href": "https://hda.data.destination-earth.eu/stac/collections/EO.EUM.DAT.SENTINEL-3.OL_2_WFR___/items/S3A_OL_2_WFR____20240602T105936_20240602T110236_20240602T130217_0179_113_094_1800_MAR_O_NR_003/download/tsm_nn.nc?provider=dedl",
           "roles": [
            "data"
           ],
           "title": "tsm_nn.nc",
           "type": "application/x-netcdf"
          },
          "w_aer.nc": {
           "alternate": {
            "origin": {
             "href": "s3://eodata/Sentinel-3/OLCI/OL_2_WFR___/2024/06/02/S3A_OL_2_WFR____20240602T105936_20240602T110236_20240602T130217_0179_113_094_1800_MAR_O_NR_003.SEN3/w_aer.nc",
             "title": "Origin asset link",
             "type": "application/x-netcdf"
            }
           },
           "href": "https://hda.data.destination-earth.eu/stac/collections/EO.EUM.DAT.SENTINEL-3.OL_2_WFR___/items/S3A_OL_2_WFR____20240602T105936_20240602T110236_20240602T130217_0179_113_094_1800_MAR_O_NR_003/download/w_aer.nc?provider=dedl",
           "roles": [
            "data"
           ],
           "title": "w_aer.nc",
           "type": "application/x-netcdf"
          },
          "wqsf.nc": {
           "alternate": {
            "origin": {
             "href": "s3://eodata/Sentinel-3/OLCI/OL_2_WFR___/2024/06/02/S3A_OL_2_WFR____20240602T105936_20240602T110236_20240602T130217_0179_113_094_1800_MAR_O_NR_003.SEN3/wqsf.nc",
             "title": "Origin asset link",
             "type": "application/x-netcdf"
            }
           },
           "href": "https://hda.data.destination-earth.eu/stac/collections/EO.EUM.DAT.SENTINEL-3.OL_2_WFR___/items/S3A_OL_2_WFR____20240602T105936_20240602T110236_20240602T130217_0179_113_094_1800_MAR_O_NR_003/download/wqsf.nc?provider=dedl",
           "roles": [
            "data"
           ],
           "title": "wqsf.nc",
           "type": "application/x-netcdf"
          },
          "xfdumanifest.xml": {
           "alternate": {
            "origin": {
             "href": "s3://eodata/Sentinel-3/OLCI/OL_2_WFR___/2024/06/02/S3A_OL_2_WFR____20240602T105936_20240602T110236_20240602T130217_0179_113_094_1800_MAR_O_NR_003.SEN3/xfdumanifest.xml",
             "title": "Origin asset link",
             "type": "text/xml"
            }
           },
           "href": "https://hda.data.destination-earth.eu/stac/collections/EO.EUM.DAT.SENTINEL-3.OL_2_WFR___/items/S3A_OL_2_WFR____20240602T105936_20240602T110236_20240602T130217_0179_113_094_1800_MAR_O_NR_003/download/xfdumanifest.xml?provider=dedl",
           "roles": [
            "metadata"
           ],
           "title": "xfdumanifest.xml",
           "type": "text/xml"
          }
         },
         "bbox": [
          -18.0176,
          59.9635,
          18.7184,
          73.3553
         ],
         "collection": "EO.EUM.DAT.SENTINEL-3.OL_2_WFR___",
         "geometry": {
          "coordinates": [
           [
            [
             -18.0176,
             62.9173
            ],
            [
             -16.6626,
             62.8708
            ],
            [
             -15.3127,
             62.8118
            ],
            [
             -13.9629,
             62.7421
            ],
            [
             -12.6301,
             62.6576
            ],
            [
             -11.2984,
             62.56
            ],
            [
             -9.97691,
             62.45
            ],
            [
             -8.66681,
             62.328
            ],
            [
             -7.36726,
             62.1931
            ],
            [
             -6.0829,
             62.0465
            ],
            [
             -4.80976,
             61.8877
            ],
            [
             -3.55002,
             61.7173
            ],
            [
             -2.30202,
             61.535
            ],
            [
             -1.07357,
             61.3423
            ],
            [
             0.141694,
             61.1387
            ],
            [
             1.34406,
             60.9237
            ],
            [
             2.52864,
             60.6995
            ],
            [
             3.69394,
             60.4644
            ],
            [
             4.84522,
             60.2186
            ],
            [
             5.97497,
             59.9635
            ],
            [
             8.41498,
             62.4025
            ],
            [
             11.2686,
             64.8016
            ],
            [
             14.6504,
             67.1383
            ],
            [
             18.7184,
             69.394
            ],
            [
             17.2662,
             69.748
            ],
            [
             15.7572,
             70.0909
            ],
            [
             14.2091,
             70.4185
            ],
            [
             12.6004,
             70.7333
            ],
            [
             10.9469,
             71.0341
            ],
            [
             9.24771,
             71.3189
            ],
            [
             7.49585,
             71.5887
            ],
            [
             5.69658,
             71.8421
            ],
            [
             3.84608,
             72.0789
            ],
            [
             1.95059,
             72.2976
            ],
            [
             0.01364,
             72.4973
            ],
            [
             -1.96928,
             72.6781
            ],
            [
             -3.97676,
             72.8373
            ],
            [
             -6.03091,
             72.9776
            ],
            [
             -8.11701,
             73.0971
            ],
            [
             -10.2177,
             73.1946
            ],
            [
             -12.3542,
             73.2711
            ],
            [
             -14.4988,
             73.3227
            ],
            [
             -16.6566,
             73.3553
            ],
            [
             -16.9724,
             70.7459
            ],
            [
             -17.3083,
             68.1359
            ],
            [
             -17.6563,
             65.5246
            ],
            [
             -18.0176,
             62.9173
            ]
           ]
          ],
          "type": "Polygon"
         },
         "id": "S3A_OL_2_WFR____20240602T105936_20240602T110236_20240602T130217_0179_113_094_1800_MAR_O_NR_003",
         "links": [
          {
           "href": "https://hda.data.destination-earth.eu/stac/collections/EO.EUM.DAT.SENTINEL-3.OL_2_WFR___/items/S3A_OL_2_WFR____20240602T105936_20240602T110236_20240602T130217_0179_113_094_1800_MAR_O_NR_003",
           "rel": "self",
           "title": "S3A_OL_2_WFR____20240602T105936_20240602T110236_20240602T130217_0179_113_094_1800_MAR_O_NR_003"
          },
          {
           "href": "https://hda.data.destination-earth.eu/stac/",
           "rel": "root"
          },
          {
           "href": "https://hda.data.destination-earth.eu/stac/collections/EO.EUM.DAT.SENTINEL-3.OL_2_WFR___",
           "rel": "parent",
           "title": "EO.EUM.DAT.SENTINEL-3.OL_2_WFR___"
          },
          {
           "href": "https://hda.data.destination-earth.eu/stac/collections/EO.EUM.DAT.SENTINEL-3.OL_2_WFR___",
           "rel": "collection",
           "title": "EO.EUM.DAT.SENTINEL-3.OL_2_WFR___"
          }
         ],
         "properties": {
          "constellation": "SENTINEL-3",
          "datetime": "2024-06-02T10:59:36.090146Z",
          "dedl:alias": "EO.EUM.DAT.SENTINEL-3.OL_2_WFR___",
          "dedl:baselineCollection": "003",
          "dedl:beginningDateTime": "2024-06-02T10:59:36.090146Z",
          "dedl:endingDateTime": "2024-06-02T11:02:36.090146Z",
          "dedl:productIdentifier": "/eodata/Sentinel-3/OLCI/OL_2_WFR___/2024/06/02/S3A_OL_2_WFR____20240602T105936_20240602T110236_20240602T130217_0179_113_094_1800_MAR_O_NR_003.SEN3",
          "dedl:scope": {
           "discover": null,
           "download": "hda-public-data-access",
           "search": "hda-public-data-access"
          },
          "dedl:timeliness": "NR",
          "dedl:uid": "d4da802e-52e6-4f6e-a148-f84fa0b567f9",
          "description": "OLCI (Ocean and Land Colour Instrument) Ocean Colour Geophysical Products. Full Resolution: 300m at nadir. All Sentinel-3 NRT products are available at pick-up point in less than 3h. Level 2 marine products include the following: * water-leaving reflectances in 16 bands, Oa**_reflectance (Baseline Atmospheric Correction (BAC) algorithm, bands: 400, 412, 442, 490, 510, 560, 620, 665, 674, 681, 709, 754, 779, 865, 885, 1024 nanometer (nm)); *algal pigment concentration in clear waters, chl_oc4me (BAC and maximum band ratio algorithm, log10 scaled); *algal pigment concentration in turbid waters, chl_nn (neural net algorithm, log10 scaled); *total suspended matter concentration, tsm_nn (neural net algorithm, log10 scaled); *diffuse attenuation coefficient Kd of downward irradiance at 490 nm, trsp (BAC and M07 algorithm, log10 scaled); *absorption coefficient at 443 nm of coloured detrital and dissolved organic matter, iop_nn (neural net algorithm, log10 scaled); *instantaneous photosynthetically active radiation, PAR (BAC and clear-sky ocean algorithm); *aerosol optical thickness T865 and aerosol Angstrom exponent A865, w_aer (BAC algorithm, A for bands 779 and 865 nm) *integrated water vapour column, iwv (1D-Var algorithm). The geophysical products are accompanied by error estimate products. Pixel classification, quality and science flags, as well as meteorological, geometry and geolocation data at tie points are provided.\n\n- All Sentinel-3 NRT products are available at pick-up point in less than 3h\n- All Sentinel-3 Non Time Critical (NTC) products are available at pick-up point in less than 30 days\nSentinel-3 is part of a series of Sentinel satellites, under the umbrella of the EU Copernicus programme.",
          "end_datetime": "2024-06-02T11:02:36.090146Z",
          "instruments": [
           "OLCI"
          ],
          "license": "proprietary",
          "order:status": "succeeded",
          "platform": "SENTINEL-3A,SENTINEL-3B",
          "processing:level": 2,
          "providers": [
           {
            "description": "DestineE Data Lake Fresh Data Pool",
            "name": "dedl",
            "priority": 1,
            "roles": [
             "host"
            ],
            "url": "https://creodias.eu/"
           }
          ],
          "published": "2024-06-02T13:10:29.620383Z",
          "sar:instrument_mode": "Earth Observation",
          "sar:product_type": "OL_2_WFR___",
          "sat:absolute_orbit": 43187,
          "sat:orbit_state": "DESCENDING",
          "sat:relative_orbit": 94,
          "start_datetime": "2024-06-02T10:59:36.090146Z",
          "updated": "2024-06-02T13:10:32.670132Z"
         },
         "stac_extensions": [
          "https://stac-extensions.github.io/timestamps/v1.0.0/schema.json",
          "https://stac-extensions.github.io/processing/v1.0.0/schema.json",
          "https://stac-extensions.github.io/sat/v1.0.0/schema.json",
          "https://stac-extensions.github.io/sar/v1.0.0/schema.json",
          "https://stac-extensions.github.io/order/v1.1.0/schema.json"
         ],
         "stac_version": "1.0.0",
         "type": "Feature"
        }
       ],
       "links": [
        {
         "href": "https://hda.data.destination-earth.eu/stac/collections/EO.EUM.DAT.SENTINEL-3.OL_2_WFR___/items",
         "rel": "self",
         "title": "items"
        },
        {
         "href": "https://hda.data.destination-earth.eu/stac/",
         "rel": "root"
        },
        {
         "href": "https://hda.data.destination-earth.eu/stac/collections/EO.EUM.DAT.SENTINEL-3.OL_2_WFR___",
         "rel": "parent",
         "title": "EO.EUM.DAT.SENTINEL-3.OL_2_WFR___"
        }
       ],
       "numberMatched": 14,
       "numberReturned": 14,
       "stac_extensions": [],
       "stac_version": "1.0.0",
       "timeStamp": "2024-10-18T08:31:51.769946Z",
       "type": "FeatureCollection"
      },
      "text/plain": [
       "<IPython.core.display.JSON object>"
      ]
     },
     "execution_count": 3,
     "metadata": {
      "application/json": {
       "expanded": false,
       "root": "root"
      }
     },
     "output_type": "execute_result"
    }
   ],
   "source": [
    "from IPython.display import JSON\n",
    "JSON(response_sst.json())"
   ]
  },
  {
   "cell_type": "code",
   "execution_count": 4,
   "id": "67fdec61-939d-48db-ba21-c3a83579c18f",
   "metadata": {
    "tags": []
   },
   "outputs": [
    {
     "data": {
      "application/json": {
       "assets": {
        "EOPMetadata.xml": {
         "alternate": {
          "origin": {
           "href": "s3://eodata/Sentinel-3/OLCI/OL_2_WFR___/2024/06/02/S3B_OL_2_WFR____20240602T083944_20240602T084244_20240603T162803_0180_093_335_1800_MAR_O_NT_003.SEN3/EOPMetadata.xml",
           "title": "Origin asset link",
           "type": "text/xml"
          }
         },
         "href": "https://hda.data.destination-earth.eu/stac/collections/EO.EUM.DAT.SENTINEL-3.OL_2_WFR___/items/S3B_OL_2_WFR____20240602T083944_20240602T084244_20240603T162803_0180_093_335_1800_MAR_O_NT_003/download/EOPMetadata.xml?provider=dedl",
         "roles": [
          "metadata"
         ],
         "title": "EOPMetadata.xml",
         "type": "text/xml"
        },
        "Oa01_reflectance.nc": {
         "alternate": {
          "origin": {
           "href": "s3://eodata/Sentinel-3/OLCI/OL_2_WFR___/2024/06/02/S3B_OL_2_WFR____20240602T083944_20240602T084244_20240603T162803_0180_093_335_1800_MAR_O_NT_003.SEN3/Oa01_reflectance.nc",
           "title": "Origin asset link",
           "type": "application/x-netcdf"
          }
         },
         "href": "https://hda.data.destination-earth.eu/stac/collections/EO.EUM.DAT.SENTINEL-3.OL_2_WFR___/items/S3B_OL_2_WFR____20240602T083944_20240602T084244_20240603T162803_0180_093_335_1800_MAR_O_NT_003/download/Oa01_reflectance.nc?provider=dedl",
         "roles": [
          "data"
         ],
         "title": "Oa01_reflectance.nc",
         "type": "application/x-netcdf"
        },
        "Oa02_reflectance.nc": {
         "alternate": {
          "origin": {
           "href": "s3://eodata/Sentinel-3/OLCI/OL_2_WFR___/2024/06/02/S3B_OL_2_WFR____20240602T083944_20240602T084244_20240603T162803_0180_093_335_1800_MAR_O_NT_003.SEN3/Oa02_reflectance.nc",
           "title": "Origin asset link",
           "type": "application/x-netcdf"
          }
         },
         "href": "https://hda.data.destination-earth.eu/stac/collections/EO.EUM.DAT.SENTINEL-3.OL_2_WFR___/items/S3B_OL_2_WFR____20240602T083944_20240602T084244_20240603T162803_0180_093_335_1800_MAR_O_NT_003/download/Oa02_reflectance.nc?provider=dedl",
         "roles": [
          "data"
         ],
         "title": "Oa02_reflectance.nc",
         "type": "application/x-netcdf"
        },
        "Oa03_reflectance.nc": {
         "alternate": {
          "origin": {
           "href": "s3://eodata/Sentinel-3/OLCI/OL_2_WFR___/2024/06/02/S3B_OL_2_WFR____20240602T083944_20240602T084244_20240603T162803_0180_093_335_1800_MAR_O_NT_003.SEN3/Oa03_reflectance.nc",
           "title": "Origin asset link",
           "type": "application/x-netcdf"
          }
         },
         "href": "https://hda.data.destination-earth.eu/stac/collections/EO.EUM.DAT.SENTINEL-3.OL_2_WFR___/items/S3B_OL_2_WFR____20240602T083944_20240602T084244_20240603T162803_0180_093_335_1800_MAR_O_NT_003/download/Oa03_reflectance.nc?provider=dedl",
         "roles": [
          "data"
         ],
         "title": "Oa03_reflectance.nc",
         "type": "application/x-netcdf"
        },
        "Oa04_reflectance.nc": {
         "alternate": {
          "origin": {
           "href": "s3://eodata/Sentinel-3/OLCI/OL_2_WFR___/2024/06/02/S3B_OL_2_WFR____20240602T083944_20240602T084244_20240603T162803_0180_093_335_1800_MAR_O_NT_003.SEN3/Oa04_reflectance.nc",
           "title": "Origin asset link",
           "type": "application/x-netcdf"
          }
         },
         "href": "https://hda.data.destination-earth.eu/stac/collections/EO.EUM.DAT.SENTINEL-3.OL_2_WFR___/items/S3B_OL_2_WFR____20240602T083944_20240602T084244_20240603T162803_0180_093_335_1800_MAR_O_NT_003/download/Oa04_reflectance.nc?provider=dedl",
         "roles": [
          "data"
         ],
         "title": "Oa04_reflectance.nc",
         "type": "application/x-netcdf"
        },
        "Oa05_reflectance.nc": {
         "alternate": {
          "origin": {
           "href": "s3://eodata/Sentinel-3/OLCI/OL_2_WFR___/2024/06/02/S3B_OL_2_WFR____20240602T083944_20240602T084244_20240603T162803_0180_093_335_1800_MAR_O_NT_003.SEN3/Oa05_reflectance.nc",
           "title": "Origin asset link",
           "type": "application/x-netcdf"
          }
         },
         "href": "https://hda.data.destination-earth.eu/stac/collections/EO.EUM.DAT.SENTINEL-3.OL_2_WFR___/items/S3B_OL_2_WFR____20240602T083944_20240602T084244_20240603T162803_0180_093_335_1800_MAR_O_NT_003/download/Oa05_reflectance.nc?provider=dedl",
         "roles": [
          "data"
         ],
         "title": "Oa05_reflectance.nc",
         "type": "application/x-netcdf"
        },
        "Oa06_reflectance.nc": {
         "alternate": {
          "origin": {
           "href": "s3://eodata/Sentinel-3/OLCI/OL_2_WFR___/2024/06/02/S3B_OL_2_WFR____20240602T083944_20240602T084244_20240603T162803_0180_093_335_1800_MAR_O_NT_003.SEN3/Oa06_reflectance.nc",
           "title": "Origin asset link",
           "type": "application/x-netcdf"
          }
         },
         "href": "https://hda.data.destination-earth.eu/stac/collections/EO.EUM.DAT.SENTINEL-3.OL_2_WFR___/items/S3B_OL_2_WFR____20240602T083944_20240602T084244_20240603T162803_0180_093_335_1800_MAR_O_NT_003/download/Oa06_reflectance.nc?provider=dedl",
         "roles": [
          "data"
         ],
         "title": "Oa06_reflectance.nc",
         "type": "application/x-netcdf"
        },
        "Oa07_reflectance.nc": {
         "alternate": {
          "origin": {
           "href": "s3://eodata/Sentinel-3/OLCI/OL_2_WFR___/2024/06/02/S3B_OL_2_WFR____20240602T083944_20240602T084244_20240603T162803_0180_093_335_1800_MAR_O_NT_003.SEN3/Oa07_reflectance.nc",
           "title": "Origin asset link",
           "type": "application/x-netcdf"
          }
         },
         "href": "https://hda.data.destination-earth.eu/stac/collections/EO.EUM.DAT.SENTINEL-3.OL_2_WFR___/items/S3B_OL_2_WFR____20240602T083944_20240602T084244_20240603T162803_0180_093_335_1800_MAR_O_NT_003/download/Oa07_reflectance.nc?provider=dedl",
         "roles": [
          "data"
         ],
         "title": "Oa07_reflectance.nc",
         "type": "application/x-netcdf"
        },
        "Oa08_reflectance.nc": {
         "alternate": {
          "origin": {
           "href": "s3://eodata/Sentinel-3/OLCI/OL_2_WFR___/2024/06/02/S3B_OL_2_WFR____20240602T083944_20240602T084244_20240603T162803_0180_093_335_1800_MAR_O_NT_003.SEN3/Oa08_reflectance.nc",
           "title": "Origin asset link",
           "type": "application/x-netcdf"
          }
         },
         "href": "https://hda.data.destination-earth.eu/stac/collections/EO.EUM.DAT.SENTINEL-3.OL_2_WFR___/items/S3B_OL_2_WFR____20240602T083944_20240602T084244_20240603T162803_0180_093_335_1800_MAR_O_NT_003/download/Oa08_reflectance.nc?provider=dedl",
         "roles": [
          "data"
         ],
         "title": "Oa08_reflectance.nc",
         "type": "application/x-netcdf"
        },
        "Oa09_reflectance.nc": {
         "alternate": {
          "origin": {
           "href": "s3://eodata/Sentinel-3/OLCI/OL_2_WFR___/2024/06/02/S3B_OL_2_WFR____20240602T083944_20240602T084244_20240603T162803_0180_093_335_1800_MAR_O_NT_003.SEN3/Oa09_reflectance.nc",
           "title": "Origin asset link",
           "type": "application/x-netcdf"
          }
         },
         "href": "https://hda.data.destination-earth.eu/stac/collections/EO.EUM.DAT.SENTINEL-3.OL_2_WFR___/items/S3B_OL_2_WFR____20240602T083944_20240602T084244_20240603T162803_0180_093_335_1800_MAR_O_NT_003/download/Oa09_reflectance.nc?provider=dedl",
         "roles": [
          "data"
         ],
         "title": "Oa09_reflectance.nc",
         "type": "application/x-netcdf"
        },
        "Oa10_reflectance.nc": {
         "alternate": {
          "origin": {
           "href": "s3://eodata/Sentinel-3/OLCI/OL_2_WFR___/2024/06/02/S3B_OL_2_WFR____20240602T083944_20240602T084244_20240603T162803_0180_093_335_1800_MAR_O_NT_003.SEN3/Oa10_reflectance.nc",
           "title": "Origin asset link",
           "type": "application/x-netcdf"
          }
         },
         "href": "https://hda.data.destination-earth.eu/stac/collections/EO.EUM.DAT.SENTINEL-3.OL_2_WFR___/items/S3B_OL_2_WFR____20240602T083944_20240602T084244_20240603T162803_0180_093_335_1800_MAR_O_NT_003/download/Oa10_reflectance.nc?provider=dedl",
         "roles": [
          "data"
         ],
         "title": "Oa10_reflectance.nc",
         "type": "application/x-netcdf"
        },
        "Oa11_reflectance.nc": {
         "alternate": {
          "origin": {
           "href": "s3://eodata/Sentinel-3/OLCI/OL_2_WFR___/2024/06/02/S3B_OL_2_WFR____20240602T083944_20240602T084244_20240603T162803_0180_093_335_1800_MAR_O_NT_003.SEN3/Oa11_reflectance.nc",
           "title": "Origin asset link",
           "type": "application/x-netcdf"
          }
         },
         "href": "https://hda.data.destination-earth.eu/stac/collections/EO.EUM.DAT.SENTINEL-3.OL_2_WFR___/items/S3B_OL_2_WFR____20240602T083944_20240602T084244_20240603T162803_0180_093_335_1800_MAR_O_NT_003/download/Oa11_reflectance.nc?provider=dedl",
         "roles": [
          "data"
         ],
         "title": "Oa11_reflectance.nc",
         "type": "application/x-netcdf"
        },
        "Oa12_reflectance.nc": {
         "alternate": {
          "origin": {
           "href": "s3://eodata/Sentinel-3/OLCI/OL_2_WFR___/2024/06/02/S3B_OL_2_WFR____20240602T083944_20240602T084244_20240603T162803_0180_093_335_1800_MAR_O_NT_003.SEN3/Oa12_reflectance.nc",
           "title": "Origin asset link",
           "type": "application/x-netcdf"
          }
         },
         "href": "https://hda.data.destination-earth.eu/stac/collections/EO.EUM.DAT.SENTINEL-3.OL_2_WFR___/items/S3B_OL_2_WFR____20240602T083944_20240602T084244_20240603T162803_0180_093_335_1800_MAR_O_NT_003/download/Oa12_reflectance.nc?provider=dedl",
         "roles": [
          "data"
         ],
         "title": "Oa12_reflectance.nc",
         "type": "application/x-netcdf"
        },
        "Oa16_reflectance.nc": {
         "alternate": {
          "origin": {
           "href": "s3://eodata/Sentinel-3/OLCI/OL_2_WFR___/2024/06/02/S3B_OL_2_WFR____20240602T083944_20240602T084244_20240603T162803_0180_093_335_1800_MAR_O_NT_003.SEN3/Oa16_reflectance.nc",
           "title": "Origin asset link",
           "type": "application/x-netcdf"
          }
         },
         "href": "https://hda.data.destination-earth.eu/stac/collections/EO.EUM.DAT.SENTINEL-3.OL_2_WFR___/items/S3B_OL_2_WFR____20240602T083944_20240602T084244_20240603T162803_0180_093_335_1800_MAR_O_NT_003/download/Oa16_reflectance.nc?provider=dedl",
         "roles": [
          "data"
         ],
         "title": "Oa16_reflectance.nc",
         "type": "application/x-netcdf"
        },
        "Oa17_reflectance.nc": {
         "alternate": {
          "origin": {
           "href": "s3://eodata/Sentinel-3/OLCI/OL_2_WFR___/2024/06/02/S3B_OL_2_WFR____20240602T083944_20240602T084244_20240603T162803_0180_093_335_1800_MAR_O_NT_003.SEN3/Oa17_reflectance.nc",
           "title": "Origin asset link",
           "type": "application/x-netcdf"
          }
         },
         "href": "https://hda.data.destination-earth.eu/stac/collections/EO.EUM.DAT.SENTINEL-3.OL_2_WFR___/items/S3B_OL_2_WFR____20240602T083944_20240602T084244_20240603T162803_0180_093_335_1800_MAR_O_NT_003/download/Oa17_reflectance.nc?provider=dedl",
         "roles": [
          "data"
         ],
         "title": "Oa17_reflectance.nc",
         "type": "application/x-netcdf"
        },
        "Oa18_reflectance.nc": {
         "alternate": {
          "origin": {
           "href": "s3://eodata/Sentinel-3/OLCI/OL_2_WFR___/2024/06/02/S3B_OL_2_WFR____20240602T083944_20240602T084244_20240603T162803_0180_093_335_1800_MAR_O_NT_003.SEN3/Oa18_reflectance.nc",
           "title": "Origin asset link",
           "type": "application/x-netcdf"
          }
         },
         "href": "https://hda.data.destination-earth.eu/stac/collections/EO.EUM.DAT.SENTINEL-3.OL_2_WFR___/items/S3B_OL_2_WFR____20240602T083944_20240602T084244_20240603T162803_0180_093_335_1800_MAR_O_NT_003/download/Oa18_reflectance.nc?provider=dedl",
         "roles": [
          "data"
         ],
         "title": "Oa18_reflectance.nc",
         "type": "application/x-netcdf"
        },
        "Oa21_reflectance.nc": {
         "alternate": {
          "origin": {
           "href": "s3://eodata/Sentinel-3/OLCI/OL_2_WFR___/2024/06/02/S3B_OL_2_WFR____20240602T083944_20240602T084244_20240603T162803_0180_093_335_1800_MAR_O_NT_003.SEN3/Oa21_reflectance.nc",
           "title": "Origin asset link",
           "type": "application/x-netcdf"
          }
         },
         "href": "https://hda.data.destination-earth.eu/stac/collections/EO.EUM.DAT.SENTINEL-3.OL_2_WFR___/items/S3B_OL_2_WFR____20240602T083944_20240602T084244_20240603T162803_0180_093_335_1800_MAR_O_NT_003/download/Oa21_reflectance.nc?provider=dedl",
         "roles": [
          "data"
         ],
         "title": "Oa21_reflectance.nc",
         "type": "application/x-netcdf"
        },
        "browse.jpg": {
         "alternate": {
          "origin": {
           "href": "s3://eodata/Sentinel-3/OLCI/OL_2_WFR___/2024/06/02/S3B_OL_2_WFR____20240602T083944_20240602T084244_20240603T162803_0180_093_335_1800_MAR_O_NT_003.SEN3/browse.jpg",
           "title": "Origin asset link",
           "type": "image/jpeg"
          }
         },
         "href": "https://hda.data.destination-earth.eu/stac/collections/EO.EUM.DAT.SENTINEL-3.OL_2_WFR___/items/S3B_OL_2_WFR____20240602T083944_20240602T084244_20240603T162803_0180_093_335_1800_MAR_O_NT_003/download/browse.jpg?provider=dedl",
         "roles": [
          "metadata"
         ],
         "title": "browse.jpg",
         "type": "image/jpeg"
        },
        "chl_nn.nc": {
         "alternate": {
          "origin": {
           "href": "s3://eodata/Sentinel-3/OLCI/OL_2_WFR___/2024/06/02/S3B_OL_2_WFR____20240602T083944_20240602T084244_20240603T162803_0180_093_335_1800_MAR_O_NT_003.SEN3/chl_nn.nc",
           "title": "Origin asset link",
           "type": "application/x-netcdf"
          }
         },
         "href": "https://hda.data.destination-earth.eu/stac/collections/EO.EUM.DAT.SENTINEL-3.OL_2_WFR___/items/S3B_OL_2_WFR____20240602T083944_20240602T084244_20240603T162803_0180_093_335_1800_MAR_O_NT_003/download/chl_nn.nc?provider=dedl",
         "roles": [
          "data"
         ],
         "title": "chl_nn.nc",
         "type": "application/x-netcdf"
        },
        "chl_oc4me.nc": {
         "alternate": {
          "origin": {
           "href": "s3://eodata/Sentinel-3/OLCI/OL_2_WFR___/2024/06/02/S3B_OL_2_WFR____20240602T083944_20240602T084244_20240603T162803_0180_093_335_1800_MAR_O_NT_003.SEN3/chl_oc4me.nc",
           "title": "Origin asset link",
           "type": "application/x-netcdf"
          }
         },
         "href": "https://hda.data.destination-earth.eu/stac/collections/EO.EUM.DAT.SENTINEL-3.OL_2_WFR___/items/S3B_OL_2_WFR____20240602T083944_20240602T084244_20240603T162803_0180_093_335_1800_MAR_O_NT_003/download/chl_oc4me.nc?provider=dedl",
         "roles": [
          "data"
         ],
         "title": "chl_oc4me.nc",
         "type": "application/x-netcdf"
        },
        "downloadLink": {
         "alternate": {
          "origin": {
           "href": "https://zipper.creodias.eu/odata/v1/Products(4cb282c9-6d5d-4010-9bc0-eb1216fa6046)/$value",
           "title": "Origin asset link"
          }
         },
         "href": "https://hda.data.destination-earth.eu/stac/collections/EO.EUM.DAT.SENTINEL-3.OL_2_WFR___/items/S3B_OL_2_WFR____20240602T083944_20240602T084244_20240603T162803_0180_093_335_1800_MAR_O_NT_003/download?provider=dedl",
         "storage:tier": "ONLINE",
         "title": "Download link",
         "type": "application/zip"
        },
        "geo_coordinates.nc": {
         "alternate": {
          "origin": {
           "href": "s3://eodata/Sentinel-3/OLCI/OL_2_WFR___/2024/06/02/S3B_OL_2_WFR____20240602T083944_20240602T084244_20240603T162803_0180_093_335_1800_MAR_O_NT_003.SEN3/geo_coordinates.nc",
           "title": "Origin asset link",
           "type": "application/x-netcdf"
          }
         },
         "href": "https://hda.data.destination-earth.eu/stac/collections/EO.EUM.DAT.SENTINEL-3.OL_2_WFR___/items/S3B_OL_2_WFR____20240602T083944_20240602T084244_20240603T162803_0180_093_335_1800_MAR_O_NT_003/download/geo_coordinates.nc?provider=dedl",
         "roles": [
          "data"
         ],
         "title": "geo_coordinates.nc",
         "type": "application/x-netcdf"
        },
        "instrument_data.nc": {
         "alternate": {
          "origin": {
           "href": "s3://eodata/Sentinel-3/OLCI/OL_2_WFR___/2024/06/02/S3B_OL_2_WFR____20240602T083944_20240602T084244_20240603T162803_0180_093_335_1800_MAR_O_NT_003.SEN3/instrument_data.nc",
           "title": "Origin asset link",
           "type": "application/x-netcdf"
          }
         },
         "href": "https://hda.data.destination-earth.eu/stac/collections/EO.EUM.DAT.SENTINEL-3.OL_2_WFR___/items/S3B_OL_2_WFR____20240602T083944_20240602T084244_20240603T162803_0180_093_335_1800_MAR_O_NT_003/download/instrument_data.nc?provider=dedl",
         "roles": [
          "data"
         ],
         "title": "instrument_data.nc",
         "type": "application/x-netcdf"
        },
        "iop_lsd.nc": {
         "alternate": {
          "origin": {
           "href": "s3://eodata/Sentinel-3/OLCI/OL_2_WFR___/2024/06/02/S3B_OL_2_WFR____20240602T083944_20240602T084244_20240603T162803_0180_093_335_1800_MAR_O_NT_003.SEN3/iop_lsd.nc",
           "title": "Origin asset link",
           "type": "application/x-netcdf"
          }
         },
         "href": "https://hda.data.destination-earth.eu/stac/collections/EO.EUM.DAT.SENTINEL-3.OL_2_WFR___/items/S3B_OL_2_WFR____20240602T083944_20240602T084244_20240603T162803_0180_093_335_1800_MAR_O_NT_003/download/iop_lsd.nc?provider=dedl",
         "roles": [
          "data"
         ],
         "title": "iop_lsd.nc",
         "type": "application/x-netcdf"
        },
        "iop_nn.nc": {
         "alternate": {
          "origin": {
           "href": "s3://eodata/Sentinel-3/OLCI/OL_2_WFR___/2024/06/02/S3B_OL_2_WFR____20240602T083944_20240602T084244_20240603T162803_0180_093_335_1800_MAR_O_NT_003.SEN3/iop_nn.nc",
           "title": "Origin asset link",
           "type": "application/x-netcdf"
          }
         },
         "href": "https://hda.data.destination-earth.eu/stac/collections/EO.EUM.DAT.SENTINEL-3.OL_2_WFR___/items/S3B_OL_2_WFR____20240602T083944_20240602T084244_20240603T162803_0180_093_335_1800_MAR_O_NT_003/download/iop_nn.nc?provider=dedl",
         "roles": [
          "data"
         ],
         "title": "iop_nn.nc",
         "type": "application/x-netcdf"
        },
        "iwv.nc": {
         "alternate": {
          "origin": {
           "href": "s3://eodata/Sentinel-3/OLCI/OL_2_WFR___/2024/06/02/S3B_OL_2_WFR____20240602T083944_20240602T084244_20240603T162803_0180_093_335_1800_MAR_O_NT_003.SEN3/iwv.nc",
           "title": "Origin asset link",
           "type": "application/x-netcdf"
          }
         },
         "href": "https://hda.data.destination-earth.eu/stac/collections/EO.EUM.DAT.SENTINEL-3.OL_2_WFR___/items/S3B_OL_2_WFR____20240602T083944_20240602T084244_20240603T162803_0180_093_335_1800_MAR_O_NT_003/download/iwv.nc?provider=dedl",
         "roles": [
          "data"
         ],
         "title": "iwv.nc",
         "type": "application/x-netcdf"
        },
        "manifest.xml": {
         "alternate": {
          "origin": {
           "href": "s3://eodata/Sentinel-3/OLCI/OL_2_WFR___/2024/06/02/S3B_OL_2_WFR____20240602T083944_20240602T084244_20240603T162803_0180_093_335_1800_MAR_O_NT_003.SEN3/manifest.xml",
           "title": "Origin asset link",
           "type": "text/xml"
          }
         },
         "href": "https://hda.data.destination-earth.eu/stac/collections/EO.EUM.DAT.SENTINEL-3.OL_2_WFR___/items/S3B_OL_2_WFR____20240602T083944_20240602T084244_20240603T162803_0180_093_335_1800_MAR_O_NT_003/download/manifest.xml?provider=dedl",
         "roles": [
          "metadata"
         ],
         "title": "manifest.xml",
         "type": "text/xml"
        },
        "par.nc": {
         "alternate": {
          "origin": {
           "href": "s3://eodata/Sentinel-3/OLCI/OL_2_WFR___/2024/06/02/S3B_OL_2_WFR____20240602T083944_20240602T084244_20240603T162803_0180_093_335_1800_MAR_O_NT_003.SEN3/par.nc",
           "title": "Origin asset link",
           "type": "application/x-netcdf"
          }
         },
         "href": "https://hda.data.destination-earth.eu/stac/collections/EO.EUM.DAT.SENTINEL-3.OL_2_WFR___/items/S3B_OL_2_WFR____20240602T083944_20240602T084244_20240603T162803_0180_093_335_1800_MAR_O_NT_003/download/par.nc?provider=dedl",
         "roles": [
          "data"
         ],
         "title": "par.nc",
         "type": "application/x-netcdf"
        },
        "tie_geo_coordinates.nc": {
         "alternate": {
          "origin": {
           "href": "s3://eodata/Sentinel-3/OLCI/OL_2_WFR___/2024/06/02/S3B_OL_2_WFR____20240602T083944_20240602T084244_20240603T162803_0180_093_335_1800_MAR_O_NT_003.SEN3/tie_geo_coordinates.nc",
           "title": "Origin asset link",
           "type": "application/x-netcdf"
          }
         },
         "href": "https://hda.data.destination-earth.eu/stac/collections/EO.EUM.DAT.SENTINEL-3.OL_2_WFR___/items/S3B_OL_2_WFR____20240602T083944_20240602T084244_20240603T162803_0180_093_335_1800_MAR_O_NT_003/download/tie_geo_coordinates.nc?provider=dedl",
         "roles": [
          "data"
         ],
         "title": "tie_geo_coordinates.nc",
         "type": "application/x-netcdf"
        },
        "tie_geometries.nc": {
         "alternate": {
          "origin": {
           "href": "s3://eodata/Sentinel-3/OLCI/OL_2_WFR___/2024/06/02/S3B_OL_2_WFR____20240602T083944_20240602T084244_20240603T162803_0180_093_335_1800_MAR_O_NT_003.SEN3/tie_geometries.nc",
           "title": "Origin asset link",
           "type": "application/x-netcdf"
          }
         },
         "href": "https://hda.data.destination-earth.eu/stac/collections/EO.EUM.DAT.SENTINEL-3.OL_2_WFR___/items/S3B_OL_2_WFR____20240602T083944_20240602T084244_20240603T162803_0180_093_335_1800_MAR_O_NT_003/download/tie_geometries.nc?provider=dedl",
         "roles": [
          "data"
         ],
         "title": "tie_geometries.nc",
         "type": "application/x-netcdf"
        },
        "tie_meteo.nc": {
         "alternate": {
          "origin": {
           "href": "s3://eodata/Sentinel-3/OLCI/OL_2_WFR___/2024/06/02/S3B_OL_2_WFR____20240602T083944_20240602T084244_20240603T162803_0180_093_335_1800_MAR_O_NT_003.SEN3/tie_meteo.nc",
           "title": "Origin asset link",
           "type": "application/x-netcdf"
          }
         },
         "href": "https://hda.data.destination-earth.eu/stac/collections/EO.EUM.DAT.SENTINEL-3.OL_2_WFR___/items/S3B_OL_2_WFR____20240602T083944_20240602T084244_20240603T162803_0180_093_335_1800_MAR_O_NT_003/download/tie_meteo.nc?provider=dedl",
         "roles": [
          "data"
         ],
         "title": "tie_meteo.nc",
         "type": "application/x-netcdf"
        },
        "time_coordinates.nc": {
         "alternate": {
          "origin": {
           "href": "s3://eodata/Sentinel-3/OLCI/OL_2_WFR___/2024/06/02/S3B_OL_2_WFR____20240602T083944_20240602T084244_20240603T162803_0180_093_335_1800_MAR_O_NT_003.SEN3/time_coordinates.nc",
           "title": "Origin asset link",
           "type": "application/x-netcdf"
          }
         },
         "href": "https://hda.data.destination-earth.eu/stac/collections/EO.EUM.DAT.SENTINEL-3.OL_2_WFR___/items/S3B_OL_2_WFR____20240602T083944_20240602T084244_20240603T162803_0180_093_335_1800_MAR_O_NT_003/download/time_coordinates.nc?provider=dedl",
         "roles": [
          "data"
         ],
         "title": "time_coordinates.nc",
         "type": "application/x-netcdf"
        },
        "trsp.nc": {
         "alternate": {
          "origin": {
           "href": "s3://eodata/Sentinel-3/OLCI/OL_2_WFR___/2024/06/02/S3B_OL_2_WFR____20240602T083944_20240602T084244_20240603T162803_0180_093_335_1800_MAR_O_NT_003.SEN3/trsp.nc",
           "title": "Origin asset link",
           "type": "application/x-netcdf"
          }
         },
         "href": "https://hda.data.destination-earth.eu/stac/collections/EO.EUM.DAT.SENTINEL-3.OL_2_WFR___/items/S3B_OL_2_WFR____20240602T083944_20240602T084244_20240603T162803_0180_093_335_1800_MAR_O_NT_003/download/trsp.nc?provider=dedl",
         "roles": [
          "data"
         ],
         "title": "trsp.nc",
         "type": "application/x-netcdf"
        },
        "tsm_nn.nc": {
         "alternate": {
          "origin": {
           "href": "s3://eodata/Sentinel-3/OLCI/OL_2_WFR___/2024/06/02/S3B_OL_2_WFR____20240602T083944_20240602T084244_20240603T162803_0180_093_335_1800_MAR_O_NT_003.SEN3/tsm_nn.nc",
           "title": "Origin asset link",
           "type": "application/x-netcdf"
          }
         },
         "href": "https://hda.data.destination-earth.eu/stac/collections/EO.EUM.DAT.SENTINEL-3.OL_2_WFR___/items/S3B_OL_2_WFR____20240602T083944_20240602T084244_20240603T162803_0180_093_335_1800_MAR_O_NT_003/download/tsm_nn.nc?provider=dedl",
         "roles": [
          "data"
         ],
         "title": "tsm_nn.nc",
         "type": "application/x-netcdf"
        },
        "w_aer.nc": {
         "alternate": {
          "origin": {
           "href": "s3://eodata/Sentinel-3/OLCI/OL_2_WFR___/2024/06/02/S3B_OL_2_WFR____20240602T083944_20240602T084244_20240603T162803_0180_093_335_1800_MAR_O_NT_003.SEN3/w_aer.nc",
           "title": "Origin asset link",
           "type": "application/x-netcdf"
          }
         },
         "href": "https://hda.data.destination-earth.eu/stac/collections/EO.EUM.DAT.SENTINEL-3.OL_2_WFR___/items/S3B_OL_2_WFR____20240602T083944_20240602T084244_20240603T162803_0180_093_335_1800_MAR_O_NT_003/download/w_aer.nc?provider=dedl",
         "roles": [
          "data"
         ],
         "title": "w_aer.nc",
         "type": "application/x-netcdf"
        },
        "wqsf.nc": {
         "alternate": {
          "origin": {
           "href": "s3://eodata/Sentinel-3/OLCI/OL_2_WFR___/2024/06/02/S3B_OL_2_WFR____20240602T083944_20240602T084244_20240603T162803_0180_093_335_1800_MAR_O_NT_003.SEN3/wqsf.nc",
           "title": "Origin asset link",
           "type": "application/x-netcdf"
          }
         },
         "href": "https://hda.data.destination-earth.eu/stac/collections/EO.EUM.DAT.SENTINEL-3.OL_2_WFR___/items/S3B_OL_2_WFR____20240602T083944_20240602T084244_20240603T162803_0180_093_335_1800_MAR_O_NT_003/download/wqsf.nc?provider=dedl",
         "roles": [
          "data"
         ],
         "title": "wqsf.nc",
         "type": "application/x-netcdf"
        },
        "xfdumanifest.xml": {
         "alternate": {
          "origin": {
           "href": "s3://eodata/Sentinel-3/OLCI/OL_2_WFR___/2024/06/02/S3B_OL_2_WFR____20240602T083944_20240602T084244_20240603T162803_0180_093_335_1800_MAR_O_NT_003.SEN3/xfdumanifest.xml",
           "title": "Origin asset link",
           "type": "text/xml"
          }
         },
         "href": "https://hda.data.destination-earth.eu/stac/collections/EO.EUM.DAT.SENTINEL-3.OL_2_WFR___/items/S3B_OL_2_WFR____20240602T083944_20240602T084244_20240603T162803_0180_093_335_1800_MAR_O_NT_003/download/xfdumanifest.xml?provider=dedl",
         "roles": [
          "metadata"
         ],
         "title": "xfdumanifest.xml",
         "type": "text/xml"
        }
       },
       "bbox": [
        17.0537,
        59.9668,
        53.7921,
        73.3568
       ],
       "collection": "EO.EUM.DAT.SENTINEL-3.OL_2_WFR___",
       "geometry": {
        "coordinates": [
         [
          [
           17.0537,
           62.9227
          ],
          [
           18.4134,
           62.8773
          ],
          [
           19.7564,
           62.818
          ],
          [
           21.1027,
           62.7455
          ],
          [
           22.4464,
           62.6625
          ],
          [
           23.7785,
           62.5644
          ],
          [
           25.0991,
           62.454
          ],
          [
           26.4039,
           62.3313
          ],
          [
           27.7006,
           62.1964
          ],
          [
           28.9894,
           62.0491
          ],
          [
           30.2626,
           61.8909
          ],
          [
           31.5226,
           61.7206
          ],
          [
           32.7684,
           61.5416
          ],
          [
           34.0029,
           61.3464
          ],
          [
           35.2178,
           61.1426
          ],
          [
           36.4153,
           60.9283
          ],
          [
           37.5969,
           60.703
          ],
          [
           38.7655,
           60.467
          ],
          [
           39.9159,
           60.221
          ],
          [
           41.0486,
           59.9668
          ],
          [
           43.4864,
           62.404
          ],
          [
           46.3414,
           64.8018
          ],
          [
           49.7236,
           67.1384
          ],
          [
           53.7921,
           69.3935
          ],
          [
           52.3362,
           69.7466
          ],
          [
           50.8349,
           70.0883
          ],
          [
           49.2763,
           70.4184
          ],
          [
           47.6786,
           70.733
          ],
          [
           46.0253,
           71.0339
          ],
          [
           44.3198,
           71.32
          ],
          [
           42.5748,
           71.5906
          ],
          [
           40.7702,
           71.8418
          ],
          [
           38.9193,
           72.0783
          ],
          [
           37.026,
           72.2989
          ],
          [
           35.0897,
           72.496
          ],
          [
           33.112,
           72.6768
          ],
          [
           31.0987,
           72.8378
          ],
          [
           29.0477,
           72.9783
          ],
          [
           26.964,
           73.098
          ],
          [
           24.849,
           73.1967
          ],
          [
           22.7161,
           73.2709
          ],
          [
           20.5815,
           73.3254
          ],
          [
           18.4184,
           73.3568
          ],
          [
           18.1008,
           70.7481
          ],
          [
           17.7645,
           68.1383
          ],
          [
           17.4138,
           65.5272
          ],
          [
           17.0537,
           62.9227
          ]
         ]
        ],
        "type": "Polygon"
       },
       "id": "S3B_OL_2_WFR____20240602T083944_20240602T084244_20240603T162803_0180_093_335_1800_MAR_O_NT_003",
       "links": [
        {
         "href": "https://hda.data.destination-earth.eu/stac/collections/EO.EUM.DAT.SENTINEL-3.OL_2_WFR___/items/S3B_OL_2_WFR____20240602T083944_20240602T084244_20240603T162803_0180_093_335_1800_MAR_O_NT_003",
         "rel": "self",
         "title": "S3B_OL_2_WFR____20240602T083944_20240602T084244_20240603T162803_0180_093_335_1800_MAR_O_NT_003"
        },
        {
         "href": "https://hda.data.destination-earth.eu/stac/",
         "rel": "root"
        },
        {
         "href": "https://hda.data.destination-earth.eu/stac/collections/EO.EUM.DAT.SENTINEL-3.OL_2_WFR___",
         "rel": "parent",
         "title": "EO.EUM.DAT.SENTINEL-3.OL_2_WFR___"
        },
        {
         "href": "https://hda.data.destination-earth.eu/stac/collections/EO.EUM.DAT.SENTINEL-3.OL_2_WFR___",
         "rel": "collection",
         "title": "EO.EUM.DAT.SENTINEL-3.OL_2_WFR___"
        }
       ],
       "properties": {
        "constellation": "SENTINEL-3",
        "datetime": "2024-06-02T08:39:44.309065Z",
        "dedl:alias": "EO.EUM.DAT.SENTINEL-3.OL_2_WFR___",
        "dedl:baselineCollection": "003",
        "dedl:beginningDateTime": "2024-06-02T08:39:44.309065Z",
        "dedl:endingDateTime": "2024-06-02T08:42:44.309065Z",
        "dedl:productIdentifier": "/eodata/Sentinel-3/OLCI/OL_2_WFR___/2024/06/02/S3B_OL_2_WFR____20240602T083944_20240602T084244_20240603T162803_0180_093_335_1800_MAR_O_NT_003.SEN3",
        "dedl:scope": {
         "discover": null,
         "download": "hda-public-data-access",
         "search": "hda-public-data-access"
        },
        "dedl:timeliness": "NT",
        "dedl:uid": "4cb282c9-6d5d-4010-9bc0-eb1216fa6046",
        "description": "OLCI (Ocean and Land Colour Instrument) Ocean Colour Geophysical Products. Full Resolution: 300m at nadir. All Sentinel-3 NRT products are available at pick-up point in less than 3h. Level 2 marine products include the following: * water-leaving reflectances in 16 bands, Oa**_reflectance (Baseline Atmospheric Correction (BAC) algorithm, bands: 400, 412, 442, 490, 510, 560, 620, 665, 674, 681, 709, 754, 779, 865, 885, 1024 nanometer (nm)); *algal pigment concentration in clear waters, chl_oc4me (BAC and maximum band ratio algorithm, log10 scaled); *algal pigment concentration in turbid waters, chl_nn (neural net algorithm, log10 scaled); *total suspended matter concentration, tsm_nn (neural net algorithm, log10 scaled); *diffuse attenuation coefficient Kd of downward irradiance at 490 nm, trsp (BAC and M07 algorithm, log10 scaled); *absorption coefficient at 443 nm of coloured detrital and dissolved organic matter, iop_nn (neural net algorithm, log10 scaled); *instantaneous photosynthetically active radiation, PAR (BAC and clear-sky ocean algorithm); *aerosol optical thickness T865 and aerosol Angstrom exponent A865, w_aer (BAC algorithm, A for bands 779 and 865 nm) *integrated water vapour column, iwv (1D-Var algorithm). The geophysical products are accompanied by error estimate products. Pixel classification, quality and science flags, as well as meteorological, geometry and geolocation data at tie points are provided.\n\n- All Sentinel-3 NRT products are available at pick-up point in less than 3h\n- All Sentinel-3 Non Time Critical (NTC) products are available at pick-up point in less than 30 days\nSentinel-3 is part of a series of Sentinel satellites, under the umbrella of the EU Copernicus programme.",
        "end_datetime": "2024-06-02T08:42:44.309065Z",
        "instruments": [
         "OLCI"
        ],
        "license": "proprietary",
        "order:status": "succeeded",
        "platform": "SENTINEL-3A,SENTINEL-3B",
        "processing:level": 2,
        "providers": [
         {
          "description": "DestineE Data Lake Fresh Data Pool",
          "name": "dedl",
          "priority": 1,
          "roles": [
           "host"
          ],
          "url": "https://creodias.eu/"
         }
        ],
        "published": "2024-06-03T16:48:59.966361Z",
        "sar:instrument_mode": "Earth Observation",
        "sar:product_type": "OL_2_WFR___",
        "sat:absolute_orbit": 31792,
        "sat:orbit_state": "DESCENDING",
        "sat:relative_orbit": 335,
        "start_datetime": "2024-06-02T08:39:44.309065Z",
        "updated": "2024-06-03T16:49:03.437337Z"
       },
       "stac_extensions": [
        "https://stac-extensions.github.io/timestamps/v1.0.0/schema.json",
        "https://stac-extensions.github.io/processing/v1.0.0/schema.json",
        "https://stac-extensions.github.io/sat/v1.0.0/schema.json",
        "https://stac-extensions.github.io/sar/v1.0.0/schema.json",
        "https://stac-extensions.github.io/order/v1.1.0/schema.json"
       ],
       "stac_version": "1.0.0",
       "type": "Feature"
      },
      "text/plain": [
       "<IPython.core.display.JSON object>"
      ]
     },
     "execution_count": 4,
     "metadata": {
      "application/json": {
       "expanded": false,
       "root": "root"
      }
     },
     "output_type": "execute_result"
    }
   ],
   "source": [
    "product_ol2wfr = response_sst.json()[\"features\"][0]\n",
    "JSON(product_ol2wfr)"
   ]
  },
  {
   "cell_type": "markdown",
   "id": "b5caeee4-e525-4428-b52b-86257da13453",
   "metadata": {},
   "source": [
    "### Potential datasets\n",
    "We download all potential bands that could be useful, brief explanation below:\n",
    "\n",
    "- Oa6 band which has central wavelength 560 nm - proxy for subsurface bloom of cyanobacteria\n",
    "- Oa8 band which has central wavelength 665 nm - proxy for surface accumulation of cyanobacteria\n",
    "- chl_nn band which is the algal pigment concentration in complex waters\n",
    "- chl_oc4me band which is Algal pigment concentration based on the Ocean Colour for MERIS (OC4Me) algorithm\n",
    "- par band which is the Photosynthetically Active Radiation (PAR). Inherited from MERIS, instantaneous PAR at the water surface\n",
    "- geo_coordinates band which contains the latitude/longitude coordinates of the product"
   ]
  },
  {
   "cell_type": "code",
   "execution_count": 5,
   "id": "f4ac6019-6b04-4689-8e89-89cffb29b255",
   "metadata": {
    "tags": []
   },
   "outputs": [],
   "source": [
    "download_assets=[\n",
    "    \"Oa06_reflectance.nc\",\n",
    "    \"Oa08_reflectance.nc\", \n",
    "    \"chl_nn.nc\",\n",
    "    \"chl_oc4me.nc\",\n",
    "    \"geo_coordinates.nc\",\n",
    "    \"par.nc\"\n",
    "]"
   ]
  },
  {
   "cell_type": "code",
   "execution_count": 6,
   "id": "61b9bdc2-256a-4abe-bd90-b0cb46cdf4a8",
   "metadata": {
    "tags": []
   },
   "outputs": [],
   "source": [
    "from tqdm import tqdm\n",
    "import time\n",
    "def download_feature(download_url, filename, auth_headers):\n",
    "    response = requests.get(download_url, headers=auth_headers)\n",
    "    total_size = int(response.headers.get(\"content-length\", 0))\n",
    "    \n",
    "    print(f\"downloading {filename}\")\n",
    "    \n",
    "    with tqdm(total=total_size, unit=\"B\", unit_scale=True) as progress_bar:\n",
    "        with open(filename, 'wb') as f:\n",
    "            for data in response.iter_content(1024):\n",
    "                progress_bar.update(len(data))\n",
    "                f.write(data)"
   ]
  },
  {
   "cell_type": "code",
   "execution_count": 7,
   "id": "506c8d1a-00c7-4aa9-82e3-156d66dc96a7",
   "metadata": {
    "tags": []
   },
   "outputs": [
    {
     "name": "stdout",
     "output_type": "stream",
     "text": [
      "downloading Oa06_reflectance.nc\n"
     ]
    },
    {
     "name": "stderr",
     "output_type": "stream",
     "text": [
      "2.65MB [00:00, 421MB/s]\n"
     ]
    },
    {
     "name": "stdout",
     "output_type": "stream",
     "text": [
      "downloading Oa08_reflectance.nc\n"
     ]
    },
    {
     "name": "stderr",
     "output_type": "stream",
     "text": [
      "2.54MB [00:00, 504MB/s]\n"
     ]
    },
    {
     "name": "stdout",
     "output_type": "stream",
     "text": [
      "downloading chl_nn.nc\n"
     ]
    },
    {
     "name": "stderr",
     "output_type": "stream",
     "text": [
      "2.01MB [00:00, 502MB/s]\n"
     ]
    },
    {
     "name": "stdout",
     "output_type": "stream",
     "text": [
      "downloading chl_oc4me.nc\n"
     ]
    },
    {
     "name": "stderr",
     "output_type": "stream",
     "text": [
      "1.54MB [00:00, 386MB/s]\n"
     ]
    },
    {
     "name": "stdout",
     "output_type": "stream",
     "text": [
      "downloading geo_coordinates.nc\n"
     ]
    },
    {
     "name": "stderr",
     "output_type": "stream",
     "text": [
      "61.8MB [00:00, 554MB/s]\n"
     ]
    },
    {
     "name": "stdout",
     "output_type": "stream",
     "text": [
      "downloading par.nc\n"
     ]
    },
    {
     "name": "stderr",
     "output_type": "stream",
     "text": [
      "716kB [00:00, 490MB/s]\n"
     ]
    }
   ],
   "source": [
    "for asset in product_ol2wfr[\"assets\"].keys():\n",
    "    if asset in download_assets:\n",
    "        url = product_ol2wfr[\"assets\"][asset][\"href\"]\n",
    "        name = product_ol2wfr[\"assets\"][asset][\"title\"]\n",
    "        download_feature(url, name, auth_headers)"
   ]
  },
  {
   "cell_type": "code",
   "execution_count": 5,
   "id": "ab4dc62f-c17f-428d-ad69-40fbc479e5a2",
   "metadata": {
    "tags": []
   },
   "outputs": [],
   "source": [
    "import rioxarray\n",
    "import matplotlib.pyplot as plt\n",
    "import xarray as xr\n",
    "import numpy as np\n",
    "import netCDF4 as nc"
   ]
  },
  {
   "cell_type": "code",
   "execution_count": 9,
   "id": "2efce978-f292-4bf3-8648-549629e923a9",
   "metadata": {
    "tags": []
   },
   "outputs": [],
   "source": [
    "ds=xr.open_mfdataset(download_assets)"
   ]
  },
  {
   "cell_type": "code",
   "execution_count": 10,
   "id": "bd035483-29c3-453b-ae28-36fd56b2c872",
   "metadata": {
    "tags": []
   },
   "outputs": [
    {
     "data": {
      "text/html": [
       "<div><svg style=\"position: absolute; width: 0; height: 0; overflow: hidden\">\n",
       "<defs>\n",
       "<symbol id=\"icon-database\" viewBox=\"0 0 32 32\">\n",
       "<path d=\"M16 0c-8.837 0-16 2.239-16 5v4c0 2.761 7.163 5 16 5s16-2.239 16-5v-4c0-2.761-7.163-5-16-5z\"></path>\n",
       "<path d=\"M16 17c-8.837 0-16-2.239-16-5v6c0 2.761 7.163 5 16 5s16-2.239 16-5v-6c0 2.761-7.163 5-16 5z\"></path>\n",
       "<path d=\"M16 26c-8.837 0-16-2.239-16-5v6c0 2.761 7.163 5 16 5s16-2.239 16-5v-6c0 2.761-7.163 5-16 5z\"></path>\n",
       "</symbol>\n",
       "<symbol id=\"icon-file-text2\" viewBox=\"0 0 32 32\">\n",
       "<path d=\"M28.681 7.159c-0.694-0.947-1.662-2.053-2.724-3.116s-2.169-2.030-3.116-2.724c-1.612-1.182-2.393-1.319-2.841-1.319h-15.5c-1.378 0-2.5 1.121-2.5 2.5v27c0 1.378 1.122 2.5 2.5 2.5h23c1.378 0 2.5-1.122 2.5-2.5v-19.5c0-0.448-0.137-1.23-1.319-2.841zM24.543 5.457c0.959 0.959 1.712 1.825 2.268 2.543h-4.811v-4.811c0.718 0.556 1.584 1.309 2.543 2.268zM28 29.5c0 0.271-0.229 0.5-0.5 0.5h-23c-0.271 0-0.5-0.229-0.5-0.5v-27c0-0.271 0.229-0.5 0.5-0.5 0 0 15.499-0 15.5 0v7c0 0.552 0.448 1 1 1h7v19.5z\"></path>\n",
       "<path d=\"M23 26h-14c-0.552 0-1-0.448-1-1s0.448-1 1-1h14c0.552 0 1 0.448 1 1s-0.448 1-1 1z\"></path>\n",
       "<path d=\"M23 22h-14c-0.552 0-1-0.448-1-1s0.448-1 1-1h14c0.552 0 1 0.448 1 1s-0.448 1-1 1z\"></path>\n",
       "<path d=\"M23 18h-14c-0.552 0-1-0.448-1-1s0.448-1 1-1h14c0.552 0 1 0.448 1 1s-0.448 1-1 1z\"></path>\n",
       "</symbol>\n",
       "</defs>\n",
       "</svg>\n",
       "<style>/* CSS stylesheet for displaying xarray objects in jupyterlab.\n",
       " *\n",
       " */\n",
       "\n",
       ":root {\n",
       "  --xr-font-color0: var(--jp-content-font-color0, rgba(0, 0, 0, 1));\n",
       "  --xr-font-color2: var(--jp-content-font-color2, rgba(0, 0, 0, 0.54));\n",
       "  --xr-font-color3: var(--jp-content-font-color3, rgba(0, 0, 0, 0.38));\n",
       "  --xr-border-color: var(--jp-border-color2, #e0e0e0);\n",
       "  --xr-disabled-color: var(--jp-layout-color3, #bdbdbd);\n",
       "  --xr-background-color: var(--jp-layout-color0, white);\n",
       "  --xr-background-color-row-even: var(--jp-layout-color1, white);\n",
       "  --xr-background-color-row-odd: var(--jp-layout-color2, #eeeeee);\n",
       "}\n",
       "\n",
       "html[theme=dark],\n",
       "body[data-theme=dark],\n",
       "body.vscode-dark {\n",
       "  --xr-font-color0: rgba(255, 255, 255, 1);\n",
       "  --xr-font-color2: rgba(255, 255, 255, 0.54);\n",
       "  --xr-font-color3: rgba(255, 255, 255, 0.38);\n",
       "  --xr-border-color: #1F1F1F;\n",
       "  --xr-disabled-color: #515151;\n",
       "  --xr-background-color: #111111;\n",
       "  --xr-background-color-row-even: #111111;\n",
       "  --xr-background-color-row-odd: #313131;\n",
       "}\n",
       "\n",
       ".xr-wrap {\n",
       "  display: block !important;\n",
       "  min-width: 300px;\n",
       "  max-width: 700px;\n",
       "}\n",
       "\n",
       ".xr-text-repr-fallback {\n",
       "  /* fallback to plain text repr when CSS is not injected (untrusted notebook) */\n",
       "  display: none;\n",
       "}\n",
       "\n",
       ".xr-header {\n",
       "  padding-top: 6px;\n",
       "  padding-bottom: 6px;\n",
       "  margin-bottom: 4px;\n",
       "  border-bottom: solid 1px var(--xr-border-color);\n",
       "}\n",
       "\n",
       ".xr-header > div,\n",
       ".xr-header > ul {\n",
       "  display: inline;\n",
       "  margin-top: 0;\n",
       "  margin-bottom: 0;\n",
       "}\n",
       "\n",
       ".xr-obj-type,\n",
       ".xr-array-name {\n",
       "  margin-left: 2px;\n",
       "  margin-right: 10px;\n",
       "}\n",
       "\n",
       ".xr-obj-type {\n",
       "  color: var(--xr-font-color2);\n",
       "}\n",
       "\n",
       ".xr-sections {\n",
       "  padding-left: 0 !important;\n",
       "  display: grid;\n",
       "  grid-template-columns: 150px auto auto 1fr 20px 20px;\n",
       "}\n",
       "\n",
       ".xr-section-item {\n",
       "  display: contents;\n",
       "}\n",
       "\n",
       ".xr-section-item input {\n",
       "  display: none;\n",
       "}\n",
       "\n",
       ".xr-section-item input + label {\n",
       "  color: var(--xr-disabled-color);\n",
       "}\n",
       "\n",
       ".xr-section-item input:enabled + label {\n",
       "  cursor: pointer;\n",
       "  color: var(--xr-font-color2);\n",
       "}\n",
       "\n",
       ".xr-section-item input:enabled + label:hover {\n",
       "  color: var(--xr-font-color0);\n",
       "}\n",
       "\n",
       ".xr-section-summary {\n",
       "  grid-column: 1;\n",
       "  color: var(--xr-font-color2);\n",
       "  font-weight: 500;\n",
       "}\n",
       "\n",
       ".xr-section-summary > span {\n",
       "  display: inline-block;\n",
       "  padding-left: 0.5em;\n",
       "}\n",
       "\n",
       ".xr-section-summary-in:disabled + label {\n",
       "  color: var(--xr-font-color2);\n",
       "}\n",
       "\n",
       ".xr-section-summary-in + label:before {\n",
       "  display: inline-block;\n",
       "  content: '►';\n",
       "  font-size: 11px;\n",
       "  width: 15px;\n",
       "  text-align: center;\n",
       "}\n",
       "\n",
       ".xr-section-summary-in:disabled + label:before {\n",
       "  color: var(--xr-disabled-color);\n",
       "}\n",
       "\n",
       ".xr-section-summary-in:checked + label:before {\n",
       "  content: '▼';\n",
       "}\n",
       "\n",
       ".xr-section-summary-in:checked + label > span {\n",
       "  display: none;\n",
       "}\n",
       "\n",
       ".xr-section-summary,\n",
       ".xr-section-inline-details {\n",
       "  padding-top: 4px;\n",
       "  padding-bottom: 4px;\n",
       "}\n",
       "\n",
       ".xr-section-inline-details {\n",
       "  grid-column: 2 / -1;\n",
       "}\n",
       "\n",
       ".xr-section-details {\n",
       "  display: none;\n",
       "  grid-column: 1 / -1;\n",
       "  margin-bottom: 5px;\n",
       "}\n",
       "\n",
       ".xr-section-summary-in:checked ~ .xr-section-details {\n",
       "  display: contents;\n",
       "}\n",
       "\n",
       ".xr-array-wrap {\n",
       "  grid-column: 1 / -1;\n",
       "  display: grid;\n",
       "  grid-template-columns: 20px auto;\n",
       "}\n",
       "\n",
       ".xr-array-wrap > label {\n",
       "  grid-column: 1;\n",
       "  vertical-align: top;\n",
       "}\n",
       "\n",
       ".xr-preview {\n",
       "  color: var(--xr-font-color3);\n",
       "}\n",
       "\n",
       ".xr-array-preview,\n",
       ".xr-array-data {\n",
       "  padding: 0 5px !important;\n",
       "  grid-column: 2;\n",
       "}\n",
       "\n",
       ".xr-array-data,\n",
       ".xr-array-in:checked ~ .xr-array-preview {\n",
       "  display: none;\n",
       "}\n",
       "\n",
       ".xr-array-in:checked ~ .xr-array-data,\n",
       ".xr-array-preview {\n",
       "  display: inline-block;\n",
       "}\n",
       "\n",
       ".xr-dim-list {\n",
       "  display: inline-block !important;\n",
       "  list-style: none;\n",
       "  padding: 0 !important;\n",
       "  margin: 0;\n",
       "}\n",
       "\n",
       ".xr-dim-list li {\n",
       "  display: inline-block;\n",
       "  padding: 0;\n",
       "  margin: 0;\n",
       "}\n",
       "\n",
       ".xr-dim-list:before {\n",
       "  content: '(';\n",
       "}\n",
       "\n",
       ".xr-dim-list:after {\n",
       "  content: ')';\n",
       "}\n",
       "\n",
       ".xr-dim-list li:not(:last-child):after {\n",
       "  content: ',';\n",
       "  padding-right: 5px;\n",
       "}\n",
       "\n",
       ".xr-has-index {\n",
       "  font-weight: bold;\n",
       "}\n",
       "\n",
       ".xr-var-list,\n",
       ".xr-var-item {\n",
       "  display: contents;\n",
       "}\n",
       "\n",
       ".xr-var-item > div,\n",
       ".xr-var-item label,\n",
       ".xr-var-item > .xr-var-name span {\n",
       "  background-color: var(--xr-background-color-row-even);\n",
       "  margin-bottom: 0;\n",
       "}\n",
       "\n",
       ".xr-var-item > .xr-var-name:hover span {\n",
       "  padding-right: 5px;\n",
       "}\n",
       "\n",
       ".xr-var-list > li:nth-child(odd) > div,\n",
       ".xr-var-list > li:nth-child(odd) > label,\n",
       ".xr-var-list > li:nth-child(odd) > .xr-var-name span {\n",
       "  background-color: var(--xr-background-color-row-odd);\n",
       "}\n",
       "\n",
       ".xr-var-name {\n",
       "  grid-column: 1;\n",
       "}\n",
       "\n",
       ".xr-var-dims {\n",
       "  grid-column: 2;\n",
       "}\n",
       "\n",
       ".xr-var-dtype {\n",
       "  grid-column: 3;\n",
       "  text-align: right;\n",
       "  color: var(--xr-font-color2);\n",
       "}\n",
       "\n",
       ".xr-var-preview {\n",
       "  grid-column: 4;\n",
       "}\n",
       "\n",
       ".xr-index-preview {\n",
       "  grid-column: 2 / 5;\n",
       "  color: var(--xr-font-color2);\n",
       "}\n",
       "\n",
       ".xr-var-name,\n",
       ".xr-var-dims,\n",
       ".xr-var-dtype,\n",
       ".xr-preview,\n",
       ".xr-attrs dt {\n",
       "  white-space: nowrap;\n",
       "  overflow: hidden;\n",
       "  text-overflow: ellipsis;\n",
       "  padding-right: 10px;\n",
       "}\n",
       "\n",
       ".xr-var-name:hover,\n",
       ".xr-var-dims:hover,\n",
       ".xr-var-dtype:hover,\n",
       ".xr-attrs dt:hover {\n",
       "  overflow: visible;\n",
       "  width: auto;\n",
       "  z-index: 1;\n",
       "}\n",
       "\n",
       ".xr-var-attrs,\n",
       ".xr-var-data,\n",
       ".xr-index-data {\n",
       "  display: none;\n",
       "  background-color: var(--xr-background-color) !important;\n",
       "  padding-bottom: 5px !important;\n",
       "}\n",
       "\n",
       ".xr-var-attrs-in:checked ~ .xr-var-attrs,\n",
       ".xr-var-data-in:checked ~ .xr-var-data,\n",
       ".xr-index-data-in:checked ~ .xr-index-data {\n",
       "  display: block;\n",
       "}\n",
       "\n",
       ".xr-var-data > table {\n",
       "  float: right;\n",
       "}\n",
       "\n",
       ".xr-var-name span,\n",
       ".xr-var-data,\n",
       ".xr-index-name div,\n",
       ".xr-index-data,\n",
       ".xr-attrs {\n",
       "  padding-left: 25px !important;\n",
       "}\n",
       "\n",
       ".xr-attrs,\n",
       ".xr-var-attrs,\n",
       ".xr-var-data,\n",
       ".xr-index-data {\n",
       "  grid-column: 1 / -1;\n",
       "}\n",
       "\n",
       "dl.xr-attrs {\n",
       "  padding: 0;\n",
       "  margin: 0;\n",
       "  display: grid;\n",
       "  grid-template-columns: 125px auto;\n",
       "}\n",
       "\n",
       ".xr-attrs dt,\n",
       ".xr-attrs dd {\n",
       "  padding: 0;\n",
       "  margin: 0;\n",
       "  float: left;\n",
       "  padding-right: 10px;\n",
       "  width: auto;\n",
       "}\n",
       "\n",
       ".xr-attrs dt {\n",
       "  font-weight: normal;\n",
       "  grid-column: 1;\n",
       "}\n",
       "\n",
       ".xr-attrs dt:hover span {\n",
       "  display: inline-block;\n",
       "  background: var(--xr-background-color);\n",
       "  padding-right: 10px;\n",
       "}\n",
       "\n",
       ".xr-attrs dd {\n",
       "  grid-column: 2;\n",
       "  white-space: pre-wrap;\n",
       "  word-break: break-all;\n",
       "}\n",
       "\n",
       ".xr-icon-database,\n",
       ".xr-icon-file-text2,\n",
       ".xr-no-icon {\n",
       "  display: inline-block;\n",
       "  vertical-align: middle;\n",
       "  width: 1em;\n",
       "  height: 1.5em !important;\n",
       "  stroke-width: 0;\n",
       "  stroke: currentColor;\n",
       "  fill: currentColor;\n",
       "}\n",
       "</style><pre class='xr-text-repr-fallback'>&lt;xarray.Dataset&gt;\n",
       "Dimensions:               (rows: 4090, columns: 4865)\n",
       "Dimensions without coordinates: rows, columns\n",
       "Data variables: (12/13)\n",
       "    CHL_NN                (rows, columns) float32 dask.array&lt;chunksize=(4090, 4865), meta=np.ndarray&gt;\n",
       "    CHL_NN_unc            (rows, columns) float32 dask.array&lt;chunksize=(4090, 4865), meta=np.ndarray&gt;\n",
       "    CHL_OC4ME             (rows, columns) float32 dask.array&lt;chunksize=(4090, 4865), meta=np.ndarray&gt;\n",
       "    CHL_OC4ME_unc         (rows, columns) float32 dask.array&lt;chunksize=(4090, 4865), meta=np.ndarray&gt;\n",
       "    Oa06_reflectance      (rows, columns) float32 dask.array&lt;chunksize=(4090, 4865), meta=np.ndarray&gt;\n",
       "    Oa06_reflectance_unc  (rows, columns) float32 dask.array&lt;chunksize=(4090, 4865), meta=np.ndarray&gt;\n",
       "    ...                    ...\n",
       "    Oa08_reflectance_unc  (rows, columns) float32 dask.array&lt;chunksize=(4090, 4865), meta=np.ndarray&gt;\n",
       "    PAR                   (rows, columns) float32 dask.array&lt;chunksize=(4090, 4865), meta=np.ndarray&gt;\n",
       "    PAR_unc               (rows, columns) float32 dask.array&lt;chunksize=(4090, 4865), meta=np.ndarray&gt;\n",
       "    altitude              (rows, columns) float32 dask.array&lt;chunksize=(4090, 4865), meta=np.ndarray&gt;\n",
       "    latitude              (rows, columns) float64 dask.array&lt;chunksize=(4090, 4865), meta=np.ndarray&gt;\n",
       "    longitude             (rows, columns) float64 dask.array&lt;chunksize=(4090, 4865), meta=np.ndarray&gt;\n",
       "Attributes: (12/17)\n",
       "    absolute_orbit_number:  31792\n",
       "    ac_subsampling_factor:  64\n",
       "    al_subsampling_factor:  1\n",
       "    comment:                 \n",
       "    contact:                ops@eumetsat.int\n",
       "    creation_time:          2024-06-03T16:28:03Z\n",
       "    ...                     ...\n",
       "    references:             S3IPF PDS 004.3 - i2r5 - Product Data Format Spec...\n",
       "    resolution:             [ 270 294 ]\n",
       "    source:                 IPF-OL-2 07.04\n",
       "    start_time:             2024-06-02T08:39:44.349192Z\n",
       "    stop_time:              2024-06-02T08:42:44.272918Z\n",
       "    title:                  OLCI Level 2 WATER Product, Neural Net Chlorophyl...</pre><div class='xr-wrap' style='display:none'><div class='xr-header'><div class='xr-obj-type'>xarray.Dataset</div></div><ul class='xr-sections'><li class='xr-section-item'><input id='section-0022cb25-1210-4918-8432-9b1484d7ef7a' class='xr-section-summary-in' type='checkbox' disabled ><label for='section-0022cb25-1210-4918-8432-9b1484d7ef7a' class='xr-section-summary'  title='Expand/collapse section'>Dimensions:</label><div class='xr-section-inline-details'><ul class='xr-dim-list'><li><span>rows</span>: 4090</li><li><span>columns</span>: 4865</li></ul></div><div class='xr-section-details'></div></li><li class='xr-section-item'><input id='section-fb4cb7e3-5bc8-4d91-8af9-9c7e7f456971' class='xr-section-summary-in' type='checkbox' disabled ><label for='section-fb4cb7e3-5bc8-4d91-8af9-9c7e7f456971' class='xr-section-summary'  title='Expand/collapse section'>Coordinates: <span>(0)</span></label><div class='xr-section-inline-details'></div><div class='xr-section-details'><ul class='xr-var-list'></ul></div></li><li class='xr-section-item'><input id='section-af513601-974e-4f16-822f-63caea180c7b' class='xr-section-summary-in' type='checkbox'  checked><label for='section-af513601-974e-4f16-822f-63caea180c7b' class='xr-section-summary' >Data variables: <span>(13)</span></label><div class='xr-section-inline-details'></div><div class='xr-section-details'><ul class='xr-var-list'><li class='xr-var-item'><div class='xr-var-name'><span>CHL_NN</span></div><div class='xr-var-dims'>(rows, columns)</div><div class='xr-var-dtype'>float32</div><div class='xr-var-preview xr-preview'>dask.array&lt;chunksize=(4090, 4865), meta=np.ndarray&gt;</div><input id='attrs-1bc68f8c-0625-4d6e-a0d8-3ad905db6066' class='xr-var-attrs-in' type='checkbox' ><label for='attrs-1bc68f8c-0625-4d6e-a0d8-3ad905db6066' title='Show/Hide attributes'><svg class='icon xr-icon-file-text2'><use xlink:href='#icon-file-text2'></use></svg></label><input id='data-c5aa0c26-df9b-43cd-8fdf-4faa16397e70' class='xr-var-data-in' type='checkbox'><label for='data-c5aa0c26-df9b-43cd-8fdf-4faa16397e70' title='Show/Hide data repr'><svg class='icon xr-icon-database'><use xlink:href='#icon-database'></use></svg></label><div class='xr-var-attrs'><dl class='xr-attrs'><dt><span>long_name :</span></dt><dd>log10 scaled (Neural Net) Algal pigment concentration</dd><dt><span>units :</span></dt><dd>lg(re mg.m-3)</dd></dl></div><div class='xr-var-data'><table>\n",
       "    <tr>\n",
       "        <td>\n",
       "            <table style=\"border-collapse: collapse;\">\n",
       "                <thead>\n",
       "                    <tr>\n",
       "                        <td> </td>\n",
       "                        <th> Array </th>\n",
       "                        <th> Chunk </th>\n",
       "                    </tr>\n",
       "                </thead>\n",
       "                <tbody>\n",
       "                    \n",
       "                    <tr>\n",
       "                        <th> Bytes </th>\n",
       "                        <td> 75.90 MiB </td>\n",
       "                        <td> 75.90 MiB </td>\n",
       "                    </tr>\n",
       "                    \n",
       "                    <tr>\n",
       "                        <th> Shape </th>\n",
       "                        <td> (4090, 4865) </td>\n",
       "                        <td> (4090, 4865) </td>\n",
       "                    </tr>\n",
       "                    <tr>\n",
       "                        <th> Dask graph </th>\n",
       "                        <td colspan=\"2\"> 1 chunks in 2 graph layers </td>\n",
       "                    </tr>\n",
       "                    <tr>\n",
       "                        <th> Data type </th>\n",
       "                        <td colspan=\"2\"> float32 numpy.ndarray </td>\n",
       "                    </tr>\n",
       "                </tbody>\n",
       "            </table>\n",
       "        </td>\n",
       "        <td>\n",
       "        <svg width=\"170\" height=\"150\" style=\"stroke:rgb(0,0,0);stroke-width:1\" >\n",
       "\n",
       "  <!-- Horizontal lines -->\n",
       "  <line x1=\"0\" y1=\"0\" x2=\"120\" y2=\"0\" style=\"stroke-width:2\" />\n",
       "  <line x1=\"0\" y1=\"100\" x2=\"120\" y2=\"100\" style=\"stroke-width:2\" />\n",
       "\n",
       "  <!-- Vertical lines -->\n",
       "  <line x1=\"0\" y1=\"0\" x2=\"0\" y2=\"100\" style=\"stroke-width:2\" />\n",
       "  <line x1=\"120\" y1=\"0\" x2=\"120\" y2=\"100\" style=\"stroke-width:2\" />\n",
       "\n",
       "  <!-- Colored Rectangle -->\n",
       "  <polygon points=\"0.0,0.0 120.0,0.0 120.0,100.88386433710176 0.0,100.88386433710176\" style=\"fill:#ECB172A0;stroke-width:0\"/>\n",
       "\n",
       "  <!-- Text -->\n",
       "  <text x=\"60.000000\" y=\"120.883864\" font-size=\"1.0rem\" font-weight=\"100\" text-anchor=\"middle\" >4865</text>\n",
       "  <text x=\"140.000000\" y=\"50.441932\" font-size=\"1.0rem\" font-weight=\"100\" text-anchor=\"middle\" transform=\"rotate(-90,140.000000,50.441932)\">4090</text>\n",
       "</svg>\n",
       "        </td>\n",
       "    </tr>\n",
       "</table></div></li><li class='xr-var-item'><div class='xr-var-name'><span>CHL_NN_unc</span></div><div class='xr-var-dims'>(rows, columns)</div><div class='xr-var-dtype'>float32</div><div class='xr-var-preview xr-preview'>dask.array&lt;chunksize=(4090, 4865), meta=np.ndarray&gt;</div><input id='attrs-402be08c-fa83-4b56-b13e-b21282432eed' class='xr-var-attrs-in' type='checkbox' ><label for='attrs-402be08c-fa83-4b56-b13e-b21282432eed' title='Show/Hide attributes'><svg class='icon xr-icon-file-text2'><use xlink:href='#icon-file-text2'></use></svg></label><input id='data-27295dd2-d4a5-4764-be4e-b5564e9449d8' class='xr-var-data-in' type='checkbox'><label for='data-27295dd2-d4a5-4764-be4e-b5564e9449d8' title='Show/Hide data repr'><svg class='icon xr-icon-database'><use xlink:href='#icon-database'></use></svg></label><div class='xr-var-attrs'><dl class='xr-attrs'><dt><span>long_name :</span></dt><dd>log10 scaled Uncertainty estimate for (Neural Net) algal pigment concentration</dd><dt><span>units :</span></dt><dd>lg(re mg.m-3)</dd></dl></div><div class='xr-var-data'><table>\n",
       "    <tr>\n",
       "        <td>\n",
       "            <table style=\"border-collapse: collapse;\">\n",
       "                <thead>\n",
       "                    <tr>\n",
       "                        <td> </td>\n",
       "                        <th> Array </th>\n",
       "                        <th> Chunk </th>\n",
       "                    </tr>\n",
       "                </thead>\n",
       "                <tbody>\n",
       "                    \n",
       "                    <tr>\n",
       "                        <th> Bytes </th>\n",
       "                        <td> 75.90 MiB </td>\n",
       "                        <td> 75.90 MiB </td>\n",
       "                    </tr>\n",
       "                    \n",
       "                    <tr>\n",
       "                        <th> Shape </th>\n",
       "                        <td> (4090, 4865) </td>\n",
       "                        <td> (4090, 4865) </td>\n",
       "                    </tr>\n",
       "                    <tr>\n",
       "                        <th> Dask graph </th>\n",
       "                        <td colspan=\"2\"> 1 chunks in 2 graph layers </td>\n",
       "                    </tr>\n",
       "                    <tr>\n",
       "                        <th> Data type </th>\n",
       "                        <td colspan=\"2\"> float32 numpy.ndarray </td>\n",
       "                    </tr>\n",
       "                </tbody>\n",
       "            </table>\n",
       "        </td>\n",
       "        <td>\n",
       "        <svg width=\"170\" height=\"150\" style=\"stroke:rgb(0,0,0);stroke-width:1\" >\n",
       "\n",
       "  <!-- Horizontal lines -->\n",
       "  <line x1=\"0\" y1=\"0\" x2=\"120\" y2=\"0\" style=\"stroke-width:2\" />\n",
       "  <line x1=\"0\" y1=\"100\" x2=\"120\" y2=\"100\" style=\"stroke-width:2\" />\n",
       "\n",
       "  <!-- Vertical lines -->\n",
       "  <line x1=\"0\" y1=\"0\" x2=\"0\" y2=\"100\" style=\"stroke-width:2\" />\n",
       "  <line x1=\"120\" y1=\"0\" x2=\"120\" y2=\"100\" style=\"stroke-width:2\" />\n",
       "\n",
       "  <!-- Colored Rectangle -->\n",
       "  <polygon points=\"0.0,0.0 120.0,0.0 120.0,100.88386433710176 0.0,100.88386433710176\" style=\"fill:#ECB172A0;stroke-width:0\"/>\n",
       "\n",
       "  <!-- Text -->\n",
       "  <text x=\"60.000000\" y=\"120.883864\" font-size=\"1.0rem\" font-weight=\"100\" text-anchor=\"middle\" >4865</text>\n",
       "  <text x=\"140.000000\" y=\"50.441932\" font-size=\"1.0rem\" font-weight=\"100\" text-anchor=\"middle\" transform=\"rotate(-90,140.000000,50.441932)\">4090</text>\n",
       "</svg>\n",
       "        </td>\n",
       "    </tr>\n",
       "</table></div></li><li class='xr-var-item'><div class='xr-var-name'><span>CHL_OC4ME</span></div><div class='xr-var-dims'>(rows, columns)</div><div class='xr-var-dtype'>float32</div><div class='xr-var-preview xr-preview'>dask.array&lt;chunksize=(4090, 4865), meta=np.ndarray&gt;</div><input id='attrs-813bbf8b-8a4b-46b8-8fae-639b3d3edcb3' class='xr-var-attrs-in' type='checkbox' ><label for='attrs-813bbf8b-8a4b-46b8-8fae-639b3d3edcb3' title='Show/Hide attributes'><svg class='icon xr-icon-file-text2'><use xlink:href='#icon-file-text2'></use></svg></label><input id='data-5cec8118-af15-452f-85b5-b9fe251aaf1a' class='xr-var-data-in' type='checkbox'><label for='data-5cec8118-af15-452f-85b5-b9fe251aaf1a' title='Show/Hide data repr'><svg class='icon xr-icon-database'><use xlink:href='#icon-database'></use></svg></label><div class='xr-var-attrs'><dl class='xr-attrs'><dt><span>long_name :</span></dt><dd>log10 scaled (OC4ME) Algal pigment concentration</dd><dt><span>units :</span></dt><dd>lg(re mg.m-3)</dd></dl></div><div class='xr-var-data'><table>\n",
       "    <tr>\n",
       "        <td>\n",
       "            <table style=\"border-collapse: collapse;\">\n",
       "                <thead>\n",
       "                    <tr>\n",
       "                        <td> </td>\n",
       "                        <th> Array </th>\n",
       "                        <th> Chunk </th>\n",
       "                    </tr>\n",
       "                </thead>\n",
       "                <tbody>\n",
       "                    \n",
       "                    <tr>\n",
       "                        <th> Bytes </th>\n",
       "                        <td> 75.90 MiB </td>\n",
       "                        <td> 75.90 MiB </td>\n",
       "                    </tr>\n",
       "                    \n",
       "                    <tr>\n",
       "                        <th> Shape </th>\n",
       "                        <td> (4090, 4865) </td>\n",
       "                        <td> (4090, 4865) </td>\n",
       "                    </tr>\n",
       "                    <tr>\n",
       "                        <th> Dask graph </th>\n",
       "                        <td colspan=\"2\"> 1 chunks in 2 graph layers </td>\n",
       "                    </tr>\n",
       "                    <tr>\n",
       "                        <th> Data type </th>\n",
       "                        <td colspan=\"2\"> float32 numpy.ndarray </td>\n",
       "                    </tr>\n",
       "                </tbody>\n",
       "            </table>\n",
       "        </td>\n",
       "        <td>\n",
       "        <svg width=\"170\" height=\"150\" style=\"stroke:rgb(0,0,0);stroke-width:1\" >\n",
       "\n",
       "  <!-- Horizontal lines -->\n",
       "  <line x1=\"0\" y1=\"0\" x2=\"120\" y2=\"0\" style=\"stroke-width:2\" />\n",
       "  <line x1=\"0\" y1=\"100\" x2=\"120\" y2=\"100\" style=\"stroke-width:2\" />\n",
       "\n",
       "  <!-- Vertical lines -->\n",
       "  <line x1=\"0\" y1=\"0\" x2=\"0\" y2=\"100\" style=\"stroke-width:2\" />\n",
       "  <line x1=\"120\" y1=\"0\" x2=\"120\" y2=\"100\" style=\"stroke-width:2\" />\n",
       "\n",
       "  <!-- Colored Rectangle -->\n",
       "  <polygon points=\"0.0,0.0 120.0,0.0 120.0,100.88386433710176 0.0,100.88386433710176\" style=\"fill:#ECB172A0;stroke-width:0\"/>\n",
       "\n",
       "  <!-- Text -->\n",
       "  <text x=\"60.000000\" y=\"120.883864\" font-size=\"1.0rem\" font-weight=\"100\" text-anchor=\"middle\" >4865</text>\n",
       "  <text x=\"140.000000\" y=\"50.441932\" font-size=\"1.0rem\" font-weight=\"100\" text-anchor=\"middle\" transform=\"rotate(-90,140.000000,50.441932)\">4090</text>\n",
       "</svg>\n",
       "        </td>\n",
       "    </tr>\n",
       "</table></div></li><li class='xr-var-item'><div class='xr-var-name'><span>CHL_OC4ME_unc</span></div><div class='xr-var-dims'>(rows, columns)</div><div class='xr-var-dtype'>float32</div><div class='xr-var-preview xr-preview'>dask.array&lt;chunksize=(4090, 4865), meta=np.ndarray&gt;</div><input id='attrs-7c3b142f-797c-495d-9bd6-38c769d1c855' class='xr-var-attrs-in' type='checkbox' ><label for='attrs-7c3b142f-797c-495d-9bd6-38c769d1c855' title='Show/Hide attributes'><svg class='icon xr-icon-file-text2'><use xlink:href='#icon-file-text2'></use></svg></label><input id='data-79fdbc69-f3b9-4515-81c5-a68f8caab11c' class='xr-var-data-in' type='checkbox'><label for='data-79fdbc69-f3b9-4515-81c5-a68f8caab11c' title='Show/Hide data repr'><svg class='icon xr-icon-database'><use xlink:href='#icon-database'></use></svg></label><div class='xr-var-attrs'><dl class='xr-attrs'><dt><span>long_name :</span></dt><dd>log10 scaled Uncertainty estimate for (OC4ME) algal pigment concentration</dd><dt><span>units :</span></dt><dd>lg(re mg.m-3)</dd></dl></div><div class='xr-var-data'><table>\n",
       "    <tr>\n",
       "        <td>\n",
       "            <table style=\"border-collapse: collapse;\">\n",
       "                <thead>\n",
       "                    <tr>\n",
       "                        <td> </td>\n",
       "                        <th> Array </th>\n",
       "                        <th> Chunk </th>\n",
       "                    </tr>\n",
       "                </thead>\n",
       "                <tbody>\n",
       "                    \n",
       "                    <tr>\n",
       "                        <th> Bytes </th>\n",
       "                        <td> 75.90 MiB </td>\n",
       "                        <td> 75.90 MiB </td>\n",
       "                    </tr>\n",
       "                    \n",
       "                    <tr>\n",
       "                        <th> Shape </th>\n",
       "                        <td> (4090, 4865) </td>\n",
       "                        <td> (4090, 4865) </td>\n",
       "                    </tr>\n",
       "                    <tr>\n",
       "                        <th> Dask graph </th>\n",
       "                        <td colspan=\"2\"> 1 chunks in 2 graph layers </td>\n",
       "                    </tr>\n",
       "                    <tr>\n",
       "                        <th> Data type </th>\n",
       "                        <td colspan=\"2\"> float32 numpy.ndarray </td>\n",
       "                    </tr>\n",
       "                </tbody>\n",
       "            </table>\n",
       "        </td>\n",
       "        <td>\n",
       "        <svg width=\"170\" height=\"150\" style=\"stroke:rgb(0,0,0);stroke-width:1\" >\n",
       "\n",
       "  <!-- Horizontal lines -->\n",
       "  <line x1=\"0\" y1=\"0\" x2=\"120\" y2=\"0\" style=\"stroke-width:2\" />\n",
       "  <line x1=\"0\" y1=\"100\" x2=\"120\" y2=\"100\" style=\"stroke-width:2\" />\n",
       "\n",
       "  <!-- Vertical lines -->\n",
       "  <line x1=\"0\" y1=\"0\" x2=\"0\" y2=\"100\" style=\"stroke-width:2\" />\n",
       "  <line x1=\"120\" y1=\"0\" x2=\"120\" y2=\"100\" style=\"stroke-width:2\" />\n",
       "\n",
       "  <!-- Colored Rectangle -->\n",
       "  <polygon points=\"0.0,0.0 120.0,0.0 120.0,100.88386433710176 0.0,100.88386433710176\" style=\"fill:#ECB172A0;stroke-width:0\"/>\n",
       "\n",
       "  <!-- Text -->\n",
       "  <text x=\"60.000000\" y=\"120.883864\" font-size=\"1.0rem\" font-weight=\"100\" text-anchor=\"middle\" >4865</text>\n",
       "  <text x=\"140.000000\" y=\"50.441932\" font-size=\"1.0rem\" font-weight=\"100\" text-anchor=\"middle\" transform=\"rotate(-90,140.000000,50.441932)\">4090</text>\n",
       "</svg>\n",
       "        </td>\n",
       "    </tr>\n",
       "</table></div></li><li class='xr-var-item'><div class='xr-var-name'><span>Oa06_reflectance</span></div><div class='xr-var-dims'>(rows, columns)</div><div class='xr-var-dtype'>float32</div><div class='xr-var-preview xr-preview'>dask.array&lt;chunksize=(4090, 4865), meta=np.ndarray&gt;</div><input id='attrs-4000c631-8f08-4309-8892-c26e9ef36a2a' class='xr-var-attrs-in' type='checkbox' ><label for='attrs-4000c631-8f08-4309-8892-c26e9ef36a2a' title='Show/Hide attributes'><svg class='icon xr-icon-file-text2'><use xlink:href='#icon-file-text2'></use></svg></label><input id='data-c811c3ec-8429-4d46-acc6-b4aeffdbf825' class='xr-var-data-in' type='checkbox'><label for='data-c811c3ec-8429-4d46-acc6-b4aeffdbf825' title='Show/Hide data repr'><svg class='icon xr-icon-database'><use xlink:href='#icon-database'></use></svg></label><div class='xr-var-attrs'><dl class='xr-attrs'><dt><span>long_name :</span></dt><dd>Reflectance for OLCI acquisition band Oa06</dd></dl></div><div class='xr-var-data'><table>\n",
       "    <tr>\n",
       "        <td>\n",
       "            <table style=\"border-collapse: collapse;\">\n",
       "                <thead>\n",
       "                    <tr>\n",
       "                        <td> </td>\n",
       "                        <th> Array </th>\n",
       "                        <th> Chunk </th>\n",
       "                    </tr>\n",
       "                </thead>\n",
       "                <tbody>\n",
       "                    \n",
       "                    <tr>\n",
       "                        <th> Bytes </th>\n",
       "                        <td> 75.90 MiB </td>\n",
       "                        <td> 75.90 MiB </td>\n",
       "                    </tr>\n",
       "                    \n",
       "                    <tr>\n",
       "                        <th> Shape </th>\n",
       "                        <td> (4090, 4865) </td>\n",
       "                        <td> (4090, 4865) </td>\n",
       "                    </tr>\n",
       "                    <tr>\n",
       "                        <th> Dask graph </th>\n",
       "                        <td colspan=\"2\"> 1 chunks in 2 graph layers </td>\n",
       "                    </tr>\n",
       "                    <tr>\n",
       "                        <th> Data type </th>\n",
       "                        <td colspan=\"2\"> float32 numpy.ndarray </td>\n",
       "                    </tr>\n",
       "                </tbody>\n",
       "            </table>\n",
       "        </td>\n",
       "        <td>\n",
       "        <svg width=\"170\" height=\"150\" style=\"stroke:rgb(0,0,0);stroke-width:1\" >\n",
       "\n",
       "  <!-- Horizontal lines -->\n",
       "  <line x1=\"0\" y1=\"0\" x2=\"120\" y2=\"0\" style=\"stroke-width:2\" />\n",
       "  <line x1=\"0\" y1=\"100\" x2=\"120\" y2=\"100\" style=\"stroke-width:2\" />\n",
       "\n",
       "  <!-- Vertical lines -->\n",
       "  <line x1=\"0\" y1=\"0\" x2=\"0\" y2=\"100\" style=\"stroke-width:2\" />\n",
       "  <line x1=\"120\" y1=\"0\" x2=\"120\" y2=\"100\" style=\"stroke-width:2\" />\n",
       "\n",
       "  <!-- Colored Rectangle -->\n",
       "  <polygon points=\"0.0,0.0 120.0,0.0 120.0,100.88386433710176 0.0,100.88386433710176\" style=\"fill:#ECB172A0;stroke-width:0\"/>\n",
       "\n",
       "  <!-- Text -->\n",
       "  <text x=\"60.000000\" y=\"120.883864\" font-size=\"1.0rem\" font-weight=\"100\" text-anchor=\"middle\" >4865</text>\n",
       "  <text x=\"140.000000\" y=\"50.441932\" font-size=\"1.0rem\" font-weight=\"100\" text-anchor=\"middle\" transform=\"rotate(-90,140.000000,50.441932)\">4090</text>\n",
       "</svg>\n",
       "        </td>\n",
       "    </tr>\n",
       "</table></div></li><li class='xr-var-item'><div class='xr-var-name'><span>Oa06_reflectance_unc</span></div><div class='xr-var-dims'>(rows, columns)</div><div class='xr-var-dtype'>float32</div><div class='xr-var-preview xr-preview'>dask.array&lt;chunksize=(4090, 4865), meta=np.ndarray&gt;</div><input id='attrs-5e5eff6e-70c4-47ba-af6c-4f9a5c7ab691' class='xr-var-attrs-in' type='checkbox' ><label for='attrs-5e5eff6e-70c4-47ba-af6c-4f9a5c7ab691' title='Show/Hide attributes'><svg class='icon xr-icon-file-text2'><use xlink:href='#icon-file-text2'></use></svg></label><input id='data-1eedb7c9-e848-4ad6-b86f-0e5aa3c40f7c' class='xr-var-data-in' type='checkbox'><label for='data-1eedb7c9-e848-4ad6-b86f-0e5aa3c40f7c' title='Show/Hide data repr'><svg class='icon xr-icon-database'><use xlink:href='#icon-database'></use></svg></label><div class='xr-var-attrs'><dl class='xr-attrs'><dt><span>long_name :</span></dt><dd>log10 scaled Uncertainty estimates for OLCI acquisition band Oa06</dd><dt><span>units :</span></dt><dd>lg</dd></dl></div><div class='xr-var-data'><table>\n",
       "    <tr>\n",
       "        <td>\n",
       "            <table style=\"border-collapse: collapse;\">\n",
       "                <thead>\n",
       "                    <tr>\n",
       "                        <td> </td>\n",
       "                        <th> Array </th>\n",
       "                        <th> Chunk </th>\n",
       "                    </tr>\n",
       "                </thead>\n",
       "                <tbody>\n",
       "                    \n",
       "                    <tr>\n",
       "                        <th> Bytes </th>\n",
       "                        <td> 75.90 MiB </td>\n",
       "                        <td> 75.90 MiB </td>\n",
       "                    </tr>\n",
       "                    \n",
       "                    <tr>\n",
       "                        <th> Shape </th>\n",
       "                        <td> (4090, 4865) </td>\n",
       "                        <td> (4090, 4865) </td>\n",
       "                    </tr>\n",
       "                    <tr>\n",
       "                        <th> Dask graph </th>\n",
       "                        <td colspan=\"2\"> 1 chunks in 2 graph layers </td>\n",
       "                    </tr>\n",
       "                    <tr>\n",
       "                        <th> Data type </th>\n",
       "                        <td colspan=\"2\"> float32 numpy.ndarray </td>\n",
       "                    </tr>\n",
       "                </tbody>\n",
       "            </table>\n",
       "        </td>\n",
       "        <td>\n",
       "        <svg width=\"170\" height=\"150\" style=\"stroke:rgb(0,0,0);stroke-width:1\" >\n",
       "\n",
       "  <!-- Horizontal lines -->\n",
       "  <line x1=\"0\" y1=\"0\" x2=\"120\" y2=\"0\" style=\"stroke-width:2\" />\n",
       "  <line x1=\"0\" y1=\"100\" x2=\"120\" y2=\"100\" style=\"stroke-width:2\" />\n",
       "\n",
       "  <!-- Vertical lines -->\n",
       "  <line x1=\"0\" y1=\"0\" x2=\"0\" y2=\"100\" style=\"stroke-width:2\" />\n",
       "  <line x1=\"120\" y1=\"0\" x2=\"120\" y2=\"100\" style=\"stroke-width:2\" />\n",
       "\n",
       "  <!-- Colored Rectangle -->\n",
       "  <polygon points=\"0.0,0.0 120.0,0.0 120.0,100.88386433710176 0.0,100.88386433710176\" style=\"fill:#ECB172A0;stroke-width:0\"/>\n",
       "\n",
       "  <!-- Text -->\n",
       "  <text x=\"60.000000\" y=\"120.883864\" font-size=\"1.0rem\" font-weight=\"100\" text-anchor=\"middle\" >4865</text>\n",
       "  <text x=\"140.000000\" y=\"50.441932\" font-size=\"1.0rem\" font-weight=\"100\" text-anchor=\"middle\" transform=\"rotate(-90,140.000000,50.441932)\">4090</text>\n",
       "</svg>\n",
       "        </td>\n",
       "    </tr>\n",
       "</table></div></li><li class='xr-var-item'><div class='xr-var-name'><span>Oa08_reflectance</span></div><div class='xr-var-dims'>(rows, columns)</div><div class='xr-var-dtype'>float32</div><div class='xr-var-preview xr-preview'>dask.array&lt;chunksize=(4090, 4865), meta=np.ndarray&gt;</div><input id='attrs-e37e6106-d2fa-4465-9e80-227bf39745f0' class='xr-var-attrs-in' type='checkbox' ><label for='attrs-e37e6106-d2fa-4465-9e80-227bf39745f0' title='Show/Hide attributes'><svg class='icon xr-icon-file-text2'><use xlink:href='#icon-file-text2'></use></svg></label><input id='data-ed00b9fc-e98c-4ce5-974a-57f81d1c457d' class='xr-var-data-in' type='checkbox'><label for='data-ed00b9fc-e98c-4ce5-974a-57f81d1c457d' title='Show/Hide data repr'><svg class='icon xr-icon-database'><use xlink:href='#icon-database'></use></svg></label><div class='xr-var-attrs'><dl class='xr-attrs'><dt><span>long_name :</span></dt><dd>Reflectance for OLCI acquisition band Oa08</dd></dl></div><div class='xr-var-data'><table>\n",
       "    <tr>\n",
       "        <td>\n",
       "            <table style=\"border-collapse: collapse;\">\n",
       "                <thead>\n",
       "                    <tr>\n",
       "                        <td> </td>\n",
       "                        <th> Array </th>\n",
       "                        <th> Chunk </th>\n",
       "                    </tr>\n",
       "                </thead>\n",
       "                <tbody>\n",
       "                    \n",
       "                    <tr>\n",
       "                        <th> Bytes </th>\n",
       "                        <td> 75.90 MiB </td>\n",
       "                        <td> 75.90 MiB </td>\n",
       "                    </tr>\n",
       "                    \n",
       "                    <tr>\n",
       "                        <th> Shape </th>\n",
       "                        <td> (4090, 4865) </td>\n",
       "                        <td> (4090, 4865) </td>\n",
       "                    </tr>\n",
       "                    <tr>\n",
       "                        <th> Dask graph </th>\n",
       "                        <td colspan=\"2\"> 1 chunks in 2 graph layers </td>\n",
       "                    </tr>\n",
       "                    <tr>\n",
       "                        <th> Data type </th>\n",
       "                        <td colspan=\"2\"> float32 numpy.ndarray </td>\n",
       "                    </tr>\n",
       "                </tbody>\n",
       "            </table>\n",
       "        </td>\n",
       "        <td>\n",
       "        <svg width=\"170\" height=\"150\" style=\"stroke:rgb(0,0,0);stroke-width:1\" >\n",
       "\n",
       "  <!-- Horizontal lines -->\n",
       "  <line x1=\"0\" y1=\"0\" x2=\"120\" y2=\"0\" style=\"stroke-width:2\" />\n",
       "  <line x1=\"0\" y1=\"100\" x2=\"120\" y2=\"100\" style=\"stroke-width:2\" />\n",
       "\n",
       "  <!-- Vertical lines -->\n",
       "  <line x1=\"0\" y1=\"0\" x2=\"0\" y2=\"100\" style=\"stroke-width:2\" />\n",
       "  <line x1=\"120\" y1=\"0\" x2=\"120\" y2=\"100\" style=\"stroke-width:2\" />\n",
       "\n",
       "  <!-- Colored Rectangle -->\n",
       "  <polygon points=\"0.0,0.0 120.0,0.0 120.0,100.88386433710176 0.0,100.88386433710176\" style=\"fill:#ECB172A0;stroke-width:0\"/>\n",
       "\n",
       "  <!-- Text -->\n",
       "  <text x=\"60.000000\" y=\"120.883864\" font-size=\"1.0rem\" font-weight=\"100\" text-anchor=\"middle\" >4865</text>\n",
       "  <text x=\"140.000000\" y=\"50.441932\" font-size=\"1.0rem\" font-weight=\"100\" text-anchor=\"middle\" transform=\"rotate(-90,140.000000,50.441932)\">4090</text>\n",
       "</svg>\n",
       "        </td>\n",
       "    </tr>\n",
       "</table></div></li><li class='xr-var-item'><div class='xr-var-name'><span>Oa08_reflectance_unc</span></div><div class='xr-var-dims'>(rows, columns)</div><div class='xr-var-dtype'>float32</div><div class='xr-var-preview xr-preview'>dask.array&lt;chunksize=(4090, 4865), meta=np.ndarray&gt;</div><input id='attrs-5405fc60-1ee6-4916-a864-e9c94cebb975' class='xr-var-attrs-in' type='checkbox' ><label for='attrs-5405fc60-1ee6-4916-a864-e9c94cebb975' title='Show/Hide attributes'><svg class='icon xr-icon-file-text2'><use xlink:href='#icon-file-text2'></use></svg></label><input id='data-a8cc976f-a89a-45b6-ba00-951367346757' class='xr-var-data-in' type='checkbox'><label for='data-a8cc976f-a89a-45b6-ba00-951367346757' title='Show/Hide data repr'><svg class='icon xr-icon-database'><use xlink:href='#icon-database'></use></svg></label><div class='xr-var-attrs'><dl class='xr-attrs'><dt><span>long_name :</span></dt><dd>log10 scaled Uncertainty estimates for OLCI acquisition band Oa08</dd><dt><span>units :</span></dt><dd>lg</dd></dl></div><div class='xr-var-data'><table>\n",
       "    <tr>\n",
       "        <td>\n",
       "            <table style=\"border-collapse: collapse;\">\n",
       "                <thead>\n",
       "                    <tr>\n",
       "                        <td> </td>\n",
       "                        <th> Array </th>\n",
       "                        <th> Chunk </th>\n",
       "                    </tr>\n",
       "                </thead>\n",
       "                <tbody>\n",
       "                    \n",
       "                    <tr>\n",
       "                        <th> Bytes </th>\n",
       "                        <td> 75.90 MiB </td>\n",
       "                        <td> 75.90 MiB </td>\n",
       "                    </tr>\n",
       "                    \n",
       "                    <tr>\n",
       "                        <th> Shape </th>\n",
       "                        <td> (4090, 4865) </td>\n",
       "                        <td> (4090, 4865) </td>\n",
       "                    </tr>\n",
       "                    <tr>\n",
       "                        <th> Dask graph </th>\n",
       "                        <td colspan=\"2\"> 1 chunks in 2 graph layers </td>\n",
       "                    </tr>\n",
       "                    <tr>\n",
       "                        <th> Data type </th>\n",
       "                        <td colspan=\"2\"> float32 numpy.ndarray </td>\n",
       "                    </tr>\n",
       "                </tbody>\n",
       "            </table>\n",
       "        </td>\n",
       "        <td>\n",
       "        <svg width=\"170\" height=\"150\" style=\"stroke:rgb(0,0,0);stroke-width:1\" >\n",
       "\n",
       "  <!-- Horizontal lines -->\n",
       "  <line x1=\"0\" y1=\"0\" x2=\"120\" y2=\"0\" style=\"stroke-width:2\" />\n",
       "  <line x1=\"0\" y1=\"100\" x2=\"120\" y2=\"100\" style=\"stroke-width:2\" />\n",
       "\n",
       "  <!-- Vertical lines -->\n",
       "  <line x1=\"0\" y1=\"0\" x2=\"0\" y2=\"100\" style=\"stroke-width:2\" />\n",
       "  <line x1=\"120\" y1=\"0\" x2=\"120\" y2=\"100\" style=\"stroke-width:2\" />\n",
       "\n",
       "  <!-- Colored Rectangle -->\n",
       "  <polygon points=\"0.0,0.0 120.0,0.0 120.0,100.88386433710176 0.0,100.88386433710176\" style=\"fill:#ECB172A0;stroke-width:0\"/>\n",
       "\n",
       "  <!-- Text -->\n",
       "  <text x=\"60.000000\" y=\"120.883864\" font-size=\"1.0rem\" font-weight=\"100\" text-anchor=\"middle\" >4865</text>\n",
       "  <text x=\"140.000000\" y=\"50.441932\" font-size=\"1.0rem\" font-weight=\"100\" text-anchor=\"middle\" transform=\"rotate(-90,140.000000,50.441932)\">4090</text>\n",
       "</svg>\n",
       "        </td>\n",
       "    </tr>\n",
       "</table></div></li><li class='xr-var-item'><div class='xr-var-name'><span>PAR</span></div><div class='xr-var-dims'>(rows, columns)</div><div class='xr-var-dtype'>float32</div><div class='xr-var-preview xr-preview'>dask.array&lt;chunksize=(4090, 4865), meta=np.ndarray&gt;</div><input id='attrs-2da97ba5-0921-441e-bc42-ead1100a0bd4' class='xr-var-attrs-in' type='checkbox' ><label for='attrs-2da97ba5-0921-441e-bc42-ead1100a0bd4' title='Show/Hide attributes'><svg class='icon xr-icon-file-text2'><use xlink:href='#icon-file-text2'></use></svg></label><input id='data-64ceacc1-87c2-421d-88a3-1c16303d150c' class='xr-var-data-in' type='checkbox'><label for='data-64ceacc1-87c2-421d-88a3-1c16303d150c' title='Show/Hide data repr'><svg class='icon xr-icon-database'><use xlink:href='#icon-database'></use></svg></label><div class='xr-var-attrs'><dl class='xr-attrs'><dt><span>long_name :</span></dt><dd>Photosynthetically active radiation</dd><dt><span>units :</span></dt><dd>microeinstein.m-2.s-1</dd></dl></div><div class='xr-var-data'><table>\n",
       "    <tr>\n",
       "        <td>\n",
       "            <table style=\"border-collapse: collapse;\">\n",
       "                <thead>\n",
       "                    <tr>\n",
       "                        <td> </td>\n",
       "                        <th> Array </th>\n",
       "                        <th> Chunk </th>\n",
       "                    </tr>\n",
       "                </thead>\n",
       "                <tbody>\n",
       "                    \n",
       "                    <tr>\n",
       "                        <th> Bytes </th>\n",
       "                        <td> 75.90 MiB </td>\n",
       "                        <td> 75.90 MiB </td>\n",
       "                    </tr>\n",
       "                    \n",
       "                    <tr>\n",
       "                        <th> Shape </th>\n",
       "                        <td> (4090, 4865) </td>\n",
       "                        <td> (4090, 4865) </td>\n",
       "                    </tr>\n",
       "                    <tr>\n",
       "                        <th> Dask graph </th>\n",
       "                        <td colspan=\"2\"> 1 chunks in 2 graph layers </td>\n",
       "                    </tr>\n",
       "                    <tr>\n",
       "                        <th> Data type </th>\n",
       "                        <td colspan=\"2\"> float32 numpy.ndarray </td>\n",
       "                    </tr>\n",
       "                </tbody>\n",
       "            </table>\n",
       "        </td>\n",
       "        <td>\n",
       "        <svg width=\"170\" height=\"150\" style=\"stroke:rgb(0,0,0);stroke-width:1\" >\n",
       "\n",
       "  <!-- Horizontal lines -->\n",
       "  <line x1=\"0\" y1=\"0\" x2=\"120\" y2=\"0\" style=\"stroke-width:2\" />\n",
       "  <line x1=\"0\" y1=\"100\" x2=\"120\" y2=\"100\" style=\"stroke-width:2\" />\n",
       "\n",
       "  <!-- Vertical lines -->\n",
       "  <line x1=\"0\" y1=\"0\" x2=\"0\" y2=\"100\" style=\"stroke-width:2\" />\n",
       "  <line x1=\"120\" y1=\"0\" x2=\"120\" y2=\"100\" style=\"stroke-width:2\" />\n",
       "\n",
       "  <!-- Colored Rectangle -->\n",
       "  <polygon points=\"0.0,0.0 120.0,0.0 120.0,100.88386433710176 0.0,100.88386433710176\" style=\"fill:#ECB172A0;stroke-width:0\"/>\n",
       "\n",
       "  <!-- Text -->\n",
       "  <text x=\"60.000000\" y=\"120.883864\" font-size=\"1.0rem\" font-weight=\"100\" text-anchor=\"middle\" >4865</text>\n",
       "  <text x=\"140.000000\" y=\"50.441932\" font-size=\"1.0rem\" font-weight=\"100\" text-anchor=\"middle\" transform=\"rotate(-90,140.000000,50.441932)\">4090</text>\n",
       "</svg>\n",
       "        </td>\n",
       "    </tr>\n",
       "</table></div></li><li class='xr-var-item'><div class='xr-var-name'><span>PAR_unc</span></div><div class='xr-var-dims'>(rows, columns)</div><div class='xr-var-dtype'>float32</div><div class='xr-var-preview xr-preview'>dask.array&lt;chunksize=(4090, 4865), meta=np.ndarray&gt;</div><input id='attrs-c43a8a43-d2a2-4db9-9cec-bd457a671c97' class='xr-var-attrs-in' type='checkbox' ><label for='attrs-c43a8a43-d2a2-4db9-9cec-bd457a671c97' title='Show/Hide attributes'><svg class='icon xr-icon-file-text2'><use xlink:href='#icon-file-text2'></use></svg></label><input id='data-bbfce691-b075-421b-9bae-0d99d5506ed5' class='xr-var-data-in' type='checkbox'><label for='data-bbfce691-b075-421b-9bae-0d99d5506ed5' title='Show/Hide data repr'><svg class='icon xr-icon-database'><use xlink:href='#icon-database'></use></svg></label><div class='xr-var-attrs'><dl class='xr-attrs'><dt><span>long_name :</span></dt><dd>Uncertainty estimate for Photosynthetically active radiation</dd><dt><span>units :</span></dt><dd>microeinstein.m-2.s-1</dd></dl></div><div class='xr-var-data'><table>\n",
       "    <tr>\n",
       "        <td>\n",
       "            <table style=\"border-collapse: collapse;\">\n",
       "                <thead>\n",
       "                    <tr>\n",
       "                        <td> </td>\n",
       "                        <th> Array </th>\n",
       "                        <th> Chunk </th>\n",
       "                    </tr>\n",
       "                </thead>\n",
       "                <tbody>\n",
       "                    \n",
       "                    <tr>\n",
       "                        <th> Bytes </th>\n",
       "                        <td> 75.90 MiB </td>\n",
       "                        <td> 75.90 MiB </td>\n",
       "                    </tr>\n",
       "                    \n",
       "                    <tr>\n",
       "                        <th> Shape </th>\n",
       "                        <td> (4090, 4865) </td>\n",
       "                        <td> (4090, 4865) </td>\n",
       "                    </tr>\n",
       "                    <tr>\n",
       "                        <th> Dask graph </th>\n",
       "                        <td colspan=\"2\"> 1 chunks in 2 graph layers </td>\n",
       "                    </tr>\n",
       "                    <tr>\n",
       "                        <th> Data type </th>\n",
       "                        <td colspan=\"2\"> float32 numpy.ndarray </td>\n",
       "                    </tr>\n",
       "                </tbody>\n",
       "            </table>\n",
       "        </td>\n",
       "        <td>\n",
       "        <svg width=\"170\" height=\"150\" style=\"stroke:rgb(0,0,0);stroke-width:1\" >\n",
       "\n",
       "  <!-- Horizontal lines -->\n",
       "  <line x1=\"0\" y1=\"0\" x2=\"120\" y2=\"0\" style=\"stroke-width:2\" />\n",
       "  <line x1=\"0\" y1=\"100\" x2=\"120\" y2=\"100\" style=\"stroke-width:2\" />\n",
       "\n",
       "  <!-- Vertical lines -->\n",
       "  <line x1=\"0\" y1=\"0\" x2=\"0\" y2=\"100\" style=\"stroke-width:2\" />\n",
       "  <line x1=\"120\" y1=\"0\" x2=\"120\" y2=\"100\" style=\"stroke-width:2\" />\n",
       "\n",
       "  <!-- Colored Rectangle -->\n",
       "  <polygon points=\"0.0,0.0 120.0,0.0 120.0,100.88386433710176 0.0,100.88386433710176\" style=\"fill:#ECB172A0;stroke-width:0\"/>\n",
       "\n",
       "  <!-- Text -->\n",
       "  <text x=\"60.000000\" y=\"120.883864\" font-size=\"1.0rem\" font-weight=\"100\" text-anchor=\"middle\" >4865</text>\n",
       "  <text x=\"140.000000\" y=\"50.441932\" font-size=\"1.0rem\" font-weight=\"100\" text-anchor=\"middle\" transform=\"rotate(-90,140.000000,50.441932)\">4090</text>\n",
       "</svg>\n",
       "        </td>\n",
       "    </tr>\n",
       "</table></div></li><li class='xr-var-item'><div class='xr-var-name'><span>altitude</span></div><div class='xr-var-dims'>(rows, columns)</div><div class='xr-var-dtype'>float32</div><div class='xr-var-preview xr-preview'>dask.array&lt;chunksize=(4090, 4865), meta=np.ndarray&gt;</div><input id='attrs-7e96812c-0b10-4b5d-9d8a-611b4c01df04' class='xr-var-attrs-in' type='checkbox' ><label for='attrs-7e96812c-0b10-4b5d-9d8a-611b4c01df04' title='Show/Hide attributes'><svg class='icon xr-icon-file-text2'><use xlink:href='#icon-file-text2'></use></svg></label><input id='data-7e0d35ce-8b39-42f6-99cb-d374a1b5bb12' class='xr-var-data-in' type='checkbox'><label for='data-7e0d35ce-8b39-42f6-99cb-d374a1b5bb12' title='Show/Hide data repr'><svg class='icon xr-icon-database'><use xlink:href='#icon-database'></use></svg></label><div class='xr-var-attrs'><dl class='xr-attrs'><dt><span>long_name :</span></dt><dd>DEM corrected altitude</dd><dt><span>standard_name :</span></dt><dd>altitude</dd><dt><span>units :</span></dt><dd>m</dd><dt><span>valid_max :</span></dt><dd>9000</dd><dt><span>valid_min :</span></dt><dd>-1000</dd></dl></div><div class='xr-var-data'><table>\n",
       "    <tr>\n",
       "        <td>\n",
       "            <table style=\"border-collapse: collapse;\">\n",
       "                <thead>\n",
       "                    <tr>\n",
       "                        <td> </td>\n",
       "                        <th> Array </th>\n",
       "                        <th> Chunk </th>\n",
       "                    </tr>\n",
       "                </thead>\n",
       "                <tbody>\n",
       "                    \n",
       "                    <tr>\n",
       "                        <th> Bytes </th>\n",
       "                        <td> 75.90 MiB </td>\n",
       "                        <td> 75.90 MiB </td>\n",
       "                    </tr>\n",
       "                    \n",
       "                    <tr>\n",
       "                        <th> Shape </th>\n",
       "                        <td> (4090, 4865) </td>\n",
       "                        <td> (4090, 4865) </td>\n",
       "                    </tr>\n",
       "                    <tr>\n",
       "                        <th> Dask graph </th>\n",
       "                        <td colspan=\"2\"> 1 chunks in 2 graph layers </td>\n",
       "                    </tr>\n",
       "                    <tr>\n",
       "                        <th> Data type </th>\n",
       "                        <td colspan=\"2\"> float32 numpy.ndarray </td>\n",
       "                    </tr>\n",
       "                </tbody>\n",
       "            </table>\n",
       "        </td>\n",
       "        <td>\n",
       "        <svg width=\"170\" height=\"150\" style=\"stroke:rgb(0,0,0);stroke-width:1\" >\n",
       "\n",
       "  <!-- Horizontal lines -->\n",
       "  <line x1=\"0\" y1=\"0\" x2=\"120\" y2=\"0\" style=\"stroke-width:2\" />\n",
       "  <line x1=\"0\" y1=\"100\" x2=\"120\" y2=\"100\" style=\"stroke-width:2\" />\n",
       "\n",
       "  <!-- Vertical lines -->\n",
       "  <line x1=\"0\" y1=\"0\" x2=\"0\" y2=\"100\" style=\"stroke-width:2\" />\n",
       "  <line x1=\"120\" y1=\"0\" x2=\"120\" y2=\"100\" style=\"stroke-width:2\" />\n",
       "\n",
       "  <!-- Colored Rectangle -->\n",
       "  <polygon points=\"0.0,0.0 120.0,0.0 120.0,100.88386433710176 0.0,100.88386433710176\" style=\"fill:#ECB172A0;stroke-width:0\"/>\n",
       "\n",
       "  <!-- Text -->\n",
       "  <text x=\"60.000000\" y=\"120.883864\" font-size=\"1.0rem\" font-weight=\"100\" text-anchor=\"middle\" >4865</text>\n",
       "  <text x=\"140.000000\" y=\"50.441932\" font-size=\"1.0rem\" font-weight=\"100\" text-anchor=\"middle\" transform=\"rotate(-90,140.000000,50.441932)\">4090</text>\n",
       "</svg>\n",
       "        </td>\n",
       "    </tr>\n",
       "</table></div></li><li class='xr-var-item'><div class='xr-var-name'><span>latitude</span></div><div class='xr-var-dims'>(rows, columns)</div><div class='xr-var-dtype'>float64</div><div class='xr-var-preview xr-preview'>dask.array&lt;chunksize=(4090, 4865), meta=np.ndarray&gt;</div><input id='attrs-f80cd816-3065-4453-8427-9d96a2aeb38a' class='xr-var-attrs-in' type='checkbox' ><label for='attrs-f80cd816-3065-4453-8427-9d96a2aeb38a' title='Show/Hide attributes'><svg class='icon xr-icon-file-text2'><use xlink:href='#icon-file-text2'></use></svg></label><input id='data-01f80a3f-5c5b-4499-91c5-e24dad2f0a7b' class='xr-var-data-in' type='checkbox'><label for='data-01f80a3f-5c5b-4499-91c5-e24dad2f0a7b' title='Show/Hide data repr'><svg class='icon xr-icon-database'><use xlink:href='#icon-database'></use></svg></label><div class='xr-var-attrs'><dl class='xr-attrs'><dt><span>long_name :</span></dt><dd>DEM corrected latitude</dd><dt><span>standard_name :</span></dt><dd>latitude</dd><dt><span>units :</span></dt><dd>degrees_north</dd><dt><span>valid_max :</span></dt><dd>90000000</dd><dt><span>valid_min :</span></dt><dd>-90000000</dd></dl></div><div class='xr-var-data'><table>\n",
       "    <tr>\n",
       "        <td>\n",
       "            <table style=\"border-collapse: collapse;\">\n",
       "                <thead>\n",
       "                    <tr>\n",
       "                        <td> </td>\n",
       "                        <th> Array </th>\n",
       "                        <th> Chunk </th>\n",
       "                    </tr>\n",
       "                </thead>\n",
       "                <tbody>\n",
       "                    \n",
       "                    <tr>\n",
       "                        <th> Bytes </th>\n",
       "                        <td> 151.81 MiB </td>\n",
       "                        <td> 151.81 MiB </td>\n",
       "                    </tr>\n",
       "                    \n",
       "                    <tr>\n",
       "                        <th> Shape </th>\n",
       "                        <td> (4090, 4865) </td>\n",
       "                        <td> (4090, 4865) </td>\n",
       "                    </tr>\n",
       "                    <tr>\n",
       "                        <th> Dask graph </th>\n",
       "                        <td colspan=\"2\"> 1 chunks in 2 graph layers </td>\n",
       "                    </tr>\n",
       "                    <tr>\n",
       "                        <th> Data type </th>\n",
       "                        <td colspan=\"2\"> float64 numpy.ndarray </td>\n",
       "                    </tr>\n",
       "                </tbody>\n",
       "            </table>\n",
       "        </td>\n",
       "        <td>\n",
       "        <svg width=\"170\" height=\"150\" style=\"stroke:rgb(0,0,0);stroke-width:1\" >\n",
       "\n",
       "  <!-- Horizontal lines -->\n",
       "  <line x1=\"0\" y1=\"0\" x2=\"120\" y2=\"0\" style=\"stroke-width:2\" />\n",
       "  <line x1=\"0\" y1=\"100\" x2=\"120\" y2=\"100\" style=\"stroke-width:2\" />\n",
       "\n",
       "  <!-- Vertical lines -->\n",
       "  <line x1=\"0\" y1=\"0\" x2=\"0\" y2=\"100\" style=\"stroke-width:2\" />\n",
       "  <line x1=\"120\" y1=\"0\" x2=\"120\" y2=\"100\" style=\"stroke-width:2\" />\n",
       "\n",
       "  <!-- Colored Rectangle -->\n",
       "  <polygon points=\"0.0,0.0 120.0,0.0 120.0,100.88386433710176 0.0,100.88386433710176\" style=\"fill:#ECB172A0;stroke-width:0\"/>\n",
       "\n",
       "  <!-- Text -->\n",
       "  <text x=\"60.000000\" y=\"120.883864\" font-size=\"1.0rem\" font-weight=\"100\" text-anchor=\"middle\" >4865</text>\n",
       "  <text x=\"140.000000\" y=\"50.441932\" font-size=\"1.0rem\" font-weight=\"100\" text-anchor=\"middle\" transform=\"rotate(-90,140.000000,50.441932)\">4090</text>\n",
       "</svg>\n",
       "        </td>\n",
       "    </tr>\n",
       "</table></div></li><li class='xr-var-item'><div class='xr-var-name'><span>longitude</span></div><div class='xr-var-dims'>(rows, columns)</div><div class='xr-var-dtype'>float64</div><div class='xr-var-preview xr-preview'>dask.array&lt;chunksize=(4090, 4865), meta=np.ndarray&gt;</div><input id='attrs-8799b767-724b-4976-82fb-52534575cd12' class='xr-var-attrs-in' type='checkbox' ><label for='attrs-8799b767-724b-4976-82fb-52534575cd12' title='Show/Hide attributes'><svg class='icon xr-icon-file-text2'><use xlink:href='#icon-file-text2'></use></svg></label><input id='data-7e613993-baaf-48e8-966e-582cf4dbb062' class='xr-var-data-in' type='checkbox'><label for='data-7e613993-baaf-48e8-966e-582cf4dbb062' title='Show/Hide data repr'><svg class='icon xr-icon-database'><use xlink:href='#icon-database'></use></svg></label><div class='xr-var-attrs'><dl class='xr-attrs'><dt><span>long_name :</span></dt><dd>DEM corrected longitude</dd><dt><span>standard_name :</span></dt><dd>longitude</dd><dt><span>units :</span></dt><dd>degrees_east</dd><dt><span>valid_max :</span></dt><dd>180000000</dd><dt><span>valid_min :</span></dt><dd>-180000000</dd></dl></div><div class='xr-var-data'><table>\n",
       "    <tr>\n",
       "        <td>\n",
       "            <table style=\"border-collapse: collapse;\">\n",
       "                <thead>\n",
       "                    <tr>\n",
       "                        <td> </td>\n",
       "                        <th> Array </th>\n",
       "                        <th> Chunk </th>\n",
       "                    </tr>\n",
       "                </thead>\n",
       "                <tbody>\n",
       "                    \n",
       "                    <tr>\n",
       "                        <th> Bytes </th>\n",
       "                        <td> 151.81 MiB </td>\n",
       "                        <td> 151.81 MiB </td>\n",
       "                    </tr>\n",
       "                    \n",
       "                    <tr>\n",
       "                        <th> Shape </th>\n",
       "                        <td> (4090, 4865) </td>\n",
       "                        <td> (4090, 4865) </td>\n",
       "                    </tr>\n",
       "                    <tr>\n",
       "                        <th> Dask graph </th>\n",
       "                        <td colspan=\"2\"> 1 chunks in 2 graph layers </td>\n",
       "                    </tr>\n",
       "                    <tr>\n",
       "                        <th> Data type </th>\n",
       "                        <td colspan=\"2\"> float64 numpy.ndarray </td>\n",
       "                    </tr>\n",
       "                </tbody>\n",
       "            </table>\n",
       "        </td>\n",
       "        <td>\n",
       "        <svg width=\"170\" height=\"150\" style=\"stroke:rgb(0,0,0);stroke-width:1\" >\n",
       "\n",
       "  <!-- Horizontal lines -->\n",
       "  <line x1=\"0\" y1=\"0\" x2=\"120\" y2=\"0\" style=\"stroke-width:2\" />\n",
       "  <line x1=\"0\" y1=\"100\" x2=\"120\" y2=\"100\" style=\"stroke-width:2\" />\n",
       "\n",
       "  <!-- Vertical lines -->\n",
       "  <line x1=\"0\" y1=\"0\" x2=\"0\" y2=\"100\" style=\"stroke-width:2\" />\n",
       "  <line x1=\"120\" y1=\"0\" x2=\"120\" y2=\"100\" style=\"stroke-width:2\" />\n",
       "\n",
       "  <!-- Colored Rectangle -->\n",
       "  <polygon points=\"0.0,0.0 120.0,0.0 120.0,100.88386433710176 0.0,100.88386433710176\" style=\"fill:#ECB172A0;stroke-width:0\"/>\n",
       "\n",
       "  <!-- Text -->\n",
       "  <text x=\"60.000000\" y=\"120.883864\" font-size=\"1.0rem\" font-weight=\"100\" text-anchor=\"middle\" >4865</text>\n",
       "  <text x=\"140.000000\" y=\"50.441932\" font-size=\"1.0rem\" font-weight=\"100\" text-anchor=\"middle\" transform=\"rotate(-90,140.000000,50.441932)\">4090</text>\n",
       "</svg>\n",
       "        </td>\n",
       "    </tr>\n",
       "</table></div></li></ul></div></li><li class='xr-section-item'><input id='section-8fe8c464-706b-403e-9ebb-38bfd372c62b' class='xr-section-summary-in' type='checkbox' disabled ><label for='section-8fe8c464-706b-403e-9ebb-38bfd372c62b' class='xr-section-summary'  title='Expand/collapse section'>Indexes: <span>(0)</span></label><div class='xr-section-inline-details'></div><div class='xr-section-details'><ul class='xr-var-list'></ul></div></li><li class='xr-section-item'><input id='section-77a1b7b5-4cc0-4219-a5a7-70fcd6d42c8f' class='xr-section-summary-in' type='checkbox'  ><label for='section-77a1b7b5-4cc0-4219-a5a7-70fcd6d42c8f' class='xr-section-summary' >Attributes: <span>(17)</span></label><div class='xr-section-inline-details'></div><div class='xr-section-details'><dl class='xr-attrs'><dt><span>absolute_orbit_number :</span></dt><dd>31792</dd><dt><span>ac_subsampling_factor :</span></dt><dd>64</dd><dt><span>al_subsampling_factor :</span></dt><dd>1</dd><dt><span>comment :</span></dt><dd> </dd><dt><span>contact :</span></dt><dd>ops@eumetsat.int</dd><dt><span>creation_time :</span></dt><dd>2024-06-03T16:28:03Z</dd><dt><span>history :</span></dt><dd>  2024-06-03T16:28:03Z: PUGCoreProcessor /data/ipf-s3/workdir236/747088465/JobOrder.747088465.xml</dd><dt><span>institution :</span></dt><dd>MAR</dd><dt><span>netCDF_version :</span></dt><dd>4.2 of Apr 12 2021 08:07:42 $</dd><dt><span>processing_baseline :</span></dt><dd>OL__L2M.003.04.00</dd><dt><span>product_name :</span></dt><dd>S3B_OL_2_WFR____20240602T083944_20240602T084244_20240603T162803_0180_093_335_1800_MAR_O_NT_003.SEN3</dd><dt><span>references :</span></dt><dd>S3IPF PDS 004.3 - i2r5 - Product Data Format Specification - OLCI Level 2 Marine, S3IPF PDS 002 - i1r8 - Product Data Format Specification - Product Structures, S3IPF DPM 008 - i2r2 - Detailed Processing Model - OLCI Level 2</dd><dt><span>resolution :</span></dt><dd>[ 270 294 ]</dd><dt><span>source :</span></dt><dd>IPF-OL-2 07.04</dd><dt><span>start_time :</span></dt><dd>2024-06-02T08:39:44.349192Z</dd><dt><span>stop_time :</span></dt><dd>2024-06-02T08:42:44.272918Z</dd><dt><span>title :</span></dt><dd>OLCI Level 2 WATER Product, Neural Net Chlorophyll concentration Data Set</dd></dl></div></li></ul></div></div>"
      ],
      "text/plain": [
       "<xarray.Dataset>\n",
       "Dimensions:               (rows: 4090, columns: 4865)\n",
       "Dimensions without coordinates: rows, columns\n",
       "Data variables: (12/13)\n",
       "    CHL_NN                (rows, columns) float32 dask.array<chunksize=(4090, 4865), meta=np.ndarray>\n",
       "    CHL_NN_unc            (rows, columns) float32 dask.array<chunksize=(4090, 4865), meta=np.ndarray>\n",
       "    CHL_OC4ME             (rows, columns) float32 dask.array<chunksize=(4090, 4865), meta=np.ndarray>\n",
       "    CHL_OC4ME_unc         (rows, columns) float32 dask.array<chunksize=(4090, 4865), meta=np.ndarray>\n",
       "    Oa06_reflectance      (rows, columns) float32 dask.array<chunksize=(4090, 4865), meta=np.ndarray>\n",
       "    Oa06_reflectance_unc  (rows, columns) float32 dask.array<chunksize=(4090, 4865), meta=np.ndarray>\n",
       "    ...                    ...\n",
       "    Oa08_reflectance_unc  (rows, columns) float32 dask.array<chunksize=(4090, 4865), meta=np.ndarray>\n",
       "    PAR                   (rows, columns) float32 dask.array<chunksize=(4090, 4865), meta=np.ndarray>\n",
       "    PAR_unc               (rows, columns) float32 dask.array<chunksize=(4090, 4865), meta=np.ndarray>\n",
       "    altitude              (rows, columns) float32 dask.array<chunksize=(4090, 4865), meta=np.ndarray>\n",
       "    latitude              (rows, columns) float64 dask.array<chunksize=(4090, 4865), meta=np.ndarray>\n",
       "    longitude             (rows, columns) float64 dask.array<chunksize=(4090, 4865), meta=np.ndarray>\n",
       "Attributes: (12/17)\n",
       "    absolute_orbit_number:  31792\n",
       "    ac_subsampling_factor:  64\n",
       "    al_subsampling_factor:  1\n",
       "    comment:                 \n",
       "    contact:                ops@eumetsat.int\n",
       "    creation_time:          2024-06-03T16:28:03Z\n",
       "    ...                     ...\n",
       "    references:             S3IPF PDS 004.3 - i2r5 - Product Data Format Spec...\n",
       "    resolution:             [ 270 294 ]\n",
       "    source:                 IPF-OL-2 07.04\n",
       "    start_time:             2024-06-02T08:39:44.349192Z\n",
       "    stop_time:              2024-06-02T08:42:44.272918Z\n",
       "    title:                  OLCI Level 2 WATER Product, Neural Net Chlorophyl..."
      ]
     },
     "execution_count": 10,
     "metadata": {},
     "output_type": "execute_result"
    }
   ],
   "source": [
    "ds"
   ]
  },
  {
   "cell_type": "markdown",
   "id": "a2215fd2-caef-47d6-9ed1-812924eee5f4",
   "metadata": {},
   "source": [
    "## Plot dataset"
   ]
  },
  {
   "cell_type": "code",
   "execution_count": 11,
   "id": "63e2b00b-421a-447d-84b5-52166476609a",
   "metadata": {
    "tags": []
   },
   "outputs": [
    {
     "data": {
      "image/png": "[encoded data removed]",
      "text/plain": [
       "<Figure size 1500x1500 with 1 Axes>"
      ]
     },
     "metadata": {},
     "output_type": "display_data"
    }
   ],
   "source": [
    "fig, ax = plt.subplots(1, 1, figsize=(10, 10), dpi=150)\n",
    "ax.imshow(ds[\"PAR\"].values)\n",
    "ax.title.set_text('Photosynthetically Active Radiation')\n",
    "plt.show()"
   ]
  },
  {
   "cell_type": "code",
   "execution_count": 12,
   "id": "1e8ff0bf-fa97-4b77-8800-4af1111bf89e",
   "metadata": {
    "tags": []
   },
   "outputs": [
    {
     "data": {
      "text/plain": [
       "'microeinstein.m-2.s-1'"
      ]
     },
     "execution_count": 12,
     "metadata": {},
     "output_type": "execute_result"
    }
   ],
   "source": [
    "ds[\"PAR\"].units"
   ]
  },
  {
   "cell_type": "code",
   "execution_count": 13,
   "id": "f7460eb9-cc85-45f5-81ff-b43b0934fc04",
   "metadata": {
    "tags": []
   },
   "outputs": [
    {
     "name": "stdout",
     "output_type": "stream",
     "text": [
      "1109.0552 1671.2599\n"
     ]
    }
   ],
   "source": [
    "print(np.nanmin(ds[\"PAR\"].values),np.nanmax(ds[\"PAR\"].values))"
   ]
  },
  {
   "cell_type": "markdown",
   "id": "e0dacf93-25e2-4632-9325-50fd74406a79",
   "metadata": {},
   "source": [
    "### Conclusion\n",
    "\n",
    "We know that we will use the Oa06 and Oa08 bands since the Swedish Meteorological and Hydrological Institute already have some threshold values on those bands that indicate surface bloom of cyanobacteria. It also seems reasonable to include the PAR. We have a requirement that it should be measured in microenstein per m2. The value range seems reasonable for summer as well."
   ]
  },
  {
   "cell_type": "markdown",
   "id": "35b5475e-5627-41ea-a4ca-92be8a570092",
   "metadata": {},
   "source": [
    "## Attempt to use GDAL to set a projection and resample the dataset"
   ]
  },
  {
   "cell_type": "code",
   "execution_count": 1,
   "id": "7cedef07-5da7-4319-9c29-5c84bf320f1e",
   "metadata": {
    "tags": []
   },
   "outputs": [],
   "source": [
    "from osgeo import gdal, osr\n",
    "from glob import glob"
   ]
  },
  {
   "cell_type": "code",
   "execution_count": 2,
   "id": "46516444-2abd-4bbe-8836-dffbfae2e309",
   "metadata": {
    "tags": []
   },
   "outputs": [],
   "source": [
    "opt=gdal.TranslateOptions(outputType=gdal.GDT_Float32, unscale=True)"
   ]
  },
  {
   "cell_type": "markdown",
   "id": "30cc0498-9ef8-4f67-b828-773d7a67e5a7",
   "metadata": {},
   "source": [
    "### Generate vrt\n",
    "We create 3 vrt files. One each for latitude and longitude for the XML metadata to point towards. Finally, we create a vrt file for the band we are working with. We want to replace the metadata of this file with the metadata we define ourselves."
   ]
  },
  {
   "cell_type": "code",
   "execution_count": 3,
   "id": "6b342baf-138d-40c2-859f-0fd234e5d60b",
   "metadata": {
    "tags": []
   },
   "outputs": [
    {
     "name": "stderr",
     "output_type": "stream",
     "text": [
      "/opt/conda/envs/python_dedl/lib/python3.11/site-packages/osgeo/gdal.py:312: FutureWarning: Neither gdal.UseExceptions() nor gdal.DontUseExceptions() has been explicitly called. In GDAL 4.0, exceptions will be enabled by default.\n",
      "  warnings.warn(\n"
     ]
    },
    {
     "data": {
      "text/plain": [
       "<osgeo.gdal.Dataset; proxy of <Swig Object of type 'GDALDatasetShadow *' at 0x7fd7d3c546c0> >"
      ]
     },
     "execution_count": 3,
     "metadata": {},
     "output_type": "execute_result"
    }
   ],
   "source": [
    "gdal.Translate(\"tst_lat.vrt\",\n",
    "               \"NETCDF:geo_coordinates.nc:latitude\",\n",
    "               options=opt\n",
    "              )\n",
    "gdal.Translate(\"tst_lon.vrt\",\n",
    "               \"NETCDF:geo_coordinates.nc:longitude\",\n",
    "               options=opt\n",
    "              )"
   ]
  },
  {
   "cell_type": "code",
   "execution_count": 6,
   "id": "d95d681c-2d7b-44d0-9fb9-f08aaf03eaa0",
   "metadata": {
    "tags": []
   },
   "outputs": [],
   "source": [
    "ds_par=xr.open_dataset(\"par.nc\")"
   ]
  },
  {
   "cell_type": "code",
   "execution_count": 7,
   "id": "9482a495-8521-4d00-94d1-8188ea0751d7",
   "metadata": {
    "tags": []
   },
   "outputs": [
    {
     "data": {
      "text/html": [
       "<div><svg style=\"position: absolute; width: 0; height: 0; overflow: hidden\">\n",
       "<defs>\n",
       "<symbol id=\"icon-database\" viewBox=\"0 0 32 32\">\n",
       "<path d=\"M16 0c-8.837 0-16 2.239-16 5v4c0 2.761 7.163 5 16 5s16-2.239 16-5v-4c0-2.761-7.163-5-16-5z\"></path>\n",
       "<path d=\"M16 17c-8.837 0-16-2.239-16-5v6c0 2.761 7.163 5 16 5s16-2.239 16-5v-6c0 2.761-7.163 5-16 5z\"></path>\n",
       "<path d=\"M16 26c-8.837 0-16-2.239-16-5v6c0 2.761 7.163 5 16 5s16-2.239 16-5v-6c0 2.761-7.163 5-16 5z\"></path>\n",
       "</symbol>\n",
       "<symbol id=\"icon-file-text2\" viewBox=\"0 0 32 32\">\n",
       "<path d=\"M28.681 7.159c-0.694-0.947-1.662-2.053-2.724-3.116s-2.169-2.030-3.116-2.724c-1.612-1.182-2.393-1.319-2.841-1.319h-15.5c-1.378 0-2.5 1.121-2.5 2.5v27c0 1.378 1.122 2.5 2.5 2.5h23c1.378 0 2.5-1.122 2.5-2.5v-19.5c0-0.448-0.137-1.23-1.319-2.841zM24.543 5.457c0.959 0.959 1.712 1.825 2.268 2.543h-4.811v-4.811c0.718 0.556 1.584 1.309 2.543 2.268zM28 29.5c0 0.271-0.229 0.5-0.5 0.5h-23c-0.271 0-0.5-0.229-0.5-0.5v-27c0-0.271 0.229-0.5 0.5-0.5 0 0 15.499-0 15.5 0v7c0 0.552 0.448 1 1 1h7v19.5z\"></path>\n",
       "<path d=\"M23 26h-14c-0.552 0-1-0.448-1-1s0.448-1 1-1h14c0.552 0 1 0.448 1 1s-0.448 1-1 1z\"></path>\n",
       "<path d=\"M23 22h-14c-0.552 0-1-0.448-1-1s0.448-1 1-1h14c0.552 0 1 0.448 1 1s-0.448 1-1 1z\"></path>\n",
       "<path d=\"M23 18h-14c-0.552 0-1-0.448-1-1s0.448-1 1-1h14c0.552 0 1 0.448 1 1s-0.448 1-1 1z\"></path>\n",
       "</symbol>\n",
       "</defs>\n",
       "</svg>\n",
       "<style>/* CSS stylesheet for displaying xarray objects in jupyterlab.\n",
       " *\n",
       " */\n",
       "\n",
       ":root {\n",
       "  --xr-font-color0: var(--jp-content-font-color0, rgba(0, 0, 0, 1));\n",
       "  --xr-font-color2: var(--jp-content-font-color2, rgba(0, 0, 0, 0.54));\n",
       "  --xr-font-color3: var(--jp-content-font-color3, rgba(0, 0, 0, 0.38));\n",
       "  --xr-border-color: var(--jp-border-color2, #e0e0e0);\n",
       "  --xr-disabled-color: var(--jp-layout-color3, #bdbdbd);\n",
       "  --xr-background-color: var(--jp-layout-color0, white);\n",
       "  --xr-background-color-row-even: var(--jp-layout-color1, white);\n",
       "  --xr-background-color-row-odd: var(--jp-layout-color2, #eeeeee);\n",
       "}\n",
       "\n",
       "html[theme=dark],\n",
       "body[data-theme=dark],\n",
       "body.vscode-dark {\n",
       "  --xr-font-color0: rgba(255, 255, 255, 1);\n",
       "  --xr-font-color2: rgba(255, 255, 255, 0.54);\n",
       "  --xr-font-color3: rgba(255, 255, 255, 0.38);\n",
       "  --xr-border-color: #1F1F1F;\n",
       "  --xr-disabled-color: #515151;\n",
       "  --xr-background-color: #111111;\n",
       "  --xr-background-color-row-even: #111111;\n",
       "  --xr-background-color-row-odd: #313131;\n",
       "}\n",
       "\n",
       ".xr-wrap {\n",
       "  display: block !important;\n",
       "  min-width: 300px;\n",
       "  max-width: 700px;\n",
       "}\n",
       "\n",
       ".xr-text-repr-fallback {\n",
       "  /* fallback to plain text repr when CSS is not injected (untrusted notebook) */\n",
       "  display: none;\n",
       "}\n",
       "\n",
       ".xr-header {\n",
       "  padding-top: 6px;\n",
       "  padding-bottom: 6px;\n",
       "  margin-bottom: 4px;\n",
       "  border-bottom: solid 1px var(--xr-border-color);\n",
       "}\n",
       "\n",
       ".xr-header > div,\n",
       ".xr-header > ul {\n",
       "  display: inline;\n",
       "  margin-top: 0;\n",
       "  margin-bottom: 0;\n",
       "}\n",
       "\n",
       ".xr-obj-type,\n",
       ".xr-array-name {\n",
       "  margin-left: 2px;\n",
       "  margin-right: 10px;\n",
       "}\n",
       "\n",
       ".xr-obj-type {\n",
       "  color: var(--xr-font-color2);\n",
       "}\n",
       "\n",
       ".xr-sections {\n",
       "  padding-left: 0 !important;\n",
       "  display: grid;\n",
       "  grid-template-columns: 150px auto auto 1fr 20px 20px;\n",
       "}\n",
       "\n",
       ".xr-section-item {\n",
       "  display: contents;\n",
       "}\n",
       "\n",
       ".xr-section-item input {\n",
       "  display: none;\n",
       "}\n",
       "\n",
       ".xr-section-item input + label {\n",
       "  color: var(--xr-disabled-color);\n",
       "}\n",
       "\n",
       ".xr-section-item input:enabled + label {\n",
       "  cursor: pointer;\n",
       "  color: var(--xr-font-color2);\n",
       "}\n",
       "\n",
       ".xr-section-item input:enabled + label:hover {\n",
       "  color: var(--xr-font-color0);\n",
       "}\n",
       "\n",
       ".xr-section-summary {\n",
       "  grid-column: 1;\n",
       "  color: var(--xr-font-color2);\n",
       "  font-weight: 500;\n",
       "}\n",
       "\n",
       ".xr-section-summary > span {\n",
       "  display: inline-block;\n",
       "  padding-left: 0.5em;\n",
       "}\n",
       "\n",
       ".xr-section-summary-in:disabled + label {\n",
       "  color: var(--xr-font-color2);\n",
       "}\n",
       "\n",
       ".xr-section-summary-in + label:before {\n",
       "  display: inline-block;\n",
       "  content: '►';\n",
       "  font-size: 11px;\n",
       "  width: 15px;\n",
       "  text-align: center;\n",
       "}\n",
       "\n",
       ".xr-section-summary-in:disabled + label:before {\n",
       "  color: var(--xr-disabled-color);\n",
       "}\n",
       "\n",
       ".xr-section-summary-in:checked + label:before {\n",
       "  content: '▼';\n",
       "}\n",
       "\n",
       ".xr-section-summary-in:checked + label > span {\n",
       "  display: none;\n",
       "}\n",
       "\n",
       ".xr-section-summary,\n",
       ".xr-section-inline-details {\n",
       "  padding-top: 4px;\n",
       "  padding-bottom: 4px;\n",
       "}\n",
       "\n",
       ".xr-section-inline-details {\n",
       "  grid-column: 2 / -1;\n",
       "}\n",
       "\n",
       ".xr-section-details {\n",
       "  display: none;\n",
       "  grid-column: 1 / -1;\n",
       "  margin-bottom: 5px;\n",
       "}\n",
       "\n",
       ".xr-section-summary-in:checked ~ .xr-section-details {\n",
       "  display: contents;\n",
       "}\n",
       "\n",
       ".xr-array-wrap {\n",
       "  grid-column: 1 / -1;\n",
       "  display: grid;\n",
       "  grid-template-columns: 20px auto;\n",
       "}\n",
       "\n",
       ".xr-array-wrap > label {\n",
       "  grid-column: 1;\n",
       "  vertical-align: top;\n",
       "}\n",
       "\n",
       ".xr-preview {\n",
       "  color: var(--xr-font-color3);\n",
       "}\n",
       "\n",
       ".xr-array-preview,\n",
       ".xr-array-data {\n",
       "  padding: 0 5px !important;\n",
       "  grid-column: 2;\n",
       "}\n",
       "\n",
       ".xr-array-data,\n",
       ".xr-array-in:checked ~ .xr-array-preview {\n",
       "  display: none;\n",
       "}\n",
       "\n",
       ".xr-array-in:checked ~ .xr-array-data,\n",
       ".xr-array-preview {\n",
       "  display: inline-block;\n",
       "}\n",
       "\n",
       ".xr-dim-list {\n",
       "  display: inline-block !important;\n",
       "  list-style: none;\n",
       "  padding: 0 !important;\n",
       "  margin: 0;\n",
       "}\n",
       "\n",
       ".xr-dim-list li {\n",
       "  display: inline-block;\n",
       "  padding: 0;\n",
       "  margin: 0;\n",
       "}\n",
       "\n",
       ".xr-dim-list:before {\n",
       "  content: '(';\n",
       "}\n",
       "\n",
       ".xr-dim-list:after {\n",
       "  content: ')';\n",
       "}\n",
       "\n",
       ".xr-dim-list li:not(:last-child):after {\n",
       "  content: ',';\n",
       "  padding-right: 5px;\n",
       "}\n",
       "\n",
       ".xr-has-index {\n",
       "  font-weight: bold;\n",
       "}\n",
       "\n",
       ".xr-var-list,\n",
       ".xr-var-item {\n",
       "  display: contents;\n",
       "}\n",
       "\n",
       ".xr-var-item > div,\n",
       ".xr-var-item label,\n",
       ".xr-var-item > .xr-var-name span {\n",
       "  background-color: var(--xr-background-color-row-even);\n",
       "  margin-bottom: 0;\n",
       "}\n",
       "\n",
       ".xr-var-item > .xr-var-name:hover span {\n",
       "  padding-right: 5px;\n",
       "}\n",
       "\n",
       ".xr-var-list > li:nth-child(odd) > div,\n",
       ".xr-var-list > li:nth-child(odd) > label,\n",
       ".xr-var-list > li:nth-child(odd) > .xr-var-name span {\n",
       "  background-color: var(--xr-background-color-row-odd);\n",
       "}\n",
       "\n",
       ".xr-var-name {\n",
       "  grid-column: 1;\n",
       "}\n",
       "\n",
       ".xr-var-dims {\n",
       "  grid-column: 2;\n",
       "}\n",
       "\n",
       ".xr-var-dtype {\n",
       "  grid-column: 3;\n",
       "  text-align: right;\n",
       "  color: var(--xr-font-color2);\n",
       "}\n",
       "\n",
       ".xr-var-preview {\n",
       "  grid-column: 4;\n",
       "}\n",
       "\n",
       ".xr-index-preview {\n",
       "  grid-column: 2 / 5;\n",
       "  color: var(--xr-font-color2);\n",
       "}\n",
       "\n",
       ".xr-var-name,\n",
       ".xr-var-dims,\n",
       ".xr-var-dtype,\n",
       ".xr-preview,\n",
       ".xr-attrs dt {\n",
       "  white-space: nowrap;\n",
       "  overflow: hidden;\n",
       "  text-overflow: ellipsis;\n",
       "  padding-right: 10px;\n",
       "}\n",
       "\n",
       ".xr-var-name:hover,\n",
       ".xr-var-dims:hover,\n",
       ".xr-var-dtype:hover,\n",
       ".xr-attrs dt:hover {\n",
       "  overflow: visible;\n",
       "  width: auto;\n",
       "  z-index: 1;\n",
       "}\n",
       "\n",
       ".xr-var-attrs,\n",
       ".xr-var-data,\n",
       ".xr-index-data {\n",
       "  display: none;\n",
       "  background-color: var(--xr-background-color) !important;\n",
       "  padding-bottom: 5px !important;\n",
       "}\n",
       "\n",
       ".xr-var-attrs-in:checked ~ .xr-var-attrs,\n",
       ".xr-var-data-in:checked ~ .xr-var-data,\n",
       ".xr-index-data-in:checked ~ .xr-index-data {\n",
       "  display: block;\n",
       "}\n",
       "\n",
       ".xr-var-data > table {\n",
       "  float: right;\n",
       "}\n",
       "\n",
       ".xr-var-name span,\n",
       ".xr-var-data,\n",
       ".xr-index-name div,\n",
       ".xr-index-data,\n",
       ".xr-attrs {\n",
       "  padding-left: 25px !important;\n",
       "}\n",
       "\n",
       ".xr-attrs,\n",
       ".xr-var-attrs,\n",
       ".xr-var-data,\n",
       ".xr-index-data {\n",
       "  grid-column: 1 / -1;\n",
       "}\n",
       "\n",
       "dl.xr-attrs {\n",
       "  padding: 0;\n",
       "  margin: 0;\n",
       "  display: grid;\n",
       "  grid-template-columns: 125px auto;\n",
       "}\n",
       "\n",
       ".xr-attrs dt,\n",
       ".xr-attrs dd {\n",
       "  padding: 0;\n",
       "  margin: 0;\n",
       "  float: left;\n",
       "  padding-right: 10px;\n",
       "  width: auto;\n",
       "}\n",
       "\n",
       ".xr-attrs dt {\n",
       "  font-weight: normal;\n",
       "  grid-column: 1;\n",
       "}\n",
       "\n",
       ".xr-attrs dt:hover span {\n",
       "  display: inline-block;\n",
       "  background: var(--xr-background-color);\n",
       "  padding-right: 10px;\n",
       "}\n",
       "\n",
       ".xr-attrs dd {\n",
       "  grid-column: 2;\n",
       "  white-space: pre-wrap;\n",
       "  word-break: break-all;\n",
       "}\n",
       "\n",
       ".xr-icon-database,\n",
       ".xr-icon-file-text2,\n",
       ".xr-no-icon {\n",
       "  display: inline-block;\n",
       "  vertical-align: middle;\n",
       "  width: 1em;\n",
       "  height: 1.5em !important;\n",
       "  stroke-width: 0;\n",
       "  stroke: currentColor;\n",
       "  fill: currentColor;\n",
       "}\n",
       "</style><pre class='xr-text-repr-fallback'>&lt;xarray.Dataset&gt;\n",
       "Dimensions:  (rows: 4090, columns: 4865)\n",
       "Dimensions without coordinates: rows, columns\n",
       "Data variables:\n",
       "    PAR      (rows, columns) float32 ...\n",
       "    PAR_unc  (rows, columns) float32 ...\n",
       "Attributes: (12/17)\n",
       "    absolute_orbit_number:  31792\n",
       "    ac_subsampling_factor:  64\n",
       "    al_subsampling_factor:  1\n",
       "    comment:                 \n",
       "    contact:                ops@eumetsat.int\n",
       "    creation_time:          2024-06-03T16:28:03Z\n",
       "    ...                     ...\n",
       "    references:             S3IPF PDS 004.3 - i2r5 - Product Data Format Spec...\n",
       "    resolution:             [ 270 294 ]\n",
       "    source:                 IPF-OL-2 07.04\n",
       "    start_time:             2024-06-02T08:39:44.349192Z\n",
       "    stop_time:              2024-06-02T08:42:44.272918Z\n",
       "    title:                  OLCI Level 2 WATER Product, Photosynthetically Ac...</pre><div class='xr-wrap' style='display:none'><div class='xr-header'><div class='xr-obj-type'>xarray.Dataset</div></div><ul class='xr-sections'><li class='xr-section-item'><input id='section-27adc3ed-5b44-4251-8747-b5192797f230' class='xr-section-summary-in' type='checkbox' disabled ><label for='section-27adc3ed-5b44-4251-8747-b5192797f230' class='xr-section-summary'  title='Expand/collapse section'>Dimensions:</label><div class='xr-section-inline-details'><ul class='xr-dim-list'><li><span>rows</span>: 4090</li><li><span>columns</span>: 4865</li></ul></div><div class='xr-section-details'></div></li><li class='xr-section-item'><input id='section-8714ee6a-33ba-45eb-9ca4-097c5ea7bced' class='xr-section-summary-in' type='checkbox' disabled ><label for='section-8714ee6a-33ba-45eb-9ca4-097c5ea7bced' class='xr-section-summary'  title='Expand/collapse section'>Coordinates: <span>(0)</span></label><div class='xr-section-inline-details'></div><div class='xr-section-details'><ul class='xr-var-list'></ul></div></li><li class='xr-section-item'><input id='section-2ea28108-9d25-4946-9b21-69702e0ca2a4' class='xr-section-summary-in' type='checkbox'  checked><label for='section-2ea28108-9d25-4946-9b21-69702e0ca2a4' class='xr-section-summary' >Data variables: <span>(2)</span></label><div class='xr-section-inline-details'></div><div class='xr-section-details'><ul class='xr-var-list'><li class='xr-var-item'><div class='xr-var-name'><span>PAR</span></div><div class='xr-var-dims'>(rows, columns)</div><div class='xr-var-dtype'>float32</div><div class='xr-var-preview xr-preview'>...</div><input id='attrs-554d9947-c456-44bc-b60c-3a83a3c6d4d4' class='xr-var-attrs-in' type='checkbox' ><label for='attrs-554d9947-c456-44bc-b60c-3a83a3c6d4d4' title='Show/Hide attributes'><svg class='icon xr-icon-file-text2'><use xlink:href='#icon-file-text2'></use></svg></label><input id='data-73c72115-5c7c-47f0-acde-7ff8195347ad' class='xr-var-data-in' type='checkbox'><label for='data-73c72115-5c7c-47f0-acde-7ff8195347ad' title='Show/Hide data repr'><svg class='icon xr-icon-database'><use xlink:href='#icon-database'></use></svg></label><div class='xr-var-attrs'><dl class='xr-attrs'><dt><span>long_name :</span></dt><dd>Photosynthetically active radiation</dd><dt><span>units :</span></dt><dd>microeinstein.m-2.s-1</dd></dl></div><div class='xr-var-data'><pre>[19897850 values with dtype=float32]</pre></div></li><li class='xr-var-item'><div class='xr-var-name'><span>PAR_unc</span></div><div class='xr-var-dims'>(rows, columns)</div><div class='xr-var-dtype'>float32</div><div class='xr-var-preview xr-preview'>...</div><input id='attrs-18c335ca-8f50-4c1f-b9f4-5d55dab61ca8' class='xr-var-attrs-in' type='checkbox' ><label for='attrs-18c335ca-8f50-4c1f-b9f4-5d55dab61ca8' title='Show/Hide attributes'><svg class='icon xr-icon-file-text2'><use xlink:href='#icon-file-text2'></use></svg></label><input id='data-9d27990f-e0f9-4677-88bd-d3ff6cc1bd5e' class='xr-var-data-in' type='checkbox'><label for='data-9d27990f-e0f9-4677-88bd-d3ff6cc1bd5e' title='Show/Hide data repr'><svg class='icon xr-icon-database'><use xlink:href='#icon-database'></use></svg></label><div class='xr-var-attrs'><dl class='xr-attrs'><dt><span>long_name :</span></dt><dd>Uncertainty estimate for Photosynthetically active radiation</dd><dt><span>units :</span></dt><dd>microeinstein.m-2.s-1</dd></dl></div><div class='xr-var-data'><pre>[19897850 values with dtype=float32]</pre></div></li></ul></div></li><li class='xr-section-item'><input id='section-fc802f59-4e27-495d-8410-af3e3285d868' class='xr-section-summary-in' type='checkbox' disabled ><label for='section-fc802f59-4e27-495d-8410-af3e3285d868' class='xr-section-summary'  title='Expand/collapse section'>Indexes: <span>(0)</span></label><div class='xr-section-inline-details'></div><div class='xr-section-details'><ul class='xr-var-list'></ul></div></li><li class='xr-section-item'><input id='section-df13e106-4fdb-4272-bc13-e37bbb1e963e' class='xr-section-summary-in' type='checkbox'  ><label for='section-df13e106-4fdb-4272-bc13-e37bbb1e963e' class='xr-section-summary' >Attributes: <span>(17)</span></label><div class='xr-section-inline-details'></div><div class='xr-section-details'><dl class='xr-attrs'><dt><span>absolute_orbit_number :</span></dt><dd>31792</dd><dt><span>ac_subsampling_factor :</span></dt><dd>64</dd><dt><span>al_subsampling_factor :</span></dt><dd>1</dd><dt><span>comment :</span></dt><dd> </dd><dt><span>contact :</span></dt><dd>ops@eumetsat.int</dd><dt><span>creation_time :</span></dt><dd>2024-06-03T16:28:03Z</dd><dt><span>history :</span></dt><dd>  2024-06-03T16:28:03Z: PUGCoreProcessor /data/ipf-s3/workdir236/747088465/JobOrder.747088465.xml</dd><dt><span>institution :</span></dt><dd>MAR</dd><dt><span>netCDF_version :</span></dt><dd>4.2 of Apr 12 2021 08:07:42 $</dd><dt><span>processing_baseline :</span></dt><dd>OL__L2M.003.04.00</dd><dt><span>product_name :</span></dt><dd>S3B_OL_2_WFR____20240602T083944_20240602T084244_20240603T162803_0180_093_335_1800_MAR_O_NT_003.SEN3</dd><dt><span>references :</span></dt><dd>S3IPF PDS 004.3 - i2r5 - Product Data Format Specification - OLCI Level 2 Marine, S3IPF PDS 002 - i1r8 - Product Data Format Specification - Product Structures, S3IPF DPM 008 - i2r2 - Detailed Processing Model - OLCI Level 2</dd><dt><span>resolution :</span></dt><dd>[ 270 294 ]</dd><dt><span>source :</span></dt><dd>IPF-OL-2 07.04</dd><dt><span>start_time :</span></dt><dd>2024-06-02T08:39:44.349192Z</dd><dt><span>stop_time :</span></dt><dd>2024-06-02T08:42:44.272918Z</dd><dt><span>title :</span></dt><dd>OLCI Level 2 WATER Product, Photosynthetically Active Radiation Data Set</dd></dl></div></li></ul></div></div>"
      ],
      "text/plain": [
       "<xarray.Dataset>\n",
       "Dimensions:  (rows: 4090, columns: 4865)\n",
       "Dimensions without coordinates: rows, columns\n",
       "Data variables:\n",
       "    PAR      (rows, columns) float32 ...\n",
       "    PAR_unc  (rows, columns) float32 ...\n",
       "Attributes: (12/17)\n",
       "    absolute_orbit_number:  31792\n",
       "    ac_subsampling_factor:  64\n",
       "    al_subsampling_factor:  1\n",
       "    comment:                 \n",
       "    contact:                ops@eumetsat.int\n",
       "    creation_time:          2024-06-03T16:28:03Z\n",
       "    ...                     ...\n",
       "    references:             S3IPF PDS 004.3 - i2r5 - Product Data Format Spec...\n",
       "    resolution:             [ 270 294 ]\n",
       "    source:                 IPF-OL-2 07.04\n",
       "    start_time:             2024-06-02T08:39:44.349192Z\n",
       "    stop_time:              2024-06-02T08:42:44.272918Z\n",
       "    title:                  OLCI Level 2 WATER Product, Photosynthetically Ac..."
      ]
     },
     "execution_count": 7,
     "metadata": {},
     "output_type": "execute_result"
    }
   ],
   "source": [
    "ds_par"
   ]
  },
  {
   "cell_type": "code",
   "execution_count": 8,
   "id": "a86482d8-0a1f-4b43-b314-833ca7aa94de",
   "metadata": {
    "tags": []
   },
   "outputs": [
    {
     "data": {
      "text/plain": [
       "<osgeo.gdal.Dataset; proxy of <Swig Object of type 'GDALDatasetShadow *' at 0x7fd7d3c54630> >"
      ]
     },
     "execution_count": 8,
     "metadata": {},
     "output_type": "execute_result"
    }
   ],
   "source": [
    "gdal.Translate(\"tst_par.vrt\",\n",
    "               \"NETCDF:par.nc:PAR\",\n",
    "               options=opt\n",
    "              )"
   ]
  },
  {
   "cell_type": "code",
   "execution_count": 9,
   "id": "184056b0-440d-4005-aa12-f1db64a72ce8",
   "metadata": {
    "tags": []
   },
   "outputs": [],
   "source": [
    "import lxml.etree"
   ]
  },
  {
   "cell_type": "markdown",
   "id": "a4098f9b-19b0-4351-9c81-7ac4d33331da",
   "metadata": {},
   "source": [
    "### Replace metadata\n",
    "XML metadata that let's GDAL know about the projection and where the latitude and longitude can be found."
   ]
  },
  {
   "cell_type": "code",
   "execution_count": 10,
   "id": "f3012d96-c0c6-4525-8121-f4582002b8c6",
   "metadata": {
    "tags": []
   },
   "outputs": [],
   "source": [
    "geocoding = lxml.etree.fromstring(f\"\"\"\n",
    "    <metadata domain=\"GEOLOCATION\">\n",
    "      <mdi key=\"SRS\">\n",
    "        GEOGCS[\"WGS 84\",\n",
    "            DATUM[\"WGS_1984\",\n",
    "                SPHEROID[\"WGS 84\",6378137,298.257223563,AUTHORITY[\"EPSG\",\"7030\"]],\n",
    "                AUTHORITY[\"EPSG\",\"6326\"]],\n",
    "            PRIMEM[\"Greenwich\",0,AUTHORITY[\"EPSG\",\"8901\"]],\n",
    "            UNIT[\"degree\",0.0174532925199433,AUTHORITY[\"EPSG\",\"9122\"]],\n",
    "            AUTHORITY[\"EPSG\",\"4326\"]]\n",
    "      </mdi>\n",
    "      <mdi key=\"X_DATASET\">tst_lon.vrt</mdi>\n",
    "      <mdi key=\"X_BAND\">1</mdi>\n",
    "      <mdi key=\"Y_DATASET\">tst_lat.vrt</mdi>\n",
    "      <mdi key=\"Y_BAND\">1</mdi>\n",
    "      <mdi key=\"PIXEL_OFFSET\">0</mdi>\n",
    "      <mdi key=\"LINE_OFFSET\">0</mdi>\n",
    "      <mdi key=\"PIXEL_STEP\">1</mdi>\n",
    "      <mdi key=\"LINE_STEP\">1</mdi>\n",
    "    </metadata>\n",
    "  \"\"\")"
   ]
  },
  {
   "cell_type": "code",
   "execution_count": 11,
   "id": "80376b62-2bf2-4cb9-8a74-daf37698215b",
   "metadata": {
    "tags": []
   },
   "outputs": [],
   "source": [
    "with open(\"tst_par.vrt\") as f:\n",
    "    root = lxml.etree.fromstring(f.read())\n",
    "for metadata in root.xpath(\"//Metadata\"):\n",
    "    metadata.getparent().remove(metadata)\n",
    "root.insert(0, geocoding)\n",
    "with open(\"tst_par.vrt\", \"wb\") as f:\n",
    "    f.write(lxml.etree.tostring(root))"
   ]
  },
  {
   "cell_type": "markdown",
   "id": "0d364f09-9c0a-4a51-89ec-ff37ad3fd116",
   "metadata": {},
   "source": [
    "### Resample and clip\n",
    "\n",
    "Resample using cubic resampling. Clip the raster to the output region we specify in outputBounds.  We force the use of the Geolocation Array specified in the metadata above."
   ]
  },
  {
   "cell_type": "code",
   "execution_count": 26,
   "id": "dcc50a0b-99ea-45ec-b81b-fd9e3371ee55",
   "metadata": {
    "tags": []
   },
   "outputs": [],
   "source": [
    "warp_opt=gdal.WarpOptions(\n",
    "    geoloc=True,\n",
    "    resampleAlg=\"cubic\",\n",
    "    format=\"COG\",\n",
    "    creationOptions={'COMPRESS':'DEFLATE'},\n",
    "    dstSRS=\"EPSG:4326\",\n",
    "    # Approx 300x300m in pixel size\n",
    "    xRes=0.0027,\n",
    "    yRes=0.0027,\n",
    "    outputBounds=[10,53,30,66],\n",
    "    cropToCutline=True)"
   ]
  },
  {
   "cell_type": "code",
   "execution_count": 27,
   "id": "4f83eb03-68c3-420f-8557-8528a821816f",
   "metadata": {
    "tags": []
   },
   "outputs": [
    {
     "name": "stderr",
     "output_type": "stream",
     "text": [
      "ERROR 1: Too many points (529 out of 529) failed to transform, unable to compute output bounds.\n",
      "Warning 1: Unable to compute source region for output window 0,2304,3584,2511, skipping.\n",
      "ERROR 1: Too many points (529 out of 529) failed to transform, unable to compute output bounds.\n",
      "Warning 1: Unable to compute source region for output window 3584,2304,3823,2511, skipping.\n"
     ]
    },
    {
     "data": {
      "text/plain": [
       "<osgeo.gdal.Dataset; proxy of <Swig Object of type 'GDALDatasetShadow *' at 0x7fd691edbde0> >"
      ]
     },
     "execution_count": 27,
     "metadata": {},
     "output_type": "execute_result"
    }
   ],
   "source": [
    "gdal.Warp(\"par_warped.tif\",\"tst_par.vrt\", options=warp_opt)"
   ]
  },
  {
   "cell_type": "code",
   "execution_count": 28,
   "id": "f0b39fbb-a6d9-478b-b6c5-a3f43990f384",
   "metadata": {
    "tags": []
   },
   "outputs": [],
   "source": [
    "import rasterio\n",
    "from rasterio import plot\n",
    "im = rasterio.open(\"par_warped.tif\")"
   ]
  },
  {
   "cell_type": "code",
   "execution_count": 29,
   "id": "e16a3039-46f2-466a-ab1a-cf7efe7891de",
   "metadata": {
    "tags": []
   },
   "outputs": [
    {
     "data": {
      "image/png": "[encoded data removed]",
      "text/plain": [
       "<Figure size 640x480 with 1 Axes>"
      ]
     },
     "metadata": {},
     "output_type": "display_data"
    },
    {
     "data": {
      "text/plain": [
       "<Axes: >"
      ]
     },
     "execution_count": 29,
     "metadata": {},
     "output_type": "execute_result"
    }
   ],
   "source": [
    "plot.show(im)"
   ]
  },
  {
   "cell_type": "markdown",
   "id": "998ed3d2-0399-4165-8944-4df7ff19b0af",
   "metadata": {},
   "source": [
    "### Conclusion\n",
    "\n",
    "This might be correct but not sure how to verify it. After discussion with EUMETSAT we decided to go ahead and use Satpy to set projection and resample the dataset as there was ready available examples that could provided by them. "
   ]
  }
 ],
 "metadata": {
  "kernelspec": {
   "display_name": "Python DEDL",
   "language": "python",
   "name": "python_dedl"
  },
  "language_info": {
   "codemirror_mode": {
    "name": "ipython",
    "version": 3
   },
   "file_extension": ".py",
   "mimetype": "text/x-python",
   "name": "python",
   "nbconvert_exporter": "python",
   "pygments_lexer": "ipython3",
   "version": "3.11.4"
  },
  "toc-autonumbering": true,
  "toc-showmarkdowntxt": true
 },
 "nbformat": 4,
 "nbformat_minor": 5
}
