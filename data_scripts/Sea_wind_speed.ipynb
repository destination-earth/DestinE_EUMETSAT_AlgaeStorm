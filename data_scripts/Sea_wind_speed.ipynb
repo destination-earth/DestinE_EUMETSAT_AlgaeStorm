{
 "cells": [
  {
   "cell_type": "markdown",
   "id": "0c60aa88-9595-4bf2-b38e-fb44adff025c",
   "metadata": {},
   "source": [
    "## Authorization to the DEDL services"
   ]
  },
  {
   "cell_type": "code",
   "execution_count": 1,
   "id": "6e6b0a16-ccab-4ab3-a7e8-fa3971f5fe43",
   "metadata": {
    "tags": []
   },
   "outputs": [
    {
     "name": "stdin",
     "output_type": "stream",
     "text": [
      "Please input your DESP username or email:  jesper.dejby@ri.se\n",
      "Please input your DESP password:  ········\n"
     ]
    },
    {
     "name": "stdout",
     "output_type": "stream",
     "text": [
      "DEDL/DESP Access Token Obtained Successfully\n"
     ]
    }
   ],
   "source": [
    "from dedllogin import DEDL_auth\n",
    "import requests\n",
    "import json\n",
    "import os\n",
    "from getpass import getpass\n",
    "from IPython.display import JSON\n",
    "\n",
    "username = input(\"Please input your DESP username or email: \")\n",
    "password = getpass(\"Please input your DESP password: \")\n",
    "\n",
    "auth = DEDL_auth(username, password)\n",
    "\n",
    "access_token = auth.get_token()\n",
    "if access_token is not None:\n",
    "    print(\"DEDL/DESP Access Token Obtained Successfully\")\n",
    "else:\n",
    "    print(\"Failed to Obtain DEDL/DESP Access Token\")\n",
    "\n",
    "auth_headers = {\"Authorization\": f\"Bearer {access_token}\"}"
   ]
  },
  {
   "cell_type": "markdown",
   "id": "1911707a-e72c-41dd-9e56-38066a801ff6",
   "metadata": {},
   "source": [
    "## Download data\n",
    "\n",
    "We are aiming to download the Global Ocean Daily Gridded Surface Wind dataset described here: https://hda.data.destination-earth.eu/ui/dataset/EO.MO.DAT.WIND_GLO_PHY_L3_NRT_012_002"
   ]
  },
  {
   "cell_type": "code",
   "execution_count": 3,
   "id": "140e2934-dc42-420e-9f9f-33fb8380e655",
   "metadata": {
    "tags": []
   },
   "outputs": [],
   "source": [
    "response_sws = requests.post(\"https://hda.data.destination-earth.eu/stac/search\", headers=auth_headers, json={\n",
    "    \"collections\": [\"EO.MO.DAT.WIND_GLO_PHY_L3_NRT_012_002\"],\n",
    "    \"datetime\": \"2024-05-31T00:00:00Z/2024-06-01T00:00:00Z\",\n",
    "    'bbox': [10,53,30,66]\n",
    "})"
   ]
  },
  {
   "cell_type": "code",
   "execution_count": 5,
   "id": "0360269f-cc84-4633-a0a7-97da3150c00c",
   "metadata": {
    "tags": []
   },
   "outputs": [
    {
     "data": {
      "application/json": {
       "features": [
        {
         "assets": {
          "downloadLink": {
           "alternate": {
            "origin": {
             "href": "https://s3.waw3-1.cloudferro.com/mdl-native-04/native/WIND_GLO_PHY_L4_NRT_012_004/cmems_obs-wind_glo_phy_nrt_l4_0.125deg_PT1H_202207/2024/05/cmems_obs-wind_glo_phy_nrt_l4_0.125deg_PT1H_2024053100_R20240530T12_12.nc",
             "title": "Origin asset link"
            }
           },
           "href": "https://hda.data.destination-earth.eu/stac/collections/EO.MO.DAT.WIND_GLO_PHY_L4_NRT_012_004/items/cmems_obs-wind_glo_phy_nrt_l4_0/download?provider=cop_marine",
           "title": "Download link",
           "type": "application/zip"
          },
          "native": {
           "alternate": {
            "origin": {
             "href": "https://s3.waw3-1.cloudferro.com/mdl-native-04/native/WIND_GLO_PHY_L4_NRT_012_004/cmems_obs-wind_glo_phy_nrt_l4_0.125deg_PT1H_202207/2024/05/cmems_obs-wind_glo_phy_nrt_l4_0.125deg_PT1H_2024053100_R20240530T12_12.nc",
             "title": "Origin asset link",
             "type": "application/x-netcdf"
            }
           },
           "href": "https://hda.data.destination-earth.eu/stac/collections/EO.MO.DAT.WIND_GLO_PHY_L4_NRT_012_004/items/cmems_obs-wind_glo_phy_nrt_l4_0/download/native?provider=cop_marine",
           "title": "native",
           "type": "application/x-netcdf"
          },
          "thumbnail": {
           "href": "https://mdl-metadata.s3.waw3-1.cloudferro.com/metadata/thumbnails/WIND_GLO_PHY_L4_NRT_012_004.jpg",
           "role": "thumbnail",
           "title": "Thumbnail",
           "type": "image/jpeg"
          }
         },
         "bbox": [
          -180,
          -90,
          180,
          90
         ],
         "collection": "EO.MO.DAT.WIND_GLO_PHY_L4_NRT_012_004",
         "geometry": {
          "coordinates": [
           [
            [
             180,
             -90
            ],
            [
             180,
             90
            ],
            [
             -180,
             90
            ],
            [
             -180,
             -90
            ],
            [
             180,
             -90
            ]
           ]
          ],
          "type": "Polygon"
         },
         "id": "cmems_obs-wind_glo_phy_nrt_l4_0",
         "links": [
          {
           "href": "https://hda.data.destination-earth.eu/stac/collections/EO.MO.DAT.WIND_GLO_PHY_L4_NRT_012_004/items/cmems_obs-wind_glo_phy_nrt_l4_0",
           "rel": "self",
           "title": "cmems_obs-wind_glo_phy_nrt_l4_0"
          },
          {
           "href": "https://hda.data.destination-earth.eu/stac/",
           "rel": "root"
          },
          {
           "href": "https://hda.data.destination-earth.eu/stac/collections/EO.MO.DAT.WIND_GLO_PHY_L4_NRT_012_004",
           "rel": "parent",
           "title": "EO.MO.DAT.WIND_GLO_PHY_L4_NRT_012_004"
          },
          {
           "href": "https://hda.data.destination-earth.eu/stac/collections/EO.MO.DAT.WIND_GLO_PHY_L4_NRT_012_004",
           "rel": "collection",
           "title": "EO.MO.DAT.WIND_GLO_PHY_L4_NRT_012_004"
          }
         ],
         "properties": {
          "constellation": "Metop-B, Metop-C",
          "cop_marine:Conventions": "CF-1.6, ACDD-1.3",
          "cop_marine:admp_in_preparation": false,
          "cop_marine:admp_updated": "2024-09-18T10:37:03.450397Z",
          "cop_marine:admp_valid_start_date": "2022-03-11T12:00:00.000000000Z",
          "cop_marine:admp_valid_start_index": 14844,
          "cop_marine:allVariables": [
           "Eastward wind (WIND)",
           "Northward wind (WIND)",
           "Surface downward eastward stress (WIND)",
           "Surface downward northward stress (WIND)",
           "Stress curl (WIND)",
           "Stress divergence (WIND)",
           "Air density (WIND)",
           "Wind curl (WIND)",
           "Wind divergence (WIND)"
          ],
          "cop_marine:altId": "63ee69f1-2628-43aa-9b22-b21749d160ba",
          "cop_marine:areas": [
           "Global Ocean"
          ],
          "cop_marine:assimilatedData": [],
          "cop_marine:colors": [
           "Blue Ocean"
          ],
          "cop_marine:communities": [
           "Policy & governance",
           "Science & innovation",
           "Extremes, hazards & safety",
           "Coastal services",
           "Natural resources & energy",
           "Trade & marine navigation"
          ],
          "cop_marine:contacts": [
           {
            "email": "scat@knmi.nl",
            "name": "Service Desk KNMI",
            "organisationName": "SIW-KNMI-DEBILT-NL",
            "responsiblePartyRole": "pointOfContact"
           },
           {
            "email": "ad.stoffelen@knmi.nl",
            "name": "Ad STOFFELEN",
            "organisationName": "SIW-KNMI-DEBILT-NL",
            "responsiblePartyRole": "custodian"
           },
           {
            "email": "rianne.giesen@knmi.nl",
            "name": "Rianne GIESEN",
            "organisationName": "SIW-KNMI-DEBILT-NL",
            "responsiblePartyRole": "originator"
           },
           {
            "email": "scat@knmi.nl",
            "name": "Anton VERHOEF",
            "organisationName": "SIW-KNMI-DEBILT-NL",
            "responsiblePartyRole": "resourceProvider"
           },
           {
            "email": "scat@knmi.nl",
            "name": "Service Desk KNMI",
            "organisationName": "SIW-KNMI-DEBILT-NL",
            "responsiblePartyRole": "distributor"
           }
          ],
          "cop_marine:crs": "EPSG:4326",
          "cop_marine:dataset": "cmems_obs-wind_glo_phy_nrt_l4_0.125deg_PT1H_202207",
          "cop_marine:date_created": "2022-06-23T01:30:26",
          "cop_marine:date_modified": "2022-06-23T01:30:26",
          "cop_marine:directives": [],
          "cop_marine:featureTypes": [
           "Grid"
          ],
          "cop_marine:formats": [
           "NetCDF-4"
          ],
          "cop_marine:geoExtent": {
           "coordinates": [
            [
             -180,
             90
            ],
            [
             180,
             -90
            ]
           ],
           "type": "envelope"
          },
          "cop_marine:geoResolution": {
           "column": {
            "magnitude": 0.125,
            "units": "degree"
           },
           "row": {
            "magnitude": 0.125,
            "units": "degree"
           }
          },
          "cop_marine:geospatial_lat_max": 89.9375,
          "cop_marine:geospatial_lat_min": -89.9375,
          "cop_marine:geospatial_lat_resolution": 0.125,
          "cop_marine:geospatial_lat_units": "degrees_north",
          "cop_marine:geospatial_lon_max": 179.9375,
          "cop_marine:geospatial_lon_min": -179.9375,
          "cop_marine:geospatial_lon_resolution": 0.125,
          "cop_marine:geospatial_lon_units": "degrees_east",
          "cop_marine:history": "N/A",
          "cop_marine:indicatorFamilies": [],
          "cop_marine:institution": "Royal Netherlands Meteorological Institute (KNMI)",
          "cop_marine:instrument_vocabulary": "CEOS",
          "cop_marine:isStaging": false,
          "cop_marine:mainVariables": [
           "Wind"
          ],
          "cop_marine:model": "ECMWF Operational model",
          "cop_marine:modifiedDate": "2024-06-18",
          "cop_marine:platform_vocabulary": "CEOS",
          "cop_marine:processing_level": "L4",
          "cop_marine:project": "Copernicus Marine Service Wind Thematic Assembly Centre",
          "cop_marine:projection": "WGS 84 (EPSG:4326)",
          "cop_marine:providerMetadata": {
           "source": "cmems",
           "type": "csw",
           "url": "https://cmems-catalog-ro.cls.fr/geonetwork/srv/eng/csw-MYOCEAN-CORE-PRODUCTS?service=CSW&version=2.0.2&request=GetRecordById&id=63ee69f1-2628-43aa-9b22-b21749d160ba&elementsetname=full&outputSchema=http://www.isotc211.org/2005/gmd"
          },
          "cop_marine:rank": 14000,
          "cop_marine:references": "Copernicus Marine Service Product User Manual CMEMS-TAC-WIND-PUM-012-004, Trindade et al. (2020) doi:10.1109/TGRS.2019.2946019",
          "cop_marine:sources": [
           "Numerical models",
           "Satellite observations"
          ],
          "cop_marine:summary": "Global ocean 10-m stress-equivalent wind and surface wind stress fields based on the ECMWF operational model winds, bias-corrected using scatterometer observations",
          "cop_marine:tempExtentBegin": "",
          "cop_marine:tempResolutions": [
           "Hourly"
          ],
          "cop_marine:thumbnailMeta": {
           "basemapId": "dark",
           "colormapId": "speed",
           "colormapInvert": false,
           "creationDate": "2023-06-18T06:37:19.450Z",
           "crs": "epsg:4326",
           "elevation": null,
           "layerId": "WIND_GLO_PHY_L4_NRT_012_004/cmems_obs-wind_glo_phy_nrt_l4_0.125deg_PT1H_202207/wind",
           "logScale": false,
           "overlays": {
            "tags": [
             {
              "name": "Wind"
             }
            ]
           },
           "style": "default",
           "time": 1593561600000,
           "valueClamp": true,
           "valueMax": 37.04999828338623,
           "valueMin": 0
          },
          "cop_marine:time_coverage_end": "2020-07-01T00:00:00",
          "cop_marine:time_coverage_start": "2020-07-01T00:00:00",
          "cop_marine:times": [
           "Present",
           "Past"
          ],
          "cop_marine:updateFrequencies": {
           "daily": "15:00"
          },
          "cop_marine:useCases": [],
          "cop_marine:vertExtentMax": 0,
          "cop_marine:vertExtentMin": 0,
          "created": "2012-08-26",
          "cube:dimensions": {
           "latitude": {
            "axis": "y",
            "extent": [
             -89.9375,
             89.9375
            ],
            "reference_system": 4326,
            "step": 0.125,
            "type": "spatial"
           },
           "longitude": {
            "axis": "x",
            "extent": [
             -179.9375,
             179.9375
            ],
            "reference_system": 4326,
            "step": 0.125,
            "type": "spatial"
           },
           "time": {
            "extent": [
             "2020-07-01T00:00:00Z",
             "2024-09-17T23:00:00Z"
            ],
            "step": "PT1H",
            "type": "temporal"
           }
          },
          "cube:variables": {
           "air_density": {
            "abbreviation": "air_density",
            "colormapDiffId": "balance",
            "colormapDiffInvert": false,
            "colormapId": "viridis",
            "colormapInvert": false,
            "dimensions": [
             "time",
             "latitude",
             "longitude"
            ],
            "hasLogScale": true,
            "id": "air_density",
            "logScale": false,
            "missingValue": -32767,
            "name": {
             "en": "Air density at 10 m"
            },
            "offset": 0,
            "scale": 0.001,
            "standardName": "air_density",
            "type": "data",
            "unit": "kg m-3",
            "unitConversion": null,
            "valueClamp": true,
            "valueColor": false,
            "valueDiffMax": 0.2080000638961792,
            "valueDiffRelMax": 25,
            "valueMax": 1.5690001249313354,
            "valueMin": 1.152999997138977
           },
           "eastward_stress": {
            "abbreviation": "eastward_stress",
            "colormapDiffId": "balance",
            "colormapDiffInvert": false,
            "colormapId": "balance",
            "colormapInvert": false,
            "dimensions": [
             "time",
             "latitude",
             "longitude"
            ],
            "hasLogScale": false,
            "id": "eastward_stress",
            "logScale": false,
            "missingValue": -2147483647,
            "name": {
             "en": "Surface wind stress eastward component"
            },
            "offset": 0,
            "scale": 0.01,
            "standardName": "surface_downward_eastward_stress",
            "type": "data",
            "unit": "N m-2",
            "unitConversion": null,
            "valueClamp": true,
            "valueColor": false,
            "valueDiffMax": 1.53,
            "valueDiffRelMax": 25,
            "valueMax": 1.53,
            "valueMin": -1.53
           },
           "eastward_stress_bias": {
            "abbreviation": "eastward_stress_bias",
            "colormapDiffId": "balance",
            "colormapDiffInvert": false,
            "colormapId": "balance",
            "colormapInvert": false,
            "dimensions": [
             "time",
             "latitude",
             "longitude"
            ],
            "hasLogScale": false,
            "id": "eastward_stress_bias",
            "logScale": false,
            "missingValue": -2147483647,
            "name": {
             "en": "Scatterometer-model bias of surface wind stress eastward component"
            },
            "offset": 0,
            "scale": 0.01,
            "standardName": "surface_downward_eastward_stress_bias",
            "type": "data",
            "unit": "N m-2",
            "unitConversion": null,
            "valueClamp": true,
            "valueColor": false,
            "valueDiffMax": 0.03,
            "valueDiffRelMax": 25,
            "valueMax": 0.03,
            "valueMin": -0.03
           },
           "eastward_stress_sdd": {
            "abbreviation": "eastward_stress_sdd",
            "colormapDiffId": "balance",
            "colormapDiffInvert": false,
            "colormapId": "viridis",
            "colormapInvert": false,
            "dimensions": [
             "time",
             "latitude",
             "longitude"
            ],
            "hasLogScale": true,
            "id": "eastward_stress_sdd",
            "logScale": false,
            "missingValue": -2147483647,
            "name": {
             "en": "Standard deviation of differences of surface wind stress eastward component"
            },
            "offset": 0,
            "scale": 0.01,
            "standardName": "surface_downward_eastward_stress_standard_deviation_of_differences",
            "type": "data",
            "unit": "N m-2",
            "unitConversion": null,
            "valueClamp": true,
            "valueColor": false,
            "valueDiffMax": 0.035,
            "valueDiffRelMax": 25,
            "valueMax": 0.08,
            "valueMin": 0.01
           },
           "eastward_wind": {
            "abbreviation": "eastward_wind",
            "colormapDiffId": "balance",
            "colormapDiffInvert": false,
            "colormapId": "balance",
            "colormapInvert": false,
            "dimensions": [
             "time",
             "latitude",
             "longitude"
            ],
            "hasLogScale": false,
            "id": "eastward_wind",
            "logScale": false,
            "missingValue": -32767,
            "name": {
             "en": "Stress-equivalent wind eastward component at 10 m"
            },
            "offset": 0,
            "scale": 0.01,
            "standardName": "eastward_wind",
            "type": "data",
            "unit": "m s-1",
            "unitConversion": null,
            "valueClamp": true,
            "valueColor": false,
            "valueDiffMax": 37.04999828338623,
            "valueDiffRelMax": 25,
            "valueMax": 37.04999828338623,
            "valueMin": -37.04999828338623
           },
           "eastward_wind_bias": {
            "abbreviation": "eastward_wind_bias",
            "colormapDiffId": "balance",
            "colormapDiffInvert": false,
            "colormapId": "balance",
            "colormapInvert": false,
            "dimensions": [
             "time",
             "latitude",
             "longitude"
            ],
            "hasLogScale": false,
            "id": "eastward_wind_bias",
            "logScale": false,
            "missingValue": -32767,
            "name": {
             "en": "Scatterometer-model bias of stress-equivalent wind eastward component at 10 m"
            },
            "offset": 0,
            "scale": 0.01,
            "standardName": "eastward_wind_bias",
            "type": "data",
            "unit": "m s-1",
            "unitConversion": null,
            "valueClamp": true,
            "valueColor": false,
            "valueDiffMax": 0.9300000071525574,
            "valueDiffRelMax": 25,
            "valueMax": 0.9300000071525574,
            "valueMin": -0.9300000071525574
           },
           "eastward_wind_sdd": {
            "abbreviation": "eastward_wind_sdd",
            "colormapDiffId": "balance",
            "colormapDiffInvert": false,
            "colormapId": "viridis",
            "colormapInvert": false,
            "dimensions": [
             "time",
             "latitude",
             "longitude"
            ],
            "hasLogScale": true,
            "id": "eastward_wind_sdd",
            "logScale": false,
            "missingValue": -32767,
            "name": {
             "en": "Standard deviation of differences of stress-equivalent wind eastward component at 10 m"
            },
            "offset": 0,
            "scale": 0.01,
            "standardName": "eastward_wind_standard_deviation_of_differences",
            "type": "data",
            "unit": "m s-1",
            "unitConversion": null,
            "valueClamp": true,
            "valueColor": false,
            "valueDiffMax": 0.8099999129772186,
            "valueDiffRelMax": 25,
            "valueMax": 2.169999837875366,
            "valueMin": 0.550000011920929
           },
           "northward_stress": {
            "abbreviation": "northward_stress",
            "colormapDiffId": "balance",
            "colormapDiffInvert": false,
            "colormapId": "balance",
            "colormapInvert": false,
            "dimensions": [
             "time",
             "latitude",
             "longitude"
            ],
            "hasLogScale": false,
            "id": "northward_stress",
            "logScale": false,
            "missingValue": -2147483647,
            "name": {
             "en": "Surface wind stress northward component"
            },
            "offset": 0,
            "scale": 0.01,
            "standardName": "surface_downward_northward_stress",
            "type": "data",
            "unit": "N m-2",
            "unitConversion": null,
            "valueClamp": true,
            "valueColor": false,
            "valueDiffMax": 1.53,
            "valueDiffRelMax": 25,
            "valueMax": 1.53,
            "valueMin": -1.53
           },
           "northward_stress_bias": {
            "abbreviation": "northward_stress_bias",
            "colormapDiffId": "balance",
            "colormapDiffInvert": false,
            "colormapId": "balance",
            "colormapInvert": false,
            "dimensions": [
             "time",
             "latitude",
             "longitude"
            ],
            "hasLogScale": false,
            "id": "northward_stress_bias",
            "logScale": false,
            "missingValue": -2147483647,
            "name": {
             "en": "Scatterometer-model bias of surface wind stress northward component"
            },
            "offset": 0,
            "scale": 0.01,
            "standardName": "surface_downward_northward_stress_bias",
            "type": "data",
            "unit": "N m-2",
            "unitConversion": null,
            "valueClamp": true,
            "valueColor": false,
            "valueDiffMax": 0.02,
            "valueDiffRelMax": 25,
            "valueMax": 0.02,
            "valueMin": -0.02
           },
           "northward_stress_sdd": {
            "abbreviation": "northward_stress_sdd",
            "colormapDiffId": "balance",
            "colormapDiffInvert": false,
            "colormapId": "viridis",
            "colormapInvert": false,
            "dimensions": [
             "time",
             "latitude",
             "longitude"
            ],
            "hasLogScale": true,
            "id": "northward_stress_sdd",
            "logScale": false,
            "missingValue": -2147483647,
            "name": {
             "en": "Standard deviation of differences of surface wind stress northward component"
            },
            "offset": 0,
            "scale": 0.01,
            "standardName": "surface_downward_northward_stress_standard_deviation_of_differences",
            "type": "data",
            "unit": "N m-2",
            "unitConversion": null,
            "valueClamp": true,
            "valueColor": false,
            "valueDiffMax": 0.030000000000000002,
            "valueDiffRelMax": 25,
            "valueMax": 0.07,
            "valueMin": 0.01
           },
           "northward_wind": {
            "abbreviation": "northward_wind",
            "colormapDiffId": "balance",
            "colormapDiffInvert": false,
            "colormapId": "balance",
            "colormapInvert": false,
            "dimensions": [
             "time",
             "latitude",
             "longitude"
            ],
            "hasLogScale": false,
            "id": "northward_wind",
            "logScale": false,
            "missingValue": -32767,
            "name": {
             "en": "Stress-equivalent wind northward component at 10 m"
            },
            "offset": 0,
            "scale": 0.01,
            "standardName": "northward_wind",
            "type": "data",
            "unit": "m s-1",
            "unitConversion": null,
            "valueClamp": true,
            "valueColor": false,
            "valueDiffMax": 37.04999828338623,
            "valueDiffRelMax": 25,
            "valueMax": 37.04999828338623,
            "valueMin": -37.04999828338623
           },
           "northward_wind_bias": {
            "abbreviation": "northward_wind_bias",
            "colormapDiffId": "balance",
            "colormapDiffInvert": false,
            "colormapId": "balance",
            "colormapInvert": false,
            "dimensions": [
             "time",
             "latitude",
             "longitude"
            ],
            "hasLogScale": false,
            "id": "northward_wind_bias",
            "logScale": false,
            "missingValue": -32767,
            "name": {
             "en": "Scatterometer-model bias of stress-equivalent wind northward component at 10 m"
            },
            "offset": 0,
            "scale": 0.01,
            "standardName": "northward_wind_bias",
            "type": "data",
            "unit": "m s-1",
            "unitConversion": null,
            "valueClamp": true,
            "valueColor": false,
            "valueDiffMax": 0.8399999737739563,
            "valueDiffRelMax": 25,
            "valueMax": 0.8399999737739563,
            "valueMin": -0.8399999737739563
           },
           "northward_wind_sdd": {
            "abbreviation": "northward_wind_sdd",
            "colormapDiffId": "balance",
            "colormapDiffInvert": false,
            "colormapId": "viridis",
            "colormapInvert": false,
            "dimensions": [
             "time",
             "latitude",
             "longitude"
            ],
            "hasLogScale": true,
            "id": "northward_wind_sdd",
            "logScale": false,
            "missingValue": -32767,
            "name": {
             "en": "Standard deviation of differences of stress-equivalent wind northward component at 10 m"
            },
            "offset": 0,
            "scale": 0.01,
            "standardName": "northward_wind_standard_deviation_of_differences",
            "type": "data",
            "unit": "m s-1",
            "unitConversion": null,
            "valueClamp": true,
            "valueColor": false,
            "valueDiffMax": 0.8549999296665192,
            "valueDiffRelMax": 25,
            "valueMax": 2.3899998664855957,
            "valueMin": 0.6800000071525574
           },
           "number_of_observations": {
            "abbreviation": "number_of_observations",
            "colormapDiffId": "balance",
            "colormapDiffInvert": false,
            "colormapId": "viridis",
            "colormapInvert": false,
            "dimensions": [
             "time",
             "latitude",
             "longitude"
            ],
            "hasLogScale": true,
            "id": "number_of_observations",
            "logScale": false,
            "missingValue": -32767,
            "name": {
             "en": "Number of observations used for scatterometer-model bias"
            },
            "offset": null,
            "scale": null,
            "standardName": "number_of_observations",
            "type": "data",
            "unit": 1,
            "unitConversion": null,
            "valueClamp": true,
            "valueColor": false,
            "valueDiffMax": 21,
            "valueDiffRelMax": 25,
            "valueMax": 69,
            "valueMin": 27
           },
           "number_of_observations_divcurl": {
            "abbreviation": "number_of_observations_divcurl",
            "colormapDiffId": "balance",
            "colormapDiffInvert": false,
            "colormapId": "viridis",
            "colormapInvert": false,
            "dimensions": [
             "time",
             "latitude",
             "longitude"
            ],
            "hasLogScale": true,
            "id": "number_of_observations_divcurl",
            "logScale": false,
            "missingValue": -32767,
            "name": {
             "en": "Number of observations used for scatterometer-model divergence and curl bias"
            },
            "offset": null,
            "scale": null,
            "standardName": "number_of_observations",
            "type": "data",
            "unit": 1,
            "unitConversion": null,
            "valueClamp": true,
            "valueColor": false,
            "valueDiffMax": 27.5,
            "valueDiffRelMax": 25,
            "valueMax": 65,
            "valueMin": 10
           },
           "stress_curl": {
            "abbreviation": "stress_curl",
            "colormapDiffId": "balance",
            "colormapDiffInvert": false,
            "colormapId": "viridis",
            "colormapInvert": false,
            "dimensions": [
             "time",
             "latitude",
             "longitude"
            ],
            "hasLogScale": false,
            "id": "stress_curl",
            "logScale": false,
            "missingValue": -2147483647,
            "name": {
             "en": "Curl of surface wind stress"
            },
            "offset": 0,
            "scale": 1e-10,
            "standardName": "vertical_component_of_surface_downward_stress_curl",
            "type": "data",
            "unit": "N m-3",
            "unitConversion": null,
            "valueClamp": true,
            "valueColor": false,
            "valueDiffMax": 2.3519000000000003e-06,
            "valueDiffRelMax": 25,
            "valueMax": 2.1812e-06,
            "valueMin": -2.5226e-06
           },
           "stress_curl_bias": {
            "abbreviation": "stress_curl_bias",
            "colormapDiffId": "balance",
            "colormapDiffInvert": false,
            "colormapId": "balance",
            "colormapInvert": false,
            "dimensions": [
             "time",
             "latitude",
             "longitude"
            ],
            "hasLogScale": false,
            "id": "stress_curl_bias",
            "logScale": false,
            "missingValue": -2147483647,
            "name": {
             "en": "Scatterometer-model bias of curl of surface wind stress"
            },
            "offset": 0,
            "scale": 1e-10,
            "standardName": "vertical_component_of_surface_downward_stress_curl_bias",
            "type": "data",
            "unit": "N m-3",
            "unitConversion": null,
            "valueClamp": true,
            "valueColor": false,
            "valueDiffMax": 5.091e-07,
            "valueDiffRelMax": 25,
            "valueMax": 5.091e-07,
            "valueMin": -5.091e-07
           },
           "stress_curl_dv": {
            "abbreviation": "stress_curl_dv",
            "colormapDiffId": "balance",
            "colormapDiffInvert": false,
            "colormapId": "viridis",
            "colormapInvert": false,
            "dimensions": [
             "time",
             "latitude",
             "longitude"
            ],
            "hasLogScale": false,
            "id": "stress_curl_dv",
            "logScale": false,
            "missingValue": -2147483647,
            "name": {
             "en": "Difference of scatterometer and model variances of curl of surface wind stress"
            },
            "offset": 0,
            "scale": 1e-15,
            "standardName": "vertical_component_of_surface_downward_stress_curl_difference_of_variances",
            "type": "data",
            "unit": "N2 m-6",
            "unitConversion": null,
            "valueClamp": true,
            "valueColor": false,
            "valueDiffMax": 3.1755000000000004e-12,
            "valueDiffRelMax": 25,
            "valueMax": 5.266e-12,
            "valueMin": -1.0850000000000001e-12
           },
           "stress_divergence": {
            "abbreviation": "stress_divergence",
            "colormapDiffId": "balance",
            "colormapDiffInvert": false,
            "colormapId": "viridis",
            "colormapInvert": false,
            "dimensions": [
             "time",
             "latitude",
             "longitude"
            ],
            "hasLogScale": false,
            "id": "stress_divergence",
            "logScale": false,
            "missingValue": -2147483647,
            "name": {
             "en": "Divergence of surface wind stress"
            },
            "offset": 0,
            "scale": 1e-10,
            "standardName": "divergence_of_surface_downward_stress",
            "type": "data",
            "unit": "N m-3",
            "unitConversion": null,
            "valueClamp": true,
            "valueColor": false,
            "valueDiffMax": 2.0739629999999886e-06,
            "valueDiffRelMax": 25,
            "valueMax": 1.9623259999999777e-06,
            "valueMin": -2.1856e-06
           },
           "stress_divergence_bias": {
            "abbreviation": "stress_divergence_bias",
            "colormapDiffId": "balance",
            "colormapDiffInvert": false,
            "colormapId": "balance",
            "colormapInvert": false,
            "dimensions": [
             "time",
             "latitude",
             "longitude"
            ],
            "hasLogScale": false,
            "id": "stress_divergence_bias",
            "logScale": false,
            "missingValue": -2147483647,
            "name": {
             "en": "Scatterometer-model bias of divergence of surface wind stress"
            },
            "offset": 0,
            "scale": 1e-10,
            "standardName": "divergence_of_surface_downward_stress_bias",
            "type": "data",
            "unit": "N m-3",
            "unitConversion": null,
            "valueClamp": true,
            "valueColor": false,
            "valueDiffMax": 4.885000000000001e-07,
            "valueDiffRelMax": 25,
            "valueMax": 4.885000000000001e-07,
            "valueMin": -4.885000000000001e-07
           },
           "stress_divergence_dv": {
            "abbreviation": "stress_divergence_dv",
            "colormapDiffId": "balance",
            "colormapDiffInvert": false,
            "colormapId": "viridis",
            "colormapInvert": false,
            "dimensions": [
             "time",
             "latitude",
             "longitude"
            ],
            "hasLogScale": false,
            "id": "stress_divergence_dv",
            "logScale": false,
            "missingValue": -2147483647,
            "name": {
             "en": "Difference of scatterometer and model variances of divergence of surface wind stress"
            },
            "offset": 0,
            "scale": 1e-15,
            "standardName": "divergence_of_surface_downward_stress_difference_of_variances",
            "type": "data",
            "unit": "N2 m-6",
            "unitConversion": null,
            "valueClamp": true,
            "valueColor": false,
            "valueDiffMax": 2.2560000000000005e-12,
            "valueDiffRelMax": 25,
            "valueMax": 4.463000000000001e-12,
            "valueMin": -4.9000000000000006e-14
           },
           "wind_curl": {
            "abbreviation": "wind_curl",
            "colormapDiffId": "balance",
            "colormapDiffInvert": false,
            "colormapId": "viridis",
            "colormapInvert": false,
            "dimensions": [
             "time",
             "latitude",
             "longitude"
            ],
            "hasLogScale": false,
            "id": "wind_curl",
            "logScale": false,
            "missingValue": -2147483647,
            "name": {
             "en": "Curl of stress-equivalent wind at 10 m"
            },
            "offset": 0,
            "scale": 1e-07,
            "standardName": "atmosphere_relative_vorticity",
            "type": "data",
            "unit": "s-1",
            "unitConversion": null,
            "valueClamp": true,
            "valueColor": false,
            "valueDiffMax": 8.955e-05,
            "valueDiffRelMax": 25,
            "valueMax": 8.68e-05,
            "valueMin": -9.23e-05
           },
           "wind_curl_bias": {
            "abbreviation": "wind_curl_bias",
            "colormapDiffId": "balance",
            "colormapDiffInvert": false,
            "colormapId": "balance",
            "colormapInvert": false,
            "dimensions": [
             "time",
             "latitude",
             "longitude"
            ],
            "hasLogScale": false,
            "id": "wind_curl_bias",
            "logScale": false,
            "missingValue": -2147483647,
            "name": {
             "en": "Scatterometer-model bias of curl of stress-equivalent wind at 10 m"
            },
            "offset": 0,
            "scale": 1e-07,
            "standardName": "atmosphere_relative_vorticity_bias",
            "type": "data",
            "unit": "s-1",
            "unitConversion": null,
            "valueClamp": true,
            "valueColor": false,
            "valueDiffMax": 1.82e-05,
            "valueDiffRelMax": 25,
            "valueMax": 1.82e-05,
            "valueMin": -1.82e-05
           },
           "wind_curl_dv": {
            "abbreviation": "wind_curl_dv",
            "colormapDiffId": "balance",
            "colormapDiffInvert": false,
            "colormapId": "viridis",
            "colormapInvert": false,
            "dimensions": [
             "time",
             "latitude",
             "longitude"
            ],
            "hasLogScale": false,
            "id": "wind_curl_dv",
            "logScale": false,
            "missingValue": -2147483647,
            "name": {
             "en": "Difference of scatterometer and model variances of curl of stress-equivalent wind at 10 m"
            },
            "offset": 0,
            "scale": 1e-11,
            "standardName": "atmosphere_relative_vorticity_difference_of_variances",
            "type": "data",
            "unit": "s-2",
            "unitConversion": null,
            "valueClamp": true,
            "valueColor": false,
            "valueDiffMax": 3.5999999999999996e-09,
            "valueDiffRelMax": 25,
            "valueMax": 6.399999999999999e-09,
            "valueMin": -7.999999999999999e-10
           },
           "wind_divergence": {
            "abbreviation": "wind_divergence",
            "colormapDiffId": "balance",
            "colormapDiffInvert": false,
            "colormapId": "viridis",
            "colormapInvert": false,
            "dimensions": [
             "time",
             "latitude",
             "longitude"
            ],
            "hasLogScale": false,
            "id": "wind_divergence",
            "logScale": false,
            "missingValue": -2147483647,
            "name": {
             "en": "Divergence of stress-equivalent wind at 10 m"
            },
            "offset": 0,
            "scale": 1e-07,
            "standardName": "divergence_of_wind",
            "type": "data",
            "unit": "s-1",
            "unitConversion": null,
            "valueClamp": true,
            "valueColor": false,
            "valueDiffMax": 0.00010284999999999999,
            "valueDiffRelMax": 25,
            "valueMax": 9.63e-05,
            "valueMin": -0.00010939999999999999
           },
           "wind_divergence_bias": {
            "abbreviation": "wind_divergence_bias",
            "colormapDiffId": "balance",
            "colormapDiffInvert": false,
            "colormapId": "balance",
            "colormapInvert": false,
            "dimensions": [
             "time",
             "latitude",
             "longitude"
            ],
            "hasLogScale": false,
            "id": "wind_divergence_bias",
            "logScale": false,
            "missingValue": -2147483647,
            "name": {
             "en": "Scatterometer-model bias of divergence of stress-equivalent wind at 10 m"
            },
            "offset": 0,
            "scale": 1e-07,
            "standardName": "divergence_of_wind_bias",
            "type": "data",
            "unit": "s-1",
            "unitConversion": null,
            "valueClamp": true,
            "valueColor": false,
            "valueDiffMax": 2.09e-05,
            "valueDiffRelMax": 25,
            "valueMax": 2.09e-05,
            "valueMin": -2.09e-05
           },
           "wind_divergence_dv": {
            "abbreviation": "wind_divergence_dv",
            "colormapDiffId": "balance",
            "colormapDiffInvert": false,
            "colormapId": "viridis",
            "colormapInvert": false,
            "dimensions": [
             "time",
             "latitude",
             "longitude"
            ],
            "hasLogScale": true,
            "id": "wind_divergence_dv",
            "logScale": false,
            "missingValue": -2147483647,
            "name": {
             "en": "Difference of scatterometer and model variances of divergence of stress-equivalent wind at 10 m"
            },
            "offset": 0,
            "scale": 1e-11,
            "standardName": "divergence_of_wind_difference_of_variances",
            "type": "data",
            "unit": "s-2",
            "unitConversion": null,
            "valueClamp": true,
            "valueColor": false,
            "valueDiffMax": 3.3099999999999995e-09,
            "valueDiffRelMax": 25,
            "valueMax": 6.849999999999999e-09,
            "valueMin": 2.2999999999999998e-10
           }
          },
          "datetime": "2024-05-31T00:00:00Z",
          "end_datetime": "2024-05-31T00:00:00Z",
          "instruments": [
           "ASCAT, ASCAT"
          ],
          "license": "proprietary",
          "order:status": "",
          "processing:level": "Level 4",
          "providers": [
           {
            "description": "Copernicus Marine Data Store",
            "name": "cop_marine",
            "priority": 0,
            "roles": [
             "host"
            ],
            "url": "https://marine.copernicus.eu/"
           }
          ],
          "start_datetime": "2024-05-31T00:00:00Z"
         },
         "stac_extensions": [
          "https://stac-extensions.github.io/processing/v1.0.0/schema.json",
          "https://stac-extensions.github.io/order/v1.1.0/schema.json"
         ],
         "stac_version": "1.0.0",
         "type": "Feature"
        },
        {
         "assets": {
          "downloadLink": {
           "alternate": {
            "origin": {
             "href": "https://s3.waw3-1.cloudferro.com/mdl-native-04/native/WIND_GLO_PHY_L4_NRT_012_004/cmems_obs-wind_glo_phy_nrt_l4_0.125deg_PT1H_202207/2024/05/cmems_obs-wind_glo_phy_nrt_l4_0.125deg_PT1H_2024053101_R20240530T12_13.nc",
             "title": "Origin asset link"
            }
           },
           "href": "https://hda.data.destination-earth.eu/stac/collections/EO.MO.DAT.WIND_GLO_PHY_L4_NRT_012_004/items/cmems_obs-wind_glo_phy_nrt_l4_0/download?provider=cop_marine",
           "title": "Download link",
           "type": "application/zip"
          },
          "native": {
           "alternate": {
            "origin": {
             "href": "https://s3.waw3-1.cloudferro.com/mdl-native-04/native/WIND_GLO_PHY_L4_NRT_012_004/cmems_obs-wind_glo_phy_nrt_l4_0.125deg_PT1H_202207/2024/05/cmems_obs-wind_glo_phy_nrt_l4_0.125deg_PT1H_2024053101_R20240530T12_13.nc",
             "title": "Origin asset link",
             "type": "application/x-netcdf"
            }
           },
           "href": "https://hda.data.destination-earth.eu/stac/collections/EO.MO.DAT.WIND_GLO_PHY_L4_NRT_012_004/items/cmems_obs-wind_glo_phy_nrt_l4_0/download/native?provider=cop_marine",
           "title": "native",
           "type": "application/x-netcdf"
          },
          "thumbnail": {
           "href": "https://mdl-metadata.s3.waw3-1.cloudferro.com/metadata/thumbnails/WIND_GLO_PHY_L4_NRT_012_004.jpg",
           "role": "thumbnail",
           "title": "Thumbnail",
           "type": "image/jpeg"
          }
         },
         "bbox": [
          -180,
          -90,
          180,
          90
         ],
         "collection": "EO.MO.DAT.WIND_GLO_PHY_L4_NRT_012_004",
         "geometry": {
          "coordinates": [
           [
            [
             180,
             -90
            ],
            [
             180,
             90
            ],
            [
             -180,
             90
            ],
            [
             -180,
             -90
            ],
            [
             180,
             -90
            ]
           ]
          ],
          "type": "Polygon"
         },
         "id": "cmems_obs-wind_glo_phy_nrt_l4_0",
         "links": [
          {
           "href": "https://hda.data.destination-earth.eu/stac/collections/EO.MO.DAT.WIND_GLO_PHY_L4_NRT_012_004/items/cmems_obs-wind_glo_phy_nrt_l4_0",
           "rel": "self",
           "title": "cmems_obs-wind_glo_phy_nrt_l4_0"
          },
          {
           "href": "https://hda.data.destination-earth.eu/stac/",
           "rel": "root"
          },
          {
           "href": "https://hda.data.destination-earth.eu/stac/collections/EO.MO.DAT.WIND_GLO_PHY_L4_NRT_012_004",
           "rel": "parent",
           "title": "EO.MO.DAT.WIND_GLO_PHY_L4_NRT_012_004"
          },
          {
           "href": "https://hda.data.destination-earth.eu/stac/collections/EO.MO.DAT.WIND_GLO_PHY_L4_NRT_012_004",
           "rel": "collection",
           "title": "EO.MO.DAT.WIND_GLO_PHY_L4_NRT_012_004"
          }
         ],
         "properties": {
          "constellation": "Metop-B, Metop-C",
          "cop_marine:Conventions": "CF-1.6, ACDD-1.3",
          "cop_marine:admp_in_preparation": false,
          "cop_marine:admp_updated": "2024-09-18T10:37:03.450397Z",
          "cop_marine:admp_valid_start_date": "2022-03-11T12:00:00.000000000Z",
          "cop_marine:admp_valid_start_index": 14844,
          "cop_marine:allVariables": [
           "Eastward wind (WIND)",
           "Northward wind (WIND)",
           "Surface downward eastward stress (WIND)",
           "Surface downward northward stress (WIND)",
           "Stress curl (WIND)",
           "Stress divergence (WIND)",
           "Air density (WIND)",
           "Wind curl (WIND)",
           "Wind divergence (WIND)"
          ],
          "cop_marine:altId": "63ee69f1-2628-43aa-9b22-b21749d160ba",
          "cop_marine:areas": [
           "Global Ocean"
          ],
          "cop_marine:assimilatedData": [],
          "cop_marine:colors": [
           "Blue Ocean"
          ],
          "cop_marine:communities": [
           "Policy & governance",
           "Science & innovation",
           "Extremes, hazards & safety",
           "Coastal services",
           "Natural resources & energy",
           "Trade & marine navigation"
          ],
          "cop_marine:contacts": [
           {
            "email": "scat@knmi.nl",
            "name": "Service Desk KNMI",
            "organisationName": "SIW-KNMI-DEBILT-NL",
            "responsiblePartyRole": "pointOfContact"
           },
           {
            "email": "ad.stoffelen@knmi.nl",
            "name": "Ad STOFFELEN",
            "organisationName": "SIW-KNMI-DEBILT-NL",
            "responsiblePartyRole": "custodian"
           },
           {
            "email": "rianne.giesen@knmi.nl",
            "name": "Rianne GIESEN",
            "organisationName": "SIW-KNMI-DEBILT-NL",
            "responsiblePartyRole": "originator"
           },
           {
            "email": "scat@knmi.nl",
            "name": "Anton VERHOEF",
            "organisationName": "SIW-KNMI-DEBILT-NL",
            "responsiblePartyRole": "resourceProvider"
           },
           {
            "email": "scat@knmi.nl",
            "name": "Service Desk KNMI",
            "organisationName": "SIW-KNMI-DEBILT-NL",
            "responsiblePartyRole": "distributor"
           }
          ],
          "cop_marine:crs": "EPSG:4326",
          "cop_marine:dataset": "cmems_obs-wind_glo_phy_nrt_l4_0.125deg_PT1H_202207",
          "cop_marine:date_created": "2022-06-23T01:30:26",
          "cop_marine:date_modified": "2022-06-23T01:30:26",
          "cop_marine:directives": [],
          "cop_marine:featureTypes": [
           "Grid"
          ],
          "cop_marine:formats": [
           "NetCDF-4"
          ],
          "cop_marine:geoExtent": {
           "coordinates": [
            [
             -180,
             90
            ],
            [
             180,
             -90
            ]
           ],
           "type": "envelope"
          },
          "cop_marine:geoResolution": {
           "column": {
            "magnitude": 0.125,
            "units": "degree"
           },
           "row": {
            "magnitude": 0.125,
            "units": "degree"
           }
          },
          "cop_marine:geospatial_lat_max": 89.9375,
          "cop_marine:geospatial_lat_min": -89.9375,
          "cop_marine:geospatial_lat_resolution": 0.125,
          "cop_marine:geospatial_lat_units": "degrees_north",
          "cop_marine:geospatial_lon_max": 179.9375,
          "cop_marine:geospatial_lon_min": -179.9375,
          "cop_marine:geospatial_lon_resolution": 0.125,
          "cop_marine:geospatial_lon_units": "degrees_east",
          "cop_marine:history": "N/A",
          "cop_marine:indicatorFamilies": [],
          "cop_marine:institution": "Royal Netherlands Meteorological Institute (KNMI)",
          "cop_marine:instrument_vocabulary": "CEOS",
          "cop_marine:isStaging": false,
          "cop_marine:mainVariables": [
           "Wind"
          ],
          "cop_marine:model": "ECMWF Operational model",
          "cop_marine:modifiedDate": "2024-06-18",
          "cop_marine:platform_vocabulary": "CEOS",
          "cop_marine:processing_level": "L4",
          "cop_marine:project": "Copernicus Marine Service Wind Thematic Assembly Centre",
          "cop_marine:projection": "WGS 84 (EPSG:4326)",
          "cop_marine:providerMetadata": {
           "source": "cmems",
           "type": "csw",
           "url": "https://cmems-catalog-ro.cls.fr/geonetwork/srv/eng/csw-MYOCEAN-CORE-PRODUCTS?service=CSW&version=2.0.2&request=GetRecordById&id=63ee69f1-2628-43aa-9b22-b21749d160ba&elementsetname=full&outputSchema=http://www.isotc211.org/2005/gmd"
          },
          "cop_marine:rank": 14000,
          "cop_marine:references": "Copernicus Marine Service Product User Manual CMEMS-TAC-WIND-PUM-012-004, Trindade et al. (2020) doi:10.1109/TGRS.2019.2946019",
          "cop_marine:sources": [
           "Numerical models",
           "Satellite observations"
          ],
          "cop_marine:summary": "Global ocean 10-m stress-equivalent wind and surface wind stress fields based on the ECMWF operational model winds, bias-corrected using scatterometer observations",
          "cop_marine:tempExtentBegin": "",
          "cop_marine:tempResolutions": [
           "Hourly"
          ],
          "cop_marine:thumbnailMeta": {
           "basemapId": "dark",
           "colormapId": "speed",
           "colormapInvert": false,
           "creationDate": "2023-06-18T06:37:19.450Z",
           "crs": "epsg:4326",
           "elevation": null,
           "layerId": "WIND_GLO_PHY_L4_NRT_012_004/cmems_obs-wind_glo_phy_nrt_l4_0.125deg_PT1H_202207/wind",
           "logScale": false,
           "overlays": {
            "tags": [
             {
              "name": "Wind"
             }
            ]
           },
           "style": "default",
           "time": 1593561600000,
           "valueClamp": true,
           "valueMax": 37.04999828338623,
           "valueMin": 0
          },
          "cop_marine:time_coverage_end": "2020-07-01T00:00:00",
          "cop_marine:time_coverage_start": "2020-07-01T00:00:00",
          "cop_marine:times": [
           "Present",
           "Past"
          ],
          "cop_marine:updateFrequencies": {
           "daily": "15:00"
          },
          "cop_marine:useCases": [],
          "cop_marine:vertExtentMax": 0,
          "cop_marine:vertExtentMin": 0,
          "created": "2012-08-26",
          "cube:dimensions": {
           "latitude": {
            "axis": "y",
            "extent": [
             -89.9375,
             89.9375
            ],
            "reference_system": 4326,
            "step": 0.125,
            "type": "spatial"
           },
           "longitude": {
            "axis": "x",
            "extent": [
             -179.9375,
             179.9375
            ],
            "reference_system": 4326,
            "step": 0.125,
            "type": "spatial"
           },
           "time": {
            "extent": [
             "2020-07-01T00:00:00Z",
             "2024-09-17T23:00:00Z"
            ],
            "step": "PT1H",
            "type": "temporal"
           }
          },
          "cube:variables": {
           "air_density": {
            "abbreviation": "air_density",
            "colormapDiffId": "balance",
            "colormapDiffInvert": false,
            "colormapId": "viridis",
            "colormapInvert": false,
            "dimensions": [
             "time",
             "latitude",
             "longitude"
            ],
            "hasLogScale": true,
            "id": "air_density",
            "logScale": false,
            "missingValue": -32767,
            "name": {
             "en": "Air density at 10 m"
            },
            "offset": 0,
            "scale": 0.001,
            "standardName": "air_density",
            "type": "data",
            "unit": "kg m-3",
            "unitConversion": null,
            "valueClamp": true,
            "valueColor": false,
            "valueDiffMax": 0.2080000638961792,
            "valueDiffRelMax": 25,
            "valueMax": 1.5690001249313354,
            "valueMin": 1.152999997138977
           },
           "eastward_stress": {
            "abbreviation": "eastward_stress",
            "colormapDiffId": "balance",
            "colormapDiffInvert": false,
            "colormapId": "balance",
            "colormapInvert": false,
            "dimensions": [
             "time",
             "latitude",
             "longitude"
            ],
            "hasLogScale": false,
            "id": "eastward_stress",
            "logScale": false,
            "missingValue": -2147483647,
            "name": {
             "en": "Surface wind stress eastward component"
            },
            "offset": 0,
            "scale": 0.01,
            "standardName": "surface_downward_eastward_stress",
            "type": "data",
            "unit": "N m-2",
            "unitConversion": null,
            "valueClamp": true,
            "valueColor": false,
            "valueDiffMax": 1.53,
            "valueDiffRelMax": 25,
            "valueMax": 1.53,
            "valueMin": -1.53
           },
           "eastward_stress_bias": {
            "abbreviation": "eastward_stress_bias",
            "colormapDiffId": "balance",
            "colormapDiffInvert": false,
            "colormapId": "balance",
            "colormapInvert": false,
            "dimensions": [
             "time",
             "latitude",
             "longitude"
            ],
            "hasLogScale": false,
            "id": "eastward_stress_bias",
            "logScale": false,
            "missingValue": -2147483647,
            "name": {
             "en": "Scatterometer-model bias of surface wind stress eastward component"
            },
            "offset": 0,
            "scale": 0.01,
            "standardName": "surface_downward_eastward_stress_bias",
            "type": "data",
            "unit": "N m-2",
            "unitConversion": null,
            "valueClamp": true,
            "valueColor": false,
            "valueDiffMax": 0.03,
            "valueDiffRelMax": 25,
            "valueMax": 0.03,
            "valueMin": -0.03
           },
           "eastward_stress_sdd": {
            "abbreviation": "eastward_stress_sdd",
            "colormapDiffId": "balance",
            "colormapDiffInvert": false,
            "colormapId": "viridis",
            "colormapInvert": false,
            "dimensions": [
             "time",
             "latitude",
             "longitude"
            ],
            "hasLogScale": true,
            "id": "eastward_stress_sdd",
            "logScale": false,
            "missingValue": -2147483647,
            "name": {
             "en": "Standard deviation of differences of surface wind stress eastward component"
            },
            "offset": 0,
            "scale": 0.01,
            "standardName": "surface_downward_eastward_stress_standard_deviation_of_differences",
            "type": "data",
            "unit": "N m-2",
            "unitConversion": null,
            "valueClamp": true,
            "valueColor": false,
            "valueDiffMax": 0.035,
            "valueDiffRelMax": 25,
            "valueMax": 0.08,
            "valueMin": 0.01
           },
           "eastward_wind": {
            "abbreviation": "eastward_wind",
            "colormapDiffId": "balance",
            "colormapDiffInvert": false,
            "colormapId": "balance",
            "colormapInvert": false,
            "dimensions": [
             "time",
             "latitude",
             "longitude"
            ],
            "hasLogScale": false,
            "id": "eastward_wind",
            "logScale": false,
            "missingValue": -32767,
            "name": {
             "en": "Stress-equivalent wind eastward component at 10 m"
            },
            "offset": 0,
            "scale": 0.01,
            "standardName": "eastward_wind",
            "type": "data",
            "unit": "m s-1",
            "unitConversion": null,
            "valueClamp": true,
            "valueColor": false,
            "valueDiffMax": 37.04999828338623,
            "valueDiffRelMax": 25,
            "valueMax": 37.04999828338623,
            "valueMin": -37.04999828338623
           },
           "eastward_wind_bias": {
            "abbreviation": "eastward_wind_bias",
            "colormapDiffId": "balance",
            "colormapDiffInvert": false,
            "colormapId": "balance",
            "colormapInvert": false,
            "dimensions": [
             "time",
             "latitude",
             "longitude"
            ],
            "hasLogScale": false,
            "id": "eastward_wind_bias",
            "logScale": false,
            "missingValue": -32767,
            "name": {
             "en": "Scatterometer-model bias of stress-equivalent wind eastward component at 10 m"
            },
            "offset": 0,
            "scale": 0.01,
            "standardName": "eastward_wind_bias",
            "type": "data",
            "unit": "m s-1",
            "unitConversion": null,
            "valueClamp": true,
            "valueColor": false,
            "valueDiffMax": 0.9300000071525574,
            "valueDiffRelMax": 25,
            "valueMax": 0.9300000071525574,
            "valueMin": -0.9300000071525574
           },
           "eastward_wind_sdd": {
            "abbreviation": "eastward_wind_sdd",
            "colormapDiffId": "balance",
            "colormapDiffInvert": false,
            "colormapId": "viridis",
            "colormapInvert": false,
            "dimensions": [
             "time",
             "latitude",
             "longitude"
            ],
            "hasLogScale": true,
            "id": "eastward_wind_sdd",
            "logScale": false,
            "missingValue": -32767,
            "name": {
             "en": "Standard deviation of differences of stress-equivalent wind eastward component at 10 m"
            },
            "offset": 0,
            "scale": 0.01,
            "standardName": "eastward_wind_standard_deviation_of_differences",
            "type": "data",
            "unit": "m s-1",
            "unitConversion": null,
            "valueClamp": true,
            "valueColor": false,
            "valueDiffMax": 0.8099999129772186,
            "valueDiffRelMax": 25,
            "valueMax": 2.169999837875366,
            "valueMin": 0.550000011920929
           },
           "northward_stress": {
            "abbreviation": "northward_stress",
            "colormapDiffId": "balance",
            "colormapDiffInvert": false,
            "colormapId": "balance",
            "colormapInvert": false,
            "dimensions": [
             "time",
             "latitude",
             "longitude"
            ],
            "hasLogScale": false,
            "id": "northward_stress",
            "logScale": false,
            "missingValue": -2147483647,
            "name": {
             "en": "Surface wind stress northward component"
            },
            "offset": 0,
            "scale": 0.01,
            "standardName": "surface_downward_northward_stress",
            "type": "data",
            "unit": "N m-2",
            "unitConversion": null,
            "valueClamp": true,
            "valueColor": false,
            "valueDiffMax": 1.53,
            "valueDiffRelMax": 25,
            "valueMax": 1.53,
            "valueMin": -1.53
           },
           "northward_stress_bias": {
            "abbreviation": "northward_stress_bias",
            "colormapDiffId": "balance",
            "colormapDiffInvert": false,
            "colormapId": "balance",
            "colormapInvert": false,
            "dimensions": [
             "time",
             "latitude",
             "longitude"
            ],
            "hasLogScale": false,
            "id": "northward_stress_bias",
            "logScale": false,
            "missingValue": -2147483647,
            "name": {
             "en": "Scatterometer-model bias of surface wind stress northward component"
            },
            "offset": 0,
            "scale": 0.01,
            "standardName": "surface_downward_northward_stress_bias",
            "type": "data",
            "unit": "N m-2",
            "unitConversion": null,
            "valueClamp": true,
            "valueColor": false,
            "valueDiffMax": 0.02,
            "valueDiffRelMax": 25,
            "valueMax": 0.02,
            "valueMin": -0.02
           },
           "northward_stress_sdd": {
            "abbreviation": "northward_stress_sdd",
            "colormapDiffId": "balance",
            "colormapDiffInvert": false,
            "colormapId": "viridis",
            "colormapInvert": false,
            "dimensions": [
             "time",
             "latitude",
             "longitude"
            ],
            "hasLogScale": true,
            "id": "northward_stress_sdd",
            "logScale": false,
            "missingValue": -2147483647,
            "name": {
             "en": "Standard deviation of differences of surface wind stress northward component"
            },
            "offset": 0,
            "scale": 0.01,
            "standardName": "surface_downward_northward_stress_standard_deviation_of_differences",
            "type": "data",
            "unit": "N m-2",
            "unitConversion": null,
            "valueClamp": true,
            "valueColor": false,
            "valueDiffMax": 0.030000000000000002,
            "valueDiffRelMax": 25,
            "valueMax": 0.07,
            "valueMin": 0.01
           },
           "northward_wind": {
            "abbreviation": "northward_wind",
            "colormapDiffId": "balance",
            "colormapDiffInvert": false,
            "colormapId": "balance",
            "colormapInvert": false,
            "dimensions": [
             "time",
             "latitude",
             "longitude"
            ],
            "hasLogScale": false,
            "id": "northward_wind",
            "logScale": false,
            "missingValue": -32767,
            "name": {
             "en": "Stress-equivalent wind northward component at 10 m"
            },
            "offset": 0,
            "scale": 0.01,
            "standardName": "northward_wind",
            "type": "data",
            "unit": "m s-1",
            "unitConversion": null,
            "valueClamp": true,
            "valueColor": false,
            "valueDiffMax": 37.04999828338623,
            "valueDiffRelMax": 25,
            "valueMax": 37.04999828338623,
            "valueMin": -37.04999828338623
           },
           "northward_wind_bias": {
            "abbreviation": "northward_wind_bias",
            "colormapDiffId": "balance",
            "colormapDiffInvert": false,
            "colormapId": "balance",
            "colormapInvert": false,
            "dimensions": [
             "time",
             "latitude",
             "longitude"
            ],
            "hasLogScale": false,
            "id": "northward_wind_bias",
            "logScale": false,
            "missingValue": -32767,
            "name": {
             "en": "Scatterometer-model bias of stress-equivalent wind northward component at 10 m"
            },
            "offset": 0,
            "scale": 0.01,
            "standardName": "northward_wind_bias",
            "type": "data",
            "unit": "m s-1",
            "unitConversion": null,
            "valueClamp": true,
            "valueColor": false,
            "valueDiffMax": 0.8399999737739563,
            "valueDiffRelMax": 25,
            "valueMax": 0.8399999737739563,
            "valueMin": -0.8399999737739563
           },
           "northward_wind_sdd": {
            "abbreviation": "northward_wind_sdd",
            "colormapDiffId": "balance",
            "colormapDiffInvert": false,
            "colormapId": "viridis",
            "colormapInvert": false,
            "dimensions": [
             "time",
             "latitude",
             "longitude"
            ],
            "hasLogScale": true,
            "id": "northward_wind_sdd",
            "logScale": false,
            "missingValue": -32767,
            "name": {
             "en": "Standard deviation of differences of stress-equivalent wind northward component at 10 m"
            },
            "offset": 0,
            "scale": 0.01,
            "standardName": "northward_wind_standard_deviation_of_differences",
            "type": "data",
            "unit": "m s-1",
            "unitConversion": null,
            "valueClamp": true,
            "valueColor": false,
            "valueDiffMax": 0.8549999296665192,
            "valueDiffRelMax": 25,
            "valueMax": 2.3899998664855957,
            "valueMin": 0.6800000071525574
           },
           "number_of_observations": {
            "abbreviation": "number_of_observations",
            "colormapDiffId": "balance",
            "colormapDiffInvert": false,
            "colormapId": "viridis",
            "colormapInvert": false,
            "dimensions": [
             "time",
             "latitude",
             "longitude"
            ],
            "hasLogScale": true,
            "id": "number_of_observations",
            "logScale": false,
            "missingValue": -32767,
            "name": {
             "en": "Number of observations used for scatterometer-model bias"
            },
            "offset": null,
            "scale": null,
            "standardName": "number_of_observations",
            "type": "data",
            "unit": 1,
            "unitConversion": null,
            "valueClamp": true,
            "valueColor": false,
            "valueDiffMax": 21,
            "valueDiffRelMax": 25,
            "valueMax": 69,
            "valueMin": 27
           },
           "number_of_observations_divcurl": {
            "abbreviation": "number_of_observations_divcurl",
            "colormapDiffId": "balance",
            "colormapDiffInvert": false,
            "colormapId": "viridis",
            "colormapInvert": false,
            "dimensions": [
             "time",
             "latitude",
             "longitude"
            ],
            "hasLogScale": true,
            "id": "number_of_observations_divcurl",
            "logScale": false,
            "missingValue": -32767,
            "name": {
             "en": "Number of observations used for scatterometer-model divergence and curl bias"
            },
            "offset": null,
            "scale": null,
            "standardName": "number_of_observations",
            "type": "data",
            "unit": 1,
            "unitConversion": null,
            "valueClamp": true,
            "valueColor": false,
            "valueDiffMax": 27.5,
            "valueDiffRelMax": 25,
            "valueMax": 65,
            "valueMin": 10
           },
           "stress_curl": {
            "abbreviation": "stress_curl",
            "colormapDiffId": "balance",
            "colormapDiffInvert": false,
            "colormapId": "viridis",
            "colormapInvert": false,
            "dimensions": [
             "time",
             "latitude",
             "longitude"
            ],
            "hasLogScale": false,
            "id": "stress_curl",
            "logScale": false,
            "missingValue": -2147483647,
            "name": {
             "en": "Curl of surface wind stress"
            },
            "offset": 0,
            "scale": 1e-10,
            "standardName": "vertical_component_of_surface_downward_stress_curl",
            "type": "data",
            "unit": "N m-3",
            "unitConversion": null,
            "valueClamp": true,
            "valueColor": false,
            "valueDiffMax": 2.3519000000000003e-06,
            "valueDiffRelMax": 25,
            "valueMax": 2.1812e-06,
            "valueMin": -2.5226e-06
           },
           "stress_curl_bias": {
            "abbreviation": "stress_curl_bias",
            "colormapDiffId": "balance",
            "colormapDiffInvert": false,
            "colormapId": "balance",
            "colormapInvert": false,
            "dimensions": [
             "time",
             "latitude",
             "longitude"
            ],
            "hasLogScale": false,
            "id": "stress_curl_bias",
            "logScale": false,
            "missingValue": -2147483647,
            "name": {
             "en": "Scatterometer-model bias of curl of surface wind stress"
            },
            "offset": 0,
            "scale": 1e-10,
            "standardName": "vertical_component_of_surface_downward_stress_curl_bias",
            "type": "data",
            "unit": "N m-3",
            "unitConversion": null,
            "valueClamp": true,
            "valueColor": false,
            "valueDiffMax": 5.091e-07,
            "valueDiffRelMax": 25,
            "valueMax": 5.091e-07,
            "valueMin": -5.091e-07
           },
           "stress_curl_dv": {
            "abbreviation": "stress_curl_dv",
            "colormapDiffId": "balance",
            "colormapDiffInvert": false,
            "colormapId": "viridis",
            "colormapInvert": false,
            "dimensions": [
             "time",
             "latitude",
             "longitude"
            ],
            "hasLogScale": false,
            "id": "stress_curl_dv",
            "logScale": false,
            "missingValue": -2147483647,
            "name": {
             "en": "Difference of scatterometer and model variances of curl of surface wind stress"
            },
            "offset": 0,
            "scale": 1e-15,
            "standardName": "vertical_component_of_surface_downward_stress_curl_difference_of_variances",
            "type": "data",
            "unit": "N2 m-6",
            "unitConversion": null,
            "valueClamp": true,
            "valueColor": false,
            "valueDiffMax": 3.1755000000000004e-12,
            "valueDiffRelMax": 25,
            "valueMax": 5.266e-12,
            "valueMin": -1.0850000000000001e-12
           },
           "stress_divergence": {
            "abbreviation": "stress_divergence",
            "colormapDiffId": "balance",
            "colormapDiffInvert": false,
            "colormapId": "viridis",
            "colormapInvert": false,
            "dimensions": [
             "time",
             "latitude",
             "longitude"
            ],
            "hasLogScale": false,
            "id": "stress_divergence",
            "logScale": false,
            "missingValue": -2147483647,
            "name": {
             "en": "Divergence of surface wind stress"
            },
            "offset": 0,
            "scale": 1e-10,
            "standardName": "divergence_of_surface_downward_stress",
            "type": "data",
            "unit": "N m-3",
            "unitConversion": null,
            "valueClamp": true,
            "valueColor": false,
            "valueDiffMax": 2.0739629999999886e-06,
            "valueDiffRelMax": 25,
            "valueMax": 1.9623259999999777e-06,
            "valueMin": -2.1856e-06
           },
           "stress_divergence_bias": {
            "abbreviation": "stress_divergence_bias",
            "colormapDiffId": "balance",
            "colormapDiffInvert": false,
            "colormapId": "balance",
            "colormapInvert": false,
            "dimensions": [
             "time",
             "latitude",
             "longitude"
            ],
            "hasLogScale": false,
            "id": "stress_divergence_bias",
            "logScale": false,
            "missingValue": -2147483647,
            "name": {
             "en": "Scatterometer-model bias of divergence of surface wind stress"
            },
            "offset": 0,
            "scale": 1e-10,
            "standardName": "divergence_of_surface_downward_stress_bias",
            "type": "data",
            "unit": "N m-3",
            "unitConversion": null,
            "valueClamp": true,
            "valueColor": false,
            "valueDiffMax": 4.885000000000001e-07,
            "valueDiffRelMax": 25,
            "valueMax": 4.885000000000001e-07,
            "valueMin": -4.885000000000001e-07
           },
           "stress_divergence_dv": {
            "abbreviation": "stress_divergence_dv",
            "colormapDiffId": "balance",
            "colormapDiffInvert": false,
            "colormapId": "viridis",
            "colormapInvert": false,
            "dimensions": [
             "time",
             "latitude",
             "longitude"
            ],
            "hasLogScale": false,
            "id": "stress_divergence_dv",
            "logScale": false,
            "missingValue": -2147483647,
            "name": {
             "en": "Difference of scatterometer and model variances of divergence of surface wind stress"
            },
            "offset": 0,
            "scale": 1e-15,
            "standardName": "divergence_of_surface_downward_stress_difference_of_variances",
            "type": "data",
            "unit": "N2 m-6",
            "unitConversion": null,
            "valueClamp": true,
            "valueColor": false,
            "valueDiffMax": 2.2560000000000005e-12,
            "valueDiffRelMax": 25,
            "valueMax": 4.463000000000001e-12,
            "valueMin": -4.9000000000000006e-14
           },
           "wind_curl": {
            "abbreviation": "wind_curl",
            "colormapDiffId": "balance",
            "colormapDiffInvert": false,
            "colormapId": "viridis",
            "colormapInvert": false,
            "dimensions": [
             "time",
             "latitude",
             "longitude"
            ],
            "hasLogScale": false,
            "id": "wind_curl",
            "logScale": false,
            "missingValue": -2147483647,
            "name": {
             "en": "Curl of stress-equivalent wind at 10 m"
            },
            "offset": 0,
            "scale": 1e-07,
            "standardName": "atmosphere_relative_vorticity",
            "type": "data",
            "unit": "s-1",
            "unitConversion": null,
            "valueClamp": true,
            "valueColor": false,
            "valueDiffMax": 8.955e-05,
            "valueDiffRelMax": 25,
            "valueMax": 8.68e-05,
            "valueMin": -9.23e-05
           },
           "wind_curl_bias": {
            "abbreviation": "wind_curl_bias",
            "colormapDiffId": "balance",
            "colormapDiffInvert": false,
            "colormapId": "balance",
            "colormapInvert": false,
            "dimensions": [
             "time",
             "latitude",
             "longitude"
            ],
            "hasLogScale": false,
            "id": "wind_curl_bias",
            "logScale": false,
            "missingValue": -2147483647,
            "name": {
             "en": "Scatterometer-model bias of curl of stress-equivalent wind at 10 m"
            },
            "offset": 0,
            "scale": 1e-07,
            "standardName": "atmosphere_relative_vorticity_bias",
            "type": "data",
            "unit": "s-1",
            "unitConversion": null,
            "valueClamp": true,
            "valueColor": false,
            "valueDiffMax": 1.82e-05,
            "valueDiffRelMax": 25,
            "valueMax": 1.82e-05,
            "valueMin": -1.82e-05
           },
           "wind_curl_dv": {
            "abbreviation": "wind_curl_dv",
            "colormapDiffId": "balance",
            "colormapDiffInvert": false,
            "colormapId": "viridis",
            "colormapInvert": false,
            "dimensions": [
             "time",
             "latitude",
             "longitude"
            ],
            "hasLogScale": false,
            "id": "wind_curl_dv",
            "logScale": false,
            "missingValue": -2147483647,
            "name": {
             "en": "Difference of scatterometer and model variances of curl of stress-equivalent wind at 10 m"
            },
            "offset": 0,
            "scale": 1e-11,
            "standardName": "atmosphere_relative_vorticity_difference_of_variances",
            "type": "data",
            "unit": "s-2",
            "unitConversion": null,
            "valueClamp": true,
            "valueColor": false,
            "valueDiffMax": 3.5999999999999996e-09,
            "valueDiffRelMax": 25,
            "valueMax": 6.399999999999999e-09,
            "valueMin": -7.999999999999999e-10
           },
           "wind_divergence": {
            "abbreviation": "wind_divergence",
            "colormapDiffId": "balance",
            "colormapDiffInvert": false,
            "colormapId": "viridis",
            "colormapInvert": false,
            "dimensions": [
             "time",
             "latitude",
             "longitude"
            ],
            "hasLogScale": false,
            "id": "wind_divergence",
            "logScale": false,
            "missingValue": -2147483647,
            "name": {
             "en": "Divergence of stress-equivalent wind at 10 m"
            },
            "offset": 0,
            "scale": 1e-07,
            "standardName": "divergence_of_wind",
            "type": "data",
            "unit": "s-1",
            "unitConversion": null,
            "valueClamp": true,
            "valueColor": false,
            "valueDiffMax": 0.00010284999999999999,
            "valueDiffRelMax": 25,
            "valueMax": 9.63e-05,
            "valueMin": -0.00010939999999999999
           },
           "wind_divergence_bias": {
            "abbreviation": "wind_divergence_bias",
            "colormapDiffId": "balance",
            "colormapDiffInvert": false,
            "colormapId": "balance",
            "colormapInvert": false,
            "dimensions": [
             "time",
             "latitude",
             "longitude"
            ],
            "hasLogScale": false,
            "id": "wind_divergence_bias",
            "logScale": false,
            "missingValue": -2147483647,
            "name": {
             "en": "Scatterometer-model bias of divergence of stress-equivalent wind at 10 m"
            },
            "offset": 0,
            "scale": 1e-07,
            "standardName": "divergence_of_wind_bias",
            "type": "data",
            "unit": "s-1",
            "unitConversion": null,
            "valueClamp": true,
            "valueColor": false,
            "valueDiffMax": 2.09e-05,
            "valueDiffRelMax": 25,
            "valueMax": 2.09e-05,
            "valueMin": -2.09e-05
           },
           "wind_divergence_dv": {
            "abbreviation": "wind_divergence_dv",
            "colormapDiffId": "balance",
            "colormapDiffInvert": false,
            "colormapId": "viridis",
            "colormapInvert": false,
            "dimensions": [
             "time",
             "latitude",
             "longitude"
            ],
            "hasLogScale": true,
            "id": "wind_divergence_dv",
            "logScale": false,
            "missingValue": -2147483647,
            "name": {
             "en": "Difference of scatterometer and model variances of divergence of stress-equivalent wind at 10 m"
            },
            "offset": 0,
            "scale": 1e-11,
            "standardName": "divergence_of_wind_difference_of_variances",
            "type": "data",
            "unit": "s-2",
            "unitConversion": null,
            "valueClamp": true,
            "valueColor": false,
            "valueDiffMax": 3.3099999999999995e-09,
            "valueDiffRelMax": 25,
            "valueMax": 6.849999999999999e-09,
            "valueMin": 2.2999999999999998e-10
           }
          },
          "datetime": "2024-05-31T00:00:00Z",
          "end_datetime": "2024-05-31T00:00:00Z",
          "instruments": [
           "ASCAT, ASCAT"
          ],
          "license": "proprietary",
          "order:status": "",
          "processing:level": "Level 4",
          "providers": [
           {
            "description": "Copernicus Marine Data Store",
            "name": "cop_marine",
            "priority": 0,
            "roles": [
             "host"
            ],
            "url": "https://marine.copernicus.eu/"
           }
          ],
          "start_datetime": "2024-05-31T00:00:00Z"
         },
         "stac_extensions": [
          "https://stac-extensions.github.io/processing/v1.0.0/schema.json",
          "https://stac-extensions.github.io/order/v1.1.0/schema.json"
         ],
         "stac_version": "1.0.0",
         "type": "Feature"
        },
        {
         "assets": {
          "downloadLink": {
           "alternate": {
            "origin": {
             "href": "https://s3.waw3-1.cloudferro.com/mdl-native-04/native/WIND_GLO_PHY_L4_NRT_012_004/cmems_obs-wind_glo_phy_nrt_l4_0.125deg_PT1H_202207/2024/05/cmems_obs-wind_glo_phy_nrt_l4_0.125deg_PT1H_2024053102_R20240530T12_14.nc",
             "title": "Origin asset link"
            }
           },
           "href": "https://hda.data.destination-earth.eu/stac/collections/EO.MO.DAT.WIND_GLO_PHY_L4_NRT_012_004/items/cmems_obs-wind_glo_phy_nrt_l4_0/download?provider=cop_marine",
           "title": "Download link",
           "type": "application/zip"
          },
          "native": {
           "alternate": {
            "origin": {
             "href": "https://s3.waw3-1.cloudferro.com/mdl-native-04/native/WIND_GLO_PHY_L4_NRT_012_004/cmems_obs-wind_glo_phy_nrt_l4_0.125deg_PT1H_202207/2024/05/cmems_obs-wind_glo_phy_nrt_l4_0.125deg_PT1H_2024053102_R20240530T12_14.nc",
             "title": "Origin asset link",
             "type": "application/x-netcdf"
            }
           },
           "href": "https://hda.data.destination-earth.eu/stac/collections/EO.MO.DAT.WIND_GLO_PHY_L4_NRT_012_004/items/cmems_obs-wind_glo_phy_nrt_l4_0/download/native?provider=cop_marine",
           "title": "native",
           "type": "application/x-netcdf"
          },
          "thumbnail": {
           "href": "https://mdl-metadata.s3.waw3-1.cloudferro.com/metadata/thumbnails/WIND_GLO_PHY_L4_NRT_012_004.jpg",
           "role": "thumbnail",
           "title": "Thumbnail",
           "type": "image/jpeg"
          }
         },
         "bbox": [
          -180,
          -90,
          180,
          90
         ],
         "collection": "EO.MO.DAT.WIND_GLO_PHY_L4_NRT_012_004",
         "geometry": {
          "coordinates": [
           [
            [
             180,
             -90
            ],
            [
             180,
             90
            ],
            [
             -180,
             90
            ],
            [
             -180,
             -90
            ],
            [
             180,
             -90
            ]
           ]
          ],
          "type": "Polygon"
         },
         "id": "cmems_obs-wind_glo_phy_nrt_l4_0",
         "links": [
          {
           "href": "https://hda.data.destination-earth.eu/stac/collections/EO.MO.DAT.WIND_GLO_PHY_L4_NRT_012_004/items/cmems_obs-wind_glo_phy_nrt_l4_0",
           "rel": "self",
           "title": "cmems_obs-wind_glo_phy_nrt_l4_0"
          },
          {
           "href": "https://hda.data.destination-earth.eu/stac/",
           "rel": "root"
          },
          {
           "href": "https://hda.data.destination-earth.eu/stac/collections/EO.MO.DAT.WIND_GLO_PHY_L4_NRT_012_004",
           "rel": "parent",
           "title": "EO.MO.DAT.WIND_GLO_PHY_L4_NRT_012_004"
          },
          {
           "href": "https://hda.data.destination-earth.eu/stac/collections/EO.MO.DAT.WIND_GLO_PHY_L4_NRT_012_004",
           "rel": "collection",
           "title": "EO.MO.DAT.WIND_GLO_PHY_L4_NRT_012_004"
          }
         ],
         "properties": {
          "constellation": "Metop-B, Metop-C",
          "cop_marine:Conventions": "CF-1.6, ACDD-1.3",
          "cop_marine:admp_in_preparation": false,
          "cop_marine:admp_updated": "2024-09-18T10:37:03.450397Z",
          "cop_marine:admp_valid_start_date": "2022-03-11T12:00:00.000000000Z",
          "cop_marine:admp_valid_start_index": 14844,
          "cop_marine:allVariables": [
           "Eastward wind (WIND)",
           "Northward wind (WIND)",
           "Surface downward eastward stress (WIND)",
           "Surface downward northward stress (WIND)",
           "Stress curl (WIND)",
           "Stress divergence (WIND)",
           "Air density (WIND)",
           "Wind curl (WIND)",
           "Wind divergence (WIND)"
          ],
          "cop_marine:altId": "63ee69f1-2628-43aa-9b22-b21749d160ba",
          "cop_marine:areas": [
           "Global Ocean"
          ],
          "cop_marine:assimilatedData": [],
          "cop_marine:colors": [
           "Blue Ocean"
          ],
          "cop_marine:communities": [
           "Policy & governance",
           "Science & innovation",
           "Extremes, hazards & safety",
           "Coastal services",
           "Natural resources & energy",
           "Trade & marine navigation"
          ],
          "cop_marine:contacts": [
           {
            "email": "scat@knmi.nl",
            "name": "Service Desk KNMI",
            "organisationName": "SIW-KNMI-DEBILT-NL",
            "responsiblePartyRole": "pointOfContact"
           },
           {
            "email": "ad.stoffelen@knmi.nl",
            "name": "Ad STOFFELEN",
            "organisationName": "SIW-KNMI-DEBILT-NL",
            "responsiblePartyRole": "custodian"
           },
           {
            "email": "rianne.giesen@knmi.nl",
            "name": "Rianne GIESEN",
            "organisationName": "SIW-KNMI-DEBILT-NL",
            "responsiblePartyRole": "originator"
           },
           {
            "email": "scat@knmi.nl",
            "name": "Anton VERHOEF",
            "organisationName": "SIW-KNMI-DEBILT-NL",
            "responsiblePartyRole": "resourceProvider"
           },
           {
            "email": "scat@knmi.nl",
            "name": "Service Desk KNMI",
            "organisationName": "SIW-KNMI-DEBILT-NL",
            "responsiblePartyRole": "distributor"
           }
          ],
          "cop_marine:crs": "EPSG:4326",
          "cop_marine:dataset": "cmems_obs-wind_glo_phy_nrt_l4_0.125deg_PT1H_202207",
          "cop_marine:date_created": "2022-06-23T01:30:26",
          "cop_marine:date_modified": "2022-06-23T01:30:26",
          "cop_marine:directives": [],
          "cop_marine:featureTypes": [
           "Grid"
          ],
          "cop_marine:formats": [
           "NetCDF-4"
          ],
          "cop_marine:geoExtent": {
           "coordinates": [
            [
             -180,
             90
            ],
            [
             180,
             -90
            ]
           ],
           "type": "envelope"
          },
          "cop_marine:geoResolution": {
           "column": {
            "magnitude": 0.125,
            "units": "degree"
           },
           "row": {
            "magnitude": 0.125,
            "units": "degree"
           }
          },
          "cop_marine:geospatial_lat_max": 89.9375,
          "cop_marine:geospatial_lat_min": -89.9375,
          "cop_marine:geospatial_lat_resolution": 0.125,
          "cop_marine:geospatial_lat_units": "degrees_north",
          "cop_marine:geospatial_lon_max": 179.9375,
          "cop_marine:geospatial_lon_min": -179.9375,
          "cop_marine:geospatial_lon_resolution": 0.125,
          "cop_marine:geospatial_lon_units": "degrees_east",
          "cop_marine:history": "N/A",
          "cop_marine:indicatorFamilies": [],
          "cop_marine:institution": "Royal Netherlands Meteorological Institute (KNMI)",
          "cop_marine:instrument_vocabulary": "CEOS",
          "cop_marine:isStaging": false,
          "cop_marine:mainVariables": [
           "Wind"
          ],
          "cop_marine:model": "ECMWF Operational model",
          "cop_marine:modifiedDate": "2024-06-18",
          "cop_marine:platform_vocabulary": "CEOS",
          "cop_marine:processing_level": "L4",
          "cop_marine:project": "Copernicus Marine Service Wind Thematic Assembly Centre",
          "cop_marine:projection": "WGS 84 (EPSG:4326)",
          "cop_marine:providerMetadata": {
           "source": "cmems",
           "type": "csw",
           "url": "https://cmems-catalog-ro.cls.fr/geonetwork/srv/eng/csw-MYOCEAN-CORE-PRODUCTS?service=CSW&version=2.0.2&request=GetRecordById&id=63ee69f1-2628-43aa-9b22-b21749d160ba&elementsetname=full&outputSchema=http://www.isotc211.org/2005/gmd"
          },
          "cop_marine:rank": 14000,
          "cop_marine:references": "Copernicus Marine Service Product User Manual CMEMS-TAC-WIND-PUM-012-004, Trindade et al. (2020) doi:10.1109/TGRS.2019.2946019",
          "cop_marine:sources": [
           "Numerical models",
           "Satellite observations"
          ],
          "cop_marine:summary": "Global ocean 10-m stress-equivalent wind and surface wind stress fields based on the ECMWF operational model winds, bias-corrected using scatterometer observations",
          "cop_marine:tempExtentBegin": "",
          "cop_marine:tempResolutions": [
           "Hourly"
          ],
          "cop_marine:thumbnailMeta": {
           "basemapId": "dark",
           "colormapId": "speed",
           "colormapInvert": false,
           "creationDate": "2023-06-18T06:37:19.450Z",
           "crs": "epsg:4326",
           "elevation": null,
           "layerId": "WIND_GLO_PHY_L4_NRT_012_004/cmems_obs-wind_glo_phy_nrt_l4_0.125deg_PT1H_202207/wind",
           "logScale": false,
           "overlays": {
            "tags": [
             {
              "name": "Wind"
             }
            ]
           },
           "style": "default",
           "time": 1593561600000,
           "valueClamp": true,
           "valueMax": 37.04999828338623,
           "valueMin": 0
          },
          "cop_marine:time_coverage_end": "2020-07-01T00:00:00",
          "cop_marine:time_coverage_start": "2020-07-01T00:00:00",
          "cop_marine:times": [
           "Present",
           "Past"
          ],
          "cop_marine:updateFrequencies": {
           "daily": "15:00"
          },
          "cop_marine:useCases": [],
          "cop_marine:vertExtentMax": 0,
          "cop_marine:vertExtentMin": 0,
          "created": "2012-08-26",
          "cube:dimensions": {
           "latitude": {
            "axis": "y",
            "extent": [
             -89.9375,
             89.9375
            ],
            "reference_system": 4326,
            "step": 0.125,
            "type": "spatial"
           },
           "longitude": {
            "axis": "x",
            "extent": [
             -179.9375,
             179.9375
            ],
            "reference_system": 4326,
            "step": 0.125,
            "type": "spatial"
           },
           "time": {
            "extent": [
             "2020-07-01T00:00:00Z",
             "2024-09-17T23:00:00Z"
            ],
            "step": "PT1H",
            "type": "temporal"
           }
          },
          "cube:variables": {
           "air_density": {
            "abbreviation": "air_density",
            "colormapDiffId": "balance",
            "colormapDiffInvert": false,
            "colormapId": "viridis",
            "colormapInvert": false,
            "dimensions": [
             "time",
             "latitude",
             "longitude"
            ],
            "hasLogScale": true,
            "id": "air_density",
            "logScale": false,
            "missingValue": -32767,
            "name": {
             "en": "Air density at 10 m"
            },
            "offset": 0,
            "scale": 0.001,
            "standardName": "air_density",
            "type": "data",
            "unit": "kg m-3",
            "unitConversion": null,
            "valueClamp": true,
            "valueColor": false,
            "valueDiffMax": 0.2080000638961792,
            "valueDiffRelMax": 25,
            "valueMax": 1.5690001249313354,
            "valueMin": 1.152999997138977
           },
           "eastward_stress": {
            "abbreviation": "eastward_stress",
            "colormapDiffId": "balance",
            "colormapDiffInvert": false,
            "colormapId": "balance",
            "colormapInvert": false,
            "dimensions": [
             "time",
             "latitude",
             "longitude"
            ],
            "hasLogScale": false,
            "id": "eastward_stress",
            "logScale": false,
            "missingValue": -2147483647,
            "name": {
             "en": "Surface wind stress eastward component"
            },
            "offset": 0,
            "scale": 0.01,
            "standardName": "surface_downward_eastward_stress",
            "type": "data",
            "unit": "N m-2",
            "unitConversion": null,
            "valueClamp": true,
            "valueColor": false,
            "valueDiffMax": 1.53,
            "valueDiffRelMax": 25,
            "valueMax": 1.53,
            "valueMin": -1.53
           },
           "eastward_stress_bias": {
            "abbreviation": "eastward_stress_bias",
            "colormapDiffId": "balance",
            "colormapDiffInvert": false,
            "colormapId": "balance",
            "colormapInvert": false,
            "dimensions": [
             "time",
             "latitude",
             "longitude"
            ],
            "hasLogScale": false,
            "id": "eastward_stress_bias",
            "logScale": false,
            "missingValue": -2147483647,
            "name": {
             "en": "Scatterometer-model bias of surface wind stress eastward component"
            },
            "offset": 0,
            "scale": 0.01,
            "standardName": "surface_downward_eastward_stress_bias",
            "type": "data",
            "unit": "N m-2",
            "unitConversion": null,
            "valueClamp": true,
            "valueColor": false,
            "valueDiffMax": 0.03,
            "valueDiffRelMax": 25,
            "valueMax": 0.03,
            "valueMin": -0.03
           },
           "eastward_stress_sdd": {
            "abbreviation": "eastward_stress_sdd",
            "colormapDiffId": "balance",
            "colormapDiffInvert": false,
            "colormapId": "viridis",
            "colormapInvert": false,
            "dimensions": [
             "time",
             "latitude",
             "longitude"
            ],
            "hasLogScale": true,
            "id": "eastward_stress_sdd",
            "logScale": false,
            "missingValue": -2147483647,
            "name": {
             "en": "Standard deviation of differences of surface wind stress eastward component"
            },
            "offset": 0,
            "scale": 0.01,
            "standardName": "surface_downward_eastward_stress_standard_deviation_of_differences",
            "type": "data",
            "unit": "N m-2",
            "unitConversion": null,
            "valueClamp": true,
            "valueColor": false,
            "valueDiffMax": 0.035,
            "valueDiffRelMax": 25,
            "valueMax": 0.08,
            "valueMin": 0.01
           },
           "eastward_wind": {
            "abbreviation": "eastward_wind",
            "colormapDiffId": "balance",
            "colormapDiffInvert": false,
            "colormapId": "balance",
            "colormapInvert": false,
            "dimensions": [
             "time",
             "latitude",
             "longitude"
            ],
            "hasLogScale": false,
            "id": "eastward_wind",
            "logScale": false,
            "missingValue": -32767,
            "name": {
             "en": "Stress-equivalent wind eastward component at 10 m"
            },
            "offset": 0,
            "scale": 0.01,
            "standardName": "eastward_wind",
            "type": "data",
            "unit": "m s-1",
            "unitConversion": null,
            "valueClamp": true,
            "valueColor": false,
            "valueDiffMax": 37.04999828338623,
            "valueDiffRelMax": 25,
            "valueMax": 37.04999828338623,
            "valueMin": -37.04999828338623
           },
           "eastward_wind_bias": {
            "abbreviation": "eastward_wind_bias",
            "colormapDiffId": "balance",
            "colormapDiffInvert": false,
            "colormapId": "balance",
            "colormapInvert": false,
            "dimensions": [
             "time",
             "latitude",
             "longitude"
            ],
            "hasLogScale": false,
            "id": "eastward_wind_bias",
            "logScale": false,
            "missingValue": -32767,
            "name": {
             "en": "Scatterometer-model bias of stress-equivalent wind eastward component at 10 m"
            },
            "offset": 0,
            "scale": 0.01,
            "standardName": "eastward_wind_bias",
            "type": "data",
            "unit": "m s-1",
            "unitConversion": null,
            "valueClamp": true,
            "valueColor": false,
            "valueDiffMax": 0.9300000071525574,
            "valueDiffRelMax": 25,
            "valueMax": 0.9300000071525574,
            "valueMin": -0.9300000071525574
           },
           "eastward_wind_sdd": {
            "abbreviation": "eastward_wind_sdd",
            "colormapDiffId": "balance",
            "colormapDiffInvert": false,
            "colormapId": "viridis",
            "colormapInvert": false,
            "dimensions": [
             "time",
             "latitude",
             "longitude"
            ],
            "hasLogScale": true,
            "id": "eastward_wind_sdd",
            "logScale": false,
            "missingValue": -32767,
            "name": {
             "en": "Standard deviation of differences of stress-equivalent wind eastward component at 10 m"
            },
            "offset": 0,
            "scale": 0.01,
            "standardName": "eastward_wind_standard_deviation_of_differences",
            "type": "data",
            "unit": "m s-1",
            "unitConversion": null,
            "valueClamp": true,
            "valueColor": false,
            "valueDiffMax": 0.8099999129772186,
            "valueDiffRelMax": 25,
            "valueMax": 2.169999837875366,
            "valueMin": 0.550000011920929
           },
           "northward_stress": {
            "abbreviation": "northward_stress",
            "colormapDiffId": "balance",
            "colormapDiffInvert": false,
            "colormapId": "balance",
            "colormapInvert": false,
            "dimensions": [
             "time",
             "latitude",
             "longitude"
            ],
            "hasLogScale": false,
            "id": "northward_stress",
            "logScale": false,
            "missingValue": -2147483647,
            "name": {
             "en": "Surface wind stress northward component"
            },
            "offset": 0,
            "scale": 0.01,
            "standardName": "surface_downward_northward_stress",
            "type": "data",
            "unit": "N m-2",
            "unitConversion": null,
            "valueClamp": true,
            "valueColor": false,
            "valueDiffMax": 1.53,
            "valueDiffRelMax": 25,
            "valueMax": 1.53,
            "valueMin": -1.53
           },
           "northward_stress_bias": {
            "abbreviation": "northward_stress_bias",
            "colormapDiffId": "balance",
            "colormapDiffInvert": false,
            "colormapId": "balance",
            "colormapInvert": false,
            "dimensions": [
             "time",
             "latitude",
             "longitude"
            ],
            "hasLogScale": false,
            "id": "northward_stress_bias",
            "logScale": false,
            "missingValue": -2147483647,
            "name": {
             "en": "Scatterometer-model bias of surface wind stress northward component"
            },
            "offset": 0,
            "scale": 0.01,
            "standardName": "surface_downward_northward_stress_bias",
            "type": "data",
            "unit": "N m-2",
            "unitConversion": null,
            "valueClamp": true,
            "valueColor": false,
            "valueDiffMax": 0.02,
            "valueDiffRelMax": 25,
            "valueMax": 0.02,
            "valueMin": -0.02
           },
           "northward_stress_sdd": {
            "abbreviation": "northward_stress_sdd",
            "colormapDiffId": "balance",
            "colormapDiffInvert": false,
            "colormapId": "viridis",
            "colormapInvert": false,
            "dimensions": [
             "time",
             "latitude",
             "longitude"
            ],
            "hasLogScale": true,
            "id": "northward_stress_sdd",
            "logScale": false,
            "missingValue": -2147483647,
            "name": {
             "en": "Standard deviation of differences of surface wind stress northward component"
            },
            "offset": 0,
            "scale": 0.01,
            "standardName": "surface_downward_northward_stress_standard_deviation_of_differences",
            "type": "data",
            "unit": "N m-2",
            "unitConversion": null,
            "valueClamp": true,
            "valueColor": false,
            "valueDiffMax": 0.030000000000000002,
            "valueDiffRelMax": 25,
            "valueMax": 0.07,
            "valueMin": 0.01
           },
           "northward_wind": {
            "abbreviation": "northward_wind",
            "colormapDiffId": "balance",
            "colormapDiffInvert": false,
            "colormapId": "balance",
            "colormapInvert": false,
            "dimensions": [
             "time",
             "latitude",
             "longitude"
            ],
            "hasLogScale": false,
            "id": "northward_wind",
            "logScale": false,
            "missingValue": -32767,
            "name": {
             "en": "Stress-equivalent wind northward component at 10 m"
            },
            "offset": 0,
            "scale": 0.01,
            "standardName": "northward_wind",
            "type": "data",
            "unit": "m s-1",
            "unitConversion": null,
            "valueClamp": true,
            "valueColor": false,
            "valueDiffMax": 37.04999828338623,
            "valueDiffRelMax": 25,
            "valueMax": 37.04999828338623,
            "valueMin": -37.04999828338623
           },
           "northward_wind_bias": {
            "abbreviation": "northward_wind_bias",
            "colormapDiffId": "balance",
            "colormapDiffInvert": false,
            "colormapId": "balance",
            "colormapInvert": false,
            "dimensions": [
             "time",
             "latitude",
             "longitude"
            ],
            "hasLogScale": false,
            "id": "northward_wind_bias",
            "logScale": false,
            "missingValue": -32767,
            "name": {
             "en": "Scatterometer-model bias of stress-equivalent wind northward component at 10 m"
            },
            "offset": 0,
            "scale": 0.01,
            "standardName": "northward_wind_bias",
            "type": "data",
            "unit": "m s-1",
            "unitConversion": null,
            "valueClamp": true,
            "valueColor": false,
            "valueDiffMax": 0.8399999737739563,
            "valueDiffRelMax": 25,
            "valueMax": 0.8399999737739563,
            "valueMin": -0.8399999737739563
           },
           "northward_wind_sdd": {
            "abbreviation": "northward_wind_sdd",
            "colormapDiffId": "balance",
            "colormapDiffInvert": false,
            "colormapId": "viridis",
            "colormapInvert": false,
            "dimensions": [
             "time",
             "latitude",
             "longitude"
            ],
            "hasLogScale": true,
            "id": "northward_wind_sdd",
            "logScale": false,
            "missingValue": -32767,
            "name": {
             "en": "Standard deviation of differences of stress-equivalent wind northward component at 10 m"
            },
            "offset": 0,
            "scale": 0.01,
            "standardName": "northward_wind_standard_deviation_of_differences",
            "type": "data",
            "unit": "m s-1",
            "unitConversion": null,
            "valueClamp": true,
            "valueColor": false,
            "valueDiffMax": 0.8549999296665192,
            "valueDiffRelMax": 25,
            "valueMax": 2.3899998664855957,
            "valueMin": 0.6800000071525574
           },
           "number_of_observations": {
            "abbreviation": "number_of_observations",
            "colormapDiffId": "balance",
            "colormapDiffInvert": false,
            "colormapId": "viridis",
            "colormapInvert": false,
            "dimensions": [
             "time",
             "latitude",
             "longitude"
            ],
            "hasLogScale": true,
            "id": "number_of_observations",
            "logScale": false,
            "missingValue": -32767,
            "name": {
             "en": "Number of observations used for scatterometer-model bias"
            },
            "offset": null,
            "scale": null,
            "standardName": "number_of_observations",
            "type": "data",
            "unit": 1,
            "unitConversion": null,
            "valueClamp": true,
            "valueColor": false,
            "valueDiffMax": 21,
            "valueDiffRelMax": 25,
            "valueMax": 69,
            "valueMin": 27
           },
           "number_of_observations_divcurl": {
            "abbreviation": "number_of_observations_divcurl",
            "colormapDiffId": "balance",
            "colormapDiffInvert": false,
            "colormapId": "viridis",
            "colormapInvert": false,
            "dimensions": [
             "time",
             "latitude",
             "longitude"
            ],
            "hasLogScale": true,
            "id": "number_of_observations_divcurl",
            "logScale": false,
            "missingValue": -32767,
            "name": {
             "en": "Number of observations used for scatterometer-model divergence and curl bias"
            },
            "offset": null,
            "scale": null,
            "standardName": "number_of_observations",
            "type": "data",
            "unit": 1,
            "unitConversion": null,
            "valueClamp": true,
            "valueColor": false,
            "valueDiffMax": 27.5,
            "valueDiffRelMax": 25,
            "valueMax": 65,
            "valueMin": 10
           },
           "stress_curl": {
            "abbreviation": "stress_curl",
            "colormapDiffId": "balance",
            "colormapDiffInvert": false,
            "colormapId": "viridis",
            "colormapInvert": false,
            "dimensions": [
             "time",
             "latitude",
             "longitude"
            ],
            "hasLogScale": false,
            "id": "stress_curl",
            "logScale": false,
            "missingValue": -2147483647,
            "name": {
             "en": "Curl of surface wind stress"
            },
            "offset": 0,
            "scale": 1e-10,
            "standardName": "vertical_component_of_surface_downward_stress_curl",
            "type": "data",
            "unit": "N m-3",
            "unitConversion": null,
            "valueClamp": true,
            "valueColor": false,
            "valueDiffMax": 2.3519000000000003e-06,
            "valueDiffRelMax": 25,
            "valueMax": 2.1812e-06,
            "valueMin": -2.5226e-06
           },
           "stress_curl_bias": {
            "abbreviation": "stress_curl_bias",
            "colormapDiffId": "balance",
            "colormapDiffInvert": false,
            "colormapId": "balance",
            "colormapInvert": false,
            "dimensions": [
             "time",
             "latitude",
             "longitude"
            ],
            "hasLogScale": false,
            "id": "stress_curl_bias",
            "logScale": false,
            "missingValue": -2147483647,
            "name": {
             "en": "Scatterometer-model bias of curl of surface wind stress"
            },
            "offset": 0,
            "scale": 1e-10,
            "standardName": "vertical_component_of_surface_downward_stress_curl_bias",
            "type": "data",
            "unit": "N m-3",
            "unitConversion": null,
            "valueClamp": true,
            "valueColor": false,
            "valueDiffMax": 5.091e-07,
            "valueDiffRelMax": 25,
            "valueMax": 5.091e-07,
            "valueMin": -5.091e-07
           },
           "stress_curl_dv": {
            "abbreviation": "stress_curl_dv",
            "colormapDiffId": "balance",
            "colormapDiffInvert": false,
            "colormapId": "viridis",
            "colormapInvert": false,
            "dimensions": [
             "time",
             "latitude",
             "longitude"
            ],
            "hasLogScale": false,
            "id": "stress_curl_dv",
            "logScale": false,
            "missingValue": -2147483647,
            "name": {
             "en": "Difference of scatterometer and model variances of curl of surface wind stress"
            },
            "offset": 0,
            "scale": 1e-15,
            "standardName": "vertical_component_of_surface_downward_stress_curl_difference_of_variances",
            "type": "data",
            "unit": "N2 m-6",
            "unitConversion": null,
            "valueClamp": true,
            "valueColor": false,
            "valueDiffMax": 3.1755000000000004e-12,
            "valueDiffRelMax": 25,
            "valueMax": 5.266e-12,
            "valueMin": -1.0850000000000001e-12
           },
           "stress_divergence": {
            "abbreviation": "stress_divergence",
            "colormapDiffId": "balance",
            "colormapDiffInvert": false,
            "colormapId": "viridis",
            "colormapInvert": false,
            "dimensions": [
             "time",
             "latitude",
             "longitude"
            ],
            "hasLogScale": false,
            "id": "stress_divergence",
            "logScale": false,
            "missingValue": -2147483647,
            "name": {
             "en": "Divergence of surface wind stress"
            },
            "offset": 0,
            "scale": 1e-10,
            "standardName": "divergence_of_surface_downward_stress",
            "type": "data",
            "unit": "N m-3",
            "unitConversion": null,
            "valueClamp": true,
            "valueColor": false,
            "valueDiffMax": 2.0739629999999886e-06,
            "valueDiffRelMax": 25,
            "valueMax": 1.9623259999999777e-06,
            "valueMin": -2.1856e-06
           },
           "stress_divergence_bias": {
            "abbreviation": "stress_divergence_bias",
            "colormapDiffId": "balance",
            "colormapDiffInvert": false,
            "colormapId": "balance",
            "colormapInvert": false,
            "dimensions": [
             "time",
             "latitude",
             "longitude"
            ],
            "hasLogScale": false,
            "id": "stress_divergence_bias",
            "logScale": false,
            "missingValue": -2147483647,
            "name": {
             "en": "Scatterometer-model bias of divergence of surface wind stress"
            },
            "offset": 0,
            "scale": 1e-10,
            "standardName": "divergence_of_surface_downward_stress_bias",
            "type": "data",
            "unit": "N m-3",
            "unitConversion": null,
            "valueClamp": true,
            "valueColor": false,
            "valueDiffMax": 4.885000000000001e-07,
            "valueDiffRelMax": 25,
            "valueMax": 4.885000000000001e-07,
            "valueMin": -4.885000000000001e-07
           },
           "stress_divergence_dv": {
            "abbreviation": "stress_divergence_dv",
            "colormapDiffId": "balance",
            "colormapDiffInvert": false,
            "colormapId": "viridis",
            "colormapInvert": false,
            "dimensions": [
             "time",
             "latitude",
             "longitude"
            ],
            "hasLogScale": false,
            "id": "stress_divergence_dv",
            "logScale": false,
            "missingValue": -2147483647,
            "name": {
             "en": "Difference of scatterometer and model variances of divergence of surface wind stress"
            },
            "offset": 0,
            "scale": 1e-15,
            "standardName": "divergence_of_surface_downward_stress_difference_of_variances",
            "type": "data",
            "unit": "N2 m-6",
            "unitConversion": null,
            "valueClamp": true,
            "valueColor": false,
            "valueDiffMax": 2.2560000000000005e-12,
            "valueDiffRelMax": 25,
            "valueMax": 4.463000000000001e-12,
            "valueMin": -4.9000000000000006e-14
           },
           "wind_curl": {
            "abbreviation": "wind_curl",
            "colormapDiffId": "balance",
            "colormapDiffInvert": false,
            "colormapId": "viridis",
            "colormapInvert": false,
            "dimensions": [
             "time",
             "latitude",
             "longitude"
            ],
            "hasLogScale": false,
            "id": "wind_curl",
            "logScale": false,
            "missingValue": -2147483647,
            "name": {
             "en": "Curl of stress-equivalent wind at 10 m"
            },
            "offset": 0,
            "scale": 1e-07,
            "standardName": "atmosphere_relative_vorticity",
            "type": "data",
            "unit": "s-1",
            "unitConversion": null,
            "valueClamp": true,
            "valueColor": false,
            "valueDiffMax": 8.955e-05,
            "valueDiffRelMax": 25,
            "valueMax": 8.68e-05,
            "valueMin": -9.23e-05
           },
           "wind_curl_bias": {
            "abbreviation": "wind_curl_bias",
            "colormapDiffId": "balance",
            "colormapDiffInvert": false,
            "colormapId": "balance",
            "colormapInvert": false,
            "dimensions": [
             "time",
             "latitude",
             "longitude"
            ],
            "hasLogScale": false,
            "id": "wind_curl_bias",
            "logScale": false,
            "missingValue": -2147483647,
            "name": {
             "en": "Scatterometer-model bias of curl of stress-equivalent wind at 10 m"
            },
            "offset": 0,
            "scale": 1e-07,
            "standardName": "atmosphere_relative_vorticity_bias",
            "type": "data",
            "unit": "s-1",
            "unitConversion": null,
            "valueClamp": true,
            "valueColor": false,
            "valueDiffMax": 1.82e-05,
            "valueDiffRelMax": 25,
            "valueMax": 1.82e-05,
            "valueMin": -1.82e-05
           },
           "wind_curl_dv": {
            "abbreviation": "wind_curl_dv",
            "colormapDiffId": "balance",
            "colormapDiffInvert": false,
            "colormapId": "viridis",
            "colormapInvert": false,
            "dimensions": [
             "time",
             "latitude",
             "longitude"
            ],
            "hasLogScale": false,
            "id": "wind_curl_dv",
            "logScale": false,
            "missingValue": -2147483647,
            "name": {
             "en": "Difference of scatterometer and model variances of curl of stress-equivalent wind at 10 m"
            },
            "offset": 0,
            "scale": 1e-11,
            "standardName": "atmosphere_relative_vorticity_difference_of_variances",
            "type": "data",
            "unit": "s-2",
            "unitConversion": null,
            "valueClamp": true,
            "valueColor": false,
            "valueDiffMax": 3.5999999999999996e-09,
            "valueDiffRelMax": 25,
            "valueMax": 6.399999999999999e-09,
            "valueMin": -7.999999999999999e-10
           },
           "wind_divergence": {
            "abbreviation": "wind_divergence",
            "colormapDiffId": "balance",
            "colormapDiffInvert": false,
            "colormapId": "viridis",
            "colormapInvert": false,
            "dimensions": [
             "time",
             "latitude",
             "longitude"
            ],
            "hasLogScale": false,
            "id": "wind_divergence",
            "logScale": false,
            "missingValue": -2147483647,
            "name": {
             "en": "Divergence of stress-equivalent wind at 10 m"
            },
            "offset": 0,
            "scale": 1e-07,
            "standardName": "divergence_of_wind",
            "type": "data",
            "unit": "s-1",
            "unitConversion": null,
            "valueClamp": true,
            "valueColor": false,
            "valueDiffMax": 0.00010284999999999999,
            "valueDiffRelMax": 25,
            "valueMax": 9.63e-05,
            "valueMin": -0.00010939999999999999
           },
           "wind_divergence_bias": {
            "abbreviation": "wind_divergence_bias",
            "colormapDiffId": "balance",
            "colormapDiffInvert": false,
            "colormapId": "balance",
            "colormapInvert": false,
            "dimensions": [
             "time",
             "latitude",
             "longitude"
            ],
            "hasLogScale": false,
            "id": "wind_divergence_bias",
            "logScale": false,
            "missingValue": -2147483647,
            "name": {
             "en": "Scatterometer-model bias of divergence of stress-equivalent wind at 10 m"
            },
            "offset": 0,
            "scale": 1e-07,
            "standardName": "divergence_of_wind_bias",
            "type": "data",
            "unit": "s-1",
            "unitConversion": null,
            "valueClamp": true,
            "valueColor": false,
            "valueDiffMax": 2.09e-05,
            "valueDiffRelMax": 25,
            "valueMax": 2.09e-05,
            "valueMin": -2.09e-05
           },
           "wind_divergence_dv": {
            "abbreviation": "wind_divergence_dv",
            "colormapDiffId": "balance",
            "colormapDiffInvert": false,
            "colormapId": "viridis",
            "colormapInvert": false,
            "dimensions": [
             "time",
             "latitude",
             "longitude"
            ],
            "hasLogScale": true,
            "id": "wind_divergence_dv",
            "logScale": false,
            "missingValue": -2147483647,
            "name": {
             "en": "Difference of scatterometer and model variances of divergence of stress-equivalent wind at 10 m"
            },
            "offset": 0,
            "scale": 1e-11,
            "standardName": "divergence_of_wind_difference_of_variances",
            "type": "data",
            "unit": "s-2",
            "unitConversion": null,
            "valueClamp": true,
            "valueColor": false,
            "valueDiffMax": 3.3099999999999995e-09,
            "valueDiffRelMax": 25,
            "valueMax": 6.849999999999999e-09,
            "valueMin": 2.2999999999999998e-10
           }
          },
          "datetime": "2024-05-31T00:00:00Z",
          "end_datetime": "2024-05-31T00:00:00Z",
          "instruments": [
           "ASCAT, ASCAT"
          ],
          "license": "proprietary",
          "order:status": "",
          "processing:level": "Level 4",
          "providers": [
           {
            "description": "Copernicus Marine Data Store",
            "name": "cop_marine",
            "priority": 0,
            "roles": [
             "host"
            ],
            "url": "https://marine.copernicus.eu/"
           }
          ],
          "start_datetime": "2024-05-31T00:00:00Z"
         },
         "stac_extensions": [
          "https://stac-extensions.github.io/processing/v1.0.0/schema.json",
          "https://stac-extensions.github.io/order/v1.1.0/schema.json"
         ],
         "stac_version": "1.0.0",
         "type": "Feature"
        },
        {
         "assets": {
          "downloadLink": {
           "alternate": {
            "origin": {
             "href": "https://s3.waw3-1.cloudferro.com/mdl-native-04/native/WIND_GLO_PHY_L4_NRT_012_004/cmems_obs-wind_glo_phy_nrt_l4_0.125deg_PT1H_202207/2024/05/cmems_obs-wind_glo_phy_nrt_l4_0.125deg_PT1H_2024053103_R20240531T00_03.nc",
             "title": "Origin asset link"
            }
           },
           "href": "https://hda.data.destination-earth.eu/stac/collections/EO.MO.DAT.WIND_GLO_PHY_L4_NRT_012_004/items/cmems_obs-wind_glo_phy_nrt_l4_0/download?provider=cop_marine",
           "title": "Download link",
           "type": "application/zip"
          },
          "native": {
           "alternate": {
            "origin": {
             "href": "https://s3.waw3-1.cloudferro.com/mdl-native-04/native/WIND_GLO_PHY_L4_NRT_012_004/cmems_obs-wind_glo_phy_nrt_l4_0.125deg_PT1H_202207/2024/05/cmems_obs-wind_glo_phy_nrt_l4_0.125deg_PT1H_2024053103_R20240531T00_03.nc",
             "title": "Origin asset link",
             "type": "application/x-netcdf"
            }
           },
           "href": "https://hda.data.destination-earth.eu/stac/collections/EO.MO.DAT.WIND_GLO_PHY_L4_NRT_012_004/items/cmems_obs-wind_glo_phy_nrt_l4_0/download/native?provider=cop_marine",
           "title": "native",
           "type": "application/x-netcdf"
          },
          "thumbnail": {
           "href": "https://mdl-metadata.s3.waw3-1.cloudferro.com/metadata/thumbnails/WIND_GLO_PHY_L4_NRT_012_004.jpg",
           "role": "thumbnail",
           "title": "Thumbnail",
           "type": "image/jpeg"
          }
         },
         "bbox": [
          -180,
          -90,
          180,
          90
         ],
         "collection": "EO.MO.DAT.WIND_GLO_PHY_L4_NRT_012_004",
         "geometry": {
          "coordinates": [
           [
            [
             180,
             -90
            ],
            [
             180,
             90
            ],
            [
             -180,
             90
            ],
            [
             -180,
             -90
            ],
            [
             180,
             -90
            ]
           ]
          ],
          "type": "Polygon"
         },
         "id": "cmems_obs-wind_glo_phy_nrt_l4_0",
         "links": [
          {
           "href": "https://hda.data.destination-earth.eu/stac/collections/EO.MO.DAT.WIND_GLO_PHY_L4_NRT_012_004/items/cmems_obs-wind_glo_phy_nrt_l4_0",
           "rel": "self",
           "title": "cmems_obs-wind_glo_phy_nrt_l4_0"
          },
          {
           "href": "https://hda.data.destination-earth.eu/stac/",
           "rel": "root"
          },
          {
           "href": "https://hda.data.destination-earth.eu/stac/collections/EO.MO.DAT.WIND_GLO_PHY_L4_NRT_012_004",
           "rel": "parent",
           "title": "EO.MO.DAT.WIND_GLO_PHY_L4_NRT_012_004"
          },
          {
           "href": "https://hda.data.destination-earth.eu/stac/collections/EO.MO.DAT.WIND_GLO_PHY_L4_NRT_012_004",
           "rel": "collection",
           "title": "EO.MO.DAT.WIND_GLO_PHY_L4_NRT_012_004"
          }
         ],
         "properties": {
          "constellation": "Metop-B, Metop-C",
          "cop_marine:Conventions": "CF-1.6, ACDD-1.3",
          "cop_marine:admp_in_preparation": false,
          "cop_marine:admp_updated": "2024-09-18T10:37:03.450397Z",
          "cop_marine:admp_valid_start_date": "2022-03-11T12:00:00.000000000Z",
          "cop_marine:admp_valid_start_index": 14844,
          "cop_marine:allVariables": [
           "Eastward wind (WIND)",
           "Northward wind (WIND)",
           "Surface downward eastward stress (WIND)",
           "Surface downward northward stress (WIND)",
           "Stress curl (WIND)",
           "Stress divergence (WIND)",
           "Air density (WIND)",
           "Wind curl (WIND)",
           "Wind divergence (WIND)"
          ],
          "cop_marine:altId": "63ee69f1-2628-43aa-9b22-b21749d160ba",
          "cop_marine:areas": [
           "Global Ocean"
          ],
          "cop_marine:assimilatedData": [],
          "cop_marine:colors": [
           "Blue Ocean"
          ],
          "cop_marine:communities": [
           "Policy & governance",
           "Science & innovation",
           "Extremes, hazards & safety",
           "Coastal services",
           "Natural resources & energy",
           "Trade & marine navigation"
          ],
          "cop_marine:contacts": [
           {
            "email": "scat@knmi.nl",
            "name": "Service Desk KNMI",
            "organisationName": "SIW-KNMI-DEBILT-NL",
            "responsiblePartyRole": "pointOfContact"
           },
           {
            "email": "ad.stoffelen@knmi.nl",
            "name": "Ad STOFFELEN",
            "organisationName": "SIW-KNMI-DEBILT-NL",
            "responsiblePartyRole": "custodian"
           },
           {
            "email": "rianne.giesen@knmi.nl",
            "name": "Rianne GIESEN",
            "organisationName": "SIW-KNMI-DEBILT-NL",
            "responsiblePartyRole": "originator"
           },
           {
            "email": "scat@knmi.nl",
            "name": "Anton VERHOEF",
            "organisationName": "SIW-KNMI-DEBILT-NL",
            "responsiblePartyRole": "resourceProvider"
           },
           {
            "email": "scat@knmi.nl",
            "name": "Service Desk KNMI",
            "organisationName": "SIW-KNMI-DEBILT-NL",
            "responsiblePartyRole": "distributor"
           }
          ],
          "cop_marine:crs": "EPSG:4326",
          "cop_marine:dataset": "cmems_obs-wind_glo_phy_nrt_l4_0.125deg_PT1H_202207",
          "cop_marine:date_created": "2022-06-23T01:30:26",
          "cop_marine:date_modified": "2022-06-23T01:30:26",
          "cop_marine:directives": [],
          "cop_marine:featureTypes": [
           "Grid"
          ],
          "cop_marine:formats": [
           "NetCDF-4"
          ],
          "cop_marine:geoExtent": {
           "coordinates": [
            [
             -180,
             90
            ],
            [
             180,
             -90
            ]
           ],
           "type": "envelope"
          },
          "cop_marine:geoResolution": {
           "column": {
            "magnitude": 0.125,
            "units": "degree"
           },
           "row": {
            "magnitude": 0.125,
            "units": "degree"
           }
          },
          "cop_marine:geospatial_lat_max": 89.9375,
          "cop_marine:geospatial_lat_min": -89.9375,
          "cop_marine:geospatial_lat_resolution": 0.125,
          "cop_marine:geospatial_lat_units": "degrees_north",
          "cop_marine:geospatial_lon_max": 179.9375,
          "cop_marine:geospatial_lon_min": -179.9375,
          "cop_marine:geospatial_lon_resolution": 0.125,
          "cop_marine:geospatial_lon_units": "degrees_east",
          "cop_marine:history": "N/A",
          "cop_marine:indicatorFamilies": [],
          "cop_marine:institution": "Royal Netherlands Meteorological Institute (KNMI)",
          "cop_marine:instrument_vocabulary": "CEOS",
          "cop_marine:isStaging": false,
          "cop_marine:mainVariables": [
           "Wind"
          ],
          "cop_marine:model": "ECMWF Operational model",
          "cop_marine:modifiedDate": "2024-06-18",
          "cop_marine:platform_vocabulary": "CEOS",
          "cop_marine:processing_level": "L4",
          "cop_marine:project": "Copernicus Marine Service Wind Thematic Assembly Centre",
          "cop_marine:projection": "WGS 84 (EPSG:4326)",
          "cop_marine:providerMetadata": {
           "source": "cmems",
           "type": "csw",
           "url": "https://cmems-catalog-ro.cls.fr/geonetwork/srv/eng/csw-MYOCEAN-CORE-PRODUCTS?service=CSW&version=2.0.2&request=GetRecordById&id=63ee69f1-2628-43aa-9b22-b21749d160ba&elementsetname=full&outputSchema=http://www.isotc211.org/2005/gmd"
          },
          "cop_marine:rank": 14000,
          "cop_marine:references": "Copernicus Marine Service Product User Manual CMEMS-TAC-WIND-PUM-012-004, Trindade et al. (2020) doi:10.1109/TGRS.2019.2946019",
          "cop_marine:sources": [
           "Numerical models",
           "Satellite observations"
          ],
          "cop_marine:summary": "Global ocean 10-m stress-equivalent wind and surface wind stress fields based on the ECMWF operational model winds, bias-corrected using scatterometer observations",
          "cop_marine:tempExtentBegin": "",
          "cop_marine:tempResolutions": [
           "Hourly"
          ],
          "cop_marine:thumbnailMeta": {
           "basemapId": "dark",
           "colormapId": "speed",
           "colormapInvert": false,
           "creationDate": "2023-06-18T06:37:19.450Z",
           "crs": "epsg:4326",
           "elevation": null,
           "layerId": "WIND_GLO_PHY_L4_NRT_012_004/cmems_obs-wind_glo_phy_nrt_l4_0.125deg_PT1H_202207/wind",
           "logScale": false,
           "overlays": {
            "tags": [
             {
              "name": "Wind"
             }
            ]
           },
           "style": "default",
           "time": 1593561600000,
           "valueClamp": true,
           "valueMax": 37.04999828338623,
           "valueMin": 0
          },
          "cop_marine:time_coverage_end": "2020-07-01T00:00:00",
          "cop_marine:time_coverage_start": "2020-07-01T00:00:00",
          "cop_marine:times": [
           "Present",
           "Past"
          ],
          "cop_marine:updateFrequencies": {
           "daily": "15:00"
          },
          "cop_marine:useCases": [],
          "cop_marine:vertExtentMax": 0,
          "cop_marine:vertExtentMin": 0,
          "created": "2012-08-26",
          "cube:dimensions": {
           "latitude": {
            "axis": "y",
            "extent": [
             -89.9375,
             89.9375
            ],
            "reference_system": 4326,
            "step": 0.125,
            "type": "spatial"
           },
           "longitude": {
            "axis": "x",
            "extent": [
             -179.9375,
             179.9375
            ],
            "reference_system": 4326,
            "step": 0.125,
            "type": "spatial"
           },
           "time": {
            "extent": [
             "2020-07-01T00:00:00Z",
             "2024-09-17T23:00:00Z"
            ],
            "step": "PT1H",
            "type": "temporal"
           }
          },
          "cube:variables": {
           "air_density": {
            "abbreviation": "air_density",
            "colormapDiffId": "balance",
            "colormapDiffInvert": false,
            "colormapId": "viridis",
            "colormapInvert": false,
            "dimensions": [
             "time",
             "latitude",
             "longitude"
            ],
            "hasLogScale": true,
            "id": "air_density",
            "logScale": false,
            "missingValue": -32767,
            "name": {
             "en": "Air density at 10 m"
            },
            "offset": 0,
            "scale": 0.001,
            "standardName": "air_density",
            "type": "data",
            "unit": "kg m-3",
            "unitConversion": null,
            "valueClamp": true,
            "valueColor": false,
            "valueDiffMax": 0.2080000638961792,
            "valueDiffRelMax": 25,
            "valueMax": 1.5690001249313354,
            "valueMin": 1.152999997138977
           },
           "eastward_stress": {
            "abbreviation": "eastward_stress",
            "colormapDiffId": "balance",
            "colormapDiffInvert": false,
            "colormapId": "balance",
            "colormapInvert": false,
            "dimensions": [
             "time",
             "latitude",
             "longitude"
            ],
            "hasLogScale": false,
            "id": "eastward_stress",
            "logScale": false,
            "missingValue": -2147483647,
            "name": {
             "en": "Surface wind stress eastward component"
            },
            "offset": 0,
            "scale": 0.01,
            "standardName": "surface_downward_eastward_stress",
            "type": "data",
            "unit": "N m-2",
            "unitConversion": null,
            "valueClamp": true,
            "valueColor": false,
            "valueDiffMax": 1.53,
            "valueDiffRelMax": 25,
            "valueMax": 1.53,
            "valueMin": -1.53
           },
           "eastward_stress_bias": {
            "abbreviation": "eastward_stress_bias",
            "colormapDiffId": "balance",
            "colormapDiffInvert": false,
            "colormapId": "balance",
            "colormapInvert": false,
            "dimensions": [
             "time",
             "latitude",
             "longitude"
            ],
            "hasLogScale": false,
            "id": "eastward_stress_bias",
            "logScale": false,
            "missingValue": -2147483647,
            "name": {
             "en": "Scatterometer-model bias of surface wind stress eastward component"
            },
            "offset": 0,
            "scale": 0.01,
            "standardName": "surface_downward_eastward_stress_bias",
            "type": "data",
            "unit": "N m-2",
            "unitConversion": null,
            "valueClamp": true,
            "valueColor": false,
            "valueDiffMax": 0.03,
            "valueDiffRelMax": 25,
            "valueMax": 0.03,
            "valueMin": -0.03
           },
           "eastward_stress_sdd": {
            "abbreviation": "eastward_stress_sdd",
            "colormapDiffId": "balance",
            "colormapDiffInvert": false,
            "colormapId": "viridis",
            "colormapInvert": false,
            "dimensions": [
             "time",
             "latitude",
             "longitude"
            ],
            "hasLogScale": true,
            "id": "eastward_stress_sdd",
            "logScale": false,
            "missingValue": -2147483647,
            "name": {
             "en": "Standard deviation of differences of surface wind stress eastward component"
            },
            "offset": 0,
            "scale": 0.01,
            "standardName": "surface_downward_eastward_stress_standard_deviation_of_differences",
            "type": "data",
            "unit": "N m-2",
            "unitConversion": null,
            "valueClamp": true,
            "valueColor": false,
            "valueDiffMax": 0.035,
            "valueDiffRelMax": 25,
            "valueMax": 0.08,
            "valueMin": 0.01
           },
           "eastward_wind": {
            "abbreviation": "eastward_wind",
            "colormapDiffId": "balance",
            "colormapDiffInvert": false,
            "colormapId": "balance",
            "colormapInvert": false,
            "dimensions": [
             "time",
             "latitude",
             "longitude"
            ],
            "hasLogScale": false,
            "id": "eastward_wind",
            "logScale": false,
            "missingValue": -32767,
            "name": {
             "en": "Stress-equivalent wind eastward component at 10 m"
            },
            "offset": 0,
            "scale": 0.01,
            "standardName": "eastward_wind",
            "type": "data",
            "unit": "m s-1",
            "unitConversion": null,
            "valueClamp": true,
            "valueColor": false,
            "valueDiffMax": 37.04999828338623,
            "valueDiffRelMax": 25,
            "valueMax": 37.04999828338623,
            "valueMin": -37.04999828338623
           },
           "eastward_wind_bias": {
            "abbreviation": "eastward_wind_bias",
            "colormapDiffId": "balance",
            "colormapDiffInvert": false,
            "colormapId": "balance",
            "colormapInvert": false,
            "dimensions": [
             "time",
             "latitude",
             "longitude"
            ],
            "hasLogScale": false,
            "id": "eastward_wind_bias",
            "logScale": false,
            "missingValue": -32767,
            "name": {
             "en": "Scatterometer-model bias of stress-equivalent wind eastward component at 10 m"
            },
            "offset": 0,
            "scale": 0.01,
            "standardName": "eastward_wind_bias",
            "type": "data",
            "unit": "m s-1",
            "unitConversion": null,
            "valueClamp": true,
            "valueColor": false,
            "valueDiffMax": 0.9300000071525574,
            "valueDiffRelMax": 25,
            "valueMax": 0.9300000071525574,
            "valueMin": -0.9300000071525574
           },
           "eastward_wind_sdd": {
            "abbreviation": "eastward_wind_sdd",
            "colormapDiffId": "balance",
            "colormapDiffInvert": false,
            "colormapId": "viridis",
            "colormapInvert": false,
            "dimensions": [
             "time",
             "latitude",
             "longitude"
            ],
            "hasLogScale": true,
            "id": "eastward_wind_sdd",
            "logScale": false,
            "missingValue": -32767,
            "name": {
             "en": "Standard deviation of differences of stress-equivalent wind eastward component at 10 m"
            },
            "offset": 0,
            "scale": 0.01,
            "standardName": "eastward_wind_standard_deviation_of_differences",
            "type": "data",
            "unit": "m s-1",
            "unitConversion": null,
            "valueClamp": true,
            "valueColor": false,
            "valueDiffMax": 0.8099999129772186,
            "valueDiffRelMax": 25,
            "valueMax": 2.169999837875366,
            "valueMin": 0.550000011920929
           },
           "northward_stress": {
            "abbreviation": "northward_stress",
            "colormapDiffId": "balance",
            "colormapDiffInvert": false,
            "colormapId": "balance",
            "colormapInvert": false,
            "dimensions": [
             "time",
             "latitude",
             "longitude"
            ],
            "hasLogScale": false,
            "id": "northward_stress",
            "logScale": false,
            "missingValue": -2147483647,
            "name": {
             "en": "Surface wind stress northward component"
            },
            "offset": 0,
            "scale": 0.01,
            "standardName": "surface_downward_northward_stress",
            "type": "data",
            "unit": "N m-2",
            "unitConversion": null,
            "valueClamp": true,
            "valueColor": false,
            "valueDiffMax": 1.53,
            "valueDiffRelMax": 25,
            "valueMax": 1.53,
            "valueMin": -1.53
           },
           "northward_stress_bias": {
            "abbreviation": "northward_stress_bias",
            "colormapDiffId": "balance",
            "colormapDiffInvert": false,
            "colormapId": "balance",
            "colormapInvert": false,
            "dimensions": [
             "time",
             "latitude",
             "longitude"
            ],
            "hasLogScale": false,
            "id": "northward_stress_bias",
            "logScale": false,
            "missingValue": -2147483647,
            "name": {
             "en": "Scatterometer-model bias of surface wind stress northward component"
            },
            "offset": 0,
            "scale": 0.01,
            "standardName": "surface_downward_northward_stress_bias",
            "type": "data",
            "unit": "N m-2",
            "unitConversion": null,
            "valueClamp": true,
            "valueColor": false,
            "valueDiffMax": 0.02,
            "valueDiffRelMax": 25,
            "valueMax": 0.02,
            "valueMin": -0.02
           },
           "northward_stress_sdd": {
            "abbreviation": "northward_stress_sdd",
            "colormapDiffId": "balance",
            "colormapDiffInvert": false,
            "colormapId": "viridis",
            "colormapInvert": false,
            "dimensions": [
             "time",
             "latitude",
             "longitude"
            ],
            "hasLogScale": true,
            "id": "northward_stress_sdd",
            "logScale": false,
            "missingValue": -2147483647,
            "name": {
             "en": "Standard deviation of differences of surface wind stress northward component"
            },
            "offset": 0,
            "scale": 0.01,
            "standardName": "surface_downward_northward_stress_standard_deviation_of_differences",
            "type": "data",
            "unit": "N m-2",
            "unitConversion": null,
            "valueClamp": true,
            "valueColor": false,
            "valueDiffMax": 0.030000000000000002,
            "valueDiffRelMax": 25,
            "valueMax": 0.07,
            "valueMin": 0.01
           },
           "northward_wind": {
            "abbreviation": "northward_wind",
            "colormapDiffId": "balance",
            "colormapDiffInvert": false,
            "colormapId": "balance",
            "colormapInvert": false,
            "dimensions": [
             "time",
             "latitude",
             "longitude"
            ],
            "hasLogScale": false,
            "id": "northward_wind",
            "logScale": false,
            "missingValue": -32767,
            "name": {
             "en": "Stress-equivalent wind northward component at 10 m"
            },
            "offset": 0,
            "scale": 0.01,
            "standardName": "northward_wind",
            "type": "data",
            "unit": "m s-1",
            "unitConversion": null,
            "valueClamp": true,
            "valueColor": false,
            "valueDiffMax": 37.04999828338623,
            "valueDiffRelMax": 25,
            "valueMax": 37.04999828338623,
            "valueMin": -37.04999828338623
           },
           "northward_wind_bias": {
            "abbreviation": "northward_wind_bias",
            "colormapDiffId": "balance",
            "colormapDiffInvert": false,
            "colormapId": "balance",
            "colormapInvert": false,
            "dimensions": [
             "time",
             "latitude",
             "longitude"
            ],
            "hasLogScale": false,
            "id": "northward_wind_bias",
            "logScale": false,
            "missingValue": -32767,
            "name": {
             "en": "Scatterometer-model bias of stress-equivalent wind northward component at 10 m"
            },
            "offset": 0,
            "scale": 0.01,
            "standardName": "northward_wind_bias",
            "type": "data",
            "unit": "m s-1",
            "unitConversion": null,
            "valueClamp": true,
            "valueColor": false,
            "valueDiffMax": 0.8399999737739563,
            "valueDiffRelMax": 25,
            "valueMax": 0.8399999737739563,
            "valueMin": -0.8399999737739563
           },
           "northward_wind_sdd": {
            "abbreviation": "northward_wind_sdd",
            "colormapDiffId": "balance",
            "colormapDiffInvert": false,
            "colormapId": "viridis",
            "colormapInvert": false,
            "dimensions": [
             "time",
             "latitude",
             "longitude"
            ],
            "hasLogScale": true,
            "id": "northward_wind_sdd",
            "logScale": false,
            "missingValue": -32767,
            "name": {
             "en": "Standard deviation of differences of stress-equivalent wind northward component at 10 m"
            },
            "offset": 0,
            "scale": 0.01,
            "standardName": "northward_wind_standard_deviation_of_differences",
            "type": "data",
            "unit": "m s-1",
            "unitConversion": null,
            "valueClamp": true,
            "valueColor": false,
            "valueDiffMax": 0.8549999296665192,
            "valueDiffRelMax": 25,
            "valueMax": 2.3899998664855957,
            "valueMin": 0.6800000071525574
           },
           "number_of_observations": {
            "abbreviation": "number_of_observations",
            "colormapDiffId": "balance",
            "colormapDiffInvert": false,
            "colormapId": "viridis",
            "colormapInvert": false,
            "dimensions": [
             "time",
             "latitude",
             "longitude"
            ],
            "hasLogScale": true,
            "id": "number_of_observations",
            "logScale": false,
            "missingValue": -32767,
            "name": {
             "en": "Number of observations used for scatterometer-model bias"
            },
            "offset": null,
            "scale": null,
            "standardName": "number_of_observations",
            "type": "data",
            "unit": 1,
            "unitConversion": null,
            "valueClamp": true,
            "valueColor": false,
            "valueDiffMax": 21,
            "valueDiffRelMax": 25,
            "valueMax": 69,
            "valueMin": 27
           },
           "number_of_observations_divcurl": {
            "abbreviation": "number_of_observations_divcurl",
            "colormapDiffId": "balance",
            "colormapDiffInvert": false,
            "colormapId": "viridis",
            "colormapInvert": false,
            "dimensions": [
             "time",
             "latitude",
             "longitude"
            ],
            "hasLogScale": true,
            "id": "number_of_observations_divcurl",
            "logScale": false,
            "missingValue": -32767,
            "name": {
             "en": "Number of observations used for scatterometer-model divergence and curl bias"
            },
            "offset": null,
            "scale": null,
            "standardName": "number_of_observations",
            "type": "data",
            "unit": 1,
            "unitConversion": null,
            "valueClamp": true,
            "valueColor": false,
            "valueDiffMax": 27.5,
            "valueDiffRelMax": 25,
            "valueMax": 65,
            "valueMin": 10
           },
           "stress_curl": {
            "abbreviation": "stress_curl",
            "colormapDiffId": "balance",
            "colormapDiffInvert": false,
            "colormapId": "viridis",
            "colormapInvert": false,
            "dimensions": [
             "time",
             "latitude",
             "longitude"
            ],
            "hasLogScale": false,
            "id": "stress_curl",
            "logScale": false,
            "missingValue": -2147483647,
            "name": {
             "en": "Curl of surface wind stress"
            },
            "offset": 0,
            "scale": 1e-10,
            "standardName": "vertical_component_of_surface_downward_stress_curl",
            "type": "data",
            "unit": "N m-3",
            "unitConversion": null,
            "valueClamp": true,
            "valueColor": false,
            "valueDiffMax": 2.3519000000000003e-06,
            "valueDiffRelMax": 25,
            "valueMax": 2.1812e-06,
            "valueMin": -2.5226e-06
           },
           "stress_curl_bias": {
            "abbreviation": "stress_curl_bias",
            "colormapDiffId": "balance",
            "colormapDiffInvert": false,
            "colormapId": "balance",
            "colormapInvert": false,
            "dimensions": [
             "time",
             "latitude",
             "longitude"
            ],
            "hasLogScale": false,
            "id": "stress_curl_bias",
            "logScale": false,
            "missingValue": -2147483647,
            "name": {
             "en": "Scatterometer-model bias of curl of surface wind stress"
            },
            "offset": 0,
            "scale": 1e-10,
            "standardName": "vertical_component_of_surface_downward_stress_curl_bias",
            "type": "data",
            "unit": "N m-3",
            "unitConversion": null,
            "valueClamp": true,
            "valueColor": false,
            "valueDiffMax": 5.091e-07,
            "valueDiffRelMax": 25,
            "valueMax": 5.091e-07,
            "valueMin": -5.091e-07
           },
           "stress_curl_dv": {
            "abbreviation": "stress_curl_dv",
            "colormapDiffId": "balance",
            "colormapDiffInvert": false,
            "colormapId": "viridis",
            "colormapInvert": false,
            "dimensions": [
             "time",
             "latitude",
             "longitude"
            ],
            "hasLogScale": false,
            "id": "stress_curl_dv",
            "logScale": false,
            "missingValue": -2147483647,
            "name": {
             "en": "Difference of scatterometer and model variances of curl of surface wind stress"
            },
            "offset": 0,
            "scale": 1e-15,
            "standardName": "vertical_component_of_surface_downward_stress_curl_difference_of_variances",
            "type": "data",
            "unit": "N2 m-6",
            "unitConversion": null,
            "valueClamp": true,
            "valueColor": false,
            "valueDiffMax": 3.1755000000000004e-12,
            "valueDiffRelMax": 25,
            "valueMax": 5.266e-12,
            "valueMin": -1.0850000000000001e-12
           },
           "stress_divergence": {
            "abbreviation": "stress_divergence",
            "colormapDiffId": "balance",
            "colormapDiffInvert": false,
            "colormapId": "viridis",
            "colormapInvert": false,
            "dimensions": [
             "time",
             "latitude",
             "longitude"
            ],
            "hasLogScale": false,
            "id": "stress_divergence",
            "logScale": false,
            "missingValue": -2147483647,
            "name": {
             "en": "Divergence of surface wind stress"
            },
            "offset": 0,
            "scale": 1e-10,
            "standardName": "divergence_of_surface_downward_stress",
            "type": "data",
            "unit": "N m-3",
            "unitConversion": null,
            "valueClamp": true,
            "valueColor": false,
            "valueDiffMax": 2.0739629999999886e-06,
            "valueDiffRelMax": 25,
            "valueMax": 1.9623259999999777e-06,
            "valueMin": -2.1856e-06
           },
           "stress_divergence_bias": {
            "abbreviation": "stress_divergence_bias",
            "colormapDiffId": "balance",
            "colormapDiffInvert": false,
            "colormapId": "balance",
            "colormapInvert": false,
            "dimensions": [
             "time",
             "latitude",
             "longitude"
            ],
            "hasLogScale": false,
            "id": "stress_divergence_bias",
            "logScale": false,
            "missingValue": -2147483647,
            "name": {
             "en": "Scatterometer-model bias of divergence of surface wind stress"
            },
            "offset": 0,
            "scale": 1e-10,
            "standardName": "divergence_of_surface_downward_stress_bias",
            "type": "data",
            "unit": "N m-3",
            "unitConversion": null,
            "valueClamp": true,
            "valueColor": false,
            "valueDiffMax": 4.885000000000001e-07,
            "valueDiffRelMax": 25,
            "valueMax": 4.885000000000001e-07,
            "valueMin": -4.885000000000001e-07
           },
           "stress_divergence_dv": {
            "abbreviation": "stress_divergence_dv",
            "colormapDiffId": "balance",
            "colormapDiffInvert": false,
            "colormapId": "viridis",
            "colormapInvert": false,
            "dimensions": [
             "time",
             "latitude",
             "longitude"
            ],
            "hasLogScale": false,
            "id": "stress_divergence_dv",
            "logScale": false,
            "missingValue": -2147483647,
            "name": {
             "en": "Difference of scatterometer and model variances of divergence of surface wind stress"
            },
            "offset": 0,
            "scale": 1e-15,
            "standardName": "divergence_of_surface_downward_stress_difference_of_variances",
            "type": "data",
            "unit": "N2 m-6",
            "unitConversion": null,
            "valueClamp": true,
            "valueColor": false,
            "valueDiffMax": 2.2560000000000005e-12,
            "valueDiffRelMax": 25,
            "valueMax": 4.463000000000001e-12,
            "valueMin": -4.9000000000000006e-14
           },
           "wind_curl": {
            "abbreviation": "wind_curl",
            "colormapDiffId": "balance",
            "colormapDiffInvert": false,
            "colormapId": "viridis",
            "colormapInvert": false,
            "dimensions": [
             "time",
             "latitude",
             "longitude"
            ],
            "hasLogScale": false,
            "id": "wind_curl",
            "logScale": false,
            "missingValue": -2147483647,
            "name": {
             "en": "Curl of stress-equivalent wind at 10 m"
            },
            "offset": 0,
            "scale": 1e-07,
            "standardName": "atmosphere_relative_vorticity",
            "type": "data",
            "unit": "s-1",
            "unitConversion": null,
            "valueClamp": true,
            "valueColor": false,
            "valueDiffMax": 8.955e-05,
            "valueDiffRelMax": 25,
            "valueMax": 8.68e-05,
            "valueMin": -9.23e-05
           },
           "wind_curl_bias": {
            "abbreviation": "wind_curl_bias",
            "colormapDiffId": "balance",
            "colormapDiffInvert": false,
            "colormapId": "balance",
            "colormapInvert": false,
            "dimensions": [
             "time",
             "latitude",
             "longitude"
            ],
            "hasLogScale": false,
            "id": "wind_curl_bias",
            "logScale": false,
            "missingValue": -2147483647,
            "name": {
             "en": "Scatterometer-model bias of curl of stress-equivalent wind at 10 m"
            },
            "offset": 0,
            "scale": 1e-07,
            "standardName": "atmosphere_relative_vorticity_bias",
            "type": "data",
            "unit": "s-1",
            "unitConversion": null,
            "valueClamp": true,
            "valueColor": false,
            "valueDiffMax": 1.82e-05,
            "valueDiffRelMax": 25,
            "valueMax": 1.82e-05,
            "valueMin": -1.82e-05
           },
           "wind_curl_dv": {
            "abbreviation": "wind_curl_dv",
            "colormapDiffId": "balance",
            "colormapDiffInvert": false,
            "colormapId": "viridis",
            "colormapInvert": false,
            "dimensions": [
             "time",
             "latitude",
             "longitude"
            ],
            "hasLogScale": false,
            "id": "wind_curl_dv",
            "logScale": false,
            "missingValue": -2147483647,
            "name": {
             "en": "Difference of scatterometer and model variances of curl of stress-equivalent wind at 10 m"
            },
            "offset": 0,
            "scale": 1e-11,
            "standardName": "atmosphere_relative_vorticity_difference_of_variances",
            "type": "data",
            "unit": "s-2",
            "unitConversion": null,
            "valueClamp": true,
            "valueColor": false,
            "valueDiffMax": 3.5999999999999996e-09,
            "valueDiffRelMax": 25,
            "valueMax": 6.399999999999999e-09,
            "valueMin": -7.999999999999999e-10
           },
           "wind_divergence": {
            "abbreviation": "wind_divergence",
            "colormapDiffId": "balance",
            "colormapDiffInvert": false,
            "colormapId": "viridis",
            "colormapInvert": false,
            "dimensions": [
             "time",
             "latitude",
             "longitude"
            ],
            "hasLogScale": false,
            "id": "wind_divergence",
            "logScale": false,
            "missingValue": -2147483647,
            "name": {
             "en": "Divergence of stress-equivalent wind at 10 m"
            },
            "offset": 0,
            "scale": 1e-07,
            "standardName": "divergence_of_wind",
            "type": "data",
            "unit": "s-1",
            "unitConversion": null,
            "valueClamp": true,
            "valueColor": false,
            "valueDiffMax": 0.00010284999999999999,
            "valueDiffRelMax": 25,
            "valueMax": 9.63e-05,
            "valueMin": -0.00010939999999999999
           },
           "wind_divergence_bias": {
            "abbreviation": "wind_divergence_bias",
            "colormapDiffId": "balance",
            "colormapDiffInvert": false,
            "colormapId": "balance",
            "colormapInvert": false,
            "dimensions": [
             "time",
             "latitude",
             "longitude"
            ],
            "hasLogScale": false,
            "id": "wind_divergence_bias",
            "logScale": false,
            "missingValue": -2147483647,
            "name": {
             "en": "Scatterometer-model bias of divergence of stress-equivalent wind at 10 m"
            },
            "offset": 0,
            "scale": 1e-07,
            "standardName": "divergence_of_wind_bias",
            "type": "data",
            "unit": "s-1",
            "unitConversion": null,
            "valueClamp": true,
            "valueColor": false,
            "valueDiffMax": 2.09e-05,
            "valueDiffRelMax": 25,
            "valueMax": 2.09e-05,
            "valueMin": -2.09e-05
           },
           "wind_divergence_dv": {
            "abbreviation": "wind_divergence_dv",
            "colormapDiffId": "balance",
            "colormapDiffInvert": false,
            "colormapId": "viridis",
            "colormapInvert": false,
            "dimensions": [
             "time",
             "latitude",
             "longitude"
            ],
            "hasLogScale": true,
            "id": "wind_divergence_dv",
            "logScale": false,
            "missingValue": -2147483647,
            "name": {
             "en": "Difference of scatterometer and model variances of divergence of stress-equivalent wind at 10 m"
            },
            "offset": 0,
            "scale": 1e-11,
            "standardName": "divergence_of_wind_difference_of_variances",
            "type": "data",
            "unit": "s-2",
            "unitConversion": null,
            "valueClamp": true,
            "valueColor": false,
            "valueDiffMax": 3.3099999999999995e-09,
            "valueDiffRelMax": 25,
            "valueMax": 6.849999999999999e-09,
            "valueMin": 2.2999999999999998e-10
           }
          },
          "datetime": "2024-05-31T00:00:00Z",
          "end_datetime": "2024-05-31T00:00:00Z",
          "instruments": [
           "ASCAT, ASCAT"
          ],
          "license": "proprietary",
          "order:status": "",
          "processing:level": "Level 4",
          "providers": [
           {
            "description": "Copernicus Marine Data Store",
            "name": "cop_marine",
            "priority": 0,
            "roles": [
             "host"
            ],
            "url": "https://marine.copernicus.eu/"
           }
          ],
          "start_datetime": "2024-05-31T00:00:00Z"
         },
         "stac_extensions": [
          "https://stac-extensions.github.io/processing/v1.0.0/schema.json",
          "https://stac-extensions.github.io/order/v1.1.0/schema.json"
         ],
         "stac_version": "1.0.0",
         "type": "Feature"
        },
        {
         "assets": {
          "downloadLink": {
           "alternate": {
            "origin": {
             "href": "https://s3.waw3-1.cloudferro.com/mdl-native-04/native/WIND_GLO_PHY_L4_NRT_012_004/cmems_obs-wind_glo_phy_nrt_l4_0.125deg_PT1H_202207/2024/05/cmems_obs-wind_glo_phy_nrt_l4_0.125deg_PT1H_2024053104_R20240531T00_04.nc",
             "title": "Origin asset link"
            }
           },
           "href": "https://hda.data.destination-earth.eu/stac/collections/EO.MO.DAT.WIND_GLO_PHY_L4_NRT_012_004/items/cmems_obs-wind_glo_phy_nrt_l4_0/download?provider=cop_marine",
           "title": "Download link",
           "type": "application/zip"
          },
          "native": {
           "alternate": {
            "origin": {
             "href": "https://s3.waw3-1.cloudferro.com/mdl-native-04/native/WIND_GLO_PHY_L4_NRT_012_004/cmems_obs-wind_glo_phy_nrt_l4_0.125deg_PT1H_202207/2024/05/cmems_obs-wind_glo_phy_nrt_l4_0.125deg_PT1H_2024053104_R20240531T00_04.nc",
             "title": "Origin asset link",
             "type": "application/x-netcdf"
            }
           },
           "href": "https://hda.data.destination-earth.eu/stac/collections/EO.MO.DAT.WIND_GLO_PHY_L4_NRT_012_004/items/cmems_obs-wind_glo_phy_nrt_l4_0/download/native?provider=cop_marine",
           "title": "native",
           "type": "application/x-netcdf"
          },
          "thumbnail": {
           "href": "https://mdl-metadata.s3.waw3-1.cloudferro.com/metadata/thumbnails/WIND_GLO_PHY_L4_NRT_012_004.jpg",
           "role": "thumbnail",
           "title": "Thumbnail",
           "type": "image/jpeg"
          }
         },
         "bbox": [
          -180,
          -90,
          180,
          90
         ],
         "collection": "EO.MO.DAT.WIND_GLO_PHY_L4_NRT_012_004",
         "geometry": {
          "coordinates": [
           [
            [
             180,
             -90
            ],
            [
             180,
             90
            ],
            [
             -180,
             90
            ],
            [
             -180,
             -90
            ],
            [
             180,
             -90
            ]
           ]
          ],
          "type": "Polygon"
         },
         "id": "cmems_obs-wind_glo_phy_nrt_l4_0",
         "links": [
          {
           "href": "https://hda.data.destination-earth.eu/stac/collections/EO.MO.DAT.WIND_GLO_PHY_L4_NRT_012_004/items/cmems_obs-wind_glo_phy_nrt_l4_0",
           "rel": "self",
           "title": "cmems_obs-wind_glo_phy_nrt_l4_0"
          },
          {
           "href": "https://hda.data.destination-earth.eu/stac/",
           "rel": "root"
          },
          {
           "href": "https://hda.data.destination-earth.eu/stac/collections/EO.MO.DAT.WIND_GLO_PHY_L4_NRT_012_004",
           "rel": "parent",
           "title": "EO.MO.DAT.WIND_GLO_PHY_L4_NRT_012_004"
          },
          {
           "href": "https://hda.data.destination-earth.eu/stac/collections/EO.MO.DAT.WIND_GLO_PHY_L4_NRT_012_004",
           "rel": "collection",
           "title": "EO.MO.DAT.WIND_GLO_PHY_L4_NRT_012_004"
          }
         ],
         "properties": {
          "constellation": "Metop-B, Metop-C",
          "cop_marine:Conventions": "CF-1.6, ACDD-1.3",
          "cop_marine:admp_in_preparation": false,
          "cop_marine:admp_updated": "2024-09-18T10:37:03.450397Z",
          "cop_marine:admp_valid_start_date": "2022-03-11T12:00:00.000000000Z",
          "cop_marine:admp_valid_start_index": 14844,
          "cop_marine:allVariables": [
           "Eastward wind (WIND)",
           "Northward wind (WIND)",
           "Surface downward eastward stress (WIND)",
           "Surface downward northward stress (WIND)",
           "Stress curl (WIND)",
           "Stress divergence (WIND)",
           "Air density (WIND)",
           "Wind curl (WIND)",
           "Wind divergence (WIND)"
          ],
          "cop_marine:altId": "63ee69f1-2628-43aa-9b22-b21749d160ba",
          "cop_marine:areas": [
           "Global Ocean"
          ],
          "cop_marine:assimilatedData": [],
          "cop_marine:colors": [
           "Blue Ocean"
          ],
          "cop_marine:communities": [
           "Policy & governance",
           "Science & innovation",
           "Extremes, hazards & safety",
           "Coastal services",
           "Natural resources & energy",
           "Trade & marine navigation"
          ],
          "cop_marine:contacts": [
           {
            "email": "scat@knmi.nl",
            "name": "Service Desk KNMI",
            "organisationName": "SIW-KNMI-DEBILT-NL",
            "responsiblePartyRole": "pointOfContact"
           },
           {
            "email": "ad.stoffelen@knmi.nl",
            "name": "Ad STOFFELEN",
            "organisationName": "SIW-KNMI-DEBILT-NL",
            "responsiblePartyRole": "custodian"
           },
           {
            "email": "rianne.giesen@knmi.nl",
            "name": "Rianne GIESEN",
            "organisationName": "SIW-KNMI-DEBILT-NL",
            "responsiblePartyRole": "originator"
           },
           {
            "email": "scat@knmi.nl",
            "name": "Anton VERHOEF",
            "organisationName": "SIW-KNMI-DEBILT-NL",
            "responsiblePartyRole": "resourceProvider"
           },
           {
            "email": "scat@knmi.nl",
            "name": "Service Desk KNMI",
            "organisationName": "SIW-KNMI-DEBILT-NL",
            "responsiblePartyRole": "distributor"
           }
          ],
          "cop_marine:crs": "EPSG:4326",
          "cop_marine:dataset": "cmems_obs-wind_glo_phy_nrt_l4_0.125deg_PT1H_202207",
          "cop_marine:date_created": "2022-06-23T01:30:26",
          "cop_marine:date_modified": "2022-06-23T01:30:26",
          "cop_marine:directives": [],
          "cop_marine:featureTypes": [
           "Grid"
          ],
          "cop_marine:formats": [
           "NetCDF-4"
          ],
          "cop_marine:geoExtent": {
           "coordinates": [
            [
             -180,
             90
            ],
            [
             180,
             -90
            ]
           ],
           "type": "envelope"
          },
          "cop_marine:geoResolution": {
           "column": {
            "magnitude": 0.125,
            "units": "degree"
           },
           "row": {
            "magnitude": 0.125,
            "units": "degree"
           }
          },
          "cop_marine:geospatial_lat_max": 89.9375,
          "cop_marine:geospatial_lat_min": -89.9375,
          "cop_marine:geospatial_lat_resolution": 0.125,
          "cop_marine:geospatial_lat_units": "degrees_north",
          "cop_marine:geospatial_lon_max": 179.9375,
          "cop_marine:geospatial_lon_min": -179.9375,
          "cop_marine:geospatial_lon_resolution": 0.125,
          "cop_marine:geospatial_lon_units": "degrees_east",
          "cop_marine:history": "N/A",
          "cop_marine:indicatorFamilies": [],
          "cop_marine:institution": "Royal Netherlands Meteorological Institute (KNMI)",
          "cop_marine:instrument_vocabulary": "CEOS",
          "cop_marine:isStaging": false,
          "cop_marine:mainVariables": [
           "Wind"
          ],
          "cop_marine:model": "ECMWF Operational model",
          "cop_marine:modifiedDate": "2024-06-18",
          "cop_marine:platform_vocabulary": "CEOS",
          "cop_marine:processing_level": "L4",
          "cop_marine:project": "Copernicus Marine Service Wind Thematic Assembly Centre",
          "cop_marine:projection": "WGS 84 (EPSG:4326)",
          "cop_marine:providerMetadata": {
           "source": "cmems",
           "type": "csw",
           "url": "https://cmems-catalog-ro.cls.fr/geonetwork/srv/eng/csw-MYOCEAN-CORE-PRODUCTS?service=CSW&version=2.0.2&request=GetRecordById&id=63ee69f1-2628-43aa-9b22-b21749d160ba&elementsetname=full&outputSchema=http://www.isotc211.org/2005/gmd"
          },
          "cop_marine:rank": 14000,
          "cop_marine:references": "Copernicus Marine Service Product User Manual CMEMS-TAC-WIND-PUM-012-004, Trindade et al. (2020) doi:10.1109/TGRS.2019.2946019",
          "cop_marine:sources": [
           "Numerical models",
           "Satellite observations"
          ],
          "cop_marine:summary": "Global ocean 10-m stress-equivalent wind and surface wind stress fields based on the ECMWF operational model winds, bias-corrected using scatterometer observations",
          "cop_marine:tempExtentBegin": "",
          "cop_marine:tempResolutions": [
           "Hourly"
          ],
          "cop_marine:thumbnailMeta": {
           "basemapId": "dark",
           "colormapId": "speed",
           "colormapInvert": false,
           "creationDate": "2023-06-18T06:37:19.450Z",
           "crs": "epsg:4326",
           "elevation": null,
           "layerId": "WIND_GLO_PHY_L4_NRT_012_004/cmems_obs-wind_glo_phy_nrt_l4_0.125deg_PT1H_202207/wind",
           "logScale": false,
           "overlays": {
            "tags": [
             {
              "name": "Wind"
             }
            ]
           },
           "style": "default",
           "time": 1593561600000,
           "valueClamp": true,
           "valueMax": 37.04999828338623,
           "valueMin": 0
          },
          "cop_marine:time_coverage_end": "2020-07-01T00:00:00",
          "cop_marine:time_coverage_start": "2020-07-01T00:00:00",
          "cop_marine:times": [
           "Present",
           "Past"
          ],
          "cop_marine:updateFrequencies": {
           "daily": "15:00"
          },
          "cop_marine:useCases": [],
          "cop_marine:vertExtentMax": 0,
          "cop_marine:vertExtentMin": 0,
          "created": "2012-08-26",
          "cube:dimensions": {
           "latitude": {
            "axis": "y",
            "extent": [
             -89.9375,
             89.9375
            ],
            "reference_system": 4326,
            "step": 0.125,
            "type": "spatial"
           },
           "longitude": {
            "axis": "x",
            "extent": [
             -179.9375,
             179.9375
            ],
            "reference_system": 4326,
            "step": 0.125,
            "type": "spatial"
           },
           "time": {
            "extent": [
             "2020-07-01T00:00:00Z",
             "2024-09-17T23:00:00Z"
            ],
            "step": "PT1H",
            "type": "temporal"
           }
          },
          "cube:variables": {
           "air_density": {
            "abbreviation": "air_density",
            "colormapDiffId": "balance",
            "colormapDiffInvert": false,
            "colormapId": "viridis",
            "colormapInvert": false,
            "dimensions": [
             "time",
             "latitude",
             "longitude"
            ],
            "hasLogScale": true,
            "id": "air_density",
            "logScale": false,
            "missingValue": -32767,
            "name": {
             "en": "Air density at 10 m"
            },
            "offset": 0,
            "scale": 0.001,
            "standardName": "air_density",
            "type": "data",
            "unit": "kg m-3",
            "unitConversion": null,
            "valueClamp": true,
            "valueColor": false,
            "valueDiffMax": 0.2080000638961792,
            "valueDiffRelMax": 25,
            "valueMax": 1.5690001249313354,
            "valueMin": 1.152999997138977
           },
           "eastward_stress": {
            "abbreviation": "eastward_stress",
            "colormapDiffId": "balance",
            "colormapDiffInvert": false,
            "colormapId": "balance",
            "colormapInvert": false,
            "dimensions": [
             "time",
             "latitude",
             "longitude"
            ],
            "hasLogScale": false,
            "id": "eastward_stress",
            "logScale": false,
            "missingValue": -2147483647,
            "name": {
             "en": "Surface wind stress eastward component"
            },
            "offset": 0,
            "scale": 0.01,
            "standardName": "surface_downward_eastward_stress",
            "type": "data",
            "unit": "N m-2",
            "unitConversion": null,
            "valueClamp": true,
            "valueColor": false,
            "valueDiffMax": 1.53,
            "valueDiffRelMax": 25,
            "valueMax": 1.53,
            "valueMin": -1.53
           },
           "eastward_stress_bias": {
            "abbreviation": "eastward_stress_bias",
            "colormapDiffId": "balance",
            "colormapDiffInvert": false,
            "colormapId": "balance",
            "colormapInvert": false,
            "dimensions": [
             "time",
             "latitude",
             "longitude"
            ],
            "hasLogScale": false,
            "id": "eastward_stress_bias",
            "logScale": false,
            "missingValue": -2147483647,
            "name": {
             "en": "Scatterometer-model bias of surface wind stress eastward component"
            },
            "offset": 0,
            "scale": 0.01,
            "standardName": "surface_downward_eastward_stress_bias",
            "type": "data",
            "unit": "N m-2",
            "unitConversion": null,
            "valueClamp": true,
            "valueColor": false,
            "valueDiffMax": 0.03,
            "valueDiffRelMax": 25,
            "valueMax": 0.03,
            "valueMin": -0.03
           },
           "eastward_stress_sdd": {
            "abbreviation": "eastward_stress_sdd",
            "colormapDiffId": "balance",
            "colormapDiffInvert": false,
            "colormapId": "viridis",
            "colormapInvert": false,
            "dimensions": [
             "time",
             "latitude",
             "longitude"
            ],
            "hasLogScale": true,
            "id": "eastward_stress_sdd",
            "logScale": false,
            "missingValue": -2147483647,
            "name": {
             "en": "Standard deviation of differences of surface wind stress eastward component"
            },
            "offset": 0,
            "scale": 0.01,
            "standardName": "surface_downward_eastward_stress_standard_deviation_of_differences",
            "type": "data",
            "unit": "N m-2",
            "unitConversion": null,
            "valueClamp": true,
            "valueColor": false,
            "valueDiffMax": 0.035,
            "valueDiffRelMax": 25,
            "valueMax": 0.08,
            "valueMin": 0.01
           },
           "eastward_wind": {
            "abbreviation": "eastward_wind",
            "colormapDiffId": "balance",
            "colormapDiffInvert": false,
            "colormapId": "balance",
            "colormapInvert": false,
            "dimensions": [
             "time",
             "latitude",
             "longitude"
            ],
            "hasLogScale": false,
            "id": "eastward_wind",
            "logScale": false,
            "missingValue": -32767,
            "name": {
             "en": "Stress-equivalent wind eastward component at 10 m"
            },
            "offset": 0,
            "scale": 0.01,
            "standardName": "eastward_wind",
            "type": "data",
            "unit": "m s-1",
            "unitConversion": null,
            "valueClamp": true,
            "valueColor": false,
            "valueDiffMax": 37.04999828338623,
            "valueDiffRelMax": 25,
            "valueMax": 37.04999828338623,
            "valueMin": -37.04999828338623
           },
           "eastward_wind_bias": {
            "abbreviation": "eastward_wind_bias",
            "colormapDiffId": "balance",
            "colormapDiffInvert": false,
            "colormapId": "balance",
            "colormapInvert": false,
            "dimensions": [
             "time",
             "latitude",
             "longitude"
            ],
            "hasLogScale": false,
            "id": "eastward_wind_bias",
            "logScale": false,
            "missingValue": -32767,
            "name": {
             "en": "Scatterometer-model bias of stress-equivalent wind eastward component at 10 m"
            },
            "offset": 0,
            "scale": 0.01,
            "standardName": "eastward_wind_bias",
            "type": "data",
            "unit": "m s-1",
            "unitConversion": null,
            "valueClamp": true,
            "valueColor": false,
            "valueDiffMax": 0.9300000071525574,
            "valueDiffRelMax": 25,
            "valueMax": 0.9300000071525574,
            "valueMin": -0.9300000071525574
           },
           "eastward_wind_sdd": {
            "abbreviation": "eastward_wind_sdd",
            "colormapDiffId": "balance",
            "colormapDiffInvert": false,
            "colormapId": "viridis",
            "colormapInvert": false,
            "dimensions": [
             "time",
             "latitude",
             "longitude"
            ],
            "hasLogScale": true,
            "id": "eastward_wind_sdd",
            "logScale": false,
            "missingValue": -32767,
            "name": {
             "en": "Standard deviation of differences of stress-equivalent wind eastward component at 10 m"
            },
            "offset": 0,
            "scale": 0.01,
            "standardName": "eastward_wind_standard_deviation_of_differences",
            "type": "data",
            "unit": "m s-1",
            "unitConversion": null,
            "valueClamp": true,
            "valueColor": false,
            "valueDiffMax": 0.8099999129772186,
            "valueDiffRelMax": 25,
            "valueMax": 2.169999837875366,
            "valueMin": 0.550000011920929
           },
           "northward_stress": {
            "abbreviation": "northward_stress",
            "colormapDiffId": "balance",
            "colormapDiffInvert": false,
            "colormapId": "balance",
            "colormapInvert": false,
            "dimensions": [
             "time",
             "latitude",
             "longitude"
            ],
            "hasLogScale": false,
            "id": "northward_stress",
            "logScale": false,
            "missingValue": -2147483647,
            "name": {
             "en": "Surface wind stress northward component"
            },
            "offset": 0,
            "scale": 0.01,
            "standardName": "surface_downward_northward_stress",
            "type": "data",
            "unit": "N m-2",
            "unitConversion": null,
            "valueClamp": true,
            "valueColor": false,
            "valueDiffMax": 1.53,
            "valueDiffRelMax": 25,
            "valueMax": 1.53,
            "valueMin": -1.53
           },
           "northward_stress_bias": {
            "abbreviation": "northward_stress_bias",
            "colormapDiffId": "balance",
            "colormapDiffInvert": false,
            "colormapId": "balance",
            "colormapInvert": false,
            "dimensions": [
             "time",
             "latitude",
             "longitude"
            ],
            "hasLogScale": false,
            "id": "northward_stress_bias",
            "logScale": false,
            "missingValue": -2147483647,
            "name": {
             "en": "Scatterometer-model bias of surface wind stress northward component"
            },
            "offset": 0,
            "scale": 0.01,
            "standardName": "surface_downward_northward_stress_bias",
            "type": "data",
            "unit": "N m-2",
            "unitConversion": null,
            "valueClamp": true,
            "valueColor": false,
            "valueDiffMax": 0.02,
            "valueDiffRelMax": 25,
            "valueMax": 0.02,
            "valueMin": -0.02
           },
           "northward_stress_sdd": {
            "abbreviation": "northward_stress_sdd",
            "colormapDiffId": "balance",
            "colormapDiffInvert": false,
            "colormapId": "viridis",
            "colormapInvert": false,
            "dimensions": [
             "time",
             "latitude",
             "longitude"
            ],
            "hasLogScale": true,
            "id": "northward_stress_sdd",
            "logScale": false,
            "missingValue": -2147483647,
            "name": {
             "en": "Standard deviation of differences of surface wind stress northward component"
            },
            "offset": 0,
            "scale": 0.01,
            "standardName": "surface_downward_northward_stress_standard_deviation_of_differences",
            "type": "data",
            "unit": "N m-2",
            "unitConversion": null,
            "valueClamp": true,
            "valueColor": false,
            "valueDiffMax": 0.030000000000000002,
            "valueDiffRelMax": 25,
            "valueMax": 0.07,
            "valueMin": 0.01
           },
           "northward_wind": {
            "abbreviation": "northward_wind",
            "colormapDiffId": "balance",
            "colormapDiffInvert": false,
            "colormapId": "balance",
            "colormapInvert": false,
            "dimensions": [
             "time",
             "latitude",
             "longitude"
            ],
            "hasLogScale": false,
            "id": "northward_wind",
            "logScale": false,
            "missingValue": -32767,
            "name": {
             "en": "Stress-equivalent wind northward component at 10 m"
            },
            "offset": 0,
            "scale": 0.01,
            "standardName": "northward_wind",
            "type": "data",
            "unit": "m s-1",
            "unitConversion": null,
            "valueClamp": true,
            "valueColor": false,
            "valueDiffMax": 37.04999828338623,
            "valueDiffRelMax": 25,
            "valueMax": 37.04999828338623,
            "valueMin": -37.04999828338623
           },
           "northward_wind_bias": {
            "abbreviation": "northward_wind_bias",
            "colormapDiffId": "balance",
            "colormapDiffInvert": false,
            "colormapId": "balance",
            "colormapInvert": false,
            "dimensions": [
             "time",
             "latitude",
             "longitude"
            ],
            "hasLogScale": false,
            "id": "northward_wind_bias",
            "logScale": false,
            "missingValue": -32767,
            "name": {
             "en": "Scatterometer-model bias of stress-equivalent wind northward component at 10 m"
            },
            "offset": 0,
            "scale": 0.01,
            "standardName": "northward_wind_bias",
            "type": "data",
            "unit": "m s-1",
            "unitConversion": null,
            "valueClamp": true,
            "valueColor": false,
            "valueDiffMax": 0.8399999737739563,
            "valueDiffRelMax": 25,
            "valueMax": 0.8399999737739563,
            "valueMin": -0.8399999737739563
           },
           "northward_wind_sdd": {
            "abbreviation": "northward_wind_sdd",
            "colormapDiffId": "balance",
            "colormapDiffInvert": false,
            "colormapId": "viridis",
            "colormapInvert": false,
            "dimensions": [
             "time",
             "latitude",
             "longitude"
            ],
            "hasLogScale": true,
            "id": "northward_wind_sdd",
            "logScale": false,
            "missingValue": -32767,
            "name": {
             "en": "Standard deviation of differences of stress-equivalent wind northward component at 10 m"
            },
            "offset": 0,
            "scale": 0.01,
            "standardName": "northward_wind_standard_deviation_of_differences",
            "type": "data",
            "unit": "m s-1",
            "unitConversion": null,
            "valueClamp": true,
            "valueColor": false,
            "valueDiffMax": 0.8549999296665192,
            "valueDiffRelMax": 25,
            "valueMax": 2.3899998664855957,
            "valueMin": 0.6800000071525574
           },
           "number_of_observations": {
            "abbreviation": "number_of_observations",
            "colormapDiffId": "balance",
            "colormapDiffInvert": false,
            "colormapId": "viridis",
            "colormapInvert": false,
            "dimensions": [
             "time",
             "latitude",
             "longitude"
            ],
            "hasLogScale": true,
            "id": "number_of_observations",
            "logScale": false,
            "missingValue": -32767,
            "name": {
             "en": "Number of observations used for scatterometer-model bias"
            },
            "offset": null,
            "scale": null,
            "standardName": "number_of_observations",
            "type": "data",
            "unit": 1,
            "unitConversion": null,
            "valueClamp": true,
            "valueColor": false,
            "valueDiffMax": 21,
            "valueDiffRelMax": 25,
            "valueMax": 69,
            "valueMin": 27
           },
           "number_of_observations_divcurl": {
            "abbreviation": "number_of_observations_divcurl",
            "colormapDiffId": "balance",
            "colormapDiffInvert": false,
            "colormapId": "viridis",
            "colormapInvert": false,
            "dimensions": [
             "time",
             "latitude",
             "longitude"
            ],
            "hasLogScale": true,
            "id": "number_of_observations_divcurl",
            "logScale": false,
            "missingValue": -32767,
            "name": {
             "en": "Number of observations used for scatterometer-model divergence and curl bias"
            },
            "offset": null,
            "scale": null,
            "standardName": "number_of_observations",
            "type": "data",
            "unit": 1,
            "unitConversion": null,
            "valueClamp": true,
            "valueColor": false,
            "valueDiffMax": 27.5,
            "valueDiffRelMax": 25,
            "valueMax": 65,
            "valueMin": 10
           },
           "stress_curl": {
            "abbreviation": "stress_curl",
            "colormapDiffId": "balance",
            "colormapDiffInvert": false,
            "colormapId": "viridis",
            "colormapInvert": false,
            "dimensions": [
             "time",
             "latitude",
             "longitude"
            ],
            "hasLogScale": false,
            "id": "stress_curl",
            "logScale": false,
            "missingValue": -2147483647,
            "name": {
             "en": "Curl of surface wind stress"
            },
            "offset": 0,
            "scale": 1e-10,
            "standardName": "vertical_component_of_surface_downward_stress_curl",
            "type": "data",
            "unit": "N m-3",
            "unitConversion": null,
            "valueClamp": true,
            "valueColor": false,
            "valueDiffMax": 2.3519000000000003e-06,
            "valueDiffRelMax": 25,
            "valueMax": 2.1812e-06,
            "valueMin": -2.5226e-06
           },
           "stress_curl_bias": {
            "abbreviation": "stress_curl_bias",
            "colormapDiffId": "balance",
            "colormapDiffInvert": false,
            "colormapId": "balance",
            "colormapInvert": false,
            "dimensions": [
             "time",
             "latitude",
             "longitude"
            ],
            "hasLogScale": false,
            "id": "stress_curl_bias",
            "logScale": false,
            "missingValue": -2147483647,
            "name": {
             "en": "Scatterometer-model bias of curl of surface wind stress"
            },
            "offset": 0,
            "scale": 1e-10,
            "standardName": "vertical_component_of_surface_downward_stress_curl_bias",
            "type": "data",
            "unit": "N m-3",
            "unitConversion": null,
            "valueClamp": true,
            "valueColor": false,
            "valueDiffMax": 5.091e-07,
            "valueDiffRelMax": 25,
            "valueMax": 5.091e-07,
            "valueMin": -5.091e-07
           },
           "stress_curl_dv": {
            "abbreviation": "stress_curl_dv",
            "colormapDiffId": "balance",
            "colormapDiffInvert": false,
            "colormapId": "viridis",
            "colormapInvert": false,
            "dimensions": [
             "time",
             "latitude",
             "longitude"
            ],
            "hasLogScale": false,
            "id": "stress_curl_dv",
            "logScale": false,
            "missingValue": -2147483647,
            "name": {
             "en": "Difference of scatterometer and model variances of curl of surface wind stress"
            },
            "offset": 0,
            "scale": 1e-15,
            "standardName": "vertical_component_of_surface_downward_stress_curl_difference_of_variances",
            "type": "data",
            "unit": "N2 m-6",
            "unitConversion": null,
            "valueClamp": true,
            "valueColor": false,
            "valueDiffMax": 3.1755000000000004e-12,
            "valueDiffRelMax": 25,
            "valueMax": 5.266e-12,
            "valueMin": -1.0850000000000001e-12
           },
           "stress_divergence": {
            "abbreviation": "stress_divergence",
            "colormapDiffId": "balance",
            "colormapDiffInvert": false,
            "colormapId": "viridis",
            "colormapInvert": false,
            "dimensions": [
             "time",
             "latitude",
             "longitude"
            ],
            "hasLogScale": false,
            "id": "stress_divergence",
            "logScale": false,
            "missingValue": -2147483647,
            "name": {
             "en": "Divergence of surface wind stress"
            },
            "offset": 0,
            "scale": 1e-10,
            "standardName": "divergence_of_surface_downward_stress",
            "type": "data",
            "unit": "N m-3",
            "unitConversion": null,
            "valueClamp": true,
            "valueColor": false,
            "valueDiffMax": 2.0739629999999886e-06,
            "valueDiffRelMax": 25,
            "valueMax": 1.9623259999999777e-06,
            "valueMin": -2.1856e-06
           },
           "stress_divergence_bias": {
            "abbreviation": "stress_divergence_bias",
            "colormapDiffId": "balance",
            "colormapDiffInvert": false,
            "colormapId": "balance",
            "colormapInvert": false,
            "dimensions": [
             "time",
             "latitude",
             "longitude"
            ],
            "hasLogScale": false,
            "id": "stress_divergence_bias",
            "logScale": false,
            "missingValue": -2147483647,
            "name": {
             "en": "Scatterometer-model bias of divergence of surface wind stress"
            },
            "offset": 0,
            "scale": 1e-10,
            "standardName": "divergence_of_surface_downward_stress_bias",
            "type": "data",
            "unit": "N m-3",
            "unitConversion": null,
            "valueClamp": true,
            "valueColor": false,
            "valueDiffMax": 4.885000000000001e-07,
            "valueDiffRelMax": 25,
            "valueMax": 4.885000000000001e-07,
            "valueMin": -4.885000000000001e-07
           },
           "stress_divergence_dv": {
            "abbreviation": "stress_divergence_dv",
            "colormapDiffId": "balance",
            "colormapDiffInvert": false,
            "colormapId": "viridis",
            "colormapInvert": false,
            "dimensions": [
             "time",
             "latitude",
             "longitude"
            ],
            "hasLogScale": false,
            "id": "stress_divergence_dv",
            "logScale": false,
            "missingValue": -2147483647,
            "name": {
             "en": "Difference of scatterometer and model variances of divergence of surface wind stress"
            },
            "offset": 0,
            "scale": 1e-15,
            "standardName": "divergence_of_surface_downward_stress_difference_of_variances",
            "type": "data",
            "unit": "N2 m-6",
            "unitConversion": null,
            "valueClamp": true,
            "valueColor": false,
            "valueDiffMax": 2.2560000000000005e-12,
            "valueDiffRelMax": 25,
            "valueMax": 4.463000000000001e-12,
            "valueMin": -4.9000000000000006e-14
           },
           "wind_curl": {
            "abbreviation": "wind_curl",
            "colormapDiffId": "balance",
            "colormapDiffInvert": false,
            "colormapId": "viridis",
            "colormapInvert": false,
            "dimensions": [
             "time",
             "latitude",
             "longitude"
            ],
            "hasLogScale": false,
            "id": "wind_curl",
            "logScale": false,
            "missingValue": -2147483647,
            "name": {
             "en": "Curl of stress-equivalent wind at 10 m"
            },
            "offset": 0,
            "scale": 1e-07,
            "standardName": "atmosphere_relative_vorticity",
            "type": "data",
            "unit": "s-1",
            "unitConversion": null,
            "valueClamp": true,
            "valueColor": false,
            "valueDiffMax": 8.955e-05,
            "valueDiffRelMax": 25,
            "valueMax": 8.68e-05,
            "valueMin": -9.23e-05
           },
           "wind_curl_bias": {
            "abbreviation": "wind_curl_bias",
            "colormapDiffId": "balance",
            "colormapDiffInvert": false,
            "colormapId": "balance",
            "colormapInvert": false,
            "dimensions": [
             "time",
             "latitude",
             "longitude"
            ],
            "hasLogScale": false,
            "id": "wind_curl_bias",
            "logScale": false,
            "missingValue": -2147483647,
            "name": {
             "en": "Scatterometer-model bias of curl of stress-equivalent wind at 10 m"
            },
            "offset": 0,
            "scale": 1e-07,
            "standardName": "atmosphere_relative_vorticity_bias",
            "type": "data",
            "unit": "s-1",
            "unitConversion": null,
            "valueClamp": true,
            "valueColor": false,
            "valueDiffMax": 1.82e-05,
            "valueDiffRelMax": 25,
            "valueMax": 1.82e-05,
            "valueMin": -1.82e-05
           },
           "wind_curl_dv": {
            "abbreviation": "wind_curl_dv",
            "colormapDiffId": "balance",
            "colormapDiffInvert": false,
            "colormapId": "viridis",
            "colormapInvert": false,
            "dimensions": [
             "time",
             "latitude",
             "longitude"
            ],
            "hasLogScale": false,
            "id": "wind_curl_dv",
            "logScale": false,
            "missingValue": -2147483647,
            "name": {
             "en": "Difference of scatterometer and model variances of curl of stress-equivalent wind at 10 m"
            },
            "offset": 0,
            "scale": 1e-11,
            "standardName": "atmosphere_relative_vorticity_difference_of_variances",
            "type": "data",
            "unit": "s-2",
            "unitConversion": null,
            "valueClamp": true,
            "valueColor": false,
            "valueDiffMax": 3.5999999999999996e-09,
            "valueDiffRelMax": 25,
            "valueMax": 6.399999999999999e-09,
            "valueMin": -7.999999999999999e-10
           },
           "wind_divergence": {
            "abbreviation": "wind_divergence",
            "colormapDiffId": "balance",
            "colormapDiffInvert": false,
            "colormapId": "viridis",
            "colormapInvert": false,
            "dimensions": [
             "time",
             "latitude",
             "longitude"
            ],
            "hasLogScale": false,
            "id": "wind_divergence",
            "logScale": false,
            "missingValue": -2147483647,
            "name": {
             "en": "Divergence of stress-equivalent wind at 10 m"
            },
            "offset": 0,
            "scale": 1e-07,
            "standardName": "divergence_of_wind",
            "type": "data",
            "unit": "s-1",
            "unitConversion": null,
            "valueClamp": true,
            "valueColor": false,
            "valueDiffMax": 0.00010284999999999999,
            "valueDiffRelMax": 25,
            "valueMax": 9.63e-05,
            "valueMin": -0.00010939999999999999
           },
           "wind_divergence_bias": {
            "abbreviation": "wind_divergence_bias",
            "colormapDiffId": "balance",
            "colormapDiffInvert": false,
            "colormapId": "balance",
            "colormapInvert": false,
            "dimensions": [
             "time",
             "latitude",
             "longitude"
            ],
            "hasLogScale": false,
            "id": "wind_divergence_bias",
            "logScale": false,
            "missingValue": -2147483647,
            "name": {
             "en": "Scatterometer-model bias of divergence of stress-equivalent wind at 10 m"
            },
            "offset": 0,
            "scale": 1e-07,
            "standardName": "divergence_of_wind_bias",
            "type": "data",
            "unit": "s-1",
            "unitConversion": null,
            "valueClamp": true,
            "valueColor": false,
            "valueDiffMax": 2.09e-05,
            "valueDiffRelMax": 25,
            "valueMax": 2.09e-05,
            "valueMin": -2.09e-05
           },
           "wind_divergence_dv": {
            "abbreviation": "wind_divergence_dv",
            "colormapDiffId": "balance",
            "colormapDiffInvert": false,
            "colormapId": "viridis",
            "colormapInvert": false,
            "dimensions": [
             "time",
             "latitude",
             "longitude"
            ],
            "hasLogScale": true,
            "id": "wind_divergence_dv",
            "logScale": false,
            "missingValue": -2147483647,
            "name": {
             "en": "Difference of scatterometer and model variances of divergence of stress-equivalent wind at 10 m"
            },
            "offset": 0,
            "scale": 1e-11,
            "standardName": "divergence_of_wind_difference_of_variances",
            "type": "data",
            "unit": "s-2",
            "unitConversion": null,
            "valueClamp": true,
            "valueColor": false,
            "valueDiffMax": 3.3099999999999995e-09,
            "valueDiffRelMax": 25,
            "valueMax": 6.849999999999999e-09,
            "valueMin": 2.2999999999999998e-10
           }
          },
          "datetime": "2024-05-31T00:00:00Z",
          "end_datetime": "2024-05-31T00:00:00Z",
          "instruments": [
           "ASCAT, ASCAT"
          ],
          "license": "proprietary",
          "order:status": "",
          "processing:level": "Level 4",
          "providers": [
           {
            "description": "Copernicus Marine Data Store",
            "name": "cop_marine",
            "priority": 0,
            "roles": [
             "host"
            ],
            "url": "https://marine.copernicus.eu/"
           }
          ],
          "start_datetime": "2024-05-31T00:00:00Z"
         },
         "stac_extensions": [
          "https://stac-extensions.github.io/processing/v1.0.0/schema.json",
          "https://stac-extensions.github.io/order/v1.1.0/schema.json"
         ],
         "stac_version": "1.0.0",
         "type": "Feature"
        },
        {
         "assets": {
          "downloadLink": {
           "alternate": {
            "origin": {
             "href": "https://s3.waw3-1.cloudferro.com/mdl-native-04/native/WIND_GLO_PHY_L4_NRT_012_004/cmems_obs-wind_glo_phy_nrt_l4_0.125deg_PT1H_202207/2024/05/cmems_obs-wind_glo_phy_nrt_l4_0.125deg_PT1H_2024053105_R20240531T00_05.nc",
             "title": "Origin asset link"
            }
           },
           "href": "https://hda.data.destination-earth.eu/stac/collections/EO.MO.DAT.WIND_GLO_PHY_L4_NRT_012_004/items/cmems_obs-wind_glo_phy_nrt_l4_0/download?provider=cop_marine",
           "title": "Download link",
           "type": "application/zip"
          },
          "native": {
           "alternate": {
            "origin": {
             "href": "https://s3.waw3-1.cloudferro.com/mdl-native-04/native/WIND_GLO_PHY_L4_NRT_012_004/cmems_obs-wind_glo_phy_nrt_l4_0.125deg_PT1H_202207/2024/05/cmems_obs-wind_glo_phy_nrt_l4_0.125deg_PT1H_2024053105_R20240531T00_05.nc",
             "title": "Origin asset link",
             "type": "application/x-netcdf"
            }
           },
           "href": "https://hda.data.destination-earth.eu/stac/collections/EO.MO.DAT.WIND_GLO_PHY_L4_NRT_012_004/items/cmems_obs-wind_glo_phy_nrt_l4_0/download/native?provider=cop_marine",
           "title": "native",
           "type": "application/x-netcdf"
          },
          "thumbnail": {
           "href": "https://mdl-metadata.s3.waw3-1.cloudferro.com/metadata/thumbnails/WIND_GLO_PHY_L4_NRT_012_004.jpg",
           "role": "thumbnail",
           "title": "Thumbnail",
           "type": "image/jpeg"
          }
         },
         "bbox": [
          -180,
          -90,
          180,
          90
         ],
         "collection": "EO.MO.DAT.WIND_GLO_PHY_L4_NRT_012_004",
         "geometry": {
          "coordinates": [
           [
            [
             180,
             -90
            ],
            [
             180,
             90
            ],
            [
             -180,
             90
            ],
            [
             -180,
             -90
            ],
            [
             180,
             -90
            ]
           ]
          ],
          "type": "Polygon"
         },
         "id": "cmems_obs-wind_glo_phy_nrt_l4_0",
         "links": [
          {
           "href": "https://hda.data.destination-earth.eu/stac/collections/EO.MO.DAT.WIND_GLO_PHY_L4_NRT_012_004/items/cmems_obs-wind_glo_phy_nrt_l4_0",
           "rel": "self",
           "title": "cmems_obs-wind_glo_phy_nrt_l4_0"
          },
          {
           "href": "https://hda.data.destination-earth.eu/stac/",
           "rel": "root"
          },
          {
           "href": "https://hda.data.destination-earth.eu/stac/collections/EO.MO.DAT.WIND_GLO_PHY_L4_NRT_012_004",
           "rel": "parent",
           "title": "EO.MO.DAT.WIND_GLO_PHY_L4_NRT_012_004"
          },
          {
           "href": "https://hda.data.destination-earth.eu/stac/collections/EO.MO.DAT.WIND_GLO_PHY_L4_NRT_012_004",
           "rel": "collection",
           "title": "EO.MO.DAT.WIND_GLO_PHY_L4_NRT_012_004"
          }
         ],
         "properties": {
          "constellation": "Metop-B, Metop-C",
          "cop_marine:Conventions": "CF-1.6, ACDD-1.3",
          "cop_marine:admp_in_preparation": false,
          "cop_marine:admp_updated": "2024-09-18T10:37:03.450397Z",
          "cop_marine:admp_valid_start_date": "2022-03-11T12:00:00.000000000Z",
          "cop_marine:admp_valid_start_index": 14844,
          "cop_marine:allVariables": [
           "Eastward wind (WIND)",
           "Northward wind (WIND)",
           "Surface downward eastward stress (WIND)",
           "Surface downward northward stress (WIND)",
           "Stress curl (WIND)",
           "Stress divergence (WIND)",
           "Air density (WIND)",
           "Wind curl (WIND)",
           "Wind divergence (WIND)"
          ],
          "cop_marine:altId": "63ee69f1-2628-43aa-9b22-b21749d160ba",
          "cop_marine:areas": [
           "Global Ocean"
          ],
          "cop_marine:assimilatedData": [],
          "cop_marine:colors": [
           "Blue Ocean"
          ],
          "cop_marine:communities": [
           "Policy & governance",
           "Science & innovation",
           "Extremes, hazards & safety",
           "Coastal services",
           "Natural resources & energy",
           "Trade & marine navigation"
          ],
          "cop_marine:contacts": [
           {
            "email": "scat@knmi.nl",
            "name": "Service Desk KNMI",
            "organisationName": "SIW-KNMI-DEBILT-NL",
            "responsiblePartyRole": "pointOfContact"
           },
           {
            "email": "ad.stoffelen@knmi.nl",
            "name": "Ad STOFFELEN",
            "organisationName": "SIW-KNMI-DEBILT-NL",
            "responsiblePartyRole": "custodian"
           },
           {
            "email": "rianne.giesen@knmi.nl",
            "name": "Rianne GIESEN",
            "organisationName": "SIW-KNMI-DEBILT-NL",
            "responsiblePartyRole": "originator"
           },
           {
            "email": "scat@knmi.nl",
            "name": "Anton VERHOEF",
            "organisationName": "SIW-KNMI-DEBILT-NL",
            "responsiblePartyRole": "resourceProvider"
           },
           {
            "email": "scat@knmi.nl",
            "name": "Service Desk KNMI",
            "organisationName": "SIW-KNMI-DEBILT-NL",
            "responsiblePartyRole": "distributor"
           }
          ],
          "cop_marine:crs": "EPSG:4326",
          "cop_marine:dataset": "cmems_obs-wind_glo_phy_nrt_l4_0.125deg_PT1H_202207",
          "cop_marine:date_created": "2022-06-23T01:30:26",
          "cop_marine:date_modified": "2022-06-23T01:30:26",
          "cop_marine:directives": [],
          "cop_marine:featureTypes": [
           "Grid"
          ],
          "cop_marine:formats": [
           "NetCDF-4"
          ],
          "cop_marine:geoExtent": {
           "coordinates": [
            [
             -180,
             90
            ],
            [
             180,
             -90
            ]
           ],
           "type": "envelope"
          },
          "cop_marine:geoResolution": {
           "column": {
            "magnitude": 0.125,
            "units": "degree"
           },
           "row": {
            "magnitude": 0.125,
            "units": "degree"
           }
          },
          "cop_marine:geospatial_lat_max": 89.9375,
          "cop_marine:geospatial_lat_min": -89.9375,
          "cop_marine:geospatial_lat_resolution": 0.125,
          "cop_marine:geospatial_lat_units": "degrees_north",
          "cop_marine:geospatial_lon_max": 179.9375,
          "cop_marine:geospatial_lon_min": -179.9375,
          "cop_marine:geospatial_lon_resolution": 0.125,
          "cop_marine:geospatial_lon_units": "degrees_east",
          "cop_marine:history": "N/A",
          "cop_marine:indicatorFamilies": [],
          "cop_marine:institution": "Royal Netherlands Meteorological Institute (KNMI)",
          "cop_marine:instrument_vocabulary": "CEOS",
          "cop_marine:isStaging": false,
          "cop_marine:mainVariables": [
           "Wind"
          ],
          "cop_marine:model": "ECMWF Operational model",
          "cop_marine:modifiedDate": "2024-06-18",
          "cop_marine:platform_vocabulary": "CEOS",
          "cop_marine:processing_level": "L4",
          "cop_marine:project": "Copernicus Marine Service Wind Thematic Assembly Centre",
          "cop_marine:projection": "WGS 84 (EPSG:4326)",
          "cop_marine:providerMetadata": {
           "source": "cmems",
           "type": "csw",
           "url": "https://cmems-catalog-ro.cls.fr/geonetwork/srv/eng/csw-MYOCEAN-CORE-PRODUCTS?service=CSW&version=2.0.2&request=GetRecordById&id=63ee69f1-2628-43aa-9b22-b21749d160ba&elementsetname=full&outputSchema=http://www.isotc211.org/2005/gmd"
          },
          "cop_marine:rank": 14000,
          "cop_marine:references": "Copernicus Marine Service Product User Manual CMEMS-TAC-WIND-PUM-012-004, Trindade et al. (2020) doi:10.1109/TGRS.2019.2946019",
          "cop_marine:sources": [
           "Numerical models",
           "Satellite observations"
          ],
          "cop_marine:summary": "Global ocean 10-m stress-equivalent wind and surface wind stress fields based on the ECMWF operational model winds, bias-corrected using scatterometer observations",
          "cop_marine:tempExtentBegin": "",
          "cop_marine:tempResolutions": [
           "Hourly"
          ],
          "cop_marine:thumbnailMeta": {
           "basemapId": "dark",
           "colormapId": "speed",
           "colormapInvert": false,
           "creationDate": "2023-06-18T06:37:19.450Z",
           "crs": "epsg:4326",
           "elevation": null,
           "layerId": "WIND_GLO_PHY_L4_NRT_012_004/cmems_obs-wind_glo_phy_nrt_l4_0.125deg_PT1H_202207/wind",
           "logScale": false,
           "overlays": {
            "tags": [
             {
              "name": "Wind"
             }
            ]
           },
           "style": "default",
           "time": 1593561600000,
           "valueClamp": true,
           "valueMax": 37.04999828338623,
           "valueMin": 0
          },
          "cop_marine:time_coverage_end": "2020-07-01T00:00:00",
          "cop_marine:time_coverage_start": "2020-07-01T00:00:00",
          "cop_marine:times": [
           "Present",
           "Past"
          ],
          "cop_marine:updateFrequencies": {
           "daily": "15:00"
          },
          "cop_marine:useCases": [],
          "cop_marine:vertExtentMax": 0,
          "cop_marine:vertExtentMin": 0,
          "created": "2012-08-26",
          "cube:dimensions": {
           "latitude": {
            "axis": "y",
            "extent": [
             -89.9375,
             89.9375
            ],
            "reference_system": 4326,
            "step": 0.125,
            "type": "spatial"
           },
           "longitude": {
            "axis": "x",
            "extent": [
             -179.9375,
             179.9375
            ],
            "reference_system": 4326,
            "step": 0.125,
            "type": "spatial"
           },
           "time": {
            "extent": [
             "2020-07-01T00:00:00Z",
             "2024-09-17T23:00:00Z"
            ],
            "step": "PT1H",
            "type": "temporal"
           }
          },
          "cube:variables": {
           "air_density": {
            "abbreviation": "air_density",
            "colormapDiffId": "balance",
            "colormapDiffInvert": false,
            "colormapId": "viridis",
            "colormapInvert": false,
            "dimensions": [
             "time",
             "latitude",
             "longitude"
            ],
            "hasLogScale": true,
            "id": "air_density",
            "logScale": false,
            "missingValue": -32767,
            "name": {
             "en": "Air density at 10 m"
            },
            "offset": 0,
            "scale": 0.001,
            "standardName": "air_density",
            "type": "data",
            "unit": "kg m-3",
            "unitConversion": null,
            "valueClamp": true,
            "valueColor": false,
            "valueDiffMax": 0.2080000638961792,
            "valueDiffRelMax": 25,
            "valueMax": 1.5690001249313354,
            "valueMin": 1.152999997138977
           },
           "eastward_stress": {
            "abbreviation": "eastward_stress",
            "colormapDiffId": "balance",
            "colormapDiffInvert": false,
            "colormapId": "balance",
            "colormapInvert": false,
            "dimensions": [
             "time",
             "latitude",
             "longitude"
            ],
            "hasLogScale": false,
            "id": "eastward_stress",
            "logScale": false,
            "missingValue": -2147483647,
            "name": {
             "en": "Surface wind stress eastward component"
            },
            "offset": 0,
            "scale": 0.01,
            "standardName": "surface_downward_eastward_stress",
            "type": "data",
            "unit": "N m-2",
            "unitConversion": null,
            "valueClamp": true,
            "valueColor": false,
            "valueDiffMax": 1.53,
            "valueDiffRelMax": 25,
            "valueMax": 1.53,
            "valueMin": -1.53
           },
           "eastward_stress_bias": {
            "abbreviation": "eastward_stress_bias",
            "colormapDiffId": "balance",
            "colormapDiffInvert": false,
            "colormapId": "balance",
            "colormapInvert": false,
            "dimensions": [
             "time",
             "latitude",
             "longitude"
            ],
            "hasLogScale": false,
            "id": "eastward_stress_bias",
            "logScale": false,
            "missingValue": -2147483647,
            "name": {
             "en": "Scatterometer-model bias of surface wind stress eastward component"
            },
            "offset": 0,
            "scale": 0.01,
            "standardName": "surface_downward_eastward_stress_bias",
            "type": "data",
            "unit": "N m-2",
            "unitConversion": null,
            "valueClamp": true,
            "valueColor": false,
            "valueDiffMax": 0.03,
            "valueDiffRelMax": 25,
            "valueMax": 0.03,
            "valueMin": -0.03
           },
           "eastward_stress_sdd": {
            "abbreviation": "eastward_stress_sdd",
            "colormapDiffId": "balance",
            "colormapDiffInvert": false,
            "colormapId": "viridis",
            "colormapInvert": false,
            "dimensions": [
             "time",
             "latitude",
             "longitude"
            ],
            "hasLogScale": true,
            "id": "eastward_stress_sdd",
            "logScale": false,
            "missingValue": -2147483647,
            "name": {
             "en": "Standard deviation of differences of surface wind stress eastward component"
            },
            "offset": 0,
            "scale": 0.01,
            "standardName": "surface_downward_eastward_stress_standard_deviation_of_differences",
            "type": "data",
            "unit": "N m-2",
            "unitConversion": null,
            "valueClamp": true,
            "valueColor": false,
            "valueDiffMax": 0.035,
            "valueDiffRelMax": 25,
            "valueMax": 0.08,
            "valueMin": 0.01
           },
           "eastward_wind": {
            "abbreviation": "eastward_wind",
            "colormapDiffId": "balance",
            "colormapDiffInvert": false,
            "colormapId": "balance",
            "colormapInvert": false,
            "dimensions": [
             "time",
             "latitude",
             "longitude"
            ],
            "hasLogScale": false,
            "id": "eastward_wind",
            "logScale": false,
            "missingValue": -32767,
            "name": {
             "en": "Stress-equivalent wind eastward component at 10 m"
            },
            "offset": 0,
            "scale": 0.01,
            "standardName": "eastward_wind",
            "type": "data",
            "unit": "m s-1",
            "unitConversion": null,
            "valueClamp": true,
            "valueColor": false,
            "valueDiffMax": 37.04999828338623,
            "valueDiffRelMax": 25,
            "valueMax": 37.04999828338623,
            "valueMin": -37.04999828338623
           },
           "eastward_wind_bias": {
            "abbreviation": "eastward_wind_bias",
            "colormapDiffId": "balance",
            "colormapDiffInvert": false,
            "colormapId": "balance",
            "colormapInvert": false,
            "dimensions": [
             "time",
             "latitude",
             "longitude"
            ],
            "hasLogScale": false,
            "id": "eastward_wind_bias",
            "logScale": false,
            "missingValue": -32767,
            "name": {
             "en": "Scatterometer-model bias of stress-equivalent wind eastward component at 10 m"
            },
            "offset": 0,
            "scale": 0.01,
            "standardName": "eastward_wind_bias",
            "type": "data",
            "unit": "m s-1",
            "unitConversion": null,
            "valueClamp": true,
            "valueColor": false,
            "valueDiffMax": 0.9300000071525574,
            "valueDiffRelMax": 25,
            "valueMax": 0.9300000071525574,
            "valueMin": -0.9300000071525574
           },
           "eastward_wind_sdd": {
            "abbreviation": "eastward_wind_sdd",
            "colormapDiffId": "balance",
            "colormapDiffInvert": false,
            "colormapId": "viridis",
            "colormapInvert": false,
            "dimensions": [
             "time",
             "latitude",
             "longitude"
            ],
            "hasLogScale": true,
            "id": "eastward_wind_sdd",
            "logScale": false,
            "missingValue": -32767,
            "name": {
             "en": "Standard deviation of differences of stress-equivalent wind eastward component at 10 m"
            },
            "offset": 0,
            "scale": 0.01,
            "standardName": "eastward_wind_standard_deviation_of_differences",
            "type": "data",
            "unit": "m s-1",
            "unitConversion": null,
            "valueClamp": true,
            "valueColor": false,
            "valueDiffMax": 0.8099999129772186,
            "valueDiffRelMax": 25,
            "valueMax": 2.169999837875366,
            "valueMin": 0.550000011920929
           },
           "northward_stress": {
            "abbreviation": "northward_stress",
            "colormapDiffId": "balance",
            "colormapDiffInvert": false,
            "colormapId": "balance",
            "colormapInvert": false,
            "dimensions": [
             "time",
             "latitude",
             "longitude"
            ],
            "hasLogScale": false,
            "id": "northward_stress",
            "logScale": false,
            "missingValue": -2147483647,
            "name": {
             "en": "Surface wind stress northward component"
            },
            "offset": 0,
            "scale": 0.01,
            "standardName": "surface_downward_northward_stress",
            "type": "data",
            "unit": "N m-2",
            "unitConversion": null,
            "valueClamp": true,
            "valueColor": false,
            "valueDiffMax": 1.53,
            "valueDiffRelMax": 25,
            "valueMax": 1.53,
            "valueMin": -1.53
           },
           "northward_stress_bias": {
            "abbreviation": "northward_stress_bias",
            "colormapDiffId": "balance",
            "colormapDiffInvert": false,
            "colormapId": "balance",
            "colormapInvert": false,
            "dimensions": [
             "time",
             "latitude",
             "longitude"
            ],
            "hasLogScale": false,
            "id": "northward_stress_bias",
            "logScale": false,
            "missingValue": -2147483647,
            "name": {
             "en": "Scatterometer-model bias of surface wind stress northward component"
            },
            "offset": 0,
            "scale": 0.01,
            "standardName": "surface_downward_northward_stress_bias",
            "type": "data",
            "unit": "N m-2",
            "unitConversion": null,
            "valueClamp": true,
            "valueColor": false,
            "valueDiffMax": 0.02,
            "valueDiffRelMax": 25,
            "valueMax": 0.02,
            "valueMin": -0.02
           },
           "northward_stress_sdd": {
            "abbreviation": "northward_stress_sdd",
            "colormapDiffId": "balance",
            "colormapDiffInvert": false,
            "colormapId": "viridis",
            "colormapInvert": false,
            "dimensions": [
             "time",
             "latitude",
             "longitude"
            ],
            "hasLogScale": true,
            "id": "northward_stress_sdd",
            "logScale": false,
            "missingValue": -2147483647,
            "name": {
             "en": "Standard deviation of differences of surface wind stress northward component"
            },
            "offset": 0,
            "scale": 0.01,
            "standardName": "surface_downward_northward_stress_standard_deviation_of_differences",
            "type": "data",
            "unit": "N m-2",
            "unitConversion": null,
            "valueClamp": true,
            "valueColor": false,
            "valueDiffMax": 0.030000000000000002,
            "valueDiffRelMax": 25,
            "valueMax": 0.07,
            "valueMin": 0.01
           },
           "northward_wind": {
            "abbreviation": "northward_wind",
            "colormapDiffId": "balance",
            "colormapDiffInvert": false,
            "colormapId": "balance",
            "colormapInvert": false,
            "dimensions": [
             "time",
             "latitude",
             "longitude"
            ],
            "hasLogScale": false,
            "id": "northward_wind",
            "logScale": false,
            "missingValue": -32767,
            "name": {
             "en": "Stress-equivalent wind northward component at 10 m"
            },
            "offset": 0,
            "scale": 0.01,
            "standardName": "northward_wind",
            "type": "data",
            "unit": "m s-1",
            "unitConversion": null,
            "valueClamp": true,
            "valueColor": false,
            "valueDiffMax": 37.04999828338623,
            "valueDiffRelMax": 25,
            "valueMax": 37.04999828338623,
            "valueMin": -37.04999828338623
           },
           "northward_wind_bias": {
            "abbreviation": "northward_wind_bias",
            "colormapDiffId": "balance",
            "colormapDiffInvert": false,
            "colormapId": "balance",
            "colormapInvert": false,
            "dimensions": [
             "time",
             "latitude",
             "longitude"
            ],
            "hasLogScale": false,
            "id": "northward_wind_bias",
            "logScale": false,
            "missingValue": -32767,
            "name": {
             "en": "Scatterometer-model bias of stress-equivalent wind northward component at 10 m"
            },
            "offset": 0,
            "scale": 0.01,
            "standardName": "northward_wind_bias",
            "type": "data",
            "unit": "m s-1",
            "unitConversion": null,
            "valueClamp": true,
            "valueColor": false,
            "valueDiffMax": 0.8399999737739563,
            "valueDiffRelMax": 25,
            "valueMax": 0.8399999737739563,
            "valueMin": -0.8399999737739563
           },
           "northward_wind_sdd": {
            "abbreviation": "northward_wind_sdd",
            "colormapDiffId": "balance",
            "colormapDiffInvert": false,
            "colormapId": "viridis",
            "colormapInvert": false,
            "dimensions": [
             "time",
             "latitude",
             "longitude"
            ],
            "hasLogScale": true,
            "id": "northward_wind_sdd",
            "logScale": false,
            "missingValue": -32767,
            "name": {
             "en": "Standard deviation of differences of stress-equivalent wind northward component at 10 m"
            },
            "offset": 0,
            "scale": 0.01,
            "standardName": "northward_wind_standard_deviation_of_differences",
            "type": "data",
            "unit": "m s-1",
            "unitConversion": null,
            "valueClamp": true,
            "valueColor": false,
            "valueDiffMax": 0.8549999296665192,
            "valueDiffRelMax": 25,
            "valueMax": 2.3899998664855957,
            "valueMin": 0.6800000071525574
           },
           "number_of_observations": {
            "abbreviation": "number_of_observations",
            "colormapDiffId": "balance",
            "colormapDiffInvert": false,
            "colormapId": "viridis",
            "colormapInvert": false,
            "dimensions": [
             "time",
             "latitude",
             "longitude"
            ],
            "hasLogScale": true,
            "id": "number_of_observations",
            "logScale": false,
            "missingValue": -32767,
            "name": {
             "en": "Number of observations used for scatterometer-model bias"
            },
            "offset": null,
            "scale": null,
            "standardName": "number_of_observations",
            "type": "data",
            "unit": 1,
            "unitConversion": null,
            "valueClamp": true,
            "valueColor": false,
            "valueDiffMax": 21,
            "valueDiffRelMax": 25,
            "valueMax": 69,
            "valueMin": 27
           },
           "number_of_observations_divcurl": {
            "abbreviation": "number_of_observations_divcurl",
            "colormapDiffId": "balance",
            "colormapDiffInvert": false,
            "colormapId": "viridis",
            "colormapInvert": false,
            "dimensions": [
             "time",
             "latitude",
             "longitude"
            ],
            "hasLogScale": true,
            "id": "number_of_observations_divcurl",
            "logScale": false,
            "missingValue": -32767,
            "name": {
             "en": "Number of observations used for scatterometer-model divergence and curl bias"
            },
            "offset": null,
            "scale": null,
            "standardName": "number_of_observations",
            "type": "data",
            "unit": 1,
            "unitConversion": null,
            "valueClamp": true,
            "valueColor": false,
            "valueDiffMax": 27.5,
            "valueDiffRelMax": 25,
            "valueMax": 65,
            "valueMin": 10
           },
           "stress_curl": {
            "abbreviation": "stress_curl",
            "colormapDiffId": "balance",
            "colormapDiffInvert": false,
            "colormapId": "viridis",
            "colormapInvert": false,
            "dimensions": [
             "time",
             "latitude",
             "longitude"
            ],
            "hasLogScale": false,
            "id": "stress_curl",
            "logScale": false,
            "missingValue": -2147483647,
            "name": {
             "en": "Curl of surface wind stress"
            },
            "offset": 0,
            "scale": 1e-10,
            "standardName": "vertical_component_of_surface_downward_stress_curl",
            "type": "data",
            "unit": "N m-3",
            "unitConversion": null,
            "valueClamp": true,
            "valueColor": false,
            "valueDiffMax": 2.3519000000000003e-06,
            "valueDiffRelMax": 25,
            "valueMax": 2.1812e-06,
            "valueMin": -2.5226e-06
           },
           "stress_curl_bias": {
            "abbreviation": "stress_curl_bias",
            "colormapDiffId": "balance",
            "colormapDiffInvert": false,
            "colormapId": "balance",
            "colormapInvert": false,
            "dimensions": [
             "time",
             "latitude",
             "longitude"
            ],
            "hasLogScale": false,
            "id": "stress_curl_bias",
            "logScale": false,
            "missingValue": -2147483647,
            "name": {
             "en": "Scatterometer-model bias of curl of surface wind stress"
            },
            "offset": 0,
            "scale": 1e-10,
            "standardName": "vertical_component_of_surface_downward_stress_curl_bias",
            "type": "data",
            "unit": "N m-3",
            "unitConversion": null,
            "valueClamp": true,
            "valueColor": false,
            "valueDiffMax": 5.091e-07,
            "valueDiffRelMax": 25,
            "valueMax": 5.091e-07,
            "valueMin": -5.091e-07
           },
           "stress_curl_dv": {
            "abbreviation": "stress_curl_dv",
            "colormapDiffId": "balance",
            "colormapDiffInvert": false,
            "colormapId": "viridis",
            "colormapInvert": false,
            "dimensions": [
             "time",
             "latitude",
             "longitude"
            ],
            "hasLogScale": false,
            "id": "stress_curl_dv",
            "logScale": false,
            "missingValue": -2147483647,
            "name": {
             "en": "Difference of scatterometer and model variances of curl of surface wind stress"
            },
            "offset": 0,
            "scale": 1e-15,
            "standardName": "vertical_component_of_surface_downward_stress_curl_difference_of_variances",
            "type": "data",
            "unit": "N2 m-6",
            "unitConversion": null,
            "valueClamp": true,
            "valueColor": false,
            "valueDiffMax": 3.1755000000000004e-12,
            "valueDiffRelMax": 25,
            "valueMax": 5.266e-12,
            "valueMin": -1.0850000000000001e-12
           },
           "stress_divergence": {
            "abbreviation": "stress_divergence",
            "colormapDiffId": "balance",
            "colormapDiffInvert": false,
            "colormapId": "viridis",
            "colormapInvert": false,
            "dimensions": [
             "time",
             "latitude",
             "longitude"
            ],
            "hasLogScale": false,
            "id": "stress_divergence",
            "logScale": false,
            "missingValue": -2147483647,
            "name": {
             "en": "Divergence of surface wind stress"
            },
            "offset": 0,
            "scale": 1e-10,
            "standardName": "divergence_of_surface_downward_stress",
            "type": "data",
            "unit": "N m-3",
            "unitConversion": null,
            "valueClamp": true,
            "valueColor": false,
            "valueDiffMax": 2.0739629999999886e-06,
            "valueDiffRelMax": 25,
            "valueMax": 1.9623259999999777e-06,
            "valueMin": -2.1856e-06
           },
           "stress_divergence_bias": {
            "abbreviation": "stress_divergence_bias",
            "colormapDiffId": "balance",
            "colormapDiffInvert": false,
            "colormapId": "balance",
            "colormapInvert": false,
            "dimensions": [
             "time",
             "latitude",
             "longitude"
            ],
            "hasLogScale": false,
            "id": "stress_divergence_bias",
            "logScale": false,
            "missingValue": -2147483647,
            "name": {
             "en": "Scatterometer-model bias of divergence of surface wind stress"
            },
            "offset": 0,
            "scale": 1e-10,
            "standardName": "divergence_of_surface_downward_stress_bias",
            "type": "data",
            "unit": "N m-3",
            "unitConversion": null,
            "valueClamp": true,
            "valueColor": false,
            "valueDiffMax": 4.885000000000001e-07,
            "valueDiffRelMax": 25,
            "valueMax": 4.885000000000001e-07,
            "valueMin": -4.885000000000001e-07
           },
           "stress_divergence_dv": {
            "abbreviation": "stress_divergence_dv",
            "colormapDiffId": "balance",
            "colormapDiffInvert": false,
            "colormapId": "viridis",
            "colormapInvert": false,
            "dimensions": [
             "time",
             "latitude",
             "longitude"
            ],
            "hasLogScale": false,
            "id": "stress_divergence_dv",
            "logScale": false,
            "missingValue": -2147483647,
            "name": {
             "en": "Difference of scatterometer and model variances of divergence of surface wind stress"
            },
            "offset": 0,
            "scale": 1e-15,
            "standardName": "divergence_of_surface_downward_stress_difference_of_variances",
            "type": "data",
            "unit": "N2 m-6",
            "unitConversion": null,
            "valueClamp": true,
            "valueColor": false,
            "valueDiffMax": 2.2560000000000005e-12,
            "valueDiffRelMax": 25,
            "valueMax": 4.463000000000001e-12,
            "valueMin": -4.9000000000000006e-14
           },
           "wind_curl": {
            "abbreviation": "wind_curl",
            "colormapDiffId": "balance",
            "colormapDiffInvert": false,
            "colormapId": "viridis",
            "colormapInvert": false,
            "dimensions": [
             "time",
             "latitude",
             "longitude"
            ],
            "hasLogScale": false,
            "id": "wind_curl",
            "logScale": false,
            "missingValue": -2147483647,
            "name": {
             "en": "Curl of stress-equivalent wind at 10 m"
            },
            "offset": 0,
            "scale": 1e-07,
            "standardName": "atmosphere_relative_vorticity",
            "type": "data",
            "unit": "s-1",
            "unitConversion": null,
            "valueClamp": true,
            "valueColor": false,
            "valueDiffMax": 8.955e-05,
            "valueDiffRelMax": 25,
            "valueMax": 8.68e-05,
            "valueMin": -9.23e-05
           },
           "wind_curl_bias": {
            "abbreviation": "wind_curl_bias",
            "colormapDiffId": "balance",
            "colormapDiffInvert": false,
            "colormapId": "balance",
            "colormapInvert": false,
            "dimensions": [
             "time",
             "latitude",
             "longitude"
            ],
            "hasLogScale": false,
            "id": "wind_curl_bias",
            "logScale": false,
            "missingValue": -2147483647,
            "name": {
             "en": "Scatterometer-model bias of curl of stress-equivalent wind at 10 m"
            },
            "offset": 0,
            "scale": 1e-07,
            "standardName": "atmosphere_relative_vorticity_bias",
            "type": "data",
            "unit": "s-1",
            "unitConversion": null,
            "valueClamp": true,
            "valueColor": false,
            "valueDiffMax": 1.82e-05,
            "valueDiffRelMax": 25,
            "valueMax": 1.82e-05,
            "valueMin": -1.82e-05
           },
           "wind_curl_dv": {
            "abbreviation": "wind_curl_dv",
            "colormapDiffId": "balance",
            "colormapDiffInvert": false,
            "colormapId": "viridis",
            "colormapInvert": false,
            "dimensions": [
             "time",
             "latitude",
             "longitude"
            ],
            "hasLogScale": false,
            "id": "wind_curl_dv",
            "logScale": false,
            "missingValue": -2147483647,
            "name": {
             "en": "Difference of scatterometer and model variances of curl of stress-equivalent wind at 10 m"
            },
            "offset": 0,
            "scale": 1e-11,
            "standardName": "atmosphere_relative_vorticity_difference_of_variances",
            "type": "data",
            "unit": "s-2",
            "unitConversion": null,
            "valueClamp": true,
            "valueColor": false,
            "valueDiffMax": 3.5999999999999996e-09,
            "valueDiffRelMax": 25,
            "valueMax": 6.399999999999999e-09,
            "valueMin": -7.999999999999999e-10
           },
           "wind_divergence": {
            "abbreviation": "wind_divergence",
            "colormapDiffId": "balance",
            "colormapDiffInvert": false,
            "colormapId": "viridis",
            "colormapInvert": false,
            "dimensions": [
             "time",
             "latitude",
             "longitude"
            ],
            "hasLogScale": false,
            "id": "wind_divergence",
            "logScale": false,
            "missingValue": -2147483647,
            "name": {
             "en": "Divergence of stress-equivalent wind at 10 m"
            },
            "offset": 0,
            "scale": 1e-07,
            "standardName": "divergence_of_wind",
            "type": "data",
            "unit": "s-1",
            "unitConversion": null,
            "valueClamp": true,
            "valueColor": false,
            "valueDiffMax": 0.00010284999999999999,
            "valueDiffRelMax": 25,
            "valueMax": 9.63e-05,
            "valueMin": -0.00010939999999999999
           },
           "wind_divergence_bias": {
            "abbreviation": "wind_divergence_bias",
            "colormapDiffId": "balance",
            "colormapDiffInvert": false,
            "colormapId": "balance",
            "colormapInvert": false,
            "dimensions": [
             "time",
             "latitude",
             "longitude"
            ],
            "hasLogScale": false,
            "id": "wind_divergence_bias",
            "logScale": false,
            "missingValue": -2147483647,
            "name": {
             "en": "Scatterometer-model bias of divergence of stress-equivalent wind at 10 m"
            },
            "offset": 0,
            "scale": 1e-07,
            "standardName": "divergence_of_wind_bias",
            "type": "data",
            "unit": "s-1",
            "unitConversion": null,
            "valueClamp": true,
            "valueColor": false,
            "valueDiffMax": 2.09e-05,
            "valueDiffRelMax": 25,
            "valueMax": 2.09e-05,
            "valueMin": -2.09e-05
           },
           "wind_divergence_dv": {
            "abbreviation": "wind_divergence_dv",
            "colormapDiffId": "balance",
            "colormapDiffInvert": false,
            "colormapId": "viridis",
            "colormapInvert": false,
            "dimensions": [
             "time",
             "latitude",
             "longitude"
            ],
            "hasLogScale": true,
            "id": "wind_divergence_dv",
            "logScale": false,
            "missingValue": -2147483647,
            "name": {
             "en": "Difference of scatterometer and model variances of divergence of stress-equivalent wind at 10 m"
            },
            "offset": 0,
            "scale": 1e-11,
            "standardName": "divergence_of_wind_difference_of_variances",
            "type": "data",
            "unit": "s-2",
            "unitConversion": null,
            "valueClamp": true,
            "valueColor": false,
            "valueDiffMax": 3.3099999999999995e-09,
            "valueDiffRelMax": 25,
            "valueMax": 6.849999999999999e-09,
            "valueMin": 2.2999999999999998e-10
           }
          },
          "datetime": "2024-05-31T00:00:00Z",
          "end_datetime": "2024-05-31T00:00:00Z",
          "instruments": [
           "ASCAT, ASCAT"
          ],
          "license": "proprietary",
          "order:status": "",
          "processing:level": "Level 4",
          "providers": [
           {
            "description": "Copernicus Marine Data Store",
            "name": "cop_marine",
            "priority": 0,
            "roles": [
             "host"
            ],
            "url": "https://marine.copernicus.eu/"
           }
          ],
          "start_datetime": "2024-05-31T00:00:00Z"
         },
         "stac_extensions": [
          "https://stac-extensions.github.io/processing/v1.0.0/schema.json",
          "https://stac-extensions.github.io/order/v1.1.0/schema.json"
         ],
         "stac_version": "1.0.0",
         "type": "Feature"
        },
        {
         "assets": {
          "downloadLink": {
           "alternate": {
            "origin": {
             "href": "https://s3.waw3-1.cloudferro.com/mdl-native-04/native/WIND_GLO_PHY_L4_NRT_012_004/cmems_obs-wind_glo_phy_nrt_l4_0.125deg_PT1H_202207/2024/05/cmems_obs-wind_glo_phy_nrt_l4_0.125deg_PT1H_2024053106_R20240531T00_06.nc",
             "title": "Origin asset link"
            }
           },
           "href": "https://hda.data.destination-earth.eu/stac/collections/EO.MO.DAT.WIND_GLO_PHY_L4_NRT_012_004/items/cmems_obs-wind_glo_phy_nrt_l4_0/download?provider=cop_marine",
           "title": "Download link",
           "type": "application/zip"
          },
          "native": {
           "alternate": {
            "origin": {
             "href": "https://s3.waw3-1.cloudferro.com/mdl-native-04/native/WIND_GLO_PHY_L4_NRT_012_004/cmems_obs-wind_glo_phy_nrt_l4_0.125deg_PT1H_202207/2024/05/cmems_obs-wind_glo_phy_nrt_l4_0.125deg_PT1H_2024053106_R20240531T00_06.nc",
             "title": "Origin asset link",
             "type": "application/x-netcdf"
            }
           },
           "href": "https://hda.data.destination-earth.eu/stac/collections/EO.MO.DAT.WIND_GLO_PHY_L4_NRT_012_004/items/cmems_obs-wind_glo_phy_nrt_l4_0/download/native?provider=cop_marine",
           "title": "native",
           "type": "application/x-netcdf"
          },
          "thumbnail": {
           "href": "https://mdl-metadata.s3.waw3-1.cloudferro.com/metadata/thumbnails/WIND_GLO_PHY_L4_NRT_012_004.jpg",
           "role": "thumbnail",
           "title": "Thumbnail",
           "type": "image/jpeg"
          }
         },
         "bbox": [
          -180,
          -90,
          180,
          90
         ],
         "collection": "EO.MO.DAT.WIND_GLO_PHY_L4_NRT_012_004",
         "geometry": {
          "coordinates": [
           [
            [
             180,
             -90
            ],
            [
             180,
             90
            ],
            [
             -180,
             90
            ],
            [
             -180,
             -90
            ],
            [
             180,
             -90
            ]
           ]
          ],
          "type": "Polygon"
         },
         "id": "cmems_obs-wind_glo_phy_nrt_l4_0",
         "links": [
          {
           "href": "https://hda.data.destination-earth.eu/stac/collections/EO.MO.DAT.WIND_GLO_PHY_L4_NRT_012_004/items/cmems_obs-wind_glo_phy_nrt_l4_0",
           "rel": "self",
           "title": "cmems_obs-wind_glo_phy_nrt_l4_0"
          },
          {
           "href": "https://hda.data.destination-earth.eu/stac/",
           "rel": "root"
          },
          {
           "href": "https://hda.data.destination-earth.eu/stac/collections/EO.MO.DAT.WIND_GLO_PHY_L4_NRT_012_004",
           "rel": "parent",
           "title": "EO.MO.DAT.WIND_GLO_PHY_L4_NRT_012_004"
          },
          {
           "href": "https://hda.data.destination-earth.eu/stac/collections/EO.MO.DAT.WIND_GLO_PHY_L4_NRT_012_004",
           "rel": "collection",
           "title": "EO.MO.DAT.WIND_GLO_PHY_L4_NRT_012_004"
          }
         ],
         "properties": {
          "constellation": "Metop-B, Metop-C",
          "cop_marine:Conventions": "CF-1.6, ACDD-1.3",
          "cop_marine:admp_in_preparation": false,
          "cop_marine:admp_updated": "2024-09-18T10:37:03.450397Z",
          "cop_marine:admp_valid_start_date": "2022-03-11T12:00:00.000000000Z",
          "cop_marine:admp_valid_start_index": 14844,
          "cop_marine:allVariables": [
           "Eastward wind (WIND)",
           "Northward wind (WIND)",
           "Surface downward eastward stress (WIND)",
           "Surface downward northward stress (WIND)",
           "Stress curl (WIND)",
           "Stress divergence (WIND)",
           "Air density (WIND)",
           "Wind curl (WIND)",
           "Wind divergence (WIND)"
          ],
          "cop_marine:altId": "63ee69f1-2628-43aa-9b22-b21749d160ba",
          "cop_marine:areas": [
           "Global Ocean"
          ],
          "cop_marine:assimilatedData": [],
          "cop_marine:colors": [
           "Blue Ocean"
          ],
          "cop_marine:communities": [
           "Policy & governance",
           "Science & innovation",
           "Extremes, hazards & safety",
           "Coastal services",
           "Natural resources & energy",
           "Trade & marine navigation"
          ],
          "cop_marine:contacts": [
           {
            "email": "scat@knmi.nl",
            "name": "Service Desk KNMI",
            "organisationName": "SIW-KNMI-DEBILT-NL",
            "responsiblePartyRole": "pointOfContact"
           },
           {
            "email": "ad.stoffelen@knmi.nl",
            "name": "Ad STOFFELEN",
            "organisationName": "SIW-KNMI-DEBILT-NL",
            "responsiblePartyRole": "custodian"
           },
           {
            "email": "rianne.giesen@knmi.nl",
            "name": "Rianne GIESEN",
            "organisationName": "SIW-KNMI-DEBILT-NL",
            "responsiblePartyRole": "originator"
           },
           {
            "email": "scat@knmi.nl",
            "name": "Anton VERHOEF",
            "organisationName": "SIW-KNMI-DEBILT-NL",
            "responsiblePartyRole": "resourceProvider"
           },
           {
            "email": "scat@knmi.nl",
            "name": "Service Desk KNMI",
            "organisationName": "SIW-KNMI-DEBILT-NL",
            "responsiblePartyRole": "distributor"
           }
          ],
          "cop_marine:crs": "EPSG:4326",
          "cop_marine:dataset": "cmems_obs-wind_glo_phy_nrt_l4_0.125deg_PT1H_202207",
          "cop_marine:date_created": "2022-06-23T01:30:26",
          "cop_marine:date_modified": "2022-06-23T01:30:26",
          "cop_marine:directives": [],
          "cop_marine:featureTypes": [
           "Grid"
          ],
          "cop_marine:formats": [
           "NetCDF-4"
          ],
          "cop_marine:geoExtent": {
           "coordinates": [
            [
             -180,
             90
            ],
            [
             180,
             -90
            ]
           ],
           "type": "envelope"
          },
          "cop_marine:geoResolution": {
           "column": {
            "magnitude": 0.125,
            "units": "degree"
           },
           "row": {
            "magnitude": 0.125,
            "units": "degree"
           }
          },
          "cop_marine:geospatial_lat_max": 89.9375,
          "cop_marine:geospatial_lat_min": -89.9375,
          "cop_marine:geospatial_lat_resolution": 0.125,
          "cop_marine:geospatial_lat_units": "degrees_north",
          "cop_marine:geospatial_lon_max": 179.9375,
          "cop_marine:geospatial_lon_min": -179.9375,
          "cop_marine:geospatial_lon_resolution": 0.125,
          "cop_marine:geospatial_lon_units": "degrees_east",
          "cop_marine:history": "N/A",
          "cop_marine:indicatorFamilies": [],
          "cop_marine:institution": "Royal Netherlands Meteorological Institute (KNMI)",
          "cop_marine:instrument_vocabulary": "CEOS",
          "cop_marine:isStaging": false,
          "cop_marine:mainVariables": [
           "Wind"
          ],
          "cop_marine:model": "ECMWF Operational model",
          "cop_marine:modifiedDate": "2024-06-18",
          "cop_marine:platform_vocabulary": "CEOS",
          "cop_marine:processing_level": "L4",
          "cop_marine:project": "Copernicus Marine Service Wind Thematic Assembly Centre",
          "cop_marine:projection": "WGS 84 (EPSG:4326)",
          "cop_marine:providerMetadata": {
           "source": "cmems",
           "type": "csw",
           "url": "https://cmems-catalog-ro.cls.fr/geonetwork/srv/eng/csw-MYOCEAN-CORE-PRODUCTS?service=CSW&version=2.0.2&request=GetRecordById&id=63ee69f1-2628-43aa-9b22-b21749d160ba&elementsetname=full&outputSchema=http://www.isotc211.org/2005/gmd"
          },
          "cop_marine:rank": 14000,
          "cop_marine:references": "Copernicus Marine Service Product User Manual CMEMS-TAC-WIND-PUM-012-004, Trindade et al. (2020) doi:10.1109/TGRS.2019.2946019",
          "cop_marine:sources": [
           "Numerical models",
           "Satellite observations"
          ],
          "cop_marine:summary": "Global ocean 10-m stress-equivalent wind and surface wind stress fields based on the ECMWF operational model winds, bias-corrected using scatterometer observations",
          "cop_marine:tempExtentBegin": "",
          "cop_marine:tempResolutions": [
           "Hourly"
          ],
          "cop_marine:thumbnailMeta": {
           "basemapId": "dark",
           "colormapId": "speed",
           "colormapInvert": false,
           "creationDate": "2023-06-18T06:37:19.450Z",
           "crs": "epsg:4326",
           "elevation": null,
           "layerId": "WIND_GLO_PHY_L4_NRT_012_004/cmems_obs-wind_glo_phy_nrt_l4_0.125deg_PT1H_202207/wind",
           "logScale": false,
           "overlays": {
            "tags": [
             {
              "name": "Wind"
             }
            ]
           },
           "style": "default",
           "time": 1593561600000,
           "valueClamp": true,
           "valueMax": 37.04999828338623,
           "valueMin": 0
          },
          "cop_marine:time_coverage_end": "2020-07-01T00:00:00",
          "cop_marine:time_coverage_start": "2020-07-01T00:00:00",
          "cop_marine:times": [
           "Present",
           "Past"
          ],
          "cop_marine:updateFrequencies": {
           "daily": "15:00"
          },
          "cop_marine:useCases": [],
          "cop_marine:vertExtentMax": 0,
          "cop_marine:vertExtentMin": 0,
          "created": "2012-08-26",
          "cube:dimensions": {
           "latitude": {
            "axis": "y",
            "extent": [
             -89.9375,
             89.9375
            ],
            "reference_system": 4326,
            "step": 0.125,
            "type": "spatial"
           },
           "longitude": {
            "axis": "x",
            "extent": [
             -179.9375,
             179.9375
            ],
            "reference_system": 4326,
            "step": 0.125,
            "type": "spatial"
           },
           "time": {
            "extent": [
             "2020-07-01T00:00:00Z",
             "2024-09-17T23:00:00Z"
            ],
            "step": "PT1H",
            "type": "temporal"
           }
          },
          "cube:variables": {
           "air_density": {
            "abbreviation": "air_density",
            "colormapDiffId": "balance",
            "colormapDiffInvert": false,
            "colormapId": "viridis",
            "colormapInvert": false,
            "dimensions": [
             "time",
             "latitude",
             "longitude"
            ],
            "hasLogScale": true,
            "id": "air_density",
            "logScale": false,
            "missingValue": -32767,
            "name": {
             "en": "Air density at 10 m"
            },
            "offset": 0,
            "scale": 0.001,
            "standardName": "air_density",
            "type": "data",
            "unit": "kg m-3",
            "unitConversion": null,
            "valueClamp": true,
            "valueColor": false,
            "valueDiffMax": 0.2080000638961792,
            "valueDiffRelMax": 25,
            "valueMax": 1.5690001249313354,
            "valueMin": 1.152999997138977
           },
           "eastward_stress": {
            "abbreviation": "eastward_stress",
            "colormapDiffId": "balance",
            "colormapDiffInvert": false,
            "colormapId": "balance",
            "colormapInvert": false,
            "dimensions": [
             "time",
             "latitude",
             "longitude"
            ],
            "hasLogScale": false,
            "id": "eastward_stress",
            "logScale": false,
            "missingValue": -2147483647,
            "name": {
             "en": "Surface wind stress eastward component"
            },
            "offset": 0,
            "scale": 0.01,
            "standardName": "surface_downward_eastward_stress",
            "type": "data",
            "unit": "N m-2",
            "unitConversion": null,
            "valueClamp": true,
            "valueColor": false,
            "valueDiffMax": 1.53,
            "valueDiffRelMax": 25,
            "valueMax": 1.53,
            "valueMin": -1.53
           },
           "eastward_stress_bias": {
            "abbreviation": "eastward_stress_bias",
            "colormapDiffId": "balance",
            "colormapDiffInvert": false,
            "colormapId": "balance",
            "colormapInvert": false,
            "dimensions": [
             "time",
             "latitude",
             "longitude"
            ],
            "hasLogScale": false,
            "id": "eastward_stress_bias",
            "logScale": false,
            "missingValue": -2147483647,
            "name": {
             "en": "Scatterometer-model bias of surface wind stress eastward component"
            },
            "offset": 0,
            "scale": 0.01,
            "standardName": "surface_downward_eastward_stress_bias",
            "type": "data",
            "unit": "N m-2",
            "unitConversion": null,
            "valueClamp": true,
            "valueColor": false,
            "valueDiffMax": 0.03,
            "valueDiffRelMax": 25,
            "valueMax": 0.03,
            "valueMin": -0.03
           },
           "eastward_stress_sdd": {
            "abbreviation": "eastward_stress_sdd",
            "colormapDiffId": "balance",
            "colormapDiffInvert": false,
            "colormapId": "viridis",
            "colormapInvert": false,
            "dimensions": [
             "time",
             "latitude",
             "longitude"
            ],
            "hasLogScale": true,
            "id": "eastward_stress_sdd",
            "logScale": false,
            "missingValue": -2147483647,
            "name": {
             "en": "Standard deviation of differences of surface wind stress eastward component"
            },
            "offset": 0,
            "scale": 0.01,
            "standardName": "surface_downward_eastward_stress_standard_deviation_of_differences",
            "type": "data",
            "unit": "N m-2",
            "unitConversion": null,
            "valueClamp": true,
            "valueColor": false,
            "valueDiffMax": 0.035,
            "valueDiffRelMax": 25,
            "valueMax": 0.08,
            "valueMin": 0.01
           },
           "eastward_wind": {
            "abbreviation": "eastward_wind",
            "colormapDiffId": "balance",
            "colormapDiffInvert": false,
            "colormapId": "balance",
            "colormapInvert": false,
            "dimensions": [
             "time",
             "latitude",
             "longitude"
            ],
            "hasLogScale": false,
            "id": "eastward_wind",
            "logScale": false,
            "missingValue": -32767,
            "name": {
             "en": "Stress-equivalent wind eastward component at 10 m"
            },
            "offset": 0,
            "scale": 0.01,
            "standardName": "eastward_wind",
            "type": "data",
            "unit": "m s-1",
            "unitConversion": null,
            "valueClamp": true,
            "valueColor": false,
            "valueDiffMax": 37.04999828338623,
            "valueDiffRelMax": 25,
            "valueMax": 37.04999828338623,
            "valueMin": -37.04999828338623
           },
           "eastward_wind_bias": {
            "abbreviation": "eastward_wind_bias",
            "colormapDiffId": "balance",
            "colormapDiffInvert": false,
            "colormapId": "balance",
            "colormapInvert": false,
            "dimensions": [
             "time",
             "latitude",
             "longitude"
            ],
            "hasLogScale": false,
            "id": "eastward_wind_bias",
            "logScale": false,
            "missingValue": -32767,
            "name": {
             "en": "Scatterometer-model bias of stress-equivalent wind eastward component at 10 m"
            },
            "offset": 0,
            "scale": 0.01,
            "standardName": "eastward_wind_bias",
            "type": "data",
            "unit": "m s-1",
            "unitConversion": null,
            "valueClamp": true,
            "valueColor": false,
            "valueDiffMax": 0.9300000071525574,
            "valueDiffRelMax": 25,
            "valueMax": 0.9300000071525574,
            "valueMin": -0.9300000071525574
           },
           "eastward_wind_sdd": {
            "abbreviation": "eastward_wind_sdd",
            "colormapDiffId": "balance",
            "colormapDiffInvert": false,
            "colormapId": "viridis",
            "colormapInvert": false,
            "dimensions": [
             "time",
             "latitude",
             "longitude"
            ],
            "hasLogScale": true,
            "id": "eastward_wind_sdd",
            "logScale": false,
            "missingValue": -32767,
            "name": {
             "en": "Standard deviation of differences of stress-equivalent wind eastward component at 10 m"
            },
            "offset": 0,
            "scale": 0.01,
            "standardName": "eastward_wind_standard_deviation_of_differences",
            "type": "data",
            "unit": "m s-1",
            "unitConversion": null,
            "valueClamp": true,
            "valueColor": false,
            "valueDiffMax": 0.8099999129772186,
            "valueDiffRelMax": 25,
            "valueMax": 2.169999837875366,
            "valueMin": 0.550000011920929
           },
           "northward_stress": {
            "abbreviation": "northward_stress",
            "colormapDiffId": "balance",
            "colormapDiffInvert": false,
            "colormapId": "balance",
            "colormapInvert": false,
            "dimensions": [
             "time",
             "latitude",
             "longitude"
            ],
            "hasLogScale": false,
            "id": "northward_stress",
            "logScale": false,
            "missingValue": -2147483647,
            "name": {
             "en": "Surface wind stress northward component"
            },
            "offset": 0,
            "scale": 0.01,
            "standardName": "surface_downward_northward_stress",
            "type": "data",
            "unit": "N m-2",
            "unitConversion": null,
            "valueClamp": true,
            "valueColor": false,
            "valueDiffMax": 1.53,
            "valueDiffRelMax": 25,
            "valueMax": 1.53,
            "valueMin": -1.53
           },
           "northward_stress_bias": {
            "abbreviation": "northward_stress_bias",
            "colormapDiffId": "balance",
            "colormapDiffInvert": false,
            "colormapId": "balance",
            "colormapInvert": false,
            "dimensions": [
             "time",
             "latitude",
             "longitude"
            ],
            "hasLogScale": false,
            "id": "northward_stress_bias",
            "logScale": false,
            "missingValue": -2147483647,
            "name": {
             "en": "Scatterometer-model bias of surface wind stress northward component"
            },
            "offset": 0,
            "scale": 0.01,
            "standardName": "surface_downward_northward_stress_bias",
            "type": "data",
            "unit": "N m-2",
            "unitConversion": null,
            "valueClamp": true,
            "valueColor": false,
            "valueDiffMax": 0.02,
            "valueDiffRelMax": 25,
            "valueMax": 0.02,
            "valueMin": -0.02
           },
           "northward_stress_sdd": {
            "abbreviation": "northward_stress_sdd",
            "colormapDiffId": "balance",
            "colormapDiffInvert": false,
            "colormapId": "viridis",
            "colormapInvert": false,
            "dimensions": [
             "time",
             "latitude",
             "longitude"
            ],
            "hasLogScale": true,
            "id": "northward_stress_sdd",
            "logScale": false,
            "missingValue": -2147483647,
            "name": {
             "en": "Standard deviation of differences of surface wind stress northward component"
            },
            "offset": 0,
            "scale": 0.01,
            "standardName": "surface_downward_northward_stress_standard_deviation_of_differences",
            "type": "data",
            "unit": "N m-2",
            "unitConversion": null,
            "valueClamp": true,
            "valueColor": false,
            "valueDiffMax": 0.030000000000000002,
            "valueDiffRelMax": 25,
            "valueMax": 0.07,
            "valueMin": 0.01
           },
           "northward_wind": {
            "abbreviation": "northward_wind",
            "colormapDiffId": "balance",
            "colormapDiffInvert": false,
            "colormapId": "balance",
            "colormapInvert": false,
            "dimensions": [
             "time",
             "latitude",
             "longitude"
            ],
            "hasLogScale": false,
            "id": "northward_wind",
            "logScale": false,
            "missingValue": -32767,
            "name": {
             "en": "Stress-equivalent wind northward component at 10 m"
            },
            "offset": 0,
            "scale": 0.01,
            "standardName": "northward_wind",
            "type": "data",
            "unit": "m s-1",
            "unitConversion": null,
            "valueClamp": true,
            "valueColor": false,
            "valueDiffMax": 37.04999828338623,
            "valueDiffRelMax": 25,
            "valueMax": 37.04999828338623,
            "valueMin": -37.04999828338623
           },
           "northward_wind_bias": {
            "abbreviation": "northward_wind_bias",
            "colormapDiffId": "balance",
            "colormapDiffInvert": false,
            "colormapId": "balance",
            "colormapInvert": false,
            "dimensions": [
             "time",
             "latitude",
             "longitude"
            ],
            "hasLogScale": false,
            "id": "northward_wind_bias",
            "logScale": false,
            "missingValue": -32767,
            "name": {
             "en": "Scatterometer-model bias of stress-equivalent wind northward component at 10 m"
            },
            "offset": 0,
            "scale": 0.01,
            "standardName": "northward_wind_bias",
            "type": "data",
            "unit": "m s-1",
            "unitConversion": null,
            "valueClamp": true,
            "valueColor": false,
            "valueDiffMax": 0.8399999737739563,
            "valueDiffRelMax": 25,
            "valueMax": 0.8399999737739563,
            "valueMin": -0.8399999737739563
           },
           "northward_wind_sdd": {
            "abbreviation": "northward_wind_sdd",
            "colormapDiffId": "balance",
            "colormapDiffInvert": false,
            "colormapId": "viridis",
            "colormapInvert": false,
            "dimensions": [
             "time",
             "latitude",
             "longitude"
            ],
            "hasLogScale": true,
            "id": "northward_wind_sdd",
            "logScale": false,
            "missingValue": -32767,
            "name": {
             "en": "Standard deviation of differences of stress-equivalent wind northward component at 10 m"
            },
            "offset": 0,
            "scale": 0.01,
            "standardName": "northward_wind_standard_deviation_of_differences",
            "type": "data",
            "unit": "m s-1",
            "unitConversion": null,
            "valueClamp": true,
            "valueColor": false,
            "valueDiffMax": 0.8549999296665192,
            "valueDiffRelMax": 25,
            "valueMax": 2.3899998664855957,
            "valueMin": 0.6800000071525574
           },
           "number_of_observations": {
            "abbreviation": "number_of_observations",
            "colormapDiffId": "balance",
            "colormapDiffInvert": false,
            "colormapId": "viridis",
            "colormapInvert": false,
            "dimensions": [
             "time",
             "latitude",
             "longitude"
            ],
            "hasLogScale": true,
            "id": "number_of_observations",
            "logScale": false,
            "missingValue": -32767,
            "name": {
             "en": "Number of observations used for scatterometer-model bias"
            },
            "offset": null,
            "scale": null,
            "standardName": "number_of_observations",
            "type": "data",
            "unit": 1,
            "unitConversion": null,
            "valueClamp": true,
            "valueColor": false,
            "valueDiffMax": 21,
            "valueDiffRelMax": 25,
            "valueMax": 69,
            "valueMin": 27
           },
           "number_of_observations_divcurl": {
            "abbreviation": "number_of_observations_divcurl",
            "colormapDiffId": "balance",
            "colormapDiffInvert": false,
            "colormapId": "viridis",
            "colormapInvert": false,
            "dimensions": [
             "time",
             "latitude",
             "longitude"
            ],
            "hasLogScale": true,
            "id": "number_of_observations_divcurl",
            "logScale": false,
            "missingValue": -32767,
            "name": {
             "en": "Number of observations used for scatterometer-model divergence and curl bias"
            },
            "offset": null,
            "scale": null,
            "standardName": "number_of_observations",
            "type": "data",
            "unit": 1,
            "unitConversion": null,
            "valueClamp": true,
            "valueColor": false,
            "valueDiffMax": 27.5,
            "valueDiffRelMax": 25,
            "valueMax": 65,
            "valueMin": 10
           },
           "stress_curl": {
            "abbreviation": "stress_curl",
            "colormapDiffId": "balance",
            "colormapDiffInvert": false,
            "colormapId": "viridis",
            "colormapInvert": false,
            "dimensions": [
             "time",
             "latitude",
             "longitude"
            ],
            "hasLogScale": false,
            "id": "stress_curl",
            "logScale": false,
            "missingValue": -2147483647,
            "name": {
             "en": "Curl of surface wind stress"
            },
            "offset": 0,
            "scale": 1e-10,
            "standardName": "vertical_component_of_surface_downward_stress_curl",
            "type": "data",
            "unit": "N m-3",
            "unitConversion": null,
            "valueClamp": true,
            "valueColor": false,
            "valueDiffMax": 2.3519000000000003e-06,
            "valueDiffRelMax": 25,
            "valueMax": 2.1812e-06,
            "valueMin": -2.5226e-06
           },
           "stress_curl_bias": {
            "abbreviation": "stress_curl_bias",
            "colormapDiffId": "balance",
            "colormapDiffInvert": false,
            "colormapId": "balance",
            "colormapInvert": false,
            "dimensions": [
             "time",
             "latitude",
             "longitude"
            ],
            "hasLogScale": false,
            "id": "stress_curl_bias",
            "logScale": false,
            "missingValue": -2147483647,
            "name": {
             "en": "Scatterometer-model bias of curl of surface wind stress"
            },
            "offset": 0,
            "scale": 1e-10,
            "standardName": "vertical_component_of_surface_downward_stress_curl_bias",
            "type": "data",
            "unit": "N m-3",
            "unitConversion": null,
            "valueClamp": true,
            "valueColor": false,
            "valueDiffMax": 5.091e-07,
            "valueDiffRelMax": 25,
            "valueMax": 5.091e-07,
            "valueMin": -5.091e-07
           },
           "stress_curl_dv": {
            "abbreviation": "stress_curl_dv",
            "colormapDiffId": "balance",
            "colormapDiffInvert": false,
            "colormapId": "viridis",
            "colormapInvert": false,
            "dimensions": [
             "time",
             "latitude",
             "longitude"
            ],
            "hasLogScale": false,
            "id": "stress_curl_dv",
            "logScale": false,
            "missingValue": -2147483647,
            "name": {
             "en": "Difference of scatterometer and model variances of curl of surface wind stress"
            },
            "offset": 0,
            "scale": 1e-15,
            "standardName": "vertical_component_of_surface_downward_stress_curl_difference_of_variances",
            "type": "data",
            "unit": "N2 m-6",
            "unitConversion": null,
            "valueClamp": true,
            "valueColor": false,
            "valueDiffMax": 3.1755000000000004e-12,
            "valueDiffRelMax": 25,
            "valueMax": 5.266e-12,
            "valueMin": -1.0850000000000001e-12
           },
           "stress_divergence": {
            "abbreviation": "stress_divergence",
            "colormapDiffId": "balance",
            "colormapDiffInvert": false,
            "colormapId": "viridis",
            "colormapInvert": false,
            "dimensions": [
             "time",
             "latitude",
             "longitude"
            ],
            "hasLogScale": false,
            "id": "stress_divergence",
            "logScale": false,
            "missingValue": -2147483647,
            "name": {
             "en": "Divergence of surface wind stress"
            },
            "offset": 0,
            "scale": 1e-10,
            "standardName": "divergence_of_surface_downward_stress",
            "type": "data",
            "unit": "N m-3",
            "unitConversion": null,
            "valueClamp": true,
            "valueColor": false,
            "valueDiffMax": 2.0739629999999886e-06,
            "valueDiffRelMax": 25,
            "valueMax": 1.9623259999999777e-06,
            "valueMin": -2.1856e-06
           },
           "stress_divergence_bias": {
            "abbreviation": "stress_divergence_bias",
            "colormapDiffId": "balance",
            "colormapDiffInvert": false,
            "colormapId": "balance",
            "colormapInvert": false,
            "dimensions": [
             "time",
             "latitude",
             "longitude"
            ],
            "hasLogScale": false,
            "id": "stress_divergence_bias",
            "logScale": false,
            "missingValue": -2147483647,
            "name": {
             "en": "Scatterometer-model bias of divergence of surface wind stress"
            },
            "offset": 0,
            "scale": 1e-10,
            "standardName": "divergence_of_surface_downward_stress_bias",
            "type": "data",
            "unit": "N m-3",
            "unitConversion": null,
            "valueClamp": true,
            "valueColor": false,
            "valueDiffMax": 4.885000000000001e-07,
            "valueDiffRelMax": 25,
            "valueMax": 4.885000000000001e-07,
            "valueMin": -4.885000000000001e-07
           },
           "stress_divergence_dv": {
            "abbreviation": "stress_divergence_dv",
            "colormapDiffId": "balance",
            "colormapDiffInvert": false,
            "colormapId": "viridis",
            "colormapInvert": false,
            "dimensions": [
             "time",
             "latitude",
             "longitude"
            ],
            "hasLogScale": false,
            "id": "stress_divergence_dv",
            "logScale": false,
            "missingValue": -2147483647,
            "name": {
             "en": "Difference of scatterometer and model variances of divergence of surface wind stress"
            },
            "offset": 0,
            "scale": 1e-15,
            "standardName": "divergence_of_surface_downward_stress_difference_of_variances",
            "type": "data",
            "unit": "N2 m-6",
            "unitConversion": null,
            "valueClamp": true,
            "valueColor": false,
            "valueDiffMax": 2.2560000000000005e-12,
            "valueDiffRelMax": 25,
            "valueMax": 4.463000000000001e-12,
            "valueMin": -4.9000000000000006e-14
           },
           "wind_curl": {
            "abbreviation": "wind_curl",
            "colormapDiffId": "balance",
            "colormapDiffInvert": false,
            "colormapId": "viridis",
            "colormapInvert": false,
            "dimensions": [
             "time",
             "latitude",
             "longitude"
            ],
            "hasLogScale": false,
            "id": "wind_curl",
            "logScale": false,
            "missingValue": -2147483647,
            "name": {
             "en": "Curl of stress-equivalent wind at 10 m"
            },
            "offset": 0,
            "scale": 1e-07,
            "standardName": "atmosphere_relative_vorticity",
            "type": "data",
            "unit": "s-1",
            "unitConversion": null,
            "valueClamp": true,
            "valueColor": false,
            "valueDiffMax": 8.955e-05,
            "valueDiffRelMax": 25,
            "valueMax": 8.68e-05,
            "valueMin": -9.23e-05
           },
           "wind_curl_bias": {
            "abbreviation": "wind_curl_bias",
            "colormapDiffId": "balance",
            "colormapDiffInvert": false,
            "colormapId": "balance",
            "colormapInvert": false,
            "dimensions": [
             "time",
             "latitude",
             "longitude"
            ],
            "hasLogScale": false,
            "id": "wind_curl_bias",
            "logScale": false,
            "missingValue": -2147483647,
            "name": {
             "en": "Scatterometer-model bias of curl of stress-equivalent wind at 10 m"
            },
            "offset": 0,
            "scale": 1e-07,
            "standardName": "atmosphere_relative_vorticity_bias",
            "type": "data",
            "unit": "s-1",
            "unitConversion": null,
            "valueClamp": true,
            "valueColor": false,
            "valueDiffMax": 1.82e-05,
            "valueDiffRelMax": 25,
            "valueMax": 1.82e-05,
            "valueMin": -1.82e-05
           },
           "wind_curl_dv": {
            "abbreviation": "wind_curl_dv",
            "colormapDiffId": "balance",
            "colormapDiffInvert": false,
            "colormapId": "viridis",
            "colormapInvert": false,
            "dimensions": [
             "time",
             "latitude",
             "longitude"
            ],
            "hasLogScale": false,
            "id": "wind_curl_dv",
            "logScale": false,
            "missingValue": -2147483647,
            "name": {
             "en": "Difference of scatterometer and model variances of curl of stress-equivalent wind at 10 m"
            },
            "offset": 0,
            "scale": 1e-11,
            "standardName": "atmosphere_relative_vorticity_difference_of_variances",
            "type": "data",
            "unit": "s-2",
            "unitConversion": null,
            "valueClamp": true,
            "valueColor": false,
            "valueDiffMax": 3.5999999999999996e-09,
            "valueDiffRelMax": 25,
            "valueMax": 6.399999999999999e-09,
            "valueMin": -7.999999999999999e-10
           },
           "wind_divergence": {
            "abbreviation": "wind_divergence",
            "colormapDiffId": "balance",
            "colormapDiffInvert": false,
            "colormapId": "viridis",
            "colormapInvert": false,
            "dimensions": [
             "time",
             "latitude",
             "longitude"
            ],
            "hasLogScale": false,
            "id": "wind_divergence",
            "logScale": false,
            "missingValue": -2147483647,
            "name": {
             "en": "Divergence of stress-equivalent wind at 10 m"
            },
            "offset": 0,
            "scale": 1e-07,
            "standardName": "divergence_of_wind",
            "type": "data",
            "unit": "s-1",
            "unitConversion": null,
            "valueClamp": true,
            "valueColor": false,
            "valueDiffMax": 0.00010284999999999999,
            "valueDiffRelMax": 25,
            "valueMax": 9.63e-05,
            "valueMin": -0.00010939999999999999
           },
           "wind_divergence_bias": {
            "abbreviation": "wind_divergence_bias",
            "colormapDiffId": "balance",
            "colormapDiffInvert": false,
            "colormapId": "balance",
            "colormapInvert": false,
            "dimensions": [
             "time",
             "latitude",
             "longitude"
            ],
            "hasLogScale": false,
            "id": "wind_divergence_bias",
            "logScale": false,
            "missingValue": -2147483647,
            "name": {
             "en": "Scatterometer-model bias of divergence of stress-equivalent wind at 10 m"
            },
            "offset": 0,
            "scale": 1e-07,
            "standardName": "divergence_of_wind_bias",
            "type": "data",
            "unit": "s-1",
            "unitConversion": null,
            "valueClamp": true,
            "valueColor": false,
            "valueDiffMax": 2.09e-05,
            "valueDiffRelMax": 25,
            "valueMax": 2.09e-05,
            "valueMin": -2.09e-05
           },
           "wind_divergence_dv": {
            "abbreviation": "wind_divergence_dv",
            "colormapDiffId": "balance",
            "colormapDiffInvert": false,
            "colormapId": "viridis",
            "colormapInvert": false,
            "dimensions": [
             "time",
             "latitude",
             "longitude"
            ],
            "hasLogScale": true,
            "id": "wind_divergence_dv",
            "logScale": false,
            "missingValue": -2147483647,
            "name": {
             "en": "Difference of scatterometer and model variances of divergence of stress-equivalent wind at 10 m"
            },
            "offset": 0,
            "scale": 1e-11,
            "standardName": "divergence_of_wind_difference_of_variances",
            "type": "data",
            "unit": "s-2",
            "unitConversion": null,
            "valueClamp": true,
            "valueColor": false,
            "valueDiffMax": 3.3099999999999995e-09,
            "valueDiffRelMax": 25,
            "valueMax": 6.849999999999999e-09,
            "valueMin": 2.2999999999999998e-10
           }
          },
          "datetime": "2024-05-31T00:00:00Z",
          "end_datetime": "2024-05-31T00:00:00Z",
          "instruments": [
           "ASCAT, ASCAT"
          ],
          "license": "proprietary",
          "order:status": "",
          "processing:level": "Level 4",
          "providers": [
           {
            "description": "Copernicus Marine Data Store",
            "name": "cop_marine",
            "priority": 0,
            "roles": [
             "host"
            ],
            "url": "https://marine.copernicus.eu/"
           }
          ],
          "start_datetime": "2024-05-31T00:00:00Z"
         },
         "stac_extensions": [
          "https://stac-extensions.github.io/processing/v1.0.0/schema.json",
          "https://stac-extensions.github.io/order/v1.1.0/schema.json"
         ],
         "stac_version": "1.0.0",
         "type": "Feature"
        },
        {
         "assets": {
          "downloadLink": {
           "alternate": {
            "origin": {
             "href": "https://s3.waw3-1.cloudferro.com/mdl-native-04/native/WIND_GLO_PHY_L4_NRT_012_004/cmems_obs-wind_glo_phy_nrt_l4_0.125deg_PT1H_202207/2024/05/cmems_obs-wind_glo_phy_nrt_l4_0.125deg_PT1H_2024053107_R20240531T00_07.nc",
             "title": "Origin asset link"
            }
           },
           "href": "https://hda.data.destination-earth.eu/stac/collections/EO.MO.DAT.WIND_GLO_PHY_L4_NRT_012_004/items/cmems_obs-wind_glo_phy_nrt_l4_0/download?provider=cop_marine",
           "title": "Download link",
           "type": "application/zip"
          },
          "native": {
           "alternate": {
            "origin": {
             "href": "https://s3.waw3-1.cloudferro.com/mdl-native-04/native/WIND_GLO_PHY_L4_NRT_012_004/cmems_obs-wind_glo_phy_nrt_l4_0.125deg_PT1H_202207/2024/05/cmems_obs-wind_glo_phy_nrt_l4_0.125deg_PT1H_2024053107_R20240531T00_07.nc",
             "title": "Origin asset link",
             "type": "application/x-netcdf"
            }
           },
           "href": "https://hda.data.destination-earth.eu/stac/collections/EO.MO.DAT.WIND_GLO_PHY_L4_NRT_012_004/items/cmems_obs-wind_glo_phy_nrt_l4_0/download/native?provider=cop_marine",
           "title": "native",
           "type": "application/x-netcdf"
          },
          "thumbnail": {
           "href": "https://mdl-metadata.s3.waw3-1.cloudferro.com/metadata/thumbnails/WIND_GLO_PHY_L4_NRT_012_004.jpg",
           "role": "thumbnail",
           "title": "Thumbnail",
           "type": "image/jpeg"
          }
         },
         "bbox": [
          -180,
          -90,
          180,
          90
         ],
         "collection": "EO.MO.DAT.WIND_GLO_PHY_L4_NRT_012_004",
         "geometry": {
          "coordinates": [
           [
            [
             180,
             -90
            ],
            [
             180,
             90
            ],
            [
             -180,
             90
            ],
            [
             -180,
             -90
            ],
            [
             180,
             -90
            ]
           ]
          ],
          "type": "Polygon"
         },
         "id": "cmems_obs-wind_glo_phy_nrt_l4_0",
         "links": [
          {
           "href": "https://hda.data.destination-earth.eu/stac/collections/EO.MO.DAT.WIND_GLO_PHY_L4_NRT_012_004/items/cmems_obs-wind_glo_phy_nrt_l4_0",
           "rel": "self",
           "title": "cmems_obs-wind_glo_phy_nrt_l4_0"
          },
          {
           "href": "https://hda.data.destination-earth.eu/stac/",
           "rel": "root"
          },
          {
           "href": "https://hda.data.destination-earth.eu/stac/collections/EO.MO.DAT.WIND_GLO_PHY_L4_NRT_012_004",
           "rel": "parent",
           "title": "EO.MO.DAT.WIND_GLO_PHY_L4_NRT_012_004"
          },
          {
           "href": "https://hda.data.destination-earth.eu/stac/collections/EO.MO.DAT.WIND_GLO_PHY_L4_NRT_012_004",
           "rel": "collection",
           "title": "EO.MO.DAT.WIND_GLO_PHY_L4_NRT_012_004"
          }
         ],
         "properties": {
          "constellation": "Metop-B, Metop-C",
          "cop_marine:Conventions": "CF-1.6, ACDD-1.3",
          "cop_marine:admp_in_preparation": false,
          "cop_marine:admp_updated": "2024-09-18T10:37:03.450397Z",
          "cop_marine:admp_valid_start_date": "2022-03-11T12:00:00.000000000Z",
          "cop_marine:admp_valid_start_index": 14844,
          "cop_marine:allVariables": [
           "Eastward wind (WIND)",
           "Northward wind (WIND)",
           "Surface downward eastward stress (WIND)",
           "Surface downward northward stress (WIND)",
           "Stress curl (WIND)",
           "Stress divergence (WIND)",
           "Air density (WIND)",
           "Wind curl (WIND)",
           "Wind divergence (WIND)"
          ],
          "cop_marine:altId": "63ee69f1-2628-43aa-9b22-b21749d160ba",
          "cop_marine:areas": [
           "Global Ocean"
          ],
          "cop_marine:assimilatedData": [],
          "cop_marine:colors": [
           "Blue Ocean"
          ],
          "cop_marine:communities": [
           "Policy & governance",
           "Science & innovation",
           "Extremes, hazards & safety",
           "Coastal services",
           "Natural resources & energy",
           "Trade & marine navigation"
          ],
          "cop_marine:contacts": [
           {
            "email": "scat@knmi.nl",
            "name": "Service Desk KNMI",
            "organisationName": "SIW-KNMI-DEBILT-NL",
            "responsiblePartyRole": "pointOfContact"
           },
           {
            "email": "ad.stoffelen@knmi.nl",
            "name": "Ad STOFFELEN",
            "organisationName": "SIW-KNMI-DEBILT-NL",
            "responsiblePartyRole": "custodian"
           },
           {
            "email": "rianne.giesen@knmi.nl",
            "name": "Rianne GIESEN",
            "organisationName": "SIW-KNMI-DEBILT-NL",
            "responsiblePartyRole": "originator"
           },
           {
            "email": "scat@knmi.nl",
            "name": "Anton VERHOEF",
            "organisationName": "SIW-KNMI-DEBILT-NL",
            "responsiblePartyRole": "resourceProvider"
           },
           {
            "email": "scat@knmi.nl",
            "name": "Service Desk KNMI",
            "organisationName": "SIW-KNMI-DEBILT-NL",
            "responsiblePartyRole": "distributor"
           }
          ],
          "cop_marine:crs": "EPSG:4326",
          "cop_marine:dataset": "cmems_obs-wind_glo_phy_nrt_l4_0.125deg_PT1H_202207",
          "cop_marine:date_created": "2022-06-23T01:30:26",
          "cop_marine:date_modified": "2022-06-23T01:30:26",
          "cop_marine:directives": [],
          "cop_marine:featureTypes": [
           "Grid"
          ],
          "cop_marine:formats": [
           "NetCDF-4"
          ],
          "cop_marine:geoExtent": {
           "coordinates": [
            [
             -180,
             90
            ],
            [
             180,
             -90
            ]
           ],
           "type": "envelope"
          },
          "cop_marine:geoResolution": {
           "column": {
            "magnitude": 0.125,
            "units": "degree"
           },
           "row": {
            "magnitude": 0.125,
            "units": "degree"
           }
          },
          "cop_marine:geospatial_lat_max": 89.9375,
          "cop_marine:geospatial_lat_min": -89.9375,
          "cop_marine:geospatial_lat_resolution": 0.125,
          "cop_marine:geospatial_lat_units": "degrees_north",
          "cop_marine:geospatial_lon_max": 179.9375,
          "cop_marine:geospatial_lon_min": -179.9375,
          "cop_marine:geospatial_lon_resolution": 0.125,
          "cop_marine:geospatial_lon_units": "degrees_east",
          "cop_marine:history": "N/A",
          "cop_marine:indicatorFamilies": [],
          "cop_marine:institution": "Royal Netherlands Meteorological Institute (KNMI)",
          "cop_marine:instrument_vocabulary": "CEOS",
          "cop_marine:isStaging": false,
          "cop_marine:mainVariables": [
           "Wind"
          ],
          "cop_marine:model": "ECMWF Operational model",
          "cop_marine:modifiedDate": "2024-06-18",
          "cop_marine:platform_vocabulary": "CEOS",
          "cop_marine:processing_level": "L4",
          "cop_marine:project": "Copernicus Marine Service Wind Thematic Assembly Centre",
          "cop_marine:projection": "WGS 84 (EPSG:4326)",
          "cop_marine:providerMetadata": {
           "source": "cmems",
           "type": "csw",
           "url": "https://cmems-catalog-ro.cls.fr/geonetwork/srv/eng/csw-MYOCEAN-CORE-PRODUCTS?service=CSW&version=2.0.2&request=GetRecordById&id=63ee69f1-2628-43aa-9b22-b21749d160ba&elementsetname=full&outputSchema=http://www.isotc211.org/2005/gmd"
          },
          "cop_marine:rank": 14000,
          "cop_marine:references": "Copernicus Marine Service Product User Manual CMEMS-TAC-WIND-PUM-012-004, Trindade et al. (2020) doi:10.1109/TGRS.2019.2946019",
          "cop_marine:sources": [
           "Numerical models",
           "Satellite observations"
          ],
          "cop_marine:summary": "Global ocean 10-m stress-equivalent wind and surface wind stress fields based on the ECMWF operational model winds, bias-corrected using scatterometer observations",
          "cop_marine:tempExtentBegin": "",
          "cop_marine:tempResolutions": [
           "Hourly"
          ],
          "cop_marine:thumbnailMeta": {
           "basemapId": "dark",
           "colormapId": "speed",
           "colormapInvert": false,
           "creationDate": "2023-06-18T06:37:19.450Z",
           "crs": "epsg:4326",
           "elevation": null,
           "layerId": "WIND_GLO_PHY_L4_NRT_012_004/cmems_obs-wind_glo_phy_nrt_l4_0.125deg_PT1H_202207/wind",
           "logScale": false,
           "overlays": {
            "tags": [
             {
              "name": "Wind"
             }
            ]
           },
           "style": "default",
           "time": 1593561600000,
           "valueClamp": true,
           "valueMax": 37.04999828338623,
           "valueMin": 0
          },
          "cop_marine:time_coverage_end": "2020-07-01T00:00:00",
          "cop_marine:time_coverage_start": "2020-07-01T00:00:00",
          "cop_marine:times": [
           "Present",
           "Past"
          ],
          "cop_marine:updateFrequencies": {
           "daily": "15:00"
          },
          "cop_marine:useCases": [],
          "cop_marine:vertExtentMax": 0,
          "cop_marine:vertExtentMin": 0,
          "created": "2012-08-26",
          "cube:dimensions": {
           "latitude": {
            "axis": "y",
            "extent": [
             -89.9375,
             89.9375
            ],
            "reference_system": 4326,
            "step": 0.125,
            "type": "spatial"
           },
           "longitude": {
            "axis": "x",
            "extent": [
             -179.9375,
             179.9375
            ],
            "reference_system": 4326,
            "step": 0.125,
            "type": "spatial"
           },
           "time": {
            "extent": [
             "2020-07-01T00:00:00Z",
             "2024-09-17T23:00:00Z"
            ],
            "step": "PT1H",
            "type": "temporal"
           }
          },
          "cube:variables": {
           "air_density": {
            "abbreviation": "air_density",
            "colormapDiffId": "balance",
            "colormapDiffInvert": false,
            "colormapId": "viridis",
            "colormapInvert": false,
            "dimensions": [
             "time",
             "latitude",
             "longitude"
            ],
            "hasLogScale": true,
            "id": "air_density",
            "logScale": false,
            "missingValue": -32767,
            "name": {
             "en": "Air density at 10 m"
            },
            "offset": 0,
            "scale": 0.001,
            "standardName": "air_density",
            "type": "data",
            "unit": "kg m-3",
            "unitConversion": null,
            "valueClamp": true,
            "valueColor": false,
            "valueDiffMax": 0.2080000638961792,
            "valueDiffRelMax": 25,
            "valueMax": 1.5690001249313354,
            "valueMin": 1.152999997138977
           },
           "eastward_stress": {
            "abbreviation": "eastward_stress",
            "colormapDiffId": "balance",
            "colormapDiffInvert": false,
            "colormapId": "balance",
            "colormapInvert": false,
            "dimensions": [
             "time",
             "latitude",
             "longitude"
            ],
            "hasLogScale": false,
            "id": "eastward_stress",
            "logScale": false,
            "missingValue": -2147483647,
            "name": {
             "en": "Surface wind stress eastward component"
            },
            "offset": 0,
            "scale": 0.01,
            "standardName": "surface_downward_eastward_stress",
            "type": "data",
            "unit": "N m-2",
            "unitConversion": null,
            "valueClamp": true,
            "valueColor": false,
            "valueDiffMax": 1.53,
            "valueDiffRelMax": 25,
            "valueMax": 1.53,
            "valueMin": -1.53
           },
           "eastward_stress_bias": {
            "abbreviation": "eastward_stress_bias",
            "colormapDiffId": "balance",
            "colormapDiffInvert": false,
            "colormapId": "balance",
            "colormapInvert": false,
            "dimensions": [
             "time",
             "latitude",
             "longitude"
            ],
            "hasLogScale": false,
            "id": "eastward_stress_bias",
            "logScale": false,
            "missingValue": -2147483647,
            "name": {
             "en": "Scatterometer-model bias of surface wind stress eastward component"
            },
            "offset": 0,
            "scale": 0.01,
            "standardName": "surface_downward_eastward_stress_bias",
            "type": "data",
            "unit": "N m-2",
            "unitConversion": null,
            "valueClamp": true,
            "valueColor": false,
            "valueDiffMax": 0.03,
            "valueDiffRelMax": 25,
            "valueMax": 0.03,
            "valueMin": -0.03
           },
           "eastward_stress_sdd": {
            "abbreviation": "eastward_stress_sdd",
            "colormapDiffId": "balance",
            "colormapDiffInvert": false,
            "colormapId": "viridis",
            "colormapInvert": false,
            "dimensions": [
             "time",
             "latitude",
             "longitude"
            ],
            "hasLogScale": true,
            "id": "eastward_stress_sdd",
            "logScale": false,
            "missingValue": -2147483647,
            "name": {
             "en": "Standard deviation of differences of surface wind stress eastward component"
            },
            "offset": 0,
            "scale": 0.01,
            "standardName": "surface_downward_eastward_stress_standard_deviation_of_differences",
            "type": "data",
            "unit": "N m-2",
            "unitConversion": null,
            "valueClamp": true,
            "valueColor": false,
            "valueDiffMax": 0.035,
            "valueDiffRelMax": 25,
            "valueMax": 0.08,
            "valueMin": 0.01
           },
           "eastward_wind": {
            "abbreviation": "eastward_wind",
            "colormapDiffId": "balance",
            "colormapDiffInvert": false,
            "colormapId": "balance",
            "colormapInvert": false,
            "dimensions": [
             "time",
             "latitude",
             "longitude"
            ],
            "hasLogScale": false,
            "id": "eastward_wind",
            "logScale": false,
            "missingValue": -32767,
            "name": {
             "en": "Stress-equivalent wind eastward component at 10 m"
            },
            "offset": 0,
            "scale": 0.01,
            "standardName": "eastward_wind",
            "type": "data",
            "unit": "m s-1",
            "unitConversion": null,
            "valueClamp": true,
            "valueColor": false,
            "valueDiffMax": 37.04999828338623,
            "valueDiffRelMax": 25,
            "valueMax": 37.04999828338623,
            "valueMin": -37.04999828338623
           },
           "eastward_wind_bias": {
            "abbreviation": "eastward_wind_bias",
            "colormapDiffId": "balance",
            "colormapDiffInvert": false,
            "colormapId": "balance",
            "colormapInvert": false,
            "dimensions": [
             "time",
             "latitude",
             "longitude"
            ],
            "hasLogScale": false,
            "id": "eastward_wind_bias",
            "logScale": false,
            "missingValue": -32767,
            "name": {
             "en": "Scatterometer-model bias of stress-equivalent wind eastward component at 10 m"
            },
            "offset": 0,
            "scale": 0.01,
            "standardName": "eastward_wind_bias",
            "type": "data",
            "unit": "m s-1",
            "unitConversion": null,
            "valueClamp": true,
            "valueColor": false,
            "valueDiffMax": 0.9300000071525574,
            "valueDiffRelMax": 25,
            "valueMax": 0.9300000071525574,
            "valueMin": -0.9300000071525574
           },
           "eastward_wind_sdd": {
            "abbreviation": "eastward_wind_sdd",
            "colormapDiffId": "balance",
            "colormapDiffInvert": false,
            "colormapId": "viridis",
            "colormapInvert": false,
            "dimensions": [
             "time",
             "latitude",
             "longitude"
            ],
            "hasLogScale": true,
            "id": "eastward_wind_sdd",
            "logScale": false,
            "missingValue": -32767,
            "name": {
             "en": "Standard deviation of differences of stress-equivalent wind eastward component at 10 m"
            },
            "offset": 0,
            "scale": 0.01,
            "standardName": "eastward_wind_standard_deviation_of_differences",
            "type": "data",
            "unit": "m s-1",
            "unitConversion": null,
            "valueClamp": true,
            "valueColor": false,
            "valueDiffMax": 0.8099999129772186,
            "valueDiffRelMax": 25,
            "valueMax": 2.169999837875366,
            "valueMin": 0.550000011920929
           },
           "northward_stress": {
            "abbreviation": "northward_stress",
            "colormapDiffId": "balance",
            "colormapDiffInvert": false,
            "colormapId": "balance",
            "colormapInvert": false,
            "dimensions": [
             "time",
             "latitude",
             "longitude"
            ],
            "hasLogScale": false,
            "id": "northward_stress",
            "logScale": false,
            "missingValue": -2147483647,
            "name": {
             "en": "Surface wind stress northward component"
            },
            "offset": 0,
            "scale": 0.01,
            "standardName": "surface_downward_northward_stress",
            "type": "data",
            "unit": "N m-2",
            "unitConversion": null,
            "valueClamp": true,
            "valueColor": false,
            "valueDiffMax": 1.53,
            "valueDiffRelMax": 25,
            "valueMax": 1.53,
            "valueMin": -1.53
           },
           "northward_stress_bias": {
            "abbreviation": "northward_stress_bias",
            "colormapDiffId": "balance",
            "colormapDiffInvert": false,
            "colormapId": "balance",
            "colormapInvert": false,
            "dimensions": [
             "time",
             "latitude",
             "longitude"
            ],
            "hasLogScale": false,
            "id": "northward_stress_bias",
            "logScale": false,
            "missingValue": -2147483647,
            "name": {
             "en": "Scatterometer-model bias of surface wind stress northward component"
            },
            "offset": 0,
            "scale": 0.01,
            "standardName": "surface_downward_northward_stress_bias",
            "type": "data",
            "unit": "N m-2",
            "unitConversion": null,
            "valueClamp": true,
            "valueColor": false,
            "valueDiffMax": 0.02,
            "valueDiffRelMax": 25,
            "valueMax": 0.02,
            "valueMin": -0.02
           },
           "northward_stress_sdd": {
            "abbreviation": "northward_stress_sdd",
            "colormapDiffId": "balance",
            "colormapDiffInvert": false,
            "colormapId": "viridis",
            "colormapInvert": false,
            "dimensions": [
             "time",
             "latitude",
             "longitude"
            ],
            "hasLogScale": true,
            "id": "northward_stress_sdd",
            "logScale": false,
            "missingValue": -2147483647,
            "name": {
             "en": "Standard deviation of differences of surface wind stress northward component"
            },
            "offset": 0,
            "scale": 0.01,
            "standardName": "surface_downward_northward_stress_standard_deviation_of_differences",
            "type": "data",
            "unit": "N m-2",
            "unitConversion": null,
            "valueClamp": true,
            "valueColor": false,
            "valueDiffMax": 0.030000000000000002,
            "valueDiffRelMax": 25,
            "valueMax": 0.07,
            "valueMin": 0.01
           },
           "northward_wind": {
            "abbreviation": "northward_wind",
            "colormapDiffId": "balance",
            "colormapDiffInvert": false,
            "colormapId": "balance",
            "colormapInvert": false,
            "dimensions": [
             "time",
             "latitude",
             "longitude"
            ],
            "hasLogScale": false,
            "id": "northward_wind",
            "logScale": false,
            "missingValue": -32767,
            "name": {
             "en": "Stress-equivalent wind northward component at 10 m"
            },
            "offset": 0,
            "scale": 0.01,
            "standardName": "northward_wind",
            "type": "data",
            "unit": "m s-1",
            "unitConversion": null,
            "valueClamp": true,
            "valueColor": false,
            "valueDiffMax": 37.04999828338623,
            "valueDiffRelMax": 25,
            "valueMax": 37.04999828338623,
            "valueMin": -37.04999828338623
           },
           "northward_wind_bias": {
            "abbreviation": "northward_wind_bias",
            "colormapDiffId": "balance",
            "colormapDiffInvert": false,
            "colormapId": "balance",
            "colormapInvert": false,
            "dimensions": [
             "time",
             "latitude",
             "longitude"
            ],
            "hasLogScale": false,
            "id": "northward_wind_bias",
            "logScale": false,
            "missingValue": -32767,
            "name": {
             "en": "Scatterometer-model bias of stress-equivalent wind northward component at 10 m"
            },
            "offset": 0,
            "scale": 0.01,
            "standardName": "northward_wind_bias",
            "type": "data",
            "unit": "m s-1",
            "unitConversion": null,
            "valueClamp": true,
            "valueColor": false,
            "valueDiffMax": 0.8399999737739563,
            "valueDiffRelMax": 25,
            "valueMax": 0.8399999737739563,
            "valueMin": -0.8399999737739563
           },
           "northward_wind_sdd": {
            "abbreviation": "northward_wind_sdd",
            "colormapDiffId": "balance",
            "colormapDiffInvert": false,
            "colormapId": "viridis",
            "colormapInvert": false,
            "dimensions": [
             "time",
             "latitude",
             "longitude"
            ],
            "hasLogScale": true,
            "id": "northward_wind_sdd",
            "logScale": false,
            "missingValue": -32767,
            "name": {
             "en": "Standard deviation of differences of stress-equivalent wind northward component at 10 m"
            },
            "offset": 0,
            "scale": 0.01,
            "standardName": "northward_wind_standard_deviation_of_differences",
            "type": "data",
            "unit": "m s-1",
            "unitConversion": null,
            "valueClamp": true,
            "valueColor": false,
            "valueDiffMax": 0.8549999296665192,
            "valueDiffRelMax": 25,
            "valueMax": 2.3899998664855957,
            "valueMin": 0.6800000071525574
           },
           "number_of_observations": {
            "abbreviation": "number_of_observations",
            "colormapDiffId": "balance",
            "colormapDiffInvert": false,
            "colormapId": "viridis",
            "colormapInvert": false,
            "dimensions": [
             "time",
             "latitude",
             "longitude"
            ],
            "hasLogScale": true,
            "id": "number_of_observations",
            "logScale": false,
            "missingValue": -32767,
            "name": {
             "en": "Number of observations used for scatterometer-model bias"
            },
            "offset": null,
            "scale": null,
            "standardName": "number_of_observations",
            "type": "data",
            "unit": 1,
            "unitConversion": null,
            "valueClamp": true,
            "valueColor": false,
            "valueDiffMax": 21,
            "valueDiffRelMax": 25,
            "valueMax": 69,
            "valueMin": 27
           },
           "number_of_observations_divcurl": {
            "abbreviation": "number_of_observations_divcurl",
            "colormapDiffId": "balance",
            "colormapDiffInvert": false,
            "colormapId": "viridis",
            "colormapInvert": false,
            "dimensions": [
             "time",
             "latitude",
             "longitude"
            ],
            "hasLogScale": true,
            "id": "number_of_observations_divcurl",
            "logScale": false,
            "missingValue": -32767,
            "name": {
             "en": "Number of observations used for scatterometer-model divergence and curl bias"
            },
            "offset": null,
            "scale": null,
            "standardName": "number_of_observations",
            "type": "data",
            "unit": 1,
            "unitConversion": null,
            "valueClamp": true,
            "valueColor": false,
            "valueDiffMax": 27.5,
            "valueDiffRelMax": 25,
            "valueMax": 65,
            "valueMin": 10
           },
           "stress_curl": {
            "abbreviation": "stress_curl",
            "colormapDiffId": "balance",
            "colormapDiffInvert": false,
            "colormapId": "viridis",
            "colormapInvert": false,
            "dimensions": [
             "time",
             "latitude",
             "longitude"
            ],
            "hasLogScale": false,
            "id": "stress_curl",
            "logScale": false,
            "missingValue": -2147483647,
            "name": {
             "en": "Curl of surface wind stress"
            },
            "offset": 0,
            "scale": 1e-10,
            "standardName": "vertical_component_of_surface_downward_stress_curl",
            "type": "data",
            "unit": "N m-3",
            "unitConversion": null,
            "valueClamp": true,
            "valueColor": false,
            "valueDiffMax": 2.3519000000000003e-06,
            "valueDiffRelMax": 25,
            "valueMax": 2.1812e-06,
            "valueMin": -2.5226e-06
           },
           "stress_curl_bias": {
            "abbreviation": "stress_curl_bias",
            "colormapDiffId": "balance",
            "colormapDiffInvert": false,
            "colormapId": "balance",
            "colormapInvert": false,
            "dimensions": [
             "time",
             "latitude",
             "longitude"
            ],
            "hasLogScale": false,
            "id": "stress_curl_bias",
            "logScale": false,
            "missingValue": -2147483647,
            "name": {
             "en": "Scatterometer-model bias of curl of surface wind stress"
            },
            "offset": 0,
            "scale": 1e-10,
            "standardName": "vertical_component_of_surface_downward_stress_curl_bias",
            "type": "data",
            "unit": "N m-3",
            "unitConversion": null,
            "valueClamp": true,
            "valueColor": false,
            "valueDiffMax": 5.091e-07,
            "valueDiffRelMax": 25,
            "valueMax": 5.091e-07,
            "valueMin": -5.091e-07
           },
           "stress_curl_dv": {
            "abbreviation": "stress_curl_dv",
            "colormapDiffId": "balance",
            "colormapDiffInvert": false,
            "colormapId": "viridis",
            "colormapInvert": false,
            "dimensions": [
             "time",
             "latitude",
             "longitude"
            ],
            "hasLogScale": false,
            "id": "stress_curl_dv",
            "logScale": false,
            "missingValue": -2147483647,
            "name": {
             "en": "Difference of scatterometer and model variances of curl of surface wind stress"
            },
            "offset": 0,
            "scale": 1e-15,
            "standardName": "vertical_component_of_surface_downward_stress_curl_difference_of_variances",
            "type": "data",
            "unit": "N2 m-6",
            "unitConversion": null,
            "valueClamp": true,
            "valueColor": false,
            "valueDiffMax": 3.1755000000000004e-12,
            "valueDiffRelMax": 25,
            "valueMax": 5.266e-12,
            "valueMin": -1.0850000000000001e-12
           },
           "stress_divergence": {
            "abbreviation": "stress_divergence",
            "colormapDiffId": "balance",
            "colormapDiffInvert": false,
            "colormapId": "viridis",
            "colormapInvert": false,
            "dimensions": [
             "time",
             "latitude",
             "longitude"
            ],
            "hasLogScale": false,
            "id": "stress_divergence",
            "logScale": false,
            "missingValue": -2147483647,
            "name": {
             "en": "Divergence of surface wind stress"
            },
            "offset": 0,
            "scale": 1e-10,
            "standardName": "divergence_of_surface_downward_stress",
            "type": "data",
            "unit": "N m-3",
            "unitConversion": null,
            "valueClamp": true,
            "valueColor": false,
            "valueDiffMax": 2.0739629999999886e-06,
            "valueDiffRelMax": 25,
            "valueMax": 1.9623259999999777e-06,
            "valueMin": -2.1856e-06
           },
           "stress_divergence_bias": {
            "abbreviation": "stress_divergence_bias",
            "colormapDiffId": "balance",
            "colormapDiffInvert": false,
            "colormapId": "balance",
            "colormapInvert": false,
            "dimensions": [
             "time",
             "latitude",
             "longitude"
            ],
            "hasLogScale": false,
            "id": "stress_divergence_bias",
            "logScale": false,
            "missingValue": -2147483647,
            "name": {
             "en": "Scatterometer-model bias of divergence of surface wind stress"
            },
            "offset": 0,
            "scale": 1e-10,
            "standardName": "divergence_of_surface_downward_stress_bias",
            "type": "data",
            "unit": "N m-3",
            "unitConversion": null,
            "valueClamp": true,
            "valueColor": false,
            "valueDiffMax": 4.885000000000001e-07,
            "valueDiffRelMax": 25,
            "valueMax": 4.885000000000001e-07,
            "valueMin": -4.885000000000001e-07
           },
           "stress_divergence_dv": {
            "abbreviation": "stress_divergence_dv",
            "colormapDiffId": "balance",
            "colormapDiffInvert": false,
            "colormapId": "viridis",
            "colormapInvert": false,
            "dimensions": [
             "time",
             "latitude",
             "longitude"
            ],
            "hasLogScale": false,
            "id": "stress_divergence_dv",
            "logScale": false,
            "missingValue": -2147483647,
            "name": {
             "en": "Difference of scatterometer and model variances of divergence of surface wind stress"
            },
            "offset": 0,
            "scale": 1e-15,
            "standardName": "divergence_of_surface_downward_stress_difference_of_variances",
            "type": "data",
            "unit": "N2 m-6",
            "unitConversion": null,
            "valueClamp": true,
            "valueColor": false,
            "valueDiffMax": 2.2560000000000005e-12,
            "valueDiffRelMax": 25,
            "valueMax": 4.463000000000001e-12,
            "valueMin": -4.9000000000000006e-14
           },
           "wind_curl": {
            "abbreviation": "wind_curl",
            "colormapDiffId": "balance",
            "colormapDiffInvert": false,
            "colormapId": "viridis",
            "colormapInvert": false,
            "dimensions": [
             "time",
             "latitude",
             "longitude"
            ],
            "hasLogScale": false,
            "id": "wind_curl",
            "logScale": false,
            "missingValue": -2147483647,
            "name": {
             "en": "Curl of stress-equivalent wind at 10 m"
            },
            "offset": 0,
            "scale": 1e-07,
            "standardName": "atmosphere_relative_vorticity",
            "type": "data",
            "unit": "s-1",
            "unitConversion": null,
            "valueClamp": true,
            "valueColor": false,
            "valueDiffMax": 8.955e-05,
            "valueDiffRelMax": 25,
            "valueMax": 8.68e-05,
            "valueMin": -9.23e-05
           },
           "wind_curl_bias": {
            "abbreviation": "wind_curl_bias",
            "colormapDiffId": "balance",
            "colormapDiffInvert": false,
            "colormapId": "balance",
            "colormapInvert": false,
            "dimensions": [
             "time",
             "latitude",
             "longitude"
            ],
            "hasLogScale": false,
            "id": "wind_curl_bias",
            "logScale": false,
            "missingValue": -2147483647,
            "name": {
             "en": "Scatterometer-model bias of curl of stress-equivalent wind at 10 m"
            },
            "offset": 0,
            "scale": 1e-07,
            "standardName": "atmosphere_relative_vorticity_bias",
            "type": "data",
            "unit": "s-1",
            "unitConversion": null,
            "valueClamp": true,
            "valueColor": false,
            "valueDiffMax": 1.82e-05,
            "valueDiffRelMax": 25,
            "valueMax": 1.82e-05,
            "valueMin": -1.82e-05
           },
           "wind_curl_dv": {
            "abbreviation": "wind_curl_dv",
            "colormapDiffId": "balance",
            "colormapDiffInvert": false,
            "colormapId": "viridis",
            "colormapInvert": false,
            "dimensions": [
             "time",
             "latitude",
             "longitude"
            ],
            "hasLogScale": false,
            "id": "wind_curl_dv",
            "logScale": false,
            "missingValue": -2147483647,
            "name": {
             "en": "Difference of scatterometer and model variances of curl of stress-equivalent wind at 10 m"
            },
            "offset": 0,
            "scale": 1e-11,
            "standardName": "atmosphere_relative_vorticity_difference_of_variances",
            "type": "data",
            "unit": "s-2",
            "unitConversion": null,
            "valueClamp": true,
            "valueColor": false,
            "valueDiffMax": 3.5999999999999996e-09,
            "valueDiffRelMax": 25,
            "valueMax": 6.399999999999999e-09,
            "valueMin": -7.999999999999999e-10
           },
           "wind_divergence": {
            "abbreviation": "wind_divergence",
            "colormapDiffId": "balance",
            "colormapDiffInvert": false,
            "colormapId": "viridis",
            "colormapInvert": false,
            "dimensions": [
             "time",
             "latitude",
             "longitude"
            ],
            "hasLogScale": false,
            "id": "wind_divergence",
            "logScale": false,
            "missingValue": -2147483647,
            "name": {
             "en": "Divergence of stress-equivalent wind at 10 m"
            },
            "offset": 0,
            "scale": 1e-07,
            "standardName": "divergence_of_wind",
            "type": "data",
            "unit": "s-1",
            "unitConversion": null,
            "valueClamp": true,
            "valueColor": false,
            "valueDiffMax": 0.00010284999999999999,
            "valueDiffRelMax": 25,
            "valueMax": 9.63e-05,
            "valueMin": -0.00010939999999999999
           },
           "wind_divergence_bias": {
            "abbreviation": "wind_divergence_bias",
            "colormapDiffId": "balance",
            "colormapDiffInvert": false,
            "colormapId": "balance",
            "colormapInvert": false,
            "dimensions": [
             "time",
             "latitude",
             "longitude"
            ],
            "hasLogScale": false,
            "id": "wind_divergence_bias",
            "logScale": false,
            "missingValue": -2147483647,
            "name": {
             "en": "Scatterometer-model bias of divergence of stress-equivalent wind at 10 m"
            },
            "offset": 0,
            "scale": 1e-07,
            "standardName": "divergence_of_wind_bias",
            "type": "data",
            "unit": "s-1",
            "unitConversion": null,
            "valueClamp": true,
            "valueColor": false,
            "valueDiffMax": 2.09e-05,
            "valueDiffRelMax": 25,
            "valueMax": 2.09e-05,
            "valueMin": -2.09e-05
           },
           "wind_divergence_dv": {
            "abbreviation": "wind_divergence_dv",
            "colormapDiffId": "balance",
            "colormapDiffInvert": false,
            "colormapId": "viridis",
            "colormapInvert": false,
            "dimensions": [
             "time",
             "latitude",
             "longitude"
            ],
            "hasLogScale": true,
            "id": "wind_divergence_dv",
            "logScale": false,
            "missingValue": -2147483647,
            "name": {
             "en": "Difference of scatterometer and model variances of divergence of stress-equivalent wind at 10 m"
            },
            "offset": 0,
            "scale": 1e-11,
            "standardName": "divergence_of_wind_difference_of_variances",
            "type": "data",
            "unit": "s-2",
            "unitConversion": null,
            "valueClamp": true,
            "valueColor": false,
            "valueDiffMax": 3.3099999999999995e-09,
            "valueDiffRelMax": 25,
            "valueMax": 6.849999999999999e-09,
            "valueMin": 2.2999999999999998e-10
           }
          },
          "datetime": "2024-05-31T00:00:00Z",
          "end_datetime": "2024-05-31T00:00:00Z",
          "instruments": [
           "ASCAT, ASCAT"
          ],
          "license": "proprietary",
          "order:status": "",
          "processing:level": "Level 4",
          "providers": [
           {
            "description": "Copernicus Marine Data Store",
            "name": "cop_marine",
            "priority": 0,
            "roles": [
             "host"
            ],
            "url": "https://marine.copernicus.eu/"
           }
          ],
          "start_datetime": "2024-05-31T00:00:00Z"
         },
         "stac_extensions": [
          "https://stac-extensions.github.io/processing/v1.0.0/schema.json",
          "https://stac-extensions.github.io/order/v1.1.0/schema.json"
         ],
         "stac_version": "1.0.0",
         "type": "Feature"
        },
        {
         "assets": {
          "downloadLink": {
           "alternate": {
            "origin": {
             "href": "https://s3.waw3-1.cloudferro.com/mdl-native-04/native/WIND_GLO_PHY_L4_NRT_012_004/cmems_obs-wind_glo_phy_nrt_l4_0.125deg_PT1H_202207/2024/05/cmems_obs-wind_glo_phy_nrt_l4_0.125deg_PT1H_2024053108_R20240531T00_08.nc",
             "title": "Origin asset link"
            }
           },
           "href": "https://hda.data.destination-earth.eu/stac/collections/EO.MO.DAT.WIND_GLO_PHY_L4_NRT_012_004/items/cmems_obs-wind_glo_phy_nrt_l4_0/download?provider=cop_marine",
           "title": "Download link",
           "type": "application/zip"
          },
          "native": {
           "alternate": {
            "origin": {
             "href": "https://s3.waw3-1.cloudferro.com/mdl-native-04/native/WIND_GLO_PHY_L4_NRT_012_004/cmems_obs-wind_glo_phy_nrt_l4_0.125deg_PT1H_202207/2024/05/cmems_obs-wind_glo_phy_nrt_l4_0.125deg_PT1H_2024053108_R20240531T00_08.nc",
             "title": "Origin asset link",
             "type": "application/x-netcdf"
            }
           },
           "href": "https://hda.data.destination-earth.eu/stac/collections/EO.MO.DAT.WIND_GLO_PHY_L4_NRT_012_004/items/cmems_obs-wind_glo_phy_nrt_l4_0/download/native?provider=cop_marine",
           "title": "native",
           "type": "application/x-netcdf"
          },
          "thumbnail": {
           "href": "https://mdl-metadata.s3.waw3-1.cloudferro.com/metadata/thumbnails/WIND_GLO_PHY_L4_NRT_012_004.jpg",
           "role": "thumbnail",
           "title": "Thumbnail",
           "type": "image/jpeg"
          }
         },
         "bbox": [
          -180,
          -90,
          180,
          90
         ],
         "collection": "EO.MO.DAT.WIND_GLO_PHY_L4_NRT_012_004",
         "geometry": {
          "coordinates": [
           [
            [
             180,
             -90
            ],
            [
             180,
             90
            ],
            [
             -180,
             90
            ],
            [
             -180,
             -90
            ],
            [
             180,
             -90
            ]
           ]
          ],
          "type": "Polygon"
         },
         "id": "cmems_obs-wind_glo_phy_nrt_l4_0",
         "links": [
          {
           "href": "https://hda.data.destination-earth.eu/stac/collections/EO.MO.DAT.WIND_GLO_PHY_L4_NRT_012_004/items/cmems_obs-wind_glo_phy_nrt_l4_0",
           "rel": "self",
           "title": "cmems_obs-wind_glo_phy_nrt_l4_0"
          },
          {
           "href": "https://hda.data.destination-earth.eu/stac/",
           "rel": "root"
          },
          {
           "href": "https://hda.data.destination-earth.eu/stac/collections/EO.MO.DAT.WIND_GLO_PHY_L4_NRT_012_004",
           "rel": "parent",
           "title": "EO.MO.DAT.WIND_GLO_PHY_L4_NRT_012_004"
          },
          {
           "href": "https://hda.data.destination-earth.eu/stac/collections/EO.MO.DAT.WIND_GLO_PHY_L4_NRT_012_004",
           "rel": "collection",
           "title": "EO.MO.DAT.WIND_GLO_PHY_L4_NRT_012_004"
          }
         ],
         "properties": {
          "constellation": "Metop-B, Metop-C",
          "cop_marine:Conventions": "CF-1.6, ACDD-1.3",
          "cop_marine:admp_in_preparation": false,
          "cop_marine:admp_updated": "2024-09-18T10:37:03.450397Z",
          "cop_marine:admp_valid_start_date": "2022-03-11T12:00:00.000000000Z",
          "cop_marine:admp_valid_start_index": 14844,
          "cop_marine:allVariables": [
           "Eastward wind (WIND)",
           "Northward wind (WIND)",
           "Surface downward eastward stress (WIND)",
           "Surface downward northward stress (WIND)",
           "Stress curl (WIND)",
           "Stress divergence (WIND)",
           "Air density (WIND)",
           "Wind curl (WIND)",
           "Wind divergence (WIND)"
          ],
          "cop_marine:altId": "63ee69f1-2628-43aa-9b22-b21749d160ba",
          "cop_marine:areas": [
           "Global Ocean"
          ],
          "cop_marine:assimilatedData": [],
          "cop_marine:colors": [
           "Blue Ocean"
          ],
          "cop_marine:communities": [
           "Policy & governance",
           "Science & innovation",
           "Extremes, hazards & safety",
           "Coastal services",
           "Natural resources & energy",
           "Trade & marine navigation"
          ],
          "cop_marine:contacts": [
           {
            "email": "scat@knmi.nl",
            "name": "Service Desk KNMI",
            "organisationName": "SIW-KNMI-DEBILT-NL",
            "responsiblePartyRole": "pointOfContact"
           },
           {
            "email": "ad.stoffelen@knmi.nl",
            "name": "Ad STOFFELEN",
            "organisationName": "SIW-KNMI-DEBILT-NL",
            "responsiblePartyRole": "custodian"
           },
           {
            "email": "rianne.giesen@knmi.nl",
            "name": "Rianne GIESEN",
            "organisationName": "SIW-KNMI-DEBILT-NL",
            "responsiblePartyRole": "originator"
           },
           {
            "email": "scat@knmi.nl",
            "name": "Anton VERHOEF",
            "organisationName": "SIW-KNMI-DEBILT-NL",
            "responsiblePartyRole": "resourceProvider"
           },
           {
            "email": "scat@knmi.nl",
            "name": "Service Desk KNMI",
            "organisationName": "SIW-KNMI-DEBILT-NL",
            "responsiblePartyRole": "distributor"
           }
          ],
          "cop_marine:crs": "EPSG:4326",
          "cop_marine:dataset": "cmems_obs-wind_glo_phy_nrt_l4_0.125deg_PT1H_202207",
          "cop_marine:date_created": "2022-06-23T01:30:26",
          "cop_marine:date_modified": "2022-06-23T01:30:26",
          "cop_marine:directives": [],
          "cop_marine:featureTypes": [
           "Grid"
          ],
          "cop_marine:formats": [
           "NetCDF-4"
          ],
          "cop_marine:geoExtent": {
           "coordinates": [
            [
             -180,
             90
            ],
            [
             180,
             -90
            ]
           ],
           "type": "envelope"
          },
          "cop_marine:geoResolution": {
           "column": {
            "magnitude": 0.125,
            "units": "degree"
           },
           "row": {
            "magnitude": 0.125,
            "units": "degree"
           }
          },
          "cop_marine:geospatial_lat_max": 89.9375,
          "cop_marine:geospatial_lat_min": -89.9375,
          "cop_marine:geospatial_lat_resolution": 0.125,
          "cop_marine:geospatial_lat_units": "degrees_north",
          "cop_marine:geospatial_lon_max": 179.9375,
          "cop_marine:geospatial_lon_min": -179.9375,
          "cop_marine:geospatial_lon_resolution": 0.125,
          "cop_marine:geospatial_lon_units": "degrees_east",
          "cop_marine:history": "N/A",
          "cop_marine:indicatorFamilies": [],
          "cop_marine:institution": "Royal Netherlands Meteorological Institute (KNMI)",
          "cop_marine:instrument_vocabulary": "CEOS",
          "cop_marine:isStaging": false,
          "cop_marine:mainVariables": [
           "Wind"
          ],
          "cop_marine:model": "ECMWF Operational model",
          "cop_marine:modifiedDate": "2024-06-18",
          "cop_marine:platform_vocabulary": "CEOS",
          "cop_marine:processing_level": "L4",
          "cop_marine:project": "Copernicus Marine Service Wind Thematic Assembly Centre",
          "cop_marine:projection": "WGS 84 (EPSG:4326)",
          "cop_marine:providerMetadata": {
           "source": "cmems",
           "type": "csw",
           "url": "https://cmems-catalog-ro.cls.fr/geonetwork/srv/eng/csw-MYOCEAN-CORE-PRODUCTS?service=CSW&version=2.0.2&request=GetRecordById&id=63ee69f1-2628-43aa-9b22-b21749d160ba&elementsetname=full&outputSchema=http://www.isotc211.org/2005/gmd"
          },
          "cop_marine:rank": 14000,
          "cop_marine:references": "Copernicus Marine Service Product User Manual CMEMS-TAC-WIND-PUM-012-004, Trindade et al. (2020) doi:10.1109/TGRS.2019.2946019",
          "cop_marine:sources": [
           "Numerical models",
           "Satellite observations"
          ],
          "cop_marine:summary": "Global ocean 10-m stress-equivalent wind and surface wind stress fields based on the ECMWF operational model winds, bias-corrected using scatterometer observations",
          "cop_marine:tempExtentBegin": "",
          "cop_marine:tempResolutions": [
           "Hourly"
          ],
          "cop_marine:thumbnailMeta": {
           "basemapId": "dark",
           "colormapId": "speed",
           "colormapInvert": false,
           "creationDate": "2023-06-18T06:37:19.450Z",
           "crs": "epsg:4326",
           "elevation": null,
           "layerId": "WIND_GLO_PHY_L4_NRT_012_004/cmems_obs-wind_glo_phy_nrt_l4_0.125deg_PT1H_202207/wind",
           "logScale": false,
           "overlays": {
            "tags": [
             {
              "name": "Wind"
             }
            ]
           },
           "style": "default",
           "time": 1593561600000,
           "valueClamp": true,
           "valueMax": 37.04999828338623,
           "valueMin": 0
          },
          "cop_marine:time_coverage_end": "2020-07-01T00:00:00",
          "cop_marine:time_coverage_start": "2020-07-01T00:00:00",
          "cop_marine:times": [
           "Present",
           "Past"
          ],
          "cop_marine:updateFrequencies": {
           "daily": "15:00"
          },
          "cop_marine:useCases": [],
          "cop_marine:vertExtentMax": 0,
          "cop_marine:vertExtentMin": 0,
          "created": "2012-08-26",
          "cube:dimensions": {
           "latitude": {
            "axis": "y",
            "extent": [
             -89.9375,
             89.9375
            ],
            "reference_system": 4326,
            "step": 0.125,
            "type": "spatial"
           },
           "longitude": {
            "axis": "x",
            "extent": [
             -179.9375,
             179.9375
            ],
            "reference_system": 4326,
            "step": 0.125,
            "type": "spatial"
           },
           "time": {
            "extent": [
             "2020-07-01T00:00:00Z",
             "2024-09-17T23:00:00Z"
            ],
            "step": "PT1H",
            "type": "temporal"
           }
          },
          "cube:variables": {
           "air_density": {
            "abbreviation": "air_density",
            "colormapDiffId": "balance",
            "colormapDiffInvert": false,
            "colormapId": "viridis",
            "colormapInvert": false,
            "dimensions": [
             "time",
             "latitude",
             "longitude"
            ],
            "hasLogScale": true,
            "id": "air_density",
            "logScale": false,
            "missingValue": -32767,
            "name": {
             "en": "Air density at 10 m"
            },
            "offset": 0,
            "scale": 0.001,
            "standardName": "air_density",
            "type": "data",
            "unit": "kg m-3",
            "unitConversion": null,
            "valueClamp": true,
            "valueColor": false,
            "valueDiffMax": 0.2080000638961792,
            "valueDiffRelMax": 25,
            "valueMax": 1.5690001249313354,
            "valueMin": 1.152999997138977
           },
           "eastward_stress": {
            "abbreviation": "eastward_stress",
            "colormapDiffId": "balance",
            "colormapDiffInvert": false,
            "colormapId": "balance",
            "colormapInvert": false,
            "dimensions": [
             "time",
             "latitude",
             "longitude"
            ],
            "hasLogScale": false,
            "id": "eastward_stress",
            "logScale": false,
            "missingValue": -2147483647,
            "name": {
             "en": "Surface wind stress eastward component"
            },
            "offset": 0,
            "scale": 0.01,
            "standardName": "surface_downward_eastward_stress",
            "type": "data",
            "unit": "N m-2",
            "unitConversion": null,
            "valueClamp": true,
            "valueColor": false,
            "valueDiffMax": 1.53,
            "valueDiffRelMax": 25,
            "valueMax": 1.53,
            "valueMin": -1.53
           },
           "eastward_stress_bias": {
            "abbreviation": "eastward_stress_bias",
            "colormapDiffId": "balance",
            "colormapDiffInvert": false,
            "colormapId": "balance",
            "colormapInvert": false,
            "dimensions": [
             "time",
             "latitude",
             "longitude"
            ],
            "hasLogScale": false,
            "id": "eastward_stress_bias",
            "logScale": false,
            "missingValue": -2147483647,
            "name": {
             "en": "Scatterometer-model bias of surface wind stress eastward component"
            },
            "offset": 0,
            "scale": 0.01,
            "standardName": "surface_downward_eastward_stress_bias",
            "type": "data",
            "unit": "N m-2",
            "unitConversion": null,
            "valueClamp": true,
            "valueColor": false,
            "valueDiffMax": 0.03,
            "valueDiffRelMax": 25,
            "valueMax": 0.03,
            "valueMin": -0.03
           },
           "eastward_stress_sdd": {
            "abbreviation": "eastward_stress_sdd",
            "colormapDiffId": "balance",
            "colormapDiffInvert": false,
            "colormapId": "viridis",
            "colormapInvert": false,
            "dimensions": [
             "time",
             "latitude",
             "longitude"
            ],
            "hasLogScale": true,
            "id": "eastward_stress_sdd",
            "logScale": false,
            "missingValue": -2147483647,
            "name": {
             "en": "Standard deviation of differences of surface wind stress eastward component"
            },
            "offset": 0,
            "scale": 0.01,
            "standardName": "surface_downward_eastward_stress_standard_deviation_of_differences",
            "type": "data",
            "unit": "N m-2",
            "unitConversion": null,
            "valueClamp": true,
            "valueColor": false,
            "valueDiffMax": 0.035,
            "valueDiffRelMax": 25,
            "valueMax": 0.08,
            "valueMin": 0.01
           },
           "eastward_wind": {
            "abbreviation": "eastward_wind",
            "colormapDiffId": "balance",
            "colormapDiffInvert": false,
            "colormapId": "balance",
            "colormapInvert": false,
            "dimensions": [
             "time",
             "latitude",
             "longitude"
            ],
            "hasLogScale": false,
            "id": "eastward_wind",
            "logScale": false,
            "missingValue": -32767,
            "name": {
             "en": "Stress-equivalent wind eastward component at 10 m"
            },
            "offset": 0,
            "scale": 0.01,
            "standardName": "eastward_wind",
            "type": "data",
            "unit": "m s-1",
            "unitConversion": null,
            "valueClamp": true,
            "valueColor": false,
            "valueDiffMax": 37.04999828338623,
            "valueDiffRelMax": 25,
            "valueMax": 37.04999828338623,
            "valueMin": -37.04999828338623
           },
           "eastward_wind_bias": {
            "abbreviation": "eastward_wind_bias",
            "colormapDiffId": "balance",
            "colormapDiffInvert": false,
            "colormapId": "balance",
            "colormapInvert": false,
            "dimensions": [
             "time",
             "latitude",
             "longitude"
            ],
            "hasLogScale": false,
            "id": "eastward_wind_bias",
            "logScale": false,
            "missingValue": -32767,
            "name": {
             "en": "Scatterometer-model bias of stress-equivalent wind eastward component at 10 m"
            },
            "offset": 0,
            "scale": 0.01,
            "standardName": "eastward_wind_bias",
            "type": "data",
            "unit": "m s-1",
            "unitConversion": null,
            "valueClamp": true,
            "valueColor": false,
            "valueDiffMax": 0.9300000071525574,
            "valueDiffRelMax": 25,
            "valueMax": 0.9300000071525574,
            "valueMin": -0.9300000071525574
           },
           "eastward_wind_sdd": {
            "abbreviation": "eastward_wind_sdd",
            "colormapDiffId": "balance",
            "colormapDiffInvert": false,
            "colormapId": "viridis",
            "colormapInvert": false,
            "dimensions": [
             "time",
             "latitude",
             "longitude"
            ],
            "hasLogScale": true,
            "id": "eastward_wind_sdd",
            "logScale": false,
            "missingValue": -32767,
            "name": {
             "en": "Standard deviation of differences of stress-equivalent wind eastward component at 10 m"
            },
            "offset": 0,
            "scale": 0.01,
            "standardName": "eastward_wind_standard_deviation_of_differences",
            "type": "data",
            "unit": "m s-1",
            "unitConversion": null,
            "valueClamp": true,
            "valueColor": false,
            "valueDiffMax": 0.8099999129772186,
            "valueDiffRelMax": 25,
            "valueMax": 2.169999837875366,
            "valueMin": 0.550000011920929
           },
           "northward_stress": {
            "abbreviation": "northward_stress",
            "colormapDiffId": "balance",
            "colormapDiffInvert": false,
            "colormapId": "balance",
            "colormapInvert": false,
            "dimensions": [
             "time",
             "latitude",
             "longitude"
            ],
            "hasLogScale": false,
            "id": "northward_stress",
            "logScale": false,
            "missingValue": -2147483647,
            "name": {
             "en": "Surface wind stress northward component"
            },
            "offset": 0,
            "scale": 0.01,
            "standardName": "surface_downward_northward_stress",
            "type": "data",
            "unit": "N m-2",
            "unitConversion": null,
            "valueClamp": true,
            "valueColor": false,
            "valueDiffMax": 1.53,
            "valueDiffRelMax": 25,
            "valueMax": 1.53,
            "valueMin": -1.53
           },
           "northward_stress_bias": {
            "abbreviation": "northward_stress_bias",
            "colormapDiffId": "balance",
            "colormapDiffInvert": false,
            "colormapId": "balance",
            "colormapInvert": false,
            "dimensions": [
             "time",
             "latitude",
             "longitude"
            ],
            "hasLogScale": false,
            "id": "northward_stress_bias",
            "logScale": false,
            "missingValue": -2147483647,
            "name": {
             "en": "Scatterometer-model bias of surface wind stress northward component"
            },
            "offset": 0,
            "scale": 0.01,
            "standardName": "surface_downward_northward_stress_bias",
            "type": "data",
            "unit": "N m-2",
            "unitConversion": null,
            "valueClamp": true,
            "valueColor": false,
            "valueDiffMax": 0.02,
            "valueDiffRelMax": 25,
            "valueMax": 0.02,
            "valueMin": -0.02
           },
           "northward_stress_sdd": {
            "abbreviation": "northward_stress_sdd",
            "colormapDiffId": "balance",
            "colormapDiffInvert": false,
            "colormapId": "viridis",
            "colormapInvert": false,
            "dimensions": [
             "time",
             "latitude",
             "longitude"
            ],
            "hasLogScale": true,
            "id": "northward_stress_sdd",
            "logScale": false,
            "missingValue": -2147483647,
            "name": {
             "en": "Standard deviation of differences of surface wind stress northward component"
            },
            "offset": 0,
            "scale": 0.01,
            "standardName": "surface_downward_northward_stress_standard_deviation_of_differences",
            "type": "data",
            "unit": "N m-2",
            "unitConversion": null,
            "valueClamp": true,
            "valueColor": false,
            "valueDiffMax": 0.030000000000000002,
            "valueDiffRelMax": 25,
            "valueMax": 0.07,
            "valueMin": 0.01
           },
           "northward_wind": {
            "abbreviation": "northward_wind",
            "colormapDiffId": "balance",
            "colormapDiffInvert": false,
            "colormapId": "balance",
            "colormapInvert": false,
            "dimensions": [
             "time",
             "latitude",
             "longitude"
            ],
            "hasLogScale": false,
            "id": "northward_wind",
            "logScale": false,
            "missingValue": -32767,
            "name": {
             "en": "Stress-equivalent wind northward component at 10 m"
            },
            "offset": 0,
            "scale": 0.01,
            "standardName": "northward_wind",
            "type": "data",
            "unit": "m s-1",
            "unitConversion": null,
            "valueClamp": true,
            "valueColor": false,
            "valueDiffMax": 37.04999828338623,
            "valueDiffRelMax": 25,
            "valueMax": 37.04999828338623,
            "valueMin": -37.04999828338623
           },
           "northward_wind_bias": {
            "abbreviation": "northward_wind_bias",
            "colormapDiffId": "balance",
            "colormapDiffInvert": false,
            "colormapId": "balance",
            "colormapInvert": false,
            "dimensions": [
             "time",
             "latitude",
             "longitude"
            ],
            "hasLogScale": false,
            "id": "northward_wind_bias",
            "logScale": false,
            "missingValue": -32767,
            "name": {
             "en": "Scatterometer-model bias of stress-equivalent wind northward component at 10 m"
            },
            "offset": 0,
            "scale": 0.01,
            "standardName": "northward_wind_bias",
            "type": "data",
            "unit": "m s-1",
            "unitConversion": null,
            "valueClamp": true,
            "valueColor": false,
            "valueDiffMax": 0.8399999737739563,
            "valueDiffRelMax": 25,
            "valueMax": 0.8399999737739563,
            "valueMin": -0.8399999737739563
           },
           "northward_wind_sdd": {
            "abbreviation": "northward_wind_sdd",
            "colormapDiffId": "balance",
            "colormapDiffInvert": false,
            "colormapId": "viridis",
            "colormapInvert": false,
            "dimensions": [
             "time",
             "latitude",
             "longitude"
            ],
            "hasLogScale": true,
            "id": "northward_wind_sdd",
            "logScale": false,
            "missingValue": -32767,
            "name": {
             "en": "Standard deviation of differences of stress-equivalent wind northward component at 10 m"
            },
            "offset": 0,
            "scale": 0.01,
            "standardName": "northward_wind_standard_deviation_of_differences",
            "type": "data",
            "unit": "m s-1",
            "unitConversion": null,
            "valueClamp": true,
            "valueColor": false,
            "valueDiffMax": 0.8549999296665192,
            "valueDiffRelMax": 25,
            "valueMax": 2.3899998664855957,
            "valueMin": 0.6800000071525574
           },
           "number_of_observations": {
            "abbreviation": "number_of_observations",
            "colormapDiffId": "balance",
            "colormapDiffInvert": false,
            "colormapId": "viridis",
            "colormapInvert": false,
            "dimensions": [
             "time",
             "latitude",
             "longitude"
            ],
            "hasLogScale": true,
            "id": "number_of_observations",
            "logScale": false,
            "missingValue": -32767,
            "name": {
             "en": "Number of observations used for scatterometer-model bias"
            },
            "offset": null,
            "scale": null,
            "standardName": "number_of_observations",
            "type": "data",
            "unit": 1,
            "unitConversion": null,
            "valueClamp": true,
            "valueColor": false,
            "valueDiffMax": 21,
            "valueDiffRelMax": 25,
            "valueMax": 69,
            "valueMin": 27
           },
           "number_of_observations_divcurl": {
            "abbreviation": "number_of_observations_divcurl",
            "colormapDiffId": "balance",
            "colormapDiffInvert": false,
            "colormapId": "viridis",
            "colormapInvert": false,
            "dimensions": [
             "time",
             "latitude",
             "longitude"
            ],
            "hasLogScale": true,
            "id": "number_of_observations_divcurl",
            "logScale": false,
            "missingValue": -32767,
            "name": {
             "en": "Number of observations used for scatterometer-model divergence and curl bias"
            },
            "offset": null,
            "scale": null,
            "standardName": "number_of_observations",
            "type": "data",
            "unit": 1,
            "unitConversion": null,
            "valueClamp": true,
            "valueColor": false,
            "valueDiffMax": 27.5,
            "valueDiffRelMax": 25,
            "valueMax": 65,
            "valueMin": 10
           },
           "stress_curl": {
            "abbreviation": "stress_curl",
            "colormapDiffId": "balance",
            "colormapDiffInvert": false,
            "colormapId": "viridis",
            "colormapInvert": false,
            "dimensions": [
             "time",
             "latitude",
             "longitude"
            ],
            "hasLogScale": false,
            "id": "stress_curl",
            "logScale": false,
            "missingValue": -2147483647,
            "name": {
             "en": "Curl of surface wind stress"
            },
            "offset": 0,
            "scale": 1e-10,
            "standardName": "vertical_component_of_surface_downward_stress_curl",
            "type": "data",
            "unit": "N m-3",
            "unitConversion": null,
            "valueClamp": true,
            "valueColor": false,
            "valueDiffMax": 2.3519000000000003e-06,
            "valueDiffRelMax": 25,
            "valueMax": 2.1812e-06,
            "valueMin": -2.5226e-06
           },
           "stress_curl_bias": {
            "abbreviation": "stress_curl_bias",
            "colormapDiffId": "balance",
            "colormapDiffInvert": false,
            "colormapId": "balance",
            "colormapInvert": false,
            "dimensions": [
             "time",
             "latitude",
             "longitude"
            ],
            "hasLogScale": false,
            "id": "stress_curl_bias",
            "logScale": false,
            "missingValue": -2147483647,
            "name": {
             "en": "Scatterometer-model bias of curl of surface wind stress"
            },
            "offset": 0,
            "scale": 1e-10,
            "standardName": "vertical_component_of_surface_downward_stress_curl_bias",
            "type": "data",
            "unit": "N m-3",
            "unitConversion": null,
            "valueClamp": true,
            "valueColor": false,
            "valueDiffMax": 5.091e-07,
            "valueDiffRelMax": 25,
            "valueMax": 5.091e-07,
            "valueMin": -5.091e-07
           },
           "stress_curl_dv": {
            "abbreviation": "stress_curl_dv",
            "colormapDiffId": "balance",
            "colormapDiffInvert": false,
            "colormapId": "viridis",
            "colormapInvert": false,
            "dimensions": [
             "time",
             "latitude",
             "longitude"
            ],
            "hasLogScale": false,
            "id": "stress_curl_dv",
            "logScale": false,
            "missingValue": -2147483647,
            "name": {
             "en": "Difference of scatterometer and model variances of curl of surface wind stress"
            },
            "offset": 0,
            "scale": 1e-15,
            "standardName": "vertical_component_of_surface_downward_stress_curl_difference_of_variances",
            "type": "data",
            "unit": "N2 m-6",
            "unitConversion": null,
            "valueClamp": true,
            "valueColor": false,
            "valueDiffMax": 3.1755000000000004e-12,
            "valueDiffRelMax": 25,
            "valueMax": 5.266e-12,
            "valueMin": -1.0850000000000001e-12
           },
           "stress_divergence": {
            "abbreviation": "stress_divergence",
            "colormapDiffId": "balance",
            "colormapDiffInvert": false,
            "colormapId": "viridis",
            "colormapInvert": false,
            "dimensions": [
             "time",
             "latitude",
             "longitude"
            ],
            "hasLogScale": false,
            "id": "stress_divergence",
            "logScale": false,
            "missingValue": -2147483647,
            "name": {
             "en": "Divergence of surface wind stress"
            },
            "offset": 0,
            "scale": 1e-10,
            "standardName": "divergence_of_surface_downward_stress",
            "type": "data",
            "unit": "N m-3",
            "unitConversion": null,
            "valueClamp": true,
            "valueColor": false,
            "valueDiffMax": 2.0739629999999886e-06,
            "valueDiffRelMax": 25,
            "valueMax": 1.9623259999999777e-06,
            "valueMin": -2.1856e-06
           },
           "stress_divergence_bias": {
            "abbreviation": "stress_divergence_bias",
            "colormapDiffId": "balance",
            "colormapDiffInvert": false,
            "colormapId": "balance",
            "colormapInvert": false,
            "dimensions": [
             "time",
             "latitude",
             "longitude"
            ],
            "hasLogScale": false,
            "id": "stress_divergence_bias",
            "logScale": false,
            "missingValue": -2147483647,
            "name": {
             "en": "Scatterometer-model bias of divergence of surface wind stress"
            },
            "offset": 0,
            "scale": 1e-10,
            "standardName": "divergence_of_surface_downward_stress_bias",
            "type": "data",
            "unit": "N m-3",
            "unitConversion": null,
            "valueClamp": true,
            "valueColor": false,
            "valueDiffMax": 4.885000000000001e-07,
            "valueDiffRelMax": 25,
            "valueMax": 4.885000000000001e-07,
            "valueMin": -4.885000000000001e-07
           },
           "stress_divergence_dv": {
            "abbreviation": "stress_divergence_dv",
            "colormapDiffId": "balance",
            "colormapDiffInvert": false,
            "colormapId": "viridis",
            "colormapInvert": false,
            "dimensions": [
             "time",
             "latitude",
             "longitude"
            ],
            "hasLogScale": false,
            "id": "stress_divergence_dv",
            "logScale": false,
            "missingValue": -2147483647,
            "name": {
             "en": "Difference of scatterometer and model variances of divergence of surface wind stress"
            },
            "offset": 0,
            "scale": 1e-15,
            "standardName": "divergence_of_surface_downward_stress_difference_of_variances",
            "type": "data",
            "unit": "N2 m-6",
            "unitConversion": null,
            "valueClamp": true,
            "valueColor": false,
            "valueDiffMax": 2.2560000000000005e-12,
            "valueDiffRelMax": 25,
            "valueMax": 4.463000000000001e-12,
            "valueMin": -4.9000000000000006e-14
           },
           "wind_curl": {
            "abbreviation": "wind_curl",
            "colormapDiffId": "balance",
            "colormapDiffInvert": false,
            "colormapId": "viridis",
            "colormapInvert": false,
            "dimensions": [
             "time",
             "latitude",
             "longitude"
            ],
            "hasLogScale": false,
            "id": "wind_curl",
            "logScale": false,
            "missingValue": -2147483647,
            "name": {
             "en": "Curl of stress-equivalent wind at 10 m"
            },
            "offset": 0,
            "scale": 1e-07,
            "standardName": "atmosphere_relative_vorticity",
            "type": "data",
            "unit": "s-1",
            "unitConversion": null,
            "valueClamp": true,
            "valueColor": false,
            "valueDiffMax": 8.955e-05,
            "valueDiffRelMax": 25,
            "valueMax": 8.68e-05,
            "valueMin": -9.23e-05
           },
           "wind_curl_bias": {
            "abbreviation": "wind_curl_bias",
            "colormapDiffId": "balance",
            "colormapDiffInvert": false,
            "colormapId": "balance",
            "colormapInvert": false,
            "dimensions": [
             "time",
             "latitude",
             "longitude"
            ],
            "hasLogScale": false,
            "id": "wind_curl_bias",
            "logScale": false,
            "missingValue": -2147483647,
            "name": {
             "en": "Scatterometer-model bias of curl of stress-equivalent wind at 10 m"
            },
            "offset": 0,
            "scale": 1e-07,
            "standardName": "atmosphere_relative_vorticity_bias",
            "type": "data",
            "unit": "s-1",
            "unitConversion": null,
            "valueClamp": true,
            "valueColor": false,
            "valueDiffMax": 1.82e-05,
            "valueDiffRelMax": 25,
            "valueMax": 1.82e-05,
            "valueMin": -1.82e-05
           },
           "wind_curl_dv": {
            "abbreviation": "wind_curl_dv",
            "colormapDiffId": "balance",
            "colormapDiffInvert": false,
            "colormapId": "viridis",
            "colormapInvert": false,
            "dimensions": [
             "time",
             "latitude",
             "longitude"
            ],
            "hasLogScale": false,
            "id": "wind_curl_dv",
            "logScale": false,
            "missingValue": -2147483647,
            "name": {
             "en": "Difference of scatterometer and model variances of curl of stress-equivalent wind at 10 m"
            },
            "offset": 0,
            "scale": 1e-11,
            "standardName": "atmosphere_relative_vorticity_difference_of_variances",
            "type": "data",
            "unit": "s-2",
            "unitConversion": null,
            "valueClamp": true,
            "valueColor": false,
            "valueDiffMax": 3.5999999999999996e-09,
            "valueDiffRelMax": 25,
            "valueMax": 6.399999999999999e-09,
            "valueMin": -7.999999999999999e-10
           },
           "wind_divergence": {
            "abbreviation": "wind_divergence",
            "colormapDiffId": "balance",
            "colormapDiffInvert": false,
            "colormapId": "viridis",
            "colormapInvert": false,
            "dimensions": [
             "time",
             "latitude",
             "longitude"
            ],
            "hasLogScale": false,
            "id": "wind_divergence",
            "logScale": false,
            "missingValue": -2147483647,
            "name": {
             "en": "Divergence of stress-equivalent wind at 10 m"
            },
            "offset": 0,
            "scale": 1e-07,
            "standardName": "divergence_of_wind",
            "type": "data",
            "unit": "s-1",
            "unitConversion": null,
            "valueClamp": true,
            "valueColor": false,
            "valueDiffMax": 0.00010284999999999999,
            "valueDiffRelMax": 25,
            "valueMax": 9.63e-05,
            "valueMin": -0.00010939999999999999
           },
           "wind_divergence_bias": {
            "abbreviation": "wind_divergence_bias",
            "colormapDiffId": "balance",
            "colormapDiffInvert": false,
            "colormapId": "balance",
            "colormapInvert": false,
            "dimensions": [
             "time",
             "latitude",
             "longitude"
            ],
            "hasLogScale": false,
            "id": "wind_divergence_bias",
            "logScale": false,
            "missingValue": -2147483647,
            "name": {
             "en": "Scatterometer-model bias of divergence of stress-equivalent wind at 10 m"
            },
            "offset": 0,
            "scale": 1e-07,
            "standardName": "divergence_of_wind_bias",
            "type": "data",
            "unit": "s-1",
            "unitConversion": null,
            "valueClamp": true,
            "valueColor": false,
            "valueDiffMax": 2.09e-05,
            "valueDiffRelMax": 25,
            "valueMax": 2.09e-05,
            "valueMin": -2.09e-05
           },
           "wind_divergence_dv": {
            "abbreviation": "wind_divergence_dv",
            "colormapDiffId": "balance",
            "colormapDiffInvert": false,
            "colormapId": "viridis",
            "colormapInvert": false,
            "dimensions": [
             "time",
             "latitude",
             "longitude"
            ],
            "hasLogScale": true,
            "id": "wind_divergence_dv",
            "logScale": false,
            "missingValue": -2147483647,
            "name": {
             "en": "Difference of scatterometer and model variances of divergence of stress-equivalent wind at 10 m"
            },
            "offset": 0,
            "scale": 1e-11,
            "standardName": "divergence_of_wind_difference_of_variances",
            "type": "data",
            "unit": "s-2",
            "unitConversion": null,
            "valueClamp": true,
            "valueColor": false,
            "valueDiffMax": 3.3099999999999995e-09,
            "valueDiffRelMax": 25,
            "valueMax": 6.849999999999999e-09,
            "valueMin": 2.2999999999999998e-10
           }
          },
          "datetime": "2024-05-31T00:00:00Z",
          "end_datetime": "2024-05-31T00:00:00Z",
          "instruments": [
           "ASCAT, ASCAT"
          ],
          "license": "proprietary",
          "order:status": "",
          "processing:level": "Level 4",
          "providers": [
           {
            "description": "Copernicus Marine Data Store",
            "name": "cop_marine",
            "priority": 0,
            "roles": [
             "host"
            ],
            "url": "https://marine.copernicus.eu/"
           }
          ],
          "start_datetime": "2024-05-31T00:00:00Z"
         },
         "stac_extensions": [
          "https://stac-extensions.github.io/processing/v1.0.0/schema.json",
          "https://stac-extensions.github.io/order/v1.1.0/schema.json"
         ],
         "stac_version": "1.0.0",
         "type": "Feature"
        },
        {
         "assets": {
          "downloadLink": {
           "alternate": {
            "origin": {
             "href": "https://s3.waw3-1.cloudferro.com/mdl-native-04/native/WIND_GLO_PHY_L4_NRT_012_004/cmems_obs-wind_glo_phy_nrt_l4_0.125deg_PT1H_202207/2024/05/cmems_obs-wind_glo_phy_nrt_l4_0.125deg_PT1H_2024053109_R20240531T00_09.nc",
             "title": "Origin asset link"
            }
           },
           "href": "https://hda.data.destination-earth.eu/stac/collections/EO.MO.DAT.WIND_GLO_PHY_L4_NRT_012_004/items/cmems_obs-wind_glo_phy_nrt_l4_0/download?provider=cop_marine",
           "title": "Download link",
           "type": "application/zip"
          },
          "native": {
           "alternate": {
            "origin": {
             "href": "https://s3.waw3-1.cloudferro.com/mdl-native-04/native/WIND_GLO_PHY_L4_NRT_012_004/cmems_obs-wind_glo_phy_nrt_l4_0.125deg_PT1H_202207/2024/05/cmems_obs-wind_glo_phy_nrt_l4_0.125deg_PT1H_2024053109_R20240531T00_09.nc",
             "title": "Origin asset link",
             "type": "application/x-netcdf"
            }
           },
           "href": "https://hda.data.destination-earth.eu/stac/collections/EO.MO.DAT.WIND_GLO_PHY_L4_NRT_012_004/items/cmems_obs-wind_glo_phy_nrt_l4_0/download/native?provider=cop_marine",
           "title": "native",
           "type": "application/x-netcdf"
          },
          "thumbnail": {
           "href": "https://mdl-metadata.s3.waw3-1.cloudferro.com/metadata/thumbnails/WIND_GLO_PHY_L4_NRT_012_004.jpg",
           "role": "thumbnail",
           "title": "Thumbnail",
           "type": "image/jpeg"
          }
         },
         "bbox": [
          -180,
          -90,
          180,
          90
         ],
         "collection": "EO.MO.DAT.WIND_GLO_PHY_L4_NRT_012_004",
         "geometry": {
          "coordinates": [
           [
            [
             180,
             -90
            ],
            [
             180,
             90
            ],
            [
             -180,
             90
            ],
            [
             -180,
             -90
            ],
            [
             180,
             -90
            ]
           ]
          ],
          "type": "Polygon"
         },
         "id": "cmems_obs-wind_glo_phy_nrt_l4_0",
         "links": [
          {
           "href": "https://hda.data.destination-earth.eu/stac/collections/EO.MO.DAT.WIND_GLO_PHY_L4_NRT_012_004/items/cmems_obs-wind_glo_phy_nrt_l4_0",
           "rel": "self",
           "title": "cmems_obs-wind_glo_phy_nrt_l4_0"
          },
          {
           "href": "https://hda.data.destination-earth.eu/stac/",
           "rel": "root"
          },
          {
           "href": "https://hda.data.destination-earth.eu/stac/collections/EO.MO.DAT.WIND_GLO_PHY_L4_NRT_012_004",
           "rel": "parent",
           "title": "EO.MO.DAT.WIND_GLO_PHY_L4_NRT_012_004"
          },
          {
           "href": "https://hda.data.destination-earth.eu/stac/collections/EO.MO.DAT.WIND_GLO_PHY_L4_NRT_012_004",
           "rel": "collection",
           "title": "EO.MO.DAT.WIND_GLO_PHY_L4_NRT_012_004"
          }
         ],
         "properties": {
          "constellation": "Metop-B, Metop-C",
          "cop_marine:Conventions": "CF-1.6, ACDD-1.3",
          "cop_marine:admp_in_preparation": false,
          "cop_marine:admp_updated": "2024-09-18T10:37:03.450397Z",
          "cop_marine:admp_valid_start_date": "2022-03-11T12:00:00.000000000Z",
          "cop_marine:admp_valid_start_index": 14844,
          "cop_marine:allVariables": [
           "Eastward wind (WIND)",
           "Northward wind (WIND)",
           "Surface downward eastward stress (WIND)",
           "Surface downward northward stress (WIND)",
           "Stress curl (WIND)",
           "Stress divergence (WIND)",
           "Air density (WIND)",
           "Wind curl (WIND)",
           "Wind divergence (WIND)"
          ],
          "cop_marine:altId": "63ee69f1-2628-43aa-9b22-b21749d160ba",
          "cop_marine:areas": [
           "Global Ocean"
          ],
          "cop_marine:assimilatedData": [],
          "cop_marine:colors": [
           "Blue Ocean"
          ],
          "cop_marine:communities": [
           "Policy & governance",
           "Science & innovation",
           "Extremes, hazards & safety",
           "Coastal services",
           "Natural resources & energy",
           "Trade & marine navigation"
          ],
          "cop_marine:contacts": [
           {
            "email": "scat@knmi.nl",
            "name": "Service Desk KNMI",
            "organisationName": "SIW-KNMI-DEBILT-NL",
            "responsiblePartyRole": "pointOfContact"
           },
           {
            "email": "ad.stoffelen@knmi.nl",
            "name": "Ad STOFFELEN",
            "organisationName": "SIW-KNMI-DEBILT-NL",
            "responsiblePartyRole": "custodian"
           },
           {
            "email": "rianne.giesen@knmi.nl",
            "name": "Rianne GIESEN",
            "organisationName": "SIW-KNMI-DEBILT-NL",
            "responsiblePartyRole": "originator"
           },
           {
            "email": "scat@knmi.nl",
            "name": "Anton VERHOEF",
            "organisationName": "SIW-KNMI-DEBILT-NL",
            "responsiblePartyRole": "resourceProvider"
           },
           {
            "email": "scat@knmi.nl",
            "name": "Service Desk KNMI",
            "organisationName": "SIW-KNMI-DEBILT-NL",
            "responsiblePartyRole": "distributor"
           }
          ],
          "cop_marine:crs": "EPSG:4326",
          "cop_marine:dataset": "cmems_obs-wind_glo_phy_nrt_l4_0.125deg_PT1H_202207",
          "cop_marine:date_created": "2022-06-23T01:30:26",
          "cop_marine:date_modified": "2022-06-23T01:30:26",
          "cop_marine:directives": [],
          "cop_marine:featureTypes": [
           "Grid"
          ],
          "cop_marine:formats": [
           "NetCDF-4"
          ],
          "cop_marine:geoExtent": {
           "coordinates": [
            [
             -180,
             90
            ],
            [
             180,
             -90
            ]
           ],
           "type": "envelope"
          },
          "cop_marine:geoResolution": {
           "column": {
            "magnitude": 0.125,
            "units": "degree"
           },
           "row": {
            "magnitude": 0.125,
            "units": "degree"
           }
          },
          "cop_marine:geospatial_lat_max": 89.9375,
          "cop_marine:geospatial_lat_min": -89.9375,
          "cop_marine:geospatial_lat_resolution": 0.125,
          "cop_marine:geospatial_lat_units": "degrees_north",
          "cop_marine:geospatial_lon_max": 179.9375,
          "cop_marine:geospatial_lon_min": -179.9375,
          "cop_marine:geospatial_lon_resolution": 0.125,
          "cop_marine:geospatial_lon_units": "degrees_east",
          "cop_marine:history": "N/A",
          "cop_marine:indicatorFamilies": [],
          "cop_marine:institution": "Royal Netherlands Meteorological Institute (KNMI)",
          "cop_marine:instrument_vocabulary": "CEOS",
          "cop_marine:isStaging": false,
          "cop_marine:mainVariables": [
           "Wind"
          ],
          "cop_marine:model": "ECMWF Operational model",
          "cop_marine:modifiedDate": "2024-06-18",
          "cop_marine:platform_vocabulary": "CEOS",
          "cop_marine:processing_level": "L4",
          "cop_marine:project": "Copernicus Marine Service Wind Thematic Assembly Centre",
          "cop_marine:projection": "WGS 84 (EPSG:4326)",
          "cop_marine:providerMetadata": {
           "source": "cmems",
           "type": "csw",
           "url": "https://cmems-catalog-ro.cls.fr/geonetwork/srv/eng/csw-MYOCEAN-CORE-PRODUCTS?service=CSW&version=2.0.2&request=GetRecordById&id=63ee69f1-2628-43aa-9b22-b21749d160ba&elementsetname=full&outputSchema=http://www.isotc211.org/2005/gmd"
          },
          "cop_marine:rank": 14000,
          "cop_marine:references": "Copernicus Marine Service Product User Manual CMEMS-TAC-WIND-PUM-012-004, Trindade et al. (2020) doi:10.1109/TGRS.2019.2946019",
          "cop_marine:sources": [
           "Numerical models",
           "Satellite observations"
          ],
          "cop_marine:summary": "Global ocean 10-m stress-equivalent wind and surface wind stress fields based on the ECMWF operational model winds, bias-corrected using scatterometer observations",
          "cop_marine:tempExtentBegin": "",
          "cop_marine:tempResolutions": [
           "Hourly"
          ],
          "cop_marine:thumbnailMeta": {
           "basemapId": "dark",
           "colormapId": "speed",
           "colormapInvert": false,
           "creationDate": "2023-06-18T06:37:19.450Z",
           "crs": "epsg:4326",
           "elevation": null,
           "layerId": "WIND_GLO_PHY_L4_NRT_012_004/cmems_obs-wind_glo_phy_nrt_l4_0.125deg_PT1H_202207/wind",
           "logScale": false,
           "overlays": {
            "tags": [
             {
              "name": "Wind"
             }
            ]
           },
           "style": "default",
           "time": 1593561600000,
           "valueClamp": true,
           "valueMax": 37.04999828338623,
           "valueMin": 0
          },
          "cop_marine:time_coverage_end": "2020-07-01T00:00:00",
          "cop_marine:time_coverage_start": "2020-07-01T00:00:00",
          "cop_marine:times": [
           "Present",
           "Past"
          ],
          "cop_marine:updateFrequencies": {
           "daily": "15:00"
          },
          "cop_marine:useCases": [],
          "cop_marine:vertExtentMax": 0,
          "cop_marine:vertExtentMin": 0,
          "created": "2012-08-26",
          "cube:dimensions": {
           "latitude": {
            "axis": "y",
            "extent": [
             -89.9375,
             89.9375
            ],
            "reference_system": 4326,
            "step": 0.125,
            "type": "spatial"
           },
           "longitude": {
            "axis": "x",
            "extent": [
             -179.9375,
             179.9375
            ],
            "reference_system": 4326,
            "step": 0.125,
            "type": "spatial"
           },
           "time": {
            "extent": [
             "2020-07-01T00:00:00Z",
             "2024-09-17T23:00:00Z"
            ],
            "step": "PT1H",
            "type": "temporal"
           }
          },
          "cube:variables": {
           "air_density": {
            "abbreviation": "air_density",
            "colormapDiffId": "balance",
            "colormapDiffInvert": false,
            "colormapId": "viridis",
            "colormapInvert": false,
            "dimensions": [
             "time",
             "latitude",
             "longitude"
            ],
            "hasLogScale": true,
            "id": "air_density",
            "logScale": false,
            "missingValue": -32767,
            "name": {
             "en": "Air density at 10 m"
            },
            "offset": 0,
            "scale": 0.001,
            "standardName": "air_density",
            "type": "data",
            "unit": "kg m-3",
            "unitConversion": null,
            "valueClamp": true,
            "valueColor": false,
            "valueDiffMax": 0.2080000638961792,
            "valueDiffRelMax": 25,
            "valueMax": 1.5690001249313354,
            "valueMin": 1.152999997138977
           },
           "eastward_stress": {
            "abbreviation": "eastward_stress",
            "colormapDiffId": "balance",
            "colormapDiffInvert": false,
            "colormapId": "balance",
            "colormapInvert": false,
            "dimensions": [
             "time",
             "latitude",
             "longitude"
            ],
            "hasLogScale": false,
            "id": "eastward_stress",
            "logScale": false,
            "missingValue": -2147483647,
            "name": {
             "en": "Surface wind stress eastward component"
            },
            "offset": 0,
            "scale": 0.01,
            "standardName": "surface_downward_eastward_stress",
            "type": "data",
            "unit": "N m-2",
            "unitConversion": null,
            "valueClamp": true,
            "valueColor": false,
            "valueDiffMax": 1.53,
            "valueDiffRelMax": 25,
            "valueMax": 1.53,
            "valueMin": -1.53
           },
           "eastward_stress_bias": {
            "abbreviation": "eastward_stress_bias",
            "colormapDiffId": "balance",
            "colormapDiffInvert": false,
            "colormapId": "balance",
            "colormapInvert": false,
            "dimensions": [
             "time",
             "latitude",
             "longitude"
            ],
            "hasLogScale": false,
            "id": "eastward_stress_bias",
            "logScale": false,
            "missingValue": -2147483647,
            "name": {
             "en": "Scatterometer-model bias of surface wind stress eastward component"
            },
            "offset": 0,
            "scale": 0.01,
            "standardName": "surface_downward_eastward_stress_bias",
            "type": "data",
            "unit": "N m-2",
            "unitConversion": null,
            "valueClamp": true,
            "valueColor": false,
            "valueDiffMax": 0.03,
            "valueDiffRelMax": 25,
            "valueMax": 0.03,
            "valueMin": -0.03
           },
           "eastward_stress_sdd": {
            "abbreviation": "eastward_stress_sdd",
            "colormapDiffId": "balance",
            "colormapDiffInvert": false,
            "colormapId": "viridis",
            "colormapInvert": false,
            "dimensions": [
             "time",
             "latitude",
             "longitude"
            ],
            "hasLogScale": true,
            "id": "eastward_stress_sdd",
            "logScale": false,
            "missingValue": -2147483647,
            "name": {
             "en": "Standard deviation of differences of surface wind stress eastward component"
            },
            "offset": 0,
            "scale": 0.01,
            "standardName": "surface_downward_eastward_stress_standard_deviation_of_differences",
            "type": "data",
            "unit": "N m-2",
            "unitConversion": null,
            "valueClamp": true,
            "valueColor": false,
            "valueDiffMax": 0.035,
            "valueDiffRelMax": 25,
            "valueMax": 0.08,
            "valueMin": 0.01
           },
           "eastward_wind": {
            "abbreviation": "eastward_wind",
            "colormapDiffId": "balance",
            "colormapDiffInvert": false,
            "colormapId": "balance",
            "colormapInvert": false,
            "dimensions": [
             "time",
             "latitude",
             "longitude"
            ],
            "hasLogScale": false,
            "id": "eastward_wind",
            "logScale": false,
            "missingValue": -32767,
            "name": {
             "en": "Stress-equivalent wind eastward component at 10 m"
            },
            "offset": 0,
            "scale": 0.01,
            "standardName": "eastward_wind",
            "type": "data",
            "unit": "m s-1",
            "unitConversion": null,
            "valueClamp": true,
            "valueColor": false,
            "valueDiffMax": 37.04999828338623,
            "valueDiffRelMax": 25,
            "valueMax": 37.04999828338623,
            "valueMin": -37.04999828338623
           },
           "eastward_wind_bias": {
            "abbreviation": "eastward_wind_bias",
            "colormapDiffId": "balance",
            "colormapDiffInvert": false,
            "colormapId": "balance",
            "colormapInvert": false,
            "dimensions": [
             "time",
             "latitude",
             "longitude"
            ],
            "hasLogScale": false,
            "id": "eastward_wind_bias",
            "logScale": false,
            "missingValue": -32767,
            "name": {
             "en": "Scatterometer-model bias of stress-equivalent wind eastward component at 10 m"
            },
            "offset": 0,
            "scale": 0.01,
            "standardName": "eastward_wind_bias",
            "type": "data",
            "unit": "m s-1",
            "unitConversion": null,
            "valueClamp": true,
            "valueColor": false,
            "valueDiffMax": 0.9300000071525574,
            "valueDiffRelMax": 25,
            "valueMax": 0.9300000071525574,
            "valueMin": -0.9300000071525574
           },
           "eastward_wind_sdd": {
            "abbreviation": "eastward_wind_sdd",
            "colormapDiffId": "balance",
            "colormapDiffInvert": false,
            "colormapId": "viridis",
            "colormapInvert": false,
            "dimensions": [
             "time",
             "latitude",
             "longitude"
            ],
            "hasLogScale": true,
            "id": "eastward_wind_sdd",
            "logScale": false,
            "missingValue": -32767,
            "name": {
             "en": "Standard deviation of differences of stress-equivalent wind eastward component at 10 m"
            },
            "offset": 0,
            "scale": 0.01,
            "standardName": "eastward_wind_standard_deviation_of_differences",
            "type": "data",
            "unit": "m s-1",
            "unitConversion": null,
            "valueClamp": true,
            "valueColor": false,
            "valueDiffMax": 0.8099999129772186,
            "valueDiffRelMax": 25,
            "valueMax": 2.169999837875366,
            "valueMin": 0.550000011920929
           },
           "northward_stress": {
            "abbreviation": "northward_stress",
            "colormapDiffId": "balance",
            "colormapDiffInvert": false,
            "colormapId": "balance",
            "colormapInvert": false,
            "dimensions": [
             "time",
             "latitude",
             "longitude"
            ],
            "hasLogScale": false,
            "id": "northward_stress",
            "logScale": false,
            "missingValue": -2147483647,
            "name": {
             "en": "Surface wind stress northward component"
            },
            "offset": 0,
            "scale": 0.01,
            "standardName": "surface_downward_northward_stress",
            "type": "data",
            "unit": "N m-2",
            "unitConversion": null,
            "valueClamp": true,
            "valueColor": false,
            "valueDiffMax": 1.53,
            "valueDiffRelMax": 25,
            "valueMax": 1.53,
            "valueMin": -1.53
           },
           "northward_stress_bias": {
            "abbreviation": "northward_stress_bias",
            "colormapDiffId": "balance",
            "colormapDiffInvert": false,
            "colormapId": "balance",
            "colormapInvert": false,
            "dimensions": [
             "time",
             "latitude",
             "longitude"
            ],
            "hasLogScale": false,
            "id": "northward_stress_bias",
            "logScale": false,
            "missingValue": -2147483647,
            "name": {
             "en": "Scatterometer-model bias of surface wind stress northward component"
            },
            "offset": 0,
            "scale": 0.01,
            "standardName": "surface_downward_northward_stress_bias",
            "type": "data",
            "unit": "N m-2",
            "unitConversion": null,
            "valueClamp": true,
            "valueColor": false,
            "valueDiffMax": 0.02,
            "valueDiffRelMax": 25,
            "valueMax": 0.02,
            "valueMin": -0.02
           },
           "northward_stress_sdd": {
            "abbreviation": "northward_stress_sdd",
            "colormapDiffId": "balance",
            "colormapDiffInvert": false,
            "colormapId": "viridis",
            "colormapInvert": false,
            "dimensions": [
             "time",
             "latitude",
             "longitude"
            ],
            "hasLogScale": true,
            "id": "northward_stress_sdd",
            "logScale": false,
            "missingValue": -2147483647,
            "name": {
             "en": "Standard deviation of differences of surface wind stress northward component"
            },
            "offset": 0,
            "scale": 0.01,
            "standardName": "surface_downward_northward_stress_standard_deviation_of_differences",
            "type": "data",
            "unit": "N m-2",
            "unitConversion": null,
            "valueClamp": true,
            "valueColor": false,
            "valueDiffMax": 0.030000000000000002,
            "valueDiffRelMax": 25,
            "valueMax": 0.07,
            "valueMin": 0.01
           },
           "northward_wind": {
            "abbreviation": "northward_wind",
            "colormapDiffId": "balance",
            "colormapDiffInvert": false,
            "colormapId": "balance",
            "colormapInvert": false,
            "dimensions": [
             "time",
             "latitude",
             "longitude"
            ],
            "hasLogScale": false,
            "id": "northward_wind",
            "logScale": false,
            "missingValue": -32767,
            "name": {
             "en": "Stress-equivalent wind northward component at 10 m"
            },
            "offset": 0,
            "scale": 0.01,
            "standardName": "northward_wind",
            "type": "data",
            "unit": "m s-1",
            "unitConversion": null,
            "valueClamp": true,
            "valueColor": false,
            "valueDiffMax": 37.04999828338623,
            "valueDiffRelMax": 25,
            "valueMax": 37.04999828338623,
            "valueMin": -37.04999828338623
           },
           "northward_wind_bias": {
            "abbreviation": "northward_wind_bias",
            "colormapDiffId": "balance",
            "colormapDiffInvert": false,
            "colormapId": "balance",
            "colormapInvert": false,
            "dimensions": [
             "time",
             "latitude",
             "longitude"
            ],
            "hasLogScale": false,
            "id": "northward_wind_bias",
            "logScale": false,
            "missingValue": -32767,
            "name": {
             "en": "Scatterometer-model bias of stress-equivalent wind northward component at 10 m"
            },
            "offset": 0,
            "scale": 0.01,
            "standardName": "northward_wind_bias",
            "type": "data",
            "unit": "m s-1",
            "unitConversion": null,
            "valueClamp": true,
            "valueColor": false,
            "valueDiffMax": 0.8399999737739563,
            "valueDiffRelMax": 25,
            "valueMax": 0.8399999737739563,
            "valueMin": -0.8399999737739563
           },
           "northward_wind_sdd": {
            "abbreviation": "northward_wind_sdd",
            "colormapDiffId": "balance",
            "colormapDiffInvert": false,
            "colormapId": "viridis",
            "colormapInvert": false,
            "dimensions": [
             "time",
             "latitude",
             "longitude"
            ],
            "hasLogScale": true,
            "id": "northward_wind_sdd",
            "logScale": false,
            "missingValue": -32767,
            "name": {
             "en": "Standard deviation of differences of stress-equivalent wind northward component at 10 m"
            },
            "offset": 0,
            "scale": 0.01,
            "standardName": "northward_wind_standard_deviation_of_differences",
            "type": "data",
            "unit": "m s-1",
            "unitConversion": null,
            "valueClamp": true,
            "valueColor": false,
            "valueDiffMax": 0.8549999296665192,
            "valueDiffRelMax": 25,
            "valueMax": 2.3899998664855957,
            "valueMin": 0.6800000071525574
           },
           "number_of_observations": {
            "abbreviation": "number_of_observations",
            "colormapDiffId": "balance",
            "colormapDiffInvert": false,
            "colormapId": "viridis",
            "colormapInvert": false,
            "dimensions": [
             "time",
             "latitude",
             "longitude"
            ],
            "hasLogScale": true,
            "id": "number_of_observations",
            "logScale": false,
            "missingValue": -32767,
            "name": {
             "en": "Number of observations used for scatterometer-model bias"
            },
            "offset": null,
            "scale": null,
            "standardName": "number_of_observations",
            "type": "data",
            "unit": 1,
            "unitConversion": null,
            "valueClamp": true,
            "valueColor": false,
            "valueDiffMax": 21,
            "valueDiffRelMax": 25,
            "valueMax": 69,
            "valueMin": 27
           },
           "number_of_observations_divcurl": {
            "abbreviation": "number_of_observations_divcurl",
            "colormapDiffId": "balance",
            "colormapDiffInvert": false,
            "colormapId": "viridis",
            "colormapInvert": false,
            "dimensions": [
             "time",
             "latitude",
             "longitude"
            ],
            "hasLogScale": true,
            "id": "number_of_observations_divcurl",
            "logScale": false,
            "missingValue": -32767,
            "name": {
             "en": "Number of observations used for scatterometer-model divergence and curl bias"
            },
            "offset": null,
            "scale": null,
            "standardName": "number_of_observations",
            "type": "data",
            "unit": 1,
            "unitConversion": null,
            "valueClamp": true,
            "valueColor": false,
            "valueDiffMax": 27.5,
            "valueDiffRelMax": 25,
            "valueMax": 65,
            "valueMin": 10
           },
           "stress_curl": {
            "abbreviation": "stress_curl",
            "colormapDiffId": "balance",
            "colormapDiffInvert": false,
            "colormapId": "viridis",
            "colormapInvert": false,
            "dimensions": [
             "time",
             "latitude",
             "longitude"
            ],
            "hasLogScale": false,
            "id": "stress_curl",
            "logScale": false,
            "missingValue": -2147483647,
            "name": {
             "en": "Curl of surface wind stress"
            },
            "offset": 0,
            "scale": 1e-10,
            "standardName": "vertical_component_of_surface_downward_stress_curl",
            "type": "data",
            "unit": "N m-3",
            "unitConversion": null,
            "valueClamp": true,
            "valueColor": false,
            "valueDiffMax": 2.3519000000000003e-06,
            "valueDiffRelMax": 25,
            "valueMax": 2.1812e-06,
            "valueMin": -2.5226e-06
           },
           "stress_curl_bias": {
            "abbreviation": "stress_curl_bias",
            "colormapDiffId": "balance",
            "colormapDiffInvert": false,
            "colormapId": "balance",
            "colormapInvert": false,
            "dimensions": [
             "time",
             "latitude",
             "longitude"
            ],
            "hasLogScale": false,
            "id": "stress_curl_bias",
            "logScale": false,
            "missingValue": -2147483647,
            "name": {
             "en": "Scatterometer-model bias of curl of surface wind stress"
            },
            "offset": 0,
            "scale": 1e-10,
            "standardName": "vertical_component_of_surface_downward_stress_curl_bias",
            "type": "data",
            "unit": "N m-3",
            "unitConversion": null,
            "valueClamp": true,
            "valueColor": false,
            "valueDiffMax": 5.091e-07,
            "valueDiffRelMax": 25,
            "valueMax": 5.091e-07,
            "valueMin": -5.091e-07
           },
           "stress_curl_dv": {
            "abbreviation": "stress_curl_dv",
            "colormapDiffId": "balance",
            "colormapDiffInvert": false,
            "colormapId": "viridis",
            "colormapInvert": false,
            "dimensions": [
             "time",
             "latitude",
             "longitude"
            ],
            "hasLogScale": false,
            "id": "stress_curl_dv",
            "logScale": false,
            "missingValue": -2147483647,
            "name": {
             "en": "Difference of scatterometer and model variances of curl of surface wind stress"
            },
            "offset": 0,
            "scale": 1e-15,
            "standardName": "vertical_component_of_surface_downward_stress_curl_difference_of_variances",
            "type": "data",
            "unit": "N2 m-6",
            "unitConversion": null,
            "valueClamp": true,
            "valueColor": false,
            "valueDiffMax": 3.1755000000000004e-12,
            "valueDiffRelMax": 25,
            "valueMax": 5.266e-12,
            "valueMin": -1.0850000000000001e-12
           },
           "stress_divergence": {
            "abbreviation": "stress_divergence",
            "colormapDiffId": "balance",
            "colormapDiffInvert": false,
            "colormapId": "viridis",
            "colormapInvert": false,
            "dimensions": [
             "time",
             "latitude",
             "longitude"
            ],
            "hasLogScale": false,
            "id": "stress_divergence",
            "logScale": false,
            "missingValue": -2147483647,
            "name": {
             "en": "Divergence of surface wind stress"
            },
            "offset": 0,
            "scale": 1e-10,
            "standardName": "divergence_of_surface_downward_stress",
            "type": "data",
            "unit": "N m-3",
            "unitConversion": null,
            "valueClamp": true,
            "valueColor": false,
            "valueDiffMax": 2.0739629999999886e-06,
            "valueDiffRelMax": 25,
            "valueMax": 1.9623259999999777e-06,
            "valueMin": -2.1856e-06
           },
           "stress_divergence_bias": {
            "abbreviation": "stress_divergence_bias",
            "colormapDiffId": "balance",
            "colormapDiffInvert": false,
            "colormapId": "balance",
            "colormapInvert": false,
            "dimensions": [
             "time",
             "latitude",
             "longitude"
            ],
            "hasLogScale": false,
            "id": "stress_divergence_bias",
            "logScale": false,
            "missingValue": -2147483647,
            "name": {
             "en": "Scatterometer-model bias of divergence of surface wind stress"
            },
            "offset": 0,
            "scale": 1e-10,
            "standardName": "divergence_of_surface_downward_stress_bias",
            "type": "data",
            "unit": "N m-3",
            "unitConversion": null,
            "valueClamp": true,
            "valueColor": false,
            "valueDiffMax": 4.885000000000001e-07,
            "valueDiffRelMax": 25,
            "valueMax": 4.885000000000001e-07,
            "valueMin": -4.885000000000001e-07
           },
           "stress_divergence_dv": {
            "abbreviation": "stress_divergence_dv",
            "colormapDiffId": "balance",
            "colormapDiffInvert": false,
            "colormapId": "viridis",
            "colormapInvert": false,
            "dimensions": [
             "time",
             "latitude",
             "longitude"
            ],
            "hasLogScale": false,
            "id": "stress_divergence_dv",
            "logScale": false,
            "missingValue": -2147483647,
            "name": {
             "en": "Difference of scatterometer and model variances of divergence of surface wind stress"
            },
            "offset": 0,
            "scale": 1e-15,
            "standardName": "divergence_of_surface_downward_stress_difference_of_variances",
            "type": "data",
            "unit": "N2 m-6",
            "unitConversion": null,
            "valueClamp": true,
            "valueColor": false,
            "valueDiffMax": 2.2560000000000005e-12,
            "valueDiffRelMax": 25,
            "valueMax": 4.463000000000001e-12,
            "valueMin": -4.9000000000000006e-14
           },
           "wind_curl": {
            "abbreviation": "wind_curl",
            "colormapDiffId": "balance",
            "colormapDiffInvert": false,
            "colormapId": "viridis",
            "colormapInvert": false,
            "dimensions": [
             "time",
             "latitude",
             "longitude"
            ],
            "hasLogScale": false,
            "id": "wind_curl",
            "logScale": false,
            "missingValue": -2147483647,
            "name": {
             "en": "Curl of stress-equivalent wind at 10 m"
            },
            "offset": 0,
            "scale": 1e-07,
            "standardName": "atmosphere_relative_vorticity",
            "type": "data",
            "unit": "s-1",
            "unitConversion": null,
            "valueClamp": true,
            "valueColor": false,
            "valueDiffMax": 8.955e-05,
            "valueDiffRelMax": 25,
            "valueMax": 8.68e-05,
            "valueMin": -9.23e-05
           },
           "wind_curl_bias": {
            "abbreviation": "wind_curl_bias",
            "colormapDiffId": "balance",
            "colormapDiffInvert": false,
            "colormapId": "balance",
            "colormapInvert": false,
            "dimensions": [
             "time",
             "latitude",
             "longitude"
            ],
            "hasLogScale": false,
            "id": "wind_curl_bias",
            "logScale": false,
            "missingValue": -2147483647,
            "name": {
             "en": "Scatterometer-model bias of curl of stress-equivalent wind at 10 m"
            },
            "offset": 0,
            "scale": 1e-07,
            "standardName": "atmosphere_relative_vorticity_bias",
            "type": "data",
            "unit": "s-1",
            "unitConversion": null,
            "valueClamp": true,
            "valueColor": false,
            "valueDiffMax": 1.82e-05,
            "valueDiffRelMax": 25,
            "valueMax": 1.82e-05,
            "valueMin": -1.82e-05
           },
           "wind_curl_dv": {
            "abbreviation": "wind_curl_dv",
            "colormapDiffId": "balance",
            "colormapDiffInvert": false,
            "colormapId": "viridis",
            "colormapInvert": false,
            "dimensions": [
             "time",
             "latitude",
             "longitude"
            ],
            "hasLogScale": false,
            "id": "wind_curl_dv",
            "logScale": false,
            "missingValue": -2147483647,
            "name": {
             "en": "Difference of scatterometer and model variances of curl of stress-equivalent wind at 10 m"
            },
            "offset": 0,
            "scale": 1e-11,
            "standardName": "atmosphere_relative_vorticity_difference_of_variances",
            "type": "data",
            "unit": "s-2",
            "unitConversion": null,
            "valueClamp": true,
            "valueColor": false,
            "valueDiffMax": 3.5999999999999996e-09,
            "valueDiffRelMax": 25,
            "valueMax": 6.399999999999999e-09,
            "valueMin": -7.999999999999999e-10
           },
           "wind_divergence": {
            "abbreviation": "wind_divergence",
            "colormapDiffId": "balance",
            "colormapDiffInvert": false,
            "colormapId": "viridis",
            "colormapInvert": false,
            "dimensions": [
             "time",
             "latitude",
             "longitude"
            ],
            "hasLogScale": false,
            "id": "wind_divergence",
            "logScale": false,
            "missingValue": -2147483647,
            "name": {
             "en": "Divergence of stress-equivalent wind at 10 m"
            },
            "offset": 0,
            "scale": 1e-07,
            "standardName": "divergence_of_wind",
            "type": "data",
            "unit": "s-1",
            "unitConversion": null,
            "valueClamp": true,
            "valueColor": false,
            "valueDiffMax": 0.00010284999999999999,
            "valueDiffRelMax": 25,
            "valueMax": 9.63e-05,
            "valueMin": -0.00010939999999999999
           },
           "wind_divergence_bias": {
            "abbreviation": "wind_divergence_bias",
            "colormapDiffId": "balance",
            "colormapDiffInvert": false,
            "colormapId": "balance",
            "colormapInvert": false,
            "dimensions": [
             "time",
             "latitude",
             "longitude"
            ],
            "hasLogScale": false,
            "id": "wind_divergence_bias",
            "logScale": false,
            "missingValue": -2147483647,
            "name": {
             "en": "Scatterometer-model bias of divergence of stress-equivalent wind at 10 m"
            },
            "offset": 0,
            "scale": 1e-07,
            "standardName": "divergence_of_wind_bias",
            "type": "data",
            "unit": "s-1",
            "unitConversion": null,
            "valueClamp": true,
            "valueColor": false,
            "valueDiffMax": 2.09e-05,
            "valueDiffRelMax": 25,
            "valueMax": 2.09e-05,
            "valueMin": -2.09e-05
           },
           "wind_divergence_dv": {
            "abbreviation": "wind_divergence_dv",
            "colormapDiffId": "balance",
            "colormapDiffInvert": false,
            "colormapId": "viridis",
            "colormapInvert": false,
            "dimensions": [
             "time",
             "latitude",
             "longitude"
            ],
            "hasLogScale": true,
            "id": "wind_divergence_dv",
            "logScale": false,
            "missingValue": -2147483647,
            "name": {
             "en": "Difference of scatterometer and model variances of divergence of stress-equivalent wind at 10 m"
            },
            "offset": 0,
            "scale": 1e-11,
            "standardName": "divergence_of_wind_difference_of_variances",
            "type": "data",
            "unit": "s-2",
            "unitConversion": null,
            "valueClamp": true,
            "valueColor": false,
            "valueDiffMax": 3.3099999999999995e-09,
            "valueDiffRelMax": 25,
            "valueMax": 6.849999999999999e-09,
            "valueMin": 2.2999999999999998e-10
           }
          },
          "datetime": "2024-05-31T00:00:00Z",
          "end_datetime": "2024-05-31T00:00:00Z",
          "instruments": [
           "ASCAT, ASCAT"
          ],
          "license": "proprietary",
          "order:status": "",
          "processing:level": "Level 4",
          "providers": [
           {
            "description": "Copernicus Marine Data Store",
            "name": "cop_marine",
            "priority": 0,
            "roles": [
             "host"
            ],
            "url": "https://marine.copernicus.eu/"
           }
          ],
          "start_datetime": "2024-05-31T00:00:00Z"
         },
         "stac_extensions": [
          "https://stac-extensions.github.io/processing/v1.0.0/schema.json",
          "https://stac-extensions.github.io/order/v1.1.0/schema.json"
         ],
         "stac_version": "1.0.0",
         "type": "Feature"
        },
        {
         "assets": {
          "downloadLink": {
           "alternate": {
            "origin": {
             "href": "https://s3.waw3-1.cloudferro.com/mdl-native-04/native/WIND_GLO_PHY_L4_NRT_012_004/cmems_obs-wind_glo_phy_nrt_l4_0.125deg_PT1H_202207/2024/05/cmems_obs-wind_glo_phy_nrt_l4_0.125deg_PT1H_2024053110_R20240531T00_10.nc",
             "title": "Origin asset link"
            }
           },
           "href": "https://hda.data.destination-earth.eu/stac/collections/EO.MO.DAT.WIND_GLO_PHY_L4_NRT_012_004/items/cmems_obs-wind_glo_phy_nrt_l4_0/download?provider=cop_marine",
           "title": "Download link",
           "type": "application/zip"
          },
          "native": {
           "alternate": {
            "origin": {
             "href": "https://s3.waw3-1.cloudferro.com/mdl-native-04/native/WIND_GLO_PHY_L4_NRT_012_004/cmems_obs-wind_glo_phy_nrt_l4_0.125deg_PT1H_202207/2024/05/cmems_obs-wind_glo_phy_nrt_l4_0.125deg_PT1H_2024053110_R20240531T00_10.nc",
             "title": "Origin asset link",
             "type": "application/x-netcdf"
            }
           },
           "href": "https://hda.data.destination-earth.eu/stac/collections/EO.MO.DAT.WIND_GLO_PHY_L4_NRT_012_004/items/cmems_obs-wind_glo_phy_nrt_l4_0/download/native?provider=cop_marine",
           "title": "native",
           "type": "application/x-netcdf"
          },
          "thumbnail": {
           "href": "https://mdl-metadata.s3.waw3-1.cloudferro.com/metadata/thumbnails/WIND_GLO_PHY_L4_NRT_012_004.jpg",
           "role": "thumbnail",
           "title": "Thumbnail",
           "type": "image/jpeg"
          }
         },
         "bbox": [
          -180,
          -90,
          180,
          90
         ],
         "collection": "EO.MO.DAT.WIND_GLO_PHY_L4_NRT_012_004",
         "geometry": {
          "coordinates": [
           [
            [
             180,
             -90
            ],
            [
             180,
             90
            ],
            [
             -180,
             90
            ],
            [
             -180,
             -90
            ],
            [
             180,
             -90
            ]
           ]
          ],
          "type": "Polygon"
         },
         "id": "cmems_obs-wind_glo_phy_nrt_l4_0",
         "links": [
          {
           "href": "https://hda.data.destination-earth.eu/stac/collections/EO.MO.DAT.WIND_GLO_PHY_L4_NRT_012_004/items/cmems_obs-wind_glo_phy_nrt_l4_0",
           "rel": "self",
           "title": "cmems_obs-wind_glo_phy_nrt_l4_0"
          },
          {
           "href": "https://hda.data.destination-earth.eu/stac/",
           "rel": "root"
          },
          {
           "href": "https://hda.data.destination-earth.eu/stac/collections/EO.MO.DAT.WIND_GLO_PHY_L4_NRT_012_004",
           "rel": "parent",
           "title": "EO.MO.DAT.WIND_GLO_PHY_L4_NRT_012_004"
          },
          {
           "href": "https://hda.data.destination-earth.eu/stac/collections/EO.MO.DAT.WIND_GLO_PHY_L4_NRT_012_004",
           "rel": "collection",
           "title": "EO.MO.DAT.WIND_GLO_PHY_L4_NRT_012_004"
          }
         ],
         "properties": {
          "constellation": "Metop-B, Metop-C",
          "cop_marine:Conventions": "CF-1.6, ACDD-1.3",
          "cop_marine:admp_in_preparation": false,
          "cop_marine:admp_updated": "2024-09-18T10:37:03.450397Z",
          "cop_marine:admp_valid_start_date": "2022-03-11T12:00:00.000000000Z",
          "cop_marine:admp_valid_start_index": 14844,
          "cop_marine:allVariables": [
           "Eastward wind (WIND)",
           "Northward wind (WIND)",
           "Surface downward eastward stress (WIND)",
           "Surface downward northward stress (WIND)",
           "Stress curl (WIND)",
           "Stress divergence (WIND)",
           "Air density (WIND)",
           "Wind curl (WIND)",
           "Wind divergence (WIND)"
          ],
          "cop_marine:altId": "63ee69f1-2628-43aa-9b22-b21749d160ba",
          "cop_marine:areas": [
           "Global Ocean"
          ],
          "cop_marine:assimilatedData": [],
          "cop_marine:colors": [
           "Blue Ocean"
          ],
          "cop_marine:communities": [
           "Policy & governance",
           "Science & innovation",
           "Extremes, hazards & safety",
           "Coastal services",
           "Natural resources & energy",
           "Trade & marine navigation"
          ],
          "cop_marine:contacts": [
           {
            "email": "scat@knmi.nl",
            "name": "Service Desk KNMI",
            "organisationName": "SIW-KNMI-DEBILT-NL",
            "responsiblePartyRole": "pointOfContact"
           },
           {
            "email": "ad.stoffelen@knmi.nl",
            "name": "Ad STOFFELEN",
            "organisationName": "SIW-KNMI-DEBILT-NL",
            "responsiblePartyRole": "custodian"
           },
           {
            "email": "rianne.giesen@knmi.nl",
            "name": "Rianne GIESEN",
            "organisationName": "SIW-KNMI-DEBILT-NL",
            "responsiblePartyRole": "originator"
           },
           {
            "email": "scat@knmi.nl",
            "name": "Anton VERHOEF",
            "organisationName": "SIW-KNMI-DEBILT-NL",
            "responsiblePartyRole": "resourceProvider"
           },
           {
            "email": "scat@knmi.nl",
            "name": "Service Desk KNMI",
            "organisationName": "SIW-KNMI-DEBILT-NL",
            "responsiblePartyRole": "distributor"
           }
          ],
          "cop_marine:crs": "EPSG:4326",
          "cop_marine:dataset": "cmems_obs-wind_glo_phy_nrt_l4_0.125deg_PT1H_202207",
          "cop_marine:date_created": "2022-06-23T01:30:26",
          "cop_marine:date_modified": "2022-06-23T01:30:26",
          "cop_marine:directives": [],
          "cop_marine:featureTypes": [
           "Grid"
          ],
          "cop_marine:formats": [
           "NetCDF-4"
          ],
          "cop_marine:geoExtent": {
           "coordinates": [
            [
             -180,
             90
            ],
            [
             180,
             -90
            ]
           ],
           "type": "envelope"
          },
          "cop_marine:geoResolution": {
           "column": {
            "magnitude": 0.125,
            "units": "degree"
           },
           "row": {
            "magnitude": 0.125,
            "units": "degree"
           }
          },
          "cop_marine:geospatial_lat_max": 89.9375,
          "cop_marine:geospatial_lat_min": -89.9375,
          "cop_marine:geospatial_lat_resolution": 0.125,
          "cop_marine:geospatial_lat_units": "degrees_north",
          "cop_marine:geospatial_lon_max": 179.9375,
          "cop_marine:geospatial_lon_min": -179.9375,
          "cop_marine:geospatial_lon_resolution": 0.125,
          "cop_marine:geospatial_lon_units": "degrees_east",
          "cop_marine:history": "N/A",
          "cop_marine:indicatorFamilies": [],
          "cop_marine:institution": "Royal Netherlands Meteorological Institute (KNMI)",
          "cop_marine:instrument_vocabulary": "CEOS",
          "cop_marine:isStaging": false,
          "cop_marine:mainVariables": [
           "Wind"
          ],
          "cop_marine:model": "ECMWF Operational model",
          "cop_marine:modifiedDate": "2024-06-18",
          "cop_marine:platform_vocabulary": "CEOS",
          "cop_marine:processing_level": "L4",
          "cop_marine:project": "Copernicus Marine Service Wind Thematic Assembly Centre",
          "cop_marine:projection": "WGS 84 (EPSG:4326)",
          "cop_marine:providerMetadata": {
           "source": "cmems",
           "type": "csw",
           "url": "https://cmems-catalog-ro.cls.fr/geonetwork/srv/eng/csw-MYOCEAN-CORE-PRODUCTS?service=CSW&version=2.0.2&request=GetRecordById&id=63ee69f1-2628-43aa-9b22-b21749d160ba&elementsetname=full&outputSchema=http://www.isotc211.org/2005/gmd"
          },
          "cop_marine:rank": 14000,
          "cop_marine:references": "Copernicus Marine Service Product User Manual CMEMS-TAC-WIND-PUM-012-004, Trindade et al. (2020) doi:10.1109/TGRS.2019.2946019",
          "cop_marine:sources": [
           "Numerical models",
           "Satellite observations"
          ],
          "cop_marine:summary": "Global ocean 10-m stress-equivalent wind and surface wind stress fields based on the ECMWF operational model winds, bias-corrected using scatterometer observations",
          "cop_marine:tempExtentBegin": "",
          "cop_marine:tempResolutions": [
           "Hourly"
          ],
          "cop_marine:thumbnailMeta": {
           "basemapId": "dark",
           "colormapId": "speed",
           "colormapInvert": false,
           "creationDate": "2023-06-18T06:37:19.450Z",
           "crs": "epsg:4326",
           "elevation": null,
           "layerId": "WIND_GLO_PHY_L4_NRT_012_004/cmems_obs-wind_glo_phy_nrt_l4_0.125deg_PT1H_202207/wind",
           "logScale": false,
           "overlays": {
            "tags": [
             {
              "name": "Wind"
             }
            ]
           },
           "style": "default",
           "time": 1593561600000,
           "valueClamp": true,
           "valueMax": 37.04999828338623,
           "valueMin": 0
          },
          "cop_marine:time_coverage_end": "2020-07-01T00:00:00",
          "cop_marine:time_coverage_start": "2020-07-01T00:00:00",
          "cop_marine:times": [
           "Present",
           "Past"
          ],
          "cop_marine:updateFrequencies": {
           "daily": "15:00"
          },
          "cop_marine:useCases": [],
          "cop_marine:vertExtentMax": 0,
          "cop_marine:vertExtentMin": 0,
          "created": "2012-08-26",
          "cube:dimensions": {
           "latitude": {
            "axis": "y",
            "extent": [
             -89.9375,
             89.9375
            ],
            "reference_system": 4326,
            "step": 0.125,
            "type": "spatial"
           },
           "longitude": {
            "axis": "x",
            "extent": [
             -179.9375,
             179.9375
            ],
            "reference_system": 4326,
            "step": 0.125,
            "type": "spatial"
           },
           "time": {
            "extent": [
             "2020-07-01T00:00:00Z",
             "2024-09-17T23:00:00Z"
            ],
            "step": "PT1H",
            "type": "temporal"
           }
          },
          "cube:variables": {
           "air_density": {
            "abbreviation": "air_density",
            "colormapDiffId": "balance",
            "colormapDiffInvert": false,
            "colormapId": "viridis",
            "colormapInvert": false,
            "dimensions": [
             "time",
             "latitude",
             "longitude"
            ],
            "hasLogScale": true,
            "id": "air_density",
            "logScale": false,
            "missingValue": -32767,
            "name": {
             "en": "Air density at 10 m"
            },
            "offset": 0,
            "scale": 0.001,
            "standardName": "air_density",
            "type": "data",
            "unit": "kg m-3",
            "unitConversion": null,
            "valueClamp": true,
            "valueColor": false,
            "valueDiffMax": 0.2080000638961792,
            "valueDiffRelMax": 25,
            "valueMax": 1.5690001249313354,
            "valueMin": 1.152999997138977
           },
           "eastward_stress": {
            "abbreviation": "eastward_stress",
            "colormapDiffId": "balance",
            "colormapDiffInvert": false,
            "colormapId": "balance",
            "colormapInvert": false,
            "dimensions": [
             "time",
             "latitude",
             "longitude"
            ],
            "hasLogScale": false,
            "id": "eastward_stress",
            "logScale": false,
            "missingValue": -2147483647,
            "name": {
             "en": "Surface wind stress eastward component"
            },
            "offset": 0,
            "scale": 0.01,
            "standardName": "surface_downward_eastward_stress",
            "type": "data",
            "unit": "N m-2",
            "unitConversion": null,
            "valueClamp": true,
            "valueColor": false,
            "valueDiffMax": 1.53,
            "valueDiffRelMax": 25,
            "valueMax": 1.53,
            "valueMin": -1.53
           },
           "eastward_stress_bias": {
            "abbreviation": "eastward_stress_bias",
            "colormapDiffId": "balance",
            "colormapDiffInvert": false,
            "colormapId": "balance",
            "colormapInvert": false,
            "dimensions": [
             "time",
             "latitude",
             "longitude"
            ],
            "hasLogScale": false,
            "id": "eastward_stress_bias",
            "logScale": false,
            "missingValue": -2147483647,
            "name": {
             "en": "Scatterometer-model bias of surface wind stress eastward component"
            },
            "offset": 0,
            "scale": 0.01,
            "standardName": "surface_downward_eastward_stress_bias",
            "type": "data",
            "unit": "N m-2",
            "unitConversion": null,
            "valueClamp": true,
            "valueColor": false,
            "valueDiffMax": 0.03,
            "valueDiffRelMax": 25,
            "valueMax": 0.03,
            "valueMin": -0.03
           },
           "eastward_stress_sdd": {
            "abbreviation": "eastward_stress_sdd",
            "colormapDiffId": "balance",
            "colormapDiffInvert": false,
            "colormapId": "viridis",
            "colormapInvert": false,
            "dimensions": [
             "time",
             "latitude",
             "longitude"
            ],
            "hasLogScale": true,
            "id": "eastward_stress_sdd",
            "logScale": false,
            "missingValue": -2147483647,
            "name": {
             "en": "Standard deviation of differences of surface wind stress eastward component"
            },
            "offset": 0,
            "scale": 0.01,
            "standardName": "surface_downward_eastward_stress_standard_deviation_of_differences",
            "type": "data",
            "unit": "N m-2",
            "unitConversion": null,
            "valueClamp": true,
            "valueColor": false,
            "valueDiffMax": 0.035,
            "valueDiffRelMax": 25,
            "valueMax": 0.08,
            "valueMin": 0.01
           },
           "eastward_wind": {
            "abbreviation": "eastward_wind",
            "colormapDiffId": "balance",
            "colormapDiffInvert": false,
            "colormapId": "balance",
            "colormapInvert": false,
            "dimensions": [
             "time",
             "latitude",
             "longitude"
            ],
            "hasLogScale": false,
            "id": "eastward_wind",
            "logScale": false,
            "missingValue": -32767,
            "name": {
             "en": "Stress-equivalent wind eastward component at 10 m"
            },
            "offset": 0,
            "scale": 0.01,
            "standardName": "eastward_wind",
            "type": "data",
            "unit": "m s-1",
            "unitConversion": null,
            "valueClamp": true,
            "valueColor": false,
            "valueDiffMax": 37.04999828338623,
            "valueDiffRelMax": 25,
            "valueMax": 37.04999828338623,
            "valueMin": -37.04999828338623
           },
           "eastward_wind_bias": {
            "abbreviation": "eastward_wind_bias",
            "colormapDiffId": "balance",
            "colormapDiffInvert": false,
            "colormapId": "balance",
            "colormapInvert": false,
            "dimensions": [
             "time",
             "latitude",
             "longitude"
            ],
            "hasLogScale": false,
            "id": "eastward_wind_bias",
            "logScale": false,
            "missingValue": -32767,
            "name": {
             "en": "Scatterometer-model bias of stress-equivalent wind eastward component at 10 m"
            },
            "offset": 0,
            "scale": 0.01,
            "standardName": "eastward_wind_bias",
            "type": "data",
            "unit": "m s-1",
            "unitConversion": null,
            "valueClamp": true,
            "valueColor": false,
            "valueDiffMax": 0.9300000071525574,
            "valueDiffRelMax": 25,
            "valueMax": 0.9300000071525574,
            "valueMin": -0.9300000071525574
           },
           "eastward_wind_sdd": {
            "abbreviation": "eastward_wind_sdd",
            "colormapDiffId": "balance",
            "colormapDiffInvert": false,
            "colormapId": "viridis",
            "colormapInvert": false,
            "dimensions": [
             "time",
             "latitude",
             "longitude"
            ],
            "hasLogScale": true,
            "id": "eastward_wind_sdd",
            "logScale": false,
            "missingValue": -32767,
            "name": {
             "en": "Standard deviation of differences of stress-equivalent wind eastward component at 10 m"
            },
            "offset": 0,
            "scale": 0.01,
            "standardName": "eastward_wind_standard_deviation_of_differences",
            "type": "data",
            "unit": "m s-1",
            "unitConversion": null,
            "valueClamp": true,
            "valueColor": false,
            "valueDiffMax": 0.8099999129772186,
            "valueDiffRelMax": 25,
            "valueMax": 2.169999837875366,
            "valueMin": 0.550000011920929
           },
           "northward_stress": {
            "abbreviation": "northward_stress",
            "colormapDiffId": "balance",
            "colormapDiffInvert": false,
            "colormapId": "balance",
            "colormapInvert": false,
            "dimensions": [
             "time",
             "latitude",
             "longitude"
            ],
            "hasLogScale": false,
            "id": "northward_stress",
            "logScale": false,
            "missingValue": -2147483647,
            "name": {
             "en": "Surface wind stress northward component"
            },
            "offset": 0,
            "scale": 0.01,
            "standardName": "surface_downward_northward_stress",
            "type": "data",
            "unit": "N m-2",
            "unitConversion": null,
            "valueClamp": true,
            "valueColor": false,
            "valueDiffMax": 1.53,
            "valueDiffRelMax": 25,
            "valueMax": 1.53,
            "valueMin": -1.53
           },
           "northward_stress_bias": {
            "abbreviation": "northward_stress_bias",
            "colormapDiffId": "balance",
            "colormapDiffInvert": false,
            "colormapId": "balance",
            "colormapInvert": false,
            "dimensions": [
             "time",
             "latitude",
             "longitude"
            ],
            "hasLogScale": false,
            "id": "northward_stress_bias",
            "logScale": false,
            "missingValue": -2147483647,
            "name": {
             "en": "Scatterometer-model bias of surface wind stress northward component"
            },
            "offset": 0,
            "scale": 0.01,
            "standardName": "surface_downward_northward_stress_bias",
            "type": "data",
            "unit": "N m-2",
            "unitConversion": null,
            "valueClamp": true,
            "valueColor": false,
            "valueDiffMax": 0.02,
            "valueDiffRelMax": 25,
            "valueMax": 0.02,
            "valueMin": -0.02
           },
           "northward_stress_sdd": {
            "abbreviation": "northward_stress_sdd",
            "colormapDiffId": "balance",
            "colormapDiffInvert": false,
            "colormapId": "viridis",
            "colormapInvert": false,
            "dimensions": [
             "time",
             "latitude",
             "longitude"
            ],
            "hasLogScale": true,
            "id": "northward_stress_sdd",
            "logScale": false,
            "missingValue": -2147483647,
            "name": {
             "en": "Standard deviation of differences of surface wind stress northward component"
            },
            "offset": 0,
            "scale": 0.01,
            "standardName": "surface_downward_northward_stress_standard_deviation_of_differences",
            "type": "data",
            "unit": "N m-2",
            "unitConversion": null,
            "valueClamp": true,
            "valueColor": false,
            "valueDiffMax": 0.030000000000000002,
            "valueDiffRelMax": 25,
            "valueMax": 0.07,
            "valueMin": 0.01
           },
           "northward_wind": {
            "abbreviation": "northward_wind",
            "colormapDiffId": "balance",
            "colormapDiffInvert": false,
            "colormapId": "balance",
            "colormapInvert": false,
            "dimensions": [
             "time",
             "latitude",
             "longitude"
            ],
            "hasLogScale": false,
            "id": "northward_wind",
            "logScale": false,
            "missingValue": -32767,
            "name": {
             "en": "Stress-equivalent wind northward component at 10 m"
            },
            "offset": 0,
            "scale": 0.01,
            "standardName": "northward_wind",
            "type": "data",
            "unit": "m s-1",
            "unitConversion": null,
            "valueClamp": true,
            "valueColor": false,
            "valueDiffMax": 37.04999828338623,
            "valueDiffRelMax": 25,
            "valueMax": 37.04999828338623,
            "valueMin": -37.04999828338623
           },
           "northward_wind_bias": {
            "abbreviation": "northward_wind_bias",
            "colormapDiffId": "balance",
            "colormapDiffInvert": false,
            "colormapId": "balance",
            "colormapInvert": false,
            "dimensions": [
             "time",
             "latitude",
             "longitude"
            ],
            "hasLogScale": false,
            "id": "northward_wind_bias",
            "logScale": false,
            "missingValue": -32767,
            "name": {
             "en": "Scatterometer-model bias of stress-equivalent wind northward component at 10 m"
            },
            "offset": 0,
            "scale": 0.01,
            "standardName": "northward_wind_bias",
            "type": "data",
            "unit": "m s-1",
            "unitConversion": null,
            "valueClamp": true,
            "valueColor": false,
            "valueDiffMax": 0.8399999737739563,
            "valueDiffRelMax": 25,
            "valueMax": 0.8399999737739563,
            "valueMin": -0.8399999737739563
           },
           "northward_wind_sdd": {
            "abbreviation": "northward_wind_sdd",
            "colormapDiffId": "balance",
            "colormapDiffInvert": false,
            "colormapId": "viridis",
            "colormapInvert": false,
            "dimensions": [
             "time",
             "latitude",
             "longitude"
            ],
            "hasLogScale": true,
            "id": "northward_wind_sdd",
            "logScale": false,
            "missingValue": -32767,
            "name": {
             "en": "Standard deviation of differences of stress-equivalent wind northward component at 10 m"
            },
            "offset": 0,
            "scale": 0.01,
            "standardName": "northward_wind_standard_deviation_of_differences",
            "type": "data",
            "unit": "m s-1",
            "unitConversion": null,
            "valueClamp": true,
            "valueColor": false,
            "valueDiffMax": 0.8549999296665192,
            "valueDiffRelMax": 25,
            "valueMax": 2.3899998664855957,
            "valueMin": 0.6800000071525574
           },
           "number_of_observations": {
            "abbreviation": "number_of_observations",
            "colormapDiffId": "balance",
            "colormapDiffInvert": false,
            "colormapId": "viridis",
            "colormapInvert": false,
            "dimensions": [
             "time",
             "latitude",
             "longitude"
            ],
            "hasLogScale": true,
            "id": "number_of_observations",
            "logScale": false,
            "missingValue": -32767,
            "name": {
             "en": "Number of observations used for scatterometer-model bias"
            },
            "offset": null,
            "scale": null,
            "standardName": "number_of_observations",
            "type": "data",
            "unit": 1,
            "unitConversion": null,
            "valueClamp": true,
            "valueColor": false,
            "valueDiffMax": 21,
            "valueDiffRelMax": 25,
            "valueMax": 69,
            "valueMin": 27
           },
           "number_of_observations_divcurl": {
            "abbreviation": "number_of_observations_divcurl",
            "colormapDiffId": "balance",
            "colormapDiffInvert": false,
            "colormapId": "viridis",
            "colormapInvert": false,
            "dimensions": [
             "time",
             "latitude",
             "longitude"
            ],
            "hasLogScale": true,
            "id": "number_of_observations_divcurl",
            "logScale": false,
            "missingValue": -32767,
            "name": {
             "en": "Number of observations used for scatterometer-model divergence and curl bias"
            },
            "offset": null,
            "scale": null,
            "standardName": "number_of_observations",
            "type": "data",
            "unit": 1,
            "unitConversion": null,
            "valueClamp": true,
            "valueColor": false,
            "valueDiffMax": 27.5,
            "valueDiffRelMax": 25,
            "valueMax": 65,
            "valueMin": 10
           },
           "stress_curl": {
            "abbreviation": "stress_curl",
            "colormapDiffId": "balance",
            "colormapDiffInvert": false,
            "colormapId": "viridis",
            "colormapInvert": false,
            "dimensions": [
             "time",
             "latitude",
             "longitude"
            ],
            "hasLogScale": false,
            "id": "stress_curl",
            "logScale": false,
            "missingValue": -2147483647,
            "name": {
             "en": "Curl of surface wind stress"
            },
            "offset": 0,
            "scale": 1e-10,
            "standardName": "vertical_component_of_surface_downward_stress_curl",
            "type": "data",
            "unit": "N m-3",
            "unitConversion": null,
            "valueClamp": true,
            "valueColor": false,
            "valueDiffMax": 2.3519000000000003e-06,
            "valueDiffRelMax": 25,
            "valueMax": 2.1812e-06,
            "valueMin": -2.5226e-06
           },
           "stress_curl_bias": {
            "abbreviation": "stress_curl_bias",
            "colormapDiffId": "balance",
            "colormapDiffInvert": false,
            "colormapId": "balance",
            "colormapInvert": false,
            "dimensions": [
             "time",
             "latitude",
             "longitude"
            ],
            "hasLogScale": false,
            "id": "stress_curl_bias",
            "logScale": false,
            "missingValue": -2147483647,
            "name": {
             "en": "Scatterometer-model bias of curl of surface wind stress"
            },
            "offset": 0,
            "scale": 1e-10,
            "standardName": "vertical_component_of_surface_downward_stress_curl_bias",
            "type": "data",
            "unit": "N m-3",
            "unitConversion": null,
            "valueClamp": true,
            "valueColor": false,
            "valueDiffMax": 5.091e-07,
            "valueDiffRelMax": 25,
            "valueMax": 5.091e-07,
            "valueMin": -5.091e-07
           },
           "stress_curl_dv": {
            "abbreviation": "stress_curl_dv",
            "colormapDiffId": "balance",
            "colormapDiffInvert": false,
            "colormapId": "viridis",
            "colormapInvert": false,
            "dimensions": [
             "time",
             "latitude",
             "longitude"
            ],
            "hasLogScale": false,
            "id": "stress_curl_dv",
            "logScale": false,
            "missingValue": -2147483647,
            "name": {
             "en": "Difference of scatterometer and model variances of curl of surface wind stress"
            },
            "offset": 0,
            "scale": 1e-15,
            "standardName": "vertical_component_of_surface_downward_stress_curl_difference_of_variances",
            "type": "data",
            "unit": "N2 m-6",
            "unitConversion": null,
            "valueClamp": true,
            "valueColor": false,
            "valueDiffMax": 3.1755000000000004e-12,
            "valueDiffRelMax": 25,
            "valueMax": 5.266e-12,
            "valueMin": -1.0850000000000001e-12
           },
           "stress_divergence": {
            "abbreviation": "stress_divergence",
            "colormapDiffId": "balance",
            "colormapDiffInvert": false,
            "colormapId": "viridis",
            "colormapInvert": false,
            "dimensions": [
             "time",
             "latitude",
             "longitude"
            ],
            "hasLogScale": false,
            "id": "stress_divergence",
            "logScale": false,
            "missingValue": -2147483647,
            "name": {
             "en": "Divergence of surface wind stress"
            },
            "offset": 0,
            "scale": 1e-10,
            "standardName": "divergence_of_surface_downward_stress",
            "type": "data",
            "unit": "N m-3",
            "unitConversion": null,
            "valueClamp": true,
            "valueColor": false,
            "valueDiffMax": 2.0739629999999886e-06,
            "valueDiffRelMax": 25,
            "valueMax": 1.9623259999999777e-06,
            "valueMin": -2.1856e-06
           },
           "stress_divergence_bias": {
            "abbreviation": "stress_divergence_bias",
            "colormapDiffId": "balance",
            "colormapDiffInvert": false,
            "colormapId": "balance",
            "colormapInvert": false,
            "dimensions": [
             "time",
             "latitude",
             "longitude"
            ],
            "hasLogScale": false,
            "id": "stress_divergence_bias",
            "logScale": false,
            "missingValue": -2147483647,
            "name": {
             "en": "Scatterometer-model bias of divergence of surface wind stress"
            },
            "offset": 0,
            "scale": 1e-10,
            "standardName": "divergence_of_surface_downward_stress_bias",
            "type": "data",
            "unit": "N m-3",
            "unitConversion": null,
            "valueClamp": true,
            "valueColor": false,
            "valueDiffMax": 4.885000000000001e-07,
            "valueDiffRelMax": 25,
            "valueMax": 4.885000000000001e-07,
            "valueMin": -4.885000000000001e-07
           },
           "stress_divergence_dv": {
            "abbreviation": "stress_divergence_dv",
            "colormapDiffId": "balance",
            "colormapDiffInvert": false,
            "colormapId": "viridis",
            "colormapInvert": false,
            "dimensions": [
             "time",
             "latitude",
             "longitude"
            ],
            "hasLogScale": false,
            "id": "stress_divergence_dv",
            "logScale": false,
            "missingValue": -2147483647,
            "name": {
             "en": "Difference of scatterometer and model variances of divergence of surface wind stress"
            },
            "offset": 0,
            "scale": 1e-15,
            "standardName": "divergence_of_surface_downward_stress_difference_of_variances",
            "type": "data",
            "unit": "N2 m-6",
            "unitConversion": null,
            "valueClamp": true,
            "valueColor": false,
            "valueDiffMax": 2.2560000000000005e-12,
            "valueDiffRelMax": 25,
            "valueMax": 4.463000000000001e-12,
            "valueMin": -4.9000000000000006e-14
           },
           "wind_curl": {
            "abbreviation": "wind_curl",
            "colormapDiffId": "balance",
            "colormapDiffInvert": false,
            "colormapId": "viridis",
            "colormapInvert": false,
            "dimensions": [
             "time",
             "latitude",
             "longitude"
            ],
            "hasLogScale": false,
            "id": "wind_curl",
            "logScale": false,
            "missingValue": -2147483647,
            "name": {
             "en": "Curl of stress-equivalent wind at 10 m"
            },
            "offset": 0,
            "scale": 1e-07,
            "standardName": "atmosphere_relative_vorticity",
            "type": "data",
            "unit": "s-1",
            "unitConversion": null,
            "valueClamp": true,
            "valueColor": false,
            "valueDiffMax": 8.955e-05,
            "valueDiffRelMax": 25,
            "valueMax": 8.68e-05,
            "valueMin": -9.23e-05
           },
           "wind_curl_bias": {
            "abbreviation": "wind_curl_bias",
            "colormapDiffId": "balance",
            "colormapDiffInvert": false,
            "colormapId": "balance",
            "colormapInvert": false,
            "dimensions": [
             "time",
             "latitude",
             "longitude"
            ],
            "hasLogScale": false,
            "id": "wind_curl_bias",
            "logScale": false,
            "missingValue": -2147483647,
            "name": {
             "en": "Scatterometer-model bias of curl of stress-equivalent wind at 10 m"
            },
            "offset": 0,
            "scale": 1e-07,
            "standardName": "atmosphere_relative_vorticity_bias",
            "type": "data",
            "unit": "s-1",
            "unitConversion": null,
            "valueClamp": true,
            "valueColor": false,
            "valueDiffMax": 1.82e-05,
            "valueDiffRelMax": 25,
            "valueMax": 1.82e-05,
            "valueMin": -1.82e-05
           },
           "wind_curl_dv": {
            "abbreviation": "wind_curl_dv",
            "colormapDiffId": "balance",
            "colormapDiffInvert": false,
            "colormapId": "viridis",
            "colormapInvert": false,
            "dimensions": [
             "time",
             "latitude",
             "longitude"
            ],
            "hasLogScale": false,
            "id": "wind_curl_dv",
            "logScale": false,
            "missingValue": -2147483647,
            "name": {
             "en": "Difference of scatterometer and model variances of curl of stress-equivalent wind at 10 m"
            },
            "offset": 0,
            "scale": 1e-11,
            "standardName": "atmosphere_relative_vorticity_difference_of_variances",
            "type": "data",
            "unit": "s-2",
            "unitConversion": null,
            "valueClamp": true,
            "valueColor": false,
            "valueDiffMax": 3.5999999999999996e-09,
            "valueDiffRelMax": 25,
            "valueMax": 6.399999999999999e-09,
            "valueMin": -7.999999999999999e-10
           },
           "wind_divergence": {
            "abbreviation": "wind_divergence",
            "colormapDiffId": "balance",
            "colormapDiffInvert": false,
            "colormapId": "viridis",
            "colormapInvert": false,
            "dimensions": [
             "time",
             "latitude",
             "longitude"
            ],
            "hasLogScale": false,
            "id": "wind_divergence",
            "logScale": false,
            "missingValue": -2147483647,
            "name": {
             "en": "Divergence of stress-equivalent wind at 10 m"
            },
            "offset": 0,
            "scale": 1e-07,
            "standardName": "divergence_of_wind",
            "type": "data",
            "unit": "s-1",
            "unitConversion": null,
            "valueClamp": true,
            "valueColor": false,
            "valueDiffMax": 0.00010284999999999999,
            "valueDiffRelMax": 25,
            "valueMax": 9.63e-05,
            "valueMin": -0.00010939999999999999
           },
           "wind_divergence_bias": {
            "abbreviation": "wind_divergence_bias",
            "colormapDiffId": "balance",
            "colormapDiffInvert": false,
            "colormapId": "balance",
            "colormapInvert": false,
            "dimensions": [
             "time",
             "latitude",
             "longitude"
            ],
            "hasLogScale": false,
            "id": "wind_divergence_bias",
            "logScale": false,
            "missingValue": -2147483647,
            "name": {
             "en": "Scatterometer-model bias of divergence of stress-equivalent wind at 10 m"
            },
            "offset": 0,
            "scale": 1e-07,
            "standardName": "divergence_of_wind_bias",
            "type": "data",
            "unit": "s-1",
            "unitConversion": null,
            "valueClamp": true,
            "valueColor": false,
            "valueDiffMax": 2.09e-05,
            "valueDiffRelMax": 25,
            "valueMax": 2.09e-05,
            "valueMin": -2.09e-05
           },
           "wind_divergence_dv": {
            "abbreviation": "wind_divergence_dv",
            "colormapDiffId": "balance",
            "colormapDiffInvert": false,
            "colormapId": "viridis",
            "colormapInvert": false,
            "dimensions": [
             "time",
             "latitude",
             "longitude"
            ],
            "hasLogScale": true,
            "id": "wind_divergence_dv",
            "logScale": false,
            "missingValue": -2147483647,
            "name": {
             "en": "Difference of scatterometer and model variances of divergence of stress-equivalent wind at 10 m"
            },
            "offset": 0,
            "scale": 1e-11,
            "standardName": "divergence_of_wind_difference_of_variances",
            "type": "data",
            "unit": "s-2",
            "unitConversion": null,
            "valueClamp": true,
            "valueColor": false,
            "valueDiffMax": 3.3099999999999995e-09,
            "valueDiffRelMax": 25,
            "valueMax": 6.849999999999999e-09,
            "valueMin": 2.2999999999999998e-10
           }
          },
          "datetime": "2024-05-31T00:00:00Z",
          "end_datetime": "2024-05-31T00:00:00Z",
          "instruments": [
           "ASCAT, ASCAT"
          ],
          "license": "proprietary",
          "order:status": "",
          "processing:level": "Level 4",
          "providers": [
           {
            "description": "Copernicus Marine Data Store",
            "name": "cop_marine",
            "priority": 0,
            "roles": [
             "host"
            ],
            "url": "https://marine.copernicus.eu/"
           }
          ],
          "start_datetime": "2024-05-31T00:00:00Z"
         },
         "stac_extensions": [
          "https://stac-extensions.github.io/processing/v1.0.0/schema.json",
          "https://stac-extensions.github.io/order/v1.1.0/schema.json"
         ],
         "stac_version": "1.0.0",
         "type": "Feature"
        },
        {
         "assets": {
          "downloadLink": {
           "alternate": {
            "origin": {
             "href": "https://s3.waw3-1.cloudferro.com/mdl-native-04/native/WIND_GLO_PHY_L4_NRT_012_004/cmems_obs-wind_glo_phy_nrt_l4_0.125deg_PT1H_202207/2024/05/cmems_obs-wind_glo_phy_nrt_l4_0.125deg_PT1H_2024053111_R20240531T00_11.nc",
             "title": "Origin asset link"
            }
           },
           "href": "https://hda.data.destination-earth.eu/stac/collections/EO.MO.DAT.WIND_GLO_PHY_L4_NRT_012_004/items/cmems_obs-wind_glo_phy_nrt_l4_0/download?provider=cop_marine",
           "title": "Download link",
           "type": "application/zip"
          },
          "native": {
           "alternate": {
            "origin": {
             "href": "https://s3.waw3-1.cloudferro.com/mdl-native-04/native/WIND_GLO_PHY_L4_NRT_012_004/cmems_obs-wind_glo_phy_nrt_l4_0.125deg_PT1H_202207/2024/05/cmems_obs-wind_glo_phy_nrt_l4_0.125deg_PT1H_2024053111_R20240531T00_11.nc",
             "title": "Origin asset link",
             "type": "application/x-netcdf"
            }
           },
           "href": "https://hda.data.destination-earth.eu/stac/collections/EO.MO.DAT.WIND_GLO_PHY_L4_NRT_012_004/items/cmems_obs-wind_glo_phy_nrt_l4_0/download/native?provider=cop_marine",
           "title": "native",
           "type": "application/x-netcdf"
          },
          "thumbnail": {
           "href": "https://mdl-metadata.s3.waw3-1.cloudferro.com/metadata/thumbnails/WIND_GLO_PHY_L4_NRT_012_004.jpg",
           "role": "thumbnail",
           "title": "Thumbnail",
           "type": "image/jpeg"
          }
         },
         "bbox": [
          -180,
          -90,
          180,
          90
         ],
         "collection": "EO.MO.DAT.WIND_GLO_PHY_L4_NRT_012_004",
         "geometry": {
          "coordinates": [
           [
            [
             180,
             -90
            ],
            [
             180,
             90
            ],
            [
             -180,
             90
            ],
            [
             -180,
             -90
            ],
            [
             180,
             -90
            ]
           ]
          ],
          "type": "Polygon"
         },
         "id": "cmems_obs-wind_glo_phy_nrt_l4_0",
         "links": [
          {
           "href": "https://hda.data.destination-earth.eu/stac/collections/EO.MO.DAT.WIND_GLO_PHY_L4_NRT_012_004/items/cmems_obs-wind_glo_phy_nrt_l4_0",
           "rel": "self",
           "title": "cmems_obs-wind_glo_phy_nrt_l4_0"
          },
          {
           "href": "https://hda.data.destination-earth.eu/stac/",
           "rel": "root"
          },
          {
           "href": "https://hda.data.destination-earth.eu/stac/collections/EO.MO.DAT.WIND_GLO_PHY_L4_NRT_012_004",
           "rel": "parent",
           "title": "EO.MO.DAT.WIND_GLO_PHY_L4_NRT_012_004"
          },
          {
           "href": "https://hda.data.destination-earth.eu/stac/collections/EO.MO.DAT.WIND_GLO_PHY_L4_NRT_012_004",
           "rel": "collection",
           "title": "EO.MO.DAT.WIND_GLO_PHY_L4_NRT_012_004"
          }
         ],
         "properties": {
          "constellation": "Metop-B, Metop-C",
          "cop_marine:Conventions": "CF-1.6, ACDD-1.3",
          "cop_marine:admp_in_preparation": false,
          "cop_marine:admp_updated": "2024-09-18T10:37:03.450397Z",
          "cop_marine:admp_valid_start_date": "2022-03-11T12:00:00.000000000Z",
          "cop_marine:admp_valid_start_index": 14844,
          "cop_marine:allVariables": [
           "Eastward wind (WIND)",
           "Northward wind (WIND)",
           "Surface downward eastward stress (WIND)",
           "Surface downward northward stress (WIND)",
           "Stress curl (WIND)",
           "Stress divergence (WIND)",
           "Air density (WIND)",
           "Wind curl (WIND)",
           "Wind divergence (WIND)"
          ],
          "cop_marine:altId": "63ee69f1-2628-43aa-9b22-b21749d160ba",
          "cop_marine:areas": [
           "Global Ocean"
          ],
          "cop_marine:assimilatedData": [],
          "cop_marine:colors": [
           "Blue Ocean"
          ],
          "cop_marine:communities": [
           "Policy & governance",
           "Science & innovation",
           "Extremes, hazards & safety",
           "Coastal services",
           "Natural resources & energy",
           "Trade & marine navigation"
          ],
          "cop_marine:contacts": [
           {
            "email": "scat@knmi.nl",
            "name": "Service Desk KNMI",
            "organisationName": "SIW-KNMI-DEBILT-NL",
            "responsiblePartyRole": "pointOfContact"
           },
           {
            "email": "ad.stoffelen@knmi.nl",
            "name": "Ad STOFFELEN",
            "organisationName": "SIW-KNMI-DEBILT-NL",
            "responsiblePartyRole": "custodian"
           },
           {
            "email": "rianne.giesen@knmi.nl",
            "name": "Rianne GIESEN",
            "organisationName": "SIW-KNMI-DEBILT-NL",
            "responsiblePartyRole": "originator"
           },
           {
            "email": "scat@knmi.nl",
            "name": "Anton VERHOEF",
            "organisationName": "SIW-KNMI-DEBILT-NL",
            "responsiblePartyRole": "resourceProvider"
           },
           {
            "email": "scat@knmi.nl",
            "name": "Service Desk KNMI",
            "organisationName": "SIW-KNMI-DEBILT-NL",
            "responsiblePartyRole": "distributor"
           }
          ],
          "cop_marine:crs": "EPSG:4326",
          "cop_marine:dataset": "cmems_obs-wind_glo_phy_nrt_l4_0.125deg_PT1H_202207",
          "cop_marine:date_created": "2022-06-23T01:30:26",
          "cop_marine:date_modified": "2022-06-23T01:30:26",
          "cop_marine:directives": [],
          "cop_marine:featureTypes": [
           "Grid"
          ],
          "cop_marine:formats": [
           "NetCDF-4"
          ],
          "cop_marine:geoExtent": {
           "coordinates": [
            [
             -180,
             90
            ],
            [
             180,
             -90
            ]
           ],
           "type": "envelope"
          },
          "cop_marine:geoResolution": {
           "column": {
            "magnitude": 0.125,
            "units": "degree"
           },
           "row": {
            "magnitude": 0.125,
            "units": "degree"
           }
          },
          "cop_marine:geospatial_lat_max": 89.9375,
          "cop_marine:geospatial_lat_min": -89.9375,
          "cop_marine:geospatial_lat_resolution": 0.125,
          "cop_marine:geospatial_lat_units": "degrees_north",
          "cop_marine:geospatial_lon_max": 179.9375,
          "cop_marine:geospatial_lon_min": -179.9375,
          "cop_marine:geospatial_lon_resolution": 0.125,
          "cop_marine:geospatial_lon_units": "degrees_east",
          "cop_marine:history": "N/A",
          "cop_marine:indicatorFamilies": [],
          "cop_marine:institution": "Royal Netherlands Meteorological Institute (KNMI)",
          "cop_marine:instrument_vocabulary": "CEOS",
          "cop_marine:isStaging": false,
          "cop_marine:mainVariables": [
           "Wind"
          ],
          "cop_marine:model": "ECMWF Operational model",
          "cop_marine:modifiedDate": "2024-06-18",
          "cop_marine:platform_vocabulary": "CEOS",
          "cop_marine:processing_level": "L4",
          "cop_marine:project": "Copernicus Marine Service Wind Thematic Assembly Centre",
          "cop_marine:projection": "WGS 84 (EPSG:4326)",
          "cop_marine:providerMetadata": {
           "source": "cmems",
           "type": "csw",
           "url": "https://cmems-catalog-ro.cls.fr/geonetwork/srv/eng/csw-MYOCEAN-CORE-PRODUCTS?service=CSW&version=2.0.2&request=GetRecordById&id=63ee69f1-2628-43aa-9b22-b21749d160ba&elementsetname=full&outputSchema=http://www.isotc211.org/2005/gmd"
          },
          "cop_marine:rank": 14000,
          "cop_marine:references": "Copernicus Marine Service Product User Manual CMEMS-TAC-WIND-PUM-012-004, Trindade et al. (2020) doi:10.1109/TGRS.2019.2946019",
          "cop_marine:sources": [
           "Numerical models",
           "Satellite observations"
          ],
          "cop_marine:summary": "Global ocean 10-m stress-equivalent wind and surface wind stress fields based on the ECMWF operational model winds, bias-corrected using scatterometer observations",
          "cop_marine:tempExtentBegin": "",
          "cop_marine:tempResolutions": [
           "Hourly"
          ],
          "cop_marine:thumbnailMeta": {
           "basemapId": "dark",
           "colormapId": "speed",
           "colormapInvert": false,
           "creationDate": "2023-06-18T06:37:19.450Z",
           "crs": "epsg:4326",
           "elevation": null,
           "layerId": "WIND_GLO_PHY_L4_NRT_012_004/cmems_obs-wind_glo_phy_nrt_l4_0.125deg_PT1H_202207/wind",
           "logScale": false,
           "overlays": {
            "tags": [
             {
              "name": "Wind"
             }
            ]
           },
           "style": "default",
           "time": 1593561600000,
           "valueClamp": true,
           "valueMax": 37.04999828338623,
           "valueMin": 0
          },
          "cop_marine:time_coverage_end": "2020-07-01T00:00:00",
          "cop_marine:time_coverage_start": "2020-07-01T00:00:00",
          "cop_marine:times": [
           "Present",
           "Past"
          ],
          "cop_marine:updateFrequencies": {
           "daily": "15:00"
          },
          "cop_marine:useCases": [],
          "cop_marine:vertExtentMax": 0,
          "cop_marine:vertExtentMin": 0,
          "created": "2012-08-26",
          "cube:dimensions": {
           "latitude": {
            "axis": "y",
            "extent": [
             -89.9375,
             89.9375
            ],
            "reference_system": 4326,
            "step": 0.125,
            "type": "spatial"
           },
           "longitude": {
            "axis": "x",
            "extent": [
             -179.9375,
             179.9375
            ],
            "reference_system": 4326,
            "step": 0.125,
            "type": "spatial"
           },
           "time": {
            "extent": [
             "2020-07-01T00:00:00Z",
             "2024-09-17T23:00:00Z"
            ],
            "step": "PT1H",
            "type": "temporal"
           }
          },
          "cube:variables": {
           "air_density": {
            "abbreviation": "air_density",
            "colormapDiffId": "balance",
            "colormapDiffInvert": false,
            "colormapId": "viridis",
            "colormapInvert": false,
            "dimensions": [
             "time",
             "latitude",
             "longitude"
            ],
            "hasLogScale": true,
            "id": "air_density",
            "logScale": false,
            "missingValue": -32767,
            "name": {
             "en": "Air density at 10 m"
            },
            "offset": 0,
            "scale": 0.001,
            "standardName": "air_density",
            "type": "data",
            "unit": "kg m-3",
            "unitConversion": null,
            "valueClamp": true,
            "valueColor": false,
            "valueDiffMax": 0.2080000638961792,
            "valueDiffRelMax": 25,
            "valueMax": 1.5690001249313354,
            "valueMin": 1.152999997138977
           },
           "eastward_stress": {
            "abbreviation": "eastward_stress",
            "colormapDiffId": "balance",
            "colormapDiffInvert": false,
            "colormapId": "balance",
            "colormapInvert": false,
            "dimensions": [
             "time",
             "latitude",
             "longitude"
            ],
            "hasLogScale": false,
            "id": "eastward_stress",
            "logScale": false,
            "missingValue": -2147483647,
            "name": {
             "en": "Surface wind stress eastward component"
            },
            "offset": 0,
            "scale": 0.01,
            "standardName": "surface_downward_eastward_stress",
            "type": "data",
            "unit": "N m-2",
            "unitConversion": null,
            "valueClamp": true,
            "valueColor": false,
            "valueDiffMax": 1.53,
            "valueDiffRelMax": 25,
            "valueMax": 1.53,
            "valueMin": -1.53
           },
           "eastward_stress_bias": {
            "abbreviation": "eastward_stress_bias",
            "colormapDiffId": "balance",
            "colormapDiffInvert": false,
            "colormapId": "balance",
            "colormapInvert": false,
            "dimensions": [
             "time",
             "latitude",
             "longitude"
            ],
            "hasLogScale": false,
            "id": "eastward_stress_bias",
            "logScale": false,
            "missingValue": -2147483647,
            "name": {
             "en": "Scatterometer-model bias of surface wind stress eastward component"
            },
            "offset": 0,
            "scale": 0.01,
            "standardName": "surface_downward_eastward_stress_bias",
            "type": "data",
            "unit": "N m-2",
            "unitConversion": null,
            "valueClamp": true,
            "valueColor": false,
            "valueDiffMax": 0.03,
            "valueDiffRelMax": 25,
            "valueMax": 0.03,
            "valueMin": -0.03
           },
           "eastward_stress_sdd": {
            "abbreviation": "eastward_stress_sdd",
            "colormapDiffId": "balance",
            "colormapDiffInvert": false,
            "colormapId": "viridis",
            "colormapInvert": false,
            "dimensions": [
             "time",
             "latitude",
             "longitude"
            ],
            "hasLogScale": true,
            "id": "eastward_stress_sdd",
            "logScale": false,
            "missingValue": -2147483647,
            "name": {
             "en": "Standard deviation of differences of surface wind stress eastward component"
            },
            "offset": 0,
            "scale": 0.01,
            "standardName": "surface_downward_eastward_stress_standard_deviation_of_differences",
            "type": "data",
            "unit": "N m-2",
            "unitConversion": null,
            "valueClamp": true,
            "valueColor": false,
            "valueDiffMax": 0.035,
            "valueDiffRelMax": 25,
            "valueMax": 0.08,
            "valueMin": 0.01
           },
           "eastward_wind": {
            "abbreviation": "eastward_wind",
            "colormapDiffId": "balance",
            "colormapDiffInvert": false,
            "colormapId": "balance",
            "colormapInvert": false,
            "dimensions": [
             "time",
             "latitude",
             "longitude"
            ],
            "hasLogScale": false,
            "id": "eastward_wind",
            "logScale": false,
            "missingValue": -32767,
            "name": {
             "en": "Stress-equivalent wind eastward component at 10 m"
            },
            "offset": 0,
            "scale": 0.01,
            "standardName": "eastward_wind",
            "type": "data",
            "unit": "m s-1",
            "unitConversion": null,
            "valueClamp": true,
            "valueColor": false,
            "valueDiffMax": 37.04999828338623,
            "valueDiffRelMax": 25,
            "valueMax": 37.04999828338623,
            "valueMin": -37.04999828338623
           },
           "eastward_wind_bias": {
            "abbreviation": "eastward_wind_bias",
            "colormapDiffId": "balance",
            "colormapDiffInvert": false,
            "colormapId": "balance",
            "colormapInvert": false,
            "dimensions": [
             "time",
             "latitude",
             "longitude"
            ],
            "hasLogScale": false,
            "id": "eastward_wind_bias",
            "logScale": false,
            "missingValue": -32767,
            "name": {
             "en": "Scatterometer-model bias of stress-equivalent wind eastward component at 10 m"
            },
            "offset": 0,
            "scale": 0.01,
            "standardName": "eastward_wind_bias",
            "type": "data",
            "unit": "m s-1",
            "unitConversion": null,
            "valueClamp": true,
            "valueColor": false,
            "valueDiffMax": 0.9300000071525574,
            "valueDiffRelMax": 25,
            "valueMax": 0.9300000071525574,
            "valueMin": -0.9300000071525574
           },
           "eastward_wind_sdd": {
            "abbreviation": "eastward_wind_sdd",
            "colormapDiffId": "balance",
            "colormapDiffInvert": false,
            "colormapId": "viridis",
            "colormapInvert": false,
            "dimensions": [
             "time",
             "latitude",
             "longitude"
            ],
            "hasLogScale": true,
            "id": "eastward_wind_sdd",
            "logScale": false,
            "missingValue": -32767,
            "name": {
             "en": "Standard deviation of differences of stress-equivalent wind eastward component at 10 m"
            },
            "offset": 0,
            "scale": 0.01,
            "standardName": "eastward_wind_standard_deviation_of_differences",
            "type": "data",
            "unit": "m s-1",
            "unitConversion": null,
            "valueClamp": true,
            "valueColor": false,
            "valueDiffMax": 0.8099999129772186,
            "valueDiffRelMax": 25,
            "valueMax": 2.169999837875366,
            "valueMin": 0.550000011920929
           },
           "northward_stress": {
            "abbreviation": "northward_stress",
            "colormapDiffId": "balance",
            "colormapDiffInvert": false,
            "colormapId": "balance",
            "colormapInvert": false,
            "dimensions": [
             "time",
             "latitude",
             "longitude"
            ],
            "hasLogScale": false,
            "id": "northward_stress",
            "logScale": false,
            "missingValue": -2147483647,
            "name": {
             "en": "Surface wind stress northward component"
            },
            "offset": 0,
            "scale": 0.01,
            "standardName": "surface_downward_northward_stress",
            "type": "data",
            "unit": "N m-2",
            "unitConversion": null,
            "valueClamp": true,
            "valueColor": false,
            "valueDiffMax": 1.53,
            "valueDiffRelMax": 25,
            "valueMax": 1.53,
            "valueMin": -1.53
           },
           "northward_stress_bias": {
            "abbreviation": "northward_stress_bias",
            "colormapDiffId": "balance",
            "colormapDiffInvert": false,
            "colormapId": "balance",
            "colormapInvert": false,
            "dimensions": [
             "time",
             "latitude",
             "longitude"
            ],
            "hasLogScale": false,
            "id": "northward_stress_bias",
            "logScale": false,
            "missingValue": -2147483647,
            "name": {
             "en": "Scatterometer-model bias of surface wind stress northward component"
            },
            "offset": 0,
            "scale": 0.01,
            "standardName": "surface_downward_northward_stress_bias",
            "type": "data",
            "unit": "N m-2",
            "unitConversion": null,
            "valueClamp": true,
            "valueColor": false,
            "valueDiffMax": 0.02,
            "valueDiffRelMax": 25,
            "valueMax": 0.02,
            "valueMin": -0.02
           },
           "northward_stress_sdd": {
            "abbreviation": "northward_stress_sdd",
            "colormapDiffId": "balance",
            "colormapDiffInvert": false,
            "colormapId": "viridis",
            "colormapInvert": false,
            "dimensions": [
             "time",
             "latitude",
             "longitude"
            ],
            "hasLogScale": true,
            "id": "northward_stress_sdd",
            "logScale": false,
            "missingValue": -2147483647,
            "name": {
             "en": "Standard deviation of differences of surface wind stress northward component"
            },
            "offset": 0,
            "scale": 0.01,
            "standardName": "surface_downward_northward_stress_standard_deviation_of_differences",
            "type": "data",
            "unit": "N m-2",
            "unitConversion": null,
            "valueClamp": true,
            "valueColor": false,
            "valueDiffMax": 0.030000000000000002,
            "valueDiffRelMax": 25,
            "valueMax": 0.07,
            "valueMin": 0.01
           },
           "northward_wind": {
            "abbreviation": "northward_wind",
            "colormapDiffId": "balance",
            "colormapDiffInvert": false,
            "colormapId": "balance",
            "colormapInvert": false,
            "dimensions": [
             "time",
             "latitude",
             "longitude"
            ],
            "hasLogScale": false,
            "id": "northward_wind",
            "logScale": false,
            "missingValue": -32767,
            "name": {
             "en": "Stress-equivalent wind northward component at 10 m"
            },
            "offset": 0,
            "scale": 0.01,
            "standardName": "northward_wind",
            "type": "data",
            "unit": "m s-1",
            "unitConversion": null,
            "valueClamp": true,
            "valueColor": false,
            "valueDiffMax": 37.04999828338623,
            "valueDiffRelMax": 25,
            "valueMax": 37.04999828338623,
            "valueMin": -37.04999828338623
           },
           "northward_wind_bias": {
            "abbreviation": "northward_wind_bias",
            "colormapDiffId": "balance",
            "colormapDiffInvert": false,
            "colormapId": "balance",
            "colormapInvert": false,
            "dimensions": [
             "time",
             "latitude",
             "longitude"
            ],
            "hasLogScale": false,
            "id": "northward_wind_bias",
            "logScale": false,
            "missingValue": -32767,
            "name": {
             "en": "Scatterometer-model bias of stress-equivalent wind northward component at 10 m"
            },
            "offset": 0,
            "scale": 0.01,
            "standardName": "northward_wind_bias",
            "type": "data",
            "unit": "m s-1",
            "unitConversion": null,
            "valueClamp": true,
            "valueColor": false,
            "valueDiffMax": 0.8399999737739563,
            "valueDiffRelMax": 25,
            "valueMax": 0.8399999737739563,
            "valueMin": -0.8399999737739563
           },
           "northward_wind_sdd": {
            "abbreviation": "northward_wind_sdd",
            "colormapDiffId": "balance",
            "colormapDiffInvert": false,
            "colormapId": "viridis",
            "colormapInvert": false,
            "dimensions": [
             "time",
             "latitude",
             "longitude"
            ],
            "hasLogScale": true,
            "id": "northward_wind_sdd",
            "logScale": false,
            "missingValue": -32767,
            "name": {
             "en": "Standard deviation of differences of stress-equivalent wind northward component at 10 m"
            },
            "offset": 0,
            "scale": 0.01,
            "standardName": "northward_wind_standard_deviation_of_differences",
            "type": "data",
            "unit": "m s-1",
            "unitConversion": null,
            "valueClamp": true,
            "valueColor": false,
            "valueDiffMax": 0.8549999296665192,
            "valueDiffRelMax": 25,
            "valueMax": 2.3899998664855957,
            "valueMin": 0.6800000071525574
           },
           "number_of_observations": {
            "abbreviation": "number_of_observations",
            "colormapDiffId": "balance",
            "colormapDiffInvert": false,
            "colormapId": "viridis",
            "colormapInvert": false,
            "dimensions": [
             "time",
             "latitude",
             "longitude"
            ],
            "hasLogScale": true,
            "id": "number_of_observations",
            "logScale": false,
            "missingValue": -32767,
            "name": {
             "en": "Number of observations used for scatterometer-model bias"
            },
            "offset": null,
            "scale": null,
            "standardName": "number_of_observations",
            "type": "data",
            "unit": 1,
            "unitConversion": null,
            "valueClamp": true,
            "valueColor": false,
            "valueDiffMax": 21,
            "valueDiffRelMax": 25,
            "valueMax": 69,
            "valueMin": 27
           },
           "number_of_observations_divcurl": {
            "abbreviation": "number_of_observations_divcurl",
            "colormapDiffId": "balance",
            "colormapDiffInvert": false,
            "colormapId": "viridis",
            "colormapInvert": false,
            "dimensions": [
             "time",
             "latitude",
             "longitude"
            ],
            "hasLogScale": true,
            "id": "number_of_observations_divcurl",
            "logScale": false,
            "missingValue": -32767,
            "name": {
             "en": "Number of observations used for scatterometer-model divergence and curl bias"
            },
            "offset": null,
            "scale": null,
            "standardName": "number_of_observations",
            "type": "data",
            "unit": 1,
            "unitConversion": null,
            "valueClamp": true,
            "valueColor": false,
            "valueDiffMax": 27.5,
            "valueDiffRelMax": 25,
            "valueMax": 65,
            "valueMin": 10
           },
           "stress_curl": {
            "abbreviation": "stress_curl",
            "colormapDiffId": "balance",
            "colormapDiffInvert": false,
            "colormapId": "viridis",
            "colormapInvert": false,
            "dimensions": [
             "time",
             "latitude",
             "longitude"
            ],
            "hasLogScale": false,
            "id": "stress_curl",
            "logScale": false,
            "missingValue": -2147483647,
            "name": {
             "en": "Curl of surface wind stress"
            },
            "offset": 0,
            "scale": 1e-10,
            "standardName": "vertical_component_of_surface_downward_stress_curl",
            "type": "data",
            "unit": "N m-3",
            "unitConversion": null,
            "valueClamp": true,
            "valueColor": false,
            "valueDiffMax": 2.3519000000000003e-06,
            "valueDiffRelMax": 25,
            "valueMax": 2.1812e-06,
            "valueMin": -2.5226e-06
           },
           "stress_curl_bias": {
            "abbreviation": "stress_curl_bias",
            "colormapDiffId": "balance",
            "colormapDiffInvert": false,
            "colormapId": "balance",
            "colormapInvert": false,
            "dimensions": [
             "time",
             "latitude",
             "longitude"
            ],
            "hasLogScale": false,
            "id": "stress_curl_bias",
            "logScale": false,
            "missingValue": -2147483647,
            "name": {
             "en": "Scatterometer-model bias of curl of surface wind stress"
            },
            "offset": 0,
            "scale": 1e-10,
            "standardName": "vertical_component_of_surface_downward_stress_curl_bias",
            "type": "data",
            "unit": "N m-3",
            "unitConversion": null,
            "valueClamp": true,
            "valueColor": false,
            "valueDiffMax": 5.091e-07,
            "valueDiffRelMax": 25,
            "valueMax": 5.091e-07,
            "valueMin": -5.091e-07
           },
           "stress_curl_dv": {
            "abbreviation": "stress_curl_dv",
            "colormapDiffId": "balance",
            "colormapDiffInvert": false,
            "colormapId": "viridis",
            "colormapInvert": false,
            "dimensions": [
             "time",
             "latitude",
             "longitude"
            ],
            "hasLogScale": false,
            "id": "stress_curl_dv",
            "logScale": false,
            "missingValue": -2147483647,
            "name": {
             "en": "Difference of scatterometer and model variances of curl of surface wind stress"
            },
            "offset": 0,
            "scale": 1e-15,
            "standardName": "vertical_component_of_surface_downward_stress_curl_difference_of_variances",
            "type": "data",
            "unit": "N2 m-6",
            "unitConversion": null,
            "valueClamp": true,
            "valueColor": false,
            "valueDiffMax": 3.1755000000000004e-12,
            "valueDiffRelMax": 25,
            "valueMax": 5.266e-12,
            "valueMin": -1.0850000000000001e-12
           },
           "stress_divergence": {
            "abbreviation": "stress_divergence",
            "colormapDiffId": "balance",
            "colormapDiffInvert": false,
            "colormapId": "viridis",
            "colormapInvert": false,
            "dimensions": [
             "time",
             "latitude",
             "longitude"
            ],
            "hasLogScale": false,
            "id": "stress_divergence",
            "logScale": false,
            "missingValue": -2147483647,
            "name": {
             "en": "Divergence of surface wind stress"
            },
            "offset": 0,
            "scale": 1e-10,
            "standardName": "divergence_of_surface_downward_stress",
            "type": "data",
            "unit": "N m-3",
            "unitConversion": null,
            "valueClamp": true,
            "valueColor": false,
            "valueDiffMax": 2.0739629999999886e-06,
            "valueDiffRelMax": 25,
            "valueMax": 1.9623259999999777e-06,
            "valueMin": -2.1856e-06
           },
           "stress_divergence_bias": {
            "abbreviation": "stress_divergence_bias",
            "colormapDiffId": "balance",
            "colormapDiffInvert": false,
            "colormapId": "balance",
            "colormapInvert": false,
            "dimensions": [
             "time",
             "latitude",
             "longitude"
            ],
            "hasLogScale": false,
            "id": "stress_divergence_bias",
            "logScale": false,
            "missingValue": -2147483647,
            "name": {
             "en": "Scatterometer-model bias of divergence of surface wind stress"
            },
            "offset": 0,
            "scale": 1e-10,
            "standardName": "divergence_of_surface_downward_stress_bias",
            "type": "data",
            "unit": "N m-3",
            "unitConversion": null,
            "valueClamp": true,
            "valueColor": false,
            "valueDiffMax": 4.885000000000001e-07,
            "valueDiffRelMax": 25,
            "valueMax": 4.885000000000001e-07,
            "valueMin": -4.885000000000001e-07
           },
           "stress_divergence_dv": {
            "abbreviation": "stress_divergence_dv",
            "colormapDiffId": "balance",
            "colormapDiffInvert": false,
            "colormapId": "viridis",
            "colormapInvert": false,
            "dimensions": [
             "time",
             "latitude",
             "longitude"
            ],
            "hasLogScale": false,
            "id": "stress_divergence_dv",
            "logScale": false,
            "missingValue": -2147483647,
            "name": {
             "en": "Difference of scatterometer and model variances of divergence of surface wind stress"
            },
            "offset": 0,
            "scale": 1e-15,
            "standardName": "divergence_of_surface_downward_stress_difference_of_variances",
            "type": "data",
            "unit": "N2 m-6",
            "unitConversion": null,
            "valueClamp": true,
            "valueColor": false,
            "valueDiffMax": 2.2560000000000005e-12,
            "valueDiffRelMax": 25,
            "valueMax": 4.463000000000001e-12,
            "valueMin": -4.9000000000000006e-14
           },
           "wind_curl": {
            "abbreviation": "wind_curl",
            "colormapDiffId": "balance",
            "colormapDiffInvert": false,
            "colormapId": "viridis",
            "colormapInvert": false,
            "dimensions": [
             "time",
             "latitude",
             "longitude"
            ],
            "hasLogScale": false,
            "id": "wind_curl",
            "logScale": false,
            "missingValue": -2147483647,
            "name": {
             "en": "Curl of stress-equivalent wind at 10 m"
            },
            "offset": 0,
            "scale": 1e-07,
            "standardName": "atmosphere_relative_vorticity",
            "type": "data",
            "unit": "s-1",
            "unitConversion": null,
            "valueClamp": true,
            "valueColor": false,
            "valueDiffMax": 8.955e-05,
            "valueDiffRelMax": 25,
            "valueMax": 8.68e-05,
            "valueMin": -9.23e-05
           },
           "wind_curl_bias": {
            "abbreviation": "wind_curl_bias",
            "colormapDiffId": "balance",
            "colormapDiffInvert": false,
            "colormapId": "balance",
            "colormapInvert": false,
            "dimensions": [
             "time",
             "latitude",
             "longitude"
            ],
            "hasLogScale": false,
            "id": "wind_curl_bias",
            "logScale": false,
            "missingValue": -2147483647,
            "name": {
             "en": "Scatterometer-model bias of curl of stress-equivalent wind at 10 m"
            },
            "offset": 0,
            "scale": 1e-07,
            "standardName": "atmosphere_relative_vorticity_bias",
            "type": "data",
            "unit": "s-1",
            "unitConversion": null,
            "valueClamp": true,
            "valueColor": false,
            "valueDiffMax": 1.82e-05,
            "valueDiffRelMax": 25,
            "valueMax": 1.82e-05,
            "valueMin": -1.82e-05
           },
           "wind_curl_dv": {
            "abbreviation": "wind_curl_dv",
            "colormapDiffId": "balance",
            "colormapDiffInvert": false,
            "colormapId": "viridis",
            "colormapInvert": false,
            "dimensions": [
             "time",
             "latitude",
             "longitude"
            ],
            "hasLogScale": false,
            "id": "wind_curl_dv",
            "logScale": false,
            "missingValue": -2147483647,
            "name": {
             "en": "Difference of scatterometer and model variances of curl of stress-equivalent wind at 10 m"
            },
            "offset": 0,
            "scale": 1e-11,
            "standardName": "atmosphere_relative_vorticity_difference_of_variances",
            "type": "data",
            "unit": "s-2",
            "unitConversion": null,
            "valueClamp": true,
            "valueColor": false,
            "valueDiffMax": 3.5999999999999996e-09,
            "valueDiffRelMax": 25,
            "valueMax": 6.399999999999999e-09,
            "valueMin": -7.999999999999999e-10
           },
           "wind_divergence": {
            "abbreviation": "wind_divergence",
            "colormapDiffId": "balance",
            "colormapDiffInvert": false,
            "colormapId": "viridis",
            "colormapInvert": false,
            "dimensions": [
             "time",
             "latitude",
             "longitude"
            ],
            "hasLogScale": false,
            "id": "wind_divergence",
            "logScale": false,
            "missingValue": -2147483647,
            "name": {
             "en": "Divergence of stress-equivalent wind at 10 m"
            },
            "offset": 0,
            "scale": 1e-07,
            "standardName": "divergence_of_wind",
            "type": "data",
            "unit": "s-1",
            "unitConversion": null,
            "valueClamp": true,
            "valueColor": false,
            "valueDiffMax": 0.00010284999999999999,
            "valueDiffRelMax": 25,
            "valueMax": 9.63e-05,
            "valueMin": -0.00010939999999999999
           },
           "wind_divergence_bias": {
            "abbreviation": "wind_divergence_bias",
            "colormapDiffId": "balance",
            "colormapDiffInvert": false,
            "colormapId": "balance",
            "colormapInvert": false,
            "dimensions": [
             "time",
             "latitude",
             "longitude"
            ],
            "hasLogScale": false,
            "id": "wind_divergence_bias",
            "logScale": false,
            "missingValue": -2147483647,
            "name": {
             "en": "Scatterometer-model bias of divergence of stress-equivalent wind at 10 m"
            },
            "offset": 0,
            "scale": 1e-07,
            "standardName": "divergence_of_wind_bias",
            "type": "data",
            "unit": "s-1",
            "unitConversion": null,
            "valueClamp": true,
            "valueColor": false,
            "valueDiffMax": 2.09e-05,
            "valueDiffRelMax": 25,
            "valueMax": 2.09e-05,
            "valueMin": -2.09e-05
           },
           "wind_divergence_dv": {
            "abbreviation": "wind_divergence_dv",
            "colormapDiffId": "balance",
            "colormapDiffInvert": false,
            "colormapId": "viridis",
            "colormapInvert": false,
            "dimensions": [
             "time",
             "latitude",
             "longitude"
            ],
            "hasLogScale": true,
            "id": "wind_divergence_dv",
            "logScale": false,
            "missingValue": -2147483647,
            "name": {
             "en": "Difference of scatterometer and model variances of divergence of stress-equivalent wind at 10 m"
            },
            "offset": 0,
            "scale": 1e-11,
            "standardName": "divergence_of_wind_difference_of_variances",
            "type": "data",
            "unit": "s-2",
            "unitConversion": null,
            "valueClamp": true,
            "valueColor": false,
            "valueDiffMax": 3.3099999999999995e-09,
            "valueDiffRelMax": 25,
            "valueMax": 6.849999999999999e-09,
            "valueMin": 2.2999999999999998e-10
           }
          },
          "datetime": "2024-05-31T00:00:00Z",
          "end_datetime": "2024-05-31T00:00:00Z",
          "instruments": [
           "ASCAT, ASCAT"
          ],
          "license": "proprietary",
          "order:status": "",
          "processing:level": "Level 4",
          "providers": [
           {
            "description": "Copernicus Marine Data Store",
            "name": "cop_marine",
            "priority": 0,
            "roles": [
             "host"
            ],
            "url": "https://marine.copernicus.eu/"
           }
          ],
          "start_datetime": "2024-05-31T00:00:00Z"
         },
         "stac_extensions": [
          "https://stac-extensions.github.io/processing/v1.0.0/schema.json",
          "https://stac-extensions.github.io/order/v1.1.0/schema.json"
         ],
         "stac_version": "1.0.0",
         "type": "Feature"
        },
        {
         "assets": {
          "downloadLink": {
           "alternate": {
            "origin": {
             "href": "https://s3.waw3-1.cloudferro.com/mdl-native-04/native/WIND_GLO_PHY_L4_NRT_012_004/cmems_obs-wind_glo_phy_nrt_l4_0.125deg_PT1H_202207/2024/05/cmems_obs-wind_glo_phy_nrt_l4_0.125deg_PT1H_2024053112_R20240531T00_12.nc",
             "title": "Origin asset link"
            }
           },
           "href": "https://hda.data.destination-earth.eu/stac/collections/EO.MO.DAT.WIND_GLO_PHY_L4_NRT_012_004/items/cmems_obs-wind_glo_phy_nrt_l4_0/download?provider=cop_marine",
           "title": "Download link",
           "type": "application/zip"
          },
          "native": {
           "alternate": {
            "origin": {
             "href": "https://s3.waw3-1.cloudferro.com/mdl-native-04/native/WIND_GLO_PHY_L4_NRT_012_004/cmems_obs-wind_glo_phy_nrt_l4_0.125deg_PT1H_202207/2024/05/cmems_obs-wind_glo_phy_nrt_l4_0.125deg_PT1H_2024053112_R20240531T00_12.nc",
             "title": "Origin asset link",
             "type": "application/x-netcdf"
            }
           },
           "href": "https://hda.data.destination-earth.eu/stac/collections/EO.MO.DAT.WIND_GLO_PHY_L4_NRT_012_004/items/cmems_obs-wind_glo_phy_nrt_l4_0/download/native?provider=cop_marine",
           "title": "native",
           "type": "application/x-netcdf"
          },
          "thumbnail": {
           "href": "https://mdl-metadata.s3.waw3-1.cloudferro.com/metadata/thumbnails/WIND_GLO_PHY_L4_NRT_012_004.jpg",
           "role": "thumbnail",
           "title": "Thumbnail",
           "type": "image/jpeg"
          }
         },
         "bbox": [
          -180,
          -90,
          180,
          90
         ],
         "collection": "EO.MO.DAT.WIND_GLO_PHY_L4_NRT_012_004",
         "geometry": {
          "coordinates": [
           [
            [
             180,
             -90
            ],
            [
             180,
             90
            ],
            [
             -180,
             90
            ],
            [
             -180,
             -90
            ],
            [
             180,
             -90
            ]
           ]
          ],
          "type": "Polygon"
         },
         "id": "cmems_obs-wind_glo_phy_nrt_l4_0",
         "links": [
          {
           "href": "https://hda.data.destination-earth.eu/stac/collections/EO.MO.DAT.WIND_GLO_PHY_L4_NRT_012_004/items/cmems_obs-wind_glo_phy_nrt_l4_0",
           "rel": "self",
           "title": "cmems_obs-wind_glo_phy_nrt_l4_0"
          },
          {
           "href": "https://hda.data.destination-earth.eu/stac/",
           "rel": "root"
          },
          {
           "href": "https://hda.data.destination-earth.eu/stac/collections/EO.MO.DAT.WIND_GLO_PHY_L4_NRT_012_004",
           "rel": "parent",
           "title": "EO.MO.DAT.WIND_GLO_PHY_L4_NRT_012_004"
          },
          {
           "href": "https://hda.data.destination-earth.eu/stac/collections/EO.MO.DAT.WIND_GLO_PHY_L4_NRT_012_004",
           "rel": "collection",
           "title": "EO.MO.DAT.WIND_GLO_PHY_L4_NRT_012_004"
          }
         ],
         "properties": {
          "constellation": "Metop-B, Metop-C",
          "cop_marine:Conventions": "CF-1.6, ACDD-1.3",
          "cop_marine:admp_in_preparation": false,
          "cop_marine:admp_updated": "2024-09-18T10:37:03.450397Z",
          "cop_marine:admp_valid_start_date": "2022-03-11T12:00:00.000000000Z",
          "cop_marine:admp_valid_start_index": 14844,
          "cop_marine:allVariables": [
           "Eastward wind (WIND)",
           "Northward wind (WIND)",
           "Surface downward eastward stress (WIND)",
           "Surface downward northward stress (WIND)",
           "Stress curl (WIND)",
           "Stress divergence (WIND)",
           "Air density (WIND)",
           "Wind curl (WIND)",
           "Wind divergence (WIND)"
          ],
          "cop_marine:altId": "63ee69f1-2628-43aa-9b22-b21749d160ba",
          "cop_marine:areas": [
           "Global Ocean"
          ],
          "cop_marine:assimilatedData": [],
          "cop_marine:colors": [
           "Blue Ocean"
          ],
          "cop_marine:communities": [
           "Policy & governance",
           "Science & innovation",
           "Extremes, hazards & safety",
           "Coastal services",
           "Natural resources & energy",
           "Trade & marine navigation"
          ],
          "cop_marine:contacts": [
           {
            "email": "scat@knmi.nl",
            "name": "Service Desk KNMI",
            "organisationName": "SIW-KNMI-DEBILT-NL",
            "responsiblePartyRole": "pointOfContact"
           },
           {
            "email": "ad.stoffelen@knmi.nl",
            "name": "Ad STOFFELEN",
            "organisationName": "SIW-KNMI-DEBILT-NL",
            "responsiblePartyRole": "custodian"
           },
           {
            "email": "rianne.giesen@knmi.nl",
            "name": "Rianne GIESEN",
            "organisationName": "SIW-KNMI-DEBILT-NL",
            "responsiblePartyRole": "originator"
           },
           {
            "email": "scat@knmi.nl",
            "name": "Anton VERHOEF",
            "organisationName": "SIW-KNMI-DEBILT-NL",
            "responsiblePartyRole": "resourceProvider"
           },
           {
            "email": "scat@knmi.nl",
            "name": "Service Desk KNMI",
            "organisationName": "SIW-KNMI-DEBILT-NL",
            "responsiblePartyRole": "distributor"
           }
          ],
          "cop_marine:crs": "EPSG:4326",
          "cop_marine:dataset": "cmems_obs-wind_glo_phy_nrt_l4_0.125deg_PT1H_202207",
          "cop_marine:date_created": "2022-06-23T01:30:26",
          "cop_marine:date_modified": "2022-06-23T01:30:26",
          "cop_marine:directives": [],
          "cop_marine:featureTypes": [
           "Grid"
          ],
          "cop_marine:formats": [
           "NetCDF-4"
          ],
          "cop_marine:geoExtent": {
           "coordinates": [
            [
             -180,
             90
            ],
            [
             180,
             -90
            ]
           ],
           "type": "envelope"
          },
          "cop_marine:geoResolution": {
           "column": {
            "magnitude": 0.125,
            "units": "degree"
           },
           "row": {
            "magnitude": 0.125,
            "units": "degree"
           }
          },
          "cop_marine:geospatial_lat_max": 89.9375,
          "cop_marine:geospatial_lat_min": -89.9375,
          "cop_marine:geospatial_lat_resolution": 0.125,
          "cop_marine:geospatial_lat_units": "degrees_north",
          "cop_marine:geospatial_lon_max": 179.9375,
          "cop_marine:geospatial_lon_min": -179.9375,
          "cop_marine:geospatial_lon_resolution": 0.125,
          "cop_marine:geospatial_lon_units": "degrees_east",
          "cop_marine:history": "N/A",
          "cop_marine:indicatorFamilies": [],
          "cop_marine:institution": "Royal Netherlands Meteorological Institute (KNMI)",
          "cop_marine:instrument_vocabulary": "CEOS",
          "cop_marine:isStaging": false,
          "cop_marine:mainVariables": [
           "Wind"
          ],
          "cop_marine:model": "ECMWF Operational model",
          "cop_marine:modifiedDate": "2024-06-18",
          "cop_marine:platform_vocabulary": "CEOS",
          "cop_marine:processing_level": "L4",
          "cop_marine:project": "Copernicus Marine Service Wind Thematic Assembly Centre",
          "cop_marine:projection": "WGS 84 (EPSG:4326)",
          "cop_marine:providerMetadata": {
           "source": "cmems",
           "type": "csw",
           "url": "https://cmems-catalog-ro.cls.fr/geonetwork/srv/eng/csw-MYOCEAN-CORE-PRODUCTS?service=CSW&version=2.0.2&request=GetRecordById&id=63ee69f1-2628-43aa-9b22-b21749d160ba&elementsetname=full&outputSchema=http://www.isotc211.org/2005/gmd"
          },
          "cop_marine:rank": 14000,
          "cop_marine:references": "Copernicus Marine Service Product User Manual CMEMS-TAC-WIND-PUM-012-004, Trindade et al. (2020) doi:10.1109/TGRS.2019.2946019",
          "cop_marine:sources": [
           "Numerical models",
           "Satellite observations"
          ],
          "cop_marine:summary": "Global ocean 10-m stress-equivalent wind and surface wind stress fields based on the ECMWF operational model winds, bias-corrected using scatterometer observations",
          "cop_marine:tempExtentBegin": "",
          "cop_marine:tempResolutions": [
           "Hourly"
          ],
          "cop_marine:thumbnailMeta": {
           "basemapId": "dark",
           "colormapId": "speed",
           "colormapInvert": false,
           "creationDate": "2023-06-18T06:37:19.450Z",
           "crs": "epsg:4326",
           "elevation": null,
           "layerId": "WIND_GLO_PHY_L4_NRT_012_004/cmems_obs-wind_glo_phy_nrt_l4_0.125deg_PT1H_202207/wind",
           "logScale": false,
           "overlays": {
            "tags": [
             {
              "name": "Wind"
             }
            ]
           },
           "style": "default",
           "time": 1593561600000,
           "valueClamp": true,
           "valueMax": 37.04999828338623,
           "valueMin": 0
          },
          "cop_marine:time_coverage_end": "2020-07-01T00:00:00",
          "cop_marine:time_coverage_start": "2020-07-01T00:00:00",
          "cop_marine:times": [
           "Present",
           "Past"
          ],
          "cop_marine:updateFrequencies": {
           "daily": "15:00"
          },
          "cop_marine:useCases": [],
          "cop_marine:vertExtentMax": 0,
          "cop_marine:vertExtentMin": 0,
          "created": "2012-08-26",
          "cube:dimensions": {
           "latitude": {
            "axis": "y",
            "extent": [
             -89.9375,
             89.9375
            ],
            "reference_system": 4326,
            "step": 0.125,
            "type": "spatial"
           },
           "longitude": {
            "axis": "x",
            "extent": [
             -179.9375,
             179.9375
            ],
            "reference_system": 4326,
            "step": 0.125,
            "type": "spatial"
           },
           "time": {
            "extent": [
             "2020-07-01T00:00:00Z",
             "2024-09-17T23:00:00Z"
            ],
            "step": "PT1H",
            "type": "temporal"
           }
          },
          "cube:variables": {
           "air_density": {
            "abbreviation": "air_density",
            "colormapDiffId": "balance",
            "colormapDiffInvert": false,
            "colormapId": "viridis",
            "colormapInvert": false,
            "dimensions": [
             "time",
             "latitude",
             "longitude"
            ],
            "hasLogScale": true,
            "id": "air_density",
            "logScale": false,
            "missingValue": -32767,
            "name": {
             "en": "Air density at 10 m"
            },
            "offset": 0,
            "scale": 0.001,
            "standardName": "air_density",
            "type": "data",
            "unit": "kg m-3",
            "unitConversion": null,
            "valueClamp": true,
            "valueColor": false,
            "valueDiffMax": 0.2080000638961792,
            "valueDiffRelMax": 25,
            "valueMax": 1.5690001249313354,
            "valueMin": 1.152999997138977
           },
           "eastward_stress": {
            "abbreviation": "eastward_stress",
            "colormapDiffId": "balance",
            "colormapDiffInvert": false,
            "colormapId": "balance",
            "colormapInvert": false,
            "dimensions": [
             "time",
             "latitude",
             "longitude"
            ],
            "hasLogScale": false,
            "id": "eastward_stress",
            "logScale": false,
            "missingValue": -2147483647,
            "name": {
             "en": "Surface wind stress eastward component"
            },
            "offset": 0,
            "scale": 0.01,
            "standardName": "surface_downward_eastward_stress",
            "type": "data",
            "unit": "N m-2",
            "unitConversion": null,
            "valueClamp": true,
            "valueColor": false,
            "valueDiffMax": 1.53,
            "valueDiffRelMax": 25,
            "valueMax": 1.53,
            "valueMin": -1.53
           },
           "eastward_stress_bias": {
            "abbreviation": "eastward_stress_bias",
            "colormapDiffId": "balance",
            "colormapDiffInvert": false,
            "colormapId": "balance",
            "colormapInvert": false,
            "dimensions": [
             "time",
             "latitude",
             "longitude"
            ],
            "hasLogScale": false,
            "id": "eastward_stress_bias",
            "logScale": false,
            "missingValue": -2147483647,
            "name": {
             "en": "Scatterometer-model bias of surface wind stress eastward component"
            },
            "offset": 0,
            "scale": 0.01,
            "standardName": "surface_downward_eastward_stress_bias",
            "type": "data",
            "unit": "N m-2",
            "unitConversion": null,
            "valueClamp": true,
            "valueColor": false,
            "valueDiffMax": 0.03,
            "valueDiffRelMax": 25,
            "valueMax": 0.03,
            "valueMin": -0.03
           },
           "eastward_stress_sdd": {
            "abbreviation": "eastward_stress_sdd",
            "colormapDiffId": "balance",
            "colormapDiffInvert": false,
            "colormapId": "viridis",
            "colormapInvert": false,
            "dimensions": [
             "time",
             "latitude",
             "longitude"
            ],
            "hasLogScale": true,
            "id": "eastward_stress_sdd",
            "logScale": false,
            "missingValue": -2147483647,
            "name": {
             "en": "Standard deviation of differences of surface wind stress eastward component"
            },
            "offset": 0,
            "scale": 0.01,
            "standardName": "surface_downward_eastward_stress_standard_deviation_of_differences",
            "type": "data",
            "unit": "N m-2",
            "unitConversion": null,
            "valueClamp": true,
            "valueColor": false,
            "valueDiffMax": 0.035,
            "valueDiffRelMax": 25,
            "valueMax": 0.08,
            "valueMin": 0.01
           },
           "eastward_wind": {
            "abbreviation": "eastward_wind",
            "colormapDiffId": "balance",
            "colormapDiffInvert": false,
            "colormapId": "balance",
            "colormapInvert": false,
            "dimensions": [
             "time",
             "latitude",
             "longitude"
            ],
            "hasLogScale": false,
            "id": "eastward_wind",
            "logScale": false,
            "missingValue": -32767,
            "name": {
             "en": "Stress-equivalent wind eastward component at 10 m"
            },
            "offset": 0,
            "scale": 0.01,
            "standardName": "eastward_wind",
            "type": "data",
            "unit": "m s-1",
            "unitConversion": null,
            "valueClamp": true,
            "valueColor": false,
            "valueDiffMax": 37.04999828338623,
            "valueDiffRelMax": 25,
            "valueMax": 37.04999828338623,
            "valueMin": -37.04999828338623
           },
           "eastward_wind_bias": {
            "abbreviation": "eastward_wind_bias",
            "colormapDiffId": "balance",
            "colormapDiffInvert": false,
            "colormapId": "balance",
            "colormapInvert": false,
            "dimensions": [
             "time",
             "latitude",
             "longitude"
            ],
            "hasLogScale": false,
            "id": "eastward_wind_bias",
            "logScale": false,
            "missingValue": -32767,
            "name": {
             "en": "Scatterometer-model bias of stress-equivalent wind eastward component at 10 m"
            },
            "offset": 0,
            "scale": 0.01,
            "standardName": "eastward_wind_bias",
            "type": "data",
            "unit": "m s-1",
            "unitConversion": null,
            "valueClamp": true,
            "valueColor": false,
            "valueDiffMax": 0.9300000071525574,
            "valueDiffRelMax": 25,
            "valueMax": 0.9300000071525574,
            "valueMin": -0.9300000071525574
           },
           "eastward_wind_sdd": {
            "abbreviation": "eastward_wind_sdd",
            "colormapDiffId": "balance",
            "colormapDiffInvert": false,
            "colormapId": "viridis",
            "colormapInvert": false,
            "dimensions": [
             "time",
             "latitude",
             "longitude"
            ],
            "hasLogScale": true,
            "id": "eastward_wind_sdd",
            "logScale": false,
            "missingValue": -32767,
            "name": {
             "en": "Standard deviation of differences of stress-equivalent wind eastward component at 10 m"
            },
            "offset": 0,
            "scale": 0.01,
            "standardName": "eastward_wind_standard_deviation_of_differences",
            "type": "data",
            "unit": "m s-1",
            "unitConversion": null,
            "valueClamp": true,
            "valueColor": false,
            "valueDiffMax": 0.8099999129772186,
            "valueDiffRelMax": 25,
            "valueMax": 2.169999837875366,
            "valueMin": 0.550000011920929
           },
           "northward_stress": {
            "abbreviation": "northward_stress",
            "colormapDiffId": "balance",
            "colormapDiffInvert": false,
            "colormapId": "balance",
            "colormapInvert": false,
            "dimensions": [
             "time",
             "latitude",
             "longitude"
            ],
            "hasLogScale": false,
            "id": "northward_stress",
            "logScale": false,
            "missingValue": -2147483647,
            "name": {
             "en": "Surface wind stress northward component"
            },
            "offset": 0,
            "scale": 0.01,
            "standardName": "surface_downward_northward_stress",
            "type": "data",
            "unit": "N m-2",
            "unitConversion": null,
            "valueClamp": true,
            "valueColor": false,
            "valueDiffMax": 1.53,
            "valueDiffRelMax": 25,
            "valueMax": 1.53,
            "valueMin": -1.53
           },
           "northward_stress_bias": {
            "abbreviation": "northward_stress_bias",
            "colormapDiffId": "balance",
            "colormapDiffInvert": false,
            "colormapId": "balance",
            "colormapInvert": false,
            "dimensions": [
             "time",
             "latitude",
             "longitude"
            ],
            "hasLogScale": false,
            "id": "northward_stress_bias",
            "logScale": false,
            "missingValue": -2147483647,
            "name": {
             "en": "Scatterometer-model bias of surface wind stress northward component"
            },
            "offset": 0,
            "scale": 0.01,
            "standardName": "surface_downward_northward_stress_bias",
            "type": "data",
            "unit": "N m-2",
            "unitConversion": null,
            "valueClamp": true,
            "valueColor": false,
            "valueDiffMax": 0.02,
            "valueDiffRelMax": 25,
            "valueMax": 0.02,
            "valueMin": -0.02
           },
           "northward_stress_sdd": {
            "abbreviation": "northward_stress_sdd",
            "colormapDiffId": "balance",
            "colormapDiffInvert": false,
            "colormapId": "viridis",
            "colormapInvert": false,
            "dimensions": [
             "time",
             "latitude",
             "longitude"
            ],
            "hasLogScale": true,
            "id": "northward_stress_sdd",
            "logScale": false,
            "missingValue": -2147483647,
            "name": {
             "en": "Standard deviation of differences of surface wind stress northward component"
            },
            "offset": 0,
            "scale": 0.01,
            "standardName": "surface_downward_northward_stress_standard_deviation_of_differences",
            "type": "data",
            "unit": "N m-2",
            "unitConversion": null,
            "valueClamp": true,
            "valueColor": false,
            "valueDiffMax": 0.030000000000000002,
            "valueDiffRelMax": 25,
            "valueMax": 0.07,
            "valueMin": 0.01
           },
           "northward_wind": {
            "abbreviation": "northward_wind",
            "colormapDiffId": "balance",
            "colormapDiffInvert": false,
            "colormapId": "balance",
            "colormapInvert": false,
            "dimensions": [
             "time",
             "latitude",
             "longitude"
            ],
            "hasLogScale": false,
            "id": "northward_wind",
            "logScale": false,
            "missingValue": -32767,
            "name": {
             "en": "Stress-equivalent wind northward component at 10 m"
            },
            "offset": 0,
            "scale": 0.01,
            "standardName": "northward_wind",
            "type": "data",
            "unit": "m s-1",
            "unitConversion": null,
            "valueClamp": true,
            "valueColor": false,
            "valueDiffMax": 37.04999828338623,
            "valueDiffRelMax": 25,
            "valueMax": 37.04999828338623,
            "valueMin": -37.04999828338623
           },
           "northward_wind_bias": {
            "abbreviation": "northward_wind_bias",
            "colormapDiffId": "balance",
            "colormapDiffInvert": false,
            "colormapId": "balance",
            "colormapInvert": false,
            "dimensions": [
             "time",
             "latitude",
             "longitude"
            ],
            "hasLogScale": false,
            "id": "northward_wind_bias",
            "logScale": false,
            "missingValue": -32767,
            "name": {
             "en": "Scatterometer-model bias of stress-equivalent wind northward component at 10 m"
            },
            "offset": 0,
            "scale": 0.01,
            "standardName": "northward_wind_bias",
            "type": "data",
            "unit": "m s-1",
            "unitConversion": null,
            "valueClamp": true,
            "valueColor": false,
            "valueDiffMax": 0.8399999737739563,
            "valueDiffRelMax": 25,
            "valueMax": 0.8399999737739563,
            "valueMin": -0.8399999737739563
           },
           "northward_wind_sdd": {
            "abbreviation": "northward_wind_sdd",
            "colormapDiffId": "balance",
            "colormapDiffInvert": false,
            "colormapId": "viridis",
            "colormapInvert": false,
            "dimensions": [
             "time",
             "latitude",
             "longitude"
            ],
            "hasLogScale": true,
            "id": "northward_wind_sdd",
            "logScale": false,
            "missingValue": -32767,
            "name": {
             "en": "Standard deviation of differences of stress-equivalent wind northward component at 10 m"
            },
            "offset": 0,
            "scale": 0.01,
            "standardName": "northward_wind_standard_deviation_of_differences",
            "type": "data",
            "unit": "m s-1",
            "unitConversion": null,
            "valueClamp": true,
            "valueColor": false,
            "valueDiffMax": 0.8549999296665192,
            "valueDiffRelMax": 25,
            "valueMax": 2.3899998664855957,
            "valueMin": 0.6800000071525574
           },
           "number_of_observations": {
            "abbreviation": "number_of_observations",
            "colormapDiffId": "balance",
            "colormapDiffInvert": false,
            "colormapId": "viridis",
            "colormapInvert": false,
            "dimensions": [
             "time",
             "latitude",
             "longitude"
            ],
            "hasLogScale": true,
            "id": "number_of_observations",
            "logScale": false,
            "missingValue": -32767,
            "name": {
             "en": "Number of observations used for scatterometer-model bias"
            },
            "offset": null,
            "scale": null,
            "standardName": "number_of_observations",
            "type": "data",
            "unit": 1,
            "unitConversion": null,
            "valueClamp": true,
            "valueColor": false,
            "valueDiffMax": 21,
            "valueDiffRelMax": 25,
            "valueMax": 69,
            "valueMin": 27
           },
           "number_of_observations_divcurl": {
            "abbreviation": "number_of_observations_divcurl",
            "colormapDiffId": "balance",
            "colormapDiffInvert": false,
            "colormapId": "viridis",
            "colormapInvert": false,
            "dimensions": [
             "time",
             "latitude",
             "longitude"
            ],
            "hasLogScale": true,
            "id": "number_of_observations_divcurl",
            "logScale": false,
            "missingValue": -32767,
            "name": {
             "en": "Number of observations used for scatterometer-model divergence and curl bias"
            },
            "offset": null,
            "scale": null,
            "standardName": "number_of_observations",
            "type": "data",
            "unit": 1,
            "unitConversion": null,
            "valueClamp": true,
            "valueColor": false,
            "valueDiffMax": 27.5,
            "valueDiffRelMax": 25,
            "valueMax": 65,
            "valueMin": 10
           },
           "stress_curl": {
            "abbreviation": "stress_curl",
            "colormapDiffId": "balance",
            "colormapDiffInvert": false,
            "colormapId": "viridis",
            "colormapInvert": false,
            "dimensions": [
             "time",
             "latitude",
             "longitude"
            ],
            "hasLogScale": false,
            "id": "stress_curl",
            "logScale": false,
            "missingValue": -2147483647,
            "name": {
             "en": "Curl of surface wind stress"
            },
            "offset": 0,
            "scale": 1e-10,
            "standardName": "vertical_component_of_surface_downward_stress_curl",
            "type": "data",
            "unit": "N m-3",
            "unitConversion": null,
            "valueClamp": true,
            "valueColor": false,
            "valueDiffMax": 2.3519000000000003e-06,
            "valueDiffRelMax": 25,
            "valueMax": 2.1812e-06,
            "valueMin": -2.5226e-06
           },
           "stress_curl_bias": {
            "abbreviation": "stress_curl_bias",
            "colormapDiffId": "balance",
            "colormapDiffInvert": false,
            "colormapId": "balance",
            "colormapInvert": false,
            "dimensions": [
             "time",
             "latitude",
             "longitude"
            ],
            "hasLogScale": false,
            "id": "stress_curl_bias",
            "logScale": false,
            "missingValue": -2147483647,
            "name": {
             "en": "Scatterometer-model bias of curl of surface wind stress"
            },
            "offset": 0,
            "scale": 1e-10,
            "standardName": "vertical_component_of_surface_downward_stress_curl_bias",
            "type": "data",
            "unit": "N m-3",
            "unitConversion": null,
            "valueClamp": true,
            "valueColor": false,
            "valueDiffMax": 5.091e-07,
            "valueDiffRelMax": 25,
            "valueMax": 5.091e-07,
            "valueMin": -5.091e-07
           },
           "stress_curl_dv": {
            "abbreviation": "stress_curl_dv",
            "colormapDiffId": "balance",
            "colormapDiffInvert": false,
            "colormapId": "viridis",
            "colormapInvert": false,
            "dimensions": [
             "time",
             "latitude",
             "longitude"
            ],
            "hasLogScale": false,
            "id": "stress_curl_dv",
            "logScale": false,
            "missingValue": -2147483647,
            "name": {
             "en": "Difference of scatterometer and model variances of curl of surface wind stress"
            },
            "offset": 0,
            "scale": 1e-15,
            "standardName": "vertical_component_of_surface_downward_stress_curl_difference_of_variances",
            "type": "data",
            "unit": "N2 m-6",
            "unitConversion": null,
            "valueClamp": true,
            "valueColor": false,
            "valueDiffMax": 3.1755000000000004e-12,
            "valueDiffRelMax": 25,
            "valueMax": 5.266e-12,
            "valueMin": -1.0850000000000001e-12
           },
           "stress_divergence": {
            "abbreviation": "stress_divergence",
            "colormapDiffId": "balance",
            "colormapDiffInvert": false,
            "colormapId": "viridis",
            "colormapInvert": false,
            "dimensions": [
             "time",
             "latitude",
             "longitude"
            ],
            "hasLogScale": false,
            "id": "stress_divergence",
            "logScale": false,
            "missingValue": -2147483647,
            "name": {
             "en": "Divergence of surface wind stress"
            },
            "offset": 0,
            "scale": 1e-10,
            "standardName": "divergence_of_surface_downward_stress",
            "type": "data",
            "unit": "N m-3",
            "unitConversion": null,
            "valueClamp": true,
            "valueColor": false,
            "valueDiffMax": 2.0739629999999886e-06,
            "valueDiffRelMax": 25,
            "valueMax": 1.9623259999999777e-06,
            "valueMin": -2.1856e-06
           },
           "stress_divergence_bias": {
            "abbreviation": "stress_divergence_bias",
            "colormapDiffId": "balance",
            "colormapDiffInvert": false,
            "colormapId": "balance",
            "colormapInvert": false,
            "dimensions": [
             "time",
             "latitude",
             "longitude"
            ],
            "hasLogScale": false,
            "id": "stress_divergence_bias",
            "logScale": false,
            "missingValue": -2147483647,
            "name": {
             "en": "Scatterometer-model bias of divergence of surface wind stress"
            },
            "offset": 0,
            "scale": 1e-10,
            "standardName": "divergence_of_surface_downward_stress_bias",
            "type": "data",
            "unit": "N m-3",
            "unitConversion": null,
            "valueClamp": true,
            "valueColor": false,
            "valueDiffMax": 4.885000000000001e-07,
            "valueDiffRelMax": 25,
            "valueMax": 4.885000000000001e-07,
            "valueMin": -4.885000000000001e-07
           },
           "stress_divergence_dv": {
            "abbreviation": "stress_divergence_dv",
            "colormapDiffId": "balance",
            "colormapDiffInvert": false,
            "colormapId": "viridis",
            "colormapInvert": false,
            "dimensions": [
             "time",
             "latitude",
             "longitude"
            ],
            "hasLogScale": false,
            "id": "stress_divergence_dv",
            "logScale": false,
            "missingValue": -2147483647,
            "name": {
             "en": "Difference of scatterometer and model variances of divergence of surface wind stress"
            },
            "offset": 0,
            "scale": 1e-15,
            "standardName": "divergence_of_surface_downward_stress_difference_of_variances",
            "type": "data",
            "unit": "N2 m-6",
            "unitConversion": null,
            "valueClamp": true,
            "valueColor": false,
            "valueDiffMax": 2.2560000000000005e-12,
            "valueDiffRelMax": 25,
            "valueMax": 4.463000000000001e-12,
            "valueMin": -4.9000000000000006e-14
           },
           "wind_curl": {
            "abbreviation": "wind_curl",
            "colormapDiffId": "balance",
            "colormapDiffInvert": false,
            "colormapId": "viridis",
            "colormapInvert": false,
            "dimensions": [
             "time",
             "latitude",
             "longitude"
            ],
            "hasLogScale": false,
            "id": "wind_curl",
            "logScale": false,
            "missingValue": -2147483647,
            "name": {
             "en": "Curl of stress-equivalent wind at 10 m"
            },
            "offset": 0,
            "scale": 1e-07,
            "standardName": "atmosphere_relative_vorticity",
            "type": "data",
            "unit": "s-1",
            "unitConversion": null,
            "valueClamp": true,
            "valueColor": false,
            "valueDiffMax": 8.955e-05,
            "valueDiffRelMax": 25,
            "valueMax": 8.68e-05,
            "valueMin": -9.23e-05
           },
           "wind_curl_bias": {
            "abbreviation": "wind_curl_bias",
            "colormapDiffId": "balance",
            "colormapDiffInvert": false,
            "colormapId": "balance",
            "colormapInvert": false,
            "dimensions": [
             "time",
             "latitude",
             "longitude"
            ],
            "hasLogScale": false,
            "id": "wind_curl_bias",
            "logScale": false,
            "missingValue": -2147483647,
            "name": {
             "en": "Scatterometer-model bias of curl of stress-equivalent wind at 10 m"
            },
            "offset": 0,
            "scale": 1e-07,
            "standardName": "atmosphere_relative_vorticity_bias",
            "type": "data",
            "unit": "s-1",
            "unitConversion": null,
            "valueClamp": true,
            "valueColor": false,
            "valueDiffMax": 1.82e-05,
            "valueDiffRelMax": 25,
            "valueMax": 1.82e-05,
            "valueMin": -1.82e-05
           },
           "wind_curl_dv": {
            "abbreviation": "wind_curl_dv",
            "colormapDiffId": "balance",
            "colormapDiffInvert": false,
            "colormapId": "viridis",
            "colormapInvert": false,
            "dimensions": [
             "time",
             "latitude",
             "longitude"
            ],
            "hasLogScale": false,
            "id": "wind_curl_dv",
            "logScale": false,
            "missingValue": -2147483647,
            "name": {
             "en": "Difference of scatterometer and model variances of curl of stress-equivalent wind at 10 m"
            },
            "offset": 0,
            "scale": 1e-11,
            "standardName": "atmosphere_relative_vorticity_difference_of_variances",
            "type": "data",
            "unit": "s-2",
            "unitConversion": null,
            "valueClamp": true,
            "valueColor": false,
            "valueDiffMax": 3.5999999999999996e-09,
            "valueDiffRelMax": 25,
            "valueMax": 6.399999999999999e-09,
            "valueMin": -7.999999999999999e-10
           },
           "wind_divergence": {
            "abbreviation": "wind_divergence",
            "colormapDiffId": "balance",
            "colormapDiffInvert": false,
            "colormapId": "viridis",
            "colormapInvert": false,
            "dimensions": [
             "time",
             "latitude",
             "longitude"
            ],
            "hasLogScale": false,
            "id": "wind_divergence",
            "logScale": false,
            "missingValue": -2147483647,
            "name": {
             "en": "Divergence of stress-equivalent wind at 10 m"
            },
            "offset": 0,
            "scale": 1e-07,
            "standardName": "divergence_of_wind",
            "type": "data",
            "unit": "s-1",
            "unitConversion": null,
            "valueClamp": true,
            "valueColor": false,
            "valueDiffMax": 0.00010284999999999999,
            "valueDiffRelMax": 25,
            "valueMax": 9.63e-05,
            "valueMin": -0.00010939999999999999
           },
           "wind_divergence_bias": {
            "abbreviation": "wind_divergence_bias",
            "colormapDiffId": "balance",
            "colormapDiffInvert": false,
            "colormapId": "balance",
            "colormapInvert": false,
            "dimensions": [
             "time",
             "latitude",
             "longitude"
            ],
            "hasLogScale": false,
            "id": "wind_divergence_bias",
            "logScale": false,
            "missingValue": -2147483647,
            "name": {
             "en": "Scatterometer-model bias of divergence of stress-equivalent wind at 10 m"
            },
            "offset": 0,
            "scale": 1e-07,
            "standardName": "divergence_of_wind_bias",
            "type": "data",
            "unit": "s-1",
            "unitConversion": null,
            "valueClamp": true,
            "valueColor": false,
            "valueDiffMax": 2.09e-05,
            "valueDiffRelMax": 25,
            "valueMax": 2.09e-05,
            "valueMin": -2.09e-05
           },
           "wind_divergence_dv": {
            "abbreviation": "wind_divergence_dv",
            "colormapDiffId": "balance",
            "colormapDiffInvert": false,
            "colormapId": "viridis",
            "colormapInvert": false,
            "dimensions": [
             "time",
             "latitude",
             "longitude"
            ],
            "hasLogScale": true,
            "id": "wind_divergence_dv",
            "logScale": false,
            "missingValue": -2147483647,
            "name": {
             "en": "Difference of scatterometer and model variances of divergence of stress-equivalent wind at 10 m"
            },
            "offset": 0,
            "scale": 1e-11,
            "standardName": "divergence_of_wind_difference_of_variances",
            "type": "data",
            "unit": "s-2",
            "unitConversion": null,
            "valueClamp": true,
            "valueColor": false,
            "valueDiffMax": 3.3099999999999995e-09,
            "valueDiffRelMax": 25,
            "valueMax": 6.849999999999999e-09,
            "valueMin": 2.2999999999999998e-10
           }
          },
          "datetime": "2024-05-31T00:00:00Z",
          "end_datetime": "2024-05-31T00:00:00Z",
          "instruments": [
           "ASCAT, ASCAT"
          ],
          "license": "proprietary",
          "order:status": "",
          "processing:level": "Level 4",
          "providers": [
           {
            "description": "Copernicus Marine Data Store",
            "name": "cop_marine",
            "priority": 0,
            "roles": [
             "host"
            ],
            "url": "https://marine.copernicus.eu/"
           }
          ],
          "start_datetime": "2024-05-31T00:00:00Z"
         },
         "stac_extensions": [
          "https://stac-extensions.github.io/processing/v1.0.0/schema.json",
          "https://stac-extensions.github.io/order/v1.1.0/schema.json"
         ],
         "stac_version": "1.0.0",
         "type": "Feature"
        },
        {
         "assets": {
          "downloadLink": {
           "alternate": {
            "origin": {
             "href": "https://s3.waw3-1.cloudferro.com/mdl-native-04/native/WIND_GLO_PHY_L4_NRT_012_004/cmems_obs-wind_glo_phy_nrt_l4_0.125deg_PT1H_202207/2024/05/cmems_obs-wind_glo_phy_nrt_l4_0.125deg_PT1H_2024053113_R20240531T00_13.nc",
             "title": "Origin asset link"
            }
           },
           "href": "https://hda.data.destination-earth.eu/stac/collections/EO.MO.DAT.WIND_GLO_PHY_L4_NRT_012_004/items/cmems_obs-wind_glo_phy_nrt_l4_0/download?provider=cop_marine",
           "title": "Download link",
           "type": "application/zip"
          },
          "native": {
           "alternate": {
            "origin": {
             "href": "https://s3.waw3-1.cloudferro.com/mdl-native-04/native/WIND_GLO_PHY_L4_NRT_012_004/cmems_obs-wind_glo_phy_nrt_l4_0.125deg_PT1H_202207/2024/05/cmems_obs-wind_glo_phy_nrt_l4_0.125deg_PT1H_2024053113_R20240531T00_13.nc",
             "title": "Origin asset link",
             "type": "application/x-netcdf"
            }
           },
           "href": "https://hda.data.destination-earth.eu/stac/collections/EO.MO.DAT.WIND_GLO_PHY_L4_NRT_012_004/items/cmems_obs-wind_glo_phy_nrt_l4_0/download/native?provider=cop_marine",
           "title": "native",
           "type": "application/x-netcdf"
          },
          "thumbnail": {
           "href": "https://mdl-metadata.s3.waw3-1.cloudferro.com/metadata/thumbnails/WIND_GLO_PHY_L4_NRT_012_004.jpg",
           "role": "thumbnail",
           "title": "Thumbnail",
           "type": "image/jpeg"
          }
         },
         "bbox": [
          -180,
          -90,
          180,
          90
         ],
         "collection": "EO.MO.DAT.WIND_GLO_PHY_L4_NRT_012_004",
         "geometry": {
          "coordinates": [
           [
            [
             180,
             -90
            ],
            [
             180,
             90
            ],
            [
             -180,
             90
            ],
            [
             -180,
             -90
            ],
            [
             180,
             -90
            ]
           ]
          ],
          "type": "Polygon"
         },
         "id": "cmems_obs-wind_glo_phy_nrt_l4_0",
         "links": [
          {
           "href": "https://hda.data.destination-earth.eu/stac/collections/EO.MO.DAT.WIND_GLO_PHY_L4_NRT_012_004/items/cmems_obs-wind_glo_phy_nrt_l4_0",
           "rel": "self",
           "title": "cmems_obs-wind_glo_phy_nrt_l4_0"
          },
          {
           "href": "https://hda.data.destination-earth.eu/stac/",
           "rel": "root"
          },
          {
           "href": "https://hda.data.destination-earth.eu/stac/collections/EO.MO.DAT.WIND_GLO_PHY_L4_NRT_012_004",
           "rel": "parent",
           "title": "EO.MO.DAT.WIND_GLO_PHY_L4_NRT_012_004"
          },
          {
           "href": "https://hda.data.destination-earth.eu/stac/collections/EO.MO.DAT.WIND_GLO_PHY_L4_NRT_012_004",
           "rel": "collection",
           "title": "EO.MO.DAT.WIND_GLO_PHY_L4_NRT_012_004"
          }
         ],
         "properties": {
          "constellation": "Metop-B, Metop-C",
          "cop_marine:Conventions": "CF-1.6, ACDD-1.3",
          "cop_marine:admp_in_preparation": false,
          "cop_marine:admp_updated": "2024-09-18T10:37:03.450397Z",
          "cop_marine:admp_valid_start_date": "2022-03-11T12:00:00.000000000Z",
          "cop_marine:admp_valid_start_index": 14844,
          "cop_marine:allVariables": [
           "Eastward wind (WIND)",
           "Northward wind (WIND)",
           "Surface downward eastward stress (WIND)",
           "Surface downward northward stress (WIND)",
           "Stress curl (WIND)",
           "Stress divergence (WIND)",
           "Air density (WIND)",
           "Wind curl (WIND)",
           "Wind divergence (WIND)"
          ],
          "cop_marine:altId": "63ee69f1-2628-43aa-9b22-b21749d160ba",
          "cop_marine:areas": [
           "Global Ocean"
          ],
          "cop_marine:assimilatedData": [],
          "cop_marine:colors": [
           "Blue Ocean"
          ],
          "cop_marine:communities": [
           "Policy & governance",
           "Science & innovation",
           "Extremes, hazards & safety",
           "Coastal services",
           "Natural resources & energy",
           "Trade & marine navigation"
          ],
          "cop_marine:contacts": [
           {
            "email": "scat@knmi.nl",
            "name": "Service Desk KNMI",
            "organisationName": "SIW-KNMI-DEBILT-NL",
            "responsiblePartyRole": "pointOfContact"
           },
           {
            "email": "ad.stoffelen@knmi.nl",
            "name": "Ad STOFFELEN",
            "organisationName": "SIW-KNMI-DEBILT-NL",
            "responsiblePartyRole": "custodian"
           },
           {
            "email": "rianne.giesen@knmi.nl",
            "name": "Rianne GIESEN",
            "organisationName": "SIW-KNMI-DEBILT-NL",
            "responsiblePartyRole": "originator"
           },
           {
            "email": "scat@knmi.nl",
            "name": "Anton VERHOEF",
            "organisationName": "SIW-KNMI-DEBILT-NL",
            "responsiblePartyRole": "resourceProvider"
           },
           {
            "email": "scat@knmi.nl",
            "name": "Service Desk KNMI",
            "organisationName": "SIW-KNMI-DEBILT-NL",
            "responsiblePartyRole": "distributor"
           }
          ],
          "cop_marine:crs": "EPSG:4326",
          "cop_marine:dataset": "cmems_obs-wind_glo_phy_nrt_l4_0.125deg_PT1H_202207",
          "cop_marine:date_created": "2022-06-23T01:30:26",
          "cop_marine:date_modified": "2022-06-23T01:30:26",
          "cop_marine:directives": [],
          "cop_marine:featureTypes": [
           "Grid"
          ],
          "cop_marine:formats": [
           "NetCDF-4"
          ],
          "cop_marine:geoExtent": {
           "coordinates": [
            [
             -180,
             90
            ],
            [
             180,
             -90
            ]
           ],
           "type": "envelope"
          },
          "cop_marine:geoResolution": {
           "column": {
            "magnitude": 0.125,
            "units": "degree"
           },
           "row": {
            "magnitude": 0.125,
            "units": "degree"
           }
          },
          "cop_marine:geospatial_lat_max": 89.9375,
          "cop_marine:geospatial_lat_min": -89.9375,
          "cop_marine:geospatial_lat_resolution": 0.125,
          "cop_marine:geospatial_lat_units": "degrees_north",
          "cop_marine:geospatial_lon_max": 179.9375,
          "cop_marine:geospatial_lon_min": -179.9375,
          "cop_marine:geospatial_lon_resolution": 0.125,
          "cop_marine:geospatial_lon_units": "degrees_east",
          "cop_marine:history": "N/A",
          "cop_marine:indicatorFamilies": [],
          "cop_marine:institution": "Royal Netherlands Meteorological Institute (KNMI)",
          "cop_marine:instrument_vocabulary": "CEOS",
          "cop_marine:isStaging": false,
          "cop_marine:mainVariables": [
           "Wind"
          ],
          "cop_marine:model": "ECMWF Operational model",
          "cop_marine:modifiedDate": "2024-06-18",
          "cop_marine:platform_vocabulary": "CEOS",
          "cop_marine:processing_level": "L4",
          "cop_marine:project": "Copernicus Marine Service Wind Thematic Assembly Centre",
          "cop_marine:projection": "WGS 84 (EPSG:4326)",
          "cop_marine:providerMetadata": {
           "source": "cmems",
           "type": "csw",
           "url": "https://cmems-catalog-ro.cls.fr/geonetwork/srv/eng/csw-MYOCEAN-CORE-PRODUCTS?service=CSW&version=2.0.2&request=GetRecordById&id=63ee69f1-2628-43aa-9b22-b21749d160ba&elementsetname=full&outputSchema=http://www.isotc211.org/2005/gmd"
          },
          "cop_marine:rank": 14000,
          "cop_marine:references": "Copernicus Marine Service Product User Manual CMEMS-TAC-WIND-PUM-012-004, Trindade et al. (2020) doi:10.1109/TGRS.2019.2946019",
          "cop_marine:sources": [
           "Numerical models",
           "Satellite observations"
          ],
          "cop_marine:summary": "Global ocean 10-m stress-equivalent wind and surface wind stress fields based on the ECMWF operational model winds, bias-corrected using scatterometer observations",
          "cop_marine:tempExtentBegin": "",
          "cop_marine:tempResolutions": [
           "Hourly"
          ],
          "cop_marine:thumbnailMeta": {
           "basemapId": "dark",
           "colormapId": "speed",
           "colormapInvert": false,
           "creationDate": "2023-06-18T06:37:19.450Z",
           "crs": "epsg:4326",
           "elevation": null,
           "layerId": "WIND_GLO_PHY_L4_NRT_012_004/cmems_obs-wind_glo_phy_nrt_l4_0.125deg_PT1H_202207/wind",
           "logScale": false,
           "overlays": {
            "tags": [
             {
              "name": "Wind"
             }
            ]
           },
           "style": "default",
           "time": 1593561600000,
           "valueClamp": true,
           "valueMax": 37.04999828338623,
           "valueMin": 0
          },
          "cop_marine:time_coverage_end": "2020-07-01T00:00:00",
          "cop_marine:time_coverage_start": "2020-07-01T00:00:00",
          "cop_marine:times": [
           "Present",
           "Past"
          ],
          "cop_marine:updateFrequencies": {
           "daily": "15:00"
          },
          "cop_marine:useCases": [],
          "cop_marine:vertExtentMax": 0,
          "cop_marine:vertExtentMin": 0,
          "created": "2012-08-26",
          "cube:dimensions": {
           "latitude": {
            "axis": "y",
            "extent": [
             -89.9375,
             89.9375
            ],
            "reference_system": 4326,
            "step": 0.125,
            "type": "spatial"
           },
           "longitude": {
            "axis": "x",
            "extent": [
             -179.9375,
             179.9375
            ],
            "reference_system": 4326,
            "step": 0.125,
            "type": "spatial"
           },
           "time": {
            "extent": [
             "2020-07-01T00:00:00Z",
             "2024-09-17T23:00:00Z"
            ],
            "step": "PT1H",
            "type": "temporal"
           }
          },
          "cube:variables": {
           "air_density": {
            "abbreviation": "air_density",
            "colormapDiffId": "balance",
            "colormapDiffInvert": false,
            "colormapId": "viridis",
            "colormapInvert": false,
            "dimensions": [
             "time",
             "latitude",
             "longitude"
            ],
            "hasLogScale": true,
            "id": "air_density",
            "logScale": false,
            "missingValue": -32767,
            "name": {
             "en": "Air density at 10 m"
            },
            "offset": 0,
            "scale": 0.001,
            "standardName": "air_density",
            "type": "data",
            "unit": "kg m-3",
            "unitConversion": null,
            "valueClamp": true,
            "valueColor": false,
            "valueDiffMax": 0.2080000638961792,
            "valueDiffRelMax": 25,
            "valueMax": 1.5690001249313354,
            "valueMin": 1.152999997138977
           },
           "eastward_stress": {
            "abbreviation": "eastward_stress",
            "colormapDiffId": "balance",
            "colormapDiffInvert": false,
            "colormapId": "balance",
            "colormapInvert": false,
            "dimensions": [
             "time",
             "latitude",
             "longitude"
            ],
            "hasLogScale": false,
            "id": "eastward_stress",
            "logScale": false,
            "missingValue": -2147483647,
            "name": {
             "en": "Surface wind stress eastward component"
            },
            "offset": 0,
            "scale": 0.01,
            "standardName": "surface_downward_eastward_stress",
            "type": "data",
            "unit": "N m-2",
            "unitConversion": null,
            "valueClamp": true,
            "valueColor": false,
            "valueDiffMax": 1.53,
            "valueDiffRelMax": 25,
            "valueMax": 1.53,
            "valueMin": -1.53
           },
           "eastward_stress_bias": {
            "abbreviation": "eastward_stress_bias",
            "colormapDiffId": "balance",
            "colormapDiffInvert": false,
            "colormapId": "balance",
            "colormapInvert": false,
            "dimensions": [
             "time",
             "latitude",
             "longitude"
            ],
            "hasLogScale": false,
            "id": "eastward_stress_bias",
            "logScale": false,
            "missingValue": -2147483647,
            "name": {
             "en": "Scatterometer-model bias of surface wind stress eastward component"
            },
            "offset": 0,
            "scale": 0.01,
            "standardName": "surface_downward_eastward_stress_bias",
            "type": "data",
            "unit": "N m-2",
            "unitConversion": null,
            "valueClamp": true,
            "valueColor": false,
            "valueDiffMax": 0.03,
            "valueDiffRelMax": 25,
            "valueMax": 0.03,
            "valueMin": -0.03
           },
           "eastward_stress_sdd": {
            "abbreviation": "eastward_stress_sdd",
            "colormapDiffId": "balance",
            "colormapDiffInvert": false,
            "colormapId": "viridis",
            "colormapInvert": false,
            "dimensions": [
             "time",
             "latitude",
             "longitude"
            ],
            "hasLogScale": true,
            "id": "eastward_stress_sdd",
            "logScale": false,
            "missingValue": -2147483647,
            "name": {
             "en": "Standard deviation of differences of surface wind stress eastward component"
            },
            "offset": 0,
            "scale": 0.01,
            "standardName": "surface_downward_eastward_stress_standard_deviation_of_differences",
            "type": "data",
            "unit": "N m-2",
            "unitConversion": null,
            "valueClamp": true,
            "valueColor": false,
            "valueDiffMax": 0.035,
            "valueDiffRelMax": 25,
            "valueMax": 0.08,
            "valueMin": 0.01
           },
           "eastward_wind": {
            "abbreviation": "eastward_wind",
            "colormapDiffId": "balance",
            "colormapDiffInvert": false,
            "colormapId": "balance",
            "colormapInvert": false,
            "dimensions": [
             "time",
             "latitude",
             "longitude"
            ],
            "hasLogScale": false,
            "id": "eastward_wind",
            "logScale": false,
            "missingValue": -32767,
            "name": {
             "en": "Stress-equivalent wind eastward component at 10 m"
            },
            "offset": 0,
            "scale": 0.01,
            "standardName": "eastward_wind",
            "type": "data",
            "unit": "m s-1",
            "unitConversion": null,
            "valueClamp": true,
            "valueColor": false,
            "valueDiffMax": 37.04999828338623,
            "valueDiffRelMax": 25,
            "valueMax": 37.04999828338623,
            "valueMin": -37.04999828338623
           },
           "eastward_wind_bias": {
            "abbreviation": "eastward_wind_bias",
            "colormapDiffId": "balance",
            "colormapDiffInvert": false,
            "colormapId": "balance",
            "colormapInvert": false,
            "dimensions": [
             "time",
             "latitude",
             "longitude"
            ],
            "hasLogScale": false,
            "id": "eastward_wind_bias",
            "logScale": false,
            "missingValue": -32767,
            "name": {
             "en": "Scatterometer-model bias of stress-equivalent wind eastward component at 10 m"
            },
            "offset": 0,
            "scale": 0.01,
            "standardName": "eastward_wind_bias",
            "type": "data",
            "unit": "m s-1",
            "unitConversion": null,
            "valueClamp": true,
            "valueColor": false,
            "valueDiffMax": 0.9300000071525574,
            "valueDiffRelMax": 25,
            "valueMax": 0.9300000071525574,
            "valueMin": -0.9300000071525574
           },
           "eastward_wind_sdd": {
            "abbreviation": "eastward_wind_sdd",
            "colormapDiffId": "balance",
            "colormapDiffInvert": false,
            "colormapId": "viridis",
            "colormapInvert": false,
            "dimensions": [
             "time",
             "latitude",
             "longitude"
            ],
            "hasLogScale": true,
            "id": "eastward_wind_sdd",
            "logScale": false,
            "missingValue": -32767,
            "name": {
             "en": "Standard deviation of differences of stress-equivalent wind eastward component at 10 m"
            },
            "offset": 0,
            "scale": 0.01,
            "standardName": "eastward_wind_standard_deviation_of_differences",
            "type": "data",
            "unit": "m s-1",
            "unitConversion": null,
            "valueClamp": true,
            "valueColor": false,
            "valueDiffMax": 0.8099999129772186,
            "valueDiffRelMax": 25,
            "valueMax": 2.169999837875366,
            "valueMin": 0.550000011920929
           },
           "northward_stress": {
            "abbreviation": "northward_stress",
            "colormapDiffId": "balance",
            "colormapDiffInvert": false,
            "colormapId": "balance",
            "colormapInvert": false,
            "dimensions": [
             "time",
             "latitude",
             "longitude"
            ],
            "hasLogScale": false,
            "id": "northward_stress",
            "logScale": false,
            "missingValue": -2147483647,
            "name": {
             "en": "Surface wind stress northward component"
            },
            "offset": 0,
            "scale": 0.01,
            "standardName": "surface_downward_northward_stress",
            "type": "data",
            "unit": "N m-2",
            "unitConversion": null,
            "valueClamp": true,
            "valueColor": false,
            "valueDiffMax": 1.53,
            "valueDiffRelMax": 25,
            "valueMax": 1.53,
            "valueMin": -1.53
           },
           "northward_stress_bias": {
            "abbreviation": "northward_stress_bias",
            "colormapDiffId": "balance",
            "colormapDiffInvert": false,
            "colormapId": "balance",
            "colormapInvert": false,
            "dimensions": [
             "time",
             "latitude",
             "longitude"
            ],
            "hasLogScale": false,
            "id": "northward_stress_bias",
            "logScale": false,
            "missingValue": -2147483647,
            "name": {
             "en": "Scatterometer-model bias of surface wind stress northward component"
            },
            "offset": 0,
            "scale": 0.01,
            "standardName": "surface_downward_northward_stress_bias",
            "type": "data",
            "unit": "N m-2",
            "unitConversion": null,
            "valueClamp": true,
            "valueColor": false,
            "valueDiffMax": 0.02,
            "valueDiffRelMax": 25,
            "valueMax": 0.02,
            "valueMin": -0.02
           },
           "northward_stress_sdd": {
            "abbreviation": "northward_stress_sdd",
            "colormapDiffId": "balance",
            "colormapDiffInvert": false,
            "colormapId": "viridis",
            "colormapInvert": false,
            "dimensions": [
             "time",
             "latitude",
             "longitude"
            ],
            "hasLogScale": true,
            "id": "northward_stress_sdd",
            "logScale": false,
            "missingValue": -2147483647,
            "name": {
             "en": "Standard deviation of differences of surface wind stress northward component"
            },
            "offset": 0,
            "scale": 0.01,
            "standardName": "surface_downward_northward_stress_standard_deviation_of_differences",
            "type": "data",
            "unit": "N m-2",
            "unitConversion": null,
            "valueClamp": true,
            "valueColor": false,
            "valueDiffMax": 0.030000000000000002,
            "valueDiffRelMax": 25,
            "valueMax": 0.07,
            "valueMin": 0.01
           },
           "northward_wind": {
            "abbreviation": "northward_wind",
            "colormapDiffId": "balance",
            "colormapDiffInvert": false,
            "colormapId": "balance",
            "colormapInvert": false,
            "dimensions": [
             "time",
             "latitude",
             "longitude"
            ],
            "hasLogScale": false,
            "id": "northward_wind",
            "logScale": false,
            "missingValue": -32767,
            "name": {
             "en": "Stress-equivalent wind northward component at 10 m"
            },
            "offset": 0,
            "scale": 0.01,
            "standardName": "northward_wind",
            "type": "data",
            "unit": "m s-1",
            "unitConversion": null,
            "valueClamp": true,
            "valueColor": false,
            "valueDiffMax": 37.04999828338623,
            "valueDiffRelMax": 25,
            "valueMax": 37.04999828338623,
            "valueMin": -37.04999828338623
           },
           "northward_wind_bias": {
            "abbreviation": "northward_wind_bias",
            "colormapDiffId": "balance",
            "colormapDiffInvert": false,
            "colormapId": "balance",
            "colormapInvert": false,
            "dimensions": [
             "time",
             "latitude",
             "longitude"
            ],
            "hasLogScale": false,
            "id": "northward_wind_bias",
            "logScale": false,
            "missingValue": -32767,
            "name": {
             "en": "Scatterometer-model bias of stress-equivalent wind northward component at 10 m"
            },
            "offset": 0,
            "scale": 0.01,
            "standardName": "northward_wind_bias",
            "type": "data",
            "unit": "m s-1",
            "unitConversion": null,
            "valueClamp": true,
            "valueColor": false,
            "valueDiffMax": 0.8399999737739563,
            "valueDiffRelMax": 25,
            "valueMax": 0.8399999737739563,
            "valueMin": -0.8399999737739563
           },
           "northward_wind_sdd": {
            "abbreviation": "northward_wind_sdd",
            "colormapDiffId": "balance",
            "colormapDiffInvert": false,
            "colormapId": "viridis",
            "colormapInvert": false,
            "dimensions": [
             "time",
             "latitude",
             "longitude"
            ],
            "hasLogScale": true,
            "id": "northward_wind_sdd",
            "logScale": false,
            "missingValue": -32767,
            "name": {
             "en": "Standard deviation of differences of stress-equivalent wind northward component at 10 m"
            },
            "offset": 0,
            "scale": 0.01,
            "standardName": "northward_wind_standard_deviation_of_differences",
            "type": "data",
            "unit": "m s-1",
            "unitConversion": null,
            "valueClamp": true,
            "valueColor": false,
            "valueDiffMax": 0.8549999296665192,
            "valueDiffRelMax": 25,
            "valueMax": 2.3899998664855957,
            "valueMin": 0.6800000071525574
           },
           "number_of_observations": {
            "abbreviation": "number_of_observations",
            "colormapDiffId": "balance",
            "colormapDiffInvert": false,
            "colormapId": "viridis",
            "colormapInvert": false,
            "dimensions": [
             "time",
             "latitude",
             "longitude"
            ],
            "hasLogScale": true,
            "id": "number_of_observations",
            "logScale": false,
            "missingValue": -32767,
            "name": {
             "en": "Number of observations used for scatterometer-model bias"
            },
            "offset": null,
            "scale": null,
            "standardName": "number_of_observations",
            "type": "data",
            "unit": 1,
            "unitConversion": null,
            "valueClamp": true,
            "valueColor": false,
            "valueDiffMax": 21,
            "valueDiffRelMax": 25,
            "valueMax": 69,
            "valueMin": 27
           },
           "number_of_observations_divcurl": {
            "abbreviation": "number_of_observations_divcurl",
            "colormapDiffId": "balance",
            "colormapDiffInvert": false,
            "colormapId": "viridis",
            "colormapInvert": false,
            "dimensions": [
             "time",
             "latitude",
             "longitude"
            ],
            "hasLogScale": true,
            "id": "number_of_observations_divcurl",
            "logScale": false,
            "missingValue": -32767,
            "name": {
             "en": "Number of observations used for scatterometer-model divergence and curl bias"
            },
            "offset": null,
            "scale": null,
            "standardName": "number_of_observations",
            "type": "data",
            "unit": 1,
            "unitConversion": null,
            "valueClamp": true,
            "valueColor": false,
            "valueDiffMax": 27.5,
            "valueDiffRelMax": 25,
            "valueMax": 65,
            "valueMin": 10
           },
           "stress_curl": {
            "abbreviation": "stress_curl",
            "colormapDiffId": "balance",
            "colormapDiffInvert": false,
            "colormapId": "viridis",
            "colormapInvert": false,
            "dimensions": [
             "time",
             "latitude",
             "longitude"
            ],
            "hasLogScale": false,
            "id": "stress_curl",
            "logScale": false,
            "missingValue": -2147483647,
            "name": {
             "en": "Curl of surface wind stress"
            },
            "offset": 0,
            "scale": 1e-10,
            "standardName": "vertical_component_of_surface_downward_stress_curl",
            "type": "data",
            "unit": "N m-3",
            "unitConversion": null,
            "valueClamp": true,
            "valueColor": false,
            "valueDiffMax": 2.3519000000000003e-06,
            "valueDiffRelMax": 25,
            "valueMax": 2.1812e-06,
            "valueMin": -2.5226e-06
           },
           "stress_curl_bias": {
            "abbreviation": "stress_curl_bias",
            "colormapDiffId": "balance",
            "colormapDiffInvert": false,
            "colormapId": "balance",
            "colormapInvert": false,
            "dimensions": [
             "time",
             "latitude",
             "longitude"
            ],
            "hasLogScale": false,
            "id": "stress_curl_bias",
            "logScale": false,
            "missingValue": -2147483647,
            "name": {
             "en": "Scatterometer-model bias of curl of surface wind stress"
            },
            "offset": 0,
            "scale": 1e-10,
            "standardName": "vertical_component_of_surface_downward_stress_curl_bias",
            "type": "data",
            "unit": "N m-3",
            "unitConversion": null,
            "valueClamp": true,
            "valueColor": false,
            "valueDiffMax": 5.091e-07,
            "valueDiffRelMax": 25,
            "valueMax": 5.091e-07,
            "valueMin": -5.091e-07
           },
           "stress_curl_dv": {
            "abbreviation": "stress_curl_dv",
            "colormapDiffId": "balance",
            "colormapDiffInvert": false,
            "colormapId": "viridis",
            "colormapInvert": false,
            "dimensions": [
             "time",
             "latitude",
             "longitude"
            ],
            "hasLogScale": false,
            "id": "stress_curl_dv",
            "logScale": false,
            "missingValue": -2147483647,
            "name": {
             "en": "Difference of scatterometer and model variances of curl of surface wind stress"
            },
            "offset": 0,
            "scale": 1e-15,
            "standardName": "vertical_component_of_surface_downward_stress_curl_difference_of_variances",
            "type": "data",
            "unit": "N2 m-6",
            "unitConversion": null,
            "valueClamp": true,
            "valueColor": false,
            "valueDiffMax": 3.1755000000000004e-12,
            "valueDiffRelMax": 25,
            "valueMax": 5.266e-12,
            "valueMin": -1.0850000000000001e-12
           },
           "stress_divergence": {
            "abbreviation": "stress_divergence",
            "colormapDiffId": "balance",
            "colormapDiffInvert": false,
            "colormapId": "viridis",
            "colormapInvert": false,
            "dimensions": [
             "time",
             "latitude",
             "longitude"
            ],
            "hasLogScale": false,
            "id": "stress_divergence",
            "logScale": false,
            "missingValue": -2147483647,
            "name": {
             "en": "Divergence of surface wind stress"
            },
            "offset": 0,
            "scale": 1e-10,
            "standardName": "divergence_of_surface_downward_stress",
            "type": "data",
            "unit": "N m-3",
            "unitConversion": null,
            "valueClamp": true,
            "valueColor": false,
            "valueDiffMax": 2.0739629999999886e-06,
            "valueDiffRelMax": 25,
            "valueMax": 1.9623259999999777e-06,
            "valueMin": -2.1856e-06
           },
           "stress_divergence_bias": {
            "abbreviation": "stress_divergence_bias",
            "colormapDiffId": "balance",
            "colormapDiffInvert": false,
            "colormapId": "balance",
            "colormapInvert": false,
            "dimensions": [
             "time",
             "latitude",
             "longitude"
            ],
            "hasLogScale": false,
            "id": "stress_divergence_bias",
            "logScale": false,
            "missingValue": -2147483647,
            "name": {
             "en": "Scatterometer-model bias of divergence of surface wind stress"
            },
            "offset": 0,
            "scale": 1e-10,
            "standardName": "divergence_of_surface_downward_stress_bias",
            "type": "data",
            "unit": "N m-3",
            "unitConversion": null,
            "valueClamp": true,
            "valueColor": false,
            "valueDiffMax": 4.885000000000001e-07,
            "valueDiffRelMax": 25,
            "valueMax": 4.885000000000001e-07,
            "valueMin": -4.885000000000001e-07
           },
           "stress_divergence_dv": {
            "abbreviation": "stress_divergence_dv",
            "colormapDiffId": "balance",
            "colormapDiffInvert": false,
            "colormapId": "viridis",
            "colormapInvert": false,
            "dimensions": [
             "time",
             "latitude",
             "longitude"
            ],
            "hasLogScale": false,
            "id": "stress_divergence_dv",
            "logScale": false,
            "missingValue": -2147483647,
            "name": {
             "en": "Difference of scatterometer and model variances of divergence of surface wind stress"
            },
            "offset": 0,
            "scale": 1e-15,
            "standardName": "divergence_of_surface_downward_stress_difference_of_variances",
            "type": "data",
            "unit": "N2 m-6",
            "unitConversion": null,
            "valueClamp": true,
            "valueColor": false,
            "valueDiffMax": 2.2560000000000005e-12,
            "valueDiffRelMax": 25,
            "valueMax": 4.463000000000001e-12,
            "valueMin": -4.9000000000000006e-14
           },
           "wind_curl": {
            "abbreviation": "wind_curl",
            "colormapDiffId": "balance",
            "colormapDiffInvert": false,
            "colormapId": "viridis",
            "colormapInvert": false,
            "dimensions": [
             "time",
             "latitude",
             "longitude"
            ],
            "hasLogScale": false,
            "id": "wind_curl",
            "logScale": false,
            "missingValue": -2147483647,
            "name": {
             "en": "Curl of stress-equivalent wind at 10 m"
            },
            "offset": 0,
            "scale": 1e-07,
            "standardName": "atmosphere_relative_vorticity",
            "type": "data",
            "unit": "s-1",
            "unitConversion": null,
            "valueClamp": true,
            "valueColor": false,
            "valueDiffMax": 8.955e-05,
            "valueDiffRelMax": 25,
            "valueMax": 8.68e-05,
            "valueMin": -9.23e-05
           },
           "wind_curl_bias": {
            "abbreviation": "wind_curl_bias",
            "colormapDiffId": "balance",
            "colormapDiffInvert": false,
            "colormapId": "balance",
            "colormapInvert": false,
            "dimensions": [
             "time",
             "latitude",
             "longitude"
            ],
            "hasLogScale": false,
            "id": "wind_curl_bias",
            "logScale": false,
            "missingValue": -2147483647,
            "name": {
             "en": "Scatterometer-model bias of curl of stress-equivalent wind at 10 m"
            },
            "offset": 0,
            "scale": 1e-07,
            "standardName": "atmosphere_relative_vorticity_bias",
            "type": "data",
            "unit": "s-1",
            "unitConversion": null,
            "valueClamp": true,
            "valueColor": false,
            "valueDiffMax": 1.82e-05,
            "valueDiffRelMax": 25,
            "valueMax": 1.82e-05,
            "valueMin": -1.82e-05
           },
           "wind_curl_dv": {
            "abbreviation": "wind_curl_dv",
            "colormapDiffId": "balance",
            "colormapDiffInvert": false,
            "colormapId": "viridis",
            "colormapInvert": false,
            "dimensions": [
             "time",
             "latitude",
             "longitude"
            ],
            "hasLogScale": false,
            "id": "wind_curl_dv",
            "logScale": false,
            "missingValue": -2147483647,
            "name": {
             "en": "Difference of scatterometer and model variances of curl of stress-equivalent wind at 10 m"
            },
            "offset": 0,
            "scale": 1e-11,
            "standardName": "atmosphere_relative_vorticity_difference_of_variances",
            "type": "data",
            "unit": "s-2",
            "unitConversion": null,
            "valueClamp": true,
            "valueColor": false,
            "valueDiffMax": 3.5999999999999996e-09,
            "valueDiffRelMax": 25,
            "valueMax": 6.399999999999999e-09,
            "valueMin": -7.999999999999999e-10
           },
           "wind_divergence": {
            "abbreviation": "wind_divergence",
            "colormapDiffId": "balance",
            "colormapDiffInvert": false,
            "colormapId": "viridis",
            "colormapInvert": false,
            "dimensions": [
             "time",
             "latitude",
             "longitude"
            ],
            "hasLogScale": false,
            "id": "wind_divergence",
            "logScale": false,
            "missingValue": -2147483647,
            "name": {
             "en": "Divergence of stress-equivalent wind at 10 m"
            },
            "offset": 0,
            "scale": 1e-07,
            "standardName": "divergence_of_wind",
            "type": "data",
            "unit": "s-1",
            "unitConversion": null,
            "valueClamp": true,
            "valueColor": false,
            "valueDiffMax": 0.00010284999999999999,
            "valueDiffRelMax": 25,
            "valueMax": 9.63e-05,
            "valueMin": -0.00010939999999999999
           },
           "wind_divergence_bias": {
            "abbreviation": "wind_divergence_bias",
            "colormapDiffId": "balance",
            "colormapDiffInvert": false,
            "colormapId": "balance",
            "colormapInvert": false,
            "dimensions": [
             "time",
             "latitude",
             "longitude"
            ],
            "hasLogScale": false,
            "id": "wind_divergence_bias",
            "logScale": false,
            "missingValue": -2147483647,
            "name": {
             "en": "Scatterometer-model bias of divergence of stress-equivalent wind at 10 m"
            },
            "offset": 0,
            "scale": 1e-07,
            "standardName": "divergence_of_wind_bias",
            "type": "data",
            "unit": "s-1",
            "unitConversion": null,
            "valueClamp": true,
            "valueColor": false,
            "valueDiffMax": 2.09e-05,
            "valueDiffRelMax": 25,
            "valueMax": 2.09e-05,
            "valueMin": -2.09e-05
           },
           "wind_divergence_dv": {
            "abbreviation": "wind_divergence_dv",
            "colormapDiffId": "balance",
            "colormapDiffInvert": false,
            "colormapId": "viridis",
            "colormapInvert": false,
            "dimensions": [
             "time",
             "latitude",
             "longitude"
            ],
            "hasLogScale": true,
            "id": "wind_divergence_dv",
            "logScale": false,
            "missingValue": -2147483647,
            "name": {
             "en": "Difference of scatterometer and model variances of divergence of stress-equivalent wind at 10 m"
            },
            "offset": 0,
            "scale": 1e-11,
            "standardName": "divergence_of_wind_difference_of_variances",
            "type": "data",
            "unit": "s-2",
            "unitConversion": null,
            "valueClamp": true,
            "valueColor": false,
            "valueDiffMax": 3.3099999999999995e-09,
            "valueDiffRelMax": 25,
            "valueMax": 6.849999999999999e-09,
            "valueMin": 2.2999999999999998e-10
           }
          },
          "datetime": "2024-05-31T00:00:00Z",
          "end_datetime": "2024-05-31T00:00:00Z",
          "instruments": [
           "ASCAT, ASCAT"
          ],
          "license": "proprietary",
          "order:status": "",
          "processing:level": "Level 4",
          "providers": [
           {
            "description": "Copernicus Marine Data Store",
            "name": "cop_marine",
            "priority": 0,
            "roles": [
             "host"
            ],
            "url": "https://marine.copernicus.eu/"
           }
          ],
          "start_datetime": "2024-05-31T00:00:00Z"
         },
         "stac_extensions": [
          "https://stac-extensions.github.io/processing/v1.0.0/schema.json",
          "https://stac-extensions.github.io/order/v1.1.0/schema.json"
         ],
         "stac_version": "1.0.0",
         "type": "Feature"
        },
        {
         "assets": {
          "downloadLink": {
           "alternate": {
            "origin": {
             "href": "https://s3.waw3-1.cloudferro.com/mdl-native-04/native/WIND_GLO_PHY_L4_NRT_012_004/cmems_obs-wind_glo_phy_nrt_l4_0.125deg_PT1H_202207/2024/05/cmems_obs-wind_glo_phy_nrt_l4_0.125deg_PT1H_2024053114_R20240531T00_14.nc",
             "title": "Origin asset link"
            }
           },
           "href": "https://hda.data.destination-earth.eu/stac/collections/EO.MO.DAT.WIND_GLO_PHY_L4_NRT_012_004/items/cmems_obs-wind_glo_phy_nrt_l4_0/download?provider=cop_marine",
           "title": "Download link",
           "type": "application/zip"
          },
          "native": {
           "alternate": {
            "origin": {
             "href": "https://s3.waw3-1.cloudferro.com/mdl-native-04/native/WIND_GLO_PHY_L4_NRT_012_004/cmems_obs-wind_glo_phy_nrt_l4_0.125deg_PT1H_202207/2024/05/cmems_obs-wind_glo_phy_nrt_l4_0.125deg_PT1H_2024053114_R20240531T00_14.nc",
             "title": "Origin asset link",
             "type": "application/x-netcdf"
            }
           },
           "href": "https://hda.data.destination-earth.eu/stac/collections/EO.MO.DAT.WIND_GLO_PHY_L4_NRT_012_004/items/cmems_obs-wind_glo_phy_nrt_l4_0/download/native?provider=cop_marine",
           "title": "native",
           "type": "application/x-netcdf"
          },
          "thumbnail": {
           "href": "https://mdl-metadata.s3.waw3-1.cloudferro.com/metadata/thumbnails/WIND_GLO_PHY_L4_NRT_012_004.jpg",
           "role": "thumbnail",
           "title": "Thumbnail",
           "type": "image/jpeg"
          }
         },
         "bbox": [
          -180,
          -90,
          180,
          90
         ],
         "collection": "EO.MO.DAT.WIND_GLO_PHY_L4_NRT_012_004",
         "geometry": {
          "coordinates": [
           [
            [
             180,
             -90
            ],
            [
             180,
             90
            ],
            [
             -180,
             90
            ],
            [
             -180,
             -90
            ],
            [
             180,
             -90
            ]
           ]
          ],
          "type": "Polygon"
         },
         "id": "cmems_obs-wind_glo_phy_nrt_l4_0",
         "links": [
          {
           "href": "https://hda.data.destination-earth.eu/stac/collections/EO.MO.DAT.WIND_GLO_PHY_L4_NRT_012_004/items/cmems_obs-wind_glo_phy_nrt_l4_0",
           "rel": "self",
           "title": "cmems_obs-wind_glo_phy_nrt_l4_0"
          },
          {
           "href": "https://hda.data.destination-earth.eu/stac/",
           "rel": "root"
          },
          {
           "href": "https://hda.data.destination-earth.eu/stac/collections/EO.MO.DAT.WIND_GLO_PHY_L4_NRT_012_004",
           "rel": "parent",
           "title": "EO.MO.DAT.WIND_GLO_PHY_L4_NRT_012_004"
          },
          {
           "href": "https://hda.data.destination-earth.eu/stac/collections/EO.MO.DAT.WIND_GLO_PHY_L4_NRT_012_004",
           "rel": "collection",
           "title": "EO.MO.DAT.WIND_GLO_PHY_L4_NRT_012_004"
          }
         ],
         "properties": {
          "constellation": "Metop-B, Metop-C",
          "cop_marine:Conventions": "CF-1.6, ACDD-1.3",
          "cop_marine:admp_in_preparation": false,
          "cop_marine:admp_updated": "2024-09-18T10:37:03.450397Z",
          "cop_marine:admp_valid_start_date": "2022-03-11T12:00:00.000000000Z",
          "cop_marine:admp_valid_start_index": 14844,
          "cop_marine:allVariables": [
           "Eastward wind (WIND)",
           "Northward wind (WIND)",
           "Surface downward eastward stress (WIND)",
           "Surface downward northward stress (WIND)",
           "Stress curl (WIND)",
           "Stress divergence (WIND)",
           "Air density (WIND)",
           "Wind curl (WIND)",
           "Wind divergence (WIND)"
          ],
          "cop_marine:altId": "63ee69f1-2628-43aa-9b22-b21749d160ba",
          "cop_marine:areas": [
           "Global Ocean"
          ],
          "cop_marine:assimilatedData": [],
          "cop_marine:colors": [
           "Blue Ocean"
          ],
          "cop_marine:communities": [
           "Policy & governance",
           "Science & innovation",
           "Extremes, hazards & safety",
           "Coastal services",
           "Natural resources & energy",
           "Trade & marine navigation"
          ],
          "cop_marine:contacts": [
           {
            "email": "scat@knmi.nl",
            "name": "Service Desk KNMI",
            "organisationName": "SIW-KNMI-DEBILT-NL",
            "responsiblePartyRole": "pointOfContact"
           },
           {
            "email": "ad.stoffelen@knmi.nl",
            "name": "Ad STOFFELEN",
            "organisationName": "SIW-KNMI-DEBILT-NL",
            "responsiblePartyRole": "custodian"
           },
           {
            "email": "rianne.giesen@knmi.nl",
            "name": "Rianne GIESEN",
            "organisationName": "SIW-KNMI-DEBILT-NL",
            "responsiblePartyRole": "originator"
           },
           {
            "email": "scat@knmi.nl",
            "name": "Anton VERHOEF",
            "organisationName": "SIW-KNMI-DEBILT-NL",
            "responsiblePartyRole": "resourceProvider"
           },
           {
            "email": "scat@knmi.nl",
            "name": "Service Desk KNMI",
            "organisationName": "SIW-KNMI-DEBILT-NL",
            "responsiblePartyRole": "distributor"
           }
          ],
          "cop_marine:crs": "EPSG:4326",
          "cop_marine:dataset": "cmems_obs-wind_glo_phy_nrt_l4_0.125deg_PT1H_202207",
          "cop_marine:date_created": "2022-06-23T01:30:26",
          "cop_marine:date_modified": "2022-06-23T01:30:26",
          "cop_marine:directives": [],
          "cop_marine:featureTypes": [
           "Grid"
          ],
          "cop_marine:formats": [
           "NetCDF-4"
          ],
          "cop_marine:geoExtent": {
           "coordinates": [
            [
             -180,
             90
            ],
            [
             180,
             -90
            ]
           ],
           "type": "envelope"
          },
          "cop_marine:geoResolution": {
           "column": {
            "magnitude": 0.125,
            "units": "degree"
           },
           "row": {
            "magnitude": 0.125,
            "units": "degree"
           }
          },
          "cop_marine:geospatial_lat_max": 89.9375,
          "cop_marine:geospatial_lat_min": -89.9375,
          "cop_marine:geospatial_lat_resolution": 0.125,
          "cop_marine:geospatial_lat_units": "degrees_north",
          "cop_marine:geospatial_lon_max": 179.9375,
          "cop_marine:geospatial_lon_min": -179.9375,
          "cop_marine:geospatial_lon_resolution": 0.125,
          "cop_marine:geospatial_lon_units": "degrees_east",
          "cop_marine:history": "N/A",
          "cop_marine:indicatorFamilies": [],
          "cop_marine:institution": "Royal Netherlands Meteorological Institute (KNMI)",
          "cop_marine:instrument_vocabulary": "CEOS",
          "cop_marine:isStaging": false,
          "cop_marine:mainVariables": [
           "Wind"
          ],
          "cop_marine:model": "ECMWF Operational model",
          "cop_marine:modifiedDate": "2024-06-18",
          "cop_marine:platform_vocabulary": "CEOS",
          "cop_marine:processing_level": "L4",
          "cop_marine:project": "Copernicus Marine Service Wind Thematic Assembly Centre",
          "cop_marine:projection": "WGS 84 (EPSG:4326)",
          "cop_marine:providerMetadata": {
           "source": "cmems",
           "type": "csw",
           "url": "https://cmems-catalog-ro.cls.fr/geonetwork/srv/eng/csw-MYOCEAN-CORE-PRODUCTS?service=CSW&version=2.0.2&request=GetRecordById&id=63ee69f1-2628-43aa-9b22-b21749d160ba&elementsetname=full&outputSchema=http://www.isotc211.org/2005/gmd"
          },
          "cop_marine:rank": 14000,
          "cop_marine:references": "Copernicus Marine Service Product User Manual CMEMS-TAC-WIND-PUM-012-004, Trindade et al. (2020) doi:10.1109/TGRS.2019.2946019",
          "cop_marine:sources": [
           "Numerical models",
           "Satellite observations"
          ],
          "cop_marine:summary": "Global ocean 10-m stress-equivalent wind and surface wind stress fields based on the ECMWF operational model winds, bias-corrected using scatterometer observations",
          "cop_marine:tempExtentBegin": "",
          "cop_marine:tempResolutions": [
           "Hourly"
          ],
          "cop_marine:thumbnailMeta": {
           "basemapId": "dark",
           "colormapId": "speed",
           "colormapInvert": false,
           "creationDate": "2023-06-18T06:37:19.450Z",
           "crs": "epsg:4326",
           "elevation": null,
           "layerId": "WIND_GLO_PHY_L4_NRT_012_004/cmems_obs-wind_glo_phy_nrt_l4_0.125deg_PT1H_202207/wind",
           "logScale": false,
           "overlays": {
            "tags": [
             {
              "name": "Wind"
             }
            ]
           },
           "style": "default",
           "time": 1593561600000,
           "valueClamp": true,
           "valueMax": 37.04999828338623,
           "valueMin": 0
          },
          "cop_marine:time_coverage_end": "2020-07-01T00:00:00",
          "cop_marine:time_coverage_start": "2020-07-01T00:00:00",
          "cop_marine:times": [
           "Present",
           "Past"
          ],
          "cop_marine:updateFrequencies": {
           "daily": "15:00"
          },
          "cop_marine:useCases": [],
          "cop_marine:vertExtentMax": 0,
          "cop_marine:vertExtentMin": 0,
          "created": "2012-08-26",
          "cube:dimensions": {
           "latitude": {
            "axis": "y",
            "extent": [
             -89.9375,
             89.9375
            ],
            "reference_system": 4326,
            "step": 0.125,
            "type": "spatial"
           },
           "longitude": {
            "axis": "x",
            "extent": [
             -179.9375,
             179.9375
            ],
            "reference_system": 4326,
            "step": 0.125,
            "type": "spatial"
           },
           "time": {
            "extent": [
             "2020-07-01T00:00:00Z",
             "2024-09-17T23:00:00Z"
            ],
            "step": "PT1H",
            "type": "temporal"
           }
          },
          "cube:variables": {
           "air_density": {
            "abbreviation": "air_density",
            "colormapDiffId": "balance",
            "colormapDiffInvert": false,
            "colormapId": "viridis",
            "colormapInvert": false,
            "dimensions": [
             "time",
             "latitude",
             "longitude"
            ],
            "hasLogScale": true,
            "id": "air_density",
            "logScale": false,
            "missingValue": -32767,
            "name": {
             "en": "Air density at 10 m"
            },
            "offset": 0,
            "scale": 0.001,
            "standardName": "air_density",
            "type": "data",
            "unit": "kg m-3",
            "unitConversion": null,
            "valueClamp": true,
            "valueColor": false,
            "valueDiffMax": 0.2080000638961792,
            "valueDiffRelMax": 25,
            "valueMax": 1.5690001249313354,
            "valueMin": 1.152999997138977
           },
           "eastward_stress": {
            "abbreviation": "eastward_stress",
            "colormapDiffId": "balance",
            "colormapDiffInvert": false,
            "colormapId": "balance",
            "colormapInvert": false,
            "dimensions": [
             "time",
             "latitude",
             "longitude"
            ],
            "hasLogScale": false,
            "id": "eastward_stress",
            "logScale": false,
            "missingValue": -2147483647,
            "name": {
             "en": "Surface wind stress eastward component"
            },
            "offset": 0,
            "scale": 0.01,
            "standardName": "surface_downward_eastward_stress",
            "type": "data",
            "unit": "N m-2",
            "unitConversion": null,
            "valueClamp": true,
            "valueColor": false,
            "valueDiffMax": 1.53,
            "valueDiffRelMax": 25,
            "valueMax": 1.53,
            "valueMin": -1.53
           },
           "eastward_stress_bias": {
            "abbreviation": "eastward_stress_bias",
            "colormapDiffId": "balance",
            "colormapDiffInvert": false,
            "colormapId": "balance",
            "colormapInvert": false,
            "dimensions": [
             "time",
             "latitude",
             "longitude"
            ],
            "hasLogScale": false,
            "id": "eastward_stress_bias",
            "logScale": false,
            "missingValue": -2147483647,
            "name": {
             "en": "Scatterometer-model bias of surface wind stress eastward component"
            },
            "offset": 0,
            "scale": 0.01,
            "standardName": "surface_downward_eastward_stress_bias",
            "type": "data",
            "unit": "N m-2",
            "unitConversion": null,
            "valueClamp": true,
            "valueColor": false,
            "valueDiffMax": 0.03,
            "valueDiffRelMax": 25,
            "valueMax": 0.03,
            "valueMin": -0.03
           },
           "eastward_stress_sdd": {
            "abbreviation": "eastward_stress_sdd",
            "colormapDiffId": "balance",
            "colormapDiffInvert": false,
            "colormapId": "viridis",
            "colormapInvert": false,
            "dimensions": [
             "time",
             "latitude",
             "longitude"
            ],
            "hasLogScale": true,
            "id": "eastward_stress_sdd",
            "logScale": false,
            "missingValue": -2147483647,
            "name": {
             "en": "Standard deviation of differences of surface wind stress eastward component"
            },
            "offset": 0,
            "scale": 0.01,
            "standardName": "surface_downward_eastward_stress_standard_deviation_of_differences",
            "type": "data",
            "unit": "N m-2",
            "unitConversion": null,
            "valueClamp": true,
            "valueColor": false,
            "valueDiffMax": 0.035,
            "valueDiffRelMax": 25,
            "valueMax": 0.08,
            "valueMin": 0.01
           },
           "eastward_wind": {
            "abbreviation": "eastward_wind",
            "colormapDiffId": "balance",
            "colormapDiffInvert": false,
            "colormapId": "balance",
            "colormapInvert": false,
            "dimensions": [
             "time",
             "latitude",
             "longitude"
            ],
            "hasLogScale": false,
            "id": "eastward_wind",
            "logScale": false,
            "missingValue": -32767,
            "name": {
             "en": "Stress-equivalent wind eastward component at 10 m"
            },
            "offset": 0,
            "scale": 0.01,
            "standardName": "eastward_wind",
            "type": "data",
            "unit": "m s-1",
            "unitConversion": null,
            "valueClamp": true,
            "valueColor": false,
            "valueDiffMax": 37.04999828338623,
            "valueDiffRelMax": 25,
            "valueMax": 37.04999828338623,
            "valueMin": -37.04999828338623
           },
           "eastward_wind_bias": {
            "abbreviation": "eastward_wind_bias",
            "colormapDiffId": "balance",
            "colormapDiffInvert": false,
            "colormapId": "balance",
            "colormapInvert": false,
            "dimensions": [
             "time",
             "latitude",
             "longitude"
            ],
            "hasLogScale": false,
            "id": "eastward_wind_bias",
            "logScale": false,
            "missingValue": -32767,
            "name": {
             "en": "Scatterometer-model bias of stress-equivalent wind eastward component at 10 m"
            },
            "offset": 0,
            "scale": 0.01,
            "standardName": "eastward_wind_bias",
            "type": "data",
            "unit": "m s-1",
            "unitConversion": null,
            "valueClamp": true,
            "valueColor": false,
            "valueDiffMax": 0.9300000071525574,
            "valueDiffRelMax": 25,
            "valueMax": 0.9300000071525574,
            "valueMin": -0.9300000071525574
           },
           "eastward_wind_sdd": {
            "abbreviation": "eastward_wind_sdd",
            "colormapDiffId": "balance",
            "colormapDiffInvert": false,
            "colormapId": "viridis",
            "colormapInvert": false,
            "dimensions": [
             "time",
             "latitude",
             "longitude"
            ],
            "hasLogScale": true,
            "id": "eastward_wind_sdd",
            "logScale": false,
            "missingValue": -32767,
            "name": {
             "en": "Standard deviation of differences of stress-equivalent wind eastward component at 10 m"
            },
            "offset": 0,
            "scale": 0.01,
            "standardName": "eastward_wind_standard_deviation_of_differences",
            "type": "data",
            "unit": "m s-1",
            "unitConversion": null,
            "valueClamp": true,
            "valueColor": false,
            "valueDiffMax": 0.8099999129772186,
            "valueDiffRelMax": 25,
            "valueMax": 2.169999837875366,
            "valueMin": 0.550000011920929
           },
           "northward_stress": {
            "abbreviation": "northward_stress",
            "colormapDiffId": "balance",
            "colormapDiffInvert": false,
            "colormapId": "balance",
            "colormapInvert": false,
            "dimensions": [
             "time",
             "latitude",
             "longitude"
            ],
            "hasLogScale": false,
            "id": "northward_stress",
            "logScale": false,
            "missingValue": -2147483647,
            "name": {
             "en": "Surface wind stress northward component"
            },
            "offset": 0,
            "scale": 0.01,
            "standardName": "surface_downward_northward_stress",
            "type": "data",
            "unit": "N m-2",
            "unitConversion": null,
            "valueClamp": true,
            "valueColor": false,
            "valueDiffMax": 1.53,
            "valueDiffRelMax": 25,
            "valueMax": 1.53,
            "valueMin": -1.53
           },
           "northward_stress_bias": {
            "abbreviation": "northward_stress_bias",
            "colormapDiffId": "balance",
            "colormapDiffInvert": false,
            "colormapId": "balance",
            "colormapInvert": false,
            "dimensions": [
             "time",
             "latitude",
             "longitude"
            ],
            "hasLogScale": false,
            "id": "northward_stress_bias",
            "logScale": false,
            "missingValue": -2147483647,
            "name": {
             "en": "Scatterometer-model bias of surface wind stress northward component"
            },
            "offset": 0,
            "scale": 0.01,
            "standardName": "surface_downward_northward_stress_bias",
            "type": "data",
            "unit": "N m-2",
            "unitConversion": null,
            "valueClamp": true,
            "valueColor": false,
            "valueDiffMax": 0.02,
            "valueDiffRelMax": 25,
            "valueMax": 0.02,
            "valueMin": -0.02
           },
           "northward_stress_sdd": {
            "abbreviation": "northward_stress_sdd",
            "colormapDiffId": "balance",
            "colormapDiffInvert": false,
            "colormapId": "viridis",
            "colormapInvert": false,
            "dimensions": [
             "time",
             "latitude",
             "longitude"
            ],
            "hasLogScale": true,
            "id": "northward_stress_sdd",
            "logScale": false,
            "missingValue": -2147483647,
            "name": {
             "en": "Standard deviation of differences of surface wind stress northward component"
            },
            "offset": 0,
            "scale": 0.01,
            "standardName": "surface_downward_northward_stress_standard_deviation_of_differences",
            "type": "data",
            "unit": "N m-2",
            "unitConversion": null,
            "valueClamp": true,
            "valueColor": false,
            "valueDiffMax": 0.030000000000000002,
            "valueDiffRelMax": 25,
            "valueMax": 0.07,
            "valueMin": 0.01
           },
           "northward_wind": {
            "abbreviation": "northward_wind",
            "colormapDiffId": "balance",
            "colormapDiffInvert": false,
            "colormapId": "balance",
            "colormapInvert": false,
            "dimensions": [
             "time",
             "latitude",
             "longitude"
            ],
            "hasLogScale": false,
            "id": "northward_wind",
            "logScale": false,
            "missingValue": -32767,
            "name": {
             "en": "Stress-equivalent wind northward component at 10 m"
            },
            "offset": 0,
            "scale": 0.01,
            "standardName": "northward_wind",
            "type": "data",
            "unit": "m s-1",
            "unitConversion": null,
            "valueClamp": true,
            "valueColor": false,
            "valueDiffMax": 37.04999828338623,
            "valueDiffRelMax": 25,
            "valueMax": 37.04999828338623,
            "valueMin": -37.04999828338623
           },
           "northward_wind_bias": {
            "abbreviation": "northward_wind_bias",
            "colormapDiffId": "balance",
            "colormapDiffInvert": false,
            "colormapId": "balance",
            "colormapInvert": false,
            "dimensions": [
             "time",
             "latitude",
             "longitude"
            ],
            "hasLogScale": false,
            "id": "northward_wind_bias",
            "logScale": false,
            "missingValue": -32767,
            "name": {
             "en": "Scatterometer-model bias of stress-equivalent wind northward component at 10 m"
            },
            "offset": 0,
            "scale": 0.01,
            "standardName": "northward_wind_bias",
            "type": "data",
            "unit": "m s-1",
            "unitConversion": null,
            "valueClamp": true,
            "valueColor": false,
            "valueDiffMax": 0.8399999737739563,
            "valueDiffRelMax": 25,
            "valueMax": 0.8399999737739563,
            "valueMin": -0.8399999737739563
           },
           "northward_wind_sdd": {
            "abbreviation": "northward_wind_sdd",
            "colormapDiffId": "balance",
            "colormapDiffInvert": false,
            "colormapId": "viridis",
            "colormapInvert": false,
            "dimensions": [
             "time",
             "latitude",
             "longitude"
            ],
            "hasLogScale": true,
            "id": "northward_wind_sdd",
            "logScale": false,
            "missingValue": -32767,
            "name": {
             "en": "Standard deviation of differences of stress-equivalent wind northward component at 10 m"
            },
            "offset": 0,
            "scale": 0.01,
            "standardName": "northward_wind_standard_deviation_of_differences",
            "type": "data",
            "unit": "m s-1",
            "unitConversion": null,
            "valueClamp": true,
            "valueColor": false,
            "valueDiffMax": 0.8549999296665192,
            "valueDiffRelMax": 25,
            "valueMax": 2.3899998664855957,
            "valueMin": 0.6800000071525574
           },
           "number_of_observations": {
            "abbreviation": "number_of_observations",
            "colormapDiffId": "balance",
            "colormapDiffInvert": false,
            "colormapId": "viridis",
            "colormapInvert": false,
            "dimensions": [
             "time",
             "latitude",
             "longitude"
            ],
            "hasLogScale": true,
            "id": "number_of_observations",
            "logScale": false,
            "missingValue": -32767,
            "name": {
             "en": "Number of observations used for scatterometer-model bias"
            },
            "offset": null,
            "scale": null,
            "standardName": "number_of_observations",
            "type": "data",
            "unit": 1,
            "unitConversion": null,
            "valueClamp": true,
            "valueColor": false,
            "valueDiffMax": 21,
            "valueDiffRelMax": 25,
            "valueMax": 69,
            "valueMin": 27
           },
           "number_of_observations_divcurl": {
            "abbreviation": "number_of_observations_divcurl",
            "colormapDiffId": "balance",
            "colormapDiffInvert": false,
            "colormapId": "viridis",
            "colormapInvert": false,
            "dimensions": [
             "time",
             "latitude",
             "longitude"
            ],
            "hasLogScale": true,
            "id": "number_of_observations_divcurl",
            "logScale": false,
            "missingValue": -32767,
            "name": {
             "en": "Number of observations used for scatterometer-model divergence and curl bias"
            },
            "offset": null,
            "scale": null,
            "standardName": "number_of_observations",
            "type": "data",
            "unit": 1,
            "unitConversion": null,
            "valueClamp": true,
            "valueColor": false,
            "valueDiffMax": 27.5,
            "valueDiffRelMax": 25,
            "valueMax": 65,
            "valueMin": 10
           },
           "stress_curl": {
            "abbreviation": "stress_curl",
            "colormapDiffId": "balance",
            "colormapDiffInvert": false,
            "colormapId": "viridis",
            "colormapInvert": false,
            "dimensions": [
             "time",
             "latitude",
             "longitude"
            ],
            "hasLogScale": false,
            "id": "stress_curl",
            "logScale": false,
            "missingValue": -2147483647,
            "name": {
             "en": "Curl of surface wind stress"
            },
            "offset": 0,
            "scale": 1e-10,
            "standardName": "vertical_component_of_surface_downward_stress_curl",
            "type": "data",
            "unit": "N m-3",
            "unitConversion": null,
            "valueClamp": true,
            "valueColor": false,
            "valueDiffMax": 2.3519000000000003e-06,
            "valueDiffRelMax": 25,
            "valueMax": 2.1812e-06,
            "valueMin": -2.5226e-06
           },
           "stress_curl_bias": {
            "abbreviation": "stress_curl_bias",
            "colormapDiffId": "balance",
            "colormapDiffInvert": false,
            "colormapId": "balance",
            "colormapInvert": false,
            "dimensions": [
             "time",
             "latitude",
             "longitude"
            ],
            "hasLogScale": false,
            "id": "stress_curl_bias",
            "logScale": false,
            "missingValue": -2147483647,
            "name": {
             "en": "Scatterometer-model bias of curl of surface wind stress"
            },
            "offset": 0,
            "scale": 1e-10,
            "standardName": "vertical_component_of_surface_downward_stress_curl_bias",
            "type": "data",
            "unit": "N m-3",
            "unitConversion": null,
            "valueClamp": true,
            "valueColor": false,
            "valueDiffMax": 5.091e-07,
            "valueDiffRelMax": 25,
            "valueMax": 5.091e-07,
            "valueMin": -5.091e-07
           },
           "stress_curl_dv": {
            "abbreviation": "stress_curl_dv",
            "colormapDiffId": "balance",
            "colormapDiffInvert": false,
            "colormapId": "viridis",
            "colormapInvert": false,
            "dimensions": [
             "time",
             "latitude",
             "longitude"
            ],
            "hasLogScale": false,
            "id": "stress_curl_dv",
            "logScale": false,
            "missingValue": -2147483647,
            "name": {
             "en": "Difference of scatterometer and model variances of curl of surface wind stress"
            },
            "offset": 0,
            "scale": 1e-15,
            "standardName": "vertical_component_of_surface_downward_stress_curl_difference_of_variances",
            "type": "data",
            "unit": "N2 m-6",
            "unitConversion": null,
            "valueClamp": true,
            "valueColor": false,
            "valueDiffMax": 3.1755000000000004e-12,
            "valueDiffRelMax": 25,
            "valueMax": 5.266e-12,
            "valueMin": -1.0850000000000001e-12
           },
           "stress_divergence": {
            "abbreviation": "stress_divergence",
            "colormapDiffId": "balance",
            "colormapDiffInvert": false,
            "colormapId": "viridis",
            "colormapInvert": false,
            "dimensions": [
             "time",
             "latitude",
             "longitude"
            ],
            "hasLogScale": false,
            "id": "stress_divergence",
            "logScale": false,
            "missingValue": -2147483647,
            "name": {
             "en": "Divergence of surface wind stress"
            },
            "offset": 0,
            "scale": 1e-10,
            "standardName": "divergence_of_surface_downward_stress",
            "type": "data",
            "unit": "N m-3",
            "unitConversion": null,
            "valueClamp": true,
            "valueColor": false,
            "valueDiffMax": 2.0739629999999886e-06,
            "valueDiffRelMax": 25,
            "valueMax": 1.9623259999999777e-06,
            "valueMin": -2.1856e-06
           },
           "stress_divergence_bias": {
            "abbreviation": "stress_divergence_bias",
            "colormapDiffId": "balance",
            "colormapDiffInvert": false,
            "colormapId": "balance",
            "colormapInvert": false,
            "dimensions": [
             "time",
             "latitude",
             "longitude"
            ],
            "hasLogScale": false,
            "id": "stress_divergence_bias",
            "logScale": false,
            "missingValue": -2147483647,
            "name": {
             "en": "Scatterometer-model bias of divergence of surface wind stress"
            },
            "offset": 0,
            "scale": 1e-10,
            "standardName": "divergence_of_surface_downward_stress_bias",
            "type": "data",
            "unit": "N m-3",
            "unitConversion": null,
            "valueClamp": true,
            "valueColor": false,
            "valueDiffMax": 4.885000000000001e-07,
            "valueDiffRelMax": 25,
            "valueMax": 4.885000000000001e-07,
            "valueMin": -4.885000000000001e-07
           },
           "stress_divergence_dv": {
            "abbreviation": "stress_divergence_dv",
            "colormapDiffId": "balance",
            "colormapDiffInvert": false,
            "colormapId": "viridis",
            "colormapInvert": false,
            "dimensions": [
             "time",
             "latitude",
             "longitude"
            ],
            "hasLogScale": false,
            "id": "stress_divergence_dv",
            "logScale": false,
            "missingValue": -2147483647,
            "name": {
             "en": "Difference of scatterometer and model variances of divergence of surface wind stress"
            },
            "offset": 0,
            "scale": 1e-15,
            "standardName": "divergence_of_surface_downward_stress_difference_of_variances",
            "type": "data",
            "unit": "N2 m-6",
            "unitConversion": null,
            "valueClamp": true,
            "valueColor": false,
            "valueDiffMax": 2.2560000000000005e-12,
            "valueDiffRelMax": 25,
            "valueMax": 4.463000000000001e-12,
            "valueMin": -4.9000000000000006e-14
           },
           "wind_curl": {
            "abbreviation": "wind_curl",
            "colormapDiffId": "balance",
            "colormapDiffInvert": false,
            "colormapId": "viridis",
            "colormapInvert": false,
            "dimensions": [
             "time",
             "latitude",
             "longitude"
            ],
            "hasLogScale": false,
            "id": "wind_curl",
            "logScale": false,
            "missingValue": -2147483647,
            "name": {
             "en": "Curl of stress-equivalent wind at 10 m"
            },
            "offset": 0,
            "scale": 1e-07,
            "standardName": "atmosphere_relative_vorticity",
            "type": "data",
            "unit": "s-1",
            "unitConversion": null,
            "valueClamp": true,
            "valueColor": false,
            "valueDiffMax": 8.955e-05,
            "valueDiffRelMax": 25,
            "valueMax": 8.68e-05,
            "valueMin": -9.23e-05
           },
           "wind_curl_bias": {
            "abbreviation": "wind_curl_bias",
            "colormapDiffId": "balance",
            "colormapDiffInvert": false,
            "colormapId": "balance",
            "colormapInvert": false,
            "dimensions": [
             "time",
             "latitude",
             "longitude"
            ],
            "hasLogScale": false,
            "id": "wind_curl_bias",
            "logScale": false,
            "missingValue": -2147483647,
            "name": {
             "en": "Scatterometer-model bias of curl of stress-equivalent wind at 10 m"
            },
            "offset": 0,
            "scale": 1e-07,
            "standardName": "atmosphere_relative_vorticity_bias",
            "type": "data",
            "unit": "s-1",
            "unitConversion": null,
            "valueClamp": true,
            "valueColor": false,
            "valueDiffMax": 1.82e-05,
            "valueDiffRelMax": 25,
            "valueMax": 1.82e-05,
            "valueMin": -1.82e-05
           },
           "wind_curl_dv": {
            "abbreviation": "wind_curl_dv",
            "colormapDiffId": "balance",
            "colormapDiffInvert": false,
            "colormapId": "viridis",
            "colormapInvert": false,
            "dimensions": [
             "time",
             "latitude",
             "longitude"
            ],
            "hasLogScale": false,
            "id": "wind_curl_dv",
            "logScale": false,
            "missingValue": -2147483647,
            "name": {
             "en": "Difference of scatterometer and model variances of curl of stress-equivalent wind at 10 m"
            },
            "offset": 0,
            "scale": 1e-11,
            "standardName": "atmosphere_relative_vorticity_difference_of_variances",
            "type": "data",
            "unit": "s-2",
            "unitConversion": null,
            "valueClamp": true,
            "valueColor": false,
            "valueDiffMax": 3.5999999999999996e-09,
            "valueDiffRelMax": 25,
            "valueMax": 6.399999999999999e-09,
            "valueMin": -7.999999999999999e-10
           },
           "wind_divergence": {
            "abbreviation": "wind_divergence",
            "colormapDiffId": "balance",
            "colormapDiffInvert": false,
            "colormapId": "viridis",
            "colormapInvert": false,
            "dimensions": [
             "time",
             "latitude",
             "longitude"
            ],
            "hasLogScale": false,
            "id": "wind_divergence",
            "logScale": false,
            "missingValue": -2147483647,
            "name": {
             "en": "Divergence of stress-equivalent wind at 10 m"
            },
            "offset": 0,
            "scale": 1e-07,
            "standardName": "divergence_of_wind",
            "type": "data",
            "unit": "s-1",
            "unitConversion": null,
            "valueClamp": true,
            "valueColor": false,
            "valueDiffMax": 0.00010284999999999999,
            "valueDiffRelMax": 25,
            "valueMax": 9.63e-05,
            "valueMin": -0.00010939999999999999
           },
           "wind_divergence_bias": {
            "abbreviation": "wind_divergence_bias",
            "colormapDiffId": "balance",
            "colormapDiffInvert": false,
            "colormapId": "balance",
            "colormapInvert": false,
            "dimensions": [
             "time",
             "latitude",
             "longitude"
            ],
            "hasLogScale": false,
            "id": "wind_divergence_bias",
            "logScale": false,
            "missingValue": -2147483647,
            "name": {
             "en": "Scatterometer-model bias of divergence of stress-equivalent wind at 10 m"
            },
            "offset": 0,
            "scale": 1e-07,
            "standardName": "divergence_of_wind_bias",
            "type": "data",
            "unit": "s-1",
            "unitConversion": null,
            "valueClamp": true,
            "valueColor": false,
            "valueDiffMax": 2.09e-05,
            "valueDiffRelMax": 25,
            "valueMax": 2.09e-05,
            "valueMin": -2.09e-05
           },
           "wind_divergence_dv": {
            "abbreviation": "wind_divergence_dv",
            "colormapDiffId": "balance",
            "colormapDiffInvert": false,
            "colormapId": "viridis",
            "colormapInvert": false,
            "dimensions": [
             "time",
             "latitude",
             "longitude"
            ],
            "hasLogScale": true,
            "id": "wind_divergence_dv",
            "logScale": false,
            "missingValue": -2147483647,
            "name": {
             "en": "Difference of scatterometer and model variances of divergence of stress-equivalent wind at 10 m"
            },
            "offset": 0,
            "scale": 1e-11,
            "standardName": "divergence_of_wind_difference_of_variances",
            "type": "data",
            "unit": "s-2",
            "unitConversion": null,
            "valueClamp": true,
            "valueColor": false,
            "valueDiffMax": 3.3099999999999995e-09,
            "valueDiffRelMax": 25,
            "valueMax": 6.849999999999999e-09,
            "valueMin": 2.2999999999999998e-10
           }
          },
          "datetime": "2024-05-31T00:00:00Z",
          "end_datetime": "2024-05-31T00:00:00Z",
          "instruments": [
           "ASCAT, ASCAT"
          ],
          "license": "proprietary",
          "order:status": "",
          "processing:level": "Level 4",
          "providers": [
           {
            "description": "Copernicus Marine Data Store",
            "name": "cop_marine",
            "priority": 0,
            "roles": [
             "host"
            ],
            "url": "https://marine.copernicus.eu/"
           }
          ],
          "start_datetime": "2024-05-31T00:00:00Z"
         },
         "stac_extensions": [
          "https://stac-extensions.github.io/processing/v1.0.0/schema.json",
          "https://stac-extensions.github.io/order/v1.1.0/schema.json"
         ],
         "stac_version": "1.0.0",
         "type": "Feature"
        },
        {
         "assets": {
          "downloadLink": {
           "alternate": {
            "origin": {
             "href": "https://s3.waw3-1.cloudferro.com/mdl-native-04/native/WIND_GLO_PHY_L4_NRT_012_004/cmems_obs-wind_glo_phy_nrt_l4_0.125deg_PT1H_202207/2024/05/cmems_obs-wind_glo_phy_nrt_l4_0.125deg_PT1H_2024053115_R20240531T12_03.nc",
             "title": "Origin asset link"
            }
           },
           "href": "https://hda.data.destination-earth.eu/stac/collections/EO.MO.DAT.WIND_GLO_PHY_L4_NRT_012_004/items/cmems_obs-wind_glo_phy_nrt_l4_0/download?provider=cop_marine",
           "title": "Download link",
           "type": "application/zip"
          },
          "native": {
           "alternate": {
            "origin": {
             "href": "https://s3.waw3-1.cloudferro.com/mdl-native-04/native/WIND_GLO_PHY_L4_NRT_012_004/cmems_obs-wind_glo_phy_nrt_l4_0.125deg_PT1H_202207/2024/05/cmems_obs-wind_glo_phy_nrt_l4_0.125deg_PT1H_2024053115_R20240531T12_03.nc",
             "title": "Origin asset link",
             "type": "application/x-netcdf"
            }
           },
           "href": "https://hda.data.destination-earth.eu/stac/collections/EO.MO.DAT.WIND_GLO_PHY_L4_NRT_012_004/items/cmems_obs-wind_glo_phy_nrt_l4_0/download/native?provider=cop_marine",
           "title": "native",
           "type": "application/x-netcdf"
          },
          "thumbnail": {
           "href": "https://mdl-metadata.s3.waw3-1.cloudferro.com/metadata/thumbnails/WIND_GLO_PHY_L4_NRT_012_004.jpg",
           "role": "thumbnail",
           "title": "Thumbnail",
           "type": "image/jpeg"
          }
         },
         "bbox": [
          -180,
          -90,
          180,
          90
         ],
         "collection": "EO.MO.DAT.WIND_GLO_PHY_L4_NRT_012_004",
         "geometry": {
          "coordinates": [
           [
            [
             180,
             -90
            ],
            [
             180,
             90
            ],
            [
             -180,
             90
            ],
            [
             -180,
             -90
            ],
            [
             180,
             -90
            ]
           ]
          ],
          "type": "Polygon"
         },
         "id": "cmems_obs-wind_glo_phy_nrt_l4_0",
         "links": [
          {
           "href": "https://hda.data.destination-earth.eu/stac/collections/EO.MO.DAT.WIND_GLO_PHY_L4_NRT_012_004/items/cmems_obs-wind_glo_phy_nrt_l4_0",
           "rel": "self",
           "title": "cmems_obs-wind_glo_phy_nrt_l4_0"
          },
          {
           "href": "https://hda.data.destination-earth.eu/stac/",
           "rel": "root"
          },
          {
           "href": "https://hda.data.destination-earth.eu/stac/collections/EO.MO.DAT.WIND_GLO_PHY_L4_NRT_012_004",
           "rel": "parent",
           "title": "EO.MO.DAT.WIND_GLO_PHY_L4_NRT_012_004"
          },
          {
           "href": "https://hda.data.destination-earth.eu/stac/collections/EO.MO.DAT.WIND_GLO_PHY_L4_NRT_012_004",
           "rel": "collection",
           "title": "EO.MO.DAT.WIND_GLO_PHY_L4_NRT_012_004"
          }
         ],
         "properties": {
          "constellation": "Metop-B, Metop-C",
          "cop_marine:Conventions": "CF-1.6, ACDD-1.3",
          "cop_marine:admp_in_preparation": false,
          "cop_marine:admp_updated": "2024-09-18T10:37:03.450397Z",
          "cop_marine:admp_valid_start_date": "2022-03-11T12:00:00.000000000Z",
          "cop_marine:admp_valid_start_index": 14844,
          "cop_marine:allVariables": [
           "Eastward wind (WIND)",
           "Northward wind (WIND)",
           "Surface downward eastward stress (WIND)",
           "Surface downward northward stress (WIND)",
           "Stress curl (WIND)",
           "Stress divergence (WIND)",
           "Air density (WIND)",
           "Wind curl (WIND)",
           "Wind divergence (WIND)"
          ],
          "cop_marine:altId": "63ee69f1-2628-43aa-9b22-b21749d160ba",
          "cop_marine:areas": [
           "Global Ocean"
          ],
          "cop_marine:assimilatedData": [],
          "cop_marine:colors": [
           "Blue Ocean"
          ],
          "cop_marine:communities": [
           "Policy & governance",
           "Science & innovation",
           "Extremes, hazards & safety",
           "Coastal services",
           "Natural resources & energy",
           "Trade & marine navigation"
          ],
          "cop_marine:contacts": [
           {
            "email": "scat@knmi.nl",
            "name": "Service Desk KNMI",
            "organisationName": "SIW-KNMI-DEBILT-NL",
            "responsiblePartyRole": "pointOfContact"
           },
           {
            "email": "ad.stoffelen@knmi.nl",
            "name": "Ad STOFFELEN",
            "organisationName": "SIW-KNMI-DEBILT-NL",
            "responsiblePartyRole": "custodian"
           },
           {
            "email": "rianne.giesen@knmi.nl",
            "name": "Rianne GIESEN",
            "organisationName": "SIW-KNMI-DEBILT-NL",
            "responsiblePartyRole": "originator"
           },
           {
            "email": "scat@knmi.nl",
            "name": "Anton VERHOEF",
            "organisationName": "SIW-KNMI-DEBILT-NL",
            "responsiblePartyRole": "resourceProvider"
           },
           {
            "email": "scat@knmi.nl",
            "name": "Service Desk KNMI",
            "organisationName": "SIW-KNMI-DEBILT-NL",
            "responsiblePartyRole": "distributor"
           }
          ],
          "cop_marine:crs": "EPSG:4326",
          "cop_marine:dataset": "cmems_obs-wind_glo_phy_nrt_l4_0.125deg_PT1H_202207",
          "cop_marine:date_created": "2022-06-23T01:30:26",
          "cop_marine:date_modified": "2022-06-23T01:30:26",
          "cop_marine:directives": [],
          "cop_marine:featureTypes": [
           "Grid"
          ],
          "cop_marine:formats": [
           "NetCDF-4"
          ],
          "cop_marine:geoExtent": {
           "coordinates": [
            [
             -180,
             90
            ],
            [
             180,
             -90
            ]
           ],
           "type": "envelope"
          },
          "cop_marine:geoResolution": {
           "column": {
            "magnitude": 0.125,
            "units": "degree"
           },
           "row": {
            "magnitude": 0.125,
            "units": "degree"
           }
          },
          "cop_marine:geospatial_lat_max": 89.9375,
          "cop_marine:geospatial_lat_min": -89.9375,
          "cop_marine:geospatial_lat_resolution": 0.125,
          "cop_marine:geospatial_lat_units": "degrees_north",
          "cop_marine:geospatial_lon_max": 179.9375,
          "cop_marine:geospatial_lon_min": -179.9375,
          "cop_marine:geospatial_lon_resolution": 0.125,
          "cop_marine:geospatial_lon_units": "degrees_east",
          "cop_marine:history": "N/A",
          "cop_marine:indicatorFamilies": [],
          "cop_marine:institution": "Royal Netherlands Meteorological Institute (KNMI)",
          "cop_marine:instrument_vocabulary": "CEOS",
          "cop_marine:isStaging": false,
          "cop_marine:mainVariables": [
           "Wind"
          ],
          "cop_marine:model": "ECMWF Operational model",
          "cop_marine:modifiedDate": "2024-06-18",
          "cop_marine:platform_vocabulary": "CEOS",
          "cop_marine:processing_level": "L4",
          "cop_marine:project": "Copernicus Marine Service Wind Thematic Assembly Centre",
          "cop_marine:projection": "WGS 84 (EPSG:4326)",
          "cop_marine:providerMetadata": {
           "source": "cmems",
           "type": "csw",
           "url": "https://cmems-catalog-ro.cls.fr/geonetwork/srv/eng/csw-MYOCEAN-CORE-PRODUCTS?service=CSW&version=2.0.2&request=GetRecordById&id=63ee69f1-2628-43aa-9b22-b21749d160ba&elementsetname=full&outputSchema=http://www.isotc211.org/2005/gmd"
          },
          "cop_marine:rank": 14000,
          "cop_marine:references": "Copernicus Marine Service Product User Manual CMEMS-TAC-WIND-PUM-012-004, Trindade et al. (2020) doi:10.1109/TGRS.2019.2946019",
          "cop_marine:sources": [
           "Numerical models",
           "Satellite observations"
          ],
          "cop_marine:summary": "Global ocean 10-m stress-equivalent wind and surface wind stress fields based on the ECMWF operational model winds, bias-corrected using scatterometer observations",
          "cop_marine:tempExtentBegin": "",
          "cop_marine:tempResolutions": [
           "Hourly"
          ],
          "cop_marine:thumbnailMeta": {
           "basemapId": "dark",
           "colormapId": "speed",
           "colormapInvert": false,
           "creationDate": "2023-06-18T06:37:19.450Z",
           "crs": "epsg:4326",
           "elevation": null,
           "layerId": "WIND_GLO_PHY_L4_NRT_012_004/cmems_obs-wind_glo_phy_nrt_l4_0.125deg_PT1H_202207/wind",
           "logScale": false,
           "overlays": {
            "tags": [
             {
              "name": "Wind"
             }
            ]
           },
           "style": "default",
           "time": 1593561600000,
           "valueClamp": true,
           "valueMax": 37.04999828338623,
           "valueMin": 0
          },
          "cop_marine:time_coverage_end": "2020-07-01T00:00:00",
          "cop_marine:time_coverage_start": "2020-07-01T00:00:00",
          "cop_marine:times": [
           "Present",
           "Past"
          ],
          "cop_marine:updateFrequencies": {
           "daily": "15:00"
          },
          "cop_marine:useCases": [],
          "cop_marine:vertExtentMax": 0,
          "cop_marine:vertExtentMin": 0,
          "created": "2012-08-26",
          "cube:dimensions": {
           "latitude": {
            "axis": "y",
            "extent": [
             -89.9375,
             89.9375
            ],
            "reference_system": 4326,
            "step": 0.125,
            "type": "spatial"
           },
           "longitude": {
            "axis": "x",
            "extent": [
             -179.9375,
             179.9375
            ],
            "reference_system": 4326,
            "step": 0.125,
            "type": "spatial"
           },
           "time": {
            "extent": [
             "2020-07-01T00:00:00Z",
             "2024-09-17T23:00:00Z"
            ],
            "step": "PT1H",
            "type": "temporal"
           }
          },
          "cube:variables": {
           "air_density": {
            "abbreviation": "air_density",
            "colormapDiffId": "balance",
            "colormapDiffInvert": false,
            "colormapId": "viridis",
            "colormapInvert": false,
            "dimensions": [
             "time",
             "latitude",
             "longitude"
            ],
            "hasLogScale": true,
            "id": "air_density",
            "logScale": false,
            "missingValue": -32767,
            "name": {
             "en": "Air density at 10 m"
            },
            "offset": 0,
            "scale": 0.001,
            "standardName": "air_density",
            "type": "data",
            "unit": "kg m-3",
            "unitConversion": null,
            "valueClamp": true,
            "valueColor": false,
            "valueDiffMax": 0.2080000638961792,
            "valueDiffRelMax": 25,
            "valueMax": 1.5690001249313354,
            "valueMin": 1.152999997138977
           },
           "eastward_stress": {
            "abbreviation": "eastward_stress",
            "colormapDiffId": "balance",
            "colormapDiffInvert": false,
            "colormapId": "balance",
            "colormapInvert": false,
            "dimensions": [
             "time",
             "latitude",
             "longitude"
            ],
            "hasLogScale": false,
            "id": "eastward_stress",
            "logScale": false,
            "missingValue": -2147483647,
            "name": {
             "en": "Surface wind stress eastward component"
            },
            "offset": 0,
            "scale": 0.01,
            "standardName": "surface_downward_eastward_stress",
            "type": "data",
            "unit": "N m-2",
            "unitConversion": null,
            "valueClamp": true,
            "valueColor": false,
            "valueDiffMax": 1.53,
            "valueDiffRelMax": 25,
            "valueMax": 1.53,
            "valueMin": -1.53
           },
           "eastward_stress_bias": {
            "abbreviation": "eastward_stress_bias",
            "colormapDiffId": "balance",
            "colormapDiffInvert": false,
            "colormapId": "balance",
            "colormapInvert": false,
            "dimensions": [
             "time",
             "latitude",
             "longitude"
            ],
            "hasLogScale": false,
            "id": "eastward_stress_bias",
            "logScale": false,
            "missingValue": -2147483647,
            "name": {
             "en": "Scatterometer-model bias of surface wind stress eastward component"
            },
            "offset": 0,
            "scale": 0.01,
            "standardName": "surface_downward_eastward_stress_bias",
            "type": "data",
            "unit": "N m-2",
            "unitConversion": null,
            "valueClamp": true,
            "valueColor": false,
            "valueDiffMax": 0.03,
            "valueDiffRelMax": 25,
            "valueMax": 0.03,
            "valueMin": -0.03
           },
           "eastward_stress_sdd": {
            "abbreviation": "eastward_stress_sdd",
            "colormapDiffId": "balance",
            "colormapDiffInvert": false,
            "colormapId": "viridis",
            "colormapInvert": false,
            "dimensions": [
             "time",
             "latitude",
             "longitude"
            ],
            "hasLogScale": true,
            "id": "eastward_stress_sdd",
            "logScale": false,
            "missingValue": -2147483647,
            "name": {
             "en": "Standard deviation of differences of surface wind stress eastward component"
            },
            "offset": 0,
            "scale": 0.01,
            "standardName": "surface_downward_eastward_stress_standard_deviation_of_differences",
            "type": "data",
            "unit": "N m-2",
            "unitConversion": null,
            "valueClamp": true,
            "valueColor": false,
            "valueDiffMax": 0.035,
            "valueDiffRelMax": 25,
            "valueMax": 0.08,
            "valueMin": 0.01
           },
           "eastward_wind": {
            "abbreviation": "eastward_wind",
            "colormapDiffId": "balance",
            "colormapDiffInvert": false,
            "colormapId": "balance",
            "colormapInvert": false,
            "dimensions": [
             "time",
             "latitude",
             "longitude"
            ],
            "hasLogScale": false,
            "id": "eastward_wind",
            "logScale": false,
            "missingValue": -32767,
            "name": {
             "en": "Stress-equivalent wind eastward component at 10 m"
            },
            "offset": 0,
            "scale": 0.01,
            "standardName": "eastward_wind",
            "type": "data",
            "unit": "m s-1",
            "unitConversion": null,
            "valueClamp": true,
            "valueColor": false,
            "valueDiffMax": 37.04999828338623,
            "valueDiffRelMax": 25,
            "valueMax": 37.04999828338623,
            "valueMin": -37.04999828338623
           },
           "eastward_wind_bias": {
            "abbreviation": "eastward_wind_bias",
            "colormapDiffId": "balance",
            "colormapDiffInvert": false,
            "colormapId": "balance",
            "colormapInvert": false,
            "dimensions": [
             "time",
             "latitude",
             "longitude"
            ],
            "hasLogScale": false,
            "id": "eastward_wind_bias",
            "logScale": false,
            "missingValue": -32767,
            "name": {
             "en": "Scatterometer-model bias of stress-equivalent wind eastward component at 10 m"
            },
            "offset": 0,
            "scale": 0.01,
            "standardName": "eastward_wind_bias",
            "type": "data",
            "unit": "m s-1",
            "unitConversion": null,
            "valueClamp": true,
            "valueColor": false,
            "valueDiffMax": 0.9300000071525574,
            "valueDiffRelMax": 25,
            "valueMax": 0.9300000071525574,
            "valueMin": -0.9300000071525574
           },
           "eastward_wind_sdd": {
            "abbreviation": "eastward_wind_sdd",
            "colormapDiffId": "balance",
            "colormapDiffInvert": false,
            "colormapId": "viridis",
            "colormapInvert": false,
            "dimensions": [
             "time",
             "latitude",
             "longitude"
            ],
            "hasLogScale": true,
            "id": "eastward_wind_sdd",
            "logScale": false,
            "missingValue": -32767,
            "name": {
             "en": "Standard deviation of differences of stress-equivalent wind eastward component at 10 m"
            },
            "offset": 0,
            "scale": 0.01,
            "standardName": "eastward_wind_standard_deviation_of_differences",
            "type": "data",
            "unit": "m s-1",
            "unitConversion": null,
            "valueClamp": true,
            "valueColor": false,
            "valueDiffMax": 0.8099999129772186,
            "valueDiffRelMax": 25,
            "valueMax": 2.169999837875366,
            "valueMin": 0.550000011920929
           },
           "northward_stress": {
            "abbreviation": "northward_stress",
            "colormapDiffId": "balance",
            "colormapDiffInvert": false,
            "colormapId": "balance",
            "colormapInvert": false,
            "dimensions": [
             "time",
             "latitude",
             "longitude"
            ],
            "hasLogScale": false,
            "id": "northward_stress",
            "logScale": false,
            "missingValue": -2147483647,
            "name": {
             "en": "Surface wind stress northward component"
            },
            "offset": 0,
            "scale": 0.01,
            "standardName": "surface_downward_northward_stress",
            "type": "data",
            "unit": "N m-2",
            "unitConversion": null,
            "valueClamp": true,
            "valueColor": false,
            "valueDiffMax": 1.53,
            "valueDiffRelMax": 25,
            "valueMax": 1.53,
            "valueMin": -1.53
           },
           "northward_stress_bias": {
            "abbreviation": "northward_stress_bias",
            "colormapDiffId": "balance",
            "colormapDiffInvert": false,
            "colormapId": "balance",
            "colormapInvert": false,
            "dimensions": [
             "time",
             "latitude",
             "longitude"
            ],
            "hasLogScale": false,
            "id": "northward_stress_bias",
            "logScale": false,
            "missingValue": -2147483647,
            "name": {
             "en": "Scatterometer-model bias of surface wind stress northward component"
            },
            "offset": 0,
            "scale": 0.01,
            "standardName": "surface_downward_northward_stress_bias",
            "type": "data",
            "unit": "N m-2",
            "unitConversion": null,
            "valueClamp": true,
            "valueColor": false,
            "valueDiffMax": 0.02,
            "valueDiffRelMax": 25,
            "valueMax": 0.02,
            "valueMin": -0.02
           },
           "northward_stress_sdd": {
            "abbreviation": "northward_stress_sdd",
            "colormapDiffId": "balance",
            "colormapDiffInvert": false,
            "colormapId": "viridis",
            "colormapInvert": false,
            "dimensions": [
             "time",
             "latitude",
             "longitude"
            ],
            "hasLogScale": true,
            "id": "northward_stress_sdd",
            "logScale": false,
            "missingValue": -2147483647,
            "name": {
             "en": "Standard deviation of differences of surface wind stress northward component"
            },
            "offset": 0,
            "scale": 0.01,
            "standardName": "surface_downward_northward_stress_standard_deviation_of_differences",
            "type": "data",
            "unit": "N m-2",
            "unitConversion": null,
            "valueClamp": true,
            "valueColor": false,
            "valueDiffMax": 0.030000000000000002,
            "valueDiffRelMax": 25,
            "valueMax": 0.07,
            "valueMin": 0.01
           },
           "northward_wind": {
            "abbreviation": "northward_wind",
            "colormapDiffId": "balance",
            "colormapDiffInvert": false,
            "colormapId": "balance",
            "colormapInvert": false,
            "dimensions": [
             "time",
             "latitude",
             "longitude"
            ],
            "hasLogScale": false,
            "id": "northward_wind",
            "logScale": false,
            "missingValue": -32767,
            "name": {
             "en": "Stress-equivalent wind northward component at 10 m"
            },
            "offset": 0,
            "scale": 0.01,
            "standardName": "northward_wind",
            "type": "data",
            "unit": "m s-1",
            "unitConversion": null,
            "valueClamp": true,
            "valueColor": false,
            "valueDiffMax": 37.04999828338623,
            "valueDiffRelMax": 25,
            "valueMax": 37.04999828338623,
            "valueMin": -37.04999828338623
           },
           "northward_wind_bias": {
            "abbreviation": "northward_wind_bias",
            "colormapDiffId": "balance",
            "colormapDiffInvert": false,
            "colormapId": "balance",
            "colormapInvert": false,
            "dimensions": [
             "time",
             "latitude",
             "longitude"
            ],
            "hasLogScale": false,
            "id": "northward_wind_bias",
            "logScale": false,
            "missingValue": -32767,
            "name": {
             "en": "Scatterometer-model bias of stress-equivalent wind northward component at 10 m"
            },
            "offset": 0,
            "scale": 0.01,
            "standardName": "northward_wind_bias",
            "type": "data",
            "unit": "m s-1",
            "unitConversion": null,
            "valueClamp": true,
            "valueColor": false,
            "valueDiffMax": 0.8399999737739563,
            "valueDiffRelMax": 25,
            "valueMax": 0.8399999737739563,
            "valueMin": -0.8399999737739563
           },
           "northward_wind_sdd": {
            "abbreviation": "northward_wind_sdd",
            "colormapDiffId": "balance",
            "colormapDiffInvert": false,
            "colormapId": "viridis",
            "colormapInvert": false,
            "dimensions": [
             "time",
             "latitude",
             "longitude"
            ],
            "hasLogScale": true,
            "id": "northward_wind_sdd",
            "logScale": false,
            "missingValue": -32767,
            "name": {
             "en": "Standard deviation of differences of stress-equivalent wind northward component at 10 m"
            },
            "offset": 0,
            "scale": 0.01,
            "standardName": "northward_wind_standard_deviation_of_differences",
            "type": "data",
            "unit": "m s-1",
            "unitConversion": null,
            "valueClamp": true,
            "valueColor": false,
            "valueDiffMax": 0.8549999296665192,
            "valueDiffRelMax": 25,
            "valueMax": 2.3899998664855957,
            "valueMin": 0.6800000071525574
           },
           "number_of_observations": {
            "abbreviation": "number_of_observations",
            "colormapDiffId": "balance",
            "colormapDiffInvert": false,
            "colormapId": "viridis",
            "colormapInvert": false,
            "dimensions": [
             "time",
             "latitude",
             "longitude"
            ],
            "hasLogScale": true,
            "id": "number_of_observations",
            "logScale": false,
            "missingValue": -32767,
            "name": {
             "en": "Number of observations used for scatterometer-model bias"
            },
            "offset": null,
            "scale": null,
            "standardName": "number_of_observations",
            "type": "data",
            "unit": 1,
            "unitConversion": null,
            "valueClamp": true,
            "valueColor": false,
            "valueDiffMax": 21,
            "valueDiffRelMax": 25,
            "valueMax": 69,
            "valueMin": 27
           },
           "number_of_observations_divcurl": {
            "abbreviation": "number_of_observations_divcurl",
            "colormapDiffId": "balance",
            "colormapDiffInvert": false,
            "colormapId": "viridis",
            "colormapInvert": false,
            "dimensions": [
             "time",
             "latitude",
             "longitude"
            ],
            "hasLogScale": true,
            "id": "number_of_observations_divcurl",
            "logScale": false,
            "missingValue": -32767,
            "name": {
             "en": "Number of observations used for scatterometer-model divergence and curl bias"
            },
            "offset": null,
            "scale": null,
            "standardName": "number_of_observations",
            "type": "data",
            "unit": 1,
            "unitConversion": null,
            "valueClamp": true,
            "valueColor": false,
            "valueDiffMax": 27.5,
            "valueDiffRelMax": 25,
            "valueMax": 65,
            "valueMin": 10
           },
           "stress_curl": {
            "abbreviation": "stress_curl",
            "colormapDiffId": "balance",
            "colormapDiffInvert": false,
            "colormapId": "viridis",
            "colormapInvert": false,
            "dimensions": [
             "time",
             "latitude",
             "longitude"
            ],
            "hasLogScale": false,
            "id": "stress_curl",
            "logScale": false,
            "missingValue": -2147483647,
            "name": {
             "en": "Curl of surface wind stress"
            },
            "offset": 0,
            "scale": 1e-10,
            "standardName": "vertical_component_of_surface_downward_stress_curl",
            "type": "data",
            "unit": "N m-3",
            "unitConversion": null,
            "valueClamp": true,
            "valueColor": false,
            "valueDiffMax": 2.3519000000000003e-06,
            "valueDiffRelMax": 25,
            "valueMax": 2.1812e-06,
            "valueMin": -2.5226e-06
           },
           "stress_curl_bias": {
            "abbreviation": "stress_curl_bias",
            "colormapDiffId": "balance",
            "colormapDiffInvert": false,
            "colormapId": "balance",
            "colormapInvert": false,
            "dimensions": [
             "time",
             "latitude",
             "longitude"
            ],
            "hasLogScale": false,
            "id": "stress_curl_bias",
            "logScale": false,
            "missingValue": -2147483647,
            "name": {
             "en": "Scatterometer-model bias of curl of surface wind stress"
            },
            "offset": 0,
            "scale": 1e-10,
            "standardName": "vertical_component_of_surface_downward_stress_curl_bias",
            "type": "data",
            "unit": "N m-3",
            "unitConversion": null,
            "valueClamp": true,
            "valueColor": false,
            "valueDiffMax": 5.091e-07,
            "valueDiffRelMax": 25,
            "valueMax": 5.091e-07,
            "valueMin": -5.091e-07
           },
           "stress_curl_dv": {
            "abbreviation": "stress_curl_dv",
            "colormapDiffId": "balance",
            "colormapDiffInvert": false,
            "colormapId": "viridis",
            "colormapInvert": false,
            "dimensions": [
             "time",
             "latitude",
             "longitude"
            ],
            "hasLogScale": false,
            "id": "stress_curl_dv",
            "logScale": false,
            "missingValue": -2147483647,
            "name": {
             "en": "Difference of scatterometer and model variances of curl of surface wind stress"
            },
            "offset": 0,
            "scale": 1e-15,
            "standardName": "vertical_component_of_surface_downward_stress_curl_difference_of_variances",
            "type": "data",
            "unit": "N2 m-6",
            "unitConversion": null,
            "valueClamp": true,
            "valueColor": false,
            "valueDiffMax": 3.1755000000000004e-12,
            "valueDiffRelMax": 25,
            "valueMax": 5.266e-12,
            "valueMin": -1.0850000000000001e-12
           },
           "stress_divergence": {
            "abbreviation": "stress_divergence",
            "colormapDiffId": "balance",
            "colormapDiffInvert": false,
            "colormapId": "viridis",
            "colormapInvert": false,
            "dimensions": [
             "time",
             "latitude",
             "longitude"
            ],
            "hasLogScale": false,
            "id": "stress_divergence",
            "logScale": false,
            "missingValue": -2147483647,
            "name": {
             "en": "Divergence of surface wind stress"
            },
            "offset": 0,
            "scale": 1e-10,
            "standardName": "divergence_of_surface_downward_stress",
            "type": "data",
            "unit": "N m-3",
            "unitConversion": null,
            "valueClamp": true,
            "valueColor": false,
            "valueDiffMax": 2.0739629999999886e-06,
            "valueDiffRelMax": 25,
            "valueMax": 1.9623259999999777e-06,
            "valueMin": -2.1856e-06
           },
           "stress_divergence_bias": {
            "abbreviation": "stress_divergence_bias",
            "colormapDiffId": "balance",
            "colormapDiffInvert": false,
            "colormapId": "balance",
            "colormapInvert": false,
            "dimensions": [
             "time",
             "latitude",
             "longitude"
            ],
            "hasLogScale": false,
            "id": "stress_divergence_bias",
            "logScale": false,
            "missingValue": -2147483647,
            "name": {
             "en": "Scatterometer-model bias of divergence of surface wind stress"
            },
            "offset": 0,
            "scale": 1e-10,
            "standardName": "divergence_of_surface_downward_stress_bias",
            "type": "data",
            "unit": "N m-3",
            "unitConversion": null,
            "valueClamp": true,
            "valueColor": false,
            "valueDiffMax": 4.885000000000001e-07,
            "valueDiffRelMax": 25,
            "valueMax": 4.885000000000001e-07,
            "valueMin": -4.885000000000001e-07
           },
           "stress_divergence_dv": {
            "abbreviation": "stress_divergence_dv",
            "colormapDiffId": "balance",
            "colormapDiffInvert": false,
            "colormapId": "viridis",
            "colormapInvert": false,
            "dimensions": [
             "time",
             "latitude",
             "longitude"
            ],
            "hasLogScale": false,
            "id": "stress_divergence_dv",
            "logScale": false,
            "missingValue": -2147483647,
            "name": {
             "en": "Difference of scatterometer and model variances of divergence of surface wind stress"
            },
            "offset": 0,
            "scale": 1e-15,
            "standardName": "divergence_of_surface_downward_stress_difference_of_variances",
            "type": "data",
            "unit": "N2 m-6",
            "unitConversion": null,
            "valueClamp": true,
            "valueColor": false,
            "valueDiffMax": 2.2560000000000005e-12,
            "valueDiffRelMax": 25,
            "valueMax": 4.463000000000001e-12,
            "valueMin": -4.9000000000000006e-14
           },
           "wind_curl": {
            "abbreviation": "wind_curl",
            "colormapDiffId": "balance",
            "colormapDiffInvert": false,
            "colormapId": "viridis",
            "colormapInvert": false,
            "dimensions": [
             "time",
             "latitude",
             "longitude"
            ],
            "hasLogScale": false,
            "id": "wind_curl",
            "logScale": false,
            "missingValue": -2147483647,
            "name": {
             "en": "Curl of stress-equivalent wind at 10 m"
            },
            "offset": 0,
            "scale": 1e-07,
            "standardName": "atmosphere_relative_vorticity",
            "type": "data",
            "unit": "s-1",
            "unitConversion": null,
            "valueClamp": true,
            "valueColor": false,
            "valueDiffMax": 8.955e-05,
            "valueDiffRelMax": 25,
            "valueMax": 8.68e-05,
            "valueMin": -9.23e-05
           },
           "wind_curl_bias": {
            "abbreviation": "wind_curl_bias",
            "colormapDiffId": "balance",
            "colormapDiffInvert": false,
            "colormapId": "balance",
            "colormapInvert": false,
            "dimensions": [
             "time",
             "latitude",
             "longitude"
            ],
            "hasLogScale": false,
            "id": "wind_curl_bias",
            "logScale": false,
            "missingValue": -2147483647,
            "name": {
             "en": "Scatterometer-model bias of curl of stress-equivalent wind at 10 m"
            },
            "offset": 0,
            "scale": 1e-07,
            "standardName": "atmosphere_relative_vorticity_bias",
            "type": "data",
            "unit": "s-1",
            "unitConversion": null,
            "valueClamp": true,
            "valueColor": false,
            "valueDiffMax": 1.82e-05,
            "valueDiffRelMax": 25,
            "valueMax": 1.82e-05,
            "valueMin": -1.82e-05
           },
           "wind_curl_dv": {
            "abbreviation": "wind_curl_dv",
            "colormapDiffId": "balance",
            "colormapDiffInvert": false,
            "colormapId": "viridis",
            "colormapInvert": false,
            "dimensions": [
             "time",
             "latitude",
             "longitude"
            ],
            "hasLogScale": false,
            "id": "wind_curl_dv",
            "logScale": false,
            "missingValue": -2147483647,
            "name": {
             "en": "Difference of scatterometer and model variances of curl of stress-equivalent wind at 10 m"
            },
            "offset": 0,
            "scale": 1e-11,
            "standardName": "atmosphere_relative_vorticity_difference_of_variances",
            "type": "data",
            "unit": "s-2",
            "unitConversion": null,
            "valueClamp": true,
            "valueColor": false,
            "valueDiffMax": 3.5999999999999996e-09,
            "valueDiffRelMax": 25,
            "valueMax": 6.399999999999999e-09,
            "valueMin": -7.999999999999999e-10
           },
           "wind_divergence": {
            "abbreviation": "wind_divergence",
            "colormapDiffId": "balance",
            "colormapDiffInvert": false,
            "colormapId": "viridis",
            "colormapInvert": false,
            "dimensions": [
             "time",
             "latitude",
             "longitude"
            ],
            "hasLogScale": false,
            "id": "wind_divergence",
            "logScale": false,
            "missingValue": -2147483647,
            "name": {
             "en": "Divergence of stress-equivalent wind at 10 m"
            },
            "offset": 0,
            "scale": 1e-07,
            "standardName": "divergence_of_wind",
            "type": "data",
            "unit": "s-1",
            "unitConversion": null,
            "valueClamp": true,
            "valueColor": false,
            "valueDiffMax": 0.00010284999999999999,
            "valueDiffRelMax": 25,
            "valueMax": 9.63e-05,
            "valueMin": -0.00010939999999999999
           },
           "wind_divergence_bias": {
            "abbreviation": "wind_divergence_bias",
            "colormapDiffId": "balance",
            "colormapDiffInvert": false,
            "colormapId": "balance",
            "colormapInvert": false,
            "dimensions": [
             "time",
             "latitude",
             "longitude"
            ],
            "hasLogScale": false,
            "id": "wind_divergence_bias",
            "logScale": false,
            "missingValue": -2147483647,
            "name": {
             "en": "Scatterometer-model bias of divergence of stress-equivalent wind at 10 m"
            },
            "offset": 0,
            "scale": 1e-07,
            "standardName": "divergence_of_wind_bias",
            "type": "data",
            "unit": "s-1",
            "unitConversion": null,
            "valueClamp": true,
            "valueColor": false,
            "valueDiffMax": 2.09e-05,
            "valueDiffRelMax": 25,
            "valueMax": 2.09e-05,
            "valueMin": -2.09e-05
           },
           "wind_divergence_dv": {
            "abbreviation": "wind_divergence_dv",
            "colormapDiffId": "balance",
            "colormapDiffInvert": false,
            "colormapId": "viridis",
            "colormapInvert": false,
            "dimensions": [
             "time",
             "latitude",
             "longitude"
            ],
            "hasLogScale": true,
            "id": "wind_divergence_dv",
            "logScale": false,
            "missingValue": -2147483647,
            "name": {
             "en": "Difference of scatterometer and model variances of divergence of stress-equivalent wind at 10 m"
            },
            "offset": 0,
            "scale": 1e-11,
            "standardName": "divergence_of_wind_difference_of_variances",
            "type": "data",
            "unit": "s-2",
            "unitConversion": null,
            "valueClamp": true,
            "valueColor": false,
            "valueDiffMax": 3.3099999999999995e-09,
            "valueDiffRelMax": 25,
            "valueMax": 6.849999999999999e-09,
            "valueMin": 2.2999999999999998e-10
           }
          },
          "datetime": "2024-05-31T00:00:00Z",
          "end_datetime": "2024-05-31T00:00:00Z",
          "instruments": [
           "ASCAT, ASCAT"
          ],
          "license": "proprietary",
          "order:status": "",
          "processing:level": "Level 4",
          "providers": [
           {
            "description": "Copernicus Marine Data Store",
            "name": "cop_marine",
            "priority": 0,
            "roles": [
             "host"
            ],
            "url": "https://marine.copernicus.eu/"
           }
          ],
          "start_datetime": "2024-05-31T00:00:00Z"
         },
         "stac_extensions": [
          "https://stac-extensions.github.io/processing/v1.0.0/schema.json",
          "https://stac-extensions.github.io/order/v1.1.0/schema.json"
         ],
         "stac_version": "1.0.0",
         "type": "Feature"
        },
        {
         "assets": {
          "downloadLink": {
           "alternate": {
            "origin": {
             "href": "https://s3.waw3-1.cloudferro.com/mdl-native-04/native/WIND_GLO_PHY_L4_NRT_012_004/cmems_obs-wind_glo_phy_nrt_l4_0.125deg_PT1H_202207/2024/05/cmems_obs-wind_glo_phy_nrt_l4_0.125deg_PT1H_2024053116_R20240531T12_04.nc",
             "title": "Origin asset link"
            }
           },
           "href": "https://hda.data.destination-earth.eu/stac/collections/EO.MO.DAT.WIND_GLO_PHY_L4_NRT_012_004/items/cmems_obs-wind_glo_phy_nrt_l4_0/download?provider=cop_marine",
           "title": "Download link",
           "type": "application/zip"
          },
          "native": {
           "alternate": {
            "origin": {
             "href": "https://s3.waw3-1.cloudferro.com/mdl-native-04/native/WIND_GLO_PHY_L4_NRT_012_004/cmems_obs-wind_glo_phy_nrt_l4_0.125deg_PT1H_202207/2024/05/cmems_obs-wind_glo_phy_nrt_l4_0.125deg_PT1H_2024053116_R20240531T12_04.nc",
             "title": "Origin asset link",
             "type": "application/x-netcdf"
            }
           },
           "href": "https://hda.data.destination-earth.eu/stac/collections/EO.MO.DAT.WIND_GLO_PHY_L4_NRT_012_004/items/cmems_obs-wind_glo_phy_nrt_l4_0/download/native?provider=cop_marine",
           "title": "native",
           "type": "application/x-netcdf"
          },
          "thumbnail": {
           "href": "https://mdl-metadata.s3.waw3-1.cloudferro.com/metadata/thumbnails/WIND_GLO_PHY_L4_NRT_012_004.jpg",
           "role": "thumbnail",
           "title": "Thumbnail",
           "type": "image/jpeg"
          }
         },
         "bbox": [
          -180,
          -90,
          180,
          90
         ],
         "collection": "EO.MO.DAT.WIND_GLO_PHY_L4_NRT_012_004",
         "geometry": {
          "coordinates": [
           [
            [
             180,
             -90
            ],
            [
             180,
             90
            ],
            [
             -180,
             90
            ],
            [
             -180,
             -90
            ],
            [
             180,
             -90
            ]
           ]
          ],
          "type": "Polygon"
         },
         "id": "cmems_obs-wind_glo_phy_nrt_l4_0",
         "links": [
          {
           "href": "https://hda.data.destination-earth.eu/stac/collections/EO.MO.DAT.WIND_GLO_PHY_L4_NRT_012_004/items/cmems_obs-wind_glo_phy_nrt_l4_0",
           "rel": "self",
           "title": "cmems_obs-wind_glo_phy_nrt_l4_0"
          },
          {
           "href": "https://hda.data.destination-earth.eu/stac/",
           "rel": "root"
          },
          {
           "href": "https://hda.data.destination-earth.eu/stac/collections/EO.MO.DAT.WIND_GLO_PHY_L4_NRT_012_004",
           "rel": "parent",
           "title": "EO.MO.DAT.WIND_GLO_PHY_L4_NRT_012_004"
          },
          {
           "href": "https://hda.data.destination-earth.eu/stac/collections/EO.MO.DAT.WIND_GLO_PHY_L4_NRT_012_004",
           "rel": "collection",
           "title": "EO.MO.DAT.WIND_GLO_PHY_L4_NRT_012_004"
          }
         ],
         "properties": {
          "constellation": "Metop-B, Metop-C",
          "cop_marine:Conventions": "CF-1.6, ACDD-1.3",
          "cop_marine:admp_in_preparation": false,
          "cop_marine:admp_updated": "2024-09-18T10:37:03.450397Z",
          "cop_marine:admp_valid_start_date": "2022-03-11T12:00:00.000000000Z",
          "cop_marine:admp_valid_start_index": 14844,
          "cop_marine:allVariables": [
           "Eastward wind (WIND)",
           "Northward wind (WIND)",
           "Surface downward eastward stress (WIND)",
           "Surface downward northward stress (WIND)",
           "Stress curl (WIND)",
           "Stress divergence (WIND)",
           "Air density (WIND)",
           "Wind curl (WIND)",
           "Wind divergence (WIND)"
          ],
          "cop_marine:altId": "63ee69f1-2628-43aa-9b22-b21749d160ba",
          "cop_marine:areas": [
           "Global Ocean"
          ],
          "cop_marine:assimilatedData": [],
          "cop_marine:colors": [
           "Blue Ocean"
          ],
          "cop_marine:communities": [
           "Policy & governance",
           "Science & innovation",
           "Extremes, hazards & safety",
           "Coastal services",
           "Natural resources & energy",
           "Trade & marine navigation"
          ],
          "cop_marine:contacts": [
           {
            "email": "scat@knmi.nl",
            "name": "Service Desk KNMI",
            "organisationName": "SIW-KNMI-DEBILT-NL",
            "responsiblePartyRole": "pointOfContact"
           },
           {
            "email": "ad.stoffelen@knmi.nl",
            "name": "Ad STOFFELEN",
            "organisationName": "SIW-KNMI-DEBILT-NL",
            "responsiblePartyRole": "custodian"
           },
           {
            "email": "rianne.giesen@knmi.nl",
            "name": "Rianne GIESEN",
            "organisationName": "SIW-KNMI-DEBILT-NL",
            "responsiblePartyRole": "originator"
           },
           {
            "email": "scat@knmi.nl",
            "name": "Anton VERHOEF",
            "organisationName": "SIW-KNMI-DEBILT-NL",
            "responsiblePartyRole": "resourceProvider"
           },
           {
            "email": "scat@knmi.nl",
            "name": "Service Desk KNMI",
            "organisationName": "SIW-KNMI-DEBILT-NL",
            "responsiblePartyRole": "distributor"
           }
          ],
          "cop_marine:crs": "EPSG:4326",
          "cop_marine:dataset": "cmems_obs-wind_glo_phy_nrt_l4_0.125deg_PT1H_202207",
          "cop_marine:date_created": "2022-06-23T01:30:26",
          "cop_marine:date_modified": "2022-06-23T01:30:26",
          "cop_marine:directives": [],
          "cop_marine:featureTypes": [
           "Grid"
          ],
          "cop_marine:formats": [
           "NetCDF-4"
          ],
          "cop_marine:geoExtent": {
           "coordinates": [
            [
             -180,
             90
            ],
            [
             180,
             -90
            ]
           ],
           "type": "envelope"
          },
          "cop_marine:geoResolution": {
           "column": {
            "magnitude": 0.125,
            "units": "degree"
           },
           "row": {
            "magnitude": 0.125,
            "units": "degree"
           }
          },
          "cop_marine:geospatial_lat_max": 89.9375,
          "cop_marine:geospatial_lat_min": -89.9375,
          "cop_marine:geospatial_lat_resolution": 0.125,
          "cop_marine:geospatial_lat_units": "degrees_north",
          "cop_marine:geospatial_lon_max": 179.9375,
          "cop_marine:geospatial_lon_min": -179.9375,
          "cop_marine:geospatial_lon_resolution": 0.125,
          "cop_marine:geospatial_lon_units": "degrees_east",
          "cop_marine:history": "N/A",
          "cop_marine:indicatorFamilies": [],
          "cop_marine:institution": "Royal Netherlands Meteorological Institute (KNMI)",
          "cop_marine:instrument_vocabulary": "CEOS",
          "cop_marine:isStaging": false,
          "cop_marine:mainVariables": [
           "Wind"
          ],
          "cop_marine:model": "ECMWF Operational model",
          "cop_marine:modifiedDate": "2024-06-18",
          "cop_marine:platform_vocabulary": "CEOS",
          "cop_marine:processing_level": "L4",
          "cop_marine:project": "Copernicus Marine Service Wind Thematic Assembly Centre",
          "cop_marine:projection": "WGS 84 (EPSG:4326)",
          "cop_marine:providerMetadata": {
           "source": "cmems",
           "type": "csw",
           "url": "https://cmems-catalog-ro.cls.fr/geonetwork/srv/eng/csw-MYOCEAN-CORE-PRODUCTS?service=CSW&version=2.0.2&request=GetRecordById&id=63ee69f1-2628-43aa-9b22-b21749d160ba&elementsetname=full&outputSchema=http://www.isotc211.org/2005/gmd"
          },
          "cop_marine:rank": 14000,
          "cop_marine:references": "Copernicus Marine Service Product User Manual CMEMS-TAC-WIND-PUM-012-004, Trindade et al. (2020) doi:10.1109/TGRS.2019.2946019",
          "cop_marine:sources": [
           "Numerical models",
           "Satellite observations"
          ],
          "cop_marine:summary": "Global ocean 10-m stress-equivalent wind and surface wind stress fields based on the ECMWF operational model winds, bias-corrected using scatterometer observations",
          "cop_marine:tempExtentBegin": "",
          "cop_marine:tempResolutions": [
           "Hourly"
          ],
          "cop_marine:thumbnailMeta": {
           "basemapId": "dark",
           "colormapId": "speed",
           "colormapInvert": false,
           "creationDate": "2023-06-18T06:37:19.450Z",
           "crs": "epsg:4326",
           "elevation": null,
           "layerId": "WIND_GLO_PHY_L4_NRT_012_004/cmems_obs-wind_glo_phy_nrt_l4_0.125deg_PT1H_202207/wind",
           "logScale": false,
           "overlays": {
            "tags": [
             {
              "name": "Wind"
             }
            ]
           },
           "style": "default",
           "time": 1593561600000,
           "valueClamp": true,
           "valueMax": 37.04999828338623,
           "valueMin": 0
          },
          "cop_marine:time_coverage_end": "2020-07-01T00:00:00",
          "cop_marine:time_coverage_start": "2020-07-01T00:00:00",
          "cop_marine:times": [
           "Present",
           "Past"
          ],
          "cop_marine:updateFrequencies": {
           "daily": "15:00"
          },
          "cop_marine:useCases": [],
          "cop_marine:vertExtentMax": 0,
          "cop_marine:vertExtentMin": 0,
          "created": "2012-08-26",
          "cube:dimensions": {
           "latitude": {
            "axis": "y",
            "extent": [
             -89.9375,
             89.9375
            ],
            "reference_system": 4326,
            "step": 0.125,
            "type": "spatial"
           },
           "longitude": {
            "axis": "x",
            "extent": [
             -179.9375,
             179.9375
            ],
            "reference_system": 4326,
            "step": 0.125,
            "type": "spatial"
           },
           "time": {
            "extent": [
             "2020-07-01T00:00:00Z",
             "2024-09-17T23:00:00Z"
            ],
            "step": "PT1H",
            "type": "temporal"
           }
          },
          "cube:variables": {
           "air_density": {
            "abbreviation": "air_density",
            "colormapDiffId": "balance",
            "colormapDiffInvert": false,
            "colormapId": "viridis",
            "colormapInvert": false,
            "dimensions": [
             "time",
             "latitude",
             "longitude"
            ],
            "hasLogScale": true,
            "id": "air_density",
            "logScale": false,
            "missingValue": -32767,
            "name": {
             "en": "Air density at 10 m"
            },
            "offset": 0,
            "scale": 0.001,
            "standardName": "air_density",
            "type": "data",
            "unit": "kg m-3",
            "unitConversion": null,
            "valueClamp": true,
            "valueColor": false,
            "valueDiffMax": 0.2080000638961792,
            "valueDiffRelMax": 25,
            "valueMax": 1.5690001249313354,
            "valueMin": 1.152999997138977
           },
           "eastward_stress": {
            "abbreviation": "eastward_stress",
            "colormapDiffId": "balance",
            "colormapDiffInvert": false,
            "colormapId": "balance",
            "colormapInvert": false,
            "dimensions": [
             "time",
             "latitude",
             "longitude"
            ],
            "hasLogScale": false,
            "id": "eastward_stress",
            "logScale": false,
            "missingValue": -2147483647,
            "name": {
             "en": "Surface wind stress eastward component"
            },
            "offset": 0,
            "scale": 0.01,
            "standardName": "surface_downward_eastward_stress",
            "type": "data",
            "unit": "N m-2",
            "unitConversion": null,
            "valueClamp": true,
            "valueColor": false,
            "valueDiffMax": 1.53,
            "valueDiffRelMax": 25,
            "valueMax": 1.53,
            "valueMin": -1.53
           },
           "eastward_stress_bias": {
            "abbreviation": "eastward_stress_bias",
            "colormapDiffId": "balance",
            "colormapDiffInvert": false,
            "colormapId": "balance",
            "colormapInvert": false,
            "dimensions": [
             "time",
             "latitude",
             "longitude"
            ],
            "hasLogScale": false,
            "id": "eastward_stress_bias",
            "logScale": false,
            "missingValue": -2147483647,
            "name": {
             "en": "Scatterometer-model bias of surface wind stress eastward component"
            },
            "offset": 0,
            "scale": 0.01,
            "standardName": "surface_downward_eastward_stress_bias",
            "type": "data",
            "unit": "N m-2",
            "unitConversion": null,
            "valueClamp": true,
            "valueColor": false,
            "valueDiffMax": 0.03,
            "valueDiffRelMax": 25,
            "valueMax": 0.03,
            "valueMin": -0.03
           },
           "eastward_stress_sdd": {
            "abbreviation": "eastward_stress_sdd",
            "colormapDiffId": "balance",
            "colormapDiffInvert": false,
            "colormapId": "viridis",
            "colormapInvert": false,
            "dimensions": [
             "time",
             "latitude",
             "longitude"
            ],
            "hasLogScale": true,
            "id": "eastward_stress_sdd",
            "logScale": false,
            "missingValue": -2147483647,
            "name": {
             "en": "Standard deviation of differences of surface wind stress eastward component"
            },
            "offset": 0,
            "scale": 0.01,
            "standardName": "surface_downward_eastward_stress_standard_deviation_of_differences",
            "type": "data",
            "unit": "N m-2",
            "unitConversion": null,
            "valueClamp": true,
            "valueColor": false,
            "valueDiffMax": 0.035,
            "valueDiffRelMax": 25,
            "valueMax": 0.08,
            "valueMin": 0.01
           },
           "eastward_wind": {
            "abbreviation": "eastward_wind",
            "colormapDiffId": "balance",
            "colormapDiffInvert": false,
            "colormapId": "balance",
            "colormapInvert": false,
            "dimensions": [
             "time",
             "latitude",
             "longitude"
            ],
            "hasLogScale": false,
            "id": "eastward_wind",
            "logScale": false,
            "missingValue": -32767,
            "name": {
             "en": "Stress-equivalent wind eastward component at 10 m"
            },
            "offset": 0,
            "scale": 0.01,
            "standardName": "eastward_wind",
            "type": "data",
            "unit": "m s-1",
            "unitConversion": null,
            "valueClamp": true,
            "valueColor": false,
            "valueDiffMax": 37.04999828338623,
            "valueDiffRelMax": 25,
            "valueMax": 37.04999828338623,
            "valueMin": -37.04999828338623
           },
           "eastward_wind_bias": {
            "abbreviation": "eastward_wind_bias",
            "colormapDiffId": "balance",
            "colormapDiffInvert": false,
            "colormapId": "balance",
            "colormapInvert": false,
            "dimensions": [
             "time",
             "latitude",
             "longitude"
            ],
            "hasLogScale": false,
            "id": "eastward_wind_bias",
            "logScale": false,
            "missingValue": -32767,
            "name": {
             "en": "Scatterometer-model bias of stress-equivalent wind eastward component at 10 m"
            },
            "offset": 0,
            "scale": 0.01,
            "standardName": "eastward_wind_bias",
            "type": "data",
            "unit": "m s-1",
            "unitConversion": null,
            "valueClamp": true,
            "valueColor": false,
            "valueDiffMax": 0.9300000071525574,
            "valueDiffRelMax": 25,
            "valueMax": 0.9300000071525574,
            "valueMin": -0.9300000071525574
           },
           "eastward_wind_sdd": {
            "abbreviation": "eastward_wind_sdd",
            "colormapDiffId": "balance",
            "colormapDiffInvert": false,
            "colormapId": "viridis",
            "colormapInvert": false,
            "dimensions": [
             "time",
             "latitude",
             "longitude"
            ],
            "hasLogScale": true,
            "id": "eastward_wind_sdd",
            "logScale": false,
            "missingValue": -32767,
            "name": {
             "en": "Standard deviation of differences of stress-equivalent wind eastward component at 10 m"
            },
            "offset": 0,
            "scale": 0.01,
            "standardName": "eastward_wind_standard_deviation_of_differences",
            "type": "data",
            "unit": "m s-1",
            "unitConversion": null,
            "valueClamp": true,
            "valueColor": false,
            "valueDiffMax": 0.8099999129772186,
            "valueDiffRelMax": 25,
            "valueMax": 2.169999837875366,
            "valueMin": 0.550000011920929
           },
           "northward_stress": {
            "abbreviation": "northward_stress",
            "colormapDiffId": "balance",
            "colormapDiffInvert": false,
            "colormapId": "balance",
            "colormapInvert": false,
            "dimensions": [
             "time",
             "latitude",
             "longitude"
            ],
            "hasLogScale": false,
            "id": "northward_stress",
            "logScale": false,
            "missingValue": -2147483647,
            "name": {
             "en": "Surface wind stress northward component"
            },
            "offset": 0,
            "scale": 0.01,
            "standardName": "surface_downward_northward_stress",
            "type": "data",
            "unit": "N m-2",
            "unitConversion": null,
            "valueClamp": true,
            "valueColor": false,
            "valueDiffMax": 1.53,
            "valueDiffRelMax": 25,
            "valueMax": 1.53,
            "valueMin": -1.53
           },
           "northward_stress_bias": {
            "abbreviation": "northward_stress_bias",
            "colormapDiffId": "balance",
            "colormapDiffInvert": false,
            "colormapId": "balance",
            "colormapInvert": false,
            "dimensions": [
             "time",
             "latitude",
             "longitude"
            ],
            "hasLogScale": false,
            "id": "northward_stress_bias",
            "logScale": false,
            "missingValue": -2147483647,
            "name": {
             "en": "Scatterometer-model bias of surface wind stress northward component"
            },
            "offset": 0,
            "scale": 0.01,
            "standardName": "surface_downward_northward_stress_bias",
            "type": "data",
            "unit": "N m-2",
            "unitConversion": null,
            "valueClamp": true,
            "valueColor": false,
            "valueDiffMax": 0.02,
            "valueDiffRelMax": 25,
            "valueMax": 0.02,
            "valueMin": -0.02
           },
           "northward_stress_sdd": {
            "abbreviation": "northward_stress_sdd",
            "colormapDiffId": "balance",
            "colormapDiffInvert": false,
            "colormapId": "viridis",
            "colormapInvert": false,
            "dimensions": [
             "time",
             "latitude",
             "longitude"
            ],
            "hasLogScale": true,
            "id": "northward_stress_sdd",
            "logScale": false,
            "missingValue": -2147483647,
            "name": {
             "en": "Standard deviation of differences of surface wind stress northward component"
            },
            "offset": 0,
            "scale": 0.01,
            "standardName": "surface_downward_northward_stress_standard_deviation_of_differences",
            "type": "data",
            "unit": "N m-2",
            "unitConversion": null,
            "valueClamp": true,
            "valueColor": false,
            "valueDiffMax": 0.030000000000000002,
            "valueDiffRelMax": 25,
            "valueMax": 0.07,
            "valueMin": 0.01
           },
           "northward_wind": {
            "abbreviation": "northward_wind",
            "colormapDiffId": "balance",
            "colormapDiffInvert": false,
            "colormapId": "balance",
            "colormapInvert": false,
            "dimensions": [
             "time",
             "latitude",
             "longitude"
            ],
            "hasLogScale": false,
            "id": "northward_wind",
            "logScale": false,
            "missingValue": -32767,
            "name": {
             "en": "Stress-equivalent wind northward component at 10 m"
            },
            "offset": 0,
            "scale": 0.01,
            "standardName": "northward_wind",
            "type": "data",
            "unit": "m s-1",
            "unitConversion": null,
            "valueClamp": true,
            "valueColor": false,
            "valueDiffMax": 37.04999828338623,
            "valueDiffRelMax": 25,
            "valueMax": 37.04999828338623,
            "valueMin": -37.04999828338623
           },
           "northward_wind_bias": {
            "abbreviation": "northward_wind_bias",
            "colormapDiffId": "balance",
            "colormapDiffInvert": false,
            "colormapId": "balance",
            "colormapInvert": false,
            "dimensions": [
             "time",
             "latitude",
             "longitude"
            ],
            "hasLogScale": false,
            "id": "northward_wind_bias",
            "logScale": false,
            "missingValue": -32767,
            "name": {
             "en": "Scatterometer-model bias of stress-equivalent wind northward component at 10 m"
            },
            "offset": 0,
            "scale": 0.01,
            "standardName": "northward_wind_bias",
            "type": "data",
            "unit": "m s-1",
            "unitConversion": null,
            "valueClamp": true,
            "valueColor": false,
            "valueDiffMax": 0.8399999737739563,
            "valueDiffRelMax": 25,
            "valueMax": 0.8399999737739563,
            "valueMin": -0.8399999737739563
           },
           "northward_wind_sdd": {
            "abbreviation": "northward_wind_sdd",
            "colormapDiffId": "balance",
            "colormapDiffInvert": false,
            "colormapId": "viridis",
            "colormapInvert": false,
            "dimensions": [
             "time",
             "latitude",
             "longitude"
            ],
            "hasLogScale": true,
            "id": "northward_wind_sdd",
            "logScale": false,
            "missingValue": -32767,
            "name": {
             "en": "Standard deviation of differences of stress-equivalent wind northward component at 10 m"
            },
            "offset": 0,
            "scale": 0.01,
            "standardName": "northward_wind_standard_deviation_of_differences",
            "type": "data",
            "unit": "m s-1",
            "unitConversion": null,
            "valueClamp": true,
            "valueColor": false,
            "valueDiffMax": 0.8549999296665192,
            "valueDiffRelMax": 25,
            "valueMax": 2.3899998664855957,
            "valueMin": 0.6800000071525574
           },
           "number_of_observations": {
            "abbreviation": "number_of_observations",
            "colormapDiffId": "balance",
            "colormapDiffInvert": false,
            "colormapId": "viridis",
            "colormapInvert": false,
            "dimensions": [
             "time",
             "latitude",
             "longitude"
            ],
            "hasLogScale": true,
            "id": "number_of_observations",
            "logScale": false,
            "missingValue": -32767,
            "name": {
             "en": "Number of observations used for scatterometer-model bias"
            },
            "offset": null,
            "scale": null,
            "standardName": "number_of_observations",
            "type": "data",
            "unit": 1,
            "unitConversion": null,
            "valueClamp": true,
            "valueColor": false,
            "valueDiffMax": 21,
            "valueDiffRelMax": 25,
            "valueMax": 69,
            "valueMin": 27
           },
           "number_of_observations_divcurl": {
            "abbreviation": "number_of_observations_divcurl",
            "colormapDiffId": "balance",
            "colormapDiffInvert": false,
            "colormapId": "viridis",
            "colormapInvert": false,
            "dimensions": [
             "time",
             "latitude",
             "longitude"
            ],
            "hasLogScale": true,
            "id": "number_of_observations_divcurl",
            "logScale": false,
            "missingValue": -32767,
            "name": {
             "en": "Number of observations used for scatterometer-model divergence and curl bias"
            },
            "offset": null,
            "scale": null,
            "standardName": "number_of_observations",
            "type": "data",
            "unit": 1,
            "unitConversion": null,
            "valueClamp": true,
            "valueColor": false,
            "valueDiffMax": 27.5,
            "valueDiffRelMax": 25,
            "valueMax": 65,
            "valueMin": 10
           },
           "stress_curl": {
            "abbreviation": "stress_curl",
            "colormapDiffId": "balance",
            "colormapDiffInvert": false,
            "colormapId": "viridis",
            "colormapInvert": false,
            "dimensions": [
             "time",
             "latitude",
             "longitude"
            ],
            "hasLogScale": false,
            "id": "stress_curl",
            "logScale": false,
            "missingValue": -2147483647,
            "name": {
             "en": "Curl of surface wind stress"
            },
            "offset": 0,
            "scale": 1e-10,
            "standardName": "vertical_component_of_surface_downward_stress_curl",
            "type": "data",
            "unit": "N m-3",
            "unitConversion": null,
            "valueClamp": true,
            "valueColor": false,
            "valueDiffMax": 2.3519000000000003e-06,
            "valueDiffRelMax": 25,
            "valueMax": 2.1812e-06,
            "valueMin": -2.5226e-06
           },
           "stress_curl_bias": {
            "abbreviation": "stress_curl_bias",
            "colormapDiffId": "balance",
            "colormapDiffInvert": false,
            "colormapId": "balance",
            "colormapInvert": false,
            "dimensions": [
             "time",
             "latitude",
             "longitude"
            ],
            "hasLogScale": false,
            "id": "stress_curl_bias",
            "logScale": false,
            "missingValue": -2147483647,
            "name": {
             "en": "Scatterometer-model bias of curl of surface wind stress"
            },
            "offset": 0,
            "scale": 1e-10,
            "standardName": "vertical_component_of_surface_downward_stress_curl_bias",
            "type": "data",
            "unit": "N m-3",
            "unitConversion": null,
            "valueClamp": true,
            "valueColor": false,
            "valueDiffMax": 5.091e-07,
            "valueDiffRelMax": 25,
            "valueMax": 5.091e-07,
            "valueMin": -5.091e-07
           },
           "stress_curl_dv": {
            "abbreviation": "stress_curl_dv",
            "colormapDiffId": "balance",
            "colormapDiffInvert": false,
            "colormapId": "viridis",
            "colormapInvert": false,
            "dimensions": [
             "time",
             "latitude",
             "longitude"
            ],
            "hasLogScale": false,
            "id": "stress_curl_dv",
            "logScale": false,
            "missingValue": -2147483647,
            "name": {
             "en": "Difference of scatterometer and model variances of curl of surface wind stress"
            },
            "offset": 0,
            "scale": 1e-15,
            "standardName": "vertical_component_of_surface_downward_stress_curl_difference_of_variances",
            "type": "data",
            "unit": "N2 m-6",
            "unitConversion": null,
            "valueClamp": true,
            "valueColor": false,
            "valueDiffMax": 3.1755000000000004e-12,
            "valueDiffRelMax": 25,
            "valueMax": 5.266e-12,
            "valueMin": -1.0850000000000001e-12
           },
           "stress_divergence": {
            "abbreviation": "stress_divergence",
            "colormapDiffId": "balance",
            "colormapDiffInvert": false,
            "colormapId": "viridis",
            "colormapInvert": false,
            "dimensions": [
             "time",
             "latitude",
             "longitude"
            ],
            "hasLogScale": false,
            "id": "stress_divergence",
            "logScale": false,
            "missingValue": -2147483647,
            "name": {
             "en": "Divergence of surface wind stress"
            },
            "offset": 0,
            "scale": 1e-10,
            "standardName": "divergence_of_surface_downward_stress",
            "type": "data",
            "unit": "N m-3",
            "unitConversion": null,
            "valueClamp": true,
            "valueColor": false,
            "valueDiffMax": 2.0739629999999886e-06,
            "valueDiffRelMax": 25,
            "valueMax": 1.9623259999999777e-06,
            "valueMin": -2.1856e-06
           },
           "stress_divergence_bias": {
            "abbreviation": "stress_divergence_bias",
            "colormapDiffId": "balance",
            "colormapDiffInvert": false,
            "colormapId": "balance",
            "colormapInvert": false,
            "dimensions": [
             "time",
             "latitude",
             "longitude"
            ],
            "hasLogScale": false,
            "id": "stress_divergence_bias",
            "logScale": false,
            "missingValue": -2147483647,
            "name": {
             "en": "Scatterometer-model bias of divergence of surface wind stress"
            },
            "offset": 0,
            "scale": 1e-10,
            "standardName": "divergence_of_surface_downward_stress_bias",
            "type": "data",
            "unit": "N m-3",
            "unitConversion": null,
            "valueClamp": true,
            "valueColor": false,
            "valueDiffMax": 4.885000000000001e-07,
            "valueDiffRelMax": 25,
            "valueMax": 4.885000000000001e-07,
            "valueMin": -4.885000000000001e-07
           },
           "stress_divergence_dv": {
            "abbreviation": "stress_divergence_dv",
            "colormapDiffId": "balance",
            "colormapDiffInvert": false,
            "colormapId": "viridis",
            "colormapInvert": false,
            "dimensions": [
             "time",
             "latitude",
             "longitude"
            ],
            "hasLogScale": false,
            "id": "stress_divergence_dv",
            "logScale": false,
            "missingValue": -2147483647,
            "name": {
             "en": "Difference of scatterometer and model variances of divergence of surface wind stress"
            },
            "offset": 0,
            "scale": 1e-15,
            "standardName": "divergence_of_surface_downward_stress_difference_of_variances",
            "type": "data",
            "unit": "N2 m-6",
            "unitConversion": null,
            "valueClamp": true,
            "valueColor": false,
            "valueDiffMax": 2.2560000000000005e-12,
            "valueDiffRelMax": 25,
            "valueMax": 4.463000000000001e-12,
            "valueMin": -4.9000000000000006e-14
           },
           "wind_curl": {
            "abbreviation": "wind_curl",
            "colormapDiffId": "balance",
            "colormapDiffInvert": false,
            "colormapId": "viridis",
            "colormapInvert": false,
            "dimensions": [
             "time",
             "latitude",
             "longitude"
            ],
            "hasLogScale": false,
            "id": "wind_curl",
            "logScale": false,
            "missingValue": -2147483647,
            "name": {
             "en": "Curl of stress-equivalent wind at 10 m"
            },
            "offset": 0,
            "scale": 1e-07,
            "standardName": "atmosphere_relative_vorticity",
            "type": "data",
            "unit": "s-1",
            "unitConversion": null,
            "valueClamp": true,
            "valueColor": false,
            "valueDiffMax": 8.955e-05,
            "valueDiffRelMax": 25,
            "valueMax": 8.68e-05,
            "valueMin": -9.23e-05
           },
           "wind_curl_bias": {
            "abbreviation": "wind_curl_bias",
            "colormapDiffId": "balance",
            "colormapDiffInvert": false,
            "colormapId": "balance",
            "colormapInvert": false,
            "dimensions": [
             "time",
             "latitude",
             "longitude"
            ],
            "hasLogScale": false,
            "id": "wind_curl_bias",
            "logScale": false,
            "missingValue": -2147483647,
            "name": {
             "en": "Scatterometer-model bias of curl of stress-equivalent wind at 10 m"
            },
            "offset": 0,
            "scale": 1e-07,
            "standardName": "atmosphere_relative_vorticity_bias",
            "type": "data",
            "unit": "s-1",
            "unitConversion": null,
            "valueClamp": true,
            "valueColor": false,
            "valueDiffMax": 1.82e-05,
            "valueDiffRelMax": 25,
            "valueMax": 1.82e-05,
            "valueMin": -1.82e-05
           },
           "wind_curl_dv": {
            "abbreviation": "wind_curl_dv",
            "colormapDiffId": "balance",
            "colormapDiffInvert": false,
            "colormapId": "viridis",
            "colormapInvert": false,
            "dimensions": [
             "time",
             "latitude",
             "longitude"
            ],
            "hasLogScale": false,
            "id": "wind_curl_dv",
            "logScale": false,
            "missingValue": -2147483647,
            "name": {
             "en": "Difference of scatterometer and model variances of curl of stress-equivalent wind at 10 m"
            },
            "offset": 0,
            "scale": 1e-11,
            "standardName": "atmosphere_relative_vorticity_difference_of_variances",
            "type": "data",
            "unit": "s-2",
            "unitConversion": null,
            "valueClamp": true,
            "valueColor": false,
            "valueDiffMax": 3.5999999999999996e-09,
            "valueDiffRelMax": 25,
            "valueMax": 6.399999999999999e-09,
            "valueMin": -7.999999999999999e-10
           },
           "wind_divergence": {
            "abbreviation": "wind_divergence",
            "colormapDiffId": "balance",
            "colormapDiffInvert": false,
            "colormapId": "viridis",
            "colormapInvert": false,
            "dimensions": [
             "time",
             "latitude",
             "longitude"
            ],
            "hasLogScale": false,
            "id": "wind_divergence",
            "logScale": false,
            "missingValue": -2147483647,
            "name": {
             "en": "Divergence of stress-equivalent wind at 10 m"
            },
            "offset": 0,
            "scale": 1e-07,
            "standardName": "divergence_of_wind",
            "type": "data",
            "unit": "s-1",
            "unitConversion": null,
            "valueClamp": true,
            "valueColor": false,
            "valueDiffMax": 0.00010284999999999999,
            "valueDiffRelMax": 25,
            "valueMax": 9.63e-05,
            "valueMin": -0.00010939999999999999
           },
           "wind_divergence_bias": {
            "abbreviation": "wind_divergence_bias",
            "colormapDiffId": "balance",
            "colormapDiffInvert": false,
            "colormapId": "balance",
            "colormapInvert": false,
            "dimensions": [
             "time",
             "latitude",
             "longitude"
            ],
            "hasLogScale": false,
            "id": "wind_divergence_bias",
            "logScale": false,
            "missingValue": -2147483647,
            "name": {
             "en": "Scatterometer-model bias of divergence of stress-equivalent wind at 10 m"
            },
            "offset": 0,
            "scale": 1e-07,
            "standardName": "divergence_of_wind_bias",
            "type": "data",
            "unit": "s-1",
            "unitConversion": null,
            "valueClamp": true,
            "valueColor": false,
            "valueDiffMax": 2.09e-05,
            "valueDiffRelMax": 25,
            "valueMax": 2.09e-05,
            "valueMin": -2.09e-05
           },
           "wind_divergence_dv": {
            "abbreviation": "wind_divergence_dv",
            "colormapDiffId": "balance",
            "colormapDiffInvert": false,
            "colormapId": "viridis",
            "colormapInvert": false,
            "dimensions": [
             "time",
             "latitude",
             "longitude"
            ],
            "hasLogScale": true,
            "id": "wind_divergence_dv",
            "logScale": false,
            "missingValue": -2147483647,
            "name": {
             "en": "Difference of scatterometer and model variances of divergence of stress-equivalent wind at 10 m"
            },
            "offset": 0,
            "scale": 1e-11,
            "standardName": "divergence_of_wind_difference_of_variances",
            "type": "data",
            "unit": "s-2",
            "unitConversion": null,
            "valueClamp": true,
            "valueColor": false,
            "valueDiffMax": 3.3099999999999995e-09,
            "valueDiffRelMax": 25,
            "valueMax": 6.849999999999999e-09,
            "valueMin": 2.2999999999999998e-10
           }
          },
          "datetime": "2024-05-31T00:00:00Z",
          "end_datetime": "2024-05-31T00:00:00Z",
          "instruments": [
           "ASCAT, ASCAT"
          ],
          "license": "proprietary",
          "order:status": "",
          "processing:level": "Level 4",
          "providers": [
           {
            "description": "Copernicus Marine Data Store",
            "name": "cop_marine",
            "priority": 0,
            "roles": [
             "host"
            ],
            "url": "https://marine.copernicus.eu/"
           }
          ],
          "start_datetime": "2024-05-31T00:00:00Z"
         },
         "stac_extensions": [
          "https://stac-extensions.github.io/processing/v1.0.0/schema.json",
          "https://stac-extensions.github.io/order/v1.1.0/schema.json"
         ],
         "stac_version": "1.0.0",
         "type": "Feature"
        },
        {
         "assets": {
          "downloadLink": {
           "alternate": {
            "origin": {
             "href": "https://s3.waw3-1.cloudferro.com/mdl-native-04/native/WIND_GLO_PHY_L4_NRT_012_004/cmems_obs-wind_glo_phy_nrt_l4_0.125deg_PT1H_202207/2024/05/cmems_obs-wind_glo_phy_nrt_l4_0.125deg_PT1H_2024053117_R20240531T12_05.nc",
             "title": "Origin asset link"
            }
           },
           "href": "https://hda.data.destination-earth.eu/stac/collections/EO.MO.DAT.WIND_GLO_PHY_L4_NRT_012_004/items/cmems_obs-wind_glo_phy_nrt_l4_0/download?provider=cop_marine",
           "title": "Download link",
           "type": "application/zip"
          },
          "native": {
           "alternate": {
            "origin": {
             "href": "https://s3.waw3-1.cloudferro.com/mdl-native-04/native/WIND_GLO_PHY_L4_NRT_012_004/cmems_obs-wind_glo_phy_nrt_l4_0.125deg_PT1H_202207/2024/05/cmems_obs-wind_glo_phy_nrt_l4_0.125deg_PT1H_2024053117_R20240531T12_05.nc",
             "title": "Origin asset link",
             "type": "application/x-netcdf"
            }
           },
           "href": "https://hda.data.destination-earth.eu/stac/collections/EO.MO.DAT.WIND_GLO_PHY_L4_NRT_012_004/items/cmems_obs-wind_glo_phy_nrt_l4_0/download/native?provider=cop_marine",
           "title": "native",
           "type": "application/x-netcdf"
          },
          "thumbnail": {
           "href": "https://mdl-metadata.s3.waw3-1.cloudferro.com/metadata/thumbnails/WIND_GLO_PHY_L4_NRT_012_004.jpg",
           "role": "thumbnail",
           "title": "Thumbnail",
           "type": "image/jpeg"
          }
         },
         "bbox": [
          -180,
          -90,
          180,
          90
         ],
         "collection": "EO.MO.DAT.WIND_GLO_PHY_L4_NRT_012_004",
         "geometry": {
          "coordinates": [
           [
            [
             180,
             -90
            ],
            [
             180,
             90
            ],
            [
             -180,
             90
            ],
            [
             -180,
             -90
            ],
            [
             180,
             -90
            ]
           ]
          ],
          "type": "Polygon"
         },
         "id": "cmems_obs-wind_glo_phy_nrt_l4_0",
         "links": [
          {
           "href": "https://hda.data.destination-earth.eu/stac/collections/EO.MO.DAT.WIND_GLO_PHY_L4_NRT_012_004/items/cmems_obs-wind_glo_phy_nrt_l4_0",
           "rel": "self",
           "title": "cmems_obs-wind_glo_phy_nrt_l4_0"
          },
          {
           "href": "https://hda.data.destination-earth.eu/stac/",
           "rel": "root"
          },
          {
           "href": "https://hda.data.destination-earth.eu/stac/collections/EO.MO.DAT.WIND_GLO_PHY_L4_NRT_012_004",
           "rel": "parent",
           "title": "EO.MO.DAT.WIND_GLO_PHY_L4_NRT_012_004"
          },
          {
           "href": "https://hda.data.destination-earth.eu/stac/collections/EO.MO.DAT.WIND_GLO_PHY_L4_NRT_012_004",
           "rel": "collection",
           "title": "EO.MO.DAT.WIND_GLO_PHY_L4_NRT_012_004"
          }
         ],
         "properties": {
          "constellation": "Metop-B, Metop-C",
          "cop_marine:Conventions": "CF-1.6, ACDD-1.3",
          "cop_marine:admp_in_preparation": false,
          "cop_marine:admp_updated": "2024-09-18T10:37:03.450397Z",
          "cop_marine:admp_valid_start_date": "2022-03-11T12:00:00.000000000Z",
          "cop_marine:admp_valid_start_index": 14844,
          "cop_marine:allVariables": [
           "Eastward wind (WIND)",
           "Northward wind (WIND)",
           "Surface downward eastward stress (WIND)",
           "Surface downward northward stress (WIND)",
           "Stress curl (WIND)",
           "Stress divergence (WIND)",
           "Air density (WIND)",
           "Wind curl (WIND)",
           "Wind divergence (WIND)"
          ],
          "cop_marine:altId": "63ee69f1-2628-43aa-9b22-b21749d160ba",
          "cop_marine:areas": [
           "Global Ocean"
          ],
          "cop_marine:assimilatedData": [],
          "cop_marine:colors": [
           "Blue Ocean"
          ],
          "cop_marine:communities": [
           "Policy & governance",
           "Science & innovation",
           "Extremes, hazards & safety",
           "Coastal services",
           "Natural resources & energy",
           "Trade & marine navigation"
          ],
          "cop_marine:contacts": [
           {
            "email": "scat@knmi.nl",
            "name": "Service Desk KNMI",
            "organisationName": "SIW-KNMI-DEBILT-NL",
            "responsiblePartyRole": "pointOfContact"
           },
           {
            "email": "ad.stoffelen@knmi.nl",
            "name": "Ad STOFFELEN",
            "organisationName": "SIW-KNMI-DEBILT-NL",
            "responsiblePartyRole": "custodian"
           },
           {
            "email": "rianne.giesen@knmi.nl",
            "name": "Rianne GIESEN",
            "organisationName": "SIW-KNMI-DEBILT-NL",
            "responsiblePartyRole": "originator"
           },
           {
            "email": "scat@knmi.nl",
            "name": "Anton VERHOEF",
            "organisationName": "SIW-KNMI-DEBILT-NL",
            "responsiblePartyRole": "resourceProvider"
           },
           {
            "email": "scat@knmi.nl",
            "name": "Service Desk KNMI",
            "organisationName": "SIW-KNMI-DEBILT-NL",
            "responsiblePartyRole": "distributor"
           }
          ],
          "cop_marine:crs": "EPSG:4326",
          "cop_marine:dataset": "cmems_obs-wind_glo_phy_nrt_l4_0.125deg_PT1H_202207",
          "cop_marine:date_created": "2022-06-23T01:30:26",
          "cop_marine:date_modified": "2022-06-23T01:30:26",
          "cop_marine:directives": [],
          "cop_marine:featureTypes": [
           "Grid"
          ],
          "cop_marine:formats": [
           "NetCDF-4"
          ],
          "cop_marine:geoExtent": {
           "coordinates": [
            [
             -180,
             90
            ],
            [
             180,
             -90
            ]
           ],
           "type": "envelope"
          },
          "cop_marine:geoResolution": {
           "column": {
            "magnitude": 0.125,
            "units": "degree"
           },
           "row": {
            "magnitude": 0.125,
            "units": "degree"
           }
          },
          "cop_marine:geospatial_lat_max": 89.9375,
          "cop_marine:geospatial_lat_min": -89.9375,
          "cop_marine:geospatial_lat_resolution": 0.125,
          "cop_marine:geospatial_lat_units": "degrees_north",
          "cop_marine:geospatial_lon_max": 179.9375,
          "cop_marine:geospatial_lon_min": -179.9375,
          "cop_marine:geospatial_lon_resolution": 0.125,
          "cop_marine:geospatial_lon_units": "degrees_east",
          "cop_marine:history": "N/A",
          "cop_marine:indicatorFamilies": [],
          "cop_marine:institution": "Royal Netherlands Meteorological Institute (KNMI)",
          "cop_marine:instrument_vocabulary": "CEOS",
          "cop_marine:isStaging": false,
          "cop_marine:mainVariables": [
           "Wind"
          ],
          "cop_marine:model": "ECMWF Operational model",
          "cop_marine:modifiedDate": "2024-06-18",
          "cop_marine:platform_vocabulary": "CEOS",
          "cop_marine:processing_level": "L4",
          "cop_marine:project": "Copernicus Marine Service Wind Thematic Assembly Centre",
          "cop_marine:projection": "WGS 84 (EPSG:4326)",
          "cop_marine:providerMetadata": {
           "source": "cmems",
           "type": "csw",
           "url": "https://cmems-catalog-ro.cls.fr/geonetwork/srv/eng/csw-MYOCEAN-CORE-PRODUCTS?service=CSW&version=2.0.2&request=GetRecordById&id=63ee69f1-2628-43aa-9b22-b21749d160ba&elementsetname=full&outputSchema=http://www.isotc211.org/2005/gmd"
          },
          "cop_marine:rank": 14000,
          "cop_marine:references": "Copernicus Marine Service Product User Manual CMEMS-TAC-WIND-PUM-012-004, Trindade et al. (2020) doi:10.1109/TGRS.2019.2946019",
          "cop_marine:sources": [
           "Numerical models",
           "Satellite observations"
          ],
          "cop_marine:summary": "Global ocean 10-m stress-equivalent wind and surface wind stress fields based on the ECMWF operational model winds, bias-corrected using scatterometer observations",
          "cop_marine:tempExtentBegin": "",
          "cop_marine:tempResolutions": [
           "Hourly"
          ],
          "cop_marine:thumbnailMeta": {
           "basemapId": "dark",
           "colormapId": "speed",
           "colormapInvert": false,
           "creationDate": "2023-06-18T06:37:19.450Z",
           "crs": "epsg:4326",
           "elevation": null,
           "layerId": "WIND_GLO_PHY_L4_NRT_012_004/cmems_obs-wind_glo_phy_nrt_l4_0.125deg_PT1H_202207/wind",
           "logScale": false,
           "overlays": {
            "tags": [
             {
              "name": "Wind"
             }
            ]
           },
           "style": "default",
           "time": 1593561600000,
           "valueClamp": true,
           "valueMax": 37.04999828338623,
           "valueMin": 0
          },
          "cop_marine:time_coverage_end": "2020-07-01T00:00:00",
          "cop_marine:time_coverage_start": "2020-07-01T00:00:00",
          "cop_marine:times": [
           "Present",
           "Past"
          ],
          "cop_marine:updateFrequencies": {
           "daily": "15:00"
          },
          "cop_marine:useCases": [],
          "cop_marine:vertExtentMax": 0,
          "cop_marine:vertExtentMin": 0,
          "created": "2012-08-26",
          "cube:dimensions": {
           "latitude": {
            "axis": "y",
            "extent": [
             -89.9375,
             89.9375
            ],
            "reference_system": 4326,
            "step": 0.125,
            "type": "spatial"
           },
           "longitude": {
            "axis": "x",
            "extent": [
             -179.9375,
             179.9375
            ],
            "reference_system": 4326,
            "step": 0.125,
            "type": "spatial"
           },
           "time": {
            "extent": [
             "2020-07-01T00:00:00Z",
             "2024-09-17T23:00:00Z"
            ],
            "step": "PT1H",
            "type": "temporal"
           }
          },
          "cube:variables": {
           "air_density": {
            "abbreviation": "air_density",
            "colormapDiffId": "balance",
            "colormapDiffInvert": false,
            "colormapId": "viridis",
            "colormapInvert": false,
            "dimensions": [
             "time",
             "latitude",
             "longitude"
            ],
            "hasLogScale": true,
            "id": "air_density",
            "logScale": false,
            "missingValue": -32767,
            "name": {
             "en": "Air density at 10 m"
            },
            "offset": 0,
            "scale": 0.001,
            "standardName": "air_density",
            "type": "data",
            "unit": "kg m-3",
            "unitConversion": null,
            "valueClamp": true,
            "valueColor": false,
            "valueDiffMax": 0.2080000638961792,
            "valueDiffRelMax": 25,
            "valueMax": 1.5690001249313354,
            "valueMin": 1.152999997138977
           },
           "eastward_stress": {
            "abbreviation": "eastward_stress",
            "colormapDiffId": "balance",
            "colormapDiffInvert": false,
            "colormapId": "balance",
            "colormapInvert": false,
            "dimensions": [
             "time",
             "latitude",
             "longitude"
            ],
            "hasLogScale": false,
            "id": "eastward_stress",
            "logScale": false,
            "missingValue": -2147483647,
            "name": {
             "en": "Surface wind stress eastward component"
            },
            "offset": 0,
            "scale": 0.01,
            "standardName": "surface_downward_eastward_stress",
            "type": "data",
            "unit": "N m-2",
            "unitConversion": null,
            "valueClamp": true,
            "valueColor": false,
            "valueDiffMax": 1.53,
            "valueDiffRelMax": 25,
            "valueMax": 1.53,
            "valueMin": -1.53
           },
           "eastward_stress_bias": {
            "abbreviation": "eastward_stress_bias",
            "colormapDiffId": "balance",
            "colormapDiffInvert": false,
            "colormapId": "balance",
            "colormapInvert": false,
            "dimensions": [
             "time",
             "latitude",
             "longitude"
            ],
            "hasLogScale": false,
            "id": "eastward_stress_bias",
            "logScale": false,
            "missingValue": -2147483647,
            "name": {
             "en": "Scatterometer-model bias of surface wind stress eastward component"
            },
            "offset": 0,
            "scale": 0.01,
            "standardName": "surface_downward_eastward_stress_bias",
            "type": "data",
            "unit": "N m-2",
            "unitConversion": null,
            "valueClamp": true,
            "valueColor": false,
            "valueDiffMax": 0.03,
            "valueDiffRelMax": 25,
            "valueMax": 0.03,
            "valueMin": -0.03
           },
           "eastward_stress_sdd": {
            "abbreviation": "eastward_stress_sdd",
            "colormapDiffId": "balance",
            "colormapDiffInvert": false,
            "colormapId": "viridis",
            "colormapInvert": false,
            "dimensions": [
             "time",
             "latitude",
             "longitude"
            ],
            "hasLogScale": true,
            "id": "eastward_stress_sdd",
            "logScale": false,
            "missingValue": -2147483647,
            "name": {
             "en": "Standard deviation of differences of surface wind stress eastward component"
            },
            "offset": 0,
            "scale": 0.01,
            "standardName": "surface_downward_eastward_stress_standard_deviation_of_differences",
            "type": "data",
            "unit": "N m-2",
            "unitConversion": null,
            "valueClamp": true,
            "valueColor": false,
            "valueDiffMax": 0.035,
            "valueDiffRelMax": 25,
            "valueMax": 0.08,
            "valueMin": 0.01
           },
           "eastward_wind": {
            "abbreviation": "eastward_wind",
            "colormapDiffId": "balance",
            "colormapDiffInvert": false,
            "colormapId": "balance",
            "colormapInvert": false,
            "dimensions": [
             "time",
             "latitude",
             "longitude"
            ],
            "hasLogScale": false,
            "id": "eastward_wind",
            "logScale": false,
            "missingValue": -32767,
            "name": {
             "en": "Stress-equivalent wind eastward component at 10 m"
            },
            "offset": 0,
            "scale": 0.01,
            "standardName": "eastward_wind",
            "type": "data",
            "unit": "m s-1",
            "unitConversion": null,
            "valueClamp": true,
            "valueColor": false,
            "valueDiffMax": 37.04999828338623,
            "valueDiffRelMax": 25,
            "valueMax": 37.04999828338623,
            "valueMin": -37.04999828338623
           },
           "eastward_wind_bias": {
            "abbreviation": "eastward_wind_bias",
            "colormapDiffId": "balance",
            "colormapDiffInvert": false,
            "colormapId": "balance",
            "colormapInvert": false,
            "dimensions": [
             "time",
             "latitude",
             "longitude"
            ],
            "hasLogScale": false,
            "id": "eastward_wind_bias",
            "logScale": false,
            "missingValue": -32767,
            "name": {
             "en": "Scatterometer-model bias of stress-equivalent wind eastward component at 10 m"
            },
            "offset": 0,
            "scale": 0.01,
            "standardName": "eastward_wind_bias",
            "type": "data",
            "unit": "m s-1",
            "unitConversion": null,
            "valueClamp": true,
            "valueColor": false,
            "valueDiffMax": 0.9300000071525574,
            "valueDiffRelMax": 25,
            "valueMax": 0.9300000071525574,
            "valueMin": -0.9300000071525574
           },
           "eastward_wind_sdd": {
            "abbreviation": "eastward_wind_sdd",
            "colormapDiffId": "balance",
            "colormapDiffInvert": false,
            "colormapId": "viridis",
            "colormapInvert": false,
            "dimensions": [
             "time",
             "latitude",
             "longitude"
            ],
            "hasLogScale": true,
            "id": "eastward_wind_sdd",
            "logScale": false,
            "missingValue": -32767,
            "name": {
             "en": "Standard deviation of differences of stress-equivalent wind eastward component at 10 m"
            },
            "offset": 0,
            "scale": 0.01,
            "standardName": "eastward_wind_standard_deviation_of_differences",
            "type": "data",
            "unit": "m s-1",
            "unitConversion": null,
            "valueClamp": true,
            "valueColor": false,
            "valueDiffMax": 0.8099999129772186,
            "valueDiffRelMax": 25,
            "valueMax": 2.169999837875366,
            "valueMin": 0.550000011920929
           },
           "northward_stress": {
            "abbreviation": "northward_stress",
            "colormapDiffId": "balance",
            "colormapDiffInvert": false,
            "colormapId": "balance",
            "colormapInvert": false,
            "dimensions": [
             "time",
             "latitude",
             "longitude"
            ],
            "hasLogScale": false,
            "id": "northward_stress",
            "logScale": false,
            "missingValue": -2147483647,
            "name": {
             "en": "Surface wind stress northward component"
            },
            "offset": 0,
            "scale": 0.01,
            "standardName": "surface_downward_northward_stress",
            "type": "data",
            "unit": "N m-2",
            "unitConversion": null,
            "valueClamp": true,
            "valueColor": false,
            "valueDiffMax": 1.53,
            "valueDiffRelMax": 25,
            "valueMax": 1.53,
            "valueMin": -1.53
           },
           "northward_stress_bias": {
            "abbreviation": "northward_stress_bias",
            "colormapDiffId": "balance",
            "colormapDiffInvert": false,
            "colormapId": "balance",
            "colormapInvert": false,
            "dimensions": [
             "time",
             "latitude",
             "longitude"
            ],
            "hasLogScale": false,
            "id": "northward_stress_bias",
            "logScale": false,
            "missingValue": -2147483647,
            "name": {
             "en": "Scatterometer-model bias of surface wind stress northward component"
            },
            "offset": 0,
            "scale": 0.01,
            "standardName": "surface_downward_northward_stress_bias",
            "type": "data",
            "unit": "N m-2",
            "unitConversion": null,
            "valueClamp": true,
            "valueColor": false,
            "valueDiffMax": 0.02,
            "valueDiffRelMax": 25,
            "valueMax": 0.02,
            "valueMin": -0.02
           },
           "northward_stress_sdd": {
            "abbreviation": "northward_stress_sdd",
            "colormapDiffId": "balance",
            "colormapDiffInvert": false,
            "colormapId": "viridis",
            "colormapInvert": false,
            "dimensions": [
             "time",
             "latitude",
             "longitude"
            ],
            "hasLogScale": true,
            "id": "northward_stress_sdd",
            "logScale": false,
            "missingValue": -2147483647,
            "name": {
             "en": "Standard deviation of differences of surface wind stress northward component"
            },
            "offset": 0,
            "scale": 0.01,
            "standardName": "surface_downward_northward_stress_standard_deviation_of_differences",
            "type": "data",
            "unit": "N m-2",
            "unitConversion": null,
            "valueClamp": true,
            "valueColor": false,
            "valueDiffMax": 0.030000000000000002,
            "valueDiffRelMax": 25,
            "valueMax": 0.07,
            "valueMin": 0.01
           },
           "northward_wind": {
            "abbreviation": "northward_wind",
            "colormapDiffId": "balance",
            "colormapDiffInvert": false,
            "colormapId": "balance",
            "colormapInvert": false,
            "dimensions": [
             "time",
             "latitude",
             "longitude"
            ],
            "hasLogScale": false,
            "id": "northward_wind",
            "logScale": false,
            "missingValue": -32767,
            "name": {
             "en": "Stress-equivalent wind northward component at 10 m"
            },
            "offset": 0,
            "scale": 0.01,
            "standardName": "northward_wind",
            "type": "data",
            "unit": "m s-1",
            "unitConversion": null,
            "valueClamp": true,
            "valueColor": false,
            "valueDiffMax": 37.04999828338623,
            "valueDiffRelMax": 25,
            "valueMax": 37.04999828338623,
            "valueMin": -37.04999828338623
           },
           "northward_wind_bias": {
            "abbreviation": "northward_wind_bias",
            "colormapDiffId": "balance",
            "colormapDiffInvert": false,
            "colormapId": "balance",
            "colormapInvert": false,
            "dimensions": [
             "time",
             "latitude",
             "longitude"
            ],
            "hasLogScale": false,
            "id": "northward_wind_bias",
            "logScale": false,
            "missingValue": -32767,
            "name": {
             "en": "Scatterometer-model bias of stress-equivalent wind northward component at 10 m"
            },
            "offset": 0,
            "scale": 0.01,
            "standardName": "northward_wind_bias",
            "type": "data",
            "unit": "m s-1",
            "unitConversion": null,
            "valueClamp": true,
            "valueColor": false,
            "valueDiffMax": 0.8399999737739563,
            "valueDiffRelMax": 25,
            "valueMax": 0.8399999737739563,
            "valueMin": -0.8399999737739563
           },
           "northward_wind_sdd": {
            "abbreviation": "northward_wind_sdd",
            "colormapDiffId": "balance",
            "colormapDiffInvert": false,
            "colormapId": "viridis",
            "colormapInvert": false,
            "dimensions": [
             "time",
             "latitude",
             "longitude"
            ],
            "hasLogScale": true,
            "id": "northward_wind_sdd",
            "logScale": false,
            "missingValue": -32767,
            "name": {
             "en": "Standard deviation of differences of stress-equivalent wind northward component at 10 m"
            },
            "offset": 0,
            "scale": 0.01,
            "standardName": "northward_wind_standard_deviation_of_differences",
            "type": "data",
            "unit": "m s-1",
            "unitConversion": null,
            "valueClamp": true,
            "valueColor": false,
            "valueDiffMax": 0.8549999296665192,
            "valueDiffRelMax": 25,
            "valueMax": 2.3899998664855957,
            "valueMin": 0.6800000071525574
           },
           "number_of_observations": {
            "abbreviation": "number_of_observations",
            "colormapDiffId": "balance",
            "colormapDiffInvert": false,
            "colormapId": "viridis",
            "colormapInvert": false,
            "dimensions": [
             "time",
             "latitude",
             "longitude"
            ],
            "hasLogScale": true,
            "id": "number_of_observations",
            "logScale": false,
            "missingValue": -32767,
            "name": {
             "en": "Number of observations used for scatterometer-model bias"
            },
            "offset": null,
            "scale": null,
            "standardName": "number_of_observations",
            "type": "data",
            "unit": 1,
            "unitConversion": null,
            "valueClamp": true,
            "valueColor": false,
            "valueDiffMax": 21,
            "valueDiffRelMax": 25,
            "valueMax": 69,
            "valueMin": 27
           },
           "number_of_observations_divcurl": {
            "abbreviation": "number_of_observations_divcurl",
            "colormapDiffId": "balance",
            "colormapDiffInvert": false,
            "colormapId": "viridis",
            "colormapInvert": false,
            "dimensions": [
             "time",
             "latitude",
             "longitude"
            ],
            "hasLogScale": true,
            "id": "number_of_observations_divcurl",
            "logScale": false,
            "missingValue": -32767,
            "name": {
             "en": "Number of observations used for scatterometer-model divergence and curl bias"
            },
            "offset": null,
            "scale": null,
            "standardName": "number_of_observations",
            "type": "data",
            "unit": 1,
            "unitConversion": null,
            "valueClamp": true,
            "valueColor": false,
            "valueDiffMax": 27.5,
            "valueDiffRelMax": 25,
            "valueMax": 65,
            "valueMin": 10
           },
           "stress_curl": {
            "abbreviation": "stress_curl",
            "colormapDiffId": "balance",
            "colormapDiffInvert": false,
            "colormapId": "viridis",
            "colormapInvert": false,
            "dimensions": [
             "time",
             "latitude",
             "longitude"
            ],
            "hasLogScale": false,
            "id": "stress_curl",
            "logScale": false,
            "missingValue": -2147483647,
            "name": {
             "en": "Curl of surface wind stress"
            },
            "offset": 0,
            "scale": 1e-10,
            "standardName": "vertical_component_of_surface_downward_stress_curl",
            "type": "data",
            "unit": "N m-3",
            "unitConversion": null,
            "valueClamp": true,
            "valueColor": false,
            "valueDiffMax": 2.3519000000000003e-06,
            "valueDiffRelMax": 25,
            "valueMax": 2.1812e-06,
            "valueMin": -2.5226e-06
           },
           "stress_curl_bias": {
            "abbreviation": "stress_curl_bias",
            "colormapDiffId": "balance",
            "colormapDiffInvert": false,
            "colormapId": "balance",
            "colormapInvert": false,
            "dimensions": [
             "time",
             "latitude",
             "longitude"
            ],
            "hasLogScale": false,
            "id": "stress_curl_bias",
            "logScale": false,
            "missingValue": -2147483647,
            "name": {
             "en": "Scatterometer-model bias of curl of surface wind stress"
            },
            "offset": 0,
            "scale": 1e-10,
            "standardName": "vertical_component_of_surface_downward_stress_curl_bias",
            "type": "data",
            "unit": "N m-3",
            "unitConversion": null,
            "valueClamp": true,
            "valueColor": false,
            "valueDiffMax": 5.091e-07,
            "valueDiffRelMax": 25,
            "valueMax": 5.091e-07,
            "valueMin": -5.091e-07
           },
           "stress_curl_dv": {
            "abbreviation": "stress_curl_dv",
            "colormapDiffId": "balance",
            "colormapDiffInvert": false,
            "colormapId": "viridis",
            "colormapInvert": false,
            "dimensions": [
             "time",
             "latitude",
             "longitude"
            ],
            "hasLogScale": false,
            "id": "stress_curl_dv",
            "logScale": false,
            "missingValue": -2147483647,
            "name": {
             "en": "Difference of scatterometer and model variances of curl of surface wind stress"
            },
            "offset": 0,
            "scale": 1e-15,
            "standardName": "vertical_component_of_surface_downward_stress_curl_difference_of_variances",
            "type": "data",
            "unit": "N2 m-6",
            "unitConversion": null,
            "valueClamp": true,
            "valueColor": false,
            "valueDiffMax": 3.1755000000000004e-12,
            "valueDiffRelMax": 25,
            "valueMax": 5.266e-12,
            "valueMin": -1.0850000000000001e-12
           },
           "stress_divergence": {
            "abbreviation": "stress_divergence",
            "colormapDiffId": "balance",
            "colormapDiffInvert": false,
            "colormapId": "viridis",
            "colormapInvert": false,
            "dimensions": [
             "time",
             "latitude",
             "longitude"
            ],
            "hasLogScale": false,
            "id": "stress_divergence",
            "logScale": false,
            "missingValue": -2147483647,
            "name": {
             "en": "Divergence of surface wind stress"
            },
            "offset": 0,
            "scale": 1e-10,
            "standardName": "divergence_of_surface_downward_stress",
            "type": "data",
            "unit": "N m-3",
            "unitConversion": null,
            "valueClamp": true,
            "valueColor": false,
            "valueDiffMax": 2.0739629999999886e-06,
            "valueDiffRelMax": 25,
            "valueMax": 1.9623259999999777e-06,
            "valueMin": -2.1856e-06
           },
           "stress_divergence_bias": {
            "abbreviation": "stress_divergence_bias",
            "colormapDiffId": "balance",
            "colormapDiffInvert": false,
            "colormapId": "balance",
            "colormapInvert": false,
            "dimensions": [
             "time",
             "latitude",
             "longitude"
            ],
            "hasLogScale": false,
            "id": "stress_divergence_bias",
            "logScale": false,
            "missingValue": -2147483647,
            "name": {
             "en": "Scatterometer-model bias of divergence of surface wind stress"
            },
            "offset": 0,
            "scale": 1e-10,
            "standardName": "divergence_of_surface_downward_stress_bias",
            "type": "data",
            "unit": "N m-3",
            "unitConversion": null,
            "valueClamp": true,
            "valueColor": false,
            "valueDiffMax": 4.885000000000001e-07,
            "valueDiffRelMax": 25,
            "valueMax": 4.885000000000001e-07,
            "valueMin": -4.885000000000001e-07
           },
           "stress_divergence_dv": {
            "abbreviation": "stress_divergence_dv",
            "colormapDiffId": "balance",
            "colormapDiffInvert": false,
            "colormapId": "viridis",
            "colormapInvert": false,
            "dimensions": [
             "time",
             "latitude",
             "longitude"
            ],
            "hasLogScale": false,
            "id": "stress_divergence_dv",
            "logScale": false,
            "missingValue": -2147483647,
            "name": {
             "en": "Difference of scatterometer and model variances of divergence of surface wind stress"
            },
            "offset": 0,
            "scale": 1e-15,
            "standardName": "divergence_of_surface_downward_stress_difference_of_variances",
            "type": "data",
            "unit": "N2 m-6",
            "unitConversion": null,
            "valueClamp": true,
            "valueColor": false,
            "valueDiffMax": 2.2560000000000005e-12,
            "valueDiffRelMax": 25,
            "valueMax": 4.463000000000001e-12,
            "valueMin": -4.9000000000000006e-14
           },
           "wind_curl": {
            "abbreviation": "wind_curl",
            "colormapDiffId": "balance",
            "colormapDiffInvert": false,
            "colormapId": "viridis",
            "colormapInvert": false,
            "dimensions": [
             "time",
             "latitude",
             "longitude"
            ],
            "hasLogScale": false,
            "id": "wind_curl",
            "logScale": false,
            "missingValue": -2147483647,
            "name": {
             "en": "Curl of stress-equivalent wind at 10 m"
            },
            "offset": 0,
            "scale": 1e-07,
            "standardName": "atmosphere_relative_vorticity",
            "type": "data",
            "unit": "s-1",
            "unitConversion": null,
            "valueClamp": true,
            "valueColor": false,
            "valueDiffMax": 8.955e-05,
            "valueDiffRelMax": 25,
            "valueMax": 8.68e-05,
            "valueMin": -9.23e-05
           },
           "wind_curl_bias": {
            "abbreviation": "wind_curl_bias",
            "colormapDiffId": "balance",
            "colormapDiffInvert": false,
            "colormapId": "balance",
            "colormapInvert": false,
            "dimensions": [
             "time",
             "latitude",
             "longitude"
            ],
            "hasLogScale": false,
            "id": "wind_curl_bias",
            "logScale": false,
            "missingValue": -2147483647,
            "name": {
             "en": "Scatterometer-model bias of curl of stress-equivalent wind at 10 m"
            },
            "offset": 0,
            "scale": 1e-07,
            "standardName": "atmosphere_relative_vorticity_bias",
            "type": "data",
            "unit": "s-1",
            "unitConversion": null,
            "valueClamp": true,
            "valueColor": false,
            "valueDiffMax": 1.82e-05,
            "valueDiffRelMax": 25,
            "valueMax": 1.82e-05,
            "valueMin": -1.82e-05
           },
           "wind_curl_dv": {
            "abbreviation": "wind_curl_dv",
            "colormapDiffId": "balance",
            "colormapDiffInvert": false,
            "colormapId": "viridis",
            "colormapInvert": false,
            "dimensions": [
             "time",
             "latitude",
             "longitude"
            ],
            "hasLogScale": false,
            "id": "wind_curl_dv",
            "logScale": false,
            "missingValue": -2147483647,
            "name": {
             "en": "Difference of scatterometer and model variances of curl of stress-equivalent wind at 10 m"
            },
            "offset": 0,
            "scale": 1e-11,
            "standardName": "atmosphere_relative_vorticity_difference_of_variances",
            "type": "data",
            "unit": "s-2",
            "unitConversion": null,
            "valueClamp": true,
            "valueColor": false,
            "valueDiffMax": 3.5999999999999996e-09,
            "valueDiffRelMax": 25,
            "valueMax": 6.399999999999999e-09,
            "valueMin": -7.999999999999999e-10
           },
           "wind_divergence": {
            "abbreviation": "wind_divergence",
            "colormapDiffId": "balance",
            "colormapDiffInvert": false,
            "colormapId": "viridis",
            "colormapInvert": false,
            "dimensions": [
             "time",
             "latitude",
             "longitude"
            ],
            "hasLogScale": false,
            "id": "wind_divergence",
            "logScale": false,
            "missingValue": -2147483647,
            "name": {
             "en": "Divergence of stress-equivalent wind at 10 m"
            },
            "offset": 0,
            "scale": 1e-07,
            "standardName": "divergence_of_wind",
            "type": "data",
            "unit": "s-1",
            "unitConversion": null,
            "valueClamp": true,
            "valueColor": false,
            "valueDiffMax": 0.00010284999999999999,
            "valueDiffRelMax": 25,
            "valueMax": 9.63e-05,
            "valueMin": -0.00010939999999999999
           },
           "wind_divergence_bias": {
            "abbreviation": "wind_divergence_bias",
            "colormapDiffId": "balance",
            "colormapDiffInvert": false,
            "colormapId": "balance",
            "colormapInvert": false,
            "dimensions": [
             "time",
             "latitude",
             "longitude"
            ],
            "hasLogScale": false,
            "id": "wind_divergence_bias",
            "logScale": false,
            "missingValue": -2147483647,
            "name": {
             "en": "Scatterometer-model bias of divergence of stress-equivalent wind at 10 m"
            },
            "offset": 0,
            "scale": 1e-07,
            "standardName": "divergence_of_wind_bias",
            "type": "data",
            "unit": "s-1",
            "unitConversion": null,
            "valueClamp": true,
            "valueColor": false,
            "valueDiffMax": 2.09e-05,
            "valueDiffRelMax": 25,
            "valueMax": 2.09e-05,
            "valueMin": -2.09e-05
           },
           "wind_divergence_dv": {
            "abbreviation": "wind_divergence_dv",
            "colormapDiffId": "balance",
            "colormapDiffInvert": false,
            "colormapId": "viridis",
            "colormapInvert": false,
            "dimensions": [
             "time",
             "latitude",
             "longitude"
            ],
            "hasLogScale": true,
            "id": "wind_divergence_dv",
            "logScale": false,
            "missingValue": -2147483647,
            "name": {
             "en": "Difference of scatterometer and model variances of divergence of stress-equivalent wind at 10 m"
            },
            "offset": 0,
            "scale": 1e-11,
            "standardName": "divergence_of_wind_difference_of_variances",
            "type": "data",
            "unit": "s-2",
            "unitConversion": null,
            "valueClamp": true,
            "valueColor": false,
            "valueDiffMax": 3.3099999999999995e-09,
            "valueDiffRelMax": 25,
            "valueMax": 6.849999999999999e-09,
            "valueMin": 2.2999999999999998e-10
           }
          },
          "datetime": "2024-05-31T00:00:00Z",
          "end_datetime": "2024-05-31T00:00:00Z",
          "instruments": [
           "ASCAT, ASCAT"
          ],
          "license": "proprietary",
          "order:status": "",
          "processing:level": "Level 4",
          "providers": [
           {
            "description": "Copernicus Marine Data Store",
            "name": "cop_marine",
            "priority": 0,
            "roles": [
             "host"
            ],
            "url": "https://marine.copernicus.eu/"
           }
          ],
          "start_datetime": "2024-05-31T00:00:00Z"
         },
         "stac_extensions": [
          "https://stac-extensions.github.io/processing/v1.0.0/schema.json",
          "https://stac-extensions.github.io/order/v1.1.0/schema.json"
         ],
         "stac_version": "1.0.0",
         "type": "Feature"
        },
        {
         "assets": {
          "downloadLink": {
           "alternate": {
            "origin": {
             "href": "https://s3.waw3-1.cloudferro.com/mdl-native-04/native/WIND_GLO_PHY_L4_NRT_012_004/cmems_obs-wind_glo_phy_nrt_l4_0.125deg_PT1H_202207/2024/05/cmems_obs-wind_glo_phy_nrt_l4_0.125deg_PT1H_2024053118_R20240531T12_06.nc",
             "title": "Origin asset link"
            }
           },
           "href": "https://hda.data.destination-earth.eu/stac/collections/EO.MO.DAT.WIND_GLO_PHY_L4_NRT_012_004/items/cmems_obs-wind_glo_phy_nrt_l4_0/download?provider=cop_marine",
           "title": "Download link",
           "type": "application/zip"
          },
          "native": {
           "alternate": {
            "origin": {
             "href": "https://s3.waw3-1.cloudferro.com/mdl-native-04/native/WIND_GLO_PHY_L4_NRT_012_004/cmems_obs-wind_glo_phy_nrt_l4_0.125deg_PT1H_202207/2024/05/cmems_obs-wind_glo_phy_nrt_l4_0.125deg_PT1H_2024053118_R20240531T12_06.nc",
             "title": "Origin asset link",
             "type": "application/x-netcdf"
            }
           },
           "href": "https://hda.data.destination-earth.eu/stac/collections/EO.MO.DAT.WIND_GLO_PHY_L4_NRT_012_004/items/cmems_obs-wind_glo_phy_nrt_l4_0/download/native?provider=cop_marine",
           "title": "native",
           "type": "application/x-netcdf"
          },
          "thumbnail": {
           "href": "https://mdl-metadata.s3.waw3-1.cloudferro.com/metadata/thumbnails/WIND_GLO_PHY_L4_NRT_012_004.jpg",
           "role": "thumbnail",
           "title": "Thumbnail",
           "type": "image/jpeg"
          }
         },
         "bbox": [
          -180,
          -90,
          180,
          90
         ],
         "collection": "EO.MO.DAT.WIND_GLO_PHY_L4_NRT_012_004",
         "geometry": {
          "coordinates": [
           [
            [
             180,
             -90
            ],
            [
             180,
             90
            ],
            [
             -180,
             90
            ],
            [
             -180,
             -90
            ],
            [
             180,
             -90
            ]
           ]
          ],
          "type": "Polygon"
         },
         "id": "cmems_obs-wind_glo_phy_nrt_l4_0",
         "links": [
          {
           "href": "https://hda.data.destination-earth.eu/stac/collections/EO.MO.DAT.WIND_GLO_PHY_L4_NRT_012_004/items/cmems_obs-wind_glo_phy_nrt_l4_0",
           "rel": "self",
           "title": "cmems_obs-wind_glo_phy_nrt_l4_0"
          },
          {
           "href": "https://hda.data.destination-earth.eu/stac/",
           "rel": "root"
          },
          {
           "href": "https://hda.data.destination-earth.eu/stac/collections/EO.MO.DAT.WIND_GLO_PHY_L4_NRT_012_004",
           "rel": "parent",
           "title": "EO.MO.DAT.WIND_GLO_PHY_L4_NRT_012_004"
          },
          {
           "href": "https://hda.data.destination-earth.eu/stac/collections/EO.MO.DAT.WIND_GLO_PHY_L4_NRT_012_004",
           "rel": "collection",
           "title": "EO.MO.DAT.WIND_GLO_PHY_L4_NRT_012_004"
          }
         ],
         "properties": {
          "constellation": "Metop-B, Metop-C",
          "cop_marine:Conventions": "CF-1.6, ACDD-1.3",
          "cop_marine:admp_in_preparation": false,
          "cop_marine:admp_updated": "2024-09-18T10:37:03.450397Z",
          "cop_marine:admp_valid_start_date": "2022-03-11T12:00:00.000000000Z",
          "cop_marine:admp_valid_start_index": 14844,
          "cop_marine:allVariables": [
           "Eastward wind (WIND)",
           "Northward wind (WIND)",
           "Surface downward eastward stress (WIND)",
           "Surface downward northward stress (WIND)",
           "Stress curl (WIND)",
           "Stress divergence (WIND)",
           "Air density (WIND)",
           "Wind curl (WIND)",
           "Wind divergence (WIND)"
          ],
          "cop_marine:altId": "63ee69f1-2628-43aa-9b22-b21749d160ba",
          "cop_marine:areas": [
           "Global Ocean"
          ],
          "cop_marine:assimilatedData": [],
          "cop_marine:colors": [
           "Blue Ocean"
          ],
          "cop_marine:communities": [
           "Policy & governance",
           "Science & innovation",
           "Extremes, hazards & safety",
           "Coastal services",
           "Natural resources & energy",
           "Trade & marine navigation"
          ],
          "cop_marine:contacts": [
           {
            "email": "scat@knmi.nl",
            "name": "Service Desk KNMI",
            "organisationName": "SIW-KNMI-DEBILT-NL",
            "responsiblePartyRole": "pointOfContact"
           },
           {
            "email": "ad.stoffelen@knmi.nl",
            "name": "Ad STOFFELEN",
            "organisationName": "SIW-KNMI-DEBILT-NL",
            "responsiblePartyRole": "custodian"
           },
           {
            "email": "rianne.giesen@knmi.nl",
            "name": "Rianne GIESEN",
            "organisationName": "SIW-KNMI-DEBILT-NL",
            "responsiblePartyRole": "originator"
           },
           {
            "email": "scat@knmi.nl",
            "name": "Anton VERHOEF",
            "organisationName": "SIW-KNMI-DEBILT-NL",
            "responsiblePartyRole": "resourceProvider"
           },
           {
            "email": "scat@knmi.nl",
            "name": "Service Desk KNMI",
            "organisationName": "SIW-KNMI-DEBILT-NL",
            "responsiblePartyRole": "distributor"
           }
          ],
          "cop_marine:crs": "EPSG:4326",
          "cop_marine:dataset": "cmems_obs-wind_glo_phy_nrt_l4_0.125deg_PT1H_202207",
          "cop_marine:date_created": "2022-06-23T01:30:26",
          "cop_marine:date_modified": "2022-06-23T01:30:26",
          "cop_marine:directives": [],
          "cop_marine:featureTypes": [
           "Grid"
          ],
          "cop_marine:formats": [
           "NetCDF-4"
          ],
          "cop_marine:geoExtent": {
           "coordinates": [
            [
             -180,
             90
            ],
            [
             180,
             -90
            ]
           ],
           "type": "envelope"
          },
          "cop_marine:geoResolution": {
           "column": {
            "magnitude": 0.125,
            "units": "degree"
           },
           "row": {
            "magnitude": 0.125,
            "units": "degree"
           }
          },
          "cop_marine:geospatial_lat_max": 89.9375,
          "cop_marine:geospatial_lat_min": -89.9375,
          "cop_marine:geospatial_lat_resolution": 0.125,
          "cop_marine:geospatial_lat_units": "degrees_north",
          "cop_marine:geospatial_lon_max": 179.9375,
          "cop_marine:geospatial_lon_min": -179.9375,
          "cop_marine:geospatial_lon_resolution": 0.125,
          "cop_marine:geospatial_lon_units": "degrees_east",
          "cop_marine:history": "N/A",
          "cop_marine:indicatorFamilies": [],
          "cop_marine:institution": "Royal Netherlands Meteorological Institute (KNMI)",
          "cop_marine:instrument_vocabulary": "CEOS",
          "cop_marine:isStaging": false,
          "cop_marine:mainVariables": [
           "Wind"
          ],
          "cop_marine:model": "ECMWF Operational model",
          "cop_marine:modifiedDate": "2024-06-18",
          "cop_marine:platform_vocabulary": "CEOS",
          "cop_marine:processing_level": "L4",
          "cop_marine:project": "Copernicus Marine Service Wind Thematic Assembly Centre",
          "cop_marine:projection": "WGS 84 (EPSG:4326)",
          "cop_marine:providerMetadata": {
           "source": "cmems",
           "type": "csw",
           "url": "https://cmems-catalog-ro.cls.fr/geonetwork/srv/eng/csw-MYOCEAN-CORE-PRODUCTS?service=CSW&version=2.0.2&request=GetRecordById&id=63ee69f1-2628-43aa-9b22-b21749d160ba&elementsetname=full&outputSchema=http://www.isotc211.org/2005/gmd"
          },
          "cop_marine:rank": 14000,
          "cop_marine:references": "Copernicus Marine Service Product User Manual CMEMS-TAC-WIND-PUM-012-004, Trindade et al. (2020) doi:10.1109/TGRS.2019.2946019",
          "cop_marine:sources": [
           "Numerical models",
           "Satellite observations"
          ],
          "cop_marine:summary": "Global ocean 10-m stress-equivalent wind and surface wind stress fields based on the ECMWF operational model winds, bias-corrected using scatterometer observations",
          "cop_marine:tempExtentBegin": "",
          "cop_marine:tempResolutions": [
           "Hourly"
          ],
          "cop_marine:thumbnailMeta": {
           "basemapId": "dark",
           "colormapId": "speed",
           "colormapInvert": false,
           "creationDate": "2023-06-18T06:37:19.450Z",
           "crs": "epsg:4326",
           "elevation": null,
           "layerId": "WIND_GLO_PHY_L4_NRT_012_004/cmems_obs-wind_glo_phy_nrt_l4_0.125deg_PT1H_202207/wind",
           "logScale": false,
           "overlays": {
            "tags": [
             {
              "name": "Wind"
             }
            ]
           },
           "style": "default",
           "time": 1593561600000,
           "valueClamp": true,
           "valueMax": 37.04999828338623,
           "valueMin": 0
          },
          "cop_marine:time_coverage_end": "2020-07-01T00:00:00",
          "cop_marine:time_coverage_start": "2020-07-01T00:00:00",
          "cop_marine:times": [
           "Present",
           "Past"
          ],
          "cop_marine:updateFrequencies": {
           "daily": "15:00"
          },
          "cop_marine:useCases": [],
          "cop_marine:vertExtentMax": 0,
          "cop_marine:vertExtentMin": 0,
          "created": "2012-08-26",
          "cube:dimensions": {
           "latitude": {
            "axis": "y",
            "extent": [
             -89.9375,
             89.9375
            ],
            "reference_system": 4326,
            "step": 0.125,
            "type": "spatial"
           },
           "longitude": {
            "axis": "x",
            "extent": [
             -179.9375,
             179.9375
            ],
            "reference_system": 4326,
            "step": 0.125,
            "type": "spatial"
           },
           "time": {
            "extent": [
             "2020-07-01T00:00:00Z",
             "2024-09-17T23:00:00Z"
            ],
            "step": "PT1H",
            "type": "temporal"
           }
          },
          "cube:variables": {
           "air_density": {
            "abbreviation": "air_density",
            "colormapDiffId": "balance",
            "colormapDiffInvert": false,
            "colormapId": "viridis",
            "colormapInvert": false,
            "dimensions": [
             "time",
             "latitude",
             "longitude"
            ],
            "hasLogScale": true,
            "id": "air_density",
            "logScale": false,
            "missingValue": -32767,
            "name": {
             "en": "Air density at 10 m"
            },
            "offset": 0,
            "scale": 0.001,
            "standardName": "air_density",
            "type": "data",
            "unit": "kg m-3",
            "unitConversion": null,
            "valueClamp": true,
            "valueColor": false,
            "valueDiffMax": 0.2080000638961792,
            "valueDiffRelMax": 25,
            "valueMax": 1.5690001249313354,
            "valueMin": 1.152999997138977
           },
           "eastward_stress": {
            "abbreviation": "eastward_stress",
            "colormapDiffId": "balance",
            "colormapDiffInvert": false,
            "colormapId": "balance",
            "colormapInvert": false,
            "dimensions": [
             "time",
             "latitude",
             "longitude"
            ],
            "hasLogScale": false,
            "id": "eastward_stress",
            "logScale": false,
            "missingValue": -2147483647,
            "name": {
             "en": "Surface wind stress eastward component"
            },
            "offset": 0,
            "scale": 0.01,
            "standardName": "surface_downward_eastward_stress",
            "type": "data",
            "unit": "N m-2",
            "unitConversion": null,
            "valueClamp": true,
            "valueColor": false,
            "valueDiffMax": 1.53,
            "valueDiffRelMax": 25,
            "valueMax": 1.53,
            "valueMin": -1.53
           },
           "eastward_stress_bias": {
            "abbreviation": "eastward_stress_bias",
            "colormapDiffId": "balance",
            "colormapDiffInvert": false,
            "colormapId": "balance",
            "colormapInvert": false,
            "dimensions": [
             "time",
             "latitude",
             "longitude"
            ],
            "hasLogScale": false,
            "id": "eastward_stress_bias",
            "logScale": false,
            "missingValue": -2147483647,
            "name": {
             "en": "Scatterometer-model bias of surface wind stress eastward component"
            },
            "offset": 0,
            "scale": 0.01,
            "standardName": "surface_downward_eastward_stress_bias",
            "type": "data",
            "unit": "N m-2",
            "unitConversion": null,
            "valueClamp": true,
            "valueColor": false,
            "valueDiffMax": 0.03,
            "valueDiffRelMax": 25,
            "valueMax": 0.03,
            "valueMin": -0.03
           },
           "eastward_stress_sdd": {
            "abbreviation": "eastward_stress_sdd",
            "colormapDiffId": "balance",
            "colormapDiffInvert": false,
            "colormapId": "viridis",
            "colormapInvert": false,
            "dimensions": [
             "time",
             "latitude",
             "longitude"
            ],
            "hasLogScale": true,
            "id": "eastward_stress_sdd",
            "logScale": false,
            "missingValue": -2147483647,
            "name": {
             "en": "Standard deviation of differences of surface wind stress eastward component"
            },
            "offset": 0,
            "scale": 0.01,
            "standardName": "surface_downward_eastward_stress_standard_deviation_of_differences",
            "type": "data",
            "unit": "N m-2",
            "unitConversion": null,
            "valueClamp": true,
            "valueColor": false,
            "valueDiffMax": 0.035,
            "valueDiffRelMax": 25,
            "valueMax": 0.08,
            "valueMin": 0.01
           },
           "eastward_wind": {
            "abbreviation": "eastward_wind",
            "colormapDiffId": "balance",
            "colormapDiffInvert": false,
            "colormapId": "balance",
            "colormapInvert": false,
            "dimensions": [
             "time",
             "latitude",
             "longitude"
            ],
            "hasLogScale": false,
            "id": "eastward_wind",
            "logScale": false,
            "missingValue": -32767,
            "name": {
             "en": "Stress-equivalent wind eastward component at 10 m"
            },
            "offset": 0,
            "scale": 0.01,
            "standardName": "eastward_wind",
            "type": "data",
            "unit": "m s-1",
            "unitConversion": null,
            "valueClamp": true,
            "valueColor": false,
            "valueDiffMax": 37.04999828338623,
            "valueDiffRelMax": 25,
            "valueMax": 37.04999828338623,
            "valueMin": -37.04999828338623
           },
           "eastward_wind_bias": {
            "abbreviation": "eastward_wind_bias",
            "colormapDiffId": "balance",
            "colormapDiffInvert": false,
            "colormapId": "balance",
            "colormapInvert": false,
            "dimensions": [
             "time",
             "latitude",
             "longitude"
            ],
            "hasLogScale": false,
            "id": "eastward_wind_bias",
            "logScale": false,
            "missingValue": -32767,
            "name": {
             "en": "Scatterometer-model bias of stress-equivalent wind eastward component at 10 m"
            },
            "offset": 0,
            "scale": 0.01,
            "standardName": "eastward_wind_bias",
            "type": "data",
            "unit": "m s-1",
            "unitConversion": null,
            "valueClamp": true,
            "valueColor": false,
            "valueDiffMax": 0.9300000071525574,
            "valueDiffRelMax": 25,
            "valueMax": 0.9300000071525574,
            "valueMin": -0.9300000071525574
           },
           "eastward_wind_sdd": {
            "abbreviation": "eastward_wind_sdd",
            "colormapDiffId": "balance",
            "colormapDiffInvert": false,
            "colormapId": "viridis",
            "colormapInvert": false,
            "dimensions": [
             "time",
             "latitude",
             "longitude"
            ],
            "hasLogScale": true,
            "id": "eastward_wind_sdd",
            "logScale": false,
            "missingValue": -32767,
            "name": {
             "en": "Standard deviation of differences of stress-equivalent wind eastward component at 10 m"
            },
            "offset": 0,
            "scale": 0.01,
            "standardName": "eastward_wind_standard_deviation_of_differences",
            "type": "data",
            "unit": "m s-1",
            "unitConversion": null,
            "valueClamp": true,
            "valueColor": false,
            "valueDiffMax": 0.8099999129772186,
            "valueDiffRelMax": 25,
            "valueMax": 2.169999837875366,
            "valueMin": 0.550000011920929
           },
           "northward_stress": {
            "abbreviation": "northward_stress",
            "colormapDiffId": "balance",
            "colormapDiffInvert": false,
            "colormapId": "balance",
            "colormapInvert": false,
            "dimensions": [
             "time",
             "latitude",
             "longitude"
            ],
            "hasLogScale": false,
            "id": "northward_stress",
            "logScale": false,
            "missingValue": -2147483647,
            "name": {
             "en": "Surface wind stress northward component"
            },
            "offset": 0,
            "scale": 0.01,
            "standardName": "surface_downward_northward_stress",
            "type": "data",
            "unit": "N m-2",
            "unitConversion": null,
            "valueClamp": true,
            "valueColor": false,
            "valueDiffMax": 1.53,
            "valueDiffRelMax": 25,
            "valueMax": 1.53,
            "valueMin": -1.53
           },
           "northward_stress_bias": {
            "abbreviation": "northward_stress_bias",
            "colormapDiffId": "balance",
            "colormapDiffInvert": false,
            "colormapId": "balance",
            "colormapInvert": false,
            "dimensions": [
             "time",
             "latitude",
             "longitude"
            ],
            "hasLogScale": false,
            "id": "northward_stress_bias",
            "logScale": false,
            "missingValue": -2147483647,
            "name": {
             "en": "Scatterometer-model bias of surface wind stress northward component"
            },
            "offset": 0,
            "scale": 0.01,
            "standardName": "surface_downward_northward_stress_bias",
            "type": "data",
            "unit": "N m-2",
            "unitConversion": null,
            "valueClamp": true,
            "valueColor": false,
            "valueDiffMax": 0.02,
            "valueDiffRelMax": 25,
            "valueMax": 0.02,
            "valueMin": -0.02
           },
           "northward_stress_sdd": {
            "abbreviation": "northward_stress_sdd",
            "colormapDiffId": "balance",
            "colormapDiffInvert": false,
            "colormapId": "viridis",
            "colormapInvert": false,
            "dimensions": [
             "time",
             "latitude",
             "longitude"
            ],
            "hasLogScale": true,
            "id": "northward_stress_sdd",
            "logScale": false,
            "missingValue": -2147483647,
            "name": {
             "en": "Standard deviation of differences of surface wind stress northward component"
            },
            "offset": 0,
            "scale": 0.01,
            "standardName": "surface_downward_northward_stress_standard_deviation_of_differences",
            "type": "data",
            "unit": "N m-2",
            "unitConversion": null,
            "valueClamp": true,
            "valueColor": false,
            "valueDiffMax": 0.030000000000000002,
            "valueDiffRelMax": 25,
            "valueMax": 0.07,
            "valueMin": 0.01
           },
           "northward_wind": {
            "abbreviation": "northward_wind",
            "colormapDiffId": "balance",
            "colormapDiffInvert": false,
            "colormapId": "balance",
            "colormapInvert": false,
            "dimensions": [
             "time",
             "latitude",
             "longitude"
            ],
            "hasLogScale": false,
            "id": "northward_wind",
            "logScale": false,
            "missingValue": -32767,
            "name": {
             "en": "Stress-equivalent wind northward component at 10 m"
            },
            "offset": 0,
            "scale": 0.01,
            "standardName": "northward_wind",
            "type": "data",
            "unit": "m s-1",
            "unitConversion": null,
            "valueClamp": true,
            "valueColor": false,
            "valueDiffMax": 37.04999828338623,
            "valueDiffRelMax": 25,
            "valueMax": 37.04999828338623,
            "valueMin": -37.04999828338623
           },
           "northward_wind_bias": {
            "abbreviation": "northward_wind_bias",
            "colormapDiffId": "balance",
            "colormapDiffInvert": false,
            "colormapId": "balance",
            "colormapInvert": false,
            "dimensions": [
             "time",
             "latitude",
             "longitude"
            ],
            "hasLogScale": false,
            "id": "northward_wind_bias",
            "logScale": false,
            "missingValue": -32767,
            "name": {
             "en": "Scatterometer-model bias of stress-equivalent wind northward component at 10 m"
            },
            "offset": 0,
            "scale": 0.01,
            "standardName": "northward_wind_bias",
            "type": "data",
            "unit": "m s-1",
            "unitConversion": null,
            "valueClamp": true,
            "valueColor": false,
            "valueDiffMax": 0.8399999737739563,
            "valueDiffRelMax": 25,
            "valueMax": 0.8399999737739563,
            "valueMin": -0.8399999737739563
           },
           "northward_wind_sdd": {
            "abbreviation": "northward_wind_sdd",
            "colormapDiffId": "balance",
            "colormapDiffInvert": false,
            "colormapId": "viridis",
            "colormapInvert": false,
            "dimensions": [
             "time",
             "latitude",
             "longitude"
            ],
            "hasLogScale": true,
            "id": "northward_wind_sdd",
            "logScale": false,
            "missingValue": -32767,
            "name": {
             "en": "Standard deviation of differences of stress-equivalent wind northward component at 10 m"
            },
            "offset": 0,
            "scale": 0.01,
            "standardName": "northward_wind_standard_deviation_of_differences",
            "type": "data",
            "unit": "m s-1",
            "unitConversion": null,
            "valueClamp": true,
            "valueColor": false,
            "valueDiffMax": 0.8549999296665192,
            "valueDiffRelMax": 25,
            "valueMax": 2.3899998664855957,
            "valueMin": 0.6800000071525574
           },
           "number_of_observations": {
            "abbreviation": "number_of_observations",
            "colormapDiffId": "balance",
            "colormapDiffInvert": false,
            "colormapId": "viridis",
            "colormapInvert": false,
            "dimensions": [
             "time",
             "latitude",
             "longitude"
            ],
            "hasLogScale": true,
            "id": "number_of_observations",
            "logScale": false,
            "missingValue": -32767,
            "name": {
             "en": "Number of observations used for scatterometer-model bias"
            },
            "offset": null,
            "scale": null,
            "standardName": "number_of_observations",
            "type": "data",
            "unit": 1,
            "unitConversion": null,
            "valueClamp": true,
            "valueColor": false,
            "valueDiffMax": 21,
            "valueDiffRelMax": 25,
            "valueMax": 69,
            "valueMin": 27
           },
           "number_of_observations_divcurl": {
            "abbreviation": "number_of_observations_divcurl",
            "colormapDiffId": "balance",
            "colormapDiffInvert": false,
            "colormapId": "viridis",
            "colormapInvert": false,
            "dimensions": [
             "time",
             "latitude",
             "longitude"
            ],
            "hasLogScale": true,
            "id": "number_of_observations_divcurl",
            "logScale": false,
            "missingValue": -32767,
            "name": {
             "en": "Number of observations used for scatterometer-model divergence and curl bias"
            },
            "offset": null,
            "scale": null,
            "standardName": "number_of_observations",
            "type": "data",
            "unit": 1,
            "unitConversion": null,
            "valueClamp": true,
            "valueColor": false,
            "valueDiffMax": 27.5,
            "valueDiffRelMax": 25,
            "valueMax": 65,
            "valueMin": 10
           },
           "stress_curl": {
            "abbreviation": "stress_curl",
            "colormapDiffId": "balance",
            "colormapDiffInvert": false,
            "colormapId": "viridis",
            "colormapInvert": false,
            "dimensions": [
             "time",
             "latitude",
             "longitude"
            ],
            "hasLogScale": false,
            "id": "stress_curl",
            "logScale": false,
            "missingValue": -2147483647,
            "name": {
             "en": "Curl of surface wind stress"
            },
            "offset": 0,
            "scale": 1e-10,
            "standardName": "vertical_component_of_surface_downward_stress_curl",
            "type": "data",
            "unit": "N m-3",
            "unitConversion": null,
            "valueClamp": true,
            "valueColor": false,
            "valueDiffMax": 2.3519000000000003e-06,
            "valueDiffRelMax": 25,
            "valueMax": 2.1812e-06,
            "valueMin": -2.5226e-06
           },
           "stress_curl_bias": {
            "abbreviation": "stress_curl_bias",
            "colormapDiffId": "balance",
            "colormapDiffInvert": false,
            "colormapId": "balance",
            "colormapInvert": false,
            "dimensions": [
             "time",
             "latitude",
             "longitude"
            ],
            "hasLogScale": false,
            "id": "stress_curl_bias",
            "logScale": false,
            "missingValue": -2147483647,
            "name": {
             "en": "Scatterometer-model bias of curl of surface wind stress"
            },
            "offset": 0,
            "scale": 1e-10,
            "standardName": "vertical_component_of_surface_downward_stress_curl_bias",
            "type": "data",
            "unit": "N m-3",
            "unitConversion": null,
            "valueClamp": true,
            "valueColor": false,
            "valueDiffMax": 5.091e-07,
            "valueDiffRelMax": 25,
            "valueMax": 5.091e-07,
            "valueMin": -5.091e-07
           },
           "stress_curl_dv": {
            "abbreviation": "stress_curl_dv",
            "colormapDiffId": "balance",
            "colormapDiffInvert": false,
            "colormapId": "viridis",
            "colormapInvert": false,
            "dimensions": [
             "time",
             "latitude",
             "longitude"
            ],
            "hasLogScale": false,
            "id": "stress_curl_dv",
            "logScale": false,
            "missingValue": -2147483647,
            "name": {
             "en": "Difference of scatterometer and model variances of curl of surface wind stress"
            },
            "offset": 0,
            "scale": 1e-15,
            "standardName": "vertical_component_of_surface_downward_stress_curl_difference_of_variances",
            "type": "data",
            "unit": "N2 m-6",
            "unitConversion": null,
            "valueClamp": true,
            "valueColor": false,
            "valueDiffMax": 3.1755000000000004e-12,
            "valueDiffRelMax": 25,
            "valueMax": 5.266e-12,
            "valueMin": -1.0850000000000001e-12
           },
           "stress_divergence": {
            "abbreviation": "stress_divergence",
            "colormapDiffId": "balance",
            "colormapDiffInvert": false,
            "colormapId": "viridis",
            "colormapInvert": false,
            "dimensions": [
             "time",
             "latitude",
             "longitude"
            ],
            "hasLogScale": false,
            "id": "stress_divergence",
            "logScale": false,
            "missingValue": -2147483647,
            "name": {
             "en": "Divergence of surface wind stress"
            },
            "offset": 0,
            "scale": 1e-10,
            "standardName": "divergence_of_surface_downward_stress",
            "type": "data",
            "unit": "N m-3",
            "unitConversion": null,
            "valueClamp": true,
            "valueColor": false,
            "valueDiffMax": 2.0739629999999886e-06,
            "valueDiffRelMax": 25,
            "valueMax": 1.9623259999999777e-06,
            "valueMin": -2.1856e-06
           },
           "stress_divergence_bias": {
            "abbreviation": "stress_divergence_bias",
            "colormapDiffId": "balance",
            "colormapDiffInvert": false,
            "colormapId": "balance",
            "colormapInvert": false,
            "dimensions": [
             "time",
             "latitude",
             "longitude"
            ],
            "hasLogScale": false,
            "id": "stress_divergence_bias",
            "logScale": false,
            "missingValue": -2147483647,
            "name": {
             "en": "Scatterometer-model bias of divergence of surface wind stress"
            },
            "offset": 0,
            "scale": 1e-10,
            "standardName": "divergence_of_surface_downward_stress_bias",
            "type": "data",
            "unit": "N m-3",
            "unitConversion": null,
            "valueClamp": true,
            "valueColor": false,
            "valueDiffMax": 4.885000000000001e-07,
            "valueDiffRelMax": 25,
            "valueMax": 4.885000000000001e-07,
            "valueMin": -4.885000000000001e-07
           },
           "stress_divergence_dv": {
            "abbreviation": "stress_divergence_dv",
            "colormapDiffId": "balance",
            "colormapDiffInvert": false,
            "colormapId": "viridis",
            "colormapInvert": false,
            "dimensions": [
             "time",
             "latitude",
             "longitude"
            ],
            "hasLogScale": false,
            "id": "stress_divergence_dv",
            "logScale": false,
            "missingValue": -2147483647,
            "name": {
             "en": "Difference of scatterometer and model variances of divergence of surface wind stress"
            },
            "offset": 0,
            "scale": 1e-15,
            "standardName": "divergence_of_surface_downward_stress_difference_of_variances",
            "type": "data",
            "unit": "N2 m-6",
            "unitConversion": null,
            "valueClamp": true,
            "valueColor": false,
            "valueDiffMax": 2.2560000000000005e-12,
            "valueDiffRelMax": 25,
            "valueMax": 4.463000000000001e-12,
            "valueMin": -4.9000000000000006e-14
           },
           "wind_curl": {
            "abbreviation": "wind_curl",
            "colormapDiffId": "balance",
            "colormapDiffInvert": false,
            "colormapId": "viridis",
            "colormapInvert": false,
            "dimensions": [
             "time",
             "latitude",
             "longitude"
            ],
            "hasLogScale": false,
            "id": "wind_curl",
            "logScale": false,
            "missingValue": -2147483647,
            "name": {
             "en": "Curl of stress-equivalent wind at 10 m"
            },
            "offset": 0,
            "scale": 1e-07,
            "standardName": "atmosphere_relative_vorticity",
            "type": "data",
            "unit": "s-1",
            "unitConversion": null,
            "valueClamp": true,
            "valueColor": false,
            "valueDiffMax": 8.955e-05,
            "valueDiffRelMax": 25,
            "valueMax": 8.68e-05,
            "valueMin": -9.23e-05
           },
           "wind_curl_bias": {
            "abbreviation": "wind_curl_bias",
            "colormapDiffId": "balance",
            "colormapDiffInvert": false,
            "colormapId": "balance",
            "colormapInvert": false,
            "dimensions": [
             "time",
             "latitude",
             "longitude"
            ],
            "hasLogScale": false,
            "id": "wind_curl_bias",
            "logScale": false,
            "missingValue": -2147483647,
            "name": {
             "en": "Scatterometer-model bias of curl of stress-equivalent wind at 10 m"
            },
            "offset": 0,
            "scale": 1e-07,
            "standardName": "atmosphere_relative_vorticity_bias",
            "type": "data",
            "unit": "s-1",
            "unitConversion": null,
            "valueClamp": true,
            "valueColor": false,
            "valueDiffMax": 1.82e-05,
            "valueDiffRelMax": 25,
            "valueMax": 1.82e-05,
            "valueMin": -1.82e-05
           },
           "wind_curl_dv": {
            "abbreviation": "wind_curl_dv",
            "colormapDiffId": "balance",
            "colormapDiffInvert": false,
            "colormapId": "viridis",
            "colormapInvert": false,
            "dimensions": [
             "time",
             "latitude",
             "longitude"
            ],
            "hasLogScale": false,
            "id": "wind_curl_dv",
            "logScale": false,
            "missingValue": -2147483647,
            "name": {
             "en": "Difference of scatterometer and model variances of curl of stress-equivalent wind at 10 m"
            },
            "offset": 0,
            "scale": 1e-11,
            "standardName": "atmosphere_relative_vorticity_difference_of_variances",
            "type": "data",
            "unit": "s-2",
            "unitConversion": null,
            "valueClamp": true,
            "valueColor": false,
            "valueDiffMax": 3.5999999999999996e-09,
            "valueDiffRelMax": 25,
            "valueMax": 6.399999999999999e-09,
            "valueMin": -7.999999999999999e-10
           },
           "wind_divergence": {
            "abbreviation": "wind_divergence",
            "colormapDiffId": "balance",
            "colormapDiffInvert": false,
            "colormapId": "viridis",
            "colormapInvert": false,
            "dimensions": [
             "time",
             "latitude",
             "longitude"
            ],
            "hasLogScale": false,
            "id": "wind_divergence",
            "logScale": false,
            "missingValue": -2147483647,
            "name": {
             "en": "Divergence of stress-equivalent wind at 10 m"
            },
            "offset": 0,
            "scale": 1e-07,
            "standardName": "divergence_of_wind",
            "type": "data",
            "unit": "s-1",
            "unitConversion": null,
            "valueClamp": true,
            "valueColor": false,
            "valueDiffMax": 0.00010284999999999999,
            "valueDiffRelMax": 25,
            "valueMax": 9.63e-05,
            "valueMin": -0.00010939999999999999
           },
           "wind_divergence_bias": {
            "abbreviation": "wind_divergence_bias",
            "colormapDiffId": "balance",
            "colormapDiffInvert": false,
            "colormapId": "balance",
            "colormapInvert": false,
            "dimensions": [
             "time",
             "latitude",
             "longitude"
            ],
            "hasLogScale": false,
            "id": "wind_divergence_bias",
            "logScale": false,
            "missingValue": -2147483647,
            "name": {
             "en": "Scatterometer-model bias of divergence of stress-equivalent wind at 10 m"
            },
            "offset": 0,
            "scale": 1e-07,
            "standardName": "divergence_of_wind_bias",
            "type": "data",
            "unit": "s-1",
            "unitConversion": null,
            "valueClamp": true,
            "valueColor": false,
            "valueDiffMax": 2.09e-05,
            "valueDiffRelMax": 25,
            "valueMax": 2.09e-05,
            "valueMin": -2.09e-05
           },
           "wind_divergence_dv": {
            "abbreviation": "wind_divergence_dv",
            "colormapDiffId": "balance",
            "colormapDiffInvert": false,
            "colormapId": "viridis",
            "colormapInvert": false,
            "dimensions": [
             "time",
             "latitude",
             "longitude"
            ],
            "hasLogScale": true,
            "id": "wind_divergence_dv",
            "logScale": false,
            "missingValue": -2147483647,
            "name": {
             "en": "Difference of scatterometer and model variances of divergence of stress-equivalent wind at 10 m"
            },
            "offset": 0,
            "scale": 1e-11,
            "standardName": "divergence_of_wind_difference_of_variances",
            "type": "data",
            "unit": "s-2",
            "unitConversion": null,
            "valueClamp": true,
            "valueColor": false,
            "valueDiffMax": 3.3099999999999995e-09,
            "valueDiffRelMax": 25,
            "valueMax": 6.849999999999999e-09,
            "valueMin": 2.2999999999999998e-10
           }
          },
          "datetime": "2024-05-31T00:00:00Z",
          "end_datetime": "2024-05-31T00:00:00Z",
          "instruments": [
           "ASCAT, ASCAT"
          ],
          "license": "proprietary",
          "order:status": "",
          "processing:level": "Level 4",
          "providers": [
           {
            "description": "Copernicus Marine Data Store",
            "name": "cop_marine",
            "priority": 0,
            "roles": [
             "host"
            ],
            "url": "https://marine.copernicus.eu/"
           }
          ],
          "start_datetime": "2024-05-31T00:00:00Z"
         },
         "stac_extensions": [
          "https://stac-extensions.github.io/processing/v1.0.0/schema.json",
          "https://stac-extensions.github.io/order/v1.1.0/schema.json"
         ],
         "stac_version": "1.0.0",
         "type": "Feature"
        },
        {
         "assets": {
          "downloadLink": {
           "alternate": {
            "origin": {
             "href": "https://s3.waw3-1.cloudferro.com/mdl-native-04/native/WIND_GLO_PHY_L4_NRT_012_004/cmems_obs-wind_glo_phy_nrt_l4_0.125deg_PT1H_202207/2024/05/cmems_obs-wind_glo_phy_nrt_l4_0.125deg_PT1H_2024053119_R20240531T12_07.nc",
             "title": "Origin asset link"
            }
           },
           "href": "https://hda.data.destination-earth.eu/stac/collections/EO.MO.DAT.WIND_GLO_PHY_L4_NRT_012_004/items/cmems_obs-wind_glo_phy_nrt_l4_0/download?provider=cop_marine",
           "title": "Download link",
           "type": "application/zip"
          },
          "native": {
           "alternate": {
            "origin": {
             "href": "https://s3.waw3-1.cloudferro.com/mdl-native-04/native/WIND_GLO_PHY_L4_NRT_012_004/cmems_obs-wind_glo_phy_nrt_l4_0.125deg_PT1H_202207/2024/05/cmems_obs-wind_glo_phy_nrt_l4_0.125deg_PT1H_2024053119_R20240531T12_07.nc",
             "title": "Origin asset link",
             "type": "application/x-netcdf"
            }
           },
           "href": "https://hda.data.destination-earth.eu/stac/collections/EO.MO.DAT.WIND_GLO_PHY_L4_NRT_012_004/items/cmems_obs-wind_glo_phy_nrt_l4_0/download/native?provider=cop_marine",
           "title": "native",
           "type": "application/x-netcdf"
          },
          "thumbnail": {
           "href": "https://mdl-metadata.s3.waw3-1.cloudferro.com/metadata/thumbnails/WIND_GLO_PHY_L4_NRT_012_004.jpg",
           "role": "thumbnail",
           "title": "Thumbnail",
           "type": "image/jpeg"
          }
         },
         "bbox": [
          -180,
          -90,
          180,
          90
         ],
         "collection": "EO.MO.DAT.WIND_GLO_PHY_L4_NRT_012_004",
         "geometry": {
          "coordinates": [
           [
            [
             180,
             -90
            ],
            [
             180,
             90
            ],
            [
             -180,
             90
            ],
            [
             -180,
             -90
            ],
            [
             180,
             -90
            ]
           ]
          ],
          "type": "Polygon"
         },
         "id": "cmems_obs-wind_glo_phy_nrt_l4_0",
         "links": [
          {
           "href": "https://hda.data.destination-earth.eu/stac/collections/EO.MO.DAT.WIND_GLO_PHY_L4_NRT_012_004/items/cmems_obs-wind_glo_phy_nrt_l4_0",
           "rel": "self",
           "title": "cmems_obs-wind_glo_phy_nrt_l4_0"
          },
          {
           "href": "https://hda.data.destination-earth.eu/stac/",
           "rel": "root"
          },
          {
           "href": "https://hda.data.destination-earth.eu/stac/collections/EO.MO.DAT.WIND_GLO_PHY_L4_NRT_012_004",
           "rel": "parent",
           "title": "EO.MO.DAT.WIND_GLO_PHY_L4_NRT_012_004"
          },
          {
           "href": "https://hda.data.destination-earth.eu/stac/collections/EO.MO.DAT.WIND_GLO_PHY_L4_NRT_012_004",
           "rel": "collection",
           "title": "EO.MO.DAT.WIND_GLO_PHY_L4_NRT_012_004"
          }
         ],
         "properties": {
          "constellation": "Metop-B, Metop-C",
          "cop_marine:Conventions": "CF-1.6, ACDD-1.3",
          "cop_marine:admp_in_preparation": false,
          "cop_marine:admp_updated": "2024-09-18T10:37:03.450397Z",
          "cop_marine:admp_valid_start_date": "2022-03-11T12:00:00.000000000Z",
          "cop_marine:admp_valid_start_index": 14844,
          "cop_marine:allVariables": [
           "Eastward wind (WIND)",
           "Northward wind (WIND)",
           "Surface downward eastward stress (WIND)",
           "Surface downward northward stress (WIND)",
           "Stress curl (WIND)",
           "Stress divergence (WIND)",
           "Air density (WIND)",
           "Wind curl (WIND)",
           "Wind divergence (WIND)"
          ],
          "cop_marine:altId": "63ee69f1-2628-43aa-9b22-b21749d160ba",
          "cop_marine:areas": [
           "Global Ocean"
          ],
          "cop_marine:assimilatedData": [],
          "cop_marine:colors": [
           "Blue Ocean"
          ],
          "cop_marine:communities": [
           "Policy & governance",
           "Science & innovation",
           "Extremes, hazards & safety",
           "Coastal services",
           "Natural resources & energy",
           "Trade & marine navigation"
          ],
          "cop_marine:contacts": [
           {
            "email": "scat@knmi.nl",
            "name": "Service Desk KNMI",
            "organisationName": "SIW-KNMI-DEBILT-NL",
            "responsiblePartyRole": "pointOfContact"
           },
           {
            "email": "ad.stoffelen@knmi.nl",
            "name": "Ad STOFFELEN",
            "organisationName": "SIW-KNMI-DEBILT-NL",
            "responsiblePartyRole": "custodian"
           },
           {
            "email": "rianne.giesen@knmi.nl",
            "name": "Rianne GIESEN",
            "organisationName": "SIW-KNMI-DEBILT-NL",
            "responsiblePartyRole": "originator"
           },
           {
            "email": "scat@knmi.nl",
            "name": "Anton VERHOEF",
            "organisationName": "SIW-KNMI-DEBILT-NL",
            "responsiblePartyRole": "resourceProvider"
           },
           {
            "email": "scat@knmi.nl",
            "name": "Service Desk KNMI",
            "organisationName": "SIW-KNMI-DEBILT-NL",
            "responsiblePartyRole": "distributor"
           }
          ],
          "cop_marine:crs": "EPSG:4326",
          "cop_marine:dataset": "cmems_obs-wind_glo_phy_nrt_l4_0.125deg_PT1H_202207",
          "cop_marine:date_created": "2022-06-23T01:30:26",
          "cop_marine:date_modified": "2022-06-23T01:30:26",
          "cop_marine:directives": [],
          "cop_marine:featureTypes": [
           "Grid"
          ],
          "cop_marine:formats": [
           "NetCDF-4"
          ],
          "cop_marine:geoExtent": {
           "coordinates": [
            [
             -180,
             90
            ],
            [
             180,
             -90
            ]
           ],
           "type": "envelope"
          },
          "cop_marine:geoResolution": {
           "column": {
            "magnitude": 0.125,
            "units": "degree"
           },
           "row": {
            "magnitude": 0.125,
            "units": "degree"
           }
          },
          "cop_marine:geospatial_lat_max": 89.9375,
          "cop_marine:geospatial_lat_min": -89.9375,
          "cop_marine:geospatial_lat_resolution": 0.125,
          "cop_marine:geospatial_lat_units": "degrees_north",
          "cop_marine:geospatial_lon_max": 179.9375,
          "cop_marine:geospatial_lon_min": -179.9375,
          "cop_marine:geospatial_lon_resolution": 0.125,
          "cop_marine:geospatial_lon_units": "degrees_east",
          "cop_marine:history": "N/A",
          "cop_marine:indicatorFamilies": [],
          "cop_marine:institution": "Royal Netherlands Meteorological Institute (KNMI)",
          "cop_marine:instrument_vocabulary": "CEOS",
          "cop_marine:isStaging": false,
          "cop_marine:mainVariables": [
           "Wind"
          ],
          "cop_marine:model": "ECMWF Operational model",
          "cop_marine:modifiedDate": "2024-06-18",
          "cop_marine:platform_vocabulary": "CEOS",
          "cop_marine:processing_level": "L4",
          "cop_marine:project": "Copernicus Marine Service Wind Thematic Assembly Centre",
          "cop_marine:projection": "WGS 84 (EPSG:4326)",
          "cop_marine:providerMetadata": {
           "source": "cmems",
           "type": "csw",
           "url": "https://cmems-catalog-ro.cls.fr/geonetwork/srv/eng/csw-MYOCEAN-CORE-PRODUCTS?service=CSW&version=2.0.2&request=GetRecordById&id=63ee69f1-2628-43aa-9b22-b21749d160ba&elementsetname=full&outputSchema=http://www.isotc211.org/2005/gmd"
          },
          "cop_marine:rank": 14000,
          "cop_marine:references": "Copernicus Marine Service Product User Manual CMEMS-TAC-WIND-PUM-012-004, Trindade et al. (2020) doi:10.1109/TGRS.2019.2946019",
          "cop_marine:sources": [
           "Numerical models",
           "Satellite observations"
          ],
          "cop_marine:summary": "Global ocean 10-m stress-equivalent wind and surface wind stress fields based on the ECMWF operational model winds, bias-corrected using scatterometer observations",
          "cop_marine:tempExtentBegin": "",
          "cop_marine:tempResolutions": [
           "Hourly"
          ],
          "cop_marine:thumbnailMeta": {
           "basemapId": "dark",
           "colormapId": "speed",
           "colormapInvert": false,
           "creationDate": "2023-06-18T06:37:19.450Z",
           "crs": "epsg:4326",
           "elevation": null,
           "layerId": "WIND_GLO_PHY_L4_NRT_012_004/cmems_obs-wind_glo_phy_nrt_l4_0.125deg_PT1H_202207/wind",
           "logScale": false,
           "overlays": {
            "tags": [
             {
              "name": "Wind"
             }
            ]
           },
           "style": "default",
           "time": 1593561600000,
           "valueClamp": true,
           "valueMax": 37.04999828338623,
           "valueMin": 0
          },
          "cop_marine:time_coverage_end": "2020-07-01T00:00:00",
          "cop_marine:time_coverage_start": "2020-07-01T00:00:00",
          "cop_marine:times": [
           "Present",
           "Past"
          ],
          "cop_marine:updateFrequencies": {
           "daily": "15:00"
          },
          "cop_marine:useCases": [],
          "cop_marine:vertExtentMax": 0,
          "cop_marine:vertExtentMin": 0,
          "created": "2012-08-26",
          "cube:dimensions": {
           "latitude": {
            "axis": "y",
            "extent": [
             -89.9375,
             89.9375
            ],
            "reference_system": 4326,
            "step": 0.125,
            "type": "spatial"
           },
           "longitude": {
            "axis": "x",
            "extent": [
             -179.9375,
             179.9375
            ],
            "reference_system": 4326,
            "step": 0.125,
            "type": "spatial"
           },
           "time": {
            "extent": [
             "2020-07-01T00:00:00Z",
             "2024-09-17T23:00:00Z"
            ],
            "step": "PT1H",
            "type": "temporal"
           }
          },
          "cube:variables": {
           "air_density": {
            "abbreviation": "air_density",
            "colormapDiffId": "balance",
            "colormapDiffInvert": false,
            "colormapId": "viridis",
            "colormapInvert": false,
            "dimensions": [
             "time",
             "latitude",
             "longitude"
            ],
            "hasLogScale": true,
            "id": "air_density",
            "logScale": false,
            "missingValue": -32767,
            "name": {
             "en": "Air density at 10 m"
            },
            "offset": 0,
            "scale": 0.001,
            "standardName": "air_density",
            "type": "data",
            "unit": "kg m-3",
            "unitConversion": null,
            "valueClamp": true,
            "valueColor": false,
            "valueDiffMax": 0.2080000638961792,
            "valueDiffRelMax": 25,
            "valueMax": 1.5690001249313354,
            "valueMin": 1.152999997138977
           },
           "eastward_stress": {
            "abbreviation": "eastward_stress",
            "colormapDiffId": "balance",
            "colormapDiffInvert": false,
            "colormapId": "balance",
            "colormapInvert": false,
            "dimensions": [
             "time",
             "latitude",
             "longitude"
            ],
            "hasLogScale": false,
            "id": "eastward_stress",
            "logScale": false,
            "missingValue": -2147483647,
            "name": {
             "en": "Surface wind stress eastward component"
            },
            "offset": 0,
            "scale": 0.01,
            "standardName": "surface_downward_eastward_stress",
            "type": "data",
            "unit": "N m-2",
            "unitConversion": null,
            "valueClamp": true,
            "valueColor": false,
            "valueDiffMax": 1.53,
            "valueDiffRelMax": 25,
            "valueMax": 1.53,
            "valueMin": -1.53
           },
           "eastward_stress_bias": {
            "abbreviation": "eastward_stress_bias",
            "colormapDiffId": "balance",
            "colormapDiffInvert": false,
            "colormapId": "balance",
            "colormapInvert": false,
            "dimensions": [
             "time",
             "latitude",
             "longitude"
            ],
            "hasLogScale": false,
            "id": "eastward_stress_bias",
            "logScale": false,
            "missingValue": -2147483647,
            "name": {
             "en": "Scatterometer-model bias of surface wind stress eastward component"
            },
            "offset": 0,
            "scale": 0.01,
            "standardName": "surface_downward_eastward_stress_bias",
            "type": "data",
            "unit": "N m-2",
            "unitConversion": null,
            "valueClamp": true,
            "valueColor": false,
            "valueDiffMax": 0.03,
            "valueDiffRelMax": 25,
            "valueMax": 0.03,
            "valueMin": -0.03
           },
           "eastward_stress_sdd": {
            "abbreviation": "eastward_stress_sdd",
            "colormapDiffId": "balance",
            "colormapDiffInvert": false,
            "colormapId": "viridis",
            "colormapInvert": false,
            "dimensions": [
             "time",
             "latitude",
             "longitude"
            ],
            "hasLogScale": true,
            "id": "eastward_stress_sdd",
            "logScale": false,
            "missingValue": -2147483647,
            "name": {
             "en": "Standard deviation of differences of surface wind stress eastward component"
            },
            "offset": 0,
            "scale": 0.01,
            "standardName": "surface_downward_eastward_stress_standard_deviation_of_differences",
            "type": "data",
            "unit": "N m-2",
            "unitConversion": null,
            "valueClamp": true,
            "valueColor": false,
            "valueDiffMax": 0.035,
            "valueDiffRelMax": 25,
            "valueMax": 0.08,
            "valueMin": 0.01
           },
           "eastward_wind": {
            "abbreviation": "eastward_wind",
            "colormapDiffId": "balance",
            "colormapDiffInvert": false,
            "colormapId": "balance",
            "colormapInvert": false,
            "dimensions": [
             "time",
             "latitude",
             "longitude"
            ],
            "hasLogScale": false,
            "id": "eastward_wind",
            "logScale": false,
            "missingValue": -32767,
            "name": {
             "en": "Stress-equivalent wind eastward component at 10 m"
            },
            "offset": 0,
            "scale": 0.01,
            "standardName": "eastward_wind",
            "type": "data",
            "unit": "m s-1",
            "unitConversion": null,
            "valueClamp": true,
            "valueColor": false,
            "valueDiffMax": 37.04999828338623,
            "valueDiffRelMax": 25,
            "valueMax": 37.04999828338623,
            "valueMin": -37.04999828338623
           },
           "eastward_wind_bias": {
            "abbreviation": "eastward_wind_bias",
            "colormapDiffId": "balance",
            "colormapDiffInvert": false,
            "colormapId": "balance",
            "colormapInvert": false,
            "dimensions": [
             "time",
             "latitude",
             "longitude"
            ],
            "hasLogScale": false,
            "id": "eastward_wind_bias",
            "logScale": false,
            "missingValue": -32767,
            "name": {
             "en": "Scatterometer-model bias of stress-equivalent wind eastward component at 10 m"
            },
            "offset": 0,
            "scale": 0.01,
            "standardName": "eastward_wind_bias",
            "type": "data",
            "unit": "m s-1",
            "unitConversion": null,
            "valueClamp": true,
            "valueColor": false,
            "valueDiffMax": 0.9300000071525574,
            "valueDiffRelMax": 25,
            "valueMax": 0.9300000071525574,
            "valueMin": -0.9300000071525574
           },
           "eastward_wind_sdd": {
            "abbreviation": "eastward_wind_sdd",
            "colormapDiffId": "balance",
            "colormapDiffInvert": false,
            "colormapId": "viridis",
            "colormapInvert": false,
            "dimensions": [
             "time",
             "latitude",
             "longitude"
            ],
            "hasLogScale": true,
            "id": "eastward_wind_sdd",
            "logScale": false,
            "missingValue": -32767,
            "name": {
             "en": "Standard deviation of differences of stress-equivalent wind eastward component at 10 m"
            },
            "offset": 0,
            "scale": 0.01,
            "standardName": "eastward_wind_standard_deviation_of_differences",
            "type": "data",
            "unit": "m s-1",
            "unitConversion": null,
            "valueClamp": true,
            "valueColor": false,
            "valueDiffMax": 0.8099999129772186,
            "valueDiffRelMax": 25,
            "valueMax": 2.169999837875366,
            "valueMin": 0.550000011920929
           },
           "northward_stress": {
            "abbreviation": "northward_stress",
            "colormapDiffId": "balance",
            "colormapDiffInvert": false,
            "colormapId": "balance",
            "colormapInvert": false,
            "dimensions": [
             "time",
             "latitude",
             "longitude"
            ],
            "hasLogScale": false,
            "id": "northward_stress",
            "logScale": false,
            "missingValue": -2147483647,
            "name": {
             "en": "Surface wind stress northward component"
            },
            "offset": 0,
            "scale": 0.01,
            "standardName": "surface_downward_northward_stress",
            "type": "data",
            "unit": "N m-2",
            "unitConversion": null,
            "valueClamp": true,
            "valueColor": false,
            "valueDiffMax": 1.53,
            "valueDiffRelMax": 25,
            "valueMax": 1.53,
            "valueMin": -1.53
           },
           "northward_stress_bias": {
            "abbreviation": "northward_stress_bias",
            "colormapDiffId": "balance",
            "colormapDiffInvert": false,
            "colormapId": "balance",
            "colormapInvert": false,
            "dimensions": [
             "time",
             "latitude",
             "longitude"
            ],
            "hasLogScale": false,
            "id": "northward_stress_bias",
            "logScale": false,
            "missingValue": -2147483647,
            "name": {
             "en": "Scatterometer-model bias of surface wind stress northward component"
            },
            "offset": 0,
            "scale": 0.01,
            "standardName": "surface_downward_northward_stress_bias",
            "type": "data",
            "unit": "N m-2",
            "unitConversion": null,
            "valueClamp": true,
            "valueColor": false,
            "valueDiffMax": 0.02,
            "valueDiffRelMax": 25,
            "valueMax": 0.02,
            "valueMin": -0.02
           },
           "northward_stress_sdd": {
            "abbreviation": "northward_stress_sdd",
            "colormapDiffId": "balance",
            "colormapDiffInvert": false,
            "colormapId": "viridis",
            "colormapInvert": false,
            "dimensions": [
             "time",
             "latitude",
             "longitude"
            ],
            "hasLogScale": true,
            "id": "northward_stress_sdd",
            "logScale": false,
            "missingValue": -2147483647,
            "name": {
             "en": "Standard deviation of differences of surface wind stress northward component"
            },
            "offset": 0,
            "scale": 0.01,
            "standardName": "surface_downward_northward_stress_standard_deviation_of_differences",
            "type": "data",
            "unit": "N m-2",
            "unitConversion": null,
            "valueClamp": true,
            "valueColor": false,
            "valueDiffMax": 0.030000000000000002,
            "valueDiffRelMax": 25,
            "valueMax": 0.07,
            "valueMin": 0.01
           },
           "northward_wind": {
            "abbreviation": "northward_wind",
            "colormapDiffId": "balance",
            "colormapDiffInvert": false,
            "colormapId": "balance",
            "colormapInvert": false,
            "dimensions": [
             "time",
             "latitude",
             "longitude"
            ],
            "hasLogScale": false,
            "id": "northward_wind",
            "logScale": false,
            "missingValue": -32767,
            "name": {
             "en": "Stress-equivalent wind northward component at 10 m"
            },
            "offset": 0,
            "scale": 0.01,
            "standardName": "northward_wind",
            "type": "data",
            "unit": "m s-1",
            "unitConversion": null,
            "valueClamp": true,
            "valueColor": false,
            "valueDiffMax": 37.04999828338623,
            "valueDiffRelMax": 25,
            "valueMax": 37.04999828338623,
            "valueMin": -37.04999828338623
           },
           "northward_wind_bias": {
            "abbreviation": "northward_wind_bias",
            "colormapDiffId": "balance",
            "colormapDiffInvert": false,
            "colormapId": "balance",
            "colormapInvert": false,
            "dimensions": [
             "time",
             "latitude",
             "longitude"
            ],
            "hasLogScale": false,
            "id": "northward_wind_bias",
            "logScale": false,
            "missingValue": -32767,
            "name": {
             "en": "Scatterometer-model bias of stress-equivalent wind northward component at 10 m"
            },
            "offset": 0,
            "scale": 0.01,
            "standardName": "northward_wind_bias",
            "type": "data",
            "unit": "m s-1",
            "unitConversion": null,
            "valueClamp": true,
            "valueColor": false,
            "valueDiffMax": 0.8399999737739563,
            "valueDiffRelMax": 25,
            "valueMax": 0.8399999737739563,
            "valueMin": -0.8399999737739563
           },
           "northward_wind_sdd": {
            "abbreviation": "northward_wind_sdd",
            "colormapDiffId": "balance",
            "colormapDiffInvert": false,
            "colormapId": "viridis",
            "colormapInvert": false,
            "dimensions": [
             "time",
             "latitude",
             "longitude"
            ],
            "hasLogScale": true,
            "id": "northward_wind_sdd",
            "logScale": false,
            "missingValue": -32767,
            "name": {
             "en": "Standard deviation of differences of stress-equivalent wind northward component at 10 m"
            },
            "offset": 0,
            "scale": 0.01,
            "standardName": "northward_wind_standard_deviation_of_differences",
            "type": "data",
            "unit": "m s-1",
            "unitConversion": null,
            "valueClamp": true,
            "valueColor": false,
            "valueDiffMax": 0.8549999296665192,
            "valueDiffRelMax": 25,
            "valueMax": 2.3899998664855957,
            "valueMin": 0.6800000071525574
           },
           "number_of_observations": {
            "abbreviation": "number_of_observations",
            "colormapDiffId": "balance",
            "colormapDiffInvert": false,
            "colormapId": "viridis",
            "colormapInvert": false,
            "dimensions": [
             "time",
             "latitude",
             "longitude"
            ],
            "hasLogScale": true,
            "id": "number_of_observations",
            "logScale": false,
            "missingValue": -32767,
            "name": {
             "en": "Number of observations used for scatterometer-model bias"
            },
            "offset": null,
            "scale": null,
            "standardName": "number_of_observations",
            "type": "data",
            "unit": 1,
            "unitConversion": null,
            "valueClamp": true,
            "valueColor": false,
            "valueDiffMax": 21,
            "valueDiffRelMax": 25,
            "valueMax": 69,
            "valueMin": 27
           },
           "number_of_observations_divcurl": {
            "abbreviation": "number_of_observations_divcurl",
            "colormapDiffId": "balance",
            "colormapDiffInvert": false,
            "colormapId": "viridis",
            "colormapInvert": false,
            "dimensions": [
             "time",
             "latitude",
             "longitude"
            ],
            "hasLogScale": true,
            "id": "number_of_observations_divcurl",
            "logScale": false,
            "missingValue": -32767,
            "name": {
             "en": "Number of observations used for scatterometer-model divergence and curl bias"
            },
            "offset": null,
            "scale": null,
            "standardName": "number_of_observations",
            "type": "data",
            "unit": 1,
            "unitConversion": null,
            "valueClamp": true,
            "valueColor": false,
            "valueDiffMax": 27.5,
            "valueDiffRelMax": 25,
            "valueMax": 65,
            "valueMin": 10
           },
           "stress_curl": {
            "abbreviation": "stress_curl",
            "colormapDiffId": "balance",
            "colormapDiffInvert": false,
            "colormapId": "viridis",
            "colormapInvert": false,
            "dimensions": [
             "time",
             "latitude",
             "longitude"
            ],
            "hasLogScale": false,
            "id": "stress_curl",
            "logScale": false,
            "missingValue": -2147483647,
            "name": {
             "en": "Curl of surface wind stress"
            },
            "offset": 0,
            "scale": 1e-10,
            "standardName": "vertical_component_of_surface_downward_stress_curl",
            "type": "data",
            "unit": "N m-3",
            "unitConversion": null,
            "valueClamp": true,
            "valueColor": false,
            "valueDiffMax": 2.3519000000000003e-06,
            "valueDiffRelMax": 25,
            "valueMax": 2.1812e-06,
            "valueMin": -2.5226e-06
           },
           "stress_curl_bias": {
            "abbreviation": "stress_curl_bias",
            "colormapDiffId": "balance",
            "colormapDiffInvert": false,
            "colormapId": "balance",
            "colormapInvert": false,
            "dimensions": [
             "time",
             "latitude",
             "longitude"
            ],
            "hasLogScale": false,
            "id": "stress_curl_bias",
            "logScale": false,
            "missingValue": -2147483647,
            "name": {
             "en": "Scatterometer-model bias of curl of surface wind stress"
            },
            "offset": 0,
            "scale": 1e-10,
            "standardName": "vertical_component_of_surface_downward_stress_curl_bias",
            "type": "data",
            "unit": "N m-3",
            "unitConversion": null,
            "valueClamp": true,
            "valueColor": false,
            "valueDiffMax": 5.091e-07,
            "valueDiffRelMax": 25,
            "valueMax": 5.091e-07,
            "valueMin": -5.091e-07
           },
           "stress_curl_dv": {
            "abbreviation": "stress_curl_dv",
            "colormapDiffId": "balance",
            "colormapDiffInvert": false,
            "colormapId": "viridis",
            "colormapInvert": false,
            "dimensions": [
             "time",
             "latitude",
             "longitude"
            ],
            "hasLogScale": false,
            "id": "stress_curl_dv",
            "logScale": false,
            "missingValue": -2147483647,
            "name": {
             "en": "Difference of scatterometer and model variances of curl of surface wind stress"
            },
            "offset": 0,
            "scale": 1e-15,
            "standardName": "vertical_component_of_surface_downward_stress_curl_difference_of_variances",
            "type": "data",
            "unit": "N2 m-6",
            "unitConversion": null,
            "valueClamp": true,
            "valueColor": false,
            "valueDiffMax": 3.1755000000000004e-12,
            "valueDiffRelMax": 25,
            "valueMax": 5.266e-12,
            "valueMin": -1.0850000000000001e-12
           },
           "stress_divergence": {
            "abbreviation": "stress_divergence",
            "colormapDiffId": "balance",
            "colormapDiffInvert": false,
            "colormapId": "viridis",
            "colormapInvert": false,
            "dimensions": [
             "time",
             "latitude",
             "longitude"
            ],
            "hasLogScale": false,
            "id": "stress_divergence",
            "logScale": false,
            "missingValue": -2147483647,
            "name": {
             "en": "Divergence of surface wind stress"
            },
            "offset": 0,
            "scale": 1e-10,
            "standardName": "divergence_of_surface_downward_stress",
            "type": "data",
            "unit": "N m-3",
            "unitConversion": null,
            "valueClamp": true,
            "valueColor": false,
            "valueDiffMax": 2.0739629999999886e-06,
            "valueDiffRelMax": 25,
            "valueMax": 1.9623259999999777e-06,
            "valueMin": -2.1856e-06
           },
           "stress_divergence_bias": {
            "abbreviation": "stress_divergence_bias",
            "colormapDiffId": "balance",
            "colormapDiffInvert": false,
            "colormapId": "balance",
            "colormapInvert": false,
            "dimensions": [
             "time",
             "latitude",
             "longitude"
            ],
            "hasLogScale": false,
            "id": "stress_divergence_bias",
            "logScale": false,
            "missingValue": -2147483647,
            "name": {
             "en": "Scatterometer-model bias of divergence of surface wind stress"
            },
            "offset": 0,
            "scale": 1e-10,
            "standardName": "divergence_of_surface_downward_stress_bias",
            "type": "data",
            "unit": "N m-3",
            "unitConversion": null,
            "valueClamp": true,
            "valueColor": false,
            "valueDiffMax": 4.885000000000001e-07,
            "valueDiffRelMax": 25,
            "valueMax": 4.885000000000001e-07,
            "valueMin": -4.885000000000001e-07
           },
           "stress_divergence_dv": {
            "abbreviation": "stress_divergence_dv",
            "colormapDiffId": "balance",
            "colormapDiffInvert": false,
            "colormapId": "viridis",
            "colormapInvert": false,
            "dimensions": [
             "time",
             "latitude",
             "longitude"
            ],
            "hasLogScale": false,
            "id": "stress_divergence_dv",
            "logScale": false,
            "missingValue": -2147483647,
            "name": {
             "en": "Difference of scatterometer and model variances of divergence of surface wind stress"
            },
            "offset": 0,
            "scale": 1e-15,
            "standardName": "divergence_of_surface_downward_stress_difference_of_variances",
            "type": "data",
            "unit": "N2 m-6",
            "unitConversion": null,
            "valueClamp": true,
            "valueColor": false,
            "valueDiffMax": 2.2560000000000005e-12,
            "valueDiffRelMax": 25,
            "valueMax": 4.463000000000001e-12,
            "valueMin": -4.9000000000000006e-14
           },
           "wind_curl": {
            "abbreviation": "wind_curl",
            "colormapDiffId": "balance",
            "colormapDiffInvert": false,
            "colormapId": "viridis",
            "colormapInvert": false,
            "dimensions": [
             "time",
             "latitude",
             "longitude"
            ],
            "hasLogScale": false,
            "id": "wind_curl",
            "logScale": false,
            "missingValue": -2147483647,
            "name": {
             "en": "Curl of stress-equivalent wind at 10 m"
            },
            "offset": 0,
            "scale": 1e-07,
            "standardName": "atmosphere_relative_vorticity",
            "type": "data",
            "unit": "s-1",
            "unitConversion": null,
            "valueClamp": true,
            "valueColor": false,
            "valueDiffMax": 8.955e-05,
            "valueDiffRelMax": 25,
            "valueMax": 8.68e-05,
            "valueMin": -9.23e-05
           },
           "wind_curl_bias": {
            "abbreviation": "wind_curl_bias",
            "colormapDiffId": "balance",
            "colormapDiffInvert": false,
            "colormapId": "balance",
            "colormapInvert": false,
            "dimensions": [
             "time",
             "latitude",
             "longitude"
            ],
            "hasLogScale": false,
            "id": "wind_curl_bias",
            "logScale": false,
            "missingValue": -2147483647,
            "name": {
             "en": "Scatterometer-model bias of curl of stress-equivalent wind at 10 m"
            },
            "offset": 0,
            "scale": 1e-07,
            "standardName": "atmosphere_relative_vorticity_bias",
            "type": "data",
            "unit": "s-1",
            "unitConversion": null,
            "valueClamp": true,
            "valueColor": false,
            "valueDiffMax": 1.82e-05,
            "valueDiffRelMax": 25,
            "valueMax": 1.82e-05,
            "valueMin": -1.82e-05
           },
           "wind_curl_dv": {
            "abbreviation": "wind_curl_dv",
            "colormapDiffId": "balance",
            "colormapDiffInvert": false,
            "colormapId": "viridis",
            "colormapInvert": false,
            "dimensions": [
             "time",
             "latitude",
             "longitude"
            ],
            "hasLogScale": false,
            "id": "wind_curl_dv",
            "logScale": false,
            "missingValue": -2147483647,
            "name": {
             "en": "Difference of scatterometer and model variances of curl of stress-equivalent wind at 10 m"
            },
            "offset": 0,
            "scale": 1e-11,
            "standardName": "atmosphere_relative_vorticity_difference_of_variances",
            "type": "data",
            "unit": "s-2",
            "unitConversion": null,
            "valueClamp": true,
            "valueColor": false,
            "valueDiffMax": 3.5999999999999996e-09,
            "valueDiffRelMax": 25,
            "valueMax": 6.399999999999999e-09,
            "valueMin": -7.999999999999999e-10
           },
           "wind_divergence": {
            "abbreviation": "wind_divergence",
            "colormapDiffId": "balance",
            "colormapDiffInvert": false,
            "colormapId": "viridis",
            "colormapInvert": false,
            "dimensions": [
             "time",
             "latitude",
             "longitude"
            ],
            "hasLogScale": false,
            "id": "wind_divergence",
            "logScale": false,
            "missingValue": -2147483647,
            "name": {
             "en": "Divergence of stress-equivalent wind at 10 m"
            },
            "offset": 0,
            "scale": 1e-07,
            "standardName": "divergence_of_wind",
            "type": "data",
            "unit": "s-1",
            "unitConversion": null,
            "valueClamp": true,
            "valueColor": false,
            "valueDiffMax": 0.00010284999999999999,
            "valueDiffRelMax": 25,
            "valueMax": 9.63e-05,
            "valueMin": -0.00010939999999999999
           },
           "wind_divergence_bias": {
            "abbreviation": "wind_divergence_bias",
            "colormapDiffId": "balance",
            "colormapDiffInvert": false,
            "colormapId": "balance",
            "colormapInvert": false,
            "dimensions": [
             "time",
             "latitude",
             "longitude"
            ],
            "hasLogScale": false,
            "id": "wind_divergence_bias",
            "logScale": false,
            "missingValue": -2147483647,
            "name": {
             "en": "Scatterometer-model bias of divergence of stress-equivalent wind at 10 m"
            },
            "offset": 0,
            "scale": 1e-07,
            "standardName": "divergence_of_wind_bias",
            "type": "data",
            "unit": "s-1",
            "unitConversion": null,
            "valueClamp": true,
            "valueColor": false,
            "valueDiffMax": 2.09e-05,
            "valueDiffRelMax": 25,
            "valueMax": 2.09e-05,
            "valueMin": -2.09e-05
           },
           "wind_divergence_dv": {
            "abbreviation": "wind_divergence_dv",
            "colormapDiffId": "balance",
            "colormapDiffInvert": false,
            "colormapId": "viridis",
            "colormapInvert": false,
            "dimensions": [
             "time",
             "latitude",
             "longitude"
            ],
            "hasLogScale": true,
            "id": "wind_divergence_dv",
            "logScale": false,
            "missingValue": -2147483647,
            "name": {
             "en": "Difference of scatterometer and model variances of divergence of stress-equivalent wind at 10 m"
            },
            "offset": 0,
            "scale": 1e-11,
            "standardName": "divergence_of_wind_difference_of_variances",
            "type": "data",
            "unit": "s-2",
            "unitConversion": null,
            "valueClamp": true,
            "valueColor": false,
            "valueDiffMax": 3.3099999999999995e-09,
            "valueDiffRelMax": 25,
            "valueMax": 6.849999999999999e-09,
            "valueMin": 2.2999999999999998e-10
           }
          },
          "datetime": "2024-05-31T00:00:00Z",
          "end_datetime": "2024-05-31T00:00:00Z",
          "instruments": [
           "ASCAT, ASCAT"
          ],
          "license": "proprietary",
          "order:status": "",
          "processing:level": "Level 4",
          "providers": [
           {
            "description": "Copernicus Marine Data Store",
            "name": "cop_marine",
            "priority": 0,
            "roles": [
             "host"
            ],
            "url": "https://marine.copernicus.eu/"
           }
          ],
          "start_datetime": "2024-05-31T00:00:00Z"
         },
         "stac_extensions": [
          "https://stac-extensions.github.io/processing/v1.0.0/schema.json",
          "https://stac-extensions.github.io/order/v1.1.0/schema.json"
         ],
         "stac_version": "1.0.0",
         "type": "Feature"
        }
       ],
       "links": [
        {
         "href": "https://hda.data.destination-earth.eu/stac/collections/EO.MO.DAT.WIND_GLO_PHY_L4_NRT_012_004/items",
         "rel": "self",
         "title": "items"
        },
        {
         "href": "https://hda.data.destination-earth.eu/stac/",
         "rel": "root"
        },
        {
         "href": "https://hda.data.destination-earth.eu/stac/collections/EO.MO.DAT.WIND_GLO_PHY_L4_NRT_012_004",
         "rel": "parent",
         "title": "EO.MO.DAT.WIND_GLO_PHY_L4_NRT_012_004"
        },
        {
         "body": {
          "bbox": [
           10,
           53,
           30,
           66
          ],
          "collections": [
           "EO.MO.DAT.WIND_GLO_PHY_L4_NRT_012_004"
          ],
          "datetime": "2024-05-31T00:00:00Z/2024-06-01T00:00:00Z",
          "page": 2
         },
         "href": "https://hda.data.destination-earth.eu/stac/search",
         "method": "POST",
         "rel": "next",
         "title": "Next page",
         "type": "application/geo+json"
        }
       ],
       "numberMatched": 48,
       "numberReturned": 20,
       "stac_extensions": [],
       "stac_version": "1.0.0",
       "timeStamp": "2024-09-19T07:58:28.232780Z",
       "type": "FeatureCollection"
      },
      "text/plain": [
       "<IPython.core.display.JSON object>"
      ]
     },
     "execution_count": 5,
     "metadata": {
      "application/json": {
       "expanded": false,
       "root": "root"
      }
     },
     "output_type": "execute_result"
    }
   ],
   "source": [
    "from IPython.display import JSON\n",
    "JSON(response_sws.json())"
   ]
  },
  {
   "cell_type": "code",
   "execution_count": 6,
   "id": "93d6c527-627d-41f5-a030-61409f0b0ad2",
   "metadata": {
    "tags": []
   },
   "outputs": [
    {
     "data": {
      "text/plain": [
       "'https://hda.data.destination-earth.eu/stac/collections/EO.MO.DAT.WIND_GLO_PHY_L4_NRT_012_004/items/cmems_obs-wind_glo_phy_nrt_l4_0/download?provider=cop_marine'"
      ]
     },
     "execution_count": 6,
     "metadata": {},
     "output_type": "execute_result"
    }
   ],
   "source": [
    "response_sws.json()[\"features\"][0][\"assets\"][\"downloadLink\"][\"href\"]"
   ]
  },
  {
   "cell_type": "code",
   "execution_count": 20,
   "id": "67fdec61-939d-48db-ba21-c3a83579c18f",
   "metadata": {
    "tags": []
   },
   "outputs": [],
   "source": [
    "product_sws = []\n",
    "assets = []\n",
    "for i in response_sws.json()[\"features\"]:\n",
    "    # Download NC\n",
    "    #product_sws.append(i[\"assets\"][\"downloadLink\"][\"alternate\"][\"origin\"][\"href\"])\n",
    "    # Download using main link\n",
    "    product_sws.append(i[\"assets\"][\"downloadLink\"][\"href\"])\n",
    "    assets.append(i[\"id\"])"
   ]
  },
  {
   "cell_type": "code",
   "execution_count": 22,
   "id": "61b9bdc2-256a-4abe-bd90-b0cb46cdf4a8",
   "metadata": {
    "tags": []
   },
   "outputs": [
    {
     "name": "stdout",
     "output_type": "stream",
     "text": [
      "downloading cmems_obs-wind_glo_phy_nrt_l4_0\n"
     ]
    },
    {
     "name": "stderr",
     "output_type": "stream",
     "text": [
      "73.3MB [00:00, 490MB/s]\n"
     ]
    }
   ],
   "source": [
    "from tqdm import tqdm\n",
    "import time\n",
    "\n",
    "# Define a list of assets to download\n",
    "download_url = product_sws[0]\n",
    "filename = assets[0]\n",
    "response = requests.get(download_url, headers=auth_headers)\n",
    "total_size = int(response.headers.get(\"content-length\", 0))\n",
    "\n",
    "print(f\"downloading {filename}\")\n",
    "\n",
    "with tqdm(total=total_size, unit=\"B\", unit_scale=True) as progress_bar:\n",
    "    with open(filename, 'wb') as f:\n",
    "        for data in response.iter_content(1024):\n",
    "            progress_bar.update(len(data))\n",
    "            f.write(data)"
   ]
  },
  {
   "cell_type": "code",
   "execution_count": 23,
   "id": "987a3b82-3d0d-4f0f-9e0f-744ca614767e",
   "metadata": {
    "tags": []
   },
   "outputs": [
    {
     "data": {
      "text/plain": [
       "['https://hda.data.destination-earth.eu/stac/collections/EO.MO.DAT.WIND_GLO_PHY_L4_NRT_012_004/items/cmems_obs-wind_glo_phy_nrt_l4_0/download?provider=cop_marine',\n",
       " 'https://hda.data.destination-earth.eu/stac/collections/EO.MO.DAT.WIND_GLO_PHY_L4_NRT_012_004/items/cmems_obs-wind_glo_phy_nrt_l4_0/download?provider=cop_marine',\n",
       " 'https://hda.data.destination-earth.eu/stac/collections/EO.MO.DAT.WIND_GLO_PHY_L4_NRT_012_004/items/cmems_obs-wind_glo_phy_nrt_l4_0/download?provider=cop_marine',\n",
       " 'https://hda.data.destination-earth.eu/stac/collections/EO.MO.DAT.WIND_GLO_PHY_L4_NRT_012_004/items/cmems_obs-wind_glo_phy_nrt_l4_0/download?provider=cop_marine',\n",
       " 'https://hda.data.destination-earth.eu/stac/collections/EO.MO.DAT.WIND_GLO_PHY_L4_NRT_012_004/items/cmems_obs-wind_glo_phy_nrt_l4_0/download?provider=cop_marine',\n",
       " 'https://hda.data.destination-earth.eu/stac/collections/EO.MO.DAT.WIND_GLO_PHY_L4_NRT_012_004/items/cmems_obs-wind_glo_phy_nrt_l4_0/download?provider=cop_marine',\n",
       " 'https://hda.data.destination-earth.eu/stac/collections/EO.MO.DAT.WIND_GLO_PHY_L4_NRT_012_004/items/cmems_obs-wind_glo_phy_nrt_l4_0/download?provider=cop_marine',\n",
       " 'https://hda.data.destination-earth.eu/stac/collections/EO.MO.DAT.WIND_GLO_PHY_L4_NRT_012_004/items/cmems_obs-wind_glo_phy_nrt_l4_0/download?provider=cop_marine',\n",
       " 'https://hda.data.destination-earth.eu/stac/collections/EO.MO.DAT.WIND_GLO_PHY_L4_NRT_012_004/items/cmems_obs-wind_glo_phy_nrt_l4_0/download?provider=cop_marine',\n",
       " 'https://hda.data.destination-earth.eu/stac/collections/EO.MO.DAT.WIND_GLO_PHY_L4_NRT_012_004/items/cmems_obs-wind_glo_phy_nrt_l4_0/download?provider=cop_marine',\n",
       " 'https://hda.data.destination-earth.eu/stac/collections/EO.MO.DAT.WIND_GLO_PHY_L4_NRT_012_004/items/cmems_obs-wind_glo_phy_nrt_l4_0/download?provider=cop_marine',\n",
       " 'https://hda.data.destination-earth.eu/stac/collections/EO.MO.DAT.WIND_GLO_PHY_L4_NRT_012_004/items/cmems_obs-wind_glo_phy_nrt_l4_0/download?provider=cop_marine',\n",
       " 'https://hda.data.destination-earth.eu/stac/collections/EO.MO.DAT.WIND_GLO_PHY_L4_NRT_012_004/items/cmems_obs-wind_glo_phy_nrt_l4_0/download?provider=cop_marine',\n",
       " 'https://hda.data.destination-earth.eu/stac/collections/EO.MO.DAT.WIND_GLO_PHY_L4_NRT_012_004/items/cmems_obs-wind_glo_phy_nrt_l4_0/download?provider=cop_marine',\n",
       " 'https://hda.data.destination-earth.eu/stac/collections/EO.MO.DAT.WIND_GLO_PHY_L4_NRT_012_004/items/cmems_obs-wind_glo_phy_nrt_l4_0/download?provider=cop_marine',\n",
       " 'https://hda.data.destination-earth.eu/stac/collections/EO.MO.DAT.WIND_GLO_PHY_L4_NRT_012_004/items/cmems_obs-wind_glo_phy_nrt_l4_0/download?provider=cop_marine',\n",
       " 'https://hda.data.destination-earth.eu/stac/collections/EO.MO.DAT.WIND_GLO_PHY_L4_NRT_012_004/items/cmems_obs-wind_glo_phy_nrt_l4_0/download?provider=cop_marine',\n",
       " 'https://hda.data.destination-earth.eu/stac/collections/EO.MO.DAT.WIND_GLO_PHY_L4_NRT_012_004/items/cmems_obs-wind_glo_phy_nrt_l4_0/download?provider=cop_marine',\n",
       " 'https://hda.data.destination-earth.eu/stac/collections/EO.MO.DAT.WIND_GLO_PHY_L4_NRT_012_004/items/cmems_obs-wind_glo_phy_nrt_l4_0/download?provider=cop_marine',\n",
       " 'https://hda.data.destination-earth.eu/stac/collections/EO.MO.DAT.WIND_GLO_PHY_L4_NRT_012_004/items/cmems_obs-wind_glo_phy_nrt_l4_0/download?provider=cop_marine']"
      ]
     },
     "execution_count": 23,
     "metadata": {},
     "output_type": "execute_result"
    }
   ],
   "source": [
    "product_sws"
   ]
  },
  {
   "cell_type": "markdown",
   "id": "bcdf9c19-f1b9-4b49-8bd1-fc4fab3c02c9",
   "metadata": {},
   "source": [
    "## Read data\n",
    "\n",
    "We read the data and subset it too the baltic sea region."
   ]
  },
  {
   "cell_type": "code",
   "execution_count": 24,
   "id": "ab4dc62f-c17f-428d-ad69-40fbc479e5a2",
   "metadata": {
    "tags": []
   },
   "outputs": [],
   "source": [
    "import rioxarray\n",
    "import matplotlib.pyplot as plt\n",
    "import xarray as xr\n",
    "import numpy as np\n",
    "import netCDF4 as nc"
   ]
  },
  {
   "cell_type": "code",
   "execution_count": 29,
   "id": "5c111dce-e8a5-46eb-8b02-a25cfe8a444b",
   "metadata": {
    "tags": []
   },
   "outputs": [],
   "source": [
    "ds = xr.open_dataset(\"cmems_obs-wind_glo_phy_nrt_l4_0\")"
   ]
  },
  {
   "cell_type": "code",
   "execution_count": 30,
   "id": "444bc7f5-231a-439b-a389-1774874d60e6",
   "metadata": {
    "tags": []
   },
   "outputs": [
    {
     "data": {
      "text/html": [
       "<div><svg style=\"position: absolute; width: 0; height: 0; overflow: hidden\">\n",
       "<defs>\n",
       "<symbol id=\"icon-database\" viewBox=\"0 0 32 32\">\n",
       "<path d=\"M16 0c-8.837 0-16 2.239-16 5v4c0 2.761 7.163 5 16 5s16-2.239 16-5v-4c0-2.761-7.163-5-16-5z\"></path>\n",
       "<path d=\"M16 17c-8.837 0-16-2.239-16-5v6c0 2.761 7.163 5 16 5s16-2.239 16-5v-6c0 2.761-7.163 5-16 5z\"></path>\n",
       "<path d=\"M16 26c-8.837 0-16-2.239-16-5v6c0 2.761 7.163 5 16 5s16-2.239 16-5v-6c0 2.761-7.163 5-16 5z\"></path>\n",
       "</symbol>\n",
       "<symbol id=\"icon-file-text2\" viewBox=\"0 0 32 32\">\n",
       "<path d=\"M28.681 7.159c-0.694-0.947-1.662-2.053-2.724-3.116s-2.169-2.030-3.116-2.724c-1.612-1.182-2.393-1.319-2.841-1.319h-15.5c-1.378 0-2.5 1.121-2.5 2.5v27c0 1.378 1.122 2.5 2.5 2.5h23c1.378 0 2.5-1.122 2.5-2.5v-19.5c0-0.448-0.137-1.23-1.319-2.841zM24.543 5.457c0.959 0.959 1.712 1.825 2.268 2.543h-4.811v-4.811c0.718 0.556 1.584 1.309 2.543 2.268zM28 29.5c0 0.271-0.229 0.5-0.5 0.5h-23c-0.271 0-0.5-0.229-0.5-0.5v-27c0-0.271 0.229-0.5 0.5-0.5 0 0 15.499-0 15.5 0v7c0 0.552 0.448 1 1 1h7v19.5z\"></path>\n",
       "<path d=\"M23 26h-14c-0.552 0-1-0.448-1-1s0.448-1 1-1h14c0.552 0 1 0.448 1 1s-0.448 1-1 1z\"></path>\n",
       "<path d=\"M23 22h-14c-0.552 0-1-0.448-1-1s0.448-1 1-1h14c0.552 0 1 0.448 1 1s-0.448 1-1 1z\"></path>\n",
       "<path d=\"M23 18h-14c-0.552 0-1-0.448-1-1s0.448-1 1-1h14c0.552 0 1 0.448 1 1s-0.448 1-1 1z\"></path>\n",
       "</symbol>\n",
       "</defs>\n",
       "</svg>\n",
       "<style>/* CSS stylesheet for displaying xarray objects in jupyterlab.\n",
       " *\n",
       " */\n",
       "\n",
       ":root {\n",
       "  --xr-font-color0: var(--jp-content-font-color0, rgba(0, 0, 0, 1));\n",
       "  --xr-font-color2: var(--jp-content-font-color2, rgba(0, 0, 0, 0.54));\n",
       "  --xr-font-color3: var(--jp-content-font-color3, rgba(0, 0, 0, 0.38));\n",
       "  --xr-border-color: var(--jp-border-color2, #e0e0e0);\n",
       "  --xr-disabled-color: var(--jp-layout-color3, #bdbdbd);\n",
       "  --xr-background-color: var(--jp-layout-color0, white);\n",
       "  --xr-background-color-row-even: var(--jp-layout-color1, white);\n",
       "  --xr-background-color-row-odd: var(--jp-layout-color2, #eeeeee);\n",
       "}\n",
       "\n",
       "html[theme=dark],\n",
       "body[data-theme=dark],\n",
       "body.vscode-dark {\n",
       "  --xr-font-color0: rgba(255, 255, 255, 1);\n",
       "  --xr-font-color2: rgba(255, 255, 255, 0.54);\n",
       "  --xr-font-color3: rgba(255, 255, 255, 0.38);\n",
       "  --xr-border-color: #1F1F1F;\n",
       "  --xr-disabled-color: #515151;\n",
       "  --xr-background-color: #111111;\n",
       "  --xr-background-color-row-even: #111111;\n",
       "  --xr-background-color-row-odd: #313131;\n",
       "}\n",
       "\n",
       ".xr-wrap {\n",
       "  display: block !important;\n",
       "  min-width: 300px;\n",
       "  max-width: 700px;\n",
       "}\n",
       "\n",
       ".xr-text-repr-fallback {\n",
       "  /* fallback to plain text repr when CSS is not injected (untrusted notebook) */\n",
       "  display: none;\n",
       "}\n",
       "\n",
       ".xr-header {\n",
       "  padding-top: 6px;\n",
       "  padding-bottom: 6px;\n",
       "  margin-bottom: 4px;\n",
       "  border-bottom: solid 1px var(--xr-border-color);\n",
       "}\n",
       "\n",
       ".xr-header > div,\n",
       ".xr-header > ul {\n",
       "  display: inline;\n",
       "  margin-top: 0;\n",
       "  margin-bottom: 0;\n",
       "}\n",
       "\n",
       ".xr-obj-type,\n",
       ".xr-array-name {\n",
       "  margin-left: 2px;\n",
       "  margin-right: 10px;\n",
       "}\n",
       "\n",
       ".xr-obj-type {\n",
       "  color: var(--xr-font-color2);\n",
       "}\n",
       "\n",
       ".xr-sections {\n",
       "  padding-left: 0 !important;\n",
       "  display: grid;\n",
       "  grid-template-columns: 150px auto auto 1fr 20px 20px;\n",
       "}\n",
       "\n",
       ".xr-section-item {\n",
       "  display: contents;\n",
       "}\n",
       "\n",
       ".xr-section-item input {\n",
       "  display: none;\n",
       "}\n",
       "\n",
       ".xr-section-item input + label {\n",
       "  color: var(--xr-disabled-color);\n",
       "}\n",
       "\n",
       ".xr-section-item input:enabled + label {\n",
       "  cursor: pointer;\n",
       "  color: var(--xr-font-color2);\n",
       "}\n",
       "\n",
       ".xr-section-item input:enabled + label:hover {\n",
       "  color: var(--xr-font-color0);\n",
       "}\n",
       "\n",
       ".xr-section-summary {\n",
       "  grid-column: 1;\n",
       "  color: var(--xr-font-color2);\n",
       "  font-weight: 500;\n",
       "}\n",
       "\n",
       ".xr-section-summary > span {\n",
       "  display: inline-block;\n",
       "  padding-left: 0.5em;\n",
       "}\n",
       "\n",
       ".xr-section-summary-in:disabled + label {\n",
       "  color: var(--xr-font-color2);\n",
       "}\n",
       "\n",
       ".xr-section-summary-in + label:before {\n",
       "  display: inline-block;\n",
       "  content: '►';\n",
       "  font-size: 11px;\n",
       "  width: 15px;\n",
       "  text-align: center;\n",
       "}\n",
       "\n",
       ".xr-section-summary-in:disabled + label:before {\n",
       "  color: var(--xr-disabled-color);\n",
       "}\n",
       "\n",
       ".xr-section-summary-in:checked + label:before {\n",
       "  content: '▼';\n",
       "}\n",
       "\n",
       ".xr-section-summary-in:checked + label > span {\n",
       "  display: none;\n",
       "}\n",
       "\n",
       ".xr-section-summary,\n",
       ".xr-section-inline-details {\n",
       "  padding-top: 4px;\n",
       "  padding-bottom: 4px;\n",
       "}\n",
       "\n",
       ".xr-section-inline-details {\n",
       "  grid-column: 2 / -1;\n",
       "}\n",
       "\n",
       ".xr-section-details {\n",
       "  display: none;\n",
       "  grid-column: 1 / -1;\n",
       "  margin-bottom: 5px;\n",
       "}\n",
       "\n",
       ".xr-section-summary-in:checked ~ .xr-section-details {\n",
       "  display: contents;\n",
       "}\n",
       "\n",
       ".xr-array-wrap {\n",
       "  grid-column: 1 / -1;\n",
       "  display: grid;\n",
       "  grid-template-columns: 20px auto;\n",
       "}\n",
       "\n",
       ".xr-array-wrap > label {\n",
       "  grid-column: 1;\n",
       "  vertical-align: top;\n",
       "}\n",
       "\n",
       ".xr-preview {\n",
       "  color: var(--xr-font-color3);\n",
       "}\n",
       "\n",
       ".xr-array-preview,\n",
       ".xr-array-data {\n",
       "  padding: 0 5px !important;\n",
       "  grid-column: 2;\n",
       "}\n",
       "\n",
       ".xr-array-data,\n",
       ".xr-array-in:checked ~ .xr-array-preview {\n",
       "  display: none;\n",
       "}\n",
       "\n",
       ".xr-array-in:checked ~ .xr-array-data,\n",
       ".xr-array-preview {\n",
       "  display: inline-block;\n",
       "}\n",
       "\n",
       ".xr-dim-list {\n",
       "  display: inline-block !important;\n",
       "  list-style: none;\n",
       "  padding: 0 !important;\n",
       "  margin: 0;\n",
       "}\n",
       "\n",
       ".xr-dim-list li {\n",
       "  display: inline-block;\n",
       "  padding: 0;\n",
       "  margin: 0;\n",
       "}\n",
       "\n",
       ".xr-dim-list:before {\n",
       "  content: '(';\n",
       "}\n",
       "\n",
       ".xr-dim-list:after {\n",
       "  content: ')';\n",
       "}\n",
       "\n",
       ".xr-dim-list li:not(:last-child):after {\n",
       "  content: ',';\n",
       "  padding-right: 5px;\n",
       "}\n",
       "\n",
       ".xr-has-index {\n",
       "  font-weight: bold;\n",
       "}\n",
       "\n",
       ".xr-var-list,\n",
       ".xr-var-item {\n",
       "  display: contents;\n",
       "}\n",
       "\n",
       ".xr-var-item > div,\n",
       ".xr-var-item label,\n",
       ".xr-var-item > .xr-var-name span {\n",
       "  background-color: var(--xr-background-color-row-even);\n",
       "  margin-bottom: 0;\n",
       "}\n",
       "\n",
       ".xr-var-item > .xr-var-name:hover span {\n",
       "  padding-right: 5px;\n",
       "}\n",
       "\n",
       ".xr-var-list > li:nth-child(odd) > div,\n",
       ".xr-var-list > li:nth-child(odd) > label,\n",
       ".xr-var-list > li:nth-child(odd) > .xr-var-name span {\n",
       "  background-color: var(--xr-background-color-row-odd);\n",
       "}\n",
       "\n",
       ".xr-var-name {\n",
       "  grid-column: 1;\n",
       "}\n",
       "\n",
       ".xr-var-dims {\n",
       "  grid-column: 2;\n",
       "}\n",
       "\n",
       ".xr-var-dtype {\n",
       "  grid-column: 3;\n",
       "  text-align: right;\n",
       "  color: var(--xr-font-color2);\n",
       "}\n",
       "\n",
       ".xr-var-preview {\n",
       "  grid-column: 4;\n",
       "}\n",
       "\n",
       ".xr-index-preview {\n",
       "  grid-column: 2 / 5;\n",
       "  color: var(--xr-font-color2);\n",
       "}\n",
       "\n",
       ".xr-var-name,\n",
       ".xr-var-dims,\n",
       ".xr-var-dtype,\n",
       ".xr-preview,\n",
       ".xr-attrs dt {\n",
       "  white-space: nowrap;\n",
       "  overflow: hidden;\n",
       "  text-overflow: ellipsis;\n",
       "  padding-right: 10px;\n",
       "}\n",
       "\n",
       ".xr-var-name:hover,\n",
       ".xr-var-dims:hover,\n",
       ".xr-var-dtype:hover,\n",
       ".xr-attrs dt:hover {\n",
       "  overflow: visible;\n",
       "  width: auto;\n",
       "  z-index: 1;\n",
       "}\n",
       "\n",
       ".xr-var-attrs,\n",
       ".xr-var-data,\n",
       ".xr-index-data {\n",
       "  display: none;\n",
       "  background-color: var(--xr-background-color) !important;\n",
       "  padding-bottom: 5px !important;\n",
       "}\n",
       "\n",
       ".xr-var-attrs-in:checked ~ .xr-var-attrs,\n",
       ".xr-var-data-in:checked ~ .xr-var-data,\n",
       ".xr-index-data-in:checked ~ .xr-index-data {\n",
       "  display: block;\n",
       "}\n",
       "\n",
       ".xr-var-data > table {\n",
       "  float: right;\n",
       "}\n",
       "\n",
       ".xr-var-name span,\n",
       ".xr-var-data,\n",
       ".xr-index-name div,\n",
       ".xr-index-data,\n",
       ".xr-attrs {\n",
       "  padding-left: 25px !important;\n",
       "}\n",
       "\n",
       ".xr-attrs,\n",
       ".xr-var-attrs,\n",
       ".xr-var-data,\n",
       ".xr-index-data {\n",
       "  grid-column: 1 / -1;\n",
       "}\n",
       "\n",
       "dl.xr-attrs {\n",
       "  padding: 0;\n",
       "  margin: 0;\n",
       "  display: grid;\n",
       "  grid-template-columns: 125px auto;\n",
       "}\n",
       "\n",
       ".xr-attrs dt,\n",
       ".xr-attrs dd {\n",
       "  padding: 0;\n",
       "  margin: 0;\n",
       "  float: left;\n",
       "  padding-right: 10px;\n",
       "  width: auto;\n",
       "}\n",
       "\n",
       ".xr-attrs dt {\n",
       "  font-weight: normal;\n",
       "  grid-column: 1;\n",
       "}\n",
       "\n",
       ".xr-attrs dt:hover span {\n",
       "  display: inline-block;\n",
       "  background: var(--xr-background-color);\n",
       "  padding-right: 10px;\n",
       "}\n",
       "\n",
       ".xr-attrs dd {\n",
       "  grid-column: 2;\n",
       "  white-space: pre-wrap;\n",
       "  word-break: break-all;\n",
       "}\n",
       "\n",
       ".xr-icon-database,\n",
       ".xr-icon-file-text2,\n",
       ".xr-no-icon {\n",
       "  display: inline-block;\n",
       "  vertical-align: middle;\n",
       "  width: 1em;\n",
       "  height: 1.5em !important;\n",
       "  stroke-width: 0;\n",
       "  stroke: currentColor;\n",
       "  fill: currentColor;\n",
       "}\n",
       "</style><pre class='xr-text-repr-fallback'>&lt;xarray.Dataset&gt;\n",
       "Dimensions:                         (time: 1, lat: 1440, lon: 2880)\n",
       "Coordinates:\n",
       "  * time                            (time) datetime64[ns] 2022-09-01\n",
       "  * lat                             (lat) float32 -89.94 -89.81 ... 89.81 89.94\n",
       "  * lon                             (lon) float32 -179.9 -179.8 ... 179.8 179.9\n",
       "Data variables: (12/27)\n",
       "    eastward_wind                   (time, lat, lon) float32 ...\n",
       "    eastward_wind_bias              (time, lat, lon) float32 ...\n",
       "    eastward_wind_sdd               (time, lat, lon) float32 ...\n",
       "    northward_wind                  (time, lat, lon) float32 ...\n",
       "    northward_wind_bias             (time, lat, lon) float32 ...\n",
       "    northward_wind_sdd              (time, lat, lon) float32 ...\n",
       "    ...                              ...\n",
       "    stress_curl                     (time, lat, lon) float64 ...\n",
       "    stress_curl_bias                (time, lat, lon) float64 ...\n",
       "    stress_curl_dv                  (time, lat, lon) float64 ...\n",
       "    air_density                     (time, lat, lon) float32 ...\n",
       "    number_of_observations          (time, lat, lon) float32 ...\n",
       "    number_of_observations_divcurl  (time, lat, lon) float32 ...\n",
       "Attributes: (12/26)\n",
       "    title:                       Global Ocean - Wind and Stress - Hourly - Fr...\n",
       "    summary:                    Global ocean 10-m stress-equivalent wind and ...\n",
       "    keywords:                   ocean winds, wind speed, wind direction, wind...\n",
       "    Conventions:                CF-1.6, ACDD-1.3\n",
       "    project:                    Copernicus Marine Service Wind Thematic Assem...\n",
       "    institution:                Royal Netherlands Meteorological Institute (K...\n",
       "    ...                         ...\n",
       "    time_coverage_start:        2022-09-01T00:00:00\n",
       "    time_coverage_end:          2022-09-01T00:00:00\n",
       "    references:                 Copernicus Marine Service Product User Manual...\n",
       "    history:                    N/A\n",
       "    date_created:               2022-09-02T10:31:44\n",
       "    date_modified:              2022-09-02T10:31:44</pre><div class='xr-wrap' style='display:none'><div class='xr-header'><div class='xr-obj-type'>xarray.Dataset</div></div><ul class='xr-sections'><li class='xr-section-item'><input id='section-67a9a9a5-c005-47fd-9d6b-5e8ec7ce7979' class='xr-section-summary-in' type='checkbox' disabled ><label for='section-67a9a9a5-c005-47fd-9d6b-5e8ec7ce7979' class='xr-section-summary'  title='Expand/collapse section'>Dimensions:</label><div class='xr-section-inline-details'><ul class='xr-dim-list'><li><span class='xr-has-index'>time</span>: 1</li><li><span class='xr-has-index'>lat</span>: 1440</li><li><span class='xr-has-index'>lon</span>: 2880</li></ul></div><div class='xr-section-details'></div></li><li class='xr-section-item'><input id='section-419de8ae-a874-4817-acba-519b36afd21a' class='xr-section-summary-in' type='checkbox'  checked><label for='section-419de8ae-a874-4817-acba-519b36afd21a' class='xr-section-summary' >Coordinates: <span>(3)</span></label><div class='xr-section-inline-details'></div><div class='xr-section-details'><ul class='xr-var-list'><li class='xr-var-item'><div class='xr-var-name'><span class='xr-has-index'>time</span></div><div class='xr-var-dims'>(time)</div><div class='xr-var-dtype'>datetime64[ns]</div><div class='xr-var-preview xr-preview'>2022-09-01</div><input id='attrs-8bb4c1b5-e8a7-49c0-8ee3-d45e09bcf9d2' class='xr-var-attrs-in' type='checkbox' ><label for='attrs-8bb4c1b5-e8a7-49c0-8ee3-d45e09bcf9d2' title='Show/Hide attributes'><svg class='icon xr-icon-file-text2'><use xlink:href='#icon-file-text2'></use></svg></label><input id='data-e053e128-813e-4f5e-886e-b7734f6034e9' class='xr-var-data-in' type='checkbox'><label for='data-e053e128-813e-4f5e-886e-b7734f6034e9' title='Show/Hide data repr'><svg class='icon xr-icon-database'><use xlink:href='#icon-database'></use></svg></label><div class='xr-var-attrs'><dl class='xr-attrs'><dt><span>axis :</span></dt><dd>T</dd><dt><span>long_name :</span></dt><dd>validity time</dd><dt><span>standard_name :</span></dt><dd>time</dd></dl></div><div class='xr-var-data'><pre>array([&#x27;2022-09-01T00:00:00.000000000&#x27;], dtype=&#x27;datetime64[ns]&#x27;)</pre></div></li><li class='xr-var-item'><div class='xr-var-name'><span class='xr-has-index'>lat</span></div><div class='xr-var-dims'>(lat)</div><div class='xr-var-dtype'>float32</div><div class='xr-var-preview xr-preview'>-89.94 -89.81 ... 89.81 89.94</div><input id='attrs-16947d47-7296-4836-89f4-baadfe1e24b9' class='xr-var-attrs-in' type='checkbox' ><label for='attrs-16947d47-7296-4836-89f4-baadfe1e24b9' title='Show/Hide attributes'><svg class='icon xr-icon-file-text2'><use xlink:href='#icon-file-text2'></use></svg></label><input id='data-36811622-db1a-4199-8fda-d0486ae6572e' class='xr-var-data-in' type='checkbox'><label for='data-36811622-db1a-4199-8fda-d0486ae6572e' title='Show/Hide data repr'><svg class='icon xr-icon-database'><use xlink:href='#icon-database'></use></svg></label><div class='xr-var-attrs'><dl class='xr-attrs'><dt><span>units :</span></dt><dd>degrees_north</dd><dt><span>axis :</span></dt><dd>Y</dd><dt><span>long_name :</span></dt><dd>latitude</dd><dt><span>standard_name :</span></dt><dd>latitude</dd><dt><span>valid_min :</span></dt><dd>-90.0</dd><dt><span>valid_max :</span></dt><dd>90.0</dd></dl></div><div class='xr-var-data'><pre>array([-89.9375, -89.8125, -89.6875, ...,  89.6875,  89.8125,  89.9375],\n",
       "      dtype=float32)</pre></div></li><li class='xr-var-item'><div class='xr-var-name'><span class='xr-has-index'>lon</span></div><div class='xr-var-dims'>(lon)</div><div class='xr-var-dtype'>float32</div><div class='xr-var-preview xr-preview'>-179.9 -179.8 ... 179.8 179.9</div><input id='attrs-32a8d62d-ab3d-4d2c-80ea-580dcb903eb6' class='xr-var-attrs-in' type='checkbox' ><label for='attrs-32a8d62d-ab3d-4d2c-80ea-580dcb903eb6' title='Show/Hide attributes'><svg class='icon xr-icon-file-text2'><use xlink:href='#icon-file-text2'></use></svg></label><input id='data-73afe39e-6944-4e42-a96f-90c92d22be71' class='xr-var-data-in' type='checkbox'><label for='data-73afe39e-6944-4e42-a96f-90c92d22be71' title='Show/Hide data repr'><svg class='icon xr-icon-database'><use xlink:href='#icon-database'></use></svg></label><div class='xr-var-attrs'><dl class='xr-attrs'><dt><span>units :</span></dt><dd>degrees_east</dd><dt><span>axis :</span></dt><dd>X</dd><dt><span>long_name :</span></dt><dd>longitude</dd><dt><span>standard_name :</span></dt><dd>longitude</dd><dt><span>valid_min :</span></dt><dd>-180.0</dd><dt><span>valid_max :</span></dt><dd>180.0</dd></dl></div><div class='xr-var-data'><pre>array([-179.9375, -179.8125, -179.6875, ...,  179.6875,  179.8125,  179.9375],\n",
       "      dtype=float32)</pre></div></li></ul></div></li><li class='xr-section-item'><input id='section-9bdc1c92-33fa-40eb-b491-55d507e7809d' class='xr-section-summary-in' type='checkbox'  ><label for='section-9bdc1c92-33fa-40eb-b491-55d507e7809d' class='xr-section-summary' >Data variables: <span>(27)</span></label><div class='xr-section-inline-details'></div><div class='xr-section-details'><ul class='xr-var-list'><li class='xr-var-item'><div class='xr-var-name'><span>eastward_wind</span></div><div class='xr-var-dims'>(time, lat, lon)</div><div class='xr-var-dtype'>float32</div><div class='xr-var-preview xr-preview'>...</div><input id='attrs-097b33f6-8179-4279-a0f6-48882878159d' class='xr-var-attrs-in' type='checkbox' ><label for='attrs-097b33f6-8179-4279-a0f6-48882878159d' title='Show/Hide attributes'><svg class='icon xr-icon-file-text2'><use xlink:href='#icon-file-text2'></use></svg></label><input id='data-31da0a59-4d40-4d08-8163-64347080e5e8' class='xr-var-data-in' type='checkbox'><label for='data-31da0a59-4d40-4d08-8163-64347080e5e8' title='Show/Hide data repr'><svg class='icon xr-icon-database'><use xlink:href='#icon-database'></use></svg></label><div class='xr-var-attrs'><dl class='xr-attrs'><dt><span>units :</span></dt><dd>m s-1</dd><dt><span>long_name :</span></dt><dd>stress-equivalent wind eastward component at 10 m</dd><dt><span>standard_name :</span></dt><dd>eastward_wind</dd><dt><span>valid_min :</span></dt><dd>-5000</dd><dt><span>valid_max :</span></dt><dd>5000</dd></dl></div><div class='xr-var-data'><pre>[4147200 values with dtype=float32]</pre></div></li><li class='xr-var-item'><div class='xr-var-name'><span>eastward_wind_bias</span></div><div class='xr-var-dims'>(time, lat, lon)</div><div class='xr-var-dtype'>float32</div><div class='xr-var-preview xr-preview'>...</div><input id='attrs-b801173f-d502-49a1-a05c-b508b6070b55' class='xr-var-attrs-in' type='checkbox' ><label for='attrs-b801173f-d502-49a1-a05c-b508b6070b55' title='Show/Hide attributes'><svg class='icon xr-icon-file-text2'><use xlink:href='#icon-file-text2'></use></svg></label><input id='data-a7ece8af-dfde-4076-9a38-5a2d154df720' class='xr-var-data-in' type='checkbox'><label for='data-a7ece8af-dfde-4076-9a38-5a2d154df720' title='Show/Hide data repr'><svg class='icon xr-icon-database'><use xlink:href='#icon-database'></use></svg></label><div class='xr-var-attrs'><dl class='xr-attrs'><dt><span>units :</span></dt><dd>m s-1</dd><dt><span>long_name :</span></dt><dd>scatterometer-model bias of stress-equivalent wind eastward component at 10 m</dd><dt><span>standard_name :</span></dt><dd>eastward_wind_bias</dd><dt><span>valid_min :</span></dt><dd>-5000</dd><dt><span>valid_max :</span></dt><dd>5000</dd></dl></div><div class='xr-var-data'><pre>[4147200 values with dtype=float32]</pre></div></li><li class='xr-var-item'><div class='xr-var-name'><span>eastward_wind_sdd</span></div><div class='xr-var-dims'>(time, lat, lon)</div><div class='xr-var-dtype'>float32</div><div class='xr-var-preview xr-preview'>...</div><input id='attrs-467611a6-69c3-400c-9f5b-afa311816b86' class='xr-var-attrs-in' type='checkbox' ><label for='attrs-467611a6-69c3-400c-9f5b-afa311816b86' title='Show/Hide attributes'><svg class='icon xr-icon-file-text2'><use xlink:href='#icon-file-text2'></use></svg></label><input id='data-98f8a402-37b1-4815-a874-6906cebc7d68' class='xr-var-data-in' type='checkbox'><label for='data-98f8a402-37b1-4815-a874-6906cebc7d68' title='Show/Hide data repr'><svg class='icon xr-icon-database'><use xlink:href='#icon-database'></use></svg></label><div class='xr-var-attrs'><dl class='xr-attrs'><dt><span>units :</span></dt><dd>m s-1</dd><dt><span>long_name :</span></dt><dd>standard deviation of differences of stress-equivalent wind eastward component at 10 m</dd><dt><span>standard_name :</span></dt><dd>eastward_wind_standard_deviation_of_differences</dd><dt><span>valid_min :</span></dt><dd>0</dd><dt><span>valid_max :</span></dt><dd>5000</dd></dl></div><div class='xr-var-data'><pre>[4147200 values with dtype=float32]</pre></div></li><li class='xr-var-item'><div class='xr-var-name'><span>northward_wind</span></div><div class='xr-var-dims'>(time, lat, lon)</div><div class='xr-var-dtype'>float32</div><div class='xr-var-preview xr-preview'>...</div><input id='attrs-3ad45f1a-9266-45b3-b283-2f93d5107f53' class='xr-var-attrs-in' type='checkbox' ><label for='attrs-3ad45f1a-9266-45b3-b283-2f93d5107f53' title='Show/Hide attributes'><svg class='icon xr-icon-file-text2'><use xlink:href='#icon-file-text2'></use></svg></label><input id='data-d8f483fe-f7ca-4dbb-962b-e6f0077e97bb' class='xr-var-data-in' type='checkbox'><label for='data-d8f483fe-f7ca-4dbb-962b-e6f0077e97bb' title='Show/Hide data repr'><svg class='icon xr-icon-database'><use xlink:href='#icon-database'></use></svg></label><div class='xr-var-attrs'><dl class='xr-attrs'><dt><span>units :</span></dt><dd>m s-1</dd><dt><span>long_name :</span></dt><dd>stress-equivalent wind northward component at 10 m</dd><dt><span>standard_name :</span></dt><dd>northward_wind</dd><dt><span>valid_min :</span></dt><dd>-5000</dd><dt><span>valid_max :</span></dt><dd>5000</dd></dl></div><div class='xr-var-data'><pre>[4147200 values with dtype=float32]</pre></div></li><li class='xr-var-item'><div class='xr-var-name'><span>northward_wind_bias</span></div><div class='xr-var-dims'>(time, lat, lon)</div><div class='xr-var-dtype'>float32</div><div class='xr-var-preview xr-preview'>...</div><input id='attrs-2062615e-3f79-4f0f-9311-33219845ed06' class='xr-var-attrs-in' type='checkbox' ><label for='attrs-2062615e-3f79-4f0f-9311-33219845ed06' title='Show/Hide attributes'><svg class='icon xr-icon-file-text2'><use xlink:href='#icon-file-text2'></use></svg></label><input id='data-ac07415d-fe54-4fe0-825f-68094ad81835' class='xr-var-data-in' type='checkbox'><label for='data-ac07415d-fe54-4fe0-825f-68094ad81835' title='Show/Hide data repr'><svg class='icon xr-icon-database'><use xlink:href='#icon-database'></use></svg></label><div class='xr-var-attrs'><dl class='xr-attrs'><dt><span>units :</span></dt><dd>m s-1</dd><dt><span>long_name :</span></dt><dd>scatterometer-model bias of stress-equivalent wind northward component at 10 m</dd><dt><span>standard_name :</span></dt><dd>northward_wind_bias</dd><dt><span>valid_min :</span></dt><dd>-5000</dd><dt><span>valid_max :</span></dt><dd>5000</dd></dl></div><div class='xr-var-data'><pre>[4147200 values with dtype=float32]</pre></div></li><li class='xr-var-item'><div class='xr-var-name'><span>northward_wind_sdd</span></div><div class='xr-var-dims'>(time, lat, lon)</div><div class='xr-var-dtype'>float32</div><div class='xr-var-preview xr-preview'>...</div><input id='attrs-d81b5e3e-35a0-43aa-af0f-efb4682cf09c' class='xr-var-attrs-in' type='checkbox' ><label for='attrs-d81b5e3e-35a0-43aa-af0f-efb4682cf09c' title='Show/Hide attributes'><svg class='icon xr-icon-file-text2'><use xlink:href='#icon-file-text2'></use></svg></label><input id='data-49f905b5-6eff-4251-b593-687e2b80e200' class='xr-var-data-in' type='checkbox'><label for='data-49f905b5-6eff-4251-b593-687e2b80e200' title='Show/Hide data repr'><svg class='icon xr-icon-database'><use xlink:href='#icon-database'></use></svg></label><div class='xr-var-attrs'><dl class='xr-attrs'><dt><span>units :</span></dt><dd>m s-1</dd><dt><span>long_name :</span></dt><dd>standard deviation of differences of stress-equivalent wind northward component at 10 m</dd><dt><span>standard_name :</span></dt><dd>northward_wind_standard_deviation_of_differences</dd><dt><span>valid_min :</span></dt><dd>0</dd><dt><span>valid_max :</span></dt><dd>5000</dd></dl></div><div class='xr-var-data'><pre>[4147200 values with dtype=float32]</pre></div></li><li class='xr-var-item'><div class='xr-var-name'><span>wind_divergence</span></div><div class='xr-var-dims'>(time, lat, lon)</div><div class='xr-var-dtype'>float64</div><div class='xr-var-preview xr-preview'>...</div><input id='attrs-cc026cae-b69e-45ce-bc26-997705a73574' class='xr-var-attrs-in' type='checkbox' ><label for='attrs-cc026cae-b69e-45ce-bc26-997705a73574' title='Show/Hide attributes'><svg class='icon xr-icon-file-text2'><use xlink:href='#icon-file-text2'></use></svg></label><input id='data-cd2816df-f9e4-4e8e-86f7-380ea3316c50' class='xr-var-data-in' type='checkbox'><label for='data-cd2816df-f9e4-4e8e-86f7-380ea3316c50' title='Show/Hide data repr'><svg class='icon xr-icon-database'><use xlink:href='#icon-database'></use></svg></label><div class='xr-var-attrs'><dl class='xr-attrs'><dt><span>units :</span></dt><dd>s-1</dd><dt><span>long_name :</span></dt><dd>divergence of stress-equivalent wind at 10 m</dd><dt><span>standard_name :</span></dt><dd>divergence_of_wind</dd><dt><span>valid_min :</span></dt><dd>-5000000</dd><dt><span>valid_max :</span></dt><dd>5000000</dd></dl></div><div class='xr-var-data'><pre>[4147200 values with dtype=float64]</pre></div></li><li class='xr-var-item'><div class='xr-var-name'><span>wind_divergence_bias</span></div><div class='xr-var-dims'>(time, lat, lon)</div><div class='xr-var-dtype'>float64</div><div class='xr-var-preview xr-preview'>...</div><input id='attrs-21bd3106-f29f-498d-a7fb-c9418f7fcc7e' class='xr-var-attrs-in' type='checkbox' ><label for='attrs-21bd3106-f29f-498d-a7fb-c9418f7fcc7e' title='Show/Hide attributes'><svg class='icon xr-icon-file-text2'><use xlink:href='#icon-file-text2'></use></svg></label><input id='data-945ccc9d-4d40-4108-af00-08d6e1699d9f' class='xr-var-data-in' type='checkbox'><label for='data-945ccc9d-4d40-4108-af00-08d6e1699d9f' title='Show/Hide data repr'><svg class='icon xr-icon-database'><use xlink:href='#icon-database'></use></svg></label><div class='xr-var-attrs'><dl class='xr-attrs'><dt><span>units :</span></dt><dd>s-1</dd><dt><span>long_name :</span></dt><dd>scatterometer-model bias of divergence of stress-equivalent wind at 10 m</dd><dt><span>standard_name :</span></dt><dd>divergence_of_wind_bias</dd><dt><span>valid_min :</span></dt><dd>-5000000</dd><dt><span>valid_max :</span></dt><dd>5000000</dd></dl></div><div class='xr-var-data'><pre>[4147200 values with dtype=float64]</pre></div></li><li class='xr-var-item'><div class='xr-var-name'><span>wind_divergence_dv</span></div><div class='xr-var-dims'>(time, lat, lon)</div><div class='xr-var-dtype'>float64</div><div class='xr-var-preview xr-preview'>...</div><input id='attrs-16c3fcfe-3503-4626-9244-9fe29d90d7e5' class='xr-var-attrs-in' type='checkbox' ><label for='attrs-16c3fcfe-3503-4626-9244-9fe29d90d7e5' title='Show/Hide attributes'><svg class='icon xr-icon-file-text2'><use xlink:href='#icon-file-text2'></use></svg></label><input id='data-ad250f42-2ed1-44f8-8471-4284603e7672' class='xr-var-data-in' type='checkbox'><label for='data-ad250f42-2ed1-44f8-8471-4284603e7672' title='Show/Hide data repr'><svg class='icon xr-icon-database'><use xlink:href='#icon-database'></use></svg></label><div class='xr-var-attrs'><dl class='xr-attrs'><dt><span>units :</span></dt><dd>s-2</dd><dt><span>long_name :</span></dt><dd>difference of scatterometer and model variances of divergence of stress-equivalent wind at 10 m</dd><dt><span>standard_name :</span></dt><dd>divergence_of_wind_difference_of_variances</dd><dt><span>valid_min :</span></dt><dd>-5000000</dd><dt><span>valid_max :</span></dt><dd>5000000</dd></dl></div><div class='xr-var-data'><pre>[4147200 values with dtype=float64]</pre></div></li><li class='xr-var-item'><div class='xr-var-name'><span>wind_curl</span></div><div class='xr-var-dims'>(time, lat, lon)</div><div class='xr-var-dtype'>float64</div><div class='xr-var-preview xr-preview'>...</div><input id='attrs-54142abe-9858-4e0b-b279-1b83c0bf696d' class='xr-var-attrs-in' type='checkbox' ><label for='attrs-54142abe-9858-4e0b-b279-1b83c0bf696d' title='Show/Hide attributes'><svg class='icon xr-icon-file-text2'><use xlink:href='#icon-file-text2'></use></svg></label><input id='data-388db77d-a189-4932-9bb0-da62b14b4a0e' class='xr-var-data-in' type='checkbox'><label for='data-388db77d-a189-4932-9bb0-da62b14b4a0e' title='Show/Hide data repr'><svg class='icon xr-icon-database'><use xlink:href='#icon-database'></use></svg></label><div class='xr-var-attrs'><dl class='xr-attrs'><dt><span>units :</span></dt><dd>s-1</dd><dt><span>long_name :</span></dt><dd>curl of stress-equivalent wind at 10 m</dd><dt><span>standard_name :</span></dt><dd>atmosphere_relative_vorticity</dd><dt><span>valid_min :</span></dt><dd>-5000000</dd><dt><span>valid_max :</span></dt><dd>5000000</dd></dl></div><div class='xr-var-data'><pre>[4147200 values with dtype=float64]</pre></div></li><li class='xr-var-item'><div class='xr-var-name'><span>wind_curl_bias</span></div><div class='xr-var-dims'>(time, lat, lon)</div><div class='xr-var-dtype'>float64</div><div class='xr-var-preview xr-preview'>...</div><input id='attrs-e123a3ef-5b1c-43aa-a341-375848ad5fa1' class='xr-var-attrs-in' type='checkbox' ><label for='attrs-e123a3ef-5b1c-43aa-a341-375848ad5fa1' title='Show/Hide attributes'><svg class='icon xr-icon-file-text2'><use xlink:href='#icon-file-text2'></use></svg></label><input id='data-596eb1da-6332-41a2-88e6-b75042aedd76' class='xr-var-data-in' type='checkbox'><label for='data-596eb1da-6332-41a2-88e6-b75042aedd76' title='Show/Hide data repr'><svg class='icon xr-icon-database'><use xlink:href='#icon-database'></use></svg></label><div class='xr-var-attrs'><dl class='xr-attrs'><dt><span>units :</span></dt><dd>s-1</dd><dt><span>long_name :</span></dt><dd>scatterometer-model bias of curl of stress-equivalent wind at 10 m</dd><dt><span>standard_name :</span></dt><dd>atmosphere_relative_vorticity_bias</dd><dt><span>valid_min :</span></dt><dd>-5000000</dd><dt><span>valid_max :</span></dt><dd>5000000</dd></dl></div><div class='xr-var-data'><pre>[4147200 values with dtype=float64]</pre></div></li><li class='xr-var-item'><div class='xr-var-name'><span>wind_curl_dv</span></div><div class='xr-var-dims'>(time, lat, lon)</div><div class='xr-var-dtype'>float64</div><div class='xr-var-preview xr-preview'>...</div><input id='attrs-7604b221-f7ce-4f70-b8b9-a9730851880a' class='xr-var-attrs-in' type='checkbox' ><label for='attrs-7604b221-f7ce-4f70-b8b9-a9730851880a' title='Show/Hide attributes'><svg class='icon xr-icon-file-text2'><use xlink:href='#icon-file-text2'></use></svg></label><input id='data-3e186f82-5ea0-4957-abdf-10d69f720331' class='xr-var-data-in' type='checkbox'><label for='data-3e186f82-5ea0-4957-abdf-10d69f720331' title='Show/Hide data repr'><svg class='icon xr-icon-database'><use xlink:href='#icon-database'></use></svg></label><div class='xr-var-attrs'><dl class='xr-attrs'><dt><span>units :</span></dt><dd>s-2</dd><dt><span>long_name :</span></dt><dd>difference of scatterometer and model variances of curl of stress-equivalent wind at 10 m</dd><dt><span>standard_name :</span></dt><dd>atmosphere_relative_vorticity_difference_of_variances</dd><dt><span>valid_min :</span></dt><dd>-5000000</dd><dt><span>valid_max :</span></dt><dd>5000000</dd></dl></div><div class='xr-var-data'><pre>[4147200 values with dtype=float64]</pre></div></li><li class='xr-var-item'><div class='xr-var-name'><span>eastward_stress</span></div><div class='xr-var-dims'>(time, lat, lon)</div><div class='xr-var-dtype'>float64</div><div class='xr-var-preview xr-preview'>...</div><input id='attrs-b78ccc07-90fe-49ba-b64a-66aee6fe9d13' class='xr-var-attrs-in' type='checkbox' ><label for='attrs-b78ccc07-90fe-49ba-b64a-66aee6fe9d13' title='Show/Hide attributes'><svg class='icon xr-icon-file-text2'><use xlink:href='#icon-file-text2'></use></svg></label><input id='data-d729d956-af63-4d0a-9145-363aac875e02' class='xr-var-data-in' type='checkbox'><label for='data-d729d956-af63-4d0a-9145-363aac875e02' title='Show/Hide data repr'><svg class='icon xr-icon-database'><use xlink:href='#icon-database'></use></svg></label><div class='xr-var-attrs'><dl class='xr-attrs'><dt><span>units :</span></dt><dd>N m-2</dd><dt><span>long_name :</span></dt><dd>surface wind stress eastward component</dd><dt><span>standard_name :</span></dt><dd>surface_downward_eastward_stress</dd><dt><span>valid_min :</span></dt><dd>-5000</dd><dt><span>valid_max :</span></dt><dd>5000</dd></dl></div><div class='xr-var-data'><pre>[4147200 values with dtype=float64]</pre></div></li><li class='xr-var-item'><div class='xr-var-name'><span>eastward_stress_bias</span></div><div class='xr-var-dims'>(time, lat, lon)</div><div class='xr-var-dtype'>float64</div><div class='xr-var-preview xr-preview'>...</div><input id='attrs-f0ae4074-670c-41d5-8123-3e8382fe50dc' class='xr-var-attrs-in' type='checkbox' ><label for='attrs-f0ae4074-670c-41d5-8123-3e8382fe50dc' title='Show/Hide attributes'><svg class='icon xr-icon-file-text2'><use xlink:href='#icon-file-text2'></use></svg></label><input id='data-a144dc17-652e-4dad-98b1-5364a52d5ac2' class='xr-var-data-in' type='checkbox'><label for='data-a144dc17-652e-4dad-98b1-5364a52d5ac2' title='Show/Hide data repr'><svg class='icon xr-icon-database'><use xlink:href='#icon-database'></use></svg></label><div class='xr-var-attrs'><dl class='xr-attrs'><dt><span>units :</span></dt><dd>N m-2</dd><dt><span>long_name :</span></dt><dd>scatterometer-model bias of surface wind stress eastward component</dd><dt><span>standard_name :</span></dt><dd>surface_downward_eastward_stress_bias</dd><dt><span>valid_min :</span></dt><dd>-5000</dd><dt><span>valid_max :</span></dt><dd>5000</dd></dl></div><div class='xr-var-data'><pre>[4147200 values with dtype=float64]</pre></div></li><li class='xr-var-item'><div class='xr-var-name'><span>eastward_stress_sdd</span></div><div class='xr-var-dims'>(time, lat, lon)</div><div class='xr-var-dtype'>float64</div><div class='xr-var-preview xr-preview'>...</div><input id='attrs-9b0d91fc-4b19-4e18-bd76-3ac5f7bfd693' class='xr-var-attrs-in' type='checkbox' ><label for='attrs-9b0d91fc-4b19-4e18-bd76-3ac5f7bfd693' title='Show/Hide attributes'><svg class='icon xr-icon-file-text2'><use xlink:href='#icon-file-text2'></use></svg></label><input id='data-1ab94531-debb-439b-a722-2a3c6199ae95' class='xr-var-data-in' type='checkbox'><label for='data-1ab94531-debb-439b-a722-2a3c6199ae95' title='Show/Hide data repr'><svg class='icon xr-icon-database'><use xlink:href='#icon-database'></use></svg></label><div class='xr-var-attrs'><dl class='xr-attrs'><dt><span>units :</span></dt><dd>N m-2</dd><dt><span>long_name :</span></dt><dd>standard deviation of differences of surface wind stress eastward component</dd><dt><span>standard_name :</span></dt><dd>surface_downward_eastward_stress_standard_deviation_of_differences</dd><dt><span>valid_min :</span></dt><dd>-5000</dd><dt><span>valid_max :</span></dt><dd>5000</dd></dl></div><div class='xr-var-data'><pre>[4147200 values with dtype=float64]</pre></div></li><li class='xr-var-item'><div class='xr-var-name'><span>northward_stress</span></div><div class='xr-var-dims'>(time, lat, lon)</div><div class='xr-var-dtype'>float64</div><div class='xr-var-preview xr-preview'>...</div><input id='attrs-b3ab728c-9a5d-46a0-8699-efaf99bf54ef' class='xr-var-attrs-in' type='checkbox' ><label for='attrs-b3ab728c-9a5d-46a0-8699-efaf99bf54ef' title='Show/Hide attributes'><svg class='icon xr-icon-file-text2'><use xlink:href='#icon-file-text2'></use></svg></label><input id='data-628d8dae-6f7c-4858-83e2-df3a021a4311' class='xr-var-data-in' type='checkbox'><label for='data-628d8dae-6f7c-4858-83e2-df3a021a4311' title='Show/Hide data repr'><svg class='icon xr-icon-database'><use xlink:href='#icon-database'></use></svg></label><div class='xr-var-attrs'><dl class='xr-attrs'><dt><span>units :</span></dt><dd>N m-2</dd><dt><span>long_name :</span></dt><dd>surface wind stress northward component</dd><dt><span>standard_name :</span></dt><dd>surface_downward_northward_stress</dd><dt><span>valid_min :</span></dt><dd>-5000</dd><dt><span>valid_max :</span></dt><dd>5000</dd></dl></div><div class='xr-var-data'><pre>[4147200 values with dtype=float64]</pre></div></li><li class='xr-var-item'><div class='xr-var-name'><span>northward_stress_bias</span></div><div class='xr-var-dims'>(time, lat, lon)</div><div class='xr-var-dtype'>float64</div><div class='xr-var-preview xr-preview'>...</div><input id='attrs-f79cccac-b26e-486f-845f-1af6f79a8150' class='xr-var-attrs-in' type='checkbox' ><label for='attrs-f79cccac-b26e-486f-845f-1af6f79a8150' title='Show/Hide attributes'><svg class='icon xr-icon-file-text2'><use xlink:href='#icon-file-text2'></use></svg></label><input id='data-a87c7b80-118b-4eb7-bf13-a99d48ac0471' class='xr-var-data-in' type='checkbox'><label for='data-a87c7b80-118b-4eb7-bf13-a99d48ac0471' title='Show/Hide data repr'><svg class='icon xr-icon-database'><use xlink:href='#icon-database'></use></svg></label><div class='xr-var-attrs'><dl class='xr-attrs'><dt><span>units :</span></dt><dd>N m-2</dd><dt><span>long_name :</span></dt><dd>scatterometer-model bias of surface wind stress northward component</dd><dt><span>standard_name :</span></dt><dd>surface_downward_northward_stress_bias</dd><dt><span>valid_min :</span></dt><dd>-5000</dd><dt><span>valid_max :</span></dt><dd>5000</dd></dl></div><div class='xr-var-data'><pre>[4147200 values with dtype=float64]</pre></div></li><li class='xr-var-item'><div class='xr-var-name'><span>northward_stress_sdd</span></div><div class='xr-var-dims'>(time, lat, lon)</div><div class='xr-var-dtype'>float64</div><div class='xr-var-preview xr-preview'>...</div><input id='attrs-713c5102-77c5-45cb-88d0-ce767722c2eb' class='xr-var-attrs-in' type='checkbox' ><label for='attrs-713c5102-77c5-45cb-88d0-ce767722c2eb' title='Show/Hide attributes'><svg class='icon xr-icon-file-text2'><use xlink:href='#icon-file-text2'></use></svg></label><input id='data-6e11360a-6d6d-431f-b108-9577f5ea1076' class='xr-var-data-in' type='checkbox'><label for='data-6e11360a-6d6d-431f-b108-9577f5ea1076' title='Show/Hide data repr'><svg class='icon xr-icon-database'><use xlink:href='#icon-database'></use></svg></label><div class='xr-var-attrs'><dl class='xr-attrs'><dt><span>units :</span></dt><dd>N m-2</dd><dt><span>long_name :</span></dt><dd>standard deviation of differences of surface wind stress northward component</dd><dt><span>standard_name :</span></dt><dd>surface_downward_northward_stress_standard_deviation_of_differences</dd><dt><span>valid_min :</span></dt><dd>-5000</dd><dt><span>valid_max :</span></dt><dd>5000</dd></dl></div><div class='xr-var-data'><pre>[4147200 values with dtype=float64]</pre></div></li><li class='xr-var-item'><div class='xr-var-name'><span>stress_divergence</span></div><div class='xr-var-dims'>(time, lat, lon)</div><div class='xr-var-dtype'>float64</div><div class='xr-var-preview xr-preview'>...</div><input id='attrs-86eed08f-8c65-4649-945e-d65f49b4d395' class='xr-var-attrs-in' type='checkbox' ><label for='attrs-86eed08f-8c65-4649-945e-d65f49b4d395' title='Show/Hide attributes'><svg class='icon xr-icon-file-text2'><use xlink:href='#icon-file-text2'></use></svg></label><input id='data-1670c868-1230-4129-ae8a-4ec13559e9e1' class='xr-var-data-in' type='checkbox'><label for='data-1670c868-1230-4129-ae8a-4ec13559e9e1' title='Show/Hide data repr'><svg class='icon xr-icon-database'><use xlink:href='#icon-database'></use></svg></label><div class='xr-var-attrs'><dl class='xr-attrs'><dt><span>units :</span></dt><dd>N m-3</dd><dt><span>long_name :</span></dt><dd>divergence of surface wind stress</dd><dt><span>standard_name :</span></dt><dd>divergence_of_surface_downward_stress</dd><dt><span>valid_min :</span></dt><dd>-500000000</dd><dt><span>valid_max :</span></dt><dd>500000000</dd></dl></div><div class='xr-var-data'><pre>[4147200 values with dtype=float64]</pre></div></li><li class='xr-var-item'><div class='xr-var-name'><span>stress_divergence_bias</span></div><div class='xr-var-dims'>(time, lat, lon)</div><div class='xr-var-dtype'>float64</div><div class='xr-var-preview xr-preview'>...</div><input id='attrs-7c7e49cb-e5f1-4551-9b5b-5d874f0fa79d' class='xr-var-attrs-in' type='checkbox' ><label for='attrs-7c7e49cb-e5f1-4551-9b5b-5d874f0fa79d' title='Show/Hide attributes'><svg class='icon xr-icon-file-text2'><use xlink:href='#icon-file-text2'></use></svg></label><input id='data-5d470afb-bb6a-42b1-9373-adfe6856a9ec' class='xr-var-data-in' type='checkbox'><label for='data-5d470afb-bb6a-42b1-9373-adfe6856a9ec' title='Show/Hide data repr'><svg class='icon xr-icon-database'><use xlink:href='#icon-database'></use></svg></label><div class='xr-var-attrs'><dl class='xr-attrs'><dt><span>units :</span></dt><dd>N m-3</dd><dt><span>long_name :</span></dt><dd>scatterometer-model bias of divergence of surface wind stress</dd><dt><span>standard_name :</span></dt><dd>divergence_of_surface_downward_stress_bias</dd><dt><span>valid_min :</span></dt><dd>-500000000</dd><dt><span>valid_max :</span></dt><dd>500000000</dd></dl></div><div class='xr-var-data'><pre>[4147200 values with dtype=float64]</pre></div></li><li class='xr-var-item'><div class='xr-var-name'><span>stress_divergence_dv</span></div><div class='xr-var-dims'>(time, lat, lon)</div><div class='xr-var-dtype'>float64</div><div class='xr-var-preview xr-preview'>...</div><input id='attrs-07e6f4ad-f0fb-451a-824b-59c60fd1f67e' class='xr-var-attrs-in' type='checkbox' ><label for='attrs-07e6f4ad-f0fb-451a-824b-59c60fd1f67e' title='Show/Hide attributes'><svg class='icon xr-icon-file-text2'><use xlink:href='#icon-file-text2'></use></svg></label><input id='data-d7cfbde3-9ffa-47dc-8749-4d29a808ff27' class='xr-var-data-in' type='checkbox'><label for='data-d7cfbde3-9ffa-47dc-8749-4d29a808ff27' title='Show/Hide data repr'><svg class='icon xr-icon-database'><use xlink:href='#icon-database'></use></svg></label><div class='xr-var-attrs'><dl class='xr-attrs'><dt><span>units :</span></dt><dd>N2 m-6</dd><dt><span>long_name :</span></dt><dd>difference of scatterometer and model variances of divergence of surface wind stress</dd><dt><span>standard_name :</span></dt><dd>divergence_of_surface_downward_stress_difference_of_variances</dd><dt><span>valid_min :</span></dt><dd>-500000000</dd><dt><span>valid_max :</span></dt><dd>500000000</dd></dl></div><div class='xr-var-data'><pre>[4147200 values with dtype=float64]</pre></div></li><li class='xr-var-item'><div class='xr-var-name'><span>stress_curl</span></div><div class='xr-var-dims'>(time, lat, lon)</div><div class='xr-var-dtype'>float64</div><div class='xr-var-preview xr-preview'>...</div><input id='attrs-48fb1e33-9d23-460f-9daf-cfa297b56bb5' class='xr-var-attrs-in' type='checkbox' ><label for='attrs-48fb1e33-9d23-460f-9daf-cfa297b56bb5' title='Show/Hide attributes'><svg class='icon xr-icon-file-text2'><use xlink:href='#icon-file-text2'></use></svg></label><input id='data-2240530b-60d9-4d85-a3fb-604946cd6039' class='xr-var-data-in' type='checkbox'><label for='data-2240530b-60d9-4d85-a3fb-604946cd6039' title='Show/Hide data repr'><svg class='icon xr-icon-database'><use xlink:href='#icon-database'></use></svg></label><div class='xr-var-attrs'><dl class='xr-attrs'><dt><span>units :</span></dt><dd>N m-3</dd><dt><span>long_name :</span></dt><dd>curl of surface wind stress</dd><dt><span>standard_name :</span></dt><dd>vertical_component_of_surface_downward_stress_curl</dd><dt><span>valid_min :</span></dt><dd>-500000000</dd><dt><span>valid_max :</span></dt><dd>500000000</dd></dl></div><div class='xr-var-data'><pre>[4147200 values with dtype=float64]</pre></div></li><li class='xr-var-item'><div class='xr-var-name'><span>stress_curl_bias</span></div><div class='xr-var-dims'>(time, lat, lon)</div><div class='xr-var-dtype'>float64</div><div class='xr-var-preview xr-preview'>...</div><input id='attrs-006177af-9e00-49bf-928b-e501069c3d69' class='xr-var-attrs-in' type='checkbox' ><label for='attrs-006177af-9e00-49bf-928b-e501069c3d69' title='Show/Hide attributes'><svg class='icon xr-icon-file-text2'><use xlink:href='#icon-file-text2'></use></svg></label><input id='data-a31568dd-2f24-4de9-ac45-82ad7c49adc5' class='xr-var-data-in' type='checkbox'><label for='data-a31568dd-2f24-4de9-ac45-82ad7c49adc5' title='Show/Hide data repr'><svg class='icon xr-icon-database'><use xlink:href='#icon-database'></use></svg></label><div class='xr-var-attrs'><dl class='xr-attrs'><dt><span>units :</span></dt><dd>N m-3</dd><dt><span>long_name :</span></dt><dd>scatterometer-model bias of curl of surface wind stress</dd><dt><span>standard_name :</span></dt><dd>vertical_component_of_surface_downward_stress_curl_bias</dd><dt><span>valid_min :</span></dt><dd>-500000000</dd><dt><span>valid_max :</span></dt><dd>500000000</dd></dl></div><div class='xr-var-data'><pre>[4147200 values with dtype=float64]</pre></div></li><li class='xr-var-item'><div class='xr-var-name'><span>stress_curl_dv</span></div><div class='xr-var-dims'>(time, lat, lon)</div><div class='xr-var-dtype'>float64</div><div class='xr-var-preview xr-preview'>...</div><input id='attrs-a0186376-bf9d-47f5-9656-ca295a540c61' class='xr-var-attrs-in' type='checkbox' ><label for='attrs-a0186376-bf9d-47f5-9656-ca295a540c61' title='Show/Hide attributes'><svg class='icon xr-icon-file-text2'><use xlink:href='#icon-file-text2'></use></svg></label><input id='data-9283cb74-ed4d-476b-bcfb-6b2fa9e629ff' class='xr-var-data-in' type='checkbox'><label for='data-9283cb74-ed4d-476b-bcfb-6b2fa9e629ff' title='Show/Hide data repr'><svg class='icon xr-icon-database'><use xlink:href='#icon-database'></use></svg></label><div class='xr-var-attrs'><dl class='xr-attrs'><dt><span>units :</span></dt><dd>N2 m-6</dd><dt><span>long_name :</span></dt><dd>difference of scatterometer and model variances of curl of surface wind stress</dd><dt><span>standard_name :</span></dt><dd>vertical_component_of_surface_downward_stress_curl_difference_of_variances</dd><dt><span>valid_min :</span></dt><dd>-500000000</dd><dt><span>valid_max :</span></dt><dd>500000000</dd></dl></div><div class='xr-var-data'><pre>[4147200 values with dtype=float64]</pre></div></li><li class='xr-var-item'><div class='xr-var-name'><span>air_density</span></div><div class='xr-var-dims'>(time, lat, lon)</div><div class='xr-var-dtype'>float32</div><div class='xr-var-preview xr-preview'>...</div><input id='attrs-bbc1b514-aadb-4f8c-bebb-77ef4bb6734f' class='xr-var-attrs-in' type='checkbox' ><label for='attrs-bbc1b514-aadb-4f8c-bebb-77ef4bb6734f' title='Show/Hide attributes'><svg class='icon xr-icon-file-text2'><use xlink:href='#icon-file-text2'></use></svg></label><input id='data-b7864a24-718d-4874-a680-d868b1d393cb' class='xr-var-data-in' type='checkbox'><label for='data-b7864a24-718d-4874-a680-d868b1d393cb' title='Show/Hide data repr'><svg class='icon xr-icon-database'><use xlink:href='#icon-database'></use></svg></label><div class='xr-var-attrs'><dl class='xr-attrs'><dt><span>units :</span></dt><dd>kg m-3</dd><dt><span>long_name :</span></dt><dd>air density at 10 m</dd><dt><span>standard_name :</span></dt><dd>air_density</dd><dt><span>valid_min :</span></dt><dd>0</dd><dt><span>valid_max :</span></dt><dd>2000</dd><dt><span>source :</span></dt><dd>ECMWF Operational model</dd></dl></div><div class='xr-var-data'><pre>[4147200 values with dtype=float32]</pre></div></li><li class='xr-var-item'><div class='xr-var-name'><span>number_of_observations</span></div><div class='xr-var-dims'>(time, lat, lon)</div><div class='xr-var-dtype'>float32</div><div class='xr-var-preview xr-preview'>...</div><input id='attrs-4fdbddcf-3e5a-4d4e-8178-e6d33843e4b6' class='xr-var-attrs-in' type='checkbox' ><label for='attrs-4fdbddcf-3e5a-4d4e-8178-e6d33843e4b6' title='Show/Hide attributes'><svg class='icon xr-icon-file-text2'><use xlink:href='#icon-file-text2'></use></svg></label><input id='data-47c087b1-ac98-47bd-b63b-b0c6670ef673' class='xr-var-data-in' type='checkbox'><label for='data-47c087b1-ac98-47bd-b63b-b0c6670ef673' title='Show/Hide data repr'><svg class='icon xr-icon-database'><use xlink:href='#icon-database'></use></svg></label><div class='xr-var-attrs'><dl class='xr-attrs'><dt><span>units :</span></dt><dd>1</dd><dt><span>long_name :</span></dt><dd>number of observations used for scatterometer-model bias</dd><dt><span>standard_name :</span></dt><dd>number_of_observations</dd><dt><span>valid_min :</span></dt><dd>0</dd><dt><span>valid_max :</span></dt><dd>2000</dd></dl></div><div class='xr-var-data'><pre>[4147200 values with dtype=float32]</pre></div></li><li class='xr-var-item'><div class='xr-var-name'><span>number_of_observations_divcurl</span></div><div class='xr-var-dims'>(time, lat, lon)</div><div class='xr-var-dtype'>float32</div><div class='xr-var-preview xr-preview'>...</div><input id='attrs-5f5190d1-57fb-4b58-a461-1eac25a11a56' class='xr-var-attrs-in' type='checkbox' ><label for='attrs-5f5190d1-57fb-4b58-a461-1eac25a11a56' title='Show/Hide attributes'><svg class='icon xr-icon-file-text2'><use xlink:href='#icon-file-text2'></use></svg></label><input id='data-af5fbee6-c1c2-4c12-8119-e14a20f6925e' class='xr-var-data-in' type='checkbox'><label for='data-af5fbee6-c1c2-4c12-8119-e14a20f6925e' title='Show/Hide data repr'><svg class='icon xr-icon-database'><use xlink:href='#icon-database'></use></svg></label><div class='xr-var-attrs'><dl class='xr-attrs'><dt><span>units :</span></dt><dd>1</dd><dt><span>long_name :</span></dt><dd>number of observations used for scatterometer-model divergence and curl bias</dd><dt><span>standard_name :</span></dt><dd>number_of_observations</dd><dt><span>valid_min :</span></dt><dd>0</dd><dt><span>valid_max :</span></dt><dd>2000</dd></dl></div><div class='xr-var-data'><pre>[4147200 values with dtype=float32]</pre></div></li></ul></div></li><li class='xr-section-item'><input id='section-a2d921d1-8630-42a0-949a-38941c2fb171' class='xr-section-summary-in' type='checkbox'  ><label for='section-a2d921d1-8630-42a0-949a-38941c2fb171' class='xr-section-summary' >Indexes: <span>(3)</span></label><div class='xr-section-inline-details'></div><div class='xr-section-details'><ul class='xr-var-list'><li class='xr-var-item'><div class='xr-index-name'><div>time</div></div><div class='xr-index-preview'>PandasIndex</div><div></div><input id='index-ec4378ae-7ccf-4b75-ac95-1d77a3fe2a6b' class='xr-index-data-in' type='checkbox'/><label for='index-ec4378ae-7ccf-4b75-ac95-1d77a3fe2a6b' title='Show/Hide index repr'><svg class='icon xr-icon-database'><use xlink:href='#icon-database'></use></svg></label><div class='xr-index-data'><pre>PandasIndex(DatetimeIndex([&#x27;2022-09-01&#x27;], dtype=&#x27;datetime64[ns]&#x27;, name=&#x27;time&#x27;, freq=None))</pre></div></li><li class='xr-var-item'><div class='xr-index-name'><div>lat</div></div><div class='xr-index-preview'>PandasIndex</div><div></div><input id='index-0c6a8ede-5fe7-457b-bc8a-6c39bcca9090' class='xr-index-data-in' type='checkbox'/><label for='index-0c6a8ede-5fe7-457b-bc8a-6c39bcca9090' title='Show/Hide index repr'><svg class='icon xr-icon-database'><use xlink:href='#icon-database'></use></svg></label><div class='xr-index-data'><pre>PandasIndex(Index([-89.9375, -89.8125, -89.6875, -89.5625, -89.4375, -89.3125, -89.1875,\n",
       "       -89.0625, -88.9375, -88.8125,\n",
       "       ...\n",
       "        88.8125,  88.9375,  89.0625,  89.1875,  89.3125,  89.4375,  89.5625,\n",
       "        89.6875,  89.8125,  89.9375],\n",
       "      dtype=&#x27;float32&#x27;, name=&#x27;lat&#x27;, length=1440))</pre></div></li><li class='xr-var-item'><div class='xr-index-name'><div>lon</div></div><div class='xr-index-preview'>PandasIndex</div><div></div><input id='index-92abdc13-7694-4bbe-a817-4a93cb39ce98' class='xr-index-data-in' type='checkbox'/><label for='index-92abdc13-7694-4bbe-a817-4a93cb39ce98' title='Show/Hide index repr'><svg class='icon xr-icon-database'><use xlink:href='#icon-database'></use></svg></label><div class='xr-index-data'><pre>PandasIndex(Index([-179.9375, -179.8125, -179.6875, -179.5625, -179.4375, -179.3125,\n",
       "       -179.1875, -179.0625, -178.9375, -178.8125,\n",
       "       ...\n",
       "        178.8125,  178.9375,  179.0625,  179.1875,  179.3125,  179.4375,\n",
       "        179.5625,  179.6875,  179.8125,  179.9375],\n",
       "      dtype=&#x27;float32&#x27;, name=&#x27;lon&#x27;, length=2880))</pre></div></li></ul></div></li><li class='xr-section-item'><input id='section-9d97f759-051f-42d8-83ae-f7f081fd0b23' class='xr-section-summary-in' type='checkbox'  ><label for='section-9d97f759-051f-42d8-83ae-f7f081fd0b23' class='xr-section-summary' >Attributes: <span>(26)</span></label><div class='xr-section-inline-details'></div><div class='xr-section-details'><dl class='xr-attrs'><dt><span>title :</span></dt><dd> Global Ocean - Wind and Stress - Hourly - From Scatterometer and Model</dd><dt><span>summary :</span></dt><dd>Global ocean 10-m stress-equivalent wind and surface wind stress fields based on the ECMWF operational model winds, bias-corrected using scatterometer observations</dd><dt><span>keywords :</span></dt><dd>ocean winds, wind speed, wind direction, wind stress, divergence, vorticity</dd><dt><span>Conventions :</span></dt><dd>CF-1.6, ACDD-1.3</dd><dt><span>project :</span></dt><dd>Copernicus Marine Service Wind Thematic Assembly Centre</dd><dt><span>institution :</span></dt><dd>Royal Netherlands Meteorological Institute (KNMI)</dd><dt><span>geospatial_lat_min :</span></dt><dd>-89.9375</dd><dt><span>geospatial_lat_max :</span></dt><dd>89.9375</dd><dt><span>geospatial_lat_resolution :</span></dt><dd>0.125</dd><dt><span>geospatial_lat_units :</span></dt><dd>degrees_north</dd><dt><span>geospatial_lon_min :</span></dt><dd>-179.9375</dd><dt><span>geospatial_lon_max :</span></dt><dd>179.9375</dd><dt><span>geospatial_lon_resolution :</span></dt><dd>0.125</dd><dt><span>geospatial_lon_units :</span></dt><dd>degrees_east</dd><dt><span>processing_level :</span></dt><dd>L4</dd><dt><span>platform :</span></dt><dd>Metop-B, Metop-C</dd><dt><span>platform_vocabulary :</span></dt><dd>CEOS</dd><dt><span>instrument :</span></dt><dd>ASCAT, ASCAT</dd><dt><span>instrument_vocabulary :</span></dt><dd>CEOS</dd><dt><span>model :</span></dt><dd>ECMWF Operational model</dd><dt><span>time_coverage_start :</span></dt><dd>2022-09-01T00:00:00</dd><dt><span>time_coverage_end :</span></dt><dd>2022-09-01T00:00:00</dd><dt><span>references :</span></dt><dd>Copernicus Marine Service Product User Manual CMEMS-TAC-WIND-PUM-012-004, Trindade et al. (2020) doi:10.1109/TGRS.2019.2946019</dd><dt><span>history :</span></dt><dd>N/A</dd><dt><span>date_created :</span></dt><dd>2022-09-02T10:31:44</dd><dt><span>date_modified :</span></dt><dd>2022-09-02T10:31:44</dd></dl></div></li></ul></div></div>"
      ],
      "text/plain": [
       "<xarray.Dataset>\n",
       "Dimensions:                         (time: 1, lat: 1440, lon: 2880)\n",
       "Coordinates:\n",
       "  * time                            (time) datetime64[ns] 2022-09-01\n",
       "  * lat                             (lat) float32 -89.94 -89.81 ... 89.81 89.94\n",
       "  * lon                             (lon) float32 -179.9 -179.8 ... 179.8 179.9\n",
       "Data variables: (12/27)\n",
       "    eastward_wind                   (time, lat, lon) float32 ...\n",
       "    eastward_wind_bias              (time, lat, lon) float32 ...\n",
       "    eastward_wind_sdd               (time, lat, lon) float32 ...\n",
       "    northward_wind                  (time, lat, lon) float32 ...\n",
       "    northward_wind_bias             (time, lat, lon) float32 ...\n",
       "    northward_wind_sdd              (time, lat, lon) float32 ...\n",
       "    ...                              ...\n",
       "    stress_curl                     (time, lat, lon) float64 ...\n",
       "    stress_curl_bias                (time, lat, lon) float64 ...\n",
       "    stress_curl_dv                  (time, lat, lon) float64 ...\n",
       "    air_density                     (time, lat, lon) float32 ...\n",
       "    number_of_observations          (time, lat, lon) float32 ...\n",
       "    number_of_observations_divcurl  (time, lat, lon) float32 ...\n",
       "Attributes: (12/26)\n",
       "    title:                       Global Ocean - Wind and Stress - Hourly - Fr...\n",
       "    summary:                    Global ocean 10-m stress-equivalent wind and ...\n",
       "    keywords:                   ocean winds, wind speed, wind direction, wind...\n",
       "    Conventions:                CF-1.6, ACDD-1.3\n",
       "    project:                    Copernicus Marine Service Wind Thematic Assem...\n",
       "    institution:                Royal Netherlands Meteorological Institute (K...\n",
       "    ...                         ...\n",
       "    time_coverage_start:        2022-09-01T00:00:00\n",
       "    time_coverage_end:          2022-09-01T00:00:00\n",
       "    references:                 Copernicus Marine Service Product User Manual...\n",
       "    history:                    N/A\n",
       "    date_created:               2022-09-02T10:31:44\n",
       "    date_modified:              2022-09-02T10:31:44"
      ]
     },
     "execution_count": 30,
     "metadata": {},
     "output_type": "execute_result"
    }
   ],
   "source": [
    "ds"
   ]
  },
  {
   "cell_type": "code",
   "execution_count": 34,
   "id": "1321db31-8a0a-4fe3-83d9-93e706db74a0",
   "metadata": {
    "tags": []
   },
   "outputs": [],
   "source": [
    "lat_bnds, lon_bnds = [53, 66], [10, 30]\n",
    "baltic_sea_subset=ds.sel(lat=slice(*lat_bnds), lon=slice(*lon_bnds))"
   ]
  },
  {
   "cell_type": "code",
   "execution_count": 35,
   "id": "683c868e-a36e-4bac-b143-226374cdf5c2",
   "metadata": {
    "tags": []
   },
   "outputs": [
    {
     "data": {
      "text/html": [
       "<div><svg style=\"position: absolute; width: 0; height: 0; overflow: hidden\">\n",
       "<defs>\n",
       "<symbol id=\"icon-database\" viewBox=\"0 0 32 32\">\n",
       "<path d=\"M16 0c-8.837 0-16 2.239-16 5v4c0 2.761 7.163 5 16 5s16-2.239 16-5v-4c0-2.761-7.163-5-16-5z\"></path>\n",
       "<path d=\"M16 17c-8.837 0-16-2.239-16-5v6c0 2.761 7.163 5 16 5s16-2.239 16-5v-6c0 2.761-7.163 5-16 5z\"></path>\n",
       "<path d=\"M16 26c-8.837 0-16-2.239-16-5v6c0 2.761 7.163 5 16 5s16-2.239 16-5v-6c0 2.761-7.163 5-16 5z\"></path>\n",
       "</symbol>\n",
       "<symbol id=\"icon-file-text2\" viewBox=\"0 0 32 32\">\n",
       "<path d=\"M28.681 7.159c-0.694-0.947-1.662-2.053-2.724-3.116s-2.169-2.030-3.116-2.724c-1.612-1.182-2.393-1.319-2.841-1.319h-15.5c-1.378 0-2.5 1.121-2.5 2.5v27c0 1.378 1.122 2.5 2.5 2.5h23c1.378 0 2.5-1.122 2.5-2.5v-19.5c0-0.448-0.137-1.23-1.319-2.841zM24.543 5.457c0.959 0.959 1.712 1.825 2.268 2.543h-4.811v-4.811c0.718 0.556 1.584 1.309 2.543 2.268zM28 29.5c0 0.271-0.229 0.5-0.5 0.5h-23c-0.271 0-0.5-0.229-0.5-0.5v-27c0-0.271 0.229-0.5 0.5-0.5 0 0 15.499-0 15.5 0v7c0 0.552 0.448 1 1 1h7v19.5z\"></path>\n",
       "<path d=\"M23 26h-14c-0.552 0-1-0.448-1-1s0.448-1 1-1h14c0.552 0 1 0.448 1 1s-0.448 1-1 1z\"></path>\n",
       "<path d=\"M23 22h-14c-0.552 0-1-0.448-1-1s0.448-1 1-1h14c0.552 0 1 0.448 1 1s-0.448 1-1 1z\"></path>\n",
       "<path d=\"M23 18h-14c-0.552 0-1-0.448-1-1s0.448-1 1-1h14c0.552 0 1 0.448 1 1s-0.448 1-1 1z\"></path>\n",
       "</symbol>\n",
       "</defs>\n",
       "</svg>\n",
       "<style>/* CSS stylesheet for displaying xarray objects in jupyterlab.\n",
       " *\n",
       " */\n",
       "\n",
       ":root {\n",
       "  --xr-font-color0: var(--jp-content-font-color0, rgba(0, 0, 0, 1));\n",
       "  --xr-font-color2: var(--jp-content-font-color2, rgba(0, 0, 0, 0.54));\n",
       "  --xr-font-color3: var(--jp-content-font-color3, rgba(0, 0, 0, 0.38));\n",
       "  --xr-border-color: var(--jp-border-color2, #e0e0e0);\n",
       "  --xr-disabled-color: var(--jp-layout-color3, #bdbdbd);\n",
       "  --xr-background-color: var(--jp-layout-color0, white);\n",
       "  --xr-background-color-row-even: var(--jp-layout-color1, white);\n",
       "  --xr-background-color-row-odd: var(--jp-layout-color2, #eeeeee);\n",
       "}\n",
       "\n",
       "html[theme=dark],\n",
       "body[data-theme=dark],\n",
       "body.vscode-dark {\n",
       "  --xr-font-color0: rgba(255, 255, 255, 1);\n",
       "  --xr-font-color2: rgba(255, 255, 255, 0.54);\n",
       "  --xr-font-color3: rgba(255, 255, 255, 0.38);\n",
       "  --xr-border-color: #1F1F1F;\n",
       "  --xr-disabled-color: #515151;\n",
       "  --xr-background-color: #111111;\n",
       "  --xr-background-color-row-even: #111111;\n",
       "  --xr-background-color-row-odd: #313131;\n",
       "}\n",
       "\n",
       ".xr-wrap {\n",
       "  display: block !important;\n",
       "  min-width: 300px;\n",
       "  max-width: 700px;\n",
       "}\n",
       "\n",
       ".xr-text-repr-fallback {\n",
       "  /* fallback to plain text repr when CSS is not injected (untrusted notebook) */\n",
       "  display: none;\n",
       "}\n",
       "\n",
       ".xr-header {\n",
       "  padding-top: 6px;\n",
       "  padding-bottom: 6px;\n",
       "  margin-bottom: 4px;\n",
       "  border-bottom: solid 1px var(--xr-border-color);\n",
       "}\n",
       "\n",
       ".xr-header > div,\n",
       ".xr-header > ul {\n",
       "  display: inline;\n",
       "  margin-top: 0;\n",
       "  margin-bottom: 0;\n",
       "}\n",
       "\n",
       ".xr-obj-type,\n",
       ".xr-array-name {\n",
       "  margin-left: 2px;\n",
       "  margin-right: 10px;\n",
       "}\n",
       "\n",
       ".xr-obj-type {\n",
       "  color: var(--xr-font-color2);\n",
       "}\n",
       "\n",
       ".xr-sections {\n",
       "  padding-left: 0 !important;\n",
       "  display: grid;\n",
       "  grid-template-columns: 150px auto auto 1fr 20px 20px;\n",
       "}\n",
       "\n",
       ".xr-section-item {\n",
       "  display: contents;\n",
       "}\n",
       "\n",
       ".xr-section-item input {\n",
       "  display: none;\n",
       "}\n",
       "\n",
       ".xr-section-item input + label {\n",
       "  color: var(--xr-disabled-color);\n",
       "}\n",
       "\n",
       ".xr-section-item input:enabled + label {\n",
       "  cursor: pointer;\n",
       "  color: var(--xr-font-color2);\n",
       "}\n",
       "\n",
       ".xr-section-item input:enabled + label:hover {\n",
       "  color: var(--xr-font-color0);\n",
       "}\n",
       "\n",
       ".xr-section-summary {\n",
       "  grid-column: 1;\n",
       "  color: var(--xr-font-color2);\n",
       "  font-weight: 500;\n",
       "}\n",
       "\n",
       ".xr-section-summary > span {\n",
       "  display: inline-block;\n",
       "  padding-left: 0.5em;\n",
       "}\n",
       "\n",
       ".xr-section-summary-in:disabled + label {\n",
       "  color: var(--xr-font-color2);\n",
       "}\n",
       "\n",
       ".xr-section-summary-in + label:before {\n",
       "  display: inline-block;\n",
       "  content: '►';\n",
       "  font-size: 11px;\n",
       "  width: 15px;\n",
       "  text-align: center;\n",
       "}\n",
       "\n",
       ".xr-section-summary-in:disabled + label:before {\n",
       "  color: var(--xr-disabled-color);\n",
       "}\n",
       "\n",
       ".xr-section-summary-in:checked + label:before {\n",
       "  content: '▼';\n",
       "}\n",
       "\n",
       ".xr-section-summary-in:checked + label > span {\n",
       "  display: none;\n",
       "}\n",
       "\n",
       ".xr-section-summary,\n",
       ".xr-section-inline-details {\n",
       "  padding-top: 4px;\n",
       "  padding-bottom: 4px;\n",
       "}\n",
       "\n",
       ".xr-section-inline-details {\n",
       "  grid-column: 2 / -1;\n",
       "}\n",
       "\n",
       ".xr-section-details {\n",
       "  display: none;\n",
       "  grid-column: 1 / -1;\n",
       "  margin-bottom: 5px;\n",
       "}\n",
       "\n",
       ".xr-section-summary-in:checked ~ .xr-section-details {\n",
       "  display: contents;\n",
       "}\n",
       "\n",
       ".xr-array-wrap {\n",
       "  grid-column: 1 / -1;\n",
       "  display: grid;\n",
       "  grid-template-columns: 20px auto;\n",
       "}\n",
       "\n",
       ".xr-array-wrap > label {\n",
       "  grid-column: 1;\n",
       "  vertical-align: top;\n",
       "}\n",
       "\n",
       ".xr-preview {\n",
       "  color: var(--xr-font-color3);\n",
       "}\n",
       "\n",
       ".xr-array-preview,\n",
       ".xr-array-data {\n",
       "  padding: 0 5px !important;\n",
       "  grid-column: 2;\n",
       "}\n",
       "\n",
       ".xr-array-data,\n",
       ".xr-array-in:checked ~ .xr-array-preview {\n",
       "  display: none;\n",
       "}\n",
       "\n",
       ".xr-array-in:checked ~ .xr-array-data,\n",
       ".xr-array-preview {\n",
       "  display: inline-block;\n",
       "}\n",
       "\n",
       ".xr-dim-list {\n",
       "  display: inline-block !important;\n",
       "  list-style: none;\n",
       "  padding: 0 !important;\n",
       "  margin: 0;\n",
       "}\n",
       "\n",
       ".xr-dim-list li {\n",
       "  display: inline-block;\n",
       "  padding: 0;\n",
       "  margin: 0;\n",
       "}\n",
       "\n",
       ".xr-dim-list:before {\n",
       "  content: '(';\n",
       "}\n",
       "\n",
       ".xr-dim-list:after {\n",
       "  content: ')';\n",
       "}\n",
       "\n",
       ".xr-dim-list li:not(:last-child):after {\n",
       "  content: ',';\n",
       "  padding-right: 5px;\n",
       "}\n",
       "\n",
       ".xr-has-index {\n",
       "  font-weight: bold;\n",
       "}\n",
       "\n",
       ".xr-var-list,\n",
       ".xr-var-item {\n",
       "  display: contents;\n",
       "}\n",
       "\n",
       ".xr-var-item > div,\n",
       ".xr-var-item label,\n",
       ".xr-var-item > .xr-var-name span {\n",
       "  background-color: var(--xr-background-color-row-even);\n",
       "  margin-bottom: 0;\n",
       "}\n",
       "\n",
       ".xr-var-item > .xr-var-name:hover span {\n",
       "  padding-right: 5px;\n",
       "}\n",
       "\n",
       ".xr-var-list > li:nth-child(odd) > div,\n",
       ".xr-var-list > li:nth-child(odd) > label,\n",
       ".xr-var-list > li:nth-child(odd) > .xr-var-name span {\n",
       "  background-color: var(--xr-background-color-row-odd);\n",
       "}\n",
       "\n",
       ".xr-var-name {\n",
       "  grid-column: 1;\n",
       "}\n",
       "\n",
       ".xr-var-dims {\n",
       "  grid-column: 2;\n",
       "}\n",
       "\n",
       ".xr-var-dtype {\n",
       "  grid-column: 3;\n",
       "  text-align: right;\n",
       "  color: var(--xr-font-color2);\n",
       "}\n",
       "\n",
       ".xr-var-preview {\n",
       "  grid-column: 4;\n",
       "}\n",
       "\n",
       ".xr-index-preview {\n",
       "  grid-column: 2 / 5;\n",
       "  color: var(--xr-font-color2);\n",
       "}\n",
       "\n",
       ".xr-var-name,\n",
       ".xr-var-dims,\n",
       ".xr-var-dtype,\n",
       ".xr-preview,\n",
       ".xr-attrs dt {\n",
       "  white-space: nowrap;\n",
       "  overflow: hidden;\n",
       "  text-overflow: ellipsis;\n",
       "  padding-right: 10px;\n",
       "}\n",
       "\n",
       ".xr-var-name:hover,\n",
       ".xr-var-dims:hover,\n",
       ".xr-var-dtype:hover,\n",
       ".xr-attrs dt:hover {\n",
       "  overflow: visible;\n",
       "  width: auto;\n",
       "  z-index: 1;\n",
       "}\n",
       "\n",
       ".xr-var-attrs,\n",
       ".xr-var-data,\n",
       ".xr-index-data {\n",
       "  display: none;\n",
       "  background-color: var(--xr-background-color) !important;\n",
       "  padding-bottom: 5px !important;\n",
       "}\n",
       "\n",
       ".xr-var-attrs-in:checked ~ .xr-var-attrs,\n",
       ".xr-var-data-in:checked ~ .xr-var-data,\n",
       ".xr-index-data-in:checked ~ .xr-index-data {\n",
       "  display: block;\n",
       "}\n",
       "\n",
       ".xr-var-data > table {\n",
       "  float: right;\n",
       "}\n",
       "\n",
       ".xr-var-name span,\n",
       ".xr-var-data,\n",
       ".xr-index-name div,\n",
       ".xr-index-data,\n",
       ".xr-attrs {\n",
       "  padding-left: 25px !important;\n",
       "}\n",
       "\n",
       ".xr-attrs,\n",
       ".xr-var-attrs,\n",
       ".xr-var-data,\n",
       ".xr-index-data {\n",
       "  grid-column: 1 / -1;\n",
       "}\n",
       "\n",
       "dl.xr-attrs {\n",
       "  padding: 0;\n",
       "  margin: 0;\n",
       "  display: grid;\n",
       "  grid-template-columns: 125px auto;\n",
       "}\n",
       "\n",
       ".xr-attrs dt,\n",
       ".xr-attrs dd {\n",
       "  padding: 0;\n",
       "  margin: 0;\n",
       "  float: left;\n",
       "  padding-right: 10px;\n",
       "  width: auto;\n",
       "}\n",
       "\n",
       ".xr-attrs dt {\n",
       "  font-weight: normal;\n",
       "  grid-column: 1;\n",
       "}\n",
       "\n",
       ".xr-attrs dt:hover span {\n",
       "  display: inline-block;\n",
       "  background: var(--xr-background-color);\n",
       "  padding-right: 10px;\n",
       "}\n",
       "\n",
       ".xr-attrs dd {\n",
       "  grid-column: 2;\n",
       "  white-space: pre-wrap;\n",
       "  word-break: break-all;\n",
       "}\n",
       "\n",
       ".xr-icon-database,\n",
       ".xr-icon-file-text2,\n",
       ".xr-no-icon {\n",
       "  display: inline-block;\n",
       "  vertical-align: middle;\n",
       "  width: 1em;\n",
       "  height: 1.5em !important;\n",
       "  stroke-width: 0;\n",
       "  stroke: currentColor;\n",
       "  fill: currentColor;\n",
       "}\n",
       "</style><pre class='xr-text-repr-fallback'>&lt;xarray.Dataset&gt;\n",
       "Dimensions:                         (time: 1, lat: 104, lon: 160)\n",
       "Coordinates:\n",
       "  * time                            (time) datetime64[ns] 2022-09-01\n",
       "  * lat                             (lat) float32 53.06 53.19 ... 65.81 65.94\n",
       "  * lon                             (lon) float32 10.06 10.19 ... 29.81 29.94\n",
       "Data variables: (12/27)\n",
       "    eastward_wind                   (time, lat, lon) float32 ...\n",
       "    eastward_wind_bias              (time, lat, lon) float32 ...\n",
       "    eastward_wind_sdd               (time, lat, lon) float32 ...\n",
       "    northward_wind                  (time, lat, lon) float32 ...\n",
       "    northward_wind_bias             (time, lat, lon) float32 ...\n",
       "    northward_wind_sdd              (time, lat, lon) float32 ...\n",
       "    ...                              ...\n",
       "    stress_curl                     (time, lat, lon) float64 ...\n",
       "    stress_curl_bias                (time, lat, lon) float64 ...\n",
       "    stress_curl_dv                  (time, lat, lon) float64 ...\n",
       "    air_density                     (time, lat, lon) float32 ...\n",
       "    number_of_observations          (time, lat, lon) float32 ...\n",
       "    number_of_observations_divcurl  (time, lat, lon) float32 ...\n",
       "Attributes: (12/26)\n",
       "    title:                       Global Ocean - Wind and Stress - Hourly - Fr...\n",
       "    summary:                    Global ocean 10-m stress-equivalent wind and ...\n",
       "    keywords:                   ocean winds, wind speed, wind direction, wind...\n",
       "    Conventions:                CF-1.6, ACDD-1.3\n",
       "    project:                    Copernicus Marine Service Wind Thematic Assem...\n",
       "    institution:                Royal Netherlands Meteorological Institute (K...\n",
       "    ...                         ...\n",
       "    time_coverage_start:        2022-09-01T00:00:00\n",
       "    time_coverage_end:          2022-09-01T00:00:00\n",
       "    references:                 Copernicus Marine Service Product User Manual...\n",
       "    history:                    N/A\n",
       "    date_created:               2022-09-02T10:31:44\n",
       "    date_modified:              2022-09-02T10:31:44</pre><div class='xr-wrap' style='display:none'><div class='xr-header'><div class='xr-obj-type'>xarray.Dataset</div></div><ul class='xr-sections'><li class='xr-section-item'><input id='section-bbb96699-9421-451c-8d2d-1b30818070ed' class='xr-section-summary-in' type='checkbox' disabled ><label for='section-bbb96699-9421-451c-8d2d-1b30818070ed' class='xr-section-summary'  title='Expand/collapse section'>Dimensions:</label><div class='xr-section-inline-details'><ul class='xr-dim-list'><li><span class='xr-has-index'>time</span>: 1</li><li><span class='xr-has-index'>lat</span>: 104</li><li><span class='xr-has-index'>lon</span>: 160</li></ul></div><div class='xr-section-details'></div></li><li class='xr-section-item'><input id='section-a73b647a-6862-4f63-b24f-316a9b7ec273' class='xr-section-summary-in' type='checkbox'  checked><label for='section-a73b647a-6862-4f63-b24f-316a9b7ec273' class='xr-section-summary' >Coordinates: <span>(3)</span></label><div class='xr-section-inline-details'></div><div class='xr-section-details'><ul class='xr-var-list'><li class='xr-var-item'><div class='xr-var-name'><span class='xr-has-index'>time</span></div><div class='xr-var-dims'>(time)</div><div class='xr-var-dtype'>datetime64[ns]</div><div class='xr-var-preview xr-preview'>2022-09-01</div><input id='attrs-51596834-ffe6-46cd-9a80-684ff5185376' class='xr-var-attrs-in' type='checkbox' ><label for='attrs-51596834-ffe6-46cd-9a80-684ff5185376' title='Show/Hide attributes'><svg class='icon xr-icon-file-text2'><use xlink:href='#icon-file-text2'></use></svg></label><input id='data-21c2d3bd-0a9d-4556-bca8-9fa8b8b8de0a' class='xr-var-data-in' type='checkbox'><label for='data-21c2d3bd-0a9d-4556-bca8-9fa8b8b8de0a' title='Show/Hide data repr'><svg class='icon xr-icon-database'><use xlink:href='#icon-database'></use></svg></label><div class='xr-var-attrs'><dl class='xr-attrs'><dt><span>axis :</span></dt><dd>T</dd><dt><span>long_name :</span></dt><dd>validity time</dd><dt><span>standard_name :</span></dt><dd>time</dd></dl></div><div class='xr-var-data'><pre>array([&#x27;2022-09-01T00:00:00.000000000&#x27;], dtype=&#x27;datetime64[ns]&#x27;)</pre></div></li><li class='xr-var-item'><div class='xr-var-name'><span class='xr-has-index'>lat</span></div><div class='xr-var-dims'>(lat)</div><div class='xr-var-dtype'>float32</div><div class='xr-var-preview xr-preview'>53.06 53.19 53.31 ... 65.81 65.94</div><input id='attrs-a528b1f0-78f5-4f98-a6e2-e1eaa22db9f6' class='xr-var-attrs-in' type='checkbox' ><label for='attrs-a528b1f0-78f5-4f98-a6e2-e1eaa22db9f6' title='Show/Hide attributes'><svg class='icon xr-icon-file-text2'><use xlink:href='#icon-file-text2'></use></svg></label><input id='data-264e53b4-5e94-4e6e-8827-d9a15deb677c' class='xr-var-data-in' type='checkbox'><label for='data-264e53b4-5e94-4e6e-8827-d9a15deb677c' title='Show/Hide data repr'><svg class='icon xr-icon-database'><use xlink:href='#icon-database'></use></svg></label><div class='xr-var-attrs'><dl class='xr-attrs'><dt><span>units :</span></dt><dd>degrees_north</dd><dt><span>axis :</span></dt><dd>Y</dd><dt><span>long_name :</span></dt><dd>latitude</dd><dt><span>standard_name :</span></dt><dd>latitude</dd><dt><span>valid_min :</span></dt><dd>-90.0</dd><dt><span>valid_max :</span></dt><dd>90.0</dd></dl></div><div class='xr-var-data'><pre>array([53.0625, 53.1875, 53.3125, 53.4375, 53.5625, 53.6875, 53.8125, 53.9375,\n",
       "       54.0625, 54.1875, 54.3125, 54.4375, 54.5625, 54.6875, 54.8125, 54.9375,\n",
       "       55.0625, 55.1875, 55.3125, 55.4375, 55.5625, 55.6875, 55.8125, 55.9375,\n",
       "       56.0625, 56.1875, 56.3125, 56.4375, 56.5625, 56.6875, 56.8125, 56.9375,\n",
       "       57.0625, 57.1875, 57.3125, 57.4375, 57.5625, 57.6875, 57.8125, 57.9375,\n",
       "       58.0625, 58.1875, 58.3125, 58.4375, 58.5625, 58.6875, 58.8125, 58.9375,\n",
       "       59.0625, 59.1875, 59.3125, 59.4375, 59.5625, 59.6875, 59.8125, 59.9375,\n",
       "       60.0625, 60.1875, 60.3125, 60.4375, 60.5625, 60.6875, 60.8125, 60.9375,\n",
       "       61.0625, 61.1875, 61.3125, 61.4375, 61.5625, 61.6875, 61.8125, 61.9375,\n",
       "       62.0625, 62.1875, 62.3125, 62.4375, 62.5625, 62.6875, 62.8125, 62.9375,\n",
       "       63.0625, 63.1875, 63.3125, 63.4375, 63.5625, 63.6875, 63.8125, 63.9375,\n",
       "       64.0625, 64.1875, 64.3125, 64.4375, 64.5625, 64.6875, 64.8125, 64.9375,\n",
       "       65.0625, 65.1875, 65.3125, 65.4375, 65.5625, 65.6875, 65.8125, 65.9375],\n",
       "      dtype=float32)</pre></div></li><li class='xr-var-item'><div class='xr-var-name'><span class='xr-has-index'>lon</span></div><div class='xr-var-dims'>(lon)</div><div class='xr-var-dtype'>float32</div><div class='xr-var-preview xr-preview'>10.06 10.19 10.31 ... 29.81 29.94</div><input id='attrs-1d8c2961-41d9-42a1-91d8-bf5a0c7d983f' class='xr-var-attrs-in' type='checkbox' ><label for='attrs-1d8c2961-41d9-42a1-91d8-bf5a0c7d983f' title='Show/Hide attributes'><svg class='icon xr-icon-file-text2'><use xlink:href='#icon-file-text2'></use></svg></label><input id='data-497b6582-a2b4-41df-a230-fba0f5943f54' class='xr-var-data-in' type='checkbox'><label for='data-497b6582-a2b4-41df-a230-fba0f5943f54' title='Show/Hide data repr'><svg class='icon xr-icon-database'><use xlink:href='#icon-database'></use></svg></label><div class='xr-var-attrs'><dl class='xr-attrs'><dt><span>units :</span></dt><dd>degrees_east</dd><dt><span>axis :</span></dt><dd>X</dd><dt><span>long_name :</span></dt><dd>longitude</dd><dt><span>standard_name :</span></dt><dd>longitude</dd><dt><span>valid_min :</span></dt><dd>-180.0</dd><dt><span>valid_max :</span></dt><dd>180.0</dd></dl></div><div class='xr-var-data'><pre>array([10.0625, 10.1875, 10.3125, 10.4375, 10.5625, 10.6875, 10.8125, 10.9375,\n",
       "       11.0625, 11.1875, 11.3125, 11.4375, 11.5625, 11.6875, 11.8125, 11.9375,\n",
       "       12.0625, 12.1875, 12.3125, 12.4375, 12.5625, 12.6875, 12.8125, 12.9375,\n",
       "       13.0625, 13.1875, 13.3125, 13.4375, 13.5625, 13.6875, 13.8125, 13.9375,\n",
       "       14.0625, 14.1875, 14.3125, 14.4375, 14.5625, 14.6875, 14.8125, 14.9375,\n",
       "       15.0625, 15.1875, 15.3125, 15.4375, 15.5625, 15.6875, 15.8125, 15.9375,\n",
       "       16.0625, 16.1875, 16.3125, 16.4375, 16.5625, 16.6875, 16.8125, 16.9375,\n",
       "       17.0625, 17.1875, 17.3125, 17.4375, 17.5625, 17.6875, 17.8125, 17.9375,\n",
       "       18.0625, 18.1875, 18.3125, 18.4375, 18.5625, 18.6875, 18.8125, 18.9375,\n",
       "       19.0625, 19.1875, 19.3125, 19.4375, 19.5625, 19.6875, 19.8125, 19.9375,\n",
       "       20.0625, 20.1875, 20.3125, 20.4375, 20.5625, 20.6875, 20.8125, 20.9375,\n",
       "       21.0625, 21.1875, 21.3125, 21.4375, 21.5625, 21.6875, 21.8125, 21.9375,\n",
       "       22.0625, 22.1875, 22.3125, 22.4375, 22.5625, 22.6875, 22.8125, 22.9375,\n",
       "       23.0625, 23.1875, 23.3125, 23.4375, 23.5625, 23.6875, 23.8125, 23.9375,\n",
       "       24.0625, 24.1875, 24.3125, 24.4375, 24.5625, 24.6875, 24.8125, 24.9375,\n",
       "       25.0625, 25.1875, 25.3125, 25.4375, 25.5625, 25.6875, 25.8125, 25.9375,\n",
       "       26.0625, 26.1875, 26.3125, 26.4375, 26.5625, 26.6875, 26.8125, 26.9375,\n",
       "       27.0625, 27.1875, 27.3125, 27.4375, 27.5625, 27.6875, 27.8125, 27.9375,\n",
       "       28.0625, 28.1875, 28.3125, 28.4375, 28.5625, 28.6875, 28.8125, 28.9375,\n",
       "       29.0625, 29.1875, 29.3125, 29.4375, 29.5625, 29.6875, 29.8125, 29.9375],\n",
       "      dtype=float32)</pre></div></li></ul></div></li><li class='xr-section-item'><input id='section-885e894e-ebd0-4ab9-a081-2dfc8d605243' class='xr-section-summary-in' type='checkbox'  ><label for='section-885e894e-ebd0-4ab9-a081-2dfc8d605243' class='xr-section-summary' >Data variables: <span>(27)</span></label><div class='xr-section-inline-details'></div><div class='xr-section-details'><ul class='xr-var-list'><li class='xr-var-item'><div class='xr-var-name'><span>eastward_wind</span></div><div class='xr-var-dims'>(time, lat, lon)</div><div class='xr-var-dtype'>float32</div><div class='xr-var-preview xr-preview'>...</div><input id='attrs-c3537b8b-f230-43df-ba5f-501aaf831d45' class='xr-var-attrs-in' type='checkbox' ><label for='attrs-c3537b8b-f230-43df-ba5f-501aaf831d45' title='Show/Hide attributes'><svg class='icon xr-icon-file-text2'><use xlink:href='#icon-file-text2'></use></svg></label><input id='data-8d261a96-e580-45cd-afc8-9b6e1ee09765' class='xr-var-data-in' type='checkbox'><label for='data-8d261a96-e580-45cd-afc8-9b6e1ee09765' title='Show/Hide data repr'><svg class='icon xr-icon-database'><use xlink:href='#icon-database'></use></svg></label><div class='xr-var-attrs'><dl class='xr-attrs'><dt><span>units :</span></dt><dd>m s-1</dd><dt><span>long_name :</span></dt><dd>stress-equivalent wind eastward component at 10 m</dd><dt><span>standard_name :</span></dt><dd>eastward_wind</dd><dt><span>valid_min :</span></dt><dd>-5000</dd><dt><span>valid_max :</span></dt><dd>5000</dd></dl></div><div class='xr-var-data'><pre>[16640 values with dtype=float32]</pre></div></li><li class='xr-var-item'><div class='xr-var-name'><span>eastward_wind_bias</span></div><div class='xr-var-dims'>(time, lat, lon)</div><div class='xr-var-dtype'>float32</div><div class='xr-var-preview xr-preview'>...</div><input id='attrs-b0995f2b-30fb-4679-83cf-7e0762e96d77' class='xr-var-attrs-in' type='checkbox' ><label for='attrs-b0995f2b-30fb-4679-83cf-7e0762e96d77' title='Show/Hide attributes'><svg class='icon xr-icon-file-text2'><use xlink:href='#icon-file-text2'></use></svg></label><input id='data-91e1144b-9d39-4ac5-95b5-5c774b189068' class='xr-var-data-in' type='checkbox'><label for='data-91e1144b-9d39-4ac5-95b5-5c774b189068' title='Show/Hide data repr'><svg class='icon xr-icon-database'><use xlink:href='#icon-database'></use></svg></label><div class='xr-var-attrs'><dl class='xr-attrs'><dt><span>units :</span></dt><dd>m s-1</dd><dt><span>long_name :</span></dt><dd>scatterometer-model bias of stress-equivalent wind eastward component at 10 m</dd><dt><span>standard_name :</span></dt><dd>eastward_wind_bias</dd><dt><span>valid_min :</span></dt><dd>-5000</dd><dt><span>valid_max :</span></dt><dd>5000</dd></dl></div><div class='xr-var-data'><pre>[16640 values with dtype=float32]</pre></div></li><li class='xr-var-item'><div class='xr-var-name'><span>eastward_wind_sdd</span></div><div class='xr-var-dims'>(time, lat, lon)</div><div class='xr-var-dtype'>float32</div><div class='xr-var-preview xr-preview'>...</div><input id='attrs-a80e5c49-38c5-48ed-9c8a-3d9056dcecff' class='xr-var-attrs-in' type='checkbox' ><label for='attrs-a80e5c49-38c5-48ed-9c8a-3d9056dcecff' title='Show/Hide attributes'><svg class='icon xr-icon-file-text2'><use xlink:href='#icon-file-text2'></use></svg></label><input id='data-fffd6bf5-7730-478e-ac3d-07661f9c9d45' class='xr-var-data-in' type='checkbox'><label for='data-fffd6bf5-7730-478e-ac3d-07661f9c9d45' title='Show/Hide data repr'><svg class='icon xr-icon-database'><use xlink:href='#icon-database'></use></svg></label><div class='xr-var-attrs'><dl class='xr-attrs'><dt><span>units :</span></dt><dd>m s-1</dd><dt><span>long_name :</span></dt><dd>standard deviation of differences of stress-equivalent wind eastward component at 10 m</dd><dt><span>standard_name :</span></dt><dd>eastward_wind_standard_deviation_of_differences</dd><dt><span>valid_min :</span></dt><dd>0</dd><dt><span>valid_max :</span></dt><dd>5000</dd></dl></div><div class='xr-var-data'><pre>[16640 values with dtype=float32]</pre></div></li><li class='xr-var-item'><div class='xr-var-name'><span>northward_wind</span></div><div class='xr-var-dims'>(time, lat, lon)</div><div class='xr-var-dtype'>float32</div><div class='xr-var-preview xr-preview'>...</div><input id='attrs-6a56b2b4-875f-4c2f-a028-f0a3d52db54d' class='xr-var-attrs-in' type='checkbox' ><label for='attrs-6a56b2b4-875f-4c2f-a028-f0a3d52db54d' title='Show/Hide attributes'><svg class='icon xr-icon-file-text2'><use xlink:href='#icon-file-text2'></use></svg></label><input id='data-a2f31415-3029-4c59-bc4a-cf6864824d8c' class='xr-var-data-in' type='checkbox'><label for='data-a2f31415-3029-4c59-bc4a-cf6864824d8c' title='Show/Hide data repr'><svg class='icon xr-icon-database'><use xlink:href='#icon-database'></use></svg></label><div class='xr-var-attrs'><dl class='xr-attrs'><dt><span>units :</span></dt><dd>m s-1</dd><dt><span>long_name :</span></dt><dd>stress-equivalent wind northward component at 10 m</dd><dt><span>standard_name :</span></dt><dd>northward_wind</dd><dt><span>valid_min :</span></dt><dd>-5000</dd><dt><span>valid_max :</span></dt><dd>5000</dd></dl></div><div class='xr-var-data'><pre>[16640 values with dtype=float32]</pre></div></li><li class='xr-var-item'><div class='xr-var-name'><span>northward_wind_bias</span></div><div class='xr-var-dims'>(time, lat, lon)</div><div class='xr-var-dtype'>float32</div><div class='xr-var-preview xr-preview'>...</div><input id='attrs-698712c4-f07c-4392-9bcd-a74ffbc62867' class='xr-var-attrs-in' type='checkbox' ><label for='attrs-698712c4-f07c-4392-9bcd-a74ffbc62867' title='Show/Hide attributes'><svg class='icon xr-icon-file-text2'><use xlink:href='#icon-file-text2'></use></svg></label><input id='data-b85ed17f-3b52-4949-88f3-df8fe5fd5a05' class='xr-var-data-in' type='checkbox'><label for='data-b85ed17f-3b52-4949-88f3-df8fe5fd5a05' title='Show/Hide data repr'><svg class='icon xr-icon-database'><use xlink:href='#icon-database'></use></svg></label><div class='xr-var-attrs'><dl class='xr-attrs'><dt><span>units :</span></dt><dd>m s-1</dd><dt><span>long_name :</span></dt><dd>scatterometer-model bias of stress-equivalent wind northward component at 10 m</dd><dt><span>standard_name :</span></dt><dd>northward_wind_bias</dd><dt><span>valid_min :</span></dt><dd>-5000</dd><dt><span>valid_max :</span></dt><dd>5000</dd></dl></div><div class='xr-var-data'><pre>[16640 values with dtype=float32]</pre></div></li><li class='xr-var-item'><div class='xr-var-name'><span>northward_wind_sdd</span></div><div class='xr-var-dims'>(time, lat, lon)</div><div class='xr-var-dtype'>float32</div><div class='xr-var-preview xr-preview'>...</div><input id='attrs-91ac198e-0031-436f-aa5f-2511dcfb25bc' class='xr-var-attrs-in' type='checkbox' ><label for='attrs-91ac198e-0031-436f-aa5f-2511dcfb25bc' title='Show/Hide attributes'><svg class='icon xr-icon-file-text2'><use xlink:href='#icon-file-text2'></use></svg></label><input id='data-5fd302ff-dabf-4768-9038-ea0c8598c7e7' class='xr-var-data-in' type='checkbox'><label for='data-5fd302ff-dabf-4768-9038-ea0c8598c7e7' title='Show/Hide data repr'><svg class='icon xr-icon-database'><use xlink:href='#icon-database'></use></svg></label><div class='xr-var-attrs'><dl class='xr-attrs'><dt><span>units :</span></dt><dd>m s-1</dd><dt><span>long_name :</span></dt><dd>standard deviation of differences of stress-equivalent wind northward component at 10 m</dd><dt><span>standard_name :</span></dt><dd>northward_wind_standard_deviation_of_differences</dd><dt><span>valid_min :</span></dt><dd>0</dd><dt><span>valid_max :</span></dt><dd>5000</dd></dl></div><div class='xr-var-data'><pre>[16640 values with dtype=float32]</pre></div></li><li class='xr-var-item'><div class='xr-var-name'><span>wind_divergence</span></div><div class='xr-var-dims'>(time, lat, lon)</div><div class='xr-var-dtype'>float64</div><div class='xr-var-preview xr-preview'>...</div><input id='attrs-0ee2ebd9-03c5-4698-ad4b-6bb17ed8c401' class='xr-var-attrs-in' type='checkbox' ><label for='attrs-0ee2ebd9-03c5-4698-ad4b-6bb17ed8c401' title='Show/Hide attributes'><svg class='icon xr-icon-file-text2'><use xlink:href='#icon-file-text2'></use></svg></label><input id='data-ae59234a-cfd1-4848-967c-c53a3dd57d69' class='xr-var-data-in' type='checkbox'><label for='data-ae59234a-cfd1-4848-967c-c53a3dd57d69' title='Show/Hide data repr'><svg class='icon xr-icon-database'><use xlink:href='#icon-database'></use></svg></label><div class='xr-var-attrs'><dl class='xr-attrs'><dt><span>units :</span></dt><dd>s-1</dd><dt><span>long_name :</span></dt><dd>divergence of stress-equivalent wind at 10 m</dd><dt><span>standard_name :</span></dt><dd>divergence_of_wind</dd><dt><span>valid_min :</span></dt><dd>-5000000</dd><dt><span>valid_max :</span></dt><dd>5000000</dd></dl></div><div class='xr-var-data'><pre>[16640 values with dtype=float64]</pre></div></li><li class='xr-var-item'><div class='xr-var-name'><span>wind_divergence_bias</span></div><div class='xr-var-dims'>(time, lat, lon)</div><div class='xr-var-dtype'>float64</div><div class='xr-var-preview xr-preview'>...</div><input id='attrs-4dbabe69-5af8-407a-a4f7-38fa7263ef5a' class='xr-var-attrs-in' type='checkbox' ><label for='attrs-4dbabe69-5af8-407a-a4f7-38fa7263ef5a' title='Show/Hide attributes'><svg class='icon xr-icon-file-text2'><use xlink:href='#icon-file-text2'></use></svg></label><input id='data-bdd3dcbe-0a77-4e67-b844-bcfcf435b694' class='xr-var-data-in' type='checkbox'><label for='data-bdd3dcbe-0a77-4e67-b844-bcfcf435b694' title='Show/Hide data repr'><svg class='icon xr-icon-database'><use xlink:href='#icon-database'></use></svg></label><div class='xr-var-attrs'><dl class='xr-attrs'><dt><span>units :</span></dt><dd>s-1</dd><dt><span>long_name :</span></dt><dd>scatterometer-model bias of divergence of stress-equivalent wind at 10 m</dd><dt><span>standard_name :</span></dt><dd>divergence_of_wind_bias</dd><dt><span>valid_min :</span></dt><dd>-5000000</dd><dt><span>valid_max :</span></dt><dd>5000000</dd></dl></div><div class='xr-var-data'><pre>[16640 values with dtype=float64]</pre></div></li><li class='xr-var-item'><div class='xr-var-name'><span>wind_divergence_dv</span></div><div class='xr-var-dims'>(time, lat, lon)</div><div class='xr-var-dtype'>float64</div><div class='xr-var-preview xr-preview'>...</div><input id='attrs-caa0d42b-233c-4fcc-8e38-da140b7c0f4e' class='xr-var-attrs-in' type='checkbox' ><label for='attrs-caa0d42b-233c-4fcc-8e38-da140b7c0f4e' title='Show/Hide attributes'><svg class='icon xr-icon-file-text2'><use xlink:href='#icon-file-text2'></use></svg></label><input id='data-6b69e586-09b0-4172-afd3-7397e453c168' class='xr-var-data-in' type='checkbox'><label for='data-6b69e586-09b0-4172-afd3-7397e453c168' title='Show/Hide data repr'><svg class='icon xr-icon-database'><use xlink:href='#icon-database'></use></svg></label><div class='xr-var-attrs'><dl class='xr-attrs'><dt><span>units :</span></dt><dd>s-2</dd><dt><span>long_name :</span></dt><dd>difference of scatterometer and model variances of divergence of stress-equivalent wind at 10 m</dd><dt><span>standard_name :</span></dt><dd>divergence_of_wind_difference_of_variances</dd><dt><span>valid_min :</span></dt><dd>-5000000</dd><dt><span>valid_max :</span></dt><dd>5000000</dd></dl></div><div class='xr-var-data'><pre>[16640 values with dtype=float64]</pre></div></li><li class='xr-var-item'><div class='xr-var-name'><span>wind_curl</span></div><div class='xr-var-dims'>(time, lat, lon)</div><div class='xr-var-dtype'>float64</div><div class='xr-var-preview xr-preview'>...</div><input id='attrs-a1e02b32-6b14-4339-b849-544a2f990cee' class='xr-var-attrs-in' type='checkbox' ><label for='attrs-a1e02b32-6b14-4339-b849-544a2f990cee' title='Show/Hide attributes'><svg class='icon xr-icon-file-text2'><use xlink:href='#icon-file-text2'></use></svg></label><input id='data-a9d5f634-6885-4834-a2b0-22b1082c0548' class='xr-var-data-in' type='checkbox'><label for='data-a9d5f634-6885-4834-a2b0-22b1082c0548' title='Show/Hide data repr'><svg class='icon xr-icon-database'><use xlink:href='#icon-database'></use></svg></label><div class='xr-var-attrs'><dl class='xr-attrs'><dt><span>units :</span></dt><dd>s-1</dd><dt><span>long_name :</span></dt><dd>curl of stress-equivalent wind at 10 m</dd><dt><span>standard_name :</span></dt><dd>atmosphere_relative_vorticity</dd><dt><span>valid_min :</span></dt><dd>-5000000</dd><dt><span>valid_max :</span></dt><dd>5000000</dd></dl></div><div class='xr-var-data'><pre>[16640 values with dtype=float64]</pre></div></li><li class='xr-var-item'><div class='xr-var-name'><span>wind_curl_bias</span></div><div class='xr-var-dims'>(time, lat, lon)</div><div class='xr-var-dtype'>float64</div><div class='xr-var-preview xr-preview'>...</div><input id='attrs-764d834c-6ecc-45ce-8899-774b3c2ab6e9' class='xr-var-attrs-in' type='checkbox' ><label for='attrs-764d834c-6ecc-45ce-8899-774b3c2ab6e9' title='Show/Hide attributes'><svg class='icon xr-icon-file-text2'><use xlink:href='#icon-file-text2'></use></svg></label><input id='data-4123124a-3828-4810-b42e-59b381d849e8' class='xr-var-data-in' type='checkbox'><label for='data-4123124a-3828-4810-b42e-59b381d849e8' title='Show/Hide data repr'><svg class='icon xr-icon-database'><use xlink:href='#icon-database'></use></svg></label><div class='xr-var-attrs'><dl class='xr-attrs'><dt><span>units :</span></dt><dd>s-1</dd><dt><span>long_name :</span></dt><dd>scatterometer-model bias of curl of stress-equivalent wind at 10 m</dd><dt><span>standard_name :</span></dt><dd>atmosphere_relative_vorticity_bias</dd><dt><span>valid_min :</span></dt><dd>-5000000</dd><dt><span>valid_max :</span></dt><dd>5000000</dd></dl></div><div class='xr-var-data'><pre>[16640 values with dtype=float64]</pre></div></li><li class='xr-var-item'><div class='xr-var-name'><span>wind_curl_dv</span></div><div class='xr-var-dims'>(time, lat, lon)</div><div class='xr-var-dtype'>float64</div><div class='xr-var-preview xr-preview'>...</div><input id='attrs-749c276c-b0ef-4343-a28b-6a57900b8485' class='xr-var-attrs-in' type='checkbox' ><label for='attrs-749c276c-b0ef-4343-a28b-6a57900b8485' title='Show/Hide attributes'><svg class='icon xr-icon-file-text2'><use xlink:href='#icon-file-text2'></use></svg></label><input id='data-953456d7-9699-473b-afc7-ea9d78d12b1e' class='xr-var-data-in' type='checkbox'><label for='data-953456d7-9699-473b-afc7-ea9d78d12b1e' title='Show/Hide data repr'><svg class='icon xr-icon-database'><use xlink:href='#icon-database'></use></svg></label><div class='xr-var-attrs'><dl class='xr-attrs'><dt><span>units :</span></dt><dd>s-2</dd><dt><span>long_name :</span></dt><dd>difference of scatterometer and model variances of curl of stress-equivalent wind at 10 m</dd><dt><span>standard_name :</span></dt><dd>atmosphere_relative_vorticity_difference_of_variances</dd><dt><span>valid_min :</span></dt><dd>-5000000</dd><dt><span>valid_max :</span></dt><dd>5000000</dd></dl></div><div class='xr-var-data'><pre>[16640 values with dtype=float64]</pre></div></li><li class='xr-var-item'><div class='xr-var-name'><span>eastward_stress</span></div><div class='xr-var-dims'>(time, lat, lon)</div><div class='xr-var-dtype'>float64</div><div class='xr-var-preview xr-preview'>...</div><input id='attrs-066131bd-9804-4932-b8a8-0c254579c953' class='xr-var-attrs-in' type='checkbox' ><label for='attrs-066131bd-9804-4932-b8a8-0c254579c953' title='Show/Hide attributes'><svg class='icon xr-icon-file-text2'><use xlink:href='#icon-file-text2'></use></svg></label><input id='data-5fe05fb4-248d-4660-8a13-a646e2f76a5a' class='xr-var-data-in' type='checkbox'><label for='data-5fe05fb4-248d-4660-8a13-a646e2f76a5a' title='Show/Hide data repr'><svg class='icon xr-icon-database'><use xlink:href='#icon-database'></use></svg></label><div class='xr-var-attrs'><dl class='xr-attrs'><dt><span>units :</span></dt><dd>N m-2</dd><dt><span>long_name :</span></dt><dd>surface wind stress eastward component</dd><dt><span>standard_name :</span></dt><dd>surface_downward_eastward_stress</dd><dt><span>valid_min :</span></dt><dd>-5000</dd><dt><span>valid_max :</span></dt><dd>5000</dd></dl></div><div class='xr-var-data'><pre>[16640 values with dtype=float64]</pre></div></li><li class='xr-var-item'><div class='xr-var-name'><span>eastward_stress_bias</span></div><div class='xr-var-dims'>(time, lat, lon)</div><div class='xr-var-dtype'>float64</div><div class='xr-var-preview xr-preview'>...</div><input id='attrs-ffdf6312-730c-4ee7-9cfe-cb08c2cbd873' class='xr-var-attrs-in' type='checkbox' ><label for='attrs-ffdf6312-730c-4ee7-9cfe-cb08c2cbd873' title='Show/Hide attributes'><svg class='icon xr-icon-file-text2'><use xlink:href='#icon-file-text2'></use></svg></label><input id='data-4c46ddc7-dc8a-4803-9b93-d1b82e8ce32b' class='xr-var-data-in' type='checkbox'><label for='data-4c46ddc7-dc8a-4803-9b93-d1b82e8ce32b' title='Show/Hide data repr'><svg class='icon xr-icon-database'><use xlink:href='#icon-database'></use></svg></label><div class='xr-var-attrs'><dl class='xr-attrs'><dt><span>units :</span></dt><dd>N m-2</dd><dt><span>long_name :</span></dt><dd>scatterometer-model bias of surface wind stress eastward component</dd><dt><span>standard_name :</span></dt><dd>surface_downward_eastward_stress_bias</dd><dt><span>valid_min :</span></dt><dd>-5000</dd><dt><span>valid_max :</span></dt><dd>5000</dd></dl></div><div class='xr-var-data'><pre>[16640 values with dtype=float64]</pre></div></li><li class='xr-var-item'><div class='xr-var-name'><span>eastward_stress_sdd</span></div><div class='xr-var-dims'>(time, lat, lon)</div><div class='xr-var-dtype'>float64</div><div class='xr-var-preview xr-preview'>...</div><input id='attrs-c09c723c-c306-4e9c-8658-a351d4ef5681' class='xr-var-attrs-in' type='checkbox' ><label for='attrs-c09c723c-c306-4e9c-8658-a351d4ef5681' title='Show/Hide attributes'><svg class='icon xr-icon-file-text2'><use xlink:href='#icon-file-text2'></use></svg></label><input id='data-13f79545-0190-44ec-af19-17e866b3d3f8' class='xr-var-data-in' type='checkbox'><label for='data-13f79545-0190-44ec-af19-17e866b3d3f8' title='Show/Hide data repr'><svg class='icon xr-icon-database'><use xlink:href='#icon-database'></use></svg></label><div class='xr-var-attrs'><dl class='xr-attrs'><dt><span>units :</span></dt><dd>N m-2</dd><dt><span>long_name :</span></dt><dd>standard deviation of differences of surface wind stress eastward component</dd><dt><span>standard_name :</span></dt><dd>surface_downward_eastward_stress_standard_deviation_of_differences</dd><dt><span>valid_min :</span></dt><dd>-5000</dd><dt><span>valid_max :</span></dt><dd>5000</dd></dl></div><div class='xr-var-data'><pre>[16640 values with dtype=float64]</pre></div></li><li class='xr-var-item'><div class='xr-var-name'><span>northward_stress</span></div><div class='xr-var-dims'>(time, lat, lon)</div><div class='xr-var-dtype'>float64</div><div class='xr-var-preview xr-preview'>...</div><input id='attrs-4e4174ab-c521-45a0-ba39-0e6dd4593eb1' class='xr-var-attrs-in' type='checkbox' ><label for='attrs-4e4174ab-c521-45a0-ba39-0e6dd4593eb1' title='Show/Hide attributes'><svg class='icon xr-icon-file-text2'><use xlink:href='#icon-file-text2'></use></svg></label><input id='data-9246bd32-92d7-4dc7-b8ed-5972ff875b04' class='xr-var-data-in' type='checkbox'><label for='data-9246bd32-92d7-4dc7-b8ed-5972ff875b04' title='Show/Hide data repr'><svg class='icon xr-icon-database'><use xlink:href='#icon-database'></use></svg></label><div class='xr-var-attrs'><dl class='xr-attrs'><dt><span>units :</span></dt><dd>N m-2</dd><dt><span>long_name :</span></dt><dd>surface wind stress northward component</dd><dt><span>standard_name :</span></dt><dd>surface_downward_northward_stress</dd><dt><span>valid_min :</span></dt><dd>-5000</dd><dt><span>valid_max :</span></dt><dd>5000</dd></dl></div><div class='xr-var-data'><pre>[16640 values with dtype=float64]</pre></div></li><li class='xr-var-item'><div class='xr-var-name'><span>northward_stress_bias</span></div><div class='xr-var-dims'>(time, lat, lon)</div><div class='xr-var-dtype'>float64</div><div class='xr-var-preview xr-preview'>...</div><input id='attrs-4ff67e20-a158-4bf9-9d32-385ea40c80c1' class='xr-var-attrs-in' type='checkbox' ><label for='attrs-4ff67e20-a158-4bf9-9d32-385ea40c80c1' title='Show/Hide attributes'><svg class='icon xr-icon-file-text2'><use xlink:href='#icon-file-text2'></use></svg></label><input id='data-2730efce-94d1-47e1-bd21-e19d47302728' class='xr-var-data-in' type='checkbox'><label for='data-2730efce-94d1-47e1-bd21-e19d47302728' title='Show/Hide data repr'><svg class='icon xr-icon-database'><use xlink:href='#icon-database'></use></svg></label><div class='xr-var-attrs'><dl class='xr-attrs'><dt><span>units :</span></dt><dd>N m-2</dd><dt><span>long_name :</span></dt><dd>scatterometer-model bias of surface wind stress northward component</dd><dt><span>standard_name :</span></dt><dd>surface_downward_northward_stress_bias</dd><dt><span>valid_min :</span></dt><dd>-5000</dd><dt><span>valid_max :</span></dt><dd>5000</dd></dl></div><div class='xr-var-data'><pre>[16640 values with dtype=float64]</pre></div></li><li class='xr-var-item'><div class='xr-var-name'><span>northward_stress_sdd</span></div><div class='xr-var-dims'>(time, lat, lon)</div><div class='xr-var-dtype'>float64</div><div class='xr-var-preview xr-preview'>...</div><input id='attrs-44db1aad-93bf-4392-a266-2b189af0aa99' class='xr-var-attrs-in' type='checkbox' ><label for='attrs-44db1aad-93bf-4392-a266-2b189af0aa99' title='Show/Hide attributes'><svg class='icon xr-icon-file-text2'><use xlink:href='#icon-file-text2'></use></svg></label><input id='data-c0707745-0b72-487a-87b7-4573b4452b32' class='xr-var-data-in' type='checkbox'><label for='data-c0707745-0b72-487a-87b7-4573b4452b32' title='Show/Hide data repr'><svg class='icon xr-icon-database'><use xlink:href='#icon-database'></use></svg></label><div class='xr-var-attrs'><dl class='xr-attrs'><dt><span>units :</span></dt><dd>N m-2</dd><dt><span>long_name :</span></dt><dd>standard deviation of differences of surface wind stress northward component</dd><dt><span>standard_name :</span></dt><dd>surface_downward_northward_stress_standard_deviation_of_differences</dd><dt><span>valid_min :</span></dt><dd>-5000</dd><dt><span>valid_max :</span></dt><dd>5000</dd></dl></div><div class='xr-var-data'><pre>[16640 values with dtype=float64]</pre></div></li><li class='xr-var-item'><div class='xr-var-name'><span>stress_divergence</span></div><div class='xr-var-dims'>(time, lat, lon)</div><div class='xr-var-dtype'>float64</div><div class='xr-var-preview xr-preview'>...</div><input id='attrs-7b64c5d1-d4b5-47f3-85c9-11eff9669ad1' class='xr-var-attrs-in' type='checkbox' ><label for='attrs-7b64c5d1-d4b5-47f3-85c9-11eff9669ad1' title='Show/Hide attributes'><svg class='icon xr-icon-file-text2'><use xlink:href='#icon-file-text2'></use></svg></label><input id='data-a0c1c85e-412b-4adb-8d14-2a2561ab0d18' class='xr-var-data-in' type='checkbox'><label for='data-a0c1c85e-412b-4adb-8d14-2a2561ab0d18' title='Show/Hide data repr'><svg class='icon xr-icon-database'><use xlink:href='#icon-database'></use></svg></label><div class='xr-var-attrs'><dl class='xr-attrs'><dt><span>units :</span></dt><dd>N m-3</dd><dt><span>long_name :</span></dt><dd>divergence of surface wind stress</dd><dt><span>standard_name :</span></dt><dd>divergence_of_surface_downward_stress</dd><dt><span>valid_min :</span></dt><dd>-500000000</dd><dt><span>valid_max :</span></dt><dd>500000000</dd></dl></div><div class='xr-var-data'><pre>[16640 values with dtype=float64]</pre></div></li><li class='xr-var-item'><div class='xr-var-name'><span>stress_divergence_bias</span></div><div class='xr-var-dims'>(time, lat, lon)</div><div class='xr-var-dtype'>float64</div><div class='xr-var-preview xr-preview'>...</div><input id='attrs-e1a4bd86-012c-414a-b79f-3c9f1e058a14' class='xr-var-attrs-in' type='checkbox' ><label for='attrs-e1a4bd86-012c-414a-b79f-3c9f1e058a14' title='Show/Hide attributes'><svg class='icon xr-icon-file-text2'><use xlink:href='#icon-file-text2'></use></svg></label><input id='data-16395ce9-621d-4854-84e4-696542b888c5' class='xr-var-data-in' type='checkbox'><label for='data-16395ce9-621d-4854-84e4-696542b888c5' title='Show/Hide data repr'><svg class='icon xr-icon-database'><use xlink:href='#icon-database'></use></svg></label><div class='xr-var-attrs'><dl class='xr-attrs'><dt><span>units :</span></dt><dd>N m-3</dd><dt><span>long_name :</span></dt><dd>scatterometer-model bias of divergence of surface wind stress</dd><dt><span>standard_name :</span></dt><dd>divergence_of_surface_downward_stress_bias</dd><dt><span>valid_min :</span></dt><dd>-500000000</dd><dt><span>valid_max :</span></dt><dd>500000000</dd></dl></div><div class='xr-var-data'><pre>[16640 values with dtype=float64]</pre></div></li><li class='xr-var-item'><div class='xr-var-name'><span>stress_divergence_dv</span></div><div class='xr-var-dims'>(time, lat, lon)</div><div class='xr-var-dtype'>float64</div><div class='xr-var-preview xr-preview'>...</div><input id='attrs-c8989d5f-b7fa-4322-8dc4-cc94a1d65590' class='xr-var-attrs-in' type='checkbox' ><label for='attrs-c8989d5f-b7fa-4322-8dc4-cc94a1d65590' title='Show/Hide attributes'><svg class='icon xr-icon-file-text2'><use xlink:href='#icon-file-text2'></use></svg></label><input id='data-32f1d736-0807-4465-b366-d16e9140eaf5' class='xr-var-data-in' type='checkbox'><label for='data-32f1d736-0807-4465-b366-d16e9140eaf5' title='Show/Hide data repr'><svg class='icon xr-icon-database'><use xlink:href='#icon-database'></use></svg></label><div class='xr-var-attrs'><dl class='xr-attrs'><dt><span>units :</span></dt><dd>N2 m-6</dd><dt><span>long_name :</span></dt><dd>difference of scatterometer and model variances of divergence of surface wind stress</dd><dt><span>standard_name :</span></dt><dd>divergence_of_surface_downward_stress_difference_of_variances</dd><dt><span>valid_min :</span></dt><dd>-500000000</dd><dt><span>valid_max :</span></dt><dd>500000000</dd></dl></div><div class='xr-var-data'><pre>[16640 values with dtype=float64]</pre></div></li><li class='xr-var-item'><div class='xr-var-name'><span>stress_curl</span></div><div class='xr-var-dims'>(time, lat, lon)</div><div class='xr-var-dtype'>float64</div><div class='xr-var-preview xr-preview'>...</div><input id='attrs-b468fbb5-0382-4469-8122-f3bb2f51d5ce' class='xr-var-attrs-in' type='checkbox' ><label for='attrs-b468fbb5-0382-4469-8122-f3bb2f51d5ce' title='Show/Hide attributes'><svg class='icon xr-icon-file-text2'><use xlink:href='#icon-file-text2'></use></svg></label><input id='data-ad0b1c45-0817-4ed1-a164-089b41606778' class='xr-var-data-in' type='checkbox'><label for='data-ad0b1c45-0817-4ed1-a164-089b41606778' title='Show/Hide data repr'><svg class='icon xr-icon-database'><use xlink:href='#icon-database'></use></svg></label><div class='xr-var-attrs'><dl class='xr-attrs'><dt><span>units :</span></dt><dd>N m-3</dd><dt><span>long_name :</span></dt><dd>curl of surface wind stress</dd><dt><span>standard_name :</span></dt><dd>vertical_component_of_surface_downward_stress_curl</dd><dt><span>valid_min :</span></dt><dd>-500000000</dd><dt><span>valid_max :</span></dt><dd>500000000</dd></dl></div><div class='xr-var-data'><pre>[16640 values with dtype=float64]</pre></div></li><li class='xr-var-item'><div class='xr-var-name'><span>stress_curl_bias</span></div><div class='xr-var-dims'>(time, lat, lon)</div><div class='xr-var-dtype'>float64</div><div class='xr-var-preview xr-preview'>...</div><input id='attrs-3680915e-c7b1-458a-b602-a19eeb60d116' class='xr-var-attrs-in' type='checkbox' ><label for='attrs-3680915e-c7b1-458a-b602-a19eeb60d116' title='Show/Hide attributes'><svg class='icon xr-icon-file-text2'><use xlink:href='#icon-file-text2'></use></svg></label><input id='data-8bfdb0ab-537a-4043-b2a9-1b7a641812c6' class='xr-var-data-in' type='checkbox'><label for='data-8bfdb0ab-537a-4043-b2a9-1b7a641812c6' title='Show/Hide data repr'><svg class='icon xr-icon-database'><use xlink:href='#icon-database'></use></svg></label><div class='xr-var-attrs'><dl class='xr-attrs'><dt><span>units :</span></dt><dd>N m-3</dd><dt><span>long_name :</span></dt><dd>scatterometer-model bias of curl of surface wind stress</dd><dt><span>standard_name :</span></dt><dd>vertical_component_of_surface_downward_stress_curl_bias</dd><dt><span>valid_min :</span></dt><dd>-500000000</dd><dt><span>valid_max :</span></dt><dd>500000000</dd></dl></div><div class='xr-var-data'><pre>[16640 values with dtype=float64]</pre></div></li><li class='xr-var-item'><div class='xr-var-name'><span>stress_curl_dv</span></div><div class='xr-var-dims'>(time, lat, lon)</div><div class='xr-var-dtype'>float64</div><div class='xr-var-preview xr-preview'>...</div><input id='attrs-46343eb3-3fb3-453c-8811-0f084f828c07' class='xr-var-attrs-in' type='checkbox' ><label for='attrs-46343eb3-3fb3-453c-8811-0f084f828c07' title='Show/Hide attributes'><svg class='icon xr-icon-file-text2'><use xlink:href='#icon-file-text2'></use></svg></label><input id='data-0b172fa8-8806-4dc3-9975-2578dc2af3a4' class='xr-var-data-in' type='checkbox'><label for='data-0b172fa8-8806-4dc3-9975-2578dc2af3a4' title='Show/Hide data repr'><svg class='icon xr-icon-database'><use xlink:href='#icon-database'></use></svg></label><div class='xr-var-attrs'><dl class='xr-attrs'><dt><span>units :</span></dt><dd>N2 m-6</dd><dt><span>long_name :</span></dt><dd>difference of scatterometer and model variances of curl of surface wind stress</dd><dt><span>standard_name :</span></dt><dd>vertical_component_of_surface_downward_stress_curl_difference_of_variances</dd><dt><span>valid_min :</span></dt><dd>-500000000</dd><dt><span>valid_max :</span></dt><dd>500000000</dd></dl></div><div class='xr-var-data'><pre>[16640 values with dtype=float64]</pre></div></li><li class='xr-var-item'><div class='xr-var-name'><span>air_density</span></div><div class='xr-var-dims'>(time, lat, lon)</div><div class='xr-var-dtype'>float32</div><div class='xr-var-preview xr-preview'>...</div><input id='attrs-ea462d38-14e6-45e3-ab3d-359541ab4145' class='xr-var-attrs-in' type='checkbox' ><label for='attrs-ea462d38-14e6-45e3-ab3d-359541ab4145' title='Show/Hide attributes'><svg class='icon xr-icon-file-text2'><use xlink:href='#icon-file-text2'></use></svg></label><input id='data-46250af4-0dc9-4a12-b161-cd8667d0771f' class='xr-var-data-in' type='checkbox'><label for='data-46250af4-0dc9-4a12-b161-cd8667d0771f' title='Show/Hide data repr'><svg class='icon xr-icon-database'><use xlink:href='#icon-database'></use></svg></label><div class='xr-var-attrs'><dl class='xr-attrs'><dt><span>units :</span></dt><dd>kg m-3</dd><dt><span>long_name :</span></dt><dd>air density at 10 m</dd><dt><span>standard_name :</span></dt><dd>air_density</dd><dt><span>valid_min :</span></dt><dd>0</dd><dt><span>valid_max :</span></dt><dd>2000</dd><dt><span>source :</span></dt><dd>ECMWF Operational model</dd></dl></div><div class='xr-var-data'><pre>[16640 values with dtype=float32]</pre></div></li><li class='xr-var-item'><div class='xr-var-name'><span>number_of_observations</span></div><div class='xr-var-dims'>(time, lat, lon)</div><div class='xr-var-dtype'>float32</div><div class='xr-var-preview xr-preview'>...</div><input id='attrs-8365cbd9-922d-4c59-b30b-f824d61162d1' class='xr-var-attrs-in' type='checkbox' ><label for='attrs-8365cbd9-922d-4c59-b30b-f824d61162d1' title='Show/Hide attributes'><svg class='icon xr-icon-file-text2'><use xlink:href='#icon-file-text2'></use></svg></label><input id='data-d01291e6-1220-44a4-9eec-d8e382c04820' class='xr-var-data-in' type='checkbox'><label for='data-d01291e6-1220-44a4-9eec-d8e382c04820' title='Show/Hide data repr'><svg class='icon xr-icon-database'><use xlink:href='#icon-database'></use></svg></label><div class='xr-var-attrs'><dl class='xr-attrs'><dt><span>units :</span></dt><dd>1</dd><dt><span>long_name :</span></dt><dd>number of observations used for scatterometer-model bias</dd><dt><span>standard_name :</span></dt><dd>number_of_observations</dd><dt><span>valid_min :</span></dt><dd>0</dd><dt><span>valid_max :</span></dt><dd>2000</dd></dl></div><div class='xr-var-data'><pre>[16640 values with dtype=float32]</pre></div></li><li class='xr-var-item'><div class='xr-var-name'><span>number_of_observations_divcurl</span></div><div class='xr-var-dims'>(time, lat, lon)</div><div class='xr-var-dtype'>float32</div><div class='xr-var-preview xr-preview'>...</div><input id='attrs-1ba89af3-012d-4c70-b2b7-fd775afb1e40' class='xr-var-attrs-in' type='checkbox' ><label for='attrs-1ba89af3-012d-4c70-b2b7-fd775afb1e40' title='Show/Hide attributes'><svg class='icon xr-icon-file-text2'><use xlink:href='#icon-file-text2'></use></svg></label><input id='data-6191b137-5a2c-4c66-af18-1f0989b775a1' class='xr-var-data-in' type='checkbox'><label for='data-6191b137-5a2c-4c66-af18-1f0989b775a1' title='Show/Hide data repr'><svg class='icon xr-icon-database'><use xlink:href='#icon-database'></use></svg></label><div class='xr-var-attrs'><dl class='xr-attrs'><dt><span>units :</span></dt><dd>1</dd><dt><span>long_name :</span></dt><dd>number of observations used for scatterometer-model divergence and curl bias</dd><dt><span>standard_name :</span></dt><dd>number_of_observations</dd><dt><span>valid_min :</span></dt><dd>0</dd><dt><span>valid_max :</span></dt><dd>2000</dd></dl></div><div class='xr-var-data'><pre>[16640 values with dtype=float32]</pre></div></li></ul></div></li><li class='xr-section-item'><input id='section-0d0de911-10a3-4039-a812-7b84f7a99918' class='xr-section-summary-in' type='checkbox'  ><label for='section-0d0de911-10a3-4039-a812-7b84f7a99918' class='xr-section-summary' >Indexes: <span>(3)</span></label><div class='xr-section-inline-details'></div><div class='xr-section-details'><ul class='xr-var-list'><li class='xr-var-item'><div class='xr-index-name'><div>time</div></div><div class='xr-index-preview'>PandasIndex</div><div></div><input id='index-fc731d2f-83f4-4aad-989b-dbad5b0e20dc' class='xr-index-data-in' type='checkbox'/><label for='index-fc731d2f-83f4-4aad-989b-dbad5b0e20dc' title='Show/Hide index repr'><svg class='icon xr-icon-database'><use xlink:href='#icon-database'></use></svg></label><div class='xr-index-data'><pre>PandasIndex(DatetimeIndex([&#x27;2022-09-01&#x27;], dtype=&#x27;datetime64[ns]&#x27;, name=&#x27;time&#x27;, freq=None))</pre></div></li><li class='xr-var-item'><div class='xr-index-name'><div>lat</div></div><div class='xr-index-preview'>PandasIndex</div><div></div><input id='index-80d7580a-217c-48e3-9158-7fab78ba6881' class='xr-index-data-in' type='checkbox'/><label for='index-80d7580a-217c-48e3-9158-7fab78ba6881' title='Show/Hide index repr'><svg class='icon xr-icon-database'><use xlink:href='#icon-database'></use></svg></label><div class='xr-index-data'><pre>PandasIndex(Index([53.0625, 53.1875, 53.3125, 53.4375, 53.5625, 53.6875, 53.8125, 53.9375,\n",
       "       54.0625, 54.1875,\n",
       "       ...\n",
       "       64.8125, 64.9375, 65.0625, 65.1875, 65.3125, 65.4375, 65.5625, 65.6875,\n",
       "       65.8125, 65.9375],\n",
       "      dtype=&#x27;float32&#x27;, name=&#x27;lat&#x27;, length=104))</pre></div></li><li class='xr-var-item'><div class='xr-index-name'><div>lon</div></div><div class='xr-index-preview'>PandasIndex</div><div></div><input id='index-5ebaeebe-124b-4f78-ac79-dbbccf11efe1' class='xr-index-data-in' type='checkbox'/><label for='index-5ebaeebe-124b-4f78-ac79-dbbccf11efe1' title='Show/Hide index repr'><svg class='icon xr-icon-database'><use xlink:href='#icon-database'></use></svg></label><div class='xr-index-data'><pre>PandasIndex(Index([10.0625, 10.1875, 10.3125, 10.4375, 10.5625, 10.6875, 10.8125, 10.9375,\n",
       "       11.0625, 11.1875,\n",
       "       ...\n",
       "       28.8125, 28.9375, 29.0625, 29.1875, 29.3125, 29.4375, 29.5625, 29.6875,\n",
       "       29.8125, 29.9375],\n",
       "      dtype=&#x27;float32&#x27;, name=&#x27;lon&#x27;, length=160))</pre></div></li></ul></div></li><li class='xr-section-item'><input id='section-b1f16e56-b5bf-4210-be2d-cd0d19646de2' class='xr-section-summary-in' type='checkbox'  ><label for='section-b1f16e56-b5bf-4210-be2d-cd0d19646de2' class='xr-section-summary' >Attributes: <span>(26)</span></label><div class='xr-section-inline-details'></div><div class='xr-section-details'><dl class='xr-attrs'><dt><span>title :</span></dt><dd> Global Ocean - Wind and Stress - Hourly - From Scatterometer and Model</dd><dt><span>summary :</span></dt><dd>Global ocean 10-m stress-equivalent wind and surface wind stress fields based on the ECMWF operational model winds, bias-corrected using scatterometer observations</dd><dt><span>keywords :</span></dt><dd>ocean winds, wind speed, wind direction, wind stress, divergence, vorticity</dd><dt><span>Conventions :</span></dt><dd>CF-1.6, ACDD-1.3</dd><dt><span>project :</span></dt><dd>Copernicus Marine Service Wind Thematic Assembly Centre</dd><dt><span>institution :</span></dt><dd>Royal Netherlands Meteorological Institute (KNMI)</dd><dt><span>geospatial_lat_min :</span></dt><dd>-89.9375</dd><dt><span>geospatial_lat_max :</span></dt><dd>89.9375</dd><dt><span>geospatial_lat_resolution :</span></dt><dd>0.125</dd><dt><span>geospatial_lat_units :</span></dt><dd>degrees_north</dd><dt><span>geospatial_lon_min :</span></dt><dd>-179.9375</dd><dt><span>geospatial_lon_max :</span></dt><dd>179.9375</dd><dt><span>geospatial_lon_resolution :</span></dt><dd>0.125</dd><dt><span>geospatial_lon_units :</span></dt><dd>degrees_east</dd><dt><span>processing_level :</span></dt><dd>L4</dd><dt><span>platform :</span></dt><dd>Metop-B, Metop-C</dd><dt><span>platform_vocabulary :</span></dt><dd>CEOS</dd><dt><span>instrument :</span></dt><dd>ASCAT, ASCAT</dd><dt><span>instrument_vocabulary :</span></dt><dd>CEOS</dd><dt><span>model :</span></dt><dd>ECMWF Operational model</dd><dt><span>time_coverage_start :</span></dt><dd>2022-09-01T00:00:00</dd><dt><span>time_coverage_end :</span></dt><dd>2022-09-01T00:00:00</dd><dt><span>references :</span></dt><dd>Copernicus Marine Service Product User Manual CMEMS-TAC-WIND-PUM-012-004, Trindade et al. (2020) doi:10.1109/TGRS.2019.2946019</dd><dt><span>history :</span></dt><dd>N/A</dd><dt><span>date_created :</span></dt><dd>2022-09-02T10:31:44</dd><dt><span>date_modified :</span></dt><dd>2022-09-02T10:31:44</dd></dl></div></li></ul></div></div>"
      ],
      "text/plain": [
       "<xarray.Dataset>\n",
       "Dimensions:                         (time: 1, lat: 104, lon: 160)\n",
       "Coordinates:\n",
       "  * time                            (time) datetime64[ns] 2022-09-01\n",
       "  * lat                             (lat) float32 53.06 53.19 ... 65.81 65.94\n",
       "  * lon                             (lon) float32 10.06 10.19 ... 29.81 29.94\n",
       "Data variables: (12/27)\n",
       "    eastward_wind                   (time, lat, lon) float32 ...\n",
       "    eastward_wind_bias              (time, lat, lon) float32 ...\n",
       "    eastward_wind_sdd               (time, lat, lon) float32 ...\n",
       "    northward_wind                  (time, lat, lon) float32 ...\n",
       "    northward_wind_bias             (time, lat, lon) float32 ...\n",
       "    northward_wind_sdd              (time, lat, lon) float32 ...\n",
       "    ...                              ...\n",
       "    stress_curl                     (time, lat, lon) float64 ...\n",
       "    stress_curl_bias                (time, lat, lon) float64 ...\n",
       "    stress_curl_dv                  (time, lat, lon) float64 ...\n",
       "    air_density                     (time, lat, lon) float32 ...\n",
       "    number_of_observations          (time, lat, lon) float32 ...\n",
       "    number_of_observations_divcurl  (time, lat, lon) float32 ...\n",
       "Attributes: (12/26)\n",
       "    title:                       Global Ocean - Wind and Stress - Hourly - Fr...\n",
       "    summary:                    Global ocean 10-m stress-equivalent wind and ...\n",
       "    keywords:                   ocean winds, wind speed, wind direction, wind...\n",
       "    Conventions:                CF-1.6, ACDD-1.3\n",
       "    project:                    Copernicus Marine Service Wind Thematic Assem...\n",
       "    institution:                Royal Netherlands Meteorological Institute (K...\n",
       "    ...                         ...\n",
       "    time_coverage_start:        2022-09-01T00:00:00\n",
       "    time_coverage_end:          2022-09-01T00:00:00\n",
       "    references:                 Copernicus Marine Service Product User Manual...\n",
       "    history:                    N/A\n",
       "    date_created:               2022-09-02T10:31:44\n",
       "    date_modified:              2022-09-02T10:31:44"
      ]
     },
     "execution_count": 35,
     "metadata": {},
     "output_type": "execute_result"
    }
   ],
   "source": [
    "baltic_sea_subset"
   ]
  },
  {
   "cell_type": "markdown",
   "id": "bb2c3ba2-863d-4731-bd33-abd923dd40f7",
   "metadata": {},
   "source": [
    "## Final remarks\n",
    "\n",
    "There is a lot of data points here that we could consider in the model. In the end, we decided to limit our scope and not include a sea wind speed dataset."
   ]
  }
 ],
 "metadata": {
  "kernelspec": {
   "display_name": "Python DEDL",
   "language": "python",
   "name": "python_dedl"
  },
  "language_info": {
   "codemirror_mode": {
    "name": "ipython",
    "version": 3
   },
   "file_extension": ".py",
   "mimetype": "text/x-python",
   "name": "python",
   "nbconvert_exporter": "python",
   "pygments_lexer": "ipython3",
   "version": "3.11.4"
  },
  "toc-autonumbering": true,
  "toc-showmarkdowntxt": true
 },
 "nbformat": 4,
 "nbformat_minor": 5
}
