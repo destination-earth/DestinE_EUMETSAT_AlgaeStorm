{
 "cells": [
  {
   "cell_type": "markdown",
   "id": "865a631d-de35-4462-bf52-076cc203fb4d",
   "metadata": {},
   "source": [
    "## Authorization to the DEDL services"
   ]
  },
  {
   "cell_type": "code",
   "execution_count": 1,
   "id": "6e6b0a16-ccab-4ab3-a7e8-fa3971f5fe43",
   "metadata": {},
   "outputs": [
    {
     "name": "stdin",
     "output_type": "stream",
     "text": [
      "Please input your DESP username or email:  jesper.dejby@ri.se\n",
      "Please input your DESP password:  ········\n"
     ]
    },
    {
     "name": "stdout",
     "output_type": "stream",
     "text": [
      "DEDL/DESP Access Token Obtained Successfully\n"
     ]
    }
   ],
   "source": [
    "from dedllogin import DEDL_auth\n",
    "import requests\n",
    "import json\n",
    "import os\n",
    "from getpass import getpass\n",
    "from IPython.display import JSON\n",
    "\n",
    "username = input(\"Please input your DESP username or email: \")\n",
    "password = getpass(\"Please input your DESP password: \")\n",
    "\n",
    "auth = DEDL_auth(username, password)\n",
    "\n",
    "access_token = auth.get_token()\n",
    "if access_token is not None:\n",
    "    print(\"DEDL/DESP Access Token Obtained Successfully\")\n",
    "else:\n",
    "    print(\"Failed to Obtain DEDL/DESP Access Token\")\n",
    "\n",
    "auth_headers = {\"Authorization\": f\"Bearer {access_token}\"}"
   ]
  },
  {
   "cell_type": "markdown",
   "id": "8c9b4e1e-6857-4507-96f5-5cdab0996a7f",
   "metadata": {},
   "source": [
    "## Download data\n",
    "\n",
    "We are aiming to download the Sentinel-3 SLSTR Level 2 Sea Surface Temperature dataset described here: https://hda.data.destination-earth.eu/ui/dataset/EO.EUM.DAT.SENTINEL-3.SL_2_WST___"
   ]
  },
  {
   "cell_type": "code",
   "execution_count": 2,
   "id": "140e2934-dc42-420e-9f9f-33fb8380e655",
   "metadata": {},
   "outputs": [],
   "source": [
    "response_sst = requests.post(\"https://hda.data.destination-earth.eu/stac/search\", headers=auth_headers, json={\n",
    "    \"collections\": [\"EO.EUM.DAT.SENTINEL-3.SL_2_WST___\"],\n",
    "    \"datetime\": \"2024-06-02T00:00:00Z/2024-06-03T00:00:00Z\",\n",
    "    'bbox': [53, 10, 66, 30] #latitude and longitude for Baltic Sea\n",
    "})"
   ]
  },
  {
   "cell_type": "code",
   "execution_count": 3,
   "id": "67fdec61-939d-48db-ba21-c3a83579c18f",
   "metadata": {},
   "outputs": [
    {
     "name": "stdout",
     "output_type": "stream",
     "text": [
      "Sea surface temprature\n"
     ]
    },
    {
     "data": {
      "application/json": {
       "assets": {
        "20240601231931-MAR-L2P_GHRSST-SSTskin-SLSTRB-20240603064235-v02.0-fv01.0.nc": {
         "alternate": {
          "origin": {
           "href": "s3://eodata/Sentinel-3/SLSTR/SL_2_WST___/2024/06/01/S3B_SL_2_WST____20240601T231931_20240602T010030_20240603T064235_6059_093_329______MAR_O_NT_003.SEN3/20240601231931-MAR-L2P_GHRSST-SSTskin-SLSTRB-20240603064235-v02.0-fv01.0.nc",
           "title": "Origin asset link",
           "type": "application/x-netcdf"
          }
         },
         "href": "https://hda.data.destination-earth.eu/stac/collections/EO.EUM.DAT.SENTINEL-3.SL_2_WST___/items/S3B_SL_2_WST____20240601T231931_20240602T010030_20240603T064235_6059_093_329______MAR_O_NT_003/download/20240601231931-MAR-L2P_GHRSST-SSTskin-SLSTRB-20240603064235-v02.0-fv01.0.nc?provider=dedl",
         "roles": [
          "data"
         ],
         "title": "20240601231931-MAR-L2P_GHRSST-SSTskin-SLSTRB-20240603064235-v02.0-fv01.0.nc",
         "type": "application/x-netcdf"
        },
        "EOPMetadata.xml": {
         "alternate": {
          "origin": {
           "href": "s3://eodata/Sentinel-3/SLSTR/SL_2_WST___/2024/06/01/S3B_SL_2_WST____20240601T231931_20240602T010030_20240603T064235_6059_093_329______MAR_O_NT_003.SEN3/EOPMetadata.xml",
           "title": "Origin asset link",
           "type": "text/xml"
          }
         },
         "href": "https://hda.data.destination-earth.eu/stac/collections/EO.EUM.DAT.SENTINEL-3.SL_2_WST___/items/S3B_SL_2_WST____20240601T231931_20240602T010030_20240603T064235_6059_093_329______MAR_O_NT_003/download/EOPMetadata.xml?provider=dedl",
         "roles": [
          "metadata"
         ],
         "title": "EOPMetadata.xml",
         "type": "text/xml"
        },
        "browse.jpg": {
         "alternate": {
          "origin": {
           "href": "s3://eodata/Sentinel-3/SLSTR/SL_2_WST___/2024/06/01/S3B_SL_2_WST____20240601T231931_20240602T010030_20240603T064235_6059_093_329______MAR_O_NT_003.SEN3/browse.jpg",
           "title": "Origin asset link",
           "type": "image/jpeg"
          }
         },
         "href": "https://hda.data.destination-earth.eu/stac/collections/EO.EUM.DAT.SENTINEL-3.SL_2_WST___/items/S3B_SL_2_WST____20240601T231931_20240602T010030_20240603T064235_6059_093_329______MAR_O_NT_003/download/browse.jpg?provider=dedl",
         "roles": [
          "metadata"
         ],
         "title": "browse.jpg",
         "type": "image/jpeg"
        },
        "downloadLink": {
         "alternate": {
          "origin": {
           "href": "https://zipper.creodias.eu/odata/v1/Products(51a5f74b-2e5e-4113-a87c-dbf974708ea0)/$value",
           "title": "Origin asset link"
          }
         },
         "href": "https://hda.data.destination-earth.eu/stac/collections/EO.EUM.DAT.SENTINEL-3.SL_2_WST___/items/S3B_SL_2_WST____20240601T231931_20240602T010030_20240603T064235_6059_093_329______MAR_O_NT_003/download?provider=dedl",
         "storage:tier": "ONLINE",
         "title": "Download link",
         "type": "application/zip"
        },
        "manifest.xml": {
         "alternate": {
          "origin": {
           "href": "s3://eodata/Sentinel-3/SLSTR/SL_2_WST___/2024/06/01/S3B_SL_2_WST____20240601T231931_20240602T010030_20240603T064235_6059_093_329______MAR_O_NT_003.SEN3/manifest.xml",
           "title": "Origin asset link",
           "type": "text/xml"
          }
         },
         "href": "https://hda.data.destination-earth.eu/stac/collections/EO.EUM.DAT.SENTINEL-3.SL_2_WST___/items/S3B_SL_2_WST____20240601T231931_20240602T010030_20240603T064235_6059_093_329______MAR_O_NT_003/download/manifest.xml?provider=dedl",
         "roles": [
          "metadata"
         ],
         "title": "manifest.xml",
         "type": "text/xml"
        },
        "xfdumanifest.xml": {
         "alternate": {
          "origin": {
           "href": "s3://eodata/Sentinel-3/SLSTR/SL_2_WST___/2024/06/01/S3B_SL_2_WST____20240601T231931_20240602T010030_20240603T064235_6059_093_329______MAR_O_NT_003.SEN3/xfdumanifest.xml",
           "title": "Origin asset link",
           "type": "text/xml"
          }
         },
         "href": "https://hda.data.destination-earth.eu/stac/collections/EO.EUM.DAT.SENTINEL-3.SL_2_WST___/items/S3B_SL_2_WST____20240601T231931_20240602T010030_20240603T064235_6059_093_329______MAR_O_NT_003/download/xfdumanifest.xml?provider=dedl",
         "roles": [
          "metadata"
         ],
         "title": "xfdumanifest.xml",
         "type": "text/xml"
        }
       },
       "bbox": [
        -180,
        -85.9005,
        180,
        90
       ],
       "collection": "EO.EUM.DAT.SENTINEL-3.SL_2_WST___",
       "geometry": {
        "coordinates": [
         [
          [
           70.292845,
           -85.424026
          ],
          [
           93.3474,
           -83.9109
          ],
          [
           106.529,
           -81.6762
          ],
          [
           114.084,
           -79.2047
          ],
          [
           118.921,
           -76.6266
          ],
          [
           122.305,
           -73.9929
          ],
          [
           124.836,
           -71.3264
          ],
          [
           126.828,
           -68.639
          ],
          [
           128.46,
           -65.9371
          ],
          [
           129.84,
           -63.2246
          ],
          [
           131.039,
           -60.5039
          ],
          [
           132.102,
           -57.7765
          ],
          [
           133.061,
           -55.0436
          ],
          [
           133.941,
           -52.3058
          ],
          [
           134.757,
           -49.5638
          ],
          [
           135.523,
           -46.8179
          ],
          [
           136.248,
           -44.0685
          ],
          [
           136.941,
           -41.3158
          ],
          [
           137.607,
           -38.5601
          ],
          [
           138.252,
           -35.8016
          ],
          [
           138.88,
           -33.0404
          ],
          [
           139.494,
           -30.2767
          ],
          [
           140.097,
           -27.5108
          ],
          [
           140.692,
           -24.7429
          ],
          [
           141.282,
           -21.9731
          ],
          [
           141.868,
           -19.2016
          ],
          [
           142.452,
           -16.4288
          ],
          [
           143.037,
           -13.6547
          ],
          [
           143.624,
           -10.8798
          ],
          [
           144.214,
           -8.10424
          ],
          [
           144.81,
           -5.32833
          ],
          [
           145.413,
           -2.55238
          ],
          [
           146.026,
           0.223287
          ],
          [
           146.649,
           2.99832
          ],
          [
           147.285,
           5.77234
          ],
          [
           147.937,
           8.54498
          ],
          [
           148.606,
           11.3158
          ],
          [
           149.295,
           14.0844
          ],
          [
           150.008,
           16.8502
          ],
          [
           150.747,
           19.6128
          ],
          [
           151.517,
           22.3715
          ],
          [
           152.321,
           25.1257
          ],
          [
           153.166,
           27.8748
          ],
          [
           154.056,
           30.6178
          ],
          [
           154.999,
           33.3539
          ],
          [
           156.004,
           36.082
          ],
          [
           157.08,
           38.8009
          ],
          [
           158.239,
           41.5089
          ],
          [
           159.496,
           44.2044
          ],
          [
           160.869,
           46.885
          ],
          [
           162.382,
           49.5479
          ],
          [
           164.061,
           52.1896
          ],
          [
           165.945,
           54.8056
          ],
          [
           168.078,
           57.3898
          ],
          [
           170.521,
           59.9343
          ],
          [
           173.355,
           62.4285
          ],
          [
           176.682,
           64.8576
          ],
          [
           180,
           66.855911
          ],
          [
           180,
           90
          ],
          [
           180,
           90
          ],
          [
           180,
           90
          ],
          [
           0,
           90
          ],
          [
           -180,
           90
          ],
          [
           -180,
           90
          ],
          [
           -180,
           90
          ],
          [
           -180,
           66.855911
          ],
          [
           -179.357,
           67.2013
          ],
          [
           -174.584,
           69.4306
          ],
          [
           -168.769,
           71.5045
          ],
          [
           -161.645,
           73.365
          ],
          [
           -152.961,
           74.9333
          ],
          [
           -142.604,
           76.1102
          ],
          [
           -130.816,
           76.7911
          ],
          [
           -118.326,
           76.8982
          ],
          [
           -106.177,
           76.4181
          ],
          [
           -95.2509,
           75.4087
          ],
          [
           -85.9627,
           73.9693
          ],
          [
           -78.3014,
           72.204
          ],
          [
           -72.046,
           70.1994
          ],
          [
           -66.9258,
           68.0207
          ],
          [
           -62.6955,
           65.7146
          ],
          [
           -59.1296,
           63.2925
          ],
          [
           -56.1358,
           60.8194
          ],
          [
           -53.5652,
           58.2914
          ],
          [
           -51.3304,
           55.7203
          ],
          [
           -49.3652,
           53.1149
          ],
          [
           -47.6184,
           50.4819
          ],
          [
           -46.0508,
           47.8262
          ],
          [
           -44.6313,
           45.1517
          ],
          [
           -43.3354,
           42.4614
          ],
          [
           -42.1436,
           39.7578
          ],
          [
           -41.0399,
           37.0428
          ],
          [
           -40.0115,
           34.318
          ],
          [
           -39.0477,
           31.5849
          ],
          [
           -38.1395,
           28.8445
          ],
          [
           -37.2796,
           26.0977
          ],
          [
           -36.4616,
           23.3455
          ],
          [
           -35.6801,
           20.5886
          ],
          [
           -34.9306,
           17.8277
          ],
          [
           -34.209,
           15.0632
          ],
          [
           -33.5118,
           12.2959
          ],
          [
           -32.8358,
           9.52615
          ],
          [
           -32.1784,
           6.75443
          ],
          [
           -31.5371,
           3.98118
          ],
          [
           -30.9095,
           1.2068
          ],
          [
           -30.641641,
           0
          ],
          [
           -30.2935,
           -1.56834
          ],
          [
           -29.6874,
           -4.3439
          ],
          [
           -29.089,
           -7.11953
          ],
          [
           -28.4969,
           -9.89492
          ],
          [
           -27.909,
           -12.6698
          ],
          [
           -27.3239,
           -15.4438
          ],
          [
           -26.7396,
           -18.2168
          ],
          [
           -26.1543,
           -20.9885
          ],
          [
           -25.5663,
           -23.7586
          ],
          [
           -24.9733,
           -26.5269
          ],
          [
           -24.3732,
           -29.2933
          ],
          [
           -23.7633,
           -32.0575
          ],
          [
           -23.1409,
           -34.8193
          ],
          [
           -22.5026,
           -37.5785
          ],
          [
           -21.8444,
           -40.335
          ],
          [
           -21.1616,
           -43.0886
          ],
          [
           -20.4486,
           -45.839
          ],
          [
           -19.698,
           -48.5859
          ],
          [
           -18.9009,
           -51.3291
          ],
          [
           -18.0456,
           -54.0683
          ],
          [
           -17.1167,
           -56.8028
          ],
          [
           -16.0936,
           -59.5321
          ],
          [
           -14.9478,
           -62.2552
          ],
          [
           -13.6385,
           -64.9707
          ],
          [
           -12.1059,
           -67.6766
          ],
          [
           -10.2578,
           -70.3696
          ],
          [
           -7.94589,
           -73.0444
          ],
          [
           -4.91546,
           -75.6915
          ],
          [
           -0.693533,
           -78.2932
          ],
          [
           5.67691,
           -80.8115
          ],
          [
           16.3419,
           -83.1551
          ],
          [
           36.1652,
           -85.0689
          ],
          [
           45.139426,
           -85.288243
          ],
          [
           45.1727,
           -85.7263
          ],
          [
           45.1414,
           -85.8925
          ],
          [
           60.416488,
           -85.661638
          ],
          [
           70.1893,
           -85.9005
          ],
          [
           70.3125,
           -85.8914
          ],
          [
           70.2621,
           -85.7162
          ],
          [
           70.292845,
           -85.424026
          ]
         ]
        ],
        "type": "Polygon"
       },
       "id": "S3B_SL_2_WST____20240601T231931_20240602T010030_20240603T064235_6059_093_329______MAR_O_NT_003",
       "links": [
        {
         "href": "https://hda.data.destination-earth.eu/stac/collections/EO.EUM.DAT.SENTINEL-3.SL_2_WST___/items/S3B_SL_2_WST____20240601T231931_20240602T010030_20240603T064235_6059_093_329______MAR_O_NT_003",
         "rel": "self",
         "title": "S3B_SL_2_WST____20240601T231931_20240602T010030_20240603T064235_6059_093_329______MAR_O_NT_003"
        },
        {
         "href": "https://hda.data.destination-earth.eu/stac/",
         "rel": "root"
        },
        {
         "href": "https://hda.data.destination-earth.eu/stac/collections/EO.EUM.DAT.SENTINEL-3.SL_2_WST___",
         "rel": "parent",
         "title": "EO.EUM.DAT.SENTINEL-3.SL_2_WST___"
        },
        {
         "href": "https://hda.data.destination-earth.eu/stac/collections/EO.EUM.DAT.SENTINEL-3.SL_2_WST___",
         "rel": "collection",
         "title": "EO.EUM.DAT.SENTINEL-3.SL_2_WST___"
        }
       ],
       "properties": {
        "constellation": "SENTINEL-3",
        "datetime": "2024-06-01T23:19:30.823198Z",
        "dedl:alias": "EO.EUM.DAT.SENTINEL-3.SL_2_WST___",
        "dedl:baselineCollection": "003",
        "dedl:beginningDateTime": "2024-06-01T23:19:30.823198Z",
        "dedl:endingDateTime": "2024-06-02T01:00:30.004813Z",
        "dedl:lastOrbitDirection": "DESCENDING",
        "dedl:productIdentifier": "/eodata/Sentinel-3/SLSTR/SL_2_WST___/2024/06/01/S3B_SL_2_WST____20240601T231931_20240602T010030_20240603T064235_6059_093_329______MAR_O_NT_003.SEN3",
        "dedl:scope": {
         "discover": null,
         "download": "hda-public-data-access",
         "search": "hda-public-data-access"
        },
        "dedl:timeliness": "NT",
        "dedl:uid": "51a5f74b-2e5e-4113-a87c-dbf974708ea0",
        "description": "SLSTR SST has a spatial resolution of 1km at nadir. Skin Sea Surface Temperature following the GHRSST L2P GDS2 format specification, see https://www.ghrsst.org/ .\n\n- All Sentinel-3 NRT products are available at pick-up point in less than 3h\n- All Sentinel-3 Non Time Critical (NTC) products are available at pick-up point in less than 30 days.\nSentinel-3 is part of a series of Sentinel satellites, under the umbrella of the EU Copernicus programme.",
        "end_datetime": "2024-06-02T01:00:30.004813Z",
        "instruments": [
         "SLSTR"
        ],
        "license": "proprietary",
        "order:status": "succeeded",
        "platform": "SENTINEL-3A,SENTINEL-3B",
        "processing:level": 2,
        "providers": [
         {
          "description": "DestineE Data Lake Fresh Data Pool",
          "name": "dedl",
          "priority": 1,
          "roles": [
           "host"
          ],
          "url": "https://creodias.eu/"
         }
        ],
        "published": "2024-06-03T06:53:26.987925Z",
        "sar:instrument_mode": "Earth Observation",
        "sar:product_type": "SL_2_WST___",
        "sat:absolute_orbit": 31786,
        "sat:orbit_state": "DESCENDING",
        "sat:relative_orbit": 329,
        "start_datetime": "2024-06-01T23:19:30.823198Z",
        "updated": "2024-06-03T07:01:56.540072Z"
       },
       "stac_extensions": [
        "https://stac-extensions.github.io/timestamps/v1.0.0/schema.json",
        "https://stac-extensions.github.io/processing/v1.0.0/schema.json",
        "https://stac-extensions.github.io/sat/v1.0.0/schema.json",
        "https://stac-extensions.github.io/sar/v1.0.0/schema.json",
        "https://stac-extensions.github.io/order/v1.1.0/schema.json"
       ],
       "stac_version": "1.0.0",
       "type": "Feature"
      },
      "text/plain": [
       "<IPython.core.display.JSON object>"
      ]
     },
     "execution_count": 3,
     "metadata": {
      "application/json": {
       "expanded": false,
       "root": "root"
      }
     },
     "output_type": "execute_result"
    }
   ],
   "source": [
    "from IPython.display import JSON\n",
    "\n",
    "product_sst = response_sst.json()[\"features\"][0]\n",
    "\n",
    "print(\"Sea surface temprature\")\n",
    "JSON(product_sst)"
   ]
  },
  {
   "cell_type": "code",
   "execution_count": 4,
   "id": "61b9bdc2-256a-4abe-bd90-b0cb46cdf4a8",
   "metadata": {},
   "outputs": [
    {
     "name": "stdout",
     "output_type": "stream",
     "text": [
      "https://hda.data.destination-earth.eu/stac/collections/EO.EUM.DAT.SENTINEL-3.SL_2_WST___/items/S3B_SL_2_WST____20240601T231931_20240602T010030_20240603T064235_6059_093_329______MAR_O_NT_003/download/20240601231931-MAR-L2P_GHRSST-SSTskin-SLSTRB-20240603064235-v02.0-fv01.0.nc?provider=dedl\n",
      "20240601231931-MAR-L2P_GHRSST-SSTskin-SLSTRB-20240603064235-v02.0-fv01.0.nc\n",
      "downloading 20240601231931-MAR-L2P_GHRSST-SSTskin-SLSTRB-20240603064235-v02.0-fv01.0.nc\n"
     ]
    },
    {
     "name": "stderr",
     "output_type": "stream",
     "text": [
      "675MB [00:01, 625MB/s] \n"
     ]
    }
   ],
   "source": [
    "from tqdm import tqdm\n",
    "import time\n",
    "\n",
    "# Define a list of assets to download\n",
    "assets = [\"20240601231931-MAR-L2P_GHRSST-SSTskin-SLSTRB-20240603064235-v02.0-fv01.0.nc\"]\n",
    "\n",
    "\n",
    "for asset in assets:\n",
    "    download_url = product_sst[\"assets\"][asset][\"href\"]\n",
    "    print(download_url)\n",
    "    filename = asset\n",
    "    print(filename)\n",
    "    response = requests.get(download_url, headers=auth_headers)\n",
    "    total_size = int(response.headers.get(\"content-length\", 0))\n",
    "\n",
    "    print(f\"downloading {filename}\")\n",
    "\n",
    "    with tqdm(total=total_size, unit=\"B\", unit_scale=True) as progress_bar:\n",
    "        with open(filename, 'wb') as f:\n",
    "            for data in response.iter_content(1024):\n",
    "                progress_bar.update(len(data))\n",
    "                f.write(data)"
   ]
  },
  {
   "cell_type": "markdown",
   "id": "ba2cdadf-3ba9-4ccc-816c-a5e93ed1d728",
   "metadata": {},
   "source": [
    "## Read data\n",
    "\n",
    "We read the data and subset it too the baltic sea region."
   ]
  },
  {
   "cell_type": "code",
   "execution_count": 53,
   "id": "ab4dc62f-c17f-428d-ad69-40fbc479e5a2",
   "metadata": {
    "tags": []
   },
   "outputs": [],
   "source": [
    "import rioxarray\n",
    "import matplotlib.pyplot as plt\n",
    "import xarray as xr\n",
    "import numpy as np\n",
    "import netCDF4 as nc"
   ]
  },
  {
   "cell_type": "markdown",
   "id": "69ca0cf6-d3d6-49b2-8082-afd6c771da6d",
   "metadata": {},
   "source": [
    "The load_to_daskarray and load_to_array functions were early attempts to read the data. We later discovered better ways of handling the datasets."
   ]
  },
  {
   "cell_type": "code",
   "execution_count": 136,
   "id": "194c04e7-f4b4-4354-a9e1-908916ed7478",
   "metadata": {},
   "outputs": [],
   "source": [
    "def load_to_daskarray(nc_filename):\n",
    "    grid_reduce = 5\n",
    "    band_vars = xr.open_mfdataset(nc_filename)\n",
    "    band_dict = {}\n",
    "    \n",
    "    for band_var in band_vars:\n",
    "        print(f\"Reading:  {band_var}\")\n",
    "        #band_dict[band_var] = band_vars[band_var].data[::grid_reduce,::grid_reduce]\n",
    "        band_dict[band_var] = band_vars[band_var][:]\n",
    "    band_vars.close()\n",
    "    return band_dict"
   ]
  },
  {
   "cell_type": "code",
   "execution_count": 137,
   "id": "49d2ff27-384d-4714-9834-f89566908475",
   "metadata": {},
   "outputs": [],
   "source": [
    "def load_to_array(nc_filename):\n",
    "    nc_obj = nc.Dataset(nc_filename)\n",
    "    band_dict = {}\n",
    "    \n",
    "    for band_var in nc_obj.variables.keys():\n",
    "        print(f\"Reading:  {band_var}\")\n",
    "        band_dict[band_var] = nc_obj[band_var][:].data\n",
    "    band_vars.close()\n",
    "    return band_dict"
   ]
  },
  {
   "cell_type": "code",
   "execution_count": 138,
   "id": "e82f102a-bf8e-438b-ba1f-4f264c8c82fb",
   "metadata": {},
   "outputs": [
    {
     "name": "stdout",
     "output_type": "stream",
     "text": [
      "Reading:  adi_dtime_from_sst\n",
      "Reading:  aerosol_dynamic_indicator\n",
      "Reading:  brightness_temperature\n",
      "Reading:  dt_analysis\n",
      "Reading:  dual_nadir_sst_difference\n",
      "Reading:  l2p_flags\n",
      "Reading:  lat\n",
      "Reading:  lon\n",
      "Reading:  nadir_sst_theoretical_uncertainty\n",
      "Reading:  nedt\n",
      "Reading:  probability_cloud_single_in\n",
      "Reading:  probability_cloud_single_io\n",
      "Reading:  quality_level\n",
      "Reading:  satellite_zenith_angle\n",
      "Reading:  sea_ice_fraction\n",
      "Reading:  sea_ice_fraction_dtime_from_sst\n",
      "Reading:  sea_surface_temperature\n",
      "Reading:  sses_bias\n",
      "Reading:  sses_standard_deviation\n",
      "Reading:  sst_algorithm_type\n",
      "Reading:  sst_dtime\n",
      "Reading:  sst_theoretical_uncertainty\n",
      "Reading:  time\n",
      "Reading:  wind_speed\n",
      "Reading:  wind_speed_dtime_from_sst\n"
     ]
    }
   ],
   "source": [
    "ds=load_to_array(\"20240601231931-MAR-L2P_GHRSST-SSTskin-SLSTRB-20240603064235-v02.0-fv01.0.nc\")"
   ]
  },
  {
   "cell_type": "markdown",
   "id": "abaa6cce-bd6c-4b88-bc25-1e981e7a96b8",
   "metadata": {},
   "source": [
    "The normalise_image function was originally taken from the eumartools package and slightly adopted to handle our use-case instead of RGB image arrays."
   ]
  },
  {
   "cell_type": "code",
   "execution_count": 139,
   "id": "42fba45b-68ae-4e43-8e79-d0aa19b0c4ff",
   "metadata": {
    "tags": []
   },
   "outputs": [],
   "source": [
    "# function from eumartool (https://gitlab.com/benloveday/eumartools/-/blob/main/eumartools/image_tools.py)\n",
    "# contrast=[1.0, 1.0, 1.0]\n",
    "def normalise_image(grid_array, contrast=False, unhitch=False):\n",
    "    \"\"\"Function to normalise an image using independant channels (unhitch=True)\n",
    "        or combined channels (unhitch=False, default)\n",
    "\n",
    "    Args:\n",
    "        grid_array (numpy array): three-dimensional RGB array to be normalised\n",
    "        contrast (list): non-linear (^2) channel scaling, e.g. [1.0 1.0 1.0]\n",
    "        unhitch (bool): switch for independant or cross-channel normalisation\n",
    "\n",
    "    Returns:\n",
    "        if successful, the normalised array\n",
    "        else returns an error\n",
    "    \"\"\"\n",
    "\n",
    "    try:\n",
    "        img_array = grid_array.copy()\n",
    "        \n",
    "        if unhitch:\n",
    "            # normalise with separating channels\n",
    "            for ii in range(a):\n",
    "                minval = np.nanmin(img_array[:, :, ii])\n",
    "                maxval = np.nanmax(img_array[:, :, ii])\n",
    "                img_array[:, :, ii] = (img_array[:, :, ii] - minval) / (\n",
    "                    maxval - minval\n",
    "                )\n",
    "                # apply contrast\n",
    "                if contrast:\n",
    "                    img_array[:, :, ii] = img_array[:, :, ii] ** contrast[ii]\n",
    "        else:\n",
    "            # normalise without separating channels\n",
    "            minval = np.nanmin(img_array)\n",
    "            maxval = np.nanmax(img_array)\n",
    "            for ii in range(np.shape(img_array)[-1]):\n",
    "                img_array[:, :, ii] = (img_array[:, :, ii] - minval) / (\n",
    "                    maxval - minval\n",
    "                )\n",
    "                # apply contrast\n",
    "                if contrast:\n",
    "                    img_array[:, :, ii] = img_array[:, :, ii] ** contrast[ii]\n",
    "\n",
    "            # non-linearity: contrast - note that the range is not between\n",
    "            # 0 and 1, so need to renormalise afterwards\n",
    "            if contrast:\n",
    "                minval = np.nanmin(img_array)\n",
    "                maxval = np.nanmax(img_array)\n",
    "                for ii in range(np.shape(img_array)[-1]):\n",
    "                    img_array[:, :, ii] = (img_array[:, :, ii] - minval) / (\n",
    "                        maxval - minval\n",
    "                    )\n",
    "\n",
    "        return img_array\n",
    "    except Exception as error:\n",
    "        msg = \"Unsuccessful!\", error, \"occurred.\"\n",
    "        print(msg)\n",
    "        return msg"
   ]
  },
  {
   "cell_type": "markdown",
   "id": "86cf8999-1995-4958-b13f-2192cde5e071",
   "metadata": {},
   "source": [
    "## Final remarks\n",
    "\n",
    "We initially thought that we could do all pre-processing (e.g. normalising) by accessing the pixel value array and performing operations directly on the array. However, we quickly realised that we needed to clip the raster data to our region and resample first. Hence, we moved away from this approach and did our pre-processing as outlined in the main.py and split_tif_files.py code. Normalisation and configuring the CNN model is outlined in CNN_SSC.ipynb."
   ]
  },
  {
   "cell_type": "code",
   "execution_count": 140,
   "id": "d0346048-0002-4ade-8033-ba80dc3f2f31",
   "metadata": {},
   "outputs": [],
   "source": [
    "norm=normalise_image(ds['sea_surface_temperature'])"
   ]
  }
 ],
 "metadata": {
  "kernelspec": {
   "display_name": "Python 3 (ipykernel)",
   "language": "python",
   "name": "python3"
  },
  "language_info": {
   "codemirror_mode": {
    "name": "ipython",
    "version": 3
   },
   "file_extension": ".py",
   "mimetype": "text/x-python",
   "name": "python",
   "nbconvert_exporter": "python",
   "pygments_lexer": "ipython3",
   "version": "3.10.11"
  },
  "toc-autonumbering": true,
  "toc-showmarkdowntxt": true
 },
 "nbformat": 4,
 "nbformat_minor": 5
}
