{
 "cells": [
  {
   "cell_type": "markdown",
   "id": "b64407a7-5bbf-4267-b2f3-a6b07883bc82",
   "metadata": {},
   "source": [
    "## Authorization to the DEDL services"
   ]
  },
  {
   "cell_type": "code",
   "execution_count": 1,
   "id": "6e6b0a16-ccab-4ab3-a7e8-fa3971f5fe43",
   "metadata": {
    "tags": []
   },
   "outputs": [
    {
     "name": "stdin",
     "output_type": "stream",
     "text": [
      "Please input your DESP username or email:  jesper.dejby@ri.se\n",
      "Please input your DESP password:  ········\n"
     ]
    },
    {
     "name": "stdout",
     "output_type": "stream",
     "text": [
      "DEDL/DESP Access Token Obtained Successfully\n"
     ]
    }
   ],
   "source": [
    "from dedllogin import DEDL_auth\n",
    "import requests\n",
    "import json\n",
    "import os\n",
    "from getpass import getpass\n",
    "from IPython.display import JSON\n",
    "\n",
    "username = input(\"Please input your DESP username or email: \")\n",
    "password = getpass(\"Please input your DESP password: \")\n",
    "\n",
    "auth = DEDL_auth(username, password)\n",
    "\n",
    "access_token = auth.get_token()\n",
    "if access_token is not None:\n",
    "    print(\"DEDL/DESP Access Token Obtained Successfully\")\n",
    "else:\n",
    "    print(\"Failed to Obtain DEDL/DESP Access Token\")\n",
    "\n",
    "auth_headers = {\"Authorization\": f\"Bearer {access_token}\"}"
   ]
  },
  {
   "cell_type": "markdown",
   "id": "b0b84045-5f4e-47b7-9c98-a821d7e601a6",
   "metadata": {},
   "source": [
    "## Download data\n",
    "\n",
    "We are aiming to download the ODYSSEA Global Ocean dataset described here: https://hda.data.destination-earth.eu/ui/dataset/EO.MO.DAT.SST_GLO_SST_L3S_NRT_OBSERVATIONS_010_010"
   ]
  },
  {
   "cell_type": "code",
   "execution_count": 6,
   "id": "140e2934-dc42-420e-9f9f-33fb8380e655",
   "metadata": {
    "tags": []
   },
   "outputs": [],
   "source": [
    "response_sst = requests.post(\"https://hda.data.destination-earth.eu/stac/search\", headers=auth_headers, json={\n",
    "    \"collections\": [\"EO.MO.DAT.SST_GLO_SST_L3S_NRT_OBSERVATIONS_010_010\"],\n",
    "    \"datetime\": \"2024-05-31T00:00:00Z/2024-06-01T00:00:00Z\",\n",
    "    'bbox': [10,53,30,66]\n",
    "})"
   ]
  },
  {
   "cell_type": "code",
   "execution_count": 7,
   "id": "0360269f-cc84-4633-a0a7-97da3150c00c",
   "metadata": {
    "tags": []
   },
   "outputs": [
    {
     "data": {
      "application/json": {
       "features": [
        {
         "assets": {
          "downloadLink": {
           "alternate": {
            "origin": {
             "href": "https://s3.waw3-1.cloudferro.com/mdl-native-06/native/SST_GLO_SST_L3S_NRT_OBSERVATIONS_010_010/IFREMER-GLOB-SST-L3-NRT-OBS_FULL_TIME_SERIE_202211/2024/05/20240531000000-IFR-L3S_GHRSST-SSTfnd-ODYSSEA-GLOB_010-v02.1-fv01.0.nc",
             "title": "Origin asset link"
            }
           },
           "href": "https://hda.data.destination-earth.eu/stac/collections/EO.MO.DAT.SST_GLO_SST_L3S_NRT_OBSERVATIONS_010_010/items/20240531000000-IFR-L3S_GHRSST-SSTfnd-ODYSSEA-GLOB_010-v02/download?provider=cop_marine",
           "title": "Download link",
           "type": "application/zip"
          },
          "native": {
           "alternate": {
            "origin": {
             "href": "https://s3.waw3-1.cloudferro.com/mdl-native-06/native/SST_GLO_SST_L3S_NRT_OBSERVATIONS_010_010/IFREMER-GLOB-SST-L3-NRT-OBS_FULL_TIME_SERIE_202211/2024/05/20240531000000-IFR-L3S_GHRSST-SSTfnd-ODYSSEA-GLOB_010-v02.1-fv01.0.nc",
             "title": "Origin asset link",
             "type": "application/x-netcdf"
            }
           },
           "href": "https://hda.data.destination-earth.eu/stac/collections/EO.MO.DAT.SST_GLO_SST_L3S_NRT_OBSERVATIONS_010_010/items/20240531000000-IFR-L3S_GHRSST-SSTfnd-ODYSSEA-GLOB_010-v02/download/native?provider=cop_marine",
           "title": "native",
           "type": "application/x-netcdf"
          },
          "thumbnail": {
           "href": "https://mdl-metadata.s3.waw3-1.cloudferro.com/metadata/thumbnails/SST_GLO_SST_L3S_NRT_OBSERVATIONS_010_010.jpg",
           "role": "thumbnail",
           "title": "Thumbnail",
           "type": "image/jpeg"
          }
         },
         "bbox": [
          -180,
          -90,
          180,
          90
         ],
         "collection": "EO.MO.DAT.SST_GLO_SST_L3S_NRT_OBSERVATIONS_010_010",
         "geometry": {
          "coordinates": [
           [
            [
             180,
             -90
            ],
            [
             180,
             90
            ],
            [
             -180,
             90
            ],
            [
             -180,
             -90
            ],
            [
             180,
             -90
            ]
           ]
          ],
          "type": "Polygon"
         },
         "id": "20240531000000-IFR-L3S_GHRSST-SSTfnd-ODYSSEA-GLOB_010-v02",
         "links": [
          {
           "href": "https://hda.data.destination-earth.eu/stac/collections/EO.MO.DAT.SST_GLO_SST_L3S_NRT_OBSERVATIONS_010_010/items/20240531000000-IFR-L3S_GHRSST-SSTfnd-ODYSSEA-GLOB_010-v02",
           "rel": "self",
           "title": "20240531000000-IFR-L3S_GHRSST-SSTfnd-ODYSSEA-GLOB_010-v02"
          },
          {
           "href": "https://hda.data.destination-earth.eu/stac/",
           "rel": "root"
          },
          {
           "href": "https://hda.data.destination-earth.eu/stac/collections/EO.MO.DAT.SST_GLO_SST_L3S_NRT_OBSERVATIONS_010_010",
           "rel": "parent",
           "title": "EO.MO.DAT.SST_GLO_SST_L3S_NRT_OBSERVATIONS_010_010"
          },
          {
           "href": "https://hda.data.destination-earth.eu/stac/collections/EO.MO.DAT.SST_GLO_SST_L3S_NRT_OBSERVATIONS_010_010",
           "rel": "collection",
           "title": "EO.MO.DAT.SST_GLO_SST_L3S_NRT_OBSERVATIONS_010_010"
          }
         ],
         "properties": {
          "constellation": [
           "NPP",
           "NOAA-20",
           "Metop-B",
           "Metop-C",
           "Sentinel-3A",
           "Sentinel-3B",
           "GOES-18",
           "Meteosat-10",
           "GOES-16",
           "Meteosat-9",
           "Himawari-9",
           "GCOM-W"
          ],
          "cop_marine:Conventions": "CF-1.7, ACDD-1.3, ISO 8601",
          "cop_marine:Metadata_Conventions": "Climate and Forecast (CF) 1.7, Attribute Convention for Data Discovery (ACDD) 1.3",
          "cop_marine:acknowledgement": "Please acknowledge the use of these data with the following statement: these data were produced by the Centre de Recherche et d'Exploitation Satellitaire (CERSAT), at IFREMER, Plouzane (France)",
          "cop_marine:acknowledgment": "This dataset is funded by Copernicus Marine Service",
          "cop_marine:admp_in_preparation": false,
          "cop_marine:admp_updated": "2024-09-19T06:49:26.121703Z",
          "cop_marine:allVariables": [
           "Sea surface foundation temperature (T)",
           "Sea surface temperature (SST)"
          ],
          "cop_marine:altId": "ab5b366c-f7f5-48cf-b94d-0d3748a2cbc3",
          "cop_marine:areas": [
           "Global Ocean"
          ],
          "cop_marine:assimilatedData": [],
          "cop_marine:band": [
           "infrared",
           "infrared",
           "infrared",
           "infrared",
           "infrared",
           "infrared",
           "infrared",
           "infrared",
           "infrared",
           "infrared",
           "infrared",
           "microwave"
          ],
          "cop_marine:cdm_data_type": "grid",
          "cop_marine:citation": "Ifremer / CERSAT. 2022. ODYSSEA Global High-Resolution Sea Surface Temperature Gridded Level 3 Daily dataset for Copernicus Marine Service. Ver. 3.0.1. Ifremer, Plouzane, France. Dataset accessed [YYYY-MM-DD].",
          "cop_marine:cmems_product_id": "SST_GLO_SST_L3S_NRT_OBSERVATIONS_010_010",
          "cop_marine:colors": [
           "Blue Ocean"
          ],
          "cop_marine:communities": [
           "Climate & adaptation",
           "Policy & governance",
           "Science & innovation",
           "Extremes, hazards & safety",
           "Coastal services"
          ],
          "cop_marine:contact": "emmanuelle.autret@ifremer.fr;jfpiolle@ifremer.fr",
          "cop_marine:contacts": [
           {
            "email": "marine-servicedesk@met.no",
            "name": "Service Desk MET.Norway",
            "organisationName": "OSI-METNO-OSLO-NO",
            "responsiblePartyRole": "pointOfContact"
           },
           {
            "email": "andrea.pisano@cnr.it",
            "name": "Andrea Pisano",
            "organisationName": "SST-CNR-ROMA-IT",
            "responsiblePartyRole": "custodian"
           },
           {
            "email": "c.tronconi@cnr.it",
            "name": "Cristina TRONCONI",
            "organisationName": "SST-CNR-ROMA-IT",
            "responsiblePartyRole": "originator"
           },
           {
            "email": "cersat@ifremer.fr",
            "name": "Jean-François PIOLLÉ",
            "organisationName": "SST-IFREMER-BREST-FR",
            "responsiblePartyRole": "resourceProvider"
           },
           {
            "email": "cersat@ifremer.fr",
            "name": "Cristina Tronconi",
            "organisationName": "SST-IFREMER-BREST-FR",
            "responsiblePartyRole": "distributor"
           }
          ],
          "cop_marine:contributor_name": "Jean-Francois Piolle, Emmanuelle Autret",
          "cop_marine:contributor_role": "principal investigator",
          "cop_marine:creator_email": "cersat@ifremer.fr",
          "cop_marine:creator_institution": "Ifremer",
          "cop_marine:creator_name": "CERSAT",
          "cop_marine:creator_type": "institution",
          "cop_marine:creator_url": "http://cersat.ifremer.fr",
          "cop_marine:dataset": "IFREMER-GLOB-SST-L3-NRT-OBS_FULL_TIME_SERIE_202211",
          "cop_marine:date_created": "2023-12-11T08:45:08Z",
          "cop_marine:date_issued": "2023-12-11T08:45:08Z",
          "cop_marine:date_metadata_modified": "2023-12-11T08:45:08Z",
          "cop_marine:date_modified": "2023-12-11T08:45:08Z",
          "cop_marine:directives": [],
          "cop_marine:featureTypes": [
           "Grid"
          ],
          "cop_marine:file_quality_level": 3,
          "cop_marine:format_version": "GHRSST GDS v2.1",
          "cop_marine:formats": [
           "NetCDF-4"
          ],
          "cop_marine:gds_version_id": 2.1,
          "cop_marine:geoExtent": {
           "coordinates": [
            [
             -180,
             80
            ],
            [
             180,
             -80
            ]
           ],
           "type": "envelope"
          },
          "cop_marine:geoResolution": {
           "column": {
            "magnitude": 0.1,
            "units": "degree"
           },
           "row": {
            "magnitude": 0.1,
            "units": "degree"
           }
          },
          "cop_marine:geospatial_bounds": "POLYGON ((-180.0 -80.0, 180.0 -80.0, 180.0 80.0, -180.0 80.0, -180.0 -80.0))",
          "cop_marine:geospatial_bounds_crs": "EPSG:4326",
          "cop_marine:geospatial_bounds_vertical_crs": "EPSG:5831",
          "cop_marine:geospatial_lat_max": 80,
          "cop_marine:geospatial_lat_min": -80,
          "cop_marine:geospatial_lat_resolution": 0.1,
          "cop_marine:geospatial_lat_units": "degrees_north",
          "cop_marine:geospatial_lon_max": 180,
          "cop_marine:geospatial_lon_min": -180,
          "cop_marine:geospatial_lon_resolution": 0.1,
          "cop_marine:geospatial_lon_units": "degrees_east",
          "cop_marine:geospatial_vertical_max": 0,
          "cop_marine:geospatial_vertical_min": 0,
          "cop_marine:history": "file originally produced by Ifremer/Cersat with Odyssea processor 3.1",
          "cop_marine:indicatorFamilies": [],
          "cop_marine:institution": "Institut Francais de Recherche pour l'Exploitation de la mer / Centre d'Exploitation et de Recherche Satellitaire",
          "cop_marine:institution_abbreviation": "Ifremer / CERSAT",
          "cop_marine:instrument_type": [
           "radiometer",
           "radiometer",
           "radiometer",
           "radiometer",
           "radiometer",
           "radiometer",
           "radiometer",
           "radiometer",
           "radiometer",
           "radiometer",
           "radiometer",
           "radiometer"
          ],
          "cop_marine:instrument_vocabulary": "CEOS instrument table",
          "cop_marine:isStaging": false,
          "cop_marine:keywords_vocabulary": "NASA Global Change Master Directory (GCMD) Science Keywords",
          "cop_marine:mainVariables": [
           "Temperature"
          ],
          "cop_marine:metadata_link": "https://resources.marine.copernicus.eu/product-detail/SST_GLO_SST_L3S_NRT_OBSERVATIONS_010_010/INFORMATION",
          "cop_marine:modifiedDate": "2023-11-30",
          "cop_marine:naming_authority": "org.ghrsst",
          "cop_marine:netcdf_version_id": "4.9.2 of Sep  1 2023 15:18:59 $",
          "cop_marine:originalLicense": "These data are available free of charge under the CMEMS data policy, refer to http://marine.copernicus.eu/services-portfolio/service-commitments-and-licence/",
          "cop_marine:platform_type": [
           "polar_orbiter",
           "polar_orbiter",
           "polar_orbiter",
           "polar_orbiter",
           "polar_orbiter",
           "polar_orbiter",
           "geostationary",
           "geostationary",
           "geostationary",
           "geostationary",
           "geostationary",
           "polar_orbiter"
          ],
          "cop_marine:platform_vocabulary": "CEOS mission table",
          "cop_marine:processing_level": "L3S",
          "cop_marine:processing_software": "Odyssea 3.1",
          "cop_marine:product_version": 1,
          "cop_marine:program": "Copernicus, GHRSST",
          "cop_marine:project": "Copernicus Marine Service",
          "cop_marine:projection": "Equirectangular",
          "cop_marine:providerMetadata": {
           "source": "cmems",
           "type": "csw",
           "url": "https://cmems-catalog-ro.cls.fr/geonetwork/srv/eng/csw-MYOCEAN-CORE-PRODUCTS?service=CSW&version=2.0.2&request=GetRecordById&id=ab5b366c-f7f5-48cf-b94d-0d3748a2cbc3&elementsetname=full&outputSchema=http://www.isotc211.org/2005/gmd"
          },
          "cop_marine:publisher_email": "cersat@ifremer.fr",
          "cop_marine:publisher_institution": "Copernicus Marine Service",
          "cop_marine:publisher_name": "Copernicus Marine Service",
          "cop_marine:publisher_type": "institution",
          "cop_marine:publisher_url": "https://marine.copernicus.eu",
          "cop_marine:rank": 12010,
          "cop_marine:references": "Product User Manual for L3S Odyssea Product over the Global Ocean, v2.1, Nov 2023, https://catalogue.marine.copernicus.eu/documents/PUM/CMEMS-SST-PUM-010-010.pdf",
          "cop_marine:scientific_support_contact": "emmanuelle.autret@ifremer.fr;jfpiolle@ifremer.fr",
          "cop_marine:source": "Odyssea L3S processor",
          "cop_marine:source_version": 3.1,
          "cop_marine:sources": [
           "Satellite observations"
          ],
          "cop_marine:spatial_resolution": "0.10 degree",
          "cop_marine:standard_name_vocabulary": "Climate and Forecast (CF) Standard Name Table v79",
          "cop_marine:summary": "This dataset provide a times series of daily multi-sensor composite fields of Sea Surface Temperature (SST) foundation at high resolution (HR) on a 0.10 x 0.10 degree grid (approximately 10 x 10 km) for the Global ocean, every 24 hours. It is produced for the Copernicus Marine Service.",
          "cop_marine:technical_support_contact": "cersat@ifremer.fr",
          "cop_marine:tempExtentBegin": "2021-01-01",
          "cop_marine:tempResolutions": [
           "Daily"
          ],
          "cop_marine:temporal_resolution": "daily",
          "cop_marine:thumbnailMeta": {
           "basemapId": "dark",
           "colormapId": "thermal",
           "colormapInvert": false,
           "creationDate": "2023-06-18T06:33:40.478Z",
           "crs": "epsg:4326",
           "elevation": null,
           "layerId": "SST_GLO_SST_L3S_NRT_OBSERVATIONS_010_010/IFREMER-GLOB-SST-L3-NRT-OBS_FULL_TIME_SERIE_202211/sea_surface_temperature",
           "logScale": false,
           "overlays": {
            "tags": [
             {
              "name": "SST"
             }
            ]
           },
           "style": "default",
           "time": 1672531200000,
           "valueClamp": true,
           "valueMax": 303.6099853515625,
           "valueMin": 266.859985351563
          },
          "cop_marine:time_coverage_end": "2023-12-10T12:00:00Z",
          "cop_marine:time_coverage_resolution": "P1D",
          "cop_marine:time_coverage_start": "2023-12-09T12:00:00Z",
          "cop_marine:times": [
           "Present",
           "Past"
          ],
          "cop_marine:updateFrequencies": {
           "daily": "12:00"
          },
          "cop_marine:useCases": [],
          "cop_marine:uuid": "96ef4d48-9801-11ee-a240-0cc47a3f7883",
          "cop_marine:vertExtentMax": 0,
          "cop_marine:vertExtentMin": 0,
          "created": "2009-09-30",
          "cube:dimensions": {
           "latitude": {
            "axis": "y",
            "extent": [
             -79.94999694824219,
             79.94999694824219
            ],
            "reference_system": 4326,
            "step": 0.09999999618291706,
            "type": "spatial"
           },
           "longitude": {
            "axis": "x",
            "extent": [
             -179.9499969482422,
             179.9499969482422
            ],
            "reference_system": 4326,
            "step": 0.09999999830410791,
            "type": "spatial"
           },
           "time": {
            "extent": [
             "2021-01-01T00:00:00Z",
             "2024-09-18T00:00:00Z"
            ],
            "step": "P1D",
            "type": "temporal"
           }
          },
          "cube:variables": {
           "adjusted_sea_surface_temperature": {
            "abbreviation": "adjusted_sea_surface_temperature",
            "colormapDiffId": "balance",
            "colormapDiffInvert": false,
            "colormapId": "thermal",
            "colormapInvert": false,
            "dimensions": [
             "time",
             "latitude",
             "longitude"
            ],
            "hasLogScale": true,
            "id": "adjusted_sea_surface_temperature",
            "logScale": false,
            "missingValue": -32768,
            "name": {
             "en": "Sea surface subskin temperature"
            },
            "offset": 273.15,
            "scale": 0.01,
            "standardName": "sea_surface_foundation_temperature",
            "type": "data",
            "unit": "kelvin",
            "unitConversion": null,
            "valueClamp": true,
            "valueColor": false,
            "valueDiffMax": 14.770004272460938,
            "valueDiffRelMax": 25,
            "valueMax": 303.29998779296875,
            "valueMin": 273.7599792480469
           },
           "bias_to_reference_sst": {
            "abbreviation": "bias_to_reference_sst",
            "colormapDiffId": "balance",
            "colormapDiffInvert": false,
            "colormapId": "balance",
            "colormapInvert": false,
            "dimensions": [
             "time",
             "latitude",
             "longitude"
            ],
            "hasLogScale": false,
            "id": "bias_to_reference_sst",
            "logScale": false,
            "missingValue": 0,
            "name": {
             "en": "Bias error derived from reference"
            },
            "offset": 0,
            "scale": 1,
            "standardName": null,
            "type": "data",
            "unit": "kelvin",
            "unitConversion": null,
            "valueClamp": true,
            "valueColor": false,
            "valueDiffMax": 1,
            "valueDiffRelMax": 25,
            "valueMax": 1,
            "valueMin": -1
           },
           "or_latitude": {
            "abbreviation": "or_latitude",
            "colormapDiffId": "balance",
            "colormapDiffInvert": false,
            "colormapId": "viridis",
            "colormapInvert": false,
            "dimensions": [
             "time",
             "latitude",
             "longitude"
            ],
            "hasLogScale": false,
            "id": "or_latitude",
            "logScale": false,
            "missingValue": 0,
            "name": {
             "en": "Latitude"
            },
            "offset": 0,
            "scale": 0.01,
            "standardName": "latitude",
            "type": "data",
            "unit": "degrees_north",
            "unitConversion": null,
            "valueClamp": true,
            "valueColor": false,
            "valueDiffMax": 62.20499610900879,
            "valueDiffRelMax": 25,
            "valueMax": 66.3699951171875,
            "valueMin": -58.03999710083008
           },
           "or_longitude": {
            "abbreviation": "or_longitude",
            "colormapDiffId": "balance",
            "colormapDiffInvert": false,
            "colormapId": "viridis",
            "colormapInvert": false,
            "dimensions": [
             "time",
             "latitude",
             "longitude"
            ],
            "hasLogScale": false,
            "id": "or_longitude",
            "logScale": false,
            "missingValue": 0,
            "name": {
             "en": "Longitude"
            },
            "offset": 0,
            "scale": 0.01,
            "standardName": "longitude",
            "type": "data",
            "unit": "degrees_east",
            "unitConversion": null,
            "valueClamp": true,
            "valueColor": false,
            "valueDiffMax": 174.50499725341797,
            "valueDiffRelMax": 25,
            "valueMax": 174.55999755859375,
            "valueMin": -174.4499969482422
           },
           "or_number_of_pixels": {
            "abbreviation": "or_number_of_pixels",
            "colormapDiffId": "balance",
            "colormapDiffInvert": false,
            "colormapId": "viridis",
            "colormapInvert": false,
            "dimensions": [
             "time",
             "latitude",
             "longitude"
            ],
            "hasLogScale": true,
            "id": "or_number_of_pixels",
            "logScale": false,
            "missingValue": -32768,
            "name": {
             "en": "Sea surface subskin temperature"
            },
            "offset": null,
            "scale": null,
            "standardName": "sea_surface_foundation_temperature number_of_observations",
            "type": "data",
            "unit": 1,
            "unitConversion": null,
            "valueClamp": true,
            "valueColor": false,
            "valueDiffMax": 95,
            "valueDiffRelMax": 25,
            "valueMax": 191,
            "valueMin": 1
           },
           "quality_level": {
            "abbreviation": "quality_level",
            "colormapDiffId": "balance",
            "colormapDiffInvert": false,
            "colormapId": "rainbow",
            "colormapInvert": false,
            "dimensions": [
             "time",
             "latitude",
             "longitude"
            ],
            "hasLogScale": true,
            "id": "quality_level",
            "logScale": false,
            "missingValue": -128,
            "name": {
             "en": "Quality level of SST pixel"
            },
            "offset": null,
            "scale": null,
            "standardName": "sea_surface_foundation_temperature status_flag",
            "type": "data",
            "unitConversion": null,
            "valueClamp": true,
            "valueColor": false,
            "valueDiffMax": 0.5,
            "valueDiffRelMax": 25,
            "valueMax": 5,
            "valueMin": 4
           },
           "satellite_zenith_angle": {
            "abbreviation": "satellite_zenith_angle",
            "colormapDiffId": "balance",
            "colormapDiffInvert": false,
            "colormapId": "balance",
            "colormapInvert": false,
            "dimensions": [
             "time",
             "latitude",
             "longitude"
            ],
            "hasLogScale": false,
            "id": "satellite_zenith_angle",
            "logScale": false,
            "missingValue": 0,
            "name": {
             "en": "Satellite zenith angle"
            },
            "offset": 0,
            "scale": 1,
            "standardName": "platform_zenith_angle",
            "type": "data",
            "unit": "degrees",
            "unitConversion": null,
            "valueClamp": true,
            "valueColor": false,
            "valueDiffMax": 66,
            "valueDiffRelMax": 25,
            "valueMax": 66,
            "valueMin": -66
           },
           "sea_surface_temperature": {
            "abbreviation": "sea_surface_temperature",
            "colormapDiffId": "balance",
            "colormapDiffInvert": false,
            "colormapId": "thermal",
            "colormapInvert": false,
            "dimensions": [
             "time",
             "latitude",
             "longitude"
            ],
            "hasLogScale": true,
            "id": "sea_surface_temperature",
            "logScale": false,
            "missingValue": -32768,
            "name": {
             "en": "Sea surface subskin temperature"
            },
            "offset": 273.15,
            "scale": 0.01,
            "standardName": "sea_surface_foundation_temperature",
            "type": "data",
            "unit": "kelvin",
            "unitConversion": null,
            "valueClamp": true,
            "valueColor": false,
            "valueDiffMax": 14.7550048828125,
            "valueDiffRelMax": 25,
            "valueMax": 303.2699890136719,
            "valueMin": 273.7599792480469
           },
           "sea_surface_temperature_stddev": {
            "abbreviation": "sea_surface_temperature_stddev",
            "colormapDiffId": "balance",
            "colormapDiffInvert": false,
            "colormapId": "rainbow",
            "colormapInvert": false,
            "dimensions": [
             "time",
             "latitude",
             "longitude"
            ],
            "hasLogScale": true,
            "id": "sea_surface_temperature_stddev",
            "logScale": false,
            "missingValue": -32768,
            "name": {
             "en": "Sea surface subskin temperature"
            },
            "offset": null,
            "scale": null,
            "standardName": "sea_surface_subskin_temperature",
            "type": "data",
            "unit": "kelvin",
            "unitConversion": null,
            "valueClamp": true,
            "valueColor": false,
            "valueDiffMax": 0.18396876543760293,
            "valueDiffRelMax": 25,
            "valueMax": 0.36793753087520586,
            "valueMin": 0
           },
           "solar_zenith_angle": {
            "abbreviation": "solar_zenith_angle",
            "colormapDiffId": "balance",
            "colormapDiffInvert": false,
            "colormapId": "viridis",
            "colormapInvert": false,
            "dimensions": [
             "time",
             "latitude",
             "longitude"
            ],
            "hasLogScale": true,
            "id": "solar_zenith_angle",
            "logScale": false,
            "missingValue": 0,
            "name": {
             "en": "Sun zenith angle"
            },
            "offset": 90,
            "scale": 1,
            "standardName": "solar_zenith_angle",
            "type": "data",
            "unit": "angular_degree",
            "unitConversion": null,
            "valueClamp": true,
            "valueColor": false,
            "valueDiffMax": 36,
            "valueDiffRelMax": 25,
            "valueMax": 163,
            "valueMin": 91
           },
           "sses_bias": {
            "abbreviation": "sses_bias",
            "colormapDiffId": "balance",
            "colormapDiffInvert": false,
            "colormapId": "balance",
            "colormapInvert": false,
            "dimensions": [
             "time",
             "latitude",
             "longitude"
            ],
            "hasLogScale": false,
            "id": "sses_bias",
            "logScale": false,
            "missingValue": -128,
            "name": {
             "en": "SSES bias estimate"
            },
            "offset": 0,
            "scale": 0.02,
            "standardName": null,
            "type": "data",
            "unit": "kelvin",
            "unitConversion": null,
            "valueClamp": true,
            "valueColor": false,
            "valueDiffMax": 0.25999999046325684,
            "valueDiffRelMax": 25,
            "valueMax": 0.25999999046325684,
            "valueMin": -0.25999999046325684
           },
           "sses_standard_deviation": {
            "abbreviation": "sses_standard_deviation",
            "colormapDiffId": "balance",
            "colormapDiffInvert": false,
            "colormapId": "rainbow",
            "colormapInvert": false,
            "dimensions": [
             "time",
             "latitude",
             "longitude"
            ],
            "hasLogScale": true,
            "id": "sses_standard_deviation",
            "logScale": false,
            "missingValue": -128,
            "name": {
             "en": "SSES standard deviation"
            },
            "offset": 2.54,
            "scale": 0.02,
            "standardName": null,
            "type": "data",
            "unit": "kelvin",
            "unitConversion": null,
            "valueClamp": true,
            "valueColor": false,
            "valueDiffMax": 0.30000001192092896,
            "valueDiffRelMax": 25,
            "valueMax": 0.6000000238418579,
            "valueMin": 0
           },
           "sst_dtime": {
            "abbreviation": "sst_dtime",
            "colormapDiffId": "balance",
            "colormapDiffInvert": false,
            "colormapId": "balance",
            "colormapInvert": false,
            "dimensions": [
             "time",
             "latitude",
             "longitude"
            ],
            "hasLogScale": false,
            "id": "sst_dtime",
            "logScale": false,
            "missingValue": -2147483648,
            "name": {
             "en": "Time difference from reference time"
            },
            "offset": 0,
            "scale": 2,
            "standardName": "",
            "type": "data",
            "unitConversion": null,
            "valueClamp": true,
            "valueColor": false,
            "valueDiffMax": 1,
            "valueDiffRelMax": 25,
            "valueMax": 1,
            "valueMin": -1
           }
          },
          "datetime": "2024-05-31T00:00:00Z",
          "end_datetime": "2024-05-31T00:00:00Z",
          "instruments": [
           [
            "VIIRS",
            "VIIRS",
            "AVHRR/3",
            "AVHRR/3",
            "SLSTR",
            "SLSTR",
            "ABI",
            "SEVIRI",
            "ABI",
            "SEVIRI",
            "AHI",
            "AMSR-2"
           ]
          ],
          "license": "proprietary",
          "order:status": "",
          "processing:level": "Level 3",
          "providers": [
           {
            "description": "Copernicus Marine Data Store",
            "name": "cop_marine",
            "priority": 0,
            "roles": [
             "host"
            ],
            "url": "https://marine.copernicus.eu/"
           }
          ],
          "sci:doi": "https://doi.org/10.48670/moi-00164",
          "start_datetime": "2024-05-31T00:00:00Z"
         },
         "stac_extensions": [
          "https://stac-extensions.github.io/processing/v1.0.0/schema.json",
          "https://stac-extensions.github.io/scientific/v1.0.0/schema.json",
          "https://stac-extensions.github.io/order/v1.1.0/schema.json"
         ],
         "stac_version": "1.0.0",
         "type": "Feature"
        },
        {
         "assets": {
          "downloadLink": {
           "alternate": {
            "origin": {
             "href": "https://s3.waw3-1.cloudferro.com/mdl-native-06/native/SST_GLO_SST_L3S_NRT_OBSERVATIONS_010_010/IFREMER-GLOB-SST-L3-NRT-OBS_FULL_TIME_SERIE_202211/2024/06/20240601000000-IFR-L3S_GHRSST-SSTfnd-ODYSSEA-GLOB_010-v02.1-fv01.0.nc",
             "title": "Origin asset link"
            }
           },
           "href": "https://hda.data.destination-earth.eu/stac/collections/EO.MO.DAT.SST_GLO_SST_L3S_NRT_OBSERVATIONS_010_010/items/20240601000000-IFR-L3S_GHRSST-SSTfnd-ODYSSEA-GLOB_010-v02/download?provider=cop_marine",
           "title": "Download link",
           "type": "application/zip"
          },
          "native": {
           "alternate": {
            "origin": {
             "href": "https://s3.waw3-1.cloudferro.com/mdl-native-06/native/SST_GLO_SST_L3S_NRT_OBSERVATIONS_010_010/IFREMER-GLOB-SST-L3-NRT-OBS_FULL_TIME_SERIE_202211/2024/06/20240601000000-IFR-L3S_GHRSST-SSTfnd-ODYSSEA-GLOB_010-v02.1-fv01.0.nc",
             "title": "Origin asset link",
             "type": "application/x-netcdf"
            }
           },
           "href": "https://hda.data.destination-earth.eu/stac/collections/EO.MO.DAT.SST_GLO_SST_L3S_NRT_OBSERVATIONS_010_010/items/20240601000000-IFR-L3S_GHRSST-SSTfnd-ODYSSEA-GLOB_010-v02/download/native?provider=cop_marine",
           "title": "native",
           "type": "application/x-netcdf"
          },
          "thumbnail": {
           "href": "https://mdl-metadata.s3.waw3-1.cloudferro.com/metadata/thumbnails/SST_GLO_SST_L3S_NRT_OBSERVATIONS_010_010.jpg",
           "role": "thumbnail",
           "title": "Thumbnail",
           "type": "image/jpeg"
          }
         },
         "bbox": [
          -180,
          -90,
          180,
          90
         ],
         "collection": "EO.MO.DAT.SST_GLO_SST_L3S_NRT_OBSERVATIONS_010_010",
         "geometry": {
          "coordinates": [
           [
            [
             180,
             -90
            ],
            [
             180,
             90
            ],
            [
             -180,
             90
            ],
            [
             -180,
             -90
            ],
            [
             180,
             -90
            ]
           ]
          ],
          "type": "Polygon"
         },
         "id": "20240601000000-IFR-L3S_GHRSST-SSTfnd-ODYSSEA-GLOB_010-v02",
         "links": [
          {
           "href": "https://hda.data.destination-earth.eu/stac/collections/EO.MO.DAT.SST_GLO_SST_L3S_NRT_OBSERVATIONS_010_010/items/20240601000000-IFR-L3S_GHRSST-SSTfnd-ODYSSEA-GLOB_010-v02",
           "rel": "self",
           "title": "20240601000000-IFR-L3S_GHRSST-SSTfnd-ODYSSEA-GLOB_010-v02"
          },
          {
           "href": "https://hda.data.destination-earth.eu/stac/",
           "rel": "root"
          },
          {
           "href": "https://hda.data.destination-earth.eu/stac/collections/EO.MO.DAT.SST_GLO_SST_L3S_NRT_OBSERVATIONS_010_010",
           "rel": "parent",
           "title": "EO.MO.DAT.SST_GLO_SST_L3S_NRT_OBSERVATIONS_010_010"
          },
          {
           "href": "https://hda.data.destination-earth.eu/stac/collections/EO.MO.DAT.SST_GLO_SST_L3S_NRT_OBSERVATIONS_010_010",
           "rel": "collection",
           "title": "EO.MO.DAT.SST_GLO_SST_L3S_NRT_OBSERVATIONS_010_010"
          }
         ],
         "properties": {
          "constellation": [
           "NPP",
           "NOAA-20",
           "Metop-B",
           "Metop-C",
           "Sentinel-3A",
           "Sentinel-3B",
           "GOES-18",
           "Meteosat-10",
           "GOES-16",
           "Meteosat-9",
           "Himawari-9",
           "GCOM-W"
          ],
          "cop_marine:Conventions": "CF-1.7, ACDD-1.3, ISO 8601",
          "cop_marine:Metadata_Conventions": "Climate and Forecast (CF) 1.7, Attribute Convention for Data Discovery (ACDD) 1.3",
          "cop_marine:acknowledgement": "Please acknowledge the use of these data with the following statement: these data were produced by the Centre de Recherche et d'Exploitation Satellitaire (CERSAT), at IFREMER, Plouzane (France)",
          "cop_marine:acknowledgment": "This dataset is funded by Copernicus Marine Service",
          "cop_marine:admp_in_preparation": false,
          "cop_marine:admp_updated": "2024-09-19T06:49:26.121703Z",
          "cop_marine:allVariables": [
           "Sea surface foundation temperature (T)",
           "Sea surface temperature (SST)"
          ],
          "cop_marine:altId": "ab5b366c-f7f5-48cf-b94d-0d3748a2cbc3",
          "cop_marine:areas": [
           "Global Ocean"
          ],
          "cop_marine:assimilatedData": [],
          "cop_marine:band": [
           "infrared",
           "infrared",
           "infrared",
           "infrared",
           "infrared",
           "infrared",
           "infrared",
           "infrared",
           "infrared",
           "infrared",
           "infrared",
           "microwave"
          ],
          "cop_marine:cdm_data_type": "grid",
          "cop_marine:citation": "Ifremer / CERSAT. 2022. ODYSSEA Global High-Resolution Sea Surface Temperature Gridded Level 3 Daily dataset for Copernicus Marine Service. Ver. 3.0.1. Ifremer, Plouzane, France. Dataset accessed [YYYY-MM-DD].",
          "cop_marine:cmems_product_id": "SST_GLO_SST_L3S_NRT_OBSERVATIONS_010_010",
          "cop_marine:colors": [
           "Blue Ocean"
          ],
          "cop_marine:communities": [
           "Climate & adaptation",
           "Policy & governance",
           "Science & innovation",
           "Extremes, hazards & safety",
           "Coastal services"
          ],
          "cop_marine:contact": "emmanuelle.autret@ifremer.fr;jfpiolle@ifremer.fr",
          "cop_marine:contacts": [
           {
            "email": "marine-servicedesk@met.no",
            "name": "Service Desk MET.Norway",
            "organisationName": "OSI-METNO-OSLO-NO",
            "responsiblePartyRole": "pointOfContact"
           },
           {
            "email": "andrea.pisano@cnr.it",
            "name": "Andrea Pisano",
            "organisationName": "SST-CNR-ROMA-IT",
            "responsiblePartyRole": "custodian"
           },
           {
            "email": "c.tronconi@cnr.it",
            "name": "Cristina TRONCONI",
            "organisationName": "SST-CNR-ROMA-IT",
            "responsiblePartyRole": "originator"
           },
           {
            "email": "cersat@ifremer.fr",
            "name": "Jean-François PIOLLÉ",
            "organisationName": "SST-IFREMER-BREST-FR",
            "responsiblePartyRole": "resourceProvider"
           },
           {
            "email": "cersat@ifremer.fr",
            "name": "Cristina Tronconi",
            "organisationName": "SST-IFREMER-BREST-FR",
            "responsiblePartyRole": "distributor"
           }
          ],
          "cop_marine:contributor_name": "Jean-Francois Piolle, Emmanuelle Autret",
          "cop_marine:contributor_role": "principal investigator",
          "cop_marine:creator_email": "cersat@ifremer.fr",
          "cop_marine:creator_institution": "Ifremer",
          "cop_marine:creator_name": "CERSAT",
          "cop_marine:creator_type": "institution",
          "cop_marine:creator_url": "http://cersat.ifremer.fr",
          "cop_marine:dataset": "IFREMER-GLOB-SST-L3-NRT-OBS_FULL_TIME_SERIE_202211",
          "cop_marine:date_created": "2023-12-11T08:45:08Z",
          "cop_marine:date_issued": "2023-12-11T08:45:08Z",
          "cop_marine:date_metadata_modified": "2023-12-11T08:45:08Z",
          "cop_marine:date_modified": "2023-12-11T08:45:08Z",
          "cop_marine:directives": [],
          "cop_marine:featureTypes": [
           "Grid"
          ],
          "cop_marine:file_quality_level": 3,
          "cop_marine:format_version": "GHRSST GDS v2.1",
          "cop_marine:formats": [
           "NetCDF-4"
          ],
          "cop_marine:gds_version_id": 2.1,
          "cop_marine:geoExtent": {
           "coordinates": [
            [
             -180,
             80
            ],
            [
             180,
             -80
            ]
           ],
           "type": "envelope"
          },
          "cop_marine:geoResolution": {
           "column": {
            "magnitude": 0.1,
            "units": "degree"
           },
           "row": {
            "magnitude": 0.1,
            "units": "degree"
           }
          },
          "cop_marine:geospatial_bounds": "POLYGON ((-180.0 -80.0, 180.0 -80.0, 180.0 80.0, -180.0 80.0, -180.0 -80.0))",
          "cop_marine:geospatial_bounds_crs": "EPSG:4326",
          "cop_marine:geospatial_bounds_vertical_crs": "EPSG:5831",
          "cop_marine:geospatial_lat_max": 80,
          "cop_marine:geospatial_lat_min": -80,
          "cop_marine:geospatial_lat_resolution": 0.1,
          "cop_marine:geospatial_lat_units": "degrees_north",
          "cop_marine:geospatial_lon_max": 180,
          "cop_marine:geospatial_lon_min": -180,
          "cop_marine:geospatial_lon_resolution": 0.1,
          "cop_marine:geospatial_lon_units": "degrees_east",
          "cop_marine:geospatial_vertical_max": 0,
          "cop_marine:geospatial_vertical_min": 0,
          "cop_marine:history": "file originally produced by Ifremer/Cersat with Odyssea processor 3.1",
          "cop_marine:indicatorFamilies": [],
          "cop_marine:institution": "Institut Francais de Recherche pour l'Exploitation de la mer / Centre d'Exploitation et de Recherche Satellitaire",
          "cop_marine:institution_abbreviation": "Ifremer / CERSAT",
          "cop_marine:instrument_type": [
           "radiometer",
           "radiometer",
           "radiometer",
           "radiometer",
           "radiometer",
           "radiometer",
           "radiometer",
           "radiometer",
           "radiometer",
           "radiometer",
           "radiometer",
           "radiometer"
          ],
          "cop_marine:instrument_vocabulary": "CEOS instrument table",
          "cop_marine:isStaging": false,
          "cop_marine:keywords_vocabulary": "NASA Global Change Master Directory (GCMD) Science Keywords",
          "cop_marine:mainVariables": [
           "Temperature"
          ],
          "cop_marine:metadata_link": "https://resources.marine.copernicus.eu/product-detail/SST_GLO_SST_L3S_NRT_OBSERVATIONS_010_010/INFORMATION",
          "cop_marine:modifiedDate": "2023-11-30",
          "cop_marine:naming_authority": "org.ghrsst",
          "cop_marine:netcdf_version_id": "4.9.2 of Sep  1 2023 15:18:59 $",
          "cop_marine:originalLicense": "These data are available free of charge under the CMEMS data policy, refer to http://marine.copernicus.eu/services-portfolio/service-commitments-and-licence/",
          "cop_marine:platform_type": [
           "polar_orbiter",
           "polar_orbiter",
           "polar_orbiter",
           "polar_orbiter",
           "polar_orbiter",
           "polar_orbiter",
           "geostationary",
           "geostationary",
           "geostationary",
           "geostationary",
           "geostationary",
           "polar_orbiter"
          ],
          "cop_marine:platform_vocabulary": "CEOS mission table",
          "cop_marine:processing_level": "L3S",
          "cop_marine:processing_software": "Odyssea 3.1",
          "cop_marine:product_version": 1,
          "cop_marine:program": "Copernicus, GHRSST",
          "cop_marine:project": "Copernicus Marine Service",
          "cop_marine:projection": "Equirectangular",
          "cop_marine:providerMetadata": {
           "source": "cmems",
           "type": "csw",
           "url": "https://cmems-catalog-ro.cls.fr/geonetwork/srv/eng/csw-MYOCEAN-CORE-PRODUCTS?service=CSW&version=2.0.2&request=GetRecordById&id=ab5b366c-f7f5-48cf-b94d-0d3748a2cbc3&elementsetname=full&outputSchema=http://www.isotc211.org/2005/gmd"
          },
          "cop_marine:publisher_email": "cersat@ifremer.fr",
          "cop_marine:publisher_institution": "Copernicus Marine Service",
          "cop_marine:publisher_name": "Copernicus Marine Service",
          "cop_marine:publisher_type": "institution",
          "cop_marine:publisher_url": "https://marine.copernicus.eu",
          "cop_marine:rank": 12010,
          "cop_marine:references": "Product User Manual for L3S Odyssea Product over the Global Ocean, v2.1, Nov 2023, https://catalogue.marine.copernicus.eu/documents/PUM/CMEMS-SST-PUM-010-010.pdf",
          "cop_marine:scientific_support_contact": "emmanuelle.autret@ifremer.fr;jfpiolle@ifremer.fr",
          "cop_marine:source": "Odyssea L3S processor",
          "cop_marine:source_version": 3.1,
          "cop_marine:sources": [
           "Satellite observations"
          ],
          "cop_marine:spatial_resolution": "0.10 degree",
          "cop_marine:standard_name_vocabulary": "Climate and Forecast (CF) Standard Name Table v79",
          "cop_marine:summary": "This dataset provide a times series of daily multi-sensor composite fields of Sea Surface Temperature (SST) foundation at high resolution (HR) on a 0.10 x 0.10 degree grid (approximately 10 x 10 km) for the Global ocean, every 24 hours. It is produced for the Copernicus Marine Service.",
          "cop_marine:technical_support_contact": "cersat@ifremer.fr",
          "cop_marine:tempExtentBegin": "2021-01-01",
          "cop_marine:tempResolutions": [
           "Daily"
          ],
          "cop_marine:temporal_resolution": "daily",
          "cop_marine:thumbnailMeta": {
           "basemapId": "dark",
           "colormapId": "thermal",
           "colormapInvert": false,
           "creationDate": "2023-06-18T06:33:40.478Z",
           "crs": "epsg:4326",
           "elevation": null,
           "layerId": "SST_GLO_SST_L3S_NRT_OBSERVATIONS_010_010/IFREMER-GLOB-SST-L3-NRT-OBS_FULL_TIME_SERIE_202211/sea_surface_temperature",
           "logScale": false,
           "overlays": {
            "tags": [
             {
              "name": "SST"
             }
            ]
           },
           "style": "default",
           "time": 1672531200000,
           "valueClamp": true,
           "valueMax": 303.6099853515625,
           "valueMin": 266.859985351563
          },
          "cop_marine:time_coverage_end": "2023-12-10T12:00:00Z",
          "cop_marine:time_coverage_resolution": "P1D",
          "cop_marine:time_coverage_start": "2023-12-09T12:00:00Z",
          "cop_marine:times": [
           "Present",
           "Past"
          ],
          "cop_marine:updateFrequencies": {
           "daily": "12:00"
          },
          "cop_marine:useCases": [],
          "cop_marine:uuid": "96ef4d48-9801-11ee-a240-0cc47a3f7883",
          "cop_marine:vertExtentMax": 0,
          "cop_marine:vertExtentMin": 0,
          "created": "2009-09-30",
          "cube:dimensions": {
           "latitude": {
            "axis": "y",
            "extent": [
             -79.94999694824219,
             79.94999694824219
            ],
            "reference_system": 4326,
            "step": 0.09999999618291706,
            "type": "spatial"
           },
           "longitude": {
            "axis": "x",
            "extent": [
             -179.9499969482422,
             179.9499969482422
            ],
            "reference_system": 4326,
            "step": 0.09999999830410791,
            "type": "spatial"
           },
           "time": {
            "extent": [
             "2021-01-01T00:00:00Z",
             "2024-09-18T00:00:00Z"
            ],
            "step": "P1D",
            "type": "temporal"
           }
          },
          "cube:variables": {
           "adjusted_sea_surface_temperature": {
            "abbreviation": "adjusted_sea_surface_temperature",
            "colormapDiffId": "balance",
            "colormapDiffInvert": false,
            "colormapId": "thermal",
            "colormapInvert": false,
            "dimensions": [
             "time",
             "latitude",
             "longitude"
            ],
            "hasLogScale": true,
            "id": "adjusted_sea_surface_temperature",
            "logScale": false,
            "missingValue": -32768,
            "name": {
             "en": "Sea surface subskin temperature"
            },
            "offset": 273.15,
            "scale": 0.01,
            "standardName": "sea_surface_foundation_temperature",
            "type": "data",
            "unit": "kelvin",
            "unitConversion": null,
            "valueClamp": true,
            "valueColor": false,
            "valueDiffMax": 14.770004272460938,
            "valueDiffRelMax": 25,
            "valueMax": 303.29998779296875,
            "valueMin": 273.7599792480469
           },
           "bias_to_reference_sst": {
            "abbreviation": "bias_to_reference_sst",
            "colormapDiffId": "balance",
            "colormapDiffInvert": false,
            "colormapId": "balance",
            "colormapInvert": false,
            "dimensions": [
             "time",
             "latitude",
             "longitude"
            ],
            "hasLogScale": false,
            "id": "bias_to_reference_sst",
            "logScale": false,
            "missingValue": 0,
            "name": {
             "en": "Bias error derived from reference"
            },
            "offset": 0,
            "scale": 1,
            "standardName": null,
            "type": "data",
            "unit": "kelvin",
            "unitConversion": null,
            "valueClamp": true,
            "valueColor": false,
            "valueDiffMax": 1,
            "valueDiffRelMax": 25,
            "valueMax": 1,
            "valueMin": -1
           },
           "or_latitude": {
            "abbreviation": "or_latitude",
            "colormapDiffId": "balance",
            "colormapDiffInvert": false,
            "colormapId": "viridis",
            "colormapInvert": false,
            "dimensions": [
             "time",
             "latitude",
             "longitude"
            ],
            "hasLogScale": false,
            "id": "or_latitude",
            "logScale": false,
            "missingValue": 0,
            "name": {
             "en": "Latitude"
            },
            "offset": 0,
            "scale": 0.01,
            "standardName": "latitude",
            "type": "data",
            "unit": "degrees_north",
            "unitConversion": null,
            "valueClamp": true,
            "valueColor": false,
            "valueDiffMax": 62.20499610900879,
            "valueDiffRelMax": 25,
            "valueMax": 66.3699951171875,
            "valueMin": -58.03999710083008
           },
           "or_longitude": {
            "abbreviation": "or_longitude",
            "colormapDiffId": "balance",
            "colormapDiffInvert": false,
            "colormapId": "viridis",
            "colormapInvert": false,
            "dimensions": [
             "time",
             "latitude",
             "longitude"
            ],
            "hasLogScale": false,
            "id": "or_longitude",
            "logScale": false,
            "missingValue": 0,
            "name": {
             "en": "Longitude"
            },
            "offset": 0,
            "scale": 0.01,
            "standardName": "longitude",
            "type": "data",
            "unit": "degrees_east",
            "unitConversion": null,
            "valueClamp": true,
            "valueColor": false,
            "valueDiffMax": 174.50499725341797,
            "valueDiffRelMax": 25,
            "valueMax": 174.55999755859375,
            "valueMin": -174.4499969482422
           },
           "or_number_of_pixels": {
            "abbreviation": "or_number_of_pixels",
            "colormapDiffId": "balance",
            "colormapDiffInvert": false,
            "colormapId": "viridis",
            "colormapInvert": false,
            "dimensions": [
             "time",
             "latitude",
             "longitude"
            ],
            "hasLogScale": true,
            "id": "or_number_of_pixels",
            "logScale": false,
            "missingValue": -32768,
            "name": {
             "en": "Sea surface subskin temperature"
            },
            "offset": null,
            "scale": null,
            "standardName": "sea_surface_foundation_temperature number_of_observations",
            "type": "data",
            "unit": 1,
            "unitConversion": null,
            "valueClamp": true,
            "valueColor": false,
            "valueDiffMax": 95,
            "valueDiffRelMax": 25,
            "valueMax": 191,
            "valueMin": 1
           },
           "quality_level": {
            "abbreviation": "quality_level",
            "colormapDiffId": "balance",
            "colormapDiffInvert": false,
            "colormapId": "rainbow",
            "colormapInvert": false,
            "dimensions": [
             "time",
             "latitude",
             "longitude"
            ],
            "hasLogScale": true,
            "id": "quality_level",
            "logScale": false,
            "missingValue": -128,
            "name": {
             "en": "Quality level of SST pixel"
            },
            "offset": null,
            "scale": null,
            "standardName": "sea_surface_foundation_temperature status_flag",
            "type": "data",
            "unitConversion": null,
            "valueClamp": true,
            "valueColor": false,
            "valueDiffMax": 0.5,
            "valueDiffRelMax": 25,
            "valueMax": 5,
            "valueMin": 4
           },
           "satellite_zenith_angle": {
            "abbreviation": "satellite_zenith_angle",
            "colormapDiffId": "balance",
            "colormapDiffInvert": false,
            "colormapId": "balance",
            "colormapInvert": false,
            "dimensions": [
             "time",
             "latitude",
             "longitude"
            ],
            "hasLogScale": false,
            "id": "satellite_zenith_angle",
            "logScale": false,
            "missingValue": 0,
            "name": {
             "en": "Satellite zenith angle"
            },
            "offset": 0,
            "scale": 1,
            "standardName": "platform_zenith_angle",
            "type": "data",
            "unit": "degrees",
            "unitConversion": null,
            "valueClamp": true,
            "valueColor": false,
            "valueDiffMax": 66,
            "valueDiffRelMax": 25,
            "valueMax": 66,
            "valueMin": -66
           },
           "sea_surface_temperature": {
            "abbreviation": "sea_surface_temperature",
            "colormapDiffId": "balance",
            "colormapDiffInvert": false,
            "colormapId": "thermal",
            "colormapInvert": false,
            "dimensions": [
             "time",
             "latitude",
             "longitude"
            ],
            "hasLogScale": true,
            "id": "sea_surface_temperature",
            "logScale": false,
            "missingValue": -32768,
            "name": {
             "en": "Sea surface subskin temperature"
            },
            "offset": 273.15,
            "scale": 0.01,
            "standardName": "sea_surface_foundation_temperature",
            "type": "data",
            "unit": "kelvin",
            "unitConversion": null,
            "valueClamp": true,
            "valueColor": false,
            "valueDiffMax": 14.7550048828125,
            "valueDiffRelMax": 25,
            "valueMax": 303.2699890136719,
            "valueMin": 273.7599792480469
           },
           "sea_surface_temperature_stddev": {
            "abbreviation": "sea_surface_temperature_stddev",
            "colormapDiffId": "balance",
            "colormapDiffInvert": false,
            "colormapId": "rainbow",
            "colormapInvert": false,
            "dimensions": [
             "time",
             "latitude",
             "longitude"
            ],
            "hasLogScale": true,
            "id": "sea_surface_temperature_stddev",
            "logScale": false,
            "missingValue": -32768,
            "name": {
             "en": "Sea surface subskin temperature"
            },
            "offset": null,
            "scale": null,
            "standardName": "sea_surface_subskin_temperature",
            "type": "data",
            "unit": "kelvin",
            "unitConversion": null,
            "valueClamp": true,
            "valueColor": false,
            "valueDiffMax": 0.18396876543760293,
            "valueDiffRelMax": 25,
            "valueMax": 0.36793753087520586,
            "valueMin": 0
           },
           "solar_zenith_angle": {
            "abbreviation": "solar_zenith_angle",
            "colormapDiffId": "balance",
            "colormapDiffInvert": false,
            "colormapId": "viridis",
            "colormapInvert": false,
            "dimensions": [
             "time",
             "latitude",
             "longitude"
            ],
            "hasLogScale": true,
            "id": "solar_zenith_angle",
            "logScale": false,
            "missingValue": 0,
            "name": {
             "en": "Sun zenith angle"
            },
            "offset": 90,
            "scale": 1,
            "standardName": "solar_zenith_angle",
            "type": "data",
            "unit": "angular_degree",
            "unitConversion": null,
            "valueClamp": true,
            "valueColor": false,
            "valueDiffMax": 36,
            "valueDiffRelMax": 25,
            "valueMax": 163,
            "valueMin": 91
           },
           "sses_bias": {
            "abbreviation": "sses_bias",
            "colormapDiffId": "balance",
            "colormapDiffInvert": false,
            "colormapId": "balance",
            "colormapInvert": false,
            "dimensions": [
             "time",
             "latitude",
             "longitude"
            ],
            "hasLogScale": false,
            "id": "sses_bias",
            "logScale": false,
            "missingValue": -128,
            "name": {
             "en": "SSES bias estimate"
            },
            "offset": 0,
            "scale": 0.02,
            "standardName": null,
            "type": "data",
            "unit": "kelvin",
            "unitConversion": null,
            "valueClamp": true,
            "valueColor": false,
            "valueDiffMax": 0.25999999046325684,
            "valueDiffRelMax": 25,
            "valueMax": 0.25999999046325684,
            "valueMin": -0.25999999046325684
           },
           "sses_standard_deviation": {
            "abbreviation": "sses_standard_deviation",
            "colormapDiffId": "balance",
            "colormapDiffInvert": false,
            "colormapId": "rainbow",
            "colormapInvert": false,
            "dimensions": [
             "time",
             "latitude",
             "longitude"
            ],
            "hasLogScale": true,
            "id": "sses_standard_deviation",
            "logScale": false,
            "missingValue": -128,
            "name": {
             "en": "SSES standard deviation"
            },
            "offset": 2.54,
            "scale": 0.02,
            "standardName": null,
            "type": "data",
            "unit": "kelvin",
            "unitConversion": null,
            "valueClamp": true,
            "valueColor": false,
            "valueDiffMax": 0.30000001192092896,
            "valueDiffRelMax": 25,
            "valueMax": 0.6000000238418579,
            "valueMin": 0
           },
           "sst_dtime": {
            "abbreviation": "sst_dtime",
            "colormapDiffId": "balance",
            "colormapDiffInvert": false,
            "colormapId": "balance",
            "colormapInvert": false,
            "dimensions": [
             "time",
             "latitude",
             "longitude"
            ],
            "hasLogScale": false,
            "id": "sst_dtime",
            "logScale": false,
            "missingValue": -2147483648,
            "name": {
             "en": "Time difference from reference time"
            },
            "offset": 0,
            "scale": 2,
            "standardName": "",
            "type": "data",
            "unitConversion": null,
            "valueClamp": true,
            "valueColor": false,
            "valueDiffMax": 1,
            "valueDiffRelMax": 25,
            "valueMax": 1,
            "valueMin": -1
           }
          },
          "datetime": "2024-06-01T00:00:00Z",
          "end_datetime": "2024-06-01T00:00:00Z",
          "instruments": [
           [
            "VIIRS",
            "VIIRS",
            "AVHRR/3",
            "AVHRR/3",
            "SLSTR",
            "SLSTR",
            "ABI",
            "SEVIRI",
            "ABI",
            "SEVIRI",
            "AHI",
            "AMSR-2"
           ]
          ],
          "license": "proprietary",
          "order:status": "",
          "processing:level": "Level 3",
          "providers": [
           {
            "description": "Copernicus Marine Data Store",
            "name": "cop_marine",
            "priority": 0,
            "roles": [
             "host"
            ],
            "url": "https://marine.copernicus.eu/"
           }
          ],
          "sci:doi": "https://doi.org/10.48670/moi-00164",
          "start_datetime": "2024-06-01T00:00:00Z"
         },
         "stac_extensions": [
          "https://stac-extensions.github.io/processing/v1.0.0/schema.json",
          "https://stac-extensions.github.io/scientific/v1.0.0/schema.json",
          "https://stac-extensions.github.io/order/v1.1.0/schema.json"
         ],
         "stac_version": "1.0.0",
         "type": "Feature"
        },
        {
         "assets": {
          "downloadLink": {
           "alternate": {
            "origin": {
             "href": "https://s3.waw3-1.cloudferro.com/mdl-native-06/native/SST_GLO_SST_L3S_NRT_OBSERVATIONS_010_010/cmems_obs-sst_glo_phy_l3s_gir_P1D-m_202311/2024/05/20240531000000-IFR-L3S_GHRSST-SSTfnd-ODYSSEA-GLOB_010_GIR-v02.1-fv01.0.nc",
             "title": "Origin asset link"
            }
           },
           "href": "https://hda.data.destination-earth.eu/stac/collections/EO.MO.DAT.SST_GLO_SST_L3S_NRT_OBSERVATIONS_010_010/items/20240531000000-IFR-L3S_GHRSST-SSTfnd-ODYSSEA-GLOB_010_GIR-v02/download?provider=cop_marine",
           "title": "Download link",
           "type": "application/zip"
          },
          "native": {
           "alternate": {
            "origin": {
             "href": "https://s3.waw3-1.cloudferro.com/mdl-native-06/native/SST_GLO_SST_L3S_NRT_OBSERVATIONS_010_010/cmems_obs-sst_glo_phy_l3s_gir_P1D-m_202311/2024/05/20240531000000-IFR-L3S_GHRSST-SSTfnd-ODYSSEA-GLOB_010_GIR-v02.1-fv01.0.nc",
             "title": "Origin asset link",
             "type": "application/x-netcdf"
            }
           },
           "href": "https://hda.data.destination-earth.eu/stac/collections/EO.MO.DAT.SST_GLO_SST_L3S_NRT_OBSERVATIONS_010_010/items/20240531000000-IFR-L3S_GHRSST-SSTfnd-ODYSSEA-GLOB_010_GIR-v02/download/native?provider=cop_marine",
           "title": "native",
           "type": "application/x-netcdf"
          },
          "thumbnail": {
           "href": "https://mdl-metadata.s3.waw3-1.cloudferro.com/metadata/thumbnails/SST_GLO_SST_L3S_NRT_OBSERVATIONS_010_010.jpg",
           "role": "thumbnail",
           "title": "Thumbnail",
           "type": "image/jpeg"
          }
         },
         "bbox": [
          -180,
          -90,
          180,
          90
         ],
         "collection": "EO.MO.DAT.SST_GLO_SST_L3S_NRT_OBSERVATIONS_010_010",
         "geometry": {
          "coordinates": [
           [
            [
             180,
             -90
            ],
            [
             180,
             90
            ],
            [
             -180,
             90
            ],
            [
             -180,
             -90
            ],
            [
             180,
             -90
            ]
           ]
          ],
          "type": "Polygon"
         },
         "id": "20240531000000-IFR-L3S_GHRSST-SSTfnd-ODYSSEA-GLOB_010_GIR-v02",
         "links": [
          {
           "href": "https://hda.data.destination-earth.eu/stac/collections/EO.MO.DAT.SST_GLO_SST_L3S_NRT_OBSERVATIONS_010_010/items/20240531000000-IFR-L3S_GHRSST-SSTfnd-ODYSSEA-GLOB_010_GIR-v02",
           "rel": "self",
           "title": "20240531000000-IFR-L3S_GHRSST-SSTfnd-ODYSSEA-GLOB_010_GIR-v02"
          },
          {
           "href": "https://hda.data.destination-earth.eu/stac/",
           "rel": "root"
          },
          {
           "href": "https://hda.data.destination-earth.eu/stac/collections/EO.MO.DAT.SST_GLO_SST_L3S_NRT_OBSERVATIONS_010_010",
           "rel": "parent",
           "title": "EO.MO.DAT.SST_GLO_SST_L3S_NRT_OBSERVATIONS_010_010"
          },
          {
           "href": "https://hda.data.destination-earth.eu/stac/collections/EO.MO.DAT.SST_GLO_SST_L3S_NRT_OBSERVATIONS_010_010",
           "rel": "collection",
           "title": "EO.MO.DAT.SST_GLO_SST_L3S_NRT_OBSERVATIONS_010_010"
          }
         ],
         "properties": {
          "constellation": [
           "GOES-18",
           "Meteosat-10",
           "GOES-16",
           "Meteosat-9",
           "Himawari-9"
          ],
          "cop_marine:Conventions": "CF-1.7, ACDD-1.3, ISO 8601",
          "cop_marine:Metadata_Conventions": "Climate and Forecast (CF) 1.7, Attribute Convention for Data Discovery (ACDD) 1.3",
          "cop_marine:acknowledgment": "Please acknowledge the use of these data with the following statement: this dataset is produced by the Centre de Recherche et d'Exploitation Satellitaire (CERSAT), at Ifremer, Plouzane (France): It is funded and distributed by Copernicus Marine Service",
          "cop_marine:admp_in_preparation": false,
          "cop_marine:admp_updated": "2024-09-19T06:46:43.045272Z",
          "cop_marine:allVariables": [
           "Sea surface foundation temperature (T)",
           "Sea surface temperature (SST)"
          ],
          "cop_marine:altId": "ab5b366c-f7f5-48cf-b94d-0d3748a2cbc3",
          "cop_marine:areas": [
           "Global Ocean"
          ],
          "cop_marine:assimilatedData": [],
          "cop_marine:band": [
           "infrared",
           "infrared",
           "infrared",
           "infrared",
           "infrared"
          ],
          "cop_marine:cdm_data_type": "grid",
          "cop_marine:citation": "Ifremer / CERSAT. 2023. ODYSSEA Global High-Resolution Sea Surface Temperature Gridded Level 3 Daily Geostationary Infra Red (GIR) dataset (v3.0.2) for Copernicus Marine Service. Ver. 3.0.2. Ifremer, Plouzane, France. Dataset accessed [YYYY-MM-DD].",
          "cop_marine:cmems_product_id": "SST_GLO_SST_L3S_NRT_OBSERVATIONS_010_010",
          "cop_marine:colors": [
           "Blue Ocean"
          ],
          "cop_marine:communities": [
           "Climate & adaptation",
           "Policy & governance",
           "Science & innovation",
           "Extremes, hazards & safety",
           "Coastal services"
          ],
          "cop_marine:contact": "emmanuelle.autret@ifremer.fr;jfpiolle@ifremer.fr",
          "cop_marine:contacts": [
           {
            "email": "marine-servicedesk@met.no",
            "name": "Service Desk MET.Norway",
            "organisationName": "OSI-METNO-OSLO-NO",
            "responsiblePartyRole": "pointOfContact"
           },
           {
            "email": "andrea.pisano@cnr.it",
            "name": "Andrea Pisano",
            "organisationName": "SST-CNR-ROMA-IT",
            "responsiblePartyRole": "custodian"
           },
           {
            "email": "c.tronconi@cnr.it",
            "name": "Cristina TRONCONI",
            "organisationName": "SST-CNR-ROMA-IT",
            "responsiblePartyRole": "originator"
           },
           {
            "email": "cersat@ifremer.fr",
            "name": "Jean-François PIOLLÉ",
            "organisationName": "SST-IFREMER-BREST-FR",
            "responsiblePartyRole": "resourceProvider"
           },
           {
            "email": "cersat@ifremer.fr",
            "name": "Cristina Tronconi",
            "organisationName": "SST-IFREMER-BREST-FR",
            "responsiblePartyRole": "distributor"
           }
          ],
          "cop_marine:contributor_name": "Jean-Francois Piolle, Emmanuelle Autret",
          "cop_marine:contributor_role": "principal investigator",
          "cop_marine:creator_email": "cersat@ifremer.fr",
          "cop_marine:creator_institution": "Ifremer",
          "cop_marine:creator_name": "CERSAT",
          "cop_marine:creator_type": "institution",
          "cop_marine:creator_url": "http://cersat.ifremer.fr",
          "cop_marine:dataset": "cmems_obs-sst_glo_phy_l3s_gir_P1D-m_202311",
          "cop_marine:date_created": "2024-08-08T06:39:50Z",
          "cop_marine:date_issued": "2024-08-08T06:39:50Z",
          "cop_marine:date_metadata_modified": "2023-11-01T00:00:00Z",
          "cop_marine:date_modified": "2024-08-08T06:39:50Z",
          "cop_marine:directives": [],
          "cop_marine:featureTypes": [
           "Grid"
          ],
          "cop_marine:file_quality_level": 3,
          "cop_marine:format_version": "GHRSST GDS v2.1",
          "cop_marine:formats": [
           "NetCDF-4"
          ],
          "cop_marine:gds_version_id": 2.1,
          "cop_marine:geoExtent": {
           "coordinates": [
            [
             -180,
             80
            ],
            [
             180,
             -80
            ]
           ],
           "type": "envelope"
          },
          "cop_marine:geoResolution": {
           "column": {
            "magnitude": 0.1,
            "units": "degree"
           },
           "row": {
            "magnitude": 0.1,
            "units": "degree"
           }
          },
          "cop_marine:geospatial_bounds": "POLYGON ((-180.0 -80.0, 180.0 -80.0, 180.0 80.0, -180.0 80.0, -180.0 -80.0))",
          "cop_marine:geospatial_bounds_crs": "EPSG:4326",
          "cop_marine:geospatial_bounds_vertical_crs": "EPSG:5831",
          "cop_marine:geospatial_lat_max": 80,
          "cop_marine:geospatial_lat_min": -80,
          "cop_marine:geospatial_lat_resolution": 0.05,
          "cop_marine:geospatial_lat_units": "degrees_north",
          "cop_marine:geospatial_lon_max": 180,
          "cop_marine:geospatial_lon_min": -180,
          "cop_marine:geospatial_lon_resolution": 0.05,
          "cop_marine:geospatial_lon_units": "degrees_east",
          "cop_marine:geospatial_vertical_max": 0,
          "cop_marine:geospatial_vertical_min": 0,
          "cop_marine:history": "file originally produced by Ifremer/CERSAT with ODYSSEA system 3.0.2",
          "cop_marine:indicatorFamilies": [],
          "cop_marine:institution": "Institut Francais de Recherche pour l'Exploitation de la mer / Centre d'Exploitation et de Recherche Satellitaire",
          "cop_marine:institution_abbreviation": "Ifremer / CERSAT",
          "cop_marine:instrument_type": [
           "radiometer",
           "radiometer",
           "radiometer",
           "radiometer",
           "radiometer"
          ],
          "cop_marine:instrument_vocabulary": "CEOS instrument table",
          "cop_marine:isStaging": false,
          "cop_marine:keywords_vocabulary": "NASA Global Change Master Directory (GCMD) Science Keywords",
          "cop_marine:mainVariables": [
           "Temperature"
          ],
          "cop_marine:metadata_link": "https://resources.marine.copernicus.eu/product-detail/SST_GLO_SST_L3S_NRT_OBSERVATIONS_010_010/INFORMATION",
          "cop_marine:modifiedDate": "2023-11-30",
          "cop_marine:naming_authority": "org.ghrsst",
          "cop_marine:netcdf_version_id": "4.9.2 of Sep  1 2023 15:18:59 $",
          "cop_marine:originalLicense": "These data are available free of charge under the CMEMS data policy, refer to http://marine.copernicus.eu/services-portfolio/service-commitments-and-licence/",
          "cop_marine:platform_type": [
           "geostationary",
           "geostationary",
           "geostationary",
           "geostationary",
           "geostationary"
          ],
          "cop_marine:platform_vocabulary": "CEOS mission table",
          "cop_marine:processing_level": "L3S",
          "cop_marine:processing_software": "Telemachus 3.1.2",
          "cop_marine:product_version": 1,
          "cop_marine:program": "Copernicus",
          "cop_marine:project": "Group for High Resolution Sea Surface Temperature (GHRSST), Copernicus Marine Service (CMEMS)",
          "cop_marine:projection": "Equirectangular",
          "cop_marine:providerMetadata": {
           "source": "cmems",
           "type": "csw",
           "url": "https://cmems-catalog-ro.cls.fr/geonetwork/srv/eng/csw-MYOCEAN-CORE-PRODUCTS?service=CSW&version=2.0.2&request=GetRecordById&id=ab5b366c-f7f5-48cf-b94d-0d3748a2cbc3&elementsetname=full&outputSchema=http://www.isotc211.org/2005/gmd"
          },
          "cop_marine:publisher_email": "cersat@ifremer.fr",
          "cop_marine:publisher_institution": "Copernicus Marine Service",
          "cop_marine:publisher_name": "Copernicus Marine Service",
          "cop_marine:publisher_type": "institution",
          "cop_marine:publisher_url": "https://marine.copernicus.eu",
          "cop_marine:rank": 12010,
          "cop_marine:reference": "Product User Manual for L3S Odyssea Product over the Global Ocean, v2.1, Nov 2023, https://catalogue.marine.copernicus.eu/documents/PUM/CMEMS-SST-PUM-010-010.pdf",
          "cop_marine:references": "No reference",
          "cop_marine:scientific_support_contact": "emmanuelle.autret@ifremer.fr;jfpiolle@ifremer.fr",
          "cop_marine:source": "ODYSSEA",
          "cop_marine:source_version": "3.0.2",
          "cop_marine:sources": [
           "Satellite observations"
          ],
          "cop_marine:spatial_resolution": "0.05 degree",
          "cop_marine:standard_name_vocabulary": "Climate and Forecast (CF) Standard Name Table v79",
          "cop_marine:summary": "This dataset provide a times series of daily multi-sensor composite fields of Sea Surface Temperature (SST) foundation at high resolution (HR) on a 0.05 x 0.05 degree grid (approximately 5 x 5 km) for the Copernicus Marine Service.",
          "cop_marine:technical_support_contact": "cersat@ifremer.fr",
          "cop_marine:tempExtentBegin": "2021-01-01",
          "cop_marine:tempResolutions": [
           "Daily"
          ],
          "cop_marine:temporal_resolution": "daily",
          "cop_marine:thumbnailMeta": {
           "basemapId": "dark",
           "colormapId": "thermal",
           "colormapInvert": false,
           "creationDate": "2023-06-18T06:33:40.478Z",
           "crs": "epsg:4326",
           "elevation": null,
           "layerId": "SST_GLO_SST_L3S_NRT_OBSERVATIONS_010_010/IFREMER-GLOB-SST-L3-NRT-OBS_FULL_TIME_SERIE_202211/sea_surface_temperature",
           "logScale": false,
           "overlays": {
            "tags": [
             {
              "name": "SST"
             }
            ]
           },
           "style": "default",
           "time": 1672531200000,
           "valueClamp": true,
           "valueMax": 303.6099853515625,
           "valueMin": 266.859985351563
          },
          "cop_marine:time_coverage_duration": "P1D",
          "cop_marine:time_coverage_end": "2024-08-07T12:00:00Z",
          "cop_marine:time_coverage_resolution": "P1D",
          "cop_marine:time_coverage_start": "2024-08-06T12:00:00Z",
          "cop_marine:times": [
           "Present",
           "Past"
          ],
          "cop_marine:updateFrequencies": {
           "daily": "12:00"
          },
          "cop_marine:useCases": [],
          "cop_marine:uuid": "031e2e0a-5551-11ef-bbb5-0cc47a3f766d",
          "cop_marine:vertExtentMax": 0,
          "cop_marine:vertExtentMin": 0,
          "created": "2009-09-30",
          "cube:dimensions": {
           "latitude": {
            "axis": "y",
            "extent": [
             -79.9749984741211,
             79.9749984741211
            ],
            "reference_system": 4326,
            "step": 0.04999999904602757,
            "type": "spatial"
           },
           "longitude": {
            "axis": "x",
            "extent": [
             -179.97500610351562,
             179.97500610351562
            ],
            "reference_system": 4326,
            "step": 0.050000001695656514,
            "type": "spatial"
           },
           "time": {
            "extent": [
             "2020-12-20T00:00:00Z",
             "2024-09-18T00:00:00Z"
            ],
            "step": "P1D",
            "type": "temporal"
           }
          },
          "cube:variables": {
           "adjusted_sea_surface_temperature": {
            "abbreviation": "adjusted_sea_surface_temperature",
            "colormapDiffId": "balance",
            "colormapDiffInvert": false,
            "colormapId": "thermal",
            "colormapInvert": false,
            "dimensions": [
             "time",
             "latitude",
             "longitude"
            ],
            "hasLogScale": true,
            "id": "adjusted_sea_surface_temperature",
            "logScale": false,
            "missingValue": -32768,
            "name": {
             "en": "Adjusted foundation sea surface temperature"
            },
            "offset": 273.15,
            "scale": 0.01,
            "standardName": "sea_surface_foundation_temperature",
            "type": "data",
            "unit": "K",
            "unitConversion": null,
            "valueClamp": true,
            "valueColor": false,
            "valueDiffMax": 10.850006103515625,
            "valueDiffRelMax": 25,
            "valueMax": 303.6499938964844,
            "valueMin": 281.9499816894531
           },
           "bias_to_reference_sst": {
            "abbreviation": "bias_to_reference_sst",
            "colormapDiffId": "balance",
            "colormapDiffInvert": false,
            "colormapId": "balance",
            "colormapInvert": false,
            "dimensions": [
             "time",
             "latitude",
             "longitude"
            ],
            "hasLogScale": false,
            "id": "bias_to_reference_sst",
            "logScale": false,
            "missingValue": -32768,
            "name": {
             "en": "Bias error derived from reference"
            },
            "offset": 0,
            "scale": 0.01,
            "standardName": null,
            "type": "data",
            "unit": "K",
            "unitConversion": null,
            "valueClamp": true,
            "valueColor": false,
            "valueDiffMax": 0.14000000059604645,
            "valueDiffRelMax": 25,
            "valueMax": 0.14000000059604645,
            "valueMin": -0.14000000059604645
           },
           "or_latitude": {
            "abbreviation": "or_latitude",
            "colormapDiffId": "balance",
            "colormapDiffInvert": false,
            "colormapId": "viridis",
            "colormapInvert": false,
            "dimensions": [
             "time",
             "latitude",
             "longitude"
            ],
            "hasLogScale": false,
            "id": "or_latitude",
            "logScale": false,
            "missingValue": -32768,
            "name": {
             "en": "Original latitude of the SST value"
            },
            "offset": 0,
            "scale": 0.01,
            "standardName": "latitude",
            "type": "data",
            "unit": "degree_north",
            "unitConversion": null,
            "valueClamp": true,
            "valueColor": false,
            "valueDiffMax": 44.979997634887695,
            "valueDiffRelMax": 25,
            "valueMax": 43.37999725341797,
            "valueMin": -46.57999801635742
           },
           "or_longitude": {
            "abbreviation": "or_longitude",
            "colormapDiffId": "balance",
            "colormapDiffInvert": false,
            "colormapId": "viridis",
            "colormapInvert": false,
            "dimensions": [
             "time",
             "latitude",
             "longitude"
            ],
            "hasLogScale": false,
            "id": "or_longitude",
            "logScale": false,
            "missingValue": -32768,
            "name": {
             "en": "Original longitude of the SST value"
            },
            "offset": 0,
            "scale": 0.01,
            "standardName": "longitude",
            "type": "data",
            "unit": "degree_east",
            "unitConversion": null,
            "valueClamp": true,
            "valueColor": false,
            "valueDiffMax": 175.12999725341797,
            "valueDiffRelMax": 25,
            "valueMax": 175.3699951171875,
            "valueMin": -174.88999938964844
           },
           "or_number_of_pixels": {
            "abbreviation": "or_number_of_pixels",
            "colormapDiffId": "balance",
            "colormapDiffInvert": false,
            "colormapId": "viridis",
            "colormapInvert": false,
            "dimensions": [
             "time",
             "latitude",
             "longitude"
            ],
            "hasLogScale": true,
            "id": "or_number_of_pixels",
            "logScale": false,
            "missingValue": -32768,
            "name": {
             "en": "Original number of pixels from the L2Ps contributing to the SST value"
            },
            "offset": null,
            "scale": null,
            "standardName": "sea_surface_foundation_temperature number_of_observations",
            "type": "data",
            "unit": 1,
            "unitConversion": null,
            "valueClamp": true,
            "valueColor": false,
            "valueDiffMax": 4,
            "valueDiffRelMax": 25,
            "valueMax": 9,
            "valueMin": 1
           },
           "quality_level": {
            "abbreviation": "quality_level",
            "colormapDiffId": "balance",
            "colormapDiffInvert": false,
            "colormapId": "rainbow",
            "colormapInvert": false,
            "dimensions": [
             "time",
             "latitude",
             "longitude"
            ],
            "hasLogScale": true,
            "id": "quality_level",
            "logScale": false,
            "missingValue": -128,
            "name": {
             "en": "Quality level of SST pixel"
            },
            "offset": null,
            "scale": null,
            "standardName": "sea_surface_foundation_temperature status_flag",
            "type": "data",
            "unitConversion": null,
            "valueClamp": true,
            "valueColor": false,
            "valueDiffMax": 0.5,
            "valueDiffRelMax": 25,
            "valueMax": 5,
            "valueMin": 4
           },
           "satellite_zenith_angle": {
            "abbreviation": "satellite_zenith_angle",
            "colormapDiffId": "balance",
            "colormapDiffInvert": false,
            "colormapId": "viridis",
            "colormapInvert": false,
            "dimensions": [
             "time",
             "latitude",
             "longitude"
            ],
            "hasLogScale": true,
            "id": "satellite_zenith_angle",
            "logScale": false,
            "missingValue": -128,
            "name": {
             "en": "Satellite zenith angle"
            },
            "offset": 0,
            "scale": 1,
            "standardName": "platform_zenith_angle",
            "type": "data",
            "unit": "angular_degree",
            "unitConversion": null,
            "valueClamp": true,
            "valueColor": false,
            "valueDiffMax": 26,
            "valueDiffRelMax": 25,
            "valueMax": 59,
            "valueMin": 7
           },
           "sea_surface_temperature": {
            "abbreviation": "sea_surface_temperature",
            "colormapDiffId": "balance",
            "colormapDiffInvert": false,
            "colormapId": "thermal",
            "colormapInvert": false,
            "dimensions": [
             "time",
             "latitude",
             "longitude"
            ],
            "hasLogScale": true,
            "id": "sea_surface_temperature",
            "logScale": false,
            "missingValue": -32768,
            "name": {
             "en": "Sea surface foundation temperature"
            },
            "offset": 273.15,
            "scale": 0.01,
            "standardName": "sea_surface_foundation_temperature",
            "type": "data",
            "unit": "K",
            "unitConversion": null,
            "valueClamp": true,
            "valueColor": false,
            "valueDiffMax": 10.830001831054688,
            "valueDiffRelMax": 25,
            "valueMax": 303.6199951171875,
            "valueMin": 281.9599914550781
           },
           "sea_surface_temperature_stddev": {
            "abbreviation": "sea_surface_temperature_stddev",
            "colormapDiffId": "balance",
            "colormapDiffInvert": false,
            "colormapId": "rainbow",
            "colormapInvert": false,
            "dimensions": [
             "time",
             "latitude",
             "longitude"
            ],
            "hasLogScale": true,
            "id": "sea_surface_temperature_stddev",
            "logScale": false,
            "missingValue": -128,
            "name": {
             "en": "Sea surface sub-skin temperature"
            },
            "offset": 2.54,
            "scale": 0.02,
            "standardName": "sea_surface_subskin_temperature",
            "type": "data",
            "unit": "kelvin",
            "unitConversion": null,
            "valueClamp": true,
            "valueColor": false,
            "valueDiffMax": 0.029999971389770508,
            "valueDiffRelMax": 25,
            "valueMax": 0.059999942779541016,
            "valueMin": 0
           },
           "solar_zenith_angle": {
            "abbreviation": "solar_zenith_angle",
            "colormapDiffId": "balance",
            "colormapDiffInvert": false,
            "colormapId": "viridis",
            "colormapInvert": false,
            "dimensions": [
             "time",
             "latitude",
             "longitude"
            ],
            "hasLogScale": true,
            "id": "solar_zenith_angle",
            "logScale": false,
            "missingValue": -128,
            "name": {
             "en": "Solar zenith angle"
            },
            "offset": 90,
            "scale": 1,
            "standardName": "solar_zenith_angle",
            "type": "data",
            "unit": "angular_degree",
            "unitConversion": null,
            "valueClamp": true,
            "valueColor": false,
            "valueDiffMax": 38.5,
            "valueDiffRelMax": 25,
            "valueMax": 168,
            "valueMin": 91
           },
           "sources_of_sst": {
            "abbreviation": "sources_of_sst",
            "colormapDiffId": "balance",
            "colormapDiffInvert": false,
            "colormapId": "viridis",
            "colormapInvert": false,
            "dimensions": [
             "time",
             "latitude",
             "longitude"
            ],
            "hasLogScale": true,
            "id": "sources_of_sst",
            "logScale": false,
            "missingValue": -128,
            "name": {
             "en": "Source of sea surface temperature measurement"
            },
            "offset": null,
            "scale": null,
            "standardName": null,
            "type": "data",
            "unitConversion": null,
            "valueClamp": true,
            "valueColor": false,
            "valueDiffMax": 22,
            "valueDiffRelMax": 25,
            "valueMax": 85,
            "valueMin": 41
           },
           "sses_bias": {
            "abbreviation": "sses_bias",
            "colormapDiffId": "balance",
            "colormapDiffInvert": false,
            "colormapId": "balance",
            "colormapInvert": false,
            "dimensions": [
             "time",
             "latitude",
             "longitude"
            ],
            "hasLogScale": false,
            "id": "sses_bias",
            "logScale": false,
            "missingValue": -128,
            "name": {
             "en": "SSES bias estimate"
            },
            "offset": 0,
            "scale": 0.02,
            "standardName": null,
            "type": "data",
            "unit": "K",
            "unitConversion": null,
            "valueClamp": true,
            "valueColor": false,
            "valueDiffMax": 0.19999998807907104,
            "valueDiffRelMax": 25,
            "valueMax": 0.19999998807907104,
            "valueMin": -0.19999998807907104
           },
           "sses_standard_deviation": {
            "abbreviation": "sses_standard_deviation",
            "colormapDiffId": "balance",
            "colormapDiffInvert": false,
            "colormapId": "rainbow",
            "colormapInvert": false,
            "dimensions": [
             "time",
             "latitude",
             "longitude"
            ],
            "hasLogScale": true,
            "id": "sses_standard_deviation",
            "logScale": false,
            "missingValue": -128,
            "name": {
             "en": "SSES standard deviation"
            },
            "offset": 2.54,
            "scale": 0.02,
            "standardName": null,
            "type": "data",
            "unit": "kelvin",
            "unitConversion": null,
            "valueClamp": true,
            "valueColor": false,
            "valueDiffMax": 0.2900000214576721,
            "valueDiffRelMax": 25,
            "valueMax": 0.5800000429153442,
            "valueMin": 0
           },
           "sst_dtime": {
            "abbreviation": "sst_dtime",
            "colormapDiffId": "balance",
            "colormapDiffInvert": false,
            "colormapId": "viridis",
            "colormapInvert": false,
            "dimensions": [
             "time",
             "latitude",
             "longitude"
            ],
            "hasLogScale": false,
            "id": "sst_dtime",
            "logScale": false,
            "missingValue": -2147483648,
            "name": {
             "en": "Time difference from reference time"
            },
            "offset": null,
            "scale": null,
            "standardName": null,
            "type": "data",
            "unit": "second",
            "unitConversion": null,
            "valueClamp": true,
            "valueColor": false,
            "valueDiffMax": 36165.5,
            "valueDiffRelMax": 25,
            "valueMax": 36392,
            "valueMin": -35939
           }
          },
          "datetime": "2024-05-31T00:00:00Z",
          "end_datetime": "2024-05-31T00:00:00Z",
          "instruments": [
           [
            "ABI",
            "SEVIRI",
            "ABI",
            "SEVIRI",
            "AHI"
           ]
          ],
          "license": "proprietary",
          "order:status": "",
          "processing:level": "Level 3",
          "providers": [
           {
            "description": "Copernicus Marine Data Store",
            "name": "cop_marine",
            "priority": 0,
            "roles": [
             "host"
            ],
            "url": "https://marine.copernicus.eu/"
           }
          ],
          "sci:doi": "https://doi.org/10.48670/moi-00164",
          "start_datetime": "2024-05-31T00:00:00Z"
         },
         "stac_extensions": [
          "https://stac-extensions.github.io/processing/v1.0.0/schema.json",
          "https://stac-extensions.github.io/scientific/v1.0.0/schema.json",
          "https://stac-extensions.github.io/order/v1.1.0/schema.json"
         ],
         "stac_version": "1.0.0",
         "type": "Feature"
        },
        {
         "assets": {
          "downloadLink": {
           "alternate": {
            "origin": {
             "href": "https://s3.waw3-1.cloudferro.com/mdl-native-06/native/SST_GLO_SST_L3S_NRT_OBSERVATIONS_010_010/cmems_obs-sst_glo_phy_l3s_gir_P1D-m_202311/2024/06/20240601000000-IFR-L3S_GHRSST-SSTfnd-ODYSSEA-GLOB_010_GIR-v02.1-fv01.0.nc",
             "title": "Origin asset link"
            }
           },
           "href": "https://hda.data.destination-earth.eu/stac/collections/EO.MO.DAT.SST_GLO_SST_L3S_NRT_OBSERVATIONS_010_010/items/20240601000000-IFR-L3S_GHRSST-SSTfnd-ODYSSEA-GLOB_010_GIR-v02/download?provider=cop_marine",
           "title": "Download link",
           "type": "application/zip"
          },
          "native": {
           "alternate": {
            "origin": {
             "href": "https://s3.waw3-1.cloudferro.com/mdl-native-06/native/SST_GLO_SST_L3S_NRT_OBSERVATIONS_010_010/cmems_obs-sst_glo_phy_l3s_gir_P1D-m_202311/2024/06/20240601000000-IFR-L3S_GHRSST-SSTfnd-ODYSSEA-GLOB_010_GIR-v02.1-fv01.0.nc",
             "title": "Origin asset link",
             "type": "application/x-netcdf"
            }
           },
           "href": "https://hda.data.destination-earth.eu/stac/collections/EO.MO.DAT.SST_GLO_SST_L3S_NRT_OBSERVATIONS_010_010/items/20240601000000-IFR-L3S_GHRSST-SSTfnd-ODYSSEA-GLOB_010_GIR-v02/download/native?provider=cop_marine",
           "title": "native",
           "type": "application/x-netcdf"
          },
          "thumbnail": {
           "href": "https://mdl-metadata.s3.waw3-1.cloudferro.com/metadata/thumbnails/SST_GLO_SST_L3S_NRT_OBSERVATIONS_010_010.jpg",
           "role": "thumbnail",
           "title": "Thumbnail",
           "type": "image/jpeg"
          }
         },
         "bbox": [
          -180,
          -90,
          180,
          90
         ],
         "collection": "EO.MO.DAT.SST_GLO_SST_L3S_NRT_OBSERVATIONS_010_010",
         "geometry": {
          "coordinates": [
           [
            [
             180,
             -90
            ],
            [
             180,
             90
            ],
            [
             -180,
             90
            ],
            [
             -180,
             -90
            ],
            [
             180,
             -90
            ]
           ]
          ],
          "type": "Polygon"
         },
         "id": "20240601000000-IFR-L3S_GHRSST-SSTfnd-ODYSSEA-GLOB_010_GIR-v02",
         "links": [
          {
           "href": "https://hda.data.destination-earth.eu/stac/collections/EO.MO.DAT.SST_GLO_SST_L3S_NRT_OBSERVATIONS_010_010/items/20240601000000-IFR-L3S_GHRSST-SSTfnd-ODYSSEA-GLOB_010_GIR-v02",
           "rel": "self",
           "title": "20240601000000-IFR-L3S_GHRSST-SSTfnd-ODYSSEA-GLOB_010_GIR-v02"
          },
          {
           "href": "https://hda.data.destination-earth.eu/stac/",
           "rel": "root"
          },
          {
           "href": "https://hda.data.destination-earth.eu/stac/collections/EO.MO.DAT.SST_GLO_SST_L3S_NRT_OBSERVATIONS_010_010",
           "rel": "parent",
           "title": "EO.MO.DAT.SST_GLO_SST_L3S_NRT_OBSERVATIONS_010_010"
          },
          {
           "href": "https://hda.data.destination-earth.eu/stac/collections/EO.MO.DAT.SST_GLO_SST_L3S_NRT_OBSERVATIONS_010_010",
           "rel": "collection",
           "title": "EO.MO.DAT.SST_GLO_SST_L3S_NRT_OBSERVATIONS_010_010"
          }
         ],
         "properties": {
          "constellation": [
           "GOES-18",
           "Meteosat-10",
           "GOES-16",
           "Meteosat-9",
           "Himawari-9"
          ],
          "cop_marine:Conventions": "CF-1.7, ACDD-1.3, ISO 8601",
          "cop_marine:Metadata_Conventions": "Climate and Forecast (CF) 1.7, Attribute Convention for Data Discovery (ACDD) 1.3",
          "cop_marine:acknowledgment": "Please acknowledge the use of these data with the following statement: this dataset is produced by the Centre de Recherche et d'Exploitation Satellitaire (CERSAT), at Ifremer, Plouzane (France): It is funded and distributed by Copernicus Marine Service",
          "cop_marine:admp_in_preparation": false,
          "cop_marine:admp_updated": "2024-09-19T06:46:43.045272Z",
          "cop_marine:allVariables": [
           "Sea surface foundation temperature (T)",
           "Sea surface temperature (SST)"
          ],
          "cop_marine:altId": "ab5b366c-f7f5-48cf-b94d-0d3748a2cbc3",
          "cop_marine:areas": [
           "Global Ocean"
          ],
          "cop_marine:assimilatedData": [],
          "cop_marine:band": [
           "infrared",
           "infrared",
           "infrared",
           "infrared",
           "infrared"
          ],
          "cop_marine:cdm_data_type": "grid",
          "cop_marine:citation": "Ifremer / CERSAT. 2023. ODYSSEA Global High-Resolution Sea Surface Temperature Gridded Level 3 Daily Geostationary Infra Red (GIR) dataset (v3.0.2) for Copernicus Marine Service. Ver. 3.0.2. Ifremer, Plouzane, France. Dataset accessed [YYYY-MM-DD].",
          "cop_marine:cmems_product_id": "SST_GLO_SST_L3S_NRT_OBSERVATIONS_010_010",
          "cop_marine:colors": [
           "Blue Ocean"
          ],
          "cop_marine:communities": [
           "Climate & adaptation",
           "Policy & governance",
           "Science & innovation",
           "Extremes, hazards & safety",
           "Coastal services"
          ],
          "cop_marine:contact": "emmanuelle.autret@ifremer.fr;jfpiolle@ifremer.fr",
          "cop_marine:contacts": [
           {
            "email": "marine-servicedesk@met.no",
            "name": "Service Desk MET.Norway",
            "organisationName": "OSI-METNO-OSLO-NO",
            "responsiblePartyRole": "pointOfContact"
           },
           {
            "email": "andrea.pisano@cnr.it",
            "name": "Andrea Pisano",
            "organisationName": "SST-CNR-ROMA-IT",
            "responsiblePartyRole": "custodian"
           },
           {
            "email": "c.tronconi@cnr.it",
            "name": "Cristina TRONCONI",
            "organisationName": "SST-CNR-ROMA-IT",
            "responsiblePartyRole": "originator"
           },
           {
            "email": "cersat@ifremer.fr",
            "name": "Jean-François PIOLLÉ",
            "organisationName": "SST-IFREMER-BREST-FR",
            "responsiblePartyRole": "resourceProvider"
           },
           {
            "email": "cersat@ifremer.fr",
            "name": "Cristina Tronconi",
            "organisationName": "SST-IFREMER-BREST-FR",
            "responsiblePartyRole": "distributor"
           }
          ],
          "cop_marine:contributor_name": "Jean-Francois Piolle, Emmanuelle Autret",
          "cop_marine:contributor_role": "principal investigator",
          "cop_marine:creator_email": "cersat@ifremer.fr",
          "cop_marine:creator_institution": "Ifremer",
          "cop_marine:creator_name": "CERSAT",
          "cop_marine:creator_type": "institution",
          "cop_marine:creator_url": "http://cersat.ifremer.fr",
          "cop_marine:dataset": "cmems_obs-sst_glo_phy_l3s_gir_P1D-m_202311",
          "cop_marine:date_created": "2024-08-08T06:39:50Z",
          "cop_marine:date_issued": "2024-08-08T06:39:50Z",
          "cop_marine:date_metadata_modified": "2023-11-01T00:00:00Z",
          "cop_marine:date_modified": "2024-08-08T06:39:50Z",
          "cop_marine:directives": [],
          "cop_marine:featureTypes": [
           "Grid"
          ],
          "cop_marine:file_quality_level": 3,
          "cop_marine:format_version": "GHRSST GDS v2.1",
          "cop_marine:formats": [
           "NetCDF-4"
          ],
          "cop_marine:gds_version_id": 2.1,
          "cop_marine:geoExtent": {
           "coordinates": [
            [
             -180,
             80
            ],
            [
             180,
             -80
            ]
           ],
           "type": "envelope"
          },
          "cop_marine:geoResolution": {
           "column": {
            "magnitude": 0.1,
            "units": "degree"
           },
           "row": {
            "magnitude": 0.1,
            "units": "degree"
           }
          },
          "cop_marine:geospatial_bounds": "POLYGON ((-180.0 -80.0, 180.0 -80.0, 180.0 80.0, -180.0 80.0, -180.0 -80.0))",
          "cop_marine:geospatial_bounds_crs": "EPSG:4326",
          "cop_marine:geospatial_bounds_vertical_crs": "EPSG:5831",
          "cop_marine:geospatial_lat_max": 80,
          "cop_marine:geospatial_lat_min": -80,
          "cop_marine:geospatial_lat_resolution": 0.05,
          "cop_marine:geospatial_lat_units": "degrees_north",
          "cop_marine:geospatial_lon_max": 180,
          "cop_marine:geospatial_lon_min": -180,
          "cop_marine:geospatial_lon_resolution": 0.05,
          "cop_marine:geospatial_lon_units": "degrees_east",
          "cop_marine:geospatial_vertical_max": 0,
          "cop_marine:geospatial_vertical_min": 0,
          "cop_marine:history": "file originally produced by Ifremer/CERSAT with ODYSSEA system 3.0.2",
          "cop_marine:indicatorFamilies": [],
          "cop_marine:institution": "Institut Francais de Recherche pour l'Exploitation de la mer / Centre d'Exploitation et de Recherche Satellitaire",
          "cop_marine:institution_abbreviation": "Ifremer / CERSAT",
          "cop_marine:instrument_type": [
           "radiometer",
           "radiometer",
           "radiometer",
           "radiometer",
           "radiometer"
          ],
          "cop_marine:instrument_vocabulary": "CEOS instrument table",
          "cop_marine:isStaging": false,
          "cop_marine:keywords_vocabulary": "NASA Global Change Master Directory (GCMD) Science Keywords",
          "cop_marine:mainVariables": [
           "Temperature"
          ],
          "cop_marine:metadata_link": "https://resources.marine.copernicus.eu/product-detail/SST_GLO_SST_L3S_NRT_OBSERVATIONS_010_010/INFORMATION",
          "cop_marine:modifiedDate": "2023-11-30",
          "cop_marine:naming_authority": "org.ghrsst",
          "cop_marine:netcdf_version_id": "4.9.2 of Sep  1 2023 15:18:59 $",
          "cop_marine:originalLicense": "These data are available free of charge under the CMEMS data policy, refer to http://marine.copernicus.eu/services-portfolio/service-commitments-and-licence/",
          "cop_marine:platform_type": [
           "geostationary",
           "geostationary",
           "geostationary",
           "geostationary",
           "geostationary"
          ],
          "cop_marine:platform_vocabulary": "CEOS mission table",
          "cop_marine:processing_level": "L3S",
          "cop_marine:processing_software": "Telemachus 3.1.2",
          "cop_marine:product_version": 1,
          "cop_marine:program": "Copernicus",
          "cop_marine:project": "Group for High Resolution Sea Surface Temperature (GHRSST), Copernicus Marine Service (CMEMS)",
          "cop_marine:projection": "Equirectangular",
          "cop_marine:providerMetadata": {
           "source": "cmems",
           "type": "csw",
           "url": "https://cmems-catalog-ro.cls.fr/geonetwork/srv/eng/csw-MYOCEAN-CORE-PRODUCTS?service=CSW&version=2.0.2&request=GetRecordById&id=ab5b366c-f7f5-48cf-b94d-0d3748a2cbc3&elementsetname=full&outputSchema=http://www.isotc211.org/2005/gmd"
          },
          "cop_marine:publisher_email": "cersat@ifremer.fr",
          "cop_marine:publisher_institution": "Copernicus Marine Service",
          "cop_marine:publisher_name": "Copernicus Marine Service",
          "cop_marine:publisher_type": "institution",
          "cop_marine:publisher_url": "https://marine.copernicus.eu",
          "cop_marine:rank": 12010,
          "cop_marine:reference": "Product User Manual for L3S Odyssea Product over the Global Ocean, v2.1, Nov 2023, https://catalogue.marine.copernicus.eu/documents/PUM/CMEMS-SST-PUM-010-010.pdf",
          "cop_marine:references": "No reference",
          "cop_marine:scientific_support_contact": "emmanuelle.autret@ifremer.fr;jfpiolle@ifremer.fr",
          "cop_marine:source": "ODYSSEA",
          "cop_marine:source_version": "3.0.2",
          "cop_marine:sources": [
           "Satellite observations"
          ],
          "cop_marine:spatial_resolution": "0.05 degree",
          "cop_marine:standard_name_vocabulary": "Climate and Forecast (CF) Standard Name Table v79",
          "cop_marine:summary": "This dataset provide a times series of daily multi-sensor composite fields of Sea Surface Temperature (SST) foundation at high resolution (HR) on a 0.05 x 0.05 degree grid (approximately 5 x 5 km) for the Copernicus Marine Service.",
          "cop_marine:technical_support_contact": "cersat@ifremer.fr",
          "cop_marine:tempExtentBegin": "2021-01-01",
          "cop_marine:tempResolutions": [
           "Daily"
          ],
          "cop_marine:temporal_resolution": "daily",
          "cop_marine:thumbnailMeta": {
           "basemapId": "dark",
           "colormapId": "thermal",
           "colormapInvert": false,
           "creationDate": "2023-06-18T06:33:40.478Z",
           "crs": "epsg:4326",
           "elevation": null,
           "layerId": "SST_GLO_SST_L3S_NRT_OBSERVATIONS_010_010/IFREMER-GLOB-SST-L3-NRT-OBS_FULL_TIME_SERIE_202211/sea_surface_temperature",
           "logScale": false,
           "overlays": {
            "tags": [
             {
              "name": "SST"
             }
            ]
           },
           "style": "default",
           "time": 1672531200000,
           "valueClamp": true,
           "valueMax": 303.6099853515625,
           "valueMin": 266.859985351563
          },
          "cop_marine:time_coverage_duration": "P1D",
          "cop_marine:time_coverage_end": "2024-08-07T12:00:00Z",
          "cop_marine:time_coverage_resolution": "P1D",
          "cop_marine:time_coverage_start": "2024-08-06T12:00:00Z",
          "cop_marine:times": [
           "Present",
           "Past"
          ],
          "cop_marine:updateFrequencies": {
           "daily": "12:00"
          },
          "cop_marine:useCases": [],
          "cop_marine:uuid": "031e2e0a-5551-11ef-bbb5-0cc47a3f766d",
          "cop_marine:vertExtentMax": 0,
          "cop_marine:vertExtentMin": 0,
          "created": "2009-09-30",
          "cube:dimensions": {
           "latitude": {
            "axis": "y",
            "extent": [
             -79.9749984741211,
             79.9749984741211
            ],
            "reference_system": 4326,
            "step": 0.04999999904602757,
            "type": "spatial"
           },
           "longitude": {
            "axis": "x",
            "extent": [
             -179.97500610351562,
             179.97500610351562
            ],
            "reference_system": 4326,
            "step": 0.050000001695656514,
            "type": "spatial"
           },
           "time": {
            "extent": [
             "2020-12-20T00:00:00Z",
             "2024-09-18T00:00:00Z"
            ],
            "step": "P1D",
            "type": "temporal"
           }
          },
          "cube:variables": {
           "adjusted_sea_surface_temperature": {
            "abbreviation": "adjusted_sea_surface_temperature",
            "colormapDiffId": "balance",
            "colormapDiffInvert": false,
            "colormapId": "thermal",
            "colormapInvert": false,
            "dimensions": [
             "time",
             "latitude",
             "longitude"
            ],
            "hasLogScale": true,
            "id": "adjusted_sea_surface_temperature",
            "logScale": false,
            "missingValue": -32768,
            "name": {
             "en": "Adjusted foundation sea surface temperature"
            },
            "offset": 273.15,
            "scale": 0.01,
            "standardName": "sea_surface_foundation_temperature",
            "type": "data",
            "unit": "K",
            "unitConversion": null,
            "valueClamp": true,
            "valueColor": false,
            "valueDiffMax": 10.850006103515625,
            "valueDiffRelMax": 25,
            "valueMax": 303.6499938964844,
            "valueMin": 281.9499816894531
           },
           "bias_to_reference_sst": {
            "abbreviation": "bias_to_reference_sst",
            "colormapDiffId": "balance",
            "colormapDiffInvert": false,
            "colormapId": "balance",
            "colormapInvert": false,
            "dimensions": [
             "time",
             "latitude",
             "longitude"
            ],
            "hasLogScale": false,
            "id": "bias_to_reference_sst",
            "logScale": false,
            "missingValue": -32768,
            "name": {
             "en": "Bias error derived from reference"
            },
            "offset": 0,
            "scale": 0.01,
            "standardName": null,
            "type": "data",
            "unit": "K",
            "unitConversion": null,
            "valueClamp": true,
            "valueColor": false,
            "valueDiffMax": 0.14000000059604645,
            "valueDiffRelMax": 25,
            "valueMax": 0.14000000059604645,
            "valueMin": -0.14000000059604645
           },
           "or_latitude": {
            "abbreviation": "or_latitude",
            "colormapDiffId": "balance",
            "colormapDiffInvert": false,
            "colormapId": "viridis",
            "colormapInvert": false,
            "dimensions": [
             "time",
             "latitude",
             "longitude"
            ],
            "hasLogScale": false,
            "id": "or_latitude",
            "logScale": false,
            "missingValue": -32768,
            "name": {
             "en": "Original latitude of the SST value"
            },
            "offset": 0,
            "scale": 0.01,
            "standardName": "latitude",
            "type": "data",
            "unit": "degree_north",
            "unitConversion": null,
            "valueClamp": true,
            "valueColor": false,
            "valueDiffMax": 44.979997634887695,
            "valueDiffRelMax": 25,
            "valueMax": 43.37999725341797,
            "valueMin": -46.57999801635742
           },
           "or_longitude": {
            "abbreviation": "or_longitude",
            "colormapDiffId": "balance",
            "colormapDiffInvert": false,
            "colormapId": "viridis",
            "colormapInvert": false,
            "dimensions": [
             "time",
             "latitude",
             "longitude"
            ],
            "hasLogScale": false,
            "id": "or_longitude",
            "logScale": false,
            "missingValue": -32768,
            "name": {
             "en": "Original longitude of the SST value"
            },
            "offset": 0,
            "scale": 0.01,
            "standardName": "longitude",
            "type": "data",
            "unit": "degree_east",
            "unitConversion": null,
            "valueClamp": true,
            "valueColor": false,
            "valueDiffMax": 175.12999725341797,
            "valueDiffRelMax": 25,
            "valueMax": 175.3699951171875,
            "valueMin": -174.88999938964844
           },
           "or_number_of_pixels": {
            "abbreviation": "or_number_of_pixels",
            "colormapDiffId": "balance",
            "colormapDiffInvert": false,
            "colormapId": "viridis",
            "colormapInvert": false,
            "dimensions": [
             "time",
             "latitude",
             "longitude"
            ],
            "hasLogScale": true,
            "id": "or_number_of_pixels",
            "logScale": false,
            "missingValue": -32768,
            "name": {
             "en": "Original number of pixels from the L2Ps contributing to the SST value"
            },
            "offset": null,
            "scale": null,
            "standardName": "sea_surface_foundation_temperature number_of_observations",
            "type": "data",
            "unit": 1,
            "unitConversion": null,
            "valueClamp": true,
            "valueColor": false,
            "valueDiffMax": 4,
            "valueDiffRelMax": 25,
            "valueMax": 9,
            "valueMin": 1
           },
           "quality_level": {
            "abbreviation": "quality_level",
            "colormapDiffId": "balance",
            "colormapDiffInvert": false,
            "colormapId": "rainbow",
            "colormapInvert": false,
            "dimensions": [
             "time",
             "latitude",
             "longitude"
            ],
            "hasLogScale": true,
            "id": "quality_level",
            "logScale": false,
            "missingValue": -128,
            "name": {
             "en": "Quality level of SST pixel"
            },
            "offset": null,
            "scale": null,
            "standardName": "sea_surface_foundation_temperature status_flag",
            "type": "data",
            "unitConversion": null,
            "valueClamp": true,
            "valueColor": false,
            "valueDiffMax": 0.5,
            "valueDiffRelMax": 25,
            "valueMax": 5,
            "valueMin": 4
           },
           "satellite_zenith_angle": {
            "abbreviation": "satellite_zenith_angle",
            "colormapDiffId": "balance",
            "colormapDiffInvert": false,
            "colormapId": "viridis",
            "colormapInvert": false,
            "dimensions": [
             "time",
             "latitude",
             "longitude"
            ],
            "hasLogScale": true,
            "id": "satellite_zenith_angle",
            "logScale": false,
            "missingValue": -128,
            "name": {
             "en": "Satellite zenith angle"
            },
            "offset": 0,
            "scale": 1,
            "standardName": "platform_zenith_angle",
            "type": "data",
            "unit": "angular_degree",
            "unitConversion": null,
            "valueClamp": true,
            "valueColor": false,
            "valueDiffMax": 26,
            "valueDiffRelMax": 25,
            "valueMax": 59,
            "valueMin": 7
           },
           "sea_surface_temperature": {
            "abbreviation": "sea_surface_temperature",
            "colormapDiffId": "balance",
            "colormapDiffInvert": false,
            "colormapId": "thermal",
            "colormapInvert": false,
            "dimensions": [
             "time",
             "latitude",
             "longitude"
            ],
            "hasLogScale": true,
            "id": "sea_surface_temperature",
            "logScale": false,
            "missingValue": -32768,
            "name": {
             "en": "Sea surface foundation temperature"
            },
            "offset": 273.15,
            "scale": 0.01,
            "standardName": "sea_surface_foundation_temperature",
            "type": "data",
            "unit": "K",
            "unitConversion": null,
            "valueClamp": true,
            "valueColor": false,
            "valueDiffMax": 10.830001831054688,
            "valueDiffRelMax": 25,
            "valueMax": 303.6199951171875,
            "valueMin": 281.9599914550781
           },
           "sea_surface_temperature_stddev": {
            "abbreviation": "sea_surface_temperature_stddev",
            "colormapDiffId": "balance",
            "colormapDiffInvert": false,
            "colormapId": "rainbow",
            "colormapInvert": false,
            "dimensions": [
             "time",
             "latitude",
             "longitude"
            ],
            "hasLogScale": true,
            "id": "sea_surface_temperature_stddev",
            "logScale": false,
            "missingValue": -128,
            "name": {
             "en": "Sea surface sub-skin temperature"
            },
            "offset": 2.54,
            "scale": 0.02,
            "standardName": "sea_surface_subskin_temperature",
            "type": "data",
            "unit": "kelvin",
            "unitConversion": null,
            "valueClamp": true,
            "valueColor": false,
            "valueDiffMax": 0.029999971389770508,
            "valueDiffRelMax": 25,
            "valueMax": 0.059999942779541016,
            "valueMin": 0
           },
           "solar_zenith_angle": {
            "abbreviation": "solar_zenith_angle",
            "colormapDiffId": "balance",
            "colormapDiffInvert": false,
            "colormapId": "viridis",
            "colormapInvert": false,
            "dimensions": [
             "time",
             "latitude",
             "longitude"
            ],
            "hasLogScale": true,
            "id": "solar_zenith_angle",
            "logScale": false,
            "missingValue": -128,
            "name": {
             "en": "Solar zenith angle"
            },
            "offset": 90,
            "scale": 1,
            "standardName": "solar_zenith_angle",
            "type": "data",
            "unit": "angular_degree",
            "unitConversion": null,
            "valueClamp": true,
            "valueColor": false,
            "valueDiffMax": 38.5,
            "valueDiffRelMax": 25,
            "valueMax": 168,
            "valueMin": 91
           },
           "sources_of_sst": {
            "abbreviation": "sources_of_sst",
            "colormapDiffId": "balance",
            "colormapDiffInvert": false,
            "colormapId": "viridis",
            "colormapInvert": false,
            "dimensions": [
             "time",
             "latitude",
             "longitude"
            ],
            "hasLogScale": true,
            "id": "sources_of_sst",
            "logScale": false,
            "missingValue": -128,
            "name": {
             "en": "Source of sea surface temperature measurement"
            },
            "offset": null,
            "scale": null,
            "standardName": null,
            "type": "data",
            "unitConversion": null,
            "valueClamp": true,
            "valueColor": false,
            "valueDiffMax": 22,
            "valueDiffRelMax": 25,
            "valueMax": 85,
            "valueMin": 41
           },
           "sses_bias": {
            "abbreviation": "sses_bias",
            "colormapDiffId": "balance",
            "colormapDiffInvert": false,
            "colormapId": "balance",
            "colormapInvert": false,
            "dimensions": [
             "time",
             "latitude",
             "longitude"
            ],
            "hasLogScale": false,
            "id": "sses_bias",
            "logScale": false,
            "missingValue": -128,
            "name": {
             "en": "SSES bias estimate"
            },
            "offset": 0,
            "scale": 0.02,
            "standardName": null,
            "type": "data",
            "unit": "K",
            "unitConversion": null,
            "valueClamp": true,
            "valueColor": false,
            "valueDiffMax": 0.19999998807907104,
            "valueDiffRelMax": 25,
            "valueMax": 0.19999998807907104,
            "valueMin": -0.19999998807907104
           },
           "sses_standard_deviation": {
            "abbreviation": "sses_standard_deviation",
            "colormapDiffId": "balance",
            "colormapDiffInvert": false,
            "colormapId": "rainbow",
            "colormapInvert": false,
            "dimensions": [
             "time",
             "latitude",
             "longitude"
            ],
            "hasLogScale": true,
            "id": "sses_standard_deviation",
            "logScale": false,
            "missingValue": -128,
            "name": {
             "en": "SSES standard deviation"
            },
            "offset": 2.54,
            "scale": 0.02,
            "standardName": null,
            "type": "data",
            "unit": "kelvin",
            "unitConversion": null,
            "valueClamp": true,
            "valueColor": false,
            "valueDiffMax": 0.2900000214576721,
            "valueDiffRelMax": 25,
            "valueMax": 0.5800000429153442,
            "valueMin": 0
           },
           "sst_dtime": {
            "abbreviation": "sst_dtime",
            "colormapDiffId": "balance",
            "colormapDiffInvert": false,
            "colormapId": "viridis",
            "colormapInvert": false,
            "dimensions": [
             "time",
             "latitude",
             "longitude"
            ],
            "hasLogScale": false,
            "id": "sst_dtime",
            "logScale": false,
            "missingValue": -2147483648,
            "name": {
             "en": "Time difference from reference time"
            },
            "offset": null,
            "scale": null,
            "standardName": null,
            "type": "data",
            "unit": "second",
            "unitConversion": null,
            "valueClamp": true,
            "valueColor": false,
            "valueDiffMax": 36165.5,
            "valueDiffRelMax": 25,
            "valueMax": 36392,
            "valueMin": -35939
           }
          },
          "datetime": "2024-06-01T00:00:00Z",
          "end_datetime": "2024-06-01T00:00:00Z",
          "instruments": [
           [
            "ABI",
            "SEVIRI",
            "ABI",
            "SEVIRI",
            "AHI"
           ]
          ],
          "license": "proprietary",
          "order:status": "",
          "processing:level": "Level 3",
          "providers": [
           {
            "description": "Copernicus Marine Data Store",
            "name": "cop_marine",
            "priority": 0,
            "roles": [
             "host"
            ],
            "url": "https://marine.copernicus.eu/"
           }
          ],
          "sci:doi": "https://doi.org/10.48670/moi-00164",
          "start_datetime": "2024-06-01T00:00:00Z"
         },
         "stac_extensions": [
          "https://stac-extensions.github.io/processing/v1.0.0/schema.json",
          "https://stac-extensions.github.io/scientific/v1.0.0/schema.json",
          "https://stac-extensions.github.io/order/v1.1.0/schema.json"
         ],
         "stac_version": "1.0.0",
         "type": "Feature"
        },
        {
         "assets": {
          "downloadLink": {
           "alternate": {
            "origin": {
             "href": "https://s3.waw3-1.cloudferro.com/mdl-native-06/native/SST_GLO_SST_L3S_NRT_OBSERVATIONS_010_010/cmems_obs-sst_glo_phy_l3s_pir_P1D-m_202311/2024/05/20240531000000-IFR-L3S_GHRSST-SSTfnd-ODYSSEA-GLOB_010_PIR-v02.1-fv01.0.nc",
             "title": "Origin asset link"
            }
           },
           "href": "https://hda.data.destination-earth.eu/stac/collections/EO.MO.DAT.SST_GLO_SST_L3S_NRT_OBSERVATIONS_010_010/items/20240531000000-IFR-L3S_GHRSST-SSTfnd-ODYSSEA-GLOB_010_PIR-v02/download?provider=cop_marine",
           "title": "Download link",
           "type": "application/zip"
          },
          "native": {
           "alternate": {
            "origin": {
             "href": "https://s3.waw3-1.cloudferro.com/mdl-native-06/native/SST_GLO_SST_L3S_NRT_OBSERVATIONS_010_010/cmems_obs-sst_glo_phy_l3s_pir_P1D-m_202311/2024/05/20240531000000-IFR-L3S_GHRSST-SSTfnd-ODYSSEA-GLOB_010_PIR-v02.1-fv01.0.nc",
             "title": "Origin asset link",
             "type": "application/x-netcdf"
            }
           },
           "href": "https://hda.data.destination-earth.eu/stac/collections/EO.MO.DAT.SST_GLO_SST_L3S_NRT_OBSERVATIONS_010_010/items/20240531000000-IFR-L3S_GHRSST-SSTfnd-ODYSSEA-GLOB_010_PIR-v02/download/native?provider=cop_marine",
           "title": "native",
           "type": "application/x-netcdf"
          },
          "thumbnail": {
           "href": "https://mdl-metadata.s3.waw3-1.cloudferro.com/metadata/thumbnails/SST_GLO_SST_L3S_NRT_OBSERVATIONS_010_010.jpg",
           "role": "thumbnail",
           "title": "Thumbnail",
           "type": "image/jpeg"
          }
         },
         "bbox": [
          -180,
          -90,
          180,
          90
         ],
         "collection": "EO.MO.DAT.SST_GLO_SST_L3S_NRT_OBSERVATIONS_010_010",
         "geometry": {
          "coordinates": [
           [
            [
             180,
             -90
            ],
            [
             180,
             90
            ],
            [
             -180,
             90
            ],
            [
             -180,
             -90
            ],
            [
             180,
             -90
            ]
           ]
          ],
          "type": "Polygon"
         },
         "id": "20240531000000-IFR-L3S_GHRSST-SSTfnd-ODYSSEA-GLOB_010_PIR-v02",
         "links": [
          {
           "href": "https://hda.data.destination-earth.eu/stac/collections/EO.MO.DAT.SST_GLO_SST_L3S_NRT_OBSERVATIONS_010_010/items/20240531000000-IFR-L3S_GHRSST-SSTfnd-ODYSSEA-GLOB_010_PIR-v02",
           "rel": "self",
           "title": "20240531000000-IFR-L3S_GHRSST-SSTfnd-ODYSSEA-GLOB_010_PIR-v02"
          },
          {
           "href": "https://hda.data.destination-earth.eu/stac/",
           "rel": "root"
          },
          {
           "href": "https://hda.data.destination-earth.eu/stac/collections/EO.MO.DAT.SST_GLO_SST_L3S_NRT_OBSERVATIONS_010_010",
           "rel": "parent",
           "title": "EO.MO.DAT.SST_GLO_SST_L3S_NRT_OBSERVATIONS_010_010"
          },
          {
           "href": "https://hda.data.destination-earth.eu/stac/collections/EO.MO.DAT.SST_GLO_SST_L3S_NRT_OBSERVATIONS_010_010",
           "rel": "collection",
           "title": "EO.MO.DAT.SST_GLO_SST_L3S_NRT_OBSERVATIONS_010_010"
          }
         ],
         "properties": {
          "constellation": [
           "NPP",
           "NOAA-20",
           "Metop-B",
           "Sentinel-3A",
           "Sentinel-3B"
          ],
          "cop_marine:Conventions": "CF-1.7, ACDD-1.3, ISO 8601",
          "cop_marine:Metadata_Conventions": "Climate and Forecast (CF) 1.7, Attribute Convention for Data Discovery (ACDD) 1.3",
          "cop_marine:acknowledgment": "Please acknowledge the use of these data with the following statement: this dataset is produced by the Centre de Recherche et d'Exploitation Satellitaire (CERSAT), at Ifremer, Plouzane (France): It is funded and distributed by Copernicus Marine Service",
          "cop_marine:admp_in_preparation": false,
          "cop_marine:admp_updated": "2024-09-19T06:54:53.840700Z",
          "cop_marine:allVariables": [
           "Sea surface foundation temperature (T)",
           "Sea surface temperature (SST)"
          ],
          "cop_marine:altId": "ab5b366c-f7f5-48cf-b94d-0d3748a2cbc3",
          "cop_marine:areas": [
           "Global Ocean"
          ],
          "cop_marine:assimilatedData": [],
          "cop_marine:band": [
           "infrared",
           "infrared",
           "infrared",
           "infrared",
           "infrared"
          ],
          "cop_marine:cdm_data_type": "grid",
          "cop_marine:citation": "Ifremer / CERSAT. 2023. ODYSSEA Global High-Resolution Sea Surface Temperature Gridded Level 3 Daily Polar orbiting Infra Red (PIR) dataset (v3.0.2) for Copernicus Marine Service. Ver. 3.0.2. Ifremer, Plouzane, France. Dataset accessed [YYYY-MM-DD].",
          "cop_marine:cmems_product_id": "SST_GLO_SST_L3S_NRT_OBSERVATIONS_010_010",
          "cop_marine:colors": [
           "Blue Ocean"
          ],
          "cop_marine:communities": [
           "Climate & adaptation",
           "Policy & governance",
           "Science & innovation",
           "Extremes, hazards & safety",
           "Coastal services"
          ],
          "cop_marine:contact": "emmanuelle.autret@ifremer.fr;jfpiolle@ifremer.fr",
          "cop_marine:contacts": [
           {
            "email": "marine-servicedesk@met.no",
            "name": "Service Desk MET.Norway",
            "organisationName": "OSI-METNO-OSLO-NO",
            "responsiblePartyRole": "pointOfContact"
           },
           {
            "email": "andrea.pisano@cnr.it",
            "name": "Andrea Pisano",
            "organisationName": "SST-CNR-ROMA-IT",
            "responsiblePartyRole": "custodian"
           },
           {
            "email": "c.tronconi@cnr.it",
            "name": "Cristina TRONCONI",
            "organisationName": "SST-CNR-ROMA-IT",
            "responsiblePartyRole": "originator"
           },
           {
            "email": "cersat@ifremer.fr",
            "name": "Jean-François PIOLLÉ",
            "organisationName": "SST-IFREMER-BREST-FR",
            "responsiblePartyRole": "resourceProvider"
           },
           {
            "email": "cersat@ifremer.fr",
            "name": "Cristina Tronconi",
            "organisationName": "SST-IFREMER-BREST-FR",
            "responsiblePartyRole": "distributor"
           }
          ],
          "cop_marine:contributor_name": "Jean-Francois Piolle, Emmanuelle Autret",
          "cop_marine:contributor_role": "principal investigator",
          "cop_marine:creator_email": "cersat@ifremer.fr",
          "cop_marine:creator_institution": "Ifremer",
          "cop_marine:creator_name": "CERSAT",
          "cop_marine:creator_type": "institution",
          "cop_marine:creator_url": "http://cersat.ifremer.fr",
          "cop_marine:dataset": "cmems_obs-sst_glo_phy_l3s_pir_P1D-m_202311",
          "cop_marine:date_created": "2024-08-08T06:39:47Z",
          "cop_marine:date_issued": "2024-08-08T06:39:47Z",
          "cop_marine:date_metadata_modified": "2023-11-01T00:00:00Z",
          "cop_marine:date_modified": "2024-08-08T06:39:47Z",
          "cop_marine:directives": [],
          "cop_marine:featureTypes": [
           "Grid"
          ],
          "cop_marine:file_quality_level": 3,
          "cop_marine:format_version": "GHRSST GDS v2.1",
          "cop_marine:formats": [
           "NetCDF-4"
          ],
          "cop_marine:gds_version_id": 2.1,
          "cop_marine:geoExtent": {
           "coordinates": [
            [
             -180,
             80
            ],
            [
             180,
             -80
            ]
           ],
           "type": "envelope"
          },
          "cop_marine:geoResolution": {
           "column": {
            "magnitude": 0.1,
            "units": "degree"
           },
           "row": {
            "magnitude": 0.1,
            "units": "degree"
           }
          },
          "cop_marine:geospatial_bounds": "POLYGON ((-180.0 -80.0, 180.0 -80.0, 180.0 80.0, -180.0 80.0, -180.0 -80.0))",
          "cop_marine:geospatial_bounds_crs": "EPSG:4326",
          "cop_marine:geospatial_bounds_vertical_crs": "EPSG:5831",
          "cop_marine:geospatial_lat_max": 80,
          "cop_marine:geospatial_lat_min": -80,
          "cop_marine:geospatial_lat_resolution": 0.1,
          "cop_marine:geospatial_lat_units": "degrees_north",
          "cop_marine:geospatial_lon_max": 180,
          "cop_marine:geospatial_lon_min": -180,
          "cop_marine:geospatial_lon_resolution": 0.1,
          "cop_marine:geospatial_lon_units": "degrees_east",
          "cop_marine:geospatial_vertical_max": 0,
          "cop_marine:geospatial_vertical_min": 0,
          "cop_marine:history": "file originally produced by Ifremer/CERSAT with ODYSSEA system 3.0.2",
          "cop_marine:indicatorFamilies": [],
          "cop_marine:institution": "Institut Francais de Recherche pour l'Exploitation de la mer / Centre d'Exploitation et de Recherche Satellitaire",
          "cop_marine:institution_abbreviation": "Ifremer / CERSAT",
          "cop_marine:instrument_type": [
           "radiometer",
           "radiometer",
           "radiometer",
           "radiometer",
           "radiometer"
          ],
          "cop_marine:instrument_vocabulary": "CEOS instrument table",
          "cop_marine:isStaging": false,
          "cop_marine:keywords_vocabulary": "NASA Global Change Master Directory (GCMD) Science Keywords",
          "cop_marine:mainVariables": [
           "Temperature"
          ],
          "cop_marine:metadata_link": "https://resources.marine.copernicus.eu/product-detail/SST_GLO_SST_L3S_NRT_OBSERVATIONS_010_010/INFORMATION",
          "cop_marine:modifiedDate": "2023-11-30",
          "cop_marine:naming_authority": "org.ghrsst",
          "cop_marine:netcdf_version_id": "4.9.2 of Sep  1 2023 15:18:59 $",
          "cop_marine:originalLicense": "These data are available free of charge under the CMEMS data policy, refer to http://marine.copernicus.eu/services-portfolio/service-commitments-and-licence/",
          "cop_marine:platform_type": [
           "polar_orbiter",
           "polar_orbiter",
           "polar_orbiter",
           "polar_orbiter",
           "polar_orbiter"
          ],
          "cop_marine:platform_vocabulary": "CEOS mission table",
          "cop_marine:processing_level": "L3S",
          "cop_marine:processing_software": "Telemachus 3.1.2",
          "cop_marine:product_version": 1,
          "cop_marine:program": "Copernicus",
          "cop_marine:project": "Group for High Resolution Sea Surface Temperature (GHRSST), Copernicus Marine Service (CMEMS)",
          "cop_marine:projection": "Equirectangular",
          "cop_marine:providerMetadata": {
           "source": "cmems",
           "type": "csw",
           "url": "https://cmems-catalog-ro.cls.fr/geonetwork/srv/eng/csw-MYOCEAN-CORE-PRODUCTS?service=CSW&version=2.0.2&request=GetRecordById&id=ab5b366c-f7f5-48cf-b94d-0d3748a2cbc3&elementsetname=full&outputSchema=http://www.isotc211.org/2005/gmd"
          },
          "cop_marine:publisher_email": "cersat@ifremer.fr",
          "cop_marine:publisher_institution": "Copernicus Marine Service",
          "cop_marine:publisher_name": "Copernicus Marine Service",
          "cop_marine:publisher_type": "institution",
          "cop_marine:publisher_url": "https://marine.copernicus.eu",
          "cop_marine:rank": 12010,
          "cop_marine:reference": "Product User Manual for L3S Odyssea Product over the Global Ocean, v2.1, Nov 2023, https://catalogue.marine.copernicus.eu/documents/PUM/CMEMS-SST-PUM-010-010.pdf",
          "cop_marine:references": "No reference",
          "cop_marine:scientific_support_contact": "emmanuelle.autret@ifremer.fr;jfpiolle@ifremer.fr",
          "cop_marine:source": "ODYSSEA",
          "cop_marine:source_version": "3.0.2",
          "cop_marine:sources": [
           "Satellite observations"
          ],
          "cop_marine:spatial_resolution": "0.1 degree",
          "cop_marine:standard_name_vocabulary": "Climate and Forecast (CF) Standard Name Table v79",
          "cop_marine:summary": "This dataset provide a times series of daily multi-sensor composite fields of Sea Surface Temperature (SST) foundation at high resolution (HR) on a 0.1 x 0.1 degree grid (approximately 10 x 10 km) for the Copernicus Marine Service.",
          "cop_marine:technical_support_contact": "cersat@ifremer.fr",
          "cop_marine:tempExtentBegin": "2021-01-01",
          "cop_marine:tempResolutions": [
           "Daily"
          ],
          "cop_marine:temporal_resolution": "daily",
          "cop_marine:thumbnailMeta": {
           "basemapId": "dark",
           "colormapId": "thermal",
           "colormapInvert": false,
           "creationDate": "2023-06-18T06:33:40.478Z",
           "crs": "epsg:4326",
           "elevation": null,
           "layerId": "SST_GLO_SST_L3S_NRT_OBSERVATIONS_010_010/IFREMER-GLOB-SST-L3-NRT-OBS_FULL_TIME_SERIE_202211/sea_surface_temperature",
           "logScale": false,
           "overlays": {
            "tags": [
             {
              "name": "SST"
             }
            ]
           },
           "style": "default",
           "time": 1672531200000,
           "valueClamp": true,
           "valueMax": 303.6099853515625,
           "valueMin": 266.859985351563
          },
          "cop_marine:time_coverage_duration": "P1D",
          "cop_marine:time_coverage_end": "2024-08-07T12:00:00Z",
          "cop_marine:time_coverage_resolution": "P1D",
          "cop_marine:time_coverage_start": "2024-08-06T12:00:00Z",
          "cop_marine:times": [
           "Present",
           "Past"
          ],
          "cop_marine:updateFrequencies": {
           "daily": "12:00"
          },
          "cop_marine:useCases": [],
          "cop_marine:uuid": "011cf488-5551-11ef-bbb5-0cc47a3f766d",
          "cop_marine:vertExtentMax": 0,
          "cop_marine:vertExtentMin": 0,
          "created": "2009-09-30",
          "cube:dimensions": {
           "latitude": {
            "axis": "y",
            "extent": [
             -79.94999694824219,
             79.94999694824219
            ],
            "reference_system": 4326,
            "step": 0.09999999618291706,
            "type": "spatial"
           },
           "longitude": {
            "axis": "x",
            "extent": [
             -179.9499969482422,
             179.9499969482422
            ],
            "reference_system": 4326,
            "step": 0.09999999830410791,
            "type": "spatial"
           },
           "time": {
            "extent": [
             "2020-12-20T00:00:00Z",
             "2024-09-18T00:00:00Z"
            ],
            "step": "P1D",
            "type": "temporal"
           }
          },
          "cube:variables": {
           "adjusted_sea_surface_temperature": {
            "abbreviation": "adjusted_sea_surface_temperature",
            "colormapDiffId": "balance",
            "colormapDiffInvert": false,
            "colormapId": "thermal",
            "colormapInvert": false,
            "dimensions": [
             "time",
             "latitude",
             "longitude"
            ],
            "hasLogScale": true,
            "id": "adjusted_sea_surface_temperature",
            "logScale": false,
            "missingValue": -32768,
            "name": {
             "en": "Adjusted foundation sea surface temperature"
            },
            "offset": 273.15,
            "scale": 0.01,
            "standardName": "sea_surface_foundation_temperature",
            "type": "data",
            "unit": "K",
            "unitConversion": null,
            "valueClamp": true,
            "valueColor": false,
            "valueDiffMax": 14.970001220703125,
            "valueDiffRelMax": 25,
            "valueMax": 303.6300048828125,
            "valueMin": 273.69000244140625
           },
           "bias_to_reference_sst": {
            "abbreviation": "bias_to_reference_sst",
            "colormapDiffId": "balance",
            "colormapDiffInvert": false,
            "colormapId": "balance",
            "colormapInvert": false,
            "dimensions": [
             "time",
             "latitude",
             "longitude"
            ],
            "hasLogScale": false,
            "id": "bias_to_reference_sst",
            "logScale": false,
            "missingValue": -32768,
            "name": {
             "en": "Bias error derived from reference"
            },
            "offset": 0,
            "scale": 0.01,
            "standardName": null,
            "type": "data",
            "unit": "K",
            "unitConversion": null,
            "valueClamp": true,
            "valueColor": false,
            "valueDiffMax": 0.17999999225139618,
            "valueDiffRelMax": 25,
            "valueMax": 0.17999999225139618,
            "valueMin": -0.17999999225139618
           },
           "or_latitude": {
            "abbreviation": "or_latitude",
            "colormapDiffId": "balance",
            "colormapDiffInvert": false,
            "colormapId": "viridis",
            "colormapInvert": false,
            "dimensions": [
             "time",
             "latitude",
             "longitude"
            ],
            "hasLogScale": false,
            "id": "or_latitude",
            "logScale": false,
            "missingValue": -32768,
            "name": {
             "en": "Original latitude of the SST value"
            },
            "offset": 0,
            "scale": 0.01,
            "standardName": "latitude",
            "type": "data",
            "unit": "degree_north",
            "unitConversion": null,
            "valueClamp": true,
            "valueColor": false,
            "valueDiffMax": 65.80999946594238,
            "valueDiffRelMax": 25,
            "valueMax": 72.88999938964844,
            "valueMin": -58.72999954223633
           },
           "or_longitude": {
            "abbreviation": "or_longitude",
            "colormapDiffId": "balance",
            "colormapDiffInvert": false,
            "colormapId": "viridis",
            "colormapInvert": false,
            "dimensions": [
             "time",
             "latitude",
             "longitude"
            ],
            "hasLogScale": false,
            "id": "or_longitude",
            "logScale": false,
            "missingValue": -32768,
            "name": {
             "en": "Original longitude of the SST value"
            },
            "offset": 0,
            "scale": 0.01,
            "standardName": "longitude",
            "type": "data",
            "unit": "degree_east",
            "unitConversion": null,
            "valueClamp": true,
            "valueColor": false,
            "valueDiffMax": 175.74999237060547,
            "valueDiffRelMax": 25,
            "valueMax": 175.84999084472656,
            "valueMin": -175.64999389648438
           },
           "or_number_of_pixels": {
            "abbreviation": "or_number_of_pixels",
            "colormapDiffId": "balance",
            "colormapDiffInvert": false,
            "colormapId": "viridis",
            "colormapInvert": false,
            "dimensions": [
             "time",
             "latitude",
             "longitude"
            ],
            "hasLogScale": true,
            "id": "or_number_of_pixels",
            "logScale": false,
            "missingValue": -32768,
            "name": {
             "en": "Original number of pixels from the L2Ps contributing to the SST value"
            },
            "offset": null,
            "scale": null,
            "standardName": "sea_surface_foundation_temperature number_of_observations",
            "type": "data",
            "unit": 1,
            "unitConversion": null,
            "valueClamp": true,
            "valueColor": false,
            "valueDiffMax": 91.5,
            "valueDiffRelMax": 25,
            "valueMax": 195,
            "valueMin": 12
           },
           "quality_level": {
            "abbreviation": "quality_level",
            "colormapDiffId": "balance",
            "colormapDiffInvert": false,
            "colormapId": "rainbow",
            "colormapInvert": false,
            "dimensions": [
             "time",
             "latitude",
             "longitude"
            ],
            "hasLogScale": true,
            "id": "quality_level",
            "logScale": false,
            "missingValue": -128,
            "name": {
             "en": "Quality level of SST pixel"
            },
            "offset": null,
            "scale": null,
            "standardName": "sea_surface_foundation_temperature status_flag",
            "type": "data",
            "unitConversion": null,
            "valueClamp": true,
            "valueColor": false,
            "valueDiffMax": 0.5,
            "valueDiffRelMax": 25,
            "valueMax": 5,
            "valueMin": 4
           },
           "satellite_zenith_angle": {
            "abbreviation": "satellite_zenith_angle",
            "colormapDiffId": "balance",
            "colormapDiffInvert": false,
            "colormapId": "viridis",
            "colormapInvert": false,
            "dimensions": [
             "time",
             "latitude",
             "longitude"
            ],
            "hasLogScale": false,
            "id": "satellite_zenith_angle",
            "logScale": false,
            "missingValue": -128,
            "name": {
             "en": "Satellite zenith angle"
            },
            "offset": 0,
            "scale": 1,
            "standardName": "platform_zenith_angle",
            "type": "data",
            "unit": "angular_degree",
            "unitConversion": null,
            "valueClamp": true,
            "valueColor": false,
            "valueDiffMax": 66.5,
            "valueDiffRelMax": 25,
            "valueMax": 67,
            "valueMin": -66
           },
           "sea_surface_temperature": {
            "abbreviation": "sea_surface_temperature",
            "colormapDiffId": "balance",
            "colormapDiffInvert": false,
            "colormapId": "thermal",
            "colormapInvert": false,
            "dimensions": [
             "time",
             "latitude",
             "longitude"
            ],
            "hasLogScale": true,
            "id": "sea_surface_temperature",
            "logScale": false,
            "missingValue": -32768,
            "name": {
             "en": "Sea surface foundation temperature"
            },
            "offset": 273.15,
            "scale": 0.01,
            "standardName": "sea_surface_foundation_temperature",
            "type": "data",
            "unit": "K",
            "unitConversion": null,
            "valueClamp": true,
            "valueColor": false,
            "valueDiffMax": 15.014999389648438,
            "valueDiffRelMax": 25,
            "valueMax": 303.6600036621094,
            "valueMin": 273.6300048828125
           },
           "sea_surface_temperature_stddev": {
            "abbreviation": "sea_surface_temperature_stddev",
            "colormapDiffId": "balance",
            "colormapDiffInvert": false,
            "colormapId": "rainbow",
            "colormapInvert": false,
            "dimensions": [
             "time",
             "latitude",
             "longitude"
            ],
            "hasLogScale": true,
            "id": "sea_surface_temperature_stddev",
            "logScale": false,
            "missingValue": -128,
            "name": {
             "en": "Sea surface subskin temperature"
            },
            "offset": 2.54,
            "scale": 0.02,
            "standardName": "sea_surface_subskin_temperature",
            "type": "data",
            "unit": "kelvin",
            "unitConversion": null,
            "valueClamp": true,
            "valueColor": false,
            "valueDiffMax": 0.2800000309944153,
            "valueDiffRelMax": 25,
            "valueMax": 0.5600000619888306,
            "valueMin": 0
           },
           "solar_zenith_angle": {
            "abbreviation": "solar_zenith_angle",
            "colormapDiffId": "balance",
            "colormapDiffInvert": false,
            "colormapId": "viridis",
            "colormapInvert": false,
            "dimensions": [
             "time",
             "latitude",
             "longitude"
            ],
            "hasLogScale": true,
            "id": "solar_zenith_angle",
            "logScale": false,
            "missingValue": -128,
            "name": {
             "en": "Solar zenith angle"
            },
            "offset": 90,
            "scale": 1,
            "standardName": "solar_zenith_angle",
            "type": "data",
            "unit": "angular_degree",
            "unitConversion": null,
            "valueClamp": true,
            "valueColor": false,
            "valueDiffMax": 46,
            "valueDiffRelMax": 25,
            "valueMax": 172,
            "valueMin": 80
           },
           "sources_of_sst": {
            "abbreviation": "sources_of_sst",
            "colormapDiffId": "balance",
            "colormapDiffInvert": false,
            "colormapId": "viridis",
            "colormapInvert": false,
            "dimensions": [
             "time",
             "latitude",
             "longitude"
            ],
            "hasLogScale": true,
            "id": "sources_of_sst",
            "logScale": false,
            "missingValue": -128,
            "name": {
             "en": "Source of sea surface temperature measurement"
            },
            "offset": null,
            "scale": null,
            "standardName": null,
            "type": "data",
            "unitConversion": null,
            "valueClamp": true,
            "valueColor": false,
            "valueDiffMax": 30,
            "valueDiffRelMax": 25,
            "valueMax": 80,
            "valueMin": 20
           },
           "sses_bias": {
            "abbreviation": "sses_bias",
            "colormapDiffId": "balance",
            "colormapDiffInvert": false,
            "colormapId": "balance",
            "colormapInvert": false,
            "dimensions": [
             "time",
             "latitude",
             "longitude"
            ],
            "hasLogScale": false,
            "id": "sses_bias",
            "logScale": false,
            "missingValue": -128,
            "name": {
             "en": "SSES bias estimate"
            },
            "offset": 0,
            "scale": 0.02,
            "standardName": null,
            "type": "data",
            "unit": "K",
            "unitConversion": null,
            "valueClamp": true,
            "valueColor": false,
            "valueDiffMax": 0.3400000035762787,
            "valueDiffRelMax": 25,
            "valueMax": 0.3400000035762787,
            "valueMin": -0.3400000035762787
           },
           "sses_standard_deviation": {
            "abbreviation": "sses_standard_deviation",
            "colormapDiffId": "balance",
            "colormapDiffInvert": false,
            "colormapId": "rainbow",
            "colormapInvert": false,
            "dimensions": [
             "time",
             "latitude",
             "longitude"
            ],
            "hasLogScale": true,
            "id": "sses_standard_deviation",
            "logScale": false,
            "missingValue": -128,
            "name": {
             "en": "SSES standard deviation"
            },
            "offset": 2.54,
            "scale": 0.02,
            "standardName": null,
            "type": "data",
            "unit": "kelvin",
            "unitConversion": null,
            "valueClamp": true,
            "valueColor": false,
            "valueDiffMax": 0.21000003814697266,
            "valueDiffRelMax": 25,
            "valueMax": 0.4200000762939453,
            "valueMin": 0
           },
           "sst_dtime": {
            "abbreviation": "sst_dtime",
            "colormapDiffId": "balance",
            "colormapDiffInvert": false,
            "colormapId": "viridis",
            "colormapInvert": false,
            "dimensions": [
             "time",
             "latitude",
             "longitude"
            ],
            "hasLogScale": false,
            "id": "sst_dtime",
            "logScale": false,
            "missingValue": -2147483648,
            "name": {
             "en": "Time difference from reference time"
            },
            "offset": null,
            "scale": null,
            "standardName": null,
            "type": "data",
            "unit": "second",
            "unitConversion": null,
            "valueClamp": true,
            "valueColor": false,
            "valueDiffMax": 40580.5,
            "valueDiffRelMax": 25,
            "valueMax": 41485,
            "valueMin": -39676
           }
          },
          "datetime": "2024-05-31T00:00:00Z",
          "end_datetime": "2024-05-31T00:00:00Z",
          "instruments": [
           [
            "VIIRS",
            "VIIRS",
            "AVHRR/3",
            "SLSTR",
            "SLSTR"
           ]
          ],
          "license": "proprietary",
          "order:status": "",
          "processing:level": "Level 3",
          "providers": [
           {
            "description": "Copernicus Marine Data Store",
            "name": "cop_marine",
            "priority": 0,
            "roles": [
             "host"
            ],
            "url": "https://marine.copernicus.eu/"
           }
          ],
          "sci:doi": "https://doi.org/10.48670/moi-00164",
          "start_datetime": "2024-05-31T00:00:00Z"
         },
         "stac_extensions": [
          "https://stac-extensions.github.io/processing/v1.0.0/schema.json",
          "https://stac-extensions.github.io/scientific/v1.0.0/schema.json",
          "https://stac-extensions.github.io/order/v1.1.0/schema.json"
         ],
         "stac_version": "1.0.0",
         "type": "Feature"
        },
        {
         "assets": {
          "downloadLink": {
           "alternate": {
            "origin": {
             "href": "https://s3.waw3-1.cloudferro.com/mdl-native-06/native/SST_GLO_SST_L3S_NRT_OBSERVATIONS_010_010/cmems_obs-sst_glo_phy_l3s_pir_P1D-m_202311/2024/06/20240601000000-IFR-L3S_GHRSST-SSTfnd-ODYSSEA-GLOB_010_PIR-v02.1-fv01.0.nc",
             "title": "Origin asset link"
            }
           },
           "href": "https://hda.data.destination-earth.eu/stac/collections/EO.MO.DAT.SST_GLO_SST_L3S_NRT_OBSERVATIONS_010_010/items/20240601000000-IFR-L3S_GHRSST-SSTfnd-ODYSSEA-GLOB_010_PIR-v02/download?provider=cop_marine",
           "title": "Download link",
           "type": "application/zip"
          },
          "native": {
           "alternate": {
            "origin": {
             "href": "https://s3.waw3-1.cloudferro.com/mdl-native-06/native/SST_GLO_SST_L3S_NRT_OBSERVATIONS_010_010/cmems_obs-sst_glo_phy_l3s_pir_P1D-m_202311/2024/06/20240601000000-IFR-L3S_GHRSST-SSTfnd-ODYSSEA-GLOB_010_PIR-v02.1-fv01.0.nc",
             "title": "Origin asset link",
             "type": "application/x-netcdf"
            }
           },
           "href": "https://hda.data.destination-earth.eu/stac/collections/EO.MO.DAT.SST_GLO_SST_L3S_NRT_OBSERVATIONS_010_010/items/20240601000000-IFR-L3S_GHRSST-SSTfnd-ODYSSEA-GLOB_010_PIR-v02/download/native?provider=cop_marine",
           "title": "native",
           "type": "application/x-netcdf"
          },
          "thumbnail": {
           "href": "https://mdl-metadata.s3.waw3-1.cloudferro.com/metadata/thumbnails/SST_GLO_SST_L3S_NRT_OBSERVATIONS_010_010.jpg",
           "role": "thumbnail",
           "title": "Thumbnail",
           "type": "image/jpeg"
          }
         },
         "bbox": [
          -180,
          -90,
          180,
          90
         ],
         "collection": "EO.MO.DAT.SST_GLO_SST_L3S_NRT_OBSERVATIONS_010_010",
         "geometry": {
          "coordinates": [
           [
            [
             180,
             -90
            ],
            [
             180,
             90
            ],
            [
             -180,
             90
            ],
            [
             -180,
             -90
            ],
            [
             180,
             -90
            ]
           ]
          ],
          "type": "Polygon"
         },
         "id": "20240601000000-IFR-L3S_GHRSST-SSTfnd-ODYSSEA-GLOB_010_PIR-v02",
         "links": [
          {
           "href": "https://hda.data.destination-earth.eu/stac/collections/EO.MO.DAT.SST_GLO_SST_L3S_NRT_OBSERVATIONS_010_010/items/20240601000000-IFR-L3S_GHRSST-SSTfnd-ODYSSEA-GLOB_010_PIR-v02",
           "rel": "self",
           "title": "20240601000000-IFR-L3S_GHRSST-SSTfnd-ODYSSEA-GLOB_010_PIR-v02"
          },
          {
           "href": "https://hda.data.destination-earth.eu/stac/",
           "rel": "root"
          },
          {
           "href": "https://hda.data.destination-earth.eu/stac/collections/EO.MO.DAT.SST_GLO_SST_L3S_NRT_OBSERVATIONS_010_010",
           "rel": "parent",
           "title": "EO.MO.DAT.SST_GLO_SST_L3S_NRT_OBSERVATIONS_010_010"
          },
          {
           "href": "https://hda.data.destination-earth.eu/stac/collections/EO.MO.DAT.SST_GLO_SST_L3S_NRT_OBSERVATIONS_010_010",
           "rel": "collection",
           "title": "EO.MO.DAT.SST_GLO_SST_L3S_NRT_OBSERVATIONS_010_010"
          }
         ],
         "properties": {
          "constellation": [
           "NPP",
           "NOAA-20",
           "Metop-B",
           "Sentinel-3A",
           "Sentinel-3B"
          ],
          "cop_marine:Conventions": "CF-1.7, ACDD-1.3, ISO 8601",
          "cop_marine:Metadata_Conventions": "Climate and Forecast (CF) 1.7, Attribute Convention for Data Discovery (ACDD) 1.3",
          "cop_marine:acknowledgment": "Please acknowledge the use of these data with the following statement: this dataset is produced by the Centre de Recherche et d'Exploitation Satellitaire (CERSAT), at Ifremer, Plouzane (France): It is funded and distributed by Copernicus Marine Service",
          "cop_marine:admp_in_preparation": false,
          "cop_marine:admp_updated": "2024-09-19T06:54:53.840700Z",
          "cop_marine:allVariables": [
           "Sea surface foundation temperature (T)",
           "Sea surface temperature (SST)"
          ],
          "cop_marine:altId": "ab5b366c-f7f5-48cf-b94d-0d3748a2cbc3",
          "cop_marine:areas": [
           "Global Ocean"
          ],
          "cop_marine:assimilatedData": [],
          "cop_marine:band": [
           "infrared",
           "infrared",
           "infrared",
           "infrared",
           "infrared"
          ],
          "cop_marine:cdm_data_type": "grid",
          "cop_marine:citation": "Ifremer / CERSAT. 2023. ODYSSEA Global High-Resolution Sea Surface Temperature Gridded Level 3 Daily Polar orbiting Infra Red (PIR) dataset (v3.0.2) for Copernicus Marine Service. Ver. 3.0.2. Ifremer, Plouzane, France. Dataset accessed [YYYY-MM-DD].",
          "cop_marine:cmems_product_id": "SST_GLO_SST_L3S_NRT_OBSERVATIONS_010_010",
          "cop_marine:colors": [
           "Blue Ocean"
          ],
          "cop_marine:communities": [
           "Climate & adaptation",
           "Policy & governance",
           "Science & innovation",
           "Extremes, hazards & safety",
           "Coastal services"
          ],
          "cop_marine:contact": "emmanuelle.autret@ifremer.fr;jfpiolle@ifremer.fr",
          "cop_marine:contacts": [
           {
            "email": "marine-servicedesk@met.no",
            "name": "Service Desk MET.Norway",
            "organisationName": "OSI-METNO-OSLO-NO",
            "responsiblePartyRole": "pointOfContact"
           },
           {
            "email": "andrea.pisano@cnr.it",
            "name": "Andrea Pisano",
            "organisationName": "SST-CNR-ROMA-IT",
            "responsiblePartyRole": "custodian"
           },
           {
            "email": "c.tronconi@cnr.it",
            "name": "Cristina TRONCONI",
            "organisationName": "SST-CNR-ROMA-IT",
            "responsiblePartyRole": "originator"
           },
           {
            "email": "cersat@ifremer.fr",
            "name": "Jean-François PIOLLÉ",
            "organisationName": "SST-IFREMER-BREST-FR",
            "responsiblePartyRole": "resourceProvider"
           },
           {
            "email": "cersat@ifremer.fr",
            "name": "Cristina Tronconi",
            "organisationName": "SST-IFREMER-BREST-FR",
            "responsiblePartyRole": "distributor"
           }
          ],
          "cop_marine:contributor_name": "Jean-Francois Piolle, Emmanuelle Autret",
          "cop_marine:contributor_role": "principal investigator",
          "cop_marine:creator_email": "cersat@ifremer.fr",
          "cop_marine:creator_institution": "Ifremer",
          "cop_marine:creator_name": "CERSAT",
          "cop_marine:creator_type": "institution",
          "cop_marine:creator_url": "http://cersat.ifremer.fr",
          "cop_marine:dataset": "cmems_obs-sst_glo_phy_l3s_pir_P1D-m_202311",
          "cop_marine:date_created": "2024-08-08T06:39:47Z",
          "cop_marine:date_issued": "2024-08-08T06:39:47Z",
          "cop_marine:date_metadata_modified": "2023-11-01T00:00:00Z",
          "cop_marine:date_modified": "2024-08-08T06:39:47Z",
          "cop_marine:directives": [],
          "cop_marine:featureTypes": [
           "Grid"
          ],
          "cop_marine:file_quality_level": 3,
          "cop_marine:format_version": "GHRSST GDS v2.1",
          "cop_marine:formats": [
           "NetCDF-4"
          ],
          "cop_marine:gds_version_id": 2.1,
          "cop_marine:geoExtent": {
           "coordinates": [
            [
             -180,
             80
            ],
            [
             180,
             -80
            ]
           ],
           "type": "envelope"
          },
          "cop_marine:geoResolution": {
           "column": {
            "magnitude": 0.1,
            "units": "degree"
           },
           "row": {
            "magnitude": 0.1,
            "units": "degree"
           }
          },
          "cop_marine:geospatial_bounds": "POLYGON ((-180.0 -80.0, 180.0 -80.0, 180.0 80.0, -180.0 80.0, -180.0 -80.0))",
          "cop_marine:geospatial_bounds_crs": "EPSG:4326",
          "cop_marine:geospatial_bounds_vertical_crs": "EPSG:5831",
          "cop_marine:geospatial_lat_max": 80,
          "cop_marine:geospatial_lat_min": -80,
          "cop_marine:geospatial_lat_resolution": 0.1,
          "cop_marine:geospatial_lat_units": "degrees_north",
          "cop_marine:geospatial_lon_max": 180,
          "cop_marine:geospatial_lon_min": -180,
          "cop_marine:geospatial_lon_resolution": 0.1,
          "cop_marine:geospatial_lon_units": "degrees_east",
          "cop_marine:geospatial_vertical_max": 0,
          "cop_marine:geospatial_vertical_min": 0,
          "cop_marine:history": "file originally produced by Ifremer/CERSAT with ODYSSEA system 3.0.2",
          "cop_marine:indicatorFamilies": [],
          "cop_marine:institution": "Institut Francais de Recherche pour l'Exploitation de la mer / Centre d'Exploitation et de Recherche Satellitaire",
          "cop_marine:institution_abbreviation": "Ifremer / CERSAT",
          "cop_marine:instrument_type": [
           "radiometer",
           "radiometer",
           "radiometer",
           "radiometer",
           "radiometer"
          ],
          "cop_marine:instrument_vocabulary": "CEOS instrument table",
          "cop_marine:isStaging": false,
          "cop_marine:keywords_vocabulary": "NASA Global Change Master Directory (GCMD) Science Keywords",
          "cop_marine:mainVariables": [
           "Temperature"
          ],
          "cop_marine:metadata_link": "https://resources.marine.copernicus.eu/product-detail/SST_GLO_SST_L3S_NRT_OBSERVATIONS_010_010/INFORMATION",
          "cop_marine:modifiedDate": "2023-11-30",
          "cop_marine:naming_authority": "org.ghrsst",
          "cop_marine:netcdf_version_id": "4.9.2 of Sep  1 2023 15:18:59 $",
          "cop_marine:originalLicense": "These data are available free of charge under the CMEMS data policy, refer to http://marine.copernicus.eu/services-portfolio/service-commitments-and-licence/",
          "cop_marine:platform_type": [
           "polar_orbiter",
           "polar_orbiter",
           "polar_orbiter",
           "polar_orbiter",
           "polar_orbiter"
          ],
          "cop_marine:platform_vocabulary": "CEOS mission table",
          "cop_marine:processing_level": "L3S",
          "cop_marine:processing_software": "Telemachus 3.1.2",
          "cop_marine:product_version": 1,
          "cop_marine:program": "Copernicus",
          "cop_marine:project": "Group for High Resolution Sea Surface Temperature (GHRSST), Copernicus Marine Service (CMEMS)",
          "cop_marine:projection": "Equirectangular",
          "cop_marine:providerMetadata": {
           "source": "cmems",
           "type": "csw",
           "url": "https://cmems-catalog-ro.cls.fr/geonetwork/srv/eng/csw-MYOCEAN-CORE-PRODUCTS?service=CSW&version=2.0.2&request=GetRecordById&id=ab5b366c-f7f5-48cf-b94d-0d3748a2cbc3&elementsetname=full&outputSchema=http://www.isotc211.org/2005/gmd"
          },
          "cop_marine:publisher_email": "cersat@ifremer.fr",
          "cop_marine:publisher_institution": "Copernicus Marine Service",
          "cop_marine:publisher_name": "Copernicus Marine Service",
          "cop_marine:publisher_type": "institution",
          "cop_marine:publisher_url": "https://marine.copernicus.eu",
          "cop_marine:rank": 12010,
          "cop_marine:reference": "Product User Manual for L3S Odyssea Product over the Global Ocean, v2.1, Nov 2023, https://catalogue.marine.copernicus.eu/documents/PUM/CMEMS-SST-PUM-010-010.pdf",
          "cop_marine:references": "No reference",
          "cop_marine:scientific_support_contact": "emmanuelle.autret@ifremer.fr;jfpiolle@ifremer.fr",
          "cop_marine:source": "ODYSSEA",
          "cop_marine:source_version": "3.0.2",
          "cop_marine:sources": [
           "Satellite observations"
          ],
          "cop_marine:spatial_resolution": "0.1 degree",
          "cop_marine:standard_name_vocabulary": "Climate and Forecast (CF) Standard Name Table v79",
          "cop_marine:summary": "This dataset provide a times series of daily multi-sensor composite fields of Sea Surface Temperature (SST) foundation at high resolution (HR) on a 0.1 x 0.1 degree grid (approximately 10 x 10 km) for the Copernicus Marine Service.",
          "cop_marine:technical_support_contact": "cersat@ifremer.fr",
          "cop_marine:tempExtentBegin": "2021-01-01",
          "cop_marine:tempResolutions": [
           "Daily"
          ],
          "cop_marine:temporal_resolution": "daily",
          "cop_marine:thumbnailMeta": {
           "basemapId": "dark",
           "colormapId": "thermal",
           "colormapInvert": false,
           "creationDate": "2023-06-18T06:33:40.478Z",
           "crs": "epsg:4326",
           "elevation": null,
           "layerId": "SST_GLO_SST_L3S_NRT_OBSERVATIONS_010_010/IFREMER-GLOB-SST-L3-NRT-OBS_FULL_TIME_SERIE_202211/sea_surface_temperature",
           "logScale": false,
           "overlays": {
            "tags": [
             {
              "name": "SST"
             }
            ]
           },
           "style": "default",
           "time": 1672531200000,
           "valueClamp": true,
           "valueMax": 303.6099853515625,
           "valueMin": 266.859985351563
          },
          "cop_marine:time_coverage_duration": "P1D",
          "cop_marine:time_coverage_end": "2024-08-07T12:00:00Z",
          "cop_marine:time_coverage_resolution": "P1D",
          "cop_marine:time_coverage_start": "2024-08-06T12:00:00Z",
          "cop_marine:times": [
           "Present",
           "Past"
          ],
          "cop_marine:updateFrequencies": {
           "daily": "12:00"
          },
          "cop_marine:useCases": [],
          "cop_marine:uuid": "011cf488-5551-11ef-bbb5-0cc47a3f766d",
          "cop_marine:vertExtentMax": 0,
          "cop_marine:vertExtentMin": 0,
          "created": "2009-09-30",
          "cube:dimensions": {
           "latitude": {
            "axis": "y",
            "extent": [
             -79.94999694824219,
             79.94999694824219
            ],
            "reference_system": 4326,
            "step": 0.09999999618291706,
            "type": "spatial"
           },
           "longitude": {
            "axis": "x",
            "extent": [
             -179.9499969482422,
             179.9499969482422
            ],
            "reference_system": 4326,
            "step": 0.09999999830410791,
            "type": "spatial"
           },
           "time": {
            "extent": [
             "2020-12-20T00:00:00Z",
             "2024-09-18T00:00:00Z"
            ],
            "step": "P1D",
            "type": "temporal"
           }
          },
          "cube:variables": {
           "adjusted_sea_surface_temperature": {
            "abbreviation": "adjusted_sea_surface_temperature",
            "colormapDiffId": "balance",
            "colormapDiffInvert": false,
            "colormapId": "thermal",
            "colormapInvert": false,
            "dimensions": [
             "time",
             "latitude",
             "longitude"
            ],
            "hasLogScale": true,
            "id": "adjusted_sea_surface_temperature",
            "logScale": false,
            "missingValue": -32768,
            "name": {
             "en": "Adjusted foundation sea surface temperature"
            },
            "offset": 273.15,
            "scale": 0.01,
            "standardName": "sea_surface_foundation_temperature",
            "type": "data",
            "unit": "K",
            "unitConversion": null,
            "valueClamp": true,
            "valueColor": false,
            "valueDiffMax": 14.970001220703125,
            "valueDiffRelMax": 25,
            "valueMax": 303.6300048828125,
            "valueMin": 273.69000244140625
           },
           "bias_to_reference_sst": {
            "abbreviation": "bias_to_reference_sst",
            "colormapDiffId": "balance",
            "colormapDiffInvert": false,
            "colormapId": "balance",
            "colormapInvert": false,
            "dimensions": [
             "time",
             "latitude",
             "longitude"
            ],
            "hasLogScale": false,
            "id": "bias_to_reference_sst",
            "logScale": false,
            "missingValue": -32768,
            "name": {
             "en": "Bias error derived from reference"
            },
            "offset": 0,
            "scale": 0.01,
            "standardName": null,
            "type": "data",
            "unit": "K",
            "unitConversion": null,
            "valueClamp": true,
            "valueColor": false,
            "valueDiffMax": 0.17999999225139618,
            "valueDiffRelMax": 25,
            "valueMax": 0.17999999225139618,
            "valueMin": -0.17999999225139618
           },
           "or_latitude": {
            "abbreviation": "or_latitude",
            "colormapDiffId": "balance",
            "colormapDiffInvert": false,
            "colormapId": "viridis",
            "colormapInvert": false,
            "dimensions": [
             "time",
             "latitude",
             "longitude"
            ],
            "hasLogScale": false,
            "id": "or_latitude",
            "logScale": false,
            "missingValue": -32768,
            "name": {
             "en": "Original latitude of the SST value"
            },
            "offset": 0,
            "scale": 0.01,
            "standardName": "latitude",
            "type": "data",
            "unit": "degree_north",
            "unitConversion": null,
            "valueClamp": true,
            "valueColor": false,
            "valueDiffMax": 65.80999946594238,
            "valueDiffRelMax": 25,
            "valueMax": 72.88999938964844,
            "valueMin": -58.72999954223633
           },
           "or_longitude": {
            "abbreviation": "or_longitude",
            "colormapDiffId": "balance",
            "colormapDiffInvert": false,
            "colormapId": "viridis",
            "colormapInvert": false,
            "dimensions": [
             "time",
             "latitude",
             "longitude"
            ],
            "hasLogScale": false,
            "id": "or_longitude",
            "logScale": false,
            "missingValue": -32768,
            "name": {
             "en": "Original longitude of the SST value"
            },
            "offset": 0,
            "scale": 0.01,
            "standardName": "longitude",
            "type": "data",
            "unit": "degree_east",
            "unitConversion": null,
            "valueClamp": true,
            "valueColor": false,
            "valueDiffMax": 175.74999237060547,
            "valueDiffRelMax": 25,
            "valueMax": 175.84999084472656,
            "valueMin": -175.64999389648438
           },
           "or_number_of_pixels": {
            "abbreviation": "or_number_of_pixels",
            "colormapDiffId": "balance",
            "colormapDiffInvert": false,
            "colormapId": "viridis",
            "colormapInvert": false,
            "dimensions": [
             "time",
             "latitude",
             "longitude"
            ],
            "hasLogScale": true,
            "id": "or_number_of_pixels",
            "logScale": false,
            "missingValue": -32768,
            "name": {
             "en": "Original number of pixels from the L2Ps contributing to the SST value"
            },
            "offset": null,
            "scale": null,
            "standardName": "sea_surface_foundation_temperature number_of_observations",
            "type": "data",
            "unit": 1,
            "unitConversion": null,
            "valueClamp": true,
            "valueColor": false,
            "valueDiffMax": 91.5,
            "valueDiffRelMax": 25,
            "valueMax": 195,
            "valueMin": 12
           },
           "quality_level": {
            "abbreviation": "quality_level",
            "colormapDiffId": "balance",
            "colormapDiffInvert": false,
            "colormapId": "rainbow",
            "colormapInvert": false,
            "dimensions": [
             "time",
             "latitude",
             "longitude"
            ],
            "hasLogScale": true,
            "id": "quality_level",
            "logScale": false,
            "missingValue": -128,
            "name": {
             "en": "Quality level of SST pixel"
            },
            "offset": null,
            "scale": null,
            "standardName": "sea_surface_foundation_temperature status_flag",
            "type": "data",
            "unitConversion": null,
            "valueClamp": true,
            "valueColor": false,
            "valueDiffMax": 0.5,
            "valueDiffRelMax": 25,
            "valueMax": 5,
            "valueMin": 4
           },
           "satellite_zenith_angle": {
            "abbreviation": "satellite_zenith_angle",
            "colormapDiffId": "balance",
            "colormapDiffInvert": false,
            "colormapId": "viridis",
            "colormapInvert": false,
            "dimensions": [
             "time",
             "latitude",
             "longitude"
            ],
            "hasLogScale": false,
            "id": "satellite_zenith_angle",
            "logScale": false,
            "missingValue": -128,
            "name": {
             "en": "Satellite zenith angle"
            },
            "offset": 0,
            "scale": 1,
            "standardName": "platform_zenith_angle",
            "type": "data",
            "unit": "angular_degree",
            "unitConversion": null,
            "valueClamp": true,
            "valueColor": false,
            "valueDiffMax": 66.5,
            "valueDiffRelMax": 25,
            "valueMax": 67,
            "valueMin": -66
           },
           "sea_surface_temperature": {
            "abbreviation": "sea_surface_temperature",
            "colormapDiffId": "balance",
            "colormapDiffInvert": false,
            "colormapId": "thermal",
            "colormapInvert": false,
            "dimensions": [
             "time",
             "latitude",
             "longitude"
            ],
            "hasLogScale": true,
            "id": "sea_surface_temperature",
            "logScale": false,
            "missingValue": -32768,
            "name": {
             "en": "Sea surface foundation temperature"
            },
            "offset": 273.15,
            "scale": 0.01,
            "standardName": "sea_surface_foundation_temperature",
            "type": "data",
            "unit": "K",
            "unitConversion": null,
            "valueClamp": true,
            "valueColor": false,
            "valueDiffMax": 15.014999389648438,
            "valueDiffRelMax": 25,
            "valueMax": 303.6600036621094,
            "valueMin": 273.6300048828125
           },
           "sea_surface_temperature_stddev": {
            "abbreviation": "sea_surface_temperature_stddev",
            "colormapDiffId": "balance",
            "colormapDiffInvert": false,
            "colormapId": "rainbow",
            "colormapInvert": false,
            "dimensions": [
             "time",
             "latitude",
             "longitude"
            ],
            "hasLogScale": true,
            "id": "sea_surface_temperature_stddev",
            "logScale": false,
            "missingValue": -128,
            "name": {
             "en": "Sea surface subskin temperature"
            },
            "offset": 2.54,
            "scale": 0.02,
            "standardName": "sea_surface_subskin_temperature",
            "type": "data",
            "unit": "kelvin",
            "unitConversion": null,
            "valueClamp": true,
            "valueColor": false,
            "valueDiffMax": 0.2800000309944153,
            "valueDiffRelMax": 25,
            "valueMax": 0.5600000619888306,
            "valueMin": 0
           },
           "solar_zenith_angle": {
            "abbreviation": "solar_zenith_angle",
            "colormapDiffId": "balance",
            "colormapDiffInvert": false,
            "colormapId": "viridis",
            "colormapInvert": false,
            "dimensions": [
             "time",
             "latitude",
             "longitude"
            ],
            "hasLogScale": true,
            "id": "solar_zenith_angle",
            "logScale": false,
            "missingValue": -128,
            "name": {
             "en": "Solar zenith angle"
            },
            "offset": 90,
            "scale": 1,
            "standardName": "solar_zenith_angle",
            "type": "data",
            "unit": "angular_degree",
            "unitConversion": null,
            "valueClamp": true,
            "valueColor": false,
            "valueDiffMax": 46,
            "valueDiffRelMax": 25,
            "valueMax": 172,
            "valueMin": 80
           },
           "sources_of_sst": {
            "abbreviation": "sources_of_sst",
            "colormapDiffId": "balance",
            "colormapDiffInvert": false,
            "colormapId": "viridis",
            "colormapInvert": false,
            "dimensions": [
             "time",
             "latitude",
             "longitude"
            ],
            "hasLogScale": true,
            "id": "sources_of_sst",
            "logScale": false,
            "missingValue": -128,
            "name": {
             "en": "Source of sea surface temperature measurement"
            },
            "offset": null,
            "scale": null,
            "standardName": null,
            "type": "data",
            "unitConversion": null,
            "valueClamp": true,
            "valueColor": false,
            "valueDiffMax": 30,
            "valueDiffRelMax": 25,
            "valueMax": 80,
            "valueMin": 20
           },
           "sses_bias": {
            "abbreviation": "sses_bias",
            "colormapDiffId": "balance",
            "colormapDiffInvert": false,
            "colormapId": "balance",
            "colormapInvert": false,
            "dimensions": [
             "time",
             "latitude",
             "longitude"
            ],
            "hasLogScale": false,
            "id": "sses_bias",
            "logScale": false,
            "missingValue": -128,
            "name": {
             "en": "SSES bias estimate"
            },
            "offset": 0,
            "scale": 0.02,
            "standardName": null,
            "type": "data",
            "unit": "K",
            "unitConversion": null,
            "valueClamp": true,
            "valueColor": false,
            "valueDiffMax": 0.3400000035762787,
            "valueDiffRelMax": 25,
            "valueMax": 0.3400000035762787,
            "valueMin": -0.3400000035762787
           },
           "sses_standard_deviation": {
            "abbreviation": "sses_standard_deviation",
            "colormapDiffId": "balance",
            "colormapDiffInvert": false,
            "colormapId": "rainbow",
            "colormapInvert": false,
            "dimensions": [
             "time",
             "latitude",
             "longitude"
            ],
            "hasLogScale": true,
            "id": "sses_standard_deviation",
            "logScale": false,
            "missingValue": -128,
            "name": {
             "en": "SSES standard deviation"
            },
            "offset": 2.54,
            "scale": 0.02,
            "standardName": null,
            "type": "data",
            "unit": "kelvin",
            "unitConversion": null,
            "valueClamp": true,
            "valueColor": false,
            "valueDiffMax": 0.21000003814697266,
            "valueDiffRelMax": 25,
            "valueMax": 0.4200000762939453,
            "valueMin": 0
           },
           "sst_dtime": {
            "abbreviation": "sst_dtime",
            "colormapDiffId": "balance",
            "colormapDiffInvert": false,
            "colormapId": "viridis",
            "colormapInvert": false,
            "dimensions": [
             "time",
             "latitude",
             "longitude"
            ],
            "hasLogScale": false,
            "id": "sst_dtime",
            "logScale": false,
            "missingValue": -2147483648,
            "name": {
             "en": "Time difference from reference time"
            },
            "offset": null,
            "scale": null,
            "standardName": null,
            "type": "data",
            "unit": "second",
            "unitConversion": null,
            "valueClamp": true,
            "valueColor": false,
            "valueDiffMax": 40580.5,
            "valueDiffRelMax": 25,
            "valueMax": 41485,
            "valueMin": -39676
           }
          },
          "datetime": "2024-06-01T00:00:00Z",
          "end_datetime": "2024-06-01T00:00:00Z",
          "instruments": [
           [
            "VIIRS",
            "VIIRS",
            "AVHRR/3",
            "SLSTR",
            "SLSTR"
           ]
          ],
          "license": "proprietary",
          "order:status": "",
          "processing:level": "Level 3",
          "providers": [
           {
            "description": "Copernicus Marine Data Store",
            "name": "cop_marine",
            "priority": 0,
            "roles": [
             "host"
            ],
            "url": "https://marine.copernicus.eu/"
           }
          ],
          "sci:doi": "https://doi.org/10.48670/moi-00164",
          "start_datetime": "2024-06-01T00:00:00Z"
         },
         "stac_extensions": [
          "https://stac-extensions.github.io/processing/v1.0.0/schema.json",
          "https://stac-extensions.github.io/scientific/v1.0.0/schema.json",
          "https://stac-extensions.github.io/order/v1.1.0/schema.json"
         ],
         "stac_version": "1.0.0",
         "type": "Feature"
        },
        {
         "assets": {
          "downloadLink": {
           "alternate": {
            "origin": {
             "href": "https://s3.waw3-1.cloudferro.com/mdl-native-06/native/SST_GLO_SST_L3S_NRT_OBSERVATIONS_010_010/cmems_obs-sst_glo_phy_l3s_pmw_P1D-m_202311/2024/05/20240531000000-IFR-L3S_GHRSST-SSTfnd-ODYSSEA-GLOB_010_PMW-v02.1-fv01.0.nc",
             "title": "Origin asset link"
            }
           },
           "href": "https://hda.data.destination-earth.eu/stac/collections/EO.MO.DAT.SST_GLO_SST_L3S_NRT_OBSERVATIONS_010_010/items/20240531000000-IFR-L3S_GHRSST-SSTfnd-ODYSSEA-GLOB_010_PMW-v02/download?provider=cop_marine",
           "title": "Download link",
           "type": "application/zip"
          },
          "native": {
           "alternate": {
            "origin": {
             "href": "https://s3.waw3-1.cloudferro.com/mdl-native-06/native/SST_GLO_SST_L3S_NRT_OBSERVATIONS_010_010/cmems_obs-sst_glo_phy_l3s_pmw_P1D-m_202311/2024/05/20240531000000-IFR-L3S_GHRSST-SSTfnd-ODYSSEA-GLOB_010_PMW-v02.1-fv01.0.nc",
             "title": "Origin asset link",
             "type": "application/x-netcdf"
            }
           },
           "href": "https://hda.data.destination-earth.eu/stac/collections/EO.MO.DAT.SST_GLO_SST_L3S_NRT_OBSERVATIONS_010_010/items/20240531000000-IFR-L3S_GHRSST-SSTfnd-ODYSSEA-GLOB_010_PMW-v02/download/native?provider=cop_marine",
           "title": "native",
           "type": "application/x-netcdf"
          },
          "thumbnail": {
           "href": "https://mdl-metadata.s3.waw3-1.cloudferro.com/metadata/thumbnails/SST_GLO_SST_L3S_NRT_OBSERVATIONS_010_010.jpg",
           "role": "thumbnail",
           "title": "Thumbnail",
           "type": "image/jpeg"
          }
         },
         "bbox": [
          -180,
          -90,
          180,
          90
         ],
         "collection": "EO.MO.DAT.SST_GLO_SST_L3S_NRT_OBSERVATIONS_010_010",
         "geometry": {
          "coordinates": [
           [
            [
             180,
             -90
            ],
            [
             180,
             90
            ],
            [
             -180,
             90
            ],
            [
             -180,
             -90
            ],
            [
             180,
             -90
            ]
           ]
          ],
          "type": "Polygon"
         },
         "id": "20240531000000-IFR-L3S_GHRSST-SSTfnd-ODYSSEA-GLOB_010_PMW-v02",
         "links": [
          {
           "href": "https://hda.data.destination-earth.eu/stac/collections/EO.MO.DAT.SST_GLO_SST_L3S_NRT_OBSERVATIONS_010_010/items/20240531000000-IFR-L3S_GHRSST-SSTfnd-ODYSSEA-GLOB_010_PMW-v02",
           "rel": "self",
           "title": "20240531000000-IFR-L3S_GHRSST-SSTfnd-ODYSSEA-GLOB_010_PMW-v02"
          },
          {
           "href": "https://hda.data.destination-earth.eu/stac/",
           "rel": "root"
          },
          {
           "href": "https://hda.data.destination-earth.eu/stac/collections/EO.MO.DAT.SST_GLO_SST_L3S_NRT_OBSERVATIONS_010_010",
           "rel": "parent",
           "title": "EO.MO.DAT.SST_GLO_SST_L3S_NRT_OBSERVATIONS_010_010"
          },
          {
           "href": "https://hda.data.destination-earth.eu/stac/collections/EO.MO.DAT.SST_GLO_SST_L3S_NRT_OBSERVATIONS_010_010",
           "rel": "collection",
           "title": "EO.MO.DAT.SST_GLO_SST_L3S_NRT_OBSERVATIONS_010_010"
          }
         ],
         "properties": {
          "constellation": "GCOM-W",
          "cop_marine:Conventions": "CF-1.7, ACDD-1.3, ISO 8601",
          "cop_marine:Metadata_Conventions": "Climate and Forecast (CF) 1.7, Attribute Convention for Data Discovery (ACDD) 1.3",
          "cop_marine:acknowledgment": "Please acknowledge the use of these data with the following statement: this dataset is produced by the Centre de Recherche et d'Exploitation Satellitaire (CERSAT), at Ifremer, Plouzane (France): It is funded and distributed by Copernicus Marine Service",
          "cop_marine:admp_in_preparation": false,
          "cop_marine:admp_updated": "2024-09-17T06:48:06.698263Z",
          "cop_marine:allVariables": [
           "Sea surface foundation temperature (T)",
           "Sea surface temperature (SST)"
          ],
          "cop_marine:altId": "ab5b366c-f7f5-48cf-b94d-0d3748a2cbc3",
          "cop_marine:areas": [
           "Global Ocean"
          ],
          "cop_marine:assimilatedData": [],
          "cop_marine:band": "microwave",
          "cop_marine:cdm_data_type": "grid",
          "cop_marine:citation": "Ifremer / CERSAT. 2023. ODYSSEA Global High-Resolution Sea Surface Temperature Gridded Level 3 Daily Polar orbiting MicroWave (PMW) dataset (v3.0.2) for Copernicus Marine Service. Ver. 3.0.2. Ifremer, Plouzane, France. Dataset accessed [YYYY-MM-DD].",
          "cop_marine:cmems_product_id": "SST_GLO_SST_L3S_NRT_OBSERVATIONS_010_010",
          "cop_marine:colors": [
           "Blue Ocean"
          ],
          "cop_marine:communities": [
           "Climate & adaptation",
           "Policy & governance",
           "Science & innovation",
           "Extremes, hazards & safety",
           "Coastal services"
          ],
          "cop_marine:contact": "emmanuelle.autret@ifremer.fr;jfpiolle@ifremer.fr",
          "cop_marine:contacts": [
           {
            "email": "marine-servicedesk@met.no",
            "name": "Service Desk MET.Norway",
            "organisationName": "OSI-METNO-OSLO-NO",
            "responsiblePartyRole": "pointOfContact"
           },
           {
            "email": "andrea.pisano@cnr.it",
            "name": "Andrea Pisano",
            "organisationName": "SST-CNR-ROMA-IT",
            "responsiblePartyRole": "custodian"
           },
           {
            "email": "c.tronconi@cnr.it",
            "name": "Cristina TRONCONI",
            "organisationName": "SST-CNR-ROMA-IT",
            "responsiblePartyRole": "originator"
           },
           {
            "email": "cersat@ifremer.fr",
            "name": "Jean-François PIOLLÉ",
            "organisationName": "SST-IFREMER-BREST-FR",
            "responsiblePartyRole": "resourceProvider"
           },
           {
            "email": "cersat@ifremer.fr",
            "name": "Cristina Tronconi",
            "organisationName": "SST-IFREMER-BREST-FR",
            "responsiblePartyRole": "distributor"
           }
          ],
          "cop_marine:contributor_name": "Jean-Francois Piolle, Emmanuelle Autret",
          "cop_marine:contributor_role": "principal investigator",
          "cop_marine:creator_email": "cersat@ifremer.fr",
          "cop_marine:creator_institution": "Ifremer",
          "cop_marine:creator_name": "CERSAT",
          "cop_marine:creator_type": "institution",
          "cop_marine:creator_url": "http://cersat.ifremer.fr",
          "cop_marine:dataset": "cmems_obs-sst_glo_phy_l3s_pmw_P1D-m_202311",
          "cop_marine:date_created": "2024-08-08T06:39:57Z",
          "cop_marine:date_issued": "2024-08-08T06:39:57Z",
          "cop_marine:date_metadata_modified": "2023-11-01T00:00:00Z",
          "cop_marine:date_modified": "2024-08-08T06:39:57Z",
          "cop_marine:directives": [],
          "cop_marine:featureTypes": [
           "Grid"
          ],
          "cop_marine:file_quality_level": 3,
          "cop_marine:format_version": "GHRSST GDS v2.1",
          "cop_marine:formats": [
           "NetCDF-4"
          ],
          "cop_marine:gds_version_id": 2.1,
          "cop_marine:geoExtent": {
           "coordinates": [
            [
             -180,
             80
            ],
            [
             180,
             -80
            ]
           ],
           "type": "envelope"
          },
          "cop_marine:geoResolution": {
           "column": {
            "magnitude": 0.1,
            "units": "degree"
           },
           "row": {
            "magnitude": 0.1,
            "units": "degree"
           }
          },
          "cop_marine:geospatial_bounds": "POLYGON ((-180.0 -80.0, 180.0 -80.0, 180.0 80.0, -180.0 80.0, -180.0 -80.0))",
          "cop_marine:geospatial_bounds_crs": "EPSG:4326",
          "cop_marine:geospatial_bounds_vertical_crs": "EPSG:5831",
          "cop_marine:geospatial_lat_max": 80,
          "cop_marine:geospatial_lat_min": -80,
          "cop_marine:geospatial_lat_resolution": 0.25,
          "cop_marine:geospatial_lat_units": "degrees_north",
          "cop_marine:geospatial_lon_max": 180,
          "cop_marine:geospatial_lon_min": -180,
          "cop_marine:geospatial_lon_resolution": 0.25,
          "cop_marine:geospatial_lon_units": "degrees_east",
          "cop_marine:geospatial_vertical_max": 0,
          "cop_marine:geospatial_vertical_min": 0,
          "cop_marine:history": "file originally produced by Ifremer/CERSAT with ODYSSEA system 3.0.2",
          "cop_marine:indicatorFamilies": [],
          "cop_marine:institution": "Institut Francais de Recherche pour l'Exploitation de la mer / Centre d'Exploitation et de Recherche Satellitaire",
          "cop_marine:institution_abbreviation": "Ifremer / CERSAT",
          "cop_marine:instrument_type": "radiometer",
          "cop_marine:instrument_vocabulary": "CEOS instrument table",
          "cop_marine:isStaging": false,
          "cop_marine:keywords_vocabulary": "NASA Global Change Master Directory (GCMD) Science Keywords",
          "cop_marine:mainVariables": [
           "Temperature"
          ],
          "cop_marine:metadata_link": "https://resources.marine.copernicus.eu/product-detail/SST_GLO_SST_L3S_NRT_OBSERVATIONS_010_010/INFORMATION",
          "cop_marine:modifiedDate": "2023-11-30",
          "cop_marine:naming_authority": "org.ghrsst",
          "cop_marine:netcdf_version_id": "4.9.2 of Sep  1 2023 15:18:59 $",
          "cop_marine:originalLicense": "These data are available free of charge under the CMEMS data policy, refer to http://marine.copernicus.eu/services-portfolio/service-commitments-and-licence/",
          "cop_marine:platform_type": "polar_orbiter",
          "cop_marine:platform_vocabulary": "CEOS mission table",
          "cop_marine:processing_level": "L3S",
          "cop_marine:processing_software": "Telemachus 3.1.2",
          "cop_marine:product_version": 1,
          "cop_marine:program": "Copernicus",
          "cop_marine:project": "Group for High Resolution Sea Surface Temperature (GHRSST), Copernicus Marine Service (CMEMS)",
          "cop_marine:projection": "Equirectangular",
          "cop_marine:providerMetadata": {
           "source": "cmems",
           "type": "csw",
           "url": "https://cmems-catalog-ro.cls.fr/geonetwork/srv/eng/csw-MYOCEAN-CORE-PRODUCTS?service=CSW&version=2.0.2&request=GetRecordById&id=ab5b366c-f7f5-48cf-b94d-0d3748a2cbc3&elementsetname=full&outputSchema=http://www.isotc211.org/2005/gmd"
          },
          "cop_marine:publisher_email": "cersat@ifremer.fr",
          "cop_marine:publisher_institution": "Copernicus Marine Service",
          "cop_marine:publisher_name": "Copernicus Marine Service",
          "cop_marine:publisher_type": "institution",
          "cop_marine:publisher_url": "https://marine.copernicus.eu",
          "cop_marine:rank": 12010,
          "cop_marine:reference": "Product User Manual for L3S Odyssea Product over the Global Ocean, v2.1, Nov 2023, https://catalogue.marine.copernicus.eu/documents/PUM/CMEMS-SST-PUM-010-010.pdf",
          "cop_marine:references": "No reference",
          "cop_marine:scientific_support_contact": "emmanuelle.autret@ifremer.fr;jfpiolle@ifremer.fr",
          "cop_marine:source": "ODYSSEA",
          "cop_marine:source_version": "3.0.2",
          "cop_marine:sources": [
           "Satellite observations"
          ],
          "cop_marine:spatial_resolution": "0.25 degree",
          "cop_marine:standard_name_vocabulary": "Climate and Forecast (CF) Standard Name Table v79",
          "cop_marine:summary": "This dataset provide a times series of daily multi-sensor composite fields of Sea Surface Temperature (SST) foundation at high resolution (HR) on a 0.25 x 0.25 degree grid (approximately 25 x 25 km) for the Copernicus Marine Service.",
          "cop_marine:technical_support_contact": "cersat@ifremer.fr",
          "cop_marine:tempExtentBegin": "2021-01-01",
          "cop_marine:tempResolutions": [
           "Daily"
          ],
          "cop_marine:temporal_resolution": "daily",
          "cop_marine:thumbnailMeta": {
           "basemapId": "dark",
           "colormapId": "thermal",
           "colormapInvert": false,
           "creationDate": "2023-06-18T06:33:40.478Z",
           "crs": "epsg:4326",
           "elevation": null,
           "layerId": "SST_GLO_SST_L3S_NRT_OBSERVATIONS_010_010/IFREMER-GLOB-SST-L3-NRT-OBS_FULL_TIME_SERIE_202211/sea_surface_temperature",
           "logScale": false,
           "overlays": {
            "tags": [
             {
              "name": "SST"
             }
            ]
           },
           "style": "default",
           "time": 1672531200000,
           "valueClamp": true,
           "valueMax": 303.6099853515625,
           "valueMin": 266.859985351563
          },
          "cop_marine:time_coverage_duration": "P1D",
          "cop_marine:time_coverage_end": "2024-08-07T12:00:00Z",
          "cop_marine:time_coverage_resolution": "P1D",
          "cop_marine:time_coverage_start": "2024-08-06T12:00:00Z",
          "cop_marine:times": [
           "Present",
           "Past"
          ],
          "cop_marine:updateFrequencies": {
           "daily": "12:00"
          },
          "cop_marine:useCases": [],
          "cop_marine:uuid": "070df068-5551-11ef-bbb5-0cc47a3f766d",
          "cop_marine:vertExtentMax": 0,
          "cop_marine:vertExtentMin": 0,
          "created": "2009-09-30",
          "cube:dimensions": {
           "latitude": {
            "axis": "y",
            "extent": [
             -79.875,
             79.875
            ],
            "reference_system": 4326,
            "step": 0.25,
            "type": "spatial"
           },
           "longitude": {
            "axis": "x",
            "extent": [
             -179.875,
             179.875
            ],
            "reference_system": 4326,
            "step": 0.25,
            "type": "spatial"
           },
           "time": {
            "extent": [
             "2020-12-20T00:00:00Z",
             "2024-09-16T00:00:00Z"
            ],
            "step": "P1D",
            "type": "temporal"
           }
          },
          "cube:variables": {
           "adjusted_sea_surface_temperature": {
            "abbreviation": "adjusted_sea_surface_temperature",
            "colormapDiffId": "balance",
            "colormapDiffInvert": false,
            "colormapId": "thermal",
            "colormapInvert": false,
            "dimensions": [
             "time",
             "latitude",
             "longitude"
            ],
            "hasLogScale": true,
            "id": "adjusted_sea_surface_temperature",
            "logScale": false,
            "missingValue": -32768,
            "name": {
             "en": "Adjusted foundation sea surface temperature"
            },
            "offset": 273.15,
            "scale": 0.01,
            "standardName": "sea_surface_foundation_temperature",
            "type": "data",
            "unit": "K",
            "unitConversion": null,
            "valueClamp": true,
            "valueColor": false,
            "valueDiffMax": 15.009994506835938,
            "valueDiffRelMax": 25,
            "valueMax": 303.2599792480469,
            "valueMin": 273.239990234375
           },
           "bias_to_reference_sst": {
            "abbreviation": "bias_to_reference_sst",
            "colormapDiffId": "balance",
            "colormapDiffInvert": false,
            "colormapId": "balance",
            "colormapInvert": false,
            "dimensions": [
             "time",
             "latitude",
             "longitude"
            ],
            "hasLogScale": false,
            "id": "bias_to_reference_sst",
            "logScale": false,
            "missingValue": -32768,
            "name": {
             "en": "Bias error derived from reference"
            },
            "offset": 0,
            "scale": 0.01,
            "standardName": null,
            "type": "data",
            "unit": "K",
            "unitConversion": null,
            "valueClamp": true,
            "valueColor": false,
            "valueDiffMax": 0.8999999761581421,
            "valueDiffRelMax": 25,
            "valueMax": 0.8999999761581421,
            "valueMin": -0.8999999761581421
           },
           "or_latitude": {
            "abbreviation": "or_latitude",
            "colormapDiffId": "balance",
            "colormapDiffInvert": false,
            "colormapId": "viridis",
            "colormapInvert": false,
            "dimensions": [
             "time",
             "latitude",
             "longitude"
            ],
            "hasLogScale": false,
            "id": "or_latitude",
            "logScale": false,
            "missingValue": -32768,
            "name": {
             "en": "Original latitude of the SST value"
            },
            "offset": 0,
            "scale": 0.01,
            "standardName": "latitude",
            "type": "data",
            "unit": "degree_north",
            "unitConversion": null,
            "valueClamp": true,
            "valueColor": false,
            "valueDiffMax": 67.8599967956543,
            "valueDiffRelMax": 25,
            "valueMax": 74.83999633789062,
            "valueMin": -60.87999725341797
           },
           "or_longitude": {
            "abbreviation": "or_longitude",
            "colormapDiffId": "balance",
            "colormapDiffInvert": false,
            "colormapId": "viridis",
            "colormapInvert": false,
            "dimensions": [
             "time",
             "latitude",
             "longitude"
            ],
            "hasLogScale": false,
            "id": "or_longitude",
            "logScale": false,
            "missingValue": -32768,
            "name": {
             "en": "Original longitude of the SST value"
            },
            "offset": 0,
            "scale": 0.01,
            "standardName": "longitude",
            "type": "data",
            "unit": "degree_east",
            "unitConversion": null,
            "valueClamp": true,
            "valueColor": false,
            "valueDiffMax": 175.4949951171875,
            "valueDiffRelMax": 25,
            "valueMax": 175.34999084472656,
            "valueMin": -175.63999938964844
           },
           "or_number_of_pixels": {
            "abbreviation": "or_number_of_pixels",
            "colormapDiffId": "balance",
            "colormapDiffInvert": false,
            "colormapId": "viridis",
            "colormapInvert": false,
            "dimensions": [
             "time",
             "latitude",
             "longitude"
            ],
            "hasLogScale": true,
            "id": "or_number_of_pixels",
            "logScale": false,
            "missingValue": -32768,
            "name": {
             "en": "Original number of pixels from the L2Ps contributing to the SST value"
            },
            "offset": null,
            "scale": null,
            "standardName": "sea_surface_foundation_temperature number_of_observations",
            "type": "data",
            "unit": 1,
            "unitConversion": null,
            "valueClamp": true,
            "valueColor": false,
            "valueDiffMax": 8,
            "valueDiffRelMax": 25,
            "valueMax": 18,
            "valueMin": 2
           },
           "quality_level": {
            "abbreviation": "quality_level",
            "colormapDiffId": "balance",
            "colormapDiffInvert": false,
            "colormapId": "rainbow",
            "colormapInvert": false,
            "dimensions": [
             "time",
             "latitude",
             "longitude"
            ],
            "hasLogScale": true,
            "id": "quality_level",
            "logScale": false,
            "missingValue": -128,
            "name": {
             "en": "Quality level of SST pixel"
            },
            "offset": null,
            "scale": null,
            "standardName": "sea_surface_foundation_temperature status_flag",
            "type": "data",
            "unitConversion": null,
            "valueClamp": true,
            "valueColor": false,
            "valueDiffMax": 0,
            "valueDiffRelMax": 25,
            "valueMax": 5,
            "valueMin": 5
           },
           "sea_surface_temperature": {
            "abbreviation": "sea_surface_temperature",
            "colormapDiffId": "balance",
            "colormapDiffInvert": false,
            "colormapId": "thermal",
            "colormapInvert": false,
            "dimensions": [
             "time",
             "latitude",
             "longitude"
            ],
            "hasLogScale": true,
            "id": "sea_surface_temperature",
            "logScale": false,
            "missingValue": -32768,
            "name": {
             "en": "Sea surface foundation temperature"
            },
            "offset": 273.15,
            "scale": 0.01,
            "standardName": "sea_surface_foundation_temperature",
            "type": "data",
            "unit": "K",
            "unitConversion": null,
            "valueClamp": true,
            "valueColor": false,
            "valueDiffMax": 14.9949951171875,
            "valueDiffRelMax": 25,
            "valueMax": 303.2599792480469,
            "valueMin": 273.2699890136719
           },
           "sea_surface_temperature_stddev": {
            "abbreviation": "sea_surface_temperature_stddev",
            "colormapDiffId": "balance",
            "colormapDiffInvert": false,
            "colormapId": "rainbow",
            "colormapInvert": false,
            "dimensions": [
             "time",
             "latitude",
             "longitude"
            ],
            "hasLogScale": true,
            "id": "sea_surface_temperature_stddev",
            "logScale": false,
            "missingValue": -128,
            "name": {
             "en": "Sea surface sub-skin temperature"
            },
            "offset": 2.54,
            "scale": 0.02,
            "standardName": "sea_surface_subskin_temperature",
            "type": "data",
            "unit": "K",
            "unitConversion": null,
            "valueClamp": true,
            "valueColor": false,
            "valueDiffMax": 0.15999996662139893,
            "valueDiffRelMax": 25,
            "valueMax": 0.31999993324279785,
            "valueMin": 0
           },
           "solar_zenith_angle": {
            "abbreviation": "solar_zenith_angle",
            "colormapDiffId": "balance",
            "colormapDiffInvert": false,
            "colormapId": "viridis",
            "colormapInvert": false,
            "dimensions": [
             "time",
             "latitude",
             "longitude"
            ],
            "hasLogScale": true,
            "id": "solar_zenith_angle",
            "logScale": false,
            "missingValue": -128,
            "name": {
             "en": "Solar zenith angle"
            },
            "offset": 90,
            "scale": 1,
            "standardName": "solar_zenith_angle",
            "type": "data",
            "unit": "angular_degree",
            "unitConversion": null,
            "valueClamp": true,
            "valueColor": false,
            "valueDiffMax": 46.5,
            "valueDiffRelMax": 25,
            "valueMax": 166,
            "valueMin": 73
           },
           "sources_of_sst": {
            "abbreviation": "sources_of_sst",
            "colormapDiffId": "balance",
            "colormapDiffInvert": false,
            "colormapId": "viridis",
            "colormapInvert": false,
            "dimensions": [
             "time",
             "latitude",
             "longitude"
            ],
            "hasLogScale": true,
            "id": "sources_of_sst",
            "logScale": false,
            "missingValue": -128,
            "name": {
             "en": "Source of sea surface temperature measurement"
            },
            "offset": null,
            "scale": null,
            "standardName": null,
            "type": "data",
            "unitConversion": null,
            "valueClamp": true,
            "valueColor": false,
            "valueDiffMax": 0,
            "valueDiffRelMax": 25,
            "valueMax": 60,
            "valueMin": 60
           },
           "sses_bias": {
            "abbreviation": "sses_bias",
            "colormapDiffId": "balance",
            "colormapDiffInvert": false,
            "colormapId": "balance",
            "colormapInvert": false,
            "dimensions": [
             "time",
             "latitude",
             "longitude"
            ],
            "hasLogScale": false,
            "id": "sses_bias",
            "logScale": false,
            "missingValue": -128,
            "name": {
             "en": "SSES bias estimate"
            },
            "offset": 0,
            "scale": 0.02,
            "standardName": "sses_bias",
            "type": "data",
            "unit": "K",
            "unitConversion": null,
            "valueClamp": true,
            "valueColor": false,
            "valueDiffMax": 0.17999999225139618,
            "valueDiffRelMax": 25,
            "valueMax": 0.17999999225139618,
            "valueMin": -0.17999999225139618
           },
           "sses_standard_deviation": {
            "abbreviation": "sses_standard_deviation",
            "colormapDiffId": "balance",
            "colormapDiffInvert": false,
            "colormapId": "rainbow",
            "colormapInvert": false,
            "dimensions": [
             "time",
             "latitude",
             "longitude"
            ],
            "hasLogScale": true,
            "id": "sses_standard_deviation",
            "logScale": false,
            "missingValue": -128,
            "name": {
             "en": "SSES standard deviation"
            },
            "offset": 2.54,
            "scale": 0.02,
            "standardName": "sses_standard_deviation",
            "type": "data",
            "unit": "K",
            "unitConversion": null,
            "valueClamp": true,
            "valueColor": false,
            "valueDiffMax": 0.3700000047683716,
            "valueDiffRelMax": 25,
            "valueMax": 0.7400000095367432,
            "valueMin": 0
           },
           "sst_dtime": {
            "abbreviation": "sst_dtime",
            "colormapDiffId": "balance",
            "colormapDiffInvert": false,
            "colormapId": "viridis",
            "colormapInvert": false,
            "dimensions": [
             "time",
             "latitude",
             "longitude"
            ],
            "hasLogScale": false,
            "id": "sst_dtime",
            "logScale": false,
            "missingValue": -2147483648,
            "name": {
             "en": "Time difference from reference time"
            },
            "offset": null,
            "scale": null,
            "standardName": null,
            "type": "data",
            "unit": "second",
            "unitConversion": null,
            "valueClamp": true,
            "valueColor": false,
            "valueDiffMax": 42058.54,
            "valueDiffRelMax": 25,
            "valueMax": 46331,
            "valueMin": -37786.08
           }
          },
          "datetime": "2024-05-31T00:00:00Z",
          "end_datetime": "2024-05-31T00:00:00Z",
          "instruments": [
           "AMSR-2"
          ],
          "license": "proprietary",
          "order:status": "",
          "processing:level": "Level 3",
          "providers": [
           {
            "description": "Copernicus Marine Data Store",
            "name": "cop_marine",
            "priority": 0,
            "roles": [
             "host"
            ],
            "url": "https://marine.copernicus.eu/"
           }
          ],
          "sci:doi": "https://doi.org/10.48670/moi-00164",
          "start_datetime": "2024-05-31T00:00:00Z"
         },
         "stac_extensions": [
          "https://stac-extensions.github.io/processing/v1.0.0/schema.json",
          "https://stac-extensions.github.io/scientific/v1.0.0/schema.json",
          "https://stac-extensions.github.io/order/v1.1.0/schema.json"
         ],
         "stac_version": "1.0.0",
         "type": "Feature"
        },
        {
         "assets": {
          "downloadLink": {
           "alternate": {
            "origin": {
             "href": "https://s3.waw3-1.cloudferro.com/mdl-native-06/native/SST_GLO_SST_L3S_NRT_OBSERVATIONS_010_010/cmems_obs-sst_glo_phy_l3s_pmw_P1D-m_202311/2024/06/20240601000000-IFR-L3S_GHRSST-SSTfnd-ODYSSEA-GLOB_010_PMW-v02.1-fv01.0.nc",
             "title": "Origin asset link"
            }
           },
           "href": "https://hda.data.destination-earth.eu/stac/collections/EO.MO.DAT.SST_GLO_SST_L3S_NRT_OBSERVATIONS_010_010/items/20240601000000-IFR-L3S_GHRSST-SSTfnd-ODYSSEA-GLOB_010_PMW-v02/download?provider=cop_marine",
           "title": "Download link",
           "type": "application/zip"
          },
          "native": {
           "alternate": {
            "origin": {
             "href": "https://s3.waw3-1.cloudferro.com/mdl-native-06/native/SST_GLO_SST_L3S_NRT_OBSERVATIONS_010_010/cmems_obs-sst_glo_phy_l3s_pmw_P1D-m_202311/2024/06/20240601000000-IFR-L3S_GHRSST-SSTfnd-ODYSSEA-GLOB_010_PMW-v02.1-fv01.0.nc",
             "title": "Origin asset link",
             "type": "application/x-netcdf"
            }
           },
           "href": "https://hda.data.destination-earth.eu/stac/collections/EO.MO.DAT.SST_GLO_SST_L3S_NRT_OBSERVATIONS_010_010/items/20240601000000-IFR-L3S_GHRSST-SSTfnd-ODYSSEA-GLOB_010_PMW-v02/download/native?provider=cop_marine",
           "title": "native",
           "type": "application/x-netcdf"
          },
          "thumbnail": {
           "href": "https://mdl-metadata.s3.waw3-1.cloudferro.com/metadata/thumbnails/SST_GLO_SST_L3S_NRT_OBSERVATIONS_010_010.jpg",
           "role": "thumbnail",
           "title": "Thumbnail",
           "type": "image/jpeg"
          }
         },
         "bbox": [
          -180,
          -90,
          180,
          90
         ],
         "collection": "EO.MO.DAT.SST_GLO_SST_L3S_NRT_OBSERVATIONS_010_010",
         "geometry": {
          "coordinates": [
           [
            [
             180,
             -90
            ],
            [
             180,
             90
            ],
            [
             -180,
             90
            ],
            [
             -180,
             -90
            ],
            [
             180,
             -90
            ]
           ]
          ],
          "type": "Polygon"
         },
         "id": "20240601000000-IFR-L3S_GHRSST-SSTfnd-ODYSSEA-GLOB_010_PMW-v02",
         "links": [
          {
           "href": "https://hda.data.destination-earth.eu/stac/collections/EO.MO.DAT.SST_GLO_SST_L3S_NRT_OBSERVATIONS_010_010/items/20240601000000-IFR-L3S_GHRSST-SSTfnd-ODYSSEA-GLOB_010_PMW-v02",
           "rel": "self",
           "title": "20240601000000-IFR-L3S_GHRSST-SSTfnd-ODYSSEA-GLOB_010_PMW-v02"
          },
          {
           "href": "https://hda.data.destination-earth.eu/stac/",
           "rel": "root"
          },
          {
           "href": "https://hda.data.destination-earth.eu/stac/collections/EO.MO.DAT.SST_GLO_SST_L3S_NRT_OBSERVATIONS_010_010",
           "rel": "parent",
           "title": "EO.MO.DAT.SST_GLO_SST_L3S_NRT_OBSERVATIONS_010_010"
          },
          {
           "href": "https://hda.data.destination-earth.eu/stac/collections/EO.MO.DAT.SST_GLO_SST_L3S_NRT_OBSERVATIONS_010_010",
           "rel": "collection",
           "title": "EO.MO.DAT.SST_GLO_SST_L3S_NRT_OBSERVATIONS_010_010"
          }
         ],
         "properties": {
          "constellation": "GCOM-W",
          "cop_marine:Conventions": "CF-1.7, ACDD-1.3, ISO 8601",
          "cop_marine:Metadata_Conventions": "Climate and Forecast (CF) 1.7, Attribute Convention for Data Discovery (ACDD) 1.3",
          "cop_marine:acknowledgment": "Please acknowledge the use of these data with the following statement: this dataset is produced by the Centre de Recherche et d'Exploitation Satellitaire (CERSAT), at Ifremer, Plouzane (France): It is funded and distributed by Copernicus Marine Service",
          "cop_marine:admp_in_preparation": false,
          "cop_marine:admp_updated": "2024-09-17T06:48:06.698263Z",
          "cop_marine:allVariables": [
           "Sea surface foundation temperature (T)",
           "Sea surface temperature (SST)"
          ],
          "cop_marine:altId": "ab5b366c-f7f5-48cf-b94d-0d3748a2cbc3",
          "cop_marine:areas": [
           "Global Ocean"
          ],
          "cop_marine:assimilatedData": [],
          "cop_marine:band": "microwave",
          "cop_marine:cdm_data_type": "grid",
          "cop_marine:citation": "Ifremer / CERSAT. 2023. ODYSSEA Global High-Resolution Sea Surface Temperature Gridded Level 3 Daily Polar orbiting MicroWave (PMW) dataset (v3.0.2) for Copernicus Marine Service. Ver. 3.0.2. Ifremer, Plouzane, France. Dataset accessed [YYYY-MM-DD].",
          "cop_marine:cmems_product_id": "SST_GLO_SST_L3S_NRT_OBSERVATIONS_010_010",
          "cop_marine:colors": [
           "Blue Ocean"
          ],
          "cop_marine:communities": [
           "Climate & adaptation",
           "Policy & governance",
           "Science & innovation",
           "Extremes, hazards & safety",
           "Coastal services"
          ],
          "cop_marine:contact": "emmanuelle.autret@ifremer.fr;jfpiolle@ifremer.fr",
          "cop_marine:contacts": [
           {
            "email": "marine-servicedesk@met.no",
            "name": "Service Desk MET.Norway",
            "organisationName": "OSI-METNO-OSLO-NO",
            "responsiblePartyRole": "pointOfContact"
           },
           {
            "email": "andrea.pisano@cnr.it",
            "name": "Andrea Pisano",
            "organisationName": "SST-CNR-ROMA-IT",
            "responsiblePartyRole": "custodian"
           },
           {
            "email": "c.tronconi@cnr.it",
            "name": "Cristina TRONCONI",
            "organisationName": "SST-CNR-ROMA-IT",
            "responsiblePartyRole": "originator"
           },
           {
            "email": "cersat@ifremer.fr",
            "name": "Jean-François PIOLLÉ",
            "organisationName": "SST-IFREMER-BREST-FR",
            "responsiblePartyRole": "resourceProvider"
           },
           {
            "email": "cersat@ifremer.fr",
            "name": "Cristina Tronconi",
            "organisationName": "SST-IFREMER-BREST-FR",
            "responsiblePartyRole": "distributor"
           }
          ],
          "cop_marine:contributor_name": "Jean-Francois Piolle, Emmanuelle Autret",
          "cop_marine:contributor_role": "principal investigator",
          "cop_marine:creator_email": "cersat@ifremer.fr",
          "cop_marine:creator_institution": "Ifremer",
          "cop_marine:creator_name": "CERSAT",
          "cop_marine:creator_type": "institution",
          "cop_marine:creator_url": "http://cersat.ifremer.fr",
          "cop_marine:dataset": "cmems_obs-sst_glo_phy_l3s_pmw_P1D-m_202311",
          "cop_marine:date_created": "2024-08-08T06:39:57Z",
          "cop_marine:date_issued": "2024-08-08T06:39:57Z",
          "cop_marine:date_metadata_modified": "2023-11-01T00:00:00Z",
          "cop_marine:date_modified": "2024-08-08T06:39:57Z",
          "cop_marine:directives": [],
          "cop_marine:featureTypes": [
           "Grid"
          ],
          "cop_marine:file_quality_level": 3,
          "cop_marine:format_version": "GHRSST GDS v2.1",
          "cop_marine:formats": [
           "NetCDF-4"
          ],
          "cop_marine:gds_version_id": 2.1,
          "cop_marine:geoExtent": {
           "coordinates": [
            [
             -180,
             80
            ],
            [
             180,
             -80
            ]
           ],
           "type": "envelope"
          },
          "cop_marine:geoResolution": {
           "column": {
            "magnitude": 0.1,
            "units": "degree"
           },
           "row": {
            "magnitude": 0.1,
            "units": "degree"
           }
          },
          "cop_marine:geospatial_bounds": "POLYGON ((-180.0 -80.0, 180.0 -80.0, 180.0 80.0, -180.0 80.0, -180.0 -80.0))",
          "cop_marine:geospatial_bounds_crs": "EPSG:4326",
          "cop_marine:geospatial_bounds_vertical_crs": "EPSG:5831",
          "cop_marine:geospatial_lat_max": 80,
          "cop_marine:geospatial_lat_min": -80,
          "cop_marine:geospatial_lat_resolution": 0.25,
          "cop_marine:geospatial_lat_units": "degrees_north",
          "cop_marine:geospatial_lon_max": 180,
          "cop_marine:geospatial_lon_min": -180,
          "cop_marine:geospatial_lon_resolution": 0.25,
          "cop_marine:geospatial_lon_units": "degrees_east",
          "cop_marine:geospatial_vertical_max": 0,
          "cop_marine:geospatial_vertical_min": 0,
          "cop_marine:history": "file originally produced by Ifremer/CERSAT with ODYSSEA system 3.0.2",
          "cop_marine:indicatorFamilies": [],
          "cop_marine:institution": "Institut Francais de Recherche pour l'Exploitation de la mer / Centre d'Exploitation et de Recherche Satellitaire",
          "cop_marine:institution_abbreviation": "Ifremer / CERSAT",
          "cop_marine:instrument_type": "radiometer",
          "cop_marine:instrument_vocabulary": "CEOS instrument table",
          "cop_marine:isStaging": false,
          "cop_marine:keywords_vocabulary": "NASA Global Change Master Directory (GCMD) Science Keywords",
          "cop_marine:mainVariables": [
           "Temperature"
          ],
          "cop_marine:metadata_link": "https://resources.marine.copernicus.eu/product-detail/SST_GLO_SST_L3S_NRT_OBSERVATIONS_010_010/INFORMATION",
          "cop_marine:modifiedDate": "2023-11-30",
          "cop_marine:naming_authority": "org.ghrsst",
          "cop_marine:netcdf_version_id": "4.9.2 of Sep  1 2023 15:18:59 $",
          "cop_marine:originalLicense": "These data are available free of charge under the CMEMS data policy, refer to http://marine.copernicus.eu/services-portfolio/service-commitments-and-licence/",
          "cop_marine:platform_type": "polar_orbiter",
          "cop_marine:platform_vocabulary": "CEOS mission table",
          "cop_marine:processing_level": "L3S",
          "cop_marine:processing_software": "Telemachus 3.1.2",
          "cop_marine:product_version": 1,
          "cop_marine:program": "Copernicus",
          "cop_marine:project": "Group for High Resolution Sea Surface Temperature (GHRSST), Copernicus Marine Service (CMEMS)",
          "cop_marine:projection": "Equirectangular",
          "cop_marine:providerMetadata": {
           "source": "cmems",
           "type": "csw",
           "url": "https://cmems-catalog-ro.cls.fr/geonetwork/srv/eng/csw-MYOCEAN-CORE-PRODUCTS?service=CSW&version=2.0.2&request=GetRecordById&id=ab5b366c-f7f5-48cf-b94d-0d3748a2cbc3&elementsetname=full&outputSchema=http://www.isotc211.org/2005/gmd"
          },
          "cop_marine:publisher_email": "cersat@ifremer.fr",
          "cop_marine:publisher_institution": "Copernicus Marine Service",
          "cop_marine:publisher_name": "Copernicus Marine Service",
          "cop_marine:publisher_type": "institution",
          "cop_marine:publisher_url": "https://marine.copernicus.eu",
          "cop_marine:rank": 12010,
          "cop_marine:reference": "Product User Manual for L3S Odyssea Product over the Global Ocean, v2.1, Nov 2023, https://catalogue.marine.copernicus.eu/documents/PUM/CMEMS-SST-PUM-010-010.pdf",
          "cop_marine:references": "No reference",
          "cop_marine:scientific_support_contact": "emmanuelle.autret@ifremer.fr;jfpiolle@ifremer.fr",
          "cop_marine:source": "ODYSSEA",
          "cop_marine:source_version": "3.0.2",
          "cop_marine:sources": [
           "Satellite observations"
          ],
          "cop_marine:spatial_resolution": "0.25 degree",
          "cop_marine:standard_name_vocabulary": "Climate and Forecast (CF) Standard Name Table v79",
          "cop_marine:summary": "This dataset provide a times series of daily multi-sensor composite fields of Sea Surface Temperature (SST) foundation at high resolution (HR) on a 0.25 x 0.25 degree grid (approximately 25 x 25 km) for the Copernicus Marine Service.",
          "cop_marine:technical_support_contact": "cersat@ifremer.fr",
          "cop_marine:tempExtentBegin": "2021-01-01",
          "cop_marine:tempResolutions": [
           "Daily"
          ],
          "cop_marine:temporal_resolution": "daily",
          "cop_marine:thumbnailMeta": {
           "basemapId": "dark",
           "colormapId": "thermal",
           "colormapInvert": false,
           "creationDate": "2023-06-18T06:33:40.478Z",
           "crs": "epsg:4326",
           "elevation": null,
           "layerId": "SST_GLO_SST_L3S_NRT_OBSERVATIONS_010_010/IFREMER-GLOB-SST-L3-NRT-OBS_FULL_TIME_SERIE_202211/sea_surface_temperature",
           "logScale": false,
           "overlays": {
            "tags": [
             {
              "name": "SST"
             }
            ]
           },
           "style": "default",
           "time": 1672531200000,
           "valueClamp": true,
           "valueMax": 303.6099853515625,
           "valueMin": 266.859985351563
          },
          "cop_marine:time_coverage_duration": "P1D",
          "cop_marine:time_coverage_end": "2024-08-07T12:00:00Z",
          "cop_marine:time_coverage_resolution": "P1D",
          "cop_marine:time_coverage_start": "2024-08-06T12:00:00Z",
          "cop_marine:times": [
           "Present",
           "Past"
          ],
          "cop_marine:updateFrequencies": {
           "daily": "12:00"
          },
          "cop_marine:useCases": [],
          "cop_marine:uuid": "070df068-5551-11ef-bbb5-0cc47a3f766d",
          "cop_marine:vertExtentMax": 0,
          "cop_marine:vertExtentMin": 0,
          "created": "2009-09-30",
          "cube:dimensions": {
           "latitude": {
            "axis": "y",
            "extent": [
             -79.875,
             79.875
            ],
            "reference_system": 4326,
            "step": 0.25,
            "type": "spatial"
           },
           "longitude": {
            "axis": "x",
            "extent": [
             -179.875,
             179.875
            ],
            "reference_system": 4326,
            "step": 0.25,
            "type": "spatial"
           },
           "time": {
            "extent": [
             "2020-12-20T00:00:00Z",
             "2024-09-16T00:00:00Z"
            ],
            "step": "P1D",
            "type": "temporal"
           }
          },
          "cube:variables": {
           "adjusted_sea_surface_temperature": {
            "abbreviation": "adjusted_sea_surface_temperature",
            "colormapDiffId": "balance",
            "colormapDiffInvert": false,
            "colormapId": "thermal",
            "colormapInvert": false,
            "dimensions": [
             "time",
             "latitude",
             "longitude"
            ],
            "hasLogScale": true,
            "id": "adjusted_sea_surface_temperature",
            "logScale": false,
            "missingValue": -32768,
            "name": {
             "en": "Adjusted foundation sea surface temperature"
            },
            "offset": 273.15,
            "scale": 0.01,
            "standardName": "sea_surface_foundation_temperature",
            "type": "data",
            "unit": "K",
            "unitConversion": null,
            "valueClamp": true,
            "valueColor": false,
            "valueDiffMax": 15.009994506835938,
            "valueDiffRelMax": 25,
            "valueMax": 303.2599792480469,
            "valueMin": 273.239990234375
           },
           "bias_to_reference_sst": {
            "abbreviation": "bias_to_reference_sst",
            "colormapDiffId": "balance",
            "colormapDiffInvert": false,
            "colormapId": "balance",
            "colormapInvert": false,
            "dimensions": [
             "time",
             "latitude",
             "longitude"
            ],
            "hasLogScale": false,
            "id": "bias_to_reference_sst",
            "logScale": false,
            "missingValue": -32768,
            "name": {
             "en": "Bias error derived from reference"
            },
            "offset": 0,
            "scale": 0.01,
            "standardName": null,
            "type": "data",
            "unit": "K",
            "unitConversion": null,
            "valueClamp": true,
            "valueColor": false,
            "valueDiffMax": 0.8999999761581421,
            "valueDiffRelMax": 25,
            "valueMax": 0.8999999761581421,
            "valueMin": -0.8999999761581421
           },
           "or_latitude": {
            "abbreviation": "or_latitude",
            "colormapDiffId": "balance",
            "colormapDiffInvert": false,
            "colormapId": "viridis",
            "colormapInvert": false,
            "dimensions": [
             "time",
             "latitude",
             "longitude"
            ],
            "hasLogScale": false,
            "id": "or_latitude",
            "logScale": false,
            "missingValue": -32768,
            "name": {
             "en": "Original latitude of the SST value"
            },
            "offset": 0,
            "scale": 0.01,
            "standardName": "latitude",
            "type": "data",
            "unit": "degree_north",
            "unitConversion": null,
            "valueClamp": true,
            "valueColor": false,
            "valueDiffMax": 67.8599967956543,
            "valueDiffRelMax": 25,
            "valueMax": 74.83999633789062,
            "valueMin": -60.87999725341797
           },
           "or_longitude": {
            "abbreviation": "or_longitude",
            "colormapDiffId": "balance",
            "colormapDiffInvert": false,
            "colormapId": "viridis",
            "colormapInvert": false,
            "dimensions": [
             "time",
             "latitude",
             "longitude"
            ],
            "hasLogScale": false,
            "id": "or_longitude",
            "logScale": false,
            "missingValue": -32768,
            "name": {
             "en": "Original longitude of the SST value"
            },
            "offset": 0,
            "scale": 0.01,
            "standardName": "longitude",
            "type": "data",
            "unit": "degree_east",
            "unitConversion": null,
            "valueClamp": true,
            "valueColor": false,
            "valueDiffMax": 175.4949951171875,
            "valueDiffRelMax": 25,
            "valueMax": 175.34999084472656,
            "valueMin": -175.63999938964844
           },
           "or_number_of_pixels": {
            "abbreviation": "or_number_of_pixels",
            "colormapDiffId": "balance",
            "colormapDiffInvert": false,
            "colormapId": "viridis",
            "colormapInvert": false,
            "dimensions": [
             "time",
             "latitude",
             "longitude"
            ],
            "hasLogScale": true,
            "id": "or_number_of_pixels",
            "logScale": false,
            "missingValue": -32768,
            "name": {
             "en": "Original number of pixels from the L2Ps contributing to the SST value"
            },
            "offset": null,
            "scale": null,
            "standardName": "sea_surface_foundation_temperature number_of_observations",
            "type": "data",
            "unit": 1,
            "unitConversion": null,
            "valueClamp": true,
            "valueColor": false,
            "valueDiffMax": 8,
            "valueDiffRelMax": 25,
            "valueMax": 18,
            "valueMin": 2
           },
           "quality_level": {
            "abbreviation": "quality_level",
            "colormapDiffId": "balance",
            "colormapDiffInvert": false,
            "colormapId": "rainbow",
            "colormapInvert": false,
            "dimensions": [
             "time",
             "latitude",
             "longitude"
            ],
            "hasLogScale": true,
            "id": "quality_level",
            "logScale": false,
            "missingValue": -128,
            "name": {
             "en": "Quality level of SST pixel"
            },
            "offset": null,
            "scale": null,
            "standardName": "sea_surface_foundation_temperature status_flag",
            "type": "data",
            "unitConversion": null,
            "valueClamp": true,
            "valueColor": false,
            "valueDiffMax": 0,
            "valueDiffRelMax": 25,
            "valueMax": 5,
            "valueMin": 5
           },
           "sea_surface_temperature": {
            "abbreviation": "sea_surface_temperature",
            "colormapDiffId": "balance",
            "colormapDiffInvert": false,
            "colormapId": "thermal",
            "colormapInvert": false,
            "dimensions": [
             "time",
             "latitude",
             "longitude"
            ],
            "hasLogScale": true,
            "id": "sea_surface_temperature",
            "logScale": false,
            "missingValue": -32768,
            "name": {
             "en": "Sea surface foundation temperature"
            },
            "offset": 273.15,
            "scale": 0.01,
            "standardName": "sea_surface_foundation_temperature",
            "type": "data",
            "unit": "K",
            "unitConversion": null,
            "valueClamp": true,
            "valueColor": false,
            "valueDiffMax": 14.9949951171875,
            "valueDiffRelMax": 25,
            "valueMax": 303.2599792480469,
            "valueMin": 273.2699890136719
           },
           "sea_surface_temperature_stddev": {
            "abbreviation": "sea_surface_temperature_stddev",
            "colormapDiffId": "balance",
            "colormapDiffInvert": false,
            "colormapId": "rainbow",
            "colormapInvert": false,
            "dimensions": [
             "time",
             "latitude",
             "longitude"
            ],
            "hasLogScale": true,
            "id": "sea_surface_temperature_stddev",
            "logScale": false,
            "missingValue": -128,
            "name": {
             "en": "Sea surface sub-skin temperature"
            },
            "offset": 2.54,
            "scale": 0.02,
            "standardName": "sea_surface_subskin_temperature",
            "type": "data",
            "unit": "K",
            "unitConversion": null,
            "valueClamp": true,
            "valueColor": false,
            "valueDiffMax": 0.15999996662139893,
            "valueDiffRelMax": 25,
            "valueMax": 0.31999993324279785,
            "valueMin": 0
           },
           "solar_zenith_angle": {
            "abbreviation": "solar_zenith_angle",
            "colormapDiffId": "balance",
            "colormapDiffInvert": false,
            "colormapId": "viridis",
            "colormapInvert": false,
            "dimensions": [
             "time",
             "latitude",
             "longitude"
            ],
            "hasLogScale": true,
            "id": "solar_zenith_angle",
            "logScale": false,
            "missingValue": -128,
            "name": {
             "en": "Solar zenith angle"
            },
            "offset": 90,
            "scale": 1,
            "standardName": "solar_zenith_angle",
            "type": "data",
            "unit": "angular_degree",
            "unitConversion": null,
            "valueClamp": true,
            "valueColor": false,
            "valueDiffMax": 46.5,
            "valueDiffRelMax": 25,
            "valueMax": 166,
            "valueMin": 73
           },
           "sources_of_sst": {
            "abbreviation": "sources_of_sst",
            "colormapDiffId": "balance",
            "colormapDiffInvert": false,
            "colormapId": "viridis",
            "colormapInvert": false,
            "dimensions": [
             "time",
             "latitude",
             "longitude"
            ],
            "hasLogScale": true,
            "id": "sources_of_sst",
            "logScale": false,
            "missingValue": -128,
            "name": {
             "en": "Source of sea surface temperature measurement"
            },
            "offset": null,
            "scale": null,
            "standardName": null,
            "type": "data",
            "unitConversion": null,
            "valueClamp": true,
            "valueColor": false,
            "valueDiffMax": 0,
            "valueDiffRelMax": 25,
            "valueMax": 60,
            "valueMin": 60
           },
           "sses_bias": {
            "abbreviation": "sses_bias",
            "colormapDiffId": "balance",
            "colormapDiffInvert": false,
            "colormapId": "balance",
            "colormapInvert": false,
            "dimensions": [
             "time",
             "latitude",
             "longitude"
            ],
            "hasLogScale": false,
            "id": "sses_bias",
            "logScale": false,
            "missingValue": -128,
            "name": {
             "en": "SSES bias estimate"
            },
            "offset": 0,
            "scale": 0.02,
            "standardName": "sses_bias",
            "type": "data",
            "unit": "K",
            "unitConversion": null,
            "valueClamp": true,
            "valueColor": false,
            "valueDiffMax": 0.17999999225139618,
            "valueDiffRelMax": 25,
            "valueMax": 0.17999999225139618,
            "valueMin": -0.17999999225139618
           },
           "sses_standard_deviation": {
            "abbreviation": "sses_standard_deviation",
            "colormapDiffId": "balance",
            "colormapDiffInvert": false,
            "colormapId": "rainbow",
            "colormapInvert": false,
            "dimensions": [
             "time",
             "latitude",
             "longitude"
            ],
            "hasLogScale": true,
            "id": "sses_standard_deviation",
            "logScale": false,
            "missingValue": -128,
            "name": {
             "en": "SSES standard deviation"
            },
            "offset": 2.54,
            "scale": 0.02,
            "standardName": "sses_standard_deviation",
            "type": "data",
            "unit": "K",
            "unitConversion": null,
            "valueClamp": true,
            "valueColor": false,
            "valueDiffMax": 0.3700000047683716,
            "valueDiffRelMax": 25,
            "valueMax": 0.7400000095367432,
            "valueMin": 0
           },
           "sst_dtime": {
            "abbreviation": "sst_dtime",
            "colormapDiffId": "balance",
            "colormapDiffInvert": false,
            "colormapId": "viridis",
            "colormapInvert": false,
            "dimensions": [
             "time",
             "latitude",
             "longitude"
            ],
            "hasLogScale": false,
            "id": "sst_dtime",
            "logScale": false,
            "missingValue": -2147483648,
            "name": {
             "en": "Time difference from reference time"
            },
            "offset": null,
            "scale": null,
            "standardName": null,
            "type": "data",
            "unit": "second",
            "unitConversion": null,
            "valueClamp": true,
            "valueColor": false,
            "valueDiffMax": 42058.54,
            "valueDiffRelMax": 25,
            "valueMax": 46331,
            "valueMin": -37786.08
           }
          },
          "datetime": "2024-06-01T00:00:00Z",
          "end_datetime": "2024-06-01T00:00:00Z",
          "instruments": [
           "AMSR-2"
          ],
          "license": "proprietary",
          "order:status": "",
          "processing:level": "Level 3",
          "providers": [
           {
            "description": "Copernicus Marine Data Store",
            "name": "cop_marine",
            "priority": 0,
            "roles": [
             "host"
            ],
            "url": "https://marine.copernicus.eu/"
           }
          ],
          "sci:doi": "https://doi.org/10.48670/moi-00164",
          "start_datetime": "2024-06-01T00:00:00Z"
         },
         "stac_extensions": [
          "https://stac-extensions.github.io/processing/v1.0.0/schema.json",
          "https://stac-extensions.github.io/scientific/v1.0.0/schema.json",
          "https://stac-extensions.github.io/order/v1.1.0/schema.json"
         ],
         "stac_version": "1.0.0",
         "type": "Feature"
        }
       ],
       "links": [
        {
         "href": "https://hda.data.destination-earth.eu/stac/collections/EO.MO.DAT.SST_GLO_SST_L3S_NRT_OBSERVATIONS_010_010/items",
         "rel": "self",
         "title": "items"
        },
        {
         "href": "https://hda.data.destination-earth.eu/stac/",
         "rel": "root"
        },
        {
         "href": "https://hda.data.destination-earth.eu/stac/collections/EO.MO.DAT.SST_GLO_SST_L3S_NRT_OBSERVATIONS_010_010",
         "rel": "parent",
         "title": "EO.MO.DAT.SST_GLO_SST_L3S_NRT_OBSERVATIONS_010_010"
        }
       ],
       "numberMatched": 8,
       "numberReturned": 8,
       "stac_extensions": [],
       "stac_version": "1.0.0",
       "timeStamp": "2024-09-19T08:16:55.773681Z",
       "type": "FeatureCollection"
      },
      "text/plain": [
       "<IPython.core.display.JSON object>"
      ]
     },
     "execution_count": 7,
     "metadata": {
      "application/json": {
       "expanded": false,
       "root": "root"
      }
     },
     "output_type": "execute_result"
    }
   ],
   "source": [
    "from IPython.display import JSON\n",
    "JSON(response_sst.json())"
   ]
  },
  {
   "cell_type": "code",
   "execution_count": 8,
   "id": "93d6c527-627d-41f5-a030-61409f0b0ad2",
   "metadata": {
    "tags": []
   },
   "outputs": [
    {
     "data": {
      "text/plain": [
       "'https://hda.data.destination-earth.eu/stac/collections/EO.MO.DAT.SST_GLO_SST_L3S_NRT_OBSERVATIONS_010_010/items/20240531000000-IFR-L3S_GHRSST-SSTfnd-ODYSSEA-GLOB_010-v02/download?provider=cop_marine'"
      ]
     },
     "execution_count": 8,
     "metadata": {},
     "output_type": "execute_result"
    }
   ],
   "source": [
    "response_sst.json()[\"features\"][0][\"assets\"][\"downloadLink\"][\"href\"]"
   ]
  },
  {
   "cell_type": "code",
   "execution_count": 9,
   "id": "67fdec61-939d-48db-ba21-c3a83579c18f",
   "metadata": {
    "tags": []
   },
   "outputs": [],
   "source": [
    "product_sst = []\n",
    "assets = []\n",
    "for i in response_sst.json()[\"features\"]:\n",
    "    # Download NC\n",
    "    #product_sst.append(i[\"assets\"][\"downloadLink\"][\"alternate\"][\"origin\"][\"href\"])\n",
    "    # Download using main link\n",
    "    product_sst.append(i[\"assets\"][\"downloadLink\"][\"href\"])\n",
    "    assets.append(i[\"id\"])"
   ]
  },
  {
   "cell_type": "code",
   "execution_count": 10,
   "id": "61b9bdc2-256a-4abe-bd90-b0cb46cdf4a8",
   "metadata": {
    "tags": []
   },
   "outputs": [
    {
     "name": "stdout",
     "output_type": "stream",
     "text": [
      "downloading 20240531000000-IFR-L3S_GHRSST-SSTfnd-ODYSSEA-GLOB_010-v02\n"
     ]
    },
    {
     "name": "stderr",
     "output_type": "stream",
     "text": [
      "25.2MB [00:00, 482MB/s]\n"
     ]
    }
   ],
   "source": [
    "from tqdm import tqdm\n",
    "import time\n",
    "\n",
    "# Define a list of assets to download\n",
    "download_url = product_sst[0]\n",
    "filename = assets[0]\n",
    "response = requests.get(download_url, headers=auth_headers)\n",
    "total_size = int(response.headers.get(\"content-length\", 0))\n",
    "\n",
    "print(f\"downloading {filename}\")\n",
    "\n",
    "with tqdm(total=total_size, unit=\"B\", unit_scale=True) as progress_bar:\n",
    "    with open(filename, 'wb') as f:\n",
    "        for data in response.iter_content(1024):\n",
    "            progress_bar.update(len(data))\n",
    "            f.write(data)"
   ]
  },
  {
   "cell_type": "markdown",
   "id": "b20a1cc8-8671-4282-be90-226316bc617b",
   "metadata": {},
   "source": [
    "## Read data\n",
    "\n",
    "We read the data and subset it too the baltic sea region."
   ]
  },
  {
   "cell_type": "code",
   "execution_count": 11,
   "id": "ab4dc62f-c17f-428d-ad69-40fbc479e5a2",
   "metadata": {
    "tags": []
   },
   "outputs": [],
   "source": [
    "import rioxarray\n",
    "import matplotlib.pyplot as plt\n",
    "import xarray as xr\n",
    "import numpy as np\n",
    "import netCDF4 as nc"
   ]
  },
  {
   "cell_type": "code",
   "execution_count": 15,
   "id": "5c111dce-e8a5-46eb-8b02-a25cfe8a444b",
   "metadata": {
    "tags": []
   },
   "outputs": [],
   "source": [
    "ds = xr.open_dataset(\"20240531000000-IFR-L3S_GHRSST-SSTfnd-ODYSSEA-GLOB_010-v02\")"
   ]
  },
  {
   "cell_type": "code",
   "execution_count": 16,
   "id": "444bc7f5-231a-439b-a389-1774874d60e6",
   "metadata": {
    "tags": []
   },
   "outputs": [
    {
     "data": {
      "text/html": [
       "<div><svg style=\"position: absolute; width: 0; height: 0; overflow: hidden\">\n",
       "<defs>\n",
       "<symbol id=\"icon-database\" viewBox=\"0 0 32 32\">\n",
       "<path d=\"M16 0c-8.837 0-16 2.239-16 5v4c0 2.761 7.163 5 16 5s16-2.239 16-5v-4c0-2.761-7.163-5-16-5z\"></path>\n",
       "<path d=\"M16 17c-8.837 0-16-2.239-16-5v6c0 2.761 7.163 5 16 5s16-2.239 16-5v-6c0 2.761-7.163 5-16 5z\"></path>\n",
       "<path d=\"M16 26c-8.837 0-16-2.239-16-5v6c0 2.761 7.163 5 16 5s16-2.239 16-5v-6c0 2.761-7.163 5-16 5z\"></path>\n",
       "</symbol>\n",
       "<symbol id=\"icon-file-text2\" viewBox=\"0 0 32 32\">\n",
       "<path d=\"M28.681 7.159c-0.694-0.947-1.662-2.053-2.724-3.116s-2.169-2.030-3.116-2.724c-1.612-1.182-2.393-1.319-2.841-1.319h-15.5c-1.378 0-2.5 1.121-2.5 2.5v27c0 1.378 1.122 2.5 2.5 2.5h23c1.378 0 2.5-1.122 2.5-2.5v-19.5c0-0.448-0.137-1.23-1.319-2.841zM24.543 5.457c0.959 0.959 1.712 1.825 2.268 2.543h-4.811v-4.811c0.718 0.556 1.584 1.309 2.543 2.268zM28 29.5c0 0.271-0.229 0.5-0.5 0.5h-23c-0.271 0-0.5-0.229-0.5-0.5v-27c0-0.271 0.229-0.5 0.5-0.5 0 0 15.499-0 15.5 0v7c0 0.552 0.448 1 1 1h7v19.5z\"></path>\n",
       "<path d=\"M23 26h-14c-0.552 0-1-0.448-1-1s0.448-1 1-1h14c0.552 0 1 0.448 1 1s-0.448 1-1 1z\"></path>\n",
       "<path d=\"M23 22h-14c-0.552 0-1-0.448-1-1s0.448-1 1-1h14c0.552 0 1 0.448 1 1s-0.448 1-1 1z\"></path>\n",
       "<path d=\"M23 18h-14c-0.552 0-1-0.448-1-1s0.448-1 1-1h14c0.552 0 1 0.448 1 1s-0.448 1-1 1z\"></path>\n",
       "</symbol>\n",
       "</defs>\n",
       "</svg>\n",
       "<style>/* CSS stylesheet for displaying xarray objects in jupyterlab.\n",
       " *\n",
       " */\n",
       "\n",
       ":root {\n",
       "  --xr-font-color0: var(--jp-content-font-color0, rgba(0, 0, 0, 1));\n",
       "  --xr-font-color2: var(--jp-content-font-color2, rgba(0, 0, 0, 0.54));\n",
       "  --xr-font-color3: var(--jp-content-font-color3, rgba(0, 0, 0, 0.38));\n",
       "  --xr-border-color: var(--jp-border-color2, #e0e0e0);\n",
       "  --xr-disabled-color: var(--jp-layout-color3, #bdbdbd);\n",
       "  --xr-background-color: var(--jp-layout-color0, white);\n",
       "  --xr-background-color-row-even: var(--jp-layout-color1, white);\n",
       "  --xr-background-color-row-odd: var(--jp-layout-color2, #eeeeee);\n",
       "}\n",
       "\n",
       "html[theme=dark],\n",
       "body[data-theme=dark],\n",
       "body.vscode-dark {\n",
       "  --xr-font-color0: rgba(255, 255, 255, 1);\n",
       "  --xr-font-color2: rgba(255, 255, 255, 0.54);\n",
       "  --xr-font-color3: rgba(255, 255, 255, 0.38);\n",
       "  --xr-border-color: #1F1F1F;\n",
       "  --xr-disabled-color: #515151;\n",
       "  --xr-background-color: #111111;\n",
       "  --xr-background-color-row-even: #111111;\n",
       "  --xr-background-color-row-odd: #313131;\n",
       "}\n",
       "\n",
       ".xr-wrap {\n",
       "  display: block !important;\n",
       "  min-width: 300px;\n",
       "  max-width: 700px;\n",
       "}\n",
       "\n",
       ".xr-text-repr-fallback {\n",
       "  /* fallback to plain text repr when CSS is not injected (untrusted notebook) */\n",
       "  display: none;\n",
       "}\n",
       "\n",
       ".xr-header {\n",
       "  padding-top: 6px;\n",
       "  padding-bottom: 6px;\n",
       "  margin-bottom: 4px;\n",
       "  border-bottom: solid 1px var(--xr-border-color);\n",
       "}\n",
       "\n",
       ".xr-header > div,\n",
       ".xr-header > ul {\n",
       "  display: inline;\n",
       "  margin-top: 0;\n",
       "  margin-bottom: 0;\n",
       "}\n",
       "\n",
       ".xr-obj-type,\n",
       ".xr-array-name {\n",
       "  margin-left: 2px;\n",
       "  margin-right: 10px;\n",
       "}\n",
       "\n",
       ".xr-obj-type {\n",
       "  color: var(--xr-font-color2);\n",
       "}\n",
       "\n",
       ".xr-sections {\n",
       "  padding-left: 0 !important;\n",
       "  display: grid;\n",
       "  grid-template-columns: 150px auto auto 1fr 20px 20px;\n",
       "}\n",
       "\n",
       ".xr-section-item {\n",
       "  display: contents;\n",
       "}\n",
       "\n",
       ".xr-section-item input {\n",
       "  display: none;\n",
       "}\n",
       "\n",
       ".xr-section-item input + label {\n",
       "  color: var(--xr-disabled-color);\n",
       "}\n",
       "\n",
       ".xr-section-item input:enabled + label {\n",
       "  cursor: pointer;\n",
       "  color: var(--xr-font-color2);\n",
       "}\n",
       "\n",
       ".xr-section-item input:enabled + label:hover {\n",
       "  color: var(--xr-font-color0);\n",
       "}\n",
       "\n",
       ".xr-section-summary {\n",
       "  grid-column: 1;\n",
       "  color: var(--xr-font-color2);\n",
       "  font-weight: 500;\n",
       "}\n",
       "\n",
       ".xr-section-summary > span {\n",
       "  display: inline-block;\n",
       "  padding-left: 0.5em;\n",
       "}\n",
       "\n",
       ".xr-section-summary-in:disabled + label {\n",
       "  color: var(--xr-font-color2);\n",
       "}\n",
       "\n",
       ".xr-section-summary-in + label:before {\n",
       "  display: inline-block;\n",
       "  content: '►';\n",
       "  font-size: 11px;\n",
       "  width: 15px;\n",
       "  text-align: center;\n",
       "}\n",
       "\n",
       ".xr-section-summary-in:disabled + label:before {\n",
       "  color: var(--xr-disabled-color);\n",
       "}\n",
       "\n",
       ".xr-section-summary-in:checked + label:before {\n",
       "  content: '▼';\n",
       "}\n",
       "\n",
       ".xr-section-summary-in:checked + label > span {\n",
       "  display: none;\n",
       "}\n",
       "\n",
       ".xr-section-summary,\n",
       ".xr-section-inline-details {\n",
       "  padding-top: 4px;\n",
       "  padding-bottom: 4px;\n",
       "}\n",
       "\n",
       ".xr-section-inline-details {\n",
       "  grid-column: 2 / -1;\n",
       "}\n",
       "\n",
       ".xr-section-details {\n",
       "  display: none;\n",
       "  grid-column: 1 / -1;\n",
       "  margin-bottom: 5px;\n",
       "}\n",
       "\n",
       ".xr-section-summary-in:checked ~ .xr-section-details {\n",
       "  display: contents;\n",
       "}\n",
       "\n",
       ".xr-array-wrap {\n",
       "  grid-column: 1 / -1;\n",
       "  display: grid;\n",
       "  grid-template-columns: 20px auto;\n",
       "}\n",
       "\n",
       ".xr-array-wrap > label {\n",
       "  grid-column: 1;\n",
       "  vertical-align: top;\n",
       "}\n",
       "\n",
       ".xr-preview {\n",
       "  color: var(--xr-font-color3);\n",
       "}\n",
       "\n",
       ".xr-array-preview,\n",
       ".xr-array-data {\n",
       "  padding: 0 5px !important;\n",
       "  grid-column: 2;\n",
       "}\n",
       "\n",
       ".xr-array-data,\n",
       ".xr-array-in:checked ~ .xr-array-preview {\n",
       "  display: none;\n",
       "}\n",
       "\n",
       ".xr-array-in:checked ~ .xr-array-data,\n",
       ".xr-array-preview {\n",
       "  display: inline-block;\n",
       "}\n",
       "\n",
       ".xr-dim-list {\n",
       "  display: inline-block !important;\n",
       "  list-style: none;\n",
       "  padding: 0 !important;\n",
       "  margin: 0;\n",
       "}\n",
       "\n",
       ".xr-dim-list li {\n",
       "  display: inline-block;\n",
       "  padding: 0;\n",
       "  margin: 0;\n",
       "}\n",
       "\n",
       ".xr-dim-list:before {\n",
       "  content: '(';\n",
       "}\n",
       "\n",
       ".xr-dim-list:after {\n",
       "  content: ')';\n",
       "}\n",
       "\n",
       ".xr-dim-list li:not(:last-child):after {\n",
       "  content: ',';\n",
       "  padding-right: 5px;\n",
       "}\n",
       "\n",
       ".xr-has-index {\n",
       "  font-weight: bold;\n",
       "}\n",
       "\n",
       ".xr-var-list,\n",
       ".xr-var-item {\n",
       "  display: contents;\n",
       "}\n",
       "\n",
       ".xr-var-item > div,\n",
       ".xr-var-item label,\n",
       ".xr-var-item > .xr-var-name span {\n",
       "  background-color: var(--xr-background-color-row-even);\n",
       "  margin-bottom: 0;\n",
       "}\n",
       "\n",
       ".xr-var-item > .xr-var-name:hover span {\n",
       "  padding-right: 5px;\n",
       "}\n",
       "\n",
       ".xr-var-list > li:nth-child(odd) > div,\n",
       ".xr-var-list > li:nth-child(odd) > label,\n",
       ".xr-var-list > li:nth-child(odd) > .xr-var-name span {\n",
       "  background-color: var(--xr-background-color-row-odd);\n",
       "}\n",
       "\n",
       ".xr-var-name {\n",
       "  grid-column: 1;\n",
       "}\n",
       "\n",
       ".xr-var-dims {\n",
       "  grid-column: 2;\n",
       "}\n",
       "\n",
       ".xr-var-dtype {\n",
       "  grid-column: 3;\n",
       "  text-align: right;\n",
       "  color: var(--xr-font-color2);\n",
       "}\n",
       "\n",
       ".xr-var-preview {\n",
       "  grid-column: 4;\n",
       "}\n",
       "\n",
       ".xr-index-preview {\n",
       "  grid-column: 2 / 5;\n",
       "  color: var(--xr-font-color2);\n",
       "}\n",
       "\n",
       ".xr-var-name,\n",
       ".xr-var-dims,\n",
       ".xr-var-dtype,\n",
       ".xr-preview,\n",
       ".xr-attrs dt {\n",
       "  white-space: nowrap;\n",
       "  overflow: hidden;\n",
       "  text-overflow: ellipsis;\n",
       "  padding-right: 10px;\n",
       "}\n",
       "\n",
       ".xr-var-name:hover,\n",
       ".xr-var-dims:hover,\n",
       ".xr-var-dtype:hover,\n",
       ".xr-attrs dt:hover {\n",
       "  overflow: visible;\n",
       "  width: auto;\n",
       "  z-index: 1;\n",
       "}\n",
       "\n",
       ".xr-var-attrs,\n",
       ".xr-var-data,\n",
       ".xr-index-data {\n",
       "  display: none;\n",
       "  background-color: var(--xr-background-color) !important;\n",
       "  padding-bottom: 5px !important;\n",
       "}\n",
       "\n",
       ".xr-var-attrs-in:checked ~ .xr-var-attrs,\n",
       ".xr-var-data-in:checked ~ .xr-var-data,\n",
       ".xr-index-data-in:checked ~ .xr-index-data {\n",
       "  display: block;\n",
       "}\n",
       "\n",
       ".xr-var-data > table {\n",
       "  float: right;\n",
       "}\n",
       "\n",
       ".xr-var-name span,\n",
       ".xr-var-data,\n",
       ".xr-index-name div,\n",
       ".xr-index-data,\n",
       ".xr-attrs {\n",
       "  padding-left: 25px !important;\n",
       "}\n",
       "\n",
       ".xr-attrs,\n",
       ".xr-var-attrs,\n",
       ".xr-var-data,\n",
       ".xr-index-data {\n",
       "  grid-column: 1 / -1;\n",
       "}\n",
       "\n",
       "dl.xr-attrs {\n",
       "  padding: 0;\n",
       "  margin: 0;\n",
       "  display: grid;\n",
       "  grid-template-columns: 125px auto;\n",
       "}\n",
       "\n",
       ".xr-attrs dt,\n",
       ".xr-attrs dd {\n",
       "  padding: 0;\n",
       "  margin: 0;\n",
       "  float: left;\n",
       "  padding-right: 10px;\n",
       "  width: auto;\n",
       "}\n",
       "\n",
       ".xr-attrs dt {\n",
       "  font-weight: normal;\n",
       "  grid-column: 1;\n",
       "}\n",
       "\n",
       ".xr-attrs dt:hover span {\n",
       "  display: inline-block;\n",
       "  background: var(--xr-background-color);\n",
       "  padding-right: 10px;\n",
       "}\n",
       "\n",
       ".xr-attrs dd {\n",
       "  grid-column: 2;\n",
       "  white-space: pre-wrap;\n",
       "  word-break: break-all;\n",
       "}\n",
       "\n",
       ".xr-icon-database,\n",
       ".xr-icon-file-text2,\n",
       ".xr-no-icon {\n",
       "  display: inline-block;\n",
       "  vertical-align: middle;\n",
       "  width: 1em;\n",
       "  height: 1.5em !important;\n",
       "  stroke-width: 0;\n",
       "  stroke: currentColor;\n",
       "  fill: currentColor;\n",
       "}\n",
       "</style><pre class='xr-text-repr-fallback'>&lt;xarray.Dataset&gt;\n",
       "Dimensions:                           (lat: 1600, lon: 3600, time: 1)\n",
       "Coordinates:\n",
       "  * lat                               (lat) float32 -79.95 -79.85 ... 79.95\n",
       "  * lon                               (lon) float32 -179.9 -179.9 ... 179.9\n",
       "  * time                              (time) datetime64[ns] 2024-05-31\n",
       "Data variables: (12/15)\n",
       "    crs                               int64 ...\n",
       "    sea_surface_temperature           (time, lat, lon) float32 ...\n",
       "    or_number_of_pixels               (time, lat, lon) float32 ...\n",
       "    sea_surface_temperature_stddev    (time, lat, lon) float32 ...\n",
       "    quality_level                     (time, lat, lon) float32 ...\n",
       "    sses_bias                         (time, lat, lon) float32 ...\n",
       "    ...                                ...\n",
       "    or_longitude                      (time, lat, lon) float32 ...\n",
       "    adjusted_sea_surface_temperature  (time, lat, lon) float32 ...\n",
       "    solar_zenith_angle                (time, lat, lon) float32 ...\n",
       "    bias_to_reference_sst             (time, lat, lon) float32 ...\n",
       "    sources_of_sst                    (time, lat, lon) float32 ...\n",
       "    sst_dtime                         (time, lat, lon) float64 ...\n",
       "Attributes: (12/74)\n",
       "    file_quality_level:              3\n",
       "    title:                           ODYSSEA Global Sea Surface Temperature G...\n",
       "    id:                              ODYSSEA-IFR-L3S-GLO_010-v3\n",
       "    cmems_product_id:                SST_GLO_SST_L3S_NRT_OBSERVATIONS_010_010\n",
       "    reference:                       Product User Manual for L3S Odyssea Prod...\n",
       "    summary:                         This dataset provide a times series of d...\n",
       "    ...                              ...\n",
       "    geospatial_lon_units:            degrees_east\n",
       "    geospatial_vertical_min:         0.0\n",
       "    geospatial_vertical_max:         0.0\n",
       "    temporal_resolution:             daily\n",
       "    time_coverage_resolution:        P1D\n",
       "    time_coverage_duration:          P1D</pre><div class='xr-wrap' style='display:none'><div class='xr-header'><div class='xr-obj-type'>xarray.Dataset</div></div><ul class='xr-sections'><li class='xr-section-item'><input id='section-e3208d7c-3661-49ae-b6f0-bd1aefb5c6e8' class='xr-section-summary-in' type='checkbox' disabled ><label for='section-e3208d7c-3661-49ae-b6f0-bd1aefb5c6e8' class='xr-section-summary'  title='Expand/collapse section'>Dimensions:</label><div class='xr-section-inline-details'><ul class='xr-dim-list'><li><span class='xr-has-index'>lat</span>: 1600</li><li><span class='xr-has-index'>lon</span>: 3600</li><li><span class='xr-has-index'>time</span>: 1</li></ul></div><div class='xr-section-details'></div></li><li class='xr-section-item'><input id='section-8ab2e397-fe5f-4066-bbb6-09102f78998c' class='xr-section-summary-in' type='checkbox'  checked><label for='section-8ab2e397-fe5f-4066-bbb6-09102f78998c' class='xr-section-summary' >Coordinates: <span>(3)</span></label><div class='xr-section-inline-details'></div><div class='xr-section-details'><ul class='xr-var-list'><li class='xr-var-item'><div class='xr-var-name'><span class='xr-has-index'>lat</span></div><div class='xr-var-dims'>(lat)</div><div class='xr-var-dtype'>float32</div><div class='xr-var-preview xr-preview'>-79.95 -79.85 ... 79.85 79.95</div><input id='attrs-aafdca14-c806-4418-a69e-1dd3dbd769fd' class='xr-var-attrs-in' type='checkbox' ><label for='attrs-aafdca14-c806-4418-a69e-1dd3dbd769fd' title='Show/Hide attributes'><svg class='icon xr-icon-file-text2'><use xlink:href='#icon-file-text2'></use></svg></label><input id='data-c11e36c4-f1a6-4da8-b977-72c8b9917907' class='xr-var-data-in' type='checkbox'><label for='data-c11e36c4-f1a6-4da8-b977-72c8b9917907' title='Show/Hide data repr'><svg class='icon xr-icon-database'><use xlink:href='#icon-database'></use></svg></label><div class='xr-var-attrs'><dl class='xr-attrs'><dt><span>standard_name :</span></dt><dd>latitude</dd><dt><span>units :</span></dt><dd>degrees_north</dd><dt><span>axis :</span></dt><dd>Y</dd><dt><span>long_name :</span></dt><dd>latitude</dd><dt><span>authority :</span></dt><dd>CF-1.11, ACDD-1.3</dd><dt><span>valid_range :</span></dt><dd>[-90.  90.]</dd><dt><span>comment :</span></dt><dd>geographical coordinates, WGS84 projection</dd><dt><span>coverage_content_type :</span></dt><dd>coordinate</dd></dl></div><div class='xr-var-data'><pre>array([-79.95, -79.85, -79.75, ...,  79.75,  79.85,  79.95], dtype=float32)</pre></div></li><li class='xr-var-item'><div class='xr-var-name'><span class='xr-has-index'>lon</span></div><div class='xr-var-dims'>(lon)</div><div class='xr-var-dtype'>float32</div><div class='xr-var-preview xr-preview'>-179.9 -179.9 ... 179.9 179.9</div><input id='attrs-91295561-2235-4d2f-b499-050c7f0a2f30' class='xr-var-attrs-in' type='checkbox' ><label for='attrs-91295561-2235-4d2f-b499-050c7f0a2f30' title='Show/Hide attributes'><svg class='icon xr-icon-file-text2'><use xlink:href='#icon-file-text2'></use></svg></label><input id='data-571c406a-810b-4910-8999-d542ee83d10a' class='xr-var-data-in' type='checkbox'><label for='data-571c406a-810b-4910-8999-d542ee83d10a' title='Show/Hide data repr'><svg class='icon xr-icon-database'><use xlink:href='#icon-database'></use></svg></label><div class='xr-var-attrs'><dl class='xr-attrs'><dt><span>standard_name :</span></dt><dd>longitude</dd><dt><span>units :</span></dt><dd>degrees_east</dd><dt><span>axis :</span></dt><dd>X</dd><dt><span>long_name :</span></dt><dd>longitude</dd><dt><span>authority :</span></dt><dd>CF-1.11, ACDD-1.3</dd><dt><span>valid_range :</span></dt><dd>[-180.  180.]</dd><dt><span>comment :</span></dt><dd>geographical coordinates, WGS84 projection</dd><dt><span>coverage_content_type :</span></dt><dd>coordinate</dd></dl></div><div class='xr-var-data'><pre>array([-179.95, -179.85, -179.75, ...,  179.75,  179.85,  179.95],\n",
       "      dtype=float32)</pre></div></li><li class='xr-var-item'><div class='xr-var-name'><span class='xr-has-index'>time</span></div><div class='xr-var-dims'>(time)</div><div class='xr-var-dtype'>datetime64[ns]</div><div class='xr-var-preview xr-preview'>2024-05-31</div><input id='attrs-ca68802c-b777-497e-a49a-e00491ba9144' class='xr-var-attrs-in' type='checkbox' ><label for='attrs-ca68802c-b777-497e-a49a-e00491ba9144' title='Show/Hide attributes'><svg class='icon xr-icon-file-text2'><use xlink:href='#icon-file-text2'></use></svg></label><input id='data-8e371174-b154-4cbf-af28-a82c81d1f9ee' class='xr-var-data-in' type='checkbox'><label for='data-8e371174-b154-4cbf-af28-a82c81d1f9ee' title='Show/Hide data repr'><svg class='icon xr-icon-database'><use xlink:href='#icon-database'></use></svg></label><div class='xr-var-attrs'><dl class='xr-attrs'><dt><span>axis :</span></dt><dd>T</dd><dt><span>long_name :</span></dt><dd>reference time of sst file</dd><dt><span>standard_name :</span></dt><dd>time</dd><dt><span>authority :</span></dt><dd>CF-1.11, ACDD-1.3</dd><dt><span>coverage_content_type :</span></dt><dd>coordinate</dd></dl></div><div class='xr-var-data'><pre>array([&#x27;2024-05-31T00:00:00.000000000&#x27;], dtype=&#x27;datetime64[ns]&#x27;)</pre></div></li></ul></div></li><li class='xr-section-item'><input id='section-333063c5-f72d-44a1-acac-ec7b2ede24ac' class='xr-section-summary-in' type='checkbox'  ><label for='section-333063c5-f72d-44a1-acac-ec7b2ede24ac' class='xr-section-summary' >Data variables: <span>(15)</span></label><div class='xr-section-inline-details'></div><div class='xr-section-details'><ul class='xr-var-list'><li class='xr-var-item'><div class='xr-var-name'><span>crs</span></div><div class='xr-var-dims'>()</div><div class='xr-var-dtype'>int64</div><div class='xr-var-preview xr-preview'>...</div><input id='attrs-35b71b10-eb73-45d5-a998-eaa12808274f' class='xr-var-attrs-in' type='checkbox' ><label for='attrs-35b71b10-eb73-45d5-a998-eaa12808274f' title='Show/Hide attributes'><svg class='icon xr-icon-file-text2'><use xlink:href='#icon-file-text2'></use></svg></label><input id='data-fbe6a575-1157-4151-ab53-eb5f3b8e440b' class='xr-var-data-in' type='checkbox'><label for='data-fbe6a575-1157-4151-ab53-eb5f3b8e440b' title='Show/Hide data repr'><svg class='icon xr-icon-database'><use xlink:href='#icon-database'></use></svg></label><div class='xr-var-attrs'><dl class='xr-attrs'><dt><span>grid_mapping_name :</span></dt><dd>latitude_longitude</dd><dt><span>longitude_of_prime_meridian :</span></dt><dd>0.0</dd><dt><span>semi_major_axis :</span></dt><dd>6378137.0</dd><dt><span>inverse_flattening :</span></dt><dd>298.257223563</dd></dl></div><div class='xr-var-data'><pre>[1 values with dtype=int64]</pre></div></li><li class='xr-var-item'><div class='xr-var-name'><span>sea_surface_temperature</span></div><div class='xr-var-dims'>(time, lat, lon)</div><div class='xr-var-dtype'>float32</div><div class='xr-var-preview xr-preview'>...</div><input id='attrs-f80290be-97f9-43ab-8919-589cf93f6c74' class='xr-var-attrs-in' type='checkbox' ><label for='attrs-f80290be-97f9-43ab-8919-589cf93f6c74' title='Show/Hide attributes'><svg class='icon xr-icon-file-text2'><use xlink:href='#icon-file-text2'></use></svg></label><input id='data-dd094ac1-26ff-4a31-bfb5-04c857ca4094' class='xr-var-data-in' type='checkbox'><label for='data-dd094ac1-26ff-4a31-bfb5-04c857ca4094' title='Show/Hide data repr'><svg class='icon xr-icon-database'><use xlink:href='#icon-database'></use></svg></label><div class='xr-var-attrs'><dl class='xr-attrs'><dt><span>long_name :</span></dt><dd>sea surface foundation temperature</dd><dt><span>units :</span></dt><dd>K</dd><dt><span>standard_name :</span></dt><dd>sea_surface_foundation_temperature</dd><dt><span>coverage_content_type :</span></dt><dd>physicalMeasurement</dd><dt><span>binning_method :</span></dt><dd>mean</dd><dt><span>cell_methods :</span></dt><dd>lat: lon: mean (interval: 0.1 degree_N interval: 0.1 degree_E)</dd><dt><span>valid_range :</span></dt><dd>[-300 4500]</dd></dl></div><div class='xr-var-data'><pre>[5760000 values with dtype=float32]</pre></div></li><li class='xr-var-item'><div class='xr-var-name'><span>or_number_of_pixels</span></div><div class='xr-var-dims'>(time, lat, lon)</div><div class='xr-var-dtype'>float32</div><div class='xr-var-preview xr-preview'>...</div><input id='attrs-454c3b79-0ce7-46bc-bd09-2755437f0e12' class='xr-var-attrs-in' type='checkbox' ><label for='attrs-454c3b79-0ce7-46bc-bd09-2755437f0e12' title='Show/Hide attributes'><svg class='icon xr-icon-file-text2'><use xlink:href='#icon-file-text2'></use></svg></label><input id='data-b0be6e2b-9684-4df6-be62-5a2f2c9cb55e' class='xr-var-data-in' type='checkbox'><label for='data-b0be6e2b-9684-4df6-be62-5a2f2c9cb55e' title='Show/Hide data repr'><svg class='icon xr-icon-database'><use xlink:href='#icon-database'></use></svg></label><div class='xr-var-attrs'><dl class='xr-attrs'><dt><span>long_name :</span></dt><dd>original number of pixels from the L2Ps contributing to the SST value</dd><dt><span>units :</span></dt><dd>1</dd><dt><span>standard_name :</span></dt><dd>sea_surface_foundation_temperature number_of_observations</dd><dt><span>coverage_content_type :</span></dt><dd>referenceInformation</dd><dt><span>binning_method :</span></dt><dd>count</dd><dt><span>valid_range :</span></dt><dd>[    0 32767]</dd></dl></div><div class='xr-var-data'><pre>[5760000 values with dtype=float32]</pre></div></li><li class='xr-var-item'><div class='xr-var-name'><span>sea_surface_temperature_stddev</span></div><div class='xr-var-dims'>(time, lat, lon)</div><div class='xr-var-dtype'>float32</div><div class='xr-var-preview xr-preview'>...</div><input id='attrs-60907fa4-47f3-4a83-a8f2-b8114d639ce4' class='xr-var-attrs-in' type='checkbox' ><label for='attrs-60907fa4-47f3-4a83-a8f2-b8114d639ce4' title='Show/Hide attributes'><svg class='icon xr-icon-file-text2'><use xlink:href='#icon-file-text2'></use></svg></label><input id='data-e76c052d-e2f5-4fb3-939f-7282d5b18d7d' class='xr-var-data-in' type='checkbox'><label for='data-e76c052d-e2f5-4fb3-939f-7282d5b18d7d' title='Show/Hide data repr'><svg class='icon xr-icon-database'><use xlink:href='#icon-database'></use></svg></label><div class='xr-var-attrs'><dl class='xr-attrs'><dt><span>long_name :</span></dt><dd>sea_surface_subskin_temperature</dd><dt><span>units :</span></dt><dd>kelvin</dd><dt><span>standard_name :</span></dt><dd>sea_surface_subskin_temperature</dd><dt><span>coverage_content_type :</span></dt><dd>physicalMeasurement</dd><dt><span>binning_method :</span></dt><dd>std</dd><dt><span>cell_methods :</span></dt><dd>lat: lon: standard_deviation (interval: 0.1 degree_N interval: 0.1 degree_E)</dd></dl></div><div class='xr-var-data'><pre>[5760000 values with dtype=float32]</pre></div></li><li class='xr-var-item'><div class='xr-var-name'><span>quality_level</span></div><div class='xr-var-dims'>(time, lat, lon)</div><div class='xr-var-dtype'>float32</div><div class='xr-var-preview xr-preview'>...</div><input id='attrs-c474e36d-56d7-4fbd-b4ed-3756a8d23113' class='xr-var-attrs-in' type='checkbox' ><label for='attrs-c474e36d-56d7-4fbd-b4ed-3756a8d23113' title='Show/Hide attributes'><svg class='icon xr-icon-file-text2'><use xlink:href='#icon-file-text2'></use></svg></label><input id='data-20e42dcd-07c2-4021-88d5-1f430627d275' class='xr-var-data-in' type='checkbox'><label for='data-20e42dcd-07c2-4021-88d5-1f430627d275' title='Show/Hide data repr'><svg class='icon xr-icon-database'><use xlink:href='#icon-database'></use></svg></label><div class='xr-var-attrs'><dl class='xr-attrs'><dt><span>flag_meanings :</span></dt><dd>no_data bad_data worst_quality low_quality acceptable_quality best_quality</dd><dt><span>flag_values :</span></dt><dd>[0 1 2 3 4 5]</dd><dt><span>long_name :</span></dt><dd>quality level of SST pixel</dd><dt><span>coverage_content_type :</span></dt><dd>qualityInformation</dd><dt><span>binning_method :</span></dt><dd>mean</dd><dt><span>cell_methods :</span></dt><dd>lat: lon: mean (interval: 0.1 degree_N interval: 0.1 degree_E)</dd><dt><span>valid_range :</span></dt><dd>[0 5]</dd><dt><span>standard_name :</span></dt><dd>sea_surface_foundation_temperature status_flag</dd><dt><span>comment :</span></dt><dd>These are the overall quality indicators and are used for all GHRSST SSTs</dd></dl></div><div class='xr-var-data'><pre>[5760000 values with dtype=float32]</pre></div></li><li class='xr-var-item'><div class='xr-var-name'><span>sses_bias</span></div><div class='xr-var-dims'>(time, lat, lon)</div><div class='xr-var-dtype'>float32</div><div class='xr-var-preview xr-preview'>...</div><input id='attrs-22ae7c3a-eac4-4e25-85a1-1c7b6754537b' class='xr-var-attrs-in' type='checkbox' ><label for='attrs-22ae7c3a-eac4-4e25-85a1-1c7b6754537b' title='Show/Hide attributes'><svg class='icon xr-icon-file-text2'><use xlink:href='#icon-file-text2'></use></svg></label><input id='data-67009f6c-0a67-4a92-9b6b-7c27dff35ecb' class='xr-var-data-in' type='checkbox'><label for='data-67009f6c-0a67-4a92-9b6b-7c27dff35ecb' title='Show/Hide data repr'><svg class='icon xr-icon-database'><use xlink:href='#icon-database'></use></svg></label><div class='xr-var-attrs'><dl class='xr-attrs'><dt><span>long_name :</span></dt><dd>SSES bias estimate</dd><dt><span>units :</span></dt><dd>K</dd><dt><span>coverage_content_type :</span></dt><dd>qualityInformation</dd><dt><span>binning_method :</span></dt><dd>mean</dd><dt><span>cell_methods :</span></dt><dd>lat: lon: mean (interval: 0.1 degree_N interval: 0.1 degree_E)</dd><dt><span>valid_range :</span></dt><dd>[-127  127]</dd><dt><span>comment :</span></dt><dd>Bias estimate derived using the techniques described at http://www.ghrsst.org/SSES-Description-of-schemes.html</dd></dl></div><div class='xr-var-data'><pre>[5760000 values with dtype=float32]</pre></div></li><li class='xr-var-item'><div class='xr-var-name'><span>sses_standard_deviation</span></div><div class='xr-var-dims'>(time, lat, lon)</div><div class='xr-var-dtype'>float32</div><div class='xr-var-preview xr-preview'>...</div><input id='attrs-ef7e2e00-fa1b-4cc7-b73f-4f1de7438ed6' class='xr-var-attrs-in' type='checkbox' ><label for='attrs-ef7e2e00-fa1b-4cc7-b73f-4f1de7438ed6' title='Show/Hide attributes'><svg class='icon xr-icon-file-text2'><use xlink:href='#icon-file-text2'></use></svg></label><input id='data-cfc94383-e9ab-44eb-8aa2-29182225ca9b' class='xr-var-data-in' type='checkbox'><label for='data-cfc94383-e9ab-44eb-8aa2-29182225ca9b' title='Show/Hide data repr'><svg class='icon xr-icon-database'><use xlink:href='#icon-database'></use></svg></label><div class='xr-var-attrs'><dl class='xr-attrs'><dt><span>long_name :</span></dt><dd>SSES standard deviation</dd><dt><span>units :</span></dt><dd>kelvin</dd><dt><span>coverage_content_type :</span></dt><dd>qualityInformation</dd><dt><span>binning_method :</span></dt><dd>mean</dd><dt><span>cell_methods :</span></dt><dd>lat: lon: mean (interval: 0.1 degree_N interval: 0.1 degree_E)</dd><dt><span>valid_range :</span></dt><dd>[-127  127]</dd><dt><span>comment :</span></dt><dd>Standard deviation estimate derived using the techniques described at http://www.ghrsst.org/SSES-Description-of-schemes.html</dd></dl></div><div class='xr-var-data'><pre>[5760000 values with dtype=float32]</pre></div></li><li class='xr-var-item'><div class='xr-var-name'><span>satellite_zenith_angle</span></div><div class='xr-var-dims'>(time, lat, lon)</div><div class='xr-var-dtype'>float32</div><div class='xr-var-preview xr-preview'>...</div><input id='attrs-3819b5fc-bd86-4ae1-8a56-6a9bc2ca8fa3' class='xr-var-attrs-in' type='checkbox' ><label for='attrs-3819b5fc-bd86-4ae1-8a56-6a9bc2ca8fa3' title='Show/Hide attributes'><svg class='icon xr-icon-file-text2'><use xlink:href='#icon-file-text2'></use></svg></label><input id='data-a56b3f2e-1a79-4407-93e5-9f6132426ea8' class='xr-var-data-in' type='checkbox'><label for='data-a56b3f2e-1a79-4407-93e5-9f6132426ea8' title='Show/Hide data repr'><svg class='icon xr-icon-database'><use xlink:href='#icon-database'></use></svg></label><div class='xr-var-attrs'><dl class='xr-attrs'><dt><span>long_name :</span></dt><dd>satellite zenith angle</dd><dt><span>units :</span></dt><dd>angular_degree</dd><dt><span>coverage_content_type :</span></dt><dd>referenceInformation</dd><dt><span>binning_method :</span></dt><dd>mean</dd><dt><span>cell_methods :</span></dt><dd>lat: lon: mean (interval: 0.1 degree_N interval: 0.1 degree_E)</dd><dt><span>standard_name :</span></dt><dd>platform_zenith_angle</dd><dt><span>comment :</span></dt><dd>the satellite zenith angle at the time of the SST observations</dd></dl></div><div class='xr-var-data'><pre>[5760000 values with dtype=float32]</pre></div></li><li class='xr-var-item'><div class='xr-var-name'><span>or_latitude</span></div><div class='xr-var-dims'>(time, lat, lon)</div><div class='xr-var-dtype'>float32</div><div class='xr-var-preview xr-preview'>...</div><input id='attrs-97e3cc40-8e12-47ad-8b59-1058869ee519' class='xr-var-attrs-in' type='checkbox' ><label for='attrs-97e3cc40-8e12-47ad-8b59-1058869ee519' title='Show/Hide attributes'><svg class='icon xr-icon-file-text2'><use xlink:href='#icon-file-text2'></use></svg></label><input id='data-bd4fa3e3-83a6-46ea-bf5a-2ef91c811185' class='xr-var-data-in' type='checkbox'><label for='data-bd4fa3e3-83a6-46ea-bf5a-2ef91c811185' title='Show/Hide data repr'><svg class='icon xr-icon-database'><use xlink:href='#icon-database'></use></svg></label><div class='xr-var-attrs'><dl class='xr-attrs'><dt><span>long_name :</span></dt><dd>original latitude of the SST value</dd><dt><span>standard_name :</span></dt><dd>latitude</dd><dt><span>units :</span></dt><dd>degree_north</dd><dt><span>coverage_content_type :</span></dt><dd>coordinate</dd><dt><span>authority :</span></dt><dd>CF-1.11, ACDD-1.3</dd><dt><span>binning_method :</span></dt><dd>mean</dd><dt><span>cell_methods :</span></dt><dd>lat: lon: mean (interval: 0.1 degree_N interval: 0.1 degree_E)</dd><dt><span>valid_range :</span></dt><dd>[-9000  9000]</dd></dl></div><div class='xr-var-data'><pre>[5760000 values with dtype=float32]</pre></div></li><li class='xr-var-item'><div class='xr-var-name'><span>or_longitude</span></div><div class='xr-var-dims'>(time, lat, lon)</div><div class='xr-var-dtype'>float32</div><div class='xr-var-preview xr-preview'>...</div><input id='attrs-7c7c1ed8-48c1-4bc2-b090-de1834ee3ad2' class='xr-var-attrs-in' type='checkbox' ><label for='attrs-7c7c1ed8-48c1-4bc2-b090-de1834ee3ad2' title='Show/Hide attributes'><svg class='icon xr-icon-file-text2'><use xlink:href='#icon-file-text2'></use></svg></label><input id='data-9e5581b7-8f0b-4707-914e-63dab3d0817e' class='xr-var-data-in' type='checkbox'><label for='data-9e5581b7-8f0b-4707-914e-63dab3d0817e' title='Show/Hide data repr'><svg class='icon xr-icon-database'><use xlink:href='#icon-database'></use></svg></label><div class='xr-var-attrs'><dl class='xr-attrs'><dt><span>long_name :</span></dt><dd>original longitude of the SST value</dd><dt><span>standard_name :</span></dt><dd>longitude</dd><dt><span>units :</span></dt><dd>degree_east</dd><dt><span>coverage_content_type :</span></dt><dd>coordinate</dd><dt><span>authority :</span></dt><dd>CF-1.11, ACDD-1.3</dd><dt><span>binning_method :</span></dt><dd>mean</dd><dt><span>cell_methods :</span></dt><dd>lat: lon: mean (interval: 0.1 degree_N interval: 0.1 degree_E)</dd><dt><span>valid_range :</span></dt><dd>[-18000  18000]</dd></dl></div><div class='xr-var-data'><pre>[5760000 values with dtype=float32]</pre></div></li><li class='xr-var-item'><div class='xr-var-name'><span>adjusted_sea_surface_temperature</span></div><div class='xr-var-dims'>(time, lat, lon)</div><div class='xr-var-dtype'>float32</div><div class='xr-var-preview xr-preview'>...</div><input id='attrs-acd96528-577e-4b8c-bdc4-013c9170949b' class='xr-var-attrs-in' type='checkbox' ><label for='attrs-acd96528-577e-4b8c-bdc4-013c9170949b' title='Show/Hide attributes'><svg class='icon xr-icon-file-text2'><use xlink:href='#icon-file-text2'></use></svg></label><input id='data-1897abef-09e3-420a-a7bb-53f6d79d57d6' class='xr-var-data-in' type='checkbox'><label for='data-1897abef-09e3-420a-a7bb-53f6d79d57d6' title='Show/Hide data repr'><svg class='icon xr-icon-database'><use xlink:href='#icon-database'></use></svg></label><div class='xr-var-attrs'><dl class='xr-attrs'><dt><span>long_name :</span></dt><dd>adjusted foundation sea surface temperature</dd><dt><span>units :</span></dt><dd>K</dd><dt><span>standard_name :</span></dt><dd>sea_surface_foundation_temperature</dd><dt><span>coverage_content_type :</span></dt><dd>physicalMeasurement</dd><dt><span>binning_method :</span></dt><dd>mean</dd><dt><span>cell_methods :</span></dt><dd>lat: lon: mean (interval: 0.1 degree_N interval: 0.1 degree_E)</dd><dt><span>valid_range :</span></dt><dd>[-300 4500]</dd><dt><span>comment :</span></dt><dd>The recommended SST variable to use in this product. The original observations were cross-calibrated using a multi-sensor reference field&quot;</dd></dl></div><div class='xr-var-data'><pre>[5760000 values with dtype=float32]</pre></div></li><li class='xr-var-item'><div class='xr-var-name'><span>solar_zenith_angle</span></div><div class='xr-var-dims'>(time, lat, lon)</div><div class='xr-var-dtype'>float32</div><div class='xr-var-preview xr-preview'>...</div><input id='attrs-15b4af00-cf59-4f62-9475-f85cd6db3ed0' class='xr-var-attrs-in' type='checkbox' ><label for='attrs-15b4af00-cf59-4f62-9475-f85cd6db3ed0' title='Show/Hide attributes'><svg class='icon xr-icon-file-text2'><use xlink:href='#icon-file-text2'></use></svg></label><input id='data-b11b594a-af13-4fdb-b3e1-eb3c5425bc26' class='xr-var-data-in' type='checkbox'><label for='data-b11b594a-af13-4fdb-b3e1-eb3c5425bc26' title='Show/Hide data repr'><svg class='icon xr-icon-database'><use xlink:href='#icon-database'></use></svg></label><div class='xr-var-attrs'><dl class='xr-attrs'><dt><span>long_name :</span></dt><dd>solar zenith angle</dd><dt><span>units :</span></dt><dd>angular_degree</dd><dt><span>standard_name :</span></dt><dd>solar_zenith_angle</dd><dt><span>binning_method :</span></dt><dd>mean</dd><dt><span>cell_methods :</span></dt><dd>lat: lon: mean (interval: 0.1 degree_N interval: 0.1 degree_E)</dd><dt><span>coverage_content_type :</span></dt><dd>referenceInformation</dd><dt><span>comment :</span></dt><dd>the solar zenith angle at the time of the SST observations</dd></dl></div><div class='xr-var-data'><pre>[5760000 values with dtype=float32]</pre></div></li><li class='xr-var-item'><div class='xr-var-name'><span>bias_to_reference_sst</span></div><div class='xr-var-dims'>(time, lat, lon)</div><div class='xr-var-dtype'>float32</div><div class='xr-var-preview xr-preview'>...</div><input id='attrs-5117a517-69a4-473d-b55a-abd0b28e3e6e' class='xr-var-attrs-in' type='checkbox' ><label for='attrs-5117a517-69a4-473d-b55a-abd0b28e3e6e' title='Show/Hide attributes'><svg class='icon xr-icon-file-text2'><use xlink:href='#icon-file-text2'></use></svg></label><input id='data-ce0e4363-0837-4219-86fb-d00878e3cd6a' class='xr-var-data-in' type='checkbox'><label for='data-ce0e4363-0837-4219-86fb-d00878e3cd6a' title='Show/Hide data repr'><svg class='icon xr-icon-database'><use xlink:href='#icon-database'></use></svg></label><div class='xr-var-attrs'><dl class='xr-attrs'><dt><span>long_name :</span></dt><dd>bias error derived from reference</dd><dt><span>units :</span></dt><dd>K</dd><dt><span>valid_range :</span></dt><dd>[-32767  32767]</dd><dt><span>comment :</span></dt><dd>Bias estimate derived from comparison between the original SST (native SSES being applied) and the reference sensor SST (original SST - reference SST)</dd><dt><span>coverage_content_type :</span></dt><dd>qualityInformation</dd></dl></div><div class='xr-var-data'><pre>[5760000 values with dtype=float32]</pre></div></li><li class='xr-var-item'><div class='xr-var-name'><span>sources_of_sst</span></div><div class='xr-var-dims'>(time, lat, lon)</div><div class='xr-var-dtype'>float32</div><div class='xr-var-preview xr-preview'>...</div><input id='attrs-0b6eb516-437d-4c74-845f-2a24c85692df' class='xr-var-attrs-in' type='checkbox' ><label for='attrs-0b6eb516-437d-4c74-845f-2a24c85692df' title='Show/Hide attributes'><svg class='icon xr-icon-file-text2'><use xlink:href='#icon-file-text2'></use></svg></label><input id='data-192746b2-f348-49e7-8a1f-5751c585943d' class='xr-var-data-in' type='checkbox'><label for='data-192746b2-f348-49e7-8a1f-5751c585943d' title='Show/Hide data repr'><svg class='icon xr-icon-database'><use xlink:href='#icon-database'></use></svg></label><div class='xr-var-attrs'><dl class='xr-attrs'><dt><span>flag_values :</span></dt><dd>[20 21 70 72 80 81 53 41 52 42 85 60]</dd><dt><span>flag_meanings :</span></dt><dd>VIIRS_NPP-STAR-L2P-v2.80 VIIRS_N20-STAR-L2P-v2.80 AVHRR_SST_METOP_B-OSISAF-L2P-v1.0 AVHRR_SST_METOP_C-OSISAF-L2P-v1.0 SLSTRA-MAR-L2P-v1.0 SLSTRB-MAR-L2P-v1.0 ABI_G18-STAR-L3C-v2.90 SEVIRI_SST-OSISAF-L3C-v1.0 GOES16-OSISAF-L3C-v1.0 SEVIRI_IO_SST-OSISAF-L3C-v1.0 AHI_H09-STAR-L3C-v2.9 AMSR2-REMSS-L2P-v8.2</dd><dt><span>long_name :</span></dt><dd>source of sea surface temperature measurement</dd><dt><span>valid_range :</span></dt><dd>[  0 127]</dd><dt><span>coverage_content_type :</span></dt><dd>referenceInformation</dd></dl></div><div class='xr-var-data'><pre>[5760000 values with dtype=float32]</pre></div></li><li class='xr-var-item'><div class='xr-var-name'><span>sst_dtime</span></div><div class='xr-var-dims'>(time, lat, lon)</div><div class='xr-var-dtype'>float64</div><div class='xr-var-preview xr-preview'>...</div><input id='attrs-59821858-d0f5-4b8c-bace-fe4b2dfbffd8' class='xr-var-attrs-in' type='checkbox' ><label for='attrs-59821858-d0f5-4b8c-bace-fe4b2dfbffd8' title='Show/Hide attributes'><svg class='icon xr-icon-file-text2'><use xlink:href='#icon-file-text2'></use></svg></label><input id='data-632e84bd-22a5-4079-b4fc-9cc8adaacd62' class='xr-var-data-in' type='checkbox'><label for='data-632e84bd-22a5-4079-b4fc-9cc8adaacd62' title='Show/Hide data repr'><svg class='icon xr-icon-database'><use xlink:href='#icon-database'></use></svg></label><div class='xr-var-attrs'><dl class='xr-attrs'><dt><span>long_name :</span></dt><dd>time difference from reference time</dd><dt><span>comment :</span></dt><dd>time plus sst_dtime gives each measurement time</dd><dt><span>units :</span></dt><dd>second</dd><dt><span>coverage_content_type :</span></dt><dd>coordinate</dd></dl></div><div class='xr-var-data'><pre>[5760000 values with dtype=float64]</pre></div></li></ul></div></li><li class='xr-section-item'><input id='section-0ebae6c6-64ba-4389-8083-fed59d311869' class='xr-section-summary-in' type='checkbox'  ><label for='section-0ebae6c6-64ba-4389-8083-fed59d311869' class='xr-section-summary' >Indexes: <span>(3)</span></label><div class='xr-section-inline-details'></div><div class='xr-section-details'><ul class='xr-var-list'><li class='xr-var-item'><div class='xr-index-name'><div>lat</div></div><div class='xr-index-preview'>PandasIndex</div><div></div><input id='index-537253ed-4699-44be-82b7-0c7f1608afa2' class='xr-index-data-in' type='checkbox'/><label for='index-537253ed-4699-44be-82b7-0c7f1608afa2' title='Show/Hide index repr'><svg class='icon xr-icon-database'><use xlink:href='#icon-database'></use></svg></label><div class='xr-index-data'><pre>PandasIndex(Index([-79.94999694824219,  -79.8499984741211,             -79.75,\n",
       "        -79.6500015258789, -79.55000305175781, -79.44999694824219,\n",
       "        -79.3499984741211,             -79.25,  -79.1500015258789,\n",
       "       -79.05000305175781,\n",
       "       ...\n",
       "        79.05000305175781,   79.1500015258789,              79.25,\n",
       "         79.3499984741211,  79.44999694824219,  79.55000305175781,\n",
       "         79.6500015258789,              79.75,   79.8499984741211,\n",
       "        79.94999694824219],\n",
       "      dtype=&#x27;float32&#x27;, name=&#x27;lat&#x27;, length=1600))</pre></div></li><li class='xr-var-item'><div class='xr-index-name'><div>lon</div></div><div class='xr-index-preview'>PandasIndex</div><div></div><input id='index-0e24e9f4-1c37-4a46-89ba-8ebe694649f3' class='xr-index-data-in' type='checkbox'/><label for='index-0e24e9f4-1c37-4a46-89ba-8ebe694649f3' title='Show/Hide index repr'><svg class='icon xr-icon-database'><use xlink:href='#icon-database'></use></svg></label><div class='xr-index-data'><pre>PandasIndex(Index([ -179.9499969482422, -179.85000610351562,             -179.75,\n",
       "       -179.64999389648438,  -179.5500030517578,  -179.4499969482422,\n",
       "       -179.35000610351562,             -179.25, -179.14999389648438,\n",
       "        -179.0500030517578,\n",
       "       ...\n",
       "         179.0500030517578,  179.14999389648438,              179.25,\n",
       "        179.35000610351562,   179.4499969482422,   179.5500030517578,\n",
       "        179.64999389648438,              179.75,  179.85000610351562,\n",
       "         179.9499969482422],\n",
       "      dtype=&#x27;float32&#x27;, name=&#x27;lon&#x27;, length=3600))</pre></div></li><li class='xr-var-item'><div class='xr-index-name'><div>time</div></div><div class='xr-index-preview'>PandasIndex</div><div></div><input id='index-76fdfebd-1a7c-415d-b259-3b381b55e54b' class='xr-index-data-in' type='checkbox'/><label for='index-76fdfebd-1a7c-415d-b259-3b381b55e54b' title='Show/Hide index repr'><svg class='icon xr-icon-database'><use xlink:href='#icon-database'></use></svg></label><div class='xr-index-data'><pre>PandasIndex(DatetimeIndex([&#x27;2024-05-31&#x27;], dtype=&#x27;datetime64[ns]&#x27;, name=&#x27;time&#x27;, freq=None))</pre></div></li></ul></div></li><li class='xr-section-item'><input id='section-1fa80684-e571-4f39-9f4b-7e17cb2046b8' class='xr-section-summary-in' type='checkbox'  ><label for='section-1fa80684-e571-4f39-9f4b-7e17cb2046b8' class='xr-section-summary' >Attributes: <span>(74)</span></label><div class='xr-section-inline-details'></div><div class='xr-section-details'><dl class='xr-attrs'><dt><span>file_quality_level :</span></dt><dd>3</dd><dt><span>title :</span></dt><dd>ODYSSEA Global Sea Surface Temperature Gridded Level 3S Daily Multi-Sensor Observations</dd><dt><span>id :</span></dt><dd>ODYSSEA-IFR-L3S-GLO_010-v3</dd><dt><span>cmems_product_id :</span></dt><dd>SST_GLO_SST_L3S_NRT_OBSERVATIONS_010_010</dd><dt><span>reference :</span></dt><dd>Product User Manual for L3S Odyssea Product over the Global Ocean, v2.1, Nov 2023, https://catalogue.marine.copernicus.eu/documents/PUM/CMEMS-SST-PUM-010-010.pdf</dd><dt><span>summary :</span></dt><dd>This dataset provide a times series of daily multi-sensor composite fields of Sea Surface Temperature (SST) foundation at high resolution (HR) on a 0.10 x 0.10 degree grid (approximately 10 x 10 km) for the Global ocean, every 24 hours. It is produced for the Copernicus Marine Service.</dd><dt><span>metadata_link :</span></dt><dd>https://resources.marine.copernicus.eu/product-detail/SST_GLO_SST_L3S_NRT_OBSERVATIONS_010_010/INFORMATION</dd><dt><span>date_metadata_modified :</span></dt><dd>2023-11-01T00:00:00Z</dd><dt><span>doi :</span></dt><dd>https://doi.org/10.48670/moi-00164</dd><dt><span>processing_level :</span></dt><dd>L3S</dd><dt><span>publisher_institution :</span></dt><dd>Copernicus Marine Service</dd><dt><span>publisher_name :</span></dt><dd>Copernicus Marine Service</dd><dt><span>publisher_url :</span></dt><dd>https://marine.copernicus.eu</dd><dt><span>product_version :</span></dt><dd>1.0</dd><dt><span>geospatial_bounds :</span></dt><dd>POLYGON ((-180.0 -80.0, 180.0 -80.0, 180.0 80.0, -180.0 80.0, -180.0 -80.0))</dd><dt><span>geospatial_lat_max :</span></dt><dd>80.0</dd><dt><span>geospatial_lat_min :</span></dt><dd>-80.0</dd><dt><span>geospatial_lon_max :</span></dt><dd>180.0</dd><dt><span>geospatial_lon_min :</span></dt><dd>-180.0</dd><dt><span>spatial_resolution :</span></dt><dd>0.10 degree</dd><dt><span>geospatial_lat_resolution :</span></dt><dd>0.1</dd><dt><span>geospatial_lon_resolution :</span></dt><dd>0.1</dd><dt><span>geospatial_bounds_crs :</span></dt><dd>EPSG:4326</dd><dt><span>cdm_data_type :</span></dt><dd>grid</dd><dt><span>time_coverage_start :</span></dt><dd>2024-05-30T12:00:00Z</dd><dt><span>time_coverage_end :</span></dt><dd>2024-05-31T12:00:00Z</dd><dt><span>platform :</span></dt><dd>[&#x27;NPP&#x27;, &#x27;NOAA-20&#x27;, &#x27;Metop-B&#x27;, &#x27;Metop-C&#x27;, &#x27;Sentinel-3A&#x27;, &#x27;Sentinel-3B&#x27;, &#x27;GOES-18&#x27;, &#x27;Meteosat-10&#x27;, &#x27;GOES-16&#x27;, &#x27;Meteosat-9&#x27;, &#x27;Himawari-9&#x27;, &#x27;GCOM-W&#x27;]</dd><dt><span>platform_type :</span></dt><dd>[&#x27;polar_orbiter&#x27;, &#x27;polar_orbiter&#x27;, &#x27;polar_orbiter&#x27;, &#x27;polar_orbiter&#x27;, &#x27;polar_orbiter&#x27;, &#x27;polar_orbiter&#x27;, &#x27;geostationary&#x27;, &#x27;geostationary&#x27;, &#x27;geostationary&#x27;, &#x27;geostationary&#x27;, &#x27;geostationary&#x27;, &#x27;polar_orbiter&#x27;]</dd><dt><span>instrument :</span></dt><dd>[&#x27;VIIRS&#x27;, &#x27;VIIRS&#x27;, &#x27;AVHRR/3&#x27;, &#x27;AVHRR/3&#x27;, &#x27;SLSTR&#x27;, &#x27;SLSTR&#x27;, &#x27;ABI&#x27;, &#x27;SEVIRI&#x27;, &#x27;ABI&#x27;, &#x27;SEVIRI&#x27;, &#x27;AHI&#x27;, &#x27;AMSR-2&#x27;]</dd><dt><span>instrument_type :</span></dt><dd>[&#x27;radiometer&#x27;, &#x27;radiometer&#x27;, &#x27;radiometer&#x27;, &#x27;radiometer&#x27;, &#x27;radiometer&#x27;, &#x27;radiometer&#x27;, &#x27;radiometer&#x27;, &#x27;radiometer&#x27;, &#x27;radiometer&#x27;, &#x27;radiometer&#x27;, &#x27;radiometer&#x27;, &#x27;radiometer&#x27;]</dd><dt><span>band :</span></dt><dd>[&#x27;infrared&#x27;, &#x27;infrared&#x27;, &#x27;infrared&#x27;, &#x27;infrared&#x27;, &#x27;infrared&#x27;, &#x27;infrared&#x27;, &#x27;infrared&#x27;, &#x27;infrared&#x27;, &#x27;infrared&#x27;, &#x27;infrared&#x27;, &#x27;infrared&#x27;, &#x27;microwave&#x27;]</dd><dt><span>uuid :</span></dt><dd>067971c6-1fe2-11ef-8ab2-0cc47a3f700f</dd><dt><span>date_created :</span></dt><dd>2024-06-01T06:41:50Z</dd><dt><span>date_modified :</span></dt><dd>2024-06-01T06:41:50Z</dd><dt><span>date_issued :</span></dt><dd>2024-06-01T06:41:50Z</dd><dt><span>netcdf_version_id :</span></dt><dd>4.9.2 of Sep  1 2023 15:18:59 $</dd><dt><span>keywords :</span></dt><dd>Oceans &gt; Ocean Temperature &gt; Sea Surface Temperature</dd><dt><span>acknowledgment :</span></dt><dd>Please acknowledge the use of these data with the following statement: this dataset is produced by the Centre de Recherche et d&#x27;Exploitation Satellitaire (CERSAT), at Ifremer, Plouzane (France): It is funded and distributed by Copernicus Marine Service</dd><dt><span>Conventions :</span></dt><dd>CF-1.7, ACDD-1.3, ISO 8601</dd><dt><span>standard_name_vocabulary :</span></dt><dd>Climate and Forecast (CF) Standard Name Table v79</dd><dt><span>naming_authority :</span></dt><dd>org.ghrsst</dd><dt><span>Metadata_Conventions :</span></dt><dd>Climate and Forecast (CF) 1.7, Attribute Convention for Data Discovery (ACDD) 1.3</dd><dt><span>keywords_vocabulary :</span></dt><dd>NASA Global Change Master Directory (GCMD) Science Keywords</dd><dt><span>format_version :</span></dt><dd>GHRSST GDS v2.1</dd><dt><span>gds_version_id :</span></dt><dd>2.1</dd><dt><span>platform_vocabulary :</span></dt><dd>CEOS mission table</dd><dt><span>instrument_vocabulary :</span></dt><dd>CEOS instrument table</dd><dt><span>institution :</span></dt><dd>Institut Francais de Recherche pour l&#x27;Exploitation de la mer / Centre d&#x27;Exploitation et de Recherche Satellitaire</dd><dt><span>institution_abbreviation :</span></dt><dd>Ifremer / CERSAT</dd><dt><span>project :</span></dt><dd>Group for High Resolution Sea Surface Temperature (GHRSST), Copernicus Marine Service (CMEMS)</dd><dt><span>program :</span></dt><dd>Copernicus</dd><dt><span>license :</span></dt><dd>These data are available free of charge under the CMEMS data policy, refer to http://marine.copernicus.eu/services-portfolio/service-commitments-and-licence/</dd><dt><span>creator_name :</span></dt><dd>CERSAT</dd><dt><span>creator_url :</span></dt><dd>http://cersat.ifremer.fr</dd><dt><span>creator_email :</span></dt><dd>cersat@ifremer.fr</dd><dt><span>creator_type :</span></dt><dd>institution</dd><dt><span>creator_institution :</span></dt><dd>Ifremer</dd><dt><span>contributor_name :</span></dt><dd>Jean-Francois Piolle, Emmanuelle Autret</dd><dt><span>contributor_role :</span></dt><dd>principal investigator</dd><dt><span>contact :</span></dt><dd>emmanuelle.autret@ifremer.fr;jfpiolle@ifremer.fr</dd><dt><span>technical_support_contact :</span></dt><dd>cersat@ifremer.fr</dd><dt><span>scientific_support_contact :</span></dt><dd>emmanuelle.autret@ifremer.fr;jfpiolle@ifremer.fr</dd><dt><span>processing_software :</span></dt><dd>Telemachus 3.1.2</dd><dt><span>source :</span></dt><dd>ODYSSEA</dd><dt><span>source_version :</span></dt><dd>3.0.2</dd><dt><span>history :</span></dt><dd>file originally produced by Ifremer/CERSAT with ODYSSEA system 3.0.2</dd><dt><span>geospatial_bounds_vertical_crs :</span></dt><dd>EPSG:5831</dd><dt><span>geospatial_lat_units :</span></dt><dd>degrees_north</dd><dt><span>geospatial_lon_units :</span></dt><dd>degrees_east</dd><dt><span>geospatial_vertical_min :</span></dt><dd>0.0</dd><dt><span>geospatial_vertical_max :</span></dt><dd>0.0</dd><dt><span>temporal_resolution :</span></dt><dd>daily</dd><dt><span>time_coverage_resolution :</span></dt><dd>P1D</dd><dt><span>time_coverage_duration :</span></dt><dd>P1D</dd></dl></div></li></ul></div></div>"
      ],
      "text/plain": [
       "<xarray.Dataset>\n",
       "Dimensions:                           (lat: 1600, lon: 3600, time: 1)\n",
       "Coordinates:\n",
       "  * lat                               (lat) float32 -79.95 -79.85 ... 79.95\n",
       "  * lon                               (lon) float32 -179.9 -179.9 ... 179.9\n",
       "  * time                              (time) datetime64[ns] 2024-05-31\n",
       "Data variables: (12/15)\n",
       "    crs                               int64 ...\n",
       "    sea_surface_temperature           (time, lat, lon) float32 ...\n",
       "    or_number_of_pixels               (time, lat, lon) float32 ...\n",
       "    sea_surface_temperature_stddev    (time, lat, lon) float32 ...\n",
       "    quality_level                     (time, lat, lon) float32 ...\n",
       "    sses_bias                         (time, lat, lon) float32 ...\n",
       "    ...                                ...\n",
       "    or_longitude                      (time, lat, lon) float32 ...\n",
       "    adjusted_sea_surface_temperature  (time, lat, lon) float32 ...\n",
       "    solar_zenith_angle                (time, lat, lon) float32 ...\n",
       "    bias_to_reference_sst             (time, lat, lon) float32 ...\n",
       "    sources_of_sst                    (time, lat, lon) float32 ...\n",
       "    sst_dtime                         (time, lat, lon) float64 ...\n",
       "Attributes: (12/74)\n",
       "    file_quality_level:              3\n",
       "    title:                           ODYSSEA Global Sea Surface Temperature G...\n",
       "    id:                              ODYSSEA-IFR-L3S-GLO_010-v3\n",
       "    cmems_product_id:                SST_GLO_SST_L3S_NRT_OBSERVATIONS_010_010\n",
       "    reference:                       Product User Manual for L3S Odyssea Prod...\n",
       "    summary:                         This dataset provide a times series of d...\n",
       "    ...                              ...\n",
       "    geospatial_lon_units:            degrees_east\n",
       "    geospatial_vertical_min:         0.0\n",
       "    geospatial_vertical_max:         0.0\n",
       "    temporal_resolution:             daily\n",
       "    time_coverage_resolution:        P1D\n",
       "    time_coverage_duration:          P1D"
      ]
     },
     "execution_count": 16,
     "metadata": {},
     "output_type": "execute_result"
    }
   ],
   "source": [
    "ds"
   ]
  },
  {
   "cell_type": "code",
   "execution_count": 17,
   "id": "1321db31-8a0a-4fe3-83d9-93e706db74a0",
   "metadata": {
    "tags": []
   },
   "outputs": [],
   "source": [
    "lat_bnds, lon_bnds = [53, 66], [10, 30]\n",
    "baltic_sea_subset=ds.sel(lat=slice(*lat_bnds), lon=slice(*lon_bnds))"
   ]
  },
  {
   "cell_type": "code",
   "execution_count": 18,
   "id": "683c868e-a36e-4bac-b143-226374cdf5c2",
   "metadata": {
    "tags": []
   },
   "outputs": [
    {
     "data": {
      "text/html": [
       "<div><svg style=\"position: absolute; width: 0; height: 0; overflow: hidden\">\n",
       "<defs>\n",
       "<symbol id=\"icon-database\" viewBox=\"0 0 32 32\">\n",
       "<path d=\"M16 0c-8.837 0-16 2.239-16 5v4c0 2.761 7.163 5 16 5s16-2.239 16-5v-4c0-2.761-7.163-5-16-5z\"></path>\n",
       "<path d=\"M16 17c-8.837 0-16-2.239-16-5v6c0 2.761 7.163 5 16 5s16-2.239 16-5v-6c0 2.761-7.163 5-16 5z\"></path>\n",
       "<path d=\"M16 26c-8.837 0-16-2.239-16-5v6c0 2.761 7.163 5 16 5s16-2.239 16-5v-6c0 2.761-7.163 5-16 5z\"></path>\n",
       "</symbol>\n",
       "<symbol id=\"icon-file-text2\" viewBox=\"0 0 32 32\">\n",
       "<path d=\"M28.681 7.159c-0.694-0.947-1.662-2.053-2.724-3.116s-2.169-2.030-3.116-2.724c-1.612-1.182-2.393-1.319-2.841-1.319h-15.5c-1.378 0-2.5 1.121-2.5 2.5v27c0 1.378 1.122 2.5 2.5 2.5h23c1.378 0 2.5-1.122 2.5-2.5v-19.5c0-0.448-0.137-1.23-1.319-2.841zM24.543 5.457c0.959 0.959 1.712 1.825 2.268 2.543h-4.811v-4.811c0.718 0.556 1.584 1.309 2.543 2.268zM28 29.5c0 0.271-0.229 0.5-0.5 0.5h-23c-0.271 0-0.5-0.229-0.5-0.5v-27c0-0.271 0.229-0.5 0.5-0.5 0 0 15.499-0 15.5 0v7c0 0.552 0.448 1 1 1h7v19.5z\"></path>\n",
       "<path d=\"M23 26h-14c-0.552 0-1-0.448-1-1s0.448-1 1-1h14c0.552 0 1 0.448 1 1s-0.448 1-1 1z\"></path>\n",
       "<path d=\"M23 22h-14c-0.552 0-1-0.448-1-1s0.448-1 1-1h14c0.552 0 1 0.448 1 1s-0.448 1-1 1z\"></path>\n",
       "<path d=\"M23 18h-14c-0.552 0-1-0.448-1-1s0.448-1 1-1h14c0.552 0 1 0.448 1 1s-0.448 1-1 1z\"></path>\n",
       "</symbol>\n",
       "</defs>\n",
       "</svg>\n",
       "<style>/* CSS stylesheet for displaying xarray objects in jupyterlab.\n",
       " *\n",
       " */\n",
       "\n",
       ":root {\n",
       "  --xr-font-color0: var(--jp-content-font-color0, rgba(0, 0, 0, 1));\n",
       "  --xr-font-color2: var(--jp-content-font-color2, rgba(0, 0, 0, 0.54));\n",
       "  --xr-font-color3: var(--jp-content-font-color3, rgba(0, 0, 0, 0.38));\n",
       "  --xr-border-color: var(--jp-border-color2, #e0e0e0);\n",
       "  --xr-disabled-color: var(--jp-layout-color3, #bdbdbd);\n",
       "  --xr-background-color: var(--jp-layout-color0, white);\n",
       "  --xr-background-color-row-even: var(--jp-layout-color1, white);\n",
       "  --xr-background-color-row-odd: var(--jp-layout-color2, #eeeeee);\n",
       "}\n",
       "\n",
       "html[theme=dark],\n",
       "body[data-theme=dark],\n",
       "body.vscode-dark {\n",
       "  --xr-font-color0: rgba(255, 255, 255, 1);\n",
       "  --xr-font-color2: rgba(255, 255, 255, 0.54);\n",
       "  --xr-font-color3: rgba(255, 255, 255, 0.38);\n",
       "  --xr-border-color: #1F1F1F;\n",
       "  --xr-disabled-color: #515151;\n",
       "  --xr-background-color: #111111;\n",
       "  --xr-background-color-row-even: #111111;\n",
       "  --xr-background-color-row-odd: #313131;\n",
       "}\n",
       "\n",
       ".xr-wrap {\n",
       "  display: block !important;\n",
       "  min-width: 300px;\n",
       "  max-width: 700px;\n",
       "}\n",
       "\n",
       ".xr-text-repr-fallback {\n",
       "  /* fallback to plain text repr when CSS is not injected (untrusted notebook) */\n",
       "  display: none;\n",
       "}\n",
       "\n",
       ".xr-header {\n",
       "  padding-top: 6px;\n",
       "  padding-bottom: 6px;\n",
       "  margin-bottom: 4px;\n",
       "  border-bottom: solid 1px var(--xr-border-color);\n",
       "}\n",
       "\n",
       ".xr-header > div,\n",
       ".xr-header > ul {\n",
       "  display: inline;\n",
       "  margin-top: 0;\n",
       "  margin-bottom: 0;\n",
       "}\n",
       "\n",
       ".xr-obj-type,\n",
       ".xr-array-name {\n",
       "  margin-left: 2px;\n",
       "  margin-right: 10px;\n",
       "}\n",
       "\n",
       ".xr-obj-type {\n",
       "  color: var(--xr-font-color2);\n",
       "}\n",
       "\n",
       ".xr-sections {\n",
       "  padding-left: 0 !important;\n",
       "  display: grid;\n",
       "  grid-template-columns: 150px auto auto 1fr 20px 20px;\n",
       "}\n",
       "\n",
       ".xr-section-item {\n",
       "  display: contents;\n",
       "}\n",
       "\n",
       ".xr-section-item input {\n",
       "  display: none;\n",
       "}\n",
       "\n",
       ".xr-section-item input + label {\n",
       "  color: var(--xr-disabled-color);\n",
       "}\n",
       "\n",
       ".xr-section-item input:enabled + label {\n",
       "  cursor: pointer;\n",
       "  color: var(--xr-font-color2);\n",
       "}\n",
       "\n",
       ".xr-section-item input:enabled + label:hover {\n",
       "  color: var(--xr-font-color0);\n",
       "}\n",
       "\n",
       ".xr-section-summary {\n",
       "  grid-column: 1;\n",
       "  color: var(--xr-font-color2);\n",
       "  font-weight: 500;\n",
       "}\n",
       "\n",
       ".xr-section-summary > span {\n",
       "  display: inline-block;\n",
       "  padding-left: 0.5em;\n",
       "}\n",
       "\n",
       ".xr-section-summary-in:disabled + label {\n",
       "  color: var(--xr-font-color2);\n",
       "}\n",
       "\n",
       ".xr-section-summary-in + label:before {\n",
       "  display: inline-block;\n",
       "  content: '►';\n",
       "  font-size: 11px;\n",
       "  width: 15px;\n",
       "  text-align: center;\n",
       "}\n",
       "\n",
       ".xr-section-summary-in:disabled + label:before {\n",
       "  color: var(--xr-disabled-color);\n",
       "}\n",
       "\n",
       ".xr-section-summary-in:checked + label:before {\n",
       "  content: '▼';\n",
       "}\n",
       "\n",
       ".xr-section-summary-in:checked + label > span {\n",
       "  display: none;\n",
       "}\n",
       "\n",
       ".xr-section-summary,\n",
       ".xr-section-inline-details {\n",
       "  padding-top: 4px;\n",
       "  padding-bottom: 4px;\n",
       "}\n",
       "\n",
       ".xr-section-inline-details {\n",
       "  grid-column: 2 / -1;\n",
       "}\n",
       "\n",
       ".xr-section-details {\n",
       "  display: none;\n",
       "  grid-column: 1 / -1;\n",
       "  margin-bottom: 5px;\n",
       "}\n",
       "\n",
       ".xr-section-summary-in:checked ~ .xr-section-details {\n",
       "  display: contents;\n",
       "}\n",
       "\n",
       ".xr-array-wrap {\n",
       "  grid-column: 1 / -1;\n",
       "  display: grid;\n",
       "  grid-template-columns: 20px auto;\n",
       "}\n",
       "\n",
       ".xr-array-wrap > label {\n",
       "  grid-column: 1;\n",
       "  vertical-align: top;\n",
       "}\n",
       "\n",
       ".xr-preview {\n",
       "  color: var(--xr-font-color3);\n",
       "}\n",
       "\n",
       ".xr-array-preview,\n",
       ".xr-array-data {\n",
       "  padding: 0 5px !important;\n",
       "  grid-column: 2;\n",
       "}\n",
       "\n",
       ".xr-array-data,\n",
       ".xr-array-in:checked ~ .xr-array-preview {\n",
       "  display: none;\n",
       "}\n",
       "\n",
       ".xr-array-in:checked ~ .xr-array-data,\n",
       ".xr-array-preview {\n",
       "  display: inline-block;\n",
       "}\n",
       "\n",
       ".xr-dim-list {\n",
       "  display: inline-block !important;\n",
       "  list-style: none;\n",
       "  padding: 0 !important;\n",
       "  margin: 0;\n",
       "}\n",
       "\n",
       ".xr-dim-list li {\n",
       "  display: inline-block;\n",
       "  padding: 0;\n",
       "  margin: 0;\n",
       "}\n",
       "\n",
       ".xr-dim-list:before {\n",
       "  content: '(';\n",
       "}\n",
       "\n",
       ".xr-dim-list:after {\n",
       "  content: ')';\n",
       "}\n",
       "\n",
       ".xr-dim-list li:not(:last-child):after {\n",
       "  content: ',';\n",
       "  padding-right: 5px;\n",
       "}\n",
       "\n",
       ".xr-has-index {\n",
       "  font-weight: bold;\n",
       "}\n",
       "\n",
       ".xr-var-list,\n",
       ".xr-var-item {\n",
       "  display: contents;\n",
       "}\n",
       "\n",
       ".xr-var-item > div,\n",
       ".xr-var-item label,\n",
       ".xr-var-item > .xr-var-name span {\n",
       "  background-color: var(--xr-background-color-row-even);\n",
       "  margin-bottom: 0;\n",
       "}\n",
       "\n",
       ".xr-var-item > .xr-var-name:hover span {\n",
       "  padding-right: 5px;\n",
       "}\n",
       "\n",
       ".xr-var-list > li:nth-child(odd) > div,\n",
       ".xr-var-list > li:nth-child(odd) > label,\n",
       ".xr-var-list > li:nth-child(odd) > .xr-var-name span {\n",
       "  background-color: var(--xr-background-color-row-odd);\n",
       "}\n",
       "\n",
       ".xr-var-name {\n",
       "  grid-column: 1;\n",
       "}\n",
       "\n",
       ".xr-var-dims {\n",
       "  grid-column: 2;\n",
       "}\n",
       "\n",
       ".xr-var-dtype {\n",
       "  grid-column: 3;\n",
       "  text-align: right;\n",
       "  color: var(--xr-font-color2);\n",
       "}\n",
       "\n",
       ".xr-var-preview {\n",
       "  grid-column: 4;\n",
       "}\n",
       "\n",
       ".xr-index-preview {\n",
       "  grid-column: 2 / 5;\n",
       "  color: var(--xr-font-color2);\n",
       "}\n",
       "\n",
       ".xr-var-name,\n",
       ".xr-var-dims,\n",
       ".xr-var-dtype,\n",
       ".xr-preview,\n",
       ".xr-attrs dt {\n",
       "  white-space: nowrap;\n",
       "  overflow: hidden;\n",
       "  text-overflow: ellipsis;\n",
       "  padding-right: 10px;\n",
       "}\n",
       "\n",
       ".xr-var-name:hover,\n",
       ".xr-var-dims:hover,\n",
       ".xr-var-dtype:hover,\n",
       ".xr-attrs dt:hover {\n",
       "  overflow: visible;\n",
       "  width: auto;\n",
       "  z-index: 1;\n",
       "}\n",
       "\n",
       ".xr-var-attrs,\n",
       ".xr-var-data,\n",
       ".xr-index-data {\n",
       "  display: none;\n",
       "  background-color: var(--xr-background-color) !important;\n",
       "  padding-bottom: 5px !important;\n",
       "}\n",
       "\n",
       ".xr-var-attrs-in:checked ~ .xr-var-attrs,\n",
       ".xr-var-data-in:checked ~ .xr-var-data,\n",
       ".xr-index-data-in:checked ~ .xr-index-data {\n",
       "  display: block;\n",
       "}\n",
       "\n",
       ".xr-var-data > table {\n",
       "  float: right;\n",
       "}\n",
       "\n",
       ".xr-var-name span,\n",
       ".xr-var-data,\n",
       ".xr-index-name div,\n",
       ".xr-index-data,\n",
       ".xr-attrs {\n",
       "  padding-left: 25px !important;\n",
       "}\n",
       "\n",
       ".xr-attrs,\n",
       ".xr-var-attrs,\n",
       ".xr-var-data,\n",
       ".xr-index-data {\n",
       "  grid-column: 1 / -1;\n",
       "}\n",
       "\n",
       "dl.xr-attrs {\n",
       "  padding: 0;\n",
       "  margin: 0;\n",
       "  display: grid;\n",
       "  grid-template-columns: 125px auto;\n",
       "}\n",
       "\n",
       ".xr-attrs dt,\n",
       ".xr-attrs dd {\n",
       "  padding: 0;\n",
       "  margin: 0;\n",
       "  float: left;\n",
       "  padding-right: 10px;\n",
       "  width: auto;\n",
       "}\n",
       "\n",
       ".xr-attrs dt {\n",
       "  font-weight: normal;\n",
       "  grid-column: 1;\n",
       "}\n",
       "\n",
       ".xr-attrs dt:hover span {\n",
       "  display: inline-block;\n",
       "  background: var(--xr-background-color);\n",
       "  padding-right: 10px;\n",
       "}\n",
       "\n",
       ".xr-attrs dd {\n",
       "  grid-column: 2;\n",
       "  white-space: pre-wrap;\n",
       "  word-break: break-all;\n",
       "}\n",
       "\n",
       ".xr-icon-database,\n",
       ".xr-icon-file-text2,\n",
       ".xr-no-icon {\n",
       "  display: inline-block;\n",
       "  vertical-align: middle;\n",
       "  width: 1em;\n",
       "  height: 1.5em !important;\n",
       "  stroke-width: 0;\n",
       "  stroke: currentColor;\n",
       "  fill: currentColor;\n",
       "}\n",
       "</style><pre class='xr-text-repr-fallback'>&lt;xarray.Dataset&gt;\n",
       "Dimensions:                           (lat: 130, lon: 200, time: 1)\n",
       "Coordinates:\n",
       "  * lat                               (lat) float32 53.05 53.15 ... 65.85 65.95\n",
       "  * lon                               (lon) float32 10.05 10.15 ... 29.85 29.95\n",
       "  * time                              (time) datetime64[ns] 2024-05-31\n",
       "Data variables: (12/15)\n",
       "    crs                               int64 ...\n",
       "    sea_surface_temperature           (time, lat, lon) float32 ...\n",
       "    or_number_of_pixels               (time, lat, lon) float32 ...\n",
       "    sea_surface_temperature_stddev    (time, lat, lon) float32 ...\n",
       "    quality_level                     (time, lat, lon) float32 ...\n",
       "    sses_bias                         (time, lat, lon) float32 ...\n",
       "    ...                                ...\n",
       "    or_longitude                      (time, lat, lon) float32 ...\n",
       "    adjusted_sea_surface_temperature  (time, lat, lon) float32 ...\n",
       "    solar_zenith_angle                (time, lat, lon) float32 ...\n",
       "    bias_to_reference_sst             (time, lat, lon) float32 ...\n",
       "    sources_of_sst                    (time, lat, lon) float32 ...\n",
       "    sst_dtime                         (time, lat, lon) float64 ...\n",
       "Attributes: (12/74)\n",
       "    file_quality_level:              3\n",
       "    title:                           ODYSSEA Global Sea Surface Temperature G...\n",
       "    id:                              ODYSSEA-IFR-L3S-GLO_010-v3\n",
       "    cmems_product_id:                SST_GLO_SST_L3S_NRT_OBSERVATIONS_010_010\n",
       "    reference:                       Product User Manual for L3S Odyssea Prod...\n",
       "    summary:                         This dataset provide a times series of d...\n",
       "    ...                              ...\n",
       "    geospatial_lon_units:            degrees_east\n",
       "    geospatial_vertical_min:         0.0\n",
       "    geospatial_vertical_max:         0.0\n",
       "    temporal_resolution:             daily\n",
       "    time_coverage_resolution:        P1D\n",
       "    time_coverage_duration:          P1D</pre><div class='xr-wrap' style='display:none'><div class='xr-header'><div class='xr-obj-type'>xarray.Dataset</div></div><ul class='xr-sections'><li class='xr-section-item'><input id='section-1685b623-8203-4dfc-9b51-adac7e5294b8' class='xr-section-summary-in' type='checkbox' disabled ><label for='section-1685b623-8203-4dfc-9b51-adac7e5294b8' class='xr-section-summary'  title='Expand/collapse section'>Dimensions:</label><div class='xr-section-inline-details'><ul class='xr-dim-list'><li><span class='xr-has-index'>lat</span>: 130</li><li><span class='xr-has-index'>lon</span>: 200</li><li><span class='xr-has-index'>time</span>: 1</li></ul></div><div class='xr-section-details'></div></li><li class='xr-section-item'><input id='section-36273593-3506-445d-8e5a-0233262a0f9d' class='xr-section-summary-in' type='checkbox'  checked><label for='section-36273593-3506-445d-8e5a-0233262a0f9d' class='xr-section-summary' >Coordinates: <span>(3)</span></label><div class='xr-section-inline-details'></div><div class='xr-section-details'><ul class='xr-var-list'><li class='xr-var-item'><div class='xr-var-name'><span class='xr-has-index'>lat</span></div><div class='xr-var-dims'>(lat)</div><div class='xr-var-dtype'>float32</div><div class='xr-var-preview xr-preview'>53.05 53.15 53.25 ... 65.85 65.95</div><input id='attrs-61ddf0da-987e-4d9f-ba29-632ebf47db81' class='xr-var-attrs-in' type='checkbox' ><label for='attrs-61ddf0da-987e-4d9f-ba29-632ebf47db81' title='Show/Hide attributes'><svg class='icon xr-icon-file-text2'><use xlink:href='#icon-file-text2'></use></svg></label><input id='data-4fa5e695-f7f0-4bc5-b05d-5714daef0117' class='xr-var-data-in' type='checkbox'><label for='data-4fa5e695-f7f0-4bc5-b05d-5714daef0117' title='Show/Hide data repr'><svg class='icon xr-icon-database'><use xlink:href='#icon-database'></use></svg></label><div class='xr-var-attrs'><dl class='xr-attrs'><dt><span>standard_name :</span></dt><dd>latitude</dd><dt><span>units :</span></dt><dd>degrees_north</dd><dt><span>axis :</span></dt><dd>Y</dd><dt><span>long_name :</span></dt><dd>latitude</dd><dt><span>authority :</span></dt><dd>CF-1.11, ACDD-1.3</dd><dt><span>valid_range :</span></dt><dd>[-90.  90.]</dd><dt><span>comment :</span></dt><dd>geographical coordinates, WGS84 projection</dd><dt><span>coverage_content_type :</span></dt><dd>coordinate</dd></dl></div><div class='xr-var-data'><pre>array([53.05, 53.15, 53.25, 53.35, 53.45, 53.55, 53.65, 53.75, 53.85, 53.95,\n",
       "       54.05, 54.15, 54.25, 54.35, 54.45, 54.55, 54.65, 54.75, 54.85, 54.95,\n",
       "       55.05, 55.15, 55.25, 55.35, 55.45, 55.55, 55.65, 55.75, 55.85, 55.95,\n",
       "       56.05, 56.15, 56.25, 56.35, 56.45, 56.55, 56.65, 56.75, 56.85, 56.95,\n",
       "       57.05, 57.15, 57.25, 57.35, 57.45, 57.55, 57.65, 57.75, 57.85, 57.95,\n",
       "       58.05, 58.15, 58.25, 58.35, 58.45, 58.55, 58.65, 58.75, 58.85, 58.95,\n",
       "       59.05, 59.15, 59.25, 59.35, 59.45, 59.55, 59.65, 59.75, 59.85, 59.95,\n",
       "       60.05, 60.15, 60.25, 60.35, 60.45, 60.55, 60.65, 60.75, 60.85, 60.95,\n",
       "       61.05, 61.15, 61.25, 61.35, 61.45, 61.55, 61.65, 61.75, 61.85, 61.95,\n",
       "       62.05, 62.15, 62.25, 62.35, 62.45, 62.55, 62.65, 62.75, 62.85, 62.95,\n",
       "       63.05, 63.15, 63.25, 63.35, 63.45, 63.55, 63.65, 63.75, 63.85, 63.95,\n",
       "       64.05, 64.15, 64.25, 64.35, 64.45, 64.55, 64.65, 64.75, 64.85, 64.95,\n",
       "       65.05, 65.15, 65.25, 65.35, 65.45, 65.55, 65.65, 65.75, 65.85, 65.95],\n",
       "      dtype=float32)</pre></div></li><li class='xr-var-item'><div class='xr-var-name'><span class='xr-has-index'>lon</span></div><div class='xr-var-dims'>(lon)</div><div class='xr-var-dtype'>float32</div><div class='xr-var-preview xr-preview'>10.05 10.15 10.25 ... 29.85 29.95</div><input id='attrs-d7271f55-8fef-408b-bd05-3d0db1be5c48' class='xr-var-attrs-in' type='checkbox' ><label for='attrs-d7271f55-8fef-408b-bd05-3d0db1be5c48' title='Show/Hide attributes'><svg class='icon xr-icon-file-text2'><use xlink:href='#icon-file-text2'></use></svg></label><input id='data-a5b19374-feda-42f4-959e-c8b015222d98' class='xr-var-data-in' type='checkbox'><label for='data-a5b19374-feda-42f4-959e-c8b015222d98' title='Show/Hide data repr'><svg class='icon xr-icon-database'><use xlink:href='#icon-database'></use></svg></label><div class='xr-var-attrs'><dl class='xr-attrs'><dt><span>standard_name :</span></dt><dd>longitude</dd><dt><span>units :</span></dt><dd>degrees_east</dd><dt><span>axis :</span></dt><dd>X</dd><dt><span>long_name :</span></dt><dd>longitude</dd><dt><span>authority :</span></dt><dd>CF-1.11, ACDD-1.3</dd><dt><span>valid_range :</span></dt><dd>[-180.  180.]</dd><dt><span>comment :</span></dt><dd>geographical coordinates, WGS84 projection</dd><dt><span>coverage_content_type :</span></dt><dd>coordinate</dd></dl></div><div class='xr-var-data'><pre>array([10.05, 10.15, 10.25, 10.35, 10.45, 10.55, 10.65, 10.75, 10.85, 10.95,\n",
       "       11.05, 11.15, 11.25, 11.35, 11.45, 11.55, 11.65, 11.75, 11.85, 11.95,\n",
       "       12.05, 12.15, 12.25, 12.35, 12.45, 12.55, 12.65, 12.75, 12.85, 12.95,\n",
       "       13.05, 13.15, 13.25, 13.35, 13.45, 13.55, 13.65, 13.75, 13.85, 13.95,\n",
       "       14.05, 14.15, 14.25, 14.35, 14.45, 14.55, 14.65, 14.75, 14.85, 14.95,\n",
       "       15.05, 15.15, 15.25, 15.35, 15.45, 15.55, 15.65, 15.75, 15.85, 15.95,\n",
       "       16.05, 16.15, 16.25, 16.35, 16.45, 16.55, 16.65, 16.75, 16.85, 16.95,\n",
       "       17.05, 17.15, 17.25, 17.35, 17.45, 17.55, 17.65, 17.75, 17.85, 17.95,\n",
       "       18.05, 18.15, 18.25, 18.35, 18.45, 18.55, 18.65, 18.75, 18.85, 18.95,\n",
       "       19.05, 19.15, 19.25, 19.35, 19.45, 19.55, 19.65, 19.75, 19.85, 19.95,\n",
       "       20.05, 20.15, 20.25, 20.35, 20.45, 20.55, 20.65, 20.75, 20.85, 20.95,\n",
       "       21.05, 21.15, 21.25, 21.35, 21.45, 21.55, 21.65, 21.75, 21.85, 21.95,\n",
       "       22.05, 22.15, 22.25, 22.35, 22.45, 22.55, 22.65, 22.75, 22.85, 22.95,\n",
       "       23.05, 23.15, 23.25, 23.35, 23.45, 23.55, 23.65, 23.75, 23.85, 23.95,\n",
       "       24.05, 24.15, 24.25, 24.35, 24.45, 24.55, 24.65, 24.75, 24.85, 24.95,\n",
       "       25.05, 25.15, 25.25, 25.35, 25.45, 25.55, 25.65, 25.75, 25.85, 25.95,\n",
       "       26.05, 26.15, 26.25, 26.35, 26.45, 26.55, 26.65, 26.75, 26.85, 26.95,\n",
       "       27.05, 27.15, 27.25, 27.35, 27.45, 27.55, 27.65, 27.75, 27.85, 27.95,\n",
       "       28.05, 28.15, 28.25, 28.35, 28.45, 28.55, 28.65, 28.75, 28.85, 28.95,\n",
       "       29.05, 29.15, 29.25, 29.35, 29.45, 29.55, 29.65, 29.75, 29.85, 29.95],\n",
       "      dtype=float32)</pre></div></li><li class='xr-var-item'><div class='xr-var-name'><span class='xr-has-index'>time</span></div><div class='xr-var-dims'>(time)</div><div class='xr-var-dtype'>datetime64[ns]</div><div class='xr-var-preview xr-preview'>2024-05-31</div><input id='attrs-591521b4-41ac-43ef-822d-b4a0deaa1b73' class='xr-var-attrs-in' type='checkbox' ><label for='attrs-591521b4-41ac-43ef-822d-b4a0deaa1b73' title='Show/Hide attributes'><svg class='icon xr-icon-file-text2'><use xlink:href='#icon-file-text2'></use></svg></label><input id='data-08917876-8d67-4cd4-a604-667fb351cc71' class='xr-var-data-in' type='checkbox'><label for='data-08917876-8d67-4cd4-a604-667fb351cc71' title='Show/Hide data repr'><svg class='icon xr-icon-database'><use xlink:href='#icon-database'></use></svg></label><div class='xr-var-attrs'><dl class='xr-attrs'><dt><span>axis :</span></dt><dd>T</dd><dt><span>long_name :</span></dt><dd>reference time of sst file</dd><dt><span>standard_name :</span></dt><dd>time</dd><dt><span>authority :</span></dt><dd>CF-1.11, ACDD-1.3</dd><dt><span>coverage_content_type :</span></dt><dd>coordinate</dd></dl></div><div class='xr-var-data'><pre>array([&#x27;2024-05-31T00:00:00.000000000&#x27;], dtype=&#x27;datetime64[ns]&#x27;)</pre></div></li></ul></div></li><li class='xr-section-item'><input id='section-2cb7854c-082a-48b2-88c7-a4764495ce9e' class='xr-section-summary-in' type='checkbox'  ><label for='section-2cb7854c-082a-48b2-88c7-a4764495ce9e' class='xr-section-summary' >Data variables: <span>(15)</span></label><div class='xr-section-inline-details'></div><div class='xr-section-details'><ul class='xr-var-list'><li class='xr-var-item'><div class='xr-var-name'><span>crs</span></div><div class='xr-var-dims'>()</div><div class='xr-var-dtype'>int64</div><div class='xr-var-preview xr-preview'>...</div><input id='attrs-e77d5f84-e9ac-4ba3-9b33-248907bdb5f7' class='xr-var-attrs-in' type='checkbox' ><label for='attrs-e77d5f84-e9ac-4ba3-9b33-248907bdb5f7' title='Show/Hide attributes'><svg class='icon xr-icon-file-text2'><use xlink:href='#icon-file-text2'></use></svg></label><input id='data-cd9168ff-766d-4827-b40f-ccaa9773bfd1' class='xr-var-data-in' type='checkbox'><label for='data-cd9168ff-766d-4827-b40f-ccaa9773bfd1' title='Show/Hide data repr'><svg class='icon xr-icon-database'><use xlink:href='#icon-database'></use></svg></label><div class='xr-var-attrs'><dl class='xr-attrs'><dt><span>grid_mapping_name :</span></dt><dd>latitude_longitude</dd><dt><span>longitude_of_prime_meridian :</span></dt><dd>0.0</dd><dt><span>semi_major_axis :</span></dt><dd>6378137.0</dd><dt><span>inverse_flattening :</span></dt><dd>298.257223563</dd></dl></div><div class='xr-var-data'><pre>[1 values with dtype=int64]</pre></div></li><li class='xr-var-item'><div class='xr-var-name'><span>sea_surface_temperature</span></div><div class='xr-var-dims'>(time, lat, lon)</div><div class='xr-var-dtype'>float32</div><div class='xr-var-preview xr-preview'>...</div><input id='attrs-d5cff2de-556b-4e81-8db0-a59d05da65e5' class='xr-var-attrs-in' type='checkbox' ><label for='attrs-d5cff2de-556b-4e81-8db0-a59d05da65e5' title='Show/Hide attributes'><svg class='icon xr-icon-file-text2'><use xlink:href='#icon-file-text2'></use></svg></label><input id='data-7d6fc7f4-2b8b-4bb7-b3d8-71a73e311753' class='xr-var-data-in' type='checkbox'><label for='data-7d6fc7f4-2b8b-4bb7-b3d8-71a73e311753' title='Show/Hide data repr'><svg class='icon xr-icon-database'><use xlink:href='#icon-database'></use></svg></label><div class='xr-var-attrs'><dl class='xr-attrs'><dt><span>long_name :</span></dt><dd>sea surface foundation temperature</dd><dt><span>units :</span></dt><dd>K</dd><dt><span>standard_name :</span></dt><dd>sea_surface_foundation_temperature</dd><dt><span>coverage_content_type :</span></dt><dd>physicalMeasurement</dd><dt><span>binning_method :</span></dt><dd>mean</dd><dt><span>cell_methods :</span></dt><dd>lat: lon: mean (interval: 0.1 degree_N interval: 0.1 degree_E)</dd><dt><span>valid_range :</span></dt><dd>[-300 4500]</dd></dl></div><div class='xr-var-data'><pre>[26000 values with dtype=float32]</pre></div></li><li class='xr-var-item'><div class='xr-var-name'><span>or_number_of_pixels</span></div><div class='xr-var-dims'>(time, lat, lon)</div><div class='xr-var-dtype'>float32</div><div class='xr-var-preview xr-preview'>...</div><input id='attrs-52fba6f7-c3dd-4332-887e-3fae6f40c895' class='xr-var-attrs-in' type='checkbox' ><label for='attrs-52fba6f7-c3dd-4332-887e-3fae6f40c895' title='Show/Hide attributes'><svg class='icon xr-icon-file-text2'><use xlink:href='#icon-file-text2'></use></svg></label><input id='data-fb965933-afef-4a93-b08c-7771ee211da4' class='xr-var-data-in' type='checkbox'><label for='data-fb965933-afef-4a93-b08c-7771ee211da4' title='Show/Hide data repr'><svg class='icon xr-icon-database'><use xlink:href='#icon-database'></use></svg></label><div class='xr-var-attrs'><dl class='xr-attrs'><dt><span>long_name :</span></dt><dd>original number of pixels from the L2Ps contributing to the SST value</dd><dt><span>units :</span></dt><dd>1</dd><dt><span>standard_name :</span></dt><dd>sea_surface_foundation_temperature number_of_observations</dd><dt><span>coverage_content_type :</span></dt><dd>referenceInformation</dd><dt><span>binning_method :</span></dt><dd>count</dd><dt><span>valid_range :</span></dt><dd>[    0 32767]</dd></dl></div><div class='xr-var-data'><pre>[26000 values with dtype=float32]</pre></div></li><li class='xr-var-item'><div class='xr-var-name'><span>sea_surface_temperature_stddev</span></div><div class='xr-var-dims'>(time, lat, lon)</div><div class='xr-var-dtype'>float32</div><div class='xr-var-preview xr-preview'>...</div><input id='attrs-2de554d4-74ae-4b8e-8736-4e35333ffcfc' class='xr-var-attrs-in' type='checkbox' ><label for='attrs-2de554d4-74ae-4b8e-8736-4e35333ffcfc' title='Show/Hide attributes'><svg class='icon xr-icon-file-text2'><use xlink:href='#icon-file-text2'></use></svg></label><input id='data-7a8f646e-5581-498a-9927-d76a2dd00b49' class='xr-var-data-in' type='checkbox'><label for='data-7a8f646e-5581-498a-9927-d76a2dd00b49' title='Show/Hide data repr'><svg class='icon xr-icon-database'><use xlink:href='#icon-database'></use></svg></label><div class='xr-var-attrs'><dl class='xr-attrs'><dt><span>long_name :</span></dt><dd>sea_surface_subskin_temperature</dd><dt><span>units :</span></dt><dd>kelvin</dd><dt><span>standard_name :</span></dt><dd>sea_surface_subskin_temperature</dd><dt><span>coverage_content_type :</span></dt><dd>physicalMeasurement</dd><dt><span>binning_method :</span></dt><dd>std</dd><dt><span>cell_methods :</span></dt><dd>lat: lon: standard_deviation (interval: 0.1 degree_N interval: 0.1 degree_E)</dd></dl></div><div class='xr-var-data'><pre>[26000 values with dtype=float32]</pre></div></li><li class='xr-var-item'><div class='xr-var-name'><span>quality_level</span></div><div class='xr-var-dims'>(time, lat, lon)</div><div class='xr-var-dtype'>float32</div><div class='xr-var-preview xr-preview'>...</div><input id='attrs-8da34b5f-5b2e-4270-a284-9987332c66d9' class='xr-var-attrs-in' type='checkbox' ><label for='attrs-8da34b5f-5b2e-4270-a284-9987332c66d9' title='Show/Hide attributes'><svg class='icon xr-icon-file-text2'><use xlink:href='#icon-file-text2'></use></svg></label><input id='data-df1aa10a-ee5a-4b4b-bb30-33937e3c6cab' class='xr-var-data-in' type='checkbox'><label for='data-df1aa10a-ee5a-4b4b-bb30-33937e3c6cab' title='Show/Hide data repr'><svg class='icon xr-icon-database'><use xlink:href='#icon-database'></use></svg></label><div class='xr-var-attrs'><dl class='xr-attrs'><dt><span>flag_meanings :</span></dt><dd>no_data bad_data worst_quality low_quality acceptable_quality best_quality</dd><dt><span>flag_values :</span></dt><dd>[0 1 2 3 4 5]</dd><dt><span>long_name :</span></dt><dd>quality level of SST pixel</dd><dt><span>coverage_content_type :</span></dt><dd>qualityInformation</dd><dt><span>binning_method :</span></dt><dd>mean</dd><dt><span>cell_methods :</span></dt><dd>lat: lon: mean (interval: 0.1 degree_N interval: 0.1 degree_E)</dd><dt><span>valid_range :</span></dt><dd>[0 5]</dd><dt><span>standard_name :</span></dt><dd>sea_surface_foundation_temperature status_flag</dd><dt><span>comment :</span></dt><dd>These are the overall quality indicators and are used for all GHRSST SSTs</dd></dl></div><div class='xr-var-data'><pre>[26000 values with dtype=float32]</pre></div></li><li class='xr-var-item'><div class='xr-var-name'><span>sses_bias</span></div><div class='xr-var-dims'>(time, lat, lon)</div><div class='xr-var-dtype'>float32</div><div class='xr-var-preview xr-preview'>...</div><input id='attrs-88b5fe50-b3f5-48ba-932b-5b3d1b422a7e' class='xr-var-attrs-in' type='checkbox' ><label for='attrs-88b5fe50-b3f5-48ba-932b-5b3d1b422a7e' title='Show/Hide attributes'><svg class='icon xr-icon-file-text2'><use xlink:href='#icon-file-text2'></use></svg></label><input id='data-f31d7fbb-d58b-4497-9431-6e24462f6079' class='xr-var-data-in' type='checkbox'><label for='data-f31d7fbb-d58b-4497-9431-6e24462f6079' title='Show/Hide data repr'><svg class='icon xr-icon-database'><use xlink:href='#icon-database'></use></svg></label><div class='xr-var-attrs'><dl class='xr-attrs'><dt><span>long_name :</span></dt><dd>SSES bias estimate</dd><dt><span>units :</span></dt><dd>K</dd><dt><span>coverage_content_type :</span></dt><dd>qualityInformation</dd><dt><span>binning_method :</span></dt><dd>mean</dd><dt><span>cell_methods :</span></dt><dd>lat: lon: mean (interval: 0.1 degree_N interval: 0.1 degree_E)</dd><dt><span>valid_range :</span></dt><dd>[-127  127]</dd><dt><span>comment :</span></dt><dd>Bias estimate derived using the techniques described at http://www.ghrsst.org/SSES-Description-of-schemes.html</dd></dl></div><div class='xr-var-data'><pre>[26000 values with dtype=float32]</pre></div></li><li class='xr-var-item'><div class='xr-var-name'><span>sses_standard_deviation</span></div><div class='xr-var-dims'>(time, lat, lon)</div><div class='xr-var-dtype'>float32</div><div class='xr-var-preview xr-preview'>...</div><input id='attrs-920d6697-27c9-4373-bfd5-75c9db5fcbfc' class='xr-var-attrs-in' type='checkbox' ><label for='attrs-920d6697-27c9-4373-bfd5-75c9db5fcbfc' title='Show/Hide attributes'><svg class='icon xr-icon-file-text2'><use xlink:href='#icon-file-text2'></use></svg></label><input id='data-b24c1aa9-caee-4091-8dea-4588303b5865' class='xr-var-data-in' type='checkbox'><label for='data-b24c1aa9-caee-4091-8dea-4588303b5865' title='Show/Hide data repr'><svg class='icon xr-icon-database'><use xlink:href='#icon-database'></use></svg></label><div class='xr-var-attrs'><dl class='xr-attrs'><dt><span>long_name :</span></dt><dd>SSES standard deviation</dd><dt><span>units :</span></dt><dd>kelvin</dd><dt><span>coverage_content_type :</span></dt><dd>qualityInformation</dd><dt><span>binning_method :</span></dt><dd>mean</dd><dt><span>cell_methods :</span></dt><dd>lat: lon: mean (interval: 0.1 degree_N interval: 0.1 degree_E)</dd><dt><span>valid_range :</span></dt><dd>[-127  127]</dd><dt><span>comment :</span></dt><dd>Standard deviation estimate derived using the techniques described at http://www.ghrsst.org/SSES-Description-of-schemes.html</dd></dl></div><div class='xr-var-data'><pre>[26000 values with dtype=float32]</pre></div></li><li class='xr-var-item'><div class='xr-var-name'><span>satellite_zenith_angle</span></div><div class='xr-var-dims'>(time, lat, lon)</div><div class='xr-var-dtype'>float32</div><div class='xr-var-preview xr-preview'>...</div><input id='attrs-fe0b94f6-25f6-416a-946d-ad7e18511fc7' class='xr-var-attrs-in' type='checkbox' ><label for='attrs-fe0b94f6-25f6-416a-946d-ad7e18511fc7' title='Show/Hide attributes'><svg class='icon xr-icon-file-text2'><use xlink:href='#icon-file-text2'></use></svg></label><input id='data-9f68147f-ac5d-4af4-a23b-d636be0847be' class='xr-var-data-in' type='checkbox'><label for='data-9f68147f-ac5d-4af4-a23b-d636be0847be' title='Show/Hide data repr'><svg class='icon xr-icon-database'><use xlink:href='#icon-database'></use></svg></label><div class='xr-var-attrs'><dl class='xr-attrs'><dt><span>long_name :</span></dt><dd>satellite zenith angle</dd><dt><span>units :</span></dt><dd>angular_degree</dd><dt><span>coverage_content_type :</span></dt><dd>referenceInformation</dd><dt><span>binning_method :</span></dt><dd>mean</dd><dt><span>cell_methods :</span></dt><dd>lat: lon: mean (interval: 0.1 degree_N interval: 0.1 degree_E)</dd><dt><span>standard_name :</span></dt><dd>platform_zenith_angle</dd><dt><span>comment :</span></dt><dd>the satellite zenith angle at the time of the SST observations</dd></dl></div><div class='xr-var-data'><pre>[26000 values with dtype=float32]</pre></div></li><li class='xr-var-item'><div class='xr-var-name'><span>or_latitude</span></div><div class='xr-var-dims'>(time, lat, lon)</div><div class='xr-var-dtype'>float32</div><div class='xr-var-preview xr-preview'>...</div><input id='attrs-8d674054-59d8-497a-99ba-6ac98a15486d' class='xr-var-attrs-in' type='checkbox' ><label for='attrs-8d674054-59d8-497a-99ba-6ac98a15486d' title='Show/Hide attributes'><svg class='icon xr-icon-file-text2'><use xlink:href='#icon-file-text2'></use></svg></label><input id='data-b8aec223-3c22-4404-b9b2-b98f5df26fc3' class='xr-var-data-in' type='checkbox'><label for='data-b8aec223-3c22-4404-b9b2-b98f5df26fc3' title='Show/Hide data repr'><svg class='icon xr-icon-database'><use xlink:href='#icon-database'></use></svg></label><div class='xr-var-attrs'><dl class='xr-attrs'><dt><span>long_name :</span></dt><dd>original latitude of the SST value</dd><dt><span>standard_name :</span></dt><dd>latitude</dd><dt><span>units :</span></dt><dd>degree_north</dd><dt><span>coverage_content_type :</span></dt><dd>coordinate</dd><dt><span>authority :</span></dt><dd>CF-1.11, ACDD-1.3</dd><dt><span>binning_method :</span></dt><dd>mean</dd><dt><span>cell_methods :</span></dt><dd>lat: lon: mean (interval: 0.1 degree_N interval: 0.1 degree_E)</dd><dt><span>valid_range :</span></dt><dd>[-9000  9000]</dd></dl></div><div class='xr-var-data'><pre>[26000 values with dtype=float32]</pre></div></li><li class='xr-var-item'><div class='xr-var-name'><span>or_longitude</span></div><div class='xr-var-dims'>(time, lat, lon)</div><div class='xr-var-dtype'>float32</div><div class='xr-var-preview xr-preview'>...</div><input id='attrs-1c75d93e-0308-4b57-a76b-bb0931022f46' class='xr-var-attrs-in' type='checkbox' ><label for='attrs-1c75d93e-0308-4b57-a76b-bb0931022f46' title='Show/Hide attributes'><svg class='icon xr-icon-file-text2'><use xlink:href='#icon-file-text2'></use></svg></label><input id='data-8bdc00fa-b1a0-4f8e-a1b0-e5e1b80c8c8f' class='xr-var-data-in' type='checkbox'><label for='data-8bdc00fa-b1a0-4f8e-a1b0-e5e1b80c8c8f' title='Show/Hide data repr'><svg class='icon xr-icon-database'><use xlink:href='#icon-database'></use></svg></label><div class='xr-var-attrs'><dl class='xr-attrs'><dt><span>long_name :</span></dt><dd>original longitude of the SST value</dd><dt><span>standard_name :</span></dt><dd>longitude</dd><dt><span>units :</span></dt><dd>degree_east</dd><dt><span>coverage_content_type :</span></dt><dd>coordinate</dd><dt><span>authority :</span></dt><dd>CF-1.11, ACDD-1.3</dd><dt><span>binning_method :</span></dt><dd>mean</dd><dt><span>cell_methods :</span></dt><dd>lat: lon: mean (interval: 0.1 degree_N interval: 0.1 degree_E)</dd><dt><span>valid_range :</span></dt><dd>[-18000  18000]</dd></dl></div><div class='xr-var-data'><pre>[26000 values with dtype=float32]</pre></div></li><li class='xr-var-item'><div class='xr-var-name'><span>adjusted_sea_surface_temperature</span></div><div class='xr-var-dims'>(time, lat, lon)</div><div class='xr-var-dtype'>float32</div><div class='xr-var-preview xr-preview'>...</div><input id='attrs-695e3395-4976-4a83-b4c3-99fe04d1fa67' class='xr-var-attrs-in' type='checkbox' ><label for='attrs-695e3395-4976-4a83-b4c3-99fe04d1fa67' title='Show/Hide attributes'><svg class='icon xr-icon-file-text2'><use xlink:href='#icon-file-text2'></use></svg></label><input id='data-53a42009-8500-4a76-90b1-097f41b32ea0' class='xr-var-data-in' type='checkbox'><label for='data-53a42009-8500-4a76-90b1-097f41b32ea0' title='Show/Hide data repr'><svg class='icon xr-icon-database'><use xlink:href='#icon-database'></use></svg></label><div class='xr-var-attrs'><dl class='xr-attrs'><dt><span>long_name :</span></dt><dd>adjusted foundation sea surface temperature</dd><dt><span>units :</span></dt><dd>K</dd><dt><span>standard_name :</span></dt><dd>sea_surface_foundation_temperature</dd><dt><span>coverage_content_type :</span></dt><dd>physicalMeasurement</dd><dt><span>binning_method :</span></dt><dd>mean</dd><dt><span>cell_methods :</span></dt><dd>lat: lon: mean (interval: 0.1 degree_N interval: 0.1 degree_E)</dd><dt><span>valid_range :</span></dt><dd>[-300 4500]</dd><dt><span>comment :</span></dt><dd>The recommended SST variable to use in this product. The original observations were cross-calibrated using a multi-sensor reference field&quot;</dd></dl></div><div class='xr-var-data'><pre>[26000 values with dtype=float32]</pre></div></li><li class='xr-var-item'><div class='xr-var-name'><span>solar_zenith_angle</span></div><div class='xr-var-dims'>(time, lat, lon)</div><div class='xr-var-dtype'>float32</div><div class='xr-var-preview xr-preview'>...</div><input id='attrs-22034797-3c3a-455f-b963-7f90dc9b306c' class='xr-var-attrs-in' type='checkbox' ><label for='attrs-22034797-3c3a-455f-b963-7f90dc9b306c' title='Show/Hide attributes'><svg class='icon xr-icon-file-text2'><use xlink:href='#icon-file-text2'></use></svg></label><input id='data-bf4724ab-bdb1-40c7-8377-818c0936f1f6' class='xr-var-data-in' type='checkbox'><label for='data-bf4724ab-bdb1-40c7-8377-818c0936f1f6' title='Show/Hide data repr'><svg class='icon xr-icon-database'><use xlink:href='#icon-database'></use></svg></label><div class='xr-var-attrs'><dl class='xr-attrs'><dt><span>long_name :</span></dt><dd>solar zenith angle</dd><dt><span>units :</span></dt><dd>angular_degree</dd><dt><span>standard_name :</span></dt><dd>solar_zenith_angle</dd><dt><span>binning_method :</span></dt><dd>mean</dd><dt><span>cell_methods :</span></dt><dd>lat: lon: mean (interval: 0.1 degree_N interval: 0.1 degree_E)</dd><dt><span>coverage_content_type :</span></dt><dd>referenceInformation</dd><dt><span>comment :</span></dt><dd>the solar zenith angle at the time of the SST observations</dd></dl></div><div class='xr-var-data'><pre>[26000 values with dtype=float32]</pre></div></li><li class='xr-var-item'><div class='xr-var-name'><span>bias_to_reference_sst</span></div><div class='xr-var-dims'>(time, lat, lon)</div><div class='xr-var-dtype'>float32</div><div class='xr-var-preview xr-preview'>...</div><input id='attrs-fbe1a8e2-be29-49c6-9a04-7670abee66aa' class='xr-var-attrs-in' type='checkbox' ><label for='attrs-fbe1a8e2-be29-49c6-9a04-7670abee66aa' title='Show/Hide attributes'><svg class='icon xr-icon-file-text2'><use xlink:href='#icon-file-text2'></use></svg></label><input id='data-05a58e60-b7ce-4b41-aa86-bf3c6fd1b5f8' class='xr-var-data-in' type='checkbox'><label for='data-05a58e60-b7ce-4b41-aa86-bf3c6fd1b5f8' title='Show/Hide data repr'><svg class='icon xr-icon-database'><use xlink:href='#icon-database'></use></svg></label><div class='xr-var-attrs'><dl class='xr-attrs'><dt><span>long_name :</span></dt><dd>bias error derived from reference</dd><dt><span>units :</span></dt><dd>K</dd><dt><span>valid_range :</span></dt><dd>[-32767  32767]</dd><dt><span>comment :</span></dt><dd>Bias estimate derived from comparison between the original SST (native SSES being applied) and the reference sensor SST (original SST - reference SST)</dd><dt><span>coverage_content_type :</span></dt><dd>qualityInformation</dd></dl></div><div class='xr-var-data'><pre>[26000 values with dtype=float32]</pre></div></li><li class='xr-var-item'><div class='xr-var-name'><span>sources_of_sst</span></div><div class='xr-var-dims'>(time, lat, lon)</div><div class='xr-var-dtype'>float32</div><div class='xr-var-preview xr-preview'>...</div><input id='attrs-2d5cf0dd-88a2-4927-b276-afa4b3c13efd' class='xr-var-attrs-in' type='checkbox' ><label for='attrs-2d5cf0dd-88a2-4927-b276-afa4b3c13efd' title='Show/Hide attributes'><svg class='icon xr-icon-file-text2'><use xlink:href='#icon-file-text2'></use></svg></label><input id='data-100bcdf1-9b72-4d88-aec7-8caced3326c8' class='xr-var-data-in' type='checkbox'><label for='data-100bcdf1-9b72-4d88-aec7-8caced3326c8' title='Show/Hide data repr'><svg class='icon xr-icon-database'><use xlink:href='#icon-database'></use></svg></label><div class='xr-var-attrs'><dl class='xr-attrs'><dt><span>flag_values :</span></dt><dd>[20 21 70 72 80 81 53 41 52 42 85 60]</dd><dt><span>flag_meanings :</span></dt><dd>VIIRS_NPP-STAR-L2P-v2.80 VIIRS_N20-STAR-L2P-v2.80 AVHRR_SST_METOP_B-OSISAF-L2P-v1.0 AVHRR_SST_METOP_C-OSISAF-L2P-v1.0 SLSTRA-MAR-L2P-v1.0 SLSTRB-MAR-L2P-v1.0 ABI_G18-STAR-L3C-v2.90 SEVIRI_SST-OSISAF-L3C-v1.0 GOES16-OSISAF-L3C-v1.0 SEVIRI_IO_SST-OSISAF-L3C-v1.0 AHI_H09-STAR-L3C-v2.9 AMSR2-REMSS-L2P-v8.2</dd><dt><span>long_name :</span></dt><dd>source of sea surface temperature measurement</dd><dt><span>valid_range :</span></dt><dd>[  0 127]</dd><dt><span>coverage_content_type :</span></dt><dd>referenceInformation</dd></dl></div><div class='xr-var-data'><pre>[26000 values with dtype=float32]</pre></div></li><li class='xr-var-item'><div class='xr-var-name'><span>sst_dtime</span></div><div class='xr-var-dims'>(time, lat, lon)</div><div class='xr-var-dtype'>float64</div><div class='xr-var-preview xr-preview'>...</div><input id='attrs-5d6712e1-0034-4b2e-98d6-1364590f5077' class='xr-var-attrs-in' type='checkbox' ><label for='attrs-5d6712e1-0034-4b2e-98d6-1364590f5077' title='Show/Hide attributes'><svg class='icon xr-icon-file-text2'><use xlink:href='#icon-file-text2'></use></svg></label><input id='data-b06621ec-c60e-4f32-b3ca-2150cb4b0552' class='xr-var-data-in' type='checkbox'><label for='data-b06621ec-c60e-4f32-b3ca-2150cb4b0552' title='Show/Hide data repr'><svg class='icon xr-icon-database'><use xlink:href='#icon-database'></use></svg></label><div class='xr-var-attrs'><dl class='xr-attrs'><dt><span>long_name :</span></dt><dd>time difference from reference time</dd><dt><span>comment :</span></dt><dd>time plus sst_dtime gives each measurement time</dd><dt><span>units :</span></dt><dd>second</dd><dt><span>coverage_content_type :</span></dt><dd>coordinate</dd></dl></div><div class='xr-var-data'><pre>[26000 values with dtype=float64]</pre></div></li></ul></div></li><li class='xr-section-item'><input id='section-b80b2899-6777-4700-8178-be05947c9d1a' class='xr-section-summary-in' type='checkbox'  ><label for='section-b80b2899-6777-4700-8178-be05947c9d1a' class='xr-section-summary' >Indexes: <span>(3)</span></label><div class='xr-section-inline-details'></div><div class='xr-section-details'><ul class='xr-var-list'><li class='xr-var-item'><div class='xr-index-name'><div>lat</div></div><div class='xr-index-preview'>PandasIndex</div><div></div><input id='index-ec5255b8-0ce4-4382-863f-361f879142dc' class='xr-index-data-in' type='checkbox'/><label for='index-ec5255b8-0ce4-4382-863f-361f879142dc' title='Show/Hide index repr'><svg class='icon xr-icon-database'><use xlink:href='#icon-database'></use></svg></label><div class='xr-index-data'><pre>PandasIndex(Index([ 53.04999923706055, 53.150001525878906,              53.25,\n",
       "       53.349998474121094,  53.45000076293945,  53.54999923706055,\n",
       "       53.650001525878906,              53.75, 53.849998474121094,\n",
       "        53.95000076293945,\n",
       "       ...\n",
       "        65.05000305175781,   65.1500015258789,              65.25,\n",
       "         65.3499984741211,  65.44999694824219,  65.55000305175781,\n",
       "         65.6500015258789,              65.75,   65.8499984741211,\n",
       "        65.94999694824219],\n",
       "      dtype=&#x27;float32&#x27;, name=&#x27;lat&#x27;, length=130))</pre></div></li><li class='xr-var-item'><div class='xr-index-name'><div>lon</div></div><div class='xr-index-preview'>PandasIndex</div><div></div><input id='index-b9c7fb7c-e2ec-4389-b127-b2c143b5dc95' class='xr-index-data-in' type='checkbox'/><label for='index-b9c7fb7c-e2ec-4389-b127-b2c143b5dc95' title='Show/Hide index repr'><svg class='icon xr-icon-database'><use xlink:href='#icon-database'></use></svg></label><div class='xr-index-data'><pre>PandasIndex(Index([10.050000190734863, 10.149999618530273,              10.25,\n",
       "       10.350000381469727, 10.449999809265137, 10.550000190734863,\n",
       "       10.649999618530273,              10.75, 10.850000381469727,\n",
       "       10.949999809265137,\n",
       "       ...\n",
       "       29.049999237060547, 29.149999618530273,              29.25,\n",
       "       29.350000381469727, 29.450000762939453, 29.549999237060547,\n",
       "       29.649999618530273,              29.75, 29.850000381469727,\n",
       "       29.950000762939453],\n",
       "      dtype=&#x27;float32&#x27;, name=&#x27;lon&#x27;, length=200))</pre></div></li><li class='xr-var-item'><div class='xr-index-name'><div>time</div></div><div class='xr-index-preview'>PandasIndex</div><div></div><input id='index-304c3713-0b8f-4951-8899-317a5943439d' class='xr-index-data-in' type='checkbox'/><label for='index-304c3713-0b8f-4951-8899-317a5943439d' title='Show/Hide index repr'><svg class='icon xr-icon-database'><use xlink:href='#icon-database'></use></svg></label><div class='xr-index-data'><pre>PandasIndex(DatetimeIndex([&#x27;2024-05-31&#x27;], dtype=&#x27;datetime64[ns]&#x27;, name=&#x27;time&#x27;, freq=None))</pre></div></li></ul></div></li><li class='xr-section-item'><input id='section-4de665ca-9eaa-4e13-98a3-5cd2bc190175' class='xr-section-summary-in' type='checkbox'  ><label for='section-4de665ca-9eaa-4e13-98a3-5cd2bc190175' class='xr-section-summary' >Attributes: <span>(74)</span></label><div class='xr-section-inline-details'></div><div class='xr-section-details'><dl class='xr-attrs'><dt><span>file_quality_level :</span></dt><dd>3</dd><dt><span>title :</span></dt><dd>ODYSSEA Global Sea Surface Temperature Gridded Level 3S Daily Multi-Sensor Observations</dd><dt><span>id :</span></dt><dd>ODYSSEA-IFR-L3S-GLO_010-v3</dd><dt><span>cmems_product_id :</span></dt><dd>SST_GLO_SST_L3S_NRT_OBSERVATIONS_010_010</dd><dt><span>reference :</span></dt><dd>Product User Manual for L3S Odyssea Product over the Global Ocean, v2.1, Nov 2023, https://catalogue.marine.copernicus.eu/documents/PUM/CMEMS-SST-PUM-010-010.pdf</dd><dt><span>summary :</span></dt><dd>This dataset provide a times series of daily multi-sensor composite fields of Sea Surface Temperature (SST) foundation at high resolution (HR) on a 0.10 x 0.10 degree grid (approximately 10 x 10 km) for the Global ocean, every 24 hours. It is produced for the Copernicus Marine Service.</dd><dt><span>metadata_link :</span></dt><dd>https://resources.marine.copernicus.eu/product-detail/SST_GLO_SST_L3S_NRT_OBSERVATIONS_010_010/INFORMATION</dd><dt><span>date_metadata_modified :</span></dt><dd>2023-11-01T00:00:00Z</dd><dt><span>doi :</span></dt><dd>https://doi.org/10.48670/moi-00164</dd><dt><span>processing_level :</span></dt><dd>L3S</dd><dt><span>publisher_institution :</span></dt><dd>Copernicus Marine Service</dd><dt><span>publisher_name :</span></dt><dd>Copernicus Marine Service</dd><dt><span>publisher_url :</span></dt><dd>https://marine.copernicus.eu</dd><dt><span>product_version :</span></dt><dd>1.0</dd><dt><span>geospatial_bounds :</span></dt><dd>POLYGON ((-180.0 -80.0, 180.0 -80.0, 180.0 80.0, -180.0 80.0, -180.0 -80.0))</dd><dt><span>geospatial_lat_max :</span></dt><dd>80.0</dd><dt><span>geospatial_lat_min :</span></dt><dd>-80.0</dd><dt><span>geospatial_lon_max :</span></dt><dd>180.0</dd><dt><span>geospatial_lon_min :</span></dt><dd>-180.0</dd><dt><span>spatial_resolution :</span></dt><dd>0.10 degree</dd><dt><span>geospatial_lat_resolution :</span></dt><dd>0.1</dd><dt><span>geospatial_lon_resolution :</span></dt><dd>0.1</dd><dt><span>geospatial_bounds_crs :</span></dt><dd>EPSG:4326</dd><dt><span>cdm_data_type :</span></dt><dd>grid</dd><dt><span>time_coverage_start :</span></dt><dd>2024-05-30T12:00:00Z</dd><dt><span>time_coverage_end :</span></dt><dd>2024-05-31T12:00:00Z</dd><dt><span>platform :</span></dt><dd>[&#x27;NPP&#x27;, &#x27;NOAA-20&#x27;, &#x27;Metop-B&#x27;, &#x27;Metop-C&#x27;, &#x27;Sentinel-3A&#x27;, &#x27;Sentinel-3B&#x27;, &#x27;GOES-18&#x27;, &#x27;Meteosat-10&#x27;, &#x27;GOES-16&#x27;, &#x27;Meteosat-9&#x27;, &#x27;Himawari-9&#x27;, &#x27;GCOM-W&#x27;]</dd><dt><span>platform_type :</span></dt><dd>[&#x27;polar_orbiter&#x27;, &#x27;polar_orbiter&#x27;, &#x27;polar_orbiter&#x27;, &#x27;polar_orbiter&#x27;, &#x27;polar_orbiter&#x27;, &#x27;polar_orbiter&#x27;, &#x27;geostationary&#x27;, &#x27;geostationary&#x27;, &#x27;geostationary&#x27;, &#x27;geostationary&#x27;, &#x27;geostationary&#x27;, &#x27;polar_orbiter&#x27;]</dd><dt><span>instrument :</span></dt><dd>[&#x27;VIIRS&#x27;, &#x27;VIIRS&#x27;, &#x27;AVHRR/3&#x27;, &#x27;AVHRR/3&#x27;, &#x27;SLSTR&#x27;, &#x27;SLSTR&#x27;, &#x27;ABI&#x27;, &#x27;SEVIRI&#x27;, &#x27;ABI&#x27;, &#x27;SEVIRI&#x27;, &#x27;AHI&#x27;, &#x27;AMSR-2&#x27;]</dd><dt><span>instrument_type :</span></dt><dd>[&#x27;radiometer&#x27;, &#x27;radiometer&#x27;, &#x27;radiometer&#x27;, &#x27;radiometer&#x27;, &#x27;radiometer&#x27;, &#x27;radiometer&#x27;, &#x27;radiometer&#x27;, &#x27;radiometer&#x27;, &#x27;radiometer&#x27;, &#x27;radiometer&#x27;, &#x27;radiometer&#x27;, &#x27;radiometer&#x27;]</dd><dt><span>band :</span></dt><dd>[&#x27;infrared&#x27;, &#x27;infrared&#x27;, &#x27;infrared&#x27;, &#x27;infrared&#x27;, &#x27;infrared&#x27;, &#x27;infrared&#x27;, &#x27;infrared&#x27;, &#x27;infrared&#x27;, &#x27;infrared&#x27;, &#x27;infrared&#x27;, &#x27;infrared&#x27;, &#x27;microwave&#x27;]</dd><dt><span>uuid :</span></dt><dd>067971c6-1fe2-11ef-8ab2-0cc47a3f700f</dd><dt><span>date_created :</span></dt><dd>2024-06-01T06:41:50Z</dd><dt><span>date_modified :</span></dt><dd>2024-06-01T06:41:50Z</dd><dt><span>date_issued :</span></dt><dd>2024-06-01T06:41:50Z</dd><dt><span>netcdf_version_id :</span></dt><dd>4.9.2 of Sep  1 2023 15:18:59 $</dd><dt><span>keywords :</span></dt><dd>Oceans &gt; Ocean Temperature &gt; Sea Surface Temperature</dd><dt><span>acknowledgment :</span></dt><dd>Please acknowledge the use of these data with the following statement: this dataset is produced by the Centre de Recherche et d&#x27;Exploitation Satellitaire (CERSAT), at Ifremer, Plouzane (France): It is funded and distributed by Copernicus Marine Service</dd><dt><span>Conventions :</span></dt><dd>CF-1.7, ACDD-1.3, ISO 8601</dd><dt><span>standard_name_vocabulary :</span></dt><dd>Climate and Forecast (CF) Standard Name Table v79</dd><dt><span>naming_authority :</span></dt><dd>org.ghrsst</dd><dt><span>Metadata_Conventions :</span></dt><dd>Climate and Forecast (CF) 1.7, Attribute Convention for Data Discovery (ACDD) 1.3</dd><dt><span>keywords_vocabulary :</span></dt><dd>NASA Global Change Master Directory (GCMD) Science Keywords</dd><dt><span>format_version :</span></dt><dd>GHRSST GDS v2.1</dd><dt><span>gds_version_id :</span></dt><dd>2.1</dd><dt><span>platform_vocabulary :</span></dt><dd>CEOS mission table</dd><dt><span>instrument_vocabulary :</span></dt><dd>CEOS instrument table</dd><dt><span>institution :</span></dt><dd>Institut Francais de Recherche pour l&#x27;Exploitation de la mer / Centre d&#x27;Exploitation et de Recherche Satellitaire</dd><dt><span>institution_abbreviation :</span></dt><dd>Ifremer / CERSAT</dd><dt><span>project :</span></dt><dd>Group for High Resolution Sea Surface Temperature (GHRSST), Copernicus Marine Service (CMEMS)</dd><dt><span>program :</span></dt><dd>Copernicus</dd><dt><span>license :</span></dt><dd>These data are available free of charge under the CMEMS data policy, refer to http://marine.copernicus.eu/services-portfolio/service-commitments-and-licence/</dd><dt><span>creator_name :</span></dt><dd>CERSAT</dd><dt><span>creator_url :</span></dt><dd>http://cersat.ifremer.fr</dd><dt><span>creator_email :</span></dt><dd>cersat@ifremer.fr</dd><dt><span>creator_type :</span></dt><dd>institution</dd><dt><span>creator_institution :</span></dt><dd>Ifremer</dd><dt><span>contributor_name :</span></dt><dd>Jean-Francois Piolle, Emmanuelle Autret</dd><dt><span>contributor_role :</span></dt><dd>principal investigator</dd><dt><span>contact :</span></dt><dd>emmanuelle.autret@ifremer.fr;jfpiolle@ifremer.fr</dd><dt><span>technical_support_contact :</span></dt><dd>cersat@ifremer.fr</dd><dt><span>scientific_support_contact :</span></dt><dd>emmanuelle.autret@ifremer.fr;jfpiolle@ifremer.fr</dd><dt><span>processing_software :</span></dt><dd>Telemachus 3.1.2</dd><dt><span>source :</span></dt><dd>ODYSSEA</dd><dt><span>source_version :</span></dt><dd>3.0.2</dd><dt><span>history :</span></dt><dd>file originally produced by Ifremer/CERSAT with ODYSSEA system 3.0.2</dd><dt><span>geospatial_bounds_vertical_crs :</span></dt><dd>EPSG:5831</dd><dt><span>geospatial_lat_units :</span></dt><dd>degrees_north</dd><dt><span>geospatial_lon_units :</span></dt><dd>degrees_east</dd><dt><span>geospatial_vertical_min :</span></dt><dd>0.0</dd><dt><span>geospatial_vertical_max :</span></dt><dd>0.0</dd><dt><span>temporal_resolution :</span></dt><dd>daily</dd><dt><span>time_coverage_resolution :</span></dt><dd>P1D</dd><dt><span>time_coverage_duration :</span></dt><dd>P1D</dd></dl></div></li></ul></div></div>"
      ],
      "text/plain": [
       "<xarray.Dataset>\n",
       "Dimensions:                           (lat: 130, lon: 200, time: 1)\n",
       "Coordinates:\n",
       "  * lat                               (lat) float32 53.05 53.15 ... 65.85 65.95\n",
       "  * lon                               (lon) float32 10.05 10.15 ... 29.85 29.95\n",
       "  * time                              (time) datetime64[ns] 2024-05-31\n",
       "Data variables: (12/15)\n",
       "    crs                               int64 ...\n",
       "    sea_surface_temperature           (time, lat, lon) float32 ...\n",
       "    or_number_of_pixels               (time, lat, lon) float32 ...\n",
       "    sea_surface_temperature_stddev    (time, lat, lon) float32 ...\n",
       "    quality_level                     (time, lat, lon) float32 ...\n",
       "    sses_bias                         (time, lat, lon) float32 ...\n",
       "    ...                                ...\n",
       "    or_longitude                      (time, lat, lon) float32 ...\n",
       "    adjusted_sea_surface_temperature  (time, lat, lon) float32 ...\n",
       "    solar_zenith_angle                (time, lat, lon) float32 ...\n",
       "    bias_to_reference_sst             (time, lat, lon) float32 ...\n",
       "    sources_of_sst                    (time, lat, lon) float32 ...\n",
       "    sst_dtime                         (time, lat, lon) float64 ...\n",
       "Attributes: (12/74)\n",
       "    file_quality_level:              3\n",
       "    title:                           ODYSSEA Global Sea Surface Temperature G...\n",
       "    id:                              ODYSSEA-IFR-L3S-GLO_010-v3\n",
       "    cmems_product_id:                SST_GLO_SST_L3S_NRT_OBSERVATIONS_010_010\n",
       "    reference:                       Product User Manual for L3S Odyssea Prod...\n",
       "    summary:                         This dataset provide a times series of d...\n",
       "    ...                              ...\n",
       "    geospatial_lon_units:            degrees_east\n",
       "    geospatial_vertical_min:         0.0\n",
       "    geospatial_vertical_max:         0.0\n",
       "    temporal_resolution:             daily\n",
       "    time_coverage_resolution:        P1D\n",
       "    time_coverage_duration:          P1D"
      ]
     },
     "execution_count": 18,
     "metadata": {},
     "output_type": "execute_result"
    }
   ],
   "source": [
    "baltic_sea_subset"
   ]
  },
  {
   "cell_type": "markdown",
   "id": "1cb477a5-776e-4607-a9ba-69d39a80e5b3",
   "metadata": {},
   "source": [
    "## Final remarks\n",
    "\n",
    "In the end, we decided to limit our scope and not include a sea surface temperature dataset."
   ]
  }
 ],
 "metadata": {
  "kernelspec": {
   "display_name": "Python DEDL",
   "language": "python",
   "name": "python_dedl"
  },
  "language_info": {
   "codemirror_mode": {
    "name": "ipython",
    "version": 3
   },
   "file_extension": ".py",
   "mimetype": "text/x-python",
   "name": "python",
   "nbconvert_exporter": "python",
   "pygments_lexer": "ipython3",
   "version": "3.11.4"
  },
  "toc-autonumbering": true,
  "toc-showmarkdowntxt": true
 },
 "nbformat": 4,
 "nbformat_minor": 5
}
